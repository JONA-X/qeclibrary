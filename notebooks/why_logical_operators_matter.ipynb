{
 "cells": [
  {
   "cell_type": "markdown",
   "metadata": {},
   "source": [
    "# Why do we need to keep track of logical operators?\n",
    "One might think that all the logical operators of a rotated surface code might be equivalent, so why would we need to keep track of them? Why does it matter whether the logical Z operator is the first or the second column? \n",
    "\n",
    "They are only equivalent up to multiplication by the stabilizers that lie between the two logical operators. This gets relevant when these stabilizer are indeterministic as can happen in a grow or merge. This notebook illustrates how measuring different columns after a grow produces different results and how the right logical operator value can be recovered by multiplying by the readout of the stabilizers lying in between."
   ]
  },
  {
   "cell_type": "code",
   "execution_count": 1,
   "metadata": {},
   "outputs": [],
   "source": [
    "from qeclib import (\n",
    "    RotSurfCode,\n",
    "    SquareLattice,\n",
    "    QECPlot,\n",
    "    PauliNoiseModel,\n",
    ")\n",
    "import stim\n",
    "import numpy as np\n",
    "import copy"
   ]
  },
  {
   "cell_type": "markdown",
   "metadata": {},
   "source": [
    "Create the logical qubit objects and place them on the square lattice. Then initialize them in some state. Feel free to change the initial states and observe how the results of the logical QST change."
   ]
  },
  {
   "cell_type": "code",
   "execution_count": 2,
   "metadata": {},
   "outputs": [],
   "source": [
    "Q1 = RotSurfCode(\n",
    "    id=\"Q1\",\n",
    "    dx=3,\n",
    "    dz=3,\n",
    ")\n",
    "\n",
    "circ = SquareLattice(name=\"\", rows=6, cols=7)\n",
    "circ.add_logical_qubit(Q1, start_pos=(1,1))\n",
    "circ.init(\"Q1\", \"0\")"
   ]
  },
  {
   "cell_type": "markdown",
   "metadata": {},
   "source": [
    "We can also plot the stabilizers of the two logical qubits to check whether they were correctly placed on the lattice:"
   ]
  },
  {
   "cell_type": "code",
   "execution_count": 3,
   "metadata": {},
   "outputs": [
    {
     "data": {
      "application/vnd.plotly.v1+json": {
       "config": {
        "plotlyServerURL": "https://plot.ly"
       },
       "data": [
        {
         "hoverinfo": "text",
         "legendgroup": "qpu_dqbs",
         "marker": {
          "color": "gray",
          "line": {
           "color": "darkred",
           "width": 1
          },
          "size": 25,
          "symbol": "circle"
         },
         "mode": "markers+text",
         "name": "Data qubits",
         "showlegend": true,
         "text": "(0, 0, 0)",
         "textposition": "middle center",
         "type": "scatter",
         "x": [
          0
         ],
         "y": [
          0
         ]
        },
        {
         "hoverinfo": "text",
         "legendgroup": "qpu_dqbs",
         "marker": {
          "color": "gray",
          "line": {
           "color": "darkred",
           "width": 1
          },
          "size": 25,
          "symbol": "circle"
         },
         "mode": "markers+text",
         "name": "Data qubits",
         "showlegend": false,
         "text": "(1, 0, 0)",
         "textposition": "middle center",
         "type": "scatter",
         "x": [
          1
         ],
         "y": [
          0
         ]
        },
        {
         "hoverinfo": "text",
         "legendgroup": "qpu_dqbs",
         "marker": {
          "color": "gray",
          "line": {
           "color": "darkred",
           "width": 1
          },
          "size": 25,
          "symbol": "circle"
         },
         "mode": "markers+text",
         "name": "Data qubits",
         "showlegend": false,
         "text": "(2, 0, 0)",
         "textposition": "middle center",
         "type": "scatter",
         "x": [
          2
         ],
         "y": [
          0
         ]
        },
        {
         "hoverinfo": "text",
         "legendgroup": "qpu_dqbs",
         "marker": {
          "color": "gray",
          "line": {
           "color": "darkred",
           "width": 1
          },
          "size": 25,
          "symbol": "circle"
         },
         "mode": "markers+text",
         "name": "Data qubits",
         "showlegend": false,
         "text": "(3, 0, 0)",
         "textposition": "middle center",
         "type": "scatter",
         "x": [
          3
         ],
         "y": [
          0
         ]
        },
        {
         "hoverinfo": "text",
         "legendgroup": "qpu_dqbs",
         "marker": {
          "color": "gray",
          "line": {
           "color": "darkred",
           "width": 1
          },
          "size": 25,
          "symbol": "circle"
         },
         "mode": "markers+text",
         "name": "Data qubits",
         "showlegend": false,
         "text": "(4, 0, 0)",
         "textposition": "middle center",
         "type": "scatter",
         "x": [
          4
         ],
         "y": [
          0
         ]
        },
        {
         "hoverinfo": "text",
         "legendgroup": "qpu_dqbs",
         "marker": {
          "color": "gray",
          "line": {
           "color": "darkred",
           "width": 1
          },
          "size": 25,
          "symbol": "circle"
         },
         "mode": "markers+text",
         "name": "Data qubits",
         "showlegend": false,
         "text": "(5, 0, 0)",
         "textposition": "middle center",
         "type": "scatter",
         "x": [
          5
         ],
         "y": [
          0
         ]
        },
        {
         "hoverinfo": "text",
         "legendgroup": "qpu_dqbs",
         "marker": {
          "color": "gray",
          "line": {
           "color": "darkred",
           "width": 1
          },
          "size": 25,
          "symbol": "circle"
         },
         "mode": "markers+text",
         "name": "Data qubits",
         "showlegend": false,
         "text": "(6, 0, 0)",
         "textposition": "middle center",
         "type": "scatter",
         "x": [
          6
         ],
         "y": [
          0
         ]
        },
        {
         "hoverinfo": "text",
         "legendgroup": "qpu_dqbs",
         "marker": {
          "color": "gray",
          "line": {
           "color": "darkred",
           "width": 1
          },
          "size": 25,
          "symbol": "circle"
         },
         "mode": "markers+text",
         "name": "Data qubits",
         "showlegend": false,
         "text": "(0, 1, 0)",
         "textposition": "middle center",
         "type": "scatter",
         "x": [
          0
         ],
         "y": [
          1
         ]
        },
        {
         "hoverinfo": "text",
         "legendgroup": "qpu_dqbs",
         "marker": {
          "color": "gray",
          "line": {
           "color": "darkred",
           "width": 1
          },
          "size": 25,
          "symbol": "circle"
         },
         "mode": "markers+text",
         "name": "Data qubits",
         "showlegend": false,
         "text": "(1, 1, 0)",
         "textposition": "middle center",
         "type": "scatter",
         "x": [
          1
         ],
         "y": [
          1
         ]
        },
        {
         "hoverinfo": "text",
         "legendgroup": "qpu_dqbs",
         "marker": {
          "color": "gray",
          "line": {
           "color": "darkred",
           "width": 1
          },
          "size": 25,
          "symbol": "circle"
         },
         "mode": "markers+text",
         "name": "Data qubits",
         "showlegend": false,
         "text": "(2, 1, 0)",
         "textposition": "middle center",
         "type": "scatter",
         "x": [
          2
         ],
         "y": [
          1
         ]
        },
        {
         "hoverinfo": "text",
         "legendgroup": "qpu_dqbs",
         "marker": {
          "color": "gray",
          "line": {
           "color": "darkred",
           "width": 1
          },
          "size": 25,
          "symbol": "circle"
         },
         "mode": "markers+text",
         "name": "Data qubits",
         "showlegend": false,
         "text": "(3, 1, 0)",
         "textposition": "middle center",
         "type": "scatter",
         "x": [
          3
         ],
         "y": [
          1
         ]
        },
        {
         "hoverinfo": "text",
         "legendgroup": "qpu_dqbs",
         "marker": {
          "color": "gray",
          "line": {
           "color": "darkred",
           "width": 1
          },
          "size": 25,
          "symbol": "circle"
         },
         "mode": "markers+text",
         "name": "Data qubits",
         "showlegend": false,
         "text": "(4, 1, 0)",
         "textposition": "middle center",
         "type": "scatter",
         "x": [
          4
         ],
         "y": [
          1
         ]
        },
        {
         "hoverinfo": "text",
         "legendgroup": "qpu_dqbs",
         "marker": {
          "color": "gray",
          "line": {
           "color": "darkred",
           "width": 1
          },
          "size": 25,
          "symbol": "circle"
         },
         "mode": "markers+text",
         "name": "Data qubits",
         "showlegend": false,
         "text": "(5, 1, 0)",
         "textposition": "middle center",
         "type": "scatter",
         "x": [
          5
         ],
         "y": [
          1
         ]
        },
        {
         "hoverinfo": "text",
         "legendgroup": "qpu_dqbs",
         "marker": {
          "color": "gray",
          "line": {
           "color": "darkred",
           "width": 1
          },
          "size": 25,
          "symbol": "circle"
         },
         "mode": "markers+text",
         "name": "Data qubits",
         "showlegend": false,
         "text": "(6, 1, 0)",
         "textposition": "middle center",
         "type": "scatter",
         "x": [
          6
         ],
         "y": [
          1
         ]
        },
        {
         "hoverinfo": "text",
         "legendgroup": "qpu_dqbs",
         "marker": {
          "color": "gray",
          "line": {
           "color": "darkred",
           "width": 1
          },
          "size": 25,
          "symbol": "circle"
         },
         "mode": "markers+text",
         "name": "Data qubits",
         "showlegend": false,
         "text": "(0, 2, 0)",
         "textposition": "middle center",
         "type": "scatter",
         "x": [
          0
         ],
         "y": [
          2
         ]
        },
        {
         "hoverinfo": "text",
         "legendgroup": "qpu_dqbs",
         "marker": {
          "color": "gray",
          "line": {
           "color": "darkred",
           "width": 1
          },
          "size": 25,
          "symbol": "circle"
         },
         "mode": "markers+text",
         "name": "Data qubits",
         "showlegend": false,
         "text": "(1, 2, 0)",
         "textposition": "middle center",
         "type": "scatter",
         "x": [
          1
         ],
         "y": [
          2
         ]
        },
        {
         "hoverinfo": "text",
         "legendgroup": "qpu_dqbs",
         "marker": {
          "color": "gray",
          "line": {
           "color": "darkred",
           "width": 1
          },
          "size": 25,
          "symbol": "circle"
         },
         "mode": "markers+text",
         "name": "Data qubits",
         "showlegend": false,
         "text": "(2, 2, 0)",
         "textposition": "middle center",
         "type": "scatter",
         "x": [
          2
         ],
         "y": [
          2
         ]
        },
        {
         "hoverinfo": "text",
         "legendgroup": "qpu_dqbs",
         "marker": {
          "color": "gray",
          "line": {
           "color": "darkred",
           "width": 1
          },
          "size": 25,
          "symbol": "circle"
         },
         "mode": "markers+text",
         "name": "Data qubits",
         "showlegend": false,
         "text": "(3, 2, 0)",
         "textposition": "middle center",
         "type": "scatter",
         "x": [
          3
         ],
         "y": [
          2
         ]
        },
        {
         "hoverinfo": "text",
         "legendgroup": "qpu_dqbs",
         "marker": {
          "color": "gray",
          "line": {
           "color": "darkred",
           "width": 1
          },
          "size": 25,
          "symbol": "circle"
         },
         "mode": "markers+text",
         "name": "Data qubits",
         "showlegend": false,
         "text": "(4, 2, 0)",
         "textposition": "middle center",
         "type": "scatter",
         "x": [
          4
         ],
         "y": [
          2
         ]
        },
        {
         "hoverinfo": "text",
         "legendgroup": "qpu_dqbs",
         "marker": {
          "color": "gray",
          "line": {
           "color": "darkred",
           "width": 1
          },
          "size": 25,
          "symbol": "circle"
         },
         "mode": "markers+text",
         "name": "Data qubits",
         "showlegend": false,
         "text": "(5, 2, 0)",
         "textposition": "middle center",
         "type": "scatter",
         "x": [
          5
         ],
         "y": [
          2
         ]
        },
        {
         "hoverinfo": "text",
         "legendgroup": "qpu_dqbs",
         "marker": {
          "color": "gray",
          "line": {
           "color": "darkred",
           "width": 1
          },
          "size": 25,
          "symbol": "circle"
         },
         "mode": "markers+text",
         "name": "Data qubits",
         "showlegend": false,
         "text": "(6, 2, 0)",
         "textposition": "middle center",
         "type": "scatter",
         "x": [
          6
         ],
         "y": [
          2
         ]
        },
        {
         "hoverinfo": "text",
         "legendgroup": "qpu_dqbs",
         "marker": {
          "color": "gray",
          "line": {
           "color": "darkred",
           "width": 1
          },
          "size": 25,
          "symbol": "circle"
         },
         "mode": "markers+text",
         "name": "Data qubits",
         "showlegend": false,
         "text": "(0, 3, 0)",
         "textposition": "middle center",
         "type": "scatter",
         "x": [
          0
         ],
         "y": [
          3
         ]
        },
        {
         "hoverinfo": "text",
         "legendgroup": "qpu_dqbs",
         "marker": {
          "color": "gray",
          "line": {
           "color": "darkred",
           "width": 1
          },
          "size": 25,
          "symbol": "circle"
         },
         "mode": "markers+text",
         "name": "Data qubits",
         "showlegend": false,
         "text": "(1, 3, 0)",
         "textposition": "middle center",
         "type": "scatter",
         "x": [
          1
         ],
         "y": [
          3
         ]
        },
        {
         "hoverinfo": "text",
         "legendgroup": "qpu_dqbs",
         "marker": {
          "color": "gray",
          "line": {
           "color": "darkred",
           "width": 1
          },
          "size": 25,
          "symbol": "circle"
         },
         "mode": "markers+text",
         "name": "Data qubits",
         "showlegend": false,
         "text": "(2, 3, 0)",
         "textposition": "middle center",
         "type": "scatter",
         "x": [
          2
         ],
         "y": [
          3
         ]
        },
        {
         "hoverinfo": "text",
         "legendgroup": "qpu_dqbs",
         "marker": {
          "color": "gray",
          "line": {
           "color": "darkred",
           "width": 1
          },
          "size": 25,
          "symbol": "circle"
         },
         "mode": "markers+text",
         "name": "Data qubits",
         "showlegend": false,
         "text": "(3, 3, 0)",
         "textposition": "middle center",
         "type": "scatter",
         "x": [
          3
         ],
         "y": [
          3
         ]
        },
        {
         "hoverinfo": "text",
         "legendgroup": "qpu_dqbs",
         "marker": {
          "color": "gray",
          "line": {
           "color": "darkred",
           "width": 1
          },
          "size": 25,
          "symbol": "circle"
         },
         "mode": "markers+text",
         "name": "Data qubits",
         "showlegend": false,
         "text": "(4, 3, 0)",
         "textposition": "middle center",
         "type": "scatter",
         "x": [
          4
         ],
         "y": [
          3
         ]
        },
        {
         "hoverinfo": "text",
         "legendgroup": "qpu_dqbs",
         "marker": {
          "color": "gray",
          "line": {
           "color": "darkred",
           "width": 1
          },
          "size": 25,
          "symbol": "circle"
         },
         "mode": "markers+text",
         "name": "Data qubits",
         "showlegend": false,
         "text": "(5, 3, 0)",
         "textposition": "middle center",
         "type": "scatter",
         "x": [
          5
         ],
         "y": [
          3
         ]
        },
        {
         "hoverinfo": "text",
         "legendgroup": "qpu_dqbs",
         "marker": {
          "color": "gray",
          "line": {
           "color": "darkred",
           "width": 1
          },
          "size": 25,
          "symbol": "circle"
         },
         "mode": "markers+text",
         "name": "Data qubits",
         "showlegend": false,
         "text": "(6, 3, 0)",
         "textposition": "middle center",
         "type": "scatter",
         "x": [
          6
         ],
         "y": [
          3
         ]
        },
        {
         "hoverinfo": "text",
         "legendgroup": "qpu_dqbs",
         "marker": {
          "color": "gray",
          "line": {
           "color": "darkred",
           "width": 1
          },
          "size": 25,
          "symbol": "circle"
         },
         "mode": "markers+text",
         "name": "Data qubits",
         "showlegend": false,
         "text": "(0, 4, 0)",
         "textposition": "middle center",
         "type": "scatter",
         "x": [
          0
         ],
         "y": [
          4
         ]
        },
        {
         "hoverinfo": "text",
         "legendgroup": "qpu_dqbs",
         "marker": {
          "color": "gray",
          "line": {
           "color": "darkred",
           "width": 1
          },
          "size": 25,
          "symbol": "circle"
         },
         "mode": "markers+text",
         "name": "Data qubits",
         "showlegend": false,
         "text": "(1, 4, 0)",
         "textposition": "middle center",
         "type": "scatter",
         "x": [
          1
         ],
         "y": [
          4
         ]
        },
        {
         "hoverinfo": "text",
         "legendgroup": "qpu_dqbs",
         "marker": {
          "color": "gray",
          "line": {
           "color": "darkred",
           "width": 1
          },
          "size": 25,
          "symbol": "circle"
         },
         "mode": "markers+text",
         "name": "Data qubits",
         "showlegend": false,
         "text": "(2, 4, 0)",
         "textposition": "middle center",
         "type": "scatter",
         "x": [
          2
         ],
         "y": [
          4
         ]
        },
        {
         "hoverinfo": "text",
         "legendgroup": "qpu_dqbs",
         "marker": {
          "color": "gray",
          "line": {
           "color": "darkred",
           "width": 1
          },
          "size": 25,
          "symbol": "circle"
         },
         "mode": "markers+text",
         "name": "Data qubits",
         "showlegend": false,
         "text": "(3, 4, 0)",
         "textposition": "middle center",
         "type": "scatter",
         "x": [
          3
         ],
         "y": [
          4
         ]
        },
        {
         "hoverinfo": "text",
         "legendgroup": "qpu_dqbs",
         "marker": {
          "color": "gray",
          "line": {
           "color": "darkred",
           "width": 1
          },
          "size": 25,
          "symbol": "circle"
         },
         "mode": "markers+text",
         "name": "Data qubits",
         "showlegend": false,
         "text": "(4, 4, 0)",
         "textposition": "middle center",
         "type": "scatter",
         "x": [
          4
         ],
         "y": [
          4
         ]
        },
        {
         "hoverinfo": "text",
         "legendgroup": "qpu_dqbs",
         "marker": {
          "color": "gray",
          "line": {
           "color": "darkred",
           "width": 1
          },
          "size": 25,
          "symbol": "circle"
         },
         "mode": "markers+text",
         "name": "Data qubits",
         "showlegend": false,
         "text": "(5, 4, 0)",
         "textposition": "middle center",
         "type": "scatter",
         "x": [
          5
         ],
         "y": [
          4
         ]
        },
        {
         "hoverinfo": "text",
         "legendgroup": "qpu_dqbs",
         "marker": {
          "color": "gray",
          "line": {
           "color": "darkred",
           "width": 1
          },
          "size": 25,
          "symbol": "circle"
         },
         "mode": "markers+text",
         "name": "Data qubits",
         "showlegend": false,
         "text": "(6, 4, 0)",
         "textposition": "middle center",
         "type": "scatter",
         "x": [
          6
         ],
         "y": [
          4
         ]
        },
        {
         "hoverinfo": "text",
         "legendgroup": "qpu_dqbs",
         "marker": {
          "color": "gray",
          "line": {
           "color": "darkred",
           "width": 1
          },
          "size": 25,
          "symbol": "circle"
         },
         "mode": "markers+text",
         "name": "Data qubits",
         "showlegend": false,
         "text": "(0, 5, 0)",
         "textposition": "middle center",
         "type": "scatter",
         "x": [
          0
         ],
         "y": [
          5
         ]
        },
        {
         "hoverinfo": "text",
         "legendgroup": "qpu_dqbs",
         "marker": {
          "color": "gray",
          "line": {
           "color": "darkred",
           "width": 1
          },
          "size": 25,
          "symbol": "circle"
         },
         "mode": "markers+text",
         "name": "Data qubits",
         "showlegend": false,
         "text": "(1, 5, 0)",
         "textposition": "middle center",
         "type": "scatter",
         "x": [
          1
         ],
         "y": [
          5
         ]
        },
        {
         "hoverinfo": "text",
         "legendgroup": "qpu_dqbs",
         "marker": {
          "color": "gray",
          "line": {
           "color": "darkred",
           "width": 1
          },
          "size": 25,
          "symbol": "circle"
         },
         "mode": "markers+text",
         "name": "Data qubits",
         "showlegend": false,
         "text": "(2, 5, 0)",
         "textposition": "middle center",
         "type": "scatter",
         "x": [
          2
         ],
         "y": [
          5
         ]
        },
        {
         "hoverinfo": "text",
         "legendgroup": "qpu_dqbs",
         "marker": {
          "color": "gray",
          "line": {
           "color": "darkred",
           "width": 1
          },
          "size": 25,
          "symbol": "circle"
         },
         "mode": "markers+text",
         "name": "Data qubits",
         "showlegend": false,
         "text": "(3, 5, 0)",
         "textposition": "middle center",
         "type": "scatter",
         "x": [
          3
         ],
         "y": [
          5
         ]
        },
        {
         "hoverinfo": "text",
         "legendgroup": "qpu_dqbs",
         "marker": {
          "color": "gray",
          "line": {
           "color": "darkred",
           "width": 1
          },
          "size": 25,
          "symbol": "circle"
         },
         "mode": "markers+text",
         "name": "Data qubits",
         "showlegend": false,
         "text": "(4, 5, 0)",
         "textposition": "middle center",
         "type": "scatter",
         "x": [
          4
         ],
         "y": [
          5
         ]
        },
        {
         "hoverinfo": "text",
         "legendgroup": "qpu_dqbs",
         "marker": {
          "color": "gray",
          "line": {
           "color": "darkred",
           "width": 1
          },
          "size": 25,
          "symbol": "circle"
         },
         "mode": "markers+text",
         "name": "Data qubits",
         "showlegend": false,
         "text": "(5, 5, 0)",
         "textposition": "middle center",
         "type": "scatter",
         "x": [
          5
         ],
         "y": [
          5
         ]
        },
        {
         "hoverinfo": "text",
         "legendgroup": "qpu_dqbs",
         "marker": {
          "color": "gray",
          "line": {
           "color": "darkred",
           "width": 1
          },
          "size": 25,
          "symbol": "circle"
         },
         "mode": "markers+text",
         "name": "Data qubits",
         "showlegend": false,
         "text": "(6, 5, 0)",
         "textposition": "middle center",
         "type": "scatter",
         "x": [
          6
         ],
         "y": [
          5
         ]
        },
        {
         "hoverinfo": "text",
         "legendgroup": "qpu_aqbs",
         "marker": {
          "color": "lightgray",
          "line": {
           "color": "darkred",
           "width": 1
          },
          "size": 15,
          "symbol": "circle"
         },
         "mode": "markers+text",
         "name": "Ancilla qubits",
         "showlegend": true,
         "text": "(0, 0, 1)",
         "textposition": "middle center",
         "type": "scatter",
         "x": [
          -0.5
         ],
         "y": [
          -0.5
         ]
        },
        {
         "hoverinfo": "text",
         "legendgroup": "qpu_aqbs",
         "marker": {
          "color": "lightgray",
          "line": {
           "color": "darkred",
           "width": 1
          },
          "size": 15,
          "symbol": "circle"
         },
         "mode": "markers+text",
         "name": "Ancilla qubits",
         "showlegend": false,
         "text": "(1, 0, 1)",
         "textposition": "middle center",
         "type": "scatter",
         "x": [
          0.5
         ],
         "y": [
          -0.5
         ]
        },
        {
         "hoverinfo": "text",
         "legendgroup": "qpu_aqbs",
         "marker": {
          "color": "lightgray",
          "line": {
           "color": "darkred",
           "width": 1
          },
          "size": 15,
          "symbol": "circle"
         },
         "mode": "markers+text",
         "name": "Ancilla qubits",
         "showlegend": false,
         "text": "(2, 0, 1)",
         "textposition": "middle center",
         "type": "scatter",
         "x": [
          1.5
         ],
         "y": [
          -0.5
         ]
        },
        {
         "hoverinfo": "text",
         "legendgroup": "qpu_aqbs",
         "marker": {
          "color": "lightgray",
          "line": {
           "color": "darkred",
           "width": 1
          },
          "size": 15,
          "symbol": "circle"
         },
         "mode": "markers+text",
         "name": "Ancilla qubits",
         "showlegend": false,
         "text": "(3, 0, 1)",
         "textposition": "middle center",
         "type": "scatter",
         "x": [
          2.5
         ],
         "y": [
          -0.5
         ]
        },
        {
         "hoverinfo": "text",
         "legendgroup": "qpu_aqbs",
         "marker": {
          "color": "lightgray",
          "line": {
           "color": "darkred",
           "width": 1
          },
          "size": 15,
          "symbol": "circle"
         },
         "mode": "markers+text",
         "name": "Ancilla qubits",
         "showlegend": false,
         "text": "(4, 0, 1)",
         "textposition": "middle center",
         "type": "scatter",
         "x": [
          3.5
         ],
         "y": [
          -0.5
         ]
        },
        {
         "hoverinfo": "text",
         "legendgroup": "qpu_aqbs",
         "marker": {
          "color": "lightgray",
          "line": {
           "color": "darkred",
           "width": 1
          },
          "size": 15,
          "symbol": "circle"
         },
         "mode": "markers+text",
         "name": "Ancilla qubits",
         "showlegend": false,
         "text": "(5, 0, 1)",
         "textposition": "middle center",
         "type": "scatter",
         "x": [
          4.5
         ],
         "y": [
          -0.5
         ]
        },
        {
         "hoverinfo": "text",
         "legendgroup": "qpu_aqbs",
         "marker": {
          "color": "lightgray",
          "line": {
           "color": "darkred",
           "width": 1
          },
          "size": 15,
          "symbol": "circle"
         },
         "mode": "markers+text",
         "name": "Ancilla qubits",
         "showlegend": false,
         "text": "(6, 0, 1)",
         "textposition": "middle center",
         "type": "scatter",
         "x": [
          5.5
         ],
         "y": [
          -0.5
         ]
        },
        {
         "hoverinfo": "text",
         "legendgroup": "qpu_aqbs",
         "marker": {
          "color": "lightgray",
          "line": {
           "color": "darkred",
           "width": 1
          },
          "size": 15,
          "symbol": "circle"
         },
         "mode": "markers+text",
         "name": "Ancilla qubits",
         "showlegend": false,
         "text": "(7, 0, 1)",
         "textposition": "middle center",
         "type": "scatter",
         "x": [
          6.5
         ],
         "y": [
          -0.5
         ]
        },
        {
         "hoverinfo": "text",
         "legendgroup": "qpu_aqbs",
         "marker": {
          "color": "lightgray",
          "line": {
           "color": "darkred",
           "width": 1
          },
          "size": 15,
          "symbol": "circle"
         },
         "mode": "markers+text",
         "name": "Ancilla qubits",
         "showlegend": false,
         "text": "(0, 1, 1)",
         "textposition": "middle center",
         "type": "scatter",
         "x": [
          -0.5
         ],
         "y": [
          0.5
         ]
        },
        {
         "hoverinfo": "text",
         "legendgroup": "qpu_aqbs",
         "marker": {
          "color": "lightgray",
          "line": {
           "color": "darkred",
           "width": 1
          },
          "size": 15,
          "symbol": "circle"
         },
         "mode": "markers+text",
         "name": "Ancilla qubits",
         "showlegend": false,
         "text": "(1, 1, 1)",
         "textposition": "middle center",
         "type": "scatter",
         "x": [
          0.5
         ],
         "y": [
          0.5
         ]
        },
        {
         "hoverinfo": "text",
         "legendgroup": "qpu_aqbs",
         "marker": {
          "color": "lightgray",
          "line": {
           "color": "darkred",
           "width": 1
          },
          "size": 15,
          "symbol": "circle"
         },
         "mode": "markers+text",
         "name": "Ancilla qubits",
         "showlegend": false,
         "text": "(2, 1, 1)",
         "textposition": "middle center",
         "type": "scatter",
         "x": [
          1.5
         ],
         "y": [
          0.5
         ]
        },
        {
         "hoverinfo": "text",
         "legendgroup": "qpu_aqbs",
         "marker": {
          "color": "lightgray",
          "line": {
           "color": "darkred",
           "width": 1
          },
          "size": 15,
          "symbol": "circle"
         },
         "mode": "markers+text",
         "name": "Ancilla qubits",
         "showlegend": false,
         "text": "(3, 1, 1)",
         "textposition": "middle center",
         "type": "scatter",
         "x": [
          2.5
         ],
         "y": [
          0.5
         ]
        },
        {
         "hoverinfo": "text",
         "legendgroup": "qpu_aqbs",
         "marker": {
          "color": "lightgray",
          "line": {
           "color": "darkred",
           "width": 1
          },
          "size": 15,
          "symbol": "circle"
         },
         "mode": "markers+text",
         "name": "Ancilla qubits",
         "showlegend": false,
         "text": "(4, 1, 1)",
         "textposition": "middle center",
         "type": "scatter",
         "x": [
          3.5
         ],
         "y": [
          0.5
         ]
        },
        {
         "hoverinfo": "text",
         "legendgroup": "qpu_aqbs",
         "marker": {
          "color": "lightgray",
          "line": {
           "color": "darkred",
           "width": 1
          },
          "size": 15,
          "symbol": "circle"
         },
         "mode": "markers+text",
         "name": "Ancilla qubits",
         "showlegend": false,
         "text": "(5, 1, 1)",
         "textposition": "middle center",
         "type": "scatter",
         "x": [
          4.5
         ],
         "y": [
          0.5
         ]
        },
        {
         "hoverinfo": "text",
         "legendgroup": "qpu_aqbs",
         "marker": {
          "color": "lightgray",
          "line": {
           "color": "darkred",
           "width": 1
          },
          "size": 15,
          "symbol": "circle"
         },
         "mode": "markers+text",
         "name": "Ancilla qubits",
         "showlegend": false,
         "text": "(6, 1, 1)",
         "textposition": "middle center",
         "type": "scatter",
         "x": [
          5.5
         ],
         "y": [
          0.5
         ]
        },
        {
         "hoverinfo": "text",
         "legendgroup": "qpu_aqbs",
         "marker": {
          "color": "lightgray",
          "line": {
           "color": "darkred",
           "width": 1
          },
          "size": 15,
          "symbol": "circle"
         },
         "mode": "markers+text",
         "name": "Ancilla qubits",
         "showlegend": false,
         "text": "(7, 1, 1)",
         "textposition": "middle center",
         "type": "scatter",
         "x": [
          6.5
         ],
         "y": [
          0.5
         ]
        },
        {
         "hoverinfo": "text",
         "legendgroup": "qpu_aqbs",
         "marker": {
          "color": "lightgray",
          "line": {
           "color": "darkred",
           "width": 1
          },
          "size": 15,
          "symbol": "circle"
         },
         "mode": "markers+text",
         "name": "Ancilla qubits",
         "showlegend": false,
         "text": "(0, 2, 1)",
         "textposition": "middle center",
         "type": "scatter",
         "x": [
          -0.5
         ],
         "y": [
          1.5
         ]
        },
        {
         "hoverinfo": "text",
         "legendgroup": "qpu_aqbs",
         "marker": {
          "color": "lightgray",
          "line": {
           "color": "darkred",
           "width": 1
          },
          "size": 15,
          "symbol": "circle"
         },
         "mode": "markers+text",
         "name": "Ancilla qubits",
         "showlegend": false,
         "text": "(1, 2, 1)",
         "textposition": "middle center",
         "type": "scatter",
         "x": [
          0.5
         ],
         "y": [
          1.5
         ]
        },
        {
         "hoverinfo": "text",
         "legendgroup": "qpu_aqbs",
         "marker": {
          "color": "lightgray",
          "line": {
           "color": "darkred",
           "width": 1
          },
          "size": 15,
          "symbol": "circle"
         },
         "mode": "markers+text",
         "name": "Ancilla qubits",
         "showlegend": false,
         "text": "(2, 2, 1)",
         "textposition": "middle center",
         "type": "scatter",
         "x": [
          1.5
         ],
         "y": [
          1.5
         ]
        },
        {
         "hoverinfo": "text",
         "legendgroup": "qpu_aqbs",
         "marker": {
          "color": "lightgray",
          "line": {
           "color": "darkred",
           "width": 1
          },
          "size": 15,
          "symbol": "circle"
         },
         "mode": "markers+text",
         "name": "Ancilla qubits",
         "showlegend": false,
         "text": "(3, 2, 1)",
         "textposition": "middle center",
         "type": "scatter",
         "x": [
          2.5
         ],
         "y": [
          1.5
         ]
        },
        {
         "hoverinfo": "text",
         "legendgroup": "qpu_aqbs",
         "marker": {
          "color": "lightgray",
          "line": {
           "color": "darkred",
           "width": 1
          },
          "size": 15,
          "symbol": "circle"
         },
         "mode": "markers+text",
         "name": "Ancilla qubits",
         "showlegend": false,
         "text": "(4, 2, 1)",
         "textposition": "middle center",
         "type": "scatter",
         "x": [
          3.5
         ],
         "y": [
          1.5
         ]
        },
        {
         "hoverinfo": "text",
         "legendgroup": "qpu_aqbs",
         "marker": {
          "color": "lightgray",
          "line": {
           "color": "darkred",
           "width": 1
          },
          "size": 15,
          "symbol": "circle"
         },
         "mode": "markers+text",
         "name": "Ancilla qubits",
         "showlegend": false,
         "text": "(5, 2, 1)",
         "textposition": "middle center",
         "type": "scatter",
         "x": [
          4.5
         ],
         "y": [
          1.5
         ]
        },
        {
         "hoverinfo": "text",
         "legendgroup": "qpu_aqbs",
         "marker": {
          "color": "lightgray",
          "line": {
           "color": "darkred",
           "width": 1
          },
          "size": 15,
          "symbol": "circle"
         },
         "mode": "markers+text",
         "name": "Ancilla qubits",
         "showlegend": false,
         "text": "(6, 2, 1)",
         "textposition": "middle center",
         "type": "scatter",
         "x": [
          5.5
         ],
         "y": [
          1.5
         ]
        },
        {
         "hoverinfo": "text",
         "legendgroup": "qpu_aqbs",
         "marker": {
          "color": "lightgray",
          "line": {
           "color": "darkred",
           "width": 1
          },
          "size": 15,
          "symbol": "circle"
         },
         "mode": "markers+text",
         "name": "Ancilla qubits",
         "showlegend": false,
         "text": "(7, 2, 1)",
         "textposition": "middle center",
         "type": "scatter",
         "x": [
          6.5
         ],
         "y": [
          1.5
         ]
        },
        {
         "hoverinfo": "text",
         "legendgroup": "qpu_aqbs",
         "marker": {
          "color": "lightgray",
          "line": {
           "color": "darkred",
           "width": 1
          },
          "size": 15,
          "symbol": "circle"
         },
         "mode": "markers+text",
         "name": "Ancilla qubits",
         "showlegend": false,
         "text": "(0, 3, 1)",
         "textposition": "middle center",
         "type": "scatter",
         "x": [
          -0.5
         ],
         "y": [
          2.5
         ]
        },
        {
         "hoverinfo": "text",
         "legendgroup": "qpu_aqbs",
         "marker": {
          "color": "lightgray",
          "line": {
           "color": "darkred",
           "width": 1
          },
          "size": 15,
          "symbol": "circle"
         },
         "mode": "markers+text",
         "name": "Ancilla qubits",
         "showlegend": false,
         "text": "(1, 3, 1)",
         "textposition": "middle center",
         "type": "scatter",
         "x": [
          0.5
         ],
         "y": [
          2.5
         ]
        },
        {
         "hoverinfo": "text",
         "legendgroup": "qpu_aqbs",
         "marker": {
          "color": "lightgray",
          "line": {
           "color": "darkred",
           "width": 1
          },
          "size": 15,
          "symbol": "circle"
         },
         "mode": "markers+text",
         "name": "Ancilla qubits",
         "showlegend": false,
         "text": "(2, 3, 1)",
         "textposition": "middle center",
         "type": "scatter",
         "x": [
          1.5
         ],
         "y": [
          2.5
         ]
        },
        {
         "hoverinfo": "text",
         "legendgroup": "qpu_aqbs",
         "marker": {
          "color": "lightgray",
          "line": {
           "color": "darkred",
           "width": 1
          },
          "size": 15,
          "symbol": "circle"
         },
         "mode": "markers+text",
         "name": "Ancilla qubits",
         "showlegend": false,
         "text": "(3, 3, 1)",
         "textposition": "middle center",
         "type": "scatter",
         "x": [
          2.5
         ],
         "y": [
          2.5
         ]
        },
        {
         "hoverinfo": "text",
         "legendgroup": "qpu_aqbs",
         "marker": {
          "color": "lightgray",
          "line": {
           "color": "darkred",
           "width": 1
          },
          "size": 15,
          "symbol": "circle"
         },
         "mode": "markers+text",
         "name": "Ancilla qubits",
         "showlegend": false,
         "text": "(4, 3, 1)",
         "textposition": "middle center",
         "type": "scatter",
         "x": [
          3.5
         ],
         "y": [
          2.5
         ]
        },
        {
         "hoverinfo": "text",
         "legendgroup": "qpu_aqbs",
         "marker": {
          "color": "lightgray",
          "line": {
           "color": "darkred",
           "width": 1
          },
          "size": 15,
          "symbol": "circle"
         },
         "mode": "markers+text",
         "name": "Ancilla qubits",
         "showlegend": false,
         "text": "(5, 3, 1)",
         "textposition": "middle center",
         "type": "scatter",
         "x": [
          4.5
         ],
         "y": [
          2.5
         ]
        },
        {
         "hoverinfo": "text",
         "legendgroup": "qpu_aqbs",
         "marker": {
          "color": "lightgray",
          "line": {
           "color": "darkred",
           "width": 1
          },
          "size": 15,
          "symbol": "circle"
         },
         "mode": "markers+text",
         "name": "Ancilla qubits",
         "showlegend": false,
         "text": "(6, 3, 1)",
         "textposition": "middle center",
         "type": "scatter",
         "x": [
          5.5
         ],
         "y": [
          2.5
         ]
        },
        {
         "hoverinfo": "text",
         "legendgroup": "qpu_aqbs",
         "marker": {
          "color": "lightgray",
          "line": {
           "color": "darkred",
           "width": 1
          },
          "size": 15,
          "symbol": "circle"
         },
         "mode": "markers+text",
         "name": "Ancilla qubits",
         "showlegend": false,
         "text": "(7, 3, 1)",
         "textposition": "middle center",
         "type": "scatter",
         "x": [
          6.5
         ],
         "y": [
          2.5
         ]
        },
        {
         "hoverinfo": "text",
         "legendgroup": "qpu_aqbs",
         "marker": {
          "color": "lightgray",
          "line": {
           "color": "darkred",
           "width": 1
          },
          "size": 15,
          "symbol": "circle"
         },
         "mode": "markers+text",
         "name": "Ancilla qubits",
         "showlegend": false,
         "text": "(0, 4, 1)",
         "textposition": "middle center",
         "type": "scatter",
         "x": [
          -0.5
         ],
         "y": [
          3.5
         ]
        },
        {
         "hoverinfo": "text",
         "legendgroup": "qpu_aqbs",
         "marker": {
          "color": "lightgray",
          "line": {
           "color": "darkred",
           "width": 1
          },
          "size": 15,
          "symbol": "circle"
         },
         "mode": "markers+text",
         "name": "Ancilla qubits",
         "showlegend": false,
         "text": "(1, 4, 1)",
         "textposition": "middle center",
         "type": "scatter",
         "x": [
          0.5
         ],
         "y": [
          3.5
         ]
        },
        {
         "hoverinfo": "text",
         "legendgroup": "qpu_aqbs",
         "marker": {
          "color": "lightgray",
          "line": {
           "color": "darkred",
           "width": 1
          },
          "size": 15,
          "symbol": "circle"
         },
         "mode": "markers+text",
         "name": "Ancilla qubits",
         "showlegend": false,
         "text": "(2, 4, 1)",
         "textposition": "middle center",
         "type": "scatter",
         "x": [
          1.5
         ],
         "y": [
          3.5
         ]
        },
        {
         "hoverinfo": "text",
         "legendgroup": "qpu_aqbs",
         "marker": {
          "color": "lightgray",
          "line": {
           "color": "darkred",
           "width": 1
          },
          "size": 15,
          "symbol": "circle"
         },
         "mode": "markers+text",
         "name": "Ancilla qubits",
         "showlegend": false,
         "text": "(3, 4, 1)",
         "textposition": "middle center",
         "type": "scatter",
         "x": [
          2.5
         ],
         "y": [
          3.5
         ]
        },
        {
         "hoverinfo": "text",
         "legendgroup": "qpu_aqbs",
         "marker": {
          "color": "lightgray",
          "line": {
           "color": "darkred",
           "width": 1
          },
          "size": 15,
          "symbol": "circle"
         },
         "mode": "markers+text",
         "name": "Ancilla qubits",
         "showlegend": false,
         "text": "(4, 4, 1)",
         "textposition": "middle center",
         "type": "scatter",
         "x": [
          3.5
         ],
         "y": [
          3.5
         ]
        },
        {
         "hoverinfo": "text",
         "legendgroup": "qpu_aqbs",
         "marker": {
          "color": "lightgray",
          "line": {
           "color": "darkred",
           "width": 1
          },
          "size": 15,
          "symbol": "circle"
         },
         "mode": "markers+text",
         "name": "Ancilla qubits",
         "showlegend": false,
         "text": "(5, 4, 1)",
         "textposition": "middle center",
         "type": "scatter",
         "x": [
          4.5
         ],
         "y": [
          3.5
         ]
        },
        {
         "hoverinfo": "text",
         "legendgroup": "qpu_aqbs",
         "marker": {
          "color": "lightgray",
          "line": {
           "color": "darkred",
           "width": 1
          },
          "size": 15,
          "symbol": "circle"
         },
         "mode": "markers+text",
         "name": "Ancilla qubits",
         "showlegend": false,
         "text": "(6, 4, 1)",
         "textposition": "middle center",
         "type": "scatter",
         "x": [
          5.5
         ],
         "y": [
          3.5
         ]
        },
        {
         "hoverinfo": "text",
         "legendgroup": "qpu_aqbs",
         "marker": {
          "color": "lightgray",
          "line": {
           "color": "darkred",
           "width": 1
          },
          "size": 15,
          "symbol": "circle"
         },
         "mode": "markers+text",
         "name": "Ancilla qubits",
         "showlegend": false,
         "text": "(7, 4, 1)",
         "textposition": "middle center",
         "type": "scatter",
         "x": [
          6.5
         ],
         "y": [
          3.5
         ]
        },
        {
         "hoverinfo": "text",
         "legendgroup": "qpu_aqbs",
         "marker": {
          "color": "lightgray",
          "line": {
           "color": "darkred",
           "width": 1
          },
          "size": 15,
          "symbol": "circle"
         },
         "mode": "markers+text",
         "name": "Ancilla qubits",
         "showlegend": false,
         "text": "(0, 5, 1)",
         "textposition": "middle center",
         "type": "scatter",
         "x": [
          -0.5
         ],
         "y": [
          4.5
         ]
        },
        {
         "hoverinfo": "text",
         "legendgroup": "qpu_aqbs",
         "marker": {
          "color": "lightgray",
          "line": {
           "color": "darkred",
           "width": 1
          },
          "size": 15,
          "symbol": "circle"
         },
         "mode": "markers+text",
         "name": "Ancilla qubits",
         "showlegend": false,
         "text": "(1, 5, 1)",
         "textposition": "middle center",
         "type": "scatter",
         "x": [
          0.5
         ],
         "y": [
          4.5
         ]
        },
        {
         "hoverinfo": "text",
         "legendgroup": "qpu_aqbs",
         "marker": {
          "color": "lightgray",
          "line": {
           "color": "darkred",
           "width": 1
          },
          "size": 15,
          "symbol": "circle"
         },
         "mode": "markers+text",
         "name": "Ancilla qubits",
         "showlegend": false,
         "text": "(2, 5, 1)",
         "textposition": "middle center",
         "type": "scatter",
         "x": [
          1.5
         ],
         "y": [
          4.5
         ]
        },
        {
         "hoverinfo": "text",
         "legendgroup": "qpu_aqbs",
         "marker": {
          "color": "lightgray",
          "line": {
           "color": "darkred",
           "width": 1
          },
          "size": 15,
          "symbol": "circle"
         },
         "mode": "markers+text",
         "name": "Ancilla qubits",
         "showlegend": false,
         "text": "(3, 5, 1)",
         "textposition": "middle center",
         "type": "scatter",
         "x": [
          2.5
         ],
         "y": [
          4.5
         ]
        },
        {
         "hoverinfo": "text",
         "legendgroup": "qpu_aqbs",
         "marker": {
          "color": "lightgray",
          "line": {
           "color": "darkred",
           "width": 1
          },
          "size": 15,
          "symbol": "circle"
         },
         "mode": "markers+text",
         "name": "Ancilla qubits",
         "showlegend": false,
         "text": "(4, 5, 1)",
         "textposition": "middle center",
         "type": "scatter",
         "x": [
          3.5
         ],
         "y": [
          4.5
         ]
        },
        {
         "hoverinfo": "text",
         "legendgroup": "qpu_aqbs",
         "marker": {
          "color": "lightgray",
          "line": {
           "color": "darkred",
           "width": 1
          },
          "size": 15,
          "symbol": "circle"
         },
         "mode": "markers+text",
         "name": "Ancilla qubits",
         "showlegend": false,
         "text": "(5, 5, 1)",
         "textposition": "middle center",
         "type": "scatter",
         "x": [
          4.5
         ],
         "y": [
          4.5
         ]
        },
        {
         "hoverinfo": "text",
         "legendgroup": "qpu_aqbs",
         "marker": {
          "color": "lightgray",
          "line": {
           "color": "darkred",
           "width": 1
          },
          "size": 15,
          "symbol": "circle"
         },
         "mode": "markers+text",
         "name": "Ancilla qubits",
         "showlegend": false,
         "text": "(6, 5, 1)",
         "textposition": "middle center",
         "type": "scatter",
         "x": [
          5.5
         ],
         "y": [
          4.5
         ]
        },
        {
         "hoverinfo": "text",
         "legendgroup": "qpu_aqbs",
         "marker": {
          "color": "lightgray",
          "line": {
           "color": "darkred",
           "width": 1
          },
          "size": 15,
          "symbol": "circle"
         },
         "mode": "markers+text",
         "name": "Ancilla qubits",
         "showlegend": false,
         "text": "(7, 5, 1)",
         "textposition": "middle center",
         "type": "scatter",
         "x": [
          6.5
         ],
         "y": [
          4.5
         ]
        },
        {
         "hoverinfo": "text",
         "legendgroup": "qpu_aqbs",
         "marker": {
          "color": "lightgray",
          "line": {
           "color": "darkred",
           "width": 1
          },
          "size": 15,
          "symbol": "circle"
         },
         "mode": "markers+text",
         "name": "Ancilla qubits",
         "showlegend": false,
         "text": "(0, 6, 1)",
         "textposition": "middle center",
         "type": "scatter",
         "x": [
          -0.5
         ],
         "y": [
          5.5
         ]
        },
        {
         "hoverinfo": "text",
         "legendgroup": "qpu_aqbs",
         "marker": {
          "color": "lightgray",
          "line": {
           "color": "darkred",
           "width": 1
          },
          "size": 15,
          "symbol": "circle"
         },
         "mode": "markers+text",
         "name": "Ancilla qubits",
         "showlegend": false,
         "text": "(1, 6, 1)",
         "textposition": "middle center",
         "type": "scatter",
         "x": [
          0.5
         ],
         "y": [
          5.5
         ]
        },
        {
         "hoverinfo": "text",
         "legendgroup": "qpu_aqbs",
         "marker": {
          "color": "lightgray",
          "line": {
           "color": "darkred",
           "width": 1
          },
          "size": 15,
          "symbol": "circle"
         },
         "mode": "markers+text",
         "name": "Ancilla qubits",
         "showlegend": false,
         "text": "(2, 6, 1)",
         "textposition": "middle center",
         "type": "scatter",
         "x": [
          1.5
         ],
         "y": [
          5.5
         ]
        },
        {
         "hoverinfo": "text",
         "legendgroup": "qpu_aqbs",
         "marker": {
          "color": "lightgray",
          "line": {
           "color": "darkred",
           "width": 1
          },
          "size": 15,
          "symbol": "circle"
         },
         "mode": "markers+text",
         "name": "Ancilla qubits",
         "showlegend": false,
         "text": "(3, 6, 1)",
         "textposition": "middle center",
         "type": "scatter",
         "x": [
          2.5
         ],
         "y": [
          5.5
         ]
        },
        {
         "hoverinfo": "text",
         "legendgroup": "qpu_aqbs",
         "marker": {
          "color": "lightgray",
          "line": {
           "color": "darkred",
           "width": 1
          },
          "size": 15,
          "symbol": "circle"
         },
         "mode": "markers+text",
         "name": "Ancilla qubits",
         "showlegend": false,
         "text": "(4, 6, 1)",
         "textposition": "middle center",
         "type": "scatter",
         "x": [
          3.5
         ],
         "y": [
          5.5
         ]
        },
        {
         "hoverinfo": "text",
         "legendgroup": "qpu_aqbs",
         "marker": {
          "color": "lightgray",
          "line": {
           "color": "darkred",
           "width": 1
          },
          "size": 15,
          "symbol": "circle"
         },
         "mode": "markers+text",
         "name": "Ancilla qubits",
         "showlegend": false,
         "text": "(5, 6, 1)",
         "textposition": "middle center",
         "type": "scatter",
         "x": [
          4.5
         ],
         "y": [
          5.5
         ]
        },
        {
         "hoverinfo": "text",
         "legendgroup": "qpu_aqbs",
         "marker": {
          "color": "lightgray",
          "line": {
           "color": "darkred",
           "width": 1
          },
          "size": 15,
          "symbol": "circle"
         },
         "mode": "markers+text",
         "name": "Ancilla qubits",
         "showlegend": false,
         "text": "(6, 6, 1)",
         "textposition": "middle center",
         "type": "scatter",
         "x": [
          5.5
         ],
         "y": [
          5.5
         ]
        },
        {
         "hoverinfo": "text",
         "legendgroup": "qpu_aqbs",
         "marker": {
          "color": "lightgray",
          "line": {
           "color": "darkred",
           "width": 1
          },
          "size": 15,
          "symbol": "circle"
         },
         "mode": "markers+text",
         "name": "Ancilla qubits",
         "showlegend": false,
         "text": "(7, 6, 1)",
         "textposition": "middle center",
         "type": "scatter",
         "x": [
          6.5
         ],
         "y": [
          5.5
         ]
        },
        {
         "fill": "toself",
         "fillcolor": "rgba(90,174,230,0.8)",
         "hoverinfo": "none",
         "legendgroup": "stabs_Q1",
         "line": {
          "color": "black",
          "width": 2
         },
         "mode": "lines",
         "name": "Q1 stabilizers",
         "showlegend": true,
         "type": "scatter",
         "x": [
          2,
          3,
          3,
          2,
          2
         ],
         "y": [
          1,
          1,
          2,
          2,
          1
         ]
        },
        {
         "fill": "toself",
         "fillcolor": "rgba(90,174,230,0.8)",
         "hoverinfo": "none",
         "legendgroup": "stabs_Q1",
         "line": {
          "color": "black",
          "width": 2
         },
         "mode": "lines",
         "name": "Q1 stabilizers",
         "showlegend": false,
         "type": "scatter",
         "x": [
          1,
          2,
          2,
          1,
          1
         ],
         "y": [
          2,
          2,
          3,
          3,
          2
         ]
        },
        {
         "fill": "toself",
         "fillcolor": "rgba(90,174,230,0.8)",
         "hoverinfo": "none",
         "legendgroup": "stabs_Q1",
         "line": {
          "color": "black",
          "width": 2
         },
         "mode": "lines",
         "name": "Q1 stabilizers",
         "showlegend": false,
         "type": "scatter",
         "x": [
          0.9,
          1.1,
          1.1,
          0.9,
          0.9
         ],
         "y": [
          1,
          1,
          2,
          2,
          1
         ]
        },
        {
         "fill": "toself",
         "fillcolor": "rgba(90,174,230,0.8)",
         "hoverinfo": "none",
         "legendgroup": "stabs_Q1",
         "line": {
          "color": "black",
          "width": 2
         },
         "mode": "lines",
         "name": "Q1 stabilizers",
         "showlegend": false,
         "type": "scatter",
         "x": [
          2.9,
          3.1,
          3.1,
          2.9,
          2.9
         ],
         "y": [
          2,
          2,
          3,
          3,
          2
         ]
        },
        {
         "fill": "toself",
         "fillcolor": "rgba(87,201,90,0.8)",
         "hoverinfo": "none",
         "legendgroup": "stabs_Q1",
         "line": {
          "color": "black",
          "width": 2
         },
         "mode": "lines",
         "name": "Q1 stabilizers",
         "showlegend": false,
         "type": "scatter",
         "x": [
          1,
          2,
          2,
          1,
          1
         ],
         "y": [
          1,
          1,
          2,
          2,
          1
         ]
        },
        {
         "fill": "toself",
         "fillcolor": "rgba(87,201,90,0.8)",
         "hoverinfo": "none",
         "legendgroup": "stabs_Q1",
         "line": {
          "color": "black",
          "width": 2
         },
         "mode": "lines",
         "name": "Q1 stabilizers",
         "showlegend": false,
         "type": "scatter",
         "x": [
          2,
          3,
          3,
          2,
          2
         ],
         "y": [
          2,
          2,
          3,
          3,
          2
         ]
        },
        {
         "fill": "toself",
         "fillcolor": "rgba(87,201,90,0.8)",
         "hoverinfo": "none",
         "legendgroup": "stabs_Q1",
         "line": {
          "color": "black",
          "width": 2
         },
         "mode": "lines",
         "name": "Q1 stabilizers",
         "showlegend": false,
         "type": "scatter",
         "x": [
          1,
          2,
          2,
          1,
          1
         ],
         "y": [
          2.9,
          2.9,
          3.1,
          3.1,
          2.9
         ]
        },
        {
         "fill": "toself",
         "fillcolor": "rgba(87,201,90,0.8)",
         "hoverinfo": "none",
         "legendgroup": "stabs_Q1",
         "line": {
          "color": "black",
          "width": 2
         },
         "mode": "lines",
         "name": "Q1 stabilizers",
         "showlegend": false,
         "type": "scatter",
         "x": [
          2,
          3,
          3,
          2,
          2
         ],
         "y": [
          0.9,
          0.9,
          1.1,
          1.1,
          0.9
         ]
        },
        {
         "hoverinfo": "text",
         "legendgroup": "",
         "marker": {
          "color": "#1f77b4",
          "line": {
           "color": "darkred",
           "width": 1
          },
          "size": 25,
          "symbol": "circle"
         },
         "mode": "markers+text",
         "name": "",
         "showlegend": false,
         "text": "(2, 1, 0)",
         "textposition": "middle center",
         "type": "scatter",
         "x": [
          2
         ],
         "y": [
          1
         ]
        },
        {
         "hoverinfo": "text",
         "legendgroup": "",
         "marker": {
          "color": "#1f77b4",
          "line": {
           "color": "darkred",
           "width": 1
          },
          "size": 25,
          "symbol": "circle"
         },
         "mode": "markers+text",
         "name": "",
         "showlegend": false,
         "text": "(3, 1, 0)",
         "textposition": "middle center",
         "type": "scatter",
         "x": [
          3
         ],
         "y": [
          1
         ]
        },
        {
         "hoverinfo": "text",
         "legendgroup": "",
         "marker": {
          "color": "#1f77b4",
          "line": {
           "color": "darkred",
           "width": 1
          },
          "size": 25,
          "symbol": "circle"
         },
         "mode": "markers+text",
         "name": "",
         "showlegend": false,
         "text": "(2, 2, 0)",
         "textposition": "middle center",
         "type": "scatter",
         "x": [
          2
         ],
         "y": [
          2
         ]
        },
        {
         "hoverinfo": "text",
         "legendgroup": "",
         "marker": {
          "color": "#1f77b4",
          "line": {
           "color": "darkred",
           "width": 1
          },
          "size": 25,
          "symbol": "circle"
         },
         "mode": "markers+text",
         "name": "",
         "showlegend": false,
         "text": "(3, 2, 0)",
         "textposition": "middle center",
         "type": "scatter",
         "x": [
          3
         ],
         "y": [
          2
         ]
        },
        {
         "hoverinfo": "text",
         "legendgroup": "",
         "marker": {
          "color": "#1f77b4",
          "line": {
           "color": "darkred",
           "width": 1
          },
          "size": 25,
          "symbol": "circle"
         },
         "mode": "markers+text",
         "name": "",
         "showlegend": false,
         "text": "(1, 2, 0)",
         "textposition": "middle center",
         "type": "scatter",
         "x": [
          1
         ],
         "y": [
          2
         ]
        },
        {
         "hoverinfo": "text",
         "legendgroup": "",
         "marker": {
          "color": "#1f77b4",
          "line": {
           "color": "darkred",
           "width": 1
          },
          "size": 25,
          "symbol": "circle"
         },
         "mode": "markers+text",
         "name": "",
         "showlegend": false,
         "text": "(1, 3, 0)",
         "textposition": "middle center",
         "type": "scatter",
         "x": [
          1
         ],
         "y": [
          3
         ]
        },
        {
         "hoverinfo": "text",
         "legendgroup": "",
         "marker": {
          "color": "#1f77b4",
          "line": {
           "color": "darkred",
           "width": 1
          },
          "size": 25,
          "symbol": "circle"
         },
         "mode": "markers+text",
         "name": "",
         "showlegend": false,
         "text": "(2, 3, 0)",
         "textposition": "middle center",
         "type": "scatter",
         "x": [
          2
         ],
         "y": [
          3
         ]
        },
        {
         "hoverinfo": "text",
         "legendgroup": "",
         "marker": {
          "color": "#1f77b4",
          "line": {
           "color": "darkred",
           "width": 1
          },
          "size": 25,
          "symbol": "circle"
         },
         "mode": "markers+text",
         "name": "",
         "showlegend": false,
         "text": "(1, 1, 0)",
         "textposition": "middle center",
         "type": "scatter",
         "x": [
          1
         ],
         "y": [
          1
         ]
        },
        {
         "hoverinfo": "text",
         "legendgroup": "",
         "marker": {
          "color": "#1f77b4",
          "line": {
           "color": "darkred",
           "width": 1
          },
          "size": 25,
          "symbol": "circle"
         },
         "mode": "markers+text",
         "name": "",
         "showlegend": false,
         "text": "(3, 3, 0)",
         "textposition": "middle center",
         "type": "scatter",
         "x": [
          3
         ],
         "y": [
          3
         ]
        },
        {
         "hoverinfo": "text",
         "legendgroup": "",
         "marker": {
          "color": "gray",
          "line": {
           "color": "darkred",
           "width": 1
          },
          "size": 25,
          "symbol": "square"
         },
         "mode": "markers+text",
         "name": "",
         "showlegend": false,
         "text": "X<sub>(1, 1, 0)</sub>",
         "textposition": "middle center",
         "type": "scatter",
         "x": [
          1
         ],
         "y": [
          1
         ]
        },
        {
         "hoverinfo": "text",
         "legendgroup": "",
         "marker": {
          "color": "gray",
          "line": {
           "color": "darkred",
           "width": 1
          },
          "size": 25,
          "symbol": "square"
         },
         "mode": "markers+text",
         "name": "",
         "showlegend": false,
         "text": "X<sub>(2, 1, 0)</sub>",
         "textposition": "middle center",
         "type": "scatter",
         "x": [
          2
         ],
         "y": [
          1
         ]
        },
        {
         "hoverinfo": "text",
         "legendgroup": "",
         "marker": {
          "color": "gray",
          "line": {
           "color": "darkred",
           "width": 1
          },
          "size": 25,
          "symbol": "square"
         },
         "mode": "markers+text",
         "name": "",
         "showlegend": false,
         "text": "X<sub>(3, 1, 0)</sub>",
         "textposition": "middle center",
         "type": "scatter",
         "x": [
          3
         ],
         "y": [
          1
         ]
        },
        {
         "hoverinfo": "text",
         "legendgroup": "",
         "marker": {
          "color": "gray",
          "line": {
           "color": "darkred",
           "width": 1
          },
          "size": 25,
          "symbol": "square"
         },
         "mode": "markers+text",
         "name": "",
         "showlegend": false,
         "text": "Z<sub>(1, 1, 0)</sub>",
         "textposition": "middle center",
         "type": "scatter",
         "x": [
          1
         ],
         "y": [
          1
         ]
        },
        {
         "hoverinfo": "text",
         "legendgroup": "",
         "marker": {
          "color": "gray",
          "line": {
           "color": "darkred",
           "width": 1
          },
          "size": 25,
          "symbol": "square"
         },
         "mode": "markers+text",
         "name": "",
         "showlegend": false,
         "text": "Z<sub>(1, 2, 0)</sub>",
         "textposition": "middle center",
         "type": "scatter",
         "x": [
          1
         ],
         "y": [
          2
         ]
        },
        {
         "hoverinfo": "text",
         "legendgroup": "",
         "marker": {
          "color": "gray",
          "line": {
           "color": "darkred",
           "width": 1
          },
          "size": 25,
          "symbol": "square"
         },
         "mode": "markers+text",
         "name": "",
         "showlegend": false,
         "text": "Z<sub>(1, 3, 0)</sub>",
         "textposition": "middle center",
         "type": "scatter",
         "x": [
          1
         ],
         "y": [
          3
         ]
        }
       ],
       "layout": {
        "height": 700,
        "showlegend": true,
        "template": {
         "data": {
          "bar": [
           {
            "error_x": {
             "color": "#2a3f5f"
            },
            "error_y": {
             "color": "#2a3f5f"
            },
            "marker": {
             "line": {
              "color": "#E5ECF6",
              "width": 0.5
             },
             "pattern": {
              "fillmode": "overlay",
              "size": 10,
              "solidity": 0.2
             }
            },
            "type": "bar"
           }
          ],
          "barpolar": [
           {
            "marker": {
             "line": {
              "color": "#E5ECF6",
              "width": 0.5
             },
             "pattern": {
              "fillmode": "overlay",
              "size": 10,
              "solidity": 0.2
             }
            },
            "type": "barpolar"
           }
          ],
          "carpet": [
           {
            "aaxis": {
             "endlinecolor": "#2a3f5f",
             "gridcolor": "white",
             "linecolor": "white",
             "minorgridcolor": "white",
             "startlinecolor": "#2a3f5f"
            },
            "baxis": {
             "endlinecolor": "#2a3f5f",
             "gridcolor": "white",
             "linecolor": "white",
             "minorgridcolor": "white",
             "startlinecolor": "#2a3f5f"
            },
            "type": "carpet"
           }
          ],
          "choropleth": [
           {
            "colorbar": {
             "outlinewidth": 0,
             "ticks": ""
            },
            "type": "choropleth"
           }
          ],
          "contour": [
           {
            "colorbar": {
             "outlinewidth": 0,
             "ticks": ""
            },
            "colorscale": [
             [
              0,
              "#0d0887"
             ],
             [
              0.1111111111111111,
              "#46039f"
             ],
             [
              0.2222222222222222,
              "#7201a8"
             ],
             [
              0.3333333333333333,
              "#9c179e"
             ],
             [
              0.4444444444444444,
              "#bd3786"
             ],
             [
              0.5555555555555556,
              "#d8576b"
             ],
             [
              0.6666666666666666,
              "#ed7953"
             ],
             [
              0.7777777777777778,
              "#fb9f3a"
             ],
             [
              0.8888888888888888,
              "#fdca26"
             ],
             [
              1,
              "#f0f921"
             ]
            ],
            "type": "contour"
           }
          ],
          "contourcarpet": [
           {
            "colorbar": {
             "outlinewidth": 0,
             "ticks": ""
            },
            "type": "contourcarpet"
           }
          ],
          "heatmap": [
           {
            "colorbar": {
             "outlinewidth": 0,
             "ticks": ""
            },
            "colorscale": [
             [
              0,
              "#0d0887"
             ],
             [
              0.1111111111111111,
              "#46039f"
             ],
             [
              0.2222222222222222,
              "#7201a8"
             ],
             [
              0.3333333333333333,
              "#9c179e"
             ],
             [
              0.4444444444444444,
              "#bd3786"
             ],
             [
              0.5555555555555556,
              "#d8576b"
             ],
             [
              0.6666666666666666,
              "#ed7953"
             ],
             [
              0.7777777777777778,
              "#fb9f3a"
             ],
             [
              0.8888888888888888,
              "#fdca26"
             ],
             [
              1,
              "#f0f921"
             ]
            ],
            "type": "heatmap"
           }
          ],
          "heatmapgl": [
           {
            "colorbar": {
             "outlinewidth": 0,
             "ticks": ""
            },
            "colorscale": [
             [
              0,
              "#0d0887"
             ],
             [
              0.1111111111111111,
              "#46039f"
             ],
             [
              0.2222222222222222,
              "#7201a8"
             ],
             [
              0.3333333333333333,
              "#9c179e"
             ],
             [
              0.4444444444444444,
              "#bd3786"
             ],
             [
              0.5555555555555556,
              "#d8576b"
             ],
             [
              0.6666666666666666,
              "#ed7953"
             ],
             [
              0.7777777777777778,
              "#fb9f3a"
             ],
             [
              0.8888888888888888,
              "#fdca26"
             ],
             [
              1,
              "#f0f921"
             ]
            ],
            "type": "heatmapgl"
           }
          ],
          "histogram": [
           {
            "marker": {
             "pattern": {
              "fillmode": "overlay",
              "size": 10,
              "solidity": 0.2
             }
            },
            "type": "histogram"
           }
          ],
          "histogram2d": [
           {
            "colorbar": {
             "outlinewidth": 0,
             "ticks": ""
            },
            "colorscale": [
             [
              0,
              "#0d0887"
             ],
             [
              0.1111111111111111,
              "#46039f"
             ],
             [
              0.2222222222222222,
              "#7201a8"
             ],
             [
              0.3333333333333333,
              "#9c179e"
             ],
             [
              0.4444444444444444,
              "#bd3786"
             ],
             [
              0.5555555555555556,
              "#d8576b"
             ],
             [
              0.6666666666666666,
              "#ed7953"
             ],
             [
              0.7777777777777778,
              "#fb9f3a"
             ],
             [
              0.8888888888888888,
              "#fdca26"
             ],
             [
              1,
              "#f0f921"
             ]
            ],
            "type": "histogram2d"
           }
          ],
          "histogram2dcontour": [
           {
            "colorbar": {
             "outlinewidth": 0,
             "ticks": ""
            },
            "colorscale": [
             [
              0,
              "#0d0887"
             ],
             [
              0.1111111111111111,
              "#46039f"
             ],
             [
              0.2222222222222222,
              "#7201a8"
             ],
             [
              0.3333333333333333,
              "#9c179e"
             ],
             [
              0.4444444444444444,
              "#bd3786"
             ],
             [
              0.5555555555555556,
              "#d8576b"
             ],
             [
              0.6666666666666666,
              "#ed7953"
             ],
             [
              0.7777777777777778,
              "#fb9f3a"
             ],
             [
              0.8888888888888888,
              "#fdca26"
             ],
             [
              1,
              "#f0f921"
             ]
            ],
            "type": "histogram2dcontour"
           }
          ],
          "mesh3d": [
           {
            "colorbar": {
             "outlinewidth": 0,
             "ticks": ""
            },
            "type": "mesh3d"
           }
          ],
          "parcoords": [
           {
            "line": {
             "colorbar": {
              "outlinewidth": 0,
              "ticks": ""
             }
            },
            "type": "parcoords"
           }
          ],
          "pie": [
           {
            "automargin": true,
            "type": "pie"
           }
          ],
          "scatter": [
           {
            "fillpattern": {
             "fillmode": "overlay",
             "size": 10,
             "solidity": 0.2
            },
            "type": "scatter"
           }
          ],
          "scatter3d": [
           {
            "line": {
             "colorbar": {
              "outlinewidth": 0,
              "ticks": ""
             }
            },
            "marker": {
             "colorbar": {
              "outlinewidth": 0,
              "ticks": ""
             }
            },
            "type": "scatter3d"
           }
          ],
          "scattercarpet": [
           {
            "marker": {
             "colorbar": {
              "outlinewidth": 0,
              "ticks": ""
             }
            },
            "type": "scattercarpet"
           }
          ],
          "scattergeo": [
           {
            "marker": {
             "colorbar": {
              "outlinewidth": 0,
              "ticks": ""
             }
            },
            "type": "scattergeo"
           }
          ],
          "scattergl": [
           {
            "marker": {
             "colorbar": {
              "outlinewidth": 0,
              "ticks": ""
             }
            },
            "type": "scattergl"
           }
          ],
          "scattermapbox": [
           {
            "marker": {
             "colorbar": {
              "outlinewidth": 0,
              "ticks": ""
             }
            },
            "type": "scattermapbox"
           }
          ],
          "scatterpolar": [
           {
            "marker": {
             "colorbar": {
              "outlinewidth": 0,
              "ticks": ""
             }
            },
            "type": "scatterpolar"
           }
          ],
          "scatterpolargl": [
           {
            "marker": {
             "colorbar": {
              "outlinewidth": 0,
              "ticks": ""
             }
            },
            "type": "scatterpolargl"
           }
          ],
          "scatterternary": [
           {
            "marker": {
             "colorbar": {
              "outlinewidth": 0,
              "ticks": ""
             }
            },
            "type": "scatterternary"
           }
          ],
          "surface": [
           {
            "colorbar": {
             "outlinewidth": 0,
             "ticks": ""
            },
            "colorscale": [
             [
              0,
              "#0d0887"
             ],
             [
              0.1111111111111111,
              "#46039f"
             ],
             [
              0.2222222222222222,
              "#7201a8"
             ],
             [
              0.3333333333333333,
              "#9c179e"
             ],
             [
              0.4444444444444444,
              "#bd3786"
             ],
             [
              0.5555555555555556,
              "#d8576b"
             ],
             [
              0.6666666666666666,
              "#ed7953"
             ],
             [
              0.7777777777777778,
              "#fb9f3a"
             ],
             [
              0.8888888888888888,
              "#fdca26"
             ],
             [
              1,
              "#f0f921"
             ]
            ],
            "type": "surface"
           }
          ],
          "table": [
           {
            "cells": {
             "fill": {
              "color": "#EBF0F8"
             },
             "line": {
              "color": "white"
             }
            },
            "header": {
             "fill": {
              "color": "#C8D4E3"
             },
             "line": {
              "color": "white"
             }
            },
            "type": "table"
           }
          ]
         },
         "layout": {
          "annotationdefaults": {
           "arrowcolor": "#2a3f5f",
           "arrowhead": 0,
           "arrowwidth": 1
          },
          "autotypenumbers": "strict",
          "coloraxis": {
           "colorbar": {
            "outlinewidth": 0,
            "ticks": ""
           }
          },
          "colorscale": {
           "diverging": [
            [
             0,
             "#8e0152"
            ],
            [
             0.1,
             "#c51b7d"
            ],
            [
             0.2,
             "#de77ae"
            ],
            [
             0.3,
             "#f1b6da"
            ],
            [
             0.4,
             "#fde0ef"
            ],
            [
             0.5,
             "#f7f7f7"
            ],
            [
             0.6,
             "#e6f5d0"
            ],
            [
             0.7,
             "#b8e186"
            ],
            [
             0.8,
             "#7fbc41"
            ],
            [
             0.9,
             "#4d9221"
            ],
            [
             1,
             "#276419"
            ]
           ],
           "sequential": [
            [
             0,
             "#0d0887"
            ],
            [
             0.1111111111111111,
             "#46039f"
            ],
            [
             0.2222222222222222,
             "#7201a8"
            ],
            [
             0.3333333333333333,
             "#9c179e"
            ],
            [
             0.4444444444444444,
             "#bd3786"
            ],
            [
             0.5555555555555556,
             "#d8576b"
            ],
            [
             0.6666666666666666,
             "#ed7953"
            ],
            [
             0.7777777777777778,
             "#fb9f3a"
            ],
            [
             0.8888888888888888,
             "#fdca26"
            ],
            [
             1,
             "#f0f921"
            ]
           ],
           "sequentialminus": [
            [
             0,
             "#0d0887"
            ],
            [
             0.1111111111111111,
             "#46039f"
            ],
            [
             0.2222222222222222,
             "#7201a8"
            ],
            [
             0.3333333333333333,
             "#9c179e"
            ],
            [
             0.4444444444444444,
             "#bd3786"
            ],
            [
             0.5555555555555556,
             "#d8576b"
            ],
            [
             0.6666666666666666,
             "#ed7953"
            ],
            [
             0.7777777777777778,
             "#fb9f3a"
            ],
            [
             0.8888888888888888,
             "#fdca26"
            ],
            [
             1,
             "#f0f921"
            ]
           ]
          },
          "colorway": [
           "#636efa",
           "#EF553B",
           "#00cc96",
           "#ab63fa",
           "#FFA15A",
           "#19d3f3",
           "#FF6692",
           "#B6E880",
           "#FF97FF",
           "#FECB52"
          ],
          "font": {
           "color": "#2a3f5f"
          },
          "geo": {
           "bgcolor": "white",
           "lakecolor": "white",
           "landcolor": "#E5ECF6",
           "showlakes": true,
           "showland": true,
           "subunitcolor": "white"
          },
          "hoverlabel": {
           "align": "left"
          },
          "hovermode": "closest",
          "mapbox": {
           "style": "light"
          },
          "paper_bgcolor": "white",
          "plot_bgcolor": "#E5ECF6",
          "polar": {
           "angularaxis": {
            "gridcolor": "white",
            "linecolor": "white",
            "ticks": ""
           },
           "bgcolor": "#E5ECF6",
           "radialaxis": {
            "gridcolor": "white",
            "linecolor": "white",
            "ticks": ""
           }
          },
          "scene": {
           "xaxis": {
            "backgroundcolor": "#E5ECF6",
            "gridcolor": "white",
            "gridwidth": 2,
            "linecolor": "white",
            "showbackground": true,
            "ticks": "",
            "zerolinecolor": "white"
           },
           "yaxis": {
            "backgroundcolor": "#E5ECF6",
            "gridcolor": "white",
            "gridwidth": 2,
            "linecolor": "white",
            "showbackground": true,
            "ticks": "",
            "zerolinecolor": "white"
           },
           "zaxis": {
            "backgroundcolor": "#E5ECF6",
            "gridcolor": "white",
            "gridwidth": 2,
            "linecolor": "white",
            "showbackground": true,
            "ticks": "",
            "zerolinecolor": "white"
           }
          },
          "shapedefaults": {
           "line": {
            "color": "#2a3f5f"
           }
          },
          "ternary": {
           "aaxis": {
            "gridcolor": "white",
            "linecolor": "white",
            "ticks": ""
           },
           "baxis": {
            "gridcolor": "white",
            "linecolor": "white",
            "ticks": ""
           },
           "bgcolor": "#E5ECF6",
           "caxis": {
            "gridcolor": "white",
            "linecolor": "white",
            "ticks": ""
           }
          },
          "title": {
           "x": 0.05
          },
          "xaxis": {
           "automargin": true,
           "gridcolor": "white",
           "linecolor": "white",
           "ticks": "",
           "title": {
            "standoff": 15
           },
           "zerolinecolor": "white",
           "zerolinewidth": 2
          },
          "yaxis": {
           "automargin": true,
           "gridcolor": "white",
           "linecolor": "white",
           "ticks": "",
           "title": {
            "standoff": 15
           },
           "zerolinecolor": "white",
           "zerolinewidth": 2
          }
         }
        },
        "width": 1100,
        "xaxis": {
         "anchor": "y",
         "domain": [
          0,
          1
         ],
         "showgrid": true,
         "visible": true,
         "zeroline": false
        },
        "yaxis": {
         "anchor": "x",
         "autorange": "reversed",
         "domain": [
          0,
          1
         ],
         "scaleanchor": "x",
         "scaleratio": 1,
         "showgrid": true,
         "visible": true
        }
       }
      }
     },
     "metadata": {},
     "output_type": "display_data"
    }
   ],
   "source": [
    "qecplot = QECPlot(circ)\n",
    "qecplot.plot_logical_qubit(\"Q1\")\n",
    "qecplot.show()"
   ]
  },
  {
   "cell_type": "markdown",
   "metadata": {},
   "source": [
    "Now we add syndrome extraction cycles for both logical qubits:"
   ]
  },
  {
   "cell_type": "code",
   "execution_count": 4,
   "metadata": {},
   "outputs": [],
   "source": [
    "uuids_before_grow = (\n",
    "    circ.add_par_def_syndrome_extraction_circuit_all_log_qbs()\n",
    ")"
   ]
  },
  {
   "cell_type": "markdown",
   "metadata": {},
   "source": [
    "Grow"
   ]
  },
  {
   "cell_type": "code",
   "execution_count": 5,
   "metadata": {},
   "outputs": [],
   "source": [
    "circ.grow(\"Q1\", 2, \"r\")"
   ]
  },
  {
   "cell_type": "code",
   "execution_count": 6,
   "metadata": {},
   "outputs": [],
   "source": [
    "uuids_after_grow = (\n",
    "    circ.add_par_def_syndrome_extraction_circuit_all_log_qbs()\n",
    ")"
   ]
  },
  {
   "cell_type": "code",
   "execution_count": 7,
   "metadata": {},
   "outputs": [
    {
     "data": {
      "application/vnd.plotly.v1+json": {
       "config": {
        "plotlyServerURL": "https://plot.ly"
       },
       "data": [
        {
         "hoverinfo": "text",
         "legendgroup": "qpu_dqbs",
         "marker": {
          "color": "gray",
          "line": {
           "color": "darkred",
           "width": 1
          },
          "size": 25,
          "symbol": "circle"
         },
         "mode": "markers+text",
         "name": "Data qubits",
         "showlegend": true,
         "text": "(0, 0, 0)",
         "textposition": "middle center",
         "type": "scatter",
         "x": [
          0
         ],
         "y": [
          0
         ]
        },
        {
         "hoverinfo": "text",
         "legendgroup": "qpu_dqbs",
         "marker": {
          "color": "gray",
          "line": {
           "color": "darkred",
           "width": 1
          },
          "size": 25,
          "symbol": "circle"
         },
         "mode": "markers+text",
         "name": "Data qubits",
         "showlegend": false,
         "text": "(1, 0, 0)",
         "textposition": "middle center",
         "type": "scatter",
         "x": [
          1
         ],
         "y": [
          0
         ]
        },
        {
         "hoverinfo": "text",
         "legendgroup": "qpu_dqbs",
         "marker": {
          "color": "gray",
          "line": {
           "color": "darkred",
           "width": 1
          },
          "size": 25,
          "symbol": "circle"
         },
         "mode": "markers+text",
         "name": "Data qubits",
         "showlegend": false,
         "text": "(2, 0, 0)",
         "textposition": "middle center",
         "type": "scatter",
         "x": [
          2
         ],
         "y": [
          0
         ]
        },
        {
         "hoverinfo": "text",
         "legendgroup": "qpu_dqbs",
         "marker": {
          "color": "gray",
          "line": {
           "color": "darkred",
           "width": 1
          },
          "size": 25,
          "symbol": "circle"
         },
         "mode": "markers+text",
         "name": "Data qubits",
         "showlegend": false,
         "text": "(3, 0, 0)",
         "textposition": "middle center",
         "type": "scatter",
         "x": [
          3
         ],
         "y": [
          0
         ]
        },
        {
         "hoverinfo": "text",
         "legendgroup": "qpu_dqbs",
         "marker": {
          "color": "gray",
          "line": {
           "color": "darkred",
           "width": 1
          },
          "size": 25,
          "symbol": "circle"
         },
         "mode": "markers+text",
         "name": "Data qubits",
         "showlegend": false,
         "text": "(4, 0, 0)",
         "textposition": "middle center",
         "type": "scatter",
         "x": [
          4
         ],
         "y": [
          0
         ]
        },
        {
         "hoverinfo": "text",
         "legendgroup": "qpu_dqbs",
         "marker": {
          "color": "gray",
          "line": {
           "color": "darkred",
           "width": 1
          },
          "size": 25,
          "symbol": "circle"
         },
         "mode": "markers+text",
         "name": "Data qubits",
         "showlegend": false,
         "text": "(5, 0, 0)",
         "textposition": "middle center",
         "type": "scatter",
         "x": [
          5
         ],
         "y": [
          0
         ]
        },
        {
         "hoverinfo": "text",
         "legendgroup": "qpu_dqbs",
         "marker": {
          "color": "gray",
          "line": {
           "color": "darkred",
           "width": 1
          },
          "size": 25,
          "symbol": "circle"
         },
         "mode": "markers+text",
         "name": "Data qubits",
         "showlegend": false,
         "text": "(6, 0, 0)",
         "textposition": "middle center",
         "type": "scatter",
         "x": [
          6
         ],
         "y": [
          0
         ]
        },
        {
         "hoverinfo": "text",
         "legendgroup": "qpu_dqbs",
         "marker": {
          "color": "gray",
          "line": {
           "color": "darkred",
           "width": 1
          },
          "size": 25,
          "symbol": "circle"
         },
         "mode": "markers+text",
         "name": "Data qubits",
         "showlegend": false,
         "text": "(0, 1, 0)",
         "textposition": "middle center",
         "type": "scatter",
         "x": [
          0
         ],
         "y": [
          1
         ]
        },
        {
         "hoverinfo": "text",
         "legendgroup": "qpu_dqbs",
         "marker": {
          "color": "gray",
          "line": {
           "color": "darkred",
           "width": 1
          },
          "size": 25,
          "symbol": "circle"
         },
         "mode": "markers+text",
         "name": "Data qubits",
         "showlegend": false,
         "text": "(1, 1, 0)",
         "textposition": "middle center",
         "type": "scatter",
         "x": [
          1
         ],
         "y": [
          1
         ]
        },
        {
         "hoverinfo": "text",
         "legendgroup": "qpu_dqbs",
         "marker": {
          "color": "gray",
          "line": {
           "color": "darkred",
           "width": 1
          },
          "size": 25,
          "symbol": "circle"
         },
         "mode": "markers+text",
         "name": "Data qubits",
         "showlegend": false,
         "text": "(2, 1, 0)",
         "textposition": "middle center",
         "type": "scatter",
         "x": [
          2
         ],
         "y": [
          1
         ]
        },
        {
         "hoverinfo": "text",
         "legendgroup": "qpu_dqbs",
         "marker": {
          "color": "gray",
          "line": {
           "color": "darkred",
           "width": 1
          },
          "size": 25,
          "symbol": "circle"
         },
         "mode": "markers+text",
         "name": "Data qubits",
         "showlegend": false,
         "text": "(3, 1, 0)",
         "textposition": "middle center",
         "type": "scatter",
         "x": [
          3
         ],
         "y": [
          1
         ]
        },
        {
         "hoverinfo": "text",
         "legendgroup": "qpu_dqbs",
         "marker": {
          "color": "gray",
          "line": {
           "color": "darkred",
           "width": 1
          },
          "size": 25,
          "symbol": "circle"
         },
         "mode": "markers+text",
         "name": "Data qubits",
         "showlegend": false,
         "text": "(4, 1, 0)",
         "textposition": "middle center",
         "type": "scatter",
         "x": [
          4
         ],
         "y": [
          1
         ]
        },
        {
         "hoverinfo": "text",
         "legendgroup": "qpu_dqbs",
         "marker": {
          "color": "gray",
          "line": {
           "color": "darkred",
           "width": 1
          },
          "size": 25,
          "symbol": "circle"
         },
         "mode": "markers+text",
         "name": "Data qubits",
         "showlegend": false,
         "text": "(5, 1, 0)",
         "textposition": "middle center",
         "type": "scatter",
         "x": [
          5
         ],
         "y": [
          1
         ]
        },
        {
         "hoverinfo": "text",
         "legendgroup": "qpu_dqbs",
         "marker": {
          "color": "gray",
          "line": {
           "color": "darkred",
           "width": 1
          },
          "size": 25,
          "symbol": "circle"
         },
         "mode": "markers+text",
         "name": "Data qubits",
         "showlegend": false,
         "text": "(6, 1, 0)",
         "textposition": "middle center",
         "type": "scatter",
         "x": [
          6
         ],
         "y": [
          1
         ]
        },
        {
         "hoverinfo": "text",
         "legendgroup": "qpu_dqbs",
         "marker": {
          "color": "gray",
          "line": {
           "color": "darkred",
           "width": 1
          },
          "size": 25,
          "symbol": "circle"
         },
         "mode": "markers+text",
         "name": "Data qubits",
         "showlegend": false,
         "text": "(0, 2, 0)",
         "textposition": "middle center",
         "type": "scatter",
         "x": [
          0
         ],
         "y": [
          2
         ]
        },
        {
         "hoverinfo": "text",
         "legendgroup": "qpu_dqbs",
         "marker": {
          "color": "gray",
          "line": {
           "color": "darkred",
           "width": 1
          },
          "size": 25,
          "symbol": "circle"
         },
         "mode": "markers+text",
         "name": "Data qubits",
         "showlegend": false,
         "text": "(1, 2, 0)",
         "textposition": "middle center",
         "type": "scatter",
         "x": [
          1
         ],
         "y": [
          2
         ]
        },
        {
         "hoverinfo": "text",
         "legendgroup": "qpu_dqbs",
         "marker": {
          "color": "gray",
          "line": {
           "color": "darkred",
           "width": 1
          },
          "size": 25,
          "symbol": "circle"
         },
         "mode": "markers+text",
         "name": "Data qubits",
         "showlegend": false,
         "text": "(2, 2, 0)",
         "textposition": "middle center",
         "type": "scatter",
         "x": [
          2
         ],
         "y": [
          2
         ]
        },
        {
         "hoverinfo": "text",
         "legendgroup": "qpu_dqbs",
         "marker": {
          "color": "gray",
          "line": {
           "color": "darkred",
           "width": 1
          },
          "size": 25,
          "symbol": "circle"
         },
         "mode": "markers+text",
         "name": "Data qubits",
         "showlegend": false,
         "text": "(3, 2, 0)",
         "textposition": "middle center",
         "type": "scatter",
         "x": [
          3
         ],
         "y": [
          2
         ]
        },
        {
         "hoverinfo": "text",
         "legendgroup": "qpu_dqbs",
         "marker": {
          "color": "gray",
          "line": {
           "color": "darkred",
           "width": 1
          },
          "size": 25,
          "symbol": "circle"
         },
         "mode": "markers+text",
         "name": "Data qubits",
         "showlegend": false,
         "text": "(4, 2, 0)",
         "textposition": "middle center",
         "type": "scatter",
         "x": [
          4
         ],
         "y": [
          2
         ]
        },
        {
         "hoverinfo": "text",
         "legendgroup": "qpu_dqbs",
         "marker": {
          "color": "gray",
          "line": {
           "color": "darkred",
           "width": 1
          },
          "size": 25,
          "symbol": "circle"
         },
         "mode": "markers+text",
         "name": "Data qubits",
         "showlegend": false,
         "text": "(5, 2, 0)",
         "textposition": "middle center",
         "type": "scatter",
         "x": [
          5
         ],
         "y": [
          2
         ]
        },
        {
         "hoverinfo": "text",
         "legendgroup": "qpu_dqbs",
         "marker": {
          "color": "gray",
          "line": {
           "color": "darkred",
           "width": 1
          },
          "size": 25,
          "symbol": "circle"
         },
         "mode": "markers+text",
         "name": "Data qubits",
         "showlegend": false,
         "text": "(6, 2, 0)",
         "textposition": "middle center",
         "type": "scatter",
         "x": [
          6
         ],
         "y": [
          2
         ]
        },
        {
         "hoverinfo": "text",
         "legendgroup": "qpu_dqbs",
         "marker": {
          "color": "gray",
          "line": {
           "color": "darkred",
           "width": 1
          },
          "size": 25,
          "symbol": "circle"
         },
         "mode": "markers+text",
         "name": "Data qubits",
         "showlegend": false,
         "text": "(0, 3, 0)",
         "textposition": "middle center",
         "type": "scatter",
         "x": [
          0
         ],
         "y": [
          3
         ]
        },
        {
         "hoverinfo": "text",
         "legendgroup": "qpu_dqbs",
         "marker": {
          "color": "gray",
          "line": {
           "color": "darkred",
           "width": 1
          },
          "size": 25,
          "symbol": "circle"
         },
         "mode": "markers+text",
         "name": "Data qubits",
         "showlegend": false,
         "text": "(1, 3, 0)",
         "textposition": "middle center",
         "type": "scatter",
         "x": [
          1
         ],
         "y": [
          3
         ]
        },
        {
         "hoverinfo": "text",
         "legendgroup": "qpu_dqbs",
         "marker": {
          "color": "gray",
          "line": {
           "color": "darkred",
           "width": 1
          },
          "size": 25,
          "symbol": "circle"
         },
         "mode": "markers+text",
         "name": "Data qubits",
         "showlegend": false,
         "text": "(2, 3, 0)",
         "textposition": "middle center",
         "type": "scatter",
         "x": [
          2
         ],
         "y": [
          3
         ]
        },
        {
         "hoverinfo": "text",
         "legendgroup": "qpu_dqbs",
         "marker": {
          "color": "gray",
          "line": {
           "color": "darkred",
           "width": 1
          },
          "size": 25,
          "symbol": "circle"
         },
         "mode": "markers+text",
         "name": "Data qubits",
         "showlegend": false,
         "text": "(3, 3, 0)",
         "textposition": "middle center",
         "type": "scatter",
         "x": [
          3
         ],
         "y": [
          3
         ]
        },
        {
         "hoverinfo": "text",
         "legendgroup": "qpu_dqbs",
         "marker": {
          "color": "gray",
          "line": {
           "color": "darkred",
           "width": 1
          },
          "size": 25,
          "symbol": "circle"
         },
         "mode": "markers+text",
         "name": "Data qubits",
         "showlegend": false,
         "text": "(4, 3, 0)",
         "textposition": "middle center",
         "type": "scatter",
         "x": [
          4
         ],
         "y": [
          3
         ]
        },
        {
         "hoverinfo": "text",
         "legendgroup": "qpu_dqbs",
         "marker": {
          "color": "gray",
          "line": {
           "color": "darkred",
           "width": 1
          },
          "size": 25,
          "symbol": "circle"
         },
         "mode": "markers+text",
         "name": "Data qubits",
         "showlegend": false,
         "text": "(5, 3, 0)",
         "textposition": "middle center",
         "type": "scatter",
         "x": [
          5
         ],
         "y": [
          3
         ]
        },
        {
         "hoverinfo": "text",
         "legendgroup": "qpu_dqbs",
         "marker": {
          "color": "gray",
          "line": {
           "color": "darkred",
           "width": 1
          },
          "size": 25,
          "symbol": "circle"
         },
         "mode": "markers+text",
         "name": "Data qubits",
         "showlegend": false,
         "text": "(6, 3, 0)",
         "textposition": "middle center",
         "type": "scatter",
         "x": [
          6
         ],
         "y": [
          3
         ]
        },
        {
         "hoverinfo": "text",
         "legendgroup": "qpu_dqbs",
         "marker": {
          "color": "gray",
          "line": {
           "color": "darkred",
           "width": 1
          },
          "size": 25,
          "symbol": "circle"
         },
         "mode": "markers+text",
         "name": "Data qubits",
         "showlegend": false,
         "text": "(0, 4, 0)",
         "textposition": "middle center",
         "type": "scatter",
         "x": [
          0
         ],
         "y": [
          4
         ]
        },
        {
         "hoverinfo": "text",
         "legendgroup": "qpu_dqbs",
         "marker": {
          "color": "gray",
          "line": {
           "color": "darkred",
           "width": 1
          },
          "size": 25,
          "symbol": "circle"
         },
         "mode": "markers+text",
         "name": "Data qubits",
         "showlegend": false,
         "text": "(1, 4, 0)",
         "textposition": "middle center",
         "type": "scatter",
         "x": [
          1
         ],
         "y": [
          4
         ]
        },
        {
         "hoverinfo": "text",
         "legendgroup": "qpu_dqbs",
         "marker": {
          "color": "gray",
          "line": {
           "color": "darkred",
           "width": 1
          },
          "size": 25,
          "symbol": "circle"
         },
         "mode": "markers+text",
         "name": "Data qubits",
         "showlegend": false,
         "text": "(2, 4, 0)",
         "textposition": "middle center",
         "type": "scatter",
         "x": [
          2
         ],
         "y": [
          4
         ]
        },
        {
         "hoverinfo": "text",
         "legendgroup": "qpu_dqbs",
         "marker": {
          "color": "gray",
          "line": {
           "color": "darkred",
           "width": 1
          },
          "size": 25,
          "symbol": "circle"
         },
         "mode": "markers+text",
         "name": "Data qubits",
         "showlegend": false,
         "text": "(3, 4, 0)",
         "textposition": "middle center",
         "type": "scatter",
         "x": [
          3
         ],
         "y": [
          4
         ]
        },
        {
         "hoverinfo": "text",
         "legendgroup": "qpu_dqbs",
         "marker": {
          "color": "gray",
          "line": {
           "color": "darkred",
           "width": 1
          },
          "size": 25,
          "symbol": "circle"
         },
         "mode": "markers+text",
         "name": "Data qubits",
         "showlegend": false,
         "text": "(4, 4, 0)",
         "textposition": "middle center",
         "type": "scatter",
         "x": [
          4
         ],
         "y": [
          4
         ]
        },
        {
         "hoverinfo": "text",
         "legendgroup": "qpu_dqbs",
         "marker": {
          "color": "gray",
          "line": {
           "color": "darkred",
           "width": 1
          },
          "size": 25,
          "symbol": "circle"
         },
         "mode": "markers+text",
         "name": "Data qubits",
         "showlegend": false,
         "text": "(5, 4, 0)",
         "textposition": "middle center",
         "type": "scatter",
         "x": [
          5
         ],
         "y": [
          4
         ]
        },
        {
         "hoverinfo": "text",
         "legendgroup": "qpu_dqbs",
         "marker": {
          "color": "gray",
          "line": {
           "color": "darkred",
           "width": 1
          },
          "size": 25,
          "symbol": "circle"
         },
         "mode": "markers+text",
         "name": "Data qubits",
         "showlegend": false,
         "text": "(6, 4, 0)",
         "textposition": "middle center",
         "type": "scatter",
         "x": [
          6
         ],
         "y": [
          4
         ]
        },
        {
         "hoverinfo": "text",
         "legendgroup": "qpu_dqbs",
         "marker": {
          "color": "gray",
          "line": {
           "color": "darkred",
           "width": 1
          },
          "size": 25,
          "symbol": "circle"
         },
         "mode": "markers+text",
         "name": "Data qubits",
         "showlegend": false,
         "text": "(0, 5, 0)",
         "textposition": "middle center",
         "type": "scatter",
         "x": [
          0
         ],
         "y": [
          5
         ]
        },
        {
         "hoverinfo": "text",
         "legendgroup": "qpu_dqbs",
         "marker": {
          "color": "gray",
          "line": {
           "color": "darkred",
           "width": 1
          },
          "size": 25,
          "symbol": "circle"
         },
         "mode": "markers+text",
         "name": "Data qubits",
         "showlegend": false,
         "text": "(1, 5, 0)",
         "textposition": "middle center",
         "type": "scatter",
         "x": [
          1
         ],
         "y": [
          5
         ]
        },
        {
         "hoverinfo": "text",
         "legendgroup": "qpu_dqbs",
         "marker": {
          "color": "gray",
          "line": {
           "color": "darkred",
           "width": 1
          },
          "size": 25,
          "symbol": "circle"
         },
         "mode": "markers+text",
         "name": "Data qubits",
         "showlegend": false,
         "text": "(2, 5, 0)",
         "textposition": "middle center",
         "type": "scatter",
         "x": [
          2
         ],
         "y": [
          5
         ]
        },
        {
         "hoverinfo": "text",
         "legendgroup": "qpu_dqbs",
         "marker": {
          "color": "gray",
          "line": {
           "color": "darkred",
           "width": 1
          },
          "size": 25,
          "symbol": "circle"
         },
         "mode": "markers+text",
         "name": "Data qubits",
         "showlegend": false,
         "text": "(3, 5, 0)",
         "textposition": "middle center",
         "type": "scatter",
         "x": [
          3
         ],
         "y": [
          5
         ]
        },
        {
         "hoverinfo": "text",
         "legendgroup": "qpu_dqbs",
         "marker": {
          "color": "gray",
          "line": {
           "color": "darkred",
           "width": 1
          },
          "size": 25,
          "symbol": "circle"
         },
         "mode": "markers+text",
         "name": "Data qubits",
         "showlegend": false,
         "text": "(4, 5, 0)",
         "textposition": "middle center",
         "type": "scatter",
         "x": [
          4
         ],
         "y": [
          5
         ]
        },
        {
         "hoverinfo": "text",
         "legendgroup": "qpu_dqbs",
         "marker": {
          "color": "gray",
          "line": {
           "color": "darkred",
           "width": 1
          },
          "size": 25,
          "symbol": "circle"
         },
         "mode": "markers+text",
         "name": "Data qubits",
         "showlegend": false,
         "text": "(5, 5, 0)",
         "textposition": "middle center",
         "type": "scatter",
         "x": [
          5
         ],
         "y": [
          5
         ]
        },
        {
         "hoverinfo": "text",
         "legendgroup": "qpu_dqbs",
         "marker": {
          "color": "gray",
          "line": {
           "color": "darkred",
           "width": 1
          },
          "size": 25,
          "symbol": "circle"
         },
         "mode": "markers+text",
         "name": "Data qubits",
         "showlegend": false,
         "text": "(6, 5, 0)",
         "textposition": "middle center",
         "type": "scatter",
         "x": [
          6
         ],
         "y": [
          5
         ]
        },
        {
         "hoverinfo": "text",
         "legendgroup": "qpu_aqbs",
         "marker": {
          "color": "lightgray",
          "line": {
           "color": "darkred",
           "width": 1
          },
          "size": 15,
          "symbol": "circle"
         },
         "mode": "markers+text",
         "name": "Ancilla qubits",
         "showlegend": true,
         "text": "(0, 0, 1)",
         "textposition": "middle center",
         "type": "scatter",
         "x": [
          -0.5
         ],
         "y": [
          -0.5
         ]
        },
        {
         "hoverinfo": "text",
         "legendgroup": "qpu_aqbs",
         "marker": {
          "color": "lightgray",
          "line": {
           "color": "darkred",
           "width": 1
          },
          "size": 15,
          "symbol": "circle"
         },
         "mode": "markers+text",
         "name": "Ancilla qubits",
         "showlegend": false,
         "text": "(1, 0, 1)",
         "textposition": "middle center",
         "type": "scatter",
         "x": [
          0.5
         ],
         "y": [
          -0.5
         ]
        },
        {
         "hoverinfo": "text",
         "legendgroup": "qpu_aqbs",
         "marker": {
          "color": "lightgray",
          "line": {
           "color": "darkred",
           "width": 1
          },
          "size": 15,
          "symbol": "circle"
         },
         "mode": "markers+text",
         "name": "Ancilla qubits",
         "showlegend": false,
         "text": "(2, 0, 1)",
         "textposition": "middle center",
         "type": "scatter",
         "x": [
          1.5
         ],
         "y": [
          -0.5
         ]
        },
        {
         "hoverinfo": "text",
         "legendgroup": "qpu_aqbs",
         "marker": {
          "color": "lightgray",
          "line": {
           "color": "darkred",
           "width": 1
          },
          "size": 15,
          "symbol": "circle"
         },
         "mode": "markers+text",
         "name": "Ancilla qubits",
         "showlegend": false,
         "text": "(3, 0, 1)",
         "textposition": "middle center",
         "type": "scatter",
         "x": [
          2.5
         ],
         "y": [
          -0.5
         ]
        },
        {
         "hoverinfo": "text",
         "legendgroup": "qpu_aqbs",
         "marker": {
          "color": "lightgray",
          "line": {
           "color": "darkred",
           "width": 1
          },
          "size": 15,
          "symbol": "circle"
         },
         "mode": "markers+text",
         "name": "Ancilla qubits",
         "showlegend": false,
         "text": "(4, 0, 1)",
         "textposition": "middle center",
         "type": "scatter",
         "x": [
          3.5
         ],
         "y": [
          -0.5
         ]
        },
        {
         "hoverinfo": "text",
         "legendgroup": "qpu_aqbs",
         "marker": {
          "color": "lightgray",
          "line": {
           "color": "darkred",
           "width": 1
          },
          "size": 15,
          "symbol": "circle"
         },
         "mode": "markers+text",
         "name": "Ancilla qubits",
         "showlegend": false,
         "text": "(5, 0, 1)",
         "textposition": "middle center",
         "type": "scatter",
         "x": [
          4.5
         ],
         "y": [
          -0.5
         ]
        },
        {
         "hoverinfo": "text",
         "legendgroup": "qpu_aqbs",
         "marker": {
          "color": "lightgray",
          "line": {
           "color": "darkred",
           "width": 1
          },
          "size": 15,
          "symbol": "circle"
         },
         "mode": "markers+text",
         "name": "Ancilla qubits",
         "showlegend": false,
         "text": "(6, 0, 1)",
         "textposition": "middle center",
         "type": "scatter",
         "x": [
          5.5
         ],
         "y": [
          -0.5
         ]
        },
        {
         "hoverinfo": "text",
         "legendgroup": "qpu_aqbs",
         "marker": {
          "color": "lightgray",
          "line": {
           "color": "darkred",
           "width": 1
          },
          "size": 15,
          "symbol": "circle"
         },
         "mode": "markers+text",
         "name": "Ancilla qubits",
         "showlegend": false,
         "text": "(7, 0, 1)",
         "textposition": "middle center",
         "type": "scatter",
         "x": [
          6.5
         ],
         "y": [
          -0.5
         ]
        },
        {
         "hoverinfo": "text",
         "legendgroup": "qpu_aqbs",
         "marker": {
          "color": "lightgray",
          "line": {
           "color": "darkred",
           "width": 1
          },
          "size": 15,
          "symbol": "circle"
         },
         "mode": "markers+text",
         "name": "Ancilla qubits",
         "showlegend": false,
         "text": "(0, 1, 1)",
         "textposition": "middle center",
         "type": "scatter",
         "x": [
          -0.5
         ],
         "y": [
          0.5
         ]
        },
        {
         "hoverinfo": "text",
         "legendgroup": "qpu_aqbs",
         "marker": {
          "color": "lightgray",
          "line": {
           "color": "darkred",
           "width": 1
          },
          "size": 15,
          "symbol": "circle"
         },
         "mode": "markers+text",
         "name": "Ancilla qubits",
         "showlegend": false,
         "text": "(1, 1, 1)",
         "textposition": "middle center",
         "type": "scatter",
         "x": [
          0.5
         ],
         "y": [
          0.5
         ]
        },
        {
         "hoverinfo": "text",
         "legendgroup": "qpu_aqbs",
         "marker": {
          "color": "lightgray",
          "line": {
           "color": "darkred",
           "width": 1
          },
          "size": 15,
          "symbol": "circle"
         },
         "mode": "markers+text",
         "name": "Ancilla qubits",
         "showlegend": false,
         "text": "(2, 1, 1)",
         "textposition": "middle center",
         "type": "scatter",
         "x": [
          1.5
         ],
         "y": [
          0.5
         ]
        },
        {
         "hoverinfo": "text",
         "legendgroup": "qpu_aqbs",
         "marker": {
          "color": "lightgray",
          "line": {
           "color": "darkred",
           "width": 1
          },
          "size": 15,
          "symbol": "circle"
         },
         "mode": "markers+text",
         "name": "Ancilla qubits",
         "showlegend": false,
         "text": "(3, 1, 1)",
         "textposition": "middle center",
         "type": "scatter",
         "x": [
          2.5
         ],
         "y": [
          0.5
         ]
        },
        {
         "hoverinfo": "text",
         "legendgroup": "qpu_aqbs",
         "marker": {
          "color": "lightgray",
          "line": {
           "color": "darkred",
           "width": 1
          },
          "size": 15,
          "symbol": "circle"
         },
         "mode": "markers+text",
         "name": "Ancilla qubits",
         "showlegend": false,
         "text": "(4, 1, 1)",
         "textposition": "middle center",
         "type": "scatter",
         "x": [
          3.5
         ],
         "y": [
          0.5
         ]
        },
        {
         "hoverinfo": "text",
         "legendgroup": "qpu_aqbs",
         "marker": {
          "color": "lightgray",
          "line": {
           "color": "darkred",
           "width": 1
          },
          "size": 15,
          "symbol": "circle"
         },
         "mode": "markers+text",
         "name": "Ancilla qubits",
         "showlegend": false,
         "text": "(5, 1, 1)",
         "textposition": "middle center",
         "type": "scatter",
         "x": [
          4.5
         ],
         "y": [
          0.5
         ]
        },
        {
         "hoverinfo": "text",
         "legendgroup": "qpu_aqbs",
         "marker": {
          "color": "lightgray",
          "line": {
           "color": "darkred",
           "width": 1
          },
          "size": 15,
          "symbol": "circle"
         },
         "mode": "markers+text",
         "name": "Ancilla qubits",
         "showlegend": false,
         "text": "(6, 1, 1)",
         "textposition": "middle center",
         "type": "scatter",
         "x": [
          5.5
         ],
         "y": [
          0.5
         ]
        },
        {
         "hoverinfo": "text",
         "legendgroup": "qpu_aqbs",
         "marker": {
          "color": "lightgray",
          "line": {
           "color": "darkred",
           "width": 1
          },
          "size": 15,
          "symbol": "circle"
         },
         "mode": "markers+text",
         "name": "Ancilla qubits",
         "showlegend": false,
         "text": "(7, 1, 1)",
         "textposition": "middle center",
         "type": "scatter",
         "x": [
          6.5
         ],
         "y": [
          0.5
         ]
        },
        {
         "hoverinfo": "text",
         "legendgroup": "qpu_aqbs",
         "marker": {
          "color": "lightgray",
          "line": {
           "color": "darkred",
           "width": 1
          },
          "size": 15,
          "symbol": "circle"
         },
         "mode": "markers+text",
         "name": "Ancilla qubits",
         "showlegend": false,
         "text": "(0, 2, 1)",
         "textposition": "middle center",
         "type": "scatter",
         "x": [
          -0.5
         ],
         "y": [
          1.5
         ]
        },
        {
         "hoverinfo": "text",
         "legendgroup": "qpu_aqbs",
         "marker": {
          "color": "lightgray",
          "line": {
           "color": "darkred",
           "width": 1
          },
          "size": 15,
          "symbol": "circle"
         },
         "mode": "markers+text",
         "name": "Ancilla qubits",
         "showlegend": false,
         "text": "(1, 2, 1)",
         "textposition": "middle center",
         "type": "scatter",
         "x": [
          0.5
         ],
         "y": [
          1.5
         ]
        },
        {
         "hoverinfo": "text",
         "legendgroup": "qpu_aqbs",
         "marker": {
          "color": "lightgray",
          "line": {
           "color": "darkred",
           "width": 1
          },
          "size": 15,
          "symbol": "circle"
         },
         "mode": "markers+text",
         "name": "Ancilla qubits",
         "showlegend": false,
         "text": "(2, 2, 1)",
         "textposition": "middle center",
         "type": "scatter",
         "x": [
          1.5
         ],
         "y": [
          1.5
         ]
        },
        {
         "hoverinfo": "text",
         "legendgroup": "qpu_aqbs",
         "marker": {
          "color": "lightgray",
          "line": {
           "color": "darkred",
           "width": 1
          },
          "size": 15,
          "symbol": "circle"
         },
         "mode": "markers+text",
         "name": "Ancilla qubits",
         "showlegend": false,
         "text": "(3, 2, 1)",
         "textposition": "middle center",
         "type": "scatter",
         "x": [
          2.5
         ],
         "y": [
          1.5
         ]
        },
        {
         "hoverinfo": "text",
         "legendgroup": "qpu_aqbs",
         "marker": {
          "color": "lightgray",
          "line": {
           "color": "darkred",
           "width": 1
          },
          "size": 15,
          "symbol": "circle"
         },
         "mode": "markers+text",
         "name": "Ancilla qubits",
         "showlegend": false,
         "text": "(4, 2, 1)",
         "textposition": "middle center",
         "type": "scatter",
         "x": [
          3.5
         ],
         "y": [
          1.5
         ]
        },
        {
         "hoverinfo": "text",
         "legendgroup": "qpu_aqbs",
         "marker": {
          "color": "lightgray",
          "line": {
           "color": "darkred",
           "width": 1
          },
          "size": 15,
          "symbol": "circle"
         },
         "mode": "markers+text",
         "name": "Ancilla qubits",
         "showlegend": false,
         "text": "(5, 2, 1)",
         "textposition": "middle center",
         "type": "scatter",
         "x": [
          4.5
         ],
         "y": [
          1.5
         ]
        },
        {
         "hoverinfo": "text",
         "legendgroup": "qpu_aqbs",
         "marker": {
          "color": "lightgray",
          "line": {
           "color": "darkred",
           "width": 1
          },
          "size": 15,
          "symbol": "circle"
         },
         "mode": "markers+text",
         "name": "Ancilla qubits",
         "showlegend": false,
         "text": "(6, 2, 1)",
         "textposition": "middle center",
         "type": "scatter",
         "x": [
          5.5
         ],
         "y": [
          1.5
         ]
        },
        {
         "hoverinfo": "text",
         "legendgroup": "qpu_aqbs",
         "marker": {
          "color": "lightgray",
          "line": {
           "color": "darkred",
           "width": 1
          },
          "size": 15,
          "symbol": "circle"
         },
         "mode": "markers+text",
         "name": "Ancilla qubits",
         "showlegend": false,
         "text": "(7, 2, 1)",
         "textposition": "middle center",
         "type": "scatter",
         "x": [
          6.5
         ],
         "y": [
          1.5
         ]
        },
        {
         "hoverinfo": "text",
         "legendgroup": "qpu_aqbs",
         "marker": {
          "color": "lightgray",
          "line": {
           "color": "darkred",
           "width": 1
          },
          "size": 15,
          "symbol": "circle"
         },
         "mode": "markers+text",
         "name": "Ancilla qubits",
         "showlegend": false,
         "text": "(0, 3, 1)",
         "textposition": "middle center",
         "type": "scatter",
         "x": [
          -0.5
         ],
         "y": [
          2.5
         ]
        },
        {
         "hoverinfo": "text",
         "legendgroup": "qpu_aqbs",
         "marker": {
          "color": "lightgray",
          "line": {
           "color": "darkred",
           "width": 1
          },
          "size": 15,
          "symbol": "circle"
         },
         "mode": "markers+text",
         "name": "Ancilla qubits",
         "showlegend": false,
         "text": "(1, 3, 1)",
         "textposition": "middle center",
         "type": "scatter",
         "x": [
          0.5
         ],
         "y": [
          2.5
         ]
        },
        {
         "hoverinfo": "text",
         "legendgroup": "qpu_aqbs",
         "marker": {
          "color": "lightgray",
          "line": {
           "color": "darkred",
           "width": 1
          },
          "size": 15,
          "symbol": "circle"
         },
         "mode": "markers+text",
         "name": "Ancilla qubits",
         "showlegend": false,
         "text": "(2, 3, 1)",
         "textposition": "middle center",
         "type": "scatter",
         "x": [
          1.5
         ],
         "y": [
          2.5
         ]
        },
        {
         "hoverinfo": "text",
         "legendgroup": "qpu_aqbs",
         "marker": {
          "color": "lightgray",
          "line": {
           "color": "darkred",
           "width": 1
          },
          "size": 15,
          "symbol": "circle"
         },
         "mode": "markers+text",
         "name": "Ancilla qubits",
         "showlegend": false,
         "text": "(3, 3, 1)",
         "textposition": "middle center",
         "type": "scatter",
         "x": [
          2.5
         ],
         "y": [
          2.5
         ]
        },
        {
         "hoverinfo": "text",
         "legendgroup": "qpu_aqbs",
         "marker": {
          "color": "lightgray",
          "line": {
           "color": "darkred",
           "width": 1
          },
          "size": 15,
          "symbol": "circle"
         },
         "mode": "markers+text",
         "name": "Ancilla qubits",
         "showlegend": false,
         "text": "(4, 3, 1)",
         "textposition": "middle center",
         "type": "scatter",
         "x": [
          3.5
         ],
         "y": [
          2.5
         ]
        },
        {
         "hoverinfo": "text",
         "legendgroup": "qpu_aqbs",
         "marker": {
          "color": "lightgray",
          "line": {
           "color": "darkred",
           "width": 1
          },
          "size": 15,
          "symbol": "circle"
         },
         "mode": "markers+text",
         "name": "Ancilla qubits",
         "showlegend": false,
         "text": "(5, 3, 1)",
         "textposition": "middle center",
         "type": "scatter",
         "x": [
          4.5
         ],
         "y": [
          2.5
         ]
        },
        {
         "hoverinfo": "text",
         "legendgroup": "qpu_aqbs",
         "marker": {
          "color": "lightgray",
          "line": {
           "color": "darkred",
           "width": 1
          },
          "size": 15,
          "symbol": "circle"
         },
         "mode": "markers+text",
         "name": "Ancilla qubits",
         "showlegend": false,
         "text": "(6, 3, 1)",
         "textposition": "middle center",
         "type": "scatter",
         "x": [
          5.5
         ],
         "y": [
          2.5
         ]
        },
        {
         "hoverinfo": "text",
         "legendgroup": "qpu_aqbs",
         "marker": {
          "color": "lightgray",
          "line": {
           "color": "darkred",
           "width": 1
          },
          "size": 15,
          "symbol": "circle"
         },
         "mode": "markers+text",
         "name": "Ancilla qubits",
         "showlegend": false,
         "text": "(7, 3, 1)",
         "textposition": "middle center",
         "type": "scatter",
         "x": [
          6.5
         ],
         "y": [
          2.5
         ]
        },
        {
         "hoverinfo": "text",
         "legendgroup": "qpu_aqbs",
         "marker": {
          "color": "lightgray",
          "line": {
           "color": "darkred",
           "width": 1
          },
          "size": 15,
          "symbol": "circle"
         },
         "mode": "markers+text",
         "name": "Ancilla qubits",
         "showlegend": false,
         "text": "(0, 4, 1)",
         "textposition": "middle center",
         "type": "scatter",
         "x": [
          -0.5
         ],
         "y": [
          3.5
         ]
        },
        {
         "hoverinfo": "text",
         "legendgroup": "qpu_aqbs",
         "marker": {
          "color": "lightgray",
          "line": {
           "color": "darkred",
           "width": 1
          },
          "size": 15,
          "symbol": "circle"
         },
         "mode": "markers+text",
         "name": "Ancilla qubits",
         "showlegend": false,
         "text": "(1, 4, 1)",
         "textposition": "middle center",
         "type": "scatter",
         "x": [
          0.5
         ],
         "y": [
          3.5
         ]
        },
        {
         "hoverinfo": "text",
         "legendgroup": "qpu_aqbs",
         "marker": {
          "color": "lightgray",
          "line": {
           "color": "darkred",
           "width": 1
          },
          "size": 15,
          "symbol": "circle"
         },
         "mode": "markers+text",
         "name": "Ancilla qubits",
         "showlegend": false,
         "text": "(2, 4, 1)",
         "textposition": "middle center",
         "type": "scatter",
         "x": [
          1.5
         ],
         "y": [
          3.5
         ]
        },
        {
         "hoverinfo": "text",
         "legendgroup": "qpu_aqbs",
         "marker": {
          "color": "lightgray",
          "line": {
           "color": "darkred",
           "width": 1
          },
          "size": 15,
          "symbol": "circle"
         },
         "mode": "markers+text",
         "name": "Ancilla qubits",
         "showlegend": false,
         "text": "(3, 4, 1)",
         "textposition": "middle center",
         "type": "scatter",
         "x": [
          2.5
         ],
         "y": [
          3.5
         ]
        },
        {
         "hoverinfo": "text",
         "legendgroup": "qpu_aqbs",
         "marker": {
          "color": "lightgray",
          "line": {
           "color": "darkred",
           "width": 1
          },
          "size": 15,
          "symbol": "circle"
         },
         "mode": "markers+text",
         "name": "Ancilla qubits",
         "showlegend": false,
         "text": "(4, 4, 1)",
         "textposition": "middle center",
         "type": "scatter",
         "x": [
          3.5
         ],
         "y": [
          3.5
         ]
        },
        {
         "hoverinfo": "text",
         "legendgroup": "qpu_aqbs",
         "marker": {
          "color": "lightgray",
          "line": {
           "color": "darkred",
           "width": 1
          },
          "size": 15,
          "symbol": "circle"
         },
         "mode": "markers+text",
         "name": "Ancilla qubits",
         "showlegend": false,
         "text": "(5, 4, 1)",
         "textposition": "middle center",
         "type": "scatter",
         "x": [
          4.5
         ],
         "y": [
          3.5
         ]
        },
        {
         "hoverinfo": "text",
         "legendgroup": "qpu_aqbs",
         "marker": {
          "color": "lightgray",
          "line": {
           "color": "darkred",
           "width": 1
          },
          "size": 15,
          "symbol": "circle"
         },
         "mode": "markers+text",
         "name": "Ancilla qubits",
         "showlegend": false,
         "text": "(6, 4, 1)",
         "textposition": "middle center",
         "type": "scatter",
         "x": [
          5.5
         ],
         "y": [
          3.5
         ]
        },
        {
         "hoverinfo": "text",
         "legendgroup": "qpu_aqbs",
         "marker": {
          "color": "lightgray",
          "line": {
           "color": "darkred",
           "width": 1
          },
          "size": 15,
          "symbol": "circle"
         },
         "mode": "markers+text",
         "name": "Ancilla qubits",
         "showlegend": false,
         "text": "(7, 4, 1)",
         "textposition": "middle center",
         "type": "scatter",
         "x": [
          6.5
         ],
         "y": [
          3.5
         ]
        },
        {
         "hoverinfo": "text",
         "legendgroup": "qpu_aqbs",
         "marker": {
          "color": "lightgray",
          "line": {
           "color": "darkred",
           "width": 1
          },
          "size": 15,
          "symbol": "circle"
         },
         "mode": "markers+text",
         "name": "Ancilla qubits",
         "showlegend": false,
         "text": "(0, 5, 1)",
         "textposition": "middle center",
         "type": "scatter",
         "x": [
          -0.5
         ],
         "y": [
          4.5
         ]
        },
        {
         "hoverinfo": "text",
         "legendgroup": "qpu_aqbs",
         "marker": {
          "color": "lightgray",
          "line": {
           "color": "darkred",
           "width": 1
          },
          "size": 15,
          "symbol": "circle"
         },
         "mode": "markers+text",
         "name": "Ancilla qubits",
         "showlegend": false,
         "text": "(1, 5, 1)",
         "textposition": "middle center",
         "type": "scatter",
         "x": [
          0.5
         ],
         "y": [
          4.5
         ]
        },
        {
         "hoverinfo": "text",
         "legendgroup": "qpu_aqbs",
         "marker": {
          "color": "lightgray",
          "line": {
           "color": "darkred",
           "width": 1
          },
          "size": 15,
          "symbol": "circle"
         },
         "mode": "markers+text",
         "name": "Ancilla qubits",
         "showlegend": false,
         "text": "(2, 5, 1)",
         "textposition": "middle center",
         "type": "scatter",
         "x": [
          1.5
         ],
         "y": [
          4.5
         ]
        },
        {
         "hoverinfo": "text",
         "legendgroup": "qpu_aqbs",
         "marker": {
          "color": "lightgray",
          "line": {
           "color": "darkred",
           "width": 1
          },
          "size": 15,
          "symbol": "circle"
         },
         "mode": "markers+text",
         "name": "Ancilla qubits",
         "showlegend": false,
         "text": "(3, 5, 1)",
         "textposition": "middle center",
         "type": "scatter",
         "x": [
          2.5
         ],
         "y": [
          4.5
         ]
        },
        {
         "hoverinfo": "text",
         "legendgroup": "qpu_aqbs",
         "marker": {
          "color": "lightgray",
          "line": {
           "color": "darkred",
           "width": 1
          },
          "size": 15,
          "symbol": "circle"
         },
         "mode": "markers+text",
         "name": "Ancilla qubits",
         "showlegend": false,
         "text": "(4, 5, 1)",
         "textposition": "middle center",
         "type": "scatter",
         "x": [
          3.5
         ],
         "y": [
          4.5
         ]
        },
        {
         "hoverinfo": "text",
         "legendgroup": "qpu_aqbs",
         "marker": {
          "color": "lightgray",
          "line": {
           "color": "darkred",
           "width": 1
          },
          "size": 15,
          "symbol": "circle"
         },
         "mode": "markers+text",
         "name": "Ancilla qubits",
         "showlegend": false,
         "text": "(5, 5, 1)",
         "textposition": "middle center",
         "type": "scatter",
         "x": [
          4.5
         ],
         "y": [
          4.5
         ]
        },
        {
         "hoverinfo": "text",
         "legendgroup": "qpu_aqbs",
         "marker": {
          "color": "lightgray",
          "line": {
           "color": "darkred",
           "width": 1
          },
          "size": 15,
          "symbol": "circle"
         },
         "mode": "markers+text",
         "name": "Ancilla qubits",
         "showlegend": false,
         "text": "(6, 5, 1)",
         "textposition": "middle center",
         "type": "scatter",
         "x": [
          5.5
         ],
         "y": [
          4.5
         ]
        },
        {
         "hoverinfo": "text",
         "legendgroup": "qpu_aqbs",
         "marker": {
          "color": "lightgray",
          "line": {
           "color": "darkred",
           "width": 1
          },
          "size": 15,
          "symbol": "circle"
         },
         "mode": "markers+text",
         "name": "Ancilla qubits",
         "showlegend": false,
         "text": "(7, 5, 1)",
         "textposition": "middle center",
         "type": "scatter",
         "x": [
          6.5
         ],
         "y": [
          4.5
         ]
        },
        {
         "hoverinfo": "text",
         "legendgroup": "qpu_aqbs",
         "marker": {
          "color": "lightgray",
          "line": {
           "color": "darkred",
           "width": 1
          },
          "size": 15,
          "symbol": "circle"
         },
         "mode": "markers+text",
         "name": "Ancilla qubits",
         "showlegend": false,
         "text": "(0, 6, 1)",
         "textposition": "middle center",
         "type": "scatter",
         "x": [
          -0.5
         ],
         "y": [
          5.5
         ]
        },
        {
         "hoverinfo": "text",
         "legendgroup": "qpu_aqbs",
         "marker": {
          "color": "lightgray",
          "line": {
           "color": "darkred",
           "width": 1
          },
          "size": 15,
          "symbol": "circle"
         },
         "mode": "markers+text",
         "name": "Ancilla qubits",
         "showlegend": false,
         "text": "(1, 6, 1)",
         "textposition": "middle center",
         "type": "scatter",
         "x": [
          0.5
         ],
         "y": [
          5.5
         ]
        },
        {
         "hoverinfo": "text",
         "legendgroup": "qpu_aqbs",
         "marker": {
          "color": "lightgray",
          "line": {
           "color": "darkred",
           "width": 1
          },
          "size": 15,
          "symbol": "circle"
         },
         "mode": "markers+text",
         "name": "Ancilla qubits",
         "showlegend": false,
         "text": "(2, 6, 1)",
         "textposition": "middle center",
         "type": "scatter",
         "x": [
          1.5
         ],
         "y": [
          5.5
         ]
        },
        {
         "hoverinfo": "text",
         "legendgroup": "qpu_aqbs",
         "marker": {
          "color": "lightgray",
          "line": {
           "color": "darkred",
           "width": 1
          },
          "size": 15,
          "symbol": "circle"
         },
         "mode": "markers+text",
         "name": "Ancilla qubits",
         "showlegend": false,
         "text": "(3, 6, 1)",
         "textposition": "middle center",
         "type": "scatter",
         "x": [
          2.5
         ],
         "y": [
          5.5
         ]
        },
        {
         "hoverinfo": "text",
         "legendgroup": "qpu_aqbs",
         "marker": {
          "color": "lightgray",
          "line": {
           "color": "darkred",
           "width": 1
          },
          "size": 15,
          "symbol": "circle"
         },
         "mode": "markers+text",
         "name": "Ancilla qubits",
         "showlegend": false,
         "text": "(4, 6, 1)",
         "textposition": "middle center",
         "type": "scatter",
         "x": [
          3.5
         ],
         "y": [
          5.5
         ]
        },
        {
         "hoverinfo": "text",
         "legendgroup": "qpu_aqbs",
         "marker": {
          "color": "lightgray",
          "line": {
           "color": "darkred",
           "width": 1
          },
          "size": 15,
          "symbol": "circle"
         },
         "mode": "markers+text",
         "name": "Ancilla qubits",
         "showlegend": false,
         "text": "(5, 6, 1)",
         "textposition": "middle center",
         "type": "scatter",
         "x": [
          4.5
         ],
         "y": [
          5.5
         ]
        },
        {
         "hoverinfo": "text",
         "legendgroup": "qpu_aqbs",
         "marker": {
          "color": "lightgray",
          "line": {
           "color": "darkred",
           "width": 1
          },
          "size": 15,
          "symbol": "circle"
         },
         "mode": "markers+text",
         "name": "Ancilla qubits",
         "showlegend": false,
         "text": "(6, 6, 1)",
         "textposition": "middle center",
         "type": "scatter",
         "x": [
          5.5
         ],
         "y": [
          5.5
         ]
        },
        {
         "hoverinfo": "text",
         "legendgroup": "qpu_aqbs",
         "marker": {
          "color": "lightgray",
          "line": {
           "color": "darkred",
           "width": 1
          },
          "size": 15,
          "symbol": "circle"
         },
         "mode": "markers+text",
         "name": "Ancilla qubits",
         "showlegend": false,
         "text": "(7, 6, 1)",
         "textposition": "middle center",
         "type": "scatter",
         "x": [
          6.5
         ],
         "y": [
          5.5
         ]
        },
        {
         "fill": "toself",
         "fillcolor": "rgba(90,174,230,0.8)",
         "hoverinfo": "none",
         "legendgroup": "stabs_Q1",
         "line": {
          "color": "black",
          "width": 2
         },
         "mode": "lines",
         "name": "Q1 stabilizers",
         "showlegend": true,
         "type": "scatter",
         "x": [
          2,
          3,
          3,
          2,
          2
         ],
         "y": [
          1,
          1,
          2,
          2,
          1
         ]
        },
        {
         "fill": "toself",
         "fillcolor": "rgba(90,174,230,0.8)",
         "hoverinfo": "none",
         "legendgroup": "stabs_Q1",
         "line": {
          "color": "black",
          "width": 2
         },
         "mode": "lines",
         "name": "Q1 stabilizers",
         "showlegend": false,
         "type": "scatter",
         "x": [
          1,
          2,
          2,
          1,
          1
         ],
         "y": [
          2,
          2,
          3,
          3,
          2
         ]
        },
        {
         "fill": "toself",
         "fillcolor": "rgba(90,174,230,0.8)",
         "hoverinfo": "none",
         "legendgroup": "stabs_Q1",
         "line": {
          "color": "black",
          "width": 2
         },
         "mode": "lines",
         "name": "Q1 stabilizers",
         "showlegend": false,
         "type": "scatter",
         "x": [
          0.9,
          1.1,
          1.1,
          0.9,
          0.9
         ],
         "y": [
          1,
          1,
          2,
          2,
          1
         ]
        },
        {
         "fill": "toself",
         "fillcolor": "rgba(90,174,230,0.8)",
         "hoverinfo": "none",
         "legendgroup": "stabs_Q1",
         "line": {
          "color": "black",
          "width": 2
         },
         "mode": "lines",
         "name": "Q1 stabilizers",
         "showlegend": false,
         "type": "scatter",
         "x": [
          3,
          4,
          4,
          3,
          3
         ],
         "y": [
          2,
          2,
          3,
          3,
          2
         ]
        },
        {
         "fill": "toself",
         "fillcolor": "rgba(87,201,90,0.8)",
         "hoverinfo": "none",
         "legendgroup": "stabs_Q1",
         "line": {
          "color": "black",
          "width": 2
         },
         "mode": "lines",
         "name": "Q1 stabilizers",
         "showlegend": false,
         "type": "scatter",
         "x": [
          1,
          2,
          2,
          1,
          1
         ],
         "y": [
          1,
          1,
          2,
          2,
          1
         ]
        },
        {
         "fill": "toself",
         "fillcolor": "rgba(87,201,90,0.8)",
         "hoverinfo": "none",
         "legendgroup": "stabs_Q1",
         "line": {
          "color": "black",
          "width": 2
         },
         "mode": "lines",
         "name": "Q1 stabilizers",
         "showlegend": false,
         "type": "scatter",
         "x": [
          2,
          3,
          3,
          2,
          2
         ],
         "y": [
          2,
          2,
          3,
          3,
          2
         ]
        },
        {
         "fill": "toself",
         "fillcolor": "rgba(87,201,90,0.8)",
         "hoverinfo": "none",
         "legendgroup": "stabs_Q1",
         "line": {
          "color": "black",
          "width": 2
         },
         "mode": "lines",
         "name": "Q1 stabilizers",
         "showlegend": false,
         "type": "scatter",
         "x": [
          1,
          2,
          2,
          1,
          1
         ],
         "y": [
          2.9,
          2.9,
          3.1,
          3.1,
          2.9
         ]
        },
        {
         "fill": "toself",
         "fillcolor": "rgba(87,201,90,0.8)",
         "hoverinfo": "none",
         "legendgroup": "stabs_Q1",
         "line": {
          "color": "black",
          "width": 2
         },
         "mode": "lines",
         "name": "Q1 stabilizers",
         "showlegend": false,
         "type": "scatter",
         "x": [
          2,
          3,
          3,
          2,
          2
         ],
         "y": [
          0.9,
          0.9,
          1.1,
          1.1,
          0.9
         ]
        },
        {
         "fill": "toself",
         "fillcolor": "rgba(90,174,230,0.8)",
         "hoverinfo": "none",
         "legendgroup": "stabs_Q1",
         "line": {
          "color": "black",
          "width": 2
         },
         "mode": "lines",
         "name": "Q1 stabilizers",
         "showlegend": false,
         "type": "scatter",
         "x": [
          4,
          5,
          5,
          4,
          4
         ],
         "y": [
          1,
          1,
          2,
          2,
          1
         ]
        },
        {
         "fill": "toself",
         "fillcolor": "rgba(90,174,230,0.8)",
         "hoverinfo": "none",
         "legendgroup": "stabs_Q1",
         "line": {
          "color": "black",
          "width": 2
         },
         "mode": "lines",
         "name": "Q1 stabilizers",
         "showlegend": false,
         "type": "scatter",
         "x": [
          4.9,
          5.1,
          5.1,
          4.9,
          4.9
         ],
         "y": [
          2,
          2,
          3,
          3,
          2
         ]
        },
        {
         "fill": "toself",
         "fillcolor": "rgba(87,201,90,0.8)",
         "hoverinfo": "none",
         "legendgroup": "stabs_Q1",
         "line": {
          "color": "black",
          "width": 2
         },
         "mode": "lines",
         "name": "Q1 stabilizers",
         "showlegend": false,
         "type": "scatter",
         "x": [
          3,
          4,
          4,
          3,
          3
         ],
         "y": [
          1,
          1,
          2,
          2,
          1
         ]
        },
        {
         "fill": "toself",
         "fillcolor": "rgba(87,201,90,0.8)",
         "hoverinfo": "none",
         "legendgroup": "stabs_Q1",
         "line": {
          "color": "black",
          "width": 2
         },
         "mode": "lines",
         "name": "Q1 stabilizers",
         "showlegend": false,
         "type": "scatter",
         "x": [
          4,
          5,
          5,
          4,
          4
         ],
         "y": [
          2,
          2,
          3,
          3,
          2
         ]
        },
        {
         "fill": "toself",
         "fillcolor": "rgba(87,201,90,0.8)",
         "hoverinfo": "none",
         "legendgroup": "stabs_Q1",
         "line": {
          "color": "black",
          "width": 2
         },
         "mode": "lines",
         "name": "Q1 stabilizers",
         "showlegend": false,
         "type": "scatter",
         "x": [
          3,
          4,
          4,
          3,
          3
         ],
         "y": [
          2.9,
          2.9,
          3.1,
          3.1,
          2.9
         ]
        },
        {
         "fill": "toself",
         "fillcolor": "rgba(87,201,90,0.8)",
         "hoverinfo": "none",
         "legendgroup": "stabs_Q1",
         "line": {
          "color": "black",
          "width": 2
         },
         "mode": "lines",
         "name": "Q1 stabilizers",
         "showlegend": false,
         "type": "scatter",
         "x": [
          4,
          5,
          5,
          4,
          4
         ],
         "y": [
          0.9,
          0.9,
          1.1,
          1.1,
          0.9
         ]
        },
        {
         "hoverinfo": "text",
         "legendgroup": "",
         "marker": {
          "color": "#1f77b4",
          "line": {
           "color": "darkred",
           "width": 1
          },
          "size": 25,
          "symbol": "circle"
         },
         "mode": "markers+text",
         "name": "",
         "showlegend": false,
         "text": "(2, 1, 0)",
         "textposition": "middle center",
         "type": "scatter",
         "x": [
          2
         ],
         "y": [
          1
         ]
        },
        {
         "hoverinfo": "text",
         "legendgroup": "",
         "marker": {
          "color": "#1f77b4",
          "line": {
           "color": "darkred",
           "width": 1
          },
          "size": 25,
          "symbol": "circle"
         },
         "mode": "markers+text",
         "name": "",
         "showlegend": false,
         "text": "(3, 1, 0)",
         "textposition": "middle center",
         "type": "scatter",
         "x": [
          3
         ],
         "y": [
          1
         ]
        },
        {
         "hoverinfo": "text",
         "legendgroup": "",
         "marker": {
          "color": "#1f77b4",
          "line": {
           "color": "darkred",
           "width": 1
          },
          "size": 25,
          "symbol": "circle"
         },
         "mode": "markers+text",
         "name": "",
         "showlegend": false,
         "text": "(2, 2, 0)",
         "textposition": "middle center",
         "type": "scatter",
         "x": [
          2
         ],
         "y": [
          2
         ]
        },
        {
         "hoverinfo": "text",
         "legendgroup": "",
         "marker": {
          "color": "#1f77b4",
          "line": {
           "color": "darkred",
           "width": 1
          },
          "size": 25,
          "symbol": "circle"
         },
         "mode": "markers+text",
         "name": "",
         "showlegend": false,
         "text": "(3, 2, 0)",
         "textposition": "middle center",
         "type": "scatter",
         "x": [
          3
         ],
         "y": [
          2
         ]
        },
        {
         "hoverinfo": "text",
         "legendgroup": "",
         "marker": {
          "color": "#1f77b4",
          "line": {
           "color": "darkred",
           "width": 1
          },
          "size": 25,
          "symbol": "circle"
         },
         "mode": "markers+text",
         "name": "",
         "showlegend": false,
         "text": "(1, 2, 0)",
         "textposition": "middle center",
         "type": "scatter",
         "x": [
          1
         ],
         "y": [
          2
         ]
        },
        {
         "hoverinfo": "text",
         "legendgroup": "",
         "marker": {
          "color": "#1f77b4",
          "line": {
           "color": "darkred",
           "width": 1
          },
          "size": 25,
          "symbol": "circle"
         },
         "mode": "markers+text",
         "name": "",
         "showlegend": false,
         "text": "(1, 3, 0)",
         "textposition": "middle center",
         "type": "scatter",
         "x": [
          1
         ],
         "y": [
          3
         ]
        },
        {
         "hoverinfo": "text",
         "legendgroup": "",
         "marker": {
          "color": "#1f77b4",
          "line": {
           "color": "darkred",
           "width": 1
          },
          "size": 25,
          "symbol": "circle"
         },
         "mode": "markers+text",
         "name": "",
         "showlegend": false,
         "text": "(2, 3, 0)",
         "textposition": "middle center",
         "type": "scatter",
         "x": [
          2
         ],
         "y": [
          3
         ]
        },
        {
         "hoverinfo": "text",
         "legendgroup": "",
         "marker": {
          "color": "#1f77b4",
          "line": {
           "color": "darkred",
           "width": 1
          },
          "size": 25,
          "symbol": "circle"
         },
         "mode": "markers+text",
         "name": "",
         "showlegend": false,
         "text": "(1, 1, 0)",
         "textposition": "middle center",
         "type": "scatter",
         "x": [
          1
         ],
         "y": [
          1
         ]
        },
        {
         "hoverinfo": "text",
         "legendgroup": "",
         "marker": {
          "color": "#1f77b4",
          "line": {
           "color": "darkred",
           "width": 1
          },
          "size": 25,
          "symbol": "circle"
         },
         "mode": "markers+text",
         "name": "",
         "showlegend": false,
         "text": "(3, 3, 0)",
         "textposition": "middle center",
         "type": "scatter",
         "x": [
          3
         ],
         "y": [
          3
         ]
        },
        {
         "hoverinfo": "text",
         "legendgroup": "",
         "marker": {
          "color": "#1f77b4",
          "line": {
           "color": "darkred",
           "width": 1
          },
          "size": 25,
          "symbol": "circle"
         },
         "mode": "markers+text",
         "name": "",
         "showlegend": false,
         "text": "(4, 2, 0)",
         "textposition": "middle center",
         "type": "scatter",
         "x": [
          4
         ],
         "y": [
          2
         ]
        },
        {
         "hoverinfo": "text",
         "legendgroup": "",
         "marker": {
          "color": "#1f77b4",
          "line": {
           "color": "darkred",
           "width": 1
          },
          "size": 25,
          "symbol": "circle"
         },
         "mode": "markers+text",
         "name": "",
         "showlegend": false,
         "text": "(4, 3, 0)",
         "textposition": "middle center",
         "type": "scatter",
         "x": [
          4
         ],
         "y": [
          3
         ]
        },
        {
         "hoverinfo": "text",
         "legendgroup": "",
         "marker": {
          "color": "#1f77b4",
          "line": {
           "color": "darkred",
           "width": 1
          },
          "size": 25,
          "symbol": "circle"
         },
         "mode": "markers+text",
         "name": "",
         "showlegend": false,
         "text": "(4, 1, 0)",
         "textposition": "middle center",
         "type": "scatter",
         "x": [
          4
         ],
         "y": [
          1
         ]
        },
        {
         "hoverinfo": "text",
         "legendgroup": "",
         "marker": {
          "color": "#1f77b4",
          "line": {
           "color": "darkred",
           "width": 1
          },
          "size": 25,
          "symbol": "circle"
         },
         "mode": "markers+text",
         "name": "",
         "showlegend": false,
         "text": "(5, 1, 0)",
         "textposition": "middle center",
         "type": "scatter",
         "x": [
          5
         ],
         "y": [
          1
         ]
        },
        {
         "hoverinfo": "text",
         "legendgroup": "",
         "marker": {
          "color": "#1f77b4",
          "line": {
           "color": "darkred",
           "width": 1
          },
          "size": 25,
          "symbol": "circle"
         },
         "mode": "markers+text",
         "name": "",
         "showlegend": false,
         "text": "(5, 2, 0)",
         "textposition": "middle center",
         "type": "scatter",
         "x": [
          5
         ],
         "y": [
          2
         ]
        },
        {
         "hoverinfo": "text",
         "legendgroup": "",
         "marker": {
          "color": "#1f77b4",
          "line": {
           "color": "darkred",
           "width": 1
          },
          "size": 25,
          "symbol": "circle"
         },
         "mode": "markers+text",
         "name": "",
         "showlegend": false,
         "text": "(5, 3, 0)",
         "textposition": "middle center",
         "type": "scatter",
         "x": [
          5
         ],
         "y": [
          3
         ]
        },
        {
         "hoverinfo": "text",
         "legendgroup": "",
         "marker": {
          "color": "gray",
          "line": {
           "color": "darkred",
           "width": 1
          },
          "size": 25,
          "symbol": "square"
         },
         "mode": "markers+text",
         "name": "",
         "showlegend": false,
         "text": "X<sub>(1, 1, 0)</sub>",
         "textposition": "middle center",
         "type": "scatter",
         "x": [
          1
         ],
         "y": [
          1
         ]
        },
        {
         "hoverinfo": "text",
         "legendgroup": "",
         "marker": {
          "color": "gray",
          "line": {
           "color": "darkred",
           "width": 1
          },
          "size": 25,
          "symbol": "square"
         },
         "mode": "markers+text",
         "name": "",
         "showlegend": false,
         "text": "X<sub>(2, 1, 0)</sub>",
         "textposition": "middle center",
         "type": "scatter",
         "x": [
          2
         ],
         "y": [
          1
         ]
        },
        {
         "hoverinfo": "text",
         "legendgroup": "",
         "marker": {
          "color": "gray",
          "line": {
           "color": "darkred",
           "width": 1
          },
          "size": 25,
          "symbol": "square"
         },
         "mode": "markers+text",
         "name": "",
         "showlegend": false,
         "text": "X<sub>(3, 1, 0)</sub>",
         "textposition": "middle center",
         "type": "scatter",
         "x": [
          3
         ],
         "y": [
          1
         ]
        },
        {
         "hoverinfo": "text",
         "legendgroup": "",
         "marker": {
          "color": "gray",
          "line": {
           "color": "darkred",
           "width": 1
          },
          "size": 25,
          "symbol": "square"
         },
         "mode": "markers+text",
         "name": "",
         "showlegend": false,
         "text": "X<sub>(4, 1, 0)</sub>",
         "textposition": "middle center",
         "type": "scatter",
         "x": [
          4
         ],
         "y": [
          1
         ]
        },
        {
         "hoverinfo": "text",
         "legendgroup": "",
         "marker": {
          "color": "gray",
          "line": {
           "color": "darkred",
           "width": 1
          },
          "size": 25,
          "symbol": "square"
         },
         "mode": "markers+text",
         "name": "",
         "showlegend": false,
         "text": "X<sub>(5, 1, 0)</sub>",
         "textposition": "middle center",
         "type": "scatter",
         "x": [
          5
         ],
         "y": [
          1
         ]
        },
        {
         "hoverinfo": "text",
         "legendgroup": "",
         "marker": {
          "color": "gray",
          "line": {
           "color": "darkred",
           "width": 1
          },
          "size": 25,
          "symbol": "square"
         },
         "mode": "markers+text",
         "name": "",
         "showlegend": false,
         "text": "Z<sub>(1, 1, 0)</sub>",
         "textposition": "middle center",
         "type": "scatter",
         "x": [
          1
         ],
         "y": [
          1
         ]
        },
        {
         "hoverinfo": "text",
         "legendgroup": "",
         "marker": {
          "color": "gray",
          "line": {
           "color": "darkred",
           "width": 1
          },
          "size": 25,
          "symbol": "square"
         },
         "mode": "markers+text",
         "name": "",
         "showlegend": false,
         "text": "Z<sub>(1, 2, 0)</sub>",
         "textposition": "middle center",
         "type": "scatter",
         "x": [
          1
         ],
         "y": [
          2
         ]
        },
        {
         "hoverinfo": "text",
         "legendgroup": "",
         "marker": {
          "color": "gray",
          "line": {
           "color": "darkred",
           "width": 1
          },
          "size": 25,
          "symbol": "square"
         },
         "mode": "markers+text",
         "name": "",
         "showlegend": false,
         "text": "Z<sub>(1, 3, 0)</sub>",
         "textposition": "middle center",
         "type": "scatter",
         "x": [
          1
         ],
         "y": [
          3
         ]
        }
       ],
       "layout": {
        "height": 700,
        "showlegend": true,
        "template": {
         "data": {
          "bar": [
           {
            "error_x": {
             "color": "#2a3f5f"
            },
            "error_y": {
             "color": "#2a3f5f"
            },
            "marker": {
             "line": {
              "color": "#E5ECF6",
              "width": 0.5
             },
             "pattern": {
              "fillmode": "overlay",
              "size": 10,
              "solidity": 0.2
             }
            },
            "type": "bar"
           }
          ],
          "barpolar": [
           {
            "marker": {
             "line": {
              "color": "#E5ECF6",
              "width": 0.5
             },
             "pattern": {
              "fillmode": "overlay",
              "size": 10,
              "solidity": 0.2
             }
            },
            "type": "barpolar"
           }
          ],
          "carpet": [
           {
            "aaxis": {
             "endlinecolor": "#2a3f5f",
             "gridcolor": "white",
             "linecolor": "white",
             "minorgridcolor": "white",
             "startlinecolor": "#2a3f5f"
            },
            "baxis": {
             "endlinecolor": "#2a3f5f",
             "gridcolor": "white",
             "linecolor": "white",
             "minorgridcolor": "white",
             "startlinecolor": "#2a3f5f"
            },
            "type": "carpet"
           }
          ],
          "choropleth": [
           {
            "colorbar": {
             "outlinewidth": 0,
             "ticks": ""
            },
            "type": "choropleth"
           }
          ],
          "contour": [
           {
            "colorbar": {
             "outlinewidth": 0,
             "ticks": ""
            },
            "colorscale": [
             [
              0,
              "#0d0887"
             ],
             [
              0.1111111111111111,
              "#46039f"
             ],
             [
              0.2222222222222222,
              "#7201a8"
             ],
             [
              0.3333333333333333,
              "#9c179e"
             ],
             [
              0.4444444444444444,
              "#bd3786"
             ],
             [
              0.5555555555555556,
              "#d8576b"
             ],
             [
              0.6666666666666666,
              "#ed7953"
             ],
             [
              0.7777777777777778,
              "#fb9f3a"
             ],
             [
              0.8888888888888888,
              "#fdca26"
             ],
             [
              1,
              "#f0f921"
             ]
            ],
            "type": "contour"
           }
          ],
          "contourcarpet": [
           {
            "colorbar": {
             "outlinewidth": 0,
             "ticks": ""
            },
            "type": "contourcarpet"
           }
          ],
          "heatmap": [
           {
            "colorbar": {
             "outlinewidth": 0,
             "ticks": ""
            },
            "colorscale": [
             [
              0,
              "#0d0887"
             ],
             [
              0.1111111111111111,
              "#46039f"
             ],
             [
              0.2222222222222222,
              "#7201a8"
             ],
             [
              0.3333333333333333,
              "#9c179e"
             ],
             [
              0.4444444444444444,
              "#bd3786"
             ],
             [
              0.5555555555555556,
              "#d8576b"
             ],
             [
              0.6666666666666666,
              "#ed7953"
             ],
             [
              0.7777777777777778,
              "#fb9f3a"
             ],
             [
              0.8888888888888888,
              "#fdca26"
             ],
             [
              1,
              "#f0f921"
             ]
            ],
            "type": "heatmap"
           }
          ],
          "heatmapgl": [
           {
            "colorbar": {
             "outlinewidth": 0,
             "ticks": ""
            },
            "colorscale": [
             [
              0,
              "#0d0887"
             ],
             [
              0.1111111111111111,
              "#46039f"
             ],
             [
              0.2222222222222222,
              "#7201a8"
             ],
             [
              0.3333333333333333,
              "#9c179e"
             ],
             [
              0.4444444444444444,
              "#bd3786"
             ],
             [
              0.5555555555555556,
              "#d8576b"
             ],
             [
              0.6666666666666666,
              "#ed7953"
             ],
             [
              0.7777777777777778,
              "#fb9f3a"
             ],
             [
              0.8888888888888888,
              "#fdca26"
             ],
             [
              1,
              "#f0f921"
             ]
            ],
            "type": "heatmapgl"
           }
          ],
          "histogram": [
           {
            "marker": {
             "pattern": {
              "fillmode": "overlay",
              "size": 10,
              "solidity": 0.2
             }
            },
            "type": "histogram"
           }
          ],
          "histogram2d": [
           {
            "colorbar": {
             "outlinewidth": 0,
             "ticks": ""
            },
            "colorscale": [
             [
              0,
              "#0d0887"
             ],
             [
              0.1111111111111111,
              "#46039f"
             ],
             [
              0.2222222222222222,
              "#7201a8"
             ],
             [
              0.3333333333333333,
              "#9c179e"
             ],
             [
              0.4444444444444444,
              "#bd3786"
             ],
             [
              0.5555555555555556,
              "#d8576b"
             ],
             [
              0.6666666666666666,
              "#ed7953"
             ],
             [
              0.7777777777777778,
              "#fb9f3a"
             ],
             [
              0.8888888888888888,
              "#fdca26"
             ],
             [
              1,
              "#f0f921"
             ]
            ],
            "type": "histogram2d"
           }
          ],
          "histogram2dcontour": [
           {
            "colorbar": {
             "outlinewidth": 0,
             "ticks": ""
            },
            "colorscale": [
             [
              0,
              "#0d0887"
             ],
             [
              0.1111111111111111,
              "#46039f"
             ],
             [
              0.2222222222222222,
              "#7201a8"
             ],
             [
              0.3333333333333333,
              "#9c179e"
             ],
             [
              0.4444444444444444,
              "#bd3786"
             ],
             [
              0.5555555555555556,
              "#d8576b"
             ],
             [
              0.6666666666666666,
              "#ed7953"
             ],
             [
              0.7777777777777778,
              "#fb9f3a"
             ],
             [
              0.8888888888888888,
              "#fdca26"
             ],
             [
              1,
              "#f0f921"
             ]
            ],
            "type": "histogram2dcontour"
           }
          ],
          "mesh3d": [
           {
            "colorbar": {
             "outlinewidth": 0,
             "ticks": ""
            },
            "type": "mesh3d"
           }
          ],
          "parcoords": [
           {
            "line": {
             "colorbar": {
              "outlinewidth": 0,
              "ticks": ""
             }
            },
            "type": "parcoords"
           }
          ],
          "pie": [
           {
            "automargin": true,
            "type": "pie"
           }
          ],
          "scatter": [
           {
            "fillpattern": {
             "fillmode": "overlay",
             "size": 10,
             "solidity": 0.2
            },
            "type": "scatter"
           }
          ],
          "scatter3d": [
           {
            "line": {
             "colorbar": {
              "outlinewidth": 0,
              "ticks": ""
             }
            },
            "marker": {
             "colorbar": {
              "outlinewidth": 0,
              "ticks": ""
             }
            },
            "type": "scatter3d"
           }
          ],
          "scattercarpet": [
           {
            "marker": {
             "colorbar": {
              "outlinewidth": 0,
              "ticks": ""
             }
            },
            "type": "scattercarpet"
           }
          ],
          "scattergeo": [
           {
            "marker": {
             "colorbar": {
              "outlinewidth": 0,
              "ticks": ""
             }
            },
            "type": "scattergeo"
           }
          ],
          "scattergl": [
           {
            "marker": {
             "colorbar": {
              "outlinewidth": 0,
              "ticks": ""
             }
            },
            "type": "scattergl"
           }
          ],
          "scattermapbox": [
           {
            "marker": {
             "colorbar": {
              "outlinewidth": 0,
              "ticks": ""
             }
            },
            "type": "scattermapbox"
           }
          ],
          "scatterpolar": [
           {
            "marker": {
             "colorbar": {
              "outlinewidth": 0,
              "ticks": ""
             }
            },
            "type": "scatterpolar"
           }
          ],
          "scatterpolargl": [
           {
            "marker": {
             "colorbar": {
              "outlinewidth": 0,
              "ticks": ""
             }
            },
            "type": "scatterpolargl"
           }
          ],
          "scatterternary": [
           {
            "marker": {
             "colorbar": {
              "outlinewidth": 0,
              "ticks": ""
             }
            },
            "type": "scatterternary"
           }
          ],
          "surface": [
           {
            "colorbar": {
             "outlinewidth": 0,
             "ticks": ""
            },
            "colorscale": [
             [
              0,
              "#0d0887"
             ],
             [
              0.1111111111111111,
              "#46039f"
             ],
             [
              0.2222222222222222,
              "#7201a8"
             ],
             [
              0.3333333333333333,
              "#9c179e"
             ],
             [
              0.4444444444444444,
              "#bd3786"
             ],
             [
              0.5555555555555556,
              "#d8576b"
             ],
             [
              0.6666666666666666,
              "#ed7953"
             ],
             [
              0.7777777777777778,
              "#fb9f3a"
             ],
             [
              0.8888888888888888,
              "#fdca26"
             ],
             [
              1,
              "#f0f921"
             ]
            ],
            "type": "surface"
           }
          ],
          "table": [
           {
            "cells": {
             "fill": {
              "color": "#EBF0F8"
             },
             "line": {
              "color": "white"
             }
            },
            "header": {
             "fill": {
              "color": "#C8D4E3"
             },
             "line": {
              "color": "white"
             }
            },
            "type": "table"
           }
          ]
         },
         "layout": {
          "annotationdefaults": {
           "arrowcolor": "#2a3f5f",
           "arrowhead": 0,
           "arrowwidth": 1
          },
          "autotypenumbers": "strict",
          "coloraxis": {
           "colorbar": {
            "outlinewidth": 0,
            "ticks": ""
           }
          },
          "colorscale": {
           "diverging": [
            [
             0,
             "#8e0152"
            ],
            [
             0.1,
             "#c51b7d"
            ],
            [
             0.2,
             "#de77ae"
            ],
            [
             0.3,
             "#f1b6da"
            ],
            [
             0.4,
             "#fde0ef"
            ],
            [
             0.5,
             "#f7f7f7"
            ],
            [
             0.6,
             "#e6f5d0"
            ],
            [
             0.7,
             "#b8e186"
            ],
            [
             0.8,
             "#7fbc41"
            ],
            [
             0.9,
             "#4d9221"
            ],
            [
             1,
             "#276419"
            ]
           ],
           "sequential": [
            [
             0,
             "#0d0887"
            ],
            [
             0.1111111111111111,
             "#46039f"
            ],
            [
             0.2222222222222222,
             "#7201a8"
            ],
            [
             0.3333333333333333,
             "#9c179e"
            ],
            [
             0.4444444444444444,
             "#bd3786"
            ],
            [
             0.5555555555555556,
             "#d8576b"
            ],
            [
             0.6666666666666666,
             "#ed7953"
            ],
            [
             0.7777777777777778,
             "#fb9f3a"
            ],
            [
             0.8888888888888888,
             "#fdca26"
            ],
            [
             1,
             "#f0f921"
            ]
           ],
           "sequentialminus": [
            [
             0,
             "#0d0887"
            ],
            [
             0.1111111111111111,
             "#46039f"
            ],
            [
             0.2222222222222222,
             "#7201a8"
            ],
            [
             0.3333333333333333,
             "#9c179e"
            ],
            [
             0.4444444444444444,
             "#bd3786"
            ],
            [
             0.5555555555555556,
             "#d8576b"
            ],
            [
             0.6666666666666666,
             "#ed7953"
            ],
            [
             0.7777777777777778,
             "#fb9f3a"
            ],
            [
             0.8888888888888888,
             "#fdca26"
            ],
            [
             1,
             "#f0f921"
            ]
           ]
          },
          "colorway": [
           "#636efa",
           "#EF553B",
           "#00cc96",
           "#ab63fa",
           "#FFA15A",
           "#19d3f3",
           "#FF6692",
           "#B6E880",
           "#FF97FF",
           "#FECB52"
          ],
          "font": {
           "color": "#2a3f5f"
          },
          "geo": {
           "bgcolor": "white",
           "lakecolor": "white",
           "landcolor": "#E5ECF6",
           "showlakes": true,
           "showland": true,
           "subunitcolor": "white"
          },
          "hoverlabel": {
           "align": "left"
          },
          "hovermode": "closest",
          "mapbox": {
           "style": "light"
          },
          "paper_bgcolor": "white",
          "plot_bgcolor": "#E5ECF6",
          "polar": {
           "angularaxis": {
            "gridcolor": "white",
            "linecolor": "white",
            "ticks": ""
           },
           "bgcolor": "#E5ECF6",
           "radialaxis": {
            "gridcolor": "white",
            "linecolor": "white",
            "ticks": ""
           }
          },
          "scene": {
           "xaxis": {
            "backgroundcolor": "#E5ECF6",
            "gridcolor": "white",
            "gridwidth": 2,
            "linecolor": "white",
            "showbackground": true,
            "ticks": "",
            "zerolinecolor": "white"
           },
           "yaxis": {
            "backgroundcolor": "#E5ECF6",
            "gridcolor": "white",
            "gridwidth": 2,
            "linecolor": "white",
            "showbackground": true,
            "ticks": "",
            "zerolinecolor": "white"
           },
           "zaxis": {
            "backgroundcolor": "#E5ECF6",
            "gridcolor": "white",
            "gridwidth": 2,
            "linecolor": "white",
            "showbackground": true,
            "ticks": "",
            "zerolinecolor": "white"
           }
          },
          "shapedefaults": {
           "line": {
            "color": "#2a3f5f"
           }
          },
          "ternary": {
           "aaxis": {
            "gridcolor": "white",
            "linecolor": "white",
            "ticks": ""
           },
           "baxis": {
            "gridcolor": "white",
            "linecolor": "white",
            "ticks": ""
           },
           "bgcolor": "#E5ECF6",
           "caxis": {
            "gridcolor": "white",
            "linecolor": "white",
            "ticks": ""
           }
          },
          "title": {
           "x": 0.05
          },
          "xaxis": {
           "automargin": true,
           "gridcolor": "white",
           "linecolor": "white",
           "ticks": "",
           "title": {
            "standoff": 15
           },
           "zerolinecolor": "white",
           "zerolinewidth": 2
          },
          "yaxis": {
           "automargin": true,
           "gridcolor": "white",
           "linecolor": "white",
           "ticks": "",
           "title": {
            "standoff": 15
           },
           "zerolinecolor": "white",
           "zerolinewidth": 2
          }
         }
        },
        "width": 1100,
        "xaxis": {
         "anchor": "y",
         "domain": [
          0,
          1
         ],
         "showgrid": true,
         "visible": true,
         "zeroline": false
        },
        "yaxis": {
         "anchor": "x",
         "autorange": "reversed",
         "domain": [
          0,
          1
         ],
         "scaleanchor": "x",
         "scaleratio": 1,
         "showgrid": true,
         "visible": true
        }
       }
      }
     },
     "metadata": {},
     "output_type": "display_data"
    }
   ],
   "source": [
    "qecplot = QECPlot(circ)\n",
    "qecplot.plot_logical_qubit(\"Q1\")\n",
    "qecplot.show()"
   ]
  },
  {
   "cell_type": "markdown",
   "metadata": {},
   "source": [
    "# Plot the circuit using stim\n",
    "To verify that we have the syndrome extraction circuit that we want, we can plot the circuit using stim:"
   ]
  },
  {
   "cell_type": "code",
   "execution_count": 8,
   "metadata": {},
   "outputs": [
    {
     "data": {
      "image/svg+xml": [
       "<svg viewBox=\"0 0 5216 6368\"  version=\"1.1\" xmlns=\"http://www.w3.org/2000/svg\">\n",
       "<g id=\"qubit_lines\">\n",
       "<path id=\"qubit_line:0\" d=\"M64,64 L5184,64 \" stroke=\"black\"/>\n",
       "<text dominant-baseline=\"central\" text-anchor=\"end\" font-family=\"monospace\" font-size=\"12\" x=\"64\" y=\"64\">q0</text>\n",
       "<path id=\"qubit_line:1\" d=\"M64,128 L5184,128 \" stroke=\"black\"/>\n",
       "<text dominant-baseline=\"central\" text-anchor=\"end\" font-family=\"monospace\" font-size=\"12\" x=\"64\" y=\"128\">q1</text>\n",
       "<path id=\"qubit_line:2\" d=\"M64,192 L5184,192 \" stroke=\"black\"/>\n",
       "<text dominant-baseline=\"central\" text-anchor=\"end\" font-family=\"monospace\" font-size=\"12\" x=\"64\" y=\"192\">q2</text>\n",
       "<path id=\"qubit_line:3\" d=\"M64,256 L5184,256 \" stroke=\"black\"/>\n",
       "<text dominant-baseline=\"central\" text-anchor=\"end\" font-family=\"monospace\" font-size=\"12\" x=\"64\" y=\"256\">q3</text>\n",
       "<path id=\"qubit_line:4\" d=\"M64,320 L5184,320 \" stroke=\"black\"/>\n",
       "<text dominant-baseline=\"central\" text-anchor=\"end\" font-family=\"monospace\" font-size=\"12\" x=\"64\" y=\"320\">q4</text>\n",
       "<path id=\"qubit_line:5\" d=\"M64,384 L5184,384 \" stroke=\"black\"/>\n",
       "<text dominant-baseline=\"central\" text-anchor=\"end\" font-family=\"monospace\" font-size=\"12\" x=\"64\" y=\"384\">q5</text>\n",
       "<path id=\"qubit_line:6\" d=\"M64,448 L5184,448 \" stroke=\"black\"/>\n",
       "<text dominant-baseline=\"central\" text-anchor=\"end\" font-family=\"monospace\" font-size=\"12\" x=\"64\" y=\"448\">q6</text>\n",
       "<path id=\"qubit_line:7\" d=\"M64,512 L5184,512 \" stroke=\"black\"/>\n",
       "<text dominant-baseline=\"central\" text-anchor=\"end\" font-family=\"monospace\" font-size=\"12\" x=\"64\" y=\"512\">q7</text>\n",
       "<path id=\"qubit_line:8\" d=\"M64,576 L5184,576 \" stroke=\"black\"/>\n",
       "<text dominant-baseline=\"central\" text-anchor=\"end\" font-family=\"monospace\" font-size=\"12\" x=\"64\" y=\"576\">q8</text>\n",
       "<path id=\"qubit_line:9\" d=\"M64,640 L5184,640 \" stroke=\"black\"/>\n",
       "<text dominant-baseline=\"central\" text-anchor=\"end\" font-family=\"monospace\" font-size=\"12\" x=\"64\" y=\"640\">q9</text>\n",
       "<path id=\"qubit_line:10\" d=\"M64,704 L5184,704 \" stroke=\"black\"/>\n",
       "<text dominant-baseline=\"central\" text-anchor=\"end\" font-family=\"monospace\" font-size=\"12\" x=\"64\" y=\"704\">q10</text>\n",
       "<path id=\"qubit_line:11\" d=\"M64,768 L5184,768 \" stroke=\"black\"/>\n",
       "<text dominant-baseline=\"central\" text-anchor=\"end\" font-family=\"monospace\" font-size=\"12\" x=\"64\" y=\"768\">q11</text>\n",
       "<path id=\"qubit_line:12\" d=\"M64,832 L5184,832 \" stroke=\"black\"/>\n",
       "<text dominant-baseline=\"central\" text-anchor=\"end\" font-family=\"monospace\" font-size=\"12\" x=\"64\" y=\"832\">q12</text>\n",
       "<path id=\"qubit_line:13\" d=\"M64,896 L5184,896 \" stroke=\"black\"/>\n",
       "<text dominant-baseline=\"central\" text-anchor=\"end\" font-family=\"monospace\" font-size=\"12\" x=\"64\" y=\"896\">q13</text>\n",
       "<path id=\"qubit_line:14\" d=\"M64,960 L5184,960 \" stroke=\"black\"/>\n",
       "<text dominant-baseline=\"central\" text-anchor=\"end\" font-family=\"monospace\" font-size=\"12\" x=\"64\" y=\"960\">q14</text>\n",
       "<path id=\"qubit_line:15\" d=\"M64,1024 L5184,1024 \" stroke=\"black\"/>\n",
       "<text dominant-baseline=\"central\" text-anchor=\"end\" font-family=\"monospace\" font-size=\"12\" x=\"64\" y=\"1024\">q15</text>\n",
       "<path id=\"qubit_line:16\" d=\"M64,1088 L5184,1088 \" stroke=\"black\"/>\n",
       "<text dominant-baseline=\"central\" text-anchor=\"end\" font-family=\"monospace\" font-size=\"12\" x=\"64\" y=\"1088\">q16</text>\n",
       "<path id=\"qubit_line:17\" d=\"M64,1152 L5184,1152 \" stroke=\"black\"/>\n",
       "<text dominant-baseline=\"central\" text-anchor=\"end\" font-family=\"monospace\" font-size=\"12\" x=\"64\" y=\"1152\">q17</text>\n",
       "<path id=\"qubit_line:18\" d=\"M64,1216 L5184,1216 \" stroke=\"black\"/>\n",
       "<text dominant-baseline=\"central\" text-anchor=\"end\" font-family=\"monospace\" font-size=\"12\" x=\"64\" y=\"1216\">q18</text>\n",
       "<path id=\"qubit_line:19\" d=\"M64,1280 L5184,1280 \" stroke=\"black\"/>\n",
       "<text dominant-baseline=\"central\" text-anchor=\"end\" font-family=\"monospace\" font-size=\"12\" x=\"64\" y=\"1280\">q19</text>\n",
       "<path id=\"qubit_line:20\" d=\"M64,1344 L5184,1344 \" stroke=\"black\"/>\n",
       "<text dominant-baseline=\"central\" text-anchor=\"end\" font-family=\"monospace\" font-size=\"12\" x=\"64\" y=\"1344\">q20</text>\n",
       "<path id=\"qubit_line:21\" d=\"M64,1408 L5184,1408 \" stroke=\"black\"/>\n",
       "<text dominant-baseline=\"central\" text-anchor=\"end\" font-family=\"monospace\" font-size=\"12\" x=\"64\" y=\"1408\">q21</text>\n",
       "<path id=\"qubit_line:22\" d=\"M64,1472 L5184,1472 \" stroke=\"black\"/>\n",
       "<text dominant-baseline=\"central\" text-anchor=\"end\" font-family=\"monospace\" font-size=\"12\" x=\"64\" y=\"1472\">q22</text>\n",
       "<path id=\"qubit_line:23\" d=\"M64,1536 L5184,1536 \" stroke=\"black\"/>\n",
       "<text dominant-baseline=\"central\" text-anchor=\"end\" font-family=\"monospace\" font-size=\"12\" x=\"64\" y=\"1536\">q23</text>\n",
       "<path id=\"qubit_line:24\" d=\"M64,1600 L5184,1600 \" stroke=\"black\"/>\n",
       "<text dominant-baseline=\"central\" text-anchor=\"end\" font-family=\"monospace\" font-size=\"12\" x=\"64\" y=\"1600\">q24</text>\n",
       "<path id=\"qubit_line:25\" d=\"M64,1664 L5184,1664 \" stroke=\"black\"/>\n",
       "<text dominant-baseline=\"central\" text-anchor=\"end\" font-family=\"monospace\" font-size=\"12\" x=\"64\" y=\"1664\">q25</text>\n",
       "<path id=\"qubit_line:26\" d=\"M64,1728 L5184,1728 \" stroke=\"black\"/>\n",
       "<text dominant-baseline=\"central\" text-anchor=\"end\" font-family=\"monospace\" font-size=\"12\" x=\"64\" y=\"1728\">q26</text>\n",
       "<path id=\"qubit_line:27\" d=\"M64,1792 L5184,1792 \" stroke=\"black\"/>\n",
       "<text dominant-baseline=\"central\" text-anchor=\"end\" font-family=\"monospace\" font-size=\"12\" x=\"64\" y=\"1792\">q27</text>\n",
       "<path id=\"qubit_line:28\" d=\"M64,1856 L5184,1856 \" stroke=\"black\"/>\n",
       "<text dominant-baseline=\"central\" text-anchor=\"end\" font-family=\"monospace\" font-size=\"12\" x=\"64\" y=\"1856\">q28</text>\n",
       "<path id=\"qubit_line:29\" d=\"M64,1920 L5184,1920 \" stroke=\"black\"/>\n",
       "<text dominant-baseline=\"central\" text-anchor=\"end\" font-family=\"monospace\" font-size=\"12\" x=\"64\" y=\"1920\">q29</text>\n",
       "<path id=\"qubit_line:30\" d=\"M64,1984 L5184,1984 \" stroke=\"black\"/>\n",
       "<text dominant-baseline=\"central\" text-anchor=\"end\" font-family=\"monospace\" font-size=\"12\" x=\"64\" y=\"1984\">q30</text>\n",
       "<path id=\"qubit_line:31\" d=\"M64,2048 L5184,2048 \" stroke=\"black\"/>\n",
       "<text dominant-baseline=\"central\" text-anchor=\"end\" font-family=\"monospace\" font-size=\"12\" x=\"64\" y=\"2048\">q31</text>\n",
       "<path id=\"qubit_line:32\" d=\"M64,2112 L5184,2112 \" stroke=\"black\"/>\n",
       "<text dominant-baseline=\"central\" text-anchor=\"end\" font-family=\"monospace\" font-size=\"12\" x=\"64\" y=\"2112\">q32</text>\n",
       "<path id=\"qubit_line:33\" d=\"M64,2176 L5184,2176 \" stroke=\"black\"/>\n",
       "<text dominant-baseline=\"central\" text-anchor=\"end\" font-family=\"monospace\" font-size=\"12\" x=\"64\" y=\"2176\">q33</text>\n",
       "<path id=\"qubit_line:34\" d=\"M64,2240 L5184,2240 \" stroke=\"black\"/>\n",
       "<text dominant-baseline=\"central\" text-anchor=\"end\" font-family=\"monospace\" font-size=\"12\" x=\"64\" y=\"2240\">q34</text>\n",
       "<path id=\"qubit_line:35\" d=\"M64,2304 L5184,2304 \" stroke=\"black\"/>\n",
       "<text dominant-baseline=\"central\" text-anchor=\"end\" font-family=\"monospace\" font-size=\"12\" x=\"64\" y=\"2304\">q35</text>\n",
       "<path id=\"qubit_line:36\" d=\"M64,2368 L5184,2368 \" stroke=\"black\"/>\n",
       "<text dominant-baseline=\"central\" text-anchor=\"end\" font-family=\"monospace\" font-size=\"12\" x=\"64\" y=\"2368\">q36</text>\n",
       "<path id=\"qubit_line:37\" d=\"M64,2432 L5184,2432 \" stroke=\"black\"/>\n",
       "<text dominant-baseline=\"central\" text-anchor=\"end\" font-family=\"monospace\" font-size=\"12\" x=\"64\" y=\"2432\">q37</text>\n",
       "<path id=\"qubit_line:38\" d=\"M64,2496 L5184,2496 \" stroke=\"black\"/>\n",
       "<text dominant-baseline=\"central\" text-anchor=\"end\" font-family=\"monospace\" font-size=\"12\" x=\"64\" y=\"2496\">q38</text>\n",
       "<path id=\"qubit_line:39\" d=\"M64,2560 L5184,2560 \" stroke=\"black\"/>\n",
       "<text dominant-baseline=\"central\" text-anchor=\"end\" font-family=\"monospace\" font-size=\"12\" x=\"64\" y=\"2560\">q39</text>\n",
       "<path id=\"qubit_line:40\" d=\"M64,2624 L5184,2624 \" stroke=\"black\"/>\n",
       "<text dominant-baseline=\"central\" text-anchor=\"end\" font-family=\"monospace\" font-size=\"12\" x=\"64\" y=\"2624\">q40</text>\n",
       "<path id=\"qubit_line:41\" d=\"M64,2688 L5184,2688 \" stroke=\"black\"/>\n",
       "<text dominant-baseline=\"central\" text-anchor=\"end\" font-family=\"monospace\" font-size=\"12\" x=\"64\" y=\"2688\">q41</text>\n",
       "<path id=\"qubit_line:42\" d=\"M64,2752 L5184,2752 \" stroke=\"black\"/>\n",
       "<text dominant-baseline=\"central\" text-anchor=\"end\" font-family=\"monospace\" font-size=\"12\" x=\"64\" y=\"2752\">q42</text>\n",
       "<path id=\"qubit_line:43\" d=\"M64,2816 L5184,2816 \" stroke=\"black\"/>\n",
       "<text dominant-baseline=\"central\" text-anchor=\"end\" font-family=\"monospace\" font-size=\"12\" x=\"64\" y=\"2816\">q43</text>\n",
       "<path id=\"qubit_line:44\" d=\"M64,2880 L5184,2880 \" stroke=\"black\"/>\n",
       "<text dominant-baseline=\"central\" text-anchor=\"end\" font-family=\"monospace\" font-size=\"12\" x=\"64\" y=\"2880\">q44</text>\n",
       "<path id=\"qubit_line:45\" d=\"M64,2944 L5184,2944 \" stroke=\"black\"/>\n",
       "<text dominant-baseline=\"central\" text-anchor=\"end\" font-family=\"monospace\" font-size=\"12\" x=\"64\" y=\"2944\">q45</text>\n",
       "<path id=\"qubit_line:46\" d=\"M64,3008 L5184,3008 \" stroke=\"black\"/>\n",
       "<text dominant-baseline=\"central\" text-anchor=\"end\" font-family=\"monospace\" font-size=\"12\" x=\"64\" y=\"3008\">q46</text>\n",
       "<path id=\"qubit_line:47\" d=\"M64,3072 L5184,3072 \" stroke=\"black\"/>\n",
       "<text dominant-baseline=\"central\" text-anchor=\"end\" font-family=\"monospace\" font-size=\"12\" x=\"64\" y=\"3072\">q47</text>\n",
       "<path id=\"qubit_line:48\" d=\"M64,3136 L5184,3136 \" stroke=\"black\"/>\n",
       "<text dominant-baseline=\"central\" text-anchor=\"end\" font-family=\"monospace\" font-size=\"12\" x=\"64\" y=\"3136\">q48</text>\n",
       "<path id=\"qubit_line:49\" d=\"M64,3200 L5184,3200 \" stroke=\"black\"/>\n",
       "<text dominant-baseline=\"central\" text-anchor=\"end\" font-family=\"monospace\" font-size=\"12\" x=\"64\" y=\"3200\">q49</text>\n",
       "<path id=\"qubit_line:50\" d=\"M64,3264 L5184,3264 \" stroke=\"black\"/>\n",
       "<text dominant-baseline=\"central\" text-anchor=\"end\" font-family=\"monospace\" font-size=\"12\" x=\"64\" y=\"3264\">q50</text>\n",
       "<path id=\"qubit_line:51\" d=\"M64,3328 L5184,3328 \" stroke=\"black\"/>\n",
       "<text dominant-baseline=\"central\" text-anchor=\"end\" font-family=\"monospace\" font-size=\"12\" x=\"64\" y=\"3328\">q51</text>\n",
       "<path id=\"qubit_line:52\" d=\"M64,3392 L5184,3392 \" stroke=\"black\"/>\n",
       "<text dominant-baseline=\"central\" text-anchor=\"end\" font-family=\"monospace\" font-size=\"12\" x=\"64\" y=\"3392\">q52</text>\n",
       "<path id=\"qubit_line:53\" d=\"M64,3456 L5184,3456 \" stroke=\"black\"/>\n",
       "<text dominant-baseline=\"central\" text-anchor=\"end\" font-family=\"monospace\" font-size=\"12\" x=\"64\" y=\"3456\">q53</text>\n",
       "<path id=\"qubit_line:54\" d=\"M64,3520 L5184,3520 \" stroke=\"black\"/>\n",
       "<text dominant-baseline=\"central\" text-anchor=\"end\" font-family=\"monospace\" font-size=\"12\" x=\"64\" y=\"3520\">q54</text>\n",
       "<path id=\"qubit_line:55\" d=\"M64,3584 L5184,3584 \" stroke=\"black\"/>\n",
       "<text dominant-baseline=\"central\" text-anchor=\"end\" font-family=\"monospace\" font-size=\"12\" x=\"64\" y=\"3584\">q55</text>\n",
       "<path id=\"qubit_line:56\" d=\"M64,3648 L5184,3648 \" stroke=\"black\"/>\n",
       "<text dominant-baseline=\"central\" text-anchor=\"end\" font-family=\"monospace\" font-size=\"12\" x=\"64\" y=\"3648\">q56</text>\n",
       "<path id=\"qubit_line:57\" d=\"M64,3712 L5184,3712 \" stroke=\"black\"/>\n",
       "<text dominant-baseline=\"central\" text-anchor=\"end\" font-family=\"monospace\" font-size=\"12\" x=\"64\" y=\"3712\">q57</text>\n",
       "<path id=\"qubit_line:58\" d=\"M64,3776 L5184,3776 \" stroke=\"black\"/>\n",
       "<text dominant-baseline=\"central\" text-anchor=\"end\" font-family=\"monospace\" font-size=\"12\" x=\"64\" y=\"3776\">q58</text>\n",
       "<path id=\"qubit_line:59\" d=\"M64,3840 L5184,3840 \" stroke=\"black\"/>\n",
       "<text dominant-baseline=\"central\" text-anchor=\"end\" font-family=\"monospace\" font-size=\"12\" x=\"64\" y=\"3840\">q59</text>\n",
       "<path id=\"qubit_line:60\" d=\"M64,3904 L5184,3904 \" stroke=\"black\"/>\n",
       "<text dominant-baseline=\"central\" text-anchor=\"end\" font-family=\"monospace\" font-size=\"12\" x=\"64\" y=\"3904\">q60</text>\n",
       "<path id=\"qubit_line:61\" d=\"M64,3968 L5184,3968 \" stroke=\"black\"/>\n",
       "<text dominant-baseline=\"central\" text-anchor=\"end\" font-family=\"monospace\" font-size=\"12\" x=\"64\" y=\"3968\">q61</text>\n",
       "<path id=\"qubit_line:62\" d=\"M64,4032 L5184,4032 \" stroke=\"black\"/>\n",
       "<text dominant-baseline=\"central\" text-anchor=\"end\" font-family=\"monospace\" font-size=\"12\" x=\"64\" y=\"4032\">q62</text>\n",
       "<path id=\"qubit_line:63\" d=\"M64,4096 L5184,4096 \" stroke=\"black\"/>\n",
       "<text dominant-baseline=\"central\" text-anchor=\"end\" font-family=\"monospace\" font-size=\"12\" x=\"64\" y=\"4096\">q63</text>\n",
       "<path id=\"qubit_line:64\" d=\"M64,4160 L5184,4160 \" stroke=\"black\"/>\n",
       "<text dominant-baseline=\"central\" text-anchor=\"end\" font-family=\"monospace\" font-size=\"12\" x=\"64\" y=\"4160\">q64</text>\n",
       "<path id=\"qubit_line:65\" d=\"M64,4224 L5184,4224 \" stroke=\"black\"/>\n",
       "<text dominant-baseline=\"central\" text-anchor=\"end\" font-family=\"monospace\" font-size=\"12\" x=\"64\" y=\"4224\">q65</text>\n",
       "<path id=\"qubit_line:66\" d=\"M64,4288 L5184,4288 \" stroke=\"black\"/>\n",
       "<text dominant-baseline=\"central\" text-anchor=\"end\" font-family=\"monospace\" font-size=\"12\" x=\"64\" y=\"4288\">q66</text>\n",
       "<path id=\"qubit_line:67\" d=\"M64,4352 L5184,4352 \" stroke=\"black\"/>\n",
       "<text dominant-baseline=\"central\" text-anchor=\"end\" font-family=\"monospace\" font-size=\"12\" x=\"64\" y=\"4352\">q67</text>\n",
       "<path id=\"qubit_line:68\" d=\"M64,4416 L5184,4416 \" stroke=\"black\"/>\n",
       "<text dominant-baseline=\"central\" text-anchor=\"end\" font-family=\"monospace\" font-size=\"12\" x=\"64\" y=\"4416\">q68</text>\n",
       "<path id=\"qubit_line:69\" d=\"M64,4480 L5184,4480 \" stroke=\"black\"/>\n",
       "<text dominant-baseline=\"central\" text-anchor=\"end\" font-family=\"monospace\" font-size=\"12\" x=\"64\" y=\"4480\">q69</text>\n",
       "<path id=\"qubit_line:70\" d=\"M64,4544 L5184,4544 \" stroke=\"black\"/>\n",
       "<text dominant-baseline=\"central\" text-anchor=\"end\" font-family=\"monospace\" font-size=\"12\" x=\"64\" y=\"4544\">q70</text>\n",
       "<path id=\"qubit_line:71\" d=\"M64,4608 L5184,4608 \" stroke=\"black\"/>\n",
       "<text dominant-baseline=\"central\" text-anchor=\"end\" font-family=\"monospace\" font-size=\"12\" x=\"64\" y=\"4608\">q71</text>\n",
       "<path id=\"qubit_line:72\" d=\"M64,4672 L5184,4672 \" stroke=\"black\"/>\n",
       "<text dominant-baseline=\"central\" text-anchor=\"end\" font-family=\"monospace\" font-size=\"12\" x=\"64\" y=\"4672\">q72</text>\n",
       "<path id=\"qubit_line:73\" d=\"M64,4736 L5184,4736 \" stroke=\"black\"/>\n",
       "<text dominant-baseline=\"central\" text-anchor=\"end\" font-family=\"monospace\" font-size=\"12\" x=\"64\" y=\"4736\">q73</text>\n",
       "<path id=\"qubit_line:74\" d=\"M64,4800 L5184,4800 \" stroke=\"black\"/>\n",
       "<text dominant-baseline=\"central\" text-anchor=\"end\" font-family=\"monospace\" font-size=\"12\" x=\"64\" y=\"4800\">q74</text>\n",
       "<path id=\"qubit_line:75\" d=\"M64,4864 L5184,4864 \" stroke=\"black\"/>\n",
       "<text dominant-baseline=\"central\" text-anchor=\"end\" font-family=\"monospace\" font-size=\"12\" x=\"64\" y=\"4864\">q75</text>\n",
       "<path id=\"qubit_line:76\" d=\"M64,4928 L5184,4928 \" stroke=\"black\"/>\n",
       "<text dominant-baseline=\"central\" text-anchor=\"end\" font-family=\"monospace\" font-size=\"12\" x=\"64\" y=\"4928\">q76</text>\n",
       "<path id=\"qubit_line:77\" d=\"M64,4992 L5184,4992 \" stroke=\"black\"/>\n",
       "<text dominant-baseline=\"central\" text-anchor=\"end\" font-family=\"monospace\" font-size=\"12\" x=\"64\" y=\"4992\">q77</text>\n",
       "<path id=\"qubit_line:78\" d=\"M64,5056 L5184,5056 \" stroke=\"black\"/>\n",
       "<text dominant-baseline=\"central\" text-anchor=\"end\" font-family=\"monospace\" font-size=\"12\" x=\"64\" y=\"5056\">q78</text>\n",
       "<path id=\"qubit_line:79\" d=\"M64,5120 L5184,5120 \" stroke=\"black\"/>\n",
       "<text dominant-baseline=\"central\" text-anchor=\"end\" font-family=\"monospace\" font-size=\"12\" x=\"64\" y=\"5120\">q79</text>\n",
       "<path id=\"qubit_line:80\" d=\"M64,5184 L5184,5184 \" stroke=\"black\"/>\n",
       "<text dominant-baseline=\"central\" text-anchor=\"end\" font-family=\"monospace\" font-size=\"12\" x=\"64\" y=\"5184\">q80</text>\n",
       "<path id=\"qubit_line:81\" d=\"M64,5248 L5184,5248 \" stroke=\"black\"/>\n",
       "<text dominant-baseline=\"central\" text-anchor=\"end\" font-family=\"monospace\" font-size=\"12\" x=\"64\" y=\"5248\">q81</text>\n",
       "<path id=\"qubit_line:82\" d=\"M64,5312 L5184,5312 \" stroke=\"black\"/>\n",
       "<text dominant-baseline=\"central\" text-anchor=\"end\" font-family=\"monospace\" font-size=\"12\" x=\"64\" y=\"5312\">q82</text>\n",
       "<path id=\"qubit_line:83\" d=\"M64,5376 L5184,5376 \" stroke=\"black\"/>\n",
       "<text dominant-baseline=\"central\" text-anchor=\"end\" font-family=\"monospace\" font-size=\"12\" x=\"64\" y=\"5376\">q83</text>\n",
       "<path id=\"qubit_line:84\" d=\"M64,5440 L5184,5440 \" stroke=\"black\"/>\n",
       "<text dominant-baseline=\"central\" text-anchor=\"end\" font-family=\"monospace\" font-size=\"12\" x=\"64\" y=\"5440\">q84</text>\n",
       "<path id=\"qubit_line:85\" d=\"M64,5504 L5184,5504 \" stroke=\"black\"/>\n",
       "<text dominant-baseline=\"central\" text-anchor=\"end\" font-family=\"monospace\" font-size=\"12\" x=\"64\" y=\"5504\">q85</text>\n",
       "<path id=\"qubit_line:86\" d=\"M64,5568 L5184,5568 \" stroke=\"black\"/>\n",
       "<text dominant-baseline=\"central\" text-anchor=\"end\" font-family=\"monospace\" font-size=\"12\" x=\"64\" y=\"5568\">q86</text>\n",
       "<path id=\"qubit_line:87\" d=\"M64,5632 L5184,5632 \" stroke=\"black\"/>\n",
       "<text dominant-baseline=\"central\" text-anchor=\"end\" font-family=\"monospace\" font-size=\"12\" x=\"64\" y=\"5632\">q87</text>\n",
       "<path id=\"qubit_line:88\" d=\"M64,5696 L5184,5696 \" stroke=\"black\"/>\n",
       "<text dominant-baseline=\"central\" text-anchor=\"end\" font-family=\"monospace\" font-size=\"12\" x=\"64\" y=\"5696\">q88</text>\n",
       "<path id=\"qubit_line:89\" d=\"M64,5760 L5184,5760 \" stroke=\"black\"/>\n",
       "<text dominant-baseline=\"central\" text-anchor=\"end\" font-family=\"monospace\" font-size=\"12\" x=\"64\" y=\"5760\">q89</text>\n",
       "<path id=\"qubit_line:90\" d=\"M64,5824 L5184,5824 \" stroke=\"black\"/>\n",
       "<text dominant-baseline=\"central\" text-anchor=\"end\" font-family=\"monospace\" font-size=\"12\" x=\"64\" y=\"5824\">q90</text>\n",
       "<path id=\"qubit_line:91\" d=\"M64,5888 L5184,5888 \" stroke=\"black\"/>\n",
       "<text dominant-baseline=\"central\" text-anchor=\"end\" font-family=\"monospace\" font-size=\"12\" x=\"64\" y=\"5888\">q91</text>\n",
       "<path id=\"qubit_line:92\" d=\"M64,5952 L5184,5952 \" stroke=\"black\"/>\n",
       "<text dominant-baseline=\"central\" text-anchor=\"end\" font-family=\"monospace\" font-size=\"12\" x=\"64\" y=\"5952\">q92</text>\n",
       "<path id=\"qubit_line:93\" d=\"M64,6016 L5184,6016 \" stroke=\"black\"/>\n",
       "<text dominant-baseline=\"central\" text-anchor=\"end\" font-family=\"monospace\" font-size=\"12\" x=\"64\" y=\"6016\">q93</text>\n",
       "<path id=\"qubit_line:94\" d=\"M64,6080 L5184,6080 \" stroke=\"black\"/>\n",
       "<text dominant-baseline=\"central\" text-anchor=\"end\" font-family=\"monospace\" font-size=\"12\" x=\"64\" y=\"6080\">q94</text>\n",
       "<path id=\"qubit_line:95\" d=\"M64,6144 L5184,6144 \" stroke=\"black\"/>\n",
       "<text dominant-baseline=\"central\" text-anchor=\"end\" font-family=\"monospace\" font-size=\"12\" x=\"64\" y=\"6144\">q95</text>\n",
       "<path id=\"qubit_line:96\" d=\"M64,6208 L5184,6208 \" stroke=\"black\"/>\n",
       "<text dominant-baseline=\"central\" text-anchor=\"end\" font-family=\"monospace\" font-size=\"12\" x=\"64\" y=\"6208\">q96</text>\n",
       "<path id=\"qubit_line:97\" d=\"M64,6272 L5184,6272 \" stroke=\"black\"/>\n",
       "<text dominant-baseline=\"central\" text-anchor=\"end\" font-family=\"monospace\" font-size=\"12\" x=\"64\" y=\"6272\">q97</text>\n",
       "</g>\n",
       "<rect x=\"80\" y=\"48\" width=\"224\" height=\"32\" stroke=\"black\" fill=\"white\"/>\n",
       "<text dominant-baseline=\"central\" text-anchor=\"middle\" font-family=\"monospace\" font-size=\"16\" x=\"192\" y=\"64\">COORDS(0,0)</text>\n",
       "<rect x=\"80\" y=\"112\" width=\"224\" height=\"32\" stroke=\"black\" fill=\"white\"/>\n",
       "<text dominant-baseline=\"central\" text-anchor=\"middle\" font-family=\"monospace\" font-size=\"16\" x=\"192\" y=\"128\">COORDS(1,0)</text>\n",
       "<rect x=\"80\" y=\"176\" width=\"224\" height=\"32\" stroke=\"black\" fill=\"white\"/>\n",
       "<text dominant-baseline=\"central\" text-anchor=\"middle\" font-family=\"monospace\" font-size=\"16\" x=\"192\" y=\"192\">COORDS(2,0)</text>\n",
       "<rect x=\"80\" y=\"240\" width=\"224\" height=\"32\" stroke=\"black\" fill=\"white\"/>\n",
       "<text dominant-baseline=\"central\" text-anchor=\"middle\" font-family=\"monospace\" font-size=\"16\" x=\"192\" y=\"256\">COORDS(3,0)</text>\n",
       "<rect x=\"80\" y=\"304\" width=\"224\" height=\"32\" stroke=\"black\" fill=\"white\"/>\n",
       "<text dominant-baseline=\"central\" text-anchor=\"middle\" font-family=\"monospace\" font-size=\"16\" x=\"192\" y=\"320\">COORDS(4,0)</text>\n",
       "<rect x=\"80\" y=\"368\" width=\"224\" height=\"32\" stroke=\"black\" fill=\"white\"/>\n",
       "<text dominant-baseline=\"central\" text-anchor=\"middle\" font-family=\"monospace\" font-size=\"16\" x=\"192\" y=\"384\">COORDS(5,0)</text>\n",
       "<rect x=\"80\" y=\"432\" width=\"224\" height=\"32\" stroke=\"black\" fill=\"white\"/>\n",
       "<text dominant-baseline=\"central\" text-anchor=\"middle\" font-family=\"monospace\" font-size=\"16\" x=\"192\" y=\"448\">COORDS(6,0)</text>\n",
       "<rect x=\"80\" y=\"496\" width=\"224\" height=\"32\" stroke=\"black\" fill=\"white\"/>\n",
       "<text dominant-baseline=\"central\" text-anchor=\"middle\" font-family=\"monospace\" font-size=\"16\" x=\"192\" y=\"512\">COORDS(0,1)</text>\n",
       "<rect x=\"80\" y=\"560\" width=\"224\" height=\"32\" stroke=\"black\" fill=\"white\"/>\n",
       "<text dominant-baseline=\"central\" text-anchor=\"middle\" font-family=\"monospace\" font-size=\"16\" x=\"192\" y=\"576\">COORDS(1,1)</text>\n",
       "<rect x=\"80\" y=\"624\" width=\"224\" height=\"32\" stroke=\"black\" fill=\"white\"/>\n",
       "<text dominant-baseline=\"central\" text-anchor=\"middle\" font-family=\"monospace\" font-size=\"16\" x=\"192\" y=\"640\">COORDS(2,1)</text>\n",
       "<rect x=\"80\" y=\"688\" width=\"224\" height=\"32\" stroke=\"black\" fill=\"white\"/>\n",
       "<text dominant-baseline=\"central\" text-anchor=\"middle\" font-family=\"monospace\" font-size=\"16\" x=\"192\" y=\"704\">COORDS(3,1)</text>\n",
       "<rect x=\"80\" y=\"752\" width=\"224\" height=\"32\" stroke=\"black\" fill=\"white\"/>\n",
       "<text dominant-baseline=\"central\" text-anchor=\"middle\" font-family=\"monospace\" font-size=\"16\" x=\"192\" y=\"768\">COORDS(4,1)</text>\n",
       "<rect x=\"80\" y=\"816\" width=\"224\" height=\"32\" stroke=\"black\" fill=\"white\"/>\n",
       "<text dominant-baseline=\"central\" text-anchor=\"middle\" font-family=\"monospace\" font-size=\"16\" x=\"192\" y=\"832\">COORDS(5,1)</text>\n",
       "<rect x=\"80\" y=\"880\" width=\"224\" height=\"32\" stroke=\"black\" fill=\"white\"/>\n",
       "<text dominant-baseline=\"central\" text-anchor=\"middle\" font-family=\"monospace\" font-size=\"16\" x=\"192\" y=\"896\">COORDS(6,1)</text>\n",
       "<rect x=\"80\" y=\"944\" width=\"224\" height=\"32\" stroke=\"black\" fill=\"white\"/>\n",
       "<text dominant-baseline=\"central\" text-anchor=\"middle\" font-family=\"monospace\" font-size=\"16\" x=\"192\" y=\"960\">COORDS(0,2)</text>\n",
       "<rect x=\"80\" y=\"1008\" width=\"224\" height=\"32\" stroke=\"black\" fill=\"white\"/>\n",
       "<text dominant-baseline=\"central\" text-anchor=\"middle\" font-family=\"monospace\" font-size=\"16\" x=\"192\" y=\"1024\">COORDS(1,2)</text>\n",
       "<rect x=\"80\" y=\"1072\" width=\"224\" height=\"32\" stroke=\"black\" fill=\"white\"/>\n",
       "<text dominant-baseline=\"central\" text-anchor=\"middle\" font-family=\"monospace\" font-size=\"16\" x=\"192\" y=\"1088\">COORDS(2,2)</text>\n",
       "<rect x=\"80\" y=\"1136\" width=\"224\" height=\"32\" stroke=\"black\" fill=\"white\"/>\n",
       "<text dominant-baseline=\"central\" text-anchor=\"middle\" font-family=\"monospace\" font-size=\"16\" x=\"192\" y=\"1152\">COORDS(3,2)</text>\n",
       "<rect x=\"80\" y=\"1200\" width=\"224\" height=\"32\" stroke=\"black\" fill=\"white\"/>\n",
       "<text dominant-baseline=\"central\" text-anchor=\"middle\" font-family=\"monospace\" font-size=\"16\" x=\"192\" y=\"1216\">COORDS(4,2)</text>\n",
       "<rect x=\"80\" y=\"1264\" width=\"224\" height=\"32\" stroke=\"black\" fill=\"white\"/>\n",
       "<text dominant-baseline=\"central\" text-anchor=\"middle\" font-family=\"monospace\" font-size=\"16\" x=\"192\" y=\"1280\">COORDS(5,2)</text>\n",
       "<rect x=\"80\" y=\"1328\" width=\"224\" height=\"32\" stroke=\"black\" fill=\"white\"/>\n",
       "<text dominant-baseline=\"central\" text-anchor=\"middle\" font-family=\"monospace\" font-size=\"16\" x=\"192\" y=\"1344\">COORDS(6,2)</text>\n",
       "<rect x=\"80\" y=\"1392\" width=\"224\" height=\"32\" stroke=\"black\" fill=\"white\"/>\n",
       "<text dominant-baseline=\"central\" text-anchor=\"middle\" font-family=\"monospace\" font-size=\"16\" x=\"192\" y=\"1408\">COORDS(0,3)</text>\n",
       "<rect x=\"80\" y=\"1456\" width=\"224\" height=\"32\" stroke=\"black\" fill=\"white\"/>\n",
       "<text dominant-baseline=\"central\" text-anchor=\"middle\" font-family=\"monospace\" font-size=\"16\" x=\"192\" y=\"1472\">COORDS(1,3)</text>\n",
       "<rect x=\"80\" y=\"1520\" width=\"224\" height=\"32\" stroke=\"black\" fill=\"white\"/>\n",
       "<text dominant-baseline=\"central\" text-anchor=\"middle\" font-family=\"monospace\" font-size=\"16\" x=\"192\" y=\"1536\">COORDS(2,3)</text>\n",
       "<rect x=\"80\" y=\"1584\" width=\"224\" height=\"32\" stroke=\"black\" fill=\"white\"/>\n",
       "<text dominant-baseline=\"central\" text-anchor=\"middle\" font-family=\"monospace\" font-size=\"16\" x=\"192\" y=\"1600\">COORDS(3,3)</text>\n",
       "<rect x=\"80\" y=\"1648\" width=\"224\" height=\"32\" stroke=\"black\" fill=\"white\"/>\n",
       "<text dominant-baseline=\"central\" text-anchor=\"middle\" font-family=\"monospace\" font-size=\"16\" x=\"192\" y=\"1664\">COORDS(4,3)</text>\n",
       "<rect x=\"80\" y=\"1712\" width=\"224\" height=\"32\" stroke=\"black\" fill=\"white\"/>\n",
       "<text dominant-baseline=\"central\" text-anchor=\"middle\" font-family=\"monospace\" font-size=\"16\" x=\"192\" y=\"1728\">COORDS(5,3)</text>\n",
       "<rect x=\"80\" y=\"1776\" width=\"224\" height=\"32\" stroke=\"black\" fill=\"white\"/>\n",
       "<text dominant-baseline=\"central\" text-anchor=\"middle\" font-family=\"monospace\" font-size=\"16\" x=\"192\" y=\"1792\">COORDS(6,3)</text>\n",
       "<rect x=\"80\" y=\"1840\" width=\"224\" height=\"32\" stroke=\"black\" fill=\"white\"/>\n",
       "<text dominant-baseline=\"central\" text-anchor=\"middle\" font-family=\"monospace\" font-size=\"16\" x=\"192\" y=\"1856\">COORDS(0,4)</text>\n",
       "<rect x=\"80\" y=\"1904\" width=\"224\" height=\"32\" stroke=\"black\" fill=\"white\"/>\n",
       "<text dominant-baseline=\"central\" text-anchor=\"middle\" font-family=\"monospace\" font-size=\"16\" x=\"192\" y=\"1920\">COORDS(1,4)</text>\n",
       "<rect x=\"80\" y=\"1968\" width=\"224\" height=\"32\" stroke=\"black\" fill=\"white\"/>\n",
       "<text dominant-baseline=\"central\" text-anchor=\"middle\" font-family=\"monospace\" font-size=\"16\" x=\"192\" y=\"1984\">COORDS(2,4)</text>\n",
       "<rect x=\"80\" y=\"2032\" width=\"224\" height=\"32\" stroke=\"black\" fill=\"white\"/>\n",
       "<text dominant-baseline=\"central\" text-anchor=\"middle\" font-family=\"monospace\" font-size=\"16\" x=\"192\" y=\"2048\">COORDS(3,4)</text>\n",
       "<rect x=\"80\" y=\"2096\" width=\"224\" height=\"32\" stroke=\"black\" fill=\"white\"/>\n",
       "<text dominant-baseline=\"central\" text-anchor=\"middle\" font-family=\"monospace\" font-size=\"16\" x=\"192\" y=\"2112\">COORDS(4,4)</text>\n",
       "<rect x=\"80\" y=\"2160\" width=\"224\" height=\"32\" stroke=\"black\" fill=\"white\"/>\n",
       "<text dominant-baseline=\"central\" text-anchor=\"middle\" font-family=\"monospace\" font-size=\"16\" x=\"192\" y=\"2176\">COORDS(5,4)</text>\n",
       "<rect x=\"80\" y=\"2224\" width=\"224\" height=\"32\" stroke=\"black\" fill=\"white\"/>\n",
       "<text dominant-baseline=\"central\" text-anchor=\"middle\" font-family=\"monospace\" font-size=\"16\" x=\"192\" y=\"2240\">COORDS(6,4)</text>\n",
       "<rect x=\"80\" y=\"2288\" width=\"224\" height=\"32\" stroke=\"black\" fill=\"white\"/>\n",
       "<text dominant-baseline=\"central\" text-anchor=\"middle\" font-family=\"monospace\" font-size=\"16\" x=\"192\" y=\"2304\">COORDS(0,5)</text>\n",
       "<rect x=\"80\" y=\"2352\" width=\"224\" height=\"32\" stroke=\"black\" fill=\"white\"/>\n",
       "<text dominant-baseline=\"central\" text-anchor=\"middle\" font-family=\"monospace\" font-size=\"16\" x=\"192\" y=\"2368\">COORDS(1,5)</text>\n",
       "<rect x=\"80\" y=\"2416\" width=\"224\" height=\"32\" stroke=\"black\" fill=\"white\"/>\n",
       "<text dominant-baseline=\"central\" text-anchor=\"middle\" font-family=\"monospace\" font-size=\"16\" x=\"192\" y=\"2432\">COORDS(2,5)</text>\n",
       "<rect x=\"80\" y=\"2480\" width=\"224\" height=\"32\" stroke=\"black\" fill=\"white\"/>\n",
       "<text dominant-baseline=\"central\" text-anchor=\"middle\" font-family=\"monospace\" font-size=\"16\" x=\"192\" y=\"2496\">COORDS(3,5)</text>\n",
       "<rect x=\"80\" y=\"2544\" width=\"224\" height=\"32\" stroke=\"black\" fill=\"white\"/>\n",
       "<text dominant-baseline=\"central\" text-anchor=\"middle\" font-family=\"monospace\" font-size=\"16\" x=\"192\" y=\"2560\">COORDS(4,5)</text>\n",
       "<rect x=\"80\" y=\"2608\" width=\"224\" height=\"32\" stroke=\"black\" fill=\"white\"/>\n",
       "<text dominant-baseline=\"central\" text-anchor=\"middle\" font-family=\"monospace\" font-size=\"16\" x=\"192\" y=\"2624\">COORDS(5,5)</text>\n",
       "<rect x=\"80\" y=\"2672\" width=\"224\" height=\"32\" stroke=\"black\" fill=\"white\"/>\n",
       "<text dominant-baseline=\"central\" text-anchor=\"middle\" font-family=\"monospace\" font-size=\"16\" x=\"192\" y=\"2688\">COORDS(6,5)</text>\n",
       "<rect x=\"80\" y=\"2736\" width=\"224\" height=\"32\" stroke=\"black\" fill=\"white\"/>\n",
       "<text dominant-baseline=\"central\" text-anchor=\"middle\" font-family=\"monospace\" font-size=\"16\" x=\"192\" y=\"2752\">COORDS(-0.5,-0.5)</text>\n",
       "<rect x=\"80\" y=\"2800\" width=\"224\" height=\"32\" stroke=\"black\" fill=\"white\"/>\n",
       "<text dominant-baseline=\"central\" text-anchor=\"middle\" font-family=\"monospace\" font-size=\"16\" x=\"192\" y=\"2816\">COORDS(0.5,-0.5)</text>\n",
       "<rect x=\"80\" y=\"2864\" width=\"224\" height=\"32\" stroke=\"black\" fill=\"white\"/>\n",
       "<text dominant-baseline=\"central\" text-anchor=\"middle\" font-family=\"monospace\" font-size=\"16\" x=\"192\" y=\"2880\">COORDS(1.5,-0.5)</text>\n",
       "<rect x=\"80\" y=\"2928\" width=\"224\" height=\"32\" stroke=\"black\" fill=\"white\"/>\n",
       "<text dominant-baseline=\"central\" text-anchor=\"middle\" font-family=\"monospace\" font-size=\"16\" x=\"192\" y=\"2944\">COORDS(2.5,-0.5)</text>\n",
       "<rect x=\"80\" y=\"2992\" width=\"224\" height=\"32\" stroke=\"black\" fill=\"white\"/>\n",
       "<text dominant-baseline=\"central\" text-anchor=\"middle\" font-family=\"monospace\" font-size=\"16\" x=\"192\" y=\"3008\">COORDS(3.5,-0.5)</text>\n",
       "<rect x=\"80\" y=\"3056\" width=\"224\" height=\"32\" stroke=\"black\" fill=\"white\"/>\n",
       "<text dominant-baseline=\"central\" text-anchor=\"middle\" font-family=\"monospace\" font-size=\"16\" x=\"192\" y=\"3072\">COORDS(4.5,-0.5)</text>\n",
       "<rect x=\"80\" y=\"3120\" width=\"224\" height=\"32\" stroke=\"black\" fill=\"white\"/>\n",
       "<text dominant-baseline=\"central\" text-anchor=\"middle\" font-family=\"monospace\" font-size=\"16\" x=\"192\" y=\"3136\">COORDS(5.5,-0.5)</text>\n",
       "<rect x=\"80\" y=\"3184\" width=\"224\" height=\"32\" stroke=\"black\" fill=\"white\"/>\n",
       "<text dominant-baseline=\"central\" text-anchor=\"middle\" font-family=\"monospace\" font-size=\"16\" x=\"192\" y=\"3200\">COORDS(6.5,-0.5)</text>\n",
       "<rect x=\"80\" y=\"3248\" width=\"224\" height=\"32\" stroke=\"black\" fill=\"white\"/>\n",
       "<text dominant-baseline=\"central\" text-anchor=\"middle\" font-family=\"monospace\" font-size=\"16\" x=\"192\" y=\"3264\">COORDS(-0.5,0.5)</text>\n",
       "<rect x=\"80\" y=\"3312\" width=\"224\" height=\"32\" stroke=\"black\" fill=\"white\"/>\n",
       "<text dominant-baseline=\"central\" text-anchor=\"middle\" font-family=\"monospace\" font-size=\"16\" x=\"192\" y=\"3328\">COORDS(0.5,0.5)</text>\n",
       "<rect x=\"80\" y=\"3376\" width=\"224\" height=\"32\" stroke=\"black\" fill=\"white\"/>\n",
       "<text dominant-baseline=\"central\" text-anchor=\"middle\" font-family=\"monospace\" font-size=\"16\" x=\"192\" y=\"3392\">COORDS(1.5,0.5)</text>\n",
       "<rect x=\"80\" y=\"3440\" width=\"224\" height=\"32\" stroke=\"black\" fill=\"white\"/>\n",
       "<text dominant-baseline=\"central\" text-anchor=\"middle\" font-family=\"monospace\" font-size=\"16\" x=\"192\" y=\"3456\">COORDS(2.5,0.5)</text>\n",
       "<rect x=\"80\" y=\"3504\" width=\"224\" height=\"32\" stroke=\"black\" fill=\"white\"/>\n",
       "<text dominant-baseline=\"central\" text-anchor=\"middle\" font-family=\"monospace\" font-size=\"16\" x=\"192\" y=\"3520\">COORDS(3.5,0.5)</text>\n",
       "<rect x=\"80\" y=\"3568\" width=\"224\" height=\"32\" stroke=\"black\" fill=\"white\"/>\n",
       "<text dominant-baseline=\"central\" text-anchor=\"middle\" font-family=\"monospace\" font-size=\"16\" x=\"192\" y=\"3584\">COORDS(4.5,0.5)</text>\n",
       "<rect x=\"80\" y=\"3632\" width=\"224\" height=\"32\" stroke=\"black\" fill=\"white\"/>\n",
       "<text dominant-baseline=\"central\" text-anchor=\"middle\" font-family=\"monospace\" font-size=\"16\" x=\"192\" y=\"3648\">COORDS(5.5,0.5)</text>\n",
       "<rect x=\"80\" y=\"3696\" width=\"224\" height=\"32\" stroke=\"black\" fill=\"white\"/>\n",
       "<text dominant-baseline=\"central\" text-anchor=\"middle\" font-family=\"monospace\" font-size=\"16\" x=\"192\" y=\"3712\">COORDS(6.5,0.5)</text>\n",
       "<rect x=\"80\" y=\"3760\" width=\"224\" height=\"32\" stroke=\"black\" fill=\"white\"/>\n",
       "<text dominant-baseline=\"central\" text-anchor=\"middle\" font-family=\"monospace\" font-size=\"16\" x=\"192\" y=\"3776\">COORDS(-0.5,1.5)</text>\n",
       "<rect x=\"80\" y=\"3824\" width=\"224\" height=\"32\" stroke=\"black\" fill=\"white\"/>\n",
       "<text dominant-baseline=\"central\" text-anchor=\"middle\" font-family=\"monospace\" font-size=\"16\" x=\"192\" y=\"3840\">COORDS(0.5,1.5)</text>\n",
       "<rect x=\"80\" y=\"3888\" width=\"224\" height=\"32\" stroke=\"black\" fill=\"white\"/>\n",
       "<text dominant-baseline=\"central\" text-anchor=\"middle\" font-family=\"monospace\" font-size=\"16\" x=\"192\" y=\"3904\">COORDS(1.5,1.5)</text>\n",
       "<rect x=\"80\" y=\"3952\" width=\"224\" height=\"32\" stroke=\"black\" fill=\"white\"/>\n",
       "<text dominant-baseline=\"central\" text-anchor=\"middle\" font-family=\"monospace\" font-size=\"16\" x=\"192\" y=\"3968\">COORDS(2.5,1.5)</text>\n",
       "<rect x=\"80\" y=\"4016\" width=\"224\" height=\"32\" stroke=\"black\" fill=\"white\"/>\n",
       "<text dominant-baseline=\"central\" text-anchor=\"middle\" font-family=\"monospace\" font-size=\"16\" x=\"192\" y=\"4032\">COORDS(3.5,1.5)</text>\n",
       "<rect x=\"80\" y=\"4080\" width=\"224\" height=\"32\" stroke=\"black\" fill=\"white\"/>\n",
       "<text dominant-baseline=\"central\" text-anchor=\"middle\" font-family=\"monospace\" font-size=\"16\" x=\"192\" y=\"4096\">COORDS(4.5,1.5)</text>\n",
       "<rect x=\"80\" y=\"4144\" width=\"224\" height=\"32\" stroke=\"black\" fill=\"white\"/>\n",
       "<text dominant-baseline=\"central\" text-anchor=\"middle\" font-family=\"monospace\" font-size=\"16\" x=\"192\" y=\"4160\">COORDS(5.5,1.5)</text>\n",
       "<rect x=\"80\" y=\"4208\" width=\"224\" height=\"32\" stroke=\"black\" fill=\"white\"/>\n",
       "<text dominant-baseline=\"central\" text-anchor=\"middle\" font-family=\"monospace\" font-size=\"16\" x=\"192\" y=\"4224\">COORDS(6.5,1.5)</text>\n",
       "<rect x=\"80\" y=\"4272\" width=\"224\" height=\"32\" stroke=\"black\" fill=\"white\"/>\n",
       "<text dominant-baseline=\"central\" text-anchor=\"middle\" font-family=\"monospace\" font-size=\"16\" x=\"192\" y=\"4288\">COORDS(-0.5,2.5)</text>\n",
       "<rect x=\"80\" y=\"4336\" width=\"224\" height=\"32\" stroke=\"black\" fill=\"white\"/>\n",
       "<text dominant-baseline=\"central\" text-anchor=\"middle\" font-family=\"monospace\" font-size=\"16\" x=\"192\" y=\"4352\">COORDS(0.5,2.5)</text>\n",
       "<rect x=\"80\" y=\"4400\" width=\"224\" height=\"32\" stroke=\"black\" fill=\"white\"/>\n",
       "<text dominant-baseline=\"central\" text-anchor=\"middle\" font-family=\"monospace\" font-size=\"16\" x=\"192\" y=\"4416\">COORDS(1.5,2.5)</text>\n",
       "<rect x=\"80\" y=\"4464\" width=\"224\" height=\"32\" stroke=\"black\" fill=\"white\"/>\n",
       "<text dominant-baseline=\"central\" text-anchor=\"middle\" font-family=\"monospace\" font-size=\"16\" x=\"192\" y=\"4480\">COORDS(2.5,2.5)</text>\n",
       "<rect x=\"80\" y=\"4528\" width=\"224\" height=\"32\" stroke=\"black\" fill=\"white\"/>\n",
       "<text dominant-baseline=\"central\" text-anchor=\"middle\" font-family=\"monospace\" font-size=\"16\" x=\"192\" y=\"4544\">COORDS(3.5,2.5)</text>\n",
       "<rect x=\"80\" y=\"4592\" width=\"224\" height=\"32\" stroke=\"black\" fill=\"white\"/>\n",
       "<text dominant-baseline=\"central\" text-anchor=\"middle\" font-family=\"monospace\" font-size=\"16\" x=\"192\" y=\"4608\">COORDS(4.5,2.5)</text>\n",
       "<rect x=\"80\" y=\"4656\" width=\"224\" height=\"32\" stroke=\"black\" fill=\"white\"/>\n",
       "<text dominant-baseline=\"central\" text-anchor=\"middle\" font-family=\"monospace\" font-size=\"16\" x=\"192\" y=\"4672\">COORDS(5.5,2.5)</text>\n",
       "<rect x=\"80\" y=\"4720\" width=\"224\" height=\"32\" stroke=\"black\" fill=\"white\"/>\n",
       "<text dominant-baseline=\"central\" text-anchor=\"middle\" font-family=\"monospace\" font-size=\"16\" x=\"192\" y=\"4736\">COORDS(6.5,2.5)</text>\n",
       "<rect x=\"80\" y=\"4784\" width=\"224\" height=\"32\" stroke=\"black\" fill=\"white\"/>\n",
       "<text dominant-baseline=\"central\" text-anchor=\"middle\" font-family=\"monospace\" font-size=\"16\" x=\"192\" y=\"4800\">COORDS(-0.5,3.5)</text>\n",
       "<rect x=\"80\" y=\"4848\" width=\"224\" height=\"32\" stroke=\"black\" fill=\"white\"/>\n",
       "<text dominant-baseline=\"central\" text-anchor=\"middle\" font-family=\"monospace\" font-size=\"16\" x=\"192\" y=\"4864\">COORDS(0.5,3.5)</text>\n",
       "<rect x=\"80\" y=\"4912\" width=\"224\" height=\"32\" stroke=\"black\" fill=\"white\"/>\n",
       "<text dominant-baseline=\"central\" text-anchor=\"middle\" font-family=\"monospace\" font-size=\"16\" x=\"192\" y=\"4928\">COORDS(1.5,3.5)</text>\n",
       "<rect x=\"80\" y=\"4976\" width=\"224\" height=\"32\" stroke=\"black\" fill=\"white\"/>\n",
       "<text dominant-baseline=\"central\" text-anchor=\"middle\" font-family=\"monospace\" font-size=\"16\" x=\"192\" y=\"4992\">COORDS(2.5,3.5)</text>\n",
       "<rect x=\"80\" y=\"5040\" width=\"224\" height=\"32\" stroke=\"black\" fill=\"white\"/>\n",
       "<text dominant-baseline=\"central\" text-anchor=\"middle\" font-family=\"monospace\" font-size=\"16\" x=\"192\" y=\"5056\">COORDS(3.5,3.5)</text>\n",
       "<rect x=\"80\" y=\"5104\" width=\"224\" height=\"32\" stroke=\"black\" fill=\"white\"/>\n",
       "<text dominant-baseline=\"central\" text-anchor=\"middle\" font-family=\"monospace\" font-size=\"16\" x=\"192\" y=\"5120\">COORDS(4.5,3.5)</text>\n",
       "<rect x=\"80\" y=\"5168\" width=\"224\" height=\"32\" stroke=\"black\" fill=\"white\"/>\n",
       "<text dominant-baseline=\"central\" text-anchor=\"middle\" font-family=\"monospace\" font-size=\"16\" x=\"192\" y=\"5184\">COORDS(5.5,3.5)</text>\n",
       "<rect x=\"80\" y=\"5232\" width=\"224\" height=\"32\" stroke=\"black\" fill=\"white\"/>\n",
       "<text dominant-baseline=\"central\" text-anchor=\"middle\" font-family=\"monospace\" font-size=\"16\" x=\"192\" y=\"5248\">COORDS(6.5,3.5)</text>\n",
       "<rect x=\"80\" y=\"5296\" width=\"224\" height=\"32\" stroke=\"black\" fill=\"white\"/>\n",
       "<text dominant-baseline=\"central\" text-anchor=\"middle\" font-family=\"monospace\" font-size=\"16\" x=\"192\" y=\"5312\">COORDS(-0.5,4.5)</text>\n",
       "<rect x=\"80\" y=\"5360\" width=\"224\" height=\"32\" stroke=\"black\" fill=\"white\"/>\n",
       "<text dominant-baseline=\"central\" text-anchor=\"middle\" font-family=\"monospace\" font-size=\"16\" x=\"192\" y=\"5376\">COORDS(0.5,4.5)</text>\n",
       "<rect x=\"80\" y=\"5424\" width=\"224\" height=\"32\" stroke=\"black\" fill=\"white\"/>\n",
       "<text dominant-baseline=\"central\" text-anchor=\"middle\" font-family=\"monospace\" font-size=\"16\" x=\"192\" y=\"5440\">COORDS(1.5,4.5)</text>\n",
       "<rect x=\"80\" y=\"5488\" width=\"224\" height=\"32\" stroke=\"black\" fill=\"white\"/>\n",
       "<text dominant-baseline=\"central\" text-anchor=\"middle\" font-family=\"monospace\" font-size=\"16\" x=\"192\" y=\"5504\">COORDS(2.5,4.5)</text>\n",
       "<rect x=\"80\" y=\"5552\" width=\"224\" height=\"32\" stroke=\"black\" fill=\"white\"/>\n",
       "<text dominant-baseline=\"central\" text-anchor=\"middle\" font-family=\"monospace\" font-size=\"16\" x=\"192\" y=\"5568\">COORDS(3.5,4.5)</text>\n",
       "<rect x=\"80\" y=\"5616\" width=\"224\" height=\"32\" stroke=\"black\" fill=\"white\"/>\n",
       "<text dominant-baseline=\"central\" text-anchor=\"middle\" font-family=\"monospace\" font-size=\"16\" x=\"192\" y=\"5632\">COORDS(4.5,4.5)</text>\n",
       "<rect x=\"80\" y=\"5680\" width=\"224\" height=\"32\" stroke=\"black\" fill=\"white\"/>\n",
       "<text dominant-baseline=\"central\" text-anchor=\"middle\" font-family=\"monospace\" font-size=\"16\" x=\"192\" y=\"5696\">COORDS(5.5,4.5)</text>\n",
       "<rect x=\"80\" y=\"5744\" width=\"224\" height=\"32\" stroke=\"black\" fill=\"white\"/>\n",
       "<text dominant-baseline=\"central\" text-anchor=\"middle\" font-family=\"monospace\" font-size=\"16\" x=\"192\" y=\"5760\">COORDS(6.5,4.5)</text>\n",
       "<rect x=\"80\" y=\"5808\" width=\"224\" height=\"32\" stroke=\"black\" fill=\"white\"/>\n",
       "<text dominant-baseline=\"central\" text-anchor=\"middle\" font-family=\"monospace\" font-size=\"16\" x=\"192\" y=\"5824\">COORDS(-0.5,5.5)</text>\n",
       "<rect x=\"80\" y=\"5872\" width=\"224\" height=\"32\" stroke=\"black\" fill=\"white\"/>\n",
       "<text dominant-baseline=\"central\" text-anchor=\"middle\" font-family=\"monospace\" font-size=\"16\" x=\"192\" y=\"5888\">COORDS(0.5,5.5)</text>\n",
       "<rect x=\"80\" y=\"5936\" width=\"224\" height=\"32\" stroke=\"black\" fill=\"white\"/>\n",
       "<text dominant-baseline=\"central\" text-anchor=\"middle\" font-family=\"monospace\" font-size=\"16\" x=\"192\" y=\"5952\">COORDS(1.5,5.5)</text>\n",
       "<rect x=\"80\" y=\"6000\" width=\"224\" height=\"32\" stroke=\"black\" fill=\"white\"/>\n",
       "<text dominant-baseline=\"central\" text-anchor=\"middle\" font-family=\"monospace\" font-size=\"16\" x=\"192\" y=\"6016\">COORDS(2.5,5.5)</text>\n",
       "<rect x=\"80\" y=\"6064\" width=\"224\" height=\"32\" stroke=\"black\" fill=\"white\"/>\n",
       "<text dominant-baseline=\"central\" text-anchor=\"middle\" font-family=\"monospace\" font-size=\"16\" x=\"192\" y=\"6080\">COORDS(3.5,5.5)</text>\n",
       "<rect x=\"80\" y=\"6128\" width=\"224\" height=\"32\" stroke=\"black\" fill=\"white\"/>\n",
       "<text dominant-baseline=\"central\" text-anchor=\"middle\" font-family=\"monospace\" font-size=\"16\" x=\"192\" y=\"6144\">COORDS(4.5,5.5)</text>\n",
       "<rect x=\"80\" y=\"6192\" width=\"224\" height=\"32\" stroke=\"black\" fill=\"white\"/>\n",
       "<text dominant-baseline=\"central\" text-anchor=\"middle\" font-family=\"monospace\" font-size=\"16\" x=\"192\" y=\"6208\">COORDS(5.5,5.5)</text>\n",
       "<rect x=\"80\" y=\"6256\" width=\"224\" height=\"32\" stroke=\"black\" fill=\"white\"/>\n",
       "<text dominant-baseline=\"central\" text-anchor=\"middle\" font-family=\"monospace\" font-size=\"16\" x=\"192\" y=\"6272\">COORDS(6.5,5.5)</text>\n",
       "<rect x=\"336\" y=\"624\" width=\"32\" height=\"32\" stroke=\"black\" fill=\"black\"/>\n",
       "<text dominant-baseline=\"central\" text-anchor=\"middle\" font-family=\"monospace\" font-size=\"30\" x=\"352\" y=\"640\" fill=\"white\">R</text>\n",
       "<rect x=\"336\" y=\"688\" width=\"32\" height=\"32\" stroke=\"black\" fill=\"black\"/>\n",
       "<text dominant-baseline=\"central\" text-anchor=\"middle\" font-family=\"monospace\" font-size=\"30\" x=\"352\" y=\"704\" fill=\"white\">R</text>\n",
       "<rect x=\"336\" y=\"1072\" width=\"32\" height=\"32\" stroke=\"black\" fill=\"black\"/>\n",
       "<text dominant-baseline=\"central\" text-anchor=\"middle\" font-family=\"monospace\" font-size=\"30\" x=\"352\" y=\"1088\" fill=\"white\">R</text>\n",
       "<rect x=\"336\" y=\"1136\" width=\"32\" height=\"32\" stroke=\"black\" fill=\"black\"/>\n",
       "<text dominant-baseline=\"central\" text-anchor=\"middle\" font-family=\"monospace\" font-size=\"30\" x=\"352\" y=\"1152\" fill=\"white\">R</text>\n",
       "<rect x=\"336\" y=\"1008\" width=\"32\" height=\"32\" stroke=\"black\" fill=\"black\"/>\n",
       "<text dominant-baseline=\"central\" text-anchor=\"middle\" font-family=\"monospace\" font-size=\"30\" x=\"352\" y=\"1024\" fill=\"white\">R</text>\n",
       "<rect x=\"336\" y=\"1456\" width=\"32\" height=\"32\" stroke=\"black\" fill=\"black\"/>\n",
       "<text dominant-baseline=\"central\" text-anchor=\"middle\" font-family=\"monospace\" font-size=\"30\" x=\"352\" y=\"1472\" fill=\"white\">R</text>\n",
       "<rect x=\"336\" y=\"1520\" width=\"32\" height=\"32\" stroke=\"black\" fill=\"black\"/>\n",
       "<text dominant-baseline=\"central\" text-anchor=\"middle\" font-family=\"monospace\" font-size=\"30\" x=\"352\" y=\"1536\" fill=\"white\">R</text>\n",
       "<rect x=\"336\" y=\"560\" width=\"32\" height=\"32\" stroke=\"black\" fill=\"black\"/>\n",
       "<text dominant-baseline=\"central\" text-anchor=\"middle\" font-family=\"monospace\" font-size=\"30\" x=\"352\" y=\"576\" fill=\"white\">R</text>\n",
       "<rect x=\"336\" y=\"1584\" width=\"32\" height=\"32\" stroke=\"black\" fill=\"black\"/>\n",
       "<text dominant-baseline=\"central\" text-anchor=\"middle\" font-family=\"monospace\" font-size=\"30\" x=\"352\" y=\"1600\" fill=\"white\">R</text>\n",
       "<path d=\"M68,40 L68,32 L380,32 L380,40 \" stroke=\"black\" fill=\"none\"/>\n",
       "<path d=\"M68,6328 L68,6336 L380,6336 L380,6328 \" stroke=\"black\" fill=\"none\"/>\n",
       "<rect x=\"400\" y=\"3952\" width=\"32\" height=\"32\" stroke=\"black\" fill=\"white\"/>\n",
       "<text dominant-baseline=\"central\" text-anchor=\"middle\" font-family=\"monospace\" font-size=\"30\" x=\"416\" y=\"3968\">H</text>\n",
       "<rect x=\"400\" y=\"4400\" width=\"32\" height=\"32\" stroke=\"black\" fill=\"white\"/>\n",
       "<text dominant-baseline=\"central\" text-anchor=\"middle\" font-family=\"monospace\" font-size=\"30\" x=\"416\" y=\"4416\">H</text>\n",
       "<rect x=\"400\" y=\"3824\" width=\"32\" height=\"32\" stroke=\"black\" fill=\"white\"/>\n",
       "<text dominant-baseline=\"central\" text-anchor=\"middle\" font-family=\"monospace\" font-size=\"30\" x=\"416\" y=\"3840\">H</text>\n",
       "<rect x=\"400\" y=\"4528\" width=\"32\" height=\"32\" stroke=\"black\" fill=\"white\"/>\n",
       "<text dominant-baseline=\"central\" text-anchor=\"middle\" font-family=\"monospace\" font-size=\"30\" x=\"416\" y=\"4544\">H</text>\n",
       "<rect x=\"400\" y=\"3888\" width=\"32\" height=\"32\" stroke=\"black\" fill=\"white\"/>\n",
       "<text dominant-baseline=\"central\" text-anchor=\"middle\" font-family=\"monospace\" font-size=\"30\" x=\"416\" y=\"3904\">H</text>\n",
       "<rect x=\"400\" y=\"4464\" width=\"32\" height=\"32\" stroke=\"black\" fill=\"white\"/>\n",
       "<text dominant-baseline=\"central\" text-anchor=\"middle\" font-family=\"monospace\" font-size=\"30\" x=\"416\" y=\"4480\">H</text>\n",
       "<rect x=\"400\" y=\"4912\" width=\"32\" height=\"32\" stroke=\"black\" fill=\"white\"/>\n",
       "<text dominant-baseline=\"central\" text-anchor=\"middle\" font-family=\"monospace\" font-size=\"30\" x=\"416\" y=\"4928\">H</text>\n",
       "<rect x=\"400\" y=\"3440\" width=\"32\" height=\"32\" stroke=\"black\" fill=\"white\"/>\n",
       "<text dominant-baseline=\"central\" text-anchor=\"middle\" font-family=\"monospace\" font-size=\"30\" x=\"416\" y=\"3456\">H</text>\n",
       "<path d=\"M480,640 L480,3968 \" stroke=\"black\"/>\n",
       "<circle cx=\"480\" cy=\"3968\" r=\"12\" stroke=\"none\" fill=\"black\"/>\n",
       "<circle cx=\"480\" cy=\"640\" r=\"12\" stroke=\"black\" fill=\"white\"/>\n",
       "<path d=\"M468,640 L492,640 M480,628 L480,652 \" stroke=\"black\"/>\n",
       "<path d=\"M544,1024 L544,4416 \" stroke=\"black\"/>\n",
       "<circle cx=\"544\" cy=\"4416\" r=\"12\" stroke=\"none\" fill=\"black\"/>\n",
       "<circle cx=\"544\" cy=\"1024\" r=\"12\" stroke=\"black\" fill=\"white\"/>\n",
       "<path d=\"M532,1024 L556,1024 M544,1012 L544,1036 \" stroke=\"black\"/>\n",
       "<path d=\"M608,576 L608,3840 \" stroke=\"black\"/>\n",
       "<circle cx=\"608\" cy=\"3840\" r=\"12\" stroke=\"none\" fill=\"black\"/>\n",
       "<circle cx=\"608\" cy=\"576\" r=\"12\" stroke=\"black\" fill=\"white\"/>\n",
       "<path d=\"M596,576 L620,576 M608,564 L608,588 \" stroke=\"black\"/>\n",
       "<path d=\"M672,1152 L672,4544 \" stroke=\"black\"/>\n",
       "<circle cx=\"672\" cy=\"4544\" r=\"12\" stroke=\"none\" fill=\"black\"/>\n",
       "<circle cx=\"672\" cy=\"1152\" r=\"12\" stroke=\"black\" fill=\"white\"/>\n",
       "<path d=\"M660,1152 L684,1152 M672,1140 L672,1164 \" stroke=\"black\"/>\n",
       "<path d=\"M736,576 L736,3904 \" stroke=\"black\"/>\n",
       "<circle cx=\"736\" cy=\"3904\" r=\"12\" stroke=\"none\" fill=\"black\"/>\n",
       "<circle cx=\"736\" cy=\"576\" r=\"12\" stroke=\"none\" fill=\"black\"/>\n",
       "<path d=\"M800,1088 L800,4480 \" stroke=\"black\"/>\n",
       "<circle cx=\"800\" cy=\"4480\" r=\"12\" stroke=\"none\" fill=\"black\"/>\n",
       "<circle cx=\"800\" cy=\"1088\" r=\"12\" stroke=\"none\" fill=\"black\"/>\n",
       "<path d=\"M864,1472 L864,4928 \" stroke=\"black\"/>\n",
       "<circle cx=\"864\" cy=\"4928\" r=\"12\" stroke=\"none\" fill=\"black\"/>\n",
       "<circle cx=\"864\" cy=\"1472\" r=\"12\" stroke=\"none\" fill=\"black\"/>\n",
       "<path d=\"M928,640 L928,3456 \" stroke=\"black\"/>\n",
       "<circle cx=\"928\" cy=\"3456\" r=\"12\" stroke=\"none\" fill=\"black\"/>\n",
       "<circle cx=\"928\" cy=\"640\" r=\"12\" stroke=\"none\" fill=\"black\"/>\n",
       "<path d=\"M452,40 L452,32 L956,32 L956,40 \" stroke=\"black\" fill=\"none\"/>\n",
       "<path d=\"M452,6328 L452,6336 L956,6336 L956,6328 \" stroke=\"black\" fill=\"none\"/>\n",
       "<path d=\"M992,704 L992,3968 \" stroke=\"black\"/>\n",
       "<circle cx=\"992\" cy=\"3968\" r=\"12\" stroke=\"none\" fill=\"black\"/>\n",
       "<circle cx=\"992\" cy=\"704\" r=\"12\" stroke=\"black\" fill=\"white\"/>\n",
       "<path d=\"M980,704 L1004,704 M992,692 L992,716 \" stroke=\"black\"/>\n",
       "<path d=\"M1056,1088 L1056,4416 \" stroke=\"black\"/>\n",
       "<circle cx=\"1056\" cy=\"4416\" r=\"12\" stroke=\"none\" fill=\"black\"/>\n",
       "<circle cx=\"1056\" cy=\"1088\" r=\"12\" stroke=\"black\" fill=\"white\"/>\n",
       "<path d=\"M1044,1088 L1068,1088 M1056,1076 L1056,1100 \" stroke=\"black\"/>\n",
       "<path d=\"M1120,1024 L1120,3840 \" stroke=\"black\"/>\n",
       "<circle cx=\"1120\" cy=\"3840\" r=\"12\" stroke=\"none\" fill=\"black\"/>\n",
       "<circle cx=\"1120\" cy=\"1024\" r=\"12\" stroke=\"black\" fill=\"white\"/>\n",
       "<path d=\"M1108,1024 L1132,1024 M1120,1012 L1120,1036 \" stroke=\"black\"/>\n",
       "<path d=\"M1184,1600 L1184,4544 \" stroke=\"black\"/>\n",
       "<circle cx=\"1184\" cy=\"4544\" r=\"12\" stroke=\"none\" fill=\"black\"/>\n",
       "<circle cx=\"1184\" cy=\"1600\" r=\"12\" stroke=\"black\" fill=\"white\"/>\n",
       "<path d=\"M1172,1600 L1196,1600 M1184,1588 L1184,1612 \" stroke=\"black\"/>\n",
       "<path d=\"M1248,640 L1248,3904 \" stroke=\"black\"/>\n",
       "<circle cx=\"1248\" cy=\"3904\" r=\"12\" stroke=\"none\" fill=\"black\"/>\n",
       "<circle cx=\"1248\" cy=\"640\" r=\"12\" stroke=\"none\" fill=\"black\"/>\n",
       "<path d=\"M1312,1152 L1312,4480 \" stroke=\"black\"/>\n",
       "<circle cx=\"1312\" cy=\"4480\" r=\"12\" stroke=\"none\" fill=\"black\"/>\n",
       "<circle cx=\"1312\" cy=\"1152\" r=\"12\" stroke=\"none\" fill=\"black\"/>\n",
       "<path d=\"M1376,1536 L1376,4928 \" stroke=\"black\"/>\n",
       "<circle cx=\"1376\" cy=\"4928\" r=\"12\" stroke=\"none\" fill=\"black\"/>\n",
       "<circle cx=\"1376\" cy=\"1536\" r=\"12\" stroke=\"none\" fill=\"black\"/>\n",
       "<path d=\"M1440,704 L1440,3456 \" stroke=\"black\"/>\n",
       "<circle cx=\"1440\" cy=\"3456\" r=\"12\" stroke=\"none\" fill=\"black\"/>\n",
       "<circle cx=\"1440\" cy=\"704\" r=\"12\" stroke=\"none\" fill=\"black\"/>\n",
       "<path d=\"M964,40 L964,32 L1468,32 L1468,40 \" stroke=\"black\" fill=\"none\"/>\n",
       "<path d=\"M964,6328 L964,6336 L1468,6336 L1468,6328 \" stroke=\"black\" fill=\"none\"/>\n",
       "<path d=\"M1504,1088 L1504,3968 \" stroke=\"black\"/>\n",
       "<circle cx=\"1504\" cy=\"3968\" r=\"12\" stroke=\"none\" fill=\"black\"/>\n",
       "<circle cx=\"1504\" cy=\"1088\" r=\"12\" stroke=\"black\" fill=\"white\"/>\n",
       "<path d=\"M1492,1088 L1516,1088 M1504,1076 L1504,1100 \" stroke=\"black\"/>\n",
       "<path d=\"M1568,1472 L1568,4416 \" stroke=\"black\"/>\n",
       "<circle cx=\"1568\" cy=\"4416\" r=\"12\" stroke=\"none\" fill=\"black\"/>\n",
       "<circle cx=\"1568\" cy=\"1472\" r=\"12\" stroke=\"black\" fill=\"white\"/>\n",
       "<path d=\"M1556,1472 L1580,1472 M1568,1460 L1568,1484 \" stroke=\"black\"/>\n",
       "<path d=\"M1632,1024 L1632,3904 \" stroke=\"black\"/>\n",
       "<circle cx=\"1632\" cy=\"3904\" r=\"12\" stroke=\"none\" fill=\"black\"/>\n",
       "<circle cx=\"1632\" cy=\"1024\" r=\"12\" stroke=\"none\" fill=\"black\"/>\n",
       "<path d=\"M1696,1536 L1696,4480 \" stroke=\"black\"/>\n",
       "<circle cx=\"1696\" cy=\"4480\" r=\"12\" stroke=\"none\" fill=\"black\"/>\n",
       "<circle cx=\"1696\" cy=\"1536\" r=\"12\" stroke=\"none\" fill=\"black\"/>\n",
       "<path d=\"M1476,40 L1476,32 L1724,32 L1724,40 \" stroke=\"black\" fill=\"none\"/>\n",
       "<path d=\"M1476,6328 L1476,6336 L1724,6336 L1724,6328 \" stroke=\"black\" fill=\"none\"/>\n",
       "<path d=\"M1760,1152 L1760,3968 \" stroke=\"black\"/>\n",
       "<circle cx=\"1760\" cy=\"3968\" r=\"12\" stroke=\"none\" fill=\"black\"/>\n",
       "<circle cx=\"1760\" cy=\"1152\" r=\"12\" stroke=\"black\" fill=\"white\"/>\n",
       "<path d=\"M1748,1152 L1772,1152 M1760,1140 L1760,1164 \" stroke=\"black\"/>\n",
       "<path d=\"M1824,1536 L1824,4416 \" stroke=\"black\"/>\n",
       "<circle cx=\"1824\" cy=\"4416\" r=\"12\" stroke=\"none\" fill=\"black\"/>\n",
       "<circle cx=\"1824\" cy=\"1536\" r=\"12\" stroke=\"black\" fill=\"white\"/>\n",
       "<path d=\"M1812,1536 L1836,1536 M1824,1524 L1824,1548 \" stroke=\"black\"/>\n",
       "<path d=\"M1888,1088 L1888,3904 \" stroke=\"black\"/>\n",
       "<circle cx=\"1888\" cy=\"3904\" r=\"12\" stroke=\"none\" fill=\"black\"/>\n",
       "<circle cx=\"1888\" cy=\"1088\" r=\"12\" stroke=\"none\" fill=\"black\"/>\n",
       "<path d=\"M1952,1600 L1952,4480 \" stroke=\"black\"/>\n",
       "<circle cx=\"1952\" cy=\"4480\" r=\"12\" stroke=\"none\" fill=\"black\"/>\n",
       "<circle cx=\"1952\" cy=\"1600\" r=\"12\" stroke=\"none\" fill=\"black\"/>\n",
       "<path d=\"M1732,40 L1732,32 L1980,32 L1980,40 \" stroke=\"black\" fill=\"none\"/>\n",
       "<path d=\"M1732,6328 L1732,6336 L1980,6336 L1980,6328 \" stroke=\"black\" fill=\"none\"/>\n",
       "<rect x=\"2000\" y=\"3952\" width=\"32\" height=\"32\" stroke=\"black\" fill=\"white\"/>\n",
       "<text dominant-baseline=\"central\" text-anchor=\"middle\" font-family=\"monospace\" font-size=\"30\" x=\"2016\" y=\"3968\">H</text>\n",
       "<rect x=\"2000\" y=\"4400\" width=\"32\" height=\"32\" stroke=\"black\" fill=\"white\"/>\n",
       "<text dominant-baseline=\"central\" text-anchor=\"middle\" font-family=\"monospace\" font-size=\"30\" x=\"2016\" y=\"4416\">H</text>\n",
       "<rect x=\"2000\" y=\"3824\" width=\"32\" height=\"32\" stroke=\"black\" fill=\"white\"/>\n",
       "<text dominant-baseline=\"central\" text-anchor=\"middle\" font-family=\"monospace\" font-size=\"30\" x=\"2016\" y=\"3840\">H</text>\n",
       "<rect x=\"2000\" y=\"4528\" width=\"32\" height=\"32\" stroke=\"black\" fill=\"white\"/>\n",
       "<text dominant-baseline=\"central\" text-anchor=\"middle\" font-family=\"monospace\" font-size=\"30\" x=\"2016\" y=\"4544\">H</text>\n",
       "<rect x=\"2000\" y=\"3888\" width=\"32\" height=\"32\" stroke=\"black\" fill=\"white\"/>\n",
       "<text dominant-baseline=\"central\" text-anchor=\"middle\" font-family=\"monospace\" font-size=\"30\" x=\"2016\" y=\"3904\">H</text>\n",
       "<rect x=\"2000\" y=\"4464\" width=\"32\" height=\"32\" stroke=\"black\" fill=\"white\"/>\n",
       "<text dominant-baseline=\"central\" text-anchor=\"middle\" font-family=\"monospace\" font-size=\"30\" x=\"2016\" y=\"4480\">H</text>\n",
       "<rect x=\"2000\" y=\"4912\" width=\"32\" height=\"32\" stroke=\"black\" fill=\"white\"/>\n",
       "<text dominant-baseline=\"central\" text-anchor=\"middle\" font-family=\"monospace\" font-size=\"30\" x=\"2016\" y=\"4928\">H</text>\n",
       "<rect x=\"2000\" y=\"3440\" width=\"32\" height=\"32\" stroke=\"black\" fill=\"white\"/>\n",
       "<text dominant-baseline=\"central\" text-anchor=\"middle\" font-family=\"monospace\" font-size=\"30\" x=\"2016\" y=\"3456\">H</text>\n",
       "<rect x=\"2064\" y=\"3952\" width=\"32\" height=\"32\" stroke=\"black\" fill=\"black\"/>\n",
       "<text dominant-baseline=\"central\" text-anchor=\"middle\" font-family=\"monospace\" font-size=\"24\" x=\"2080\" y=\"3968\" fill=\"white\">MR</text>\n",
       "<text text-anchor=\"middle\" font-family=\"monospace\" font-size=\"8\" x=\"2080\" y=\"3948\">rec[0]</text>\n",
       "<rect x=\"2064\" y=\"4400\" width=\"32\" height=\"32\" stroke=\"black\" fill=\"black\"/>\n",
       "<text dominant-baseline=\"central\" text-anchor=\"middle\" font-family=\"monospace\" font-size=\"24\" x=\"2080\" y=\"4416\" fill=\"white\">MR</text>\n",
       "<text text-anchor=\"middle\" font-family=\"monospace\" font-size=\"8\" x=\"2080\" y=\"4396\">rec[1]</text>\n",
       "<rect x=\"2064\" y=\"3824\" width=\"32\" height=\"32\" stroke=\"black\" fill=\"black\"/>\n",
       "<text dominant-baseline=\"central\" text-anchor=\"middle\" font-family=\"monospace\" font-size=\"24\" x=\"2080\" y=\"3840\" fill=\"white\">MR</text>\n",
       "<text text-anchor=\"middle\" font-family=\"monospace\" font-size=\"8\" x=\"2080\" y=\"3820\">rec[2]</text>\n",
       "<rect x=\"2064\" y=\"4528\" width=\"32\" height=\"32\" stroke=\"black\" fill=\"black\"/>\n",
       "<text dominant-baseline=\"central\" text-anchor=\"middle\" font-family=\"monospace\" font-size=\"24\" x=\"2080\" y=\"4544\" fill=\"white\">MR</text>\n",
       "<text text-anchor=\"middle\" font-family=\"monospace\" font-size=\"8\" x=\"2080\" y=\"4524\">rec[3]</text>\n",
       "<rect x=\"2064\" y=\"3888\" width=\"32\" height=\"32\" stroke=\"black\" fill=\"black\"/>\n",
       "<text dominant-baseline=\"central\" text-anchor=\"middle\" font-family=\"monospace\" font-size=\"24\" x=\"2080\" y=\"3904\" fill=\"white\">MR</text>\n",
       "<text text-anchor=\"middle\" font-family=\"monospace\" font-size=\"8\" x=\"2080\" y=\"3884\">rec[4]</text>\n",
       "<rect x=\"2064\" y=\"4464\" width=\"32\" height=\"32\" stroke=\"black\" fill=\"black\"/>\n",
       "<text dominant-baseline=\"central\" text-anchor=\"middle\" font-family=\"monospace\" font-size=\"24\" x=\"2080\" y=\"4480\" fill=\"white\">MR</text>\n",
       "<text text-anchor=\"middle\" font-family=\"monospace\" font-size=\"8\" x=\"2080\" y=\"4460\">rec[5]</text>\n",
       "<rect x=\"2064\" y=\"4912\" width=\"32\" height=\"32\" stroke=\"black\" fill=\"black\"/>\n",
       "<text dominant-baseline=\"central\" text-anchor=\"middle\" font-family=\"monospace\" font-size=\"24\" x=\"2080\" y=\"4928\" fill=\"white\">MR</text>\n",
       "<text text-anchor=\"middle\" font-family=\"monospace\" font-size=\"8\" x=\"2080\" y=\"4908\">rec[6]</text>\n",
       "<rect x=\"2064\" y=\"3440\" width=\"32\" height=\"32\" stroke=\"black\" fill=\"black\"/>\n",
       "<text dominant-baseline=\"central\" text-anchor=\"middle\" font-family=\"monospace\" font-size=\"24\" x=\"2080\" y=\"3456\" fill=\"white\">MR</text>\n",
       "<text text-anchor=\"middle\" font-family=\"monospace\" font-size=\"8\" x=\"2080\" y=\"3436\">rec[7]</text>\n",
       "<rect x=\"2128\" y=\"752\" width=\"32\" height=\"32\" stroke=\"black\" fill=\"black\"/>\n",
       "<text dominant-baseline=\"central\" text-anchor=\"middle\" font-family=\"monospace\" font-size=\"26\" x=\"2144\" y=\"768\" fill=\"white\">R<tspan baseline-shift=\"sub\" font-size=\"16\">X</tspan></text>\n",
       "<rect x=\"2128\" y=\"1200\" width=\"32\" height=\"32\" stroke=\"black\" fill=\"black\"/>\n",
       "<text dominant-baseline=\"central\" text-anchor=\"middle\" font-family=\"monospace\" font-size=\"26\" x=\"2144\" y=\"1216\" fill=\"white\">R<tspan baseline-shift=\"sub\" font-size=\"16\">X</tspan></text>\n",
       "<rect x=\"2128\" y=\"1648\" width=\"32\" height=\"32\" stroke=\"black\" fill=\"black\"/>\n",
       "<text dominant-baseline=\"central\" text-anchor=\"middle\" font-family=\"monospace\" font-size=\"26\" x=\"2144\" y=\"1664\" fill=\"white\">R<tspan baseline-shift=\"sub\" font-size=\"16\">X</tspan></text>\n",
       "<rect x=\"2128\" y=\"816\" width=\"32\" height=\"32\" stroke=\"black\" fill=\"black\"/>\n",
       "<text dominant-baseline=\"central\" text-anchor=\"middle\" font-family=\"monospace\" font-size=\"26\" x=\"2144\" y=\"832\" fill=\"white\">R<tspan baseline-shift=\"sub\" font-size=\"16\">X</tspan></text>\n",
       "<rect x=\"2128\" y=\"1264\" width=\"32\" height=\"32\" stroke=\"black\" fill=\"black\"/>\n",
       "<text dominant-baseline=\"central\" text-anchor=\"middle\" font-family=\"monospace\" font-size=\"26\" x=\"2144\" y=\"1280\" fill=\"white\">R<tspan baseline-shift=\"sub\" font-size=\"16\">X</tspan></text>\n",
       "<rect x=\"2128\" y=\"1712\" width=\"32\" height=\"32\" stroke=\"black\" fill=\"black\"/>\n",
       "<text dominant-baseline=\"central\" text-anchor=\"middle\" font-family=\"monospace\" font-size=\"26\" x=\"2144\" y=\"1728\" fill=\"white\">R<tspan baseline-shift=\"sub\" font-size=\"16\">X</tspan></text>\n",
       "<rect x=\"2128\" y=\"4016\" width=\"32\" height=\"32\" stroke=\"black\" fill=\"black\"/>\n",
       "<text dominant-baseline=\"central\" text-anchor=\"middle\" font-family=\"monospace\" font-size=\"30\" x=\"2144\" y=\"4032\" fill=\"white\">R</text>\n",
       "<rect x=\"2128\" y=\"4592\" width=\"32\" height=\"32\" stroke=\"black\" fill=\"black\"/>\n",
       "<text dominant-baseline=\"central\" text-anchor=\"middle\" font-family=\"monospace\" font-size=\"30\" x=\"2144\" y=\"4608\" fill=\"white\">R</text>\n",
       "<rect x=\"2128\" y=\"5040\" width=\"32\" height=\"32\" stroke=\"black\" fill=\"black\"/>\n",
       "<text dominant-baseline=\"central\" text-anchor=\"middle\" font-family=\"monospace\" font-size=\"30\" x=\"2144\" y=\"5056\" fill=\"white\">R</text>\n",
       "<rect x=\"2128\" y=\"3568\" width=\"32\" height=\"32\" stroke=\"black\" fill=\"black\"/>\n",
       "<text dominant-baseline=\"central\" text-anchor=\"middle\" font-family=\"monospace\" font-size=\"30\" x=\"2144\" y=\"3584\" fill=\"white\">R</text>\n",
       "<rect x=\"2128\" y=\"3952\" width=\"32\" height=\"32\" stroke=\"black\" fill=\"white\"/>\n",
       "<text dominant-baseline=\"central\" text-anchor=\"middle\" font-family=\"monospace\" font-size=\"30\" x=\"2144\" y=\"3968\">H</text>\n",
       "<rect x=\"2128\" y=\"4400\" width=\"32\" height=\"32\" stroke=\"black\" fill=\"white\"/>\n",
       "<text dominant-baseline=\"central\" text-anchor=\"middle\" font-family=\"monospace\" font-size=\"30\" x=\"2144\" y=\"4416\">H</text>\n",
       "<rect x=\"2128\" y=\"3824\" width=\"32\" height=\"32\" stroke=\"black\" fill=\"white\"/>\n",
       "<text dominant-baseline=\"central\" text-anchor=\"middle\" font-family=\"monospace\" font-size=\"30\" x=\"2144\" y=\"3840\">H</text>\n",
       "<rect x=\"2128\" y=\"4528\" width=\"32\" height=\"32\" stroke=\"black\" fill=\"white\"/>\n",
       "<text dominant-baseline=\"central\" text-anchor=\"middle\" font-family=\"monospace\" font-size=\"30\" x=\"2144\" y=\"4544\">H</text>\n",
       "<rect x=\"2128\" y=\"3888\" width=\"32\" height=\"32\" stroke=\"black\" fill=\"white\"/>\n",
       "<text dominant-baseline=\"central\" text-anchor=\"middle\" font-family=\"monospace\" font-size=\"30\" x=\"2144\" y=\"3904\">H</text>\n",
       "<rect x=\"2128\" y=\"4464\" width=\"32\" height=\"32\" stroke=\"black\" fill=\"white\"/>\n",
       "<text dominant-baseline=\"central\" text-anchor=\"middle\" font-family=\"monospace\" font-size=\"30\" x=\"2144\" y=\"4480\">H</text>\n",
       "<rect x=\"2128\" y=\"4912\" width=\"32\" height=\"32\" stroke=\"black\" fill=\"white\"/>\n",
       "<text dominant-baseline=\"central\" text-anchor=\"middle\" font-family=\"monospace\" font-size=\"30\" x=\"2144\" y=\"4928\">H</text>\n",
       "<rect x=\"2128\" y=\"3440\" width=\"32\" height=\"32\" stroke=\"black\" fill=\"white\"/>\n",
       "<text dominant-baseline=\"central\" text-anchor=\"middle\" font-family=\"monospace\" font-size=\"30\" x=\"2144\" y=\"3456\">H</text>\n",
       "<rect x=\"2128\" y=\"4080\" width=\"32\" height=\"32\" stroke=\"black\" fill=\"white\"/>\n",
       "<text dominant-baseline=\"central\" text-anchor=\"middle\" font-family=\"monospace\" font-size=\"30\" x=\"2144\" y=\"4096\">H</text>\n",
       "<rect x=\"2128\" y=\"4656\" width=\"32\" height=\"32\" stroke=\"black\" fill=\"white\"/>\n",
       "<text dominant-baseline=\"central\" text-anchor=\"middle\" font-family=\"monospace\" font-size=\"30\" x=\"2144\" y=\"4672\">H</text>\n",
       "<rect x=\"2192\" y=\"4016\" width=\"32\" height=\"32\" stroke=\"black\" fill=\"white\"/>\n",
       "<text dominant-baseline=\"central\" text-anchor=\"middle\" font-family=\"monospace\" font-size=\"30\" x=\"2208\" y=\"4032\">H</text>\n",
       "<rect x=\"2192\" y=\"4592\" width=\"32\" height=\"32\" stroke=\"black\" fill=\"white\"/>\n",
       "<text dominant-baseline=\"central\" text-anchor=\"middle\" font-family=\"monospace\" font-size=\"30\" x=\"2208\" y=\"4608\">H</text>\n",
       "<rect x=\"2192\" y=\"5040\" width=\"32\" height=\"32\" stroke=\"black\" fill=\"white\"/>\n",
       "<text dominant-baseline=\"central\" text-anchor=\"middle\" font-family=\"monospace\" font-size=\"30\" x=\"2208\" y=\"5056\">H</text>\n",
       "<rect x=\"2192\" y=\"3568\" width=\"32\" height=\"32\" stroke=\"black\" fill=\"white\"/>\n",
       "<text dominant-baseline=\"central\" text-anchor=\"middle\" font-family=\"monospace\" font-size=\"30\" x=\"2208\" y=\"3584\">H</text>\n",
       "<path d=\"M2116,40 L2116,32 L2236,32 L2236,40 \" stroke=\"black\" fill=\"none\"/>\n",
       "<path d=\"M2116,6328 L2116,6336 L2236,6336 L2236,6328 \" stroke=\"black\" fill=\"none\"/>\n",
       "<path d=\"M2272,640 L2272,3968 \" stroke=\"black\"/>\n",
       "<circle cx=\"2272\" cy=\"3968\" r=\"12\" stroke=\"none\" fill=\"black\"/>\n",
       "<circle cx=\"2272\" cy=\"640\" r=\"12\" stroke=\"black\" fill=\"white\"/>\n",
       "<path d=\"M2260,640 L2284,640 M2272,628 L2272,652 \" stroke=\"black\"/>\n",
       "<path d=\"M2336,1024 L2336,4416 \" stroke=\"black\"/>\n",
       "<circle cx=\"2336\" cy=\"4416\" r=\"12\" stroke=\"none\" fill=\"black\"/>\n",
       "<circle cx=\"2336\" cy=\"1024\" r=\"12\" stroke=\"black\" fill=\"white\"/>\n",
       "<path d=\"M2324,1024 L2348,1024 M2336,1012 L2336,1036 \" stroke=\"black\"/>\n",
       "<path d=\"M2400,576 L2400,3840 \" stroke=\"black\"/>\n",
       "<circle cx=\"2400\" cy=\"3840\" r=\"12\" stroke=\"none\" fill=\"black\"/>\n",
       "<circle cx=\"2400\" cy=\"576\" r=\"12\" stroke=\"black\" fill=\"white\"/>\n",
       "<path d=\"M2388,576 L2412,576 M2400,564 L2400,588 \" stroke=\"black\"/>\n",
       "<path d=\"M2464,1152 L2464,4544 \" stroke=\"black\"/>\n",
       "<circle cx=\"2464\" cy=\"4544\" r=\"12\" stroke=\"none\" fill=\"black\"/>\n",
       "<circle cx=\"2464\" cy=\"1152\" r=\"12\" stroke=\"black\" fill=\"white\"/>\n",
       "<path d=\"M2452,1152 L2476,1152 M2464,1140 L2464,1164 \" stroke=\"black\"/>\n",
       "<path d=\"M2528,576 L2528,3904 \" stroke=\"black\"/>\n",
       "<circle cx=\"2528\" cy=\"3904\" r=\"12\" stroke=\"none\" fill=\"black\"/>\n",
       "<circle cx=\"2528\" cy=\"576\" r=\"12\" stroke=\"none\" fill=\"black\"/>\n",
       "<path d=\"M2592,1088 L2592,4480 \" stroke=\"black\"/>\n",
       "<circle cx=\"2592\" cy=\"4480\" r=\"12\" stroke=\"none\" fill=\"black\"/>\n",
       "<circle cx=\"2592\" cy=\"1088\" r=\"12\" stroke=\"none\" fill=\"black\"/>\n",
       "<path d=\"M2656,1472 L2656,4928 \" stroke=\"black\"/>\n",
       "<circle cx=\"2656\" cy=\"4928\" r=\"12\" stroke=\"none\" fill=\"black\"/>\n",
       "<circle cx=\"2656\" cy=\"1472\" r=\"12\" stroke=\"none\" fill=\"black\"/>\n",
       "<path d=\"M2720,640 L2720,3456 \" stroke=\"black\"/>\n",
       "<circle cx=\"2720\" cy=\"3456\" r=\"12\" stroke=\"none\" fill=\"black\"/>\n",
       "<circle cx=\"2720\" cy=\"640\" r=\"12\" stroke=\"none\" fill=\"black\"/>\n",
       "<path d=\"M2784,768 L2784,4096 \" stroke=\"black\"/>\n",
       "<circle cx=\"2784\" cy=\"4096\" r=\"12\" stroke=\"none\" fill=\"black\"/>\n",
       "<circle cx=\"2784\" cy=\"768\" r=\"12\" stroke=\"black\" fill=\"white\"/>\n",
       "<path d=\"M2772,768 L2796,768 M2784,756 L2784,780 \" stroke=\"black\"/>\n",
       "<path d=\"M2848,1280 L2848,4672 \" stroke=\"black\"/>\n",
       "<circle cx=\"2848\" cy=\"4672\" r=\"12\" stroke=\"none\" fill=\"black\"/>\n",
       "<circle cx=\"2848\" cy=\"1280\" r=\"12\" stroke=\"black\" fill=\"white\"/>\n",
       "<path d=\"M2836,1280 L2860,1280 M2848,1268 L2848,1292 \" stroke=\"black\"/>\n",
       "<path d=\"M2912,704 L2912,4032 \" stroke=\"black\"/>\n",
       "<circle cx=\"2912\" cy=\"4032\" r=\"12\" stroke=\"none\" fill=\"black\"/>\n",
       "<circle cx=\"2912\" cy=\"704\" r=\"12\" stroke=\"none\" fill=\"black\"/>\n",
       "<path d=\"M2976,1216 L2976,4608 \" stroke=\"black\"/>\n",
       "<circle cx=\"2976\" cy=\"4608\" r=\"12\" stroke=\"none\" fill=\"black\"/>\n",
       "<circle cx=\"2976\" cy=\"1216\" r=\"12\" stroke=\"none\" fill=\"black\"/>\n",
       "<path d=\"M3040,1600 L3040,5056 \" stroke=\"black\"/>\n",
       "<circle cx=\"3040\" cy=\"5056\" r=\"12\" stroke=\"none\" fill=\"black\"/>\n",
       "<circle cx=\"3040\" cy=\"1600\" r=\"12\" stroke=\"none\" fill=\"black\"/>\n",
       "<path d=\"M3104,768 L3104,3584 \" stroke=\"black\"/>\n",
       "<circle cx=\"3104\" cy=\"3584\" r=\"12\" stroke=\"none\" fill=\"black\"/>\n",
       "<circle cx=\"3104\" cy=\"768\" r=\"12\" stroke=\"none\" fill=\"black\"/>\n",
       "<path d=\"M2244,40 L2244,32 L3132,32 L3132,40 \" stroke=\"black\" fill=\"none\"/>\n",
       "<path d=\"M2244,6328 L2244,6336 L3132,6336 L3132,6328 \" stroke=\"black\" fill=\"none\"/>\n",
       "<path d=\"M3168,704 L3168,3968 \" stroke=\"black\"/>\n",
       "<circle cx=\"3168\" cy=\"3968\" r=\"12\" stroke=\"none\" fill=\"black\"/>\n",
       "<circle cx=\"3168\" cy=\"704\" r=\"12\" stroke=\"black\" fill=\"white\"/>\n",
       "<path d=\"M3156,704 L3180,704 M3168,692 L3168,716 \" stroke=\"black\"/>\n",
       "<path d=\"M3232,1088 L3232,4416 \" stroke=\"black\"/>\n",
       "<circle cx=\"3232\" cy=\"4416\" r=\"12\" stroke=\"none\" fill=\"black\"/>\n",
       "<circle cx=\"3232\" cy=\"1088\" r=\"12\" stroke=\"black\" fill=\"white\"/>\n",
       "<path d=\"M3220,1088 L3244,1088 M3232,1076 L3232,1100 \" stroke=\"black\"/>\n",
       "<path d=\"M3296,1024 L3296,3840 \" stroke=\"black\"/>\n",
       "<circle cx=\"3296\" cy=\"3840\" r=\"12\" stroke=\"none\" fill=\"black\"/>\n",
       "<circle cx=\"3296\" cy=\"1024\" r=\"12\" stroke=\"black\" fill=\"white\"/>\n",
       "<path d=\"M3284,1024 L3308,1024 M3296,1012 L3296,1036 \" stroke=\"black\"/>\n",
       "<path d=\"M3360,1600 L3360,4544 \" stroke=\"black\"/>\n",
       "<circle cx=\"3360\" cy=\"4544\" r=\"12\" stroke=\"none\" fill=\"black\"/>\n",
       "<circle cx=\"3360\" cy=\"1600\" r=\"12\" stroke=\"black\" fill=\"white\"/>\n",
       "<path d=\"M3348,1600 L3372,1600 M3360,1588 L3360,1612 \" stroke=\"black\"/>\n",
       "<path d=\"M3424,640 L3424,3904 \" stroke=\"black\"/>\n",
       "<circle cx=\"3424\" cy=\"3904\" r=\"12\" stroke=\"none\" fill=\"black\"/>\n",
       "<circle cx=\"3424\" cy=\"640\" r=\"12\" stroke=\"none\" fill=\"black\"/>\n",
       "<path d=\"M3488,1152 L3488,4480 \" stroke=\"black\"/>\n",
       "<circle cx=\"3488\" cy=\"4480\" r=\"12\" stroke=\"none\" fill=\"black\"/>\n",
       "<circle cx=\"3488\" cy=\"1152\" r=\"12\" stroke=\"none\" fill=\"black\"/>\n",
       "<path d=\"M3552,1536 L3552,4928 \" stroke=\"black\"/>\n",
       "<circle cx=\"3552\" cy=\"4928\" r=\"12\" stroke=\"none\" fill=\"black\"/>\n",
       "<circle cx=\"3552\" cy=\"1536\" r=\"12\" stroke=\"none\" fill=\"black\"/>\n",
       "<path d=\"M3616,704 L3616,3456 \" stroke=\"black\"/>\n",
       "<circle cx=\"3616\" cy=\"3456\" r=\"12\" stroke=\"none\" fill=\"black\"/>\n",
       "<circle cx=\"3616\" cy=\"704\" r=\"12\" stroke=\"none\" fill=\"black\"/>\n",
       "<path d=\"M3680,832 L3680,4096 \" stroke=\"black\"/>\n",
       "<circle cx=\"3680\" cy=\"4096\" r=\"12\" stroke=\"none\" fill=\"black\"/>\n",
       "<circle cx=\"3680\" cy=\"832\" r=\"12\" stroke=\"black\" fill=\"white\"/>\n",
       "<path d=\"M3668,832 L3692,832 M3680,820 L3680,844 \" stroke=\"black\"/>\n",
       "<path d=\"M3744,1728 L3744,4672 \" stroke=\"black\"/>\n",
       "<circle cx=\"3744\" cy=\"4672\" r=\"12\" stroke=\"none\" fill=\"black\"/>\n",
       "<circle cx=\"3744\" cy=\"1728\" r=\"12\" stroke=\"black\" fill=\"white\"/>\n",
       "<path d=\"M3732,1728 L3756,1728 M3744,1716 L3744,1740 \" stroke=\"black\"/>\n",
       "<path d=\"M3808,768 L3808,4032 \" stroke=\"black\"/>\n",
       "<circle cx=\"3808\" cy=\"4032\" r=\"12\" stroke=\"none\" fill=\"black\"/>\n",
       "<circle cx=\"3808\" cy=\"768\" r=\"12\" stroke=\"none\" fill=\"black\"/>\n",
       "<path d=\"M3872,1280 L3872,4608 \" stroke=\"black\"/>\n",
       "<circle cx=\"3872\" cy=\"4608\" r=\"12\" stroke=\"none\" fill=\"black\"/>\n",
       "<circle cx=\"3872\" cy=\"1280\" r=\"12\" stroke=\"none\" fill=\"black\"/>\n",
       "<path d=\"M3936,1664 L3936,5056 \" stroke=\"black\"/>\n",
       "<circle cx=\"3936\" cy=\"5056\" r=\"12\" stroke=\"none\" fill=\"black\"/>\n",
       "<circle cx=\"3936\" cy=\"1664\" r=\"12\" stroke=\"none\" fill=\"black\"/>\n",
       "<path d=\"M4000,832 L4000,3584 \" stroke=\"black\"/>\n",
       "<circle cx=\"4000\" cy=\"3584\" r=\"12\" stroke=\"none\" fill=\"black\"/>\n",
       "<circle cx=\"4000\" cy=\"832\" r=\"12\" stroke=\"none\" fill=\"black\"/>\n",
       "<path d=\"M3140,40 L3140,32 L4028,32 L4028,40 \" stroke=\"black\" fill=\"none\"/>\n",
       "<path d=\"M3140,6328 L3140,6336 L4028,6336 L4028,6328 \" stroke=\"black\" fill=\"none\"/>\n",
       "<path d=\"M4064,1088 L4064,3968 \" stroke=\"black\"/>\n",
       "<circle cx=\"4064\" cy=\"3968\" r=\"12\" stroke=\"none\" fill=\"black\"/>\n",
       "<circle cx=\"4064\" cy=\"1088\" r=\"12\" stroke=\"black\" fill=\"white\"/>\n",
       "<path d=\"M4052,1088 L4076,1088 M4064,1076 L4064,1100 \" stroke=\"black\"/>\n",
       "<path d=\"M4128,1472 L4128,4416 \" stroke=\"black\"/>\n",
       "<circle cx=\"4128\" cy=\"4416\" r=\"12\" stroke=\"none\" fill=\"black\"/>\n",
       "<circle cx=\"4128\" cy=\"1472\" r=\"12\" stroke=\"black\" fill=\"white\"/>\n",
       "<path d=\"M4116,1472 L4140,1472 M4128,1460 L4128,1484 \" stroke=\"black\"/>\n",
       "<path d=\"M4192,1216 L4192,4544 \" stroke=\"black\"/>\n",
       "<circle cx=\"4192\" cy=\"4544\" r=\"12\" stroke=\"none\" fill=\"black\"/>\n",
       "<circle cx=\"4192\" cy=\"1216\" r=\"12\" stroke=\"black\" fill=\"white\"/>\n",
       "<path d=\"M4180,1216 L4204,1216 M4192,1204 L4192,1228 \" stroke=\"black\"/>\n",
       "<path d=\"M4256,1024 L4256,3904 \" stroke=\"black\"/>\n",
       "<circle cx=\"4256\" cy=\"3904\" r=\"12\" stroke=\"none\" fill=\"black\"/>\n",
       "<circle cx=\"4256\" cy=\"1024\" r=\"12\" stroke=\"none\" fill=\"black\"/>\n",
       "<path d=\"M4320,1536 L4320,4480 \" stroke=\"black\"/>\n",
       "<circle cx=\"4320\" cy=\"4480\" r=\"12\" stroke=\"none\" fill=\"black\"/>\n",
       "<circle cx=\"4320\" cy=\"1536\" r=\"12\" stroke=\"none\" fill=\"black\"/>\n",
       "<path d=\"M4384,1216 L4384,4096 \" stroke=\"black\"/>\n",
       "<circle cx=\"4384\" cy=\"4096\" r=\"12\" stroke=\"none\" fill=\"black\"/>\n",
       "<circle cx=\"4384\" cy=\"1216\" r=\"12\" stroke=\"black\" fill=\"white\"/>\n",
       "<path d=\"M4372,1216 L4396,1216 M4384,1204 L4384,1228 \" stroke=\"black\"/>\n",
       "<path d=\"M4448,1152 L4448,4032 \" stroke=\"black\"/>\n",
       "<circle cx=\"4448\" cy=\"4032\" r=\"12\" stroke=\"none\" fill=\"black\"/>\n",
       "<circle cx=\"4448\" cy=\"1152\" r=\"12\" stroke=\"none\" fill=\"black\"/>\n",
       "<path d=\"M4512,1664 L4512,4608 \" stroke=\"black\"/>\n",
       "<circle cx=\"4512\" cy=\"4608\" r=\"12\" stroke=\"none\" fill=\"black\"/>\n",
       "<circle cx=\"4512\" cy=\"1664\" r=\"12\" stroke=\"none\" fill=\"black\"/>\n",
       "<path d=\"M4036,40 L4036,32 L4540,32 L4540,40 \" stroke=\"black\" fill=\"none\"/>\n",
       "<path d=\"M4036,6328 L4036,6336 L4540,6336 L4540,6328 \" stroke=\"black\" fill=\"none\"/>\n",
       "<path d=\"M4576,1152 L4576,3968 \" stroke=\"black\"/>\n",
       "<circle cx=\"4576\" cy=\"3968\" r=\"12\" stroke=\"none\" fill=\"black\"/>\n",
       "<circle cx=\"4576\" cy=\"1152\" r=\"12\" stroke=\"black\" fill=\"white\"/>\n",
       "<path d=\"M4564,1152 L4588,1152 M4576,1140 L4576,1164 \" stroke=\"black\"/>\n",
       "<path d=\"M4640,1536 L4640,4416 \" stroke=\"black\"/>\n",
       "<circle cx=\"4640\" cy=\"4416\" r=\"12\" stroke=\"none\" fill=\"black\"/>\n",
       "<circle cx=\"4640\" cy=\"1536\" r=\"12\" stroke=\"black\" fill=\"white\"/>\n",
       "<path d=\"M4628,1536 L4652,1536 M4640,1524 L4640,1548 \" stroke=\"black\"/>\n",
       "<path d=\"M4704,1664 L4704,4544 \" stroke=\"black\"/>\n",
       "<circle cx=\"4704\" cy=\"4544\" r=\"12\" stroke=\"none\" fill=\"black\"/>\n",
       "<circle cx=\"4704\" cy=\"1664\" r=\"12\" stroke=\"black\" fill=\"white\"/>\n",
       "<path d=\"M4692,1664 L4716,1664 M4704,1652 L4704,1676 \" stroke=\"black\"/>\n",
       "<path d=\"M4768,1088 L4768,3904 \" stroke=\"black\"/>\n",
       "<circle cx=\"4768\" cy=\"3904\" r=\"12\" stroke=\"none\" fill=\"black\"/>\n",
       "<circle cx=\"4768\" cy=\"1088\" r=\"12\" stroke=\"none\" fill=\"black\"/>\n",
       "<path d=\"M4832,1600 L4832,4480 \" stroke=\"black\"/>\n",
       "<circle cx=\"4832\" cy=\"4480\" r=\"12\" stroke=\"none\" fill=\"black\"/>\n",
       "<circle cx=\"4832\" cy=\"1600\" r=\"12\" stroke=\"none\" fill=\"black\"/>\n",
       "<path d=\"M4896,1280 L4896,4096 \" stroke=\"black\"/>\n",
       "<circle cx=\"4896\" cy=\"4096\" r=\"12\" stroke=\"none\" fill=\"black\"/>\n",
       "<circle cx=\"4896\" cy=\"1280\" r=\"12\" stroke=\"black\" fill=\"white\"/>\n",
       "<path d=\"M4884,1280 L4908,1280 M4896,1268 L4896,1292 \" stroke=\"black\"/>\n",
       "<path d=\"M4960,1216 L4960,4032 \" stroke=\"black\"/>\n",
       "<circle cx=\"4960\" cy=\"4032\" r=\"12\" stroke=\"none\" fill=\"black\"/>\n",
       "<circle cx=\"4960\" cy=\"1216\" r=\"12\" stroke=\"none\" fill=\"black\"/>\n",
       "<path d=\"M5024,1728 L5024,4608 \" stroke=\"black\"/>\n",
       "<circle cx=\"5024\" cy=\"4608\" r=\"12\" stroke=\"none\" fill=\"black\"/>\n",
       "<circle cx=\"5024\" cy=\"1728\" r=\"12\" stroke=\"none\" fill=\"black\"/>\n",
       "<path d=\"M4548,40 L4548,32 L5052,32 L5052,40 \" stroke=\"black\" fill=\"none\"/>\n",
       "<path d=\"M4548,6328 L4548,6336 L5052,6336 L5052,6328 \" stroke=\"black\" fill=\"none\"/>\n",
       "<rect x=\"5072\" y=\"3952\" width=\"32\" height=\"32\" stroke=\"black\" fill=\"white\"/>\n",
       "<text dominant-baseline=\"central\" text-anchor=\"middle\" font-family=\"monospace\" font-size=\"30\" x=\"5088\" y=\"3968\">H</text>\n",
       "<rect x=\"5072\" y=\"4400\" width=\"32\" height=\"32\" stroke=\"black\" fill=\"white\"/>\n",
       "<text dominant-baseline=\"central\" text-anchor=\"middle\" font-family=\"monospace\" font-size=\"30\" x=\"5088\" y=\"4416\">H</text>\n",
       "<rect x=\"5072\" y=\"3824\" width=\"32\" height=\"32\" stroke=\"black\" fill=\"white\"/>\n",
       "<text dominant-baseline=\"central\" text-anchor=\"middle\" font-family=\"monospace\" font-size=\"30\" x=\"5088\" y=\"3840\">H</text>\n",
       "<rect x=\"5072\" y=\"4528\" width=\"32\" height=\"32\" stroke=\"black\" fill=\"white\"/>\n",
       "<text dominant-baseline=\"central\" text-anchor=\"middle\" font-family=\"monospace\" font-size=\"30\" x=\"5088\" y=\"4544\">H</text>\n",
       "<rect x=\"5072\" y=\"3888\" width=\"32\" height=\"32\" stroke=\"black\" fill=\"white\"/>\n",
       "<text dominant-baseline=\"central\" text-anchor=\"middle\" font-family=\"monospace\" font-size=\"30\" x=\"5088\" y=\"3904\">H</text>\n",
       "<rect x=\"5072\" y=\"4464\" width=\"32\" height=\"32\" stroke=\"black\" fill=\"white\"/>\n",
       "<text dominant-baseline=\"central\" text-anchor=\"middle\" font-family=\"monospace\" font-size=\"30\" x=\"5088\" y=\"4480\">H</text>\n",
       "<rect x=\"5072\" y=\"4912\" width=\"32\" height=\"32\" stroke=\"black\" fill=\"white\"/>\n",
       "<text dominant-baseline=\"central\" text-anchor=\"middle\" font-family=\"monospace\" font-size=\"30\" x=\"5088\" y=\"4928\">H</text>\n",
       "<rect x=\"5072\" y=\"3440\" width=\"32\" height=\"32\" stroke=\"black\" fill=\"white\"/>\n",
       "<text dominant-baseline=\"central\" text-anchor=\"middle\" font-family=\"monospace\" font-size=\"30\" x=\"5088\" y=\"3456\">H</text>\n",
       "<rect x=\"5072\" y=\"4080\" width=\"32\" height=\"32\" stroke=\"black\" fill=\"white\"/>\n",
       "<text dominant-baseline=\"central\" text-anchor=\"middle\" font-family=\"monospace\" font-size=\"30\" x=\"5088\" y=\"4096\">H</text>\n",
       "<rect x=\"5072\" y=\"4656\" width=\"32\" height=\"32\" stroke=\"black\" fill=\"white\"/>\n",
       "<text dominant-baseline=\"central\" text-anchor=\"middle\" font-family=\"monospace\" font-size=\"30\" x=\"5088\" y=\"4672\">H</text>\n",
       "<rect x=\"5072\" y=\"4016\" width=\"32\" height=\"32\" stroke=\"black\" fill=\"white\"/>\n",
       "<text dominant-baseline=\"central\" text-anchor=\"middle\" font-family=\"monospace\" font-size=\"30\" x=\"5088\" y=\"4032\">H</text>\n",
       "<rect x=\"5072\" y=\"4592\" width=\"32\" height=\"32\" stroke=\"black\" fill=\"white\"/>\n",
       "<text dominant-baseline=\"central\" text-anchor=\"middle\" font-family=\"monospace\" font-size=\"30\" x=\"5088\" y=\"4608\">H</text>\n",
       "<rect x=\"5072\" y=\"5040\" width=\"32\" height=\"32\" stroke=\"black\" fill=\"white\"/>\n",
       "<text dominant-baseline=\"central\" text-anchor=\"middle\" font-family=\"monospace\" font-size=\"30\" x=\"5088\" y=\"5056\">H</text>\n",
       "<rect x=\"5072\" y=\"3568\" width=\"32\" height=\"32\" stroke=\"black\" fill=\"white\"/>\n",
       "<text dominant-baseline=\"central\" text-anchor=\"middle\" font-family=\"monospace\" font-size=\"30\" x=\"5088\" y=\"3584\">H</text>\n",
       "<rect x=\"5136\" y=\"3952\" width=\"32\" height=\"32\" stroke=\"black\" fill=\"black\"/>\n",
       "<text dominant-baseline=\"central\" text-anchor=\"middle\" font-family=\"monospace\" font-size=\"24\" x=\"5152\" y=\"3968\" fill=\"white\">MR</text>\n",
       "<text text-anchor=\"middle\" font-family=\"monospace\" font-size=\"8\" x=\"5152\" y=\"3948\">rec[8]</text>\n",
       "<rect x=\"5136\" y=\"4400\" width=\"32\" height=\"32\" stroke=\"black\" fill=\"black\"/>\n",
       "<text dominant-baseline=\"central\" text-anchor=\"middle\" font-family=\"monospace\" font-size=\"24\" x=\"5152\" y=\"4416\" fill=\"white\">MR</text>\n",
       "<text text-anchor=\"middle\" font-family=\"monospace\" font-size=\"8\" x=\"5152\" y=\"4396\">rec[9]</text>\n",
       "<rect x=\"5136\" y=\"3824\" width=\"32\" height=\"32\" stroke=\"black\" fill=\"black\"/>\n",
       "<text dominant-baseline=\"central\" text-anchor=\"middle\" font-family=\"monospace\" font-size=\"24\" x=\"5152\" y=\"3840\" fill=\"white\">MR</text>\n",
       "<text text-anchor=\"middle\" font-family=\"monospace\" font-size=\"8\" x=\"5152\" y=\"3820\">rec[10]</text>\n",
       "<rect x=\"5136\" y=\"4528\" width=\"32\" height=\"32\" stroke=\"black\" fill=\"black\"/>\n",
       "<text dominant-baseline=\"central\" text-anchor=\"middle\" font-family=\"monospace\" font-size=\"24\" x=\"5152\" y=\"4544\" fill=\"white\">MR</text>\n",
       "<text text-anchor=\"middle\" font-family=\"monospace\" font-size=\"8\" x=\"5152\" y=\"4524\">rec[11]</text>\n",
       "<rect x=\"5136\" y=\"3888\" width=\"32\" height=\"32\" stroke=\"black\" fill=\"black\"/>\n",
       "<text dominant-baseline=\"central\" text-anchor=\"middle\" font-family=\"monospace\" font-size=\"24\" x=\"5152\" y=\"3904\" fill=\"white\">MR</text>\n",
       "<text text-anchor=\"middle\" font-family=\"monospace\" font-size=\"8\" x=\"5152\" y=\"3884\">rec[12]</text>\n",
       "<rect x=\"5136\" y=\"4464\" width=\"32\" height=\"32\" stroke=\"black\" fill=\"black\"/>\n",
       "<text dominant-baseline=\"central\" text-anchor=\"middle\" font-family=\"monospace\" font-size=\"24\" x=\"5152\" y=\"4480\" fill=\"white\">MR</text>\n",
       "<text text-anchor=\"middle\" font-family=\"monospace\" font-size=\"8\" x=\"5152\" y=\"4460\">rec[13]</text>\n",
       "<rect x=\"5136\" y=\"4912\" width=\"32\" height=\"32\" stroke=\"black\" fill=\"black\"/>\n",
       "<text dominant-baseline=\"central\" text-anchor=\"middle\" font-family=\"monospace\" font-size=\"24\" x=\"5152\" y=\"4928\" fill=\"white\">MR</text>\n",
       "<text text-anchor=\"middle\" font-family=\"monospace\" font-size=\"8\" x=\"5152\" y=\"4908\">rec[14]</text>\n",
       "<rect x=\"5136\" y=\"3440\" width=\"32\" height=\"32\" stroke=\"black\" fill=\"black\"/>\n",
       "<text dominant-baseline=\"central\" text-anchor=\"middle\" font-family=\"monospace\" font-size=\"24\" x=\"5152\" y=\"3456\" fill=\"white\">MR</text>\n",
       "<text text-anchor=\"middle\" font-family=\"monospace\" font-size=\"8\" x=\"5152\" y=\"3436\">rec[15]</text>\n",
       "<rect x=\"5136\" y=\"4080\" width=\"32\" height=\"32\" stroke=\"black\" fill=\"black\"/>\n",
       "<text dominant-baseline=\"central\" text-anchor=\"middle\" font-family=\"monospace\" font-size=\"24\" x=\"5152\" y=\"4096\" fill=\"white\">MR</text>\n",
       "<text text-anchor=\"middle\" font-family=\"monospace\" font-size=\"8\" x=\"5152\" y=\"4076\">rec[16]</text>\n",
       "<rect x=\"5136\" y=\"4656\" width=\"32\" height=\"32\" stroke=\"black\" fill=\"black\"/>\n",
       "<text dominant-baseline=\"central\" text-anchor=\"middle\" font-family=\"monospace\" font-size=\"24\" x=\"5152\" y=\"4672\" fill=\"white\">MR</text>\n",
       "<text text-anchor=\"middle\" font-family=\"monospace\" font-size=\"8\" x=\"5152\" y=\"4652\">rec[17]</text>\n",
       "<rect x=\"5136\" y=\"4016\" width=\"32\" height=\"32\" stroke=\"black\" fill=\"black\"/>\n",
       "<text dominant-baseline=\"central\" text-anchor=\"middle\" font-family=\"monospace\" font-size=\"24\" x=\"5152\" y=\"4032\" fill=\"white\">MR</text>\n",
       "<text text-anchor=\"middle\" font-family=\"monospace\" font-size=\"8\" x=\"5152\" y=\"4012\">rec[18]</text>\n",
       "<rect x=\"5136\" y=\"4592\" width=\"32\" height=\"32\" stroke=\"black\" fill=\"black\"/>\n",
       "<text dominant-baseline=\"central\" text-anchor=\"middle\" font-family=\"monospace\" font-size=\"24\" x=\"5152\" y=\"4608\" fill=\"white\">MR</text>\n",
       "<text text-anchor=\"middle\" font-family=\"monospace\" font-size=\"8\" x=\"5152\" y=\"4588\">rec[19]</text>\n",
       "<rect x=\"5136\" y=\"5040\" width=\"32\" height=\"32\" stroke=\"black\" fill=\"black\"/>\n",
       "<text dominant-baseline=\"central\" text-anchor=\"middle\" font-family=\"monospace\" font-size=\"24\" x=\"5152\" y=\"5056\" fill=\"white\">MR</text>\n",
       "<text text-anchor=\"middle\" font-family=\"monospace\" font-size=\"8\" x=\"5152\" y=\"5036\">rec[20]</text>\n",
       "<rect x=\"5136\" y=\"3568\" width=\"32\" height=\"32\" stroke=\"black\" fill=\"black\"/>\n",
       "<text dominant-baseline=\"central\" text-anchor=\"middle\" font-family=\"monospace\" font-size=\"24\" x=\"5152\" y=\"3584\" fill=\"white\">MR</text>\n",
       "<text text-anchor=\"middle\" font-family=\"monospace\" font-size=\"8\" x=\"5152\" y=\"3564\">rec[21]</text>\n",
       "</svg>"
      ],
      "text/plain": [
       "<svg viewBox=\"0 0 5216 6368\"  version=\"1.1\" xmlns=\"http://www.w3.org/2000/svg\">\n",
       "<g id=\"qubit_lines\">\n",
       "<path id=\"qubit_line:0\" d=\"M64,64 L5184,64 \" stroke=\"black\"/>\n",
       "<text dominant-baseline=\"central\" text-anchor=\"end\" font-family=\"monospace\" font-size=\"12\" x=\"64\" y=\"64\">q0</text>\n",
       "<path id=\"qubit_line:1\" d=\"M64,128 L5184,128 \" stroke=\"black\"/>\n",
       "<text dominant-baseline=\"central\" text-anchor=\"end\" font-family=\"monospace\" font-size=\"12\" x=\"64\" y=\"128\">q1</text>\n",
       "<path id=\"qubit_line:2\" d=\"M64,192 L5184,192 \" stroke=\"black\"/>\n",
       "<text dominant-baseline=\"central\" text-anchor=\"end\" font-family=\"monospace\" font-size=\"12\" x=\"64\" y=\"192\">q2</text>\n",
       "<path id=\"qubit_line:3\" d=\"M64,256 L5184,256 \" stroke=\"black\"/>\n",
       "<text dominant-baseline=\"central\" text-anchor=\"end\" font-family=\"monospace\" font-size=\"12\" x=\"64\" y=\"256\">q3</text>\n",
       "<path id=\"qubit_line:4\" d=\"M64,320 L5184,320 \" stroke=\"black\"/>\n",
       "<text dominant-baseline=\"central\" text-anchor=\"end\" font-family=\"monospace\" font-size=\"12\" x=\"64\" y=\"320\">q4</text>\n",
       "<path id=\"qubit_line:5\" d=\"M64,384 L5184,384 \" stroke=\"black\"/>\n",
       "<text dominant-baseline=\"central\" text-anchor=\"end\" font-family=\"monospace\" font-size=\"12\" x=\"64\" y=\"384\">q5</text>\n",
       "<path id=\"qubit_line:6\" d=\"M64,448 L5184,448 \" stroke=\"black\"/>\n",
       "<text dominant-baseline=\"central\" text-anchor=\"end\" font-family=\"monospace\" font-size=\"12\" x=\"64\" y=\"448\">q6</text>\n",
       "<path id=\"qubit_line:7\" d=\"M64,512 L5184,512 \" stroke=\"black\"/>\n",
       "<text dominant-baseline=\"central\" text-anchor=\"end\" font-family=\"monospace\" font-size=\"12\" x=\"64\" y=\"512\">q7</text>\n",
       "<path id=\"qubit_line:8\" d=\"M64,576 L5184,576 \" stroke=\"black\"/>\n",
       "<text dominant-baseline=\"central\" text-anchor=\"end\" font-family=\"monospace\" font-size=\"12\" x=\"64\" y=\"576\">q8</text>\n",
       "<path id=\"qubit_line:9\" d=\"M64,640 L5184,640 \" stroke=\"black\"/>\n",
       "<text dominant-baseline=\"central\" text-anchor=\"end\" font-family=\"monospace\" font-size=\"12\" x=\"64\" y=\"640\">q9</text>\n",
       "<path id=\"qubit_line:10\" d=\"M64,704 L5184,704 \" stroke=\"black\"/>\n",
       "<text dominant-baseline=\"central\" text-anchor=\"end\" font-family=\"monospace\" font-size=\"12\" x=\"64\" y=\"704\">q10</text>\n",
       "<path id=\"qubit_line:11\" d=\"M64,768 L5184,768 \" stroke=\"black\"/>\n",
       "<text dominant-baseline=\"central\" text-anchor=\"end\" font-family=\"monospace\" font-size=\"12\" x=\"64\" y=\"768\">q11</text>\n",
       "<path id=\"qubit_line:12\" d=\"M64,832 L5184,832 \" stroke=\"black\"/>\n",
       "<text dominant-baseline=\"central\" text-anchor=\"end\" font-family=\"monospace\" font-size=\"12\" x=\"64\" y=\"832\">q12</text>\n",
       "<path id=\"qubit_line:13\" d=\"M64,896 L5184,896 \" stroke=\"black\"/>\n",
       "<text dominant-baseline=\"central\" text-anchor=\"end\" font-family=\"monospace\" font-size=\"12\" x=\"64\" y=\"896\">q13</text>\n",
       "<path id=\"qubit_line:14\" d=\"M64,960 L5184,960 \" stroke=\"black\"/>\n",
       "<text dominant-baseline=\"central\" text-anchor=\"end\" font-family=\"monospace\" font-size=\"12\" x=\"64\" y=\"960\">q14</text>\n",
       "<path id=\"qubit_line:15\" d=\"M64,1024 L5184,1024 \" stroke=\"black\"/>\n",
       "<text dominant-baseline=\"central\" text-anchor=\"end\" font-family=\"monospace\" font-size=\"12\" x=\"64\" y=\"1024\">q15</text>\n",
       "<path id=\"qubit_line:16\" d=\"M64,1088 L5184,1088 \" stroke=\"black\"/>\n",
       "<text dominant-baseline=\"central\" text-anchor=\"end\" font-family=\"monospace\" font-size=\"12\" x=\"64\" y=\"1088\">q16</text>\n",
       "<path id=\"qubit_line:17\" d=\"M64,1152 L5184,1152 \" stroke=\"black\"/>\n",
       "<text dominant-baseline=\"central\" text-anchor=\"end\" font-family=\"monospace\" font-size=\"12\" x=\"64\" y=\"1152\">q17</text>\n",
       "<path id=\"qubit_line:18\" d=\"M64,1216 L5184,1216 \" stroke=\"black\"/>\n",
       "<text dominant-baseline=\"central\" text-anchor=\"end\" font-family=\"monospace\" font-size=\"12\" x=\"64\" y=\"1216\">q18</text>\n",
       "<path id=\"qubit_line:19\" d=\"M64,1280 L5184,1280 \" stroke=\"black\"/>\n",
       "<text dominant-baseline=\"central\" text-anchor=\"end\" font-family=\"monospace\" font-size=\"12\" x=\"64\" y=\"1280\">q19</text>\n",
       "<path id=\"qubit_line:20\" d=\"M64,1344 L5184,1344 \" stroke=\"black\"/>\n",
       "<text dominant-baseline=\"central\" text-anchor=\"end\" font-family=\"monospace\" font-size=\"12\" x=\"64\" y=\"1344\">q20</text>\n",
       "<path id=\"qubit_line:21\" d=\"M64,1408 L5184,1408 \" stroke=\"black\"/>\n",
       "<text dominant-baseline=\"central\" text-anchor=\"end\" font-family=\"monospace\" font-size=\"12\" x=\"64\" y=\"1408\">q21</text>\n",
       "<path id=\"qubit_line:22\" d=\"M64,1472 L5184,1472 \" stroke=\"black\"/>\n",
       "<text dominant-baseline=\"central\" text-anchor=\"end\" font-family=\"monospace\" font-size=\"12\" x=\"64\" y=\"1472\">q22</text>\n",
       "<path id=\"qubit_line:23\" d=\"M64,1536 L5184,1536 \" stroke=\"black\"/>\n",
       "<text dominant-baseline=\"central\" text-anchor=\"end\" font-family=\"monospace\" font-size=\"12\" x=\"64\" y=\"1536\">q23</text>\n",
       "<path id=\"qubit_line:24\" d=\"M64,1600 L5184,1600 \" stroke=\"black\"/>\n",
       "<text dominant-baseline=\"central\" text-anchor=\"end\" font-family=\"monospace\" font-size=\"12\" x=\"64\" y=\"1600\">q24</text>\n",
       "<path id=\"qubit_line:25\" d=\"M64,1664 L5184,1664 \" stroke=\"black\"/>\n",
       "<text dominant-baseline=\"central\" text-anchor=\"end\" font-family=\"monospace\" font-size=\"12\" x=\"64\" y=\"1664\">q25</text>\n",
       "<path id=\"qubit_line:26\" d=\"M64,1728 L5184,1728 \" stroke=\"black\"/>\n",
       "<text dominant-baseline=\"central\" text-anchor=\"end\" font-family=\"monospace\" font-size=\"12\" x=\"64\" y=\"1728\">q26</text>\n",
       "<path id=\"qubit_line:27\" d=\"M64,1792 L5184,1792 \" stroke=\"black\"/>\n",
       "<text dominant-baseline=\"central\" text-anchor=\"end\" font-family=\"monospace\" font-size=\"12\" x=\"64\" y=\"1792\">q27</text>\n",
       "<path id=\"qubit_line:28\" d=\"M64,1856 L5184,1856 \" stroke=\"black\"/>\n",
       "<text dominant-baseline=\"central\" text-anchor=\"end\" font-family=\"monospace\" font-size=\"12\" x=\"64\" y=\"1856\">q28</text>\n",
       "<path id=\"qubit_line:29\" d=\"M64,1920 L5184,1920 \" stroke=\"black\"/>\n",
       "<text dominant-baseline=\"central\" text-anchor=\"end\" font-family=\"monospace\" font-size=\"12\" x=\"64\" y=\"1920\">q29</text>\n",
       "<path id=\"qubit_line:30\" d=\"M64,1984 L5184,1984 \" stroke=\"black\"/>\n",
       "<text dominant-baseline=\"central\" text-anchor=\"end\" font-family=\"monospace\" font-size=\"12\" x=\"64\" y=\"1984\">q30</text>\n",
       "<path id=\"qubit_line:31\" d=\"M64,2048 L5184,2048 \" stroke=\"black\"/>\n",
       "<text dominant-baseline=\"central\" text-anchor=\"end\" font-family=\"monospace\" font-size=\"12\" x=\"64\" y=\"2048\">q31</text>\n",
       "<path id=\"qubit_line:32\" d=\"M64,2112 L5184,2112 \" stroke=\"black\"/>\n",
       "<text dominant-baseline=\"central\" text-anchor=\"end\" font-family=\"monospace\" font-size=\"12\" x=\"64\" y=\"2112\">q32</text>\n",
       "<path id=\"qubit_line:33\" d=\"M64,2176 L5184,2176 \" stroke=\"black\"/>\n",
       "<text dominant-baseline=\"central\" text-anchor=\"end\" font-family=\"monospace\" font-size=\"12\" x=\"64\" y=\"2176\">q33</text>\n",
       "<path id=\"qubit_line:34\" d=\"M64,2240 L5184,2240 \" stroke=\"black\"/>\n",
       "<text dominant-baseline=\"central\" text-anchor=\"end\" font-family=\"monospace\" font-size=\"12\" x=\"64\" y=\"2240\">q34</text>\n",
       "<path id=\"qubit_line:35\" d=\"M64,2304 L5184,2304 \" stroke=\"black\"/>\n",
       "<text dominant-baseline=\"central\" text-anchor=\"end\" font-family=\"monospace\" font-size=\"12\" x=\"64\" y=\"2304\">q35</text>\n",
       "<path id=\"qubit_line:36\" d=\"M64,2368 L5184,2368 \" stroke=\"black\"/>\n",
       "<text dominant-baseline=\"central\" text-anchor=\"end\" font-family=\"monospace\" font-size=\"12\" x=\"64\" y=\"2368\">q36</text>\n",
       "<path id=\"qubit_line:37\" d=\"M64,2432 L5184,2432 \" stroke=\"black\"/>\n",
       "<text dominant-baseline=\"central\" text-anchor=\"end\" font-family=\"monospace\" font-size=\"12\" x=\"64\" y=\"2432\">q37</text>\n",
       "<path id=\"qubit_line:38\" d=\"M64,2496 L5184,2496 \" stroke=\"black\"/>\n",
       "<text dominant-baseline=\"central\" text-anchor=\"end\" font-family=\"monospace\" font-size=\"12\" x=\"64\" y=\"2496\">q38</text>\n",
       "<path id=\"qubit_line:39\" d=\"M64,2560 L5184,2560 \" stroke=\"black\"/>\n",
       "<text dominant-baseline=\"central\" text-anchor=\"end\" font-family=\"monospace\" font-size=\"12\" x=\"64\" y=\"2560\">q39</text>\n",
       "<path id=\"qubit_line:40\" d=\"M64,2624 L5184,2624 \" stroke=\"black\"/>\n",
       "<text dominant-baseline=\"central\" text-anchor=\"end\" font-family=\"monospace\" font-size=\"12\" x=\"64\" y=\"2624\">q40</text>\n",
       "<path id=\"qubit_line:41\" d=\"M64,2688 L5184,2688 \" stroke=\"black\"/>\n",
       "<text dominant-baseline=\"central\" text-anchor=\"end\" font-family=\"monospace\" font-size=\"12\" x=\"64\" y=\"2688\">q41</text>\n",
       "<path id=\"qubit_line:42\" d=\"M64,2752 L5184,2752 \" stroke=\"black\"/>\n",
       "<text dominant-baseline=\"central\" text-anchor=\"end\" font-family=\"monospace\" font-size=\"12\" x=\"64\" y=\"2752\">q42</text>\n",
       "<path id=\"qubit_line:43\" d=\"M64,2816 L5184,2816 \" stroke=\"black\"/>\n",
       "<text dominant-baseline=\"central\" text-anchor=\"end\" font-family=\"monospace\" font-size=\"12\" x=\"64\" y=\"2816\">q43</text>\n",
       "<path id=\"qubit_line:44\" d=\"M64,2880 L5184,2880 \" stroke=\"black\"/>\n",
       "<text dominant-baseline=\"central\" text-anchor=\"end\" font-family=\"monospace\" font-size=\"12\" x=\"64\" y=\"2880\">q44</text>\n",
       "<path id=\"qubit_line:45\" d=\"M64,2944 L5184,2944 \" stroke=\"black\"/>\n",
       "<text dominant-baseline=\"central\" text-anchor=\"end\" font-family=\"monospace\" font-size=\"12\" x=\"64\" y=\"2944\">q45</text>\n",
       "<path id=\"qubit_line:46\" d=\"M64,3008 L5184,3008 \" stroke=\"black\"/>\n",
       "<text dominant-baseline=\"central\" text-anchor=\"end\" font-family=\"monospace\" font-size=\"12\" x=\"64\" y=\"3008\">q46</text>\n",
       "<path id=\"qubit_line:47\" d=\"M64,3072 L5184,3072 \" stroke=\"black\"/>\n",
       "<text dominant-baseline=\"central\" text-anchor=\"end\" font-family=\"monospace\" font-size=\"12\" x=\"64\" y=\"3072\">q47</text>\n",
       "<path id=\"qubit_line:48\" d=\"M64,3136 L5184,3136 \" stroke=\"black\"/>\n",
       "<text dominant-baseline=\"central\" text-anchor=\"end\" font-family=\"monospace\" font-size=\"12\" x=\"64\" y=\"3136\">q48</text>\n",
       "<path id=\"qubit_line:49\" d=\"M64,3200 L5184,3200 \" stroke=\"black\"/>\n",
       "<text dominant-baseline=\"central\" text-anchor=\"end\" font-family=\"monospace\" font-size=\"12\" x=\"64\" y=\"3200\">q49</text>\n",
       "<path id=\"qubit_line:50\" d=\"M64,3264 L5184,3264 \" stroke=\"black\"/>\n",
       "<text dominant-baseline=\"central\" text-anchor=\"end\" font-family=\"monospace\" font-size=\"12\" x=\"64\" y=\"3264\">q50</text>\n",
       "<path id=\"qubit_line:51\" d=\"M64,3328 L5184,3328 \" stroke=\"black\"/>\n",
       "<text dominant-baseline=\"central\" text-anchor=\"end\" font-family=\"monospace\" font-size=\"12\" x=\"64\" y=\"3328\">q51</text>\n",
       "<path id=\"qubit_line:52\" d=\"M64,3392 L5184,3392 \" stroke=\"black\"/>\n",
       "<text dominant-baseline=\"central\" text-anchor=\"end\" font-family=\"monospace\" font-size=\"12\" x=\"64\" y=\"3392\">q52</text>\n",
       "<path id=\"qubit_line:53\" d=\"M64,3456 L5184,3456 \" stroke=\"black\"/>\n",
       "<text dominant-baseline=\"central\" text-anchor=\"end\" font-family=\"monospace\" font-size=\"12\" x=\"64\" y=\"3456\">q53</text>\n",
       "<path id=\"qubit_line:54\" d=\"M64,3520 L5184,3520 \" stroke=\"black\"/>\n",
       "<text dominant-baseline=\"central\" text-anchor=\"end\" font-family=\"monospace\" font-size=\"12\" x=\"64\" y=\"3520\">q54</text>\n",
       "<path id=\"qubit_line:55\" d=\"M64,3584 L5184,3584 \" stroke=\"black\"/>\n",
       "<text dominant-baseline=\"central\" text-anchor=\"end\" font-family=\"monospace\" font-size=\"12\" x=\"64\" y=\"3584\">q55</text>\n",
       "<path id=\"qubit_line:56\" d=\"M64,3648 L5184,3648 \" stroke=\"black\"/>\n",
       "<text dominant-baseline=\"central\" text-anchor=\"end\" font-family=\"monospace\" font-size=\"12\" x=\"64\" y=\"3648\">q56</text>\n",
       "<path id=\"qubit_line:57\" d=\"M64,3712 L5184,3712 \" stroke=\"black\"/>\n",
       "<text dominant-baseline=\"central\" text-anchor=\"end\" font-family=\"monospace\" font-size=\"12\" x=\"64\" y=\"3712\">q57</text>\n",
       "<path id=\"qubit_line:58\" d=\"M64,3776 L5184,3776 \" stroke=\"black\"/>\n",
       "<text dominant-baseline=\"central\" text-anchor=\"end\" font-family=\"monospace\" font-size=\"12\" x=\"64\" y=\"3776\">q58</text>\n",
       "<path id=\"qubit_line:59\" d=\"M64,3840 L5184,3840 \" stroke=\"black\"/>\n",
       "<text dominant-baseline=\"central\" text-anchor=\"end\" font-family=\"monospace\" font-size=\"12\" x=\"64\" y=\"3840\">q59</text>\n",
       "<path id=\"qubit_line:60\" d=\"M64,3904 L5184,3904 \" stroke=\"black\"/>\n",
       "<text dominant-baseline=\"central\" text-anchor=\"end\" font-family=\"monospace\" font-size=\"12\" x=\"64\" y=\"3904\">q60</text>\n",
       "<path id=\"qubit_line:61\" d=\"M64,3968 L5184,3968 \" stroke=\"black\"/>\n",
       "<text dominant-baseline=\"central\" text-anchor=\"end\" font-family=\"monospace\" font-size=\"12\" x=\"64\" y=\"3968\">q61</text>\n",
       "<path id=\"qubit_line:62\" d=\"M64,4032 L5184,4032 \" stroke=\"black\"/>\n",
       "<text dominant-baseline=\"central\" text-anchor=\"end\" font-family=\"monospace\" font-size=\"12\" x=\"64\" y=\"4032\">q62</text>\n",
       "<path id=\"qubit_line:63\" d=\"M64,4096 L5184,4096 \" stroke=\"black\"/>\n",
       "<text dominant-baseline=\"central\" text-anchor=\"end\" font-family=\"monospace\" font-size=\"12\" x=\"64\" y=\"4096\">q63</text>\n",
       "<path id=\"qubit_line:64\" d=\"M64,4160 L5184,4160 \" stroke=\"black\"/>\n",
       "<text dominant-baseline=\"central\" text-anchor=\"end\" font-family=\"monospace\" font-size=\"12\" x=\"64\" y=\"4160\">q64</text>\n",
       "<path id=\"qubit_line:65\" d=\"M64,4224 L5184,4224 \" stroke=\"black\"/>\n",
       "<text dominant-baseline=\"central\" text-anchor=\"end\" font-family=\"monospace\" font-size=\"12\" x=\"64\" y=\"4224\">q65</text>\n",
       "<path id=\"qubit_line:66\" d=\"M64,4288 L5184,4288 \" stroke=\"black\"/>\n",
       "<text dominant-baseline=\"central\" text-anchor=\"end\" font-family=\"monospace\" font-size=\"12\" x=\"64\" y=\"4288\">q66</text>\n",
       "<path id=\"qubit_line:67\" d=\"M64,4352 L5184,4352 \" stroke=\"black\"/>\n",
       "<text dominant-baseline=\"central\" text-anchor=\"end\" font-family=\"monospace\" font-size=\"12\" x=\"64\" y=\"4352\">q67</text>\n",
       "<path id=\"qubit_line:68\" d=\"M64,4416 L5184,4416 \" stroke=\"black\"/>\n",
       "<text dominant-baseline=\"central\" text-anchor=\"end\" font-family=\"monospace\" font-size=\"12\" x=\"64\" y=\"4416\">q68</text>\n",
       "<path id=\"qubit_line:69\" d=\"M64,4480 L5184,4480 \" stroke=\"black\"/>\n",
       "<text dominant-baseline=\"central\" text-anchor=\"end\" font-family=\"monospace\" font-size=\"12\" x=\"64\" y=\"4480\">q69</text>\n",
       "<path id=\"qubit_line:70\" d=\"M64,4544 L5184,4544 \" stroke=\"black\"/>\n",
       "<text dominant-baseline=\"central\" text-anchor=\"end\" font-family=\"monospace\" font-size=\"12\" x=\"64\" y=\"4544\">q70</text>\n",
       "<path id=\"qubit_line:71\" d=\"M64,4608 L5184,4608 \" stroke=\"black\"/>\n",
       "<text dominant-baseline=\"central\" text-anchor=\"end\" font-family=\"monospace\" font-size=\"12\" x=\"64\" y=\"4608\">q71</text>\n",
       "<path id=\"qubit_line:72\" d=\"M64,4672 L5184,4672 \" stroke=\"black\"/>\n",
       "<text dominant-baseline=\"central\" text-anchor=\"end\" font-family=\"monospace\" font-size=\"12\" x=\"64\" y=\"4672\">q72</text>\n",
       "<path id=\"qubit_line:73\" d=\"M64,4736 L5184,4736 \" stroke=\"black\"/>\n",
       "<text dominant-baseline=\"central\" text-anchor=\"end\" font-family=\"monospace\" font-size=\"12\" x=\"64\" y=\"4736\">q73</text>\n",
       "<path id=\"qubit_line:74\" d=\"M64,4800 L5184,4800 \" stroke=\"black\"/>\n",
       "<text dominant-baseline=\"central\" text-anchor=\"end\" font-family=\"monospace\" font-size=\"12\" x=\"64\" y=\"4800\">q74</text>\n",
       "<path id=\"qubit_line:75\" d=\"M64,4864 L5184,4864 \" stroke=\"black\"/>\n",
       "<text dominant-baseline=\"central\" text-anchor=\"end\" font-family=\"monospace\" font-size=\"12\" x=\"64\" y=\"4864\">q75</text>\n",
       "<path id=\"qubit_line:76\" d=\"M64,4928 L5184,4928 \" stroke=\"black\"/>\n",
       "<text dominant-baseline=\"central\" text-anchor=\"end\" font-family=\"monospace\" font-size=\"12\" x=\"64\" y=\"4928\">q76</text>\n",
       "<path id=\"qubit_line:77\" d=\"M64,4992 L5184,4992 \" stroke=\"black\"/>\n",
       "<text dominant-baseline=\"central\" text-anchor=\"end\" font-family=\"monospace\" font-size=\"12\" x=\"64\" y=\"4992\">q77</text>\n",
       "<path id=\"qubit_line:78\" d=\"M64,5056 L5184,5056 \" stroke=\"black\"/>\n",
       "<text dominant-baseline=\"central\" text-anchor=\"end\" font-family=\"monospace\" font-size=\"12\" x=\"64\" y=\"5056\">q78</text>\n",
       "<path id=\"qubit_line:79\" d=\"M64,5120 L5184,5120 \" stroke=\"black\"/>\n",
       "<text dominant-baseline=\"central\" text-anchor=\"end\" font-family=\"monospace\" font-size=\"12\" x=\"64\" y=\"5120\">q79</text>\n",
       "<path id=\"qubit_line:80\" d=\"M64,5184 L5184,5184 \" stroke=\"black\"/>\n",
       "<text dominant-baseline=\"central\" text-anchor=\"end\" font-family=\"monospace\" font-size=\"12\" x=\"64\" y=\"5184\">q80</text>\n",
       "<path id=\"qubit_line:81\" d=\"M64,5248 L5184,5248 \" stroke=\"black\"/>\n",
       "<text dominant-baseline=\"central\" text-anchor=\"end\" font-family=\"monospace\" font-size=\"12\" x=\"64\" y=\"5248\">q81</text>\n",
       "<path id=\"qubit_line:82\" d=\"M64,5312 L5184,5312 \" stroke=\"black\"/>\n",
       "<text dominant-baseline=\"central\" text-anchor=\"end\" font-family=\"monospace\" font-size=\"12\" x=\"64\" y=\"5312\">q82</text>\n",
       "<path id=\"qubit_line:83\" d=\"M64,5376 L5184,5376 \" stroke=\"black\"/>\n",
       "<text dominant-baseline=\"central\" text-anchor=\"end\" font-family=\"monospace\" font-size=\"12\" x=\"64\" y=\"5376\">q83</text>\n",
       "<path id=\"qubit_line:84\" d=\"M64,5440 L5184,5440 \" stroke=\"black\"/>\n",
       "<text dominant-baseline=\"central\" text-anchor=\"end\" font-family=\"monospace\" font-size=\"12\" x=\"64\" y=\"5440\">q84</text>\n",
       "<path id=\"qubit_line:85\" d=\"M64,5504 L5184,5504 \" stroke=\"black\"/>\n",
       "<text dominant-baseline=\"central\" text-anchor=\"end\" font-family=\"monospace\" font-size=\"12\" x=\"64\" y=\"5504\">q85</text>\n",
       "<path id=\"qubit_line:86\" d=\"M64,5568 L5184,5568 \" stroke=\"black\"/>\n",
       "<text dominant-baseline=\"central\" text-anchor=\"end\" font-family=\"monospace\" font-size=\"12\" x=\"64\" y=\"5568\">q86</text>\n",
       "<path id=\"qubit_line:87\" d=\"M64,5632 L5184,5632 \" stroke=\"black\"/>\n",
       "<text dominant-baseline=\"central\" text-anchor=\"end\" font-family=\"monospace\" font-size=\"12\" x=\"64\" y=\"5632\">q87</text>\n",
       "<path id=\"qubit_line:88\" d=\"M64,5696 L5184,5696 \" stroke=\"black\"/>\n",
       "<text dominant-baseline=\"central\" text-anchor=\"end\" font-family=\"monospace\" font-size=\"12\" x=\"64\" y=\"5696\">q88</text>\n",
       "<path id=\"qubit_line:89\" d=\"M64,5760 L5184,5760 \" stroke=\"black\"/>\n",
       "<text dominant-baseline=\"central\" text-anchor=\"end\" font-family=\"monospace\" font-size=\"12\" x=\"64\" y=\"5760\">q89</text>\n",
       "<path id=\"qubit_line:90\" d=\"M64,5824 L5184,5824 \" stroke=\"black\"/>\n",
       "<text dominant-baseline=\"central\" text-anchor=\"end\" font-family=\"monospace\" font-size=\"12\" x=\"64\" y=\"5824\">q90</text>\n",
       "<path id=\"qubit_line:91\" d=\"M64,5888 L5184,5888 \" stroke=\"black\"/>\n",
       "<text dominant-baseline=\"central\" text-anchor=\"end\" font-family=\"monospace\" font-size=\"12\" x=\"64\" y=\"5888\">q91</text>\n",
       "<path id=\"qubit_line:92\" d=\"M64,5952 L5184,5952 \" stroke=\"black\"/>\n",
       "<text dominant-baseline=\"central\" text-anchor=\"end\" font-family=\"monospace\" font-size=\"12\" x=\"64\" y=\"5952\">q92</text>\n",
       "<path id=\"qubit_line:93\" d=\"M64,6016 L5184,6016 \" stroke=\"black\"/>\n",
       "<text dominant-baseline=\"central\" text-anchor=\"end\" font-family=\"monospace\" font-size=\"12\" x=\"64\" y=\"6016\">q93</text>\n",
       "<path id=\"qubit_line:94\" d=\"M64,6080 L5184,6080 \" stroke=\"black\"/>\n",
       "<text dominant-baseline=\"central\" text-anchor=\"end\" font-family=\"monospace\" font-size=\"12\" x=\"64\" y=\"6080\">q94</text>\n",
       "<path id=\"qubit_line:95\" d=\"M64,6144 L5184,6144 \" stroke=\"black\"/>\n",
       "<text dominant-baseline=\"central\" text-anchor=\"end\" font-family=\"monospace\" font-size=\"12\" x=\"64\" y=\"6144\">q95</text>\n",
       "<path id=\"qubit_line:96\" d=\"M64,6208 L5184,6208 \" stroke=\"black\"/>\n",
       "<text dominant-baseline=\"central\" text-anchor=\"end\" font-family=\"monospace\" font-size=\"12\" x=\"64\" y=\"6208\">q96</text>\n",
       "<path id=\"qubit_line:97\" d=\"M64,6272 L5184,6272 \" stroke=\"black\"/>\n",
       "<text dominant-baseline=\"central\" text-anchor=\"end\" font-family=\"monospace\" font-size=\"12\" x=\"64\" y=\"6272\">q97</text>\n",
       "</g>\n",
       "<rect x=\"80\" y=\"48\" width=\"224\" height=\"32\" stroke=\"black\" fill=\"white\"/>\n",
       "<text dominant-baseline=\"central\" text-anchor=\"middle\" font-family=\"monospace\" font-size=\"16\" x=\"192\" y=\"64\">COORDS(0,0)</text>\n",
       "<rect x=\"80\" y=\"112\" width=\"224\" height=\"32\" stroke=\"black\" fill=\"white\"/>\n",
       "<text dominant-baseline=\"central\" text-anchor=\"middle\" font-family=\"monospace\" font-size=\"16\" x=\"192\" y=\"128\">COORDS(1,0)</text>\n",
       "<rect x=\"80\" y=\"176\" width=\"224\" height=\"32\" stroke=\"black\" fill=\"white\"/>\n",
       "<text dominant-baseline=\"central\" text-anchor=\"middle\" font-family=\"monospace\" font-size=\"16\" x=\"192\" y=\"192\">COORDS(2,0)</text>\n",
       "<rect x=\"80\" y=\"240\" width=\"224\" height=\"32\" stroke=\"black\" fill=\"white\"/>\n",
       "<text dominant-baseline=\"central\" text-anchor=\"middle\" font-family=\"monospace\" font-size=\"16\" x=\"192\" y=\"256\">COORDS(3,0)</text>\n",
       "<rect x=\"80\" y=\"304\" width=\"224\" height=\"32\" stroke=\"black\" fill=\"white\"/>\n",
       "<text dominant-baseline=\"central\" text-anchor=\"middle\" font-family=\"monospace\" font-size=\"16\" x=\"192\" y=\"320\">COORDS(4,0)</text>\n",
       "<rect x=\"80\" y=\"368\" width=\"224\" height=\"32\" stroke=\"black\" fill=\"white\"/>\n",
       "<text dominant-baseline=\"central\" text-anchor=\"middle\" font-family=\"monospace\" font-size=\"16\" x=\"192\" y=\"384\">COORDS(5,0)</text>\n",
       "<rect x=\"80\" y=\"432\" width=\"224\" height=\"32\" stroke=\"black\" fill=\"white\"/>\n",
       "<text dominant-baseline=\"central\" text-anchor=\"middle\" font-family=\"monospace\" font-size=\"16\" x=\"192\" y=\"448\">COORDS(6,0)</text>\n",
       "<rect x=\"80\" y=\"496\" width=\"224\" height=\"32\" stroke=\"black\" fill=\"white\"/>\n",
       "<text dominant-baseline=\"central\" text-anchor=\"middle\" font-family=\"monospace\" font-size=\"16\" x=\"192\" y=\"512\">COORDS(0,1)</text>\n",
       "<rect x=\"80\" y=\"560\" width=\"224\" height=\"32\" stroke=\"black\" fill=\"white\"/>\n",
       "<text dominant-baseline=\"central\" text-anchor=\"middle\" font-family=\"monospace\" font-size=\"16\" x=\"192\" y=\"576\">COORDS(1,1)</text>\n",
       "<rect x=\"80\" y=\"624\" width=\"224\" height=\"32\" stroke=\"black\" fill=\"white\"/>\n",
       "<text dominant-baseline=\"central\" text-anchor=\"middle\" font-family=\"monospace\" font-size=\"16\" x=\"192\" y=\"640\">COORDS(2,1)</text>\n",
       "<rect x=\"80\" y=\"688\" width=\"224\" height=\"32\" stroke=\"black\" fill=\"white\"/>\n",
       "<text dominant-baseline=\"central\" text-anchor=\"middle\" font-family=\"monospace\" font-size=\"16\" x=\"192\" y=\"704\">COORDS(3,1)</text>\n",
       "<rect x=\"80\" y=\"752\" width=\"224\" height=\"32\" stroke=\"black\" fill=\"white\"/>\n",
       "<text dominant-baseline=\"central\" text-anchor=\"middle\" font-family=\"monospace\" font-size=\"16\" x=\"192\" y=\"768\">COORDS(4,1)</text>\n",
       "<rect x=\"80\" y=\"816\" width=\"224\" height=\"32\" stroke=\"black\" fill=\"white\"/>\n",
       "<text dominant-baseline=\"central\" text-anchor=\"middle\" font-family=\"monospace\" font-size=\"16\" x=\"192\" y=\"832\">COORDS(5,1)</text>\n",
       "<rect x=\"80\" y=\"880\" width=\"224\" height=\"32\" stroke=\"black\" fill=\"white\"/>\n",
       "<text dominant-baseline=\"central\" text-anchor=\"middle\" font-family=\"monospace\" font-size=\"16\" x=\"192\" y=\"896\">COORDS(6,1)</text>\n",
       "<rect x=\"80\" y=\"944\" width=\"224\" height=\"32\" stroke=\"black\" fill=\"white\"/>\n",
       "<text dominant-baseline=\"central\" text-anchor=\"middle\" font-family=\"monospace\" font-size=\"16\" x=\"192\" y=\"960\">COORDS(0,2)</text>\n",
       "<rect x=\"80\" y=\"1008\" width=\"224\" height=\"32\" stroke=\"black\" fill=\"white\"/>\n",
       "<text dominant-baseline=\"central\" text-anchor=\"middle\" font-family=\"monospace\" font-size=\"16\" x=\"192\" y=\"1024\">COORDS(1,2)</text>\n",
       "<rect x=\"80\" y=\"1072\" width=\"224\" height=\"32\" stroke=\"black\" fill=\"white\"/>\n",
       "<text dominant-baseline=\"central\" text-anchor=\"middle\" font-family=\"monospace\" font-size=\"16\" x=\"192\" y=\"1088\">COORDS(2,2)</text>\n",
       "<rect x=\"80\" y=\"1136\" width=\"224\" height=\"32\" stroke=\"black\" fill=\"white\"/>\n",
       "<text dominant-baseline=\"central\" text-anchor=\"middle\" font-family=\"monospace\" font-size=\"16\" x=\"192\" y=\"1152\">COORDS(3,2)</text>\n",
       "<rect x=\"80\" y=\"1200\" width=\"224\" height=\"32\" stroke=\"black\" fill=\"white\"/>\n",
       "<text dominant-baseline=\"central\" text-anchor=\"middle\" font-family=\"monospace\" font-size=\"16\" x=\"192\" y=\"1216\">COORDS(4,2)</text>\n",
       "<rect x=\"80\" y=\"1264\" width=\"224\" height=\"32\" stroke=\"black\" fill=\"white\"/>\n",
       "<text dominant-baseline=\"central\" text-anchor=\"middle\" font-family=\"monospace\" font-size=\"16\" x=\"192\" y=\"1280\">COORDS(5,2)</text>\n",
       "<rect x=\"80\" y=\"1328\" width=\"224\" height=\"32\" stroke=\"black\" fill=\"white\"/>\n",
       "<text dominant-baseline=\"central\" text-anchor=\"middle\" font-family=\"monospace\" font-size=\"16\" x=\"192\" y=\"1344\">COORDS(6,2)</text>\n",
       "<rect x=\"80\" y=\"1392\" width=\"224\" height=\"32\" stroke=\"black\" fill=\"white\"/>\n",
       "<text dominant-baseline=\"central\" text-anchor=\"middle\" font-family=\"monospace\" font-size=\"16\" x=\"192\" y=\"1408\">COORDS(0,3)</text>\n",
       "<rect x=\"80\" y=\"1456\" width=\"224\" height=\"32\" stroke=\"black\" fill=\"white\"/>\n",
       "<text dominant-baseline=\"central\" text-anchor=\"middle\" font-family=\"monospace\" font-size=\"16\" x=\"192\" y=\"1472\">COORDS(1,3)</text>\n",
       "<rect x=\"80\" y=\"1520\" width=\"224\" height=\"32\" stroke=\"black\" fill=\"white\"/>\n",
       "<text dominant-baseline=\"central\" text-anchor=\"middle\" font-family=\"monospace\" font-size=\"16\" x=\"192\" y=\"1536\">COORDS(2,3)</text>\n",
       "<rect x=\"80\" y=\"1584\" width=\"224\" height=\"32\" stroke=\"black\" fill=\"white\"/>\n",
       "<text dominant-baseline=\"central\" text-anchor=\"middle\" font-family=\"monospace\" font-size=\"16\" x=\"192\" y=\"1600\">COORDS(3,3)</text>\n",
       "<rect x=\"80\" y=\"1648\" width=\"224\" height=\"32\" stroke=\"black\" fill=\"white\"/>\n",
       "<text dominant-baseline=\"central\" text-anchor=\"middle\" font-family=\"monospace\" font-size=\"16\" x=\"192\" y=\"1664\">COORDS(4,3)</text>\n",
       "<rect x=\"80\" y=\"1712\" width=\"224\" height=\"32\" stroke=\"black\" fill=\"white\"/>\n",
       "<text dominant-baseline=\"central\" text-anchor=\"middle\" font-family=\"monospace\" font-size=\"16\" x=\"192\" y=\"1728\">COORDS(5,3)</text>\n",
       "<rect x=\"80\" y=\"1776\" width=\"224\" height=\"32\" stroke=\"black\" fill=\"white\"/>\n",
       "<text dominant-baseline=\"central\" text-anchor=\"middle\" font-family=\"monospace\" font-size=\"16\" x=\"192\" y=\"1792\">COORDS(6,3)</text>\n",
       "<rect x=\"80\" y=\"1840\" width=\"224\" height=\"32\" stroke=\"black\" fill=\"white\"/>\n",
       "<text dominant-baseline=\"central\" text-anchor=\"middle\" font-family=\"monospace\" font-size=\"16\" x=\"192\" y=\"1856\">COORDS(0,4)</text>\n",
       "<rect x=\"80\" y=\"1904\" width=\"224\" height=\"32\" stroke=\"black\" fill=\"white\"/>\n",
       "<text dominant-baseline=\"central\" text-anchor=\"middle\" font-family=\"monospace\" font-size=\"16\" x=\"192\" y=\"1920\">COORDS(1,4)</text>\n",
       "<rect x=\"80\" y=\"1968\" width=\"224\" height=\"32\" stroke=\"black\" fill=\"white\"/>\n",
       "<text dominant-baseline=\"central\" text-anchor=\"middle\" font-family=\"monospace\" font-size=\"16\" x=\"192\" y=\"1984\">COORDS(2,4)</text>\n",
       "<rect x=\"80\" y=\"2032\" width=\"224\" height=\"32\" stroke=\"black\" fill=\"white\"/>\n",
       "<text dominant-baseline=\"central\" text-anchor=\"middle\" font-family=\"monospace\" font-size=\"16\" x=\"192\" y=\"2048\">COORDS(3,4)</text>\n",
       "<rect x=\"80\" y=\"2096\" width=\"224\" height=\"32\" stroke=\"black\" fill=\"white\"/>\n",
       "<text dominant-baseline=\"central\" text-anchor=\"middle\" font-family=\"monospace\" font-size=\"16\" x=\"192\" y=\"2112\">COORDS(4,4)</text>\n",
       "<rect x=\"80\" y=\"2160\" width=\"224\" height=\"32\" stroke=\"black\" fill=\"white\"/>\n",
       "<text dominant-baseline=\"central\" text-anchor=\"middle\" font-family=\"monospace\" font-size=\"16\" x=\"192\" y=\"2176\">COORDS(5,4)</text>\n",
       "<rect x=\"80\" y=\"2224\" width=\"224\" height=\"32\" stroke=\"black\" fill=\"white\"/>\n",
       "<text dominant-baseline=\"central\" text-anchor=\"middle\" font-family=\"monospace\" font-size=\"16\" x=\"192\" y=\"2240\">COORDS(6,4)</text>\n",
       "<rect x=\"80\" y=\"2288\" width=\"224\" height=\"32\" stroke=\"black\" fill=\"white\"/>\n",
       "<text dominant-baseline=\"central\" text-anchor=\"middle\" font-family=\"monospace\" font-size=\"16\" x=\"192\" y=\"2304\">COORDS(0,5)</text>\n",
       "<rect x=\"80\" y=\"2352\" width=\"224\" height=\"32\" stroke=\"black\" fill=\"white\"/>\n",
       "<text dominant-baseline=\"central\" text-anchor=\"middle\" font-family=\"monospace\" font-size=\"16\" x=\"192\" y=\"2368\">COORDS(1,5)</text>\n",
       "<rect x=\"80\" y=\"2416\" width=\"224\" height=\"32\" stroke=\"black\" fill=\"white\"/>\n",
       "<text dominant-baseline=\"central\" text-anchor=\"middle\" font-family=\"monospace\" font-size=\"16\" x=\"192\" y=\"2432\">COORDS(2,5)</text>\n",
       "<rect x=\"80\" y=\"2480\" width=\"224\" height=\"32\" stroke=\"black\" fill=\"white\"/>\n",
       "<text dominant-baseline=\"central\" text-anchor=\"middle\" font-family=\"monospace\" font-size=\"16\" x=\"192\" y=\"2496\">COORDS(3,5)</text>\n",
       "<rect x=\"80\" y=\"2544\" width=\"224\" height=\"32\" stroke=\"black\" fill=\"white\"/>\n",
       "<text dominant-baseline=\"central\" text-anchor=\"middle\" font-family=\"monospace\" font-size=\"16\" x=\"192\" y=\"2560\">COORDS(4,5)</text>\n",
       "<rect x=\"80\" y=\"2608\" width=\"224\" height=\"32\" stroke=\"black\" fill=\"white\"/>\n",
       "<text dominant-baseline=\"central\" text-anchor=\"middle\" font-family=\"monospace\" font-size=\"16\" x=\"192\" y=\"2624\">COORDS(5,5)</text>\n",
       "<rect x=\"80\" y=\"2672\" width=\"224\" height=\"32\" stroke=\"black\" fill=\"white\"/>\n",
       "<text dominant-baseline=\"central\" text-anchor=\"middle\" font-family=\"monospace\" font-size=\"16\" x=\"192\" y=\"2688\">COORDS(6,5)</text>\n",
       "<rect x=\"80\" y=\"2736\" width=\"224\" height=\"32\" stroke=\"black\" fill=\"white\"/>\n",
       "<text dominant-baseline=\"central\" text-anchor=\"middle\" font-family=\"monospace\" font-size=\"16\" x=\"192\" y=\"2752\">COORDS(-0.5,-0.5)</text>\n",
       "<rect x=\"80\" y=\"2800\" width=\"224\" height=\"32\" stroke=\"black\" fill=\"white\"/>\n",
       "<text dominant-baseline=\"central\" text-anchor=\"middle\" font-family=\"monospace\" font-size=\"16\" x=\"192\" y=\"2816\">COORDS(0.5,-0.5)</text>\n",
       "<rect x=\"80\" y=\"2864\" width=\"224\" height=\"32\" stroke=\"black\" fill=\"white\"/>\n",
       "<text dominant-baseline=\"central\" text-anchor=\"middle\" font-family=\"monospace\" font-size=\"16\" x=\"192\" y=\"2880\">COORDS(1.5,-0.5)</text>\n",
       "<rect x=\"80\" y=\"2928\" width=\"224\" height=\"32\" stroke=\"black\" fill=\"white\"/>\n",
       "<text dominant-baseline=\"central\" text-anchor=\"middle\" font-family=\"monospace\" font-size=\"16\" x=\"192\" y=\"2944\">COORDS(2.5,-0.5)</text>\n",
       "<rect x=\"80\" y=\"2992\" width=\"224\" height=\"32\" stroke=\"black\" fill=\"white\"/>\n",
       "<text dominant-baseline=\"central\" text-anchor=\"middle\" font-family=\"monospace\" font-size=\"16\" x=\"192\" y=\"3008\">COORDS(3.5,-0.5)</text>\n",
       "<rect x=\"80\" y=\"3056\" width=\"224\" height=\"32\" stroke=\"black\" fill=\"white\"/>\n",
       "<text dominant-baseline=\"central\" text-anchor=\"middle\" font-family=\"monospace\" font-size=\"16\" x=\"192\" y=\"3072\">COORDS(4.5,-0.5)</text>\n",
       "<rect x=\"80\" y=\"3120\" width=\"224\" height=\"32\" stroke=\"black\" fill=\"white\"/>\n",
       "<text dominant-baseline=\"central\" text-anchor=\"middle\" font-family=\"monospace\" font-size=\"16\" x=\"192\" y=\"3136\">COORDS(5.5,-0.5)</text>\n",
       "<rect x=\"80\" y=\"3184\" width=\"224\" height=\"32\" stroke=\"black\" fill=\"white\"/>\n",
       "<text dominant-baseline=\"central\" text-anchor=\"middle\" font-family=\"monospace\" font-size=\"16\" x=\"192\" y=\"3200\">COORDS(6.5,-0.5)</text>\n",
       "<rect x=\"80\" y=\"3248\" width=\"224\" height=\"32\" stroke=\"black\" fill=\"white\"/>\n",
       "<text dominant-baseline=\"central\" text-anchor=\"middle\" font-family=\"monospace\" font-size=\"16\" x=\"192\" y=\"3264\">COORDS(-0.5,0.5)</text>\n",
       "<rect x=\"80\" y=\"3312\" width=\"224\" height=\"32\" stroke=\"black\" fill=\"white\"/>\n",
       "<text dominant-baseline=\"central\" text-anchor=\"middle\" font-family=\"monospace\" font-size=\"16\" x=\"192\" y=\"3328\">COORDS(0.5,0.5)</text>\n",
       "<rect x=\"80\" y=\"3376\" width=\"224\" height=\"32\" stroke=\"black\" fill=\"white\"/>\n",
       "<text dominant-baseline=\"central\" text-anchor=\"middle\" font-family=\"monospace\" font-size=\"16\" x=\"192\" y=\"3392\">COORDS(1.5,0.5)</text>\n",
       "<rect x=\"80\" y=\"3440\" width=\"224\" height=\"32\" stroke=\"black\" fill=\"white\"/>\n",
       "<text dominant-baseline=\"central\" text-anchor=\"middle\" font-family=\"monospace\" font-size=\"16\" x=\"192\" y=\"3456\">COORDS(2.5,0.5)</text>\n",
       "<rect x=\"80\" y=\"3504\" width=\"224\" height=\"32\" stroke=\"black\" fill=\"white\"/>\n",
       "<text dominant-baseline=\"central\" text-anchor=\"middle\" font-family=\"monospace\" font-size=\"16\" x=\"192\" y=\"3520\">COORDS(3.5,0.5)</text>\n",
       "<rect x=\"80\" y=\"3568\" width=\"224\" height=\"32\" stroke=\"black\" fill=\"white\"/>\n",
       "<text dominant-baseline=\"central\" text-anchor=\"middle\" font-family=\"monospace\" font-size=\"16\" x=\"192\" y=\"3584\">COORDS(4.5,0.5)</text>\n",
       "<rect x=\"80\" y=\"3632\" width=\"224\" height=\"32\" stroke=\"black\" fill=\"white\"/>\n",
       "<text dominant-baseline=\"central\" text-anchor=\"middle\" font-family=\"monospace\" font-size=\"16\" x=\"192\" y=\"3648\">COORDS(5.5,0.5)</text>\n",
       "<rect x=\"80\" y=\"3696\" width=\"224\" height=\"32\" stroke=\"black\" fill=\"white\"/>\n",
       "<text dominant-baseline=\"central\" text-anchor=\"middle\" font-family=\"monospace\" font-size=\"16\" x=\"192\" y=\"3712\">COORDS(6.5,0.5)</text>\n",
       "<rect x=\"80\" y=\"3760\" width=\"224\" height=\"32\" stroke=\"black\" fill=\"white\"/>\n",
       "<text dominant-baseline=\"central\" text-anchor=\"middle\" font-family=\"monospace\" font-size=\"16\" x=\"192\" y=\"3776\">COORDS(-0.5,1.5)</text>\n",
       "<rect x=\"80\" y=\"3824\" width=\"224\" height=\"32\" stroke=\"black\" fill=\"white\"/>\n",
       "<text dominant-baseline=\"central\" text-anchor=\"middle\" font-family=\"monospace\" font-size=\"16\" x=\"192\" y=\"3840\">COORDS(0.5,1.5)</text>\n",
       "<rect x=\"80\" y=\"3888\" width=\"224\" height=\"32\" stroke=\"black\" fill=\"white\"/>\n",
       "<text dominant-baseline=\"central\" text-anchor=\"middle\" font-family=\"monospace\" font-size=\"16\" x=\"192\" y=\"3904\">COORDS(1.5,1.5)</text>\n",
       "<rect x=\"80\" y=\"3952\" width=\"224\" height=\"32\" stroke=\"black\" fill=\"white\"/>\n",
       "<text dominant-baseline=\"central\" text-anchor=\"middle\" font-family=\"monospace\" font-size=\"16\" x=\"192\" y=\"3968\">COORDS(2.5,1.5)</text>\n",
       "<rect x=\"80\" y=\"4016\" width=\"224\" height=\"32\" stroke=\"black\" fill=\"white\"/>\n",
       "<text dominant-baseline=\"central\" text-anchor=\"middle\" font-family=\"monospace\" font-size=\"16\" x=\"192\" y=\"4032\">COORDS(3.5,1.5)</text>\n",
       "<rect x=\"80\" y=\"4080\" width=\"224\" height=\"32\" stroke=\"black\" fill=\"white\"/>\n",
       "<text dominant-baseline=\"central\" text-anchor=\"middle\" font-family=\"monospace\" font-size=\"16\" x=\"192\" y=\"4096\">COORDS(4.5,1.5)</text>\n",
       "<rect x=\"80\" y=\"4144\" width=\"224\" height=\"32\" stroke=\"black\" fill=\"white\"/>\n",
       "<text dominant-baseline=\"central\" text-anchor=\"middle\" font-family=\"monospace\" font-size=\"16\" x=\"192\" y=\"4160\">COORDS(5.5,1.5)</text>\n",
       "<rect x=\"80\" y=\"4208\" width=\"224\" height=\"32\" stroke=\"black\" fill=\"white\"/>\n",
       "<text dominant-baseline=\"central\" text-anchor=\"middle\" font-family=\"monospace\" font-size=\"16\" x=\"192\" y=\"4224\">COORDS(6.5,1.5)</text>\n",
       "<rect x=\"80\" y=\"4272\" width=\"224\" height=\"32\" stroke=\"black\" fill=\"white\"/>\n",
       "<text dominant-baseline=\"central\" text-anchor=\"middle\" font-family=\"monospace\" font-size=\"16\" x=\"192\" y=\"4288\">COORDS(-0.5,2.5)</text>\n",
       "<rect x=\"80\" y=\"4336\" width=\"224\" height=\"32\" stroke=\"black\" fill=\"white\"/>\n",
       "<text dominant-baseline=\"central\" text-anchor=\"middle\" font-family=\"monospace\" font-size=\"16\" x=\"192\" y=\"4352\">COORDS(0.5,2.5)</text>\n",
       "<rect x=\"80\" y=\"4400\" width=\"224\" height=\"32\" stroke=\"black\" fill=\"white\"/>\n",
       "<text dominant-baseline=\"central\" text-anchor=\"middle\" font-family=\"monospace\" font-size=\"16\" x=\"192\" y=\"4416\">COORDS(1.5,2.5)</text>\n",
       "<rect x=\"80\" y=\"4464\" width=\"224\" height=\"32\" stroke=\"black\" fill=\"white\"/>\n",
       "<text dominant-baseline=\"central\" text-anchor=\"middle\" font-family=\"monospace\" font-size=\"16\" x=\"192\" y=\"4480\">COORDS(2.5,2.5)</text>\n",
       "<rect x=\"80\" y=\"4528\" width=\"224\" height=\"32\" stroke=\"black\" fill=\"white\"/>\n",
       "<text dominant-baseline=\"central\" text-anchor=\"middle\" font-family=\"monospace\" font-size=\"16\" x=\"192\" y=\"4544\">COORDS(3.5,2.5)</text>\n",
       "<rect x=\"80\" y=\"4592\" width=\"224\" height=\"32\" stroke=\"black\" fill=\"white\"/>\n",
       "<text dominant-baseline=\"central\" text-anchor=\"middle\" font-family=\"monospace\" font-size=\"16\" x=\"192\" y=\"4608\">COORDS(4.5,2.5)</text>\n",
       "<rect x=\"80\" y=\"4656\" width=\"224\" height=\"32\" stroke=\"black\" fill=\"white\"/>\n",
       "<text dominant-baseline=\"central\" text-anchor=\"middle\" font-family=\"monospace\" font-size=\"16\" x=\"192\" y=\"4672\">COORDS(5.5,2.5)</text>\n",
       "<rect x=\"80\" y=\"4720\" width=\"224\" height=\"32\" stroke=\"black\" fill=\"white\"/>\n",
       "<text dominant-baseline=\"central\" text-anchor=\"middle\" font-family=\"monospace\" font-size=\"16\" x=\"192\" y=\"4736\">COORDS(6.5,2.5)</text>\n",
       "<rect x=\"80\" y=\"4784\" width=\"224\" height=\"32\" stroke=\"black\" fill=\"white\"/>\n",
       "<text dominant-baseline=\"central\" text-anchor=\"middle\" font-family=\"monospace\" font-size=\"16\" x=\"192\" y=\"4800\">COORDS(-0.5,3.5)</text>\n",
       "<rect x=\"80\" y=\"4848\" width=\"224\" height=\"32\" stroke=\"black\" fill=\"white\"/>\n",
       "<text dominant-baseline=\"central\" text-anchor=\"middle\" font-family=\"monospace\" font-size=\"16\" x=\"192\" y=\"4864\">COORDS(0.5,3.5)</text>\n",
       "<rect x=\"80\" y=\"4912\" width=\"224\" height=\"32\" stroke=\"black\" fill=\"white\"/>\n",
       "<text dominant-baseline=\"central\" text-anchor=\"middle\" font-family=\"monospace\" font-size=\"16\" x=\"192\" y=\"4928\">COORDS(1.5,3.5)</text>\n",
       "<rect x=\"80\" y=\"4976\" width=\"224\" height=\"32\" stroke=\"black\" fill=\"white\"/>\n",
       "<text dominant-baseline=\"central\" text-anchor=\"middle\" font-family=\"monospace\" font-size=\"16\" x=\"192\" y=\"4992\">COORDS(2.5,3.5)</text>\n",
       "<rect x=\"80\" y=\"5040\" width=\"224\" height=\"32\" stroke=\"black\" fill=\"white\"/>\n",
       "<text dominant-baseline=\"central\" text-anchor=\"middle\" font-family=\"monospace\" font-size=\"16\" x=\"192\" y=\"5056\">COORDS(3.5,3.5)</text>\n",
       "<rect x=\"80\" y=\"5104\" width=\"224\" height=\"32\" stroke=\"black\" fill=\"white\"/>\n",
       "<text dominant-baseline=\"central\" text-anchor=\"middle\" font-family=\"monospace\" font-size=\"16\" x=\"192\" y=\"5120\">COORDS(4.5,3.5)</text>\n",
       "<rect x=\"80\" y=\"5168\" width=\"224\" height=\"32\" stroke=\"black\" fill=\"white\"/>\n",
       "<text dominant-baseline=\"central\" text-anchor=\"middle\" font-family=\"monospace\" font-size=\"16\" x=\"192\" y=\"5184\">COORDS(5.5,3.5)</text>\n",
       "<rect x=\"80\" y=\"5232\" width=\"224\" height=\"32\" stroke=\"black\" fill=\"white\"/>\n",
       "<text dominant-baseline=\"central\" text-anchor=\"middle\" font-family=\"monospace\" font-size=\"16\" x=\"192\" y=\"5248\">COORDS(6.5,3.5)</text>\n",
       "<rect x=\"80\" y=\"5296\" width=\"224\" height=\"32\" stroke=\"black\" fill=\"white\"/>\n",
       "<text dominant-baseline=\"central\" text-anchor=\"middle\" font-family=\"monospace\" font-size=\"16\" x=\"192\" y=\"5312\">COORDS(-0.5,4.5)</text>\n",
       "<rect x=\"80\" y=\"5360\" width=\"224\" height=\"32\" stroke=\"black\" fill=\"white\"/>\n",
       "<text dominant-baseline=\"central\" text-anchor=\"middle\" font-family=\"monospace\" font-size=\"16\" x=\"192\" y=\"5376\">COORDS(0.5,4.5)</text>\n",
       "<rect x=\"80\" y=\"5424\" width=\"224\" height=\"32\" stroke=\"black\" fill=\"white\"/>\n",
       "<text dominant-baseline=\"central\" text-anchor=\"middle\" font-family=\"monospace\" font-size=\"16\" x=\"192\" y=\"5440\">COORDS(1.5,4.5)</text>\n",
       "<rect x=\"80\" y=\"5488\" width=\"224\" height=\"32\" stroke=\"black\" fill=\"white\"/>\n",
       "<text dominant-baseline=\"central\" text-anchor=\"middle\" font-family=\"monospace\" font-size=\"16\" x=\"192\" y=\"5504\">COORDS(2.5,4.5)</text>\n",
       "<rect x=\"80\" y=\"5552\" width=\"224\" height=\"32\" stroke=\"black\" fill=\"white\"/>\n",
       "<text dominant-baseline=\"central\" text-anchor=\"middle\" font-family=\"monospace\" font-size=\"16\" x=\"192\" y=\"5568\">COORDS(3.5,4.5)</text>\n",
       "<rect x=\"80\" y=\"5616\" width=\"224\" height=\"32\" stroke=\"black\" fill=\"white\"/>\n",
       "<text dominant-baseline=\"central\" text-anchor=\"middle\" font-family=\"monospace\" font-size=\"16\" x=\"192\" y=\"5632\">COORDS(4.5,4.5)</text>\n",
       "<rect x=\"80\" y=\"5680\" width=\"224\" height=\"32\" stroke=\"black\" fill=\"white\"/>\n",
       "<text dominant-baseline=\"central\" text-anchor=\"middle\" font-family=\"monospace\" font-size=\"16\" x=\"192\" y=\"5696\">COORDS(5.5,4.5)</text>\n",
       "<rect x=\"80\" y=\"5744\" width=\"224\" height=\"32\" stroke=\"black\" fill=\"white\"/>\n",
       "<text dominant-baseline=\"central\" text-anchor=\"middle\" font-family=\"monospace\" font-size=\"16\" x=\"192\" y=\"5760\">COORDS(6.5,4.5)</text>\n",
       "<rect x=\"80\" y=\"5808\" width=\"224\" height=\"32\" stroke=\"black\" fill=\"white\"/>\n",
       "<text dominant-baseline=\"central\" text-anchor=\"middle\" font-family=\"monospace\" font-size=\"16\" x=\"192\" y=\"5824\">COORDS(-0.5,5.5)</text>\n",
       "<rect x=\"80\" y=\"5872\" width=\"224\" height=\"32\" stroke=\"black\" fill=\"white\"/>\n",
       "<text dominant-baseline=\"central\" text-anchor=\"middle\" font-family=\"monospace\" font-size=\"16\" x=\"192\" y=\"5888\">COORDS(0.5,5.5)</text>\n",
       "<rect x=\"80\" y=\"5936\" width=\"224\" height=\"32\" stroke=\"black\" fill=\"white\"/>\n",
       "<text dominant-baseline=\"central\" text-anchor=\"middle\" font-family=\"monospace\" font-size=\"16\" x=\"192\" y=\"5952\">COORDS(1.5,5.5)</text>\n",
       "<rect x=\"80\" y=\"6000\" width=\"224\" height=\"32\" stroke=\"black\" fill=\"white\"/>\n",
       "<text dominant-baseline=\"central\" text-anchor=\"middle\" font-family=\"monospace\" font-size=\"16\" x=\"192\" y=\"6016\">COORDS(2.5,5.5)</text>\n",
       "<rect x=\"80\" y=\"6064\" width=\"224\" height=\"32\" stroke=\"black\" fill=\"white\"/>\n",
       "<text dominant-baseline=\"central\" text-anchor=\"middle\" font-family=\"monospace\" font-size=\"16\" x=\"192\" y=\"6080\">COORDS(3.5,5.5)</text>\n",
       "<rect x=\"80\" y=\"6128\" width=\"224\" height=\"32\" stroke=\"black\" fill=\"white\"/>\n",
       "<text dominant-baseline=\"central\" text-anchor=\"middle\" font-family=\"monospace\" font-size=\"16\" x=\"192\" y=\"6144\">COORDS(4.5,5.5)</text>\n",
       "<rect x=\"80\" y=\"6192\" width=\"224\" height=\"32\" stroke=\"black\" fill=\"white\"/>\n",
       "<text dominant-baseline=\"central\" text-anchor=\"middle\" font-family=\"monospace\" font-size=\"16\" x=\"192\" y=\"6208\">COORDS(5.5,5.5)</text>\n",
       "<rect x=\"80\" y=\"6256\" width=\"224\" height=\"32\" stroke=\"black\" fill=\"white\"/>\n",
       "<text dominant-baseline=\"central\" text-anchor=\"middle\" font-family=\"monospace\" font-size=\"16\" x=\"192\" y=\"6272\">COORDS(6.5,5.5)</text>\n",
       "<rect x=\"336\" y=\"624\" width=\"32\" height=\"32\" stroke=\"black\" fill=\"black\"/>\n",
       "<text dominant-baseline=\"central\" text-anchor=\"middle\" font-family=\"monospace\" font-size=\"30\" x=\"352\" y=\"640\" fill=\"white\">R</text>\n",
       "<rect x=\"336\" y=\"688\" width=\"32\" height=\"32\" stroke=\"black\" fill=\"black\"/>\n",
       "<text dominant-baseline=\"central\" text-anchor=\"middle\" font-family=\"monospace\" font-size=\"30\" x=\"352\" y=\"704\" fill=\"white\">R</text>\n",
       "<rect x=\"336\" y=\"1072\" width=\"32\" height=\"32\" stroke=\"black\" fill=\"black\"/>\n",
       "<text dominant-baseline=\"central\" text-anchor=\"middle\" font-family=\"monospace\" font-size=\"30\" x=\"352\" y=\"1088\" fill=\"white\">R</text>\n",
       "<rect x=\"336\" y=\"1136\" width=\"32\" height=\"32\" stroke=\"black\" fill=\"black\"/>\n",
       "<text dominant-baseline=\"central\" text-anchor=\"middle\" font-family=\"monospace\" font-size=\"30\" x=\"352\" y=\"1152\" fill=\"white\">R</text>\n",
       "<rect x=\"336\" y=\"1008\" width=\"32\" height=\"32\" stroke=\"black\" fill=\"black\"/>\n",
       "<text dominant-baseline=\"central\" text-anchor=\"middle\" font-family=\"monospace\" font-size=\"30\" x=\"352\" y=\"1024\" fill=\"white\">R</text>\n",
       "<rect x=\"336\" y=\"1456\" width=\"32\" height=\"32\" stroke=\"black\" fill=\"black\"/>\n",
       "<text dominant-baseline=\"central\" text-anchor=\"middle\" font-family=\"monospace\" font-size=\"30\" x=\"352\" y=\"1472\" fill=\"white\">R</text>\n",
       "<rect x=\"336\" y=\"1520\" width=\"32\" height=\"32\" stroke=\"black\" fill=\"black\"/>\n",
       "<text dominant-baseline=\"central\" text-anchor=\"middle\" font-family=\"monospace\" font-size=\"30\" x=\"352\" y=\"1536\" fill=\"white\">R</text>\n",
       "<rect x=\"336\" y=\"560\" width=\"32\" height=\"32\" stroke=\"black\" fill=\"black\"/>\n",
       "<text dominant-baseline=\"central\" text-anchor=\"middle\" font-family=\"monospace\" font-size=\"30\" x=\"352\" y=\"576\" fill=\"white\">R</text>\n",
       "<rect x=\"336\" y=\"1584\" width=\"32\" height=\"32\" stroke=\"black\" fill=\"black\"/>\n",
       "<text dominant-baseline=\"central\" text-anchor=\"middle\" font-family=\"monospace\" font-size=\"30\" x=\"352\" y=\"1600\" fill=\"white\">R</text>\n",
       "<path d=\"M68,40 L68,32 L380,32 L380,40 \" stroke=\"black\" fill=\"none\"/>\n",
       "<path d=\"M68,6328 L68,6336 L380,6336 L380,6328 \" stroke=\"black\" fill=\"none\"/>\n",
       "<rect x=\"400\" y=\"3952\" width=\"32\" height=\"32\" stroke=\"black\" fill=\"white\"/>\n",
       "<text dominant-baseline=\"central\" text-anchor=\"middle\" font-family=\"monospace\" font-size=\"30\" x=\"416\" y=\"3968\">H</text>\n",
       "<rect x=\"400\" y=\"4400\" width=\"32\" height=\"32\" stroke=\"black\" fill=\"white\"/>\n",
       "<text dominant-baseline=\"central\" text-anchor=\"middle\" font-family=\"monospace\" font-size=\"30\" x=\"416\" y=\"4416\">H</text>\n",
       "<rect x=\"400\" y=\"3824\" width=\"32\" height=\"32\" stroke=\"black\" fill=\"white\"/>\n",
       "<text dominant-baseline=\"central\" text-anchor=\"middle\" font-family=\"monospace\" font-size=\"30\" x=\"416\" y=\"3840\">H</text>\n",
       "<rect x=\"400\" y=\"4528\" width=\"32\" height=\"32\" stroke=\"black\" fill=\"white\"/>\n",
       "<text dominant-baseline=\"central\" text-anchor=\"middle\" font-family=\"monospace\" font-size=\"30\" x=\"416\" y=\"4544\">H</text>\n",
       "<rect x=\"400\" y=\"3888\" width=\"32\" height=\"32\" stroke=\"black\" fill=\"white\"/>\n",
       "<text dominant-baseline=\"central\" text-anchor=\"middle\" font-family=\"monospace\" font-size=\"30\" x=\"416\" y=\"3904\">H</text>\n",
       "<rect x=\"400\" y=\"4464\" width=\"32\" height=\"32\" stroke=\"black\" fill=\"white\"/>\n",
       "<text dominant-baseline=\"central\" text-anchor=\"middle\" font-family=\"monospace\" font-size=\"30\" x=\"416\" y=\"4480\">H</text>\n",
       "<rect x=\"400\" y=\"4912\" width=\"32\" height=\"32\" stroke=\"black\" fill=\"white\"/>\n",
       "<text dominant-baseline=\"central\" text-anchor=\"middle\" font-family=\"monospace\" font-size=\"30\" x=\"416\" y=\"4928\">H</text>\n",
       "<rect x=\"400\" y=\"3440\" width=\"32\" height=\"32\" stroke=\"black\" fill=\"white\"/>\n",
       "<text dominant-baseline=\"central\" text-anchor=\"middle\" font-family=\"monospace\" font-size=\"30\" x=\"416\" y=\"3456\">H</text>\n",
       "<path d=\"M480,640 L480,3968 \" stroke=\"black\"/>\n",
       "<circle cx=\"480\" cy=\"3968\" r=\"12\" stroke=\"none\" fill=\"black\"/>\n",
       "<circle cx=\"480\" cy=\"640\" r=\"12\" stroke=\"black\" fill=\"white\"/>\n",
       "<path d=\"M468,640 L492,640 M480,628 L480,652 \" stroke=\"black\"/>\n",
       "<path d=\"M544,1024 L544,4416 \" stroke=\"black\"/>\n",
       "<circle cx=\"544\" cy=\"4416\" r=\"12\" stroke=\"none\" fill=\"black\"/>\n",
       "<circle cx=\"544\" cy=\"1024\" r=\"12\" stroke=\"black\" fill=\"white\"/>\n",
       "<path d=\"M532,1024 L556,1024 M544,1012 L544,1036 \" stroke=\"black\"/>\n",
       "<path d=\"M608,576 L608,3840 \" stroke=\"black\"/>\n",
       "<circle cx=\"608\" cy=\"3840\" r=\"12\" stroke=\"none\" fill=\"black\"/>\n",
       "<circle cx=\"608\" cy=\"576\" r=\"12\" stroke=\"black\" fill=\"white\"/>\n",
       "<path d=\"M596,576 L620,576 M608,564 L608,588 \" stroke=\"black\"/>\n",
       "<path d=\"M672,1152 L672,4544 \" stroke=\"black\"/>\n",
       "<circle cx=\"672\" cy=\"4544\" r=\"12\" stroke=\"none\" fill=\"black\"/>\n",
       "<circle cx=\"672\" cy=\"1152\" r=\"12\" stroke=\"black\" fill=\"white\"/>\n",
       "<path d=\"M660,1152 L684,1152 M672,1140 L672,1164 \" stroke=\"black\"/>\n",
       "<path d=\"M736,576 L736,3904 \" stroke=\"black\"/>\n",
       "<circle cx=\"736\" cy=\"3904\" r=\"12\" stroke=\"none\" fill=\"black\"/>\n",
       "<circle cx=\"736\" cy=\"576\" r=\"12\" stroke=\"none\" fill=\"black\"/>\n",
       "<path d=\"M800,1088 L800,4480 \" stroke=\"black\"/>\n",
       "<circle cx=\"800\" cy=\"4480\" r=\"12\" stroke=\"none\" fill=\"black\"/>\n",
       "<circle cx=\"800\" cy=\"1088\" r=\"12\" stroke=\"none\" fill=\"black\"/>\n",
       "<path d=\"M864,1472 L864,4928 \" stroke=\"black\"/>\n",
       "<circle cx=\"864\" cy=\"4928\" r=\"12\" stroke=\"none\" fill=\"black\"/>\n",
       "<circle cx=\"864\" cy=\"1472\" r=\"12\" stroke=\"none\" fill=\"black\"/>\n",
       "<path d=\"M928,640 L928,3456 \" stroke=\"black\"/>\n",
       "<circle cx=\"928\" cy=\"3456\" r=\"12\" stroke=\"none\" fill=\"black\"/>\n",
       "<circle cx=\"928\" cy=\"640\" r=\"12\" stroke=\"none\" fill=\"black\"/>\n",
       "<path d=\"M452,40 L452,32 L956,32 L956,40 \" stroke=\"black\" fill=\"none\"/>\n",
       "<path d=\"M452,6328 L452,6336 L956,6336 L956,6328 \" stroke=\"black\" fill=\"none\"/>\n",
       "<path d=\"M992,704 L992,3968 \" stroke=\"black\"/>\n",
       "<circle cx=\"992\" cy=\"3968\" r=\"12\" stroke=\"none\" fill=\"black\"/>\n",
       "<circle cx=\"992\" cy=\"704\" r=\"12\" stroke=\"black\" fill=\"white\"/>\n",
       "<path d=\"M980,704 L1004,704 M992,692 L992,716 \" stroke=\"black\"/>\n",
       "<path d=\"M1056,1088 L1056,4416 \" stroke=\"black\"/>\n",
       "<circle cx=\"1056\" cy=\"4416\" r=\"12\" stroke=\"none\" fill=\"black\"/>\n",
       "<circle cx=\"1056\" cy=\"1088\" r=\"12\" stroke=\"black\" fill=\"white\"/>\n",
       "<path d=\"M1044,1088 L1068,1088 M1056,1076 L1056,1100 \" stroke=\"black\"/>\n",
       "<path d=\"M1120,1024 L1120,3840 \" stroke=\"black\"/>\n",
       "<circle cx=\"1120\" cy=\"3840\" r=\"12\" stroke=\"none\" fill=\"black\"/>\n",
       "<circle cx=\"1120\" cy=\"1024\" r=\"12\" stroke=\"black\" fill=\"white\"/>\n",
       "<path d=\"M1108,1024 L1132,1024 M1120,1012 L1120,1036 \" stroke=\"black\"/>\n",
       "<path d=\"M1184,1600 L1184,4544 \" stroke=\"black\"/>\n",
       "<circle cx=\"1184\" cy=\"4544\" r=\"12\" stroke=\"none\" fill=\"black\"/>\n",
       "<circle cx=\"1184\" cy=\"1600\" r=\"12\" stroke=\"black\" fill=\"white\"/>\n",
       "<path d=\"M1172,1600 L1196,1600 M1184,1588 L1184,1612 \" stroke=\"black\"/>\n",
       "<path d=\"M1248,640 L1248,3904 \" stroke=\"black\"/>\n",
       "<circle cx=\"1248\" cy=\"3904\" r=\"12\" stroke=\"none\" fill=\"black\"/>\n",
       "<circle cx=\"1248\" cy=\"640\" r=\"12\" stroke=\"none\" fill=\"black\"/>\n",
       "<path d=\"M1312,1152 L1312,4480 \" stroke=\"black\"/>\n",
       "<circle cx=\"1312\" cy=\"4480\" r=\"12\" stroke=\"none\" fill=\"black\"/>\n",
       "<circle cx=\"1312\" cy=\"1152\" r=\"12\" stroke=\"none\" fill=\"black\"/>\n",
       "<path d=\"M1376,1536 L1376,4928 \" stroke=\"black\"/>\n",
       "<circle cx=\"1376\" cy=\"4928\" r=\"12\" stroke=\"none\" fill=\"black\"/>\n",
       "<circle cx=\"1376\" cy=\"1536\" r=\"12\" stroke=\"none\" fill=\"black\"/>\n",
       "<path d=\"M1440,704 L1440,3456 \" stroke=\"black\"/>\n",
       "<circle cx=\"1440\" cy=\"3456\" r=\"12\" stroke=\"none\" fill=\"black\"/>\n",
       "<circle cx=\"1440\" cy=\"704\" r=\"12\" stroke=\"none\" fill=\"black\"/>\n",
       "<path d=\"M964,40 L964,32 L1468,32 L1468,40 \" stroke=\"black\" fill=\"none\"/>\n",
       "<path d=\"M964,6328 L964,6336 L1468,6336 L1468,6328 \" stroke=\"black\" fill=\"none\"/>\n",
       "<path d=\"M1504,1088 L1504,3968 \" stroke=\"black\"/>\n",
       "<circle cx=\"1504\" cy=\"3968\" r=\"12\" stroke=\"none\" fill=\"black\"/>\n",
       "<circle cx=\"1504\" cy=\"1088\" r=\"12\" stroke=\"black\" fill=\"white\"/>\n",
       "<path d=\"M1492,1088 L1516,1088 M1504,1076 L1504,1100 \" stroke=\"black\"/>\n",
       "<path d=\"M1568,1472 L1568,4416 \" stroke=\"black\"/>\n",
       "<circle cx=\"1568\" cy=\"4416\" r=\"12\" stroke=\"none\" fill=\"black\"/>\n",
       "<circle cx=\"1568\" cy=\"1472\" r=\"12\" stroke=\"black\" fill=\"white\"/>\n",
       "<path d=\"M1556,1472 L1580,1472 M1568,1460 L1568,1484 \" stroke=\"black\"/>\n",
       "<path d=\"M1632,1024 L1632,3904 \" stroke=\"black\"/>\n",
       "<circle cx=\"1632\" cy=\"3904\" r=\"12\" stroke=\"none\" fill=\"black\"/>\n",
       "<circle cx=\"1632\" cy=\"1024\" r=\"12\" stroke=\"none\" fill=\"black\"/>\n",
       "<path d=\"M1696,1536 L1696,4480 \" stroke=\"black\"/>\n",
       "<circle cx=\"1696\" cy=\"4480\" r=\"12\" stroke=\"none\" fill=\"black\"/>\n",
       "<circle cx=\"1696\" cy=\"1536\" r=\"12\" stroke=\"none\" fill=\"black\"/>\n",
       "<path d=\"M1476,40 L1476,32 L1724,32 L1724,40 \" stroke=\"black\" fill=\"none\"/>\n",
       "<path d=\"M1476,6328 L1476,6336 L1724,6336 L1724,6328 \" stroke=\"black\" fill=\"none\"/>\n",
       "<path d=\"M1760,1152 L1760,3968 \" stroke=\"black\"/>\n",
       "<circle cx=\"1760\" cy=\"3968\" r=\"12\" stroke=\"none\" fill=\"black\"/>\n",
       "<circle cx=\"1760\" cy=\"1152\" r=\"12\" stroke=\"black\" fill=\"white\"/>\n",
       "<path d=\"M1748,1152 L1772,1152 M1760,1140 L1760,1164 \" stroke=\"black\"/>\n",
       "<path d=\"M1824,1536 L1824,4416 \" stroke=\"black\"/>\n",
       "<circle cx=\"1824\" cy=\"4416\" r=\"12\" stroke=\"none\" fill=\"black\"/>\n",
       "<circle cx=\"1824\" cy=\"1536\" r=\"12\" stroke=\"black\" fill=\"white\"/>\n",
       "<path d=\"M1812,1536 L1836,1536 M1824,1524 L1824,1548 \" stroke=\"black\"/>\n",
       "<path d=\"M1888,1088 L1888,3904 \" stroke=\"black\"/>\n",
       "<circle cx=\"1888\" cy=\"3904\" r=\"12\" stroke=\"none\" fill=\"black\"/>\n",
       "<circle cx=\"1888\" cy=\"1088\" r=\"12\" stroke=\"none\" fill=\"black\"/>\n",
       "<path d=\"M1952,1600 L1952,4480 \" stroke=\"black\"/>\n",
       "<circle cx=\"1952\" cy=\"4480\" r=\"12\" stroke=\"none\" fill=\"black\"/>\n",
       "<circle cx=\"1952\" cy=\"1600\" r=\"12\" stroke=\"none\" fill=\"black\"/>\n",
       "<path d=\"M1732,40 L1732,32 L1980,32 L1980,40 \" stroke=\"black\" fill=\"none\"/>\n",
       "<path d=\"M1732,6328 L1732,6336 L1980,6336 L1980,6328 \" stroke=\"black\" fill=\"none\"/>\n",
       "<rect x=\"2000\" y=\"3952\" width=\"32\" height=\"32\" stroke=\"black\" fill=\"white\"/>\n",
       "<text dominant-baseline=\"central\" text-anchor=\"middle\" font-family=\"monospace\" font-size=\"30\" x=\"2016\" y=\"3968\">H</text>\n",
       "<rect x=\"2000\" y=\"4400\" width=\"32\" height=\"32\" stroke=\"black\" fill=\"white\"/>\n",
       "<text dominant-baseline=\"central\" text-anchor=\"middle\" font-family=\"monospace\" font-size=\"30\" x=\"2016\" y=\"4416\">H</text>\n",
       "<rect x=\"2000\" y=\"3824\" width=\"32\" height=\"32\" stroke=\"black\" fill=\"white\"/>\n",
       "<text dominant-baseline=\"central\" text-anchor=\"middle\" font-family=\"monospace\" font-size=\"30\" x=\"2016\" y=\"3840\">H</text>\n",
       "<rect x=\"2000\" y=\"4528\" width=\"32\" height=\"32\" stroke=\"black\" fill=\"white\"/>\n",
       "<text dominant-baseline=\"central\" text-anchor=\"middle\" font-family=\"monospace\" font-size=\"30\" x=\"2016\" y=\"4544\">H</text>\n",
       "<rect x=\"2000\" y=\"3888\" width=\"32\" height=\"32\" stroke=\"black\" fill=\"white\"/>\n",
       "<text dominant-baseline=\"central\" text-anchor=\"middle\" font-family=\"monospace\" font-size=\"30\" x=\"2016\" y=\"3904\">H</text>\n",
       "<rect x=\"2000\" y=\"4464\" width=\"32\" height=\"32\" stroke=\"black\" fill=\"white\"/>\n",
       "<text dominant-baseline=\"central\" text-anchor=\"middle\" font-family=\"monospace\" font-size=\"30\" x=\"2016\" y=\"4480\">H</text>\n",
       "<rect x=\"2000\" y=\"4912\" width=\"32\" height=\"32\" stroke=\"black\" fill=\"white\"/>\n",
       "<text dominant-baseline=\"central\" text-anchor=\"middle\" font-family=\"monospace\" font-size=\"30\" x=\"2016\" y=\"4928\">H</text>\n",
       "<rect x=\"2000\" y=\"3440\" width=\"32\" height=\"32\" stroke=\"black\" fill=\"white\"/>\n",
       "<text dominant-baseline=\"central\" text-anchor=\"middle\" font-family=\"monospace\" font-size=\"30\" x=\"2016\" y=\"3456\">H</text>\n",
       "<rect x=\"2064\" y=\"3952\" width=\"32\" height=\"32\" stroke=\"black\" fill=\"black\"/>\n",
       "<text dominant-baseline=\"central\" text-anchor=\"middle\" font-family=\"monospace\" font-size=\"24\" x=\"2080\" y=\"3968\" fill=\"white\">MR</text>\n",
       "<text text-anchor=\"middle\" font-family=\"monospace\" font-size=\"8\" x=\"2080\" y=\"3948\">rec[0]</text>\n",
       "<rect x=\"2064\" y=\"4400\" width=\"32\" height=\"32\" stroke=\"black\" fill=\"black\"/>\n",
       "<text dominant-baseline=\"central\" text-anchor=\"middle\" font-family=\"monospace\" font-size=\"24\" x=\"2080\" y=\"4416\" fill=\"white\">MR</text>\n",
       "<text text-anchor=\"middle\" font-family=\"monospace\" font-size=\"8\" x=\"2080\" y=\"4396\">rec[1]</text>\n",
       "<rect x=\"2064\" y=\"3824\" width=\"32\" height=\"32\" stroke=\"black\" fill=\"black\"/>\n",
       "<text dominant-baseline=\"central\" text-anchor=\"middle\" font-family=\"monospace\" font-size=\"24\" x=\"2080\" y=\"3840\" fill=\"white\">MR</text>\n",
       "<text text-anchor=\"middle\" font-family=\"monospace\" font-size=\"8\" x=\"2080\" y=\"3820\">rec[2]</text>\n",
       "<rect x=\"2064\" y=\"4528\" width=\"32\" height=\"32\" stroke=\"black\" fill=\"black\"/>\n",
       "<text dominant-baseline=\"central\" text-anchor=\"middle\" font-family=\"monospace\" font-size=\"24\" x=\"2080\" y=\"4544\" fill=\"white\">MR</text>\n",
       "<text text-anchor=\"middle\" font-family=\"monospace\" font-size=\"8\" x=\"2080\" y=\"4524\">rec[3]</text>\n",
       "<rect x=\"2064\" y=\"3888\" width=\"32\" height=\"32\" stroke=\"black\" fill=\"black\"/>\n",
       "<text dominant-baseline=\"central\" text-anchor=\"middle\" font-family=\"monospace\" font-size=\"24\" x=\"2080\" y=\"3904\" fill=\"white\">MR</text>\n",
       "<text text-anchor=\"middle\" font-family=\"monospace\" font-size=\"8\" x=\"2080\" y=\"3884\">rec[4]</text>\n",
       "<rect x=\"2064\" y=\"4464\" width=\"32\" height=\"32\" stroke=\"black\" fill=\"black\"/>\n",
       "<text dominant-baseline=\"central\" text-anchor=\"middle\" font-family=\"monospace\" font-size=\"24\" x=\"2080\" y=\"4480\" fill=\"white\">MR</text>\n",
       "<text text-anchor=\"middle\" font-family=\"monospace\" font-size=\"8\" x=\"2080\" y=\"4460\">rec[5]</text>\n",
       "<rect x=\"2064\" y=\"4912\" width=\"32\" height=\"32\" stroke=\"black\" fill=\"black\"/>\n",
       "<text dominant-baseline=\"central\" text-anchor=\"middle\" font-family=\"monospace\" font-size=\"24\" x=\"2080\" y=\"4928\" fill=\"white\">MR</text>\n",
       "<text text-anchor=\"middle\" font-family=\"monospace\" font-size=\"8\" x=\"2080\" y=\"4908\">rec[6]</text>\n",
       "<rect x=\"2064\" y=\"3440\" width=\"32\" height=\"32\" stroke=\"black\" fill=\"black\"/>\n",
       "<text dominant-baseline=\"central\" text-anchor=\"middle\" font-family=\"monospace\" font-size=\"24\" x=\"2080\" y=\"3456\" fill=\"white\">MR</text>\n",
       "<text text-anchor=\"middle\" font-family=\"monospace\" font-size=\"8\" x=\"2080\" y=\"3436\">rec[7]</text>\n",
       "<rect x=\"2128\" y=\"752\" width=\"32\" height=\"32\" stroke=\"black\" fill=\"black\"/>\n",
       "<text dominant-baseline=\"central\" text-anchor=\"middle\" font-family=\"monospace\" font-size=\"26\" x=\"2144\" y=\"768\" fill=\"white\">R<tspan baseline-shift=\"sub\" font-size=\"16\">X</tspan></text>\n",
       "<rect x=\"2128\" y=\"1200\" width=\"32\" height=\"32\" stroke=\"black\" fill=\"black\"/>\n",
       "<text dominant-baseline=\"central\" text-anchor=\"middle\" font-family=\"monospace\" font-size=\"26\" x=\"2144\" y=\"1216\" fill=\"white\">R<tspan baseline-shift=\"sub\" font-size=\"16\">X</tspan></text>\n",
       "<rect x=\"2128\" y=\"1648\" width=\"32\" height=\"32\" stroke=\"black\" fill=\"black\"/>\n",
       "<text dominant-baseline=\"central\" text-anchor=\"middle\" font-family=\"monospace\" font-size=\"26\" x=\"2144\" y=\"1664\" fill=\"white\">R<tspan baseline-shift=\"sub\" font-size=\"16\">X</tspan></text>\n",
       "<rect x=\"2128\" y=\"816\" width=\"32\" height=\"32\" stroke=\"black\" fill=\"black\"/>\n",
       "<text dominant-baseline=\"central\" text-anchor=\"middle\" font-family=\"monospace\" font-size=\"26\" x=\"2144\" y=\"832\" fill=\"white\">R<tspan baseline-shift=\"sub\" font-size=\"16\">X</tspan></text>\n",
       "<rect x=\"2128\" y=\"1264\" width=\"32\" height=\"32\" stroke=\"black\" fill=\"black\"/>\n",
       "<text dominant-baseline=\"central\" text-anchor=\"middle\" font-family=\"monospace\" font-size=\"26\" x=\"2144\" y=\"1280\" fill=\"white\">R<tspan baseline-shift=\"sub\" font-size=\"16\">X</tspan></text>\n",
       "<rect x=\"2128\" y=\"1712\" width=\"32\" height=\"32\" stroke=\"black\" fill=\"black\"/>\n",
       "<text dominant-baseline=\"central\" text-anchor=\"middle\" font-family=\"monospace\" font-size=\"26\" x=\"2144\" y=\"1728\" fill=\"white\">R<tspan baseline-shift=\"sub\" font-size=\"16\">X</tspan></text>\n",
       "<rect x=\"2128\" y=\"4016\" width=\"32\" height=\"32\" stroke=\"black\" fill=\"black\"/>\n",
       "<text dominant-baseline=\"central\" text-anchor=\"middle\" font-family=\"monospace\" font-size=\"30\" x=\"2144\" y=\"4032\" fill=\"white\">R</text>\n",
       "<rect x=\"2128\" y=\"4592\" width=\"32\" height=\"32\" stroke=\"black\" fill=\"black\"/>\n",
       "<text dominant-baseline=\"central\" text-anchor=\"middle\" font-family=\"monospace\" font-size=\"30\" x=\"2144\" y=\"4608\" fill=\"white\">R</text>\n",
       "<rect x=\"2128\" y=\"5040\" width=\"32\" height=\"32\" stroke=\"black\" fill=\"black\"/>\n",
       "<text dominant-baseline=\"central\" text-anchor=\"middle\" font-family=\"monospace\" font-size=\"30\" x=\"2144\" y=\"5056\" fill=\"white\">R</text>\n",
       "<rect x=\"2128\" y=\"3568\" width=\"32\" height=\"32\" stroke=\"black\" fill=\"black\"/>\n",
       "<text dominant-baseline=\"central\" text-anchor=\"middle\" font-family=\"monospace\" font-size=\"30\" x=\"2144\" y=\"3584\" fill=\"white\">R</text>\n",
       "<rect x=\"2128\" y=\"3952\" width=\"32\" height=\"32\" stroke=\"black\" fill=\"white\"/>\n",
       "<text dominant-baseline=\"central\" text-anchor=\"middle\" font-family=\"monospace\" font-size=\"30\" x=\"2144\" y=\"3968\">H</text>\n",
       "<rect x=\"2128\" y=\"4400\" width=\"32\" height=\"32\" stroke=\"black\" fill=\"white\"/>\n",
       "<text dominant-baseline=\"central\" text-anchor=\"middle\" font-family=\"monospace\" font-size=\"30\" x=\"2144\" y=\"4416\">H</text>\n",
       "<rect x=\"2128\" y=\"3824\" width=\"32\" height=\"32\" stroke=\"black\" fill=\"white\"/>\n",
       "<text dominant-baseline=\"central\" text-anchor=\"middle\" font-family=\"monospace\" font-size=\"30\" x=\"2144\" y=\"3840\">H</text>\n",
       "<rect x=\"2128\" y=\"4528\" width=\"32\" height=\"32\" stroke=\"black\" fill=\"white\"/>\n",
       "<text dominant-baseline=\"central\" text-anchor=\"middle\" font-family=\"monospace\" font-size=\"30\" x=\"2144\" y=\"4544\">H</text>\n",
       "<rect x=\"2128\" y=\"3888\" width=\"32\" height=\"32\" stroke=\"black\" fill=\"white\"/>\n",
       "<text dominant-baseline=\"central\" text-anchor=\"middle\" font-family=\"monospace\" font-size=\"30\" x=\"2144\" y=\"3904\">H</text>\n",
       "<rect x=\"2128\" y=\"4464\" width=\"32\" height=\"32\" stroke=\"black\" fill=\"white\"/>\n",
       "<text dominant-baseline=\"central\" text-anchor=\"middle\" font-family=\"monospace\" font-size=\"30\" x=\"2144\" y=\"4480\">H</text>\n",
       "<rect x=\"2128\" y=\"4912\" width=\"32\" height=\"32\" stroke=\"black\" fill=\"white\"/>\n",
       "<text dominant-baseline=\"central\" text-anchor=\"middle\" font-family=\"monospace\" font-size=\"30\" x=\"2144\" y=\"4928\">H</text>\n",
       "<rect x=\"2128\" y=\"3440\" width=\"32\" height=\"32\" stroke=\"black\" fill=\"white\"/>\n",
       "<text dominant-baseline=\"central\" text-anchor=\"middle\" font-family=\"monospace\" font-size=\"30\" x=\"2144\" y=\"3456\">H</text>\n",
       "<rect x=\"2128\" y=\"4080\" width=\"32\" height=\"32\" stroke=\"black\" fill=\"white\"/>\n",
       "<text dominant-baseline=\"central\" text-anchor=\"middle\" font-family=\"monospace\" font-size=\"30\" x=\"2144\" y=\"4096\">H</text>\n",
       "<rect x=\"2128\" y=\"4656\" width=\"32\" height=\"32\" stroke=\"black\" fill=\"white\"/>\n",
       "<text dominant-baseline=\"central\" text-anchor=\"middle\" font-family=\"monospace\" font-size=\"30\" x=\"2144\" y=\"4672\">H</text>\n",
       "<rect x=\"2192\" y=\"4016\" width=\"32\" height=\"32\" stroke=\"black\" fill=\"white\"/>\n",
       "<text dominant-baseline=\"central\" text-anchor=\"middle\" font-family=\"monospace\" font-size=\"30\" x=\"2208\" y=\"4032\">H</text>\n",
       "<rect x=\"2192\" y=\"4592\" width=\"32\" height=\"32\" stroke=\"black\" fill=\"white\"/>\n",
       "<text dominant-baseline=\"central\" text-anchor=\"middle\" font-family=\"monospace\" font-size=\"30\" x=\"2208\" y=\"4608\">H</text>\n",
       "<rect x=\"2192\" y=\"5040\" width=\"32\" height=\"32\" stroke=\"black\" fill=\"white\"/>\n",
       "<text dominant-baseline=\"central\" text-anchor=\"middle\" font-family=\"monospace\" font-size=\"30\" x=\"2208\" y=\"5056\">H</text>\n",
       "<rect x=\"2192\" y=\"3568\" width=\"32\" height=\"32\" stroke=\"black\" fill=\"white\"/>\n",
       "<text dominant-baseline=\"central\" text-anchor=\"middle\" font-family=\"monospace\" font-size=\"30\" x=\"2208\" y=\"3584\">H</text>\n",
       "<path d=\"M2116,40 L2116,32 L2236,32 L2236,40 \" stroke=\"black\" fill=\"none\"/>\n",
       "<path d=\"M2116,6328 L2116,6336 L2236,6336 L2236,6328 \" stroke=\"black\" fill=\"none\"/>\n",
       "<path d=\"M2272,640 L2272,3968 \" stroke=\"black\"/>\n",
       "<circle cx=\"2272\" cy=\"3968\" r=\"12\" stroke=\"none\" fill=\"black\"/>\n",
       "<circle cx=\"2272\" cy=\"640\" r=\"12\" stroke=\"black\" fill=\"white\"/>\n",
       "<path d=\"M2260,640 L2284,640 M2272,628 L2272,652 \" stroke=\"black\"/>\n",
       "<path d=\"M2336,1024 L2336,4416 \" stroke=\"black\"/>\n",
       "<circle cx=\"2336\" cy=\"4416\" r=\"12\" stroke=\"none\" fill=\"black\"/>\n",
       "<circle cx=\"2336\" cy=\"1024\" r=\"12\" stroke=\"black\" fill=\"white\"/>\n",
       "<path d=\"M2324,1024 L2348,1024 M2336,1012 L2336,1036 \" stroke=\"black\"/>\n",
       "<path d=\"M2400,576 L2400,3840 \" stroke=\"black\"/>\n",
       "<circle cx=\"2400\" cy=\"3840\" r=\"12\" stroke=\"none\" fill=\"black\"/>\n",
       "<circle cx=\"2400\" cy=\"576\" r=\"12\" stroke=\"black\" fill=\"white\"/>\n",
       "<path d=\"M2388,576 L2412,576 M2400,564 L2400,588 \" stroke=\"black\"/>\n",
       "<path d=\"M2464,1152 L2464,4544 \" stroke=\"black\"/>\n",
       "<circle cx=\"2464\" cy=\"4544\" r=\"12\" stroke=\"none\" fill=\"black\"/>\n",
       "<circle cx=\"2464\" cy=\"1152\" r=\"12\" stroke=\"black\" fill=\"white\"/>\n",
       "<path d=\"M2452,1152 L2476,1152 M2464,1140 L2464,1164 \" stroke=\"black\"/>\n",
       "<path d=\"M2528,576 L2528,3904 \" stroke=\"black\"/>\n",
       "<circle cx=\"2528\" cy=\"3904\" r=\"12\" stroke=\"none\" fill=\"black\"/>\n",
       "<circle cx=\"2528\" cy=\"576\" r=\"12\" stroke=\"none\" fill=\"black\"/>\n",
       "<path d=\"M2592,1088 L2592,4480 \" stroke=\"black\"/>\n",
       "<circle cx=\"2592\" cy=\"4480\" r=\"12\" stroke=\"none\" fill=\"black\"/>\n",
       "<circle cx=\"2592\" cy=\"1088\" r=\"12\" stroke=\"none\" fill=\"black\"/>\n",
       "<path d=\"M2656,1472 L2656,4928 \" stroke=\"black\"/>\n",
       "<circle cx=\"2656\" cy=\"4928\" r=\"12\" stroke=\"none\" fill=\"black\"/>\n",
       "<circle cx=\"2656\" cy=\"1472\" r=\"12\" stroke=\"none\" fill=\"black\"/>\n",
       "<path d=\"M2720,640 L2720,3456 \" stroke=\"black\"/>\n",
       "<circle cx=\"2720\" cy=\"3456\" r=\"12\" stroke=\"none\" fill=\"black\"/>\n",
       "<circle cx=\"2720\" cy=\"640\" r=\"12\" stroke=\"none\" fill=\"black\"/>\n",
       "<path d=\"M2784,768 L2784,4096 \" stroke=\"black\"/>\n",
       "<circle cx=\"2784\" cy=\"4096\" r=\"12\" stroke=\"none\" fill=\"black\"/>\n",
       "<circle cx=\"2784\" cy=\"768\" r=\"12\" stroke=\"black\" fill=\"white\"/>\n",
       "<path d=\"M2772,768 L2796,768 M2784,756 L2784,780 \" stroke=\"black\"/>\n",
       "<path d=\"M2848,1280 L2848,4672 \" stroke=\"black\"/>\n",
       "<circle cx=\"2848\" cy=\"4672\" r=\"12\" stroke=\"none\" fill=\"black\"/>\n",
       "<circle cx=\"2848\" cy=\"1280\" r=\"12\" stroke=\"black\" fill=\"white\"/>\n",
       "<path d=\"M2836,1280 L2860,1280 M2848,1268 L2848,1292 \" stroke=\"black\"/>\n",
       "<path d=\"M2912,704 L2912,4032 \" stroke=\"black\"/>\n",
       "<circle cx=\"2912\" cy=\"4032\" r=\"12\" stroke=\"none\" fill=\"black\"/>\n",
       "<circle cx=\"2912\" cy=\"704\" r=\"12\" stroke=\"none\" fill=\"black\"/>\n",
       "<path d=\"M2976,1216 L2976,4608 \" stroke=\"black\"/>\n",
       "<circle cx=\"2976\" cy=\"4608\" r=\"12\" stroke=\"none\" fill=\"black\"/>\n",
       "<circle cx=\"2976\" cy=\"1216\" r=\"12\" stroke=\"none\" fill=\"black\"/>\n",
       "<path d=\"M3040,1600 L3040,5056 \" stroke=\"black\"/>\n",
       "<circle cx=\"3040\" cy=\"5056\" r=\"12\" stroke=\"none\" fill=\"black\"/>\n",
       "<circle cx=\"3040\" cy=\"1600\" r=\"12\" stroke=\"none\" fill=\"black\"/>\n",
       "<path d=\"M3104,768 L3104,3584 \" stroke=\"black\"/>\n",
       "<circle cx=\"3104\" cy=\"3584\" r=\"12\" stroke=\"none\" fill=\"black\"/>\n",
       "<circle cx=\"3104\" cy=\"768\" r=\"12\" stroke=\"none\" fill=\"black\"/>\n",
       "<path d=\"M2244,40 L2244,32 L3132,32 L3132,40 \" stroke=\"black\" fill=\"none\"/>\n",
       "<path d=\"M2244,6328 L2244,6336 L3132,6336 L3132,6328 \" stroke=\"black\" fill=\"none\"/>\n",
       "<path d=\"M3168,704 L3168,3968 \" stroke=\"black\"/>\n",
       "<circle cx=\"3168\" cy=\"3968\" r=\"12\" stroke=\"none\" fill=\"black\"/>\n",
       "<circle cx=\"3168\" cy=\"704\" r=\"12\" stroke=\"black\" fill=\"white\"/>\n",
       "<path d=\"M3156,704 L3180,704 M3168,692 L3168,716 \" stroke=\"black\"/>\n",
       "<path d=\"M3232,1088 L3232,4416 \" stroke=\"black\"/>\n",
       "<circle cx=\"3232\" cy=\"4416\" r=\"12\" stroke=\"none\" fill=\"black\"/>\n",
       "<circle cx=\"3232\" cy=\"1088\" r=\"12\" stroke=\"black\" fill=\"white\"/>\n",
       "<path d=\"M3220,1088 L3244,1088 M3232,1076 L3232,1100 \" stroke=\"black\"/>\n",
       "<path d=\"M3296,1024 L3296,3840 \" stroke=\"black\"/>\n",
       "<circle cx=\"3296\" cy=\"3840\" r=\"12\" stroke=\"none\" fill=\"black\"/>\n",
       "<circle cx=\"3296\" cy=\"1024\" r=\"12\" stroke=\"black\" fill=\"white\"/>\n",
       "<path d=\"M3284,1024 L3308,1024 M3296,1012 L3296,1036 \" stroke=\"black\"/>\n",
       "<path d=\"M3360,1600 L3360,4544 \" stroke=\"black\"/>\n",
       "<circle cx=\"3360\" cy=\"4544\" r=\"12\" stroke=\"none\" fill=\"black\"/>\n",
       "<circle cx=\"3360\" cy=\"1600\" r=\"12\" stroke=\"black\" fill=\"white\"/>\n",
       "<path d=\"M3348,1600 L3372,1600 M3360,1588 L3360,1612 \" stroke=\"black\"/>\n",
       "<path d=\"M3424,640 L3424,3904 \" stroke=\"black\"/>\n",
       "<circle cx=\"3424\" cy=\"3904\" r=\"12\" stroke=\"none\" fill=\"black\"/>\n",
       "<circle cx=\"3424\" cy=\"640\" r=\"12\" stroke=\"none\" fill=\"black\"/>\n",
       "<path d=\"M3488,1152 L3488,4480 \" stroke=\"black\"/>\n",
       "<circle cx=\"3488\" cy=\"4480\" r=\"12\" stroke=\"none\" fill=\"black\"/>\n",
       "<circle cx=\"3488\" cy=\"1152\" r=\"12\" stroke=\"none\" fill=\"black\"/>\n",
       "<path d=\"M3552,1536 L3552,4928 \" stroke=\"black\"/>\n",
       "<circle cx=\"3552\" cy=\"4928\" r=\"12\" stroke=\"none\" fill=\"black\"/>\n",
       "<circle cx=\"3552\" cy=\"1536\" r=\"12\" stroke=\"none\" fill=\"black\"/>\n",
       "<path d=\"M3616,704 L3616,3456 \" stroke=\"black\"/>\n",
       "<circle cx=\"3616\" cy=\"3456\" r=\"12\" stroke=\"none\" fill=\"black\"/>\n",
       "<circle cx=\"3616\" cy=\"704\" r=\"12\" stroke=\"none\" fill=\"black\"/>\n",
       "<path d=\"M3680,832 L3680,4096 \" stroke=\"black\"/>\n",
       "<circle cx=\"3680\" cy=\"4096\" r=\"12\" stroke=\"none\" fill=\"black\"/>\n",
       "<circle cx=\"3680\" cy=\"832\" r=\"12\" stroke=\"black\" fill=\"white\"/>\n",
       "<path d=\"M3668,832 L3692,832 M3680,820 L3680,844 \" stroke=\"black\"/>\n",
       "<path d=\"M3744,1728 L3744,4672 \" stroke=\"black\"/>\n",
       "<circle cx=\"3744\" cy=\"4672\" r=\"12\" stroke=\"none\" fill=\"black\"/>\n",
       "<circle cx=\"3744\" cy=\"1728\" r=\"12\" stroke=\"black\" fill=\"white\"/>\n",
       "<path d=\"M3732,1728 L3756,1728 M3744,1716 L3744,1740 \" stroke=\"black\"/>\n",
       "<path d=\"M3808,768 L3808,4032 \" stroke=\"black\"/>\n",
       "<circle cx=\"3808\" cy=\"4032\" r=\"12\" stroke=\"none\" fill=\"black\"/>\n",
       "<circle cx=\"3808\" cy=\"768\" r=\"12\" stroke=\"none\" fill=\"black\"/>\n",
       "<path d=\"M3872,1280 L3872,4608 \" stroke=\"black\"/>\n",
       "<circle cx=\"3872\" cy=\"4608\" r=\"12\" stroke=\"none\" fill=\"black\"/>\n",
       "<circle cx=\"3872\" cy=\"1280\" r=\"12\" stroke=\"none\" fill=\"black\"/>\n",
       "<path d=\"M3936,1664 L3936,5056 \" stroke=\"black\"/>\n",
       "<circle cx=\"3936\" cy=\"5056\" r=\"12\" stroke=\"none\" fill=\"black\"/>\n",
       "<circle cx=\"3936\" cy=\"1664\" r=\"12\" stroke=\"none\" fill=\"black\"/>\n",
       "<path d=\"M4000,832 L4000,3584 \" stroke=\"black\"/>\n",
       "<circle cx=\"4000\" cy=\"3584\" r=\"12\" stroke=\"none\" fill=\"black\"/>\n",
       "<circle cx=\"4000\" cy=\"832\" r=\"12\" stroke=\"none\" fill=\"black\"/>\n",
       "<path d=\"M3140,40 L3140,32 L4028,32 L4028,40 \" stroke=\"black\" fill=\"none\"/>\n",
       "<path d=\"M3140,6328 L3140,6336 L4028,6336 L4028,6328 \" stroke=\"black\" fill=\"none\"/>\n",
       "<path d=\"M4064,1088 L4064,3968 \" stroke=\"black\"/>\n",
       "<circle cx=\"4064\" cy=\"3968\" r=\"12\" stroke=\"none\" fill=\"black\"/>\n",
       "<circle cx=\"4064\" cy=\"1088\" r=\"12\" stroke=\"black\" fill=\"white\"/>\n",
       "<path d=\"M4052,1088 L4076,1088 M4064,1076 L4064,1100 \" stroke=\"black\"/>\n",
       "<path d=\"M4128,1472 L4128,4416 \" stroke=\"black\"/>\n",
       "<circle cx=\"4128\" cy=\"4416\" r=\"12\" stroke=\"none\" fill=\"black\"/>\n",
       "<circle cx=\"4128\" cy=\"1472\" r=\"12\" stroke=\"black\" fill=\"white\"/>\n",
       "<path d=\"M4116,1472 L4140,1472 M4128,1460 L4128,1484 \" stroke=\"black\"/>\n",
       "<path d=\"M4192,1216 L4192,4544 \" stroke=\"black\"/>\n",
       "<circle cx=\"4192\" cy=\"4544\" r=\"12\" stroke=\"none\" fill=\"black\"/>\n",
       "<circle cx=\"4192\" cy=\"1216\" r=\"12\" stroke=\"black\" fill=\"white\"/>\n",
       "<path d=\"M4180,1216 L4204,1216 M4192,1204 L4192,1228 \" stroke=\"black\"/>\n",
       "<path d=\"M4256,1024 L4256,3904 \" stroke=\"black\"/>\n",
       "<circle cx=\"4256\" cy=\"3904\" r=\"12\" stroke=\"none\" fill=\"black\"/>\n",
       "<circle cx=\"4256\" cy=\"1024\" r=\"12\" stroke=\"none\" fill=\"black\"/>\n",
       "<path d=\"M4320,1536 L4320,4480 \" stroke=\"black\"/>\n",
       "<circle cx=\"4320\" cy=\"4480\" r=\"12\" stroke=\"none\" fill=\"black\"/>\n",
       "<circle cx=\"4320\" cy=\"1536\" r=\"12\" stroke=\"none\" fill=\"black\"/>\n",
       "<path d=\"M4384,1216 L4384,4096 \" stroke=\"black\"/>\n",
       "<circle cx=\"4384\" cy=\"4096\" r=\"12\" stroke=\"none\" fill=\"black\"/>\n",
       "<circle cx=\"4384\" cy=\"1216\" r=\"12\" stroke=\"black\" fill=\"white\"/>\n",
       "<path d=\"M4372,1216 L4396,1216 M4384,1204 L4384,1228 \" stroke=\"black\"/>\n",
       "<path d=\"M4448,1152 L4448,4032 \" stroke=\"black\"/>\n",
       "<circle cx=\"4448\" cy=\"4032\" r=\"12\" stroke=\"none\" fill=\"black\"/>\n",
       "<circle cx=\"4448\" cy=\"1152\" r=\"12\" stroke=\"none\" fill=\"black\"/>\n",
       "<path d=\"M4512,1664 L4512,4608 \" stroke=\"black\"/>\n",
       "<circle cx=\"4512\" cy=\"4608\" r=\"12\" stroke=\"none\" fill=\"black\"/>\n",
       "<circle cx=\"4512\" cy=\"1664\" r=\"12\" stroke=\"none\" fill=\"black\"/>\n",
       "<path d=\"M4036,40 L4036,32 L4540,32 L4540,40 \" stroke=\"black\" fill=\"none\"/>\n",
       "<path d=\"M4036,6328 L4036,6336 L4540,6336 L4540,6328 \" stroke=\"black\" fill=\"none\"/>\n",
       "<path d=\"M4576,1152 L4576,3968 \" stroke=\"black\"/>\n",
       "<circle cx=\"4576\" cy=\"3968\" r=\"12\" stroke=\"none\" fill=\"black\"/>\n",
       "<circle cx=\"4576\" cy=\"1152\" r=\"12\" stroke=\"black\" fill=\"white\"/>\n",
       "<path d=\"M4564,1152 L4588,1152 M4576,1140 L4576,1164 \" stroke=\"black\"/>\n",
       "<path d=\"M4640,1536 L4640,4416 \" stroke=\"black\"/>\n",
       "<circle cx=\"4640\" cy=\"4416\" r=\"12\" stroke=\"none\" fill=\"black\"/>\n",
       "<circle cx=\"4640\" cy=\"1536\" r=\"12\" stroke=\"black\" fill=\"white\"/>\n",
       "<path d=\"M4628,1536 L4652,1536 M4640,1524 L4640,1548 \" stroke=\"black\"/>\n",
       "<path d=\"M4704,1664 L4704,4544 \" stroke=\"black\"/>\n",
       "<circle cx=\"4704\" cy=\"4544\" r=\"12\" stroke=\"none\" fill=\"black\"/>\n",
       "<circle cx=\"4704\" cy=\"1664\" r=\"12\" stroke=\"black\" fill=\"white\"/>\n",
       "<path d=\"M4692,1664 L4716,1664 M4704,1652 L4704,1676 \" stroke=\"black\"/>\n",
       "<path d=\"M4768,1088 L4768,3904 \" stroke=\"black\"/>\n",
       "<circle cx=\"4768\" cy=\"3904\" r=\"12\" stroke=\"none\" fill=\"black\"/>\n",
       "<circle cx=\"4768\" cy=\"1088\" r=\"12\" stroke=\"none\" fill=\"black\"/>\n",
       "<path d=\"M4832,1600 L4832,4480 \" stroke=\"black\"/>\n",
       "<circle cx=\"4832\" cy=\"4480\" r=\"12\" stroke=\"none\" fill=\"black\"/>\n",
       "<circle cx=\"4832\" cy=\"1600\" r=\"12\" stroke=\"none\" fill=\"black\"/>\n",
       "<path d=\"M4896,1280 L4896,4096 \" stroke=\"black\"/>\n",
       "<circle cx=\"4896\" cy=\"4096\" r=\"12\" stroke=\"none\" fill=\"black\"/>\n",
       "<circle cx=\"4896\" cy=\"1280\" r=\"12\" stroke=\"black\" fill=\"white\"/>\n",
       "<path d=\"M4884,1280 L4908,1280 M4896,1268 L4896,1292 \" stroke=\"black\"/>\n",
       "<path d=\"M4960,1216 L4960,4032 \" stroke=\"black\"/>\n",
       "<circle cx=\"4960\" cy=\"4032\" r=\"12\" stroke=\"none\" fill=\"black\"/>\n",
       "<circle cx=\"4960\" cy=\"1216\" r=\"12\" stroke=\"none\" fill=\"black\"/>\n",
       "<path d=\"M5024,1728 L5024,4608 \" stroke=\"black\"/>\n",
       "<circle cx=\"5024\" cy=\"4608\" r=\"12\" stroke=\"none\" fill=\"black\"/>\n",
       "<circle cx=\"5024\" cy=\"1728\" r=\"12\" stroke=\"none\" fill=\"black\"/>\n",
       "<path d=\"M4548,40 L4548,32 L5052,32 L5052,40 \" stroke=\"black\" fill=\"none\"/>\n",
       "<path d=\"M4548,6328 L4548,6336 L5052,6336 L5052,6328 \" stroke=\"black\" fill=\"none\"/>\n",
       "<rect x=\"5072\" y=\"3952\" width=\"32\" height=\"32\" stroke=\"black\" fill=\"white\"/>\n",
       "<text dominant-baseline=\"central\" text-anchor=\"middle\" font-family=\"monospace\" font-size=\"30\" x=\"5088\" y=\"3968\">H</text>\n",
       "<rect x=\"5072\" y=\"4400\" width=\"32\" height=\"32\" stroke=\"black\" fill=\"white\"/>\n",
       "<text dominant-baseline=\"central\" text-anchor=\"middle\" font-family=\"monospace\" font-size=\"30\" x=\"5088\" y=\"4416\">H</text>\n",
       "<rect x=\"5072\" y=\"3824\" width=\"32\" height=\"32\" stroke=\"black\" fill=\"white\"/>\n",
       "<text dominant-baseline=\"central\" text-anchor=\"middle\" font-family=\"monospace\" font-size=\"30\" x=\"5088\" y=\"3840\">H</text>\n",
       "<rect x=\"5072\" y=\"4528\" width=\"32\" height=\"32\" stroke=\"black\" fill=\"white\"/>\n",
       "<text dominant-baseline=\"central\" text-anchor=\"middle\" font-family=\"monospace\" font-size=\"30\" x=\"5088\" y=\"4544\">H</text>\n",
       "<rect x=\"5072\" y=\"3888\" width=\"32\" height=\"32\" stroke=\"black\" fill=\"white\"/>\n",
       "<text dominant-baseline=\"central\" text-anchor=\"middle\" font-family=\"monospace\" font-size=\"30\" x=\"5088\" y=\"3904\">H</text>\n",
       "<rect x=\"5072\" y=\"4464\" width=\"32\" height=\"32\" stroke=\"black\" fill=\"white\"/>\n",
       "<text dominant-baseline=\"central\" text-anchor=\"middle\" font-family=\"monospace\" font-size=\"30\" x=\"5088\" y=\"4480\">H</text>\n",
       "<rect x=\"5072\" y=\"4912\" width=\"32\" height=\"32\" stroke=\"black\" fill=\"white\"/>\n",
       "<text dominant-baseline=\"central\" text-anchor=\"middle\" font-family=\"monospace\" font-size=\"30\" x=\"5088\" y=\"4928\">H</text>\n",
       "<rect x=\"5072\" y=\"3440\" width=\"32\" height=\"32\" stroke=\"black\" fill=\"white\"/>\n",
       "<text dominant-baseline=\"central\" text-anchor=\"middle\" font-family=\"monospace\" font-size=\"30\" x=\"5088\" y=\"3456\">H</text>\n",
       "<rect x=\"5072\" y=\"4080\" width=\"32\" height=\"32\" stroke=\"black\" fill=\"white\"/>\n",
       "<text dominant-baseline=\"central\" text-anchor=\"middle\" font-family=\"monospace\" font-size=\"30\" x=\"5088\" y=\"4096\">H</text>\n",
       "<rect x=\"5072\" y=\"4656\" width=\"32\" height=\"32\" stroke=\"black\" fill=\"white\"/>\n",
       "<text dominant-baseline=\"central\" text-anchor=\"middle\" font-family=\"monospace\" font-size=\"30\" x=\"5088\" y=\"4672\">H</text>\n",
       "<rect x=\"5072\" y=\"4016\" width=\"32\" height=\"32\" stroke=\"black\" fill=\"white\"/>\n",
       "<text dominant-baseline=\"central\" text-anchor=\"middle\" font-family=\"monospace\" font-size=\"30\" x=\"5088\" y=\"4032\">H</text>\n",
       "<rect x=\"5072\" y=\"4592\" width=\"32\" height=\"32\" stroke=\"black\" fill=\"white\"/>\n",
       "<text dominant-baseline=\"central\" text-anchor=\"middle\" font-family=\"monospace\" font-size=\"30\" x=\"5088\" y=\"4608\">H</text>\n",
       "<rect x=\"5072\" y=\"5040\" width=\"32\" height=\"32\" stroke=\"black\" fill=\"white\"/>\n",
       "<text dominant-baseline=\"central\" text-anchor=\"middle\" font-family=\"monospace\" font-size=\"30\" x=\"5088\" y=\"5056\">H</text>\n",
       "<rect x=\"5072\" y=\"3568\" width=\"32\" height=\"32\" stroke=\"black\" fill=\"white\"/>\n",
       "<text dominant-baseline=\"central\" text-anchor=\"middle\" font-family=\"monospace\" font-size=\"30\" x=\"5088\" y=\"3584\">H</text>\n",
       "<rect x=\"5136\" y=\"3952\" width=\"32\" height=\"32\" stroke=\"black\" fill=\"black\"/>\n",
       "<text dominant-baseline=\"central\" text-anchor=\"middle\" font-family=\"monospace\" font-size=\"24\" x=\"5152\" y=\"3968\" fill=\"white\">MR</text>\n",
       "<text text-anchor=\"middle\" font-family=\"monospace\" font-size=\"8\" x=\"5152\" y=\"3948\">rec[8]</text>\n",
       "<rect x=\"5136\" y=\"4400\" width=\"32\" height=\"32\" stroke=\"black\" fill=\"black\"/>\n",
       "<text dominant-baseline=\"central\" text-anchor=\"middle\" font-family=\"monospace\" font-size=\"24\" x=\"5152\" y=\"4416\" fill=\"white\">MR</text>\n",
       "<text text-anchor=\"middle\" font-family=\"monospace\" font-size=\"8\" x=\"5152\" y=\"4396\">rec[9]</text>\n",
       "<rect x=\"5136\" y=\"3824\" width=\"32\" height=\"32\" stroke=\"black\" fill=\"black\"/>\n",
       "<text dominant-baseline=\"central\" text-anchor=\"middle\" font-family=\"monospace\" font-size=\"24\" x=\"5152\" y=\"3840\" fill=\"white\">MR</text>\n",
       "<text text-anchor=\"middle\" font-family=\"monospace\" font-size=\"8\" x=\"5152\" y=\"3820\">rec[10]</text>\n",
       "<rect x=\"5136\" y=\"4528\" width=\"32\" height=\"32\" stroke=\"black\" fill=\"black\"/>\n",
       "<text dominant-baseline=\"central\" text-anchor=\"middle\" font-family=\"monospace\" font-size=\"24\" x=\"5152\" y=\"4544\" fill=\"white\">MR</text>\n",
       "<text text-anchor=\"middle\" font-family=\"monospace\" font-size=\"8\" x=\"5152\" y=\"4524\">rec[11]</text>\n",
       "<rect x=\"5136\" y=\"3888\" width=\"32\" height=\"32\" stroke=\"black\" fill=\"black\"/>\n",
       "<text dominant-baseline=\"central\" text-anchor=\"middle\" font-family=\"monospace\" font-size=\"24\" x=\"5152\" y=\"3904\" fill=\"white\">MR</text>\n",
       "<text text-anchor=\"middle\" font-family=\"monospace\" font-size=\"8\" x=\"5152\" y=\"3884\">rec[12]</text>\n",
       "<rect x=\"5136\" y=\"4464\" width=\"32\" height=\"32\" stroke=\"black\" fill=\"black\"/>\n",
       "<text dominant-baseline=\"central\" text-anchor=\"middle\" font-family=\"monospace\" font-size=\"24\" x=\"5152\" y=\"4480\" fill=\"white\">MR</text>\n",
       "<text text-anchor=\"middle\" font-family=\"monospace\" font-size=\"8\" x=\"5152\" y=\"4460\">rec[13]</text>\n",
       "<rect x=\"5136\" y=\"4912\" width=\"32\" height=\"32\" stroke=\"black\" fill=\"black\"/>\n",
       "<text dominant-baseline=\"central\" text-anchor=\"middle\" font-family=\"monospace\" font-size=\"24\" x=\"5152\" y=\"4928\" fill=\"white\">MR</text>\n",
       "<text text-anchor=\"middle\" font-family=\"monospace\" font-size=\"8\" x=\"5152\" y=\"4908\">rec[14]</text>\n",
       "<rect x=\"5136\" y=\"3440\" width=\"32\" height=\"32\" stroke=\"black\" fill=\"black\"/>\n",
       "<text dominant-baseline=\"central\" text-anchor=\"middle\" font-family=\"monospace\" font-size=\"24\" x=\"5152\" y=\"3456\" fill=\"white\">MR</text>\n",
       "<text text-anchor=\"middle\" font-family=\"monospace\" font-size=\"8\" x=\"5152\" y=\"3436\">rec[15]</text>\n",
       "<rect x=\"5136\" y=\"4080\" width=\"32\" height=\"32\" stroke=\"black\" fill=\"black\"/>\n",
       "<text dominant-baseline=\"central\" text-anchor=\"middle\" font-family=\"monospace\" font-size=\"24\" x=\"5152\" y=\"4096\" fill=\"white\">MR</text>\n",
       "<text text-anchor=\"middle\" font-family=\"monospace\" font-size=\"8\" x=\"5152\" y=\"4076\">rec[16]</text>\n",
       "<rect x=\"5136\" y=\"4656\" width=\"32\" height=\"32\" stroke=\"black\" fill=\"black\"/>\n",
       "<text dominant-baseline=\"central\" text-anchor=\"middle\" font-family=\"monospace\" font-size=\"24\" x=\"5152\" y=\"4672\" fill=\"white\">MR</text>\n",
       "<text text-anchor=\"middle\" font-family=\"monospace\" font-size=\"8\" x=\"5152\" y=\"4652\">rec[17]</text>\n",
       "<rect x=\"5136\" y=\"4016\" width=\"32\" height=\"32\" stroke=\"black\" fill=\"black\"/>\n",
       "<text dominant-baseline=\"central\" text-anchor=\"middle\" font-family=\"monospace\" font-size=\"24\" x=\"5152\" y=\"4032\" fill=\"white\">MR</text>\n",
       "<text text-anchor=\"middle\" font-family=\"monospace\" font-size=\"8\" x=\"5152\" y=\"4012\">rec[18]</text>\n",
       "<rect x=\"5136\" y=\"4592\" width=\"32\" height=\"32\" stroke=\"black\" fill=\"black\"/>\n",
       "<text dominant-baseline=\"central\" text-anchor=\"middle\" font-family=\"monospace\" font-size=\"24\" x=\"5152\" y=\"4608\" fill=\"white\">MR</text>\n",
       "<text text-anchor=\"middle\" font-family=\"monospace\" font-size=\"8\" x=\"5152\" y=\"4588\">rec[19]</text>\n",
       "<rect x=\"5136\" y=\"5040\" width=\"32\" height=\"32\" stroke=\"black\" fill=\"black\"/>\n",
       "<text dominant-baseline=\"central\" text-anchor=\"middle\" font-family=\"monospace\" font-size=\"24\" x=\"5152\" y=\"5056\" fill=\"white\">MR</text>\n",
       "<text text-anchor=\"middle\" font-family=\"monospace\" font-size=\"8\" x=\"5152\" y=\"5036\">rec[20]</text>\n",
       "<rect x=\"5136\" y=\"3568\" width=\"32\" height=\"32\" stroke=\"black\" fill=\"black\"/>\n",
       "<text dominant-baseline=\"central\" text-anchor=\"middle\" font-family=\"monospace\" font-size=\"24\" x=\"5152\" y=\"3584\" fill=\"white\">MR</text>\n",
       "<text text-anchor=\"middle\" font-family=\"monospace\" font-size=\"8\" x=\"5152\" y=\"3564\">rec[21]</text>\n",
       "</svg>"
      ]
     },
     "execution_count": 8,
     "metadata": {},
     "output_type": "execute_result"
    }
   ],
   "source": [
    "stim.Circuit(circ.convert_to_stim()).diagram(type=\"timeline-svg\")"
   ]
  },
  {
   "cell_type": "markdown",
   "metadata": {},
   "source": [
    "# Noise model"
   ]
  },
  {
   "cell_type": "code",
   "execution_count": 9,
   "metadata": {},
   "outputs": [],
   "source": [
    "# Define a noise model\n",
    "p = 0.001\n",
    "noise_model = PauliNoiseModel(p=p, p_2q=p, p_reset=p, p_mmt=p)\n",
    "\n",
    "num_shots = 1000"
   ]
  },
  {
   "cell_type": "markdown",
   "metadata": {},
   "source": [
    "# Measure the right operator"
   ]
  },
  {
   "cell_type": "code",
   "execution_count": 10,
   "metadata": {},
   "outputs": [
    {
     "name": "stdout",
     "output_type": "stream",
     "text": [
      "<Z> = 0.013 +/- 0.0\n"
     ]
    }
   ],
   "source": [
    "circ_measure_right_Z = copy.deepcopy(circ)\n",
    "m_uuid = circ_measure_right_Z.measure_physical_qbs([(1,1,0), (1,2,0), (1,3,0)])\n",
    "\n",
    "res = (\n",
    "    stim.Circuit(circ_measure_right_Z.convert_to_stim(noise_model=noise_model))\n",
    "    .compile_sampler()\n",
    "    .sample(num_shots)\n",
    ")\n",
    "result_bits = []\n",
    "for r in res:\n",
    "    mmts = circ_measure_right_Z.dict_m_uuids_to_res(r)\n",
    "    result_bits.append(np.sum(np.array(mmts[m_uuid], dtype=int)) % 2)\n",
    "\n",
    "exp_val = np.average(result_bits), np.std(result_bits) / np.sqrt(num_shots)\n",
    "print(f\"<Z> = {exp_val[0]} +/- {np.round(exp_val[1], 2)}\")"
   ]
  },
  {
   "cell_type": "markdown",
   "metadata": {},
   "source": [
    "# Measure the wrong operator\n",
    "Measuring the last column which exists only after the grow results in a random outcome:"
   ]
  },
  {
   "cell_type": "code",
   "execution_count": 11,
   "metadata": {},
   "outputs": [
    {
     "name": "stdout",
     "output_type": "stream",
     "text": [
      "<Z> = 0.486 +/- 0.02\n"
     ]
    }
   ],
   "source": [
    "circ_measure_wrong_Z = copy.deepcopy(circ)\n",
    "m_uuid = circ_measure_wrong_Z.measure_physical_qbs([(5,1,0), (5,2,0), (5,3,0)])\n",
    "\n",
    "res = (\n",
    "    stim.Circuit(circ_measure_wrong_Z.convert_to_stim(noise_model=noise_model))\n",
    "    .compile_sampler()\n",
    "    .sample(num_shots)\n",
    ")\n",
    "result_bits = []\n",
    "for r in res:\n",
    "    mmts = circ_measure_wrong_Z.dict_m_uuids_to_res(r)\n",
    "    result_bits.append(np.sum(np.array(mmts[m_uuid], dtype=int)) % 2)\n",
    "\n",
    "exp_val = np.average(result_bits), np.std(result_bits) / np.sqrt(num_shots)\n",
    "print(f\"<Z> = {exp_val[0]} +/- {np.round(exp_val[1], 2)}\")"
   ]
  },
  {
   "cell_type": "markdown",
   "metadata": {},
   "source": [
    "# Measure the wrong operator but correct it with the right stabilizers\n",
    "If we measure again the last column, and we multiply the result by the newly added stabilizers, we recover the original value:"
   ]
  },
  {
   "cell_type": "code",
   "execution_count": 12,
   "metadata": {},
   "outputs": [
    {
     "name": "stdout",
     "output_type": "stream",
     "text": [
      "<Z> = 0.028 +/- 0.01\n"
     ]
    }
   ],
   "source": [
    "circ_measure_wrong_Z_but_correct = copy.deepcopy(circ)\n",
    "m_uuid = circ_measure_wrong_Z_but_correct.measure_physical_qbs([(5,1,0), (5,2,0), (5,3,0)])\n",
    "\n",
    "res = (\n",
    "    stim.Circuit(circ_measure_wrong_Z_but_correct.convert_to_stim(noise_model=noise_model))\n",
    "    .compile_sampler()\n",
    "    .sample(num_shots)\n",
    ")\n",
    "\n",
    "correction_stabs = [\n",
    "    'Z_(3, 1, 0)Z_(4, 1, 0)Z_(3, 2, 0)Z_(4, 2, 0)',\n",
    "    'Z_(4, 2, 0)Z_(5, 2, 0)Z_(4, 3, 0)Z_(5, 3, 0)',\n",
    "    'Z_(3, 3, 0)Z_(4, 3, 0)',\n",
    "    'Z_(4, 1, 0)Z_(5, 1, 0)',\n",
    "]\n",
    "\n",
    "correction_uuids = []\n",
    "\n",
    "for mmt in circ_measure_wrong_Z_but_correct._m_list:\n",
    "    if mmt.index > 7 and mmt.related_obj in correction_stabs:\n",
    "        correction_uuids.append(mmt.uuid)\n",
    "\n",
    "result_bits = []\n",
    "for r in res:\n",
    "    mmts = circ_measure_wrong_Z_but_correct.dict_m_uuids_to_res(r)\n",
    "    final_val = np.sum(np.array(mmts[m_uuid], dtype=int))\n",
    "    for correction_uuid in correction_uuids:\n",
    "        final_val += np.array(mmts[correction_uuid], dtype=int)\n",
    "    result_bits.append(final_val % 2)\n",
    "\n",
    "exp_val = np.average(result_bits), np.std(result_bits) / np.sqrt(num_shots)\n",
    "print(f\"<Z> = {exp_val[0]} +/- {np.round(exp_val[1], 2)}\")"
   ]
  }
 ],
 "metadata": {
  "kernelspec": {
   "display_name": "stim",
   "language": "python",
   "name": "python3"
  },
  "language_info": {
   "codemirror_mode": {
    "name": "ipython",
    "version": 3
   },
   "file_extension": ".py",
   "mimetype": "text/x-python",
   "name": "python",
   "nbconvert_exporter": "python",
   "pygments_lexer": "ipython3",
   "version": "3.10.14"
  },
  "orig_nbformat": 4
 },
 "nbformat": 4,
 "nbformat_minor": 2
}
