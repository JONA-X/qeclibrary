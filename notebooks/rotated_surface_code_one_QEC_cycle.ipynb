{
 "cells": [
  {
   "cell_type": "markdown",
   "metadata": {},
   "source": [
    "# Simplest case: 1 rotated surface code qubit, 1 QEC cylce\n"
   ]
  },
  {
   "cell_type": "code",
   "execution_count": 31,
   "metadata": {},
   "outputs": [],
   "source": [
    "from typing import Literal, Tuple\n",
    "from qeclib import RotSurfCode, SquareLattice, NoiseModel, PauliNoiseModel, QECPlot\n",
    "import numpy as np\n",
    "import stim\n",
    "import matplotlib.pyplot as plt\n",
    "from matplotlib.ticker import MaxNLocator\n",
    "import pprint"
   ]
  },
  {
   "cell_type": "code",
   "execution_count": 32,
   "metadata": {},
   "outputs": [
    {
     "data": {
      "application/vnd.plotly.v1+json": {
       "config": {
        "plotlyServerURL": "https://plot.ly"
       },
       "data": [
        {
         "hoverinfo": "text",
         "legendgroup": "qpu_dqbs",
         "marker": {
          "color": "gray",
          "line": {
           "color": "darkred",
           "width": 1
          },
          "size": 25,
          "symbol": "circle"
         },
         "mode": "markers+text",
         "name": "Data qubits",
         "showlegend": true,
         "text": "(0, 0, 0)",
         "textposition": "middle center",
         "type": "scatter",
         "x": [
          0
         ],
         "y": [
          0
         ]
        },
        {
         "hoverinfo": "text",
         "legendgroup": "qpu_dqbs",
         "marker": {
          "color": "gray",
          "line": {
           "color": "darkred",
           "width": 1
          },
          "size": 25,
          "symbol": "circle"
         },
         "mode": "markers+text",
         "name": "Data qubits",
         "showlegend": false,
         "text": "(1, 0, 0)",
         "textposition": "middle center",
         "type": "scatter",
         "x": [
          1
         ],
         "y": [
          0
         ]
        },
        {
         "hoverinfo": "text",
         "legendgroup": "qpu_dqbs",
         "marker": {
          "color": "gray",
          "line": {
           "color": "darkred",
           "width": 1
          },
          "size": 25,
          "symbol": "circle"
         },
         "mode": "markers+text",
         "name": "Data qubits",
         "showlegend": false,
         "text": "(2, 0, 0)",
         "textposition": "middle center",
         "type": "scatter",
         "x": [
          2
         ],
         "y": [
          0
         ]
        },
        {
         "hoverinfo": "text",
         "legendgroup": "qpu_dqbs",
         "marker": {
          "color": "gray",
          "line": {
           "color": "darkred",
           "width": 1
          },
          "size": 25,
          "symbol": "circle"
         },
         "mode": "markers+text",
         "name": "Data qubits",
         "showlegend": false,
         "text": "(0, 1, 0)",
         "textposition": "middle center",
         "type": "scatter",
         "x": [
          0
         ],
         "y": [
          1
         ]
        },
        {
         "hoverinfo": "text",
         "legendgroup": "qpu_dqbs",
         "marker": {
          "color": "gray",
          "line": {
           "color": "darkred",
           "width": 1
          },
          "size": 25,
          "symbol": "circle"
         },
         "mode": "markers+text",
         "name": "Data qubits",
         "showlegend": false,
         "text": "(1, 1, 0)",
         "textposition": "middle center",
         "type": "scatter",
         "x": [
          1
         ],
         "y": [
          1
         ]
        },
        {
         "hoverinfo": "text",
         "legendgroup": "qpu_dqbs",
         "marker": {
          "color": "gray",
          "line": {
           "color": "darkred",
           "width": 1
          },
          "size": 25,
          "symbol": "circle"
         },
         "mode": "markers+text",
         "name": "Data qubits",
         "showlegend": false,
         "text": "(2, 1, 0)",
         "textposition": "middle center",
         "type": "scatter",
         "x": [
          2
         ],
         "y": [
          1
         ]
        },
        {
         "hoverinfo": "text",
         "legendgroup": "qpu_dqbs",
         "marker": {
          "color": "gray",
          "line": {
           "color": "darkred",
           "width": 1
          },
          "size": 25,
          "symbol": "circle"
         },
         "mode": "markers+text",
         "name": "Data qubits",
         "showlegend": false,
         "text": "(0, 2, 0)",
         "textposition": "middle center",
         "type": "scatter",
         "x": [
          0
         ],
         "y": [
          2
         ]
        },
        {
         "hoverinfo": "text",
         "legendgroup": "qpu_dqbs",
         "marker": {
          "color": "gray",
          "line": {
           "color": "darkred",
           "width": 1
          },
          "size": 25,
          "symbol": "circle"
         },
         "mode": "markers+text",
         "name": "Data qubits",
         "showlegend": false,
         "text": "(1, 2, 0)",
         "textposition": "middle center",
         "type": "scatter",
         "x": [
          1
         ],
         "y": [
          2
         ]
        },
        {
         "hoverinfo": "text",
         "legendgroup": "qpu_dqbs",
         "marker": {
          "color": "gray",
          "line": {
           "color": "darkred",
           "width": 1
          },
          "size": 25,
          "symbol": "circle"
         },
         "mode": "markers+text",
         "name": "Data qubits",
         "showlegend": false,
         "text": "(2, 2, 0)",
         "textposition": "middle center",
         "type": "scatter",
         "x": [
          2
         ],
         "y": [
          2
         ]
        },
        {
         "hoverinfo": "text",
         "legendgroup": "qpu_aqbs",
         "marker": {
          "color": "lightgray",
          "line": {
           "color": "darkred",
           "width": 1
          },
          "size": 15,
          "symbol": "circle"
         },
         "mode": "markers+text",
         "name": "Ancilla qubits",
         "showlegend": true,
         "text": "(0, 0, 1)",
         "textposition": "middle center",
         "type": "scatter",
         "x": [
          -0.5
         ],
         "y": [
          -0.5
         ]
        },
        {
         "hoverinfo": "text",
         "legendgroup": "qpu_aqbs",
         "marker": {
          "color": "lightgray",
          "line": {
           "color": "darkred",
           "width": 1
          },
          "size": 15,
          "symbol": "circle"
         },
         "mode": "markers+text",
         "name": "Ancilla qubits",
         "showlegend": false,
         "text": "(1, 0, 1)",
         "textposition": "middle center",
         "type": "scatter",
         "x": [
          0.5
         ],
         "y": [
          -0.5
         ]
        },
        {
         "hoverinfo": "text",
         "legendgroup": "qpu_aqbs",
         "marker": {
          "color": "lightgray",
          "line": {
           "color": "darkred",
           "width": 1
          },
          "size": 15,
          "symbol": "circle"
         },
         "mode": "markers+text",
         "name": "Ancilla qubits",
         "showlegend": false,
         "text": "(2, 0, 1)",
         "textposition": "middle center",
         "type": "scatter",
         "x": [
          1.5
         ],
         "y": [
          -0.5
         ]
        },
        {
         "hoverinfo": "text",
         "legendgroup": "qpu_aqbs",
         "marker": {
          "color": "lightgray",
          "line": {
           "color": "darkred",
           "width": 1
          },
          "size": 15,
          "symbol": "circle"
         },
         "mode": "markers+text",
         "name": "Ancilla qubits",
         "showlegend": false,
         "text": "(3, 0, 1)",
         "textposition": "middle center",
         "type": "scatter",
         "x": [
          2.5
         ],
         "y": [
          -0.5
         ]
        },
        {
         "hoverinfo": "text",
         "legendgroup": "qpu_aqbs",
         "marker": {
          "color": "lightgray",
          "line": {
           "color": "darkred",
           "width": 1
          },
          "size": 15,
          "symbol": "circle"
         },
         "mode": "markers+text",
         "name": "Ancilla qubits",
         "showlegend": false,
         "text": "(0, 1, 1)",
         "textposition": "middle center",
         "type": "scatter",
         "x": [
          -0.5
         ],
         "y": [
          0.5
         ]
        },
        {
         "hoverinfo": "text",
         "legendgroup": "qpu_aqbs",
         "marker": {
          "color": "lightgray",
          "line": {
           "color": "darkred",
           "width": 1
          },
          "size": 15,
          "symbol": "circle"
         },
         "mode": "markers+text",
         "name": "Ancilla qubits",
         "showlegend": false,
         "text": "(1, 1, 1)",
         "textposition": "middle center",
         "type": "scatter",
         "x": [
          0.5
         ],
         "y": [
          0.5
         ]
        },
        {
         "hoverinfo": "text",
         "legendgroup": "qpu_aqbs",
         "marker": {
          "color": "lightgray",
          "line": {
           "color": "darkred",
           "width": 1
          },
          "size": 15,
          "symbol": "circle"
         },
         "mode": "markers+text",
         "name": "Ancilla qubits",
         "showlegend": false,
         "text": "(2, 1, 1)",
         "textposition": "middle center",
         "type": "scatter",
         "x": [
          1.5
         ],
         "y": [
          0.5
         ]
        },
        {
         "hoverinfo": "text",
         "legendgroup": "qpu_aqbs",
         "marker": {
          "color": "lightgray",
          "line": {
           "color": "darkred",
           "width": 1
          },
          "size": 15,
          "symbol": "circle"
         },
         "mode": "markers+text",
         "name": "Ancilla qubits",
         "showlegend": false,
         "text": "(3, 1, 1)",
         "textposition": "middle center",
         "type": "scatter",
         "x": [
          2.5
         ],
         "y": [
          0.5
         ]
        },
        {
         "hoverinfo": "text",
         "legendgroup": "qpu_aqbs",
         "marker": {
          "color": "lightgray",
          "line": {
           "color": "darkred",
           "width": 1
          },
          "size": 15,
          "symbol": "circle"
         },
         "mode": "markers+text",
         "name": "Ancilla qubits",
         "showlegend": false,
         "text": "(0, 2, 1)",
         "textposition": "middle center",
         "type": "scatter",
         "x": [
          -0.5
         ],
         "y": [
          1.5
         ]
        },
        {
         "hoverinfo": "text",
         "legendgroup": "qpu_aqbs",
         "marker": {
          "color": "lightgray",
          "line": {
           "color": "darkred",
           "width": 1
          },
          "size": 15,
          "symbol": "circle"
         },
         "mode": "markers+text",
         "name": "Ancilla qubits",
         "showlegend": false,
         "text": "(1, 2, 1)",
         "textposition": "middle center",
         "type": "scatter",
         "x": [
          0.5
         ],
         "y": [
          1.5
         ]
        },
        {
         "hoverinfo": "text",
         "legendgroup": "qpu_aqbs",
         "marker": {
          "color": "lightgray",
          "line": {
           "color": "darkred",
           "width": 1
          },
          "size": 15,
          "symbol": "circle"
         },
         "mode": "markers+text",
         "name": "Ancilla qubits",
         "showlegend": false,
         "text": "(2, 2, 1)",
         "textposition": "middle center",
         "type": "scatter",
         "x": [
          1.5
         ],
         "y": [
          1.5
         ]
        },
        {
         "hoverinfo": "text",
         "legendgroup": "qpu_aqbs",
         "marker": {
          "color": "lightgray",
          "line": {
           "color": "darkred",
           "width": 1
          },
          "size": 15,
          "symbol": "circle"
         },
         "mode": "markers+text",
         "name": "Ancilla qubits",
         "showlegend": false,
         "text": "(3, 2, 1)",
         "textposition": "middle center",
         "type": "scatter",
         "x": [
          2.5
         ],
         "y": [
          1.5
         ]
        },
        {
         "hoverinfo": "text",
         "legendgroup": "qpu_aqbs",
         "marker": {
          "color": "lightgray",
          "line": {
           "color": "darkred",
           "width": 1
          },
          "size": 15,
          "symbol": "circle"
         },
         "mode": "markers+text",
         "name": "Ancilla qubits",
         "showlegend": false,
         "text": "(0, 3, 1)",
         "textposition": "middle center",
         "type": "scatter",
         "x": [
          -0.5
         ],
         "y": [
          2.5
         ]
        },
        {
         "hoverinfo": "text",
         "legendgroup": "qpu_aqbs",
         "marker": {
          "color": "lightgray",
          "line": {
           "color": "darkred",
           "width": 1
          },
          "size": 15,
          "symbol": "circle"
         },
         "mode": "markers+text",
         "name": "Ancilla qubits",
         "showlegend": false,
         "text": "(1, 3, 1)",
         "textposition": "middle center",
         "type": "scatter",
         "x": [
          0.5
         ],
         "y": [
          2.5
         ]
        },
        {
         "hoverinfo": "text",
         "legendgroup": "qpu_aqbs",
         "marker": {
          "color": "lightgray",
          "line": {
           "color": "darkred",
           "width": 1
          },
          "size": 15,
          "symbol": "circle"
         },
         "mode": "markers+text",
         "name": "Ancilla qubits",
         "showlegend": false,
         "text": "(2, 3, 1)",
         "textposition": "middle center",
         "type": "scatter",
         "x": [
          1.5
         ],
         "y": [
          2.5
         ]
        },
        {
         "hoverinfo": "text",
         "legendgroup": "qpu_aqbs",
         "marker": {
          "color": "lightgray",
          "line": {
           "color": "darkred",
           "width": 1
          },
          "size": 15,
          "symbol": "circle"
         },
         "mode": "markers+text",
         "name": "Ancilla qubits",
         "showlegend": false,
         "text": "(3, 3, 1)",
         "textposition": "middle center",
         "type": "scatter",
         "x": [
          2.5
         ],
         "y": [
          2.5
         ]
        },
        {
         "fill": "toself",
         "fillcolor": "rgba(90,174,230,0.8)",
         "hoverinfo": "none",
         "legendgroup": "stabs_Q1",
         "line": {
          "color": "black",
          "width": 2
         },
         "mode": "lines",
         "name": "Q1 stabilizers",
         "showlegend": true,
         "type": "scatter",
         "x": [
          1,
          2,
          2,
          1,
          1
         ],
         "y": [
          0,
          0,
          1,
          1,
          1
         ]
        },
        {
         "fill": "toself",
         "fillcolor": "rgba(90,174,230,0.8)",
         "hoverinfo": "none",
         "legendgroup": "stabs_Q1",
         "line": {
          "color": "black",
          "width": 2
         },
         "mode": "lines",
         "name": "Q1 stabilizers",
         "showlegend": false,
         "type": "scatter",
         "x": [
          0,
          1,
          1,
          0,
          0
         ],
         "y": [
          1,
          1,
          2,
          2,
          2
         ]
        },
        {
         "fill": "toself",
         "fillcolor": "rgba(90,174,230,0.8)",
         "hoverinfo": "none",
         "legendgroup": "stabs_Q1",
         "line": {
          "color": "black",
          "width": 2
         },
         "mode": "lines",
         "name": "Q1 stabilizers",
         "showlegend": false,
         "type": "scatter",
         "x": [
          -0.1,
          0.1,
          0.1,
          -0.1,
          -0.1
         ],
         "y": [
          0,
          0,
          1,
          1,
          1
         ]
        },
        {
         "fill": "toself",
         "fillcolor": "rgba(90,174,230,0.8)",
         "hoverinfo": "none",
         "legendgroup": "stabs_Q1",
         "line": {
          "color": "black",
          "width": 2
         },
         "mode": "lines",
         "name": "Q1 stabilizers",
         "showlegend": false,
         "type": "scatter",
         "x": [
          1.9,
          2.1,
          2.1,
          1.9,
          1.9
         ],
         "y": [
          1,
          1,
          2,
          2,
          2
         ]
        },
        {
         "fill": "toself",
         "fillcolor": "rgba(87,201,90,0.8)",
         "hoverinfo": "none",
         "legendgroup": "stabs_Q1",
         "line": {
          "color": "black",
          "width": 2
         },
         "mode": "lines",
         "name": "Q1 stabilizers",
         "showlegend": false,
         "type": "scatter",
         "x": [
          0,
          1,
          1,
          0,
          0
         ],
         "y": [
          0,
          0,
          1,
          1,
          1
         ]
        },
        {
         "fill": "toself",
         "fillcolor": "rgba(87,201,90,0.8)",
         "hoverinfo": "none",
         "legendgroup": "stabs_Q1",
         "line": {
          "color": "black",
          "width": 2
         },
         "mode": "lines",
         "name": "Q1 stabilizers",
         "showlegend": false,
         "type": "scatter",
         "x": [
          1,
          2,
          2,
          1,
          1
         ],
         "y": [
          1,
          1,
          2,
          2,
          2
         ]
        },
        {
         "fill": "toself",
         "fillcolor": "rgba(87,201,90,0.8)",
         "hoverinfo": "none",
         "legendgroup": "stabs_Q1",
         "line": {
          "color": "black",
          "width": 2
         },
         "mode": "lines",
         "name": "Q1 stabilizers",
         "showlegend": false,
         "type": "scatter",
         "x": [
          0,
          1,
          1,
          0,
          0
         ],
         "y": [
          1.9,
          1.9,
          2.1,
          2.1,
          2.1
         ]
        },
        {
         "fill": "toself",
         "fillcolor": "rgba(87,201,90,0.8)",
         "hoverinfo": "none",
         "legendgroup": "stabs_Q1",
         "line": {
          "color": "black",
          "width": 2
         },
         "mode": "lines",
         "name": "Q1 stabilizers",
         "showlegend": false,
         "type": "scatter",
         "x": [
          1,
          2,
          2,
          1,
          1
         ],
         "y": [
          -0.1,
          -0.1,
          0.1,
          0.1,
          0.1
         ]
        },
        {
         "hoverinfo": "text",
         "legendgroup": "",
         "marker": {
          "color": "#1f77b4",
          "line": {
           "color": "darkred",
           "width": 1
          },
          "size": 25,
          "symbol": "circle"
         },
         "mode": "markers+text",
         "name": "",
         "showlegend": false,
         "text": "(1, 0, 0)",
         "textposition": "middle center",
         "type": "scatter",
         "x": [
          1
         ],
         "y": [
          0
         ]
        },
        {
         "hoverinfo": "text",
         "legendgroup": "",
         "marker": {
          "color": "#1f77b4",
          "line": {
           "color": "darkred",
           "width": 1
          },
          "size": 25,
          "symbol": "circle"
         },
         "mode": "markers+text",
         "name": "",
         "showlegend": false,
         "text": "(2, 0, 0)",
         "textposition": "middle center",
         "type": "scatter",
         "x": [
          2
         ],
         "y": [
          0
         ]
        },
        {
         "hoverinfo": "text",
         "legendgroup": "",
         "marker": {
          "color": "#1f77b4",
          "line": {
           "color": "darkred",
           "width": 1
          },
          "size": 25,
          "symbol": "circle"
         },
         "mode": "markers+text",
         "name": "",
         "showlegend": false,
         "text": "(1, 1, 0)",
         "textposition": "middle center",
         "type": "scatter",
         "x": [
          1
         ],
         "y": [
          1
         ]
        },
        {
         "hoverinfo": "text",
         "legendgroup": "",
         "marker": {
          "color": "#1f77b4",
          "line": {
           "color": "darkred",
           "width": 1
          },
          "size": 25,
          "symbol": "circle"
         },
         "mode": "markers+text",
         "name": "",
         "showlegend": false,
         "text": "(2, 1, 0)",
         "textposition": "middle center",
         "type": "scatter",
         "x": [
          2
         ],
         "y": [
          1
         ]
        },
        {
         "hoverinfo": "text",
         "legendgroup": "",
         "marker": {
          "color": "#1f77b4",
          "line": {
           "color": "darkred",
           "width": 1
          },
          "size": 25,
          "symbol": "circle"
         },
         "mode": "markers+text",
         "name": "",
         "showlegend": false,
         "text": "(0, 1, 0)",
         "textposition": "middle center",
         "type": "scatter",
         "x": [
          0
         ],
         "y": [
          1
         ]
        },
        {
         "hoverinfo": "text",
         "legendgroup": "",
         "marker": {
          "color": "#1f77b4",
          "line": {
           "color": "darkred",
           "width": 1
          },
          "size": 25,
          "symbol": "circle"
         },
         "mode": "markers+text",
         "name": "",
         "showlegend": false,
         "text": "(0, 2, 0)",
         "textposition": "middle center",
         "type": "scatter",
         "x": [
          0
         ],
         "y": [
          2
         ]
        },
        {
         "hoverinfo": "text",
         "legendgroup": "",
         "marker": {
          "color": "#1f77b4",
          "line": {
           "color": "darkred",
           "width": 1
          },
          "size": 25,
          "symbol": "circle"
         },
         "mode": "markers+text",
         "name": "",
         "showlegend": false,
         "text": "(1, 2, 0)",
         "textposition": "middle center",
         "type": "scatter",
         "x": [
          1
         ],
         "y": [
          2
         ]
        },
        {
         "hoverinfo": "text",
         "legendgroup": "",
         "marker": {
          "color": "#1f77b4",
          "line": {
           "color": "darkred",
           "width": 1
          },
          "size": 25,
          "symbol": "circle"
         },
         "mode": "markers+text",
         "name": "",
         "showlegend": false,
         "text": "(0, 0, 0)",
         "textposition": "middle center",
         "type": "scatter",
         "x": [
          0
         ],
         "y": [
          0
         ]
        },
        {
         "hoverinfo": "text",
         "legendgroup": "",
         "marker": {
          "color": "#1f77b4",
          "line": {
           "color": "darkred",
           "width": 1
          },
          "size": 25,
          "symbol": "circle"
         },
         "mode": "markers+text",
         "name": "",
         "showlegend": false,
         "text": "(2, 2, 0)",
         "textposition": "middle center",
         "type": "scatter",
         "x": [
          2
         ],
         "y": [
          2
         ]
        },
        {
         "hoverinfo": "text",
         "legendgroup": "",
         "marker": {
          "color": "gray",
          "line": {
           "color": "darkred",
           "width": 1
          },
          "size": 25,
          "symbol": "square"
         },
         "mode": "markers+text",
         "name": "",
         "showlegend": false,
         "text": "X<sub>(0, 0, 0)</sub>",
         "textposition": "middle center",
         "type": "scatter",
         "x": [
          0
         ],
         "y": [
          0
         ]
        },
        {
         "hoverinfo": "text",
         "legendgroup": "",
         "marker": {
          "color": "gray",
          "line": {
           "color": "darkred",
           "width": 1
          },
          "size": 25,
          "symbol": "square"
         },
         "mode": "markers+text",
         "name": "",
         "showlegend": false,
         "text": "X<sub>(1, 0, 0)</sub>",
         "textposition": "middle center",
         "type": "scatter",
         "x": [
          1
         ],
         "y": [
          0
         ]
        },
        {
         "hoverinfo": "text",
         "legendgroup": "",
         "marker": {
          "color": "gray",
          "line": {
           "color": "darkred",
           "width": 1
          },
          "size": 25,
          "symbol": "square"
         },
         "mode": "markers+text",
         "name": "",
         "showlegend": false,
         "text": "X<sub>(2, 0, 0)</sub>",
         "textposition": "middle center",
         "type": "scatter",
         "x": [
          2
         ],
         "y": [
          0
         ]
        },
        {
         "hoverinfo": "text",
         "legendgroup": "",
         "marker": {
          "color": "gray",
          "line": {
           "color": "darkred",
           "width": 1
          },
          "size": 25,
          "symbol": "square"
         },
         "mode": "markers+text",
         "name": "",
         "showlegend": false,
         "text": "Z<sub>(0, 0, 0)</sub>",
         "textposition": "middle center",
         "type": "scatter",
         "x": [
          0
         ],
         "y": [
          0
         ]
        },
        {
         "hoverinfo": "text",
         "legendgroup": "",
         "marker": {
          "color": "gray",
          "line": {
           "color": "darkred",
           "width": 1
          },
          "size": 25,
          "symbol": "square"
         },
         "mode": "markers+text",
         "name": "",
         "showlegend": false,
         "text": "Z<sub>(0, 1, 0)</sub>",
         "textposition": "middle center",
         "type": "scatter",
         "x": [
          0
         ],
         "y": [
          1
         ]
        },
        {
         "hoverinfo": "text",
         "legendgroup": "",
         "marker": {
          "color": "gray",
          "line": {
           "color": "darkred",
           "width": 1
          },
          "size": 25,
          "symbol": "square"
         },
         "mode": "markers+text",
         "name": "",
         "showlegend": false,
         "text": "Z<sub>(0, 2, 0)</sub>",
         "textposition": "middle center",
         "type": "scatter",
         "x": [
          0
         ],
         "y": [
          2
         ]
        }
       ],
       "layout": {
        "height": 700,
        "showlegend": true,
        "template": {
         "data": {
          "bar": [
           {
            "error_x": {
             "color": "#2a3f5f"
            },
            "error_y": {
             "color": "#2a3f5f"
            },
            "marker": {
             "line": {
              "color": "#E5ECF6",
              "width": 0.5
             },
             "pattern": {
              "fillmode": "overlay",
              "size": 10,
              "solidity": 0.2
             }
            },
            "type": "bar"
           }
          ],
          "barpolar": [
           {
            "marker": {
             "line": {
              "color": "#E5ECF6",
              "width": 0.5
             },
             "pattern": {
              "fillmode": "overlay",
              "size": 10,
              "solidity": 0.2
             }
            },
            "type": "barpolar"
           }
          ],
          "carpet": [
           {
            "aaxis": {
             "endlinecolor": "#2a3f5f",
             "gridcolor": "white",
             "linecolor": "white",
             "minorgridcolor": "white",
             "startlinecolor": "#2a3f5f"
            },
            "baxis": {
             "endlinecolor": "#2a3f5f",
             "gridcolor": "white",
             "linecolor": "white",
             "minorgridcolor": "white",
             "startlinecolor": "#2a3f5f"
            },
            "type": "carpet"
           }
          ],
          "choropleth": [
           {
            "colorbar": {
             "outlinewidth": 0,
             "ticks": ""
            },
            "type": "choropleth"
           }
          ],
          "contour": [
           {
            "colorbar": {
             "outlinewidth": 0,
             "ticks": ""
            },
            "colorscale": [
             [
              0,
              "#0d0887"
             ],
             [
              0.1111111111111111,
              "#46039f"
             ],
             [
              0.2222222222222222,
              "#7201a8"
             ],
             [
              0.3333333333333333,
              "#9c179e"
             ],
             [
              0.4444444444444444,
              "#bd3786"
             ],
             [
              0.5555555555555556,
              "#d8576b"
             ],
             [
              0.6666666666666666,
              "#ed7953"
             ],
             [
              0.7777777777777778,
              "#fb9f3a"
             ],
             [
              0.8888888888888888,
              "#fdca26"
             ],
             [
              1,
              "#f0f921"
             ]
            ],
            "type": "contour"
           }
          ],
          "contourcarpet": [
           {
            "colorbar": {
             "outlinewidth": 0,
             "ticks": ""
            },
            "type": "contourcarpet"
           }
          ],
          "heatmap": [
           {
            "colorbar": {
             "outlinewidth": 0,
             "ticks": ""
            },
            "colorscale": [
             [
              0,
              "#0d0887"
             ],
             [
              0.1111111111111111,
              "#46039f"
             ],
             [
              0.2222222222222222,
              "#7201a8"
             ],
             [
              0.3333333333333333,
              "#9c179e"
             ],
             [
              0.4444444444444444,
              "#bd3786"
             ],
             [
              0.5555555555555556,
              "#d8576b"
             ],
             [
              0.6666666666666666,
              "#ed7953"
             ],
             [
              0.7777777777777778,
              "#fb9f3a"
             ],
             [
              0.8888888888888888,
              "#fdca26"
             ],
             [
              1,
              "#f0f921"
             ]
            ],
            "type": "heatmap"
           }
          ],
          "heatmapgl": [
           {
            "colorbar": {
             "outlinewidth": 0,
             "ticks": ""
            },
            "colorscale": [
             [
              0,
              "#0d0887"
             ],
             [
              0.1111111111111111,
              "#46039f"
             ],
             [
              0.2222222222222222,
              "#7201a8"
             ],
             [
              0.3333333333333333,
              "#9c179e"
             ],
             [
              0.4444444444444444,
              "#bd3786"
             ],
             [
              0.5555555555555556,
              "#d8576b"
             ],
             [
              0.6666666666666666,
              "#ed7953"
             ],
             [
              0.7777777777777778,
              "#fb9f3a"
             ],
             [
              0.8888888888888888,
              "#fdca26"
             ],
             [
              1,
              "#f0f921"
             ]
            ],
            "type": "heatmapgl"
           }
          ],
          "histogram": [
           {
            "marker": {
             "pattern": {
              "fillmode": "overlay",
              "size": 10,
              "solidity": 0.2
             }
            },
            "type": "histogram"
           }
          ],
          "histogram2d": [
           {
            "colorbar": {
             "outlinewidth": 0,
             "ticks": ""
            },
            "colorscale": [
             [
              0,
              "#0d0887"
             ],
             [
              0.1111111111111111,
              "#46039f"
             ],
             [
              0.2222222222222222,
              "#7201a8"
             ],
             [
              0.3333333333333333,
              "#9c179e"
             ],
             [
              0.4444444444444444,
              "#bd3786"
             ],
             [
              0.5555555555555556,
              "#d8576b"
             ],
             [
              0.6666666666666666,
              "#ed7953"
             ],
             [
              0.7777777777777778,
              "#fb9f3a"
             ],
             [
              0.8888888888888888,
              "#fdca26"
             ],
             [
              1,
              "#f0f921"
             ]
            ],
            "type": "histogram2d"
           }
          ],
          "histogram2dcontour": [
           {
            "colorbar": {
             "outlinewidth": 0,
             "ticks": ""
            },
            "colorscale": [
             [
              0,
              "#0d0887"
             ],
             [
              0.1111111111111111,
              "#46039f"
             ],
             [
              0.2222222222222222,
              "#7201a8"
             ],
             [
              0.3333333333333333,
              "#9c179e"
             ],
             [
              0.4444444444444444,
              "#bd3786"
             ],
             [
              0.5555555555555556,
              "#d8576b"
             ],
             [
              0.6666666666666666,
              "#ed7953"
             ],
             [
              0.7777777777777778,
              "#fb9f3a"
             ],
             [
              0.8888888888888888,
              "#fdca26"
             ],
             [
              1,
              "#f0f921"
             ]
            ],
            "type": "histogram2dcontour"
           }
          ],
          "mesh3d": [
           {
            "colorbar": {
             "outlinewidth": 0,
             "ticks": ""
            },
            "type": "mesh3d"
           }
          ],
          "parcoords": [
           {
            "line": {
             "colorbar": {
              "outlinewidth": 0,
              "ticks": ""
             }
            },
            "type": "parcoords"
           }
          ],
          "pie": [
           {
            "automargin": true,
            "type": "pie"
           }
          ],
          "scatter": [
           {
            "fillpattern": {
             "fillmode": "overlay",
             "size": 10,
             "solidity": 0.2
            },
            "type": "scatter"
           }
          ],
          "scatter3d": [
           {
            "line": {
             "colorbar": {
              "outlinewidth": 0,
              "ticks": ""
             }
            },
            "marker": {
             "colorbar": {
              "outlinewidth": 0,
              "ticks": ""
             }
            },
            "type": "scatter3d"
           }
          ],
          "scattercarpet": [
           {
            "marker": {
             "colorbar": {
              "outlinewidth": 0,
              "ticks": ""
             }
            },
            "type": "scattercarpet"
           }
          ],
          "scattergeo": [
           {
            "marker": {
             "colorbar": {
              "outlinewidth": 0,
              "ticks": ""
             }
            },
            "type": "scattergeo"
           }
          ],
          "scattergl": [
           {
            "marker": {
             "colorbar": {
              "outlinewidth": 0,
              "ticks": ""
             }
            },
            "type": "scattergl"
           }
          ],
          "scattermapbox": [
           {
            "marker": {
             "colorbar": {
              "outlinewidth": 0,
              "ticks": ""
             }
            },
            "type": "scattermapbox"
           }
          ],
          "scatterpolar": [
           {
            "marker": {
             "colorbar": {
              "outlinewidth": 0,
              "ticks": ""
             }
            },
            "type": "scatterpolar"
           }
          ],
          "scatterpolargl": [
           {
            "marker": {
             "colorbar": {
              "outlinewidth": 0,
              "ticks": ""
             }
            },
            "type": "scatterpolargl"
           }
          ],
          "scatterternary": [
           {
            "marker": {
             "colorbar": {
              "outlinewidth": 0,
              "ticks": ""
             }
            },
            "type": "scatterternary"
           }
          ],
          "surface": [
           {
            "colorbar": {
             "outlinewidth": 0,
             "ticks": ""
            },
            "colorscale": [
             [
              0,
              "#0d0887"
             ],
             [
              0.1111111111111111,
              "#46039f"
             ],
             [
              0.2222222222222222,
              "#7201a8"
             ],
             [
              0.3333333333333333,
              "#9c179e"
             ],
             [
              0.4444444444444444,
              "#bd3786"
             ],
             [
              0.5555555555555556,
              "#d8576b"
             ],
             [
              0.6666666666666666,
              "#ed7953"
             ],
             [
              0.7777777777777778,
              "#fb9f3a"
             ],
             [
              0.8888888888888888,
              "#fdca26"
             ],
             [
              1,
              "#f0f921"
             ]
            ],
            "type": "surface"
           }
          ],
          "table": [
           {
            "cells": {
             "fill": {
              "color": "#EBF0F8"
             },
             "line": {
              "color": "white"
             }
            },
            "header": {
             "fill": {
              "color": "#C8D4E3"
             },
             "line": {
              "color": "white"
             }
            },
            "type": "table"
           }
          ]
         },
         "layout": {
          "annotationdefaults": {
           "arrowcolor": "#2a3f5f",
           "arrowhead": 0,
           "arrowwidth": 1
          },
          "autotypenumbers": "strict",
          "coloraxis": {
           "colorbar": {
            "outlinewidth": 0,
            "ticks": ""
           }
          },
          "colorscale": {
           "diverging": [
            [
             0,
             "#8e0152"
            ],
            [
             0.1,
             "#c51b7d"
            ],
            [
             0.2,
             "#de77ae"
            ],
            [
             0.3,
             "#f1b6da"
            ],
            [
             0.4,
             "#fde0ef"
            ],
            [
             0.5,
             "#f7f7f7"
            ],
            [
             0.6,
             "#e6f5d0"
            ],
            [
             0.7,
             "#b8e186"
            ],
            [
             0.8,
             "#7fbc41"
            ],
            [
             0.9,
             "#4d9221"
            ],
            [
             1,
             "#276419"
            ]
           ],
           "sequential": [
            [
             0,
             "#0d0887"
            ],
            [
             0.1111111111111111,
             "#46039f"
            ],
            [
             0.2222222222222222,
             "#7201a8"
            ],
            [
             0.3333333333333333,
             "#9c179e"
            ],
            [
             0.4444444444444444,
             "#bd3786"
            ],
            [
             0.5555555555555556,
             "#d8576b"
            ],
            [
             0.6666666666666666,
             "#ed7953"
            ],
            [
             0.7777777777777778,
             "#fb9f3a"
            ],
            [
             0.8888888888888888,
             "#fdca26"
            ],
            [
             1,
             "#f0f921"
            ]
           ],
           "sequentialminus": [
            [
             0,
             "#0d0887"
            ],
            [
             0.1111111111111111,
             "#46039f"
            ],
            [
             0.2222222222222222,
             "#7201a8"
            ],
            [
             0.3333333333333333,
             "#9c179e"
            ],
            [
             0.4444444444444444,
             "#bd3786"
            ],
            [
             0.5555555555555556,
             "#d8576b"
            ],
            [
             0.6666666666666666,
             "#ed7953"
            ],
            [
             0.7777777777777778,
             "#fb9f3a"
            ],
            [
             0.8888888888888888,
             "#fdca26"
            ],
            [
             1,
             "#f0f921"
            ]
           ]
          },
          "colorway": [
           "#636efa",
           "#EF553B",
           "#00cc96",
           "#ab63fa",
           "#FFA15A",
           "#19d3f3",
           "#FF6692",
           "#B6E880",
           "#FF97FF",
           "#FECB52"
          ],
          "font": {
           "color": "#2a3f5f"
          },
          "geo": {
           "bgcolor": "white",
           "lakecolor": "white",
           "landcolor": "#E5ECF6",
           "showlakes": true,
           "showland": true,
           "subunitcolor": "white"
          },
          "hoverlabel": {
           "align": "left"
          },
          "hovermode": "closest",
          "mapbox": {
           "style": "light"
          },
          "paper_bgcolor": "white",
          "plot_bgcolor": "#E5ECF6",
          "polar": {
           "angularaxis": {
            "gridcolor": "white",
            "linecolor": "white",
            "ticks": ""
           },
           "bgcolor": "#E5ECF6",
           "radialaxis": {
            "gridcolor": "white",
            "linecolor": "white",
            "ticks": ""
           }
          },
          "scene": {
           "xaxis": {
            "backgroundcolor": "#E5ECF6",
            "gridcolor": "white",
            "gridwidth": 2,
            "linecolor": "white",
            "showbackground": true,
            "ticks": "",
            "zerolinecolor": "white"
           },
           "yaxis": {
            "backgroundcolor": "#E5ECF6",
            "gridcolor": "white",
            "gridwidth": 2,
            "linecolor": "white",
            "showbackground": true,
            "ticks": "",
            "zerolinecolor": "white"
           },
           "zaxis": {
            "backgroundcolor": "#E5ECF6",
            "gridcolor": "white",
            "gridwidth": 2,
            "linecolor": "white",
            "showbackground": true,
            "ticks": "",
            "zerolinecolor": "white"
           }
          },
          "shapedefaults": {
           "line": {
            "color": "#2a3f5f"
           }
          },
          "ternary": {
           "aaxis": {
            "gridcolor": "white",
            "linecolor": "white",
            "ticks": ""
           },
           "baxis": {
            "gridcolor": "white",
            "linecolor": "white",
            "ticks": ""
           },
           "bgcolor": "#E5ECF6",
           "caxis": {
            "gridcolor": "white",
            "linecolor": "white",
            "ticks": ""
           }
          },
          "title": {
           "x": 0.05
          },
          "xaxis": {
           "automargin": true,
           "gridcolor": "white",
           "linecolor": "white",
           "ticks": "",
           "title": {
            "standoff": 15
           },
           "zerolinecolor": "white",
           "zerolinewidth": 2
          },
          "yaxis": {
           "automargin": true,
           "gridcolor": "white",
           "linecolor": "white",
           "ticks": "",
           "title": {
            "standoff": 15
           },
           "zerolinecolor": "white",
           "zerolinewidth": 2
          }
         }
        },
        "width": 1100,
        "xaxis": {
         "anchor": "y",
         "domain": [
          0,
          1
         ],
         "showgrid": true,
         "visible": true,
         "zeroline": false
        },
        "yaxis": {
         "anchor": "x",
         "autorange": "reversed",
         "domain": [
          0,
          1
         ],
         "scaleanchor": "x",
         "scaleratio": 1,
         "showgrid": true,
         "visible": true
        }
       }
      }
     },
     "metadata": {},
     "output_type": "display_data"
    },
    {
     "data": {
      "text/plain": [
       "'800f9df2-5d2d-46bb-8fbc-1e60a5839543'"
      ]
     },
     "execution_count": 32,
     "metadata": {},
     "output_type": "execute_result"
    }
   ],
   "source": [
    "d = 3\n",
    "starting_state = \"-\"\n",
    "\n",
    "Q1 = RotSurfCode(\n",
    "    id=\"Q1\",\n",
    "    dx=d,\n",
    "    dz=d,\n",
    ")\n",
    "circ = SquareLattice(name=\"\", rows=d, cols=d)\n",
    "circ.add_logical_qubit(Q1)\n",
    "\n",
    "qecplot = QECPlot(circ)\n",
    "qecplot.plot_logical_qubit(\"Q1\")\n",
    "qecplot.show()\n",
    "\n",
    "circ.init(\"Q1\", starting_state)\n",
    "\n",
    "QEC_rounds_uuids = []\n",
    "\n",
    "round_uuid = circ.add_par_def_syndrome_extraction_circuit_all_log_qbs()\n",
    "QEC_rounds_uuids.append(round_uuid[0])\n",
    "\n",
    "if starting_state in [0, 1, \"0\", \"1\"]:\n",
    "    final_RO_id = circ.m_log_z(\"Q1\")\n",
    "elif starting_state in [\"+\", \"-\"]:\n",
    "    final_RO_id = circ.m_log_x(\"Q1\")\n",
    "final_RO_id"
   ]
  },
  {
   "cell_type": "code",
   "execution_count": 33,
   "metadata": {},
   "outputs": [],
   "source": [
    "# Define a noise model\n",
    "p = 0.01\n",
    "noise_model = PauliNoiseModel(p=p, p_2q=p, p_reset=p, p_mmt=p)\n",
    "\n",
    "n_rep = np.arange(1, 16, 2)\n",
    "num_shots = 1000\n",
    "\n",
    "res = (\n",
    "    stim.Circuit(circ.convert_to_stim(noise_model=noise_model))\n",
    "    .compile_sampler()\n",
    "    .sample(num_shots)\n",
    ")\n",
    "result_bits = []\n",
    "for r in res:\n",
    "    mmts = circ.dict_m_uuids_to_res(r)\n",
    "    result_bits.append(np.sum(np.array(mmts[final_RO_id], dtype=int)) % 2)\n",
    "\n",
    "exp_val = np.average(result_bits), np.std(result_bits) / np.sqrt(num_shots)"
   ]
  },
  {
   "cell_type": "code",
   "execution_count": 34,
   "metadata": {},
   "outputs": [
    {
     "name": "stdout",
     "output_type": "stream",
     "text": [
      "<X> = 0.879 +/- 0.01\n"
     ]
    }
   ],
   "source": [
    "basis = \"Z\" if starting_state in [0,1,\"0\",\"1\"] else \"X\"\n",
    "print(f\"<{basis}> = {exp_val[0]} +/- {np.round(exp_val[1], 2)}\")"
   ]
  },
  {
   "cell_type": "code",
   "execution_count": 35,
   "metadata": {},
   "outputs": [
    {
     "data": {
      "image/svg+xml": [
       "<svg viewBox=\"0 0 4576 1696\"  version=\"1.1\" xmlns=\"http://www.w3.org/2000/svg\">\n",
       "<g id=\"qubit_lines\">\n",
       "<path id=\"qubit_line:0\" d=\"M64,64 L4544,64 \" stroke=\"black\"/>\n",
       "<text dominant-baseline=\"central\" text-anchor=\"end\" font-family=\"monospace\" font-size=\"12\" x=\"64\" y=\"64\">q0</text>\n",
       "<path id=\"qubit_line:1\" d=\"M64,128 L4544,128 \" stroke=\"black\"/>\n",
       "<text dominant-baseline=\"central\" text-anchor=\"end\" font-family=\"monospace\" font-size=\"12\" x=\"64\" y=\"128\">q1</text>\n",
       "<path id=\"qubit_line:2\" d=\"M64,192 L4544,192 \" stroke=\"black\"/>\n",
       "<text dominant-baseline=\"central\" text-anchor=\"end\" font-family=\"monospace\" font-size=\"12\" x=\"64\" y=\"192\">q2</text>\n",
       "<path id=\"qubit_line:3\" d=\"M64,256 L4544,256 \" stroke=\"black\"/>\n",
       "<text dominant-baseline=\"central\" text-anchor=\"end\" font-family=\"monospace\" font-size=\"12\" x=\"64\" y=\"256\">q3</text>\n",
       "<path id=\"qubit_line:4\" d=\"M64,320 L4544,320 \" stroke=\"black\"/>\n",
       "<text dominant-baseline=\"central\" text-anchor=\"end\" font-family=\"monospace\" font-size=\"12\" x=\"64\" y=\"320\">q4</text>\n",
       "<path id=\"qubit_line:5\" d=\"M64,384 L4544,384 \" stroke=\"black\"/>\n",
       "<text dominant-baseline=\"central\" text-anchor=\"end\" font-family=\"monospace\" font-size=\"12\" x=\"64\" y=\"384\">q5</text>\n",
       "<path id=\"qubit_line:6\" d=\"M64,448 L4544,448 \" stroke=\"black\"/>\n",
       "<text dominant-baseline=\"central\" text-anchor=\"end\" font-family=\"monospace\" font-size=\"12\" x=\"64\" y=\"448\">q6</text>\n",
       "<path id=\"qubit_line:7\" d=\"M64,512 L4544,512 \" stroke=\"black\"/>\n",
       "<text dominant-baseline=\"central\" text-anchor=\"end\" font-family=\"monospace\" font-size=\"12\" x=\"64\" y=\"512\">q7</text>\n",
       "<path id=\"qubit_line:8\" d=\"M64,576 L4544,576 \" stroke=\"black\"/>\n",
       "<text dominant-baseline=\"central\" text-anchor=\"end\" font-family=\"monospace\" font-size=\"12\" x=\"64\" y=\"576\">q8</text>\n",
       "<path id=\"qubit_line:9\" d=\"M64,640 L4544,640 \" stroke=\"black\"/>\n",
       "<text dominant-baseline=\"central\" text-anchor=\"end\" font-family=\"monospace\" font-size=\"12\" x=\"64\" y=\"640\">q9</text>\n",
       "<path id=\"qubit_line:10\" d=\"M64,704 L4544,704 \" stroke=\"black\"/>\n",
       "<text dominant-baseline=\"central\" text-anchor=\"end\" font-family=\"monospace\" font-size=\"12\" x=\"64\" y=\"704\">q10</text>\n",
       "<path id=\"qubit_line:11\" d=\"M64,768 L4544,768 \" stroke=\"black\"/>\n",
       "<text dominant-baseline=\"central\" text-anchor=\"end\" font-family=\"monospace\" font-size=\"12\" x=\"64\" y=\"768\">q11</text>\n",
       "<path id=\"qubit_line:12\" d=\"M64,832 L4544,832 \" stroke=\"black\"/>\n",
       "<text dominant-baseline=\"central\" text-anchor=\"end\" font-family=\"monospace\" font-size=\"12\" x=\"64\" y=\"832\">q12</text>\n",
       "<path id=\"qubit_line:13\" d=\"M64,896 L4544,896 \" stroke=\"black\"/>\n",
       "<text dominant-baseline=\"central\" text-anchor=\"end\" font-family=\"monospace\" font-size=\"12\" x=\"64\" y=\"896\">q13</text>\n",
       "<path id=\"qubit_line:14\" d=\"M64,960 L4544,960 \" stroke=\"black\"/>\n",
       "<text dominant-baseline=\"central\" text-anchor=\"end\" font-family=\"monospace\" font-size=\"12\" x=\"64\" y=\"960\">q14</text>\n",
       "<path id=\"qubit_line:15\" d=\"M64,1024 L4544,1024 \" stroke=\"black\"/>\n",
       "<text dominant-baseline=\"central\" text-anchor=\"end\" font-family=\"monospace\" font-size=\"12\" x=\"64\" y=\"1024\">q15</text>\n",
       "<path id=\"qubit_line:16\" d=\"M64,1088 L4544,1088 \" stroke=\"black\"/>\n",
       "<text dominant-baseline=\"central\" text-anchor=\"end\" font-family=\"monospace\" font-size=\"12\" x=\"64\" y=\"1088\">q16</text>\n",
       "<path id=\"qubit_line:17\" d=\"M64,1152 L4544,1152 \" stroke=\"black\"/>\n",
       "<text dominant-baseline=\"central\" text-anchor=\"end\" font-family=\"monospace\" font-size=\"12\" x=\"64\" y=\"1152\">q17</text>\n",
       "<path id=\"qubit_line:18\" d=\"M64,1216 L4544,1216 \" stroke=\"black\"/>\n",
       "<text dominant-baseline=\"central\" text-anchor=\"end\" font-family=\"monospace\" font-size=\"12\" x=\"64\" y=\"1216\">q18</text>\n",
       "<path id=\"qubit_line:19\" d=\"M64,1280 L4544,1280 \" stroke=\"black\"/>\n",
       "<text dominant-baseline=\"central\" text-anchor=\"end\" font-family=\"monospace\" font-size=\"12\" x=\"64\" y=\"1280\">q19</text>\n",
       "<path id=\"qubit_line:20\" d=\"M64,1344 L4544,1344 \" stroke=\"black\"/>\n",
       "<text dominant-baseline=\"central\" text-anchor=\"end\" font-family=\"monospace\" font-size=\"12\" x=\"64\" y=\"1344\">q20</text>\n",
       "<path id=\"qubit_line:21\" d=\"M64,1408 L4544,1408 \" stroke=\"black\"/>\n",
       "<text dominant-baseline=\"central\" text-anchor=\"end\" font-family=\"monospace\" font-size=\"12\" x=\"64\" y=\"1408\">q21</text>\n",
       "<path id=\"qubit_line:22\" d=\"M64,1472 L4544,1472 \" stroke=\"black\"/>\n",
       "<text dominant-baseline=\"central\" text-anchor=\"end\" font-family=\"monospace\" font-size=\"12\" x=\"64\" y=\"1472\">q22</text>\n",
       "<path id=\"qubit_line:23\" d=\"M64,1536 L4544,1536 \" stroke=\"black\"/>\n",
       "<text dominant-baseline=\"central\" text-anchor=\"end\" font-family=\"monospace\" font-size=\"12\" x=\"64\" y=\"1536\">q23</text>\n",
       "<path id=\"qubit_line:24\" d=\"M64,1600 L4544,1600 \" stroke=\"black\"/>\n",
       "<text dominant-baseline=\"central\" text-anchor=\"end\" font-family=\"monospace\" font-size=\"12\" x=\"64\" y=\"1600\">q24</text>\n",
       "</g>\n",
       "<rect x=\"80\" y=\"48\" width=\"224\" height=\"32\" stroke=\"black\" fill=\"white\"/>\n",
       "<text dominant-baseline=\"central\" text-anchor=\"middle\" font-family=\"monospace\" font-size=\"16\" x=\"192\" y=\"64\">COORDS(0,0)</text>\n",
       "<rect x=\"80\" y=\"112\" width=\"224\" height=\"32\" stroke=\"black\" fill=\"white\"/>\n",
       "<text dominant-baseline=\"central\" text-anchor=\"middle\" font-family=\"monospace\" font-size=\"16\" x=\"192\" y=\"128\">COORDS(1,0)</text>\n",
       "<rect x=\"80\" y=\"176\" width=\"224\" height=\"32\" stroke=\"black\" fill=\"white\"/>\n",
       "<text dominant-baseline=\"central\" text-anchor=\"middle\" font-family=\"monospace\" font-size=\"16\" x=\"192\" y=\"192\">COORDS(2,0)</text>\n",
       "<rect x=\"80\" y=\"240\" width=\"224\" height=\"32\" stroke=\"black\" fill=\"white\"/>\n",
       "<text dominant-baseline=\"central\" text-anchor=\"middle\" font-family=\"monospace\" font-size=\"16\" x=\"192\" y=\"256\">COORDS(0,1)</text>\n",
       "<rect x=\"80\" y=\"304\" width=\"224\" height=\"32\" stroke=\"black\" fill=\"white\"/>\n",
       "<text dominant-baseline=\"central\" text-anchor=\"middle\" font-family=\"monospace\" font-size=\"16\" x=\"192\" y=\"320\">COORDS(1,1)</text>\n",
       "<rect x=\"80\" y=\"368\" width=\"224\" height=\"32\" stroke=\"black\" fill=\"white\"/>\n",
       "<text dominant-baseline=\"central\" text-anchor=\"middle\" font-family=\"monospace\" font-size=\"16\" x=\"192\" y=\"384\">COORDS(2,1)</text>\n",
       "<rect x=\"80\" y=\"432\" width=\"224\" height=\"32\" stroke=\"black\" fill=\"white\"/>\n",
       "<text dominant-baseline=\"central\" text-anchor=\"middle\" font-family=\"monospace\" font-size=\"16\" x=\"192\" y=\"448\">COORDS(0,2)</text>\n",
       "<rect x=\"80\" y=\"496\" width=\"224\" height=\"32\" stroke=\"black\" fill=\"white\"/>\n",
       "<text dominant-baseline=\"central\" text-anchor=\"middle\" font-family=\"monospace\" font-size=\"16\" x=\"192\" y=\"512\">COORDS(1,2)</text>\n",
       "<rect x=\"80\" y=\"560\" width=\"224\" height=\"32\" stroke=\"black\" fill=\"white\"/>\n",
       "<text dominant-baseline=\"central\" text-anchor=\"middle\" font-family=\"monospace\" font-size=\"16\" x=\"192\" y=\"576\">COORDS(2,2)</text>\n",
       "<rect x=\"80\" y=\"624\" width=\"224\" height=\"32\" stroke=\"black\" fill=\"white\"/>\n",
       "<text dominant-baseline=\"central\" text-anchor=\"middle\" font-family=\"monospace\" font-size=\"16\" x=\"192\" y=\"640\">COORDS(-0.5,-0.5)</text>\n",
       "<rect x=\"80\" y=\"688\" width=\"224\" height=\"32\" stroke=\"black\" fill=\"white\"/>\n",
       "<text dominant-baseline=\"central\" text-anchor=\"middle\" font-family=\"monospace\" font-size=\"16\" x=\"192\" y=\"704\">COORDS(0.5,-0.5)</text>\n",
       "<rect x=\"80\" y=\"752\" width=\"224\" height=\"32\" stroke=\"black\" fill=\"white\"/>\n",
       "<text dominant-baseline=\"central\" text-anchor=\"middle\" font-family=\"monospace\" font-size=\"16\" x=\"192\" y=\"768\">COORDS(1.5,-0.5)</text>\n",
       "<rect x=\"80\" y=\"816\" width=\"224\" height=\"32\" stroke=\"black\" fill=\"white\"/>\n",
       "<text dominant-baseline=\"central\" text-anchor=\"middle\" font-family=\"monospace\" font-size=\"16\" x=\"192\" y=\"832\">COORDS(2.5,-0.5)</text>\n",
       "<rect x=\"80\" y=\"880\" width=\"224\" height=\"32\" stroke=\"black\" fill=\"white\"/>\n",
       "<text dominant-baseline=\"central\" text-anchor=\"middle\" font-family=\"monospace\" font-size=\"16\" x=\"192\" y=\"896\">COORDS(-0.5,0.5)</text>\n",
       "<rect x=\"80\" y=\"944\" width=\"224\" height=\"32\" stroke=\"black\" fill=\"white\"/>\n",
       "<text dominant-baseline=\"central\" text-anchor=\"middle\" font-family=\"monospace\" font-size=\"16\" x=\"192\" y=\"960\">COORDS(0.5,0.5)</text>\n",
       "<rect x=\"80\" y=\"1008\" width=\"224\" height=\"32\" stroke=\"black\" fill=\"white\"/>\n",
       "<text dominant-baseline=\"central\" text-anchor=\"middle\" font-family=\"monospace\" font-size=\"16\" x=\"192\" y=\"1024\">COORDS(1.5,0.5)</text>\n",
       "<rect x=\"80\" y=\"1072\" width=\"224\" height=\"32\" stroke=\"black\" fill=\"white\"/>\n",
       "<text dominant-baseline=\"central\" text-anchor=\"middle\" font-family=\"monospace\" font-size=\"16\" x=\"192\" y=\"1088\">COORDS(2.5,0.5)</text>\n",
       "<rect x=\"80\" y=\"1136\" width=\"224\" height=\"32\" stroke=\"black\" fill=\"white\"/>\n",
       "<text dominant-baseline=\"central\" text-anchor=\"middle\" font-family=\"monospace\" font-size=\"16\" x=\"192\" y=\"1152\">COORDS(-0.5,1.5)</text>\n",
       "<rect x=\"80\" y=\"1200\" width=\"224\" height=\"32\" stroke=\"black\" fill=\"white\"/>\n",
       "<text dominant-baseline=\"central\" text-anchor=\"middle\" font-family=\"monospace\" font-size=\"16\" x=\"192\" y=\"1216\">COORDS(0.5,1.5)</text>\n",
       "<rect x=\"80\" y=\"1264\" width=\"224\" height=\"32\" stroke=\"black\" fill=\"white\"/>\n",
       "<text dominant-baseline=\"central\" text-anchor=\"middle\" font-family=\"monospace\" font-size=\"16\" x=\"192\" y=\"1280\">COORDS(1.5,1.5)</text>\n",
       "<rect x=\"80\" y=\"1328\" width=\"224\" height=\"32\" stroke=\"black\" fill=\"white\"/>\n",
       "<text dominant-baseline=\"central\" text-anchor=\"middle\" font-family=\"monospace\" font-size=\"16\" x=\"192\" y=\"1344\">COORDS(2.5,1.5)</text>\n",
       "<rect x=\"80\" y=\"1392\" width=\"224\" height=\"32\" stroke=\"black\" fill=\"white\"/>\n",
       "<text dominant-baseline=\"central\" text-anchor=\"middle\" font-family=\"monospace\" font-size=\"16\" x=\"192\" y=\"1408\">COORDS(-0.5,2.5)</text>\n",
       "<rect x=\"80\" y=\"1456\" width=\"224\" height=\"32\" stroke=\"black\" fill=\"white\"/>\n",
       "<text dominant-baseline=\"central\" text-anchor=\"middle\" font-family=\"monospace\" font-size=\"16\" x=\"192\" y=\"1472\">COORDS(0.5,2.5)</text>\n",
       "<rect x=\"80\" y=\"1520\" width=\"224\" height=\"32\" stroke=\"black\" fill=\"white\"/>\n",
       "<text dominant-baseline=\"central\" text-anchor=\"middle\" font-family=\"monospace\" font-size=\"16\" x=\"192\" y=\"1536\">COORDS(1.5,2.5)</text>\n",
       "<rect x=\"80\" y=\"1584\" width=\"224\" height=\"32\" stroke=\"black\" fill=\"white\"/>\n",
       "<text dominant-baseline=\"central\" text-anchor=\"middle\" font-family=\"monospace\" font-size=\"16\" x=\"192\" y=\"1600\">COORDS(2.5,2.5)</text>\n",
       "<rect x=\"336\" y=\"112\" width=\"32\" height=\"32\" stroke=\"black\" fill=\"black\"/>\n",
       "<text dominant-baseline=\"central\" text-anchor=\"middle\" font-family=\"monospace\" font-size=\"30\" x=\"352\" y=\"128\" fill=\"white\">R</text>\n",
       "<rect x=\"336\" y=\"176\" width=\"32\" height=\"32\" stroke=\"black\" fill=\"black\"/>\n",
       "<text dominant-baseline=\"central\" text-anchor=\"middle\" font-family=\"monospace\" font-size=\"30\" x=\"352\" y=\"192\" fill=\"white\">R</text>\n",
       "<rect x=\"336\" y=\"304\" width=\"32\" height=\"32\" stroke=\"black\" fill=\"black\"/>\n",
       "<text dominant-baseline=\"central\" text-anchor=\"middle\" font-family=\"monospace\" font-size=\"30\" x=\"352\" y=\"320\" fill=\"white\">R</text>\n",
       "<rect x=\"336\" y=\"368\" width=\"32\" height=\"32\" stroke=\"black\" fill=\"black\"/>\n",
       "<text dominant-baseline=\"central\" text-anchor=\"middle\" font-family=\"monospace\" font-size=\"30\" x=\"352\" y=\"384\" fill=\"white\">R</text>\n",
       "<rect x=\"336\" y=\"240\" width=\"32\" height=\"32\" stroke=\"black\" fill=\"black\"/>\n",
       "<text dominant-baseline=\"central\" text-anchor=\"middle\" font-family=\"monospace\" font-size=\"30\" x=\"352\" y=\"256\" fill=\"white\">R</text>\n",
       "<rect x=\"336\" y=\"432\" width=\"32\" height=\"32\" stroke=\"black\" fill=\"black\"/>\n",
       "<text dominant-baseline=\"central\" text-anchor=\"middle\" font-family=\"monospace\" font-size=\"30\" x=\"352\" y=\"448\" fill=\"white\">R</text>\n",
       "<rect x=\"336\" y=\"496\" width=\"32\" height=\"32\" stroke=\"black\" fill=\"black\"/>\n",
       "<text dominant-baseline=\"central\" text-anchor=\"middle\" font-family=\"monospace\" font-size=\"30\" x=\"352\" y=\"512\" fill=\"white\">R</text>\n",
       "<rect x=\"336\" y=\"48\" width=\"32\" height=\"32\" stroke=\"black\" fill=\"black\"/>\n",
       "<text dominant-baseline=\"central\" text-anchor=\"middle\" font-family=\"monospace\" font-size=\"30\" x=\"352\" y=\"64\" fill=\"white\">R</text>\n",
       "<rect x=\"336\" y=\"560\" width=\"32\" height=\"32\" stroke=\"black\" fill=\"black\"/>\n",
       "<text dominant-baseline=\"central\" text-anchor=\"middle\" font-family=\"monospace\" font-size=\"30\" x=\"352\" y=\"576\" fill=\"white\">R</text>\n",
       "<rect x=\"400\" y=\"112\" width=\"32\" height=\"32\" stroke=\"black\" fill=\"pink\"/>\n",
       "<text dominant-baseline=\"central\" text-anchor=\"middle\" font-family=\"monospace\" font-size=\"12\" x=\"416\" y=\"128\">DEP<tspan baseline-shift=\"sub\" font-size=\"10\">1</tspan></text>\n",
       "<text dominant-baseline=\"hanging\" text-anchor=\"middle\" font-family=\"monospace\" font-size=\"10\" stroke=\"red\" x=\"416\" y=\"148\">0.01</text>\n",
       "<rect x=\"400\" y=\"176\" width=\"32\" height=\"32\" stroke=\"black\" fill=\"pink\"/>\n",
       "<text dominant-baseline=\"central\" text-anchor=\"middle\" font-family=\"monospace\" font-size=\"12\" x=\"416\" y=\"192\">DEP<tspan baseline-shift=\"sub\" font-size=\"10\">1</tspan></text>\n",
       "<text dominant-baseline=\"hanging\" text-anchor=\"middle\" font-family=\"monospace\" font-size=\"10\" stroke=\"red\" x=\"416\" y=\"212\">0.01</text>\n",
       "<rect x=\"400\" y=\"304\" width=\"32\" height=\"32\" stroke=\"black\" fill=\"pink\"/>\n",
       "<text dominant-baseline=\"central\" text-anchor=\"middle\" font-family=\"monospace\" font-size=\"12\" x=\"416\" y=\"320\">DEP<tspan baseline-shift=\"sub\" font-size=\"10\">1</tspan></text>\n",
       "<text dominant-baseline=\"hanging\" text-anchor=\"middle\" font-family=\"monospace\" font-size=\"10\" stroke=\"red\" x=\"416\" y=\"340\">0.01</text>\n",
       "<rect x=\"400\" y=\"368\" width=\"32\" height=\"32\" stroke=\"black\" fill=\"pink\"/>\n",
       "<text dominant-baseline=\"central\" text-anchor=\"middle\" font-family=\"monospace\" font-size=\"12\" x=\"416\" y=\"384\">DEP<tspan baseline-shift=\"sub\" font-size=\"10\">1</tspan></text>\n",
       "<text dominant-baseline=\"hanging\" text-anchor=\"middle\" font-family=\"monospace\" font-size=\"10\" stroke=\"red\" x=\"416\" y=\"404\">0.01</text>\n",
       "<rect x=\"400\" y=\"240\" width=\"32\" height=\"32\" stroke=\"black\" fill=\"pink\"/>\n",
       "<text dominant-baseline=\"central\" text-anchor=\"middle\" font-family=\"monospace\" font-size=\"12\" x=\"416\" y=\"256\">DEP<tspan baseline-shift=\"sub\" font-size=\"10\">1</tspan></text>\n",
       "<text dominant-baseline=\"hanging\" text-anchor=\"middle\" font-family=\"monospace\" font-size=\"10\" stroke=\"red\" x=\"416\" y=\"276\">0.01</text>\n",
       "<rect x=\"400\" y=\"432\" width=\"32\" height=\"32\" stroke=\"black\" fill=\"pink\"/>\n",
       "<text dominant-baseline=\"central\" text-anchor=\"middle\" font-family=\"monospace\" font-size=\"12\" x=\"416\" y=\"448\">DEP<tspan baseline-shift=\"sub\" font-size=\"10\">1</tspan></text>\n",
       "<text dominant-baseline=\"hanging\" text-anchor=\"middle\" font-family=\"monospace\" font-size=\"10\" stroke=\"red\" x=\"416\" y=\"468\">0.01</text>\n",
       "<rect x=\"400\" y=\"496\" width=\"32\" height=\"32\" stroke=\"black\" fill=\"pink\"/>\n",
       "<text dominant-baseline=\"central\" text-anchor=\"middle\" font-family=\"monospace\" font-size=\"12\" x=\"416\" y=\"512\">DEP<tspan baseline-shift=\"sub\" font-size=\"10\">1</tspan></text>\n",
       "<text dominant-baseline=\"hanging\" text-anchor=\"middle\" font-family=\"monospace\" font-size=\"10\" stroke=\"red\" x=\"416\" y=\"532\">0.01</text>\n",
       "<rect x=\"400\" y=\"48\" width=\"32\" height=\"32\" stroke=\"black\" fill=\"pink\"/>\n",
       "<text dominant-baseline=\"central\" text-anchor=\"middle\" font-family=\"monospace\" font-size=\"12\" x=\"416\" y=\"64\">DEP<tspan baseline-shift=\"sub\" font-size=\"10\">1</tspan></text>\n",
       "<text dominant-baseline=\"hanging\" text-anchor=\"middle\" font-family=\"monospace\" font-size=\"10\" stroke=\"red\" x=\"416\" y=\"84\">0.01</text>\n",
       "<rect x=\"400\" y=\"560\" width=\"32\" height=\"32\" stroke=\"black\" fill=\"pink\"/>\n",
       "<text dominant-baseline=\"central\" text-anchor=\"middle\" font-family=\"monospace\" font-size=\"12\" x=\"416\" y=\"576\">DEP<tspan baseline-shift=\"sub\" font-size=\"10\">1</tspan></text>\n",
       "<text dominant-baseline=\"hanging\" text-anchor=\"middle\" font-family=\"monospace\" font-size=\"10\" stroke=\"red\" x=\"416\" y=\"596\">0.01</text>\n",
       "<rect x=\"464\" y=\"48\" width=\"32\" height=\"32\" stroke=\"black\" fill=\"white\"/>\n",
       "<text dominant-baseline=\"central\" text-anchor=\"middle\" font-family=\"monospace\" font-size=\"30\" x=\"480\" y=\"64\">X</text>\n",
       "<rect x=\"464\" y=\"112\" width=\"32\" height=\"32\" stroke=\"black\" fill=\"white\"/>\n",
       "<text dominant-baseline=\"central\" text-anchor=\"middle\" font-family=\"monospace\" font-size=\"30\" x=\"480\" y=\"128\">X</text>\n",
       "<rect x=\"464\" y=\"176\" width=\"32\" height=\"32\" stroke=\"black\" fill=\"white\"/>\n",
       "<text dominant-baseline=\"central\" text-anchor=\"middle\" font-family=\"monospace\" font-size=\"30\" x=\"480\" y=\"192\">X</text>\n",
       "<rect x=\"528\" y=\"48\" width=\"32\" height=\"32\" stroke=\"black\" fill=\"pink\"/>\n",
       "<text dominant-baseline=\"central\" text-anchor=\"middle\" font-family=\"monospace\" font-size=\"12\" x=\"544\" y=\"64\">DEP<tspan baseline-shift=\"sub\" font-size=\"10\">1</tspan></text>\n",
       "<text dominant-baseline=\"hanging\" text-anchor=\"middle\" font-family=\"monospace\" font-size=\"10\" stroke=\"red\" x=\"544\" y=\"84\">0.01</text>\n",
       "<rect x=\"528\" y=\"112\" width=\"32\" height=\"32\" stroke=\"black\" fill=\"pink\"/>\n",
       "<text dominant-baseline=\"central\" text-anchor=\"middle\" font-family=\"monospace\" font-size=\"12\" x=\"544\" y=\"128\">DEP<tspan baseline-shift=\"sub\" font-size=\"10\">1</tspan></text>\n",
       "<text dominant-baseline=\"hanging\" text-anchor=\"middle\" font-family=\"monospace\" font-size=\"10\" stroke=\"red\" x=\"544\" y=\"148\">0.01</text>\n",
       "<rect x=\"528\" y=\"176\" width=\"32\" height=\"32\" stroke=\"black\" fill=\"pink\"/>\n",
       "<text dominant-baseline=\"central\" text-anchor=\"middle\" font-family=\"monospace\" font-size=\"12\" x=\"544\" y=\"192\">DEP<tspan baseline-shift=\"sub\" font-size=\"10\">1</tspan></text>\n",
       "<text dominant-baseline=\"hanging\" text-anchor=\"middle\" font-family=\"monospace\" font-size=\"10\" stroke=\"red\" x=\"544\" y=\"212\">0.01</text>\n",
       "<path d=\"M68,40 L68,32 L572,32 L572,40 \" stroke=\"black\" fill=\"none\"/>\n",
       "<path d=\"M68,1656 L68,1664 L572,1664 L572,1656 \" stroke=\"black\" fill=\"none\"/>\n",
       "<rect x=\"592\" y=\"112\" width=\"32\" height=\"32\" stroke=\"black\" fill=\"white\"/>\n",
       "<text dominant-baseline=\"central\" text-anchor=\"middle\" font-family=\"monospace\" font-size=\"30\" x=\"608\" y=\"128\">H</text>\n",
       "<rect x=\"592\" y=\"176\" width=\"32\" height=\"32\" stroke=\"black\" fill=\"white\"/>\n",
       "<text dominant-baseline=\"central\" text-anchor=\"middle\" font-family=\"monospace\" font-size=\"30\" x=\"608\" y=\"192\">H</text>\n",
       "<rect x=\"592\" y=\"304\" width=\"32\" height=\"32\" stroke=\"black\" fill=\"white\"/>\n",
       "<text dominant-baseline=\"central\" text-anchor=\"middle\" font-family=\"monospace\" font-size=\"30\" x=\"608\" y=\"320\">H</text>\n",
       "<rect x=\"592\" y=\"368\" width=\"32\" height=\"32\" stroke=\"black\" fill=\"white\"/>\n",
       "<text dominant-baseline=\"central\" text-anchor=\"middle\" font-family=\"monospace\" font-size=\"30\" x=\"608\" y=\"384\">H</text>\n",
       "<rect x=\"592\" y=\"240\" width=\"32\" height=\"32\" stroke=\"black\" fill=\"white\"/>\n",
       "<text dominant-baseline=\"central\" text-anchor=\"middle\" font-family=\"monospace\" font-size=\"30\" x=\"608\" y=\"256\">H</text>\n",
       "<rect x=\"592\" y=\"432\" width=\"32\" height=\"32\" stroke=\"black\" fill=\"white\"/>\n",
       "<text dominant-baseline=\"central\" text-anchor=\"middle\" font-family=\"monospace\" font-size=\"30\" x=\"608\" y=\"448\">H</text>\n",
       "<rect x=\"592\" y=\"496\" width=\"32\" height=\"32\" stroke=\"black\" fill=\"white\"/>\n",
       "<text dominant-baseline=\"central\" text-anchor=\"middle\" font-family=\"monospace\" font-size=\"30\" x=\"608\" y=\"512\">H</text>\n",
       "<rect x=\"592\" y=\"48\" width=\"32\" height=\"32\" stroke=\"black\" fill=\"white\"/>\n",
       "<text dominant-baseline=\"central\" text-anchor=\"middle\" font-family=\"monospace\" font-size=\"30\" x=\"608\" y=\"64\">H</text>\n",
       "<rect x=\"592\" y=\"560\" width=\"32\" height=\"32\" stroke=\"black\" fill=\"white\"/>\n",
       "<text dominant-baseline=\"central\" text-anchor=\"middle\" font-family=\"monospace\" font-size=\"30\" x=\"608\" y=\"576\">H</text>\n",
       "<rect x=\"656\" y=\"112\" width=\"32\" height=\"32\" stroke=\"black\" fill=\"pink\"/>\n",
       "<text dominant-baseline=\"central\" text-anchor=\"middle\" font-family=\"monospace\" font-size=\"12\" x=\"672\" y=\"128\">DEP<tspan baseline-shift=\"sub\" font-size=\"10\">1</tspan></text>\n",
       "<text dominant-baseline=\"hanging\" text-anchor=\"middle\" font-family=\"monospace\" font-size=\"10\" stroke=\"red\" x=\"672\" y=\"148\">0.01</text>\n",
       "<rect x=\"656\" y=\"176\" width=\"32\" height=\"32\" stroke=\"black\" fill=\"pink\"/>\n",
       "<text dominant-baseline=\"central\" text-anchor=\"middle\" font-family=\"monospace\" font-size=\"12\" x=\"672\" y=\"192\">DEP<tspan baseline-shift=\"sub\" font-size=\"10\">1</tspan></text>\n",
       "<text dominant-baseline=\"hanging\" text-anchor=\"middle\" font-family=\"monospace\" font-size=\"10\" stroke=\"red\" x=\"672\" y=\"212\">0.01</text>\n",
       "<rect x=\"656\" y=\"304\" width=\"32\" height=\"32\" stroke=\"black\" fill=\"pink\"/>\n",
       "<text dominant-baseline=\"central\" text-anchor=\"middle\" font-family=\"monospace\" font-size=\"12\" x=\"672\" y=\"320\">DEP<tspan baseline-shift=\"sub\" font-size=\"10\">1</tspan></text>\n",
       "<text dominant-baseline=\"hanging\" text-anchor=\"middle\" font-family=\"monospace\" font-size=\"10\" stroke=\"red\" x=\"672\" y=\"340\">0.01</text>\n",
       "<rect x=\"656\" y=\"368\" width=\"32\" height=\"32\" stroke=\"black\" fill=\"pink\"/>\n",
       "<text dominant-baseline=\"central\" text-anchor=\"middle\" font-family=\"monospace\" font-size=\"12\" x=\"672\" y=\"384\">DEP<tspan baseline-shift=\"sub\" font-size=\"10\">1</tspan></text>\n",
       "<text dominant-baseline=\"hanging\" text-anchor=\"middle\" font-family=\"monospace\" font-size=\"10\" stroke=\"red\" x=\"672\" y=\"404\">0.01</text>\n",
       "<rect x=\"656\" y=\"240\" width=\"32\" height=\"32\" stroke=\"black\" fill=\"pink\"/>\n",
       "<text dominant-baseline=\"central\" text-anchor=\"middle\" font-family=\"monospace\" font-size=\"12\" x=\"672\" y=\"256\">DEP<tspan baseline-shift=\"sub\" font-size=\"10\">1</tspan></text>\n",
       "<text dominant-baseline=\"hanging\" text-anchor=\"middle\" font-family=\"monospace\" font-size=\"10\" stroke=\"red\" x=\"672\" y=\"276\">0.01</text>\n",
       "<rect x=\"656\" y=\"432\" width=\"32\" height=\"32\" stroke=\"black\" fill=\"pink\"/>\n",
       "<text dominant-baseline=\"central\" text-anchor=\"middle\" font-family=\"monospace\" font-size=\"12\" x=\"672\" y=\"448\">DEP<tspan baseline-shift=\"sub\" font-size=\"10\">1</tspan></text>\n",
       "<text dominant-baseline=\"hanging\" text-anchor=\"middle\" font-family=\"monospace\" font-size=\"10\" stroke=\"red\" x=\"672\" y=\"468\">0.01</text>\n",
       "<rect x=\"656\" y=\"496\" width=\"32\" height=\"32\" stroke=\"black\" fill=\"pink\"/>\n",
       "<text dominant-baseline=\"central\" text-anchor=\"middle\" font-family=\"monospace\" font-size=\"12\" x=\"672\" y=\"512\">DEP<tspan baseline-shift=\"sub\" font-size=\"10\">1</tspan></text>\n",
       "<text dominant-baseline=\"hanging\" text-anchor=\"middle\" font-family=\"monospace\" font-size=\"10\" stroke=\"red\" x=\"672\" y=\"532\">0.01</text>\n",
       "<rect x=\"656\" y=\"48\" width=\"32\" height=\"32\" stroke=\"black\" fill=\"pink\"/>\n",
       "<text dominant-baseline=\"central\" text-anchor=\"middle\" font-family=\"monospace\" font-size=\"12\" x=\"672\" y=\"64\">DEP<tspan baseline-shift=\"sub\" font-size=\"10\">1</tspan></text>\n",
       "<text dominant-baseline=\"hanging\" text-anchor=\"middle\" font-family=\"monospace\" font-size=\"10\" stroke=\"red\" x=\"672\" y=\"84\">0.01</text>\n",
       "<rect x=\"656\" y=\"560\" width=\"32\" height=\"32\" stroke=\"black\" fill=\"pink\"/>\n",
       "<text dominant-baseline=\"central\" text-anchor=\"middle\" font-family=\"monospace\" font-size=\"12\" x=\"672\" y=\"576\">DEP<tspan baseline-shift=\"sub\" font-size=\"10\">1</tspan></text>\n",
       "<text dominant-baseline=\"hanging\" text-anchor=\"middle\" font-family=\"monospace\" font-size=\"10\" stroke=\"red\" x=\"672\" y=\"596\">0.01</text>\n",
       "<path d=\"M580,40 L580,32 L700,32 L700,40 \" stroke=\"black\" fill=\"none\"/>\n",
       "<path d=\"M580,1656 L580,1664 L700,1664 L700,1656 \" stroke=\"black\" fill=\"none\"/>\n",
       "<rect x=\"784\" y=\"1008\" width=\"32\" height=\"32\" stroke=\"black\" fill=\"white\"/>\n",
       "<text dominant-baseline=\"central\" text-anchor=\"middle\" font-family=\"monospace\" font-size=\"30\" x=\"800\" y=\"1024\">H</text>\n",
       "<rect x=\"784\" y=\"1200\" width=\"32\" height=\"32\" stroke=\"black\" fill=\"white\"/>\n",
       "<text dominant-baseline=\"central\" text-anchor=\"middle\" font-family=\"monospace\" font-size=\"30\" x=\"800\" y=\"1216\">H</text>\n",
       "<rect x=\"784\" y=\"880\" width=\"32\" height=\"32\" stroke=\"black\" fill=\"white\"/>\n",
       "<text dominant-baseline=\"central\" text-anchor=\"middle\" font-family=\"monospace\" font-size=\"30\" x=\"800\" y=\"896\">H</text>\n",
       "<rect x=\"784\" y=\"1328\" width=\"32\" height=\"32\" stroke=\"black\" fill=\"white\"/>\n",
       "<text dominant-baseline=\"central\" text-anchor=\"middle\" font-family=\"monospace\" font-size=\"30\" x=\"800\" y=\"1344\">H</text>\n",
       "<rect x=\"784\" y=\"944\" width=\"32\" height=\"32\" stroke=\"black\" fill=\"white\"/>\n",
       "<text dominant-baseline=\"central\" text-anchor=\"middle\" font-family=\"monospace\" font-size=\"30\" x=\"800\" y=\"960\">H</text>\n",
       "<rect x=\"784\" y=\"1264\" width=\"32\" height=\"32\" stroke=\"black\" fill=\"white\"/>\n",
       "<text dominant-baseline=\"central\" text-anchor=\"middle\" font-family=\"monospace\" font-size=\"30\" x=\"800\" y=\"1280\">H</text>\n",
       "<rect x=\"784\" y=\"1456\" width=\"32\" height=\"32\" stroke=\"black\" fill=\"white\"/>\n",
       "<text dominant-baseline=\"central\" text-anchor=\"middle\" font-family=\"monospace\" font-size=\"30\" x=\"800\" y=\"1472\">H</text>\n",
       "<rect x=\"784\" y=\"752\" width=\"32\" height=\"32\" stroke=\"black\" fill=\"white\"/>\n",
       "<text dominant-baseline=\"central\" text-anchor=\"middle\" font-family=\"monospace\" font-size=\"30\" x=\"800\" y=\"768\">H</text>\n",
       "<rect x=\"848\" y=\"1008\" width=\"32\" height=\"32\" stroke=\"black\" fill=\"pink\"/>\n",
       "<text dominant-baseline=\"central\" text-anchor=\"middle\" font-family=\"monospace\" font-size=\"12\" x=\"864\" y=\"1024\">DEP<tspan baseline-shift=\"sub\" font-size=\"10\">1</tspan></text>\n",
       "<text dominant-baseline=\"hanging\" text-anchor=\"middle\" font-family=\"monospace\" font-size=\"10\" stroke=\"red\" x=\"864\" y=\"1044\">0.01</text>\n",
       "<rect x=\"848\" y=\"1200\" width=\"32\" height=\"32\" stroke=\"black\" fill=\"pink\"/>\n",
       "<text dominant-baseline=\"central\" text-anchor=\"middle\" font-family=\"monospace\" font-size=\"12\" x=\"864\" y=\"1216\">DEP<tspan baseline-shift=\"sub\" font-size=\"10\">1</tspan></text>\n",
       "<text dominant-baseline=\"hanging\" text-anchor=\"middle\" font-family=\"monospace\" font-size=\"10\" stroke=\"red\" x=\"864\" y=\"1236\">0.01</text>\n",
       "<rect x=\"848\" y=\"880\" width=\"32\" height=\"32\" stroke=\"black\" fill=\"pink\"/>\n",
       "<text dominant-baseline=\"central\" text-anchor=\"middle\" font-family=\"monospace\" font-size=\"12\" x=\"864\" y=\"896\">DEP<tspan baseline-shift=\"sub\" font-size=\"10\">1</tspan></text>\n",
       "<text dominant-baseline=\"hanging\" text-anchor=\"middle\" font-family=\"monospace\" font-size=\"10\" stroke=\"red\" x=\"864\" y=\"916\">0.01</text>\n",
       "<rect x=\"848\" y=\"1328\" width=\"32\" height=\"32\" stroke=\"black\" fill=\"pink\"/>\n",
       "<text dominant-baseline=\"central\" text-anchor=\"middle\" font-family=\"monospace\" font-size=\"12\" x=\"864\" y=\"1344\">DEP<tspan baseline-shift=\"sub\" font-size=\"10\">1</tspan></text>\n",
       "<text dominant-baseline=\"hanging\" text-anchor=\"middle\" font-family=\"monospace\" font-size=\"10\" stroke=\"red\" x=\"864\" y=\"1364\">0.01</text>\n",
       "<rect x=\"848\" y=\"944\" width=\"32\" height=\"32\" stroke=\"black\" fill=\"pink\"/>\n",
       "<text dominant-baseline=\"central\" text-anchor=\"middle\" font-family=\"monospace\" font-size=\"12\" x=\"864\" y=\"960\">DEP<tspan baseline-shift=\"sub\" font-size=\"10\">1</tspan></text>\n",
       "<text dominant-baseline=\"hanging\" text-anchor=\"middle\" font-family=\"monospace\" font-size=\"10\" stroke=\"red\" x=\"864\" y=\"980\">0.01</text>\n",
       "<rect x=\"848\" y=\"1264\" width=\"32\" height=\"32\" stroke=\"black\" fill=\"pink\"/>\n",
       "<text dominant-baseline=\"central\" text-anchor=\"middle\" font-family=\"monospace\" font-size=\"12\" x=\"864\" y=\"1280\">DEP<tspan baseline-shift=\"sub\" font-size=\"10\">1</tspan></text>\n",
       "<text dominant-baseline=\"hanging\" text-anchor=\"middle\" font-family=\"monospace\" font-size=\"10\" stroke=\"red\" x=\"864\" y=\"1300\">0.01</text>\n",
       "<rect x=\"848\" y=\"1456\" width=\"32\" height=\"32\" stroke=\"black\" fill=\"pink\"/>\n",
       "<text dominant-baseline=\"central\" text-anchor=\"middle\" font-family=\"monospace\" font-size=\"12\" x=\"864\" y=\"1472\">DEP<tspan baseline-shift=\"sub\" font-size=\"10\">1</tspan></text>\n",
       "<text dominant-baseline=\"hanging\" text-anchor=\"middle\" font-family=\"monospace\" font-size=\"10\" stroke=\"red\" x=\"864\" y=\"1492\">0.01</text>\n",
       "<rect x=\"848\" y=\"752\" width=\"32\" height=\"32\" stroke=\"black\" fill=\"pink\"/>\n",
       "<text dominant-baseline=\"central\" text-anchor=\"middle\" font-family=\"monospace\" font-size=\"12\" x=\"864\" y=\"768\">DEP<tspan baseline-shift=\"sub\" font-size=\"10\">1</tspan></text>\n",
       "<text dominant-baseline=\"hanging\" text-anchor=\"middle\" font-family=\"monospace\" font-size=\"10\" stroke=\"red\" x=\"864\" y=\"788\">0.01</text>\n",
       "<path d=\"M772,40 L772,32 L892,32 L892,40 \" stroke=\"black\" fill=\"none\"/>\n",
       "<path d=\"M772,1656 L772,1664 L892,1664 L892,1656 \" stroke=\"black\" fill=\"none\"/>\n",
       "<path d=\"M928,128 L928,1024 \" stroke=\"black\"/>\n",
       "<circle cx=\"928\" cy=\"1024\" r=\"12\" stroke=\"none\" fill=\"black\"/>\n",
       "<circle cx=\"928\" cy=\"128\" r=\"12\" stroke=\"black\" fill=\"white\"/>\n",
       "<path d=\"M916,128 L940,128 M928,116 L928,140 \" stroke=\"black\"/>\n",
       "<path d=\"M992,128 L992,1024 \" stroke=\"black\"/>\n",
       "<rect x=\"976\" y=\"1008\" width=\"32\" height=\"32\" stroke=\"black\" fill=\"pink\"/>\n",
       "<text dominant-baseline=\"central\" text-anchor=\"middle\" font-family=\"monospace\" font-size=\"12\" x=\"992\" y=\"1024\">DEP<tspan baseline-shift=\"sub\" font-size=\"10\">2</tspan></text>\n",
       "<text dominant-baseline=\"hanging\" text-anchor=\"middle\" font-family=\"monospace\" font-size=\"10\" stroke=\"red\" x=\"992\" y=\"1044\">0.01</text>\n",
       "<rect x=\"976\" y=\"112\" width=\"32\" height=\"32\" stroke=\"black\" fill=\"pink\"/>\n",
       "<text dominant-baseline=\"central\" text-anchor=\"middle\" font-family=\"monospace\" font-size=\"12\" x=\"992\" y=\"128\">DEP<tspan baseline-shift=\"sub\" font-size=\"10\">2</tspan></text>\n",
       "<path d=\"M1056,256 L1056,1216 \" stroke=\"black\"/>\n",
       "<circle cx=\"1056\" cy=\"1216\" r=\"12\" stroke=\"none\" fill=\"black\"/>\n",
       "<circle cx=\"1056\" cy=\"256\" r=\"12\" stroke=\"black\" fill=\"white\"/>\n",
       "<path d=\"M1044,256 L1068,256 M1056,244 L1056,268 \" stroke=\"black\"/>\n",
       "<path d=\"M1120,256 L1120,1216 \" stroke=\"black\"/>\n",
       "<rect x=\"1104\" y=\"1200\" width=\"32\" height=\"32\" stroke=\"black\" fill=\"pink\"/>\n",
       "<text dominant-baseline=\"central\" text-anchor=\"middle\" font-family=\"monospace\" font-size=\"12\" x=\"1120\" y=\"1216\">DEP<tspan baseline-shift=\"sub\" font-size=\"10\">2</tspan></text>\n",
       "<text dominant-baseline=\"hanging\" text-anchor=\"middle\" font-family=\"monospace\" font-size=\"10\" stroke=\"red\" x=\"1120\" y=\"1236\">0.01</text>\n",
       "<rect x=\"1104\" y=\"240\" width=\"32\" height=\"32\" stroke=\"black\" fill=\"pink\"/>\n",
       "<text dominant-baseline=\"central\" text-anchor=\"middle\" font-family=\"monospace\" font-size=\"12\" x=\"1120\" y=\"256\">DEP<tspan baseline-shift=\"sub\" font-size=\"10\">2</tspan></text>\n",
       "<path d=\"M1184,64 L1184,896 \" stroke=\"black\"/>\n",
       "<circle cx=\"1184\" cy=\"896\" r=\"12\" stroke=\"none\" fill=\"black\"/>\n",
       "<circle cx=\"1184\" cy=\"64\" r=\"12\" stroke=\"black\" fill=\"white\"/>\n",
       "<path d=\"M1172,64 L1196,64 M1184,52 L1184,76 \" stroke=\"black\"/>\n",
       "<path d=\"M1248,64 L1248,896 \" stroke=\"black\"/>\n",
       "<rect x=\"1232\" y=\"880\" width=\"32\" height=\"32\" stroke=\"black\" fill=\"pink\"/>\n",
       "<text dominant-baseline=\"central\" text-anchor=\"middle\" font-family=\"monospace\" font-size=\"12\" x=\"1248\" y=\"896\">DEP<tspan baseline-shift=\"sub\" font-size=\"10\">2</tspan></text>\n",
       "<text dominant-baseline=\"hanging\" text-anchor=\"middle\" font-family=\"monospace\" font-size=\"10\" stroke=\"red\" x=\"1248\" y=\"916\">0.01</text>\n",
       "<rect x=\"1232\" y=\"48\" width=\"32\" height=\"32\" stroke=\"black\" fill=\"pink\"/>\n",
       "<text dominant-baseline=\"central\" text-anchor=\"middle\" font-family=\"monospace\" font-size=\"12\" x=\"1248\" y=\"64\">DEP<tspan baseline-shift=\"sub\" font-size=\"10\">2</tspan></text>\n",
       "<path d=\"M1312,384 L1312,1344 \" stroke=\"black\"/>\n",
       "<circle cx=\"1312\" cy=\"1344\" r=\"12\" stroke=\"none\" fill=\"black\"/>\n",
       "<circle cx=\"1312\" cy=\"384\" r=\"12\" stroke=\"black\" fill=\"white\"/>\n",
       "<path d=\"M1300,384 L1324,384 M1312,372 L1312,396 \" stroke=\"black\"/>\n",
       "<path d=\"M1376,384 L1376,1344 \" stroke=\"black\"/>\n",
       "<rect x=\"1360\" y=\"1328\" width=\"32\" height=\"32\" stroke=\"black\" fill=\"pink\"/>\n",
       "<text dominant-baseline=\"central\" text-anchor=\"middle\" font-family=\"monospace\" font-size=\"12\" x=\"1376\" y=\"1344\">DEP<tspan baseline-shift=\"sub\" font-size=\"10\">2</tspan></text>\n",
       "<text dominant-baseline=\"hanging\" text-anchor=\"middle\" font-family=\"monospace\" font-size=\"10\" stroke=\"red\" x=\"1376\" y=\"1364\">0.01</text>\n",
       "<rect x=\"1360\" y=\"368\" width=\"32\" height=\"32\" stroke=\"black\" fill=\"pink\"/>\n",
       "<text dominant-baseline=\"central\" text-anchor=\"middle\" font-family=\"monospace\" font-size=\"12\" x=\"1376\" y=\"384\">DEP<tspan baseline-shift=\"sub\" font-size=\"10\">2</tspan></text>\n",
       "<path d=\"M1440,64 L1440,960 \" stroke=\"black\"/>\n",
       "<circle cx=\"1440\" cy=\"960\" r=\"12\" stroke=\"none\" fill=\"black\"/>\n",
       "<circle cx=\"1440\" cy=\"64\" r=\"12\" stroke=\"none\" fill=\"black\"/>\n",
       "<path d=\"M1504,64 L1504,960 \" stroke=\"black\"/>\n",
       "<rect x=\"1488\" y=\"944\" width=\"32\" height=\"32\" stroke=\"black\" fill=\"pink\"/>\n",
       "<text dominant-baseline=\"central\" text-anchor=\"middle\" font-family=\"monospace\" font-size=\"12\" x=\"1504\" y=\"960\">DEP<tspan baseline-shift=\"sub\" font-size=\"10\">2</tspan></text>\n",
       "<text dominant-baseline=\"hanging\" text-anchor=\"middle\" font-family=\"monospace\" font-size=\"10\" stroke=\"red\" x=\"1504\" y=\"980\">0.01</text>\n",
       "<rect x=\"1488\" y=\"48\" width=\"32\" height=\"32\" stroke=\"black\" fill=\"pink\"/>\n",
       "<text dominant-baseline=\"central\" text-anchor=\"middle\" font-family=\"monospace\" font-size=\"12\" x=\"1504\" y=\"64\">DEP<tspan baseline-shift=\"sub\" font-size=\"10\">2</tspan></text>\n",
       "<path d=\"M1568,320 L1568,1280 \" stroke=\"black\"/>\n",
       "<circle cx=\"1568\" cy=\"1280\" r=\"12\" stroke=\"none\" fill=\"black\"/>\n",
       "<circle cx=\"1568\" cy=\"320\" r=\"12\" stroke=\"none\" fill=\"black\"/>\n",
       "<path d=\"M1632,320 L1632,1280 \" stroke=\"black\"/>\n",
       "<rect x=\"1616\" y=\"1264\" width=\"32\" height=\"32\" stroke=\"black\" fill=\"pink\"/>\n",
       "<text dominant-baseline=\"central\" text-anchor=\"middle\" font-family=\"monospace\" font-size=\"12\" x=\"1632\" y=\"1280\">DEP<tspan baseline-shift=\"sub\" font-size=\"10\">2</tspan></text>\n",
       "<text dominant-baseline=\"hanging\" text-anchor=\"middle\" font-family=\"monospace\" font-size=\"10\" stroke=\"red\" x=\"1632\" y=\"1300\">0.01</text>\n",
       "<rect x=\"1616\" y=\"304\" width=\"32\" height=\"32\" stroke=\"black\" fill=\"pink\"/>\n",
       "<text dominant-baseline=\"central\" text-anchor=\"middle\" font-family=\"monospace\" font-size=\"12\" x=\"1632\" y=\"320\">DEP<tspan baseline-shift=\"sub\" font-size=\"10\">2</tspan></text>\n",
       "<path d=\"M1696,448 L1696,1472 \" stroke=\"black\"/>\n",
       "<circle cx=\"1696\" cy=\"1472\" r=\"12\" stroke=\"none\" fill=\"black\"/>\n",
       "<circle cx=\"1696\" cy=\"448\" r=\"12\" stroke=\"none\" fill=\"black\"/>\n",
       "<path d=\"M1760,448 L1760,1472 \" stroke=\"black\"/>\n",
       "<rect x=\"1744\" y=\"1456\" width=\"32\" height=\"32\" stroke=\"black\" fill=\"pink\"/>\n",
       "<text dominant-baseline=\"central\" text-anchor=\"middle\" font-family=\"monospace\" font-size=\"12\" x=\"1760\" y=\"1472\">DEP<tspan baseline-shift=\"sub\" font-size=\"10\">2</tspan></text>\n",
       "<text dominant-baseline=\"hanging\" text-anchor=\"middle\" font-family=\"monospace\" font-size=\"10\" stroke=\"red\" x=\"1760\" y=\"1492\">0.01</text>\n",
       "<rect x=\"1744\" y=\"432\" width=\"32\" height=\"32\" stroke=\"black\" fill=\"pink\"/>\n",
       "<text dominant-baseline=\"central\" text-anchor=\"middle\" font-family=\"monospace\" font-size=\"12\" x=\"1760\" y=\"448\">DEP<tspan baseline-shift=\"sub\" font-size=\"10\">2</tspan></text>\n",
       "<path d=\"M1824,128 L1824,768 \" stroke=\"black\"/>\n",
       "<circle cx=\"1824\" cy=\"768\" r=\"12\" stroke=\"none\" fill=\"black\"/>\n",
       "<circle cx=\"1824\" cy=\"128\" r=\"12\" stroke=\"none\" fill=\"black\"/>\n",
       "<path d=\"M1888,128 L1888,768 \" stroke=\"black\"/>\n",
       "<rect x=\"1872\" y=\"752\" width=\"32\" height=\"32\" stroke=\"black\" fill=\"pink\"/>\n",
       "<text dominant-baseline=\"central\" text-anchor=\"middle\" font-family=\"monospace\" font-size=\"12\" x=\"1888\" y=\"768\">DEP<tspan baseline-shift=\"sub\" font-size=\"10\">2</tspan></text>\n",
       "<text dominant-baseline=\"hanging\" text-anchor=\"middle\" font-family=\"monospace\" font-size=\"10\" stroke=\"red\" x=\"1888\" y=\"788\">0.01</text>\n",
       "<rect x=\"1872\" y=\"112\" width=\"32\" height=\"32\" stroke=\"black\" fill=\"pink\"/>\n",
       "<text dominant-baseline=\"central\" text-anchor=\"middle\" font-family=\"monospace\" font-size=\"12\" x=\"1888\" y=\"128\">DEP<tspan baseline-shift=\"sub\" font-size=\"10\">2</tspan></text>\n",
       "<path d=\"M900,40 L900,32 L1916,32 L1916,40 \" stroke=\"black\" fill=\"none\"/>\n",
       "<path d=\"M900,1656 L900,1664 L1916,1664 L1916,1656 \" stroke=\"black\" fill=\"none\"/>\n",
       "<path d=\"M1952,192 L1952,1024 \" stroke=\"black\"/>\n",
       "<circle cx=\"1952\" cy=\"1024\" r=\"12\" stroke=\"none\" fill=\"black\"/>\n",
       "<circle cx=\"1952\" cy=\"192\" r=\"12\" stroke=\"black\" fill=\"white\"/>\n",
       "<path d=\"M1940,192 L1964,192 M1952,180 L1952,204 \" stroke=\"black\"/>\n",
       "<path d=\"M2016,192 L2016,1024 \" stroke=\"black\"/>\n",
       "<rect x=\"2000\" y=\"1008\" width=\"32\" height=\"32\" stroke=\"black\" fill=\"pink\"/>\n",
       "<text dominant-baseline=\"central\" text-anchor=\"middle\" font-family=\"monospace\" font-size=\"12\" x=\"2016\" y=\"1024\">DEP<tspan baseline-shift=\"sub\" font-size=\"10\">2</tspan></text>\n",
       "<text dominant-baseline=\"hanging\" text-anchor=\"middle\" font-family=\"monospace\" font-size=\"10\" stroke=\"red\" x=\"2016\" y=\"1044\">0.01</text>\n",
       "<rect x=\"2000\" y=\"176\" width=\"32\" height=\"32\" stroke=\"black\" fill=\"pink\"/>\n",
       "<text dominant-baseline=\"central\" text-anchor=\"middle\" font-family=\"monospace\" font-size=\"12\" x=\"2016\" y=\"192\">DEP<tspan baseline-shift=\"sub\" font-size=\"10\">2</tspan></text>\n",
       "<path d=\"M2080,320 L2080,1216 \" stroke=\"black\"/>\n",
       "<circle cx=\"2080\" cy=\"1216\" r=\"12\" stroke=\"none\" fill=\"black\"/>\n",
       "<circle cx=\"2080\" cy=\"320\" r=\"12\" stroke=\"black\" fill=\"white\"/>\n",
       "<path d=\"M2068,320 L2092,320 M2080,308 L2080,332 \" stroke=\"black\"/>\n",
       "<path d=\"M2144,320 L2144,1216 \" stroke=\"black\"/>\n",
       "<rect x=\"2128\" y=\"1200\" width=\"32\" height=\"32\" stroke=\"black\" fill=\"pink\"/>\n",
       "<text dominant-baseline=\"central\" text-anchor=\"middle\" font-family=\"monospace\" font-size=\"12\" x=\"2144\" y=\"1216\">DEP<tspan baseline-shift=\"sub\" font-size=\"10\">2</tspan></text>\n",
       "<text dominant-baseline=\"hanging\" text-anchor=\"middle\" font-family=\"monospace\" font-size=\"10\" stroke=\"red\" x=\"2144\" y=\"1236\">0.01</text>\n",
       "<rect x=\"2128\" y=\"304\" width=\"32\" height=\"32\" stroke=\"black\" fill=\"pink\"/>\n",
       "<text dominant-baseline=\"central\" text-anchor=\"middle\" font-family=\"monospace\" font-size=\"12\" x=\"2144\" y=\"320\">DEP<tspan baseline-shift=\"sub\" font-size=\"10\">2</tspan></text>\n",
       "<path d=\"M2208,256 L2208,896 \" stroke=\"black\"/>\n",
       "<circle cx=\"2208\" cy=\"896\" r=\"12\" stroke=\"none\" fill=\"black\"/>\n",
       "<circle cx=\"2208\" cy=\"256\" r=\"12\" stroke=\"black\" fill=\"white\"/>\n",
       "<path d=\"M2196,256 L2220,256 M2208,244 L2208,268 \" stroke=\"black\"/>\n",
       "<path d=\"M2272,256 L2272,896 \" stroke=\"black\"/>\n",
       "<rect x=\"2256\" y=\"880\" width=\"32\" height=\"32\" stroke=\"black\" fill=\"pink\"/>\n",
       "<text dominant-baseline=\"central\" text-anchor=\"middle\" font-family=\"monospace\" font-size=\"12\" x=\"2272\" y=\"896\">DEP<tspan baseline-shift=\"sub\" font-size=\"10\">2</tspan></text>\n",
       "<text dominant-baseline=\"hanging\" text-anchor=\"middle\" font-family=\"monospace\" font-size=\"10\" stroke=\"red\" x=\"2272\" y=\"916\">0.01</text>\n",
       "<rect x=\"2256\" y=\"240\" width=\"32\" height=\"32\" stroke=\"black\" fill=\"pink\"/>\n",
       "<text dominant-baseline=\"central\" text-anchor=\"middle\" font-family=\"monospace\" font-size=\"12\" x=\"2272\" y=\"256\">DEP<tspan baseline-shift=\"sub\" font-size=\"10\">2</tspan></text>\n",
       "<path d=\"M2336,576 L2336,1344 \" stroke=\"black\"/>\n",
       "<circle cx=\"2336\" cy=\"1344\" r=\"12\" stroke=\"none\" fill=\"black\"/>\n",
       "<circle cx=\"2336\" cy=\"576\" r=\"12\" stroke=\"black\" fill=\"white\"/>\n",
       "<path d=\"M2324,576 L2348,576 M2336,564 L2336,588 \" stroke=\"black\"/>\n",
       "<path d=\"M2400,576 L2400,1344 \" stroke=\"black\"/>\n",
       "<rect x=\"2384\" y=\"1328\" width=\"32\" height=\"32\" stroke=\"black\" fill=\"pink\"/>\n",
       "<text dominant-baseline=\"central\" text-anchor=\"middle\" font-family=\"monospace\" font-size=\"12\" x=\"2400\" y=\"1344\">DEP<tspan baseline-shift=\"sub\" font-size=\"10\">2</tspan></text>\n",
       "<text dominant-baseline=\"hanging\" text-anchor=\"middle\" font-family=\"monospace\" font-size=\"10\" stroke=\"red\" x=\"2400\" y=\"1364\">0.01</text>\n",
       "<rect x=\"2384\" y=\"560\" width=\"32\" height=\"32\" stroke=\"black\" fill=\"pink\"/>\n",
       "<text dominant-baseline=\"central\" text-anchor=\"middle\" font-family=\"monospace\" font-size=\"12\" x=\"2400\" y=\"576\">DEP<tspan baseline-shift=\"sub\" font-size=\"10\">2</tspan></text>\n",
       "<path d=\"M2464,128 L2464,960 \" stroke=\"black\"/>\n",
       "<circle cx=\"2464\" cy=\"960\" r=\"12\" stroke=\"none\" fill=\"black\"/>\n",
       "<circle cx=\"2464\" cy=\"128\" r=\"12\" stroke=\"none\" fill=\"black\"/>\n",
       "<path d=\"M2528,128 L2528,960 \" stroke=\"black\"/>\n",
       "<rect x=\"2512\" y=\"944\" width=\"32\" height=\"32\" stroke=\"black\" fill=\"pink\"/>\n",
       "<text dominant-baseline=\"central\" text-anchor=\"middle\" font-family=\"monospace\" font-size=\"12\" x=\"2528\" y=\"960\">DEP<tspan baseline-shift=\"sub\" font-size=\"10\">2</tspan></text>\n",
       "<text dominant-baseline=\"hanging\" text-anchor=\"middle\" font-family=\"monospace\" font-size=\"10\" stroke=\"red\" x=\"2528\" y=\"980\">0.01</text>\n",
       "<rect x=\"2512\" y=\"112\" width=\"32\" height=\"32\" stroke=\"black\" fill=\"pink\"/>\n",
       "<text dominant-baseline=\"central\" text-anchor=\"middle\" font-family=\"monospace\" font-size=\"12\" x=\"2528\" y=\"128\">DEP<tspan baseline-shift=\"sub\" font-size=\"10\">2</tspan></text>\n",
       "<path d=\"M2592,384 L2592,1280 \" stroke=\"black\"/>\n",
       "<circle cx=\"2592\" cy=\"1280\" r=\"12\" stroke=\"none\" fill=\"black\"/>\n",
       "<circle cx=\"2592\" cy=\"384\" r=\"12\" stroke=\"none\" fill=\"black\"/>\n",
       "<path d=\"M2656,384 L2656,1280 \" stroke=\"black\"/>\n",
       "<rect x=\"2640\" y=\"1264\" width=\"32\" height=\"32\" stroke=\"black\" fill=\"pink\"/>\n",
       "<text dominant-baseline=\"central\" text-anchor=\"middle\" font-family=\"monospace\" font-size=\"12\" x=\"2656\" y=\"1280\">DEP<tspan baseline-shift=\"sub\" font-size=\"10\">2</tspan></text>\n",
       "<text dominant-baseline=\"hanging\" text-anchor=\"middle\" font-family=\"monospace\" font-size=\"10\" stroke=\"red\" x=\"2656\" y=\"1300\">0.01</text>\n",
       "<rect x=\"2640\" y=\"368\" width=\"32\" height=\"32\" stroke=\"black\" fill=\"pink\"/>\n",
       "<text dominant-baseline=\"central\" text-anchor=\"middle\" font-family=\"monospace\" font-size=\"12\" x=\"2656\" y=\"384\">DEP<tspan baseline-shift=\"sub\" font-size=\"10\">2</tspan></text>\n",
       "<path d=\"M2720,512 L2720,1472 \" stroke=\"black\"/>\n",
       "<circle cx=\"2720\" cy=\"1472\" r=\"12\" stroke=\"none\" fill=\"black\"/>\n",
       "<circle cx=\"2720\" cy=\"512\" r=\"12\" stroke=\"none\" fill=\"black\"/>\n",
       "<path d=\"M2784,512 L2784,1472 \" stroke=\"black\"/>\n",
       "<rect x=\"2768\" y=\"1456\" width=\"32\" height=\"32\" stroke=\"black\" fill=\"pink\"/>\n",
       "<text dominant-baseline=\"central\" text-anchor=\"middle\" font-family=\"monospace\" font-size=\"12\" x=\"2784\" y=\"1472\">DEP<tspan baseline-shift=\"sub\" font-size=\"10\">2</tspan></text>\n",
       "<text dominant-baseline=\"hanging\" text-anchor=\"middle\" font-family=\"monospace\" font-size=\"10\" stroke=\"red\" x=\"2784\" y=\"1492\">0.01</text>\n",
       "<rect x=\"2768\" y=\"496\" width=\"32\" height=\"32\" stroke=\"black\" fill=\"pink\"/>\n",
       "<text dominant-baseline=\"central\" text-anchor=\"middle\" font-family=\"monospace\" font-size=\"12\" x=\"2784\" y=\"512\">DEP<tspan baseline-shift=\"sub\" font-size=\"10\">2</tspan></text>\n",
       "<path d=\"M2848,192 L2848,768 \" stroke=\"black\"/>\n",
       "<circle cx=\"2848\" cy=\"768\" r=\"12\" stroke=\"none\" fill=\"black\"/>\n",
       "<circle cx=\"2848\" cy=\"192\" r=\"12\" stroke=\"none\" fill=\"black\"/>\n",
       "<path d=\"M2912,192 L2912,768 \" stroke=\"black\"/>\n",
       "<rect x=\"2896\" y=\"752\" width=\"32\" height=\"32\" stroke=\"black\" fill=\"pink\"/>\n",
       "<text dominant-baseline=\"central\" text-anchor=\"middle\" font-family=\"monospace\" font-size=\"12\" x=\"2912\" y=\"768\">DEP<tspan baseline-shift=\"sub\" font-size=\"10\">2</tspan></text>\n",
       "<text dominant-baseline=\"hanging\" text-anchor=\"middle\" font-family=\"monospace\" font-size=\"10\" stroke=\"red\" x=\"2912\" y=\"788\">0.01</text>\n",
       "<rect x=\"2896\" y=\"176\" width=\"32\" height=\"32\" stroke=\"black\" fill=\"pink\"/>\n",
       "<text dominant-baseline=\"central\" text-anchor=\"middle\" font-family=\"monospace\" font-size=\"12\" x=\"2912\" y=\"192\">DEP<tspan baseline-shift=\"sub\" font-size=\"10\">2</tspan></text>\n",
       "<path d=\"M1924,40 L1924,32 L2940,32 L2940,40 \" stroke=\"black\" fill=\"none\"/>\n",
       "<path d=\"M1924,1656 L1924,1664 L2940,1664 L2940,1656 \" stroke=\"black\" fill=\"none\"/>\n",
       "<path d=\"M2976,320 L2976,1024 \" stroke=\"black\"/>\n",
       "<circle cx=\"2976\" cy=\"1024\" r=\"12\" stroke=\"none\" fill=\"black\"/>\n",
       "<circle cx=\"2976\" cy=\"320\" r=\"12\" stroke=\"black\" fill=\"white\"/>\n",
       "<path d=\"M2964,320 L2988,320 M2976,308 L2976,332 \" stroke=\"black\"/>\n",
       "<path d=\"M3040,320 L3040,1024 \" stroke=\"black\"/>\n",
       "<rect x=\"3024\" y=\"1008\" width=\"32\" height=\"32\" stroke=\"black\" fill=\"pink\"/>\n",
       "<text dominant-baseline=\"central\" text-anchor=\"middle\" font-family=\"monospace\" font-size=\"12\" x=\"3040\" y=\"1024\">DEP<tspan baseline-shift=\"sub\" font-size=\"10\">2</tspan></text>\n",
       "<text dominant-baseline=\"hanging\" text-anchor=\"middle\" font-family=\"monospace\" font-size=\"10\" stroke=\"red\" x=\"3040\" y=\"1044\">0.01</text>\n",
       "<rect x=\"3024\" y=\"304\" width=\"32\" height=\"32\" stroke=\"black\" fill=\"pink\"/>\n",
       "<text dominant-baseline=\"central\" text-anchor=\"middle\" font-family=\"monospace\" font-size=\"12\" x=\"3040\" y=\"320\">DEP<tspan baseline-shift=\"sub\" font-size=\"10\">2</tspan></text>\n",
       "<path d=\"M3104,448 L3104,1216 \" stroke=\"black\"/>\n",
       "<circle cx=\"3104\" cy=\"1216\" r=\"12\" stroke=\"none\" fill=\"black\"/>\n",
       "<circle cx=\"3104\" cy=\"448\" r=\"12\" stroke=\"black\" fill=\"white\"/>\n",
       "<path d=\"M3092,448 L3116,448 M3104,436 L3104,460 \" stroke=\"black\"/>\n",
       "<path d=\"M3168,448 L3168,1216 \" stroke=\"black\"/>\n",
       "<rect x=\"3152\" y=\"1200\" width=\"32\" height=\"32\" stroke=\"black\" fill=\"pink\"/>\n",
       "<text dominant-baseline=\"central\" text-anchor=\"middle\" font-family=\"monospace\" font-size=\"12\" x=\"3168\" y=\"1216\">DEP<tspan baseline-shift=\"sub\" font-size=\"10\">2</tspan></text>\n",
       "<text dominant-baseline=\"hanging\" text-anchor=\"middle\" font-family=\"monospace\" font-size=\"10\" stroke=\"red\" x=\"3168\" y=\"1236\">0.01</text>\n",
       "<rect x=\"3152\" y=\"432\" width=\"32\" height=\"32\" stroke=\"black\" fill=\"pink\"/>\n",
       "<text dominant-baseline=\"central\" text-anchor=\"middle\" font-family=\"monospace\" font-size=\"12\" x=\"3168\" y=\"448\">DEP<tspan baseline-shift=\"sub\" font-size=\"10\">2</tspan></text>\n",
       "<path d=\"M3232,256 L3232,960 \" stroke=\"black\"/>\n",
       "<circle cx=\"3232\" cy=\"960\" r=\"12\" stroke=\"none\" fill=\"black\"/>\n",
       "<circle cx=\"3232\" cy=\"256\" r=\"12\" stroke=\"none\" fill=\"black\"/>\n",
       "<path d=\"M3296,256 L3296,960 \" stroke=\"black\"/>\n",
       "<rect x=\"3280\" y=\"944\" width=\"32\" height=\"32\" stroke=\"black\" fill=\"pink\"/>\n",
       "<text dominant-baseline=\"central\" text-anchor=\"middle\" font-family=\"monospace\" font-size=\"12\" x=\"3296\" y=\"960\">DEP<tspan baseline-shift=\"sub\" font-size=\"10\">2</tspan></text>\n",
       "<text dominant-baseline=\"hanging\" text-anchor=\"middle\" font-family=\"monospace\" font-size=\"10\" stroke=\"red\" x=\"3296\" y=\"980\">0.01</text>\n",
       "<rect x=\"3280\" y=\"240\" width=\"32\" height=\"32\" stroke=\"black\" fill=\"pink\"/>\n",
       "<text dominant-baseline=\"central\" text-anchor=\"middle\" font-family=\"monospace\" font-size=\"12\" x=\"3296\" y=\"256\">DEP<tspan baseline-shift=\"sub\" font-size=\"10\">2</tspan></text>\n",
       "<path d=\"M3360,512 L3360,1280 \" stroke=\"black\"/>\n",
       "<circle cx=\"3360\" cy=\"1280\" r=\"12\" stroke=\"none\" fill=\"black\"/>\n",
       "<circle cx=\"3360\" cy=\"512\" r=\"12\" stroke=\"none\" fill=\"black\"/>\n",
       "<path d=\"M3424,512 L3424,1280 \" stroke=\"black\"/>\n",
       "<rect x=\"3408\" y=\"1264\" width=\"32\" height=\"32\" stroke=\"black\" fill=\"pink\"/>\n",
       "<text dominant-baseline=\"central\" text-anchor=\"middle\" font-family=\"monospace\" font-size=\"12\" x=\"3424\" y=\"1280\">DEP<tspan baseline-shift=\"sub\" font-size=\"10\">2</tspan></text>\n",
       "<text dominant-baseline=\"hanging\" text-anchor=\"middle\" font-family=\"monospace\" font-size=\"10\" stroke=\"red\" x=\"3424\" y=\"1300\">0.01</text>\n",
       "<rect x=\"3408\" y=\"496\" width=\"32\" height=\"32\" stroke=\"black\" fill=\"pink\"/>\n",
       "<text dominant-baseline=\"central\" text-anchor=\"middle\" font-family=\"monospace\" font-size=\"12\" x=\"3424\" y=\"512\">DEP<tspan baseline-shift=\"sub\" font-size=\"10\">2</tspan></text>\n",
       "<path d=\"M2948,40 L2948,32 L3452,32 L3452,40 \" stroke=\"black\" fill=\"none\"/>\n",
       "<path d=\"M2948,1656 L2948,1664 L3452,1664 L3452,1656 \" stroke=\"black\" fill=\"none\"/>\n",
       "<path d=\"M3488,384 L3488,1024 \" stroke=\"black\"/>\n",
       "<circle cx=\"3488\" cy=\"1024\" r=\"12\" stroke=\"none\" fill=\"black\"/>\n",
       "<circle cx=\"3488\" cy=\"384\" r=\"12\" stroke=\"black\" fill=\"white\"/>\n",
       "<path d=\"M3476,384 L3500,384 M3488,372 L3488,396 \" stroke=\"black\"/>\n",
       "<path d=\"M3552,384 L3552,1024 \" stroke=\"black\"/>\n",
       "<rect x=\"3536\" y=\"1008\" width=\"32\" height=\"32\" stroke=\"black\" fill=\"pink\"/>\n",
       "<text dominant-baseline=\"central\" text-anchor=\"middle\" font-family=\"monospace\" font-size=\"12\" x=\"3552\" y=\"1024\">DEP<tspan baseline-shift=\"sub\" font-size=\"10\">2</tspan></text>\n",
       "<text dominant-baseline=\"hanging\" text-anchor=\"middle\" font-family=\"monospace\" font-size=\"10\" stroke=\"red\" x=\"3552\" y=\"1044\">0.01</text>\n",
       "<rect x=\"3536\" y=\"368\" width=\"32\" height=\"32\" stroke=\"black\" fill=\"pink\"/>\n",
       "<text dominant-baseline=\"central\" text-anchor=\"middle\" font-family=\"monospace\" font-size=\"12\" x=\"3552\" y=\"384\">DEP<tspan baseline-shift=\"sub\" font-size=\"10\">2</tspan></text>\n",
       "<path d=\"M3616,512 L3616,1216 \" stroke=\"black\"/>\n",
       "<circle cx=\"3616\" cy=\"1216\" r=\"12\" stroke=\"none\" fill=\"black\"/>\n",
       "<circle cx=\"3616\" cy=\"512\" r=\"12\" stroke=\"black\" fill=\"white\"/>\n",
       "<path d=\"M3604,512 L3628,512 M3616,500 L3616,524 \" stroke=\"black\"/>\n",
       "<path d=\"M3680,512 L3680,1216 \" stroke=\"black\"/>\n",
       "<rect x=\"3664\" y=\"1200\" width=\"32\" height=\"32\" stroke=\"black\" fill=\"pink\"/>\n",
       "<text dominant-baseline=\"central\" text-anchor=\"middle\" font-family=\"monospace\" font-size=\"12\" x=\"3680\" y=\"1216\">DEP<tspan baseline-shift=\"sub\" font-size=\"10\">2</tspan></text>\n",
       "<text dominant-baseline=\"hanging\" text-anchor=\"middle\" font-family=\"monospace\" font-size=\"10\" stroke=\"red\" x=\"3680\" y=\"1236\">0.01</text>\n",
       "<rect x=\"3664\" y=\"496\" width=\"32\" height=\"32\" stroke=\"black\" fill=\"pink\"/>\n",
       "<text dominant-baseline=\"central\" text-anchor=\"middle\" font-family=\"monospace\" font-size=\"12\" x=\"3680\" y=\"512\">DEP<tspan baseline-shift=\"sub\" font-size=\"10\">2</tspan></text>\n",
       "<path d=\"M3744,320 L3744,960 \" stroke=\"black\"/>\n",
       "<circle cx=\"3744\" cy=\"960\" r=\"12\" stroke=\"none\" fill=\"black\"/>\n",
       "<circle cx=\"3744\" cy=\"320\" r=\"12\" stroke=\"none\" fill=\"black\"/>\n",
       "<path d=\"M3808,320 L3808,960 \" stroke=\"black\"/>\n",
       "<rect x=\"3792\" y=\"944\" width=\"32\" height=\"32\" stroke=\"black\" fill=\"pink\"/>\n",
       "<text dominant-baseline=\"central\" text-anchor=\"middle\" font-family=\"monospace\" font-size=\"12\" x=\"3808\" y=\"960\">DEP<tspan baseline-shift=\"sub\" font-size=\"10\">2</tspan></text>\n",
       "<text dominant-baseline=\"hanging\" text-anchor=\"middle\" font-family=\"monospace\" font-size=\"10\" stroke=\"red\" x=\"3808\" y=\"980\">0.01</text>\n",
       "<rect x=\"3792\" y=\"304\" width=\"32\" height=\"32\" stroke=\"black\" fill=\"pink\"/>\n",
       "<text dominant-baseline=\"central\" text-anchor=\"middle\" font-family=\"monospace\" font-size=\"12\" x=\"3808\" y=\"320\">DEP<tspan baseline-shift=\"sub\" font-size=\"10\">2</tspan></text>\n",
       "<path d=\"M3872,576 L3872,1280 \" stroke=\"black\"/>\n",
       "<circle cx=\"3872\" cy=\"1280\" r=\"12\" stroke=\"none\" fill=\"black\"/>\n",
       "<circle cx=\"3872\" cy=\"576\" r=\"12\" stroke=\"none\" fill=\"black\"/>\n",
       "<path d=\"M3936,576 L3936,1280 \" stroke=\"black\"/>\n",
       "<rect x=\"3920\" y=\"1264\" width=\"32\" height=\"32\" stroke=\"black\" fill=\"pink\"/>\n",
       "<text dominant-baseline=\"central\" text-anchor=\"middle\" font-family=\"monospace\" font-size=\"12\" x=\"3936\" y=\"1280\">DEP<tspan baseline-shift=\"sub\" font-size=\"10\">2</tspan></text>\n",
       "<text dominant-baseline=\"hanging\" text-anchor=\"middle\" font-family=\"monospace\" font-size=\"10\" stroke=\"red\" x=\"3936\" y=\"1300\">0.01</text>\n",
       "<rect x=\"3920\" y=\"560\" width=\"32\" height=\"32\" stroke=\"black\" fill=\"pink\"/>\n",
       "<text dominant-baseline=\"central\" text-anchor=\"middle\" font-family=\"monospace\" font-size=\"12\" x=\"3936\" y=\"576\">DEP<tspan baseline-shift=\"sub\" font-size=\"10\">2</tspan></text>\n",
       "<path d=\"M3460,40 L3460,32 L3964,32 L3964,40 \" stroke=\"black\" fill=\"none\"/>\n",
       "<path d=\"M3460,1656 L3460,1664 L3964,1664 L3964,1656 \" stroke=\"black\" fill=\"none\"/>\n",
       "<rect x=\"3984\" y=\"1008\" width=\"32\" height=\"32\" stroke=\"black\" fill=\"white\"/>\n",
       "<text dominant-baseline=\"central\" text-anchor=\"middle\" font-family=\"monospace\" font-size=\"30\" x=\"4000\" y=\"1024\">H</text>\n",
       "<rect x=\"3984\" y=\"1200\" width=\"32\" height=\"32\" stroke=\"black\" fill=\"white\"/>\n",
       "<text dominant-baseline=\"central\" text-anchor=\"middle\" font-family=\"monospace\" font-size=\"30\" x=\"4000\" y=\"1216\">H</text>\n",
       "<rect x=\"3984\" y=\"880\" width=\"32\" height=\"32\" stroke=\"black\" fill=\"white\"/>\n",
       "<text dominant-baseline=\"central\" text-anchor=\"middle\" font-family=\"monospace\" font-size=\"30\" x=\"4000\" y=\"896\">H</text>\n",
       "<rect x=\"3984\" y=\"1328\" width=\"32\" height=\"32\" stroke=\"black\" fill=\"white\"/>\n",
       "<text dominant-baseline=\"central\" text-anchor=\"middle\" font-family=\"monospace\" font-size=\"30\" x=\"4000\" y=\"1344\">H</text>\n",
       "<rect x=\"3984\" y=\"944\" width=\"32\" height=\"32\" stroke=\"black\" fill=\"white\"/>\n",
       "<text dominant-baseline=\"central\" text-anchor=\"middle\" font-family=\"monospace\" font-size=\"30\" x=\"4000\" y=\"960\">H</text>\n",
       "<rect x=\"3984\" y=\"1264\" width=\"32\" height=\"32\" stroke=\"black\" fill=\"white\"/>\n",
       "<text dominant-baseline=\"central\" text-anchor=\"middle\" font-family=\"monospace\" font-size=\"30\" x=\"4000\" y=\"1280\">H</text>\n",
       "<rect x=\"3984\" y=\"1456\" width=\"32\" height=\"32\" stroke=\"black\" fill=\"white\"/>\n",
       "<text dominant-baseline=\"central\" text-anchor=\"middle\" font-family=\"monospace\" font-size=\"30\" x=\"4000\" y=\"1472\">H</text>\n",
       "<rect x=\"3984\" y=\"752\" width=\"32\" height=\"32\" stroke=\"black\" fill=\"white\"/>\n",
       "<text dominant-baseline=\"central\" text-anchor=\"middle\" font-family=\"monospace\" font-size=\"30\" x=\"4000\" y=\"768\">H</text>\n",
       "<rect x=\"4048\" y=\"1008\" width=\"32\" height=\"32\" stroke=\"black\" fill=\"pink\"/>\n",
       "<text dominant-baseline=\"central\" text-anchor=\"middle\" font-family=\"monospace\" font-size=\"12\" x=\"4064\" y=\"1024\">DEP<tspan baseline-shift=\"sub\" font-size=\"10\">1</tspan></text>\n",
       "<text dominant-baseline=\"hanging\" text-anchor=\"middle\" font-family=\"monospace\" font-size=\"10\" stroke=\"red\" x=\"4064\" y=\"1044\">0.01</text>\n",
       "<rect x=\"4048\" y=\"1200\" width=\"32\" height=\"32\" stroke=\"black\" fill=\"pink\"/>\n",
       "<text dominant-baseline=\"central\" text-anchor=\"middle\" font-family=\"monospace\" font-size=\"12\" x=\"4064\" y=\"1216\">DEP<tspan baseline-shift=\"sub\" font-size=\"10\">1</tspan></text>\n",
       "<text dominant-baseline=\"hanging\" text-anchor=\"middle\" font-family=\"monospace\" font-size=\"10\" stroke=\"red\" x=\"4064\" y=\"1236\">0.01</text>\n",
       "<rect x=\"4048\" y=\"880\" width=\"32\" height=\"32\" stroke=\"black\" fill=\"pink\"/>\n",
       "<text dominant-baseline=\"central\" text-anchor=\"middle\" font-family=\"monospace\" font-size=\"12\" x=\"4064\" y=\"896\">DEP<tspan baseline-shift=\"sub\" font-size=\"10\">1</tspan></text>\n",
       "<text dominant-baseline=\"hanging\" text-anchor=\"middle\" font-family=\"monospace\" font-size=\"10\" stroke=\"red\" x=\"4064\" y=\"916\">0.01</text>\n",
       "<rect x=\"4048\" y=\"1328\" width=\"32\" height=\"32\" stroke=\"black\" fill=\"pink\"/>\n",
       "<text dominant-baseline=\"central\" text-anchor=\"middle\" font-family=\"monospace\" font-size=\"12\" x=\"4064\" y=\"1344\">DEP<tspan baseline-shift=\"sub\" font-size=\"10\">1</tspan></text>\n",
       "<text dominant-baseline=\"hanging\" text-anchor=\"middle\" font-family=\"monospace\" font-size=\"10\" stroke=\"red\" x=\"4064\" y=\"1364\">0.01</text>\n",
       "<rect x=\"4048\" y=\"944\" width=\"32\" height=\"32\" stroke=\"black\" fill=\"pink\"/>\n",
       "<text dominant-baseline=\"central\" text-anchor=\"middle\" font-family=\"monospace\" font-size=\"12\" x=\"4064\" y=\"960\">DEP<tspan baseline-shift=\"sub\" font-size=\"10\">1</tspan></text>\n",
       "<text dominant-baseline=\"hanging\" text-anchor=\"middle\" font-family=\"monospace\" font-size=\"10\" stroke=\"red\" x=\"4064\" y=\"980\">0.01</text>\n",
       "<rect x=\"4048\" y=\"1264\" width=\"32\" height=\"32\" stroke=\"black\" fill=\"pink\"/>\n",
       "<text dominant-baseline=\"central\" text-anchor=\"middle\" font-family=\"monospace\" font-size=\"12\" x=\"4064\" y=\"1280\">DEP<tspan baseline-shift=\"sub\" font-size=\"10\">1</tspan></text>\n",
       "<text dominant-baseline=\"hanging\" text-anchor=\"middle\" font-family=\"monospace\" font-size=\"10\" stroke=\"red\" x=\"4064\" y=\"1300\">0.01</text>\n",
       "<rect x=\"4048\" y=\"1456\" width=\"32\" height=\"32\" stroke=\"black\" fill=\"pink\"/>\n",
       "<text dominant-baseline=\"central\" text-anchor=\"middle\" font-family=\"monospace\" font-size=\"12\" x=\"4064\" y=\"1472\">DEP<tspan baseline-shift=\"sub\" font-size=\"10\">1</tspan></text>\n",
       "<text dominant-baseline=\"hanging\" text-anchor=\"middle\" font-family=\"monospace\" font-size=\"10\" stroke=\"red\" x=\"4064\" y=\"1492\">0.01</text>\n",
       "<rect x=\"4048\" y=\"752\" width=\"32\" height=\"32\" stroke=\"black\" fill=\"pink\"/>\n",
       "<text dominant-baseline=\"central\" text-anchor=\"middle\" font-family=\"monospace\" font-size=\"12\" x=\"4064\" y=\"768\">DEP<tspan baseline-shift=\"sub\" font-size=\"10\">1</tspan></text>\n",
       "<text dominant-baseline=\"hanging\" text-anchor=\"middle\" font-family=\"monospace\" font-size=\"10\" stroke=\"red\" x=\"4064\" y=\"788\">0.01</text>\n",
       "<path d=\"M3972,40 L3972,32 L4092,32 L4092,40 \" stroke=\"black\" fill=\"none\"/>\n",
       "<path d=\"M3972,1656 L3972,1664 L4092,1664 L4092,1656 \" stroke=\"black\" fill=\"none\"/>\n",
       "<rect x=\"4112\" y=\"1008\" width=\"32\" height=\"32\" stroke=\"black\" fill=\"pink\"/>\n",
       "<text dominant-baseline=\"central\" text-anchor=\"middle\" font-family=\"monospace\" font-size=\"12\" x=\"4128\" y=\"1024\">DEP<tspan baseline-shift=\"sub\" font-size=\"10\">1</tspan></text>\n",
       "<text dominant-baseline=\"hanging\" text-anchor=\"middle\" font-family=\"monospace\" font-size=\"10\" stroke=\"red\" x=\"4128\" y=\"1044\">0.01</text>\n",
       "<rect x=\"4112\" y=\"1200\" width=\"32\" height=\"32\" stroke=\"black\" fill=\"pink\"/>\n",
       "<text dominant-baseline=\"central\" text-anchor=\"middle\" font-family=\"monospace\" font-size=\"12\" x=\"4128\" y=\"1216\">DEP<tspan baseline-shift=\"sub\" font-size=\"10\">1</tspan></text>\n",
       "<text dominant-baseline=\"hanging\" text-anchor=\"middle\" font-family=\"monospace\" font-size=\"10\" stroke=\"red\" x=\"4128\" y=\"1236\">0.01</text>\n",
       "<rect x=\"4112\" y=\"880\" width=\"32\" height=\"32\" stroke=\"black\" fill=\"pink\"/>\n",
       "<text dominant-baseline=\"central\" text-anchor=\"middle\" font-family=\"monospace\" font-size=\"12\" x=\"4128\" y=\"896\">DEP<tspan baseline-shift=\"sub\" font-size=\"10\">1</tspan></text>\n",
       "<text dominant-baseline=\"hanging\" text-anchor=\"middle\" font-family=\"monospace\" font-size=\"10\" stroke=\"red\" x=\"4128\" y=\"916\">0.01</text>\n",
       "<rect x=\"4112\" y=\"1328\" width=\"32\" height=\"32\" stroke=\"black\" fill=\"pink\"/>\n",
       "<text dominant-baseline=\"central\" text-anchor=\"middle\" font-family=\"monospace\" font-size=\"12\" x=\"4128\" y=\"1344\">DEP<tspan baseline-shift=\"sub\" font-size=\"10\">1</tspan></text>\n",
       "<text dominant-baseline=\"hanging\" text-anchor=\"middle\" font-family=\"monospace\" font-size=\"10\" stroke=\"red\" x=\"4128\" y=\"1364\">0.01</text>\n",
       "<rect x=\"4112\" y=\"944\" width=\"32\" height=\"32\" stroke=\"black\" fill=\"pink\"/>\n",
       "<text dominant-baseline=\"central\" text-anchor=\"middle\" font-family=\"monospace\" font-size=\"12\" x=\"4128\" y=\"960\">DEP<tspan baseline-shift=\"sub\" font-size=\"10\">1</tspan></text>\n",
       "<text dominant-baseline=\"hanging\" text-anchor=\"middle\" font-family=\"monospace\" font-size=\"10\" stroke=\"red\" x=\"4128\" y=\"980\">0.01</text>\n",
       "<rect x=\"4112\" y=\"1264\" width=\"32\" height=\"32\" stroke=\"black\" fill=\"pink\"/>\n",
       "<text dominant-baseline=\"central\" text-anchor=\"middle\" font-family=\"monospace\" font-size=\"12\" x=\"4128\" y=\"1280\">DEP<tspan baseline-shift=\"sub\" font-size=\"10\">1</tspan></text>\n",
       "<text dominant-baseline=\"hanging\" text-anchor=\"middle\" font-family=\"monospace\" font-size=\"10\" stroke=\"red\" x=\"4128\" y=\"1300\">0.01</text>\n",
       "<rect x=\"4112\" y=\"1456\" width=\"32\" height=\"32\" stroke=\"black\" fill=\"pink\"/>\n",
       "<text dominant-baseline=\"central\" text-anchor=\"middle\" font-family=\"monospace\" font-size=\"12\" x=\"4128\" y=\"1472\">DEP<tspan baseline-shift=\"sub\" font-size=\"10\">1</tspan></text>\n",
       "<text dominant-baseline=\"hanging\" text-anchor=\"middle\" font-family=\"monospace\" font-size=\"10\" stroke=\"red\" x=\"4128\" y=\"1492\">0.01</text>\n",
       "<rect x=\"4112\" y=\"752\" width=\"32\" height=\"32\" stroke=\"black\" fill=\"pink\"/>\n",
       "<text dominant-baseline=\"central\" text-anchor=\"middle\" font-family=\"monospace\" font-size=\"12\" x=\"4128\" y=\"768\">DEP<tspan baseline-shift=\"sub\" font-size=\"10\">1</tspan></text>\n",
       "<text dominant-baseline=\"hanging\" text-anchor=\"middle\" font-family=\"monospace\" font-size=\"10\" stroke=\"red\" x=\"4128\" y=\"788\">0.01</text>\n",
       "<rect x=\"4176\" y=\"1008\" width=\"32\" height=\"32\" stroke=\"black\" fill=\"black\"/>\n",
       "<text dominant-baseline=\"central\" text-anchor=\"middle\" font-family=\"monospace\" font-size=\"24\" x=\"4192\" y=\"1024\" fill=\"white\">MR</text>\n",
       "<text text-anchor=\"middle\" font-family=\"monospace\" font-size=\"8\" x=\"4192\" y=\"1004\">rec[0]</text>\n",
       "<rect x=\"4176\" y=\"1200\" width=\"32\" height=\"32\" stroke=\"black\" fill=\"black\"/>\n",
       "<text dominant-baseline=\"central\" text-anchor=\"middle\" font-family=\"monospace\" font-size=\"24\" x=\"4192\" y=\"1216\" fill=\"white\">MR</text>\n",
       "<text text-anchor=\"middle\" font-family=\"monospace\" font-size=\"8\" x=\"4192\" y=\"1196\">rec[1]</text>\n",
       "<rect x=\"4176\" y=\"880\" width=\"32\" height=\"32\" stroke=\"black\" fill=\"black\"/>\n",
       "<text dominant-baseline=\"central\" text-anchor=\"middle\" font-family=\"monospace\" font-size=\"24\" x=\"4192\" y=\"896\" fill=\"white\">MR</text>\n",
       "<text text-anchor=\"middle\" font-family=\"monospace\" font-size=\"8\" x=\"4192\" y=\"876\">rec[2]</text>\n",
       "<rect x=\"4176\" y=\"1328\" width=\"32\" height=\"32\" stroke=\"black\" fill=\"black\"/>\n",
       "<text dominant-baseline=\"central\" text-anchor=\"middle\" font-family=\"monospace\" font-size=\"24\" x=\"4192\" y=\"1344\" fill=\"white\">MR</text>\n",
       "<text text-anchor=\"middle\" font-family=\"monospace\" font-size=\"8\" x=\"4192\" y=\"1324\">rec[3]</text>\n",
       "<rect x=\"4176\" y=\"944\" width=\"32\" height=\"32\" stroke=\"black\" fill=\"black\"/>\n",
       "<text dominant-baseline=\"central\" text-anchor=\"middle\" font-family=\"monospace\" font-size=\"24\" x=\"4192\" y=\"960\" fill=\"white\">MR</text>\n",
       "<text text-anchor=\"middle\" font-family=\"monospace\" font-size=\"8\" x=\"4192\" y=\"940\">rec[4]</text>\n",
       "<rect x=\"4176\" y=\"1264\" width=\"32\" height=\"32\" stroke=\"black\" fill=\"black\"/>\n",
       "<text dominant-baseline=\"central\" text-anchor=\"middle\" font-family=\"monospace\" font-size=\"24\" x=\"4192\" y=\"1280\" fill=\"white\">MR</text>\n",
       "<text text-anchor=\"middle\" font-family=\"monospace\" font-size=\"8\" x=\"4192\" y=\"1260\">rec[5]</text>\n",
       "<rect x=\"4176\" y=\"1456\" width=\"32\" height=\"32\" stroke=\"black\" fill=\"black\"/>\n",
       "<text dominant-baseline=\"central\" text-anchor=\"middle\" font-family=\"monospace\" font-size=\"24\" x=\"4192\" y=\"1472\" fill=\"white\">MR</text>\n",
       "<text text-anchor=\"middle\" font-family=\"monospace\" font-size=\"8\" x=\"4192\" y=\"1452\">rec[6]</text>\n",
       "<rect x=\"4176\" y=\"752\" width=\"32\" height=\"32\" stroke=\"black\" fill=\"black\"/>\n",
       "<text dominant-baseline=\"central\" text-anchor=\"middle\" font-family=\"monospace\" font-size=\"24\" x=\"4192\" y=\"768\" fill=\"white\">MR</text>\n",
       "<text text-anchor=\"middle\" font-family=\"monospace\" font-size=\"8\" x=\"4192\" y=\"748\">rec[7]</text>\n",
       "<rect x=\"4240\" y=\"1008\" width=\"32\" height=\"32\" stroke=\"black\" fill=\"pink\"/>\n",
       "<text dominant-baseline=\"central\" text-anchor=\"middle\" font-family=\"monospace\" font-size=\"12\" x=\"4256\" y=\"1024\">DEP<tspan baseline-shift=\"sub\" font-size=\"10\">1</tspan></text>\n",
       "<text dominant-baseline=\"hanging\" text-anchor=\"middle\" font-family=\"monospace\" font-size=\"10\" stroke=\"red\" x=\"4256\" y=\"1044\">0.01</text>\n",
       "<rect x=\"4240\" y=\"1200\" width=\"32\" height=\"32\" stroke=\"black\" fill=\"pink\"/>\n",
       "<text dominant-baseline=\"central\" text-anchor=\"middle\" font-family=\"monospace\" font-size=\"12\" x=\"4256\" y=\"1216\">DEP<tspan baseline-shift=\"sub\" font-size=\"10\">1</tspan></text>\n",
       "<text dominant-baseline=\"hanging\" text-anchor=\"middle\" font-family=\"monospace\" font-size=\"10\" stroke=\"red\" x=\"4256\" y=\"1236\">0.01</text>\n",
       "<rect x=\"4240\" y=\"880\" width=\"32\" height=\"32\" stroke=\"black\" fill=\"pink\"/>\n",
       "<text dominant-baseline=\"central\" text-anchor=\"middle\" font-family=\"monospace\" font-size=\"12\" x=\"4256\" y=\"896\">DEP<tspan baseline-shift=\"sub\" font-size=\"10\">1</tspan></text>\n",
       "<text dominant-baseline=\"hanging\" text-anchor=\"middle\" font-family=\"monospace\" font-size=\"10\" stroke=\"red\" x=\"4256\" y=\"916\">0.01</text>\n",
       "<rect x=\"4240\" y=\"1328\" width=\"32\" height=\"32\" stroke=\"black\" fill=\"pink\"/>\n",
       "<text dominant-baseline=\"central\" text-anchor=\"middle\" font-family=\"monospace\" font-size=\"12\" x=\"4256\" y=\"1344\">DEP<tspan baseline-shift=\"sub\" font-size=\"10\">1</tspan></text>\n",
       "<text dominant-baseline=\"hanging\" text-anchor=\"middle\" font-family=\"monospace\" font-size=\"10\" stroke=\"red\" x=\"4256\" y=\"1364\">0.01</text>\n",
       "<rect x=\"4240\" y=\"944\" width=\"32\" height=\"32\" stroke=\"black\" fill=\"pink\"/>\n",
       "<text dominant-baseline=\"central\" text-anchor=\"middle\" font-family=\"monospace\" font-size=\"12\" x=\"4256\" y=\"960\">DEP<tspan baseline-shift=\"sub\" font-size=\"10\">1</tspan></text>\n",
       "<text dominant-baseline=\"hanging\" text-anchor=\"middle\" font-family=\"monospace\" font-size=\"10\" stroke=\"red\" x=\"4256\" y=\"980\">0.01</text>\n",
       "<rect x=\"4240\" y=\"1264\" width=\"32\" height=\"32\" stroke=\"black\" fill=\"pink\"/>\n",
       "<text dominant-baseline=\"central\" text-anchor=\"middle\" font-family=\"monospace\" font-size=\"12\" x=\"4256\" y=\"1280\">DEP<tspan baseline-shift=\"sub\" font-size=\"10\">1</tspan></text>\n",
       "<text dominant-baseline=\"hanging\" text-anchor=\"middle\" font-family=\"monospace\" font-size=\"10\" stroke=\"red\" x=\"4256\" y=\"1300\">0.01</text>\n",
       "<rect x=\"4240\" y=\"1456\" width=\"32\" height=\"32\" stroke=\"black\" fill=\"pink\"/>\n",
       "<text dominant-baseline=\"central\" text-anchor=\"middle\" font-family=\"monospace\" font-size=\"12\" x=\"4256\" y=\"1472\">DEP<tspan baseline-shift=\"sub\" font-size=\"10\">1</tspan></text>\n",
       "<text dominant-baseline=\"hanging\" text-anchor=\"middle\" font-family=\"monospace\" font-size=\"10\" stroke=\"red\" x=\"4256\" y=\"1492\">0.01</text>\n",
       "<rect x=\"4240\" y=\"752\" width=\"32\" height=\"32\" stroke=\"black\" fill=\"pink\"/>\n",
       "<text dominant-baseline=\"central\" text-anchor=\"middle\" font-family=\"monospace\" font-size=\"12\" x=\"4256\" y=\"768\">DEP<tspan baseline-shift=\"sub\" font-size=\"10\">1</tspan></text>\n",
       "<text dominant-baseline=\"hanging\" text-anchor=\"middle\" font-family=\"monospace\" font-size=\"10\" stroke=\"red\" x=\"4256\" y=\"788\">0.01</text>\n",
       "<path d=\"M4100,40 L4100,32 L4284,32 L4284,40 \" stroke=\"black\" fill=\"none\"/>\n",
       "<path d=\"M4100,1656 L4100,1664 L4284,1664 L4284,1656 \" stroke=\"black\" fill=\"none\"/>\n",
       "<rect x=\"4304\" y=\"48\" width=\"32\" height=\"32\" stroke=\"black\" fill=\"white\"/>\n",
       "<text dominant-baseline=\"central\" text-anchor=\"middle\" font-family=\"monospace\" font-size=\"30\" x=\"4320\" y=\"64\">H</text>\n",
       "<rect x=\"4304\" y=\"112\" width=\"32\" height=\"32\" stroke=\"black\" fill=\"white\"/>\n",
       "<text dominant-baseline=\"central\" text-anchor=\"middle\" font-family=\"monospace\" font-size=\"30\" x=\"4320\" y=\"128\">H</text>\n",
       "<rect x=\"4304\" y=\"176\" width=\"32\" height=\"32\" stroke=\"black\" fill=\"white\"/>\n",
       "<text dominant-baseline=\"central\" text-anchor=\"middle\" font-family=\"monospace\" font-size=\"30\" x=\"4320\" y=\"192\">H</text>\n",
       "<rect x=\"4368\" y=\"48\" width=\"32\" height=\"32\" stroke=\"black\" fill=\"pink\"/>\n",
       "<text dominant-baseline=\"central\" text-anchor=\"middle\" font-family=\"monospace\" font-size=\"12\" x=\"4384\" y=\"64\">DEP<tspan baseline-shift=\"sub\" font-size=\"10\">1</tspan></text>\n",
       "<text dominant-baseline=\"hanging\" text-anchor=\"middle\" font-family=\"monospace\" font-size=\"10\" stroke=\"red\" x=\"4384\" y=\"84\">0.01</text>\n",
       "<rect x=\"4368\" y=\"112\" width=\"32\" height=\"32\" stroke=\"black\" fill=\"pink\"/>\n",
       "<text dominant-baseline=\"central\" text-anchor=\"middle\" font-family=\"monospace\" font-size=\"12\" x=\"4384\" y=\"128\">DEP<tspan baseline-shift=\"sub\" font-size=\"10\">1</tspan></text>\n",
       "<text dominant-baseline=\"hanging\" text-anchor=\"middle\" font-family=\"monospace\" font-size=\"10\" stroke=\"red\" x=\"4384\" y=\"148\">0.01</text>\n",
       "<rect x=\"4368\" y=\"176\" width=\"32\" height=\"32\" stroke=\"black\" fill=\"pink\"/>\n",
       "<text dominant-baseline=\"central\" text-anchor=\"middle\" font-family=\"monospace\" font-size=\"12\" x=\"4384\" y=\"192\">DEP<tspan baseline-shift=\"sub\" font-size=\"10\">1</tspan></text>\n",
       "<text dominant-baseline=\"hanging\" text-anchor=\"middle\" font-family=\"monospace\" font-size=\"10\" stroke=\"red\" x=\"4384\" y=\"212\">0.01</text>\n",
       "<rect x=\"4432\" y=\"48\" width=\"32\" height=\"32\" stroke=\"black\" fill=\"pink\"/>\n",
       "<text dominant-baseline=\"central\" text-anchor=\"middle\" font-family=\"monospace\" font-size=\"12\" x=\"4448\" y=\"64\">DEP<tspan baseline-shift=\"sub\" font-size=\"10\">1</tspan></text>\n",
       "<text dominant-baseline=\"hanging\" text-anchor=\"middle\" font-family=\"monospace\" font-size=\"10\" stroke=\"red\" x=\"4448\" y=\"84\">0.01</text>\n",
       "<rect x=\"4432\" y=\"112\" width=\"32\" height=\"32\" stroke=\"black\" fill=\"pink\"/>\n",
       "<text dominant-baseline=\"central\" text-anchor=\"middle\" font-family=\"monospace\" font-size=\"12\" x=\"4448\" y=\"128\">DEP<tspan baseline-shift=\"sub\" font-size=\"10\">1</tspan></text>\n",
       "<text dominant-baseline=\"hanging\" text-anchor=\"middle\" font-family=\"monospace\" font-size=\"10\" stroke=\"red\" x=\"4448\" y=\"148\">0.01</text>\n",
       "<rect x=\"4432\" y=\"176\" width=\"32\" height=\"32\" stroke=\"black\" fill=\"pink\"/>\n",
       "<text dominant-baseline=\"central\" text-anchor=\"middle\" font-family=\"monospace\" font-size=\"12\" x=\"4448\" y=\"192\">DEP<tspan baseline-shift=\"sub\" font-size=\"10\">1</tspan></text>\n",
       "<text dominant-baseline=\"hanging\" text-anchor=\"middle\" font-family=\"monospace\" font-size=\"10\" stroke=\"red\" x=\"4448\" y=\"212\">0.01</text>\n",
       "<rect x=\"4496\" y=\"48\" width=\"32\" height=\"32\" stroke=\"black\" fill=\"black\"/>\n",
       "<text dominant-baseline=\"central\" text-anchor=\"middle\" font-family=\"monospace\" font-size=\"30\" x=\"4512\" y=\"64\" fill=\"white\">M</text>\n",
       "<text text-anchor=\"middle\" font-family=\"monospace\" font-size=\"8\" x=\"4512\" y=\"44\">rec[8]</text>\n",
       "<rect x=\"4496\" y=\"112\" width=\"32\" height=\"32\" stroke=\"black\" fill=\"black\"/>\n",
       "<text dominant-baseline=\"central\" text-anchor=\"middle\" font-family=\"monospace\" font-size=\"30\" x=\"4512\" y=\"128\" fill=\"white\">M</text>\n",
       "<text text-anchor=\"middle\" font-family=\"monospace\" font-size=\"8\" x=\"4512\" y=\"108\">rec[9]</text>\n",
       "<rect x=\"4496\" y=\"176\" width=\"32\" height=\"32\" stroke=\"black\" fill=\"black\"/>\n",
       "<text dominant-baseline=\"central\" text-anchor=\"middle\" font-family=\"monospace\" font-size=\"30\" x=\"4512\" y=\"192\" fill=\"white\">M</text>\n",
       "<text text-anchor=\"middle\" font-family=\"monospace\" font-size=\"8\" x=\"4512\" y=\"172\">rec[10]</text>\n",
       "<path d=\"M4292,40 L4292,32 L4540,32 L4540,40 \" stroke=\"black\" fill=\"none\"/>\n",
       "<path d=\"M4292,1656 L4292,1664 L4540,1664 L4540,1656 \" stroke=\"black\" fill=\"none\"/>\n",
       "</svg>"
      ],
      "text/plain": [
       "<svg viewBox=\"0 0 4576 1696\"  version=\"1.1\" xmlns=\"http://www.w3.org/2000/svg\">\n",
       "<g id=\"qubit_lines\">\n",
       "<path id=\"qubit_line:0\" d=\"M64,64 L4544,64 \" stroke=\"black\"/>\n",
       "<text dominant-baseline=\"central\" text-anchor=\"end\" font-family=\"monospace\" font-size=\"12\" x=\"64\" y=\"64\">q0</text>\n",
       "<path id=\"qubit_line:1\" d=\"M64,128 L4544,128 \" stroke=\"black\"/>\n",
       "<text dominant-baseline=\"central\" text-anchor=\"end\" font-family=\"monospace\" font-size=\"12\" x=\"64\" y=\"128\">q1</text>\n",
       "<path id=\"qubit_line:2\" d=\"M64,192 L4544,192 \" stroke=\"black\"/>\n",
       "<text dominant-baseline=\"central\" text-anchor=\"end\" font-family=\"monospace\" font-size=\"12\" x=\"64\" y=\"192\">q2</text>\n",
       "<path id=\"qubit_line:3\" d=\"M64,256 L4544,256 \" stroke=\"black\"/>\n",
       "<text dominant-baseline=\"central\" text-anchor=\"end\" font-family=\"monospace\" font-size=\"12\" x=\"64\" y=\"256\">q3</text>\n",
       "<path id=\"qubit_line:4\" d=\"M64,320 L4544,320 \" stroke=\"black\"/>\n",
       "<text dominant-baseline=\"central\" text-anchor=\"end\" font-family=\"monospace\" font-size=\"12\" x=\"64\" y=\"320\">q4</text>\n",
       "<path id=\"qubit_line:5\" d=\"M64,384 L4544,384 \" stroke=\"black\"/>\n",
       "<text dominant-baseline=\"central\" text-anchor=\"end\" font-family=\"monospace\" font-size=\"12\" x=\"64\" y=\"384\">q5</text>\n",
       "<path id=\"qubit_line:6\" d=\"M64,448 L4544,448 \" stroke=\"black\"/>\n",
       "<text dominant-baseline=\"central\" text-anchor=\"end\" font-family=\"monospace\" font-size=\"12\" x=\"64\" y=\"448\">q6</text>\n",
       "<path id=\"qubit_line:7\" d=\"M64,512 L4544,512 \" stroke=\"black\"/>\n",
       "<text dominant-baseline=\"central\" text-anchor=\"end\" font-family=\"monospace\" font-size=\"12\" x=\"64\" y=\"512\">q7</text>\n",
       "<path id=\"qubit_line:8\" d=\"M64,576 L4544,576 \" stroke=\"black\"/>\n",
       "<text dominant-baseline=\"central\" text-anchor=\"end\" font-family=\"monospace\" font-size=\"12\" x=\"64\" y=\"576\">q8</text>\n",
       "<path id=\"qubit_line:9\" d=\"M64,640 L4544,640 \" stroke=\"black\"/>\n",
       "<text dominant-baseline=\"central\" text-anchor=\"end\" font-family=\"monospace\" font-size=\"12\" x=\"64\" y=\"640\">q9</text>\n",
       "<path id=\"qubit_line:10\" d=\"M64,704 L4544,704 \" stroke=\"black\"/>\n",
       "<text dominant-baseline=\"central\" text-anchor=\"end\" font-family=\"monospace\" font-size=\"12\" x=\"64\" y=\"704\">q10</text>\n",
       "<path id=\"qubit_line:11\" d=\"M64,768 L4544,768 \" stroke=\"black\"/>\n",
       "<text dominant-baseline=\"central\" text-anchor=\"end\" font-family=\"monospace\" font-size=\"12\" x=\"64\" y=\"768\">q11</text>\n",
       "<path id=\"qubit_line:12\" d=\"M64,832 L4544,832 \" stroke=\"black\"/>\n",
       "<text dominant-baseline=\"central\" text-anchor=\"end\" font-family=\"monospace\" font-size=\"12\" x=\"64\" y=\"832\">q12</text>\n",
       "<path id=\"qubit_line:13\" d=\"M64,896 L4544,896 \" stroke=\"black\"/>\n",
       "<text dominant-baseline=\"central\" text-anchor=\"end\" font-family=\"monospace\" font-size=\"12\" x=\"64\" y=\"896\">q13</text>\n",
       "<path id=\"qubit_line:14\" d=\"M64,960 L4544,960 \" stroke=\"black\"/>\n",
       "<text dominant-baseline=\"central\" text-anchor=\"end\" font-family=\"monospace\" font-size=\"12\" x=\"64\" y=\"960\">q14</text>\n",
       "<path id=\"qubit_line:15\" d=\"M64,1024 L4544,1024 \" stroke=\"black\"/>\n",
       "<text dominant-baseline=\"central\" text-anchor=\"end\" font-family=\"monospace\" font-size=\"12\" x=\"64\" y=\"1024\">q15</text>\n",
       "<path id=\"qubit_line:16\" d=\"M64,1088 L4544,1088 \" stroke=\"black\"/>\n",
       "<text dominant-baseline=\"central\" text-anchor=\"end\" font-family=\"monospace\" font-size=\"12\" x=\"64\" y=\"1088\">q16</text>\n",
       "<path id=\"qubit_line:17\" d=\"M64,1152 L4544,1152 \" stroke=\"black\"/>\n",
       "<text dominant-baseline=\"central\" text-anchor=\"end\" font-family=\"monospace\" font-size=\"12\" x=\"64\" y=\"1152\">q17</text>\n",
       "<path id=\"qubit_line:18\" d=\"M64,1216 L4544,1216 \" stroke=\"black\"/>\n",
       "<text dominant-baseline=\"central\" text-anchor=\"end\" font-family=\"monospace\" font-size=\"12\" x=\"64\" y=\"1216\">q18</text>\n",
       "<path id=\"qubit_line:19\" d=\"M64,1280 L4544,1280 \" stroke=\"black\"/>\n",
       "<text dominant-baseline=\"central\" text-anchor=\"end\" font-family=\"monospace\" font-size=\"12\" x=\"64\" y=\"1280\">q19</text>\n",
       "<path id=\"qubit_line:20\" d=\"M64,1344 L4544,1344 \" stroke=\"black\"/>\n",
       "<text dominant-baseline=\"central\" text-anchor=\"end\" font-family=\"monospace\" font-size=\"12\" x=\"64\" y=\"1344\">q20</text>\n",
       "<path id=\"qubit_line:21\" d=\"M64,1408 L4544,1408 \" stroke=\"black\"/>\n",
       "<text dominant-baseline=\"central\" text-anchor=\"end\" font-family=\"monospace\" font-size=\"12\" x=\"64\" y=\"1408\">q21</text>\n",
       "<path id=\"qubit_line:22\" d=\"M64,1472 L4544,1472 \" stroke=\"black\"/>\n",
       "<text dominant-baseline=\"central\" text-anchor=\"end\" font-family=\"monospace\" font-size=\"12\" x=\"64\" y=\"1472\">q22</text>\n",
       "<path id=\"qubit_line:23\" d=\"M64,1536 L4544,1536 \" stroke=\"black\"/>\n",
       "<text dominant-baseline=\"central\" text-anchor=\"end\" font-family=\"monospace\" font-size=\"12\" x=\"64\" y=\"1536\">q23</text>\n",
       "<path id=\"qubit_line:24\" d=\"M64,1600 L4544,1600 \" stroke=\"black\"/>\n",
       "<text dominant-baseline=\"central\" text-anchor=\"end\" font-family=\"monospace\" font-size=\"12\" x=\"64\" y=\"1600\">q24</text>\n",
       "</g>\n",
       "<rect x=\"80\" y=\"48\" width=\"224\" height=\"32\" stroke=\"black\" fill=\"white\"/>\n",
       "<text dominant-baseline=\"central\" text-anchor=\"middle\" font-family=\"monospace\" font-size=\"16\" x=\"192\" y=\"64\">COORDS(0,0)</text>\n",
       "<rect x=\"80\" y=\"112\" width=\"224\" height=\"32\" stroke=\"black\" fill=\"white\"/>\n",
       "<text dominant-baseline=\"central\" text-anchor=\"middle\" font-family=\"monospace\" font-size=\"16\" x=\"192\" y=\"128\">COORDS(1,0)</text>\n",
       "<rect x=\"80\" y=\"176\" width=\"224\" height=\"32\" stroke=\"black\" fill=\"white\"/>\n",
       "<text dominant-baseline=\"central\" text-anchor=\"middle\" font-family=\"monospace\" font-size=\"16\" x=\"192\" y=\"192\">COORDS(2,0)</text>\n",
       "<rect x=\"80\" y=\"240\" width=\"224\" height=\"32\" stroke=\"black\" fill=\"white\"/>\n",
       "<text dominant-baseline=\"central\" text-anchor=\"middle\" font-family=\"monospace\" font-size=\"16\" x=\"192\" y=\"256\">COORDS(0,1)</text>\n",
       "<rect x=\"80\" y=\"304\" width=\"224\" height=\"32\" stroke=\"black\" fill=\"white\"/>\n",
       "<text dominant-baseline=\"central\" text-anchor=\"middle\" font-family=\"monospace\" font-size=\"16\" x=\"192\" y=\"320\">COORDS(1,1)</text>\n",
       "<rect x=\"80\" y=\"368\" width=\"224\" height=\"32\" stroke=\"black\" fill=\"white\"/>\n",
       "<text dominant-baseline=\"central\" text-anchor=\"middle\" font-family=\"monospace\" font-size=\"16\" x=\"192\" y=\"384\">COORDS(2,1)</text>\n",
       "<rect x=\"80\" y=\"432\" width=\"224\" height=\"32\" stroke=\"black\" fill=\"white\"/>\n",
       "<text dominant-baseline=\"central\" text-anchor=\"middle\" font-family=\"monospace\" font-size=\"16\" x=\"192\" y=\"448\">COORDS(0,2)</text>\n",
       "<rect x=\"80\" y=\"496\" width=\"224\" height=\"32\" stroke=\"black\" fill=\"white\"/>\n",
       "<text dominant-baseline=\"central\" text-anchor=\"middle\" font-family=\"monospace\" font-size=\"16\" x=\"192\" y=\"512\">COORDS(1,2)</text>\n",
       "<rect x=\"80\" y=\"560\" width=\"224\" height=\"32\" stroke=\"black\" fill=\"white\"/>\n",
       "<text dominant-baseline=\"central\" text-anchor=\"middle\" font-family=\"monospace\" font-size=\"16\" x=\"192\" y=\"576\">COORDS(2,2)</text>\n",
       "<rect x=\"80\" y=\"624\" width=\"224\" height=\"32\" stroke=\"black\" fill=\"white\"/>\n",
       "<text dominant-baseline=\"central\" text-anchor=\"middle\" font-family=\"monospace\" font-size=\"16\" x=\"192\" y=\"640\">COORDS(-0.5,-0.5)</text>\n",
       "<rect x=\"80\" y=\"688\" width=\"224\" height=\"32\" stroke=\"black\" fill=\"white\"/>\n",
       "<text dominant-baseline=\"central\" text-anchor=\"middle\" font-family=\"monospace\" font-size=\"16\" x=\"192\" y=\"704\">COORDS(0.5,-0.5)</text>\n",
       "<rect x=\"80\" y=\"752\" width=\"224\" height=\"32\" stroke=\"black\" fill=\"white\"/>\n",
       "<text dominant-baseline=\"central\" text-anchor=\"middle\" font-family=\"monospace\" font-size=\"16\" x=\"192\" y=\"768\">COORDS(1.5,-0.5)</text>\n",
       "<rect x=\"80\" y=\"816\" width=\"224\" height=\"32\" stroke=\"black\" fill=\"white\"/>\n",
       "<text dominant-baseline=\"central\" text-anchor=\"middle\" font-family=\"monospace\" font-size=\"16\" x=\"192\" y=\"832\">COORDS(2.5,-0.5)</text>\n",
       "<rect x=\"80\" y=\"880\" width=\"224\" height=\"32\" stroke=\"black\" fill=\"white\"/>\n",
       "<text dominant-baseline=\"central\" text-anchor=\"middle\" font-family=\"monospace\" font-size=\"16\" x=\"192\" y=\"896\">COORDS(-0.5,0.5)</text>\n",
       "<rect x=\"80\" y=\"944\" width=\"224\" height=\"32\" stroke=\"black\" fill=\"white\"/>\n",
       "<text dominant-baseline=\"central\" text-anchor=\"middle\" font-family=\"monospace\" font-size=\"16\" x=\"192\" y=\"960\">COORDS(0.5,0.5)</text>\n",
       "<rect x=\"80\" y=\"1008\" width=\"224\" height=\"32\" stroke=\"black\" fill=\"white\"/>\n",
       "<text dominant-baseline=\"central\" text-anchor=\"middle\" font-family=\"monospace\" font-size=\"16\" x=\"192\" y=\"1024\">COORDS(1.5,0.5)</text>\n",
       "<rect x=\"80\" y=\"1072\" width=\"224\" height=\"32\" stroke=\"black\" fill=\"white\"/>\n",
       "<text dominant-baseline=\"central\" text-anchor=\"middle\" font-family=\"monospace\" font-size=\"16\" x=\"192\" y=\"1088\">COORDS(2.5,0.5)</text>\n",
       "<rect x=\"80\" y=\"1136\" width=\"224\" height=\"32\" stroke=\"black\" fill=\"white\"/>\n",
       "<text dominant-baseline=\"central\" text-anchor=\"middle\" font-family=\"monospace\" font-size=\"16\" x=\"192\" y=\"1152\">COORDS(-0.5,1.5)</text>\n",
       "<rect x=\"80\" y=\"1200\" width=\"224\" height=\"32\" stroke=\"black\" fill=\"white\"/>\n",
       "<text dominant-baseline=\"central\" text-anchor=\"middle\" font-family=\"monospace\" font-size=\"16\" x=\"192\" y=\"1216\">COORDS(0.5,1.5)</text>\n",
       "<rect x=\"80\" y=\"1264\" width=\"224\" height=\"32\" stroke=\"black\" fill=\"white\"/>\n",
       "<text dominant-baseline=\"central\" text-anchor=\"middle\" font-family=\"monospace\" font-size=\"16\" x=\"192\" y=\"1280\">COORDS(1.5,1.5)</text>\n",
       "<rect x=\"80\" y=\"1328\" width=\"224\" height=\"32\" stroke=\"black\" fill=\"white\"/>\n",
       "<text dominant-baseline=\"central\" text-anchor=\"middle\" font-family=\"monospace\" font-size=\"16\" x=\"192\" y=\"1344\">COORDS(2.5,1.5)</text>\n",
       "<rect x=\"80\" y=\"1392\" width=\"224\" height=\"32\" stroke=\"black\" fill=\"white\"/>\n",
       "<text dominant-baseline=\"central\" text-anchor=\"middle\" font-family=\"monospace\" font-size=\"16\" x=\"192\" y=\"1408\">COORDS(-0.5,2.5)</text>\n",
       "<rect x=\"80\" y=\"1456\" width=\"224\" height=\"32\" stroke=\"black\" fill=\"white\"/>\n",
       "<text dominant-baseline=\"central\" text-anchor=\"middle\" font-family=\"monospace\" font-size=\"16\" x=\"192\" y=\"1472\">COORDS(0.5,2.5)</text>\n",
       "<rect x=\"80\" y=\"1520\" width=\"224\" height=\"32\" stroke=\"black\" fill=\"white\"/>\n",
       "<text dominant-baseline=\"central\" text-anchor=\"middle\" font-family=\"monospace\" font-size=\"16\" x=\"192\" y=\"1536\">COORDS(1.5,2.5)</text>\n",
       "<rect x=\"80\" y=\"1584\" width=\"224\" height=\"32\" stroke=\"black\" fill=\"white\"/>\n",
       "<text dominant-baseline=\"central\" text-anchor=\"middle\" font-family=\"monospace\" font-size=\"16\" x=\"192\" y=\"1600\">COORDS(2.5,2.5)</text>\n",
       "<rect x=\"336\" y=\"112\" width=\"32\" height=\"32\" stroke=\"black\" fill=\"black\"/>\n",
       "<text dominant-baseline=\"central\" text-anchor=\"middle\" font-family=\"monospace\" font-size=\"30\" x=\"352\" y=\"128\" fill=\"white\">R</text>\n",
       "<rect x=\"336\" y=\"176\" width=\"32\" height=\"32\" stroke=\"black\" fill=\"black\"/>\n",
       "<text dominant-baseline=\"central\" text-anchor=\"middle\" font-family=\"monospace\" font-size=\"30\" x=\"352\" y=\"192\" fill=\"white\">R</text>\n",
       "<rect x=\"336\" y=\"304\" width=\"32\" height=\"32\" stroke=\"black\" fill=\"black\"/>\n",
       "<text dominant-baseline=\"central\" text-anchor=\"middle\" font-family=\"monospace\" font-size=\"30\" x=\"352\" y=\"320\" fill=\"white\">R</text>\n",
       "<rect x=\"336\" y=\"368\" width=\"32\" height=\"32\" stroke=\"black\" fill=\"black\"/>\n",
       "<text dominant-baseline=\"central\" text-anchor=\"middle\" font-family=\"monospace\" font-size=\"30\" x=\"352\" y=\"384\" fill=\"white\">R</text>\n",
       "<rect x=\"336\" y=\"240\" width=\"32\" height=\"32\" stroke=\"black\" fill=\"black\"/>\n",
       "<text dominant-baseline=\"central\" text-anchor=\"middle\" font-family=\"monospace\" font-size=\"30\" x=\"352\" y=\"256\" fill=\"white\">R</text>\n",
       "<rect x=\"336\" y=\"432\" width=\"32\" height=\"32\" stroke=\"black\" fill=\"black\"/>\n",
       "<text dominant-baseline=\"central\" text-anchor=\"middle\" font-family=\"monospace\" font-size=\"30\" x=\"352\" y=\"448\" fill=\"white\">R</text>\n",
       "<rect x=\"336\" y=\"496\" width=\"32\" height=\"32\" stroke=\"black\" fill=\"black\"/>\n",
       "<text dominant-baseline=\"central\" text-anchor=\"middle\" font-family=\"monospace\" font-size=\"30\" x=\"352\" y=\"512\" fill=\"white\">R</text>\n",
       "<rect x=\"336\" y=\"48\" width=\"32\" height=\"32\" stroke=\"black\" fill=\"black\"/>\n",
       "<text dominant-baseline=\"central\" text-anchor=\"middle\" font-family=\"monospace\" font-size=\"30\" x=\"352\" y=\"64\" fill=\"white\">R</text>\n",
       "<rect x=\"336\" y=\"560\" width=\"32\" height=\"32\" stroke=\"black\" fill=\"black\"/>\n",
       "<text dominant-baseline=\"central\" text-anchor=\"middle\" font-family=\"monospace\" font-size=\"30\" x=\"352\" y=\"576\" fill=\"white\">R</text>\n",
       "<rect x=\"400\" y=\"112\" width=\"32\" height=\"32\" stroke=\"black\" fill=\"pink\"/>\n",
       "<text dominant-baseline=\"central\" text-anchor=\"middle\" font-family=\"monospace\" font-size=\"12\" x=\"416\" y=\"128\">DEP<tspan baseline-shift=\"sub\" font-size=\"10\">1</tspan></text>\n",
       "<text dominant-baseline=\"hanging\" text-anchor=\"middle\" font-family=\"monospace\" font-size=\"10\" stroke=\"red\" x=\"416\" y=\"148\">0.01</text>\n",
       "<rect x=\"400\" y=\"176\" width=\"32\" height=\"32\" stroke=\"black\" fill=\"pink\"/>\n",
       "<text dominant-baseline=\"central\" text-anchor=\"middle\" font-family=\"monospace\" font-size=\"12\" x=\"416\" y=\"192\">DEP<tspan baseline-shift=\"sub\" font-size=\"10\">1</tspan></text>\n",
       "<text dominant-baseline=\"hanging\" text-anchor=\"middle\" font-family=\"monospace\" font-size=\"10\" stroke=\"red\" x=\"416\" y=\"212\">0.01</text>\n",
       "<rect x=\"400\" y=\"304\" width=\"32\" height=\"32\" stroke=\"black\" fill=\"pink\"/>\n",
       "<text dominant-baseline=\"central\" text-anchor=\"middle\" font-family=\"monospace\" font-size=\"12\" x=\"416\" y=\"320\">DEP<tspan baseline-shift=\"sub\" font-size=\"10\">1</tspan></text>\n",
       "<text dominant-baseline=\"hanging\" text-anchor=\"middle\" font-family=\"monospace\" font-size=\"10\" stroke=\"red\" x=\"416\" y=\"340\">0.01</text>\n",
       "<rect x=\"400\" y=\"368\" width=\"32\" height=\"32\" stroke=\"black\" fill=\"pink\"/>\n",
       "<text dominant-baseline=\"central\" text-anchor=\"middle\" font-family=\"monospace\" font-size=\"12\" x=\"416\" y=\"384\">DEP<tspan baseline-shift=\"sub\" font-size=\"10\">1</tspan></text>\n",
       "<text dominant-baseline=\"hanging\" text-anchor=\"middle\" font-family=\"monospace\" font-size=\"10\" stroke=\"red\" x=\"416\" y=\"404\">0.01</text>\n",
       "<rect x=\"400\" y=\"240\" width=\"32\" height=\"32\" stroke=\"black\" fill=\"pink\"/>\n",
       "<text dominant-baseline=\"central\" text-anchor=\"middle\" font-family=\"monospace\" font-size=\"12\" x=\"416\" y=\"256\">DEP<tspan baseline-shift=\"sub\" font-size=\"10\">1</tspan></text>\n",
       "<text dominant-baseline=\"hanging\" text-anchor=\"middle\" font-family=\"monospace\" font-size=\"10\" stroke=\"red\" x=\"416\" y=\"276\">0.01</text>\n",
       "<rect x=\"400\" y=\"432\" width=\"32\" height=\"32\" stroke=\"black\" fill=\"pink\"/>\n",
       "<text dominant-baseline=\"central\" text-anchor=\"middle\" font-family=\"monospace\" font-size=\"12\" x=\"416\" y=\"448\">DEP<tspan baseline-shift=\"sub\" font-size=\"10\">1</tspan></text>\n",
       "<text dominant-baseline=\"hanging\" text-anchor=\"middle\" font-family=\"monospace\" font-size=\"10\" stroke=\"red\" x=\"416\" y=\"468\">0.01</text>\n",
       "<rect x=\"400\" y=\"496\" width=\"32\" height=\"32\" stroke=\"black\" fill=\"pink\"/>\n",
       "<text dominant-baseline=\"central\" text-anchor=\"middle\" font-family=\"monospace\" font-size=\"12\" x=\"416\" y=\"512\">DEP<tspan baseline-shift=\"sub\" font-size=\"10\">1</tspan></text>\n",
       "<text dominant-baseline=\"hanging\" text-anchor=\"middle\" font-family=\"monospace\" font-size=\"10\" stroke=\"red\" x=\"416\" y=\"532\">0.01</text>\n",
       "<rect x=\"400\" y=\"48\" width=\"32\" height=\"32\" stroke=\"black\" fill=\"pink\"/>\n",
       "<text dominant-baseline=\"central\" text-anchor=\"middle\" font-family=\"monospace\" font-size=\"12\" x=\"416\" y=\"64\">DEP<tspan baseline-shift=\"sub\" font-size=\"10\">1</tspan></text>\n",
       "<text dominant-baseline=\"hanging\" text-anchor=\"middle\" font-family=\"monospace\" font-size=\"10\" stroke=\"red\" x=\"416\" y=\"84\">0.01</text>\n",
       "<rect x=\"400\" y=\"560\" width=\"32\" height=\"32\" stroke=\"black\" fill=\"pink\"/>\n",
       "<text dominant-baseline=\"central\" text-anchor=\"middle\" font-family=\"monospace\" font-size=\"12\" x=\"416\" y=\"576\">DEP<tspan baseline-shift=\"sub\" font-size=\"10\">1</tspan></text>\n",
       "<text dominant-baseline=\"hanging\" text-anchor=\"middle\" font-family=\"monospace\" font-size=\"10\" stroke=\"red\" x=\"416\" y=\"596\">0.01</text>\n",
       "<rect x=\"464\" y=\"48\" width=\"32\" height=\"32\" stroke=\"black\" fill=\"white\"/>\n",
       "<text dominant-baseline=\"central\" text-anchor=\"middle\" font-family=\"monospace\" font-size=\"30\" x=\"480\" y=\"64\">X</text>\n",
       "<rect x=\"464\" y=\"112\" width=\"32\" height=\"32\" stroke=\"black\" fill=\"white\"/>\n",
       "<text dominant-baseline=\"central\" text-anchor=\"middle\" font-family=\"monospace\" font-size=\"30\" x=\"480\" y=\"128\">X</text>\n",
       "<rect x=\"464\" y=\"176\" width=\"32\" height=\"32\" stroke=\"black\" fill=\"white\"/>\n",
       "<text dominant-baseline=\"central\" text-anchor=\"middle\" font-family=\"monospace\" font-size=\"30\" x=\"480\" y=\"192\">X</text>\n",
       "<rect x=\"528\" y=\"48\" width=\"32\" height=\"32\" stroke=\"black\" fill=\"pink\"/>\n",
       "<text dominant-baseline=\"central\" text-anchor=\"middle\" font-family=\"monospace\" font-size=\"12\" x=\"544\" y=\"64\">DEP<tspan baseline-shift=\"sub\" font-size=\"10\">1</tspan></text>\n",
       "<text dominant-baseline=\"hanging\" text-anchor=\"middle\" font-family=\"monospace\" font-size=\"10\" stroke=\"red\" x=\"544\" y=\"84\">0.01</text>\n",
       "<rect x=\"528\" y=\"112\" width=\"32\" height=\"32\" stroke=\"black\" fill=\"pink\"/>\n",
       "<text dominant-baseline=\"central\" text-anchor=\"middle\" font-family=\"monospace\" font-size=\"12\" x=\"544\" y=\"128\">DEP<tspan baseline-shift=\"sub\" font-size=\"10\">1</tspan></text>\n",
       "<text dominant-baseline=\"hanging\" text-anchor=\"middle\" font-family=\"monospace\" font-size=\"10\" stroke=\"red\" x=\"544\" y=\"148\">0.01</text>\n",
       "<rect x=\"528\" y=\"176\" width=\"32\" height=\"32\" stroke=\"black\" fill=\"pink\"/>\n",
       "<text dominant-baseline=\"central\" text-anchor=\"middle\" font-family=\"monospace\" font-size=\"12\" x=\"544\" y=\"192\">DEP<tspan baseline-shift=\"sub\" font-size=\"10\">1</tspan></text>\n",
       "<text dominant-baseline=\"hanging\" text-anchor=\"middle\" font-family=\"monospace\" font-size=\"10\" stroke=\"red\" x=\"544\" y=\"212\">0.01</text>\n",
       "<path d=\"M68,40 L68,32 L572,32 L572,40 \" stroke=\"black\" fill=\"none\"/>\n",
       "<path d=\"M68,1656 L68,1664 L572,1664 L572,1656 \" stroke=\"black\" fill=\"none\"/>\n",
       "<rect x=\"592\" y=\"112\" width=\"32\" height=\"32\" stroke=\"black\" fill=\"white\"/>\n",
       "<text dominant-baseline=\"central\" text-anchor=\"middle\" font-family=\"monospace\" font-size=\"30\" x=\"608\" y=\"128\">H</text>\n",
       "<rect x=\"592\" y=\"176\" width=\"32\" height=\"32\" stroke=\"black\" fill=\"white\"/>\n",
       "<text dominant-baseline=\"central\" text-anchor=\"middle\" font-family=\"monospace\" font-size=\"30\" x=\"608\" y=\"192\">H</text>\n",
       "<rect x=\"592\" y=\"304\" width=\"32\" height=\"32\" stroke=\"black\" fill=\"white\"/>\n",
       "<text dominant-baseline=\"central\" text-anchor=\"middle\" font-family=\"monospace\" font-size=\"30\" x=\"608\" y=\"320\">H</text>\n",
       "<rect x=\"592\" y=\"368\" width=\"32\" height=\"32\" stroke=\"black\" fill=\"white\"/>\n",
       "<text dominant-baseline=\"central\" text-anchor=\"middle\" font-family=\"monospace\" font-size=\"30\" x=\"608\" y=\"384\">H</text>\n",
       "<rect x=\"592\" y=\"240\" width=\"32\" height=\"32\" stroke=\"black\" fill=\"white\"/>\n",
       "<text dominant-baseline=\"central\" text-anchor=\"middle\" font-family=\"monospace\" font-size=\"30\" x=\"608\" y=\"256\">H</text>\n",
       "<rect x=\"592\" y=\"432\" width=\"32\" height=\"32\" stroke=\"black\" fill=\"white\"/>\n",
       "<text dominant-baseline=\"central\" text-anchor=\"middle\" font-family=\"monospace\" font-size=\"30\" x=\"608\" y=\"448\">H</text>\n",
       "<rect x=\"592\" y=\"496\" width=\"32\" height=\"32\" stroke=\"black\" fill=\"white\"/>\n",
       "<text dominant-baseline=\"central\" text-anchor=\"middle\" font-family=\"monospace\" font-size=\"30\" x=\"608\" y=\"512\">H</text>\n",
       "<rect x=\"592\" y=\"48\" width=\"32\" height=\"32\" stroke=\"black\" fill=\"white\"/>\n",
       "<text dominant-baseline=\"central\" text-anchor=\"middle\" font-family=\"monospace\" font-size=\"30\" x=\"608\" y=\"64\">H</text>\n",
       "<rect x=\"592\" y=\"560\" width=\"32\" height=\"32\" stroke=\"black\" fill=\"white\"/>\n",
       "<text dominant-baseline=\"central\" text-anchor=\"middle\" font-family=\"monospace\" font-size=\"30\" x=\"608\" y=\"576\">H</text>\n",
       "<rect x=\"656\" y=\"112\" width=\"32\" height=\"32\" stroke=\"black\" fill=\"pink\"/>\n",
       "<text dominant-baseline=\"central\" text-anchor=\"middle\" font-family=\"monospace\" font-size=\"12\" x=\"672\" y=\"128\">DEP<tspan baseline-shift=\"sub\" font-size=\"10\">1</tspan></text>\n",
       "<text dominant-baseline=\"hanging\" text-anchor=\"middle\" font-family=\"monospace\" font-size=\"10\" stroke=\"red\" x=\"672\" y=\"148\">0.01</text>\n",
       "<rect x=\"656\" y=\"176\" width=\"32\" height=\"32\" stroke=\"black\" fill=\"pink\"/>\n",
       "<text dominant-baseline=\"central\" text-anchor=\"middle\" font-family=\"monospace\" font-size=\"12\" x=\"672\" y=\"192\">DEP<tspan baseline-shift=\"sub\" font-size=\"10\">1</tspan></text>\n",
       "<text dominant-baseline=\"hanging\" text-anchor=\"middle\" font-family=\"monospace\" font-size=\"10\" stroke=\"red\" x=\"672\" y=\"212\">0.01</text>\n",
       "<rect x=\"656\" y=\"304\" width=\"32\" height=\"32\" stroke=\"black\" fill=\"pink\"/>\n",
       "<text dominant-baseline=\"central\" text-anchor=\"middle\" font-family=\"monospace\" font-size=\"12\" x=\"672\" y=\"320\">DEP<tspan baseline-shift=\"sub\" font-size=\"10\">1</tspan></text>\n",
       "<text dominant-baseline=\"hanging\" text-anchor=\"middle\" font-family=\"monospace\" font-size=\"10\" stroke=\"red\" x=\"672\" y=\"340\">0.01</text>\n",
       "<rect x=\"656\" y=\"368\" width=\"32\" height=\"32\" stroke=\"black\" fill=\"pink\"/>\n",
       "<text dominant-baseline=\"central\" text-anchor=\"middle\" font-family=\"monospace\" font-size=\"12\" x=\"672\" y=\"384\">DEP<tspan baseline-shift=\"sub\" font-size=\"10\">1</tspan></text>\n",
       "<text dominant-baseline=\"hanging\" text-anchor=\"middle\" font-family=\"monospace\" font-size=\"10\" stroke=\"red\" x=\"672\" y=\"404\">0.01</text>\n",
       "<rect x=\"656\" y=\"240\" width=\"32\" height=\"32\" stroke=\"black\" fill=\"pink\"/>\n",
       "<text dominant-baseline=\"central\" text-anchor=\"middle\" font-family=\"monospace\" font-size=\"12\" x=\"672\" y=\"256\">DEP<tspan baseline-shift=\"sub\" font-size=\"10\">1</tspan></text>\n",
       "<text dominant-baseline=\"hanging\" text-anchor=\"middle\" font-family=\"monospace\" font-size=\"10\" stroke=\"red\" x=\"672\" y=\"276\">0.01</text>\n",
       "<rect x=\"656\" y=\"432\" width=\"32\" height=\"32\" stroke=\"black\" fill=\"pink\"/>\n",
       "<text dominant-baseline=\"central\" text-anchor=\"middle\" font-family=\"monospace\" font-size=\"12\" x=\"672\" y=\"448\">DEP<tspan baseline-shift=\"sub\" font-size=\"10\">1</tspan></text>\n",
       "<text dominant-baseline=\"hanging\" text-anchor=\"middle\" font-family=\"monospace\" font-size=\"10\" stroke=\"red\" x=\"672\" y=\"468\">0.01</text>\n",
       "<rect x=\"656\" y=\"496\" width=\"32\" height=\"32\" stroke=\"black\" fill=\"pink\"/>\n",
       "<text dominant-baseline=\"central\" text-anchor=\"middle\" font-family=\"monospace\" font-size=\"12\" x=\"672\" y=\"512\">DEP<tspan baseline-shift=\"sub\" font-size=\"10\">1</tspan></text>\n",
       "<text dominant-baseline=\"hanging\" text-anchor=\"middle\" font-family=\"monospace\" font-size=\"10\" stroke=\"red\" x=\"672\" y=\"532\">0.01</text>\n",
       "<rect x=\"656\" y=\"48\" width=\"32\" height=\"32\" stroke=\"black\" fill=\"pink\"/>\n",
       "<text dominant-baseline=\"central\" text-anchor=\"middle\" font-family=\"monospace\" font-size=\"12\" x=\"672\" y=\"64\">DEP<tspan baseline-shift=\"sub\" font-size=\"10\">1</tspan></text>\n",
       "<text dominant-baseline=\"hanging\" text-anchor=\"middle\" font-family=\"monospace\" font-size=\"10\" stroke=\"red\" x=\"672\" y=\"84\">0.01</text>\n",
       "<rect x=\"656\" y=\"560\" width=\"32\" height=\"32\" stroke=\"black\" fill=\"pink\"/>\n",
       "<text dominant-baseline=\"central\" text-anchor=\"middle\" font-family=\"monospace\" font-size=\"12\" x=\"672\" y=\"576\">DEP<tspan baseline-shift=\"sub\" font-size=\"10\">1</tspan></text>\n",
       "<text dominant-baseline=\"hanging\" text-anchor=\"middle\" font-family=\"monospace\" font-size=\"10\" stroke=\"red\" x=\"672\" y=\"596\">0.01</text>\n",
       "<path d=\"M580,40 L580,32 L700,32 L700,40 \" stroke=\"black\" fill=\"none\"/>\n",
       "<path d=\"M580,1656 L580,1664 L700,1664 L700,1656 \" stroke=\"black\" fill=\"none\"/>\n",
       "<rect x=\"784\" y=\"1008\" width=\"32\" height=\"32\" stroke=\"black\" fill=\"white\"/>\n",
       "<text dominant-baseline=\"central\" text-anchor=\"middle\" font-family=\"monospace\" font-size=\"30\" x=\"800\" y=\"1024\">H</text>\n",
       "<rect x=\"784\" y=\"1200\" width=\"32\" height=\"32\" stroke=\"black\" fill=\"white\"/>\n",
       "<text dominant-baseline=\"central\" text-anchor=\"middle\" font-family=\"monospace\" font-size=\"30\" x=\"800\" y=\"1216\">H</text>\n",
       "<rect x=\"784\" y=\"880\" width=\"32\" height=\"32\" stroke=\"black\" fill=\"white\"/>\n",
       "<text dominant-baseline=\"central\" text-anchor=\"middle\" font-family=\"monospace\" font-size=\"30\" x=\"800\" y=\"896\">H</text>\n",
       "<rect x=\"784\" y=\"1328\" width=\"32\" height=\"32\" stroke=\"black\" fill=\"white\"/>\n",
       "<text dominant-baseline=\"central\" text-anchor=\"middle\" font-family=\"monospace\" font-size=\"30\" x=\"800\" y=\"1344\">H</text>\n",
       "<rect x=\"784\" y=\"944\" width=\"32\" height=\"32\" stroke=\"black\" fill=\"white\"/>\n",
       "<text dominant-baseline=\"central\" text-anchor=\"middle\" font-family=\"monospace\" font-size=\"30\" x=\"800\" y=\"960\">H</text>\n",
       "<rect x=\"784\" y=\"1264\" width=\"32\" height=\"32\" stroke=\"black\" fill=\"white\"/>\n",
       "<text dominant-baseline=\"central\" text-anchor=\"middle\" font-family=\"monospace\" font-size=\"30\" x=\"800\" y=\"1280\">H</text>\n",
       "<rect x=\"784\" y=\"1456\" width=\"32\" height=\"32\" stroke=\"black\" fill=\"white\"/>\n",
       "<text dominant-baseline=\"central\" text-anchor=\"middle\" font-family=\"monospace\" font-size=\"30\" x=\"800\" y=\"1472\">H</text>\n",
       "<rect x=\"784\" y=\"752\" width=\"32\" height=\"32\" stroke=\"black\" fill=\"white\"/>\n",
       "<text dominant-baseline=\"central\" text-anchor=\"middle\" font-family=\"monospace\" font-size=\"30\" x=\"800\" y=\"768\">H</text>\n",
       "<rect x=\"848\" y=\"1008\" width=\"32\" height=\"32\" stroke=\"black\" fill=\"pink\"/>\n",
       "<text dominant-baseline=\"central\" text-anchor=\"middle\" font-family=\"monospace\" font-size=\"12\" x=\"864\" y=\"1024\">DEP<tspan baseline-shift=\"sub\" font-size=\"10\">1</tspan></text>\n",
       "<text dominant-baseline=\"hanging\" text-anchor=\"middle\" font-family=\"monospace\" font-size=\"10\" stroke=\"red\" x=\"864\" y=\"1044\">0.01</text>\n",
       "<rect x=\"848\" y=\"1200\" width=\"32\" height=\"32\" stroke=\"black\" fill=\"pink\"/>\n",
       "<text dominant-baseline=\"central\" text-anchor=\"middle\" font-family=\"monospace\" font-size=\"12\" x=\"864\" y=\"1216\">DEP<tspan baseline-shift=\"sub\" font-size=\"10\">1</tspan></text>\n",
       "<text dominant-baseline=\"hanging\" text-anchor=\"middle\" font-family=\"monospace\" font-size=\"10\" stroke=\"red\" x=\"864\" y=\"1236\">0.01</text>\n",
       "<rect x=\"848\" y=\"880\" width=\"32\" height=\"32\" stroke=\"black\" fill=\"pink\"/>\n",
       "<text dominant-baseline=\"central\" text-anchor=\"middle\" font-family=\"monospace\" font-size=\"12\" x=\"864\" y=\"896\">DEP<tspan baseline-shift=\"sub\" font-size=\"10\">1</tspan></text>\n",
       "<text dominant-baseline=\"hanging\" text-anchor=\"middle\" font-family=\"monospace\" font-size=\"10\" stroke=\"red\" x=\"864\" y=\"916\">0.01</text>\n",
       "<rect x=\"848\" y=\"1328\" width=\"32\" height=\"32\" stroke=\"black\" fill=\"pink\"/>\n",
       "<text dominant-baseline=\"central\" text-anchor=\"middle\" font-family=\"monospace\" font-size=\"12\" x=\"864\" y=\"1344\">DEP<tspan baseline-shift=\"sub\" font-size=\"10\">1</tspan></text>\n",
       "<text dominant-baseline=\"hanging\" text-anchor=\"middle\" font-family=\"monospace\" font-size=\"10\" stroke=\"red\" x=\"864\" y=\"1364\">0.01</text>\n",
       "<rect x=\"848\" y=\"944\" width=\"32\" height=\"32\" stroke=\"black\" fill=\"pink\"/>\n",
       "<text dominant-baseline=\"central\" text-anchor=\"middle\" font-family=\"monospace\" font-size=\"12\" x=\"864\" y=\"960\">DEP<tspan baseline-shift=\"sub\" font-size=\"10\">1</tspan></text>\n",
       "<text dominant-baseline=\"hanging\" text-anchor=\"middle\" font-family=\"monospace\" font-size=\"10\" stroke=\"red\" x=\"864\" y=\"980\">0.01</text>\n",
       "<rect x=\"848\" y=\"1264\" width=\"32\" height=\"32\" stroke=\"black\" fill=\"pink\"/>\n",
       "<text dominant-baseline=\"central\" text-anchor=\"middle\" font-family=\"monospace\" font-size=\"12\" x=\"864\" y=\"1280\">DEP<tspan baseline-shift=\"sub\" font-size=\"10\">1</tspan></text>\n",
       "<text dominant-baseline=\"hanging\" text-anchor=\"middle\" font-family=\"monospace\" font-size=\"10\" stroke=\"red\" x=\"864\" y=\"1300\">0.01</text>\n",
       "<rect x=\"848\" y=\"1456\" width=\"32\" height=\"32\" stroke=\"black\" fill=\"pink\"/>\n",
       "<text dominant-baseline=\"central\" text-anchor=\"middle\" font-family=\"monospace\" font-size=\"12\" x=\"864\" y=\"1472\">DEP<tspan baseline-shift=\"sub\" font-size=\"10\">1</tspan></text>\n",
       "<text dominant-baseline=\"hanging\" text-anchor=\"middle\" font-family=\"monospace\" font-size=\"10\" stroke=\"red\" x=\"864\" y=\"1492\">0.01</text>\n",
       "<rect x=\"848\" y=\"752\" width=\"32\" height=\"32\" stroke=\"black\" fill=\"pink\"/>\n",
       "<text dominant-baseline=\"central\" text-anchor=\"middle\" font-family=\"monospace\" font-size=\"12\" x=\"864\" y=\"768\">DEP<tspan baseline-shift=\"sub\" font-size=\"10\">1</tspan></text>\n",
       "<text dominant-baseline=\"hanging\" text-anchor=\"middle\" font-family=\"monospace\" font-size=\"10\" stroke=\"red\" x=\"864\" y=\"788\">0.01</text>\n",
       "<path d=\"M772,40 L772,32 L892,32 L892,40 \" stroke=\"black\" fill=\"none\"/>\n",
       "<path d=\"M772,1656 L772,1664 L892,1664 L892,1656 \" stroke=\"black\" fill=\"none\"/>\n",
       "<path d=\"M928,128 L928,1024 \" stroke=\"black\"/>\n",
       "<circle cx=\"928\" cy=\"1024\" r=\"12\" stroke=\"none\" fill=\"black\"/>\n",
       "<circle cx=\"928\" cy=\"128\" r=\"12\" stroke=\"black\" fill=\"white\"/>\n",
       "<path d=\"M916,128 L940,128 M928,116 L928,140 \" stroke=\"black\"/>\n",
       "<path d=\"M992,128 L992,1024 \" stroke=\"black\"/>\n",
       "<rect x=\"976\" y=\"1008\" width=\"32\" height=\"32\" stroke=\"black\" fill=\"pink\"/>\n",
       "<text dominant-baseline=\"central\" text-anchor=\"middle\" font-family=\"monospace\" font-size=\"12\" x=\"992\" y=\"1024\">DEP<tspan baseline-shift=\"sub\" font-size=\"10\">2</tspan></text>\n",
       "<text dominant-baseline=\"hanging\" text-anchor=\"middle\" font-family=\"monospace\" font-size=\"10\" stroke=\"red\" x=\"992\" y=\"1044\">0.01</text>\n",
       "<rect x=\"976\" y=\"112\" width=\"32\" height=\"32\" stroke=\"black\" fill=\"pink\"/>\n",
       "<text dominant-baseline=\"central\" text-anchor=\"middle\" font-family=\"monospace\" font-size=\"12\" x=\"992\" y=\"128\">DEP<tspan baseline-shift=\"sub\" font-size=\"10\">2</tspan></text>\n",
       "<path d=\"M1056,256 L1056,1216 \" stroke=\"black\"/>\n",
       "<circle cx=\"1056\" cy=\"1216\" r=\"12\" stroke=\"none\" fill=\"black\"/>\n",
       "<circle cx=\"1056\" cy=\"256\" r=\"12\" stroke=\"black\" fill=\"white\"/>\n",
       "<path d=\"M1044,256 L1068,256 M1056,244 L1056,268 \" stroke=\"black\"/>\n",
       "<path d=\"M1120,256 L1120,1216 \" stroke=\"black\"/>\n",
       "<rect x=\"1104\" y=\"1200\" width=\"32\" height=\"32\" stroke=\"black\" fill=\"pink\"/>\n",
       "<text dominant-baseline=\"central\" text-anchor=\"middle\" font-family=\"monospace\" font-size=\"12\" x=\"1120\" y=\"1216\">DEP<tspan baseline-shift=\"sub\" font-size=\"10\">2</tspan></text>\n",
       "<text dominant-baseline=\"hanging\" text-anchor=\"middle\" font-family=\"monospace\" font-size=\"10\" stroke=\"red\" x=\"1120\" y=\"1236\">0.01</text>\n",
       "<rect x=\"1104\" y=\"240\" width=\"32\" height=\"32\" stroke=\"black\" fill=\"pink\"/>\n",
       "<text dominant-baseline=\"central\" text-anchor=\"middle\" font-family=\"monospace\" font-size=\"12\" x=\"1120\" y=\"256\">DEP<tspan baseline-shift=\"sub\" font-size=\"10\">2</tspan></text>\n",
       "<path d=\"M1184,64 L1184,896 \" stroke=\"black\"/>\n",
       "<circle cx=\"1184\" cy=\"896\" r=\"12\" stroke=\"none\" fill=\"black\"/>\n",
       "<circle cx=\"1184\" cy=\"64\" r=\"12\" stroke=\"black\" fill=\"white\"/>\n",
       "<path d=\"M1172,64 L1196,64 M1184,52 L1184,76 \" stroke=\"black\"/>\n",
       "<path d=\"M1248,64 L1248,896 \" stroke=\"black\"/>\n",
       "<rect x=\"1232\" y=\"880\" width=\"32\" height=\"32\" stroke=\"black\" fill=\"pink\"/>\n",
       "<text dominant-baseline=\"central\" text-anchor=\"middle\" font-family=\"monospace\" font-size=\"12\" x=\"1248\" y=\"896\">DEP<tspan baseline-shift=\"sub\" font-size=\"10\">2</tspan></text>\n",
       "<text dominant-baseline=\"hanging\" text-anchor=\"middle\" font-family=\"monospace\" font-size=\"10\" stroke=\"red\" x=\"1248\" y=\"916\">0.01</text>\n",
       "<rect x=\"1232\" y=\"48\" width=\"32\" height=\"32\" stroke=\"black\" fill=\"pink\"/>\n",
       "<text dominant-baseline=\"central\" text-anchor=\"middle\" font-family=\"monospace\" font-size=\"12\" x=\"1248\" y=\"64\">DEP<tspan baseline-shift=\"sub\" font-size=\"10\">2</tspan></text>\n",
       "<path d=\"M1312,384 L1312,1344 \" stroke=\"black\"/>\n",
       "<circle cx=\"1312\" cy=\"1344\" r=\"12\" stroke=\"none\" fill=\"black\"/>\n",
       "<circle cx=\"1312\" cy=\"384\" r=\"12\" stroke=\"black\" fill=\"white\"/>\n",
       "<path d=\"M1300,384 L1324,384 M1312,372 L1312,396 \" stroke=\"black\"/>\n",
       "<path d=\"M1376,384 L1376,1344 \" stroke=\"black\"/>\n",
       "<rect x=\"1360\" y=\"1328\" width=\"32\" height=\"32\" stroke=\"black\" fill=\"pink\"/>\n",
       "<text dominant-baseline=\"central\" text-anchor=\"middle\" font-family=\"monospace\" font-size=\"12\" x=\"1376\" y=\"1344\">DEP<tspan baseline-shift=\"sub\" font-size=\"10\">2</tspan></text>\n",
       "<text dominant-baseline=\"hanging\" text-anchor=\"middle\" font-family=\"monospace\" font-size=\"10\" stroke=\"red\" x=\"1376\" y=\"1364\">0.01</text>\n",
       "<rect x=\"1360\" y=\"368\" width=\"32\" height=\"32\" stroke=\"black\" fill=\"pink\"/>\n",
       "<text dominant-baseline=\"central\" text-anchor=\"middle\" font-family=\"monospace\" font-size=\"12\" x=\"1376\" y=\"384\">DEP<tspan baseline-shift=\"sub\" font-size=\"10\">2</tspan></text>\n",
       "<path d=\"M1440,64 L1440,960 \" stroke=\"black\"/>\n",
       "<circle cx=\"1440\" cy=\"960\" r=\"12\" stroke=\"none\" fill=\"black\"/>\n",
       "<circle cx=\"1440\" cy=\"64\" r=\"12\" stroke=\"none\" fill=\"black\"/>\n",
       "<path d=\"M1504,64 L1504,960 \" stroke=\"black\"/>\n",
       "<rect x=\"1488\" y=\"944\" width=\"32\" height=\"32\" stroke=\"black\" fill=\"pink\"/>\n",
       "<text dominant-baseline=\"central\" text-anchor=\"middle\" font-family=\"monospace\" font-size=\"12\" x=\"1504\" y=\"960\">DEP<tspan baseline-shift=\"sub\" font-size=\"10\">2</tspan></text>\n",
       "<text dominant-baseline=\"hanging\" text-anchor=\"middle\" font-family=\"monospace\" font-size=\"10\" stroke=\"red\" x=\"1504\" y=\"980\">0.01</text>\n",
       "<rect x=\"1488\" y=\"48\" width=\"32\" height=\"32\" stroke=\"black\" fill=\"pink\"/>\n",
       "<text dominant-baseline=\"central\" text-anchor=\"middle\" font-family=\"monospace\" font-size=\"12\" x=\"1504\" y=\"64\">DEP<tspan baseline-shift=\"sub\" font-size=\"10\">2</tspan></text>\n",
       "<path d=\"M1568,320 L1568,1280 \" stroke=\"black\"/>\n",
       "<circle cx=\"1568\" cy=\"1280\" r=\"12\" stroke=\"none\" fill=\"black\"/>\n",
       "<circle cx=\"1568\" cy=\"320\" r=\"12\" stroke=\"none\" fill=\"black\"/>\n",
       "<path d=\"M1632,320 L1632,1280 \" stroke=\"black\"/>\n",
       "<rect x=\"1616\" y=\"1264\" width=\"32\" height=\"32\" stroke=\"black\" fill=\"pink\"/>\n",
       "<text dominant-baseline=\"central\" text-anchor=\"middle\" font-family=\"monospace\" font-size=\"12\" x=\"1632\" y=\"1280\">DEP<tspan baseline-shift=\"sub\" font-size=\"10\">2</tspan></text>\n",
       "<text dominant-baseline=\"hanging\" text-anchor=\"middle\" font-family=\"monospace\" font-size=\"10\" stroke=\"red\" x=\"1632\" y=\"1300\">0.01</text>\n",
       "<rect x=\"1616\" y=\"304\" width=\"32\" height=\"32\" stroke=\"black\" fill=\"pink\"/>\n",
       "<text dominant-baseline=\"central\" text-anchor=\"middle\" font-family=\"monospace\" font-size=\"12\" x=\"1632\" y=\"320\">DEP<tspan baseline-shift=\"sub\" font-size=\"10\">2</tspan></text>\n",
       "<path d=\"M1696,448 L1696,1472 \" stroke=\"black\"/>\n",
       "<circle cx=\"1696\" cy=\"1472\" r=\"12\" stroke=\"none\" fill=\"black\"/>\n",
       "<circle cx=\"1696\" cy=\"448\" r=\"12\" stroke=\"none\" fill=\"black\"/>\n",
       "<path d=\"M1760,448 L1760,1472 \" stroke=\"black\"/>\n",
       "<rect x=\"1744\" y=\"1456\" width=\"32\" height=\"32\" stroke=\"black\" fill=\"pink\"/>\n",
       "<text dominant-baseline=\"central\" text-anchor=\"middle\" font-family=\"monospace\" font-size=\"12\" x=\"1760\" y=\"1472\">DEP<tspan baseline-shift=\"sub\" font-size=\"10\">2</tspan></text>\n",
       "<text dominant-baseline=\"hanging\" text-anchor=\"middle\" font-family=\"monospace\" font-size=\"10\" stroke=\"red\" x=\"1760\" y=\"1492\">0.01</text>\n",
       "<rect x=\"1744\" y=\"432\" width=\"32\" height=\"32\" stroke=\"black\" fill=\"pink\"/>\n",
       "<text dominant-baseline=\"central\" text-anchor=\"middle\" font-family=\"monospace\" font-size=\"12\" x=\"1760\" y=\"448\">DEP<tspan baseline-shift=\"sub\" font-size=\"10\">2</tspan></text>\n",
       "<path d=\"M1824,128 L1824,768 \" stroke=\"black\"/>\n",
       "<circle cx=\"1824\" cy=\"768\" r=\"12\" stroke=\"none\" fill=\"black\"/>\n",
       "<circle cx=\"1824\" cy=\"128\" r=\"12\" stroke=\"none\" fill=\"black\"/>\n",
       "<path d=\"M1888,128 L1888,768 \" stroke=\"black\"/>\n",
       "<rect x=\"1872\" y=\"752\" width=\"32\" height=\"32\" stroke=\"black\" fill=\"pink\"/>\n",
       "<text dominant-baseline=\"central\" text-anchor=\"middle\" font-family=\"monospace\" font-size=\"12\" x=\"1888\" y=\"768\">DEP<tspan baseline-shift=\"sub\" font-size=\"10\">2</tspan></text>\n",
       "<text dominant-baseline=\"hanging\" text-anchor=\"middle\" font-family=\"monospace\" font-size=\"10\" stroke=\"red\" x=\"1888\" y=\"788\">0.01</text>\n",
       "<rect x=\"1872\" y=\"112\" width=\"32\" height=\"32\" stroke=\"black\" fill=\"pink\"/>\n",
       "<text dominant-baseline=\"central\" text-anchor=\"middle\" font-family=\"monospace\" font-size=\"12\" x=\"1888\" y=\"128\">DEP<tspan baseline-shift=\"sub\" font-size=\"10\">2</tspan></text>\n",
       "<path d=\"M900,40 L900,32 L1916,32 L1916,40 \" stroke=\"black\" fill=\"none\"/>\n",
       "<path d=\"M900,1656 L900,1664 L1916,1664 L1916,1656 \" stroke=\"black\" fill=\"none\"/>\n",
       "<path d=\"M1952,192 L1952,1024 \" stroke=\"black\"/>\n",
       "<circle cx=\"1952\" cy=\"1024\" r=\"12\" stroke=\"none\" fill=\"black\"/>\n",
       "<circle cx=\"1952\" cy=\"192\" r=\"12\" stroke=\"black\" fill=\"white\"/>\n",
       "<path d=\"M1940,192 L1964,192 M1952,180 L1952,204 \" stroke=\"black\"/>\n",
       "<path d=\"M2016,192 L2016,1024 \" stroke=\"black\"/>\n",
       "<rect x=\"2000\" y=\"1008\" width=\"32\" height=\"32\" stroke=\"black\" fill=\"pink\"/>\n",
       "<text dominant-baseline=\"central\" text-anchor=\"middle\" font-family=\"monospace\" font-size=\"12\" x=\"2016\" y=\"1024\">DEP<tspan baseline-shift=\"sub\" font-size=\"10\">2</tspan></text>\n",
       "<text dominant-baseline=\"hanging\" text-anchor=\"middle\" font-family=\"monospace\" font-size=\"10\" stroke=\"red\" x=\"2016\" y=\"1044\">0.01</text>\n",
       "<rect x=\"2000\" y=\"176\" width=\"32\" height=\"32\" stroke=\"black\" fill=\"pink\"/>\n",
       "<text dominant-baseline=\"central\" text-anchor=\"middle\" font-family=\"monospace\" font-size=\"12\" x=\"2016\" y=\"192\">DEP<tspan baseline-shift=\"sub\" font-size=\"10\">2</tspan></text>\n",
       "<path d=\"M2080,320 L2080,1216 \" stroke=\"black\"/>\n",
       "<circle cx=\"2080\" cy=\"1216\" r=\"12\" stroke=\"none\" fill=\"black\"/>\n",
       "<circle cx=\"2080\" cy=\"320\" r=\"12\" stroke=\"black\" fill=\"white\"/>\n",
       "<path d=\"M2068,320 L2092,320 M2080,308 L2080,332 \" stroke=\"black\"/>\n",
       "<path d=\"M2144,320 L2144,1216 \" stroke=\"black\"/>\n",
       "<rect x=\"2128\" y=\"1200\" width=\"32\" height=\"32\" stroke=\"black\" fill=\"pink\"/>\n",
       "<text dominant-baseline=\"central\" text-anchor=\"middle\" font-family=\"monospace\" font-size=\"12\" x=\"2144\" y=\"1216\">DEP<tspan baseline-shift=\"sub\" font-size=\"10\">2</tspan></text>\n",
       "<text dominant-baseline=\"hanging\" text-anchor=\"middle\" font-family=\"monospace\" font-size=\"10\" stroke=\"red\" x=\"2144\" y=\"1236\">0.01</text>\n",
       "<rect x=\"2128\" y=\"304\" width=\"32\" height=\"32\" stroke=\"black\" fill=\"pink\"/>\n",
       "<text dominant-baseline=\"central\" text-anchor=\"middle\" font-family=\"monospace\" font-size=\"12\" x=\"2144\" y=\"320\">DEP<tspan baseline-shift=\"sub\" font-size=\"10\">2</tspan></text>\n",
       "<path d=\"M2208,256 L2208,896 \" stroke=\"black\"/>\n",
       "<circle cx=\"2208\" cy=\"896\" r=\"12\" stroke=\"none\" fill=\"black\"/>\n",
       "<circle cx=\"2208\" cy=\"256\" r=\"12\" stroke=\"black\" fill=\"white\"/>\n",
       "<path d=\"M2196,256 L2220,256 M2208,244 L2208,268 \" stroke=\"black\"/>\n",
       "<path d=\"M2272,256 L2272,896 \" stroke=\"black\"/>\n",
       "<rect x=\"2256\" y=\"880\" width=\"32\" height=\"32\" stroke=\"black\" fill=\"pink\"/>\n",
       "<text dominant-baseline=\"central\" text-anchor=\"middle\" font-family=\"monospace\" font-size=\"12\" x=\"2272\" y=\"896\">DEP<tspan baseline-shift=\"sub\" font-size=\"10\">2</tspan></text>\n",
       "<text dominant-baseline=\"hanging\" text-anchor=\"middle\" font-family=\"monospace\" font-size=\"10\" stroke=\"red\" x=\"2272\" y=\"916\">0.01</text>\n",
       "<rect x=\"2256\" y=\"240\" width=\"32\" height=\"32\" stroke=\"black\" fill=\"pink\"/>\n",
       "<text dominant-baseline=\"central\" text-anchor=\"middle\" font-family=\"monospace\" font-size=\"12\" x=\"2272\" y=\"256\">DEP<tspan baseline-shift=\"sub\" font-size=\"10\">2</tspan></text>\n",
       "<path d=\"M2336,576 L2336,1344 \" stroke=\"black\"/>\n",
       "<circle cx=\"2336\" cy=\"1344\" r=\"12\" stroke=\"none\" fill=\"black\"/>\n",
       "<circle cx=\"2336\" cy=\"576\" r=\"12\" stroke=\"black\" fill=\"white\"/>\n",
       "<path d=\"M2324,576 L2348,576 M2336,564 L2336,588 \" stroke=\"black\"/>\n",
       "<path d=\"M2400,576 L2400,1344 \" stroke=\"black\"/>\n",
       "<rect x=\"2384\" y=\"1328\" width=\"32\" height=\"32\" stroke=\"black\" fill=\"pink\"/>\n",
       "<text dominant-baseline=\"central\" text-anchor=\"middle\" font-family=\"monospace\" font-size=\"12\" x=\"2400\" y=\"1344\">DEP<tspan baseline-shift=\"sub\" font-size=\"10\">2</tspan></text>\n",
       "<text dominant-baseline=\"hanging\" text-anchor=\"middle\" font-family=\"monospace\" font-size=\"10\" stroke=\"red\" x=\"2400\" y=\"1364\">0.01</text>\n",
       "<rect x=\"2384\" y=\"560\" width=\"32\" height=\"32\" stroke=\"black\" fill=\"pink\"/>\n",
       "<text dominant-baseline=\"central\" text-anchor=\"middle\" font-family=\"monospace\" font-size=\"12\" x=\"2400\" y=\"576\">DEP<tspan baseline-shift=\"sub\" font-size=\"10\">2</tspan></text>\n",
       "<path d=\"M2464,128 L2464,960 \" stroke=\"black\"/>\n",
       "<circle cx=\"2464\" cy=\"960\" r=\"12\" stroke=\"none\" fill=\"black\"/>\n",
       "<circle cx=\"2464\" cy=\"128\" r=\"12\" stroke=\"none\" fill=\"black\"/>\n",
       "<path d=\"M2528,128 L2528,960 \" stroke=\"black\"/>\n",
       "<rect x=\"2512\" y=\"944\" width=\"32\" height=\"32\" stroke=\"black\" fill=\"pink\"/>\n",
       "<text dominant-baseline=\"central\" text-anchor=\"middle\" font-family=\"monospace\" font-size=\"12\" x=\"2528\" y=\"960\">DEP<tspan baseline-shift=\"sub\" font-size=\"10\">2</tspan></text>\n",
       "<text dominant-baseline=\"hanging\" text-anchor=\"middle\" font-family=\"monospace\" font-size=\"10\" stroke=\"red\" x=\"2528\" y=\"980\">0.01</text>\n",
       "<rect x=\"2512\" y=\"112\" width=\"32\" height=\"32\" stroke=\"black\" fill=\"pink\"/>\n",
       "<text dominant-baseline=\"central\" text-anchor=\"middle\" font-family=\"monospace\" font-size=\"12\" x=\"2528\" y=\"128\">DEP<tspan baseline-shift=\"sub\" font-size=\"10\">2</tspan></text>\n",
       "<path d=\"M2592,384 L2592,1280 \" stroke=\"black\"/>\n",
       "<circle cx=\"2592\" cy=\"1280\" r=\"12\" stroke=\"none\" fill=\"black\"/>\n",
       "<circle cx=\"2592\" cy=\"384\" r=\"12\" stroke=\"none\" fill=\"black\"/>\n",
       "<path d=\"M2656,384 L2656,1280 \" stroke=\"black\"/>\n",
       "<rect x=\"2640\" y=\"1264\" width=\"32\" height=\"32\" stroke=\"black\" fill=\"pink\"/>\n",
       "<text dominant-baseline=\"central\" text-anchor=\"middle\" font-family=\"monospace\" font-size=\"12\" x=\"2656\" y=\"1280\">DEP<tspan baseline-shift=\"sub\" font-size=\"10\">2</tspan></text>\n",
       "<text dominant-baseline=\"hanging\" text-anchor=\"middle\" font-family=\"monospace\" font-size=\"10\" stroke=\"red\" x=\"2656\" y=\"1300\">0.01</text>\n",
       "<rect x=\"2640\" y=\"368\" width=\"32\" height=\"32\" stroke=\"black\" fill=\"pink\"/>\n",
       "<text dominant-baseline=\"central\" text-anchor=\"middle\" font-family=\"monospace\" font-size=\"12\" x=\"2656\" y=\"384\">DEP<tspan baseline-shift=\"sub\" font-size=\"10\">2</tspan></text>\n",
       "<path d=\"M2720,512 L2720,1472 \" stroke=\"black\"/>\n",
       "<circle cx=\"2720\" cy=\"1472\" r=\"12\" stroke=\"none\" fill=\"black\"/>\n",
       "<circle cx=\"2720\" cy=\"512\" r=\"12\" stroke=\"none\" fill=\"black\"/>\n",
       "<path d=\"M2784,512 L2784,1472 \" stroke=\"black\"/>\n",
       "<rect x=\"2768\" y=\"1456\" width=\"32\" height=\"32\" stroke=\"black\" fill=\"pink\"/>\n",
       "<text dominant-baseline=\"central\" text-anchor=\"middle\" font-family=\"monospace\" font-size=\"12\" x=\"2784\" y=\"1472\">DEP<tspan baseline-shift=\"sub\" font-size=\"10\">2</tspan></text>\n",
       "<text dominant-baseline=\"hanging\" text-anchor=\"middle\" font-family=\"monospace\" font-size=\"10\" stroke=\"red\" x=\"2784\" y=\"1492\">0.01</text>\n",
       "<rect x=\"2768\" y=\"496\" width=\"32\" height=\"32\" stroke=\"black\" fill=\"pink\"/>\n",
       "<text dominant-baseline=\"central\" text-anchor=\"middle\" font-family=\"monospace\" font-size=\"12\" x=\"2784\" y=\"512\">DEP<tspan baseline-shift=\"sub\" font-size=\"10\">2</tspan></text>\n",
       "<path d=\"M2848,192 L2848,768 \" stroke=\"black\"/>\n",
       "<circle cx=\"2848\" cy=\"768\" r=\"12\" stroke=\"none\" fill=\"black\"/>\n",
       "<circle cx=\"2848\" cy=\"192\" r=\"12\" stroke=\"none\" fill=\"black\"/>\n",
       "<path d=\"M2912,192 L2912,768 \" stroke=\"black\"/>\n",
       "<rect x=\"2896\" y=\"752\" width=\"32\" height=\"32\" stroke=\"black\" fill=\"pink\"/>\n",
       "<text dominant-baseline=\"central\" text-anchor=\"middle\" font-family=\"monospace\" font-size=\"12\" x=\"2912\" y=\"768\">DEP<tspan baseline-shift=\"sub\" font-size=\"10\">2</tspan></text>\n",
       "<text dominant-baseline=\"hanging\" text-anchor=\"middle\" font-family=\"monospace\" font-size=\"10\" stroke=\"red\" x=\"2912\" y=\"788\">0.01</text>\n",
       "<rect x=\"2896\" y=\"176\" width=\"32\" height=\"32\" stroke=\"black\" fill=\"pink\"/>\n",
       "<text dominant-baseline=\"central\" text-anchor=\"middle\" font-family=\"monospace\" font-size=\"12\" x=\"2912\" y=\"192\">DEP<tspan baseline-shift=\"sub\" font-size=\"10\">2</tspan></text>\n",
       "<path d=\"M1924,40 L1924,32 L2940,32 L2940,40 \" stroke=\"black\" fill=\"none\"/>\n",
       "<path d=\"M1924,1656 L1924,1664 L2940,1664 L2940,1656 \" stroke=\"black\" fill=\"none\"/>\n",
       "<path d=\"M2976,320 L2976,1024 \" stroke=\"black\"/>\n",
       "<circle cx=\"2976\" cy=\"1024\" r=\"12\" stroke=\"none\" fill=\"black\"/>\n",
       "<circle cx=\"2976\" cy=\"320\" r=\"12\" stroke=\"black\" fill=\"white\"/>\n",
       "<path d=\"M2964,320 L2988,320 M2976,308 L2976,332 \" stroke=\"black\"/>\n",
       "<path d=\"M3040,320 L3040,1024 \" stroke=\"black\"/>\n",
       "<rect x=\"3024\" y=\"1008\" width=\"32\" height=\"32\" stroke=\"black\" fill=\"pink\"/>\n",
       "<text dominant-baseline=\"central\" text-anchor=\"middle\" font-family=\"monospace\" font-size=\"12\" x=\"3040\" y=\"1024\">DEP<tspan baseline-shift=\"sub\" font-size=\"10\">2</tspan></text>\n",
       "<text dominant-baseline=\"hanging\" text-anchor=\"middle\" font-family=\"monospace\" font-size=\"10\" stroke=\"red\" x=\"3040\" y=\"1044\">0.01</text>\n",
       "<rect x=\"3024\" y=\"304\" width=\"32\" height=\"32\" stroke=\"black\" fill=\"pink\"/>\n",
       "<text dominant-baseline=\"central\" text-anchor=\"middle\" font-family=\"monospace\" font-size=\"12\" x=\"3040\" y=\"320\">DEP<tspan baseline-shift=\"sub\" font-size=\"10\">2</tspan></text>\n",
       "<path d=\"M3104,448 L3104,1216 \" stroke=\"black\"/>\n",
       "<circle cx=\"3104\" cy=\"1216\" r=\"12\" stroke=\"none\" fill=\"black\"/>\n",
       "<circle cx=\"3104\" cy=\"448\" r=\"12\" stroke=\"black\" fill=\"white\"/>\n",
       "<path d=\"M3092,448 L3116,448 M3104,436 L3104,460 \" stroke=\"black\"/>\n",
       "<path d=\"M3168,448 L3168,1216 \" stroke=\"black\"/>\n",
       "<rect x=\"3152\" y=\"1200\" width=\"32\" height=\"32\" stroke=\"black\" fill=\"pink\"/>\n",
       "<text dominant-baseline=\"central\" text-anchor=\"middle\" font-family=\"monospace\" font-size=\"12\" x=\"3168\" y=\"1216\">DEP<tspan baseline-shift=\"sub\" font-size=\"10\">2</tspan></text>\n",
       "<text dominant-baseline=\"hanging\" text-anchor=\"middle\" font-family=\"monospace\" font-size=\"10\" stroke=\"red\" x=\"3168\" y=\"1236\">0.01</text>\n",
       "<rect x=\"3152\" y=\"432\" width=\"32\" height=\"32\" stroke=\"black\" fill=\"pink\"/>\n",
       "<text dominant-baseline=\"central\" text-anchor=\"middle\" font-family=\"monospace\" font-size=\"12\" x=\"3168\" y=\"448\">DEP<tspan baseline-shift=\"sub\" font-size=\"10\">2</tspan></text>\n",
       "<path d=\"M3232,256 L3232,960 \" stroke=\"black\"/>\n",
       "<circle cx=\"3232\" cy=\"960\" r=\"12\" stroke=\"none\" fill=\"black\"/>\n",
       "<circle cx=\"3232\" cy=\"256\" r=\"12\" stroke=\"none\" fill=\"black\"/>\n",
       "<path d=\"M3296,256 L3296,960 \" stroke=\"black\"/>\n",
       "<rect x=\"3280\" y=\"944\" width=\"32\" height=\"32\" stroke=\"black\" fill=\"pink\"/>\n",
       "<text dominant-baseline=\"central\" text-anchor=\"middle\" font-family=\"monospace\" font-size=\"12\" x=\"3296\" y=\"960\">DEP<tspan baseline-shift=\"sub\" font-size=\"10\">2</tspan></text>\n",
       "<text dominant-baseline=\"hanging\" text-anchor=\"middle\" font-family=\"monospace\" font-size=\"10\" stroke=\"red\" x=\"3296\" y=\"980\">0.01</text>\n",
       "<rect x=\"3280\" y=\"240\" width=\"32\" height=\"32\" stroke=\"black\" fill=\"pink\"/>\n",
       "<text dominant-baseline=\"central\" text-anchor=\"middle\" font-family=\"monospace\" font-size=\"12\" x=\"3296\" y=\"256\">DEP<tspan baseline-shift=\"sub\" font-size=\"10\">2</tspan></text>\n",
       "<path d=\"M3360,512 L3360,1280 \" stroke=\"black\"/>\n",
       "<circle cx=\"3360\" cy=\"1280\" r=\"12\" stroke=\"none\" fill=\"black\"/>\n",
       "<circle cx=\"3360\" cy=\"512\" r=\"12\" stroke=\"none\" fill=\"black\"/>\n",
       "<path d=\"M3424,512 L3424,1280 \" stroke=\"black\"/>\n",
       "<rect x=\"3408\" y=\"1264\" width=\"32\" height=\"32\" stroke=\"black\" fill=\"pink\"/>\n",
       "<text dominant-baseline=\"central\" text-anchor=\"middle\" font-family=\"monospace\" font-size=\"12\" x=\"3424\" y=\"1280\">DEP<tspan baseline-shift=\"sub\" font-size=\"10\">2</tspan></text>\n",
       "<text dominant-baseline=\"hanging\" text-anchor=\"middle\" font-family=\"monospace\" font-size=\"10\" stroke=\"red\" x=\"3424\" y=\"1300\">0.01</text>\n",
       "<rect x=\"3408\" y=\"496\" width=\"32\" height=\"32\" stroke=\"black\" fill=\"pink\"/>\n",
       "<text dominant-baseline=\"central\" text-anchor=\"middle\" font-family=\"monospace\" font-size=\"12\" x=\"3424\" y=\"512\">DEP<tspan baseline-shift=\"sub\" font-size=\"10\">2</tspan></text>\n",
       "<path d=\"M2948,40 L2948,32 L3452,32 L3452,40 \" stroke=\"black\" fill=\"none\"/>\n",
       "<path d=\"M2948,1656 L2948,1664 L3452,1664 L3452,1656 \" stroke=\"black\" fill=\"none\"/>\n",
       "<path d=\"M3488,384 L3488,1024 \" stroke=\"black\"/>\n",
       "<circle cx=\"3488\" cy=\"1024\" r=\"12\" stroke=\"none\" fill=\"black\"/>\n",
       "<circle cx=\"3488\" cy=\"384\" r=\"12\" stroke=\"black\" fill=\"white\"/>\n",
       "<path d=\"M3476,384 L3500,384 M3488,372 L3488,396 \" stroke=\"black\"/>\n",
       "<path d=\"M3552,384 L3552,1024 \" stroke=\"black\"/>\n",
       "<rect x=\"3536\" y=\"1008\" width=\"32\" height=\"32\" stroke=\"black\" fill=\"pink\"/>\n",
       "<text dominant-baseline=\"central\" text-anchor=\"middle\" font-family=\"monospace\" font-size=\"12\" x=\"3552\" y=\"1024\">DEP<tspan baseline-shift=\"sub\" font-size=\"10\">2</tspan></text>\n",
       "<text dominant-baseline=\"hanging\" text-anchor=\"middle\" font-family=\"monospace\" font-size=\"10\" stroke=\"red\" x=\"3552\" y=\"1044\">0.01</text>\n",
       "<rect x=\"3536\" y=\"368\" width=\"32\" height=\"32\" stroke=\"black\" fill=\"pink\"/>\n",
       "<text dominant-baseline=\"central\" text-anchor=\"middle\" font-family=\"monospace\" font-size=\"12\" x=\"3552\" y=\"384\">DEP<tspan baseline-shift=\"sub\" font-size=\"10\">2</tspan></text>\n",
       "<path d=\"M3616,512 L3616,1216 \" stroke=\"black\"/>\n",
       "<circle cx=\"3616\" cy=\"1216\" r=\"12\" stroke=\"none\" fill=\"black\"/>\n",
       "<circle cx=\"3616\" cy=\"512\" r=\"12\" stroke=\"black\" fill=\"white\"/>\n",
       "<path d=\"M3604,512 L3628,512 M3616,500 L3616,524 \" stroke=\"black\"/>\n",
       "<path d=\"M3680,512 L3680,1216 \" stroke=\"black\"/>\n",
       "<rect x=\"3664\" y=\"1200\" width=\"32\" height=\"32\" stroke=\"black\" fill=\"pink\"/>\n",
       "<text dominant-baseline=\"central\" text-anchor=\"middle\" font-family=\"monospace\" font-size=\"12\" x=\"3680\" y=\"1216\">DEP<tspan baseline-shift=\"sub\" font-size=\"10\">2</tspan></text>\n",
       "<text dominant-baseline=\"hanging\" text-anchor=\"middle\" font-family=\"monospace\" font-size=\"10\" stroke=\"red\" x=\"3680\" y=\"1236\">0.01</text>\n",
       "<rect x=\"3664\" y=\"496\" width=\"32\" height=\"32\" stroke=\"black\" fill=\"pink\"/>\n",
       "<text dominant-baseline=\"central\" text-anchor=\"middle\" font-family=\"monospace\" font-size=\"12\" x=\"3680\" y=\"512\">DEP<tspan baseline-shift=\"sub\" font-size=\"10\">2</tspan></text>\n",
       "<path d=\"M3744,320 L3744,960 \" stroke=\"black\"/>\n",
       "<circle cx=\"3744\" cy=\"960\" r=\"12\" stroke=\"none\" fill=\"black\"/>\n",
       "<circle cx=\"3744\" cy=\"320\" r=\"12\" stroke=\"none\" fill=\"black\"/>\n",
       "<path d=\"M3808,320 L3808,960 \" stroke=\"black\"/>\n",
       "<rect x=\"3792\" y=\"944\" width=\"32\" height=\"32\" stroke=\"black\" fill=\"pink\"/>\n",
       "<text dominant-baseline=\"central\" text-anchor=\"middle\" font-family=\"monospace\" font-size=\"12\" x=\"3808\" y=\"960\">DEP<tspan baseline-shift=\"sub\" font-size=\"10\">2</tspan></text>\n",
       "<text dominant-baseline=\"hanging\" text-anchor=\"middle\" font-family=\"monospace\" font-size=\"10\" stroke=\"red\" x=\"3808\" y=\"980\">0.01</text>\n",
       "<rect x=\"3792\" y=\"304\" width=\"32\" height=\"32\" stroke=\"black\" fill=\"pink\"/>\n",
       "<text dominant-baseline=\"central\" text-anchor=\"middle\" font-family=\"monospace\" font-size=\"12\" x=\"3808\" y=\"320\">DEP<tspan baseline-shift=\"sub\" font-size=\"10\">2</tspan></text>\n",
       "<path d=\"M3872,576 L3872,1280 \" stroke=\"black\"/>\n",
       "<circle cx=\"3872\" cy=\"1280\" r=\"12\" stroke=\"none\" fill=\"black\"/>\n",
       "<circle cx=\"3872\" cy=\"576\" r=\"12\" stroke=\"none\" fill=\"black\"/>\n",
       "<path d=\"M3936,576 L3936,1280 \" stroke=\"black\"/>\n",
       "<rect x=\"3920\" y=\"1264\" width=\"32\" height=\"32\" stroke=\"black\" fill=\"pink\"/>\n",
       "<text dominant-baseline=\"central\" text-anchor=\"middle\" font-family=\"monospace\" font-size=\"12\" x=\"3936\" y=\"1280\">DEP<tspan baseline-shift=\"sub\" font-size=\"10\">2</tspan></text>\n",
       "<text dominant-baseline=\"hanging\" text-anchor=\"middle\" font-family=\"monospace\" font-size=\"10\" stroke=\"red\" x=\"3936\" y=\"1300\">0.01</text>\n",
       "<rect x=\"3920\" y=\"560\" width=\"32\" height=\"32\" stroke=\"black\" fill=\"pink\"/>\n",
       "<text dominant-baseline=\"central\" text-anchor=\"middle\" font-family=\"monospace\" font-size=\"12\" x=\"3936\" y=\"576\">DEP<tspan baseline-shift=\"sub\" font-size=\"10\">2</tspan></text>\n",
       "<path d=\"M3460,40 L3460,32 L3964,32 L3964,40 \" stroke=\"black\" fill=\"none\"/>\n",
       "<path d=\"M3460,1656 L3460,1664 L3964,1664 L3964,1656 \" stroke=\"black\" fill=\"none\"/>\n",
       "<rect x=\"3984\" y=\"1008\" width=\"32\" height=\"32\" stroke=\"black\" fill=\"white\"/>\n",
       "<text dominant-baseline=\"central\" text-anchor=\"middle\" font-family=\"monospace\" font-size=\"30\" x=\"4000\" y=\"1024\">H</text>\n",
       "<rect x=\"3984\" y=\"1200\" width=\"32\" height=\"32\" stroke=\"black\" fill=\"white\"/>\n",
       "<text dominant-baseline=\"central\" text-anchor=\"middle\" font-family=\"monospace\" font-size=\"30\" x=\"4000\" y=\"1216\">H</text>\n",
       "<rect x=\"3984\" y=\"880\" width=\"32\" height=\"32\" stroke=\"black\" fill=\"white\"/>\n",
       "<text dominant-baseline=\"central\" text-anchor=\"middle\" font-family=\"monospace\" font-size=\"30\" x=\"4000\" y=\"896\">H</text>\n",
       "<rect x=\"3984\" y=\"1328\" width=\"32\" height=\"32\" stroke=\"black\" fill=\"white\"/>\n",
       "<text dominant-baseline=\"central\" text-anchor=\"middle\" font-family=\"monospace\" font-size=\"30\" x=\"4000\" y=\"1344\">H</text>\n",
       "<rect x=\"3984\" y=\"944\" width=\"32\" height=\"32\" stroke=\"black\" fill=\"white\"/>\n",
       "<text dominant-baseline=\"central\" text-anchor=\"middle\" font-family=\"monospace\" font-size=\"30\" x=\"4000\" y=\"960\">H</text>\n",
       "<rect x=\"3984\" y=\"1264\" width=\"32\" height=\"32\" stroke=\"black\" fill=\"white\"/>\n",
       "<text dominant-baseline=\"central\" text-anchor=\"middle\" font-family=\"monospace\" font-size=\"30\" x=\"4000\" y=\"1280\">H</text>\n",
       "<rect x=\"3984\" y=\"1456\" width=\"32\" height=\"32\" stroke=\"black\" fill=\"white\"/>\n",
       "<text dominant-baseline=\"central\" text-anchor=\"middle\" font-family=\"monospace\" font-size=\"30\" x=\"4000\" y=\"1472\">H</text>\n",
       "<rect x=\"3984\" y=\"752\" width=\"32\" height=\"32\" stroke=\"black\" fill=\"white\"/>\n",
       "<text dominant-baseline=\"central\" text-anchor=\"middle\" font-family=\"monospace\" font-size=\"30\" x=\"4000\" y=\"768\">H</text>\n",
       "<rect x=\"4048\" y=\"1008\" width=\"32\" height=\"32\" stroke=\"black\" fill=\"pink\"/>\n",
       "<text dominant-baseline=\"central\" text-anchor=\"middle\" font-family=\"monospace\" font-size=\"12\" x=\"4064\" y=\"1024\">DEP<tspan baseline-shift=\"sub\" font-size=\"10\">1</tspan></text>\n",
       "<text dominant-baseline=\"hanging\" text-anchor=\"middle\" font-family=\"monospace\" font-size=\"10\" stroke=\"red\" x=\"4064\" y=\"1044\">0.01</text>\n",
       "<rect x=\"4048\" y=\"1200\" width=\"32\" height=\"32\" stroke=\"black\" fill=\"pink\"/>\n",
       "<text dominant-baseline=\"central\" text-anchor=\"middle\" font-family=\"monospace\" font-size=\"12\" x=\"4064\" y=\"1216\">DEP<tspan baseline-shift=\"sub\" font-size=\"10\">1</tspan></text>\n",
       "<text dominant-baseline=\"hanging\" text-anchor=\"middle\" font-family=\"monospace\" font-size=\"10\" stroke=\"red\" x=\"4064\" y=\"1236\">0.01</text>\n",
       "<rect x=\"4048\" y=\"880\" width=\"32\" height=\"32\" stroke=\"black\" fill=\"pink\"/>\n",
       "<text dominant-baseline=\"central\" text-anchor=\"middle\" font-family=\"monospace\" font-size=\"12\" x=\"4064\" y=\"896\">DEP<tspan baseline-shift=\"sub\" font-size=\"10\">1</tspan></text>\n",
       "<text dominant-baseline=\"hanging\" text-anchor=\"middle\" font-family=\"monospace\" font-size=\"10\" stroke=\"red\" x=\"4064\" y=\"916\">0.01</text>\n",
       "<rect x=\"4048\" y=\"1328\" width=\"32\" height=\"32\" stroke=\"black\" fill=\"pink\"/>\n",
       "<text dominant-baseline=\"central\" text-anchor=\"middle\" font-family=\"monospace\" font-size=\"12\" x=\"4064\" y=\"1344\">DEP<tspan baseline-shift=\"sub\" font-size=\"10\">1</tspan></text>\n",
       "<text dominant-baseline=\"hanging\" text-anchor=\"middle\" font-family=\"monospace\" font-size=\"10\" stroke=\"red\" x=\"4064\" y=\"1364\">0.01</text>\n",
       "<rect x=\"4048\" y=\"944\" width=\"32\" height=\"32\" stroke=\"black\" fill=\"pink\"/>\n",
       "<text dominant-baseline=\"central\" text-anchor=\"middle\" font-family=\"monospace\" font-size=\"12\" x=\"4064\" y=\"960\">DEP<tspan baseline-shift=\"sub\" font-size=\"10\">1</tspan></text>\n",
       "<text dominant-baseline=\"hanging\" text-anchor=\"middle\" font-family=\"monospace\" font-size=\"10\" stroke=\"red\" x=\"4064\" y=\"980\">0.01</text>\n",
       "<rect x=\"4048\" y=\"1264\" width=\"32\" height=\"32\" stroke=\"black\" fill=\"pink\"/>\n",
       "<text dominant-baseline=\"central\" text-anchor=\"middle\" font-family=\"monospace\" font-size=\"12\" x=\"4064\" y=\"1280\">DEP<tspan baseline-shift=\"sub\" font-size=\"10\">1</tspan></text>\n",
       "<text dominant-baseline=\"hanging\" text-anchor=\"middle\" font-family=\"monospace\" font-size=\"10\" stroke=\"red\" x=\"4064\" y=\"1300\">0.01</text>\n",
       "<rect x=\"4048\" y=\"1456\" width=\"32\" height=\"32\" stroke=\"black\" fill=\"pink\"/>\n",
       "<text dominant-baseline=\"central\" text-anchor=\"middle\" font-family=\"monospace\" font-size=\"12\" x=\"4064\" y=\"1472\">DEP<tspan baseline-shift=\"sub\" font-size=\"10\">1</tspan></text>\n",
       "<text dominant-baseline=\"hanging\" text-anchor=\"middle\" font-family=\"monospace\" font-size=\"10\" stroke=\"red\" x=\"4064\" y=\"1492\">0.01</text>\n",
       "<rect x=\"4048\" y=\"752\" width=\"32\" height=\"32\" stroke=\"black\" fill=\"pink\"/>\n",
       "<text dominant-baseline=\"central\" text-anchor=\"middle\" font-family=\"monospace\" font-size=\"12\" x=\"4064\" y=\"768\">DEP<tspan baseline-shift=\"sub\" font-size=\"10\">1</tspan></text>\n",
       "<text dominant-baseline=\"hanging\" text-anchor=\"middle\" font-family=\"monospace\" font-size=\"10\" stroke=\"red\" x=\"4064\" y=\"788\">0.01</text>\n",
       "<path d=\"M3972,40 L3972,32 L4092,32 L4092,40 \" stroke=\"black\" fill=\"none\"/>\n",
       "<path d=\"M3972,1656 L3972,1664 L4092,1664 L4092,1656 \" stroke=\"black\" fill=\"none\"/>\n",
       "<rect x=\"4112\" y=\"1008\" width=\"32\" height=\"32\" stroke=\"black\" fill=\"pink\"/>\n",
       "<text dominant-baseline=\"central\" text-anchor=\"middle\" font-family=\"monospace\" font-size=\"12\" x=\"4128\" y=\"1024\">DEP<tspan baseline-shift=\"sub\" font-size=\"10\">1</tspan></text>\n",
       "<text dominant-baseline=\"hanging\" text-anchor=\"middle\" font-family=\"monospace\" font-size=\"10\" stroke=\"red\" x=\"4128\" y=\"1044\">0.01</text>\n",
       "<rect x=\"4112\" y=\"1200\" width=\"32\" height=\"32\" stroke=\"black\" fill=\"pink\"/>\n",
       "<text dominant-baseline=\"central\" text-anchor=\"middle\" font-family=\"monospace\" font-size=\"12\" x=\"4128\" y=\"1216\">DEP<tspan baseline-shift=\"sub\" font-size=\"10\">1</tspan></text>\n",
       "<text dominant-baseline=\"hanging\" text-anchor=\"middle\" font-family=\"monospace\" font-size=\"10\" stroke=\"red\" x=\"4128\" y=\"1236\">0.01</text>\n",
       "<rect x=\"4112\" y=\"880\" width=\"32\" height=\"32\" stroke=\"black\" fill=\"pink\"/>\n",
       "<text dominant-baseline=\"central\" text-anchor=\"middle\" font-family=\"monospace\" font-size=\"12\" x=\"4128\" y=\"896\">DEP<tspan baseline-shift=\"sub\" font-size=\"10\">1</tspan></text>\n",
       "<text dominant-baseline=\"hanging\" text-anchor=\"middle\" font-family=\"monospace\" font-size=\"10\" stroke=\"red\" x=\"4128\" y=\"916\">0.01</text>\n",
       "<rect x=\"4112\" y=\"1328\" width=\"32\" height=\"32\" stroke=\"black\" fill=\"pink\"/>\n",
       "<text dominant-baseline=\"central\" text-anchor=\"middle\" font-family=\"monospace\" font-size=\"12\" x=\"4128\" y=\"1344\">DEP<tspan baseline-shift=\"sub\" font-size=\"10\">1</tspan></text>\n",
       "<text dominant-baseline=\"hanging\" text-anchor=\"middle\" font-family=\"monospace\" font-size=\"10\" stroke=\"red\" x=\"4128\" y=\"1364\">0.01</text>\n",
       "<rect x=\"4112\" y=\"944\" width=\"32\" height=\"32\" stroke=\"black\" fill=\"pink\"/>\n",
       "<text dominant-baseline=\"central\" text-anchor=\"middle\" font-family=\"monospace\" font-size=\"12\" x=\"4128\" y=\"960\">DEP<tspan baseline-shift=\"sub\" font-size=\"10\">1</tspan></text>\n",
       "<text dominant-baseline=\"hanging\" text-anchor=\"middle\" font-family=\"monospace\" font-size=\"10\" stroke=\"red\" x=\"4128\" y=\"980\">0.01</text>\n",
       "<rect x=\"4112\" y=\"1264\" width=\"32\" height=\"32\" stroke=\"black\" fill=\"pink\"/>\n",
       "<text dominant-baseline=\"central\" text-anchor=\"middle\" font-family=\"monospace\" font-size=\"12\" x=\"4128\" y=\"1280\">DEP<tspan baseline-shift=\"sub\" font-size=\"10\">1</tspan></text>\n",
       "<text dominant-baseline=\"hanging\" text-anchor=\"middle\" font-family=\"monospace\" font-size=\"10\" stroke=\"red\" x=\"4128\" y=\"1300\">0.01</text>\n",
       "<rect x=\"4112\" y=\"1456\" width=\"32\" height=\"32\" stroke=\"black\" fill=\"pink\"/>\n",
       "<text dominant-baseline=\"central\" text-anchor=\"middle\" font-family=\"monospace\" font-size=\"12\" x=\"4128\" y=\"1472\">DEP<tspan baseline-shift=\"sub\" font-size=\"10\">1</tspan></text>\n",
       "<text dominant-baseline=\"hanging\" text-anchor=\"middle\" font-family=\"monospace\" font-size=\"10\" stroke=\"red\" x=\"4128\" y=\"1492\">0.01</text>\n",
       "<rect x=\"4112\" y=\"752\" width=\"32\" height=\"32\" stroke=\"black\" fill=\"pink\"/>\n",
       "<text dominant-baseline=\"central\" text-anchor=\"middle\" font-family=\"monospace\" font-size=\"12\" x=\"4128\" y=\"768\">DEP<tspan baseline-shift=\"sub\" font-size=\"10\">1</tspan></text>\n",
       "<text dominant-baseline=\"hanging\" text-anchor=\"middle\" font-family=\"monospace\" font-size=\"10\" stroke=\"red\" x=\"4128\" y=\"788\">0.01</text>\n",
       "<rect x=\"4176\" y=\"1008\" width=\"32\" height=\"32\" stroke=\"black\" fill=\"black\"/>\n",
       "<text dominant-baseline=\"central\" text-anchor=\"middle\" font-family=\"monospace\" font-size=\"24\" x=\"4192\" y=\"1024\" fill=\"white\">MR</text>\n",
       "<text text-anchor=\"middle\" font-family=\"monospace\" font-size=\"8\" x=\"4192\" y=\"1004\">rec[0]</text>\n",
       "<rect x=\"4176\" y=\"1200\" width=\"32\" height=\"32\" stroke=\"black\" fill=\"black\"/>\n",
       "<text dominant-baseline=\"central\" text-anchor=\"middle\" font-family=\"monospace\" font-size=\"24\" x=\"4192\" y=\"1216\" fill=\"white\">MR</text>\n",
       "<text text-anchor=\"middle\" font-family=\"monospace\" font-size=\"8\" x=\"4192\" y=\"1196\">rec[1]</text>\n",
       "<rect x=\"4176\" y=\"880\" width=\"32\" height=\"32\" stroke=\"black\" fill=\"black\"/>\n",
       "<text dominant-baseline=\"central\" text-anchor=\"middle\" font-family=\"monospace\" font-size=\"24\" x=\"4192\" y=\"896\" fill=\"white\">MR</text>\n",
       "<text text-anchor=\"middle\" font-family=\"monospace\" font-size=\"8\" x=\"4192\" y=\"876\">rec[2]</text>\n",
       "<rect x=\"4176\" y=\"1328\" width=\"32\" height=\"32\" stroke=\"black\" fill=\"black\"/>\n",
       "<text dominant-baseline=\"central\" text-anchor=\"middle\" font-family=\"monospace\" font-size=\"24\" x=\"4192\" y=\"1344\" fill=\"white\">MR</text>\n",
       "<text text-anchor=\"middle\" font-family=\"monospace\" font-size=\"8\" x=\"4192\" y=\"1324\">rec[3]</text>\n",
       "<rect x=\"4176\" y=\"944\" width=\"32\" height=\"32\" stroke=\"black\" fill=\"black\"/>\n",
       "<text dominant-baseline=\"central\" text-anchor=\"middle\" font-family=\"monospace\" font-size=\"24\" x=\"4192\" y=\"960\" fill=\"white\">MR</text>\n",
       "<text text-anchor=\"middle\" font-family=\"monospace\" font-size=\"8\" x=\"4192\" y=\"940\">rec[4]</text>\n",
       "<rect x=\"4176\" y=\"1264\" width=\"32\" height=\"32\" stroke=\"black\" fill=\"black\"/>\n",
       "<text dominant-baseline=\"central\" text-anchor=\"middle\" font-family=\"monospace\" font-size=\"24\" x=\"4192\" y=\"1280\" fill=\"white\">MR</text>\n",
       "<text text-anchor=\"middle\" font-family=\"monospace\" font-size=\"8\" x=\"4192\" y=\"1260\">rec[5]</text>\n",
       "<rect x=\"4176\" y=\"1456\" width=\"32\" height=\"32\" stroke=\"black\" fill=\"black\"/>\n",
       "<text dominant-baseline=\"central\" text-anchor=\"middle\" font-family=\"monospace\" font-size=\"24\" x=\"4192\" y=\"1472\" fill=\"white\">MR</text>\n",
       "<text text-anchor=\"middle\" font-family=\"monospace\" font-size=\"8\" x=\"4192\" y=\"1452\">rec[6]</text>\n",
       "<rect x=\"4176\" y=\"752\" width=\"32\" height=\"32\" stroke=\"black\" fill=\"black\"/>\n",
       "<text dominant-baseline=\"central\" text-anchor=\"middle\" font-family=\"monospace\" font-size=\"24\" x=\"4192\" y=\"768\" fill=\"white\">MR</text>\n",
       "<text text-anchor=\"middle\" font-family=\"monospace\" font-size=\"8\" x=\"4192\" y=\"748\">rec[7]</text>\n",
       "<rect x=\"4240\" y=\"1008\" width=\"32\" height=\"32\" stroke=\"black\" fill=\"pink\"/>\n",
       "<text dominant-baseline=\"central\" text-anchor=\"middle\" font-family=\"monospace\" font-size=\"12\" x=\"4256\" y=\"1024\">DEP<tspan baseline-shift=\"sub\" font-size=\"10\">1</tspan></text>\n",
       "<text dominant-baseline=\"hanging\" text-anchor=\"middle\" font-family=\"monospace\" font-size=\"10\" stroke=\"red\" x=\"4256\" y=\"1044\">0.01</text>\n",
       "<rect x=\"4240\" y=\"1200\" width=\"32\" height=\"32\" stroke=\"black\" fill=\"pink\"/>\n",
       "<text dominant-baseline=\"central\" text-anchor=\"middle\" font-family=\"monospace\" font-size=\"12\" x=\"4256\" y=\"1216\">DEP<tspan baseline-shift=\"sub\" font-size=\"10\">1</tspan></text>\n",
       "<text dominant-baseline=\"hanging\" text-anchor=\"middle\" font-family=\"monospace\" font-size=\"10\" stroke=\"red\" x=\"4256\" y=\"1236\">0.01</text>\n",
       "<rect x=\"4240\" y=\"880\" width=\"32\" height=\"32\" stroke=\"black\" fill=\"pink\"/>\n",
       "<text dominant-baseline=\"central\" text-anchor=\"middle\" font-family=\"monospace\" font-size=\"12\" x=\"4256\" y=\"896\">DEP<tspan baseline-shift=\"sub\" font-size=\"10\">1</tspan></text>\n",
       "<text dominant-baseline=\"hanging\" text-anchor=\"middle\" font-family=\"monospace\" font-size=\"10\" stroke=\"red\" x=\"4256\" y=\"916\">0.01</text>\n",
       "<rect x=\"4240\" y=\"1328\" width=\"32\" height=\"32\" stroke=\"black\" fill=\"pink\"/>\n",
       "<text dominant-baseline=\"central\" text-anchor=\"middle\" font-family=\"monospace\" font-size=\"12\" x=\"4256\" y=\"1344\">DEP<tspan baseline-shift=\"sub\" font-size=\"10\">1</tspan></text>\n",
       "<text dominant-baseline=\"hanging\" text-anchor=\"middle\" font-family=\"monospace\" font-size=\"10\" stroke=\"red\" x=\"4256\" y=\"1364\">0.01</text>\n",
       "<rect x=\"4240\" y=\"944\" width=\"32\" height=\"32\" stroke=\"black\" fill=\"pink\"/>\n",
       "<text dominant-baseline=\"central\" text-anchor=\"middle\" font-family=\"monospace\" font-size=\"12\" x=\"4256\" y=\"960\">DEP<tspan baseline-shift=\"sub\" font-size=\"10\">1</tspan></text>\n",
       "<text dominant-baseline=\"hanging\" text-anchor=\"middle\" font-family=\"monospace\" font-size=\"10\" stroke=\"red\" x=\"4256\" y=\"980\">0.01</text>\n",
       "<rect x=\"4240\" y=\"1264\" width=\"32\" height=\"32\" stroke=\"black\" fill=\"pink\"/>\n",
       "<text dominant-baseline=\"central\" text-anchor=\"middle\" font-family=\"monospace\" font-size=\"12\" x=\"4256\" y=\"1280\">DEP<tspan baseline-shift=\"sub\" font-size=\"10\">1</tspan></text>\n",
       "<text dominant-baseline=\"hanging\" text-anchor=\"middle\" font-family=\"monospace\" font-size=\"10\" stroke=\"red\" x=\"4256\" y=\"1300\">0.01</text>\n",
       "<rect x=\"4240\" y=\"1456\" width=\"32\" height=\"32\" stroke=\"black\" fill=\"pink\"/>\n",
       "<text dominant-baseline=\"central\" text-anchor=\"middle\" font-family=\"monospace\" font-size=\"12\" x=\"4256\" y=\"1472\">DEP<tspan baseline-shift=\"sub\" font-size=\"10\">1</tspan></text>\n",
       "<text dominant-baseline=\"hanging\" text-anchor=\"middle\" font-family=\"monospace\" font-size=\"10\" stroke=\"red\" x=\"4256\" y=\"1492\">0.01</text>\n",
       "<rect x=\"4240\" y=\"752\" width=\"32\" height=\"32\" stroke=\"black\" fill=\"pink\"/>\n",
       "<text dominant-baseline=\"central\" text-anchor=\"middle\" font-family=\"monospace\" font-size=\"12\" x=\"4256\" y=\"768\">DEP<tspan baseline-shift=\"sub\" font-size=\"10\">1</tspan></text>\n",
       "<text dominant-baseline=\"hanging\" text-anchor=\"middle\" font-family=\"monospace\" font-size=\"10\" stroke=\"red\" x=\"4256\" y=\"788\">0.01</text>\n",
       "<path d=\"M4100,40 L4100,32 L4284,32 L4284,40 \" stroke=\"black\" fill=\"none\"/>\n",
       "<path d=\"M4100,1656 L4100,1664 L4284,1664 L4284,1656 \" stroke=\"black\" fill=\"none\"/>\n",
       "<rect x=\"4304\" y=\"48\" width=\"32\" height=\"32\" stroke=\"black\" fill=\"white\"/>\n",
       "<text dominant-baseline=\"central\" text-anchor=\"middle\" font-family=\"monospace\" font-size=\"30\" x=\"4320\" y=\"64\">H</text>\n",
       "<rect x=\"4304\" y=\"112\" width=\"32\" height=\"32\" stroke=\"black\" fill=\"white\"/>\n",
       "<text dominant-baseline=\"central\" text-anchor=\"middle\" font-family=\"monospace\" font-size=\"30\" x=\"4320\" y=\"128\">H</text>\n",
       "<rect x=\"4304\" y=\"176\" width=\"32\" height=\"32\" stroke=\"black\" fill=\"white\"/>\n",
       "<text dominant-baseline=\"central\" text-anchor=\"middle\" font-family=\"monospace\" font-size=\"30\" x=\"4320\" y=\"192\">H</text>\n",
       "<rect x=\"4368\" y=\"48\" width=\"32\" height=\"32\" stroke=\"black\" fill=\"pink\"/>\n",
       "<text dominant-baseline=\"central\" text-anchor=\"middle\" font-family=\"monospace\" font-size=\"12\" x=\"4384\" y=\"64\">DEP<tspan baseline-shift=\"sub\" font-size=\"10\">1</tspan></text>\n",
       "<text dominant-baseline=\"hanging\" text-anchor=\"middle\" font-family=\"monospace\" font-size=\"10\" stroke=\"red\" x=\"4384\" y=\"84\">0.01</text>\n",
       "<rect x=\"4368\" y=\"112\" width=\"32\" height=\"32\" stroke=\"black\" fill=\"pink\"/>\n",
       "<text dominant-baseline=\"central\" text-anchor=\"middle\" font-family=\"monospace\" font-size=\"12\" x=\"4384\" y=\"128\">DEP<tspan baseline-shift=\"sub\" font-size=\"10\">1</tspan></text>\n",
       "<text dominant-baseline=\"hanging\" text-anchor=\"middle\" font-family=\"monospace\" font-size=\"10\" stroke=\"red\" x=\"4384\" y=\"148\">0.01</text>\n",
       "<rect x=\"4368\" y=\"176\" width=\"32\" height=\"32\" stroke=\"black\" fill=\"pink\"/>\n",
       "<text dominant-baseline=\"central\" text-anchor=\"middle\" font-family=\"monospace\" font-size=\"12\" x=\"4384\" y=\"192\">DEP<tspan baseline-shift=\"sub\" font-size=\"10\">1</tspan></text>\n",
       "<text dominant-baseline=\"hanging\" text-anchor=\"middle\" font-family=\"monospace\" font-size=\"10\" stroke=\"red\" x=\"4384\" y=\"212\">0.01</text>\n",
       "<rect x=\"4432\" y=\"48\" width=\"32\" height=\"32\" stroke=\"black\" fill=\"pink\"/>\n",
       "<text dominant-baseline=\"central\" text-anchor=\"middle\" font-family=\"monospace\" font-size=\"12\" x=\"4448\" y=\"64\">DEP<tspan baseline-shift=\"sub\" font-size=\"10\">1</tspan></text>\n",
       "<text dominant-baseline=\"hanging\" text-anchor=\"middle\" font-family=\"monospace\" font-size=\"10\" stroke=\"red\" x=\"4448\" y=\"84\">0.01</text>\n",
       "<rect x=\"4432\" y=\"112\" width=\"32\" height=\"32\" stroke=\"black\" fill=\"pink\"/>\n",
       "<text dominant-baseline=\"central\" text-anchor=\"middle\" font-family=\"monospace\" font-size=\"12\" x=\"4448\" y=\"128\">DEP<tspan baseline-shift=\"sub\" font-size=\"10\">1</tspan></text>\n",
       "<text dominant-baseline=\"hanging\" text-anchor=\"middle\" font-family=\"monospace\" font-size=\"10\" stroke=\"red\" x=\"4448\" y=\"148\">0.01</text>\n",
       "<rect x=\"4432\" y=\"176\" width=\"32\" height=\"32\" stroke=\"black\" fill=\"pink\"/>\n",
       "<text dominant-baseline=\"central\" text-anchor=\"middle\" font-family=\"monospace\" font-size=\"12\" x=\"4448\" y=\"192\">DEP<tspan baseline-shift=\"sub\" font-size=\"10\">1</tspan></text>\n",
       "<text dominant-baseline=\"hanging\" text-anchor=\"middle\" font-family=\"monospace\" font-size=\"10\" stroke=\"red\" x=\"4448\" y=\"212\">0.01</text>\n",
       "<rect x=\"4496\" y=\"48\" width=\"32\" height=\"32\" stroke=\"black\" fill=\"black\"/>\n",
       "<text dominant-baseline=\"central\" text-anchor=\"middle\" font-family=\"monospace\" font-size=\"30\" x=\"4512\" y=\"64\" fill=\"white\">M</text>\n",
       "<text text-anchor=\"middle\" font-family=\"monospace\" font-size=\"8\" x=\"4512\" y=\"44\">rec[8]</text>\n",
       "<rect x=\"4496\" y=\"112\" width=\"32\" height=\"32\" stroke=\"black\" fill=\"black\"/>\n",
       "<text dominant-baseline=\"central\" text-anchor=\"middle\" font-family=\"monospace\" font-size=\"30\" x=\"4512\" y=\"128\" fill=\"white\">M</text>\n",
       "<text text-anchor=\"middle\" font-family=\"monospace\" font-size=\"8\" x=\"4512\" y=\"108\">rec[9]</text>\n",
       "<rect x=\"4496\" y=\"176\" width=\"32\" height=\"32\" stroke=\"black\" fill=\"black\"/>\n",
       "<text dominant-baseline=\"central\" text-anchor=\"middle\" font-family=\"monospace\" font-size=\"30\" x=\"4512\" y=\"192\" fill=\"white\">M</text>\n",
       "<text text-anchor=\"middle\" font-family=\"monospace\" font-size=\"8\" x=\"4512\" y=\"172\">rec[10]</text>\n",
       "<path d=\"M4292,40 L4292,32 L4540,32 L4540,40 \" stroke=\"black\" fill=\"none\"/>\n",
       "<path d=\"M4292,1656 L4292,1664 L4540,1664 L4540,1656 \" stroke=\"black\" fill=\"none\"/>\n",
       "</svg>"
      ]
     },
     "execution_count": 35,
     "metadata": {},
     "output_type": "execute_result"
    }
   ],
   "source": [
    "stim.Circuit(circ.convert_to_stim(noise_model=noise_model)).diagram(type=\"timeline-svg\")"
   ]
  }
 ],
 "metadata": {
  "kernelspec": {
   "display_name": "stim",
   "language": "python",
   "name": "python3"
  },
  "language_info": {
   "codemirror_mode": {
    "name": "ipython",
    "version": 3
   },
   "file_extension": ".py",
   "mimetype": "text/x-python",
   "name": "python",
   "nbconvert_exporter": "python",
   "pygments_lexer": "ipython3",
   "version": "3.10.14"
  },
  "orig_nbformat": 4
 },
 "nbformat": 4,
 "nbformat_minor": 2
}
