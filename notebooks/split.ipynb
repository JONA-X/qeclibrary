{
 "cells": [
  {
   "cell_type": "markdown",
   "metadata": {},
   "source": [
    "# Split one 3x7 surface code into two d=3 surface codes\n",
    "\n",
    "This notebooks simulates the following experiment:\n",
    "* A 3x7 rotated surface code patch is initialized in either $\\ket{0}$, $\\ket{1}$, $\\ket{+}$, or $\\ket{-}$,\n",
    "* there is one syndrome extraction cycle performed for the whole patch,\n",
    "* the 3x7 patch is split into two d=3 rotated surface code patches and their respective logical operators are updated correspondingly (both the pauli string as well as the pauli frame),\n",
    "* one syndrome extraction cycle is performed on the two new patches respectively,\n",
    "* the two patches are measured in different bases to allow for logical quantum state tomography.\n",
    "\n",
    "Note that in this notebook, the coordinates and orientation of the patches are chosen such that the logical X operator of the initial patch has length 7 while the logical Z operator has length 3. After the split, the 7 qubit long X operator is split into two X operators of length 3. One of the new logical Z operators is equivalent to the initial logical Z operator. The logical Z operator of the other patch is chosen to lie parallel to the split boundary and directly next to it."
   ]
  },
  {
   "cell_type": "code",
   "execution_count": 1,
   "metadata": {},
   "outputs": [],
   "source": [
    "import qeclib\n",
    "from qeclib import Stabilizer, RotSurfCode, PauliOp, SquareLattice, QECPlot\n",
    "import numpy as np\n",
    "import pprint\n",
    "import stim\n",
    "import copy"
   ]
  },
  {
   "cell_type": "code",
   "execution_count": 2,
   "metadata": {},
   "outputs": [],
   "source": [
    "Q1 = RotSurfCode(\n",
    "    id=\"Q1\",\n",
    "    dx=7,\n",
    "    dz=3,\n",
    ")\n",
    "Q1.log_z.data_qubits = [\n",
    "    (2, 0, 0),\n",
    "    (2, 1, 0),\n",
    "    (2, 2, 0),\n",
    "]  # In the current implementation, the operators need to lie at the split boundary\n",
    "\n",
    "circ = SquareLattice(\n",
    "    name=\"\", rows=Q1.dz + 2, cols=Q1.dx + 2\n",
    ")  # Just for fun, make the lattice a little bit bigger than needed\n",
    "circ.add_logical_qubit(Q1)\n",
    "circ.init(\"Q1\", \"1\")  # CHANGE THE INITIAL STATE HERE"
   ]
  },
  {
   "cell_type": "markdown",
   "metadata": {},
   "source": [
    "Plot the lattice with the one logical patch:"
   ]
  },
  {
   "cell_type": "code",
   "execution_count": 3,
   "metadata": {},
   "outputs": [
    {
     "data": {
      "application/vnd.plotly.v1+json": {
       "config": {
        "plotlyServerURL": "https://plot.ly"
       },
       "data": [
        {
         "hoverinfo": "text",
         "legendgroup": "qpu_dqbs",
         "marker": {
          "color": "gray",
          "line": {
           "color": "darkred",
           "width": 1
          },
          "size": 25,
          "symbol": "circle"
         },
         "mode": "markers+text",
         "name": "Data qubits",
         "showlegend": true,
         "text": "(0, 0, 0)",
         "textposition": "middle center",
         "type": "scatter",
         "x": [
          0
         ],
         "y": [
          0
         ]
        },
        {
         "hoverinfo": "text",
         "legendgroup": "qpu_dqbs",
         "marker": {
          "color": "gray",
          "line": {
           "color": "darkred",
           "width": 1
          },
          "size": 25,
          "symbol": "circle"
         },
         "mode": "markers+text",
         "name": "Data qubits",
         "showlegend": false,
         "text": "(1, 0, 0)",
         "textposition": "middle center",
         "type": "scatter",
         "x": [
          1
         ],
         "y": [
          0
         ]
        },
        {
         "hoverinfo": "text",
         "legendgroup": "qpu_dqbs",
         "marker": {
          "color": "gray",
          "line": {
           "color": "darkred",
           "width": 1
          },
          "size": 25,
          "symbol": "circle"
         },
         "mode": "markers+text",
         "name": "Data qubits",
         "showlegend": false,
         "text": "(2, 0, 0)",
         "textposition": "middle center",
         "type": "scatter",
         "x": [
          2
         ],
         "y": [
          0
         ]
        },
        {
         "hoverinfo": "text",
         "legendgroup": "qpu_dqbs",
         "marker": {
          "color": "gray",
          "line": {
           "color": "darkred",
           "width": 1
          },
          "size": 25,
          "symbol": "circle"
         },
         "mode": "markers+text",
         "name": "Data qubits",
         "showlegend": false,
         "text": "(3, 0, 0)",
         "textposition": "middle center",
         "type": "scatter",
         "x": [
          3
         ],
         "y": [
          0
         ]
        },
        {
         "hoverinfo": "text",
         "legendgroup": "qpu_dqbs",
         "marker": {
          "color": "gray",
          "line": {
           "color": "darkred",
           "width": 1
          },
          "size": 25,
          "symbol": "circle"
         },
         "mode": "markers+text",
         "name": "Data qubits",
         "showlegend": false,
         "text": "(4, 0, 0)",
         "textposition": "middle center",
         "type": "scatter",
         "x": [
          4
         ],
         "y": [
          0
         ]
        },
        {
         "hoverinfo": "text",
         "legendgroup": "qpu_dqbs",
         "marker": {
          "color": "gray",
          "line": {
           "color": "darkred",
           "width": 1
          },
          "size": 25,
          "symbol": "circle"
         },
         "mode": "markers+text",
         "name": "Data qubits",
         "showlegend": false,
         "text": "(5, 0, 0)",
         "textposition": "middle center",
         "type": "scatter",
         "x": [
          5
         ],
         "y": [
          0
         ]
        },
        {
         "hoverinfo": "text",
         "legendgroup": "qpu_dqbs",
         "marker": {
          "color": "gray",
          "line": {
           "color": "darkred",
           "width": 1
          },
          "size": 25,
          "symbol": "circle"
         },
         "mode": "markers+text",
         "name": "Data qubits",
         "showlegend": false,
         "text": "(6, 0, 0)",
         "textposition": "middle center",
         "type": "scatter",
         "x": [
          6
         ],
         "y": [
          0
         ]
        },
        {
         "hoverinfo": "text",
         "legendgroup": "qpu_dqbs",
         "marker": {
          "color": "gray",
          "line": {
           "color": "darkred",
           "width": 1
          },
          "size": 25,
          "symbol": "circle"
         },
         "mode": "markers+text",
         "name": "Data qubits",
         "showlegend": false,
         "text": "(7, 0, 0)",
         "textposition": "middle center",
         "type": "scatter",
         "x": [
          7
         ],
         "y": [
          0
         ]
        },
        {
         "hoverinfo": "text",
         "legendgroup": "qpu_dqbs",
         "marker": {
          "color": "gray",
          "line": {
           "color": "darkred",
           "width": 1
          },
          "size": 25,
          "symbol": "circle"
         },
         "mode": "markers+text",
         "name": "Data qubits",
         "showlegend": false,
         "text": "(8, 0, 0)",
         "textposition": "middle center",
         "type": "scatter",
         "x": [
          8
         ],
         "y": [
          0
         ]
        },
        {
         "hoverinfo": "text",
         "legendgroup": "qpu_dqbs",
         "marker": {
          "color": "gray",
          "line": {
           "color": "darkred",
           "width": 1
          },
          "size": 25,
          "symbol": "circle"
         },
         "mode": "markers+text",
         "name": "Data qubits",
         "showlegend": false,
         "text": "(0, 1, 0)",
         "textposition": "middle center",
         "type": "scatter",
         "x": [
          0
         ],
         "y": [
          1
         ]
        },
        {
         "hoverinfo": "text",
         "legendgroup": "qpu_dqbs",
         "marker": {
          "color": "gray",
          "line": {
           "color": "darkred",
           "width": 1
          },
          "size": 25,
          "symbol": "circle"
         },
         "mode": "markers+text",
         "name": "Data qubits",
         "showlegend": false,
         "text": "(1, 1, 0)",
         "textposition": "middle center",
         "type": "scatter",
         "x": [
          1
         ],
         "y": [
          1
         ]
        },
        {
         "hoverinfo": "text",
         "legendgroup": "qpu_dqbs",
         "marker": {
          "color": "gray",
          "line": {
           "color": "darkred",
           "width": 1
          },
          "size": 25,
          "symbol": "circle"
         },
         "mode": "markers+text",
         "name": "Data qubits",
         "showlegend": false,
         "text": "(2, 1, 0)",
         "textposition": "middle center",
         "type": "scatter",
         "x": [
          2
         ],
         "y": [
          1
         ]
        },
        {
         "hoverinfo": "text",
         "legendgroup": "qpu_dqbs",
         "marker": {
          "color": "gray",
          "line": {
           "color": "darkred",
           "width": 1
          },
          "size": 25,
          "symbol": "circle"
         },
         "mode": "markers+text",
         "name": "Data qubits",
         "showlegend": false,
         "text": "(3, 1, 0)",
         "textposition": "middle center",
         "type": "scatter",
         "x": [
          3
         ],
         "y": [
          1
         ]
        },
        {
         "hoverinfo": "text",
         "legendgroup": "qpu_dqbs",
         "marker": {
          "color": "gray",
          "line": {
           "color": "darkred",
           "width": 1
          },
          "size": 25,
          "symbol": "circle"
         },
         "mode": "markers+text",
         "name": "Data qubits",
         "showlegend": false,
         "text": "(4, 1, 0)",
         "textposition": "middle center",
         "type": "scatter",
         "x": [
          4
         ],
         "y": [
          1
         ]
        },
        {
         "hoverinfo": "text",
         "legendgroup": "qpu_dqbs",
         "marker": {
          "color": "gray",
          "line": {
           "color": "darkred",
           "width": 1
          },
          "size": 25,
          "symbol": "circle"
         },
         "mode": "markers+text",
         "name": "Data qubits",
         "showlegend": false,
         "text": "(5, 1, 0)",
         "textposition": "middle center",
         "type": "scatter",
         "x": [
          5
         ],
         "y": [
          1
         ]
        },
        {
         "hoverinfo": "text",
         "legendgroup": "qpu_dqbs",
         "marker": {
          "color": "gray",
          "line": {
           "color": "darkred",
           "width": 1
          },
          "size": 25,
          "symbol": "circle"
         },
         "mode": "markers+text",
         "name": "Data qubits",
         "showlegend": false,
         "text": "(6, 1, 0)",
         "textposition": "middle center",
         "type": "scatter",
         "x": [
          6
         ],
         "y": [
          1
         ]
        },
        {
         "hoverinfo": "text",
         "legendgroup": "qpu_dqbs",
         "marker": {
          "color": "gray",
          "line": {
           "color": "darkred",
           "width": 1
          },
          "size": 25,
          "symbol": "circle"
         },
         "mode": "markers+text",
         "name": "Data qubits",
         "showlegend": false,
         "text": "(7, 1, 0)",
         "textposition": "middle center",
         "type": "scatter",
         "x": [
          7
         ],
         "y": [
          1
         ]
        },
        {
         "hoverinfo": "text",
         "legendgroup": "qpu_dqbs",
         "marker": {
          "color": "gray",
          "line": {
           "color": "darkred",
           "width": 1
          },
          "size": 25,
          "symbol": "circle"
         },
         "mode": "markers+text",
         "name": "Data qubits",
         "showlegend": false,
         "text": "(8, 1, 0)",
         "textposition": "middle center",
         "type": "scatter",
         "x": [
          8
         ],
         "y": [
          1
         ]
        },
        {
         "hoverinfo": "text",
         "legendgroup": "qpu_dqbs",
         "marker": {
          "color": "gray",
          "line": {
           "color": "darkred",
           "width": 1
          },
          "size": 25,
          "symbol": "circle"
         },
         "mode": "markers+text",
         "name": "Data qubits",
         "showlegend": false,
         "text": "(0, 2, 0)",
         "textposition": "middle center",
         "type": "scatter",
         "x": [
          0
         ],
         "y": [
          2
         ]
        },
        {
         "hoverinfo": "text",
         "legendgroup": "qpu_dqbs",
         "marker": {
          "color": "gray",
          "line": {
           "color": "darkred",
           "width": 1
          },
          "size": 25,
          "symbol": "circle"
         },
         "mode": "markers+text",
         "name": "Data qubits",
         "showlegend": false,
         "text": "(1, 2, 0)",
         "textposition": "middle center",
         "type": "scatter",
         "x": [
          1
         ],
         "y": [
          2
         ]
        },
        {
         "hoverinfo": "text",
         "legendgroup": "qpu_dqbs",
         "marker": {
          "color": "gray",
          "line": {
           "color": "darkred",
           "width": 1
          },
          "size": 25,
          "symbol": "circle"
         },
         "mode": "markers+text",
         "name": "Data qubits",
         "showlegend": false,
         "text": "(2, 2, 0)",
         "textposition": "middle center",
         "type": "scatter",
         "x": [
          2
         ],
         "y": [
          2
         ]
        },
        {
         "hoverinfo": "text",
         "legendgroup": "qpu_dqbs",
         "marker": {
          "color": "gray",
          "line": {
           "color": "darkred",
           "width": 1
          },
          "size": 25,
          "symbol": "circle"
         },
         "mode": "markers+text",
         "name": "Data qubits",
         "showlegend": false,
         "text": "(3, 2, 0)",
         "textposition": "middle center",
         "type": "scatter",
         "x": [
          3
         ],
         "y": [
          2
         ]
        },
        {
         "hoverinfo": "text",
         "legendgroup": "qpu_dqbs",
         "marker": {
          "color": "gray",
          "line": {
           "color": "darkred",
           "width": 1
          },
          "size": 25,
          "symbol": "circle"
         },
         "mode": "markers+text",
         "name": "Data qubits",
         "showlegend": false,
         "text": "(4, 2, 0)",
         "textposition": "middle center",
         "type": "scatter",
         "x": [
          4
         ],
         "y": [
          2
         ]
        },
        {
         "hoverinfo": "text",
         "legendgroup": "qpu_dqbs",
         "marker": {
          "color": "gray",
          "line": {
           "color": "darkred",
           "width": 1
          },
          "size": 25,
          "symbol": "circle"
         },
         "mode": "markers+text",
         "name": "Data qubits",
         "showlegend": false,
         "text": "(5, 2, 0)",
         "textposition": "middle center",
         "type": "scatter",
         "x": [
          5
         ],
         "y": [
          2
         ]
        },
        {
         "hoverinfo": "text",
         "legendgroup": "qpu_dqbs",
         "marker": {
          "color": "gray",
          "line": {
           "color": "darkred",
           "width": 1
          },
          "size": 25,
          "symbol": "circle"
         },
         "mode": "markers+text",
         "name": "Data qubits",
         "showlegend": false,
         "text": "(6, 2, 0)",
         "textposition": "middle center",
         "type": "scatter",
         "x": [
          6
         ],
         "y": [
          2
         ]
        },
        {
         "hoverinfo": "text",
         "legendgroup": "qpu_dqbs",
         "marker": {
          "color": "gray",
          "line": {
           "color": "darkred",
           "width": 1
          },
          "size": 25,
          "symbol": "circle"
         },
         "mode": "markers+text",
         "name": "Data qubits",
         "showlegend": false,
         "text": "(7, 2, 0)",
         "textposition": "middle center",
         "type": "scatter",
         "x": [
          7
         ],
         "y": [
          2
         ]
        },
        {
         "hoverinfo": "text",
         "legendgroup": "qpu_dqbs",
         "marker": {
          "color": "gray",
          "line": {
           "color": "darkred",
           "width": 1
          },
          "size": 25,
          "symbol": "circle"
         },
         "mode": "markers+text",
         "name": "Data qubits",
         "showlegend": false,
         "text": "(8, 2, 0)",
         "textposition": "middle center",
         "type": "scatter",
         "x": [
          8
         ],
         "y": [
          2
         ]
        },
        {
         "hoverinfo": "text",
         "legendgroup": "qpu_dqbs",
         "marker": {
          "color": "gray",
          "line": {
           "color": "darkred",
           "width": 1
          },
          "size": 25,
          "symbol": "circle"
         },
         "mode": "markers+text",
         "name": "Data qubits",
         "showlegend": false,
         "text": "(0, 3, 0)",
         "textposition": "middle center",
         "type": "scatter",
         "x": [
          0
         ],
         "y": [
          3
         ]
        },
        {
         "hoverinfo": "text",
         "legendgroup": "qpu_dqbs",
         "marker": {
          "color": "gray",
          "line": {
           "color": "darkred",
           "width": 1
          },
          "size": 25,
          "symbol": "circle"
         },
         "mode": "markers+text",
         "name": "Data qubits",
         "showlegend": false,
         "text": "(1, 3, 0)",
         "textposition": "middle center",
         "type": "scatter",
         "x": [
          1
         ],
         "y": [
          3
         ]
        },
        {
         "hoverinfo": "text",
         "legendgroup": "qpu_dqbs",
         "marker": {
          "color": "gray",
          "line": {
           "color": "darkred",
           "width": 1
          },
          "size": 25,
          "symbol": "circle"
         },
         "mode": "markers+text",
         "name": "Data qubits",
         "showlegend": false,
         "text": "(2, 3, 0)",
         "textposition": "middle center",
         "type": "scatter",
         "x": [
          2
         ],
         "y": [
          3
         ]
        },
        {
         "hoverinfo": "text",
         "legendgroup": "qpu_dqbs",
         "marker": {
          "color": "gray",
          "line": {
           "color": "darkred",
           "width": 1
          },
          "size": 25,
          "symbol": "circle"
         },
         "mode": "markers+text",
         "name": "Data qubits",
         "showlegend": false,
         "text": "(3, 3, 0)",
         "textposition": "middle center",
         "type": "scatter",
         "x": [
          3
         ],
         "y": [
          3
         ]
        },
        {
         "hoverinfo": "text",
         "legendgroup": "qpu_dqbs",
         "marker": {
          "color": "gray",
          "line": {
           "color": "darkred",
           "width": 1
          },
          "size": 25,
          "symbol": "circle"
         },
         "mode": "markers+text",
         "name": "Data qubits",
         "showlegend": false,
         "text": "(4, 3, 0)",
         "textposition": "middle center",
         "type": "scatter",
         "x": [
          4
         ],
         "y": [
          3
         ]
        },
        {
         "hoverinfo": "text",
         "legendgroup": "qpu_dqbs",
         "marker": {
          "color": "gray",
          "line": {
           "color": "darkred",
           "width": 1
          },
          "size": 25,
          "symbol": "circle"
         },
         "mode": "markers+text",
         "name": "Data qubits",
         "showlegend": false,
         "text": "(5, 3, 0)",
         "textposition": "middle center",
         "type": "scatter",
         "x": [
          5
         ],
         "y": [
          3
         ]
        },
        {
         "hoverinfo": "text",
         "legendgroup": "qpu_dqbs",
         "marker": {
          "color": "gray",
          "line": {
           "color": "darkred",
           "width": 1
          },
          "size": 25,
          "symbol": "circle"
         },
         "mode": "markers+text",
         "name": "Data qubits",
         "showlegend": false,
         "text": "(6, 3, 0)",
         "textposition": "middle center",
         "type": "scatter",
         "x": [
          6
         ],
         "y": [
          3
         ]
        },
        {
         "hoverinfo": "text",
         "legendgroup": "qpu_dqbs",
         "marker": {
          "color": "gray",
          "line": {
           "color": "darkred",
           "width": 1
          },
          "size": 25,
          "symbol": "circle"
         },
         "mode": "markers+text",
         "name": "Data qubits",
         "showlegend": false,
         "text": "(7, 3, 0)",
         "textposition": "middle center",
         "type": "scatter",
         "x": [
          7
         ],
         "y": [
          3
         ]
        },
        {
         "hoverinfo": "text",
         "legendgroup": "qpu_dqbs",
         "marker": {
          "color": "gray",
          "line": {
           "color": "darkred",
           "width": 1
          },
          "size": 25,
          "symbol": "circle"
         },
         "mode": "markers+text",
         "name": "Data qubits",
         "showlegend": false,
         "text": "(8, 3, 0)",
         "textposition": "middle center",
         "type": "scatter",
         "x": [
          8
         ],
         "y": [
          3
         ]
        },
        {
         "hoverinfo": "text",
         "legendgroup": "qpu_dqbs",
         "marker": {
          "color": "gray",
          "line": {
           "color": "darkred",
           "width": 1
          },
          "size": 25,
          "symbol": "circle"
         },
         "mode": "markers+text",
         "name": "Data qubits",
         "showlegend": false,
         "text": "(0, 4, 0)",
         "textposition": "middle center",
         "type": "scatter",
         "x": [
          0
         ],
         "y": [
          4
         ]
        },
        {
         "hoverinfo": "text",
         "legendgroup": "qpu_dqbs",
         "marker": {
          "color": "gray",
          "line": {
           "color": "darkred",
           "width": 1
          },
          "size": 25,
          "symbol": "circle"
         },
         "mode": "markers+text",
         "name": "Data qubits",
         "showlegend": false,
         "text": "(1, 4, 0)",
         "textposition": "middle center",
         "type": "scatter",
         "x": [
          1
         ],
         "y": [
          4
         ]
        },
        {
         "hoverinfo": "text",
         "legendgroup": "qpu_dqbs",
         "marker": {
          "color": "gray",
          "line": {
           "color": "darkred",
           "width": 1
          },
          "size": 25,
          "symbol": "circle"
         },
         "mode": "markers+text",
         "name": "Data qubits",
         "showlegend": false,
         "text": "(2, 4, 0)",
         "textposition": "middle center",
         "type": "scatter",
         "x": [
          2
         ],
         "y": [
          4
         ]
        },
        {
         "hoverinfo": "text",
         "legendgroup": "qpu_dqbs",
         "marker": {
          "color": "gray",
          "line": {
           "color": "darkred",
           "width": 1
          },
          "size": 25,
          "symbol": "circle"
         },
         "mode": "markers+text",
         "name": "Data qubits",
         "showlegend": false,
         "text": "(3, 4, 0)",
         "textposition": "middle center",
         "type": "scatter",
         "x": [
          3
         ],
         "y": [
          4
         ]
        },
        {
         "hoverinfo": "text",
         "legendgroup": "qpu_dqbs",
         "marker": {
          "color": "gray",
          "line": {
           "color": "darkred",
           "width": 1
          },
          "size": 25,
          "symbol": "circle"
         },
         "mode": "markers+text",
         "name": "Data qubits",
         "showlegend": false,
         "text": "(4, 4, 0)",
         "textposition": "middle center",
         "type": "scatter",
         "x": [
          4
         ],
         "y": [
          4
         ]
        },
        {
         "hoverinfo": "text",
         "legendgroup": "qpu_dqbs",
         "marker": {
          "color": "gray",
          "line": {
           "color": "darkred",
           "width": 1
          },
          "size": 25,
          "symbol": "circle"
         },
         "mode": "markers+text",
         "name": "Data qubits",
         "showlegend": false,
         "text": "(5, 4, 0)",
         "textposition": "middle center",
         "type": "scatter",
         "x": [
          5
         ],
         "y": [
          4
         ]
        },
        {
         "hoverinfo": "text",
         "legendgroup": "qpu_dqbs",
         "marker": {
          "color": "gray",
          "line": {
           "color": "darkred",
           "width": 1
          },
          "size": 25,
          "symbol": "circle"
         },
         "mode": "markers+text",
         "name": "Data qubits",
         "showlegend": false,
         "text": "(6, 4, 0)",
         "textposition": "middle center",
         "type": "scatter",
         "x": [
          6
         ],
         "y": [
          4
         ]
        },
        {
         "hoverinfo": "text",
         "legendgroup": "qpu_dqbs",
         "marker": {
          "color": "gray",
          "line": {
           "color": "darkred",
           "width": 1
          },
          "size": 25,
          "symbol": "circle"
         },
         "mode": "markers+text",
         "name": "Data qubits",
         "showlegend": false,
         "text": "(7, 4, 0)",
         "textposition": "middle center",
         "type": "scatter",
         "x": [
          7
         ],
         "y": [
          4
         ]
        },
        {
         "hoverinfo": "text",
         "legendgroup": "qpu_dqbs",
         "marker": {
          "color": "gray",
          "line": {
           "color": "darkred",
           "width": 1
          },
          "size": 25,
          "symbol": "circle"
         },
         "mode": "markers+text",
         "name": "Data qubits",
         "showlegend": false,
         "text": "(8, 4, 0)",
         "textposition": "middle center",
         "type": "scatter",
         "x": [
          8
         ],
         "y": [
          4
         ]
        },
        {
         "hoverinfo": "text",
         "legendgroup": "qpu_aqbs",
         "marker": {
          "color": "lightgray",
          "line": {
           "color": "darkred",
           "width": 1
          },
          "size": 15,
          "symbol": "circle"
         },
         "mode": "markers+text",
         "name": "Ancilla qubits",
         "showlegend": true,
         "text": "(0, 0, 1)",
         "textposition": "middle center",
         "type": "scatter",
         "x": [
          -0.5
         ],
         "y": [
          -0.5
         ]
        },
        {
         "hoverinfo": "text",
         "legendgroup": "qpu_aqbs",
         "marker": {
          "color": "lightgray",
          "line": {
           "color": "darkred",
           "width": 1
          },
          "size": 15,
          "symbol": "circle"
         },
         "mode": "markers+text",
         "name": "Ancilla qubits",
         "showlegend": false,
         "text": "(1, 0, 1)",
         "textposition": "middle center",
         "type": "scatter",
         "x": [
          0.5
         ],
         "y": [
          -0.5
         ]
        },
        {
         "hoverinfo": "text",
         "legendgroup": "qpu_aqbs",
         "marker": {
          "color": "lightgray",
          "line": {
           "color": "darkred",
           "width": 1
          },
          "size": 15,
          "symbol": "circle"
         },
         "mode": "markers+text",
         "name": "Ancilla qubits",
         "showlegend": false,
         "text": "(2, 0, 1)",
         "textposition": "middle center",
         "type": "scatter",
         "x": [
          1.5
         ],
         "y": [
          -0.5
         ]
        },
        {
         "hoverinfo": "text",
         "legendgroup": "qpu_aqbs",
         "marker": {
          "color": "lightgray",
          "line": {
           "color": "darkred",
           "width": 1
          },
          "size": 15,
          "symbol": "circle"
         },
         "mode": "markers+text",
         "name": "Ancilla qubits",
         "showlegend": false,
         "text": "(3, 0, 1)",
         "textposition": "middle center",
         "type": "scatter",
         "x": [
          2.5
         ],
         "y": [
          -0.5
         ]
        },
        {
         "hoverinfo": "text",
         "legendgroup": "qpu_aqbs",
         "marker": {
          "color": "lightgray",
          "line": {
           "color": "darkred",
           "width": 1
          },
          "size": 15,
          "symbol": "circle"
         },
         "mode": "markers+text",
         "name": "Ancilla qubits",
         "showlegend": false,
         "text": "(4, 0, 1)",
         "textposition": "middle center",
         "type": "scatter",
         "x": [
          3.5
         ],
         "y": [
          -0.5
         ]
        },
        {
         "hoverinfo": "text",
         "legendgroup": "qpu_aqbs",
         "marker": {
          "color": "lightgray",
          "line": {
           "color": "darkred",
           "width": 1
          },
          "size": 15,
          "symbol": "circle"
         },
         "mode": "markers+text",
         "name": "Ancilla qubits",
         "showlegend": false,
         "text": "(5, 0, 1)",
         "textposition": "middle center",
         "type": "scatter",
         "x": [
          4.5
         ],
         "y": [
          -0.5
         ]
        },
        {
         "hoverinfo": "text",
         "legendgroup": "qpu_aqbs",
         "marker": {
          "color": "lightgray",
          "line": {
           "color": "darkred",
           "width": 1
          },
          "size": 15,
          "symbol": "circle"
         },
         "mode": "markers+text",
         "name": "Ancilla qubits",
         "showlegend": false,
         "text": "(6, 0, 1)",
         "textposition": "middle center",
         "type": "scatter",
         "x": [
          5.5
         ],
         "y": [
          -0.5
         ]
        },
        {
         "hoverinfo": "text",
         "legendgroup": "qpu_aqbs",
         "marker": {
          "color": "lightgray",
          "line": {
           "color": "darkred",
           "width": 1
          },
          "size": 15,
          "symbol": "circle"
         },
         "mode": "markers+text",
         "name": "Ancilla qubits",
         "showlegend": false,
         "text": "(7, 0, 1)",
         "textposition": "middle center",
         "type": "scatter",
         "x": [
          6.5
         ],
         "y": [
          -0.5
         ]
        },
        {
         "hoverinfo": "text",
         "legendgroup": "qpu_aqbs",
         "marker": {
          "color": "lightgray",
          "line": {
           "color": "darkred",
           "width": 1
          },
          "size": 15,
          "symbol": "circle"
         },
         "mode": "markers+text",
         "name": "Ancilla qubits",
         "showlegend": false,
         "text": "(8, 0, 1)",
         "textposition": "middle center",
         "type": "scatter",
         "x": [
          7.5
         ],
         "y": [
          -0.5
         ]
        },
        {
         "hoverinfo": "text",
         "legendgroup": "qpu_aqbs",
         "marker": {
          "color": "lightgray",
          "line": {
           "color": "darkred",
           "width": 1
          },
          "size": 15,
          "symbol": "circle"
         },
         "mode": "markers+text",
         "name": "Ancilla qubits",
         "showlegend": false,
         "text": "(9, 0, 1)",
         "textposition": "middle center",
         "type": "scatter",
         "x": [
          8.5
         ],
         "y": [
          -0.5
         ]
        },
        {
         "hoverinfo": "text",
         "legendgroup": "qpu_aqbs",
         "marker": {
          "color": "lightgray",
          "line": {
           "color": "darkred",
           "width": 1
          },
          "size": 15,
          "symbol": "circle"
         },
         "mode": "markers+text",
         "name": "Ancilla qubits",
         "showlegend": false,
         "text": "(0, 1, 1)",
         "textposition": "middle center",
         "type": "scatter",
         "x": [
          -0.5
         ],
         "y": [
          0.5
         ]
        },
        {
         "hoverinfo": "text",
         "legendgroup": "qpu_aqbs",
         "marker": {
          "color": "lightgray",
          "line": {
           "color": "darkred",
           "width": 1
          },
          "size": 15,
          "symbol": "circle"
         },
         "mode": "markers+text",
         "name": "Ancilla qubits",
         "showlegend": false,
         "text": "(1, 1, 1)",
         "textposition": "middle center",
         "type": "scatter",
         "x": [
          0.5
         ],
         "y": [
          0.5
         ]
        },
        {
         "hoverinfo": "text",
         "legendgroup": "qpu_aqbs",
         "marker": {
          "color": "lightgray",
          "line": {
           "color": "darkred",
           "width": 1
          },
          "size": 15,
          "symbol": "circle"
         },
         "mode": "markers+text",
         "name": "Ancilla qubits",
         "showlegend": false,
         "text": "(2, 1, 1)",
         "textposition": "middle center",
         "type": "scatter",
         "x": [
          1.5
         ],
         "y": [
          0.5
         ]
        },
        {
         "hoverinfo": "text",
         "legendgroup": "qpu_aqbs",
         "marker": {
          "color": "lightgray",
          "line": {
           "color": "darkred",
           "width": 1
          },
          "size": 15,
          "symbol": "circle"
         },
         "mode": "markers+text",
         "name": "Ancilla qubits",
         "showlegend": false,
         "text": "(3, 1, 1)",
         "textposition": "middle center",
         "type": "scatter",
         "x": [
          2.5
         ],
         "y": [
          0.5
         ]
        },
        {
         "hoverinfo": "text",
         "legendgroup": "qpu_aqbs",
         "marker": {
          "color": "lightgray",
          "line": {
           "color": "darkred",
           "width": 1
          },
          "size": 15,
          "symbol": "circle"
         },
         "mode": "markers+text",
         "name": "Ancilla qubits",
         "showlegend": false,
         "text": "(4, 1, 1)",
         "textposition": "middle center",
         "type": "scatter",
         "x": [
          3.5
         ],
         "y": [
          0.5
         ]
        },
        {
         "hoverinfo": "text",
         "legendgroup": "qpu_aqbs",
         "marker": {
          "color": "lightgray",
          "line": {
           "color": "darkred",
           "width": 1
          },
          "size": 15,
          "symbol": "circle"
         },
         "mode": "markers+text",
         "name": "Ancilla qubits",
         "showlegend": false,
         "text": "(5, 1, 1)",
         "textposition": "middle center",
         "type": "scatter",
         "x": [
          4.5
         ],
         "y": [
          0.5
         ]
        },
        {
         "hoverinfo": "text",
         "legendgroup": "qpu_aqbs",
         "marker": {
          "color": "lightgray",
          "line": {
           "color": "darkred",
           "width": 1
          },
          "size": 15,
          "symbol": "circle"
         },
         "mode": "markers+text",
         "name": "Ancilla qubits",
         "showlegend": false,
         "text": "(6, 1, 1)",
         "textposition": "middle center",
         "type": "scatter",
         "x": [
          5.5
         ],
         "y": [
          0.5
         ]
        },
        {
         "hoverinfo": "text",
         "legendgroup": "qpu_aqbs",
         "marker": {
          "color": "lightgray",
          "line": {
           "color": "darkred",
           "width": 1
          },
          "size": 15,
          "symbol": "circle"
         },
         "mode": "markers+text",
         "name": "Ancilla qubits",
         "showlegend": false,
         "text": "(7, 1, 1)",
         "textposition": "middle center",
         "type": "scatter",
         "x": [
          6.5
         ],
         "y": [
          0.5
         ]
        },
        {
         "hoverinfo": "text",
         "legendgroup": "qpu_aqbs",
         "marker": {
          "color": "lightgray",
          "line": {
           "color": "darkred",
           "width": 1
          },
          "size": 15,
          "symbol": "circle"
         },
         "mode": "markers+text",
         "name": "Ancilla qubits",
         "showlegend": false,
         "text": "(8, 1, 1)",
         "textposition": "middle center",
         "type": "scatter",
         "x": [
          7.5
         ],
         "y": [
          0.5
         ]
        },
        {
         "hoverinfo": "text",
         "legendgroup": "qpu_aqbs",
         "marker": {
          "color": "lightgray",
          "line": {
           "color": "darkred",
           "width": 1
          },
          "size": 15,
          "symbol": "circle"
         },
         "mode": "markers+text",
         "name": "Ancilla qubits",
         "showlegend": false,
         "text": "(9, 1, 1)",
         "textposition": "middle center",
         "type": "scatter",
         "x": [
          8.5
         ],
         "y": [
          0.5
         ]
        },
        {
         "hoverinfo": "text",
         "legendgroup": "qpu_aqbs",
         "marker": {
          "color": "lightgray",
          "line": {
           "color": "darkred",
           "width": 1
          },
          "size": 15,
          "symbol": "circle"
         },
         "mode": "markers+text",
         "name": "Ancilla qubits",
         "showlegend": false,
         "text": "(0, 2, 1)",
         "textposition": "middle center",
         "type": "scatter",
         "x": [
          -0.5
         ],
         "y": [
          1.5
         ]
        },
        {
         "hoverinfo": "text",
         "legendgroup": "qpu_aqbs",
         "marker": {
          "color": "lightgray",
          "line": {
           "color": "darkred",
           "width": 1
          },
          "size": 15,
          "symbol": "circle"
         },
         "mode": "markers+text",
         "name": "Ancilla qubits",
         "showlegend": false,
         "text": "(1, 2, 1)",
         "textposition": "middle center",
         "type": "scatter",
         "x": [
          0.5
         ],
         "y": [
          1.5
         ]
        },
        {
         "hoverinfo": "text",
         "legendgroup": "qpu_aqbs",
         "marker": {
          "color": "lightgray",
          "line": {
           "color": "darkred",
           "width": 1
          },
          "size": 15,
          "symbol": "circle"
         },
         "mode": "markers+text",
         "name": "Ancilla qubits",
         "showlegend": false,
         "text": "(2, 2, 1)",
         "textposition": "middle center",
         "type": "scatter",
         "x": [
          1.5
         ],
         "y": [
          1.5
         ]
        },
        {
         "hoverinfo": "text",
         "legendgroup": "qpu_aqbs",
         "marker": {
          "color": "lightgray",
          "line": {
           "color": "darkred",
           "width": 1
          },
          "size": 15,
          "symbol": "circle"
         },
         "mode": "markers+text",
         "name": "Ancilla qubits",
         "showlegend": false,
         "text": "(3, 2, 1)",
         "textposition": "middle center",
         "type": "scatter",
         "x": [
          2.5
         ],
         "y": [
          1.5
         ]
        },
        {
         "hoverinfo": "text",
         "legendgroup": "qpu_aqbs",
         "marker": {
          "color": "lightgray",
          "line": {
           "color": "darkred",
           "width": 1
          },
          "size": 15,
          "symbol": "circle"
         },
         "mode": "markers+text",
         "name": "Ancilla qubits",
         "showlegend": false,
         "text": "(4, 2, 1)",
         "textposition": "middle center",
         "type": "scatter",
         "x": [
          3.5
         ],
         "y": [
          1.5
         ]
        },
        {
         "hoverinfo": "text",
         "legendgroup": "qpu_aqbs",
         "marker": {
          "color": "lightgray",
          "line": {
           "color": "darkred",
           "width": 1
          },
          "size": 15,
          "symbol": "circle"
         },
         "mode": "markers+text",
         "name": "Ancilla qubits",
         "showlegend": false,
         "text": "(5, 2, 1)",
         "textposition": "middle center",
         "type": "scatter",
         "x": [
          4.5
         ],
         "y": [
          1.5
         ]
        },
        {
         "hoverinfo": "text",
         "legendgroup": "qpu_aqbs",
         "marker": {
          "color": "lightgray",
          "line": {
           "color": "darkred",
           "width": 1
          },
          "size": 15,
          "symbol": "circle"
         },
         "mode": "markers+text",
         "name": "Ancilla qubits",
         "showlegend": false,
         "text": "(6, 2, 1)",
         "textposition": "middle center",
         "type": "scatter",
         "x": [
          5.5
         ],
         "y": [
          1.5
         ]
        },
        {
         "hoverinfo": "text",
         "legendgroup": "qpu_aqbs",
         "marker": {
          "color": "lightgray",
          "line": {
           "color": "darkred",
           "width": 1
          },
          "size": 15,
          "symbol": "circle"
         },
         "mode": "markers+text",
         "name": "Ancilla qubits",
         "showlegend": false,
         "text": "(7, 2, 1)",
         "textposition": "middle center",
         "type": "scatter",
         "x": [
          6.5
         ],
         "y": [
          1.5
         ]
        },
        {
         "hoverinfo": "text",
         "legendgroup": "qpu_aqbs",
         "marker": {
          "color": "lightgray",
          "line": {
           "color": "darkred",
           "width": 1
          },
          "size": 15,
          "symbol": "circle"
         },
         "mode": "markers+text",
         "name": "Ancilla qubits",
         "showlegend": false,
         "text": "(8, 2, 1)",
         "textposition": "middle center",
         "type": "scatter",
         "x": [
          7.5
         ],
         "y": [
          1.5
         ]
        },
        {
         "hoverinfo": "text",
         "legendgroup": "qpu_aqbs",
         "marker": {
          "color": "lightgray",
          "line": {
           "color": "darkred",
           "width": 1
          },
          "size": 15,
          "symbol": "circle"
         },
         "mode": "markers+text",
         "name": "Ancilla qubits",
         "showlegend": false,
         "text": "(9, 2, 1)",
         "textposition": "middle center",
         "type": "scatter",
         "x": [
          8.5
         ],
         "y": [
          1.5
         ]
        },
        {
         "hoverinfo": "text",
         "legendgroup": "qpu_aqbs",
         "marker": {
          "color": "lightgray",
          "line": {
           "color": "darkred",
           "width": 1
          },
          "size": 15,
          "symbol": "circle"
         },
         "mode": "markers+text",
         "name": "Ancilla qubits",
         "showlegend": false,
         "text": "(0, 3, 1)",
         "textposition": "middle center",
         "type": "scatter",
         "x": [
          -0.5
         ],
         "y": [
          2.5
         ]
        },
        {
         "hoverinfo": "text",
         "legendgroup": "qpu_aqbs",
         "marker": {
          "color": "lightgray",
          "line": {
           "color": "darkred",
           "width": 1
          },
          "size": 15,
          "symbol": "circle"
         },
         "mode": "markers+text",
         "name": "Ancilla qubits",
         "showlegend": false,
         "text": "(1, 3, 1)",
         "textposition": "middle center",
         "type": "scatter",
         "x": [
          0.5
         ],
         "y": [
          2.5
         ]
        },
        {
         "hoverinfo": "text",
         "legendgroup": "qpu_aqbs",
         "marker": {
          "color": "lightgray",
          "line": {
           "color": "darkred",
           "width": 1
          },
          "size": 15,
          "symbol": "circle"
         },
         "mode": "markers+text",
         "name": "Ancilla qubits",
         "showlegend": false,
         "text": "(2, 3, 1)",
         "textposition": "middle center",
         "type": "scatter",
         "x": [
          1.5
         ],
         "y": [
          2.5
         ]
        },
        {
         "hoverinfo": "text",
         "legendgroup": "qpu_aqbs",
         "marker": {
          "color": "lightgray",
          "line": {
           "color": "darkred",
           "width": 1
          },
          "size": 15,
          "symbol": "circle"
         },
         "mode": "markers+text",
         "name": "Ancilla qubits",
         "showlegend": false,
         "text": "(3, 3, 1)",
         "textposition": "middle center",
         "type": "scatter",
         "x": [
          2.5
         ],
         "y": [
          2.5
         ]
        },
        {
         "hoverinfo": "text",
         "legendgroup": "qpu_aqbs",
         "marker": {
          "color": "lightgray",
          "line": {
           "color": "darkred",
           "width": 1
          },
          "size": 15,
          "symbol": "circle"
         },
         "mode": "markers+text",
         "name": "Ancilla qubits",
         "showlegend": false,
         "text": "(4, 3, 1)",
         "textposition": "middle center",
         "type": "scatter",
         "x": [
          3.5
         ],
         "y": [
          2.5
         ]
        },
        {
         "hoverinfo": "text",
         "legendgroup": "qpu_aqbs",
         "marker": {
          "color": "lightgray",
          "line": {
           "color": "darkred",
           "width": 1
          },
          "size": 15,
          "symbol": "circle"
         },
         "mode": "markers+text",
         "name": "Ancilla qubits",
         "showlegend": false,
         "text": "(5, 3, 1)",
         "textposition": "middle center",
         "type": "scatter",
         "x": [
          4.5
         ],
         "y": [
          2.5
         ]
        },
        {
         "hoverinfo": "text",
         "legendgroup": "qpu_aqbs",
         "marker": {
          "color": "lightgray",
          "line": {
           "color": "darkred",
           "width": 1
          },
          "size": 15,
          "symbol": "circle"
         },
         "mode": "markers+text",
         "name": "Ancilla qubits",
         "showlegend": false,
         "text": "(6, 3, 1)",
         "textposition": "middle center",
         "type": "scatter",
         "x": [
          5.5
         ],
         "y": [
          2.5
         ]
        },
        {
         "hoverinfo": "text",
         "legendgroup": "qpu_aqbs",
         "marker": {
          "color": "lightgray",
          "line": {
           "color": "darkred",
           "width": 1
          },
          "size": 15,
          "symbol": "circle"
         },
         "mode": "markers+text",
         "name": "Ancilla qubits",
         "showlegend": false,
         "text": "(7, 3, 1)",
         "textposition": "middle center",
         "type": "scatter",
         "x": [
          6.5
         ],
         "y": [
          2.5
         ]
        },
        {
         "hoverinfo": "text",
         "legendgroup": "qpu_aqbs",
         "marker": {
          "color": "lightgray",
          "line": {
           "color": "darkred",
           "width": 1
          },
          "size": 15,
          "symbol": "circle"
         },
         "mode": "markers+text",
         "name": "Ancilla qubits",
         "showlegend": false,
         "text": "(8, 3, 1)",
         "textposition": "middle center",
         "type": "scatter",
         "x": [
          7.5
         ],
         "y": [
          2.5
         ]
        },
        {
         "hoverinfo": "text",
         "legendgroup": "qpu_aqbs",
         "marker": {
          "color": "lightgray",
          "line": {
           "color": "darkred",
           "width": 1
          },
          "size": 15,
          "symbol": "circle"
         },
         "mode": "markers+text",
         "name": "Ancilla qubits",
         "showlegend": false,
         "text": "(9, 3, 1)",
         "textposition": "middle center",
         "type": "scatter",
         "x": [
          8.5
         ],
         "y": [
          2.5
         ]
        },
        {
         "hoverinfo": "text",
         "legendgroup": "qpu_aqbs",
         "marker": {
          "color": "lightgray",
          "line": {
           "color": "darkred",
           "width": 1
          },
          "size": 15,
          "symbol": "circle"
         },
         "mode": "markers+text",
         "name": "Ancilla qubits",
         "showlegend": false,
         "text": "(0, 4, 1)",
         "textposition": "middle center",
         "type": "scatter",
         "x": [
          -0.5
         ],
         "y": [
          3.5
         ]
        },
        {
         "hoverinfo": "text",
         "legendgroup": "qpu_aqbs",
         "marker": {
          "color": "lightgray",
          "line": {
           "color": "darkred",
           "width": 1
          },
          "size": 15,
          "symbol": "circle"
         },
         "mode": "markers+text",
         "name": "Ancilla qubits",
         "showlegend": false,
         "text": "(1, 4, 1)",
         "textposition": "middle center",
         "type": "scatter",
         "x": [
          0.5
         ],
         "y": [
          3.5
         ]
        },
        {
         "hoverinfo": "text",
         "legendgroup": "qpu_aqbs",
         "marker": {
          "color": "lightgray",
          "line": {
           "color": "darkred",
           "width": 1
          },
          "size": 15,
          "symbol": "circle"
         },
         "mode": "markers+text",
         "name": "Ancilla qubits",
         "showlegend": false,
         "text": "(2, 4, 1)",
         "textposition": "middle center",
         "type": "scatter",
         "x": [
          1.5
         ],
         "y": [
          3.5
         ]
        },
        {
         "hoverinfo": "text",
         "legendgroup": "qpu_aqbs",
         "marker": {
          "color": "lightgray",
          "line": {
           "color": "darkred",
           "width": 1
          },
          "size": 15,
          "symbol": "circle"
         },
         "mode": "markers+text",
         "name": "Ancilla qubits",
         "showlegend": false,
         "text": "(3, 4, 1)",
         "textposition": "middle center",
         "type": "scatter",
         "x": [
          2.5
         ],
         "y": [
          3.5
         ]
        },
        {
         "hoverinfo": "text",
         "legendgroup": "qpu_aqbs",
         "marker": {
          "color": "lightgray",
          "line": {
           "color": "darkred",
           "width": 1
          },
          "size": 15,
          "symbol": "circle"
         },
         "mode": "markers+text",
         "name": "Ancilla qubits",
         "showlegend": false,
         "text": "(4, 4, 1)",
         "textposition": "middle center",
         "type": "scatter",
         "x": [
          3.5
         ],
         "y": [
          3.5
         ]
        },
        {
         "hoverinfo": "text",
         "legendgroup": "qpu_aqbs",
         "marker": {
          "color": "lightgray",
          "line": {
           "color": "darkred",
           "width": 1
          },
          "size": 15,
          "symbol": "circle"
         },
         "mode": "markers+text",
         "name": "Ancilla qubits",
         "showlegend": false,
         "text": "(5, 4, 1)",
         "textposition": "middle center",
         "type": "scatter",
         "x": [
          4.5
         ],
         "y": [
          3.5
         ]
        },
        {
         "hoverinfo": "text",
         "legendgroup": "qpu_aqbs",
         "marker": {
          "color": "lightgray",
          "line": {
           "color": "darkred",
           "width": 1
          },
          "size": 15,
          "symbol": "circle"
         },
         "mode": "markers+text",
         "name": "Ancilla qubits",
         "showlegend": false,
         "text": "(6, 4, 1)",
         "textposition": "middle center",
         "type": "scatter",
         "x": [
          5.5
         ],
         "y": [
          3.5
         ]
        },
        {
         "hoverinfo": "text",
         "legendgroup": "qpu_aqbs",
         "marker": {
          "color": "lightgray",
          "line": {
           "color": "darkred",
           "width": 1
          },
          "size": 15,
          "symbol": "circle"
         },
         "mode": "markers+text",
         "name": "Ancilla qubits",
         "showlegend": false,
         "text": "(7, 4, 1)",
         "textposition": "middle center",
         "type": "scatter",
         "x": [
          6.5
         ],
         "y": [
          3.5
         ]
        },
        {
         "hoverinfo": "text",
         "legendgroup": "qpu_aqbs",
         "marker": {
          "color": "lightgray",
          "line": {
           "color": "darkred",
           "width": 1
          },
          "size": 15,
          "symbol": "circle"
         },
         "mode": "markers+text",
         "name": "Ancilla qubits",
         "showlegend": false,
         "text": "(8, 4, 1)",
         "textposition": "middle center",
         "type": "scatter",
         "x": [
          7.5
         ],
         "y": [
          3.5
         ]
        },
        {
         "hoverinfo": "text",
         "legendgroup": "qpu_aqbs",
         "marker": {
          "color": "lightgray",
          "line": {
           "color": "darkred",
           "width": 1
          },
          "size": 15,
          "symbol": "circle"
         },
         "mode": "markers+text",
         "name": "Ancilla qubits",
         "showlegend": false,
         "text": "(9, 4, 1)",
         "textposition": "middle center",
         "type": "scatter",
         "x": [
          8.5
         ],
         "y": [
          3.5
         ]
        },
        {
         "hoverinfo": "text",
         "legendgroup": "qpu_aqbs",
         "marker": {
          "color": "lightgray",
          "line": {
           "color": "darkred",
           "width": 1
          },
          "size": 15,
          "symbol": "circle"
         },
         "mode": "markers+text",
         "name": "Ancilla qubits",
         "showlegend": false,
         "text": "(0, 5, 1)",
         "textposition": "middle center",
         "type": "scatter",
         "x": [
          -0.5
         ],
         "y": [
          4.5
         ]
        },
        {
         "hoverinfo": "text",
         "legendgroup": "qpu_aqbs",
         "marker": {
          "color": "lightgray",
          "line": {
           "color": "darkred",
           "width": 1
          },
          "size": 15,
          "symbol": "circle"
         },
         "mode": "markers+text",
         "name": "Ancilla qubits",
         "showlegend": false,
         "text": "(1, 5, 1)",
         "textposition": "middle center",
         "type": "scatter",
         "x": [
          0.5
         ],
         "y": [
          4.5
         ]
        },
        {
         "hoverinfo": "text",
         "legendgroup": "qpu_aqbs",
         "marker": {
          "color": "lightgray",
          "line": {
           "color": "darkred",
           "width": 1
          },
          "size": 15,
          "symbol": "circle"
         },
         "mode": "markers+text",
         "name": "Ancilla qubits",
         "showlegend": false,
         "text": "(2, 5, 1)",
         "textposition": "middle center",
         "type": "scatter",
         "x": [
          1.5
         ],
         "y": [
          4.5
         ]
        },
        {
         "hoverinfo": "text",
         "legendgroup": "qpu_aqbs",
         "marker": {
          "color": "lightgray",
          "line": {
           "color": "darkred",
           "width": 1
          },
          "size": 15,
          "symbol": "circle"
         },
         "mode": "markers+text",
         "name": "Ancilla qubits",
         "showlegend": false,
         "text": "(3, 5, 1)",
         "textposition": "middle center",
         "type": "scatter",
         "x": [
          2.5
         ],
         "y": [
          4.5
         ]
        },
        {
         "hoverinfo": "text",
         "legendgroup": "qpu_aqbs",
         "marker": {
          "color": "lightgray",
          "line": {
           "color": "darkred",
           "width": 1
          },
          "size": 15,
          "symbol": "circle"
         },
         "mode": "markers+text",
         "name": "Ancilla qubits",
         "showlegend": false,
         "text": "(4, 5, 1)",
         "textposition": "middle center",
         "type": "scatter",
         "x": [
          3.5
         ],
         "y": [
          4.5
         ]
        },
        {
         "hoverinfo": "text",
         "legendgroup": "qpu_aqbs",
         "marker": {
          "color": "lightgray",
          "line": {
           "color": "darkred",
           "width": 1
          },
          "size": 15,
          "symbol": "circle"
         },
         "mode": "markers+text",
         "name": "Ancilla qubits",
         "showlegend": false,
         "text": "(5, 5, 1)",
         "textposition": "middle center",
         "type": "scatter",
         "x": [
          4.5
         ],
         "y": [
          4.5
         ]
        },
        {
         "hoverinfo": "text",
         "legendgroup": "qpu_aqbs",
         "marker": {
          "color": "lightgray",
          "line": {
           "color": "darkred",
           "width": 1
          },
          "size": 15,
          "symbol": "circle"
         },
         "mode": "markers+text",
         "name": "Ancilla qubits",
         "showlegend": false,
         "text": "(6, 5, 1)",
         "textposition": "middle center",
         "type": "scatter",
         "x": [
          5.5
         ],
         "y": [
          4.5
         ]
        },
        {
         "hoverinfo": "text",
         "legendgroup": "qpu_aqbs",
         "marker": {
          "color": "lightgray",
          "line": {
           "color": "darkred",
           "width": 1
          },
          "size": 15,
          "symbol": "circle"
         },
         "mode": "markers+text",
         "name": "Ancilla qubits",
         "showlegend": false,
         "text": "(7, 5, 1)",
         "textposition": "middle center",
         "type": "scatter",
         "x": [
          6.5
         ],
         "y": [
          4.5
         ]
        },
        {
         "hoverinfo": "text",
         "legendgroup": "qpu_aqbs",
         "marker": {
          "color": "lightgray",
          "line": {
           "color": "darkred",
           "width": 1
          },
          "size": 15,
          "symbol": "circle"
         },
         "mode": "markers+text",
         "name": "Ancilla qubits",
         "showlegend": false,
         "text": "(8, 5, 1)",
         "textposition": "middle center",
         "type": "scatter",
         "x": [
          7.5
         ],
         "y": [
          4.5
         ]
        },
        {
         "hoverinfo": "text",
         "legendgroup": "qpu_aqbs",
         "marker": {
          "color": "lightgray",
          "line": {
           "color": "darkred",
           "width": 1
          },
          "size": 15,
          "symbol": "circle"
         },
         "mode": "markers+text",
         "name": "Ancilla qubits",
         "showlegend": false,
         "text": "(9, 5, 1)",
         "textposition": "middle center",
         "type": "scatter",
         "x": [
          8.5
         ],
         "y": [
          4.5
         ]
        },
        {
         "fill": "toself",
         "fillcolor": "rgba(90,174,230,0.8)",
         "hoverinfo": "none",
         "legendgroup": "stabs_Q1",
         "line": {
          "color": "black",
          "width": 2
         },
         "mode": "lines",
         "name": "Q1 stabilizers",
         "showlegend": true,
         "type": "scatter",
         "x": [
          1,
          2,
          2,
          1,
          1
         ],
         "y": [
          0,
          0,
          1,
          1,
          1
         ]
        },
        {
         "fill": "toself",
         "fillcolor": "rgba(90,174,230,0.8)",
         "hoverinfo": "none",
         "legendgroup": "stabs_Q1",
         "line": {
          "color": "black",
          "width": 2
         },
         "mode": "lines",
         "name": "Q1 stabilizers",
         "showlegend": false,
         "type": "scatter",
         "x": [
          3,
          4,
          4,
          3,
          3
         ],
         "y": [
          0,
          0,
          1,
          1,
          1
         ]
        },
        {
         "fill": "toself",
         "fillcolor": "rgba(90,174,230,0.8)",
         "hoverinfo": "none",
         "legendgroup": "stabs_Q1",
         "line": {
          "color": "black",
          "width": 2
         },
         "mode": "lines",
         "name": "Q1 stabilizers",
         "showlegend": false,
         "type": "scatter",
         "x": [
          5,
          6,
          6,
          5,
          5
         ],
         "y": [
          0,
          0,
          1,
          1,
          1
         ]
        },
        {
         "fill": "toself",
         "fillcolor": "rgba(90,174,230,0.8)",
         "hoverinfo": "none",
         "legendgroup": "stabs_Q1",
         "line": {
          "color": "black",
          "width": 2
         },
         "mode": "lines",
         "name": "Q1 stabilizers",
         "showlegend": false,
         "type": "scatter",
         "x": [
          0,
          1,
          1,
          0,
          0
         ],
         "y": [
          1,
          1,
          2,
          2,
          2
         ]
        },
        {
         "fill": "toself",
         "fillcolor": "rgba(90,174,230,0.8)",
         "hoverinfo": "none",
         "legendgroup": "stabs_Q1",
         "line": {
          "color": "black",
          "width": 2
         },
         "mode": "lines",
         "name": "Q1 stabilizers",
         "showlegend": false,
         "type": "scatter",
         "x": [
          2,
          3,
          3,
          2,
          2
         ],
         "y": [
          1,
          1,
          2,
          2,
          2
         ]
        },
        {
         "fill": "toself",
         "fillcolor": "rgba(90,174,230,0.8)",
         "hoverinfo": "none",
         "legendgroup": "stabs_Q1",
         "line": {
          "color": "black",
          "width": 2
         },
         "mode": "lines",
         "name": "Q1 stabilizers",
         "showlegend": false,
         "type": "scatter",
         "x": [
          4,
          5,
          5,
          4,
          4
         ],
         "y": [
          1,
          1,
          2,
          2,
          2
         ]
        },
        {
         "fill": "toself",
         "fillcolor": "rgba(90,174,230,0.8)",
         "hoverinfo": "none",
         "legendgroup": "stabs_Q1",
         "line": {
          "color": "black",
          "width": 2
         },
         "mode": "lines",
         "name": "Q1 stabilizers",
         "showlegend": false,
         "type": "scatter",
         "x": [
          -0.1,
          0.1,
          0.1,
          -0.1,
          -0.1
         ],
         "y": [
          0,
          0,
          1,
          1,
          1
         ]
        },
        {
         "fill": "toself",
         "fillcolor": "rgba(90,174,230,0.8)",
         "hoverinfo": "none",
         "legendgroup": "stabs_Q1",
         "line": {
          "color": "black",
          "width": 2
         },
         "mode": "lines",
         "name": "Q1 stabilizers",
         "showlegend": false,
         "type": "scatter",
         "x": [
          5.9,
          6.1,
          6.1,
          5.9,
          5.9
         ],
         "y": [
          1,
          1,
          2,
          2,
          2
         ]
        },
        {
         "fill": "toself",
         "fillcolor": "rgba(87,201,90,0.8)",
         "hoverinfo": "none",
         "legendgroup": "stabs_Q1",
         "line": {
          "color": "black",
          "width": 2
         },
         "mode": "lines",
         "name": "Q1 stabilizers",
         "showlegend": false,
         "type": "scatter",
         "x": [
          0,
          1,
          1,
          0,
          0
         ],
         "y": [
          0,
          0,
          1,
          1,
          1
         ]
        },
        {
         "fill": "toself",
         "fillcolor": "rgba(87,201,90,0.8)",
         "hoverinfo": "none",
         "legendgroup": "stabs_Q1",
         "line": {
          "color": "black",
          "width": 2
         },
         "mode": "lines",
         "name": "Q1 stabilizers",
         "showlegend": false,
         "type": "scatter",
         "x": [
          2,
          3,
          3,
          2,
          2
         ],
         "y": [
          0,
          0,
          1,
          1,
          1
         ]
        },
        {
         "fill": "toself",
         "fillcolor": "rgba(87,201,90,0.8)",
         "hoverinfo": "none",
         "legendgroup": "stabs_Q1",
         "line": {
          "color": "black",
          "width": 2
         },
         "mode": "lines",
         "name": "Q1 stabilizers",
         "showlegend": false,
         "type": "scatter",
         "x": [
          4,
          5,
          5,
          4,
          4
         ],
         "y": [
          0,
          0,
          1,
          1,
          1
         ]
        },
        {
         "fill": "toself",
         "fillcolor": "rgba(87,201,90,0.8)",
         "hoverinfo": "none",
         "legendgroup": "stabs_Q1",
         "line": {
          "color": "black",
          "width": 2
         },
         "mode": "lines",
         "name": "Q1 stabilizers",
         "showlegend": false,
         "type": "scatter",
         "x": [
          1,
          2,
          2,
          1,
          1
         ],
         "y": [
          1,
          1,
          2,
          2,
          2
         ]
        },
        {
         "fill": "toself",
         "fillcolor": "rgba(87,201,90,0.8)",
         "hoverinfo": "none",
         "legendgroup": "stabs_Q1",
         "line": {
          "color": "black",
          "width": 2
         },
         "mode": "lines",
         "name": "Q1 stabilizers",
         "showlegend": false,
         "type": "scatter",
         "x": [
          3,
          4,
          4,
          3,
          3
         ],
         "y": [
          1,
          1,
          2,
          2,
          2
         ]
        },
        {
         "fill": "toself",
         "fillcolor": "rgba(87,201,90,0.8)",
         "hoverinfo": "none",
         "legendgroup": "stabs_Q1",
         "line": {
          "color": "black",
          "width": 2
         },
         "mode": "lines",
         "name": "Q1 stabilizers",
         "showlegend": false,
         "type": "scatter",
         "x": [
          5,
          6,
          6,
          5,
          5
         ],
         "y": [
          1,
          1,
          2,
          2,
          2
         ]
        },
        {
         "fill": "toself",
         "fillcolor": "rgba(87,201,90,0.8)",
         "hoverinfo": "none",
         "legendgroup": "stabs_Q1",
         "line": {
          "color": "black",
          "width": 2
         },
         "mode": "lines",
         "name": "Q1 stabilizers",
         "showlegend": false,
         "type": "scatter",
         "x": [
          0,
          1,
          1,
          0,
          0
         ],
         "y": [
          1.9,
          1.9,
          2.1,
          2.1,
          2.1
         ]
        },
        {
         "fill": "toself",
         "fillcolor": "rgba(87,201,90,0.8)",
         "hoverinfo": "none",
         "legendgroup": "stabs_Q1",
         "line": {
          "color": "black",
          "width": 2
         },
         "mode": "lines",
         "name": "Q1 stabilizers",
         "showlegend": false,
         "type": "scatter",
         "x": [
          1,
          2,
          2,
          1,
          1
         ],
         "y": [
          -0.1,
          -0.1,
          0.1,
          0.1,
          0.1
         ]
        },
        {
         "fill": "toself",
         "fillcolor": "rgba(87,201,90,0.8)",
         "hoverinfo": "none",
         "legendgroup": "stabs_Q1",
         "line": {
          "color": "black",
          "width": 2
         },
         "mode": "lines",
         "name": "Q1 stabilizers",
         "showlegend": false,
         "type": "scatter",
         "x": [
          2,
          3,
          3,
          2,
          2
         ],
         "y": [
          1.9,
          1.9,
          2.1,
          2.1,
          2.1
         ]
        },
        {
         "fill": "toself",
         "fillcolor": "rgba(87,201,90,0.8)",
         "hoverinfo": "none",
         "legendgroup": "stabs_Q1",
         "line": {
          "color": "black",
          "width": 2
         },
         "mode": "lines",
         "name": "Q1 stabilizers",
         "showlegend": false,
         "type": "scatter",
         "x": [
          3,
          4,
          4,
          3,
          3
         ],
         "y": [
          -0.1,
          -0.1,
          0.1,
          0.1,
          0.1
         ]
        },
        {
         "fill": "toself",
         "fillcolor": "rgba(87,201,90,0.8)",
         "hoverinfo": "none",
         "legendgroup": "stabs_Q1",
         "line": {
          "color": "black",
          "width": 2
         },
         "mode": "lines",
         "name": "Q1 stabilizers",
         "showlegend": false,
         "type": "scatter",
         "x": [
          4,
          5,
          5,
          4,
          4
         ],
         "y": [
          1.9,
          1.9,
          2.1,
          2.1,
          2.1
         ]
        },
        {
         "fill": "toself",
         "fillcolor": "rgba(87,201,90,0.8)",
         "hoverinfo": "none",
         "legendgroup": "stabs_Q1",
         "line": {
          "color": "black",
          "width": 2
         },
         "mode": "lines",
         "name": "Q1 stabilizers",
         "showlegend": false,
         "type": "scatter",
         "x": [
          5,
          6,
          6,
          5,
          5
         ],
         "y": [
          -0.1,
          -0.1,
          0.1,
          0.1,
          0.1
         ]
        },
        {
         "hoverinfo": "text",
         "legendgroup": "",
         "marker": {
          "color": "#1f77b4",
          "line": {
           "color": "darkred",
           "width": 1
          },
          "size": 25,
          "symbol": "circle"
         },
         "mode": "markers+text",
         "name": "",
         "showlegend": false,
         "text": "(1, 0, 0)",
         "textposition": "middle center",
         "type": "scatter",
         "x": [
          1
         ],
         "y": [
          0
         ]
        },
        {
         "hoverinfo": "text",
         "legendgroup": "",
         "marker": {
          "color": "#1f77b4",
          "line": {
           "color": "darkred",
           "width": 1
          },
          "size": 25,
          "symbol": "circle"
         },
         "mode": "markers+text",
         "name": "",
         "showlegend": false,
         "text": "(2, 0, 0)",
         "textposition": "middle center",
         "type": "scatter",
         "x": [
          2
         ],
         "y": [
          0
         ]
        },
        {
         "hoverinfo": "text",
         "legendgroup": "",
         "marker": {
          "color": "#1f77b4",
          "line": {
           "color": "darkred",
           "width": 1
          },
          "size": 25,
          "symbol": "circle"
         },
         "mode": "markers+text",
         "name": "",
         "showlegend": false,
         "text": "(1, 1, 0)",
         "textposition": "middle center",
         "type": "scatter",
         "x": [
          1
         ],
         "y": [
          1
         ]
        },
        {
         "hoverinfo": "text",
         "legendgroup": "",
         "marker": {
          "color": "#1f77b4",
          "line": {
           "color": "darkred",
           "width": 1
          },
          "size": 25,
          "symbol": "circle"
         },
         "mode": "markers+text",
         "name": "",
         "showlegend": false,
         "text": "(2, 1, 0)",
         "textposition": "middle center",
         "type": "scatter",
         "x": [
          2
         ],
         "y": [
          1
         ]
        },
        {
         "hoverinfo": "text",
         "legendgroup": "",
         "marker": {
          "color": "#1f77b4",
          "line": {
           "color": "darkred",
           "width": 1
          },
          "size": 25,
          "symbol": "circle"
         },
         "mode": "markers+text",
         "name": "",
         "showlegend": false,
         "text": "(3, 0, 0)",
         "textposition": "middle center",
         "type": "scatter",
         "x": [
          3
         ],
         "y": [
          0
         ]
        },
        {
         "hoverinfo": "text",
         "legendgroup": "",
         "marker": {
          "color": "#1f77b4",
          "line": {
           "color": "darkred",
           "width": 1
          },
          "size": 25,
          "symbol": "circle"
         },
         "mode": "markers+text",
         "name": "",
         "showlegend": false,
         "text": "(4, 0, 0)",
         "textposition": "middle center",
         "type": "scatter",
         "x": [
          4
         ],
         "y": [
          0
         ]
        },
        {
         "hoverinfo": "text",
         "legendgroup": "",
         "marker": {
          "color": "#1f77b4",
          "line": {
           "color": "darkred",
           "width": 1
          },
          "size": 25,
          "symbol": "circle"
         },
         "mode": "markers+text",
         "name": "",
         "showlegend": false,
         "text": "(3, 1, 0)",
         "textposition": "middle center",
         "type": "scatter",
         "x": [
          3
         ],
         "y": [
          1
         ]
        },
        {
         "hoverinfo": "text",
         "legendgroup": "",
         "marker": {
          "color": "#1f77b4",
          "line": {
           "color": "darkred",
           "width": 1
          },
          "size": 25,
          "symbol": "circle"
         },
         "mode": "markers+text",
         "name": "",
         "showlegend": false,
         "text": "(4, 1, 0)",
         "textposition": "middle center",
         "type": "scatter",
         "x": [
          4
         ],
         "y": [
          1
         ]
        },
        {
         "hoverinfo": "text",
         "legendgroup": "",
         "marker": {
          "color": "#1f77b4",
          "line": {
           "color": "darkred",
           "width": 1
          },
          "size": 25,
          "symbol": "circle"
         },
         "mode": "markers+text",
         "name": "",
         "showlegend": false,
         "text": "(5, 0, 0)",
         "textposition": "middle center",
         "type": "scatter",
         "x": [
          5
         ],
         "y": [
          0
         ]
        },
        {
         "hoverinfo": "text",
         "legendgroup": "",
         "marker": {
          "color": "#1f77b4",
          "line": {
           "color": "darkred",
           "width": 1
          },
          "size": 25,
          "symbol": "circle"
         },
         "mode": "markers+text",
         "name": "",
         "showlegend": false,
         "text": "(6, 0, 0)",
         "textposition": "middle center",
         "type": "scatter",
         "x": [
          6
         ],
         "y": [
          0
         ]
        },
        {
         "hoverinfo": "text",
         "legendgroup": "",
         "marker": {
          "color": "#1f77b4",
          "line": {
           "color": "darkred",
           "width": 1
          },
          "size": 25,
          "symbol": "circle"
         },
         "mode": "markers+text",
         "name": "",
         "showlegend": false,
         "text": "(5, 1, 0)",
         "textposition": "middle center",
         "type": "scatter",
         "x": [
          5
         ],
         "y": [
          1
         ]
        },
        {
         "hoverinfo": "text",
         "legendgroup": "",
         "marker": {
          "color": "#1f77b4",
          "line": {
           "color": "darkred",
           "width": 1
          },
          "size": 25,
          "symbol": "circle"
         },
         "mode": "markers+text",
         "name": "",
         "showlegend": false,
         "text": "(6, 1, 0)",
         "textposition": "middle center",
         "type": "scatter",
         "x": [
          6
         ],
         "y": [
          1
         ]
        },
        {
         "hoverinfo": "text",
         "legendgroup": "",
         "marker": {
          "color": "#1f77b4",
          "line": {
           "color": "darkred",
           "width": 1
          },
          "size": 25,
          "symbol": "circle"
         },
         "mode": "markers+text",
         "name": "",
         "showlegend": false,
         "text": "(0, 1, 0)",
         "textposition": "middle center",
         "type": "scatter",
         "x": [
          0
         ],
         "y": [
          1
         ]
        },
        {
         "hoverinfo": "text",
         "legendgroup": "",
         "marker": {
          "color": "#1f77b4",
          "line": {
           "color": "darkred",
           "width": 1
          },
          "size": 25,
          "symbol": "circle"
         },
         "mode": "markers+text",
         "name": "",
         "showlegend": false,
         "text": "(0, 2, 0)",
         "textposition": "middle center",
         "type": "scatter",
         "x": [
          0
         ],
         "y": [
          2
         ]
        },
        {
         "hoverinfo": "text",
         "legendgroup": "",
         "marker": {
          "color": "#1f77b4",
          "line": {
           "color": "darkred",
           "width": 1
          },
          "size": 25,
          "symbol": "circle"
         },
         "mode": "markers+text",
         "name": "",
         "showlegend": false,
         "text": "(1, 2, 0)",
         "textposition": "middle center",
         "type": "scatter",
         "x": [
          1
         ],
         "y": [
          2
         ]
        },
        {
         "hoverinfo": "text",
         "legendgroup": "",
         "marker": {
          "color": "#1f77b4",
          "line": {
           "color": "darkred",
           "width": 1
          },
          "size": 25,
          "symbol": "circle"
         },
         "mode": "markers+text",
         "name": "",
         "showlegend": false,
         "text": "(2, 2, 0)",
         "textposition": "middle center",
         "type": "scatter",
         "x": [
          2
         ],
         "y": [
          2
         ]
        },
        {
         "hoverinfo": "text",
         "legendgroup": "",
         "marker": {
          "color": "#1f77b4",
          "line": {
           "color": "darkred",
           "width": 1
          },
          "size": 25,
          "symbol": "circle"
         },
         "mode": "markers+text",
         "name": "",
         "showlegend": false,
         "text": "(3, 2, 0)",
         "textposition": "middle center",
         "type": "scatter",
         "x": [
          3
         ],
         "y": [
          2
         ]
        },
        {
         "hoverinfo": "text",
         "legendgroup": "",
         "marker": {
          "color": "#1f77b4",
          "line": {
           "color": "darkred",
           "width": 1
          },
          "size": 25,
          "symbol": "circle"
         },
         "mode": "markers+text",
         "name": "",
         "showlegend": false,
         "text": "(4, 2, 0)",
         "textposition": "middle center",
         "type": "scatter",
         "x": [
          4
         ],
         "y": [
          2
         ]
        },
        {
         "hoverinfo": "text",
         "legendgroup": "",
         "marker": {
          "color": "#1f77b4",
          "line": {
           "color": "darkred",
           "width": 1
          },
          "size": 25,
          "symbol": "circle"
         },
         "mode": "markers+text",
         "name": "",
         "showlegend": false,
         "text": "(5, 2, 0)",
         "textposition": "middle center",
         "type": "scatter",
         "x": [
          5
         ],
         "y": [
          2
         ]
        },
        {
         "hoverinfo": "text",
         "legendgroup": "",
         "marker": {
          "color": "#1f77b4",
          "line": {
           "color": "darkred",
           "width": 1
          },
          "size": 25,
          "symbol": "circle"
         },
         "mode": "markers+text",
         "name": "",
         "showlegend": false,
         "text": "(0, 0, 0)",
         "textposition": "middle center",
         "type": "scatter",
         "x": [
          0
         ],
         "y": [
          0
         ]
        },
        {
         "hoverinfo": "text",
         "legendgroup": "",
         "marker": {
          "color": "#1f77b4",
          "line": {
           "color": "darkred",
           "width": 1
          },
          "size": 25,
          "symbol": "circle"
         },
         "mode": "markers+text",
         "name": "",
         "showlegend": false,
         "text": "(6, 2, 0)",
         "textposition": "middle center",
         "type": "scatter",
         "x": [
          6
         ],
         "y": [
          2
         ]
        },
        {
         "hoverinfo": "text",
         "legendgroup": "",
         "marker": {
          "color": "gray",
          "line": {
           "color": "darkred",
           "width": 1
          },
          "size": 25,
          "symbol": "square"
         },
         "mode": "markers+text",
         "name": "",
         "showlegend": false,
         "text": "X<sub>(0, 0, 0)</sub>",
         "textposition": "middle center",
         "type": "scatter",
         "x": [
          0
         ],
         "y": [
          0
         ]
        },
        {
         "hoverinfo": "text",
         "legendgroup": "",
         "marker": {
          "color": "gray",
          "line": {
           "color": "darkred",
           "width": 1
          },
          "size": 25,
          "symbol": "square"
         },
         "mode": "markers+text",
         "name": "",
         "showlegend": false,
         "text": "X<sub>(1, 0, 0)</sub>",
         "textposition": "middle center",
         "type": "scatter",
         "x": [
          1
         ],
         "y": [
          0
         ]
        },
        {
         "hoverinfo": "text",
         "legendgroup": "",
         "marker": {
          "color": "gray",
          "line": {
           "color": "darkred",
           "width": 1
          },
          "size": 25,
          "symbol": "square"
         },
         "mode": "markers+text",
         "name": "",
         "showlegend": false,
         "text": "X<sub>(2, 0, 0)</sub>",
         "textposition": "middle center",
         "type": "scatter",
         "x": [
          2
         ],
         "y": [
          0
         ]
        },
        {
         "hoverinfo": "text",
         "legendgroup": "",
         "marker": {
          "color": "gray",
          "line": {
           "color": "darkred",
           "width": 1
          },
          "size": 25,
          "symbol": "square"
         },
         "mode": "markers+text",
         "name": "",
         "showlegend": false,
         "text": "X<sub>(3, 0, 0)</sub>",
         "textposition": "middle center",
         "type": "scatter",
         "x": [
          3
         ],
         "y": [
          0
         ]
        },
        {
         "hoverinfo": "text",
         "legendgroup": "",
         "marker": {
          "color": "gray",
          "line": {
           "color": "darkred",
           "width": 1
          },
          "size": 25,
          "symbol": "square"
         },
         "mode": "markers+text",
         "name": "",
         "showlegend": false,
         "text": "X<sub>(4, 0, 0)</sub>",
         "textposition": "middle center",
         "type": "scatter",
         "x": [
          4
         ],
         "y": [
          0
         ]
        },
        {
         "hoverinfo": "text",
         "legendgroup": "",
         "marker": {
          "color": "gray",
          "line": {
           "color": "darkred",
           "width": 1
          },
          "size": 25,
          "symbol": "square"
         },
         "mode": "markers+text",
         "name": "",
         "showlegend": false,
         "text": "X<sub>(5, 0, 0)</sub>",
         "textposition": "middle center",
         "type": "scatter",
         "x": [
          5
         ],
         "y": [
          0
         ]
        },
        {
         "hoverinfo": "text",
         "legendgroup": "",
         "marker": {
          "color": "gray",
          "line": {
           "color": "darkred",
           "width": 1
          },
          "size": 25,
          "symbol": "square"
         },
         "mode": "markers+text",
         "name": "",
         "showlegend": false,
         "text": "X<sub>(6, 0, 0)</sub>",
         "textposition": "middle center",
         "type": "scatter",
         "x": [
          6
         ],
         "y": [
          0
         ]
        },
        {
         "hoverinfo": "text",
         "legendgroup": "",
         "marker": {
          "color": "gray",
          "line": {
           "color": "darkred",
           "width": 1
          },
          "size": 25,
          "symbol": "square"
         },
         "mode": "markers+text",
         "name": "",
         "showlegend": false,
         "text": "Z<sub>(2, 0, 0)</sub>",
         "textposition": "middle center",
         "type": "scatter",
         "x": [
          2
         ],
         "y": [
          0
         ]
        },
        {
         "hoverinfo": "text",
         "legendgroup": "",
         "marker": {
          "color": "gray",
          "line": {
           "color": "darkred",
           "width": 1
          },
          "size": 25,
          "symbol": "square"
         },
         "mode": "markers+text",
         "name": "",
         "showlegend": false,
         "text": "Z<sub>(2, 1, 0)</sub>",
         "textposition": "middle center",
         "type": "scatter",
         "x": [
          2
         ],
         "y": [
          1
         ]
        },
        {
         "hoverinfo": "text",
         "legendgroup": "",
         "marker": {
          "color": "gray",
          "line": {
           "color": "darkred",
           "width": 1
          },
          "size": 25,
          "symbol": "square"
         },
         "mode": "markers+text",
         "name": "",
         "showlegend": false,
         "text": "Z<sub>(2, 2, 0)</sub>",
         "textposition": "middle center",
         "type": "scatter",
         "x": [
          2
         ],
         "y": [
          2
         ]
        }
       ],
       "layout": {
        "height": 700,
        "showlegend": true,
        "template": {
         "data": {
          "bar": [
           {
            "error_x": {
             "color": "#2a3f5f"
            },
            "error_y": {
             "color": "#2a3f5f"
            },
            "marker": {
             "line": {
              "color": "#E5ECF6",
              "width": 0.5
             },
             "pattern": {
              "fillmode": "overlay",
              "size": 10,
              "solidity": 0.2
             }
            },
            "type": "bar"
           }
          ],
          "barpolar": [
           {
            "marker": {
             "line": {
              "color": "#E5ECF6",
              "width": 0.5
             },
             "pattern": {
              "fillmode": "overlay",
              "size": 10,
              "solidity": 0.2
             }
            },
            "type": "barpolar"
           }
          ],
          "carpet": [
           {
            "aaxis": {
             "endlinecolor": "#2a3f5f",
             "gridcolor": "white",
             "linecolor": "white",
             "minorgridcolor": "white",
             "startlinecolor": "#2a3f5f"
            },
            "baxis": {
             "endlinecolor": "#2a3f5f",
             "gridcolor": "white",
             "linecolor": "white",
             "minorgridcolor": "white",
             "startlinecolor": "#2a3f5f"
            },
            "type": "carpet"
           }
          ],
          "choropleth": [
           {
            "colorbar": {
             "outlinewidth": 0,
             "ticks": ""
            },
            "type": "choropleth"
           }
          ],
          "contour": [
           {
            "colorbar": {
             "outlinewidth": 0,
             "ticks": ""
            },
            "colorscale": [
             [
              0,
              "#0d0887"
             ],
             [
              0.1111111111111111,
              "#46039f"
             ],
             [
              0.2222222222222222,
              "#7201a8"
             ],
             [
              0.3333333333333333,
              "#9c179e"
             ],
             [
              0.4444444444444444,
              "#bd3786"
             ],
             [
              0.5555555555555556,
              "#d8576b"
             ],
             [
              0.6666666666666666,
              "#ed7953"
             ],
             [
              0.7777777777777778,
              "#fb9f3a"
             ],
             [
              0.8888888888888888,
              "#fdca26"
             ],
             [
              1,
              "#f0f921"
             ]
            ],
            "type": "contour"
           }
          ],
          "contourcarpet": [
           {
            "colorbar": {
             "outlinewidth": 0,
             "ticks": ""
            },
            "type": "contourcarpet"
           }
          ],
          "heatmap": [
           {
            "colorbar": {
             "outlinewidth": 0,
             "ticks": ""
            },
            "colorscale": [
             [
              0,
              "#0d0887"
             ],
             [
              0.1111111111111111,
              "#46039f"
             ],
             [
              0.2222222222222222,
              "#7201a8"
             ],
             [
              0.3333333333333333,
              "#9c179e"
             ],
             [
              0.4444444444444444,
              "#bd3786"
             ],
             [
              0.5555555555555556,
              "#d8576b"
             ],
             [
              0.6666666666666666,
              "#ed7953"
             ],
             [
              0.7777777777777778,
              "#fb9f3a"
             ],
             [
              0.8888888888888888,
              "#fdca26"
             ],
             [
              1,
              "#f0f921"
             ]
            ],
            "type": "heatmap"
           }
          ],
          "heatmapgl": [
           {
            "colorbar": {
             "outlinewidth": 0,
             "ticks": ""
            },
            "colorscale": [
             [
              0,
              "#0d0887"
             ],
             [
              0.1111111111111111,
              "#46039f"
             ],
             [
              0.2222222222222222,
              "#7201a8"
             ],
             [
              0.3333333333333333,
              "#9c179e"
             ],
             [
              0.4444444444444444,
              "#bd3786"
             ],
             [
              0.5555555555555556,
              "#d8576b"
             ],
             [
              0.6666666666666666,
              "#ed7953"
             ],
             [
              0.7777777777777778,
              "#fb9f3a"
             ],
             [
              0.8888888888888888,
              "#fdca26"
             ],
             [
              1,
              "#f0f921"
             ]
            ],
            "type": "heatmapgl"
           }
          ],
          "histogram": [
           {
            "marker": {
             "pattern": {
              "fillmode": "overlay",
              "size": 10,
              "solidity": 0.2
             }
            },
            "type": "histogram"
           }
          ],
          "histogram2d": [
           {
            "colorbar": {
             "outlinewidth": 0,
             "ticks": ""
            },
            "colorscale": [
             [
              0,
              "#0d0887"
             ],
             [
              0.1111111111111111,
              "#46039f"
             ],
             [
              0.2222222222222222,
              "#7201a8"
             ],
             [
              0.3333333333333333,
              "#9c179e"
             ],
             [
              0.4444444444444444,
              "#bd3786"
             ],
             [
              0.5555555555555556,
              "#d8576b"
             ],
             [
              0.6666666666666666,
              "#ed7953"
             ],
             [
              0.7777777777777778,
              "#fb9f3a"
             ],
             [
              0.8888888888888888,
              "#fdca26"
             ],
             [
              1,
              "#f0f921"
             ]
            ],
            "type": "histogram2d"
           }
          ],
          "histogram2dcontour": [
           {
            "colorbar": {
             "outlinewidth": 0,
             "ticks": ""
            },
            "colorscale": [
             [
              0,
              "#0d0887"
             ],
             [
              0.1111111111111111,
              "#46039f"
             ],
             [
              0.2222222222222222,
              "#7201a8"
             ],
             [
              0.3333333333333333,
              "#9c179e"
             ],
             [
              0.4444444444444444,
              "#bd3786"
             ],
             [
              0.5555555555555556,
              "#d8576b"
             ],
             [
              0.6666666666666666,
              "#ed7953"
             ],
             [
              0.7777777777777778,
              "#fb9f3a"
             ],
             [
              0.8888888888888888,
              "#fdca26"
             ],
             [
              1,
              "#f0f921"
             ]
            ],
            "type": "histogram2dcontour"
           }
          ],
          "mesh3d": [
           {
            "colorbar": {
             "outlinewidth": 0,
             "ticks": ""
            },
            "type": "mesh3d"
           }
          ],
          "parcoords": [
           {
            "line": {
             "colorbar": {
              "outlinewidth": 0,
              "ticks": ""
             }
            },
            "type": "parcoords"
           }
          ],
          "pie": [
           {
            "automargin": true,
            "type": "pie"
           }
          ],
          "scatter": [
           {
            "fillpattern": {
             "fillmode": "overlay",
             "size": 10,
             "solidity": 0.2
            },
            "type": "scatter"
           }
          ],
          "scatter3d": [
           {
            "line": {
             "colorbar": {
              "outlinewidth": 0,
              "ticks": ""
             }
            },
            "marker": {
             "colorbar": {
              "outlinewidth": 0,
              "ticks": ""
             }
            },
            "type": "scatter3d"
           }
          ],
          "scattercarpet": [
           {
            "marker": {
             "colorbar": {
              "outlinewidth": 0,
              "ticks": ""
             }
            },
            "type": "scattercarpet"
           }
          ],
          "scattergeo": [
           {
            "marker": {
             "colorbar": {
              "outlinewidth": 0,
              "ticks": ""
             }
            },
            "type": "scattergeo"
           }
          ],
          "scattergl": [
           {
            "marker": {
             "colorbar": {
              "outlinewidth": 0,
              "ticks": ""
             }
            },
            "type": "scattergl"
           }
          ],
          "scattermapbox": [
           {
            "marker": {
             "colorbar": {
              "outlinewidth": 0,
              "ticks": ""
             }
            },
            "type": "scattermapbox"
           }
          ],
          "scatterpolar": [
           {
            "marker": {
             "colorbar": {
              "outlinewidth": 0,
              "ticks": ""
             }
            },
            "type": "scatterpolar"
           }
          ],
          "scatterpolargl": [
           {
            "marker": {
             "colorbar": {
              "outlinewidth": 0,
              "ticks": ""
             }
            },
            "type": "scatterpolargl"
           }
          ],
          "scatterternary": [
           {
            "marker": {
             "colorbar": {
              "outlinewidth": 0,
              "ticks": ""
             }
            },
            "type": "scatterternary"
           }
          ],
          "surface": [
           {
            "colorbar": {
             "outlinewidth": 0,
             "ticks": ""
            },
            "colorscale": [
             [
              0,
              "#0d0887"
             ],
             [
              0.1111111111111111,
              "#46039f"
             ],
             [
              0.2222222222222222,
              "#7201a8"
             ],
             [
              0.3333333333333333,
              "#9c179e"
             ],
             [
              0.4444444444444444,
              "#bd3786"
             ],
             [
              0.5555555555555556,
              "#d8576b"
             ],
             [
              0.6666666666666666,
              "#ed7953"
             ],
             [
              0.7777777777777778,
              "#fb9f3a"
             ],
             [
              0.8888888888888888,
              "#fdca26"
             ],
             [
              1,
              "#f0f921"
             ]
            ],
            "type": "surface"
           }
          ],
          "table": [
           {
            "cells": {
             "fill": {
              "color": "#EBF0F8"
             },
             "line": {
              "color": "white"
             }
            },
            "header": {
             "fill": {
              "color": "#C8D4E3"
             },
             "line": {
              "color": "white"
             }
            },
            "type": "table"
           }
          ]
         },
         "layout": {
          "annotationdefaults": {
           "arrowcolor": "#2a3f5f",
           "arrowhead": 0,
           "arrowwidth": 1
          },
          "autotypenumbers": "strict",
          "coloraxis": {
           "colorbar": {
            "outlinewidth": 0,
            "ticks": ""
           }
          },
          "colorscale": {
           "diverging": [
            [
             0,
             "#8e0152"
            ],
            [
             0.1,
             "#c51b7d"
            ],
            [
             0.2,
             "#de77ae"
            ],
            [
             0.3,
             "#f1b6da"
            ],
            [
             0.4,
             "#fde0ef"
            ],
            [
             0.5,
             "#f7f7f7"
            ],
            [
             0.6,
             "#e6f5d0"
            ],
            [
             0.7,
             "#b8e186"
            ],
            [
             0.8,
             "#7fbc41"
            ],
            [
             0.9,
             "#4d9221"
            ],
            [
             1,
             "#276419"
            ]
           ],
           "sequential": [
            [
             0,
             "#0d0887"
            ],
            [
             0.1111111111111111,
             "#46039f"
            ],
            [
             0.2222222222222222,
             "#7201a8"
            ],
            [
             0.3333333333333333,
             "#9c179e"
            ],
            [
             0.4444444444444444,
             "#bd3786"
            ],
            [
             0.5555555555555556,
             "#d8576b"
            ],
            [
             0.6666666666666666,
             "#ed7953"
            ],
            [
             0.7777777777777778,
             "#fb9f3a"
            ],
            [
             0.8888888888888888,
             "#fdca26"
            ],
            [
             1,
             "#f0f921"
            ]
           ],
           "sequentialminus": [
            [
             0,
             "#0d0887"
            ],
            [
             0.1111111111111111,
             "#46039f"
            ],
            [
             0.2222222222222222,
             "#7201a8"
            ],
            [
             0.3333333333333333,
             "#9c179e"
            ],
            [
             0.4444444444444444,
             "#bd3786"
            ],
            [
             0.5555555555555556,
             "#d8576b"
            ],
            [
             0.6666666666666666,
             "#ed7953"
            ],
            [
             0.7777777777777778,
             "#fb9f3a"
            ],
            [
             0.8888888888888888,
             "#fdca26"
            ],
            [
             1,
             "#f0f921"
            ]
           ]
          },
          "colorway": [
           "#636efa",
           "#EF553B",
           "#00cc96",
           "#ab63fa",
           "#FFA15A",
           "#19d3f3",
           "#FF6692",
           "#B6E880",
           "#FF97FF",
           "#FECB52"
          ],
          "font": {
           "color": "#2a3f5f"
          },
          "geo": {
           "bgcolor": "white",
           "lakecolor": "white",
           "landcolor": "#E5ECF6",
           "showlakes": true,
           "showland": true,
           "subunitcolor": "white"
          },
          "hoverlabel": {
           "align": "left"
          },
          "hovermode": "closest",
          "mapbox": {
           "style": "light"
          },
          "paper_bgcolor": "white",
          "plot_bgcolor": "#E5ECF6",
          "polar": {
           "angularaxis": {
            "gridcolor": "white",
            "linecolor": "white",
            "ticks": ""
           },
           "bgcolor": "#E5ECF6",
           "radialaxis": {
            "gridcolor": "white",
            "linecolor": "white",
            "ticks": ""
           }
          },
          "scene": {
           "xaxis": {
            "backgroundcolor": "#E5ECF6",
            "gridcolor": "white",
            "gridwidth": 2,
            "linecolor": "white",
            "showbackground": true,
            "ticks": "",
            "zerolinecolor": "white"
           },
           "yaxis": {
            "backgroundcolor": "#E5ECF6",
            "gridcolor": "white",
            "gridwidth": 2,
            "linecolor": "white",
            "showbackground": true,
            "ticks": "",
            "zerolinecolor": "white"
           },
           "zaxis": {
            "backgroundcolor": "#E5ECF6",
            "gridcolor": "white",
            "gridwidth": 2,
            "linecolor": "white",
            "showbackground": true,
            "ticks": "",
            "zerolinecolor": "white"
           }
          },
          "shapedefaults": {
           "line": {
            "color": "#2a3f5f"
           }
          },
          "ternary": {
           "aaxis": {
            "gridcolor": "white",
            "linecolor": "white",
            "ticks": ""
           },
           "baxis": {
            "gridcolor": "white",
            "linecolor": "white",
            "ticks": ""
           },
           "bgcolor": "#E5ECF6",
           "caxis": {
            "gridcolor": "white",
            "linecolor": "white",
            "ticks": ""
           }
          },
          "title": {
           "x": 0.05
          },
          "xaxis": {
           "automargin": true,
           "gridcolor": "white",
           "linecolor": "white",
           "ticks": "",
           "title": {
            "standoff": 15
           },
           "zerolinecolor": "white",
           "zerolinewidth": 2
          },
          "yaxis": {
           "automargin": true,
           "gridcolor": "white",
           "linecolor": "white",
           "ticks": "",
           "title": {
            "standoff": 15
           },
           "zerolinecolor": "white",
           "zerolinewidth": 2
          }
         }
        },
        "width": 1100,
        "xaxis": {
         "anchor": "y",
         "domain": [
          0,
          1
         ],
         "showgrid": true,
         "visible": true,
         "zeroline": false
        },
        "yaxis": {
         "anchor": "x",
         "autorange": "reversed",
         "domain": [
          0,
          1
         ],
         "scaleanchor": "x",
         "scaleratio": 1,
         "showgrid": true,
         "visible": true
        }
       }
      }
     },
     "metadata": {},
     "output_type": "display_data"
    }
   ],
   "source": [
    "qecplot = QECPlot(circ)\n",
    "qecplot.plot_logical_qubit(\"Q1\")\n",
    "qecplot.show()"
   ]
  },
  {
   "cell_type": "markdown",
   "metadata": {},
   "source": [
    "Now add the split operation:"
   ]
  },
  {
   "cell_type": "code",
   "execution_count": 4,
   "metadata": {},
   "outputs": [],
   "source": [
    "circ.split(\"Q1\", [(3,0,0), (3,1,0), (3,2,0)], [\"Q2\", \"Q3\"])"
   ]
  },
  {
   "cell_type": "markdown",
   "metadata": {},
   "source": [
    "Now after the split, plot again the current configuration of the lattice. Now one can see that there are two logical qubit patches with two logical operators each:"
   ]
  },
  {
   "cell_type": "code",
   "execution_count": 5,
   "metadata": {},
   "outputs": [
    {
     "data": {
      "application/vnd.plotly.v1+json": {
       "config": {
        "plotlyServerURL": "https://plot.ly"
       },
       "data": [
        {
         "hoverinfo": "text",
         "legendgroup": "qpu_dqbs",
         "marker": {
          "color": "gray",
          "line": {
           "color": "darkred",
           "width": 1
          },
          "size": 25,
          "symbol": "circle"
         },
         "mode": "markers+text",
         "name": "Data qubits",
         "showlegend": true,
         "text": "(0, 0, 0)",
         "textposition": "middle center",
         "type": "scatter",
         "x": [
          0
         ],
         "y": [
          0
         ]
        },
        {
         "hoverinfo": "text",
         "legendgroup": "qpu_dqbs",
         "marker": {
          "color": "gray",
          "line": {
           "color": "darkred",
           "width": 1
          },
          "size": 25,
          "symbol": "circle"
         },
         "mode": "markers+text",
         "name": "Data qubits",
         "showlegend": false,
         "text": "(1, 0, 0)",
         "textposition": "middle center",
         "type": "scatter",
         "x": [
          1
         ],
         "y": [
          0
         ]
        },
        {
         "hoverinfo": "text",
         "legendgroup": "qpu_dqbs",
         "marker": {
          "color": "gray",
          "line": {
           "color": "darkred",
           "width": 1
          },
          "size": 25,
          "symbol": "circle"
         },
         "mode": "markers+text",
         "name": "Data qubits",
         "showlegend": false,
         "text": "(2, 0, 0)",
         "textposition": "middle center",
         "type": "scatter",
         "x": [
          2
         ],
         "y": [
          0
         ]
        },
        {
         "hoverinfo": "text",
         "legendgroup": "qpu_dqbs",
         "marker": {
          "color": "gray",
          "line": {
           "color": "darkred",
           "width": 1
          },
          "size": 25,
          "symbol": "circle"
         },
         "mode": "markers+text",
         "name": "Data qubits",
         "showlegend": false,
         "text": "(3, 0, 0)",
         "textposition": "middle center",
         "type": "scatter",
         "x": [
          3
         ],
         "y": [
          0
         ]
        },
        {
         "hoverinfo": "text",
         "legendgroup": "qpu_dqbs",
         "marker": {
          "color": "gray",
          "line": {
           "color": "darkred",
           "width": 1
          },
          "size": 25,
          "symbol": "circle"
         },
         "mode": "markers+text",
         "name": "Data qubits",
         "showlegend": false,
         "text": "(4, 0, 0)",
         "textposition": "middle center",
         "type": "scatter",
         "x": [
          4
         ],
         "y": [
          0
         ]
        },
        {
         "hoverinfo": "text",
         "legendgroup": "qpu_dqbs",
         "marker": {
          "color": "gray",
          "line": {
           "color": "darkred",
           "width": 1
          },
          "size": 25,
          "symbol": "circle"
         },
         "mode": "markers+text",
         "name": "Data qubits",
         "showlegend": false,
         "text": "(5, 0, 0)",
         "textposition": "middle center",
         "type": "scatter",
         "x": [
          5
         ],
         "y": [
          0
         ]
        },
        {
         "hoverinfo": "text",
         "legendgroup": "qpu_dqbs",
         "marker": {
          "color": "gray",
          "line": {
           "color": "darkred",
           "width": 1
          },
          "size": 25,
          "symbol": "circle"
         },
         "mode": "markers+text",
         "name": "Data qubits",
         "showlegend": false,
         "text": "(6, 0, 0)",
         "textposition": "middle center",
         "type": "scatter",
         "x": [
          6
         ],
         "y": [
          0
         ]
        },
        {
         "hoverinfo": "text",
         "legendgroup": "qpu_dqbs",
         "marker": {
          "color": "gray",
          "line": {
           "color": "darkred",
           "width": 1
          },
          "size": 25,
          "symbol": "circle"
         },
         "mode": "markers+text",
         "name": "Data qubits",
         "showlegend": false,
         "text": "(7, 0, 0)",
         "textposition": "middle center",
         "type": "scatter",
         "x": [
          7
         ],
         "y": [
          0
         ]
        },
        {
         "hoverinfo": "text",
         "legendgroup": "qpu_dqbs",
         "marker": {
          "color": "gray",
          "line": {
           "color": "darkred",
           "width": 1
          },
          "size": 25,
          "symbol": "circle"
         },
         "mode": "markers+text",
         "name": "Data qubits",
         "showlegend": false,
         "text": "(8, 0, 0)",
         "textposition": "middle center",
         "type": "scatter",
         "x": [
          8
         ],
         "y": [
          0
         ]
        },
        {
         "hoverinfo": "text",
         "legendgroup": "qpu_dqbs",
         "marker": {
          "color": "gray",
          "line": {
           "color": "darkred",
           "width": 1
          },
          "size": 25,
          "symbol": "circle"
         },
         "mode": "markers+text",
         "name": "Data qubits",
         "showlegend": false,
         "text": "(0, 1, 0)",
         "textposition": "middle center",
         "type": "scatter",
         "x": [
          0
         ],
         "y": [
          1
         ]
        },
        {
         "hoverinfo": "text",
         "legendgroup": "qpu_dqbs",
         "marker": {
          "color": "gray",
          "line": {
           "color": "darkred",
           "width": 1
          },
          "size": 25,
          "symbol": "circle"
         },
         "mode": "markers+text",
         "name": "Data qubits",
         "showlegend": false,
         "text": "(1, 1, 0)",
         "textposition": "middle center",
         "type": "scatter",
         "x": [
          1
         ],
         "y": [
          1
         ]
        },
        {
         "hoverinfo": "text",
         "legendgroup": "qpu_dqbs",
         "marker": {
          "color": "gray",
          "line": {
           "color": "darkred",
           "width": 1
          },
          "size": 25,
          "symbol": "circle"
         },
         "mode": "markers+text",
         "name": "Data qubits",
         "showlegend": false,
         "text": "(2, 1, 0)",
         "textposition": "middle center",
         "type": "scatter",
         "x": [
          2
         ],
         "y": [
          1
         ]
        },
        {
         "hoverinfo": "text",
         "legendgroup": "qpu_dqbs",
         "marker": {
          "color": "gray",
          "line": {
           "color": "darkred",
           "width": 1
          },
          "size": 25,
          "symbol": "circle"
         },
         "mode": "markers+text",
         "name": "Data qubits",
         "showlegend": false,
         "text": "(3, 1, 0)",
         "textposition": "middle center",
         "type": "scatter",
         "x": [
          3
         ],
         "y": [
          1
         ]
        },
        {
         "hoverinfo": "text",
         "legendgroup": "qpu_dqbs",
         "marker": {
          "color": "gray",
          "line": {
           "color": "darkred",
           "width": 1
          },
          "size": 25,
          "symbol": "circle"
         },
         "mode": "markers+text",
         "name": "Data qubits",
         "showlegend": false,
         "text": "(4, 1, 0)",
         "textposition": "middle center",
         "type": "scatter",
         "x": [
          4
         ],
         "y": [
          1
         ]
        },
        {
         "hoverinfo": "text",
         "legendgroup": "qpu_dqbs",
         "marker": {
          "color": "gray",
          "line": {
           "color": "darkred",
           "width": 1
          },
          "size": 25,
          "symbol": "circle"
         },
         "mode": "markers+text",
         "name": "Data qubits",
         "showlegend": false,
         "text": "(5, 1, 0)",
         "textposition": "middle center",
         "type": "scatter",
         "x": [
          5
         ],
         "y": [
          1
         ]
        },
        {
         "hoverinfo": "text",
         "legendgroup": "qpu_dqbs",
         "marker": {
          "color": "gray",
          "line": {
           "color": "darkred",
           "width": 1
          },
          "size": 25,
          "symbol": "circle"
         },
         "mode": "markers+text",
         "name": "Data qubits",
         "showlegend": false,
         "text": "(6, 1, 0)",
         "textposition": "middle center",
         "type": "scatter",
         "x": [
          6
         ],
         "y": [
          1
         ]
        },
        {
         "hoverinfo": "text",
         "legendgroup": "qpu_dqbs",
         "marker": {
          "color": "gray",
          "line": {
           "color": "darkred",
           "width": 1
          },
          "size": 25,
          "symbol": "circle"
         },
         "mode": "markers+text",
         "name": "Data qubits",
         "showlegend": false,
         "text": "(7, 1, 0)",
         "textposition": "middle center",
         "type": "scatter",
         "x": [
          7
         ],
         "y": [
          1
         ]
        },
        {
         "hoverinfo": "text",
         "legendgroup": "qpu_dqbs",
         "marker": {
          "color": "gray",
          "line": {
           "color": "darkred",
           "width": 1
          },
          "size": 25,
          "symbol": "circle"
         },
         "mode": "markers+text",
         "name": "Data qubits",
         "showlegend": false,
         "text": "(8, 1, 0)",
         "textposition": "middle center",
         "type": "scatter",
         "x": [
          8
         ],
         "y": [
          1
         ]
        },
        {
         "hoverinfo": "text",
         "legendgroup": "qpu_dqbs",
         "marker": {
          "color": "gray",
          "line": {
           "color": "darkred",
           "width": 1
          },
          "size": 25,
          "symbol": "circle"
         },
         "mode": "markers+text",
         "name": "Data qubits",
         "showlegend": false,
         "text": "(0, 2, 0)",
         "textposition": "middle center",
         "type": "scatter",
         "x": [
          0
         ],
         "y": [
          2
         ]
        },
        {
         "hoverinfo": "text",
         "legendgroup": "qpu_dqbs",
         "marker": {
          "color": "gray",
          "line": {
           "color": "darkred",
           "width": 1
          },
          "size": 25,
          "symbol": "circle"
         },
         "mode": "markers+text",
         "name": "Data qubits",
         "showlegend": false,
         "text": "(1, 2, 0)",
         "textposition": "middle center",
         "type": "scatter",
         "x": [
          1
         ],
         "y": [
          2
         ]
        },
        {
         "hoverinfo": "text",
         "legendgroup": "qpu_dqbs",
         "marker": {
          "color": "gray",
          "line": {
           "color": "darkred",
           "width": 1
          },
          "size": 25,
          "symbol": "circle"
         },
         "mode": "markers+text",
         "name": "Data qubits",
         "showlegend": false,
         "text": "(2, 2, 0)",
         "textposition": "middle center",
         "type": "scatter",
         "x": [
          2
         ],
         "y": [
          2
         ]
        },
        {
         "hoverinfo": "text",
         "legendgroup": "qpu_dqbs",
         "marker": {
          "color": "gray",
          "line": {
           "color": "darkred",
           "width": 1
          },
          "size": 25,
          "symbol": "circle"
         },
         "mode": "markers+text",
         "name": "Data qubits",
         "showlegend": false,
         "text": "(3, 2, 0)",
         "textposition": "middle center",
         "type": "scatter",
         "x": [
          3
         ],
         "y": [
          2
         ]
        },
        {
         "hoverinfo": "text",
         "legendgroup": "qpu_dqbs",
         "marker": {
          "color": "gray",
          "line": {
           "color": "darkred",
           "width": 1
          },
          "size": 25,
          "symbol": "circle"
         },
         "mode": "markers+text",
         "name": "Data qubits",
         "showlegend": false,
         "text": "(4, 2, 0)",
         "textposition": "middle center",
         "type": "scatter",
         "x": [
          4
         ],
         "y": [
          2
         ]
        },
        {
         "hoverinfo": "text",
         "legendgroup": "qpu_dqbs",
         "marker": {
          "color": "gray",
          "line": {
           "color": "darkred",
           "width": 1
          },
          "size": 25,
          "symbol": "circle"
         },
         "mode": "markers+text",
         "name": "Data qubits",
         "showlegend": false,
         "text": "(5, 2, 0)",
         "textposition": "middle center",
         "type": "scatter",
         "x": [
          5
         ],
         "y": [
          2
         ]
        },
        {
         "hoverinfo": "text",
         "legendgroup": "qpu_dqbs",
         "marker": {
          "color": "gray",
          "line": {
           "color": "darkred",
           "width": 1
          },
          "size": 25,
          "symbol": "circle"
         },
         "mode": "markers+text",
         "name": "Data qubits",
         "showlegend": false,
         "text": "(6, 2, 0)",
         "textposition": "middle center",
         "type": "scatter",
         "x": [
          6
         ],
         "y": [
          2
         ]
        },
        {
         "hoverinfo": "text",
         "legendgroup": "qpu_dqbs",
         "marker": {
          "color": "gray",
          "line": {
           "color": "darkred",
           "width": 1
          },
          "size": 25,
          "symbol": "circle"
         },
         "mode": "markers+text",
         "name": "Data qubits",
         "showlegend": false,
         "text": "(7, 2, 0)",
         "textposition": "middle center",
         "type": "scatter",
         "x": [
          7
         ],
         "y": [
          2
         ]
        },
        {
         "hoverinfo": "text",
         "legendgroup": "qpu_dqbs",
         "marker": {
          "color": "gray",
          "line": {
           "color": "darkred",
           "width": 1
          },
          "size": 25,
          "symbol": "circle"
         },
         "mode": "markers+text",
         "name": "Data qubits",
         "showlegend": false,
         "text": "(8, 2, 0)",
         "textposition": "middle center",
         "type": "scatter",
         "x": [
          8
         ],
         "y": [
          2
         ]
        },
        {
         "hoverinfo": "text",
         "legendgroup": "qpu_dqbs",
         "marker": {
          "color": "gray",
          "line": {
           "color": "darkred",
           "width": 1
          },
          "size": 25,
          "symbol": "circle"
         },
         "mode": "markers+text",
         "name": "Data qubits",
         "showlegend": false,
         "text": "(0, 3, 0)",
         "textposition": "middle center",
         "type": "scatter",
         "x": [
          0
         ],
         "y": [
          3
         ]
        },
        {
         "hoverinfo": "text",
         "legendgroup": "qpu_dqbs",
         "marker": {
          "color": "gray",
          "line": {
           "color": "darkred",
           "width": 1
          },
          "size": 25,
          "symbol": "circle"
         },
         "mode": "markers+text",
         "name": "Data qubits",
         "showlegend": false,
         "text": "(1, 3, 0)",
         "textposition": "middle center",
         "type": "scatter",
         "x": [
          1
         ],
         "y": [
          3
         ]
        },
        {
         "hoverinfo": "text",
         "legendgroup": "qpu_dqbs",
         "marker": {
          "color": "gray",
          "line": {
           "color": "darkred",
           "width": 1
          },
          "size": 25,
          "symbol": "circle"
         },
         "mode": "markers+text",
         "name": "Data qubits",
         "showlegend": false,
         "text": "(2, 3, 0)",
         "textposition": "middle center",
         "type": "scatter",
         "x": [
          2
         ],
         "y": [
          3
         ]
        },
        {
         "hoverinfo": "text",
         "legendgroup": "qpu_dqbs",
         "marker": {
          "color": "gray",
          "line": {
           "color": "darkred",
           "width": 1
          },
          "size": 25,
          "symbol": "circle"
         },
         "mode": "markers+text",
         "name": "Data qubits",
         "showlegend": false,
         "text": "(3, 3, 0)",
         "textposition": "middle center",
         "type": "scatter",
         "x": [
          3
         ],
         "y": [
          3
         ]
        },
        {
         "hoverinfo": "text",
         "legendgroup": "qpu_dqbs",
         "marker": {
          "color": "gray",
          "line": {
           "color": "darkred",
           "width": 1
          },
          "size": 25,
          "symbol": "circle"
         },
         "mode": "markers+text",
         "name": "Data qubits",
         "showlegend": false,
         "text": "(4, 3, 0)",
         "textposition": "middle center",
         "type": "scatter",
         "x": [
          4
         ],
         "y": [
          3
         ]
        },
        {
         "hoverinfo": "text",
         "legendgroup": "qpu_dqbs",
         "marker": {
          "color": "gray",
          "line": {
           "color": "darkred",
           "width": 1
          },
          "size": 25,
          "symbol": "circle"
         },
         "mode": "markers+text",
         "name": "Data qubits",
         "showlegend": false,
         "text": "(5, 3, 0)",
         "textposition": "middle center",
         "type": "scatter",
         "x": [
          5
         ],
         "y": [
          3
         ]
        },
        {
         "hoverinfo": "text",
         "legendgroup": "qpu_dqbs",
         "marker": {
          "color": "gray",
          "line": {
           "color": "darkred",
           "width": 1
          },
          "size": 25,
          "symbol": "circle"
         },
         "mode": "markers+text",
         "name": "Data qubits",
         "showlegend": false,
         "text": "(6, 3, 0)",
         "textposition": "middle center",
         "type": "scatter",
         "x": [
          6
         ],
         "y": [
          3
         ]
        },
        {
         "hoverinfo": "text",
         "legendgroup": "qpu_dqbs",
         "marker": {
          "color": "gray",
          "line": {
           "color": "darkred",
           "width": 1
          },
          "size": 25,
          "symbol": "circle"
         },
         "mode": "markers+text",
         "name": "Data qubits",
         "showlegend": false,
         "text": "(7, 3, 0)",
         "textposition": "middle center",
         "type": "scatter",
         "x": [
          7
         ],
         "y": [
          3
         ]
        },
        {
         "hoverinfo": "text",
         "legendgroup": "qpu_dqbs",
         "marker": {
          "color": "gray",
          "line": {
           "color": "darkred",
           "width": 1
          },
          "size": 25,
          "symbol": "circle"
         },
         "mode": "markers+text",
         "name": "Data qubits",
         "showlegend": false,
         "text": "(8, 3, 0)",
         "textposition": "middle center",
         "type": "scatter",
         "x": [
          8
         ],
         "y": [
          3
         ]
        },
        {
         "hoverinfo": "text",
         "legendgroup": "qpu_dqbs",
         "marker": {
          "color": "gray",
          "line": {
           "color": "darkred",
           "width": 1
          },
          "size": 25,
          "symbol": "circle"
         },
         "mode": "markers+text",
         "name": "Data qubits",
         "showlegend": false,
         "text": "(0, 4, 0)",
         "textposition": "middle center",
         "type": "scatter",
         "x": [
          0
         ],
         "y": [
          4
         ]
        },
        {
         "hoverinfo": "text",
         "legendgroup": "qpu_dqbs",
         "marker": {
          "color": "gray",
          "line": {
           "color": "darkred",
           "width": 1
          },
          "size": 25,
          "symbol": "circle"
         },
         "mode": "markers+text",
         "name": "Data qubits",
         "showlegend": false,
         "text": "(1, 4, 0)",
         "textposition": "middle center",
         "type": "scatter",
         "x": [
          1
         ],
         "y": [
          4
         ]
        },
        {
         "hoverinfo": "text",
         "legendgroup": "qpu_dqbs",
         "marker": {
          "color": "gray",
          "line": {
           "color": "darkred",
           "width": 1
          },
          "size": 25,
          "symbol": "circle"
         },
         "mode": "markers+text",
         "name": "Data qubits",
         "showlegend": false,
         "text": "(2, 4, 0)",
         "textposition": "middle center",
         "type": "scatter",
         "x": [
          2
         ],
         "y": [
          4
         ]
        },
        {
         "hoverinfo": "text",
         "legendgroup": "qpu_dqbs",
         "marker": {
          "color": "gray",
          "line": {
           "color": "darkred",
           "width": 1
          },
          "size": 25,
          "symbol": "circle"
         },
         "mode": "markers+text",
         "name": "Data qubits",
         "showlegend": false,
         "text": "(3, 4, 0)",
         "textposition": "middle center",
         "type": "scatter",
         "x": [
          3
         ],
         "y": [
          4
         ]
        },
        {
         "hoverinfo": "text",
         "legendgroup": "qpu_dqbs",
         "marker": {
          "color": "gray",
          "line": {
           "color": "darkred",
           "width": 1
          },
          "size": 25,
          "symbol": "circle"
         },
         "mode": "markers+text",
         "name": "Data qubits",
         "showlegend": false,
         "text": "(4, 4, 0)",
         "textposition": "middle center",
         "type": "scatter",
         "x": [
          4
         ],
         "y": [
          4
         ]
        },
        {
         "hoverinfo": "text",
         "legendgroup": "qpu_dqbs",
         "marker": {
          "color": "gray",
          "line": {
           "color": "darkred",
           "width": 1
          },
          "size": 25,
          "symbol": "circle"
         },
         "mode": "markers+text",
         "name": "Data qubits",
         "showlegend": false,
         "text": "(5, 4, 0)",
         "textposition": "middle center",
         "type": "scatter",
         "x": [
          5
         ],
         "y": [
          4
         ]
        },
        {
         "hoverinfo": "text",
         "legendgroup": "qpu_dqbs",
         "marker": {
          "color": "gray",
          "line": {
           "color": "darkred",
           "width": 1
          },
          "size": 25,
          "symbol": "circle"
         },
         "mode": "markers+text",
         "name": "Data qubits",
         "showlegend": false,
         "text": "(6, 4, 0)",
         "textposition": "middle center",
         "type": "scatter",
         "x": [
          6
         ],
         "y": [
          4
         ]
        },
        {
         "hoverinfo": "text",
         "legendgroup": "qpu_dqbs",
         "marker": {
          "color": "gray",
          "line": {
           "color": "darkred",
           "width": 1
          },
          "size": 25,
          "symbol": "circle"
         },
         "mode": "markers+text",
         "name": "Data qubits",
         "showlegend": false,
         "text": "(7, 4, 0)",
         "textposition": "middle center",
         "type": "scatter",
         "x": [
          7
         ],
         "y": [
          4
         ]
        },
        {
         "hoverinfo": "text",
         "legendgroup": "qpu_dqbs",
         "marker": {
          "color": "gray",
          "line": {
           "color": "darkred",
           "width": 1
          },
          "size": 25,
          "symbol": "circle"
         },
         "mode": "markers+text",
         "name": "Data qubits",
         "showlegend": false,
         "text": "(8, 4, 0)",
         "textposition": "middle center",
         "type": "scatter",
         "x": [
          8
         ],
         "y": [
          4
         ]
        },
        {
         "hoverinfo": "text",
         "legendgroup": "qpu_aqbs",
         "marker": {
          "color": "lightgray",
          "line": {
           "color": "darkred",
           "width": 1
          },
          "size": 15,
          "symbol": "circle"
         },
         "mode": "markers+text",
         "name": "Ancilla qubits",
         "showlegend": true,
         "text": "(0, 0, 1)",
         "textposition": "middle center",
         "type": "scatter",
         "x": [
          -0.5
         ],
         "y": [
          -0.5
         ]
        },
        {
         "hoverinfo": "text",
         "legendgroup": "qpu_aqbs",
         "marker": {
          "color": "lightgray",
          "line": {
           "color": "darkred",
           "width": 1
          },
          "size": 15,
          "symbol": "circle"
         },
         "mode": "markers+text",
         "name": "Ancilla qubits",
         "showlegend": false,
         "text": "(1, 0, 1)",
         "textposition": "middle center",
         "type": "scatter",
         "x": [
          0.5
         ],
         "y": [
          -0.5
         ]
        },
        {
         "hoverinfo": "text",
         "legendgroup": "qpu_aqbs",
         "marker": {
          "color": "lightgray",
          "line": {
           "color": "darkred",
           "width": 1
          },
          "size": 15,
          "symbol": "circle"
         },
         "mode": "markers+text",
         "name": "Ancilla qubits",
         "showlegend": false,
         "text": "(2, 0, 1)",
         "textposition": "middle center",
         "type": "scatter",
         "x": [
          1.5
         ],
         "y": [
          -0.5
         ]
        },
        {
         "hoverinfo": "text",
         "legendgroup": "qpu_aqbs",
         "marker": {
          "color": "lightgray",
          "line": {
           "color": "darkred",
           "width": 1
          },
          "size": 15,
          "symbol": "circle"
         },
         "mode": "markers+text",
         "name": "Ancilla qubits",
         "showlegend": false,
         "text": "(3, 0, 1)",
         "textposition": "middle center",
         "type": "scatter",
         "x": [
          2.5
         ],
         "y": [
          -0.5
         ]
        },
        {
         "hoverinfo": "text",
         "legendgroup": "qpu_aqbs",
         "marker": {
          "color": "lightgray",
          "line": {
           "color": "darkred",
           "width": 1
          },
          "size": 15,
          "symbol": "circle"
         },
         "mode": "markers+text",
         "name": "Ancilla qubits",
         "showlegend": false,
         "text": "(4, 0, 1)",
         "textposition": "middle center",
         "type": "scatter",
         "x": [
          3.5
         ],
         "y": [
          -0.5
         ]
        },
        {
         "hoverinfo": "text",
         "legendgroup": "qpu_aqbs",
         "marker": {
          "color": "lightgray",
          "line": {
           "color": "darkred",
           "width": 1
          },
          "size": 15,
          "symbol": "circle"
         },
         "mode": "markers+text",
         "name": "Ancilla qubits",
         "showlegend": false,
         "text": "(5, 0, 1)",
         "textposition": "middle center",
         "type": "scatter",
         "x": [
          4.5
         ],
         "y": [
          -0.5
         ]
        },
        {
         "hoverinfo": "text",
         "legendgroup": "qpu_aqbs",
         "marker": {
          "color": "lightgray",
          "line": {
           "color": "darkred",
           "width": 1
          },
          "size": 15,
          "symbol": "circle"
         },
         "mode": "markers+text",
         "name": "Ancilla qubits",
         "showlegend": false,
         "text": "(6, 0, 1)",
         "textposition": "middle center",
         "type": "scatter",
         "x": [
          5.5
         ],
         "y": [
          -0.5
         ]
        },
        {
         "hoverinfo": "text",
         "legendgroup": "qpu_aqbs",
         "marker": {
          "color": "lightgray",
          "line": {
           "color": "darkred",
           "width": 1
          },
          "size": 15,
          "symbol": "circle"
         },
         "mode": "markers+text",
         "name": "Ancilla qubits",
         "showlegend": false,
         "text": "(7, 0, 1)",
         "textposition": "middle center",
         "type": "scatter",
         "x": [
          6.5
         ],
         "y": [
          -0.5
         ]
        },
        {
         "hoverinfo": "text",
         "legendgroup": "qpu_aqbs",
         "marker": {
          "color": "lightgray",
          "line": {
           "color": "darkred",
           "width": 1
          },
          "size": 15,
          "symbol": "circle"
         },
         "mode": "markers+text",
         "name": "Ancilla qubits",
         "showlegend": false,
         "text": "(8, 0, 1)",
         "textposition": "middle center",
         "type": "scatter",
         "x": [
          7.5
         ],
         "y": [
          -0.5
         ]
        },
        {
         "hoverinfo": "text",
         "legendgroup": "qpu_aqbs",
         "marker": {
          "color": "lightgray",
          "line": {
           "color": "darkred",
           "width": 1
          },
          "size": 15,
          "symbol": "circle"
         },
         "mode": "markers+text",
         "name": "Ancilla qubits",
         "showlegend": false,
         "text": "(9, 0, 1)",
         "textposition": "middle center",
         "type": "scatter",
         "x": [
          8.5
         ],
         "y": [
          -0.5
         ]
        },
        {
         "hoverinfo": "text",
         "legendgroup": "qpu_aqbs",
         "marker": {
          "color": "lightgray",
          "line": {
           "color": "darkred",
           "width": 1
          },
          "size": 15,
          "symbol": "circle"
         },
         "mode": "markers+text",
         "name": "Ancilla qubits",
         "showlegend": false,
         "text": "(0, 1, 1)",
         "textposition": "middle center",
         "type": "scatter",
         "x": [
          -0.5
         ],
         "y": [
          0.5
         ]
        },
        {
         "hoverinfo": "text",
         "legendgroup": "qpu_aqbs",
         "marker": {
          "color": "lightgray",
          "line": {
           "color": "darkred",
           "width": 1
          },
          "size": 15,
          "symbol": "circle"
         },
         "mode": "markers+text",
         "name": "Ancilla qubits",
         "showlegend": false,
         "text": "(1, 1, 1)",
         "textposition": "middle center",
         "type": "scatter",
         "x": [
          0.5
         ],
         "y": [
          0.5
         ]
        },
        {
         "hoverinfo": "text",
         "legendgroup": "qpu_aqbs",
         "marker": {
          "color": "lightgray",
          "line": {
           "color": "darkred",
           "width": 1
          },
          "size": 15,
          "symbol": "circle"
         },
         "mode": "markers+text",
         "name": "Ancilla qubits",
         "showlegend": false,
         "text": "(2, 1, 1)",
         "textposition": "middle center",
         "type": "scatter",
         "x": [
          1.5
         ],
         "y": [
          0.5
         ]
        },
        {
         "hoverinfo": "text",
         "legendgroup": "qpu_aqbs",
         "marker": {
          "color": "lightgray",
          "line": {
           "color": "darkred",
           "width": 1
          },
          "size": 15,
          "symbol": "circle"
         },
         "mode": "markers+text",
         "name": "Ancilla qubits",
         "showlegend": false,
         "text": "(3, 1, 1)",
         "textposition": "middle center",
         "type": "scatter",
         "x": [
          2.5
         ],
         "y": [
          0.5
         ]
        },
        {
         "hoverinfo": "text",
         "legendgroup": "qpu_aqbs",
         "marker": {
          "color": "lightgray",
          "line": {
           "color": "darkred",
           "width": 1
          },
          "size": 15,
          "symbol": "circle"
         },
         "mode": "markers+text",
         "name": "Ancilla qubits",
         "showlegend": false,
         "text": "(4, 1, 1)",
         "textposition": "middle center",
         "type": "scatter",
         "x": [
          3.5
         ],
         "y": [
          0.5
         ]
        },
        {
         "hoverinfo": "text",
         "legendgroup": "qpu_aqbs",
         "marker": {
          "color": "lightgray",
          "line": {
           "color": "darkred",
           "width": 1
          },
          "size": 15,
          "symbol": "circle"
         },
         "mode": "markers+text",
         "name": "Ancilla qubits",
         "showlegend": false,
         "text": "(5, 1, 1)",
         "textposition": "middle center",
         "type": "scatter",
         "x": [
          4.5
         ],
         "y": [
          0.5
         ]
        },
        {
         "hoverinfo": "text",
         "legendgroup": "qpu_aqbs",
         "marker": {
          "color": "lightgray",
          "line": {
           "color": "darkred",
           "width": 1
          },
          "size": 15,
          "symbol": "circle"
         },
         "mode": "markers+text",
         "name": "Ancilla qubits",
         "showlegend": false,
         "text": "(6, 1, 1)",
         "textposition": "middle center",
         "type": "scatter",
         "x": [
          5.5
         ],
         "y": [
          0.5
         ]
        },
        {
         "hoverinfo": "text",
         "legendgroup": "qpu_aqbs",
         "marker": {
          "color": "lightgray",
          "line": {
           "color": "darkred",
           "width": 1
          },
          "size": 15,
          "symbol": "circle"
         },
         "mode": "markers+text",
         "name": "Ancilla qubits",
         "showlegend": false,
         "text": "(7, 1, 1)",
         "textposition": "middle center",
         "type": "scatter",
         "x": [
          6.5
         ],
         "y": [
          0.5
         ]
        },
        {
         "hoverinfo": "text",
         "legendgroup": "qpu_aqbs",
         "marker": {
          "color": "lightgray",
          "line": {
           "color": "darkred",
           "width": 1
          },
          "size": 15,
          "symbol": "circle"
         },
         "mode": "markers+text",
         "name": "Ancilla qubits",
         "showlegend": false,
         "text": "(8, 1, 1)",
         "textposition": "middle center",
         "type": "scatter",
         "x": [
          7.5
         ],
         "y": [
          0.5
         ]
        },
        {
         "hoverinfo": "text",
         "legendgroup": "qpu_aqbs",
         "marker": {
          "color": "lightgray",
          "line": {
           "color": "darkred",
           "width": 1
          },
          "size": 15,
          "symbol": "circle"
         },
         "mode": "markers+text",
         "name": "Ancilla qubits",
         "showlegend": false,
         "text": "(9, 1, 1)",
         "textposition": "middle center",
         "type": "scatter",
         "x": [
          8.5
         ],
         "y": [
          0.5
         ]
        },
        {
         "hoverinfo": "text",
         "legendgroup": "qpu_aqbs",
         "marker": {
          "color": "lightgray",
          "line": {
           "color": "darkred",
           "width": 1
          },
          "size": 15,
          "symbol": "circle"
         },
         "mode": "markers+text",
         "name": "Ancilla qubits",
         "showlegend": false,
         "text": "(0, 2, 1)",
         "textposition": "middle center",
         "type": "scatter",
         "x": [
          -0.5
         ],
         "y": [
          1.5
         ]
        },
        {
         "hoverinfo": "text",
         "legendgroup": "qpu_aqbs",
         "marker": {
          "color": "lightgray",
          "line": {
           "color": "darkred",
           "width": 1
          },
          "size": 15,
          "symbol": "circle"
         },
         "mode": "markers+text",
         "name": "Ancilla qubits",
         "showlegend": false,
         "text": "(1, 2, 1)",
         "textposition": "middle center",
         "type": "scatter",
         "x": [
          0.5
         ],
         "y": [
          1.5
         ]
        },
        {
         "hoverinfo": "text",
         "legendgroup": "qpu_aqbs",
         "marker": {
          "color": "lightgray",
          "line": {
           "color": "darkred",
           "width": 1
          },
          "size": 15,
          "symbol": "circle"
         },
         "mode": "markers+text",
         "name": "Ancilla qubits",
         "showlegend": false,
         "text": "(2, 2, 1)",
         "textposition": "middle center",
         "type": "scatter",
         "x": [
          1.5
         ],
         "y": [
          1.5
         ]
        },
        {
         "hoverinfo": "text",
         "legendgroup": "qpu_aqbs",
         "marker": {
          "color": "lightgray",
          "line": {
           "color": "darkred",
           "width": 1
          },
          "size": 15,
          "symbol": "circle"
         },
         "mode": "markers+text",
         "name": "Ancilla qubits",
         "showlegend": false,
         "text": "(3, 2, 1)",
         "textposition": "middle center",
         "type": "scatter",
         "x": [
          2.5
         ],
         "y": [
          1.5
         ]
        },
        {
         "hoverinfo": "text",
         "legendgroup": "qpu_aqbs",
         "marker": {
          "color": "lightgray",
          "line": {
           "color": "darkred",
           "width": 1
          },
          "size": 15,
          "symbol": "circle"
         },
         "mode": "markers+text",
         "name": "Ancilla qubits",
         "showlegend": false,
         "text": "(4, 2, 1)",
         "textposition": "middle center",
         "type": "scatter",
         "x": [
          3.5
         ],
         "y": [
          1.5
         ]
        },
        {
         "hoverinfo": "text",
         "legendgroup": "qpu_aqbs",
         "marker": {
          "color": "lightgray",
          "line": {
           "color": "darkred",
           "width": 1
          },
          "size": 15,
          "symbol": "circle"
         },
         "mode": "markers+text",
         "name": "Ancilla qubits",
         "showlegend": false,
         "text": "(5, 2, 1)",
         "textposition": "middle center",
         "type": "scatter",
         "x": [
          4.5
         ],
         "y": [
          1.5
         ]
        },
        {
         "hoverinfo": "text",
         "legendgroup": "qpu_aqbs",
         "marker": {
          "color": "lightgray",
          "line": {
           "color": "darkred",
           "width": 1
          },
          "size": 15,
          "symbol": "circle"
         },
         "mode": "markers+text",
         "name": "Ancilla qubits",
         "showlegend": false,
         "text": "(6, 2, 1)",
         "textposition": "middle center",
         "type": "scatter",
         "x": [
          5.5
         ],
         "y": [
          1.5
         ]
        },
        {
         "hoverinfo": "text",
         "legendgroup": "qpu_aqbs",
         "marker": {
          "color": "lightgray",
          "line": {
           "color": "darkred",
           "width": 1
          },
          "size": 15,
          "symbol": "circle"
         },
         "mode": "markers+text",
         "name": "Ancilla qubits",
         "showlegend": false,
         "text": "(7, 2, 1)",
         "textposition": "middle center",
         "type": "scatter",
         "x": [
          6.5
         ],
         "y": [
          1.5
         ]
        },
        {
         "hoverinfo": "text",
         "legendgroup": "qpu_aqbs",
         "marker": {
          "color": "lightgray",
          "line": {
           "color": "darkred",
           "width": 1
          },
          "size": 15,
          "symbol": "circle"
         },
         "mode": "markers+text",
         "name": "Ancilla qubits",
         "showlegend": false,
         "text": "(8, 2, 1)",
         "textposition": "middle center",
         "type": "scatter",
         "x": [
          7.5
         ],
         "y": [
          1.5
         ]
        },
        {
         "hoverinfo": "text",
         "legendgroup": "qpu_aqbs",
         "marker": {
          "color": "lightgray",
          "line": {
           "color": "darkred",
           "width": 1
          },
          "size": 15,
          "symbol": "circle"
         },
         "mode": "markers+text",
         "name": "Ancilla qubits",
         "showlegend": false,
         "text": "(9, 2, 1)",
         "textposition": "middle center",
         "type": "scatter",
         "x": [
          8.5
         ],
         "y": [
          1.5
         ]
        },
        {
         "hoverinfo": "text",
         "legendgroup": "qpu_aqbs",
         "marker": {
          "color": "lightgray",
          "line": {
           "color": "darkred",
           "width": 1
          },
          "size": 15,
          "symbol": "circle"
         },
         "mode": "markers+text",
         "name": "Ancilla qubits",
         "showlegend": false,
         "text": "(0, 3, 1)",
         "textposition": "middle center",
         "type": "scatter",
         "x": [
          -0.5
         ],
         "y": [
          2.5
         ]
        },
        {
         "hoverinfo": "text",
         "legendgroup": "qpu_aqbs",
         "marker": {
          "color": "lightgray",
          "line": {
           "color": "darkred",
           "width": 1
          },
          "size": 15,
          "symbol": "circle"
         },
         "mode": "markers+text",
         "name": "Ancilla qubits",
         "showlegend": false,
         "text": "(1, 3, 1)",
         "textposition": "middle center",
         "type": "scatter",
         "x": [
          0.5
         ],
         "y": [
          2.5
         ]
        },
        {
         "hoverinfo": "text",
         "legendgroup": "qpu_aqbs",
         "marker": {
          "color": "lightgray",
          "line": {
           "color": "darkred",
           "width": 1
          },
          "size": 15,
          "symbol": "circle"
         },
         "mode": "markers+text",
         "name": "Ancilla qubits",
         "showlegend": false,
         "text": "(2, 3, 1)",
         "textposition": "middle center",
         "type": "scatter",
         "x": [
          1.5
         ],
         "y": [
          2.5
         ]
        },
        {
         "hoverinfo": "text",
         "legendgroup": "qpu_aqbs",
         "marker": {
          "color": "lightgray",
          "line": {
           "color": "darkred",
           "width": 1
          },
          "size": 15,
          "symbol": "circle"
         },
         "mode": "markers+text",
         "name": "Ancilla qubits",
         "showlegend": false,
         "text": "(3, 3, 1)",
         "textposition": "middle center",
         "type": "scatter",
         "x": [
          2.5
         ],
         "y": [
          2.5
         ]
        },
        {
         "hoverinfo": "text",
         "legendgroup": "qpu_aqbs",
         "marker": {
          "color": "lightgray",
          "line": {
           "color": "darkred",
           "width": 1
          },
          "size": 15,
          "symbol": "circle"
         },
         "mode": "markers+text",
         "name": "Ancilla qubits",
         "showlegend": false,
         "text": "(4, 3, 1)",
         "textposition": "middle center",
         "type": "scatter",
         "x": [
          3.5
         ],
         "y": [
          2.5
         ]
        },
        {
         "hoverinfo": "text",
         "legendgroup": "qpu_aqbs",
         "marker": {
          "color": "lightgray",
          "line": {
           "color": "darkred",
           "width": 1
          },
          "size": 15,
          "symbol": "circle"
         },
         "mode": "markers+text",
         "name": "Ancilla qubits",
         "showlegend": false,
         "text": "(5, 3, 1)",
         "textposition": "middle center",
         "type": "scatter",
         "x": [
          4.5
         ],
         "y": [
          2.5
         ]
        },
        {
         "hoverinfo": "text",
         "legendgroup": "qpu_aqbs",
         "marker": {
          "color": "lightgray",
          "line": {
           "color": "darkred",
           "width": 1
          },
          "size": 15,
          "symbol": "circle"
         },
         "mode": "markers+text",
         "name": "Ancilla qubits",
         "showlegend": false,
         "text": "(6, 3, 1)",
         "textposition": "middle center",
         "type": "scatter",
         "x": [
          5.5
         ],
         "y": [
          2.5
         ]
        },
        {
         "hoverinfo": "text",
         "legendgroup": "qpu_aqbs",
         "marker": {
          "color": "lightgray",
          "line": {
           "color": "darkred",
           "width": 1
          },
          "size": 15,
          "symbol": "circle"
         },
         "mode": "markers+text",
         "name": "Ancilla qubits",
         "showlegend": false,
         "text": "(7, 3, 1)",
         "textposition": "middle center",
         "type": "scatter",
         "x": [
          6.5
         ],
         "y": [
          2.5
         ]
        },
        {
         "hoverinfo": "text",
         "legendgroup": "qpu_aqbs",
         "marker": {
          "color": "lightgray",
          "line": {
           "color": "darkred",
           "width": 1
          },
          "size": 15,
          "symbol": "circle"
         },
         "mode": "markers+text",
         "name": "Ancilla qubits",
         "showlegend": false,
         "text": "(8, 3, 1)",
         "textposition": "middle center",
         "type": "scatter",
         "x": [
          7.5
         ],
         "y": [
          2.5
         ]
        },
        {
         "hoverinfo": "text",
         "legendgroup": "qpu_aqbs",
         "marker": {
          "color": "lightgray",
          "line": {
           "color": "darkred",
           "width": 1
          },
          "size": 15,
          "symbol": "circle"
         },
         "mode": "markers+text",
         "name": "Ancilla qubits",
         "showlegend": false,
         "text": "(9, 3, 1)",
         "textposition": "middle center",
         "type": "scatter",
         "x": [
          8.5
         ],
         "y": [
          2.5
         ]
        },
        {
         "hoverinfo": "text",
         "legendgroup": "qpu_aqbs",
         "marker": {
          "color": "lightgray",
          "line": {
           "color": "darkred",
           "width": 1
          },
          "size": 15,
          "symbol": "circle"
         },
         "mode": "markers+text",
         "name": "Ancilla qubits",
         "showlegend": false,
         "text": "(0, 4, 1)",
         "textposition": "middle center",
         "type": "scatter",
         "x": [
          -0.5
         ],
         "y": [
          3.5
         ]
        },
        {
         "hoverinfo": "text",
         "legendgroup": "qpu_aqbs",
         "marker": {
          "color": "lightgray",
          "line": {
           "color": "darkred",
           "width": 1
          },
          "size": 15,
          "symbol": "circle"
         },
         "mode": "markers+text",
         "name": "Ancilla qubits",
         "showlegend": false,
         "text": "(1, 4, 1)",
         "textposition": "middle center",
         "type": "scatter",
         "x": [
          0.5
         ],
         "y": [
          3.5
         ]
        },
        {
         "hoverinfo": "text",
         "legendgroup": "qpu_aqbs",
         "marker": {
          "color": "lightgray",
          "line": {
           "color": "darkred",
           "width": 1
          },
          "size": 15,
          "symbol": "circle"
         },
         "mode": "markers+text",
         "name": "Ancilla qubits",
         "showlegend": false,
         "text": "(2, 4, 1)",
         "textposition": "middle center",
         "type": "scatter",
         "x": [
          1.5
         ],
         "y": [
          3.5
         ]
        },
        {
         "hoverinfo": "text",
         "legendgroup": "qpu_aqbs",
         "marker": {
          "color": "lightgray",
          "line": {
           "color": "darkred",
           "width": 1
          },
          "size": 15,
          "symbol": "circle"
         },
         "mode": "markers+text",
         "name": "Ancilla qubits",
         "showlegend": false,
         "text": "(3, 4, 1)",
         "textposition": "middle center",
         "type": "scatter",
         "x": [
          2.5
         ],
         "y": [
          3.5
         ]
        },
        {
         "hoverinfo": "text",
         "legendgroup": "qpu_aqbs",
         "marker": {
          "color": "lightgray",
          "line": {
           "color": "darkred",
           "width": 1
          },
          "size": 15,
          "symbol": "circle"
         },
         "mode": "markers+text",
         "name": "Ancilla qubits",
         "showlegend": false,
         "text": "(4, 4, 1)",
         "textposition": "middle center",
         "type": "scatter",
         "x": [
          3.5
         ],
         "y": [
          3.5
         ]
        },
        {
         "hoverinfo": "text",
         "legendgroup": "qpu_aqbs",
         "marker": {
          "color": "lightgray",
          "line": {
           "color": "darkred",
           "width": 1
          },
          "size": 15,
          "symbol": "circle"
         },
         "mode": "markers+text",
         "name": "Ancilla qubits",
         "showlegend": false,
         "text": "(5, 4, 1)",
         "textposition": "middle center",
         "type": "scatter",
         "x": [
          4.5
         ],
         "y": [
          3.5
         ]
        },
        {
         "hoverinfo": "text",
         "legendgroup": "qpu_aqbs",
         "marker": {
          "color": "lightgray",
          "line": {
           "color": "darkred",
           "width": 1
          },
          "size": 15,
          "symbol": "circle"
         },
         "mode": "markers+text",
         "name": "Ancilla qubits",
         "showlegend": false,
         "text": "(6, 4, 1)",
         "textposition": "middle center",
         "type": "scatter",
         "x": [
          5.5
         ],
         "y": [
          3.5
         ]
        },
        {
         "hoverinfo": "text",
         "legendgroup": "qpu_aqbs",
         "marker": {
          "color": "lightgray",
          "line": {
           "color": "darkred",
           "width": 1
          },
          "size": 15,
          "symbol": "circle"
         },
         "mode": "markers+text",
         "name": "Ancilla qubits",
         "showlegend": false,
         "text": "(7, 4, 1)",
         "textposition": "middle center",
         "type": "scatter",
         "x": [
          6.5
         ],
         "y": [
          3.5
         ]
        },
        {
         "hoverinfo": "text",
         "legendgroup": "qpu_aqbs",
         "marker": {
          "color": "lightgray",
          "line": {
           "color": "darkred",
           "width": 1
          },
          "size": 15,
          "symbol": "circle"
         },
         "mode": "markers+text",
         "name": "Ancilla qubits",
         "showlegend": false,
         "text": "(8, 4, 1)",
         "textposition": "middle center",
         "type": "scatter",
         "x": [
          7.5
         ],
         "y": [
          3.5
         ]
        },
        {
         "hoverinfo": "text",
         "legendgroup": "qpu_aqbs",
         "marker": {
          "color": "lightgray",
          "line": {
           "color": "darkred",
           "width": 1
          },
          "size": 15,
          "symbol": "circle"
         },
         "mode": "markers+text",
         "name": "Ancilla qubits",
         "showlegend": false,
         "text": "(9, 4, 1)",
         "textposition": "middle center",
         "type": "scatter",
         "x": [
          8.5
         ],
         "y": [
          3.5
         ]
        },
        {
         "hoverinfo": "text",
         "legendgroup": "qpu_aqbs",
         "marker": {
          "color": "lightgray",
          "line": {
           "color": "darkred",
           "width": 1
          },
          "size": 15,
          "symbol": "circle"
         },
         "mode": "markers+text",
         "name": "Ancilla qubits",
         "showlegend": false,
         "text": "(0, 5, 1)",
         "textposition": "middle center",
         "type": "scatter",
         "x": [
          -0.5
         ],
         "y": [
          4.5
         ]
        },
        {
         "hoverinfo": "text",
         "legendgroup": "qpu_aqbs",
         "marker": {
          "color": "lightgray",
          "line": {
           "color": "darkred",
           "width": 1
          },
          "size": 15,
          "symbol": "circle"
         },
         "mode": "markers+text",
         "name": "Ancilla qubits",
         "showlegend": false,
         "text": "(1, 5, 1)",
         "textposition": "middle center",
         "type": "scatter",
         "x": [
          0.5
         ],
         "y": [
          4.5
         ]
        },
        {
         "hoverinfo": "text",
         "legendgroup": "qpu_aqbs",
         "marker": {
          "color": "lightgray",
          "line": {
           "color": "darkred",
           "width": 1
          },
          "size": 15,
          "symbol": "circle"
         },
         "mode": "markers+text",
         "name": "Ancilla qubits",
         "showlegend": false,
         "text": "(2, 5, 1)",
         "textposition": "middle center",
         "type": "scatter",
         "x": [
          1.5
         ],
         "y": [
          4.5
         ]
        },
        {
         "hoverinfo": "text",
         "legendgroup": "qpu_aqbs",
         "marker": {
          "color": "lightgray",
          "line": {
           "color": "darkred",
           "width": 1
          },
          "size": 15,
          "symbol": "circle"
         },
         "mode": "markers+text",
         "name": "Ancilla qubits",
         "showlegend": false,
         "text": "(3, 5, 1)",
         "textposition": "middle center",
         "type": "scatter",
         "x": [
          2.5
         ],
         "y": [
          4.5
         ]
        },
        {
         "hoverinfo": "text",
         "legendgroup": "qpu_aqbs",
         "marker": {
          "color": "lightgray",
          "line": {
           "color": "darkred",
           "width": 1
          },
          "size": 15,
          "symbol": "circle"
         },
         "mode": "markers+text",
         "name": "Ancilla qubits",
         "showlegend": false,
         "text": "(4, 5, 1)",
         "textposition": "middle center",
         "type": "scatter",
         "x": [
          3.5
         ],
         "y": [
          4.5
         ]
        },
        {
         "hoverinfo": "text",
         "legendgroup": "qpu_aqbs",
         "marker": {
          "color": "lightgray",
          "line": {
           "color": "darkred",
           "width": 1
          },
          "size": 15,
          "symbol": "circle"
         },
         "mode": "markers+text",
         "name": "Ancilla qubits",
         "showlegend": false,
         "text": "(5, 5, 1)",
         "textposition": "middle center",
         "type": "scatter",
         "x": [
          4.5
         ],
         "y": [
          4.5
         ]
        },
        {
         "hoverinfo": "text",
         "legendgroup": "qpu_aqbs",
         "marker": {
          "color": "lightgray",
          "line": {
           "color": "darkred",
           "width": 1
          },
          "size": 15,
          "symbol": "circle"
         },
         "mode": "markers+text",
         "name": "Ancilla qubits",
         "showlegend": false,
         "text": "(6, 5, 1)",
         "textposition": "middle center",
         "type": "scatter",
         "x": [
          5.5
         ],
         "y": [
          4.5
         ]
        },
        {
         "hoverinfo": "text",
         "legendgroup": "qpu_aqbs",
         "marker": {
          "color": "lightgray",
          "line": {
           "color": "darkred",
           "width": 1
          },
          "size": 15,
          "symbol": "circle"
         },
         "mode": "markers+text",
         "name": "Ancilla qubits",
         "showlegend": false,
         "text": "(7, 5, 1)",
         "textposition": "middle center",
         "type": "scatter",
         "x": [
          6.5
         ],
         "y": [
          4.5
         ]
        },
        {
         "hoverinfo": "text",
         "legendgroup": "qpu_aqbs",
         "marker": {
          "color": "lightgray",
          "line": {
           "color": "darkred",
           "width": 1
          },
          "size": 15,
          "symbol": "circle"
         },
         "mode": "markers+text",
         "name": "Ancilla qubits",
         "showlegend": false,
         "text": "(8, 5, 1)",
         "textposition": "middle center",
         "type": "scatter",
         "x": [
          7.5
         ],
         "y": [
          4.5
         ]
        },
        {
         "hoverinfo": "text",
         "legendgroup": "qpu_aqbs",
         "marker": {
          "color": "lightgray",
          "line": {
           "color": "darkred",
           "width": 1
          },
          "size": 15,
          "symbol": "circle"
         },
         "mode": "markers+text",
         "name": "Ancilla qubits",
         "showlegend": false,
         "text": "(9, 5, 1)",
         "textposition": "middle center",
         "type": "scatter",
         "x": [
          8.5
         ],
         "y": [
          4.5
         ]
        },
        {
         "fill": "toself",
         "fillcolor": "rgba(90,174,230,0.8)",
         "hoverinfo": "none",
         "legendgroup": "stabs_Q2",
         "line": {
          "color": "black",
          "width": 2
         },
         "mode": "lines",
         "name": "Q2 stabilizers",
         "showlegend": true,
         "type": "scatter",
         "x": [
          3.9,
          4.1,
          4.1,
          3.9,
          3.9
         ],
         "y": [
          0,
          0,
          1,
          1,
          1
         ]
        },
        {
         "fill": "toself",
         "fillcolor": "rgba(90,174,230,0.8)",
         "hoverinfo": "none",
         "legendgroup": "stabs_Q2",
         "line": {
          "color": "black",
          "width": 2
         },
         "mode": "lines",
         "name": "Q2 stabilizers",
         "showlegend": false,
         "type": "scatter",
         "x": [
          5,
          6,
          6,
          5,
          5
         ],
         "y": [
          0,
          0,
          1,
          1,
          1
         ]
        },
        {
         "fill": "toself",
         "fillcolor": "rgba(90,174,230,0.8)",
         "hoverinfo": "none",
         "legendgroup": "stabs_Q2",
         "line": {
          "color": "black",
          "width": 2
         },
         "mode": "lines",
         "name": "Q2 stabilizers",
         "showlegend": false,
         "type": "scatter",
         "x": [
          4,
          5,
          5,
          4,
          4
         ],
         "y": [
          1,
          1,
          2,
          2,
          2
         ]
        },
        {
         "fill": "toself",
         "fillcolor": "rgba(90,174,230,0.8)",
         "hoverinfo": "none",
         "legendgroup": "stabs_Q2",
         "line": {
          "color": "black",
          "width": 2
         },
         "mode": "lines",
         "name": "Q2 stabilizers",
         "showlegend": false,
         "type": "scatter",
         "x": [
          5.9,
          6.1,
          6.1,
          5.9,
          5.9
         ],
         "y": [
          1,
          1,
          2,
          2,
          2
         ]
        },
        {
         "fill": "toself",
         "fillcolor": "rgba(87,201,90,0.8)",
         "hoverinfo": "none",
         "legendgroup": "stabs_Q2",
         "line": {
          "color": "black",
          "width": 2
         },
         "mode": "lines",
         "name": "Q2 stabilizers",
         "showlegend": false,
         "type": "scatter",
         "x": [
          4,
          5,
          5,
          4,
          4
         ],
         "y": [
          0,
          0,
          1,
          1,
          1
         ]
        },
        {
         "fill": "toself",
         "fillcolor": "rgba(87,201,90,0.8)",
         "hoverinfo": "none",
         "legendgroup": "stabs_Q2",
         "line": {
          "color": "black",
          "width": 2
         },
         "mode": "lines",
         "name": "Q2 stabilizers",
         "showlegend": false,
         "type": "scatter",
         "x": [
          5,
          6,
          6,
          5,
          5
         ],
         "y": [
          1,
          1,
          2,
          2,
          2
         ]
        },
        {
         "fill": "toself",
         "fillcolor": "rgba(87,201,90,0.8)",
         "hoverinfo": "none",
         "legendgroup": "stabs_Q2",
         "line": {
          "color": "black",
          "width": 2
         },
         "mode": "lines",
         "name": "Q2 stabilizers",
         "showlegend": false,
         "type": "scatter",
         "x": [
          4,
          5,
          5,
          4,
          4
         ],
         "y": [
          1.9,
          1.9,
          2.1,
          2.1,
          2.1
         ]
        },
        {
         "fill": "toself",
         "fillcolor": "rgba(87,201,90,0.8)",
         "hoverinfo": "none",
         "legendgroup": "stabs_Q2",
         "line": {
          "color": "black",
          "width": 2
         },
         "mode": "lines",
         "name": "Q2 stabilizers",
         "showlegend": false,
         "type": "scatter",
         "x": [
          5,
          6,
          6,
          5,
          5
         ],
         "y": [
          -0.1,
          -0.1,
          0.1,
          0.1,
          0.1
         ]
        },
        {
         "hoverinfo": "text",
         "legendgroup": "",
         "marker": {
          "color": "#1f77b4",
          "line": {
           "color": "darkred",
           "width": 1
          },
          "size": 25,
          "symbol": "circle"
         },
         "mode": "markers+text",
         "name": "",
         "showlegend": false,
         "text": "(4, 0, 0)",
         "textposition": "middle center",
         "type": "scatter",
         "x": [
          4
         ],
         "y": [
          0
         ]
        },
        {
         "hoverinfo": "text",
         "legendgroup": "",
         "marker": {
          "color": "#1f77b4",
          "line": {
           "color": "darkred",
           "width": 1
          },
          "size": 25,
          "symbol": "circle"
         },
         "mode": "markers+text",
         "name": "",
         "showlegend": false,
         "text": "(4, 1, 0)",
         "textposition": "middle center",
         "type": "scatter",
         "x": [
          4
         ],
         "y": [
          1
         ]
        },
        {
         "hoverinfo": "text",
         "legendgroup": "",
         "marker": {
          "color": "#1f77b4",
          "line": {
           "color": "darkred",
           "width": 1
          },
          "size": 25,
          "symbol": "circle"
         },
         "mode": "markers+text",
         "name": "",
         "showlegend": false,
         "text": "(5, 0, 0)",
         "textposition": "middle center",
         "type": "scatter",
         "x": [
          5
         ],
         "y": [
          0
         ]
        },
        {
         "hoverinfo": "text",
         "legendgroup": "",
         "marker": {
          "color": "#1f77b4",
          "line": {
           "color": "darkred",
           "width": 1
          },
          "size": 25,
          "symbol": "circle"
         },
         "mode": "markers+text",
         "name": "",
         "showlegend": false,
         "text": "(6, 0, 0)",
         "textposition": "middle center",
         "type": "scatter",
         "x": [
          6
         ],
         "y": [
          0
         ]
        },
        {
         "hoverinfo": "text",
         "legendgroup": "",
         "marker": {
          "color": "#1f77b4",
          "line": {
           "color": "darkred",
           "width": 1
          },
          "size": 25,
          "symbol": "circle"
         },
         "mode": "markers+text",
         "name": "",
         "showlegend": false,
         "text": "(5, 1, 0)",
         "textposition": "middle center",
         "type": "scatter",
         "x": [
          5
         ],
         "y": [
          1
         ]
        },
        {
         "hoverinfo": "text",
         "legendgroup": "",
         "marker": {
          "color": "#1f77b4",
          "line": {
           "color": "darkred",
           "width": 1
          },
          "size": 25,
          "symbol": "circle"
         },
         "mode": "markers+text",
         "name": "",
         "showlegend": false,
         "text": "(6, 1, 0)",
         "textposition": "middle center",
         "type": "scatter",
         "x": [
          6
         ],
         "y": [
          1
         ]
        },
        {
         "hoverinfo": "text",
         "legendgroup": "",
         "marker": {
          "color": "#1f77b4",
          "line": {
           "color": "darkred",
           "width": 1
          },
          "size": 25,
          "symbol": "circle"
         },
         "mode": "markers+text",
         "name": "",
         "showlegend": false,
         "text": "(4, 2, 0)",
         "textposition": "middle center",
         "type": "scatter",
         "x": [
          4
         ],
         "y": [
          2
         ]
        },
        {
         "hoverinfo": "text",
         "legendgroup": "",
         "marker": {
          "color": "#1f77b4",
          "line": {
           "color": "darkred",
           "width": 1
          },
          "size": 25,
          "symbol": "circle"
         },
         "mode": "markers+text",
         "name": "",
         "showlegend": false,
         "text": "(5, 2, 0)",
         "textposition": "middle center",
         "type": "scatter",
         "x": [
          5
         ],
         "y": [
          2
         ]
        },
        {
         "hoverinfo": "text",
         "legendgroup": "",
         "marker": {
          "color": "#1f77b4",
          "line": {
           "color": "darkred",
           "width": 1
          },
          "size": 25,
          "symbol": "circle"
         },
         "mode": "markers+text",
         "name": "",
         "showlegend": false,
         "text": "(6, 2, 0)",
         "textposition": "middle center",
         "type": "scatter",
         "x": [
          6
         ],
         "y": [
          2
         ]
        },
        {
         "hoverinfo": "text",
         "legendgroup": "",
         "marker": {
          "color": "gray",
          "line": {
           "color": "darkred",
           "width": 1
          },
          "size": 25,
          "symbol": "square"
         },
         "mode": "markers+text",
         "name": "",
         "showlegend": false,
         "text": "X<sub>(4, 0, 0)</sub>",
         "textposition": "middle center",
         "type": "scatter",
         "x": [
          4
         ],
         "y": [
          0
         ]
        },
        {
         "hoverinfo": "text",
         "legendgroup": "",
         "marker": {
          "color": "gray",
          "line": {
           "color": "darkred",
           "width": 1
          },
          "size": 25,
          "symbol": "square"
         },
         "mode": "markers+text",
         "name": "",
         "showlegend": false,
         "text": "X<sub>(5, 0, 0)</sub>",
         "textposition": "middle center",
         "type": "scatter",
         "x": [
          5
         ],
         "y": [
          0
         ]
        },
        {
         "hoverinfo": "text",
         "legendgroup": "",
         "marker": {
          "color": "gray",
          "line": {
           "color": "darkred",
           "width": 1
          },
          "size": 25,
          "symbol": "square"
         },
         "mode": "markers+text",
         "name": "",
         "showlegend": false,
         "text": "X<sub>(6, 0, 0)</sub>",
         "textposition": "middle center",
         "type": "scatter",
         "x": [
          6
         ],
         "y": [
          0
         ]
        },
        {
         "hoverinfo": "text",
         "legendgroup": "",
         "marker": {
          "color": "gray",
          "line": {
           "color": "darkred",
           "width": 1
          },
          "size": 25,
          "symbol": "square"
         },
         "mode": "markers+text",
         "name": "",
         "showlegend": false,
         "text": "Z<sub>(4, 0, 0)</sub>",
         "textposition": "middle center",
         "type": "scatter",
         "x": [
          4
         ],
         "y": [
          0
         ]
        },
        {
         "hoverinfo": "text",
         "legendgroup": "",
         "marker": {
          "color": "gray",
          "line": {
           "color": "darkred",
           "width": 1
          },
          "size": 25,
          "symbol": "square"
         },
         "mode": "markers+text",
         "name": "",
         "showlegend": false,
         "text": "Z<sub>(4, 1, 0)</sub>",
         "textposition": "middle center",
         "type": "scatter",
         "x": [
          4
         ],
         "y": [
          1
         ]
        },
        {
         "hoverinfo": "text",
         "legendgroup": "",
         "marker": {
          "color": "gray",
          "line": {
           "color": "darkred",
           "width": 1
          },
          "size": 25,
          "symbol": "square"
         },
         "mode": "markers+text",
         "name": "",
         "showlegend": false,
         "text": "Z<sub>(4, 2, 0)</sub>",
         "textposition": "middle center",
         "type": "scatter",
         "x": [
          4
         ],
         "y": [
          2
         ]
        },
        {
         "fill": "toself",
         "fillcolor": "rgba(90,174,230,0.8)",
         "hoverinfo": "none",
         "legendgroup": "stabs_Q3",
         "line": {
          "color": "black",
          "width": 2
         },
         "mode": "lines",
         "name": "Q3 stabilizers",
         "showlegend": true,
         "type": "scatter",
         "x": [
          1,
          2,
          2,
          1,
          1
         ],
         "y": [
          0,
          0,
          1,
          1,
          1
         ]
        },
        {
         "fill": "toself",
         "fillcolor": "rgba(90,174,230,0.8)",
         "hoverinfo": "none",
         "legendgroup": "stabs_Q3",
         "line": {
          "color": "black",
          "width": 2
         },
         "mode": "lines",
         "name": "Q3 stabilizers",
         "showlegend": false,
         "type": "scatter",
         "x": [
          0,
          1,
          1,
          0,
          0
         ],
         "y": [
          1,
          1,
          2,
          2,
          2
         ]
        },
        {
         "fill": "toself",
         "fillcolor": "rgba(90,174,230,0.8)",
         "hoverinfo": "none",
         "legendgroup": "stabs_Q3",
         "line": {
          "color": "black",
          "width": 2
         },
         "mode": "lines",
         "name": "Q3 stabilizers",
         "showlegend": false,
         "type": "scatter",
         "x": [
          1.9,
          2.1,
          2.1,
          1.9,
          1.9
         ],
         "y": [
          1,
          1,
          2,
          2,
          2
         ]
        },
        {
         "fill": "toself",
         "fillcolor": "rgba(90,174,230,0.8)",
         "hoverinfo": "none",
         "legendgroup": "stabs_Q3",
         "line": {
          "color": "black",
          "width": 2
         },
         "mode": "lines",
         "name": "Q3 stabilizers",
         "showlegend": false,
         "type": "scatter",
         "x": [
          -0.1,
          0.1,
          0.1,
          -0.1,
          -0.1
         ],
         "y": [
          0,
          0,
          1,
          1,
          1
         ]
        },
        {
         "fill": "toself",
         "fillcolor": "rgba(87,201,90,0.8)",
         "hoverinfo": "none",
         "legendgroup": "stabs_Q3",
         "line": {
          "color": "black",
          "width": 2
         },
         "mode": "lines",
         "name": "Q3 stabilizers",
         "showlegend": false,
         "type": "scatter",
         "x": [
          0,
          1,
          1,
          0,
          0
         ],
         "y": [
          0,
          0,
          1,
          1,
          1
         ]
        },
        {
         "fill": "toself",
         "fillcolor": "rgba(87,201,90,0.8)",
         "hoverinfo": "none",
         "legendgroup": "stabs_Q3",
         "line": {
          "color": "black",
          "width": 2
         },
         "mode": "lines",
         "name": "Q3 stabilizers",
         "showlegend": false,
         "type": "scatter",
         "x": [
          1,
          2,
          2,
          1,
          1
         ],
         "y": [
          1,
          1,
          2,
          2,
          2
         ]
        },
        {
         "fill": "toself",
         "fillcolor": "rgba(87,201,90,0.8)",
         "hoverinfo": "none",
         "legendgroup": "stabs_Q3",
         "line": {
          "color": "black",
          "width": 2
         },
         "mode": "lines",
         "name": "Q3 stabilizers",
         "showlegend": false,
         "type": "scatter",
         "x": [
          0,
          1,
          1,
          0,
          0
         ],
         "y": [
          1.9,
          1.9,
          2.1,
          2.1,
          2.1
         ]
        },
        {
         "fill": "toself",
         "fillcolor": "rgba(87,201,90,0.8)",
         "hoverinfo": "none",
         "legendgroup": "stabs_Q3",
         "line": {
          "color": "black",
          "width": 2
         },
         "mode": "lines",
         "name": "Q3 stabilizers",
         "showlegend": false,
         "type": "scatter",
         "x": [
          1,
          2,
          2,
          1,
          1
         ],
         "y": [
          -0.1,
          -0.1,
          0.1,
          0.1,
          0.1
         ]
        },
        {
         "hoverinfo": "text",
         "legendgroup": "",
         "marker": {
          "color": "#ff7f0e",
          "line": {
           "color": "darkred",
           "width": 1
          },
          "size": 25,
          "symbol": "circle"
         },
         "mode": "markers+text",
         "name": "",
         "showlegend": false,
         "text": "(1, 0, 0)",
         "textposition": "middle center",
         "type": "scatter",
         "x": [
          1
         ],
         "y": [
          0
         ]
        },
        {
         "hoverinfo": "text",
         "legendgroup": "",
         "marker": {
          "color": "#ff7f0e",
          "line": {
           "color": "darkred",
           "width": 1
          },
          "size": 25,
          "symbol": "circle"
         },
         "mode": "markers+text",
         "name": "",
         "showlegend": false,
         "text": "(2, 0, 0)",
         "textposition": "middle center",
         "type": "scatter",
         "x": [
          2
         ],
         "y": [
          0
         ]
        },
        {
         "hoverinfo": "text",
         "legendgroup": "",
         "marker": {
          "color": "#ff7f0e",
          "line": {
           "color": "darkred",
           "width": 1
          },
          "size": 25,
          "symbol": "circle"
         },
         "mode": "markers+text",
         "name": "",
         "showlegend": false,
         "text": "(1, 1, 0)",
         "textposition": "middle center",
         "type": "scatter",
         "x": [
          1
         ],
         "y": [
          1
         ]
        },
        {
         "hoverinfo": "text",
         "legendgroup": "",
         "marker": {
          "color": "#ff7f0e",
          "line": {
           "color": "darkred",
           "width": 1
          },
          "size": 25,
          "symbol": "circle"
         },
         "mode": "markers+text",
         "name": "",
         "showlegend": false,
         "text": "(2, 1, 0)",
         "textposition": "middle center",
         "type": "scatter",
         "x": [
          2
         ],
         "y": [
          1
         ]
        },
        {
         "hoverinfo": "text",
         "legendgroup": "",
         "marker": {
          "color": "#ff7f0e",
          "line": {
           "color": "darkred",
           "width": 1
          },
          "size": 25,
          "symbol": "circle"
         },
         "mode": "markers+text",
         "name": "",
         "showlegend": false,
         "text": "(0, 1, 0)",
         "textposition": "middle center",
         "type": "scatter",
         "x": [
          0
         ],
         "y": [
          1
         ]
        },
        {
         "hoverinfo": "text",
         "legendgroup": "",
         "marker": {
          "color": "#ff7f0e",
          "line": {
           "color": "darkred",
           "width": 1
          },
          "size": 25,
          "symbol": "circle"
         },
         "mode": "markers+text",
         "name": "",
         "showlegend": false,
         "text": "(0, 2, 0)",
         "textposition": "middle center",
         "type": "scatter",
         "x": [
          0
         ],
         "y": [
          2
         ]
        },
        {
         "hoverinfo": "text",
         "legendgroup": "",
         "marker": {
          "color": "#ff7f0e",
          "line": {
           "color": "darkred",
           "width": 1
          },
          "size": 25,
          "symbol": "circle"
         },
         "mode": "markers+text",
         "name": "",
         "showlegend": false,
         "text": "(1, 2, 0)",
         "textposition": "middle center",
         "type": "scatter",
         "x": [
          1
         ],
         "y": [
          2
         ]
        },
        {
         "hoverinfo": "text",
         "legendgroup": "",
         "marker": {
          "color": "#ff7f0e",
          "line": {
           "color": "darkred",
           "width": 1
          },
          "size": 25,
          "symbol": "circle"
         },
         "mode": "markers+text",
         "name": "",
         "showlegend": false,
         "text": "(2, 2, 0)",
         "textposition": "middle center",
         "type": "scatter",
         "x": [
          2
         ],
         "y": [
          2
         ]
        },
        {
         "hoverinfo": "text",
         "legendgroup": "",
         "marker": {
          "color": "#ff7f0e",
          "line": {
           "color": "darkred",
           "width": 1
          },
          "size": 25,
          "symbol": "circle"
         },
         "mode": "markers+text",
         "name": "",
         "showlegend": false,
         "text": "(0, 0, 0)",
         "textposition": "middle center",
         "type": "scatter",
         "x": [
          0
         ],
         "y": [
          0
         ]
        },
        {
         "hoverinfo": "text",
         "legendgroup": "",
         "marker": {
          "color": "gray",
          "line": {
           "color": "darkred",
           "width": 1
          },
          "size": 25,
          "symbol": "square"
         },
         "mode": "markers+text",
         "name": "",
         "showlegend": false,
         "text": "X<sub>(0, 0, 0)</sub>",
         "textposition": "middle center",
         "type": "scatter",
         "x": [
          0
         ],
         "y": [
          0
         ]
        },
        {
         "hoverinfo": "text",
         "legendgroup": "",
         "marker": {
          "color": "gray",
          "line": {
           "color": "darkred",
           "width": 1
          },
          "size": 25,
          "symbol": "square"
         },
         "mode": "markers+text",
         "name": "",
         "showlegend": false,
         "text": "X<sub>(1, 0, 0)</sub>",
         "textposition": "middle center",
         "type": "scatter",
         "x": [
          1
         ],
         "y": [
          0
         ]
        },
        {
         "hoverinfo": "text",
         "legendgroup": "",
         "marker": {
          "color": "gray",
          "line": {
           "color": "darkred",
           "width": 1
          },
          "size": 25,
          "symbol": "square"
         },
         "mode": "markers+text",
         "name": "",
         "showlegend": false,
         "text": "X<sub>(2, 0, 0)</sub>",
         "textposition": "middle center",
         "type": "scatter",
         "x": [
          2
         ],
         "y": [
          0
         ]
        },
        {
         "hoverinfo": "text",
         "legendgroup": "",
         "marker": {
          "color": "gray",
          "line": {
           "color": "darkred",
           "width": 1
          },
          "size": 25,
          "symbol": "square"
         },
         "mode": "markers+text",
         "name": "",
         "showlegend": false,
         "text": "Z<sub>(2, 0, 0)</sub>",
         "textposition": "middle center",
         "type": "scatter",
         "x": [
          2
         ],
         "y": [
          0
         ]
        },
        {
         "hoverinfo": "text",
         "legendgroup": "",
         "marker": {
          "color": "gray",
          "line": {
           "color": "darkred",
           "width": 1
          },
          "size": 25,
          "symbol": "square"
         },
         "mode": "markers+text",
         "name": "",
         "showlegend": false,
         "text": "Z<sub>(2, 1, 0)</sub>",
         "textposition": "middle center",
         "type": "scatter",
         "x": [
          2
         ],
         "y": [
          1
         ]
        },
        {
         "hoverinfo": "text",
         "legendgroup": "",
         "marker": {
          "color": "gray",
          "line": {
           "color": "darkred",
           "width": 1
          },
          "size": 25,
          "symbol": "square"
         },
         "mode": "markers+text",
         "name": "",
         "showlegend": false,
         "text": "Z<sub>(2, 2, 0)</sub>",
         "textposition": "middle center",
         "type": "scatter",
         "x": [
          2
         ],
         "y": [
          2
         ]
        }
       ],
       "layout": {
        "height": 700,
        "showlegend": true,
        "template": {
         "data": {
          "bar": [
           {
            "error_x": {
             "color": "#2a3f5f"
            },
            "error_y": {
             "color": "#2a3f5f"
            },
            "marker": {
             "line": {
              "color": "#E5ECF6",
              "width": 0.5
             },
             "pattern": {
              "fillmode": "overlay",
              "size": 10,
              "solidity": 0.2
             }
            },
            "type": "bar"
           }
          ],
          "barpolar": [
           {
            "marker": {
             "line": {
              "color": "#E5ECF6",
              "width": 0.5
             },
             "pattern": {
              "fillmode": "overlay",
              "size": 10,
              "solidity": 0.2
             }
            },
            "type": "barpolar"
           }
          ],
          "carpet": [
           {
            "aaxis": {
             "endlinecolor": "#2a3f5f",
             "gridcolor": "white",
             "linecolor": "white",
             "minorgridcolor": "white",
             "startlinecolor": "#2a3f5f"
            },
            "baxis": {
             "endlinecolor": "#2a3f5f",
             "gridcolor": "white",
             "linecolor": "white",
             "minorgridcolor": "white",
             "startlinecolor": "#2a3f5f"
            },
            "type": "carpet"
           }
          ],
          "choropleth": [
           {
            "colorbar": {
             "outlinewidth": 0,
             "ticks": ""
            },
            "type": "choropleth"
           }
          ],
          "contour": [
           {
            "colorbar": {
             "outlinewidth": 0,
             "ticks": ""
            },
            "colorscale": [
             [
              0,
              "#0d0887"
             ],
             [
              0.1111111111111111,
              "#46039f"
             ],
             [
              0.2222222222222222,
              "#7201a8"
             ],
             [
              0.3333333333333333,
              "#9c179e"
             ],
             [
              0.4444444444444444,
              "#bd3786"
             ],
             [
              0.5555555555555556,
              "#d8576b"
             ],
             [
              0.6666666666666666,
              "#ed7953"
             ],
             [
              0.7777777777777778,
              "#fb9f3a"
             ],
             [
              0.8888888888888888,
              "#fdca26"
             ],
             [
              1,
              "#f0f921"
             ]
            ],
            "type": "contour"
           }
          ],
          "contourcarpet": [
           {
            "colorbar": {
             "outlinewidth": 0,
             "ticks": ""
            },
            "type": "contourcarpet"
           }
          ],
          "heatmap": [
           {
            "colorbar": {
             "outlinewidth": 0,
             "ticks": ""
            },
            "colorscale": [
             [
              0,
              "#0d0887"
             ],
             [
              0.1111111111111111,
              "#46039f"
             ],
             [
              0.2222222222222222,
              "#7201a8"
             ],
             [
              0.3333333333333333,
              "#9c179e"
             ],
             [
              0.4444444444444444,
              "#bd3786"
             ],
             [
              0.5555555555555556,
              "#d8576b"
             ],
             [
              0.6666666666666666,
              "#ed7953"
             ],
             [
              0.7777777777777778,
              "#fb9f3a"
             ],
             [
              0.8888888888888888,
              "#fdca26"
             ],
             [
              1,
              "#f0f921"
             ]
            ],
            "type": "heatmap"
           }
          ],
          "heatmapgl": [
           {
            "colorbar": {
             "outlinewidth": 0,
             "ticks": ""
            },
            "colorscale": [
             [
              0,
              "#0d0887"
             ],
             [
              0.1111111111111111,
              "#46039f"
             ],
             [
              0.2222222222222222,
              "#7201a8"
             ],
             [
              0.3333333333333333,
              "#9c179e"
             ],
             [
              0.4444444444444444,
              "#bd3786"
             ],
             [
              0.5555555555555556,
              "#d8576b"
             ],
             [
              0.6666666666666666,
              "#ed7953"
             ],
             [
              0.7777777777777778,
              "#fb9f3a"
             ],
             [
              0.8888888888888888,
              "#fdca26"
             ],
             [
              1,
              "#f0f921"
             ]
            ],
            "type": "heatmapgl"
           }
          ],
          "histogram": [
           {
            "marker": {
             "pattern": {
              "fillmode": "overlay",
              "size": 10,
              "solidity": 0.2
             }
            },
            "type": "histogram"
           }
          ],
          "histogram2d": [
           {
            "colorbar": {
             "outlinewidth": 0,
             "ticks": ""
            },
            "colorscale": [
             [
              0,
              "#0d0887"
             ],
             [
              0.1111111111111111,
              "#46039f"
             ],
             [
              0.2222222222222222,
              "#7201a8"
             ],
             [
              0.3333333333333333,
              "#9c179e"
             ],
             [
              0.4444444444444444,
              "#bd3786"
             ],
             [
              0.5555555555555556,
              "#d8576b"
             ],
             [
              0.6666666666666666,
              "#ed7953"
             ],
             [
              0.7777777777777778,
              "#fb9f3a"
             ],
             [
              0.8888888888888888,
              "#fdca26"
             ],
             [
              1,
              "#f0f921"
             ]
            ],
            "type": "histogram2d"
           }
          ],
          "histogram2dcontour": [
           {
            "colorbar": {
             "outlinewidth": 0,
             "ticks": ""
            },
            "colorscale": [
             [
              0,
              "#0d0887"
             ],
             [
              0.1111111111111111,
              "#46039f"
             ],
             [
              0.2222222222222222,
              "#7201a8"
             ],
             [
              0.3333333333333333,
              "#9c179e"
             ],
             [
              0.4444444444444444,
              "#bd3786"
             ],
             [
              0.5555555555555556,
              "#d8576b"
             ],
             [
              0.6666666666666666,
              "#ed7953"
             ],
             [
              0.7777777777777778,
              "#fb9f3a"
             ],
             [
              0.8888888888888888,
              "#fdca26"
             ],
             [
              1,
              "#f0f921"
             ]
            ],
            "type": "histogram2dcontour"
           }
          ],
          "mesh3d": [
           {
            "colorbar": {
             "outlinewidth": 0,
             "ticks": ""
            },
            "type": "mesh3d"
           }
          ],
          "parcoords": [
           {
            "line": {
             "colorbar": {
              "outlinewidth": 0,
              "ticks": ""
             }
            },
            "type": "parcoords"
           }
          ],
          "pie": [
           {
            "automargin": true,
            "type": "pie"
           }
          ],
          "scatter": [
           {
            "fillpattern": {
             "fillmode": "overlay",
             "size": 10,
             "solidity": 0.2
            },
            "type": "scatter"
           }
          ],
          "scatter3d": [
           {
            "line": {
             "colorbar": {
              "outlinewidth": 0,
              "ticks": ""
             }
            },
            "marker": {
             "colorbar": {
              "outlinewidth": 0,
              "ticks": ""
             }
            },
            "type": "scatter3d"
           }
          ],
          "scattercarpet": [
           {
            "marker": {
             "colorbar": {
              "outlinewidth": 0,
              "ticks": ""
             }
            },
            "type": "scattercarpet"
           }
          ],
          "scattergeo": [
           {
            "marker": {
             "colorbar": {
              "outlinewidth": 0,
              "ticks": ""
             }
            },
            "type": "scattergeo"
           }
          ],
          "scattergl": [
           {
            "marker": {
             "colorbar": {
              "outlinewidth": 0,
              "ticks": ""
             }
            },
            "type": "scattergl"
           }
          ],
          "scattermapbox": [
           {
            "marker": {
             "colorbar": {
              "outlinewidth": 0,
              "ticks": ""
             }
            },
            "type": "scattermapbox"
           }
          ],
          "scatterpolar": [
           {
            "marker": {
             "colorbar": {
              "outlinewidth": 0,
              "ticks": ""
             }
            },
            "type": "scatterpolar"
           }
          ],
          "scatterpolargl": [
           {
            "marker": {
             "colorbar": {
              "outlinewidth": 0,
              "ticks": ""
             }
            },
            "type": "scatterpolargl"
           }
          ],
          "scatterternary": [
           {
            "marker": {
             "colorbar": {
              "outlinewidth": 0,
              "ticks": ""
             }
            },
            "type": "scatterternary"
           }
          ],
          "surface": [
           {
            "colorbar": {
             "outlinewidth": 0,
             "ticks": ""
            },
            "colorscale": [
             [
              0,
              "#0d0887"
             ],
             [
              0.1111111111111111,
              "#46039f"
             ],
             [
              0.2222222222222222,
              "#7201a8"
             ],
             [
              0.3333333333333333,
              "#9c179e"
             ],
             [
              0.4444444444444444,
              "#bd3786"
             ],
             [
              0.5555555555555556,
              "#d8576b"
             ],
             [
              0.6666666666666666,
              "#ed7953"
             ],
             [
              0.7777777777777778,
              "#fb9f3a"
             ],
             [
              0.8888888888888888,
              "#fdca26"
             ],
             [
              1,
              "#f0f921"
             ]
            ],
            "type": "surface"
           }
          ],
          "table": [
           {
            "cells": {
             "fill": {
              "color": "#EBF0F8"
             },
             "line": {
              "color": "white"
             }
            },
            "header": {
             "fill": {
              "color": "#C8D4E3"
             },
             "line": {
              "color": "white"
             }
            },
            "type": "table"
           }
          ]
         },
         "layout": {
          "annotationdefaults": {
           "arrowcolor": "#2a3f5f",
           "arrowhead": 0,
           "arrowwidth": 1
          },
          "autotypenumbers": "strict",
          "coloraxis": {
           "colorbar": {
            "outlinewidth": 0,
            "ticks": ""
           }
          },
          "colorscale": {
           "diverging": [
            [
             0,
             "#8e0152"
            ],
            [
             0.1,
             "#c51b7d"
            ],
            [
             0.2,
             "#de77ae"
            ],
            [
             0.3,
             "#f1b6da"
            ],
            [
             0.4,
             "#fde0ef"
            ],
            [
             0.5,
             "#f7f7f7"
            ],
            [
             0.6,
             "#e6f5d0"
            ],
            [
             0.7,
             "#b8e186"
            ],
            [
             0.8,
             "#7fbc41"
            ],
            [
             0.9,
             "#4d9221"
            ],
            [
             1,
             "#276419"
            ]
           ],
           "sequential": [
            [
             0,
             "#0d0887"
            ],
            [
             0.1111111111111111,
             "#46039f"
            ],
            [
             0.2222222222222222,
             "#7201a8"
            ],
            [
             0.3333333333333333,
             "#9c179e"
            ],
            [
             0.4444444444444444,
             "#bd3786"
            ],
            [
             0.5555555555555556,
             "#d8576b"
            ],
            [
             0.6666666666666666,
             "#ed7953"
            ],
            [
             0.7777777777777778,
             "#fb9f3a"
            ],
            [
             0.8888888888888888,
             "#fdca26"
            ],
            [
             1,
             "#f0f921"
            ]
           ],
           "sequentialminus": [
            [
             0,
             "#0d0887"
            ],
            [
             0.1111111111111111,
             "#46039f"
            ],
            [
             0.2222222222222222,
             "#7201a8"
            ],
            [
             0.3333333333333333,
             "#9c179e"
            ],
            [
             0.4444444444444444,
             "#bd3786"
            ],
            [
             0.5555555555555556,
             "#d8576b"
            ],
            [
             0.6666666666666666,
             "#ed7953"
            ],
            [
             0.7777777777777778,
             "#fb9f3a"
            ],
            [
             0.8888888888888888,
             "#fdca26"
            ],
            [
             1,
             "#f0f921"
            ]
           ]
          },
          "colorway": [
           "#636efa",
           "#EF553B",
           "#00cc96",
           "#ab63fa",
           "#FFA15A",
           "#19d3f3",
           "#FF6692",
           "#B6E880",
           "#FF97FF",
           "#FECB52"
          ],
          "font": {
           "color": "#2a3f5f"
          },
          "geo": {
           "bgcolor": "white",
           "lakecolor": "white",
           "landcolor": "#E5ECF6",
           "showlakes": true,
           "showland": true,
           "subunitcolor": "white"
          },
          "hoverlabel": {
           "align": "left"
          },
          "hovermode": "closest",
          "mapbox": {
           "style": "light"
          },
          "paper_bgcolor": "white",
          "plot_bgcolor": "#E5ECF6",
          "polar": {
           "angularaxis": {
            "gridcolor": "white",
            "linecolor": "white",
            "ticks": ""
           },
           "bgcolor": "#E5ECF6",
           "radialaxis": {
            "gridcolor": "white",
            "linecolor": "white",
            "ticks": ""
           }
          },
          "scene": {
           "xaxis": {
            "backgroundcolor": "#E5ECF6",
            "gridcolor": "white",
            "gridwidth": 2,
            "linecolor": "white",
            "showbackground": true,
            "ticks": "",
            "zerolinecolor": "white"
           },
           "yaxis": {
            "backgroundcolor": "#E5ECF6",
            "gridcolor": "white",
            "gridwidth": 2,
            "linecolor": "white",
            "showbackground": true,
            "ticks": "",
            "zerolinecolor": "white"
           },
           "zaxis": {
            "backgroundcolor": "#E5ECF6",
            "gridcolor": "white",
            "gridwidth": 2,
            "linecolor": "white",
            "showbackground": true,
            "ticks": "",
            "zerolinecolor": "white"
           }
          },
          "shapedefaults": {
           "line": {
            "color": "#2a3f5f"
           }
          },
          "ternary": {
           "aaxis": {
            "gridcolor": "white",
            "linecolor": "white",
            "ticks": ""
           },
           "baxis": {
            "gridcolor": "white",
            "linecolor": "white",
            "ticks": ""
           },
           "bgcolor": "#E5ECF6",
           "caxis": {
            "gridcolor": "white",
            "linecolor": "white",
            "ticks": ""
           }
          },
          "title": {
           "x": 0.05
          },
          "xaxis": {
           "automargin": true,
           "gridcolor": "white",
           "linecolor": "white",
           "ticks": "",
           "title": {
            "standoff": 15
           },
           "zerolinecolor": "white",
           "zerolinewidth": 2
          },
          "yaxis": {
           "automargin": true,
           "gridcolor": "white",
           "linecolor": "white",
           "ticks": "",
           "title": {
            "standoff": 15
           },
           "zerolinecolor": "white",
           "zerolinewidth": 2
          }
         }
        },
        "width": 1100,
        "xaxis": {
         "anchor": "y",
         "domain": [
          0,
          1
         ],
         "showgrid": true,
         "visible": true,
         "zeroline": false
        },
        "yaxis": {
         "anchor": "x",
         "autorange": "reversed",
         "domain": [
          0,
          1
         ],
         "scaleanchor": "x",
         "scaleratio": 1,
         "showgrid": true,
         "visible": true
        }
       }
      }
     },
     "metadata": {},
     "output_type": "display_data"
    }
   ],
   "source": [
    "qecplot = QECPlot(circ)\n",
    "qecplot.plot_logical_qubit(\"Q2\")\n",
    "qecplot.plot_logical_qubit(\"Q3\")\n",
    "qecplot.show()"
   ]
  },
  {
   "cell_type": "markdown",
   "metadata": {},
   "source": [
    "Add syndrome extraction circuits. Note that the corresponding function returns a list with uuids. These uuids can be used to access exactly these measurements after the experiment has been performed."
   ]
  },
  {
   "cell_type": "code",
   "execution_count": 6,
   "metadata": {},
   "outputs": [],
   "source": [
    "uuids_Q2 = circ.add_par_def_syndrome_extraction_circuit(\"Q2\")\n",
    "uuids_Q3 = circ.add_par_def_syndrome_extraction_circuit(\"Q3\")"
   ]
  },
  {
   "cell_type": "markdown",
   "metadata": {},
   "source": [
    "Perform logical quantum state tomography:"
   ]
  },
  {
   "cell_type": "code",
   "execution_count": 7,
   "metadata": {},
   "outputs": [
    {
     "name": "stdout",
     "output_type": "stream",
     "text": [
      "<II> = 0.0\n",
      "<IX> = 0.509\n",
      "<IZ> = 1.0\n",
      "<XI> = 0.494\n",
      "<XX> = 0.504\n",
      "<XZ> = 0.502\n",
      "<ZI> = 1.0\n",
      "<ZX> = 0.505\n",
      "<ZZ> = 0.0\n"
     ]
    }
   ],
   "source": [
    "bases = [\"I\", \"X\", \"Z\"]\n",
    "res_dict = qeclib.circ_log_QST_results(circ, num_shots=3000, bases=bases)\n",
    "for basis, exp_val in res_dict.items():\n",
    "    print(f\"<{basis}> = {np.round(exp_val, 3)}\")"
   ]
  },
  {
   "cell_type": "markdown",
   "metadata": {},
   "source": [
    "Plot the expectation values in a 3D bar chart:"
   ]
  },
  {
   "cell_type": "code",
   "execution_count": 8,
   "metadata": {},
   "outputs": [
    {
     "name": "stderr",
     "output_type": "stream",
     "text": [
      "C:\\Users\\jonat\\AppData\\Local\\Temp\\ipykernel_3260\\769122824.py:2: UserWarning:\n",
      "\n",
      "FigureCanvasAgg is non-interactive, and thus cannot be shown\n",
      "\n"
     ]
    },
    {
     "data": {
      "image/png": "[encoded data removed]",
      "text/plain": [
       "<Figure size 1000x600 with 1 Axes>"
      ]
     },
     "metadata": {},
     "output_type": "display_data"
    }
   ],
   "source": [
    "fig = qeclib.plot_log_QST_results(res_dict)\n",
    "fig.show()"
   ]
  },
  {
   "cell_type": "markdown",
   "metadata": {},
   "source": [
    "#### Expected results\n",
    "The quantum state tomography plot above hopefully shows exactly what we expect. What we expect is the following:\n",
    "\n",
    "Let's denote the initial state of the 3x7 patch with $\\ket{Q1}$. We denote the measurement result of an operator on a $+1$ eigenstate with $0$ and of a $-1$ eigenstate with $1$. Then we expect:\n",
    "\n",
    "If $\\ket{Q1} = \\ket{+}$:\n",
    "* $\\langle X_{L1}X_{L2} \\rangle = 0$ because $X_{L1} \\cdot X_{L2} = X_L$ and we were in the $+1$ eigenstate of $X_L$ initially\n",
    "* $\\langle Z_{L1}Z_{L2} \\rangle = 0$ holds always because the two operators are equivalent\n",
    "* $\\langle I_{L1}I_{L2} \\rangle = 0$ (per definition, nothing is measured)\n",
    "* All other expectation values are random (0.5)\n",
    "\n",
    "If $\\ket{Q1} = \\ket{-}$:\n",
    "* $\\langle X_{L1}X_{L2} \\rangle = 1$ because $X_{L1} \\cdot X_{L2} = X_L$ and we were in the $-1$ eigenstate of $X_L$ initially\n",
    "* $\\langle Z_{L1}Z_{L2} \\rangle = 0$ holds always because the two operators are equivalent\n",
    "* $\\langle I_{L1}I_{L2} \\rangle = 0$\n",
    "* All other expectation values are random (0.5)\n",
    "\n",
    "If $\\ket{Q1} = \\ket{0}$:\n",
    "* $\\langle I_{L1}Z_{L2} \\rangle = \\langle Z_{L1}I_{L2} \\rangle = \\langle Z_{L1}Z_{L2} \\rangle = \\langle I_{L1}I_{L2} \\rangle = 0$\n",
    "* All other expectation values are random (0.5)\n",
    "\n",
    "If $\\ket{Q1} = \\ket{1}$:\n",
    "* $\\langle I_{L1}Z_{L2} \\rangle = \\langle Z_{L1}I_{L2} \\rangle = 1$ since we are in the $-1$ eigenstate of $Z_L$, both $Z_{L1}$ and $Z_{L2}$ are equivalent to $Z_L$ and we measure only one of them\n",
    "* $\\langle I_{L1}I_{L2} \\rangle = \\langle Z_{L1}Z_{L2} \\rangle = 0$ holds always because the two operators are equivalent\n",
    "* All other expectation values are random (0.5)"
   ]
  },
  {
   "cell_type": "markdown",
   "metadata": {},
   "source": [
    "# Manual measurement in the end\n",
    "For debugging and for understanding how the above code works, it might be useful to not use the `circ_log_QST_results` function but instead measure in just a single basis and analyze the respective simulation results. Essentially, `circ_log_QST_results` performs different experiments with different circuits where the circuits differ in the basis in which the logical qubits are measured in the end. This might obfuscate the underlying logic of the code, so here is the code without the logical QST wrapper:"
   ]
  },
  {
   "cell_type": "code",
   "execution_count": 9,
   "metadata": {},
   "outputs": [],
   "source": [
    "mmt_basis = \"ZZ\"  # CHANGE THE MEASUREMENT BASIS HERE\n",
    "\n",
    "circ_manual_meas = copy.deepcopy(circ)\n",
    "if mmt_basis[0] == \"X\":\n",
    "    m_id_Q2 = circ_manual_meas.m_log_x(\"Q2\")\n",
    "elif mmt_basis[0] == \"Z\":\n",
    "    m_id_Q2 = circ_manual_meas.m_log_z(\"Q2\")\n",
    "if mmt_basis[1] == \"X\":\n",
    "    m_id_Q3 = circ_manual_meas.m_log_x(\"Q3\")\n",
    "elif mmt_basis[1] == \"Z\":\n",
    "    m_id_Q3 = circ_manual_meas.m_log_z(\"Q3\")\n",
    "\n",
    "stim_circ = stim.Circuit(circ_manual_meas.convert_to_stim())"
   ]
  },
  {
   "cell_type": "markdown",
   "metadata": {},
   "source": [
    "It might be helpful to have a look at the stim circuit to understand what the experiment is that is performed here:"
   ]
  },
  {
   "cell_type": "code",
   "execution_count": 10,
   "metadata": {},
   "outputs": [
    {
     "data": {
      "image/svg+xml": [
       "<svg viewBox=\"0 0 8416 6816\"  version=\"1.1\" xmlns=\"http://www.w3.org/2000/svg\">\n",
       "<g id=\"qubit_lines\">\n",
       "<path id=\"qubit_line:0\" d=\"M64,64 L8384,64 \" stroke=\"black\"/>\n",
       "<text dominant-baseline=\"central\" text-anchor=\"end\" font-family=\"monospace\" font-size=\"12\" x=\"64\" y=\"64\">q0</text>\n",
       "<path id=\"qubit_line:1\" d=\"M64,128 L8384,128 \" stroke=\"black\"/>\n",
       "<text dominant-baseline=\"central\" text-anchor=\"end\" font-family=\"monospace\" font-size=\"12\" x=\"64\" y=\"128\">q1</text>\n",
       "<path id=\"qubit_line:2\" d=\"M64,192 L8384,192 \" stroke=\"black\"/>\n",
       "<text dominant-baseline=\"central\" text-anchor=\"end\" font-family=\"monospace\" font-size=\"12\" x=\"64\" y=\"192\">q2</text>\n",
       "<path id=\"qubit_line:3\" d=\"M64,256 L8384,256 \" stroke=\"black\"/>\n",
       "<text dominant-baseline=\"central\" text-anchor=\"end\" font-family=\"monospace\" font-size=\"12\" x=\"64\" y=\"256\">q3</text>\n",
       "<path id=\"qubit_line:4\" d=\"M64,320 L8384,320 \" stroke=\"black\"/>\n",
       "<text dominant-baseline=\"central\" text-anchor=\"end\" font-family=\"monospace\" font-size=\"12\" x=\"64\" y=\"320\">q4</text>\n",
       "<path id=\"qubit_line:5\" d=\"M64,384 L8384,384 \" stroke=\"black\"/>\n",
       "<text dominant-baseline=\"central\" text-anchor=\"end\" font-family=\"monospace\" font-size=\"12\" x=\"64\" y=\"384\">q5</text>\n",
       "<path id=\"qubit_line:6\" d=\"M64,448 L8384,448 \" stroke=\"black\"/>\n",
       "<text dominant-baseline=\"central\" text-anchor=\"end\" font-family=\"monospace\" font-size=\"12\" x=\"64\" y=\"448\">q6</text>\n",
       "<path id=\"qubit_line:7\" d=\"M64,512 L8384,512 \" stroke=\"black\"/>\n",
       "<text dominant-baseline=\"central\" text-anchor=\"end\" font-family=\"monospace\" font-size=\"12\" x=\"64\" y=\"512\">q7</text>\n",
       "<path id=\"qubit_line:8\" d=\"M64,576 L8384,576 \" stroke=\"black\"/>\n",
       "<text dominant-baseline=\"central\" text-anchor=\"end\" font-family=\"monospace\" font-size=\"12\" x=\"64\" y=\"576\">q8</text>\n",
       "<path id=\"qubit_line:9\" d=\"M64,640 L8384,640 \" stroke=\"black\"/>\n",
       "<text dominant-baseline=\"central\" text-anchor=\"end\" font-family=\"monospace\" font-size=\"12\" x=\"64\" y=\"640\">q9</text>\n",
       "<path id=\"qubit_line:10\" d=\"M64,704 L8384,704 \" stroke=\"black\"/>\n",
       "<text dominant-baseline=\"central\" text-anchor=\"end\" font-family=\"monospace\" font-size=\"12\" x=\"64\" y=\"704\">q10</text>\n",
       "<path id=\"qubit_line:11\" d=\"M64,768 L8384,768 \" stroke=\"black\"/>\n",
       "<text dominant-baseline=\"central\" text-anchor=\"end\" font-family=\"monospace\" font-size=\"12\" x=\"64\" y=\"768\">q11</text>\n",
       "<path id=\"qubit_line:12\" d=\"M64,832 L8384,832 \" stroke=\"black\"/>\n",
       "<text dominant-baseline=\"central\" text-anchor=\"end\" font-family=\"monospace\" font-size=\"12\" x=\"64\" y=\"832\">q12</text>\n",
       "<path id=\"qubit_line:13\" d=\"M64,896 L8384,896 \" stroke=\"black\"/>\n",
       "<text dominant-baseline=\"central\" text-anchor=\"end\" font-family=\"monospace\" font-size=\"12\" x=\"64\" y=\"896\">q13</text>\n",
       "<path id=\"qubit_line:14\" d=\"M64,960 L8384,960 \" stroke=\"black\"/>\n",
       "<text dominant-baseline=\"central\" text-anchor=\"end\" font-family=\"monospace\" font-size=\"12\" x=\"64\" y=\"960\">q14</text>\n",
       "<path id=\"qubit_line:15\" d=\"M64,1024 L8384,1024 \" stroke=\"black\"/>\n",
       "<text dominant-baseline=\"central\" text-anchor=\"end\" font-family=\"monospace\" font-size=\"12\" x=\"64\" y=\"1024\">q15</text>\n",
       "<path id=\"qubit_line:16\" d=\"M64,1088 L8384,1088 \" stroke=\"black\"/>\n",
       "<text dominant-baseline=\"central\" text-anchor=\"end\" font-family=\"monospace\" font-size=\"12\" x=\"64\" y=\"1088\">q16</text>\n",
       "<path id=\"qubit_line:17\" d=\"M64,1152 L8384,1152 \" stroke=\"black\"/>\n",
       "<text dominant-baseline=\"central\" text-anchor=\"end\" font-family=\"monospace\" font-size=\"12\" x=\"64\" y=\"1152\">q17</text>\n",
       "<path id=\"qubit_line:18\" d=\"M64,1216 L8384,1216 \" stroke=\"black\"/>\n",
       "<text dominant-baseline=\"central\" text-anchor=\"end\" font-family=\"monospace\" font-size=\"12\" x=\"64\" y=\"1216\">q18</text>\n",
       "<path id=\"qubit_line:19\" d=\"M64,1280 L8384,1280 \" stroke=\"black\"/>\n",
       "<text dominant-baseline=\"central\" text-anchor=\"end\" font-family=\"monospace\" font-size=\"12\" x=\"64\" y=\"1280\">q19</text>\n",
       "<path id=\"qubit_line:20\" d=\"M64,1344 L8384,1344 \" stroke=\"black\"/>\n",
       "<text dominant-baseline=\"central\" text-anchor=\"end\" font-family=\"monospace\" font-size=\"12\" x=\"64\" y=\"1344\">q20</text>\n",
       "<path id=\"qubit_line:21\" d=\"M64,1408 L8384,1408 \" stroke=\"black\"/>\n",
       "<text dominant-baseline=\"central\" text-anchor=\"end\" font-family=\"monospace\" font-size=\"12\" x=\"64\" y=\"1408\">q21</text>\n",
       "<path id=\"qubit_line:22\" d=\"M64,1472 L8384,1472 \" stroke=\"black\"/>\n",
       "<text dominant-baseline=\"central\" text-anchor=\"end\" font-family=\"monospace\" font-size=\"12\" x=\"64\" y=\"1472\">q22</text>\n",
       "<path id=\"qubit_line:23\" d=\"M64,1536 L8384,1536 \" stroke=\"black\"/>\n",
       "<text dominant-baseline=\"central\" text-anchor=\"end\" font-family=\"monospace\" font-size=\"12\" x=\"64\" y=\"1536\">q23</text>\n",
       "<path id=\"qubit_line:24\" d=\"M64,1600 L8384,1600 \" stroke=\"black\"/>\n",
       "<text dominant-baseline=\"central\" text-anchor=\"end\" font-family=\"monospace\" font-size=\"12\" x=\"64\" y=\"1600\">q24</text>\n",
       "<path id=\"qubit_line:25\" d=\"M64,1664 L8384,1664 \" stroke=\"black\"/>\n",
       "<text dominant-baseline=\"central\" text-anchor=\"end\" font-family=\"monospace\" font-size=\"12\" x=\"64\" y=\"1664\">q25</text>\n",
       "<path id=\"qubit_line:26\" d=\"M64,1728 L8384,1728 \" stroke=\"black\"/>\n",
       "<text dominant-baseline=\"central\" text-anchor=\"end\" font-family=\"monospace\" font-size=\"12\" x=\"64\" y=\"1728\">q26</text>\n",
       "<path id=\"qubit_line:27\" d=\"M64,1792 L8384,1792 \" stroke=\"black\"/>\n",
       "<text dominant-baseline=\"central\" text-anchor=\"end\" font-family=\"monospace\" font-size=\"12\" x=\"64\" y=\"1792\">q27</text>\n",
       "<path id=\"qubit_line:28\" d=\"M64,1856 L8384,1856 \" stroke=\"black\"/>\n",
       "<text dominant-baseline=\"central\" text-anchor=\"end\" font-family=\"monospace\" font-size=\"12\" x=\"64\" y=\"1856\">q28</text>\n",
       "<path id=\"qubit_line:29\" d=\"M64,1920 L8384,1920 \" stroke=\"black\"/>\n",
       "<text dominant-baseline=\"central\" text-anchor=\"end\" font-family=\"monospace\" font-size=\"12\" x=\"64\" y=\"1920\">q29</text>\n",
       "<path id=\"qubit_line:30\" d=\"M64,1984 L8384,1984 \" stroke=\"black\"/>\n",
       "<text dominant-baseline=\"central\" text-anchor=\"end\" font-family=\"monospace\" font-size=\"12\" x=\"64\" y=\"1984\">q30</text>\n",
       "<path id=\"qubit_line:31\" d=\"M64,2048 L8384,2048 \" stroke=\"black\"/>\n",
       "<text dominant-baseline=\"central\" text-anchor=\"end\" font-family=\"monospace\" font-size=\"12\" x=\"64\" y=\"2048\">q31</text>\n",
       "<path id=\"qubit_line:32\" d=\"M64,2112 L8384,2112 \" stroke=\"black\"/>\n",
       "<text dominant-baseline=\"central\" text-anchor=\"end\" font-family=\"monospace\" font-size=\"12\" x=\"64\" y=\"2112\">q32</text>\n",
       "<path id=\"qubit_line:33\" d=\"M64,2176 L8384,2176 \" stroke=\"black\"/>\n",
       "<text dominant-baseline=\"central\" text-anchor=\"end\" font-family=\"monospace\" font-size=\"12\" x=\"64\" y=\"2176\">q33</text>\n",
       "<path id=\"qubit_line:34\" d=\"M64,2240 L8384,2240 \" stroke=\"black\"/>\n",
       "<text dominant-baseline=\"central\" text-anchor=\"end\" font-family=\"monospace\" font-size=\"12\" x=\"64\" y=\"2240\">q34</text>\n",
       "<path id=\"qubit_line:35\" d=\"M64,2304 L8384,2304 \" stroke=\"black\"/>\n",
       "<text dominant-baseline=\"central\" text-anchor=\"end\" font-family=\"monospace\" font-size=\"12\" x=\"64\" y=\"2304\">q35</text>\n",
       "<path id=\"qubit_line:36\" d=\"M64,2368 L8384,2368 \" stroke=\"black\"/>\n",
       "<text dominant-baseline=\"central\" text-anchor=\"end\" font-family=\"monospace\" font-size=\"12\" x=\"64\" y=\"2368\">q36</text>\n",
       "<path id=\"qubit_line:37\" d=\"M64,2432 L8384,2432 \" stroke=\"black\"/>\n",
       "<text dominant-baseline=\"central\" text-anchor=\"end\" font-family=\"monospace\" font-size=\"12\" x=\"64\" y=\"2432\">q37</text>\n",
       "<path id=\"qubit_line:38\" d=\"M64,2496 L8384,2496 \" stroke=\"black\"/>\n",
       "<text dominant-baseline=\"central\" text-anchor=\"end\" font-family=\"monospace\" font-size=\"12\" x=\"64\" y=\"2496\">q38</text>\n",
       "<path id=\"qubit_line:39\" d=\"M64,2560 L8384,2560 \" stroke=\"black\"/>\n",
       "<text dominant-baseline=\"central\" text-anchor=\"end\" font-family=\"monospace\" font-size=\"12\" x=\"64\" y=\"2560\">q39</text>\n",
       "<path id=\"qubit_line:40\" d=\"M64,2624 L8384,2624 \" stroke=\"black\"/>\n",
       "<text dominant-baseline=\"central\" text-anchor=\"end\" font-family=\"monospace\" font-size=\"12\" x=\"64\" y=\"2624\">q40</text>\n",
       "<path id=\"qubit_line:41\" d=\"M64,2688 L8384,2688 \" stroke=\"black\"/>\n",
       "<text dominant-baseline=\"central\" text-anchor=\"end\" font-family=\"monospace\" font-size=\"12\" x=\"64\" y=\"2688\">q41</text>\n",
       "<path id=\"qubit_line:42\" d=\"M64,2752 L8384,2752 \" stroke=\"black\"/>\n",
       "<text dominant-baseline=\"central\" text-anchor=\"end\" font-family=\"monospace\" font-size=\"12\" x=\"64\" y=\"2752\">q42</text>\n",
       "<path id=\"qubit_line:43\" d=\"M64,2816 L8384,2816 \" stroke=\"black\"/>\n",
       "<text dominant-baseline=\"central\" text-anchor=\"end\" font-family=\"monospace\" font-size=\"12\" x=\"64\" y=\"2816\">q43</text>\n",
       "<path id=\"qubit_line:44\" d=\"M64,2880 L8384,2880 \" stroke=\"black\"/>\n",
       "<text dominant-baseline=\"central\" text-anchor=\"end\" font-family=\"monospace\" font-size=\"12\" x=\"64\" y=\"2880\">q44</text>\n",
       "<path id=\"qubit_line:45\" d=\"M64,2944 L8384,2944 \" stroke=\"black\"/>\n",
       "<text dominant-baseline=\"central\" text-anchor=\"end\" font-family=\"monospace\" font-size=\"12\" x=\"64\" y=\"2944\">q45</text>\n",
       "<path id=\"qubit_line:46\" d=\"M64,3008 L8384,3008 \" stroke=\"black\"/>\n",
       "<text dominant-baseline=\"central\" text-anchor=\"end\" font-family=\"monospace\" font-size=\"12\" x=\"64\" y=\"3008\">q46</text>\n",
       "<path id=\"qubit_line:47\" d=\"M64,3072 L8384,3072 \" stroke=\"black\"/>\n",
       "<text dominant-baseline=\"central\" text-anchor=\"end\" font-family=\"monospace\" font-size=\"12\" x=\"64\" y=\"3072\">q47</text>\n",
       "<path id=\"qubit_line:48\" d=\"M64,3136 L8384,3136 \" stroke=\"black\"/>\n",
       "<text dominant-baseline=\"central\" text-anchor=\"end\" font-family=\"monospace\" font-size=\"12\" x=\"64\" y=\"3136\">q48</text>\n",
       "<path id=\"qubit_line:49\" d=\"M64,3200 L8384,3200 \" stroke=\"black\"/>\n",
       "<text dominant-baseline=\"central\" text-anchor=\"end\" font-family=\"monospace\" font-size=\"12\" x=\"64\" y=\"3200\">q49</text>\n",
       "<path id=\"qubit_line:50\" d=\"M64,3264 L8384,3264 \" stroke=\"black\"/>\n",
       "<text dominant-baseline=\"central\" text-anchor=\"end\" font-family=\"monospace\" font-size=\"12\" x=\"64\" y=\"3264\">q50</text>\n",
       "<path id=\"qubit_line:51\" d=\"M64,3328 L8384,3328 \" stroke=\"black\"/>\n",
       "<text dominant-baseline=\"central\" text-anchor=\"end\" font-family=\"monospace\" font-size=\"12\" x=\"64\" y=\"3328\">q51</text>\n",
       "<path id=\"qubit_line:52\" d=\"M64,3392 L8384,3392 \" stroke=\"black\"/>\n",
       "<text dominant-baseline=\"central\" text-anchor=\"end\" font-family=\"monospace\" font-size=\"12\" x=\"64\" y=\"3392\">q52</text>\n",
       "<path id=\"qubit_line:53\" d=\"M64,3456 L8384,3456 \" stroke=\"black\"/>\n",
       "<text dominant-baseline=\"central\" text-anchor=\"end\" font-family=\"monospace\" font-size=\"12\" x=\"64\" y=\"3456\">q53</text>\n",
       "<path id=\"qubit_line:54\" d=\"M64,3520 L8384,3520 \" stroke=\"black\"/>\n",
       "<text dominant-baseline=\"central\" text-anchor=\"end\" font-family=\"monospace\" font-size=\"12\" x=\"64\" y=\"3520\">q54</text>\n",
       "<path id=\"qubit_line:55\" d=\"M64,3584 L8384,3584 \" stroke=\"black\"/>\n",
       "<text dominant-baseline=\"central\" text-anchor=\"end\" font-family=\"monospace\" font-size=\"12\" x=\"64\" y=\"3584\">q55</text>\n",
       "<path id=\"qubit_line:56\" d=\"M64,3648 L8384,3648 \" stroke=\"black\"/>\n",
       "<text dominant-baseline=\"central\" text-anchor=\"end\" font-family=\"monospace\" font-size=\"12\" x=\"64\" y=\"3648\">q56</text>\n",
       "<path id=\"qubit_line:57\" d=\"M64,3712 L8384,3712 \" stroke=\"black\"/>\n",
       "<text dominant-baseline=\"central\" text-anchor=\"end\" font-family=\"monospace\" font-size=\"12\" x=\"64\" y=\"3712\">q57</text>\n",
       "<path id=\"qubit_line:58\" d=\"M64,3776 L8384,3776 \" stroke=\"black\"/>\n",
       "<text dominant-baseline=\"central\" text-anchor=\"end\" font-family=\"monospace\" font-size=\"12\" x=\"64\" y=\"3776\">q58</text>\n",
       "<path id=\"qubit_line:59\" d=\"M64,3840 L8384,3840 \" stroke=\"black\"/>\n",
       "<text dominant-baseline=\"central\" text-anchor=\"end\" font-family=\"monospace\" font-size=\"12\" x=\"64\" y=\"3840\">q59</text>\n",
       "<path id=\"qubit_line:60\" d=\"M64,3904 L8384,3904 \" stroke=\"black\"/>\n",
       "<text dominant-baseline=\"central\" text-anchor=\"end\" font-family=\"monospace\" font-size=\"12\" x=\"64\" y=\"3904\">q60</text>\n",
       "<path id=\"qubit_line:61\" d=\"M64,3968 L8384,3968 \" stroke=\"black\"/>\n",
       "<text dominant-baseline=\"central\" text-anchor=\"end\" font-family=\"monospace\" font-size=\"12\" x=\"64\" y=\"3968\">q61</text>\n",
       "<path id=\"qubit_line:62\" d=\"M64,4032 L8384,4032 \" stroke=\"black\"/>\n",
       "<text dominant-baseline=\"central\" text-anchor=\"end\" font-family=\"monospace\" font-size=\"12\" x=\"64\" y=\"4032\">q62</text>\n",
       "<path id=\"qubit_line:63\" d=\"M64,4096 L8384,4096 \" stroke=\"black\"/>\n",
       "<text dominant-baseline=\"central\" text-anchor=\"end\" font-family=\"monospace\" font-size=\"12\" x=\"64\" y=\"4096\">q63</text>\n",
       "<path id=\"qubit_line:64\" d=\"M64,4160 L8384,4160 \" stroke=\"black\"/>\n",
       "<text dominant-baseline=\"central\" text-anchor=\"end\" font-family=\"monospace\" font-size=\"12\" x=\"64\" y=\"4160\">q64</text>\n",
       "<path id=\"qubit_line:65\" d=\"M64,4224 L8384,4224 \" stroke=\"black\"/>\n",
       "<text dominant-baseline=\"central\" text-anchor=\"end\" font-family=\"monospace\" font-size=\"12\" x=\"64\" y=\"4224\">q65</text>\n",
       "<path id=\"qubit_line:66\" d=\"M64,4288 L8384,4288 \" stroke=\"black\"/>\n",
       "<text dominant-baseline=\"central\" text-anchor=\"end\" font-family=\"monospace\" font-size=\"12\" x=\"64\" y=\"4288\">q66</text>\n",
       "<path id=\"qubit_line:67\" d=\"M64,4352 L8384,4352 \" stroke=\"black\"/>\n",
       "<text dominant-baseline=\"central\" text-anchor=\"end\" font-family=\"monospace\" font-size=\"12\" x=\"64\" y=\"4352\">q67</text>\n",
       "<path id=\"qubit_line:68\" d=\"M64,4416 L8384,4416 \" stroke=\"black\"/>\n",
       "<text dominant-baseline=\"central\" text-anchor=\"end\" font-family=\"monospace\" font-size=\"12\" x=\"64\" y=\"4416\">q68</text>\n",
       "<path id=\"qubit_line:69\" d=\"M64,4480 L8384,4480 \" stroke=\"black\"/>\n",
       "<text dominant-baseline=\"central\" text-anchor=\"end\" font-family=\"monospace\" font-size=\"12\" x=\"64\" y=\"4480\">q69</text>\n",
       "<path id=\"qubit_line:70\" d=\"M64,4544 L8384,4544 \" stroke=\"black\"/>\n",
       "<text dominant-baseline=\"central\" text-anchor=\"end\" font-family=\"monospace\" font-size=\"12\" x=\"64\" y=\"4544\">q70</text>\n",
       "<path id=\"qubit_line:71\" d=\"M64,4608 L8384,4608 \" stroke=\"black\"/>\n",
       "<text dominant-baseline=\"central\" text-anchor=\"end\" font-family=\"monospace\" font-size=\"12\" x=\"64\" y=\"4608\">q71</text>\n",
       "<path id=\"qubit_line:72\" d=\"M64,4672 L8384,4672 \" stroke=\"black\"/>\n",
       "<text dominant-baseline=\"central\" text-anchor=\"end\" font-family=\"monospace\" font-size=\"12\" x=\"64\" y=\"4672\">q72</text>\n",
       "<path id=\"qubit_line:73\" d=\"M64,4736 L8384,4736 \" stroke=\"black\"/>\n",
       "<text dominant-baseline=\"central\" text-anchor=\"end\" font-family=\"monospace\" font-size=\"12\" x=\"64\" y=\"4736\">q73</text>\n",
       "<path id=\"qubit_line:74\" d=\"M64,4800 L8384,4800 \" stroke=\"black\"/>\n",
       "<text dominant-baseline=\"central\" text-anchor=\"end\" font-family=\"monospace\" font-size=\"12\" x=\"64\" y=\"4800\">q74</text>\n",
       "<path id=\"qubit_line:75\" d=\"M64,4864 L8384,4864 \" stroke=\"black\"/>\n",
       "<text dominant-baseline=\"central\" text-anchor=\"end\" font-family=\"monospace\" font-size=\"12\" x=\"64\" y=\"4864\">q75</text>\n",
       "<path id=\"qubit_line:76\" d=\"M64,4928 L8384,4928 \" stroke=\"black\"/>\n",
       "<text dominant-baseline=\"central\" text-anchor=\"end\" font-family=\"monospace\" font-size=\"12\" x=\"64\" y=\"4928\">q76</text>\n",
       "<path id=\"qubit_line:77\" d=\"M64,4992 L8384,4992 \" stroke=\"black\"/>\n",
       "<text dominant-baseline=\"central\" text-anchor=\"end\" font-family=\"monospace\" font-size=\"12\" x=\"64\" y=\"4992\">q77</text>\n",
       "<path id=\"qubit_line:78\" d=\"M64,5056 L8384,5056 \" stroke=\"black\"/>\n",
       "<text dominant-baseline=\"central\" text-anchor=\"end\" font-family=\"monospace\" font-size=\"12\" x=\"64\" y=\"5056\">q78</text>\n",
       "<path id=\"qubit_line:79\" d=\"M64,5120 L8384,5120 \" stroke=\"black\"/>\n",
       "<text dominant-baseline=\"central\" text-anchor=\"end\" font-family=\"monospace\" font-size=\"12\" x=\"64\" y=\"5120\">q79</text>\n",
       "<path id=\"qubit_line:80\" d=\"M64,5184 L8384,5184 \" stroke=\"black\"/>\n",
       "<text dominant-baseline=\"central\" text-anchor=\"end\" font-family=\"monospace\" font-size=\"12\" x=\"64\" y=\"5184\">q80</text>\n",
       "<path id=\"qubit_line:81\" d=\"M64,5248 L8384,5248 \" stroke=\"black\"/>\n",
       "<text dominant-baseline=\"central\" text-anchor=\"end\" font-family=\"monospace\" font-size=\"12\" x=\"64\" y=\"5248\">q81</text>\n",
       "<path id=\"qubit_line:82\" d=\"M64,5312 L8384,5312 \" stroke=\"black\"/>\n",
       "<text dominant-baseline=\"central\" text-anchor=\"end\" font-family=\"monospace\" font-size=\"12\" x=\"64\" y=\"5312\">q82</text>\n",
       "<path id=\"qubit_line:83\" d=\"M64,5376 L8384,5376 \" stroke=\"black\"/>\n",
       "<text dominant-baseline=\"central\" text-anchor=\"end\" font-family=\"monospace\" font-size=\"12\" x=\"64\" y=\"5376\">q83</text>\n",
       "<path id=\"qubit_line:84\" d=\"M64,5440 L8384,5440 \" stroke=\"black\"/>\n",
       "<text dominant-baseline=\"central\" text-anchor=\"end\" font-family=\"monospace\" font-size=\"12\" x=\"64\" y=\"5440\">q84</text>\n",
       "<path id=\"qubit_line:85\" d=\"M64,5504 L8384,5504 \" stroke=\"black\"/>\n",
       "<text dominant-baseline=\"central\" text-anchor=\"end\" font-family=\"monospace\" font-size=\"12\" x=\"64\" y=\"5504\">q85</text>\n",
       "<path id=\"qubit_line:86\" d=\"M64,5568 L8384,5568 \" stroke=\"black\"/>\n",
       "<text dominant-baseline=\"central\" text-anchor=\"end\" font-family=\"monospace\" font-size=\"12\" x=\"64\" y=\"5568\">q86</text>\n",
       "<path id=\"qubit_line:87\" d=\"M64,5632 L8384,5632 \" stroke=\"black\"/>\n",
       "<text dominant-baseline=\"central\" text-anchor=\"end\" font-family=\"monospace\" font-size=\"12\" x=\"64\" y=\"5632\">q87</text>\n",
       "<path id=\"qubit_line:88\" d=\"M64,5696 L8384,5696 \" stroke=\"black\"/>\n",
       "<text dominant-baseline=\"central\" text-anchor=\"end\" font-family=\"monospace\" font-size=\"12\" x=\"64\" y=\"5696\">q88</text>\n",
       "<path id=\"qubit_line:89\" d=\"M64,5760 L8384,5760 \" stroke=\"black\"/>\n",
       "<text dominant-baseline=\"central\" text-anchor=\"end\" font-family=\"monospace\" font-size=\"12\" x=\"64\" y=\"5760\">q89</text>\n",
       "<path id=\"qubit_line:90\" d=\"M64,5824 L8384,5824 \" stroke=\"black\"/>\n",
       "<text dominant-baseline=\"central\" text-anchor=\"end\" font-family=\"monospace\" font-size=\"12\" x=\"64\" y=\"5824\">q90</text>\n",
       "<path id=\"qubit_line:91\" d=\"M64,5888 L8384,5888 \" stroke=\"black\"/>\n",
       "<text dominant-baseline=\"central\" text-anchor=\"end\" font-family=\"monospace\" font-size=\"12\" x=\"64\" y=\"5888\">q91</text>\n",
       "<path id=\"qubit_line:92\" d=\"M64,5952 L8384,5952 \" stroke=\"black\"/>\n",
       "<text dominant-baseline=\"central\" text-anchor=\"end\" font-family=\"monospace\" font-size=\"12\" x=\"64\" y=\"5952\">q92</text>\n",
       "<path id=\"qubit_line:93\" d=\"M64,6016 L8384,6016 \" stroke=\"black\"/>\n",
       "<text dominant-baseline=\"central\" text-anchor=\"end\" font-family=\"monospace\" font-size=\"12\" x=\"64\" y=\"6016\">q93</text>\n",
       "<path id=\"qubit_line:94\" d=\"M64,6080 L8384,6080 \" stroke=\"black\"/>\n",
       "<text dominant-baseline=\"central\" text-anchor=\"end\" font-family=\"monospace\" font-size=\"12\" x=\"64\" y=\"6080\">q94</text>\n",
       "<path id=\"qubit_line:95\" d=\"M64,6144 L8384,6144 \" stroke=\"black\"/>\n",
       "<text dominant-baseline=\"central\" text-anchor=\"end\" font-family=\"monospace\" font-size=\"12\" x=\"64\" y=\"6144\">q95</text>\n",
       "<path id=\"qubit_line:96\" d=\"M64,6208 L8384,6208 \" stroke=\"black\"/>\n",
       "<text dominant-baseline=\"central\" text-anchor=\"end\" font-family=\"monospace\" font-size=\"12\" x=\"64\" y=\"6208\">q96</text>\n",
       "<path id=\"qubit_line:97\" d=\"M64,6272 L8384,6272 \" stroke=\"black\"/>\n",
       "<text dominant-baseline=\"central\" text-anchor=\"end\" font-family=\"monospace\" font-size=\"12\" x=\"64\" y=\"6272\">q97</text>\n",
       "<path id=\"qubit_line:98\" d=\"M64,6336 L8384,6336 \" stroke=\"black\"/>\n",
       "<text dominant-baseline=\"central\" text-anchor=\"end\" font-family=\"monospace\" font-size=\"12\" x=\"64\" y=\"6336\">q98</text>\n",
       "<path id=\"qubit_line:99\" d=\"M64,6400 L8384,6400 \" stroke=\"black\"/>\n",
       "<text dominant-baseline=\"central\" text-anchor=\"end\" font-family=\"monospace\" font-size=\"12\" x=\"64\" y=\"6400\">q99</text>\n",
       "<path id=\"qubit_line:100\" d=\"M64,6464 L8384,6464 \" stroke=\"black\"/>\n",
       "<text dominant-baseline=\"central\" text-anchor=\"end\" font-family=\"monospace\" font-size=\"12\" x=\"64\" y=\"6464\">q100</text>\n",
       "<path id=\"qubit_line:101\" d=\"M64,6528 L8384,6528 \" stroke=\"black\"/>\n",
       "<text dominant-baseline=\"central\" text-anchor=\"end\" font-family=\"monospace\" font-size=\"12\" x=\"64\" y=\"6528\">q101</text>\n",
       "<path id=\"qubit_line:102\" d=\"M64,6592 L8384,6592 \" stroke=\"black\"/>\n",
       "<text dominant-baseline=\"central\" text-anchor=\"end\" font-family=\"monospace\" font-size=\"12\" x=\"64\" y=\"6592\">q102</text>\n",
       "<path id=\"qubit_line:103\" d=\"M64,6656 L8384,6656 \" stroke=\"black\"/>\n",
       "<text dominant-baseline=\"central\" text-anchor=\"end\" font-family=\"monospace\" font-size=\"12\" x=\"64\" y=\"6656\">q103</text>\n",
       "<path id=\"qubit_line:104\" d=\"M64,6720 L8384,6720 \" stroke=\"black\"/>\n",
       "<text dominant-baseline=\"central\" text-anchor=\"end\" font-family=\"monospace\" font-size=\"12\" x=\"64\" y=\"6720\">q104</text>\n",
       "</g>\n",
       "<rect x=\"80\" y=\"48\" width=\"224\" height=\"32\" stroke=\"black\" fill=\"white\"/>\n",
       "<text dominant-baseline=\"central\" text-anchor=\"middle\" font-family=\"monospace\" font-size=\"16\" x=\"192\" y=\"64\">COORDS(0,0)</text>\n",
       "<rect x=\"80\" y=\"112\" width=\"224\" height=\"32\" stroke=\"black\" fill=\"white\"/>\n",
       "<text dominant-baseline=\"central\" text-anchor=\"middle\" font-family=\"monospace\" font-size=\"16\" x=\"192\" y=\"128\">COORDS(1,0)</text>\n",
       "<rect x=\"80\" y=\"176\" width=\"224\" height=\"32\" stroke=\"black\" fill=\"white\"/>\n",
       "<text dominant-baseline=\"central\" text-anchor=\"middle\" font-family=\"monospace\" font-size=\"16\" x=\"192\" y=\"192\">COORDS(2,0)</text>\n",
       "<rect x=\"80\" y=\"240\" width=\"224\" height=\"32\" stroke=\"black\" fill=\"white\"/>\n",
       "<text dominant-baseline=\"central\" text-anchor=\"middle\" font-family=\"monospace\" font-size=\"16\" x=\"192\" y=\"256\">COORDS(3,0)</text>\n",
       "<rect x=\"80\" y=\"304\" width=\"224\" height=\"32\" stroke=\"black\" fill=\"white\"/>\n",
       "<text dominant-baseline=\"central\" text-anchor=\"middle\" font-family=\"monospace\" font-size=\"16\" x=\"192\" y=\"320\">COORDS(4,0)</text>\n",
       "<rect x=\"80\" y=\"368\" width=\"224\" height=\"32\" stroke=\"black\" fill=\"white\"/>\n",
       "<text dominant-baseline=\"central\" text-anchor=\"middle\" font-family=\"monospace\" font-size=\"16\" x=\"192\" y=\"384\">COORDS(5,0)</text>\n",
       "<rect x=\"80\" y=\"432\" width=\"224\" height=\"32\" stroke=\"black\" fill=\"white\"/>\n",
       "<text dominant-baseline=\"central\" text-anchor=\"middle\" font-family=\"monospace\" font-size=\"16\" x=\"192\" y=\"448\">COORDS(6,0)</text>\n",
       "<rect x=\"80\" y=\"496\" width=\"224\" height=\"32\" stroke=\"black\" fill=\"white\"/>\n",
       "<text dominant-baseline=\"central\" text-anchor=\"middle\" font-family=\"monospace\" font-size=\"16\" x=\"192\" y=\"512\">COORDS(7,0)</text>\n",
       "<rect x=\"80\" y=\"560\" width=\"224\" height=\"32\" stroke=\"black\" fill=\"white\"/>\n",
       "<text dominant-baseline=\"central\" text-anchor=\"middle\" font-family=\"monospace\" font-size=\"16\" x=\"192\" y=\"576\">COORDS(8,0)</text>\n",
       "<rect x=\"80\" y=\"624\" width=\"224\" height=\"32\" stroke=\"black\" fill=\"white\"/>\n",
       "<text dominant-baseline=\"central\" text-anchor=\"middle\" font-family=\"monospace\" font-size=\"16\" x=\"192\" y=\"640\">COORDS(0,1)</text>\n",
       "<rect x=\"80\" y=\"688\" width=\"224\" height=\"32\" stroke=\"black\" fill=\"white\"/>\n",
       "<text dominant-baseline=\"central\" text-anchor=\"middle\" font-family=\"monospace\" font-size=\"16\" x=\"192\" y=\"704\">COORDS(1,1)</text>\n",
       "<rect x=\"80\" y=\"752\" width=\"224\" height=\"32\" stroke=\"black\" fill=\"white\"/>\n",
       "<text dominant-baseline=\"central\" text-anchor=\"middle\" font-family=\"monospace\" font-size=\"16\" x=\"192\" y=\"768\">COORDS(2,1)</text>\n",
       "<rect x=\"80\" y=\"816\" width=\"224\" height=\"32\" stroke=\"black\" fill=\"white\"/>\n",
       "<text dominant-baseline=\"central\" text-anchor=\"middle\" font-family=\"monospace\" font-size=\"16\" x=\"192\" y=\"832\">COORDS(3,1)</text>\n",
       "<rect x=\"80\" y=\"880\" width=\"224\" height=\"32\" stroke=\"black\" fill=\"white\"/>\n",
       "<text dominant-baseline=\"central\" text-anchor=\"middle\" font-family=\"monospace\" font-size=\"16\" x=\"192\" y=\"896\">COORDS(4,1)</text>\n",
       "<rect x=\"80\" y=\"944\" width=\"224\" height=\"32\" stroke=\"black\" fill=\"white\"/>\n",
       "<text dominant-baseline=\"central\" text-anchor=\"middle\" font-family=\"monospace\" font-size=\"16\" x=\"192\" y=\"960\">COORDS(5,1)</text>\n",
       "<rect x=\"80\" y=\"1008\" width=\"224\" height=\"32\" stroke=\"black\" fill=\"white\"/>\n",
       "<text dominant-baseline=\"central\" text-anchor=\"middle\" font-family=\"monospace\" font-size=\"16\" x=\"192\" y=\"1024\">COORDS(6,1)</text>\n",
       "<rect x=\"80\" y=\"1072\" width=\"224\" height=\"32\" stroke=\"black\" fill=\"white\"/>\n",
       "<text dominant-baseline=\"central\" text-anchor=\"middle\" font-family=\"monospace\" font-size=\"16\" x=\"192\" y=\"1088\">COORDS(7,1)</text>\n",
       "<rect x=\"80\" y=\"1136\" width=\"224\" height=\"32\" stroke=\"black\" fill=\"white\"/>\n",
       "<text dominant-baseline=\"central\" text-anchor=\"middle\" font-family=\"monospace\" font-size=\"16\" x=\"192\" y=\"1152\">COORDS(8,1)</text>\n",
       "<rect x=\"80\" y=\"1200\" width=\"224\" height=\"32\" stroke=\"black\" fill=\"white\"/>\n",
       "<text dominant-baseline=\"central\" text-anchor=\"middle\" font-family=\"monospace\" font-size=\"16\" x=\"192\" y=\"1216\">COORDS(0,2)</text>\n",
       "<rect x=\"80\" y=\"1264\" width=\"224\" height=\"32\" stroke=\"black\" fill=\"white\"/>\n",
       "<text dominant-baseline=\"central\" text-anchor=\"middle\" font-family=\"monospace\" font-size=\"16\" x=\"192\" y=\"1280\">COORDS(1,2)</text>\n",
       "<rect x=\"80\" y=\"1328\" width=\"224\" height=\"32\" stroke=\"black\" fill=\"white\"/>\n",
       "<text dominant-baseline=\"central\" text-anchor=\"middle\" font-family=\"monospace\" font-size=\"16\" x=\"192\" y=\"1344\">COORDS(2,2)</text>\n",
       "<rect x=\"80\" y=\"1392\" width=\"224\" height=\"32\" stroke=\"black\" fill=\"white\"/>\n",
       "<text dominant-baseline=\"central\" text-anchor=\"middle\" font-family=\"monospace\" font-size=\"16\" x=\"192\" y=\"1408\">COORDS(3,2)</text>\n",
       "<rect x=\"80\" y=\"1456\" width=\"224\" height=\"32\" stroke=\"black\" fill=\"white\"/>\n",
       "<text dominant-baseline=\"central\" text-anchor=\"middle\" font-family=\"monospace\" font-size=\"16\" x=\"192\" y=\"1472\">COORDS(4,2)</text>\n",
       "<rect x=\"80\" y=\"1520\" width=\"224\" height=\"32\" stroke=\"black\" fill=\"white\"/>\n",
       "<text dominant-baseline=\"central\" text-anchor=\"middle\" font-family=\"monospace\" font-size=\"16\" x=\"192\" y=\"1536\">COORDS(5,2)</text>\n",
       "<rect x=\"80\" y=\"1584\" width=\"224\" height=\"32\" stroke=\"black\" fill=\"white\"/>\n",
       "<text dominant-baseline=\"central\" text-anchor=\"middle\" font-family=\"monospace\" font-size=\"16\" x=\"192\" y=\"1600\">COORDS(6,2)</text>\n",
       "<rect x=\"80\" y=\"1648\" width=\"224\" height=\"32\" stroke=\"black\" fill=\"white\"/>\n",
       "<text dominant-baseline=\"central\" text-anchor=\"middle\" font-family=\"monospace\" font-size=\"16\" x=\"192\" y=\"1664\">COORDS(7,2)</text>\n",
       "<rect x=\"80\" y=\"1712\" width=\"224\" height=\"32\" stroke=\"black\" fill=\"white\"/>\n",
       "<text dominant-baseline=\"central\" text-anchor=\"middle\" font-family=\"monospace\" font-size=\"16\" x=\"192\" y=\"1728\">COORDS(8,2)</text>\n",
       "<rect x=\"80\" y=\"1776\" width=\"224\" height=\"32\" stroke=\"black\" fill=\"white\"/>\n",
       "<text dominant-baseline=\"central\" text-anchor=\"middle\" font-family=\"monospace\" font-size=\"16\" x=\"192\" y=\"1792\">COORDS(0,3)</text>\n",
       "<rect x=\"80\" y=\"1840\" width=\"224\" height=\"32\" stroke=\"black\" fill=\"white\"/>\n",
       "<text dominant-baseline=\"central\" text-anchor=\"middle\" font-family=\"monospace\" font-size=\"16\" x=\"192\" y=\"1856\">COORDS(1,3)</text>\n",
       "<rect x=\"80\" y=\"1904\" width=\"224\" height=\"32\" stroke=\"black\" fill=\"white\"/>\n",
       "<text dominant-baseline=\"central\" text-anchor=\"middle\" font-family=\"monospace\" font-size=\"16\" x=\"192\" y=\"1920\">COORDS(2,3)</text>\n",
       "<rect x=\"80\" y=\"1968\" width=\"224\" height=\"32\" stroke=\"black\" fill=\"white\"/>\n",
       "<text dominant-baseline=\"central\" text-anchor=\"middle\" font-family=\"monospace\" font-size=\"16\" x=\"192\" y=\"1984\">COORDS(3,3)</text>\n",
       "<rect x=\"80\" y=\"2032\" width=\"224\" height=\"32\" stroke=\"black\" fill=\"white\"/>\n",
       "<text dominant-baseline=\"central\" text-anchor=\"middle\" font-family=\"monospace\" font-size=\"16\" x=\"192\" y=\"2048\">COORDS(4,3)</text>\n",
       "<rect x=\"80\" y=\"2096\" width=\"224\" height=\"32\" stroke=\"black\" fill=\"white\"/>\n",
       "<text dominant-baseline=\"central\" text-anchor=\"middle\" font-family=\"monospace\" font-size=\"16\" x=\"192\" y=\"2112\">COORDS(5,3)</text>\n",
       "<rect x=\"80\" y=\"2160\" width=\"224\" height=\"32\" stroke=\"black\" fill=\"white\"/>\n",
       "<text dominant-baseline=\"central\" text-anchor=\"middle\" font-family=\"monospace\" font-size=\"16\" x=\"192\" y=\"2176\">COORDS(6,3)</text>\n",
       "<rect x=\"80\" y=\"2224\" width=\"224\" height=\"32\" stroke=\"black\" fill=\"white\"/>\n",
       "<text dominant-baseline=\"central\" text-anchor=\"middle\" font-family=\"monospace\" font-size=\"16\" x=\"192\" y=\"2240\">COORDS(7,3)</text>\n",
       "<rect x=\"80\" y=\"2288\" width=\"224\" height=\"32\" stroke=\"black\" fill=\"white\"/>\n",
       "<text dominant-baseline=\"central\" text-anchor=\"middle\" font-family=\"monospace\" font-size=\"16\" x=\"192\" y=\"2304\">COORDS(8,3)</text>\n",
       "<rect x=\"80\" y=\"2352\" width=\"224\" height=\"32\" stroke=\"black\" fill=\"white\"/>\n",
       "<text dominant-baseline=\"central\" text-anchor=\"middle\" font-family=\"monospace\" font-size=\"16\" x=\"192\" y=\"2368\">COORDS(0,4)</text>\n",
       "<rect x=\"80\" y=\"2416\" width=\"224\" height=\"32\" stroke=\"black\" fill=\"white\"/>\n",
       "<text dominant-baseline=\"central\" text-anchor=\"middle\" font-family=\"monospace\" font-size=\"16\" x=\"192\" y=\"2432\">COORDS(1,4)</text>\n",
       "<rect x=\"80\" y=\"2480\" width=\"224\" height=\"32\" stroke=\"black\" fill=\"white\"/>\n",
       "<text dominant-baseline=\"central\" text-anchor=\"middle\" font-family=\"monospace\" font-size=\"16\" x=\"192\" y=\"2496\">COORDS(2,4)</text>\n",
       "<rect x=\"80\" y=\"2544\" width=\"224\" height=\"32\" stroke=\"black\" fill=\"white\"/>\n",
       "<text dominant-baseline=\"central\" text-anchor=\"middle\" font-family=\"monospace\" font-size=\"16\" x=\"192\" y=\"2560\">COORDS(3,4)</text>\n",
       "<rect x=\"80\" y=\"2608\" width=\"224\" height=\"32\" stroke=\"black\" fill=\"white\"/>\n",
       "<text dominant-baseline=\"central\" text-anchor=\"middle\" font-family=\"monospace\" font-size=\"16\" x=\"192\" y=\"2624\">COORDS(4,4)</text>\n",
       "<rect x=\"80\" y=\"2672\" width=\"224\" height=\"32\" stroke=\"black\" fill=\"white\"/>\n",
       "<text dominant-baseline=\"central\" text-anchor=\"middle\" font-family=\"monospace\" font-size=\"16\" x=\"192\" y=\"2688\">COORDS(5,4)</text>\n",
       "<rect x=\"80\" y=\"2736\" width=\"224\" height=\"32\" stroke=\"black\" fill=\"white\"/>\n",
       "<text dominant-baseline=\"central\" text-anchor=\"middle\" font-family=\"monospace\" font-size=\"16\" x=\"192\" y=\"2752\">COORDS(6,4)</text>\n",
       "<rect x=\"80\" y=\"2800\" width=\"224\" height=\"32\" stroke=\"black\" fill=\"white\"/>\n",
       "<text dominant-baseline=\"central\" text-anchor=\"middle\" font-family=\"monospace\" font-size=\"16\" x=\"192\" y=\"2816\">COORDS(7,4)</text>\n",
       "<rect x=\"80\" y=\"2864\" width=\"224\" height=\"32\" stroke=\"black\" fill=\"white\"/>\n",
       "<text dominant-baseline=\"central\" text-anchor=\"middle\" font-family=\"monospace\" font-size=\"16\" x=\"192\" y=\"2880\">COORDS(8,4)</text>\n",
       "<rect x=\"80\" y=\"2928\" width=\"224\" height=\"32\" stroke=\"black\" fill=\"white\"/>\n",
       "<text dominant-baseline=\"central\" text-anchor=\"middle\" font-family=\"monospace\" font-size=\"16\" x=\"192\" y=\"2944\">COORDS(-0.5,-0.5)</text>\n",
       "<rect x=\"80\" y=\"2992\" width=\"224\" height=\"32\" stroke=\"black\" fill=\"white\"/>\n",
       "<text dominant-baseline=\"central\" text-anchor=\"middle\" font-family=\"monospace\" font-size=\"16\" x=\"192\" y=\"3008\">COORDS(0.5,-0.5)</text>\n",
       "<rect x=\"80\" y=\"3056\" width=\"224\" height=\"32\" stroke=\"black\" fill=\"white\"/>\n",
       "<text dominant-baseline=\"central\" text-anchor=\"middle\" font-family=\"monospace\" font-size=\"16\" x=\"192\" y=\"3072\">COORDS(1.5,-0.5)</text>\n",
       "<rect x=\"80\" y=\"3120\" width=\"224\" height=\"32\" stroke=\"black\" fill=\"white\"/>\n",
       "<text dominant-baseline=\"central\" text-anchor=\"middle\" font-family=\"monospace\" font-size=\"16\" x=\"192\" y=\"3136\">COORDS(2.5,-0.5)</text>\n",
       "<rect x=\"80\" y=\"3184\" width=\"224\" height=\"32\" stroke=\"black\" fill=\"white\"/>\n",
       "<text dominant-baseline=\"central\" text-anchor=\"middle\" font-family=\"monospace\" font-size=\"16\" x=\"192\" y=\"3200\">COORDS(3.5,-0.5)</text>\n",
       "<rect x=\"80\" y=\"3248\" width=\"224\" height=\"32\" stroke=\"black\" fill=\"white\"/>\n",
       "<text dominant-baseline=\"central\" text-anchor=\"middle\" font-family=\"monospace\" font-size=\"16\" x=\"192\" y=\"3264\">COORDS(4.5,-0.5)</text>\n",
       "<rect x=\"80\" y=\"3312\" width=\"224\" height=\"32\" stroke=\"black\" fill=\"white\"/>\n",
       "<text dominant-baseline=\"central\" text-anchor=\"middle\" font-family=\"monospace\" font-size=\"16\" x=\"192\" y=\"3328\">COORDS(5.5,-0.5)</text>\n",
       "<rect x=\"80\" y=\"3376\" width=\"224\" height=\"32\" stroke=\"black\" fill=\"white\"/>\n",
       "<text dominant-baseline=\"central\" text-anchor=\"middle\" font-family=\"monospace\" font-size=\"16\" x=\"192\" y=\"3392\">COORDS(6.5,-0.5)</text>\n",
       "<rect x=\"80\" y=\"3440\" width=\"224\" height=\"32\" stroke=\"black\" fill=\"white\"/>\n",
       "<text dominant-baseline=\"central\" text-anchor=\"middle\" font-family=\"monospace\" font-size=\"16\" x=\"192\" y=\"3456\">COORDS(7.5,-0.5)</text>\n",
       "<rect x=\"80\" y=\"3504\" width=\"224\" height=\"32\" stroke=\"black\" fill=\"white\"/>\n",
       "<text dominant-baseline=\"central\" text-anchor=\"middle\" font-family=\"monospace\" font-size=\"16\" x=\"192\" y=\"3520\">COORDS(8.5,-0.5)</text>\n",
       "<rect x=\"80\" y=\"3568\" width=\"224\" height=\"32\" stroke=\"black\" fill=\"white\"/>\n",
       "<text dominant-baseline=\"central\" text-anchor=\"middle\" font-family=\"monospace\" font-size=\"16\" x=\"192\" y=\"3584\">COORDS(-0.5,0.5)</text>\n",
       "<rect x=\"80\" y=\"3632\" width=\"224\" height=\"32\" stroke=\"black\" fill=\"white\"/>\n",
       "<text dominant-baseline=\"central\" text-anchor=\"middle\" font-family=\"monospace\" font-size=\"16\" x=\"192\" y=\"3648\">COORDS(0.5,0.5)</text>\n",
       "<rect x=\"80\" y=\"3696\" width=\"224\" height=\"32\" stroke=\"black\" fill=\"white\"/>\n",
       "<text dominant-baseline=\"central\" text-anchor=\"middle\" font-family=\"monospace\" font-size=\"16\" x=\"192\" y=\"3712\">COORDS(1.5,0.5)</text>\n",
       "<rect x=\"80\" y=\"3760\" width=\"224\" height=\"32\" stroke=\"black\" fill=\"white\"/>\n",
       "<text dominant-baseline=\"central\" text-anchor=\"middle\" font-family=\"monospace\" font-size=\"16\" x=\"192\" y=\"3776\">COORDS(2.5,0.5)</text>\n",
       "<rect x=\"80\" y=\"3824\" width=\"224\" height=\"32\" stroke=\"black\" fill=\"white\"/>\n",
       "<text dominant-baseline=\"central\" text-anchor=\"middle\" font-family=\"monospace\" font-size=\"16\" x=\"192\" y=\"3840\">COORDS(3.5,0.5)</text>\n",
       "<rect x=\"80\" y=\"3888\" width=\"224\" height=\"32\" stroke=\"black\" fill=\"white\"/>\n",
       "<text dominant-baseline=\"central\" text-anchor=\"middle\" font-family=\"monospace\" font-size=\"16\" x=\"192\" y=\"3904\">COORDS(4.5,0.5)</text>\n",
       "<rect x=\"80\" y=\"3952\" width=\"224\" height=\"32\" stroke=\"black\" fill=\"white\"/>\n",
       "<text dominant-baseline=\"central\" text-anchor=\"middle\" font-family=\"monospace\" font-size=\"16\" x=\"192\" y=\"3968\">COORDS(5.5,0.5)</text>\n",
       "<rect x=\"80\" y=\"4016\" width=\"224\" height=\"32\" stroke=\"black\" fill=\"white\"/>\n",
       "<text dominant-baseline=\"central\" text-anchor=\"middle\" font-family=\"monospace\" font-size=\"16\" x=\"192\" y=\"4032\">COORDS(6.5,0.5)</text>\n",
       "<rect x=\"80\" y=\"4080\" width=\"224\" height=\"32\" stroke=\"black\" fill=\"white\"/>\n",
       "<text dominant-baseline=\"central\" text-anchor=\"middle\" font-family=\"monospace\" font-size=\"16\" x=\"192\" y=\"4096\">COORDS(7.5,0.5)</text>\n",
       "<rect x=\"80\" y=\"4144\" width=\"224\" height=\"32\" stroke=\"black\" fill=\"white\"/>\n",
       "<text dominant-baseline=\"central\" text-anchor=\"middle\" font-family=\"monospace\" font-size=\"16\" x=\"192\" y=\"4160\">COORDS(8.5,0.5)</text>\n",
       "<rect x=\"80\" y=\"4208\" width=\"224\" height=\"32\" stroke=\"black\" fill=\"white\"/>\n",
       "<text dominant-baseline=\"central\" text-anchor=\"middle\" font-family=\"monospace\" font-size=\"16\" x=\"192\" y=\"4224\">COORDS(-0.5,1.5)</text>\n",
       "<rect x=\"80\" y=\"4272\" width=\"224\" height=\"32\" stroke=\"black\" fill=\"white\"/>\n",
       "<text dominant-baseline=\"central\" text-anchor=\"middle\" font-family=\"monospace\" font-size=\"16\" x=\"192\" y=\"4288\">COORDS(0.5,1.5)</text>\n",
       "<rect x=\"80\" y=\"4336\" width=\"224\" height=\"32\" stroke=\"black\" fill=\"white\"/>\n",
       "<text dominant-baseline=\"central\" text-anchor=\"middle\" font-family=\"monospace\" font-size=\"16\" x=\"192\" y=\"4352\">COORDS(1.5,1.5)</text>\n",
       "<rect x=\"80\" y=\"4400\" width=\"224\" height=\"32\" stroke=\"black\" fill=\"white\"/>\n",
       "<text dominant-baseline=\"central\" text-anchor=\"middle\" font-family=\"monospace\" font-size=\"16\" x=\"192\" y=\"4416\">COORDS(2.5,1.5)</text>\n",
       "<rect x=\"80\" y=\"4464\" width=\"224\" height=\"32\" stroke=\"black\" fill=\"white\"/>\n",
       "<text dominant-baseline=\"central\" text-anchor=\"middle\" font-family=\"monospace\" font-size=\"16\" x=\"192\" y=\"4480\">COORDS(3.5,1.5)</text>\n",
       "<rect x=\"80\" y=\"4528\" width=\"224\" height=\"32\" stroke=\"black\" fill=\"white\"/>\n",
       "<text dominant-baseline=\"central\" text-anchor=\"middle\" font-family=\"monospace\" font-size=\"16\" x=\"192\" y=\"4544\">COORDS(4.5,1.5)</text>\n",
       "<rect x=\"80\" y=\"4592\" width=\"224\" height=\"32\" stroke=\"black\" fill=\"white\"/>\n",
       "<text dominant-baseline=\"central\" text-anchor=\"middle\" font-family=\"monospace\" font-size=\"16\" x=\"192\" y=\"4608\">COORDS(5.5,1.5)</text>\n",
       "<rect x=\"80\" y=\"4656\" width=\"224\" height=\"32\" stroke=\"black\" fill=\"white\"/>\n",
       "<text dominant-baseline=\"central\" text-anchor=\"middle\" font-family=\"monospace\" font-size=\"16\" x=\"192\" y=\"4672\">COORDS(6.5,1.5)</text>\n",
       "<rect x=\"80\" y=\"4720\" width=\"224\" height=\"32\" stroke=\"black\" fill=\"white\"/>\n",
       "<text dominant-baseline=\"central\" text-anchor=\"middle\" font-family=\"monospace\" font-size=\"16\" x=\"192\" y=\"4736\">COORDS(7.5,1.5)</text>\n",
       "<rect x=\"80\" y=\"4784\" width=\"224\" height=\"32\" stroke=\"black\" fill=\"white\"/>\n",
       "<text dominant-baseline=\"central\" text-anchor=\"middle\" font-family=\"monospace\" font-size=\"16\" x=\"192\" y=\"4800\">COORDS(8.5,1.5)</text>\n",
       "<rect x=\"80\" y=\"4848\" width=\"224\" height=\"32\" stroke=\"black\" fill=\"white\"/>\n",
       "<text dominant-baseline=\"central\" text-anchor=\"middle\" font-family=\"monospace\" font-size=\"16\" x=\"192\" y=\"4864\">COORDS(-0.5,2.5)</text>\n",
       "<rect x=\"80\" y=\"4912\" width=\"224\" height=\"32\" stroke=\"black\" fill=\"white\"/>\n",
       "<text dominant-baseline=\"central\" text-anchor=\"middle\" font-family=\"monospace\" font-size=\"16\" x=\"192\" y=\"4928\">COORDS(0.5,2.5)</text>\n",
       "<rect x=\"80\" y=\"4976\" width=\"224\" height=\"32\" stroke=\"black\" fill=\"white\"/>\n",
       "<text dominant-baseline=\"central\" text-anchor=\"middle\" font-family=\"monospace\" font-size=\"16\" x=\"192\" y=\"4992\">COORDS(1.5,2.5)</text>\n",
       "<rect x=\"80\" y=\"5040\" width=\"224\" height=\"32\" stroke=\"black\" fill=\"white\"/>\n",
       "<text dominant-baseline=\"central\" text-anchor=\"middle\" font-family=\"monospace\" font-size=\"16\" x=\"192\" y=\"5056\">COORDS(2.5,2.5)</text>\n",
       "<rect x=\"80\" y=\"5104\" width=\"224\" height=\"32\" stroke=\"black\" fill=\"white\"/>\n",
       "<text dominant-baseline=\"central\" text-anchor=\"middle\" font-family=\"monospace\" font-size=\"16\" x=\"192\" y=\"5120\">COORDS(3.5,2.5)</text>\n",
       "<rect x=\"80\" y=\"5168\" width=\"224\" height=\"32\" stroke=\"black\" fill=\"white\"/>\n",
       "<text dominant-baseline=\"central\" text-anchor=\"middle\" font-family=\"monospace\" font-size=\"16\" x=\"192\" y=\"5184\">COORDS(4.5,2.5)</text>\n",
       "<rect x=\"80\" y=\"5232\" width=\"224\" height=\"32\" stroke=\"black\" fill=\"white\"/>\n",
       "<text dominant-baseline=\"central\" text-anchor=\"middle\" font-family=\"monospace\" font-size=\"16\" x=\"192\" y=\"5248\">COORDS(5.5,2.5)</text>\n",
       "<rect x=\"80\" y=\"5296\" width=\"224\" height=\"32\" stroke=\"black\" fill=\"white\"/>\n",
       "<text dominant-baseline=\"central\" text-anchor=\"middle\" font-family=\"monospace\" font-size=\"16\" x=\"192\" y=\"5312\">COORDS(6.5,2.5)</text>\n",
       "<rect x=\"80\" y=\"5360\" width=\"224\" height=\"32\" stroke=\"black\" fill=\"white\"/>\n",
       "<text dominant-baseline=\"central\" text-anchor=\"middle\" font-family=\"monospace\" font-size=\"16\" x=\"192\" y=\"5376\">COORDS(7.5,2.5)</text>\n",
       "<rect x=\"80\" y=\"5424\" width=\"224\" height=\"32\" stroke=\"black\" fill=\"white\"/>\n",
       "<text dominant-baseline=\"central\" text-anchor=\"middle\" font-family=\"monospace\" font-size=\"16\" x=\"192\" y=\"5440\">COORDS(8.5,2.5)</text>\n",
       "<rect x=\"80\" y=\"5488\" width=\"224\" height=\"32\" stroke=\"black\" fill=\"white\"/>\n",
       "<text dominant-baseline=\"central\" text-anchor=\"middle\" font-family=\"monospace\" font-size=\"16\" x=\"192\" y=\"5504\">COORDS(-0.5,3.5)</text>\n",
       "<rect x=\"80\" y=\"5552\" width=\"224\" height=\"32\" stroke=\"black\" fill=\"white\"/>\n",
       "<text dominant-baseline=\"central\" text-anchor=\"middle\" font-family=\"monospace\" font-size=\"16\" x=\"192\" y=\"5568\">COORDS(0.5,3.5)</text>\n",
       "<rect x=\"80\" y=\"5616\" width=\"224\" height=\"32\" stroke=\"black\" fill=\"white\"/>\n",
       "<text dominant-baseline=\"central\" text-anchor=\"middle\" font-family=\"monospace\" font-size=\"16\" x=\"192\" y=\"5632\">COORDS(1.5,3.5)</text>\n",
       "<rect x=\"80\" y=\"5680\" width=\"224\" height=\"32\" stroke=\"black\" fill=\"white\"/>\n",
       "<text dominant-baseline=\"central\" text-anchor=\"middle\" font-family=\"monospace\" font-size=\"16\" x=\"192\" y=\"5696\">COORDS(2.5,3.5)</text>\n",
       "<rect x=\"80\" y=\"5744\" width=\"224\" height=\"32\" stroke=\"black\" fill=\"white\"/>\n",
       "<text dominant-baseline=\"central\" text-anchor=\"middle\" font-family=\"monospace\" font-size=\"16\" x=\"192\" y=\"5760\">COORDS(3.5,3.5)</text>\n",
       "<rect x=\"80\" y=\"5808\" width=\"224\" height=\"32\" stroke=\"black\" fill=\"white\"/>\n",
       "<text dominant-baseline=\"central\" text-anchor=\"middle\" font-family=\"monospace\" font-size=\"16\" x=\"192\" y=\"5824\">COORDS(4.5,3.5)</text>\n",
       "<rect x=\"80\" y=\"5872\" width=\"224\" height=\"32\" stroke=\"black\" fill=\"white\"/>\n",
       "<text dominant-baseline=\"central\" text-anchor=\"middle\" font-family=\"monospace\" font-size=\"16\" x=\"192\" y=\"5888\">COORDS(5.5,3.5)</text>\n",
       "<rect x=\"80\" y=\"5936\" width=\"224\" height=\"32\" stroke=\"black\" fill=\"white\"/>\n",
       "<text dominant-baseline=\"central\" text-anchor=\"middle\" font-family=\"monospace\" font-size=\"16\" x=\"192\" y=\"5952\">COORDS(6.5,3.5)</text>\n",
       "<rect x=\"80\" y=\"6000\" width=\"224\" height=\"32\" stroke=\"black\" fill=\"white\"/>\n",
       "<text dominant-baseline=\"central\" text-anchor=\"middle\" font-family=\"monospace\" font-size=\"16\" x=\"192\" y=\"6016\">COORDS(7.5,3.5)</text>\n",
       "<rect x=\"80\" y=\"6064\" width=\"224\" height=\"32\" stroke=\"black\" fill=\"white\"/>\n",
       "<text dominant-baseline=\"central\" text-anchor=\"middle\" font-family=\"monospace\" font-size=\"16\" x=\"192\" y=\"6080\">COORDS(8.5,3.5)</text>\n",
       "<rect x=\"80\" y=\"6128\" width=\"224\" height=\"32\" stroke=\"black\" fill=\"white\"/>\n",
       "<text dominant-baseline=\"central\" text-anchor=\"middle\" font-family=\"monospace\" font-size=\"16\" x=\"192\" y=\"6144\">COORDS(-0.5,4.5)</text>\n",
       "<rect x=\"80\" y=\"6192\" width=\"224\" height=\"32\" stroke=\"black\" fill=\"white\"/>\n",
       "<text dominant-baseline=\"central\" text-anchor=\"middle\" font-family=\"monospace\" font-size=\"16\" x=\"192\" y=\"6208\">COORDS(0.5,4.5)</text>\n",
       "<rect x=\"80\" y=\"6256\" width=\"224\" height=\"32\" stroke=\"black\" fill=\"white\"/>\n",
       "<text dominant-baseline=\"central\" text-anchor=\"middle\" font-family=\"monospace\" font-size=\"16\" x=\"192\" y=\"6272\">COORDS(1.5,4.5)</text>\n",
       "<rect x=\"80\" y=\"6320\" width=\"224\" height=\"32\" stroke=\"black\" fill=\"white\"/>\n",
       "<text dominant-baseline=\"central\" text-anchor=\"middle\" font-family=\"monospace\" font-size=\"16\" x=\"192\" y=\"6336\">COORDS(2.5,4.5)</text>\n",
       "<rect x=\"80\" y=\"6384\" width=\"224\" height=\"32\" stroke=\"black\" fill=\"white\"/>\n",
       "<text dominant-baseline=\"central\" text-anchor=\"middle\" font-family=\"monospace\" font-size=\"16\" x=\"192\" y=\"6400\">COORDS(3.5,4.5)</text>\n",
       "<rect x=\"80\" y=\"6448\" width=\"224\" height=\"32\" stroke=\"black\" fill=\"white\"/>\n",
       "<text dominant-baseline=\"central\" text-anchor=\"middle\" font-family=\"monospace\" font-size=\"16\" x=\"192\" y=\"6464\">COORDS(4.5,4.5)</text>\n",
       "<rect x=\"80\" y=\"6512\" width=\"224\" height=\"32\" stroke=\"black\" fill=\"white\"/>\n",
       "<text dominant-baseline=\"central\" text-anchor=\"middle\" font-family=\"monospace\" font-size=\"16\" x=\"192\" y=\"6528\">COORDS(5.5,4.5)</text>\n",
       "<rect x=\"80\" y=\"6576\" width=\"224\" height=\"32\" stroke=\"black\" fill=\"white\"/>\n",
       "<text dominant-baseline=\"central\" text-anchor=\"middle\" font-family=\"monospace\" font-size=\"16\" x=\"192\" y=\"6592\">COORDS(6.5,4.5)</text>\n",
       "<rect x=\"80\" y=\"6640\" width=\"224\" height=\"32\" stroke=\"black\" fill=\"white\"/>\n",
       "<text dominant-baseline=\"central\" text-anchor=\"middle\" font-family=\"monospace\" font-size=\"16\" x=\"192\" y=\"6656\">COORDS(7.5,4.5)</text>\n",
       "<rect x=\"80\" y=\"6704\" width=\"224\" height=\"32\" stroke=\"black\" fill=\"white\"/>\n",
       "<text dominant-baseline=\"central\" text-anchor=\"middle\" font-family=\"monospace\" font-size=\"16\" x=\"192\" y=\"6720\">COORDS(8.5,4.5)</text>\n",
       "<rect x=\"336\" y=\"112\" width=\"32\" height=\"32\" stroke=\"black\" fill=\"black\"/>\n",
       "<text dominant-baseline=\"central\" text-anchor=\"middle\" font-family=\"monospace\" font-size=\"30\" x=\"352\" y=\"128\" fill=\"white\">R</text>\n",
       "<rect x=\"336\" y=\"176\" width=\"32\" height=\"32\" stroke=\"black\" fill=\"black\"/>\n",
       "<text dominant-baseline=\"central\" text-anchor=\"middle\" font-family=\"monospace\" font-size=\"30\" x=\"352\" y=\"192\" fill=\"white\">R</text>\n",
       "<rect x=\"336\" y=\"688\" width=\"32\" height=\"32\" stroke=\"black\" fill=\"black\"/>\n",
       "<text dominant-baseline=\"central\" text-anchor=\"middle\" font-family=\"monospace\" font-size=\"30\" x=\"352\" y=\"704\" fill=\"white\">R</text>\n",
       "<rect x=\"336\" y=\"752\" width=\"32\" height=\"32\" stroke=\"black\" fill=\"black\"/>\n",
       "<text dominant-baseline=\"central\" text-anchor=\"middle\" font-family=\"monospace\" font-size=\"30\" x=\"352\" y=\"768\" fill=\"white\">R</text>\n",
       "<rect x=\"336\" y=\"240\" width=\"32\" height=\"32\" stroke=\"black\" fill=\"black\"/>\n",
       "<text dominant-baseline=\"central\" text-anchor=\"middle\" font-family=\"monospace\" font-size=\"30\" x=\"352\" y=\"256\" fill=\"white\">R</text>\n",
       "<rect x=\"336\" y=\"304\" width=\"32\" height=\"32\" stroke=\"black\" fill=\"black\"/>\n",
       "<text dominant-baseline=\"central\" text-anchor=\"middle\" font-family=\"monospace\" font-size=\"30\" x=\"352\" y=\"320\" fill=\"white\">R</text>\n",
       "<rect x=\"336\" y=\"816\" width=\"32\" height=\"32\" stroke=\"black\" fill=\"black\"/>\n",
       "<text dominant-baseline=\"central\" text-anchor=\"middle\" font-family=\"monospace\" font-size=\"30\" x=\"352\" y=\"832\" fill=\"white\">R</text>\n",
       "<rect x=\"336\" y=\"880\" width=\"32\" height=\"32\" stroke=\"black\" fill=\"black\"/>\n",
       "<text dominant-baseline=\"central\" text-anchor=\"middle\" font-family=\"monospace\" font-size=\"30\" x=\"352\" y=\"896\" fill=\"white\">R</text>\n",
       "<rect x=\"336\" y=\"368\" width=\"32\" height=\"32\" stroke=\"black\" fill=\"black\"/>\n",
       "<text dominant-baseline=\"central\" text-anchor=\"middle\" font-family=\"monospace\" font-size=\"30\" x=\"352\" y=\"384\" fill=\"white\">R</text>\n",
       "<rect x=\"336\" y=\"432\" width=\"32\" height=\"32\" stroke=\"black\" fill=\"black\"/>\n",
       "<text dominant-baseline=\"central\" text-anchor=\"middle\" font-family=\"monospace\" font-size=\"30\" x=\"352\" y=\"448\" fill=\"white\">R</text>\n",
       "<rect x=\"336\" y=\"944\" width=\"32\" height=\"32\" stroke=\"black\" fill=\"black\"/>\n",
       "<text dominant-baseline=\"central\" text-anchor=\"middle\" font-family=\"monospace\" font-size=\"30\" x=\"352\" y=\"960\" fill=\"white\">R</text>\n",
       "<rect x=\"336\" y=\"1008\" width=\"32\" height=\"32\" stroke=\"black\" fill=\"black\"/>\n",
       "<text dominant-baseline=\"central\" text-anchor=\"middle\" font-family=\"monospace\" font-size=\"30\" x=\"352\" y=\"1024\" fill=\"white\">R</text>\n",
       "<rect x=\"336\" y=\"624\" width=\"32\" height=\"32\" stroke=\"black\" fill=\"black\"/>\n",
       "<text dominant-baseline=\"central\" text-anchor=\"middle\" font-family=\"monospace\" font-size=\"30\" x=\"352\" y=\"640\" fill=\"white\">R</text>\n",
       "<rect x=\"336\" y=\"1200\" width=\"32\" height=\"32\" stroke=\"black\" fill=\"black\"/>\n",
       "<text dominant-baseline=\"central\" text-anchor=\"middle\" font-family=\"monospace\" font-size=\"30\" x=\"352\" y=\"1216\" fill=\"white\">R</text>\n",
       "<rect x=\"336\" y=\"1264\" width=\"32\" height=\"32\" stroke=\"black\" fill=\"black\"/>\n",
       "<text dominant-baseline=\"central\" text-anchor=\"middle\" font-family=\"monospace\" font-size=\"30\" x=\"352\" y=\"1280\" fill=\"white\">R</text>\n",
       "<rect x=\"336\" y=\"1328\" width=\"32\" height=\"32\" stroke=\"black\" fill=\"black\"/>\n",
       "<text dominant-baseline=\"central\" text-anchor=\"middle\" font-family=\"monospace\" font-size=\"30\" x=\"352\" y=\"1344\" fill=\"white\">R</text>\n",
       "<rect x=\"336\" y=\"1392\" width=\"32\" height=\"32\" stroke=\"black\" fill=\"black\"/>\n",
       "<text dominant-baseline=\"central\" text-anchor=\"middle\" font-family=\"monospace\" font-size=\"30\" x=\"352\" y=\"1408\" fill=\"white\">R</text>\n",
       "<rect x=\"336\" y=\"1456\" width=\"32\" height=\"32\" stroke=\"black\" fill=\"black\"/>\n",
       "<text dominant-baseline=\"central\" text-anchor=\"middle\" font-family=\"monospace\" font-size=\"30\" x=\"352\" y=\"1472\" fill=\"white\">R</text>\n",
       "<rect x=\"336\" y=\"1520\" width=\"32\" height=\"32\" stroke=\"black\" fill=\"black\"/>\n",
       "<text dominant-baseline=\"central\" text-anchor=\"middle\" font-family=\"monospace\" font-size=\"30\" x=\"352\" y=\"1536\" fill=\"white\">R</text>\n",
       "<rect x=\"336\" y=\"48\" width=\"32\" height=\"32\" stroke=\"black\" fill=\"black\"/>\n",
       "<text dominant-baseline=\"central\" text-anchor=\"middle\" font-family=\"monospace\" font-size=\"30\" x=\"352\" y=\"64\" fill=\"white\">R</text>\n",
       "<rect x=\"336\" y=\"1584\" width=\"32\" height=\"32\" stroke=\"black\" fill=\"black\"/>\n",
       "<text dominant-baseline=\"central\" text-anchor=\"middle\" font-family=\"monospace\" font-size=\"30\" x=\"352\" y=\"1600\" fill=\"white\">R</text>\n",
       "<rect x=\"400\" y=\"48\" width=\"32\" height=\"32\" stroke=\"black\" fill=\"white\"/>\n",
       "<text dominant-baseline=\"central\" text-anchor=\"middle\" font-family=\"monospace\" font-size=\"30\" x=\"416\" y=\"64\">X</text>\n",
       "<rect x=\"400\" y=\"112\" width=\"32\" height=\"32\" stroke=\"black\" fill=\"white\"/>\n",
       "<text dominant-baseline=\"central\" text-anchor=\"middle\" font-family=\"monospace\" font-size=\"30\" x=\"416\" y=\"128\">X</text>\n",
       "<rect x=\"400\" y=\"176\" width=\"32\" height=\"32\" stroke=\"black\" fill=\"white\"/>\n",
       "<text dominant-baseline=\"central\" text-anchor=\"middle\" font-family=\"monospace\" font-size=\"30\" x=\"416\" y=\"192\">X</text>\n",
       "<rect x=\"400\" y=\"240\" width=\"32\" height=\"32\" stroke=\"black\" fill=\"white\"/>\n",
       "<text dominant-baseline=\"central\" text-anchor=\"middle\" font-family=\"monospace\" font-size=\"30\" x=\"416\" y=\"256\">X</text>\n",
       "<rect x=\"400\" y=\"304\" width=\"32\" height=\"32\" stroke=\"black\" fill=\"white\"/>\n",
       "<text dominant-baseline=\"central\" text-anchor=\"middle\" font-family=\"monospace\" font-size=\"30\" x=\"416\" y=\"320\">X</text>\n",
       "<rect x=\"400\" y=\"368\" width=\"32\" height=\"32\" stroke=\"black\" fill=\"white\"/>\n",
       "<text dominant-baseline=\"central\" text-anchor=\"middle\" font-family=\"monospace\" font-size=\"30\" x=\"416\" y=\"384\">X</text>\n",
       "<rect x=\"400\" y=\"432\" width=\"32\" height=\"32\" stroke=\"black\" fill=\"white\"/>\n",
       "<text dominant-baseline=\"central\" text-anchor=\"middle\" font-family=\"monospace\" font-size=\"30\" x=\"416\" y=\"448\">X</text>\n",
       "<path d=\"M68,40 L68,32 L444,32 L444,40 \" stroke=\"black\" fill=\"none\"/>\n",
       "<path d=\"M68,6776 L68,6784 L444,6784 L444,6776 \" stroke=\"black\" fill=\"none\"/>\n",
       "<rect x=\"528\" y=\"3696\" width=\"32\" height=\"32\" stroke=\"black\" fill=\"white\"/>\n",
       "<text dominant-baseline=\"central\" text-anchor=\"middle\" font-family=\"monospace\" font-size=\"30\" x=\"544\" y=\"3712\">H</text>\n",
       "<rect x=\"528\" y=\"3824\" width=\"32\" height=\"32\" stroke=\"black\" fill=\"white\"/>\n",
       "<text dominant-baseline=\"central\" text-anchor=\"middle\" font-family=\"monospace\" font-size=\"30\" x=\"544\" y=\"3840\">H</text>\n",
       "<rect x=\"528\" y=\"3952\" width=\"32\" height=\"32\" stroke=\"black\" fill=\"white\"/>\n",
       "<text dominant-baseline=\"central\" text-anchor=\"middle\" font-family=\"monospace\" font-size=\"30\" x=\"544\" y=\"3968\">H</text>\n",
       "<rect x=\"528\" y=\"4272\" width=\"32\" height=\"32\" stroke=\"black\" fill=\"white\"/>\n",
       "<text dominant-baseline=\"central\" text-anchor=\"middle\" font-family=\"monospace\" font-size=\"30\" x=\"544\" y=\"4288\">H</text>\n",
       "<rect x=\"528\" y=\"4400\" width=\"32\" height=\"32\" stroke=\"black\" fill=\"white\"/>\n",
       "<text dominant-baseline=\"central\" text-anchor=\"middle\" font-family=\"monospace\" font-size=\"30\" x=\"544\" y=\"4416\">H</text>\n",
       "<rect x=\"528\" y=\"4528\" width=\"32\" height=\"32\" stroke=\"black\" fill=\"white\"/>\n",
       "<text dominant-baseline=\"central\" text-anchor=\"middle\" font-family=\"monospace\" font-size=\"30\" x=\"544\" y=\"4544\">H</text>\n",
       "<rect x=\"528\" y=\"3568\" width=\"32\" height=\"32\" stroke=\"black\" fill=\"white\"/>\n",
       "<text dominant-baseline=\"central\" text-anchor=\"middle\" font-family=\"monospace\" font-size=\"30\" x=\"544\" y=\"3584\">H</text>\n",
       "<rect x=\"528\" y=\"4656\" width=\"32\" height=\"32\" stroke=\"black\" fill=\"white\"/>\n",
       "<text dominant-baseline=\"central\" text-anchor=\"middle\" font-family=\"monospace\" font-size=\"30\" x=\"544\" y=\"4672\">H</text>\n",
       "<rect x=\"528\" y=\"3632\" width=\"32\" height=\"32\" stroke=\"black\" fill=\"white\"/>\n",
       "<text dominant-baseline=\"central\" text-anchor=\"middle\" font-family=\"monospace\" font-size=\"30\" x=\"544\" y=\"3648\">H</text>\n",
       "<rect x=\"528\" y=\"3760\" width=\"32\" height=\"32\" stroke=\"black\" fill=\"white\"/>\n",
       "<text dominant-baseline=\"central\" text-anchor=\"middle\" font-family=\"monospace\" font-size=\"30\" x=\"544\" y=\"3776\">H</text>\n",
       "<rect x=\"528\" y=\"3888\" width=\"32\" height=\"32\" stroke=\"black\" fill=\"white\"/>\n",
       "<text dominant-baseline=\"central\" text-anchor=\"middle\" font-family=\"monospace\" font-size=\"30\" x=\"544\" y=\"3904\">H</text>\n",
       "<rect x=\"528\" y=\"4336\" width=\"32\" height=\"32\" stroke=\"black\" fill=\"white\"/>\n",
       "<text dominant-baseline=\"central\" text-anchor=\"middle\" font-family=\"monospace\" font-size=\"30\" x=\"544\" y=\"4352\">H</text>\n",
       "<rect x=\"528\" y=\"4464\" width=\"32\" height=\"32\" stroke=\"black\" fill=\"white\"/>\n",
       "<text dominant-baseline=\"central\" text-anchor=\"middle\" font-family=\"monospace\" font-size=\"30\" x=\"544\" y=\"4480\">H</text>\n",
       "<rect x=\"528\" y=\"4592\" width=\"32\" height=\"32\" stroke=\"black\" fill=\"white\"/>\n",
       "<text dominant-baseline=\"central\" text-anchor=\"middle\" font-family=\"monospace\" font-size=\"30\" x=\"544\" y=\"4608\">H</text>\n",
       "<rect x=\"528\" y=\"4912\" width=\"32\" height=\"32\" stroke=\"black\" fill=\"white\"/>\n",
       "<text dominant-baseline=\"central\" text-anchor=\"middle\" font-family=\"monospace\" font-size=\"30\" x=\"544\" y=\"4928\">H</text>\n",
       "<rect x=\"528\" y=\"3056\" width=\"32\" height=\"32\" stroke=\"black\" fill=\"white\"/>\n",
       "<text dominant-baseline=\"central\" text-anchor=\"middle\" font-family=\"monospace\" font-size=\"30\" x=\"544\" y=\"3072\">H</text>\n",
       "<rect x=\"528\" y=\"5040\" width=\"32\" height=\"32\" stroke=\"black\" fill=\"white\"/>\n",
       "<text dominant-baseline=\"central\" text-anchor=\"middle\" font-family=\"monospace\" font-size=\"30\" x=\"544\" y=\"5056\">H</text>\n",
       "<rect x=\"528\" y=\"3184\" width=\"32\" height=\"32\" stroke=\"black\" fill=\"white\"/>\n",
       "<text dominant-baseline=\"central\" text-anchor=\"middle\" font-family=\"monospace\" font-size=\"30\" x=\"544\" y=\"3200\">H</text>\n",
       "<rect x=\"528\" y=\"5168\" width=\"32\" height=\"32\" stroke=\"black\" fill=\"white\"/>\n",
       "<text dominant-baseline=\"central\" text-anchor=\"middle\" font-family=\"monospace\" font-size=\"30\" x=\"544\" y=\"5184\">H</text>\n",
       "<rect x=\"528\" y=\"3312\" width=\"32\" height=\"32\" stroke=\"black\" fill=\"white\"/>\n",
       "<text dominant-baseline=\"central\" text-anchor=\"middle\" font-family=\"monospace\" font-size=\"30\" x=\"544\" y=\"3328\">H</text>\n",
       "<path d=\"M608,128 L608,3712 \" stroke=\"black\"/>\n",
       "<circle cx=\"608\" cy=\"3712\" r=\"12\" stroke=\"none\" fill=\"black\"/>\n",
       "<circle cx=\"608\" cy=\"128\" r=\"12\" stroke=\"black\" fill=\"white\"/>\n",
       "<path d=\"M596,128 L620,128 M608,116 L608,140 \" stroke=\"black\"/>\n",
       "<path d=\"M672,256 L672,3840 \" stroke=\"black\"/>\n",
       "<circle cx=\"672\" cy=\"3840\" r=\"12\" stroke=\"none\" fill=\"black\"/>\n",
       "<circle cx=\"672\" cy=\"256\" r=\"12\" stroke=\"black\" fill=\"white\"/>\n",
       "<path d=\"M660,256 L684,256 M672,244 L672,268 \" stroke=\"black\"/>\n",
       "<path d=\"M736,384 L736,3968 \" stroke=\"black\"/>\n",
       "<circle cx=\"736\" cy=\"3968\" r=\"12\" stroke=\"none\" fill=\"black\"/>\n",
       "<circle cx=\"736\" cy=\"384\" r=\"12\" stroke=\"black\" fill=\"white\"/>\n",
       "<path d=\"M724,384 L748,384 M736,372 L736,396 \" stroke=\"black\"/>\n",
       "<path d=\"M800,640 L800,4288 \" stroke=\"black\"/>\n",
       "<circle cx=\"800\" cy=\"4288\" r=\"12\" stroke=\"none\" fill=\"black\"/>\n",
       "<circle cx=\"800\" cy=\"640\" r=\"12\" stroke=\"black\" fill=\"white\"/>\n",
       "<path d=\"M788,640 L812,640 M800,628 L800,652 \" stroke=\"black\"/>\n",
       "<path d=\"M864,768 L864,4416 \" stroke=\"black\"/>\n",
       "<circle cx=\"864\" cy=\"4416\" r=\"12\" stroke=\"none\" fill=\"black\"/>\n",
       "<circle cx=\"864\" cy=\"768\" r=\"12\" stroke=\"black\" fill=\"white\"/>\n",
       "<path d=\"M852,768 L876,768 M864,756 L864,780 \" stroke=\"black\"/>\n",
       "<path d=\"M928,896 L928,4544 \" stroke=\"black\"/>\n",
       "<circle cx=\"928\" cy=\"4544\" r=\"12\" stroke=\"none\" fill=\"black\"/>\n",
       "<circle cx=\"928\" cy=\"896\" r=\"12\" stroke=\"black\" fill=\"white\"/>\n",
       "<path d=\"M916,896 L940,896 M928,884 L928,908 \" stroke=\"black\"/>\n",
       "<path d=\"M992,64 L992,3584 \" stroke=\"black\"/>\n",
       "<circle cx=\"992\" cy=\"3584\" r=\"12\" stroke=\"none\" fill=\"black\"/>\n",
       "<circle cx=\"992\" cy=\"64\" r=\"12\" stroke=\"black\" fill=\"white\"/>\n",
       "<path d=\"M980,64 L1004,64 M992,52 L992,76 \" stroke=\"black\"/>\n",
       "<path d=\"M1056,1024 L1056,4672 \" stroke=\"black\"/>\n",
       "<circle cx=\"1056\" cy=\"4672\" r=\"12\" stroke=\"none\" fill=\"black\"/>\n",
       "<circle cx=\"1056\" cy=\"1024\" r=\"12\" stroke=\"black\" fill=\"white\"/>\n",
       "<path d=\"M1044,1024 L1068,1024 M1056,1012 L1056,1036 \" stroke=\"black\"/>\n",
       "<path d=\"M1120,64 L1120,3648 \" stroke=\"black\"/>\n",
       "<circle cx=\"1120\" cy=\"3648\" r=\"12\" stroke=\"none\" fill=\"black\"/>\n",
       "<circle cx=\"1120\" cy=\"64\" r=\"12\" stroke=\"none\" fill=\"black\"/>\n",
       "<path d=\"M1184,192 L1184,3776 \" stroke=\"black\"/>\n",
       "<circle cx=\"1184\" cy=\"3776\" r=\"12\" stroke=\"none\" fill=\"black\"/>\n",
       "<circle cx=\"1184\" cy=\"192\" r=\"12\" stroke=\"none\" fill=\"black\"/>\n",
       "<path d=\"M1248,320 L1248,3904 \" stroke=\"black\"/>\n",
       "<circle cx=\"1248\" cy=\"3904\" r=\"12\" stroke=\"none\" fill=\"black\"/>\n",
       "<circle cx=\"1248\" cy=\"320\" r=\"12\" stroke=\"none\" fill=\"black\"/>\n",
       "<path d=\"M1312,704 L1312,4352 \" stroke=\"black\"/>\n",
       "<circle cx=\"1312\" cy=\"4352\" r=\"12\" stroke=\"none\" fill=\"black\"/>\n",
       "<circle cx=\"1312\" cy=\"704\" r=\"12\" stroke=\"none\" fill=\"black\"/>\n",
       "<path d=\"M1376,832 L1376,4480 \" stroke=\"black\"/>\n",
       "<circle cx=\"1376\" cy=\"4480\" r=\"12\" stroke=\"none\" fill=\"black\"/>\n",
       "<circle cx=\"1376\" cy=\"832\" r=\"12\" stroke=\"none\" fill=\"black\"/>\n",
       "<path d=\"M1440,960 L1440,4608 \" stroke=\"black\"/>\n",
       "<circle cx=\"1440\" cy=\"4608\" r=\"12\" stroke=\"none\" fill=\"black\"/>\n",
       "<circle cx=\"1440\" cy=\"960\" r=\"12\" stroke=\"none\" fill=\"black\"/>\n",
       "<path d=\"M1504,1216 L1504,4928 \" stroke=\"black\"/>\n",
       "<circle cx=\"1504\" cy=\"4928\" r=\"12\" stroke=\"none\" fill=\"black\"/>\n",
       "<circle cx=\"1504\" cy=\"1216\" r=\"12\" stroke=\"none\" fill=\"black\"/>\n",
       "<path d=\"M1568,128 L1568,3072 \" stroke=\"black\"/>\n",
       "<circle cx=\"1568\" cy=\"3072\" r=\"12\" stroke=\"none\" fill=\"black\"/>\n",
       "<circle cx=\"1568\" cy=\"128\" r=\"12\" stroke=\"none\" fill=\"black\"/>\n",
       "<path d=\"M1632,1344 L1632,5056 \" stroke=\"black\"/>\n",
       "<circle cx=\"1632\" cy=\"5056\" r=\"12\" stroke=\"none\" fill=\"black\"/>\n",
       "<circle cx=\"1632\" cy=\"1344\" r=\"12\" stroke=\"none\" fill=\"black\"/>\n",
       "<path d=\"M1696,256 L1696,3200 \" stroke=\"black\"/>\n",
       "<circle cx=\"1696\" cy=\"3200\" r=\"12\" stroke=\"none\" fill=\"black\"/>\n",
       "<circle cx=\"1696\" cy=\"256\" r=\"12\" stroke=\"none\" fill=\"black\"/>\n",
       "<path d=\"M1760,1472 L1760,5184 \" stroke=\"black\"/>\n",
       "<circle cx=\"1760\" cy=\"5184\" r=\"12\" stroke=\"none\" fill=\"black\"/>\n",
       "<circle cx=\"1760\" cy=\"1472\" r=\"12\" stroke=\"none\" fill=\"black\"/>\n",
       "<path d=\"M1824,384 L1824,3328 \" stroke=\"black\"/>\n",
       "<circle cx=\"1824\" cy=\"3328\" r=\"12\" stroke=\"none\" fill=\"black\"/>\n",
       "<circle cx=\"1824\" cy=\"384\" r=\"12\" stroke=\"none\" fill=\"black\"/>\n",
       "<path d=\"M580,40 L580,32 L1852,32 L1852,40 \" stroke=\"black\" fill=\"none\"/>\n",
       "<path d=\"M580,6776 L580,6784 L1852,6784 L1852,6776 \" stroke=\"black\" fill=\"none\"/>\n",
       "<path d=\"M1888,192 L1888,3712 \" stroke=\"black\"/>\n",
       "<circle cx=\"1888\" cy=\"3712\" r=\"12\" stroke=\"none\" fill=\"black\"/>\n",
       "<circle cx=\"1888\" cy=\"192\" r=\"12\" stroke=\"black\" fill=\"white\"/>\n",
       "<path d=\"M1876,192 L1900,192 M1888,180 L1888,204 \" stroke=\"black\"/>\n",
       "<path d=\"M1952,320 L1952,3840 \" stroke=\"black\"/>\n",
       "<circle cx=\"1952\" cy=\"3840\" r=\"12\" stroke=\"none\" fill=\"black\"/>\n",
       "<circle cx=\"1952\" cy=\"320\" r=\"12\" stroke=\"black\" fill=\"white\"/>\n",
       "<path d=\"M1940,320 L1964,320 M1952,308 L1952,332 \" stroke=\"black\"/>\n",
       "<path d=\"M2016,448 L2016,3968 \" stroke=\"black\"/>\n",
       "<circle cx=\"2016\" cy=\"3968\" r=\"12\" stroke=\"none\" fill=\"black\"/>\n",
       "<circle cx=\"2016\" cy=\"448\" r=\"12\" stroke=\"black\" fill=\"white\"/>\n",
       "<path d=\"M2004,448 L2028,448 M2016,436 L2016,460 \" stroke=\"black\"/>\n",
       "<path d=\"M2080,704 L2080,4288 \" stroke=\"black\"/>\n",
       "<circle cx=\"2080\" cy=\"4288\" r=\"12\" stroke=\"none\" fill=\"black\"/>\n",
       "<circle cx=\"2080\" cy=\"704\" r=\"12\" stroke=\"black\" fill=\"white\"/>\n",
       "<path d=\"M2068,704 L2092,704 M2080,692 L2080,716 \" stroke=\"black\"/>\n",
       "<path d=\"M2144,832 L2144,4416 \" stroke=\"black\"/>\n",
       "<circle cx=\"2144\" cy=\"4416\" r=\"12\" stroke=\"none\" fill=\"black\"/>\n",
       "<circle cx=\"2144\" cy=\"832\" r=\"12\" stroke=\"black\" fill=\"white\"/>\n",
       "<path d=\"M2132,832 L2156,832 M2144,820 L2144,844 \" stroke=\"black\"/>\n",
       "<path d=\"M2208,960 L2208,4544 \" stroke=\"black\"/>\n",
       "<circle cx=\"2208\" cy=\"4544\" r=\"12\" stroke=\"none\" fill=\"black\"/>\n",
       "<circle cx=\"2208\" cy=\"960\" r=\"12\" stroke=\"black\" fill=\"white\"/>\n",
       "<path d=\"M2196,960 L2220,960 M2208,948 L2208,972 \" stroke=\"black\"/>\n",
       "<path d=\"M2272,640 L2272,3584 \" stroke=\"black\"/>\n",
       "<circle cx=\"2272\" cy=\"3584\" r=\"12\" stroke=\"none\" fill=\"black\"/>\n",
       "<circle cx=\"2272\" cy=\"640\" r=\"12\" stroke=\"black\" fill=\"white\"/>\n",
       "<path d=\"M2260,640 L2284,640 M2272,628 L2272,652 \" stroke=\"black\"/>\n",
       "<path d=\"M2336,1600 L2336,4672 \" stroke=\"black\"/>\n",
       "<circle cx=\"2336\" cy=\"4672\" r=\"12\" stroke=\"none\" fill=\"black\"/>\n",
       "<circle cx=\"2336\" cy=\"1600\" r=\"12\" stroke=\"black\" fill=\"white\"/>\n",
       "<path d=\"M2324,1600 L2348,1600 M2336,1588 L2336,1612 \" stroke=\"black\"/>\n",
       "<path d=\"M2400,128 L2400,3648 \" stroke=\"black\"/>\n",
       "<circle cx=\"2400\" cy=\"3648\" r=\"12\" stroke=\"none\" fill=\"black\"/>\n",
       "<circle cx=\"2400\" cy=\"128\" r=\"12\" stroke=\"none\" fill=\"black\"/>\n",
       "<path d=\"M2464,256 L2464,3776 \" stroke=\"black\"/>\n",
       "<circle cx=\"2464\" cy=\"3776\" r=\"12\" stroke=\"none\" fill=\"black\"/>\n",
       "<circle cx=\"2464\" cy=\"256\" r=\"12\" stroke=\"none\" fill=\"black\"/>\n",
       "<path d=\"M2528,384 L2528,3904 \" stroke=\"black\"/>\n",
       "<circle cx=\"2528\" cy=\"3904\" r=\"12\" stroke=\"none\" fill=\"black\"/>\n",
       "<circle cx=\"2528\" cy=\"384\" r=\"12\" stroke=\"none\" fill=\"black\"/>\n",
       "<path d=\"M2592,768 L2592,4352 \" stroke=\"black\"/>\n",
       "<circle cx=\"2592\" cy=\"4352\" r=\"12\" stroke=\"none\" fill=\"black\"/>\n",
       "<circle cx=\"2592\" cy=\"768\" r=\"12\" stroke=\"none\" fill=\"black\"/>\n",
       "<path d=\"M2656,896 L2656,4480 \" stroke=\"black\"/>\n",
       "<circle cx=\"2656\" cy=\"4480\" r=\"12\" stroke=\"none\" fill=\"black\"/>\n",
       "<circle cx=\"2656\" cy=\"896\" r=\"12\" stroke=\"none\" fill=\"black\"/>\n",
       "<path d=\"M2720,1024 L2720,4608 \" stroke=\"black\"/>\n",
       "<circle cx=\"2720\" cy=\"4608\" r=\"12\" stroke=\"none\" fill=\"black\"/>\n",
       "<circle cx=\"2720\" cy=\"1024\" r=\"12\" stroke=\"none\" fill=\"black\"/>\n",
       "<path d=\"M2784,1280 L2784,4928 \" stroke=\"black\"/>\n",
       "<circle cx=\"2784\" cy=\"4928\" r=\"12\" stroke=\"none\" fill=\"black\"/>\n",
       "<circle cx=\"2784\" cy=\"1280\" r=\"12\" stroke=\"none\" fill=\"black\"/>\n",
       "<path d=\"M2848,192 L2848,3072 \" stroke=\"black\"/>\n",
       "<circle cx=\"2848\" cy=\"3072\" r=\"12\" stroke=\"none\" fill=\"black\"/>\n",
       "<circle cx=\"2848\" cy=\"192\" r=\"12\" stroke=\"none\" fill=\"black\"/>\n",
       "<path d=\"M2912,1408 L2912,5056 \" stroke=\"black\"/>\n",
       "<circle cx=\"2912\" cy=\"5056\" r=\"12\" stroke=\"none\" fill=\"black\"/>\n",
       "<circle cx=\"2912\" cy=\"1408\" r=\"12\" stroke=\"none\" fill=\"black\"/>\n",
       "<path d=\"M2976,320 L2976,3200 \" stroke=\"black\"/>\n",
       "<circle cx=\"2976\" cy=\"3200\" r=\"12\" stroke=\"none\" fill=\"black\"/>\n",
       "<circle cx=\"2976\" cy=\"320\" r=\"12\" stroke=\"none\" fill=\"black\"/>\n",
       "<path d=\"M3040,1536 L3040,5184 \" stroke=\"black\"/>\n",
       "<circle cx=\"3040\" cy=\"5184\" r=\"12\" stroke=\"none\" fill=\"black\"/>\n",
       "<circle cx=\"3040\" cy=\"1536\" r=\"12\" stroke=\"none\" fill=\"black\"/>\n",
       "<path d=\"M3104,448 L3104,3328 \" stroke=\"black\"/>\n",
       "<circle cx=\"3104\" cy=\"3328\" r=\"12\" stroke=\"none\" fill=\"black\"/>\n",
       "<circle cx=\"3104\" cy=\"448\" r=\"12\" stroke=\"none\" fill=\"black\"/>\n",
       "<path d=\"M1860,40 L1860,32 L3132,32 L3132,40 \" stroke=\"black\" fill=\"none\"/>\n",
       "<path d=\"M1860,6776 L1860,6784 L3132,6784 L3132,6776 \" stroke=\"black\" fill=\"none\"/>\n",
       "<path d=\"M3168,704 L3168,3712 \" stroke=\"black\"/>\n",
       "<circle cx=\"3168\" cy=\"3712\" r=\"12\" stroke=\"none\" fill=\"black\"/>\n",
       "<circle cx=\"3168\" cy=\"704\" r=\"12\" stroke=\"black\" fill=\"white\"/>\n",
       "<path d=\"M3156,704 L3180,704 M3168,692 L3168,716 \" stroke=\"black\"/>\n",
       "<path d=\"M3232,832 L3232,3840 \" stroke=\"black\"/>\n",
       "<circle cx=\"3232\" cy=\"3840\" r=\"12\" stroke=\"none\" fill=\"black\"/>\n",
       "<circle cx=\"3232\" cy=\"832\" r=\"12\" stroke=\"black\" fill=\"white\"/>\n",
       "<path d=\"M3220,832 L3244,832 M3232,820 L3232,844 \" stroke=\"black\"/>\n",
       "<path d=\"M3296,960 L3296,3968 \" stroke=\"black\"/>\n",
       "<circle cx=\"3296\" cy=\"3968\" r=\"12\" stroke=\"none\" fill=\"black\"/>\n",
       "<circle cx=\"3296\" cy=\"960\" r=\"12\" stroke=\"black\" fill=\"white\"/>\n",
       "<path d=\"M3284,960 L3308,960 M3296,948 L3296,972 \" stroke=\"black\"/>\n",
       "<path d=\"M3360,1216 L3360,4288 \" stroke=\"black\"/>\n",
       "<circle cx=\"3360\" cy=\"4288\" r=\"12\" stroke=\"none\" fill=\"black\"/>\n",
       "<circle cx=\"3360\" cy=\"1216\" r=\"12\" stroke=\"black\" fill=\"white\"/>\n",
       "<path d=\"M3348,1216 L3372,1216 M3360,1204 L3360,1228 \" stroke=\"black\"/>\n",
       "<path d=\"M3424,1344 L3424,4416 \" stroke=\"black\"/>\n",
       "<circle cx=\"3424\" cy=\"4416\" r=\"12\" stroke=\"none\" fill=\"black\"/>\n",
       "<circle cx=\"3424\" cy=\"1344\" r=\"12\" stroke=\"black\" fill=\"white\"/>\n",
       "<path d=\"M3412,1344 L3436,1344 M3424,1332 L3424,1356 \" stroke=\"black\"/>\n",
       "<path d=\"M3488,1472 L3488,4544 \" stroke=\"black\"/>\n",
       "<circle cx=\"3488\" cy=\"4544\" r=\"12\" stroke=\"none\" fill=\"black\"/>\n",
       "<circle cx=\"3488\" cy=\"1472\" r=\"12\" stroke=\"black\" fill=\"white\"/>\n",
       "<path d=\"M3476,1472 L3500,1472 M3488,1460 L3488,1484 \" stroke=\"black\"/>\n",
       "<path d=\"M3552,640 L3552,3648 \" stroke=\"black\"/>\n",
       "<circle cx=\"3552\" cy=\"3648\" r=\"12\" stroke=\"none\" fill=\"black\"/>\n",
       "<circle cx=\"3552\" cy=\"640\" r=\"12\" stroke=\"none\" fill=\"black\"/>\n",
       "<path d=\"M3616,768 L3616,3776 \" stroke=\"black\"/>\n",
       "<circle cx=\"3616\" cy=\"3776\" r=\"12\" stroke=\"none\" fill=\"black\"/>\n",
       "<circle cx=\"3616\" cy=\"768\" r=\"12\" stroke=\"none\" fill=\"black\"/>\n",
       "<path d=\"M3680,896 L3680,3904 \" stroke=\"black\"/>\n",
       "<circle cx=\"3680\" cy=\"3904\" r=\"12\" stroke=\"none\" fill=\"black\"/>\n",
       "<circle cx=\"3680\" cy=\"896\" r=\"12\" stroke=\"none\" fill=\"black\"/>\n",
       "<path d=\"M3744,1280 L3744,4352 \" stroke=\"black\"/>\n",
       "<circle cx=\"3744\" cy=\"4352\" r=\"12\" stroke=\"none\" fill=\"black\"/>\n",
       "<circle cx=\"3744\" cy=\"1280\" r=\"12\" stroke=\"none\" fill=\"black\"/>\n",
       "<path d=\"M3808,1408 L3808,4480 \" stroke=\"black\"/>\n",
       "<circle cx=\"3808\" cy=\"4480\" r=\"12\" stroke=\"none\" fill=\"black\"/>\n",
       "<circle cx=\"3808\" cy=\"1408\" r=\"12\" stroke=\"none\" fill=\"black\"/>\n",
       "<path d=\"M3872,1536 L3872,4608 \" stroke=\"black\"/>\n",
       "<circle cx=\"3872\" cy=\"4608\" r=\"12\" stroke=\"none\" fill=\"black\"/>\n",
       "<circle cx=\"3872\" cy=\"1536\" r=\"12\" stroke=\"none\" fill=\"black\"/>\n",
       "<path d=\"M3140,40 L3140,32 L3900,32 L3900,40 \" stroke=\"black\" fill=\"none\"/>\n",
       "<path d=\"M3140,6776 L3140,6784 L3900,6784 L3900,6776 \" stroke=\"black\" fill=\"none\"/>\n",
       "<path d=\"M3936,768 L3936,3712 \" stroke=\"black\"/>\n",
       "<circle cx=\"3936\" cy=\"3712\" r=\"12\" stroke=\"none\" fill=\"black\"/>\n",
       "<circle cx=\"3936\" cy=\"768\" r=\"12\" stroke=\"black\" fill=\"white\"/>\n",
       "<path d=\"M3924,768 L3948,768 M3936,756 L3936,780 \" stroke=\"black\"/>\n",
       "<path d=\"M4000,896 L4000,3840 \" stroke=\"black\"/>\n",
       "<circle cx=\"4000\" cy=\"3840\" r=\"12\" stroke=\"none\" fill=\"black\"/>\n",
       "<circle cx=\"4000\" cy=\"896\" r=\"12\" stroke=\"black\" fill=\"white\"/>\n",
       "<path d=\"M3988,896 L4012,896 M4000,884 L4000,908 \" stroke=\"black\"/>\n",
       "<path d=\"M4064,1024 L4064,3968 \" stroke=\"black\"/>\n",
       "<circle cx=\"4064\" cy=\"3968\" r=\"12\" stroke=\"none\" fill=\"black\"/>\n",
       "<circle cx=\"4064\" cy=\"1024\" r=\"12\" stroke=\"black\" fill=\"white\"/>\n",
       "<path d=\"M4052,1024 L4076,1024 M4064,1012 L4064,1036 \" stroke=\"black\"/>\n",
       "<path d=\"M4128,1280 L4128,4288 \" stroke=\"black\"/>\n",
       "<circle cx=\"4128\" cy=\"4288\" r=\"12\" stroke=\"none\" fill=\"black\"/>\n",
       "<circle cx=\"4128\" cy=\"1280\" r=\"12\" stroke=\"black\" fill=\"white\"/>\n",
       "<path d=\"M4116,1280 L4140,1280 M4128,1268 L4128,1292 \" stroke=\"black\"/>\n",
       "<path d=\"M4192,1408 L4192,4416 \" stroke=\"black\"/>\n",
       "<circle cx=\"4192\" cy=\"4416\" r=\"12\" stroke=\"none\" fill=\"black\"/>\n",
       "<circle cx=\"4192\" cy=\"1408\" r=\"12\" stroke=\"black\" fill=\"white\"/>\n",
       "<path d=\"M4180,1408 L4204,1408 M4192,1396 L4192,1420 \" stroke=\"black\"/>\n",
       "<path d=\"M4256,1536 L4256,4544 \" stroke=\"black\"/>\n",
       "<circle cx=\"4256\" cy=\"4544\" r=\"12\" stroke=\"none\" fill=\"black\"/>\n",
       "<circle cx=\"4256\" cy=\"1536\" r=\"12\" stroke=\"black\" fill=\"white\"/>\n",
       "<path d=\"M4244,1536 L4268,1536 M4256,1524 L4256,1548 \" stroke=\"black\"/>\n",
       "<path d=\"M4320,704 L4320,3648 \" stroke=\"black\"/>\n",
       "<circle cx=\"4320\" cy=\"3648\" r=\"12\" stroke=\"none\" fill=\"black\"/>\n",
       "<circle cx=\"4320\" cy=\"704\" r=\"12\" stroke=\"none\" fill=\"black\"/>\n",
       "<path d=\"M4384,832 L4384,3776 \" stroke=\"black\"/>\n",
       "<circle cx=\"4384\" cy=\"3776\" r=\"12\" stroke=\"none\" fill=\"black\"/>\n",
       "<circle cx=\"4384\" cy=\"832\" r=\"12\" stroke=\"none\" fill=\"black\"/>\n",
       "<path d=\"M4448,960 L4448,3904 \" stroke=\"black\"/>\n",
       "<circle cx=\"4448\" cy=\"3904\" r=\"12\" stroke=\"none\" fill=\"black\"/>\n",
       "<circle cx=\"4448\" cy=\"960\" r=\"12\" stroke=\"none\" fill=\"black\"/>\n",
       "<path d=\"M4512,1344 L4512,4352 \" stroke=\"black\"/>\n",
       "<circle cx=\"4512\" cy=\"4352\" r=\"12\" stroke=\"none\" fill=\"black\"/>\n",
       "<circle cx=\"4512\" cy=\"1344\" r=\"12\" stroke=\"none\" fill=\"black\"/>\n",
       "<path d=\"M4576,1472 L4576,4480 \" stroke=\"black\"/>\n",
       "<circle cx=\"4576\" cy=\"4480\" r=\"12\" stroke=\"none\" fill=\"black\"/>\n",
       "<circle cx=\"4576\" cy=\"1472\" r=\"12\" stroke=\"none\" fill=\"black\"/>\n",
       "<path d=\"M4640,1600 L4640,4608 \" stroke=\"black\"/>\n",
       "<circle cx=\"4640\" cy=\"4608\" r=\"12\" stroke=\"none\" fill=\"black\"/>\n",
       "<circle cx=\"4640\" cy=\"1600\" r=\"12\" stroke=\"none\" fill=\"black\"/>\n",
       "<path d=\"M3908,40 L3908,32 L4668,32 L4668,40 \" stroke=\"black\" fill=\"none\"/>\n",
       "<path d=\"M3908,6776 L3908,6784 L4668,6784 L4668,6776 \" stroke=\"black\" fill=\"none\"/>\n",
       "<rect x=\"4688\" y=\"3696\" width=\"32\" height=\"32\" stroke=\"black\" fill=\"white\"/>\n",
       "<text dominant-baseline=\"central\" text-anchor=\"middle\" font-family=\"monospace\" font-size=\"30\" x=\"4704\" y=\"3712\">H</text>\n",
       "<rect x=\"4688\" y=\"3824\" width=\"32\" height=\"32\" stroke=\"black\" fill=\"white\"/>\n",
       "<text dominant-baseline=\"central\" text-anchor=\"middle\" font-family=\"monospace\" font-size=\"30\" x=\"4704\" y=\"3840\">H</text>\n",
       "<rect x=\"4688\" y=\"3952\" width=\"32\" height=\"32\" stroke=\"black\" fill=\"white\"/>\n",
       "<text dominant-baseline=\"central\" text-anchor=\"middle\" font-family=\"monospace\" font-size=\"30\" x=\"4704\" y=\"3968\">H</text>\n",
       "<rect x=\"4688\" y=\"4272\" width=\"32\" height=\"32\" stroke=\"black\" fill=\"white\"/>\n",
       "<text dominant-baseline=\"central\" text-anchor=\"middle\" font-family=\"monospace\" font-size=\"30\" x=\"4704\" y=\"4288\">H</text>\n",
       "<rect x=\"4688\" y=\"4400\" width=\"32\" height=\"32\" stroke=\"black\" fill=\"white\"/>\n",
       "<text dominant-baseline=\"central\" text-anchor=\"middle\" font-family=\"monospace\" font-size=\"30\" x=\"4704\" y=\"4416\">H</text>\n",
       "<rect x=\"4688\" y=\"4528\" width=\"32\" height=\"32\" stroke=\"black\" fill=\"white\"/>\n",
       "<text dominant-baseline=\"central\" text-anchor=\"middle\" font-family=\"monospace\" font-size=\"30\" x=\"4704\" y=\"4544\">H</text>\n",
       "<rect x=\"4688\" y=\"3568\" width=\"32\" height=\"32\" stroke=\"black\" fill=\"white\"/>\n",
       "<text dominant-baseline=\"central\" text-anchor=\"middle\" font-family=\"monospace\" font-size=\"30\" x=\"4704\" y=\"3584\">H</text>\n",
       "<rect x=\"4688\" y=\"4656\" width=\"32\" height=\"32\" stroke=\"black\" fill=\"white\"/>\n",
       "<text dominant-baseline=\"central\" text-anchor=\"middle\" font-family=\"monospace\" font-size=\"30\" x=\"4704\" y=\"4672\">H</text>\n",
       "<rect x=\"4688\" y=\"3632\" width=\"32\" height=\"32\" stroke=\"black\" fill=\"white\"/>\n",
       "<text dominant-baseline=\"central\" text-anchor=\"middle\" font-family=\"monospace\" font-size=\"30\" x=\"4704\" y=\"3648\">H</text>\n",
       "<rect x=\"4688\" y=\"3760\" width=\"32\" height=\"32\" stroke=\"black\" fill=\"white\"/>\n",
       "<text dominant-baseline=\"central\" text-anchor=\"middle\" font-family=\"monospace\" font-size=\"30\" x=\"4704\" y=\"3776\">H</text>\n",
       "<rect x=\"4688\" y=\"3888\" width=\"32\" height=\"32\" stroke=\"black\" fill=\"white\"/>\n",
       "<text dominant-baseline=\"central\" text-anchor=\"middle\" font-family=\"monospace\" font-size=\"30\" x=\"4704\" y=\"3904\">H</text>\n",
       "<rect x=\"4688\" y=\"4336\" width=\"32\" height=\"32\" stroke=\"black\" fill=\"white\"/>\n",
       "<text dominant-baseline=\"central\" text-anchor=\"middle\" font-family=\"monospace\" font-size=\"30\" x=\"4704\" y=\"4352\">H</text>\n",
       "<rect x=\"4688\" y=\"4464\" width=\"32\" height=\"32\" stroke=\"black\" fill=\"white\"/>\n",
       "<text dominant-baseline=\"central\" text-anchor=\"middle\" font-family=\"monospace\" font-size=\"30\" x=\"4704\" y=\"4480\">H</text>\n",
       "<rect x=\"4688\" y=\"4592\" width=\"32\" height=\"32\" stroke=\"black\" fill=\"white\"/>\n",
       "<text dominant-baseline=\"central\" text-anchor=\"middle\" font-family=\"monospace\" font-size=\"30\" x=\"4704\" y=\"4608\">H</text>\n",
       "<rect x=\"4688\" y=\"4912\" width=\"32\" height=\"32\" stroke=\"black\" fill=\"white\"/>\n",
       "<text dominant-baseline=\"central\" text-anchor=\"middle\" font-family=\"monospace\" font-size=\"30\" x=\"4704\" y=\"4928\">H</text>\n",
       "<rect x=\"4688\" y=\"3056\" width=\"32\" height=\"32\" stroke=\"black\" fill=\"white\"/>\n",
       "<text dominant-baseline=\"central\" text-anchor=\"middle\" font-family=\"monospace\" font-size=\"30\" x=\"4704\" y=\"3072\">H</text>\n",
       "<rect x=\"4688\" y=\"5040\" width=\"32\" height=\"32\" stroke=\"black\" fill=\"white\"/>\n",
       "<text dominant-baseline=\"central\" text-anchor=\"middle\" font-family=\"monospace\" font-size=\"30\" x=\"4704\" y=\"5056\">H</text>\n",
       "<rect x=\"4688\" y=\"3184\" width=\"32\" height=\"32\" stroke=\"black\" fill=\"white\"/>\n",
       "<text dominant-baseline=\"central\" text-anchor=\"middle\" font-family=\"monospace\" font-size=\"30\" x=\"4704\" y=\"3200\">H</text>\n",
       "<rect x=\"4688\" y=\"5168\" width=\"32\" height=\"32\" stroke=\"black\" fill=\"white\"/>\n",
       "<text dominant-baseline=\"central\" text-anchor=\"middle\" font-family=\"monospace\" font-size=\"30\" x=\"4704\" y=\"5184\">H</text>\n",
       "<rect x=\"4688\" y=\"3312\" width=\"32\" height=\"32\" stroke=\"black\" fill=\"white\"/>\n",
       "<text dominant-baseline=\"central\" text-anchor=\"middle\" font-family=\"monospace\" font-size=\"30\" x=\"4704\" y=\"3328\">H</text>\n",
       "<rect x=\"4752\" y=\"3696\" width=\"32\" height=\"32\" stroke=\"black\" fill=\"black\"/>\n",
       "<text dominant-baseline=\"central\" text-anchor=\"middle\" font-family=\"monospace\" font-size=\"24\" x=\"4768\" y=\"3712\" fill=\"white\">MR</text>\n",
       "<text text-anchor=\"middle\" font-family=\"monospace\" font-size=\"8\" x=\"4768\" y=\"3692\">rec[0]</text>\n",
       "<rect x=\"4752\" y=\"3824\" width=\"32\" height=\"32\" stroke=\"black\" fill=\"black\"/>\n",
       "<text dominant-baseline=\"central\" text-anchor=\"middle\" font-family=\"monospace\" font-size=\"24\" x=\"4768\" y=\"3840\" fill=\"white\">MR</text>\n",
       "<text text-anchor=\"middle\" font-family=\"monospace\" font-size=\"8\" x=\"4768\" y=\"3820\">rec[1]</text>\n",
       "<rect x=\"4752\" y=\"3952\" width=\"32\" height=\"32\" stroke=\"black\" fill=\"black\"/>\n",
       "<text dominant-baseline=\"central\" text-anchor=\"middle\" font-family=\"monospace\" font-size=\"24\" x=\"4768\" y=\"3968\" fill=\"white\">MR</text>\n",
       "<text text-anchor=\"middle\" font-family=\"monospace\" font-size=\"8\" x=\"4768\" y=\"3948\">rec[2]</text>\n",
       "<rect x=\"4752\" y=\"4272\" width=\"32\" height=\"32\" stroke=\"black\" fill=\"black\"/>\n",
       "<text dominant-baseline=\"central\" text-anchor=\"middle\" font-family=\"monospace\" font-size=\"24\" x=\"4768\" y=\"4288\" fill=\"white\">MR</text>\n",
       "<text text-anchor=\"middle\" font-family=\"monospace\" font-size=\"8\" x=\"4768\" y=\"4268\">rec[3]</text>\n",
       "<rect x=\"4752\" y=\"4400\" width=\"32\" height=\"32\" stroke=\"black\" fill=\"black\"/>\n",
       "<text dominant-baseline=\"central\" text-anchor=\"middle\" font-family=\"monospace\" font-size=\"24\" x=\"4768\" y=\"4416\" fill=\"white\">MR</text>\n",
       "<text text-anchor=\"middle\" font-family=\"monospace\" font-size=\"8\" x=\"4768\" y=\"4396\">rec[4]</text>\n",
       "<rect x=\"4752\" y=\"4528\" width=\"32\" height=\"32\" stroke=\"black\" fill=\"black\"/>\n",
       "<text dominant-baseline=\"central\" text-anchor=\"middle\" font-family=\"monospace\" font-size=\"24\" x=\"4768\" y=\"4544\" fill=\"white\">MR</text>\n",
       "<text text-anchor=\"middle\" font-family=\"monospace\" font-size=\"8\" x=\"4768\" y=\"4524\">rec[5]</text>\n",
       "<rect x=\"4752\" y=\"3568\" width=\"32\" height=\"32\" stroke=\"black\" fill=\"black\"/>\n",
       "<text dominant-baseline=\"central\" text-anchor=\"middle\" font-family=\"monospace\" font-size=\"24\" x=\"4768\" y=\"3584\" fill=\"white\">MR</text>\n",
       "<text text-anchor=\"middle\" font-family=\"monospace\" font-size=\"8\" x=\"4768\" y=\"3564\">rec[6]</text>\n",
       "<rect x=\"4752\" y=\"4656\" width=\"32\" height=\"32\" stroke=\"black\" fill=\"black\"/>\n",
       "<text dominant-baseline=\"central\" text-anchor=\"middle\" font-family=\"monospace\" font-size=\"24\" x=\"4768\" y=\"4672\" fill=\"white\">MR</text>\n",
       "<text text-anchor=\"middle\" font-family=\"monospace\" font-size=\"8\" x=\"4768\" y=\"4652\">rec[7]</text>\n",
       "<rect x=\"4752\" y=\"3632\" width=\"32\" height=\"32\" stroke=\"black\" fill=\"black\"/>\n",
       "<text dominant-baseline=\"central\" text-anchor=\"middle\" font-family=\"monospace\" font-size=\"24\" x=\"4768\" y=\"3648\" fill=\"white\">MR</text>\n",
       "<text text-anchor=\"middle\" font-family=\"monospace\" font-size=\"8\" x=\"4768\" y=\"3628\">rec[8]</text>\n",
       "<rect x=\"4752\" y=\"3760\" width=\"32\" height=\"32\" stroke=\"black\" fill=\"black\"/>\n",
       "<text dominant-baseline=\"central\" text-anchor=\"middle\" font-family=\"monospace\" font-size=\"24\" x=\"4768\" y=\"3776\" fill=\"white\">MR</text>\n",
       "<text text-anchor=\"middle\" font-family=\"monospace\" font-size=\"8\" x=\"4768\" y=\"3756\">rec[9]</text>\n",
       "<rect x=\"4752\" y=\"3888\" width=\"32\" height=\"32\" stroke=\"black\" fill=\"black\"/>\n",
       "<text dominant-baseline=\"central\" text-anchor=\"middle\" font-family=\"monospace\" font-size=\"24\" x=\"4768\" y=\"3904\" fill=\"white\">MR</text>\n",
       "<text text-anchor=\"middle\" font-family=\"monospace\" font-size=\"8\" x=\"4768\" y=\"3884\">rec[10]</text>\n",
       "<rect x=\"4752\" y=\"4336\" width=\"32\" height=\"32\" stroke=\"black\" fill=\"black\"/>\n",
       "<text dominant-baseline=\"central\" text-anchor=\"middle\" font-family=\"monospace\" font-size=\"24\" x=\"4768\" y=\"4352\" fill=\"white\">MR</text>\n",
       "<text text-anchor=\"middle\" font-family=\"monospace\" font-size=\"8\" x=\"4768\" y=\"4332\">rec[11]</text>\n",
       "<rect x=\"4752\" y=\"4464\" width=\"32\" height=\"32\" stroke=\"black\" fill=\"black\"/>\n",
       "<text dominant-baseline=\"central\" text-anchor=\"middle\" font-family=\"monospace\" font-size=\"24\" x=\"4768\" y=\"4480\" fill=\"white\">MR</text>\n",
       "<text text-anchor=\"middle\" font-family=\"monospace\" font-size=\"8\" x=\"4768\" y=\"4460\">rec[12]</text>\n",
       "<rect x=\"4752\" y=\"4592\" width=\"32\" height=\"32\" stroke=\"black\" fill=\"black\"/>\n",
       "<text dominant-baseline=\"central\" text-anchor=\"middle\" font-family=\"monospace\" font-size=\"24\" x=\"4768\" y=\"4608\" fill=\"white\">MR</text>\n",
       "<text text-anchor=\"middle\" font-family=\"monospace\" font-size=\"8\" x=\"4768\" y=\"4588\">rec[13]</text>\n",
       "<rect x=\"4752\" y=\"4912\" width=\"32\" height=\"32\" stroke=\"black\" fill=\"black\"/>\n",
       "<text dominant-baseline=\"central\" text-anchor=\"middle\" font-family=\"monospace\" font-size=\"24\" x=\"4768\" y=\"4928\" fill=\"white\">MR</text>\n",
       "<text text-anchor=\"middle\" font-family=\"monospace\" font-size=\"8\" x=\"4768\" y=\"4908\">rec[14]</text>\n",
       "<rect x=\"4752\" y=\"3056\" width=\"32\" height=\"32\" stroke=\"black\" fill=\"black\"/>\n",
       "<text dominant-baseline=\"central\" text-anchor=\"middle\" font-family=\"monospace\" font-size=\"24\" x=\"4768\" y=\"3072\" fill=\"white\">MR</text>\n",
       "<text text-anchor=\"middle\" font-family=\"monospace\" font-size=\"8\" x=\"4768\" y=\"3052\">rec[15]</text>\n",
       "<rect x=\"4752\" y=\"5040\" width=\"32\" height=\"32\" stroke=\"black\" fill=\"black\"/>\n",
       "<text dominant-baseline=\"central\" text-anchor=\"middle\" font-family=\"monospace\" font-size=\"24\" x=\"4768\" y=\"5056\" fill=\"white\">MR</text>\n",
       "<text text-anchor=\"middle\" font-family=\"monospace\" font-size=\"8\" x=\"4768\" y=\"5036\">rec[16]</text>\n",
       "<rect x=\"4752\" y=\"3184\" width=\"32\" height=\"32\" stroke=\"black\" fill=\"black\"/>\n",
       "<text dominant-baseline=\"central\" text-anchor=\"middle\" font-family=\"monospace\" font-size=\"24\" x=\"4768\" y=\"3200\" fill=\"white\">MR</text>\n",
       "<text text-anchor=\"middle\" font-family=\"monospace\" font-size=\"8\" x=\"4768\" y=\"3180\">rec[17]</text>\n",
       "<rect x=\"4752\" y=\"5168\" width=\"32\" height=\"32\" stroke=\"black\" fill=\"black\"/>\n",
       "<text dominant-baseline=\"central\" text-anchor=\"middle\" font-family=\"monospace\" font-size=\"24\" x=\"4768\" y=\"5184\" fill=\"white\">MR</text>\n",
       "<text text-anchor=\"middle\" font-family=\"monospace\" font-size=\"8\" x=\"4768\" y=\"5164\">rec[18]</text>\n",
       "<rect x=\"4752\" y=\"3312\" width=\"32\" height=\"32\" stroke=\"black\" fill=\"black\"/>\n",
       "<text dominant-baseline=\"central\" text-anchor=\"middle\" font-family=\"monospace\" font-size=\"24\" x=\"4768\" y=\"3328\" fill=\"white\">MR</text>\n",
       "<text text-anchor=\"middle\" font-family=\"monospace\" font-size=\"8\" x=\"4768\" y=\"3308\">rec[19]</text>\n",
       "<rect x=\"4816\" y=\"240\" width=\"32\" height=\"32\" stroke=\"black\" fill=\"white\"/>\n",
       "<text dominant-baseline=\"central\" text-anchor=\"middle\" font-family=\"monospace\" font-size=\"30\" x=\"4832\" y=\"256\">H</text>\n",
       "<rect x=\"4816\" y=\"816\" width=\"32\" height=\"32\" stroke=\"black\" fill=\"white\"/>\n",
       "<text dominant-baseline=\"central\" text-anchor=\"middle\" font-family=\"monospace\" font-size=\"30\" x=\"4832\" y=\"832\">H</text>\n",
       "<rect x=\"4816\" y=\"1392\" width=\"32\" height=\"32\" stroke=\"black\" fill=\"white\"/>\n",
       "<text dominant-baseline=\"central\" text-anchor=\"middle\" font-family=\"monospace\" font-size=\"30\" x=\"4832\" y=\"1408\">H</text>\n",
       "<rect x=\"4880\" y=\"240\" width=\"32\" height=\"32\" stroke=\"black\" fill=\"black\"/>\n",
       "<text dominant-baseline=\"central\" text-anchor=\"middle\" font-family=\"monospace\" font-size=\"30\" x=\"4896\" y=\"256\" fill=\"white\">M</text>\n",
       "<text text-anchor=\"middle\" font-family=\"monospace\" font-size=\"8\" x=\"4896\" y=\"236\">rec[20]</text>\n",
       "<rect x=\"4880\" y=\"816\" width=\"32\" height=\"32\" stroke=\"black\" fill=\"black\"/>\n",
       "<text dominant-baseline=\"central\" text-anchor=\"middle\" font-family=\"monospace\" font-size=\"30\" x=\"4896\" y=\"832\" fill=\"white\">M</text>\n",
       "<text text-anchor=\"middle\" font-family=\"monospace\" font-size=\"8\" x=\"4896\" y=\"812\">rec[21]</text>\n",
       "<rect x=\"4880\" y=\"1392\" width=\"32\" height=\"32\" stroke=\"black\" fill=\"black\"/>\n",
       "<text dominant-baseline=\"central\" text-anchor=\"middle\" font-family=\"monospace\" font-size=\"30\" x=\"4896\" y=\"1408\" fill=\"white\">M</text>\n",
       "<text text-anchor=\"middle\" font-family=\"monospace\" font-size=\"8\" x=\"4896\" y=\"1388\">rec[22]</text>\n",
       "<rect x=\"4880\" y=\"3824\" width=\"32\" height=\"32\" stroke=\"black\" fill=\"white\"/>\n",
       "<text dominant-baseline=\"central\" text-anchor=\"middle\" font-family=\"monospace\" font-size=\"30\" x=\"4896\" y=\"3840\">H</text>\n",
       "<rect x=\"4880\" y=\"3952\" width=\"32\" height=\"32\" stroke=\"black\" fill=\"white\"/>\n",
       "<text dominant-baseline=\"central\" text-anchor=\"middle\" font-family=\"monospace\" font-size=\"30\" x=\"4896\" y=\"3968\">H</text>\n",
       "<rect x=\"4880\" y=\"4528\" width=\"32\" height=\"32\" stroke=\"black\" fill=\"white\"/>\n",
       "<text dominant-baseline=\"central\" text-anchor=\"middle\" font-family=\"monospace\" font-size=\"30\" x=\"4896\" y=\"4544\">H</text>\n",
       "<rect x=\"4880\" y=\"4656\" width=\"32\" height=\"32\" stroke=\"black\" fill=\"white\"/>\n",
       "<text dominant-baseline=\"central\" text-anchor=\"middle\" font-family=\"monospace\" font-size=\"30\" x=\"4896\" y=\"4672\">H</text>\n",
       "<rect x=\"4880\" y=\"3888\" width=\"32\" height=\"32\" stroke=\"black\" fill=\"white\"/>\n",
       "<text dominant-baseline=\"central\" text-anchor=\"middle\" font-family=\"monospace\" font-size=\"30\" x=\"4896\" y=\"3904\">H</text>\n",
       "<rect x=\"4880\" y=\"4592\" width=\"32\" height=\"32\" stroke=\"black\" fill=\"white\"/>\n",
       "<text dominant-baseline=\"central\" text-anchor=\"middle\" font-family=\"monospace\" font-size=\"30\" x=\"4896\" y=\"4608\">H</text>\n",
       "<rect x=\"4880\" y=\"5168\" width=\"32\" height=\"32\" stroke=\"black\" fill=\"white\"/>\n",
       "<text dominant-baseline=\"central\" text-anchor=\"middle\" font-family=\"monospace\" font-size=\"30\" x=\"4896\" y=\"5184\">H</text>\n",
       "<rect x=\"4880\" y=\"3312\" width=\"32\" height=\"32\" stroke=\"black\" fill=\"white\"/>\n",
       "<text dominant-baseline=\"central\" text-anchor=\"middle\" font-family=\"monospace\" font-size=\"30\" x=\"4896\" y=\"3328\">H</text>\n",
       "<path d=\"M4804,40 L4804,32 L4924,32 L4924,40 \" stroke=\"black\" fill=\"none\"/>\n",
       "<path d=\"M4804,6776 L4804,6784 L4924,6784 L4924,6776 \" stroke=\"black\" fill=\"none\"/>\n",
       "<path d=\"M4960,320 L4960,3840 \" stroke=\"black\"/>\n",
       "<circle cx=\"4960\" cy=\"3840\" r=\"12\" stroke=\"none\" fill=\"black\"/>\n",
       "<circle cx=\"4960\" cy=\"320\" r=\"12\" stroke=\"black\" fill=\"white\"/>\n",
       "<path d=\"M4948,320 L4972,320 M4960,308 L4960,332 \" stroke=\"black\"/>\n",
       "<path d=\"M5024,384 L5024,3968 \" stroke=\"black\"/>\n",
       "<circle cx=\"5024\" cy=\"3968\" r=\"12\" stroke=\"none\" fill=\"black\"/>\n",
       "<circle cx=\"5024\" cy=\"384\" r=\"12\" stroke=\"black\" fill=\"white\"/>\n",
       "<path d=\"M5012,384 L5036,384 M5024,372 L5024,396 \" stroke=\"black\"/>\n",
       "<path d=\"M5088,896 L5088,4544 \" stroke=\"black\"/>\n",
       "<circle cx=\"5088\" cy=\"4544\" r=\"12\" stroke=\"none\" fill=\"black\"/>\n",
       "<circle cx=\"5088\" cy=\"896\" r=\"12\" stroke=\"black\" fill=\"white\"/>\n",
       "<path d=\"M5076,896 L5100,896 M5088,884 L5088,908 \" stroke=\"black\"/>\n",
       "<path d=\"M5152,1024 L5152,4672 \" stroke=\"black\"/>\n",
       "<circle cx=\"5152\" cy=\"4672\" r=\"12\" stroke=\"none\" fill=\"black\"/>\n",
       "<circle cx=\"5152\" cy=\"1024\" r=\"12\" stroke=\"black\" fill=\"white\"/>\n",
       "<path d=\"M5140,1024 L5164,1024 M5152,1012 L5152,1036 \" stroke=\"black\"/>\n",
       "<path d=\"M5216,320 L5216,3904 \" stroke=\"black\"/>\n",
       "<circle cx=\"5216\" cy=\"3904\" r=\"12\" stroke=\"none\" fill=\"black\"/>\n",
       "<circle cx=\"5216\" cy=\"320\" r=\"12\" stroke=\"none\" fill=\"black\"/>\n",
       "<path d=\"M5280,960 L5280,4608 \" stroke=\"black\"/>\n",
       "<circle cx=\"5280\" cy=\"4608\" r=\"12\" stroke=\"none\" fill=\"black\"/>\n",
       "<circle cx=\"5280\" cy=\"960\" r=\"12\" stroke=\"none\" fill=\"black\"/>\n",
       "<path d=\"M5344,1472 L5344,5184 \" stroke=\"black\"/>\n",
       "<circle cx=\"5344\" cy=\"5184\" r=\"12\" stroke=\"none\" fill=\"black\"/>\n",
       "<circle cx=\"5344\" cy=\"1472\" r=\"12\" stroke=\"none\" fill=\"black\"/>\n",
       "<path d=\"M5408,384 L5408,3328 \" stroke=\"black\"/>\n",
       "<circle cx=\"5408\" cy=\"3328\" r=\"12\" stroke=\"none\" fill=\"black\"/>\n",
       "<circle cx=\"5408\" cy=\"384\" r=\"12\" stroke=\"none\" fill=\"black\"/>\n",
       "<path d=\"M4932,40 L4932,32 L5436,32 L5436,40 \" stroke=\"black\" fill=\"none\"/>\n",
       "<path d=\"M4932,6776 L4932,6784 L5436,6784 L5436,6776 \" stroke=\"black\" fill=\"none\"/>\n",
       "<path d=\"M5472,896 L5472,3840 \" stroke=\"black\"/>\n",
       "<circle cx=\"5472\" cy=\"3840\" r=\"12\" stroke=\"none\" fill=\"black\"/>\n",
       "<circle cx=\"5472\" cy=\"896\" r=\"12\" stroke=\"black\" fill=\"white\"/>\n",
       "<path d=\"M5460,896 L5484,896 M5472,884 L5472,908 \" stroke=\"black\"/>\n",
       "<path d=\"M5536,448 L5536,3968 \" stroke=\"black\"/>\n",
       "<circle cx=\"5536\" cy=\"3968\" r=\"12\" stroke=\"none\" fill=\"black\"/>\n",
       "<circle cx=\"5536\" cy=\"448\" r=\"12\" stroke=\"black\" fill=\"white\"/>\n",
       "<path d=\"M5524,448 L5548,448 M5536,436 L5536,460 \" stroke=\"black\"/>\n",
       "<path d=\"M5600,960 L5600,4544 \" stroke=\"black\"/>\n",
       "<circle cx=\"5600\" cy=\"4544\" r=\"12\" stroke=\"none\" fill=\"black\"/>\n",
       "<circle cx=\"5600\" cy=\"960\" r=\"12\" stroke=\"black\" fill=\"white\"/>\n",
       "<path d=\"M5588,960 L5612,960 M5600,948 L5600,972 \" stroke=\"black\"/>\n",
       "<path d=\"M5664,1600 L5664,4672 \" stroke=\"black\"/>\n",
       "<circle cx=\"5664\" cy=\"4672\" r=\"12\" stroke=\"none\" fill=\"black\"/>\n",
       "<circle cx=\"5664\" cy=\"1600\" r=\"12\" stroke=\"black\" fill=\"white\"/>\n",
       "<path d=\"M5652,1600 L5676,1600 M5664,1588 L5664,1612 \" stroke=\"black\"/>\n",
       "<path d=\"M5728,384 L5728,3904 \" stroke=\"black\"/>\n",
       "<circle cx=\"5728\" cy=\"3904\" r=\"12\" stroke=\"none\" fill=\"black\"/>\n",
       "<circle cx=\"5728\" cy=\"384\" r=\"12\" stroke=\"none\" fill=\"black\"/>\n",
       "<path d=\"M5792,1024 L5792,4608 \" stroke=\"black\"/>\n",
       "<circle cx=\"5792\" cy=\"4608\" r=\"12\" stroke=\"none\" fill=\"black\"/>\n",
       "<circle cx=\"5792\" cy=\"1024\" r=\"12\" stroke=\"none\" fill=\"black\"/>\n",
       "<path d=\"M5856,1536 L5856,5184 \" stroke=\"black\"/>\n",
       "<circle cx=\"5856\" cy=\"5184\" r=\"12\" stroke=\"none\" fill=\"black\"/>\n",
       "<circle cx=\"5856\" cy=\"1536\" r=\"12\" stroke=\"none\" fill=\"black\"/>\n",
       "<path d=\"M5920,448 L5920,3328 \" stroke=\"black\"/>\n",
       "<circle cx=\"5920\" cy=\"3328\" r=\"12\" stroke=\"none\" fill=\"black\"/>\n",
       "<circle cx=\"5920\" cy=\"448\" r=\"12\" stroke=\"none\" fill=\"black\"/>\n",
       "<path d=\"M5444,40 L5444,32 L5948,32 L5948,40 \" stroke=\"black\" fill=\"none\"/>\n",
       "<path d=\"M5444,6776 L5444,6784 L5948,6784 L5948,6776 \" stroke=\"black\" fill=\"none\"/>\n",
       "<path d=\"M5984,960 L5984,3968 \" stroke=\"black\"/>\n",
       "<circle cx=\"5984\" cy=\"3968\" r=\"12\" stroke=\"none\" fill=\"black\"/>\n",
       "<circle cx=\"5984\" cy=\"960\" r=\"12\" stroke=\"black\" fill=\"white\"/>\n",
       "<path d=\"M5972,960 L5996,960 M5984,948 L5984,972 \" stroke=\"black\"/>\n",
       "<path d=\"M6048,1472 L6048,4544 \" stroke=\"black\"/>\n",
       "<circle cx=\"6048\" cy=\"4544\" r=\"12\" stroke=\"none\" fill=\"black\"/>\n",
       "<circle cx=\"6048\" cy=\"1472\" r=\"12\" stroke=\"black\" fill=\"white\"/>\n",
       "<path d=\"M6036,1472 L6060,1472 M6048,1460 L6048,1484 \" stroke=\"black\"/>\n",
       "<path d=\"M6112,896 L6112,3904 \" stroke=\"black\"/>\n",
       "<circle cx=\"6112\" cy=\"3904\" r=\"12\" stroke=\"none\" fill=\"black\"/>\n",
       "<circle cx=\"6112\" cy=\"896\" r=\"12\" stroke=\"none\" fill=\"black\"/>\n",
       "<path d=\"M6176,1536 L6176,4608 \" stroke=\"black\"/>\n",
       "<circle cx=\"6176\" cy=\"4608\" r=\"12\" stroke=\"none\" fill=\"black\"/>\n",
       "<circle cx=\"6176\" cy=\"1536\" r=\"12\" stroke=\"none\" fill=\"black\"/>\n",
       "<path d=\"M5956,40 L5956,32 L6204,32 L6204,40 \" stroke=\"black\" fill=\"none\"/>\n",
       "<path d=\"M5956,6776 L5956,6784 L6204,6784 L6204,6776 \" stroke=\"black\" fill=\"none\"/>\n",
       "<path d=\"M6240,1024 L6240,3968 \" stroke=\"black\"/>\n",
       "<circle cx=\"6240\" cy=\"3968\" r=\"12\" stroke=\"none\" fill=\"black\"/>\n",
       "<circle cx=\"6240\" cy=\"1024\" r=\"12\" stroke=\"black\" fill=\"white\"/>\n",
       "<path d=\"M6228,1024 L6252,1024 M6240,1012 L6240,1036 \" stroke=\"black\"/>\n",
       "<path d=\"M6304,1536 L6304,4544 \" stroke=\"black\"/>\n",
       "<circle cx=\"6304\" cy=\"4544\" r=\"12\" stroke=\"none\" fill=\"black\"/>\n",
       "<circle cx=\"6304\" cy=\"1536\" r=\"12\" stroke=\"black\" fill=\"white\"/>\n",
       "<path d=\"M6292,1536 L6316,1536 M6304,1524 L6304,1548 \" stroke=\"black\"/>\n",
       "<path d=\"M6368,960 L6368,3904 \" stroke=\"black\"/>\n",
       "<circle cx=\"6368\" cy=\"3904\" r=\"12\" stroke=\"none\" fill=\"black\"/>\n",
       "<circle cx=\"6368\" cy=\"960\" r=\"12\" stroke=\"none\" fill=\"black\"/>\n",
       "<path d=\"M6432,1600 L6432,4608 \" stroke=\"black\"/>\n",
       "<circle cx=\"6432\" cy=\"4608\" r=\"12\" stroke=\"none\" fill=\"black\"/>\n",
       "<circle cx=\"6432\" cy=\"1600\" r=\"12\" stroke=\"none\" fill=\"black\"/>\n",
       "<path d=\"M6212,40 L6212,32 L6460,32 L6460,40 \" stroke=\"black\" fill=\"none\"/>\n",
       "<path d=\"M6212,6776 L6212,6784 L6460,6784 L6460,6776 \" stroke=\"black\" fill=\"none\"/>\n",
       "<rect x=\"6480\" y=\"3824\" width=\"32\" height=\"32\" stroke=\"black\" fill=\"white\"/>\n",
       "<text dominant-baseline=\"central\" text-anchor=\"middle\" font-family=\"monospace\" font-size=\"30\" x=\"6496\" y=\"3840\">H</text>\n",
       "<rect x=\"6480\" y=\"3952\" width=\"32\" height=\"32\" stroke=\"black\" fill=\"white\"/>\n",
       "<text dominant-baseline=\"central\" text-anchor=\"middle\" font-family=\"monospace\" font-size=\"30\" x=\"6496\" y=\"3968\">H</text>\n",
       "<rect x=\"6480\" y=\"4528\" width=\"32\" height=\"32\" stroke=\"black\" fill=\"white\"/>\n",
       "<text dominant-baseline=\"central\" text-anchor=\"middle\" font-family=\"monospace\" font-size=\"30\" x=\"6496\" y=\"4544\">H</text>\n",
       "<rect x=\"6480\" y=\"4656\" width=\"32\" height=\"32\" stroke=\"black\" fill=\"white\"/>\n",
       "<text dominant-baseline=\"central\" text-anchor=\"middle\" font-family=\"monospace\" font-size=\"30\" x=\"6496\" y=\"4672\">H</text>\n",
       "<rect x=\"6480\" y=\"3888\" width=\"32\" height=\"32\" stroke=\"black\" fill=\"white\"/>\n",
       "<text dominant-baseline=\"central\" text-anchor=\"middle\" font-family=\"monospace\" font-size=\"30\" x=\"6496\" y=\"3904\">H</text>\n",
       "<rect x=\"6480\" y=\"4592\" width=\"32\" height=\"32\" stroke=\"black\" fill=\"white\"/>\n",
       "<text dominant-baseline=\"central\" text-anchor=\"middle\" font-family=\"monospace\" font-size=\"30\" x=\"6496\" y=\"4608\">H</text>\n",
       "<rect x=\"6480\" y=\"5168\" width=\"32\" height=\"32\" stroke=\"black\" fill=\"white\"/>\n",
       "<text dominant-baseline=\"central\" text-anchor=\"middle\" font-family=\"monospace\" font-size=\"30\" x=\"6496\" y=\"5184\">H</text>\n",
       "<rect x=\"6480\" y=\"3312\" width=\"32\" height=\"32\" stroke=\"black\" fill=\"white\"/>\n",
       "<text dominant-baseline=\"central\" text-anchor=\"middle\" font-family=\"monospace\" font-size=\"30\" x=\"6496\" y=\"3328\">H</text>\n",
       "<rect x=\"6544\" y=\"3824\" width=\"32\" height=\"32\" stroke=\"black\" fill=\"black\"/>\n",
       "<text dominant-baseline=\"central\" text-anchor=\"middle\" font-family=\"monospace\" font-size=\"24\" x=\"6560\" y=\"3840\" fill=\"white\">MR</text>\n",
       "<text text-anchor=\"middle\" font-family=\"monospace\" font-size=\"8\" x=\"6560\" y=\"3820\">rec[23]</text>\n",
       "<rect x=\"6544\" y=\"3952\" width=\"32\" height=\"32\" stroke=\"black\" fill=\"black\"/>\n",
       "<text dominant-baseline=\"central\" text-anchor=\"middle\" font-family=\"monospace\" font-size=\"24\" x=\"6560\" y=\"3968\" fill=\"white\">MR</text>\n",
       "<text text-anchor=\"middle\" font-family=\"monospace\" font-size=\"8\" x=\"6560\" y=\"3948\">rec[24]</text>\n",
       "<rect x=\"6544\" y=\"4528\" width=\"32\" height=\"32\" stroke=\"black\" fill=\"black\"/>\n",
       "<text dominant-baseline=\"central\" text-anchor=\"middle\" font-family=\"monospace\" font-size=\"24\" x=\"6560\" y=\"4544\" fill=\"white\">MR</text>\n",
       "<text text-anchor=\"middle\" font-family=\"monospace\" font-size=\"8\" x=\"6560\" y=\"4524\">rec[25]</text>\n",
       "<rect x=\"6544\" y=\"4656\" width=\"32\" height=\"32\" stroke=\"black\" fill=\"black\"/>\n",
       "<text dominant-baseline=\"central\" text-anchor=\"middle\" font-family=\"monospace\" font-size=\"24\" x=\"6560\" y=\"4672\" fill=\"white\">MR</text>\n",
       "<text text-anchor=\"middle\" font-family=\"monospace\" font-size=\"8\" x=\"6560\" y=\"4652\">rec[26]</text>\n",
       "<rect x=\"6544\" y=\"3888\" width=\"32\" height=\"32\" stroke=\"black\" fill=\"black\"/>\n",
       "<text dominant-baseline=\"central\" text-anchor=\"middle\" font-family=\"monospace\" font-size=\"24\" x=\"6560\" y=\"3904\" fill=\"white\">MR</text>\n",
       "<text text-anchor=\"middle\" font-family=\"monospace\" font-size=\"8\" x=\"6560\" y=\"3884\">rec[27]</text>\n",
       "<rect x=\"6544\" y=\"4592\" width=\"32\" height=\"32\" stroke=\"black\" fill=\"black\"/>\n",
       "<text dominant-baseline=\"central\" text-anchor=\"middle\" font-family=\"monospace\" font-size=\"24\" x=\"6560\" y=\"4608\" fill=\"white\">MR</text>\n",
       "<text text-anchor=\"middle\" font-family=\"monospace\" font-size=\"8\" x=\"6560\" y=\"4588\">rec[28]</text>\n",
       "<rect x=\"6544\" y=\"5168\" width=\"32\" height=\"32\" stroke=\"black\" fill=\"black\"/>\n",
       "<text dominant-baseline=\"central\" text-anchor=\"middle\" font-family=\"monospace\" font-size=\"24\" x=\"6560\" y=\"5184\" fill=\"white\">MR</text>\n",
       "<text text-anchor=\"middle\" font-family=\"monospace\" font-size=\"8\" x=\"6560\" y=\"5164\">rec[29]</text>\n",
       "<rect x=\"6544\" y=\"3312\" width=\"32\" height=\"32\" stroke=\"black\" fill=\"black\"/>\n",
       "<text dominant-baseline=\"central\" text-anchor=\"middle\" font-family=\"monospace\" font-size=\"24\" x=\"6560\" y=\"3328\" fill=\"white\">MR</text>\n",
       "<text text-anchor=\"middle\" font-family=\"monospace\" font-size=\"8\" x=\"6560\" y=\"3308\">rec[30]</text>\n",
       "<rect x=\"6608\" y=\"3696\" width=\"32\" height=\"32\" stroke=\"black\" fill=\"white\"/>\n",
       "<text dominant-baseline=\"central\" text-anchor=\"middle\" font-family=\"monospace\" font-size=\"30\" x=\"6624\" y=\"3712\">H</text>\n",
       "<rect x=\"6608\" y=\"4272\" width=\"32\" height=\"32\" stroke=\"black\" fill=\"white\"/>\n",
       "<text dominant-baseline=\"central\" text-anchor=\"middle\" font-family=\"monospace\" font-size=\"30\" x=\"6624\" y=\"4288\">H</text>\n",
       "<rect x=\"6608\" y=\"4400\" width=\"32\" height=\"32\" stroke=\"black\" fill=\"white\"/>\n",
       "<text dominant-baseline=\"central\" text-anchor=\"middle\" font-family=\"monospace\" font-size=\"30\" x=\"6624\" y=\"4416\">H</text>\n",
       "<rect x=\"6608\" y=\"3568\" width=\"32\" height=\"32\" stroke=\"black\" fill=\"white\"/>\n",
       "<text dominant-baseline=\"central\" text-anchor=\"middle\" font-family=\"monospace\" font-size=\"30\" x=\"6624\" y=\"3584\">H</text>\n",
       "<rect x=\"6608\" y=\"3632\" width=\"32\" height=\"32\" stroke=\"black\" fill=\"white\"/>\n",
       "<text dominant-baseline=\"central\" text-anchor=\"middle\" font-family=\"monospace\" font-size=\"30\" x=\"6624\" y=\"3648\">H</text>\n",
       "<rect x=\"6608\" y=\"4336\" width=\"32\" height=\"32\" stroke=\"black\" fill=\"white\"/>\n",
       "<text dominant-baseline=\"central\" text-anchor=\"middle\" font-family=\"monospace\" font-size=\"30\" x=\"6624\" y=\"4352\">H</text>\n",
       "<rect x=\"6608\" y=\"4912\" width=\"32\" height=\"32\" stroke=\"black\" fill=\"white\"/>\n",
       "<text dominant-baseline=\"central\" text-anchor=\"middle\" font-family=\"monospace\" font-size=\"30\" x=\"6624\" y=\"4928\">H</text>\n",
       "<rect x=\"6608\" y=\"3056\" width=\"32\" height=\"32\" stroke=\"black\" fill=\"white\"/>\n",
       "<text dominant-baseline=\"central\" text-anchor=\"middle\" font-family=\"monospace\" font-size=\"30\" x=\"6624\" y=\"3072\">H</text>\n",
       "<path d=\"M6688,128 L6688,3712 \" stroke=\"black\"/>\n",
       "<circle cx=\"6688\" cy=\"3712\" r=\"12\" stroke=\"none\" fill=\"black\"/>\n",
       "<circle cx=\"6688\" cy=\"128\" r=\"12\" stroke=\"black\" fill=\"white\"/>\n",
       "<path d=\"M6676,128 L6700,128 M6688,116 L6688,140 \" stroke=\"black\"/>\n",
       "<path d=\"M6752,640 L6752,4288 \" stroke=\"black\"/>\n",
       "<circle cx=\"6752\" cy=\"4288\" r=\"12\" stroke=\"none\" fill=\"black\"/>\n",
       "<circle cx=\"6752\" cy=\"640\" r=\"12\" stroke=\"black\" fill=\"white\"/>\n",
       "<path d=\"M6740,640 L6764,640 M6752,628 L6752,652 \" stroke=\"black\"/>\n",
       "<path d=\"M6816,768 L6816,4416 \" stroke=\"black\"/>\n",
       "<circle cx=\"6816\" cy=\"4416\" r=\"12\" stroke=\"none\" fill=\"black\"/>\n",
       "<circle cx=\"6816\" cy=\"768\" r=\"12\" stroke=\"black\" fill=\"white\"/>\n",
       "<path d=\"M6804,768 L6828,768 M6816,756 L6816,780 \" stroke=\"black\"/>\n",
       "<path d=\"M6880,64 L6880,3584 \" stroke=\"black\"/>\n",
       "<circle cx=\"6880\" cy=\"3584\" r=\"12\" stroke=\"none\" fill=\"black\"/>\n",
       "<circle cx=\"6880\" cy=\"64\" r=\"12\" stroke=\"black\" fill=\"white\"/>\n",
       "<path d=\"M6868,64 L6892,64 M6880,52 L6880,76 \" stroke=\"black\"/>\n",
       "<path d=\"M6944,64 L6944,3648 \" stroke=\"black\"/>\n",
       "<circle cx=\"6944\" cy=\"3648\" r=\"12\" stroke=\"none\" fill=\"black\"/>\n",
       "<circle cx=\"6944\" cy=\"64\" r=\"12\" stroke=\"none\" fill=\"black\"/>\n",
       "<path d=\"M7008,704 L7008,4352 \" stroke=\"black\"/>\n",
       "<circle cx=\"7008\" cy=\"4352\" r=\"12\" stroke=\"none\" fill=\"black\"/>\n",
       "<circle cx=\"7008\" cy=\"704\" r=\"12\" stroke=\"none\" fill=\"black\"/>\n",
       "<path d=\"M7072,1216 L7072,4928 \" stroke=\"black\"/>\n",
       "<circle cx=\"7072\" cy=\"4928\" r=\"12\" stroke=\"none\" fill=\"black\"/>\n",
       "<circle cx=\"7072\" cy=\"1216\" r=\"12\" stroke=\"none\" fill=\"black\"/>\n",
       "<path d=\"M7136,128 L7136,3072 \" stroke=\"black\"/>\n",
       "<circle cx=\"7136\" cy=\"3072\" r=\"12\" stroke=\"none\" fill=\"black\"/>\n",
       "<circle cx=\"7136\" cy=\"128\" r=\"12\" stroke=\"none\" fill=\"black\"/>\n",
       "<path d=\"M6660,40 L6660,32 L7164,32 L7164,40 \" stroke=\"black\" fill=\"none\"/>\n",
       "<path d=\"M6660,6776 L6660,6784 L7164,6784 L7164,6776 \" stroke=\"black\" fill=\"none\"/>\n",
       "<path d=\"M7200,192 L7200,3712 \" stroke=\"black\"/>\n",
       "<circle cx=\"7200\" cy=\"3712\" r=\"12\" stroke=\"none\" fill=\"black\"/>\n",
       "<circle cx=\"7200\" cy=\"192\" r=\"12\" stroke=\"black\" fill=\"white\"/>\n",
       "<path d=\"M7188,192 L7212,192 M7200,180 L7200,204 \" stroke=\"black\"/>\n",
       "<path d=\"M7264,704 L7264,4288 \" stroke=\"black\"/>\n",
       "<circle cx=\"7264\" cy=\"4288\" r=\"12\" stroke=\"none\" fill=\"black\"/>\n",
       "<circle cx=\"7264\" cy=\"704\" r=\"12\" stroke=\"black\" fill=\"white\"/>\n",
       "<path d=\"M7252,704 L7276,704 M7264,692 L7264,716 \" stroke=\"black\"/>\n",
       "<path d=\"M7328,1344 L7328,4416 \" stroke=\"black\"/>\n",
       "<circle cx=\"7328\" cy=\"4416\" r=\"12\" stroke=\"none\" fill=\"black\"/>\n",
       "<circle cx=\"7328\" cy=\"1344\" r=\"12\" stroke=\"black\" fill=\"white\"/>\n",
       "<path d=\"M7316,1344 L7340,1344 M7328,1332 L7328,1356 \" stroke=\"black\"/>\n",
       "<path d=\"M7392,640 L7392,3584 \" stroke=\"black\"/>\n",
       "<circle cx=\"7392\" cy=\"3584\" r=\"12\" stroke=\"none\" fill=\"black\"/>\n",
       "<circle cx=\"7392\" cy=\"640\" r=\"12\" stroke=\"black\" fill=\"white\"/>\n",
       "<path d=\"M7380,640 L7404,640 M7392,628 L7392,652 \" stroke=\"black\"/>\n",
       "<path d=\"M7456,128 L7456,3648 \" stroke=\"black\"/>\n",
       "<circle cx=\"7456\" cy=\"3648\" r=\"12\" stroke=\"none\" fill=\"black\"/>\n",
       "<circle cx=\"7456\" cy=\"128\" r=\"12\" stroke=\"none\" fill=\"black\"/>\n",
       "<path d=\"M7520,768 L7520,4352 \" stroke=\"black\"/>\n",
       "<circle cx=\"7520\" cy=\"4352\" r=\"12\" stroke=\"none\" fill=\"black\"/>\n",
       "<circle cx=\"7520\" cy=\"768\" r=\"12\" stroke=\"none\" fill=\"black\"/>\n",
       "<path d=\"M7584,1280 L7584,4928 \" stroke=\"black\"/>\n",
       "<circle cx=\"7584\" cy=\"4928\" r=\"12\" stroke=\"none\" fill=\"black\"/>\n",
       "<circle cx=\"7584\" cy=\"1280\" r=\"12\" stroke=\"none\" fill=\"black\"/>\n",
       "<path d=\"M7648,192 L7648,3072 \" stroke=\"black\"/>\n",
       "<circle cx=\"7648\" cy=\"3072\" r=\"12\" stroke=\"none\" fill=\"black\"/>\n",
       "<circle cx=\"7648\" cy=\"192\" r=\"12\" stroke=\"none\" fill=\"black\"/>\n",
       "<path d=\"M7172,40 L7172,32 L7676,32 L7676,40 \" stroke=\"black\" fill=\"none\"/>\n",
       "<path d=\"M7172,6776 L7172,6784 L7676,6784 L7676,6776 \" stroke=\"black\" fill=\"none\"/>\n",
       "<path d=\"M7712,704 L7712,3712 \" stroke=\"black\"/>\n",
       "<circle cx=\"7712\" cy=\"3712\" r=\"12\" stroke=\"none\" fill=\"black\"/>\n",
       "<circle cx=\"7712\" cy=\"704\" r=\"12\" stroke=\"black\" fill=\"white\"/>\n",
       "<path d=\"M7700,704 L7724,704 M7712,692 L7712,716 \" stroke=\"black\"/>\n",
       "<path d=\"M7776,1216 L7776,4288 \" stroke=\"black\"/>\n",
       "<circle cx=\"7776\" cy=\"4288\" r=\"12\" stroke=\"none\" fill=\"black\"/>\n",
       "<circle cx=\"7776\" cy=\"1216\" r=\"12\" stroke=\"black\" fill=\"white\"/>\n",
       "<path d=\"M7764,1216 L7788,1216 M7776,1204 L7776,1228 \" stroke=\"black\"/>\n",
       "<path d=\"M7840,640 L7840,3648 \" stroke=\"black\"/>\n",
       "<circle cx=\"7840\" cy=\"3648\" r=\"12\" stroke=\"none\" fill=\"black\"/>\n",
       "<circle cx=\"7840\" cy=\"640\" r=\"12\" stroke=\"none\" fill=\"black\"/>\n",
       "<path d=\"M7904,1280 L7904,4352 \" stroke=\"black\"/>\n",
       "<circle cx=\"7904\" cy=\"4352\" r=\"12\" stroke=\"none\" fill=\"black\"/>\n",
       "<circle cx=\"7904\" cy=\"1280\" r=\"12\" stroke=\"none\" fill=\"black\"/>\n",
       "<path d=\"M7684,40 L7684,32 L7932,32 L7932,40 \" stroke=\"black\" fill=\"none\"/>\n",
       "<path d=\"M7684,6776 L7684,6784 L7932,6784 L7932,6776 \" stroke=\"black\" fill=\"none\"/>\n",
       "<path d=\"M7968,768 L7968,3712 \" stroke=\"black\"/>\n",
       "<circle cx=\"7968\" cy=\"3712\" r=\"12\" stroke=\"none\" fill=\"black\"/>\n",
       "<circle cx=\"7968\" cy=\"768\" r=\"12\" stroke=\"black\" fill=\"white\"/>\n",
       "<path d=\"M7956,768 L7980,768 M7968,756 L7968,780 \" stroke=\"black\"/>\n",
       "<path d=\"M8032,1280 L8032,4288 \" stroke=\"black\"/>\n",
       "<circle cx=\"8032\" cy=\"4288\" r=\"12\" stroke=\"none\" fill=\"black\"/>\n",
       "<circle cx=\"8032\" cy=\"1280\" r=\"12\" stroke=\"black\" fill=\"white\"/>\n",
       "<path d=\"M8020,1280 L8044,1280 M8032,1268 L8032,1292 \" stroke=\"black\"/>\n",
       "<path d=\"M8096,704 L8096,3648 \" stroke=\"black\"/>\n",
       "<circle cx=\"8096\" cy=\"3648\" r=\"12\" stroke=\"none\" fill=\"black\"/>\n",
       "<circle cx=\"8096\" cy=\"704\" r=\"12\" stroke=\"none\" fill=\"black\"/>\n",
       "<path d=\"M8160,1344 L8160,4352 \" stroke=\"black\"/>\n",
       "<circle cx=\"8160\" cy=\"4352\" r=\"12\" stroke=\"none\" fill=\"black\"/>\n",
       "<circle cx=\"8160\" cy=\"1344\" r=\"12\" stroke=\"none\" fill=\"black\"/>\n",
       "<path d=\"M7940,40 L7940,32 L8188,32 L8188,40 \" stroke=\"black\" fill=\"none\"/>\n",
       "<path d=\"M7940,6776 L7940,6784 L8188,6784 L8188,6776 \" stroke=\"black\" fill=\"none\"/>\n",
       "<rect x=\"8208\" y=\"3696\" width=\"32\" height=\"32\" stroke=\"black\" fill=\"white\"/>\n",
       "<text dominant-baseline=\"central\" text-anchor=\"middle\" font-family=\"monospace\" font-size=\"30\" x=\"8224\" y=\"3712\">H</text>\n",
       "<rect x=\"8208\" y=\"4272\" width=\"32\" height=\"32\" stroke=\"black\" fill=\"white\"/>\n",
       "<text dominant-baseline=\"central\" text-anchor=\"middle\" font-family=\"monospace\" font-size=\"30\" x=\"8224\" y=\"4288\">H</text>\n",
       "<rect x=\"8208\" y=\"4400\" width=\"32\" height=\"32\" stroke=\"black\" fill=\"white\"/>\n",
       "<text dominant-baseline=\"central\" text-anchor=\"middle\" font-family=\"monospace\" font-size=\"30\" x=\"8224\" y=\"4416\">H</text>\n",
       "<rect x=\"8208\" y=\"3568\" width=\"32\" height=\"32\" stroke=\"black\" fill=\"white\"/>\n",
       "<text dominant-baseline=\"central\" text-anchor=\"middle\" font-family=\"monospace\" font-size=\"30\" x=\"8224\" y=\"3584\">H</text>\n",
       "<rect x=\"8208\" y=\"3632\" width=\"32\" height=\"32\" stroke=\"black\" fill=\"white\"/>\n",
       "<text dominant-baseline=\"central\" text-anchor=\"middle\" font-family=\"monospace\" font-size=\"30\" x=\"8224\" y=\"3648\">H</text>\n",
       "<rect x=\"8208\" y=\"4336\" width=\"32\" height=\"32\" stroke=\"black\" fill=\"white\"/>\n",
       "<text dominant-baseline=\"central\" text-anchor=\"middle\" font-family=\"monospace\" font-size=\"30\" x=\"8224\" y=\"4352\">H</text>\n",
       "<rect x=\"8208\" y=\"4912\" width=\"32\" height=\"32\" stroke=\"black\" fill=\"white\"/>\n",
       "<text dominant-baseline=\"central\" text-anchor=\"middle\" font-family=\"monospace\" font-size=\"30\" x=\"8224\" y=\"4928\">H</text>\n",
       "<rect x=\"8208\" y=\"3056\" width=\"32\" height=\"32\" stroke=\"black\" fill=\"white\"/>\n",
       "<text dominant-baseline=\"central\" text-anchor=\"middle\" font-family=\"monospace\" font-size=\"30\" x=\"8224\" y=\"3072\">H</text>\n",
       "<rect x=\"8272\" y=\"3696\" width=\"32\" height=\"32\" stroke=\"black\" fill=\"black\"/>\n",
       "<text dominant-baseline=\"central\" text-anchor=\"middle\" font-family=\"monospace\" font-size=\"24\" x=\"8288\" y=\"3712\" fill=\"white\">MR</text>\n",
       "<text text-anchor=\"middle\" font-family=\"monospace\" font-size=\"8\" x=\"8288\" y=\"3692\">rec[31]</text>\n",
       "<rect x=\"8272\" y=\"4272\" width=\"32\" height=\"32\" stroke=\"black\" fill=\"black\"/>\n",
       "<text dominant-baseline=\"central\" text-anchor=\"middle\" font-family=\"monospace\" font-size=\"24\" x=\"8288\" y=\"4288\" fill=\"white\">MR</text>\n",
       "<text text-anchor=\"middle\" font-family=\"monospace\" font-size=\"8\" x=\"8288\" y=\"4268\">rec[32]</text>\n",
       "<rect x=\"8272\" y=\"4400\" width=\"32\" height=\"32\" stroke=\"black\" fill=\"black\"/>\n",
       "<text dominant-baseline=\"central\" text-anchor=\"middle\" font-family=\"monospace\" font-size=\"24\" x=\"8288\" y=\"4416\" fill=\"white\">MR</text>\n",
       "<text text-anchor=\"middle\" font-family=\"monospace\" font-size=\"8\" x=\"8288\" y=\"4396\">rec[33]</text>\n",
       "<rect x=\"8272\" y=\"3568\" width=\"32\" height=\"32\" stroke=\"black\" fill=\"black\"/>\n",
       "<text dominant-baseline=\"central\" text-anchor=\"middle\" font-family=\"monospace\" font-size=\"24\" x=\"8288\" y=\"3584\" fill=\"white\">MR</text>\n",
       "<text text-anchor=\"middle\" font-family=\"monospace\" font-size=\"8\" x=\"8288\" y=\"3564\">rec[34]</text>\n",
       "<rect x=\"8272\" y=\"3632\" width=\"32\" height=\"32\" stroke=\"black\" fill=\"black\"/>\n",
       "<text dominant-baseline=\"central\" text-anchor=\"middle\" font-family=\"monospace\" font-size=\"24\" x=\"8288\" y=\"3648\" fill=\"white\">MR</text>\n",
       "<text text-anchor=\"middle\" font-family=\"monospace\" font-size=\"8\" x=\"8288\" y=\"3628\">rec[35]</text>\n",
       "<rect x=\"8272\" y=\"4336\" width=\"32\" height=\"32\" stroke=\"black\" fill=\"black\"/>\n",
       "<text dominant-baseline=\"central\" text-anchor=\"middle\" font-family=\"monospace\" font-size=\"24\" x=\"8288\" y=\"4352\" fill=\"white\">MR</text>\n",
       "<text text-anchor=\"middle\" font-family=\"monospace\" font-size=\"8\" x=\"8288\" y=\"4332\">rec[36]</text>\n",
       "<rect x=\"8272\" y=\"4912\" width=\"32\" height=\"32\" stroke=\"black\" fill=\"black\"/>\n",
       "<text dominant-baseline=\"central\" text-anchor=\"middle\" font-family=\"monospace\" font-size=\"24\" x=\"8288\" y=\"4928\" fill=\"white\">MR</text>\n",
       "<text text-anchor=\"middle\" font-family=\"monospace\" font-size=\"8\" x=\"8288\" y=\"4908\">rec[37]</text>\n",
       "<rect x=\"8272\" y=\"3056\" width=\"32\" height=\"32\" stroke=\"black\" fill=\"black\"/>\n",
       "<text dominant-baseline=\"central\" text-anchor=\"middle\" font-family=\"monospace\" font-size=\"24\" x=\"8288\" y=\"3072\" fill=\"white\">MR</text>\n",
       "<text text-anchor=\"middle\" font-family=\"monospace\" font-size=\"8\" x=\"8288\" y=\"3052\">rec[38]</text>\n",
       "<rect x=\"8336\" y=\"304\" width=\"32\" height=\"32\" stroke=\"black\" fill=\"black\"/>\n",
       "<text dominant-baseline=\"central\" text-anchor=\"middle\" font-family=\"monospace\" font-size=\"30\" x=\"8352\" y=\"320\" fill=\"white\">M</text>\n",
       "<text text-anchor=\"middle\" font-family=\"monospace\" font-size=\"8\" x=\"8352\" y=\"300\">rec[39]</text>\n",
       "<rect x=\"8336\" y=\"880\" width=\"32\" height=\"32\" stroke=\"black\" fill=\"black\"/>\n",
       "<text dominant-baseline=\"central\" text-anchor=\"middle\" font-family=\"monospace\" font-size=\"30\" x=\"8352\" y=\"896\" fill=\"white\">M</text>\n",
       "<text text-anchor=\"middle\" font-family=\"monospace\" font-size=\"8\" x=\"8352\" y=\"876\">rec[40]</text>\n",
       "<rect x=\"8336\" y=\"1456\" width=\"32\" height=\"32\" stroke=\"black\" fill=\"black\"/>\n",
       "<text dominant-baseline=\"central\" text-anchor=\"middle\" font-family=\"monospace\" font-size=\"30\" x=\"8352\" y=\"1472\" fill=\"white\">M</text>\n",
       "<text text-anchor=\"middle\" font-family=\"monospace\" font-size=\"8\" x=\"8352\" y=\"1452\">rec[41]</text>\n",
       "<rect x=\"8336\" y=\"176\" width=\"32\" height=\"32\" stroke=\"black\" fill=\"black\"/>\n",
       "<text dominant-baseline=\"central\" text-anchor=\"middle\" font-family=\"monospace\" font-size=\"30\" x=\"8352\" y=\"192\" fill=\"white\">M</text>\n",
       "<text text-anchor=\"middle\" font-family=\"monospace\" font-size=\"8\" x=\"8352\" y=\"172\">rec[42]</text>\n",
       "<rect x=\"8336\" y=\"752\" width=\"32\" height=\"32\" stroke=\"black\" fill=\"black\"/>\n",
       "<text dominant-baseline=\"central\" text-anchor=\"middle\" font-family=\"monospace\" font-size=\"30\" x=\"8352\" y=\"768\" fill=\"white\">M</text>\n",
       "<text text-anchor=\"middle\" font-family=\"monospace\" font-size=\"8\" x=\"8352\" y=\"748\">rec[43]</text>\n",
       "<rect x=\"8336\" y=\"1328\" width=\"32\" height=\"32\" stroke=\"black\" fill=\"black\"/>\n",
       "<text dominant-baseline=\"central\" text-anchor=\"middle\" font-family=\"monospace\" font-size=\"30\" x=\"8352\" y=\"1344\" fill=\"white\">M</text>\n",
       "<text text-anchor=\"middle\" font-family=\"monospace\" font-size=\"8\" x=\"8352\" y=\"1324\">rec[44]</text>\n",
       "</svg>"
      ],
      "text/plain": [
       "<svg viewBox=\"0 0 8416 6816\"  version=\"1.1\" xmlns=\"http://www.w3.org/2000/svg\">\n",
       "<g id=\"qubit_lines\">\n",
       "<path id=\"qubit_line:0\" d=\"M64,64 L8384,64 \" stroke=\"black\"/>\n",
       "<text dominant-baseline=\"central\" text-anchor=\"end\" font-family=\"monospace\" font-size=\"12\" x=\"64\" y=\"64\">q0</text>\n",
       "<path id=\"qubit_line:1\" d=\"M64,128 L8384,128 \" stroke=\"black\"/>\n",
       "<text dominant-baseline=\"central\" text-anchor=\"end\" font-family=\"monospace\" font-size=\"12\" x=\"64\" y=\"128\">q1</text>\n",
       "<path id=\"qubit_line:2\" d=\"M64,192 L8384,192 \" stroke=\"black\"/>\n",
       "<text dominant-baseline=\"central\" text-anchor=\"end\" font-family=\"monospace\" font-size=\"12\" x=\"64\" y=\"192\">q2</text>\n",
       "<path id=\"qubit_line:3\" d=\"M64,256 L8384,256 \" stroke=\"black\"/>\n",
       "<text dominant-baseline=\"central\" text-anchor=\"end\" font-family=\"monospace\" font-size=\"12\" x=\"64\" y=\"256\">q3</text>\n",
       "<path id=\"qubit_line:4\" d=\"M64,320 L8384,320 \" stroke=\"black\"/>\n",
       "<text dominant-baseline=\"central\" text-anchor=\"end\" font-family=\"monospace\" font-size=\"12\" x=\"64\" y=\"320\">q4</text>\n",
       "<path id=\"qubit_line:5\" d=\"M64,384 L8384,384 \" stroke=\"black\"/>\n",
       "<text dominant-baseline=\"central\" text-anchor=\"end\" font-family=\"monospace\" font-size=\"12\" x=\"64\" y=\"384\">q5</text>\n",
       "<path id=\"qubit_line:6\" d=\"M64,448 L8384,448 \" stroke=\"black\"/>\n",
       "<text dominant-baseline=\"central\" text-anchor=\"end\" font-family=\"monospace\" font-size=\"12\" x=\"64\" y=\"448\">q6</text>\n",
       "<path id=\"qubit_line:7\" d=\"M64,512 L8384,512 \" stroke=\"black\"/>\n",
       "<text dominant-baseline=\"central\" text-anchor=\"end\" font-family=\"monospace\" font-size=\"12\" x=\"64\" y=\"512\">q7</text>\n",
       "<path id=\"qubit_line:8\" d=\"M64,576 L8384,576 \" stroke=\"black\"/>\n",
       "<text dominant-baseline=\"central\" text-anchor=\"end\" font-family=\"monospace\" font-size=\"12\" x=\"64\" y=\"576\">q8</text>\n",
       "<path id=\"qubit_line:9\" d=\"M64,640 L8384,640 \" stroke=\"black\"/>\n",
       "<text dominant-baseline=\"central\" text-anchor=\"end\" font-family=\"monospace\" font-size=\"12\" x=\"64\" y=\"640\">q9</text>\n",
       "<path id=\"qubit_line:10\" d=\"M64,704 L8384,704 \" stroke=\"black\"/>\n",
       "<text dominant-baseline=\"central\" text-anchor=\"end\" font-family=\"monospace\" font-size=\"12\" x=\"64\" y=\"704\">q10</text>\n",
       "<path id=\"qubit_line:11\" d=\"M64,768 L8384,768 \" stroke=\"black\"/>\n",
       "<text dominant-baseline=\"central\" text-anchor=\"end\" font-family=\"monospace\" font-size=\"12\" x=\"64\" y=\"768\">q11</text>\n",
       "<path id=\"qubit_line:12\" d=\"M64,832 L8384,832 \" stroke=\"black\"/>\n",
       "<text dominant-baseline=\"central\" text-anchor=\"end\" font-family=\"monospace\" font-size=\"12\" x=\"64\" y=\"832\">q12</text>\n",
       "<path id=\"qubit_line:13\" d=\"M64,896 L8384,896 \" stroke=\"black\"/>\n",
       "<text dominant-baseline=\"central\" text-anchor=\"end\" font-family=\"monospace\" font-size=\"12\" x=\"64\" y=\"896\">q13</text>\n",
       "<path id=\"qubit_line:14\" d=\"M64,960 L8384,960 \" stroke=\"black\"/>\n",
       "<text dominant-baseline=\"central\" text-anchor=\"end\" font-family=\"monospace\" font-size=\"12\" x=\"64\" y=\"960\">q14</text>\n",
       "<path id=\"qubit_line:15\" d=\"M64,1024 L8384,1024 \" stroke=\"black\"/>\n",
       "<text dominant-baseline=\"central\" text-anchor=\"end\" font-family=\"monospace\" font-size=\"12\" x=\"64\" y=\"1024\">q15</text>\n",
       "<path id=\"qubit_line:16\" d=\"M64,1088 L8384,1088 \" stroke=\"black\"/>\n",
       "<text dominant-baseline=\"central\" text-anchor=\"end\" font-family=\"monospace\" font-size=\"12\" x=\"64\" y=\"1088\">q16</text>\n",
       "<path id=\"qubit_line:17\" d=\"M64,1152 L8384,1152 \" stroke=\"black\"/>\n",
       "<text dominant-baseline=\"central\" text-anchor=\"end\" font-family=\"monospace\" font-size=\"12\" x=\"64\" y=\"1152\">q17</text>\n",
       "<path id=\"qubit_line:18\" d=\"M64,1216 L8384,1216 \" stroke=\"black\"/>\n",
       "<text dominant-baseline=\"central\" text-anchor=\"end\" font-family=\"monospace\" font-size=\"12\" x=\"64\" y=\"1216\">q18</text>\n",
       "<path id=\"qubit_line:19\" d=\"M64,1280 L8384,1280 \" stroke=\"black\"/>\n",
       "<text dominant-baseline=\"central\" text-anchor=\"end\" font-family=\"monospace\" font-size=\"12\" x=\"64\" y=\"1280\">q19</text>\n",
       "<path id=\"qubit_line:20\" d=\"M64,1344 L8384,1344 \" stroke=\"black\"/>\n",
       "<text dominant-baseline=\"central\" text-anchor=\"end\" font-family=\"monospace\" font-size=\"12\" x=\"64\" y=\"1344\">q20</text>\n",
       "<path id=\"qubit_line:21\" d=\"M64,1408 L8384,1408 \" stroke=\"black\"/>\n",
       "<text dominant-baseline=\"central\" text-anchor=\"end\" font-family=\"monospace\" font-size=\"12\" x=\"64\" y=\"1408\">q21</text>\n",
       "<path id=\"qubit_line:22\" d=\"M64,1472 L8384,1472 \" stroke=\"black\"/>\n",
       "<text dominant-baseline=\"central\" text-anchor=\"end\" font-family=\"monospace\" font-size=\"12\" x=\"64\" y=\"1472\">q22</text>\n",
       "<path id=\"qubit_line:23\" d=\"M64,1536 L8384,1536 \" stroke=\"black\"/>\n",
       "<text dominant-baseline=\"central\" text-anchor=\"end\" font-family=\"monospace\" font-size=\"12\" x=\"64\" y=\"1536\">q23</text>\n",
       "<path id=\"qubit_line:24\" d=\"M64,1600 L8384,1600 \" stroke=\"black\"/>\n",
       "<text dominant-baseline=\"central\" text-anchor=\"end\" font-family=\"monospace\" font-size=\"12\" x=\"64\" y=\"1600\">q24</text>\n",
       "<path id=\"qubit_line:25\" d=\"M64,1664 L8384,1664 \" stroke=\"black\"/>\n",
       "<text dominant-baseline=\"central\" text-anchor=\"end\" font-family=\"monospace\" font-size=\"12\" x=\"64\" y=\"1664\">q25</text>\n",
       "<path id=\"qubit_line:26\" d=\"M64,1728 L8384,1728 \" stroke=\"black\"/>\n",
       "<text dominant-baseline=\"central\" text-anchor=\"end\" font-family=\"monospace\" font-size=\"12\" x=\"64\" y=\"1728\">q26</text>\n",
       "<path id=\"qubit_line:27\" d=\"M64,1792 L8384,1792 \" stroke=\"black\"/>\n",
       "<text dominant-baseline=\"central\" text-anchor=\"end\" font-family=\"monospace\" font-size=\"12\" x=\"64\" y=\"1792\">q27</text>\n",
       "<path id=\"qubit_line:28\" d=\"M64,1856 L8384,1856 \" stroke=\"black\"/>\n",
       "<text dominant-baseline=\"central\" text-anchor=\"end\" font-family=\"monospace\" font-size=\"12\" x=\"64\" y=\"1856\">q28</text>\n",
       "<path id=\"qubit_line:29\" d=\"M64,1920 L8384,1920 \" stroke=\"black\"/>\n",
       "<text dominant-baseline=\"central\" text-anchor=\"end\" font-family=\"monospace\" font-size=\"12\" x=\"64\" y=\"1920\">q29</text>\n",
       "<path id=\"qubit_line:30\" d=\"M64,1984 L8384,1984 \" stroke=\"black\"/>\n",
       "<text dominant-baseline=\"central\" text-anchor=\"end\" font-family=\"monospace\" font-size=\"12\" x=\"64\" y=\"1984\">q30</text>\n",
       "<path id=\"qubit_line:31\" d=\"M64,2048 L8384,2048 \" stroke=\"black\"/>\n",
       "<text dominant-baseline=\"central\" text-anchor=\"end\" font-family=\"monospace\" font-size=\"12\" x=\"64\" y=\"2048\">q31</text>\n",
       "<path id=\"qubit_line:32\" d=\"M64,2112 L8384,2112 \" stroke=\"black\"/>\n",
       "<text dominant-baseline=\"central\" text-anchor=\"end\" font-family=\"monospace\" font-size=\"12\" x=\"64\" y=\"2112\">q32</text>\n",
       "<path id=\"qubit_line:33\" d=\"M64,2176 L8384,2176 \" stroke=\"black\"/>\n",
       "<text dominant-baseline=\"central\" text-anchor=\"end\" font-family=\"monospace\" font-size=\"12\" x=\"64\" y=\"2176\">q33</text>\n",
       "<path id=\"qubit_line:34\" d=\"M64,2240 L8384,2240 \" stroke=\"black\"/>\n",
       "<text dominant-baseline=\"central\" text-anchor=\"end\" font-family=\"monospace\" font-size=\"12\" x=\"64\" y=\"2240\">q34</text>\n",
       "<path id=\"qubit_line:35\" d=\"M64,2304 L8384,2304 \" stroke=\"black\"/>\n",
       "<text dominant-baseline=\"central\" text-anchor=\"end\" font-family=\"monospace\" font-size=\"12\" x=\"64\" y=\"2304\">q35</text>\n",
       "<path id=\"qubit_line:36\" d=\"M64,2368 L8384,2368 \" stroke=\"black\"/>\n",
       "<text dominant-baseline=\"central\" text-anchor=\"end\" font-family=\"monospace\" font-size=\"12\" x=\"64\" y=\"2368\">q36</text>\n",
       "<path id=\"qubit_line:37\" d=\"M64,2432 L8384,2432 \" stroke=\"black\"/>\n",
       "<text dominant-baseline=\"central\" text-anchor=\"end\" font-family=\"monospace\" font-size=\"12\" x=\"64\" y=\"2432\">q37</text>\n",
       "<path id=\"qubit_line:38\" d=\"M64,2496 L8384,2496 \" stroke=\"black\"/>\n",
       "<text dominant-baseline=\"central\" text-anchor=\"end\" font-family=\"monospace\" font-size=\"12\" x=\"64\" y=\"2496\">q38</text>\n",
       "<path id=\"qubit_line:39\" d=\"M64,2560 L8384,2560 \" stroke=\"black\"/>\n",
       "<text dominant-baseline=\"central\" text-anchor=\"end\" font-family=\"monospace\" font-size=\"12\" x=\"64\" y=\"2560\">q39</text>\n",
       "<path id=\"qubit_line:40\" d=\"M64,2624 L8384,2624 \" stroke=\"black\"/>\n",
       "<text dominant-baseline=\"central\" text-anchor=\"end\" font-family=\"monospace\" font-size=\"12\" x=\"64\" y=\"2624\">q40</text>\n",
       "<path id=\"qubit_line:41\" d=\"M64,2688 L8384,2688 \" stroke=\"black\"/>\n",
       "<text dominant-baseline=\"central\" text-anchor=\"end\" font-family=\"monospace\" font-size=\"12\" x=\"64\" y=\"2688\">q41</text>\n",
       "<path id=\"qubit_line:42\" d=\"M64,2752 L8384,2752 \" stroke=\"black\"/>\n",
       "<text dominant-baseline=\"central\" text-anchor=\"end\" font-family=\"monospace\" font-size=\"12\" x=\"64\" y=\"2752\">q42</text>\n",
       "<path id=\"qubit_line:43\" d=\"M64,2816 L8384,2816 \" stroke=\"black\"/>\n",
       "<text dominant-baseline=\"central\" text-anchor=\"end\" font-family=\"monospace\" font-size=\"12\" x=\"64\" y=\"2816\">q43</text>\n",
       "<path id=\"qubit_line:44\" d=\"M64,2880 L8384,2880 \" stroke=\"black\"/>\n",
       "<text dominant-baseline=\"central\" text-anchor=\"end\" font-family=\"monospace\" font-size=\"12\" x=\"64\" y=\"2880\">q44</text>\n",
       "<path id=\"qubit_line:45\" d=\"M64,2944 L8384,2944 \" stroke=\"black\"/>\n",
       "<text dominant-baseline=\"central\" text-anchor=\"end\" font-family=\"monospace\" font-size=\"12\" x=\"64\" y=\"2944\">q45</text>\n",
       "<path id=\"qubit_line:46\" d=\"M64,3008 L8384,3008 \" stroke=\"black\"/>\n",
       "<text dominant-baseline=\"central\" text-anchor=\"end\" font-family=\"monospace\" font-size=\"12\" x=\"64\" y=\"3008\">q46</text>\n",
       "<path id=\"qubit_line:47\" d=\"M64,3072 L8384,3072 \" stroke=\"black\"/>\n",
       "<text dominant-baseline=\"central\" text-anchor=\"end\" font-family=\"monospace\" font-size=\"12\" x=\"64\" y=\"3072\">q47</text>\n",
       "<path id=\"qubit_line:48\" d=\"M64,3136 L8384,3136 \" stroke=\"black\"/>\n",
       "<text dominant-baseline=\"central\" text-anchor=\"end\" font-family=\"monospace\" font-size=\"12\" x=\"64\" y=\"3136\">q48</text>\n",
       "<path id=\"qubit_line:49\" d=\"M64,3200 L8384,3200 \" stroke=\"black\"/>\n",
       "<text dominant-baseline=\"central\" text-anchor=\"end\" font-family=\"monospace\" font-size=\"12\" x=\"64\" y=\"3200\">q49</text>\n",
       "<path id=\"qubit_line:50\" d=\"M64,3264 L8384,3264 \" stroke=\"black\"/>\n",
       "<text dominant-baseline=\"central\" text-anchor=\"end\" font-family=\"monospace\" font-size=\"12\" x=\"64\" y=\"3264\">q50</text>\n",
       "<path id=\"qubit_line:51\" d=\"M64,3328 L8384,3328 \" stroke=\"black\"/>\n",
       "<text dominant-baseline=\"central\" text-anchor=\"end\" font-family=\"monospace\" font-size=\"12\" x=\"64\" y=\"3328\">q51</text>\n",
       "<path id=\"qubit_line:52\" d=\"M64,3392 L8384,3392 \" stroke=\"black\"/>\n",
       "<text dominant-baseline=\"central\" text-anchor=\"end\" font-family=\"monospace\" font-size=\"12\" x=\"64\" y=\"3392\">q52</text>\n",
       "<path id=\"qubit_line:53\" d=\"M64,3456 L8384,3456 \" stroke=\"black\"/>\n",
       "<text dominant-baseline=\"central\" text-anchor=\"end\" font-family=\"monospace\" font-size=\"12\" x=\"64\" y=\"3456\">q53</text>\n",
       "<path id=\"qubit_line:54\" d=\"M64,3520 L8384,3520 \" stroke=\"black\"/>\n",
       "<text dominant-baseline=\"central\" text-anchor=\"end\" font-family=\"monospace\" font-size=\"12\" x=\"64\" y=\"3520\">q54</text>\n",
       "<path id=\"qubit_line:55\" d=\"M64,3584 L8384,3584 \" stroke=\"black\"/>\n",
       "<text dominant-baseline=\"central\" text-anchor=\"end\" font-family=\"monospace\" font-size=\"12\" x=\"64\" y=\"3584\">q55</text>\n",
       "<path id=\"qubit_line:56\" d=\"M64,3648 L8384,3648 \" stroke=\"black\"/>\n",
       "<text dominant-baseline=\"central\" text-anchor=\"end\" font-family=\"monospace\" font-size=\"12\" x=\"64\" y=\"3648\">q56</text>\n",
       "<path id=\"qubit_line:57\" d=\"M64,3712 L8384,3712 \" stroke=\"black\"/>\n",
       "<text dominant-baseline=\"central\" text-anchor=\"end\" font-family=\"monospace\" font-size=\"12\" x=\"64\" y=\"3712\">q57</text>\n",
       "<path id=\"qubit_line:58\" d=\"M64,3776 L8384,3776 \" stroke=\"black\"/>\n",
       "<text dominant-baseline=\"central\" text-anchor=\"end\" font-family=\"monospace\" font-size=\"12\" x=\"64\" y=\"3776\">q58</text>\n",
       "<path id=\"qubit_line:59\" d=\"M64,3840 L8384,3840 \" stroke=\"black\"/>\n",
       "<text dominant-baseline=\"central\" text-anchor=\"end\" font-family=\"monospace\" font-size=\"12\" x=\"64\" y=\"3840\">q59</text>\n",
       "<path id=\"qubit_line:60\" d=\"M64,3904 L8384,3904 \" stroke=\"black\"/>\n",
       "<text dominant-baseline=\"central\" text-anchor=\"end\" font-family=\"monospace\" font-size=\"12\" x=\"64\" y=\"3904\">q60</text>\n",
       "<path id=\"qubit_line:61\" d=\"M64,3968 L8384,3968 \" stroke=\"black\"/>\n",
       "<text dominant-baseline=\"central\" text-anchor=\"end\" font-family=\"monospace\" font-size=\"12\" x=\"64\" y=\"3968\">q61</text>\n",
       "<path id=\"qubit_line:62\" d=\"M64,4032 L8384,4032 \" stroke=\"black\"/>\n",
       "<text dominant-baseline=\"central\" text-anchor=\"end\" font-family=\"monospace\" font-size=\"12\" x=\"64\" y=\"4032\">q62</text>\n",
       "<path id=\"qubit_line:63\" d=\"M64,4096 L8384,4096 \" stroke=\"black\"/>\n",
       "<text dominant-baseline=\"central\" text-anchor=\"end\" font-family=\"monospace\" font-size=\"12\" x=\"64\" y=\"4096\">q63</text>\n",
       "<path id=\"qubit_line:64\" d=\"M64,4160 L8384,4160 \" stroke=\"black\"/>\n",
       "<text dominant-baseline=\"central\" text-anchor=\"end\" font-family=\"monospace\" font-size=\"12\" x=\"64\" y=\"4160\">q64</text>\n",
       "<path id=\"qubit_line:65\" d=\"M64,4224 L8384,4224 \" stroke=\"black\"/>\n",
       "<text dominant-baseline=\"central\" text-anchor=\"end\" font-family=\"monospace\" font-size=\"12\" x=\"64\" y=\"4224\">q65</text>\n",
       "<path id=\"qubit_line:66\" d=\"M64,4288 L8384,4288 \" stroke=\"black\"/>\n",
       "<text dominant-baseline=\"central\" text-anchor=\"end\" font-family=\"monospace\" font-size=\"12\" x=\"64\" y=\"4288\">q66</text>\n",
       "<path id=\"qubit_line:67\" d=\"M64,4352 L8384,4352 \" stroke=\"black\"/>\n",
       "<text dominant-baseline=\"central\" text-anchor=\"end\" font-family=\"monospace\" font-size=\"12\" x=\"64\" y=\"4352\">q67</text>\n",
       "<path id=\"qubit_line:68\" d=\"M64,4416 L8384,4416 \" stroke=\"black\"/>\n",
       "<text dominant-baseline=\"central\" text-anchor=\"end\" font-family=\"monospace\" font-size=\"12\" x=\"64\" y=\"4416\">q68</text>\n",
       "<path id=\"qubit_line:69\" d=\"M64,4480 L8384,4480 \" stroke=\"black\"/>\n",
       "<text dominant-baseline=\"central\" text-anchor=\"end\" font-family=\"monospace\" font-size=\"12\" x=\"64\" y=\"4480\">q69</text>\n",
       "<path id=\"qubit_line:70\" d=\"M64,4544 L8384,4544 \" stroke=\"black\"/>\n",
       "<text dominant-baseline=\"central\" text-anchor=\"end\" font-family=\"monospace\" font-size=\"12\" x=\"64\" y=\"4544\">q70</text>\n",
       "<path id=\"qubit_line:71\" d=\"M64,4608 L8384,4608 \" stroke=\"black\"/>\n",
       "<text dominant-baseline=\"central\" text-anchor=\"end\" font-family=\"monospace\" font-size=\"12\" x=\"64\" y=\"4608\">q71</text>\n",
       "<path id=\"qubit_line:72\" d=\"M64,4672 L8384,4672 \" stroke=\"black\"/>\n",
       "<text dominant-baseline=\"central\" text-anchor=\"end\" font-family=\"monospace\" font-size=\"12\" x=\"64\" y=\"4672\">q72</text>\n",
       "<path id=\"qubit_line:73\" d=\"M64,4736 L8384,4736 \" stroke=\"black\"/>\n",
       "<text dominant-baseline=\"central\" text-anchor=\"end\" font-family=\"monospace\" font-size=\"12\" x=\"64\" y=\"4736\">q73</text>\n",
       "<path id=\"qubit_line:74\" d=\"M64,4800 L8384,4800 \" stroke=\"black\"/>\n",
       "<text dominant-baseline=\"central\" text-anchor=\"end\" font-family=\"monospace\" font-size=\"12\" x=\"64\" y=\"4800\">q74</text>\n",
       "<path id=\"qubit_line:75\" d=\"M64,4864 L8384,4864 \" stroke=\"black\"/>\n",
       "<text dominant-baseline=\"central\" text-anchor=\"end\" font-family=\"monospace\" font-size=\"12\" x=\"64\" y=\"4864\">q75</text>\n",
       "<path id=\"qubit_line:76\" d=\"M64,4928 L8384,4928 \" stroke=\"black\"/>\n",
       "<text dominant-baseline=\"central\" text-anchor=\"end\" font-family=\"monospace\" font-size=\"12\" x=\"64\" y=\"4928\">q76</text>\n",
       "<path id=\"qubit_line:77\" d=\"M64,4992 L8384,4992 \" stroke=\"black\"/>\n",
       "<text dominant-baseline=\"central\" text-anchor=\"end\" font-family=\"monospace\" font-size=\"12\" x=\"64\" y=\"4992\">q77</text>\n",
       "<path id=\"qubit_line:78\" d=\"M64,5056 L8384,5056 \" stroke=\"black\"/>\n",
       "<text dominant-baseline=\"central\" text-anchor=\"end\" font-family=\"monospace\" font-size=\"12\" x=\"64\" y=\"5056\">q78</text>\n",
       "<path id=\"qubit_line:79\" d=\"M64,5120 L8384,5120 \" stroke=\"black\"/>\n",
       "<text dominant-baseline=\"central\" text-anchor=\"end\" font-family=\"monospace\" font-size=\"12\" x=\"64\" y=\"5120\">q79</text>\n",
       "<path id=\"qubit_line:80\" d=\"M64,5184 L8384,5184 \" stroke=\"black\"/>\n",
       "<text dominant-baseline=\"central\" text-anchor=\"end\" font-family=\"monospace\" font-size=\"12\" x=\"64\" y=\"5184\">q80</text>\n",
       "<path id=\"qubit_line:81\" d=\"M64,5248 L8384,5248 \" stroke=\"black\"/>\n",
       "<text dominant-baseline=\"central\" text-anchor=\"end\" font-family=\"monospace\" font-size=\"12\" x=\"64\" y=\"5248\">q81</text>\n",
       "<path id=\"qubit_line:82\" d=\"M64,5312 L8384,5312 \" stroke=\"black\"/>\n",
       "<text dominant-baseline=\"central\" text-anchor=\"end\" font-family=\"monospace\" font-size=\"12\" x=\"64\" y=\"5312\">q82</text>\n",
       "<path id=\"qubit_line:83\" d=\"M64,5376 L8384,5376 \" stroke=\"black\"/>\n",
       "<text dominant-baseline=\"central\" text-anchor=\"end\" font-family=\"monospace\" font-size=\"12\" x=\"64\" y=\"5376\">q83</text>\n",
       "<path id=\"qubit_line:84\" d=\"M64,5440 L8384,5440 \" stroke=\"black\"/>\n",
       "<text dominant-baseline=\"central\" text-anchor=\"end\" font-family=\"monospace\" font-size=\"12\" x=\"64\" y=\"5440\">q84</text>\n",
       "<path id=\"qubit_line:85\" d=\"M64,5504 L8384,5504 \" stroke=\"black\"/>\n",
       "<text dominant-baseline=\"central\" text-anchor=\"end\" font-family=\"monospace\" font-size=\"12\" x=\"64\" y=\"5504\">q85</text>\n",
       "<path id=\"qubit_line:86\" d=\"M64,5568 L8384,5568 \" stroke=\"black\"/>\n",
       "<text dominant-baseline=\"central\" text-anchor=\"end\" font-family=\"monospace\" font-size=\"12\" x=\"64\" y=\"5568\">q86</text>\n",
       "<path id=\"qubit_line:87\" d=\"M64,5632 L8384,5632 \" stroke=\"black\"/>\n",
       "<text dominant-baseline=\"central\" text-anchor=\"end\" font-family=\"monospace\" font-size=\"12\" x=\"64\" y=\"5632\">q87</text>\n",
       "<path id=\"qubit_line:88\" d=\"M64,5696 L8384,5696 \" stroke=\"black\"/>\n",
       "<text dominant-baseline=\"central\" text-anchor=\"end\" font-family=\"monospace\" font-size=\"12\" x=\"64\" y=\"5696\">q88</text>\n",
       "<path id=\"qubit_line:89\" d=\"M64,5760 L8384,5760 \" stroke=\"black\"/>\n",
       "<text dominant-baseline=\"central\" text-anchor=\"end\" font-family=\"monospace\" font-size=\"12\" x=\"64\" y=\"5760\">q89</text>\n",
       "<path id=\"qubit_line:90\" d=\"M64,5824 L8384,5824 \" stroke=\"black\"/>\n",
       "<text dominant-baseline=\"central\" text-anchor=\"end\" font-family=\"monospace\" font-size=\"12\" x=\"64\" y=\"5824\">q90</text>\n",
       "<path id=\"qubit_line:91\" d=\"M64,5888 L8384,5888 \" stroke=\"black\"/>\n",
       "<text dominant-baseline=\"central\" text-anchor=\"end\" font-family=\"monospace\" font-size=\"12\" x=\"64\" y=\"5888\">q91</text>\n",
       "<path id=\"qubit_line:92\" d=\"M64,5952 L8384,5952 \" stroke=\"black\"/>\n",
       "<text dominant-baseline=\"central\" text-anchor=\"end\" font-family=\"monospace\" font-size=\"12\" x=\"64\" y=\"5952\">q92</text>\n",
       "<path id=\"qubit_line:93\" d=\"M64,6016 L8384,6016 \" stroke=\"black\"/>\n",
       "<text dominant-baseline=\"central\" text-anchor=\"end\" font-family=\"monospace\" font-size=\"12\" x=\"64\" y=\"6016\">q93</text>\n",
       "<path id=\"qubit_line:94\" d=\"M64,6080 L8384,6080 \" stroke=\"black\"/>\n",
       "<text dominant-baseline=\"central\" text-anchor=\"end\" font-family=\"monospace\" font-size=\"12\" x=\"64\" y=\"6080\">q94</text>\n",
       "<path id=\"qubit_line:95\" d=\"M64,6144 L8384,6144 \" stroke=\"black\"/>\n",
       "<text dominant-baseline=\"central\" text-anchor=\"end\" font-family=\"monospace\" font-size=\"12\" x=\"64\" y=\"6144\">q95</text>\n",
       "<path id=\"qubit_line:96\" d=\"M64,6208 L8384,6208 \" stroke=\"black\"/>\n",
       "<text dominant-baseline=\"central\" text-anchor=\"end\" font-family=\"monospace\" font-size=\"12\" x=\"64\" y=\"6208\">q96</text>\n",
       "<path id=\"qubit_line:97\" d=\"M64,6272 L8384,6272 \" stroke=\"black\"/>\n",
       "<text dominant-baseline=\"central\" text-anchor=\"end\" font-family=\"monospace\" font-size=\"12\" x=\"64\" y=\"6272\">q97</text>\n",
       "<path id=\"qubit_line:98\" d=\"M64,6336 L8384,6336 \" stroke=\"black\"/>\n",
       "<text dominant-baseline=\"central\" text-anchor=\"end\" font-family=\"monospace\" font-size=\"12\" x=\"64\" y=\"6336\">q98</text>\n",
       "<path id=\"qubit_line:99\" d=\"M64,6400 L8384,6400 \" stroke=\"black\"/>\n",
       "<text dominant-baseline=\"central\" text-anchor=\"end\" font-family=\"monospace\" font-size=\"12\" x=\"64\" y=\"6400\">q99</text>\n",
       "<path id=\"qubit_line:100\" d=\"M64,6464 L8384,6464 \" stroke=\"black\"/>\n",
       "<text dominant-baseline=\"central\" text-anchor=\"end\" font-family=\"monospace\" font-size=\"12\" x=\"64\" y=\"6464\">q100</text>\n",
       "<path id=\"qubit_line:101\" d=\"M64,6528 L8384,6528 \" stroke=\"black\"/>\n",
       "<text dominant-baseline=\"central\" text-anchor=\"end\" font-family=\"monospace\" font-size=\"12\" x=\"64\" y=\"6528\">q101</text>\n",
       "<path id=\"qubit_line:102\" d=\"M64,6592 L8384,6592 \" stroke=\"black\"/>\n",
       "<text dominant-baseline=\"central\" text-anchor=\"end\" font-family=\"monospace\" font-size=\"12\" x=\"64\" y=\"6592\">q102</text>\n",
       "<path id=\"qubit_line:103\" d=\"M64,6656 L8384,6656 \" stroke=\"black\"/>\n",
       "<text dominant-baseline=\"central\" text-anchor=\"end\" font-family=\"monospace\" font-size=\"12\" x=\"64\" y=\"6656\">q103</text>\n",
       "<path id=\"qubit_line:104\" d=\"M64,6720 L8384,6720 \" stroke=\"black\"/>\n",
       "<text dominant-baseline=\"central\" text-anchor=\"end\" font-family=\"monospace\" font-size=\"12\" x=\"64\" y=\"6720\">q104</text>\n",
       "</g>\n",
       "<rect x=\"80\" y=\"48\" width=\"224\" height=\"32\" stroke=\"black\" fill=\"white\"/>\n",
       "<text dominant-baseline=\"central\" text-anchor=\"middle\" font-family=\"monospace\" font-size=\"16\" x=\"192\" y=\"64\">COORDS(0,0)</text>\n",
       "<rect x=\"80\" y=\"112\" width=\"224\" height=\"32\" stroke=\"black\" fill=\"white\"/>\n",
       "<text dominant-baseline=\"central\" text-anchor=\"middle\" font-family=\"monospace\" font-size=\"16\" x=\"192\" y=\"128\">COORDS(1,0)</text>\n",
       "<rect x=\"80\" y=\"176\" width=\"224\" height=\"32\" stroke=\"black\" fill=\"white\"/>\n",
       "<text dominant-baseline=\"central\" text-anchor=\"middle\" font-family=\"monospace\" font-size=\"16\" x=\"192\" y=\"192\">COORDS(2,0)</text>\n",
       "<rect x=\"80\" y=\"240\" width=\"224\" height=\"32\" stroke=\"black\" fill=\"white\"/>\n",
       "<text dominant-baseline=\"central\" text-anchor=\"middle\" font-family=\"monospace\" font-size=\"16\" x=\"192\" y=\"256\">COORDS(3,0)</text>\n",
       "<rect x=\"80\" y=\"304\" width=\"224\" height=\"32\" stroke=\"black\" fill=\"white\"/>\n",
       "<text dominant-baseline=\"central\" text-anchor=\"middle\" font-family=\"monospace\" font-size=\"16\" x=\"192\" y=\"320\">COORDS(4,0)</text>\n",
       "<rect x=\"80\" y=\"368\" width=\"224\" height=\"32\" stroke=\"black\" fill=\"white\"/>\n",
       "<text dominant-baseline=\"central\" text-anchor=\"middle\" font-family=\"monospace\" font-size=\"16\" x=\"192\" y=\"384\">COORDS(5,0)</text>\n",
       "<rect x=\"80\" y=\"432\" width=\"224\" height=\"32\" stroke=\"black\" fill=\"white\"/>\n",
       "<text dominant-baseline=\"central\" text-anchor=\"middle\" font-family=\"monospace\" font-size=\"16\" x=\"192\" y=\"448\">COORDS(6,0)</text>\n",
       "<rect x=\"80\" y=\"496\" width=\"224\" height=\"32\" stroke=\"black\" fill=\"white\"/>\n",
       "<text dominant-baseline=\"central\" text-anchor=\"middle\" font-family=\"monospace\" font-size=\"16\" x=\"192\" y=\"512\">COORDS(7,0)</text>\n",
       "<rect x=\"80\" y=\"560\" width=\"224\" height=\"32\" stroke=\"black\" fill=\"white\"/>\n",
       "<text dominant-baseline=\"central\" text-anchor=\"middle\" font-family=\"monospace\" font-size=\"16\" x=\"192\" y=\"576\">COORDS(8,0)</text>\n",
       "<rect x=\"80\" y=\"624\" width=\"224\" height=\"32\" stroke=\"black\" fill=\"white\"/>\n",
       "<text dominant-baseline=\"central\" text-anchor=\"middle\" font-family=\"monospace\" font-size=\"16\" x=\"192\" y=\"640\">COORDS(0,1)</text>\n",
       "<rect x=\"80\" y=\"688\" width=\"224\" height=\"32\" stroke=\"black\" fill=\"white\"/>\n",
       "<text dominant-baseline=\"central\" text-anchor=\"middle\" font-family=\"monospace\" font-size=\"16\" x=\"192\" y=\"704\">COORDS(1,1)</text>\n",
       "<rect x=\"80\" y=\"752\" width=\"224\" height=\"32\" stroke=\"black\" fill=\"white\"/>\n",
       "<text dominant-baseline=\"central\" text-anchor=\"middle\" font-family=\"monospace\" font-size=\"16\" x=\"192\" y=\"768\">COORDS(2,1)</text>\n",
       "<rect x=\"80\" y=\"816\" width=\"224\" height=\"32\" stroke=\"black\" fill=\"white\"/>\n",
       "<text dominant-baseline=\"central\" text-anchor=\"middle\" font-family=\"monospace\" font-size=\"16\" x=\"192\" y=\"832\">COORDS(3,1)</text>\n",
       "<rect x=\"80\" y=\"880\" width=\"224\" height=\"32\" stroke=\"black\" fill=\"white\"/>\n",
       "<text dominant-baseline=\"central\" text-anchor=\"middle\" font-family=\"monospace\" font-size=\"16\" x=\"192\" y=\"896\">COORDS(4,1)</text>\n",
       "<rect x=\"80\" y=\"944\" width=\"224\" height=\"32\" stroke=\"black\" fill=\"white\"/>\n",
       "<text dominant-baseline=\"central\" text-anchor=\"middle\" font-family=\"monospace\" font-size=\"16\" x=\"192\" y=\"960\">COORDS(5,1)</text>\n",
       "<rect x=\"80\" y=\"1008\" width=\"224\" height=\"32\" stroke=\"black\" fill=\"white\"/>\n",
       "<text dominant-baseline=\"central\" text-anchor=\"middle\" font-family=\"monospace\" font-size=\"16\" x=\"192\" y=\"1024\">COORDS(6,1)</text>\n",
       "<rect x=\"80\" y=\"1072\" width=\"224\" height=\"32\" stroke=\"black\" fill=\"white\"/>\n",
       "<text dominant-baseline=\"central\" text-anchor=\"middle\" font-family=\"monospace\" font-size=\"16\" x=\"192\" y=\"1088\">COORDS(7,1)</text>\n",
       "<rect x=\"80\" y=\"1136\" width=\"224\" height=\"32\" stroke=\"black\" fill=\"white\"/>\n",
       "<text dominant-baseline=\"central\" text-anchor=\"middle\" font-family=\"monospace\" font-size=\"16\" x=\"192\" y=\"1152\">COORDS(8,1)</text>\n",
       "<rect x=\"80\" y=\"1200\" width=\"224\" height=\"32\" stroke=\"black\" fill=\"white\"/>\n",
       "<text dominant-baseline=\"central\" text-anchor=\"middle\" font-family=\"monospace\" font-size=\"16\" x=\"192\" y=\"1216\">COORDS(0,2)</text>\n",
       "<rect x=\"80\" y=\"1264\" width=\"224\" height=\"32\" stroke=\"black\" fill=\"white\"/>\n",
       "<text dominant-baseline=\"central\" text-anchor=\"middle\" font-family=\"monospace\" font-size=\"16\" x=\"192\" y=\"1280\">COORDS(1,2)</text>\n",
       "<rect x=\"80\" y=\"1328\" width=\"224\" height=\"32\" stroke=\"black\" fill=\"white\"/>\n",
       "<text dominant-baseline=\"central\" text-anchor=\"middle\" font-family=\"monospace\" font-size=\"16\" x=\"192\" y=\"1344\">COORDS(2,2)</text>\n",
       "<rect x=\"80\" y=\"1392\" width=\"224\" height=\"32\" stroke=\"black\" fill=\"white\"/>\n",
       "<text dominant-baseline=\"central\" text-anchor=\"middle\" font-family=\"monospace\" font-size=\"16\" x=\"192\" y=\"1408\">COORDS(3,2)</text>\n",
       "<rect x=\"80\" y=\"1456\" width=\"224\" height=\"32\" stroke=\"black\" fill=\"white\"/>\n",
       "<text dominant-baseline=\"central\" text-anchor=\"middle\" font-family=\"monospace\" font-size=\"16\" x=\"192\" y=\"1472\">COORDS(4,2)</text>\n",
       "<rect x=\"80\" y=\"1520\" width=\"224\" height=\"32\" stroke=\"black\" fill=\"white\"/>\n",
       "<text dominant-baseline=\"central\" text-anchor=\"middle\" font-family=\"monospace\" font-size=\"16\" x=\"192\" y=\"1536\">COORDS(5,2)</text>\n",
       "<rect x=\"80\" y=\"1584\" width=\"224\" height=\"32\" stroke=\"black\" fill=\"white\"/>\n",
       "<text dominant-baseline=\"central\" text-anchor=\"middle\" font-family=\"monospace\" font-size=\"16\" x=\"192\" y=\"1600\">COORDS(6,2)</text>\n",
       "<rect x=\"80\" y=\"1648\" width=\"224\" height=\"32\" stroke=\"black\" fill=\"white\"/>\n",
       "<text dominant-baseline=\"central\" text-anchor=\"middle\" font-family=\"monospace\" font-size=\"16\" x=\"192\" y=\"1664\">COORDS(7,2)</text>\n",
       "<rect x=\"80\" y=\"1712\" width=\"224\" height=\"32\" stroke=\"black\" fill=\"white\"/>\n",
       "<text dominant-baseline=\"central\" text-anchor=\"middle\" font-family=\"monospace\" font-size=\"16\" x=\"192\" y=\"1728\">COORDS(8,2)</text>\n",
       "<rect x=\"80\" y=\"1776\" width=\"224\" height=\"32\" stroke=\"black\" fill=\"white\"/>\n",
       "<text dominant-baseline=\"central\" text-anchor=\"middle\" font-family=\"monospace\" font-size=\"16\" x=\"192\" y=\"1792\">COORDS(0,3)</text>\n",
       "<rect x=\"80\" y=\"1840\" width=\"224\" height=\"32\" stroke=\"black\" fill=\"white\"/>\n",
       "<text dominant-baseline=\"central\" text-anchor=\"middle\" font-family=\"monospace\" font-size=\"16\" x=\"192\" y=\"1856\">COORDS(1,3)</text>\n",
       "<rect x=\"80\" y=\"1904\" width=\"224\" height=\"32\" stroke=\"black\" fill=\"white\"/>\n",
       "<text dominant-baseline=\"central\" text-anchor=\"middle\" font-family=\"monospace\" font-size=\"16\" x=\"192\" y=\"1920\">COORDS(2,3)</text>\n",
       "<rect x=\"80\" y=\"1968\" width=\"224\" height=\"32\" stroke=\"black\" fill=\"white\"/>\n",
       "<text dominant-baseline=\"central\" text-anchor=\"middle\" font-family=\"monospace\" font-size=\"16\" x=\"192\" y=\"1984\">COORDS(3,3)</text>\n",
       "<rect x=\"80\" y=\"2032\" width=\"224\" height=\"32\" stroke=\"black\" fill=\"white\"/>\n",
       "<text dominant-baseline=\"central\" text-anchor=\"middle\" font-family=\"monospace\" font-size=\"16\" x=\"192\" y=\"2048\">COORDS(4,3)</text>\n",
       "<rect x=\"80\" y=\"2096\" width=\"224\" height=\"32\" stroke=\"black\" fill=\"white\"/>\n",
       "<text dominant-baseline=\"central\" text-anchor=\"middle\" font-family=\"monospace\" font-size=\"16\" x=\"192\" y=\"2112\">COORDS(5,3)</text>\n",
       "<rect x=\"80\" y=\"2160\" width=\"224\" height=\"32\" stroke=\"black\" fill=\"white\"/>\n",
       "<text dominant-baseline=\"central\" text-anchor=\"middle\" font-family=\"monospace\" font-size=\"16\" x=\"192\" y=\"2176\">COORDS(6,3)</text>\n",
       "<rect x=\"80\" y=\"2224\" width=\"224\" height=\"32\" stroke=\"black\" fill=\"white\"/>\n",
       "<text dominant-baseline=\"central\" text-anchor=\"middle\" font-family=\"monospace\" font-size=\"16\" x=\"192\" y=\"2240\">COORDS(7,3)</text>\n",
       "<rect x=\"80\" y=\"2288\" width=\"224\" height=\"32\" stroke=\"black\" fill=\"white\"/>\n",
       "<text dominant-baseline=\"central\" text-anchor=\"middle\" font-family=\"monospace\" font-size=\"16\" x=\"192\" y=\"2304\">COORDS(8,3)</text>\n",
       "<rect x=\"80\" y=\"2352\" width=\"224\" height=\"32\" stroke=\"black\" fill=\"white\"/>\n",
       "<text dominant-baseline=\"central\" text-anchor=\"middle\" font-family=\"monospace\" font-size=\"16\" x=\"192\" y=\"2368\">COORDS(0,4)</text>\n",
       "<rect x=\"80\" y=\"2416\" width=\"224\" height=\"32\" stroke=\"black\" fill=\"white\"/>\n",
       "<text dominant-baseline=\"central\" text-anchor=\"middle\" font-family=\"monospace\" font-size=\"16\" x=\"192\" y=\"2432\">COORDS(1,4)</text>\n",
       "<rect x=\"80\" y=\"2480\" width=\"224\" height=\"32\" stroke=\"black\" fill=\"white\"/>\n",
       "<text dominant-baseline=\"central\" text-anchor=\"middle\" font-family=\"monospace\" font-size=\"16\" x=\"192\" y=\"2496\">COORDS(2,4)</text>\n",
       "<rect x=\"80\" y=\"2544\" width=\"224\" height=\"32\" stroke=\"black\" fill=\"white\"/>\n",
       "<text dominant-baseline=\"central\" text-anchor=\"middle\" font-family=\"monospace\" font-size=\"16\" x=\"192\" y=\"2560\">COORDS(3,4)</text>\n",
       "<rect x=\"80\" y=\"2608\" width=\"224\" height=\"32\" stroke=\"black\" fill=\"white\"/>\n",
       "<text dominant-baseline=\"central\" text-anchor=\"middle\" font-family=\"monospace\" font-size=\"16\" x=\"192\" y=\"2624\">COORDS(4,4)</text>\n",
       "<rect x=\"80\" y=\"2672\" width=\"224\" height=\"32\" stroke=\"black\" fill=\"white\"/>\n",
       "<text dominant-baseline=\"central\" text-anchor=\"middle\" font-family=\"monospace\" font-size=\"16\" x=\"192\" y=\"2688\">COORDS(5,4)</text>\n",
       "<rect x=\"80\" y=\"2736\" width=\"224\" height=\"32\" stroke=\"black\" fill=\"white\"/>\n",
       "<text dominant-baseline=\"central\" text-anchor=\"middle\" font-family=\"monospace\" font-size=\"16\" x=\"192\" y=\"2752\">COORDS(6,4)</text>\n",
       "<rect x=\"80\" y=\"2800\" width=\"224\" height=\"32\" stroke=\"black\" fill=\"white\"/>\n",
       "<text dominant-baseline=\"central\" text-anchor=\"middle\" font-family=\"monospace\" font-size=\"16\" x=\"192\" y=\"2816\">COORDS(7,4)</text>\n",
       "<rect x=\"80\" y=\"2864\" width=\"224\" height=\"32\" stroke=\"black\" fill=\"white\"/>\n",
       "<text dominant-baseline=\"central\" text-anchor=\"middle\" font-family=\"monospace\" font-size=\"16\" x=\"192\" y=\"2880\">COORDS(8,4)</text>\n",
       "<rect x=\"80\" y=\"2928\" width=\"224\" height=\"32\" stroke=\"black\" fill=\"white\"/>\n",
       "<text dominant-baseline=\"central\" text-anchor=\"middle\" font-family=\"monospace\" font-size=\"16\" x=\"192\" y=\"2944\">COORDS(-0.5,-0.5)</text>\n",
       "<rect x=\"80\" y=\"2992\" width=\"224\" height=\"32\" stroke=\"black\" fill=\"white\"/>\n",
       "<text dominant-baseline=\"central\" text-anchor=\"middle\" font-family=\"monospace\" font-size=\"16\" x=\"192\" y=\"3008\">COORDS(0.5,-0.5)</text>\n",
       "<rect x=\"80\" y=\"3056\" width=\"224\" height=\"32\" stroke=\"black\" fill=\"white\"/>\n",
       "<text dominant-baseline=\"central\" text-anchor=\"middle\" font-family=\"monospace\" font-size=\"16\" x=\"192\" y=\"3072\">COORDS(1.5,-0.5)</text>\n",
       "<rect x=\"80\" y=\"3120\" width=\"224\" height=\"32\" stroke=\"black\" fill=\"white\"/>\n",
       "<text dominant-baseline=\"central\" text-anchor=\"middle\" font-family=\"monospace\" font-size=\"16\" x=\"192\" y=\"3136\">COORDS(2.5,-0.5)</text>\n",
       "<rect x=\"80\" y=\"3184\" width=\"224\" height=\"32\" stroke=\"black\" fill=\"white\"/>\n",
       "<text dominant-baseline=\"central\" text-anchor=\"middle\" font-family=\"monospace\" font-size=\"16\" x=\"192\" y=\"3200\">COORDS(3.5,-0.5)</text>\n",
       "<rect x=\"80\" y=\"3248\" width=\"224\" height=\"32\" stroke=\"black\" fill=\"white\"/>\n",
       "<text dominant-baseline=\"central\" text-anchor=\"middle\" font-family=\"monospace\" font-size=\"16\" x=\"192\" y=\"3264\">COORDS(4.5,-0.5)</text>\n",
       "<rect x=\"80\" y=\"3312\" width=\"224\" height=\"32\" stroke=\"black\" fill=\"white\"/>\n",
       "<text dominant-baseline=\"central\" text-anchor=\"middle\" font-family=\"monospace\" font-size=\"16\" x=\"192\" y=\"3328\">COORDS(5.5,-0.5)</text>\n",
       "<rect x=\"80\" y=\"3376\" width=\"224\" height=\"32\" stroke=\"black\" fill=\"white\"/>\n",
       "<text dominant-baseline=\"central\" text-anchor=\"middle\" font-family=\"monospace\" font-size=\"16\" x=\"192\" y=\"3392\">COORDS(6.5,-0.5)</text>\n",
       "<rect x=\"80\" y=\"3440\" width=\"224\" height=\"32\" stroke=\"black\" fill=\"white\"/>\n",
       "<text dominant-baseline=\"central\" text-anchor=\"middle\" font-family=\"monospace\" font-size=\"16\" x=\"192\" y=\"3456\">COORDS(7.5,-0.5)</text>\n",
       "<rect x=\"80\" y=\"3504\" width=\"224\" height=\"32\" stroke=\"black\" fill=\"white\"/>\n",
       "<text dominant-baseline=\"central\" text-anchor=\"middle\" font-family=\"monospace\" font-size=\"16\" x=\"192\" y=\"3520\">COORDS(8.5,-0.5)</text>\n",
       "<rect x=\"80\" y=\"3568\" width=\"224\" height=\"32\" stroke=\"black\" fill=\"white\"/>\n",
       "<text dominant-baseline=\"central\" text-anchor=\"middle\" font-family=\"monospace\" font-size=\"16\" x=\"192\" y=\"3584\">COORDS(-0.5,0.5)</text>\n",
       "<rect x=\"80\" y=\"3632\" width=\"224\" height=\"32\" stroke=\"black\" fill=\"white\"/>\n",
       "<text dominant-baseline=\"central\" text-anchor=\"middle\" font-family=\"monospace\" font-size=\"16\" x=\"192\" y=\"3648\">COORDS(0.5,0.5)</text>\n",
       "<rect x=\"80\" y=\"3696\" width=\"224\" height=\"32\" stroke=\"black\" fill=\"white\"/>\n",
       "<text dominant-baseline=\"central\" text-anchor=\"middle\" font-family=\"monospace\" font-size=\"16\" x=\"192\" y=\"3712\">COORDS(1.5,0.5)</text>\n",
       "<rect x=\"80\" y=\"3760\" width=\"224\" height=\"32\" stroke=\"black\" fill=\"white\"/>\n",
       "<text dominant-baseline=\"central\" text-anchor=\"middle\" font-family=\"monospace\" font-size=\"16\" x=\"192\" y=\"3776\">COORDS(2.5,0.5)</text>\n",
       "<rect x=\"80\" y=\"3824\" width=\"224\" height=\"32\" stroke=\"black\" fill=\"white\"/>\n",
       "<text dominant-baseline=\"central\" text-anchor=\"middle\" font-family=\"monospace\" font-size=\"16\" x=\"192\" y=\"3840\">COORDS(3.5,0.5)</text>\n",
       "<rect x=\"80\" y=\"3888\" width=\"224\" height=\"32\" stroke=\"black\" fill=\"white\"/>\n",
       "<text dominant-baseline=\"central\" text-anchor=\"middle\" font-family=\"monospace\" font-size=\"16\" x=\"192\" y=\"3904\">COORDS(4.5,0.5)</text>\n",
       "<rect x=\"80\" y=\"3952\" width=\"224\" height=\"32\" stroke=\"black\" fill=\"white\"/>\n",
       "<text dominant-baseline=\"central\" text-anchor=\"middle\" font-family=\"monospace\" font-size=\"16\" x=\"192\" y=\"3968\">COORDS(5.5,0.5)</text>\n",
       "<rect x=\"80\" y=\"4016\" width=\"224\" height=\"32\" stroke=\"black\" fill=\"white\"/>\n",
       "<text dominant-baseline=\"central\" text-anchor=\"middle\" font-family=\"monospace\" font-size=\"16\" x=\"192\" y=\"4032\">COORDS(6.5,0.5)</text>\n",
       "<rect x=\"80\" y=\"4080\" width=\"224\" height=\"32\" stroke=\"black\" fill=\"white\"/>\n",
       "<text dominant-baseline=\"central\" text-anchor=\"middle\" font-family=\"monospace\" font-size=\"16\" x=\"192\" y=\"4096\">COORDS(7.5,0.5)</text>\n",
       "<rect x=\"80\" y=\"4144\" width=\"224\" height=\"32\" stroke=\"black\" fill=\"white\"/>\n",
       "<text dominant-baseline=\"central\" text-anchor=\"middle\" font-family=\"monospace\" font-size=\"16\" x=\"192\" y=\"4160\">COORDS(8.5,0.5)</text>\n",
       "<rect x=\"80\" y=\"4208\" width=\"224\" height=\"32\" stroke=\"black\" fill=\"white\"/>\n",
       "<text dominant-baseline=\"central\" text-anchor=\"middle\" font-family=\"monospace\" font-size=\"16\" x=\"192\" y=\"4224\">COORDS(-0.5,1.5)</text>\n",
       "<rect x=\"80\" y=\"4272\" width=\"224\" height=\"32\" stroke=\"black\" fill=\"white\"/>\n",
       "<text dominant-baseline=\"central\" text-anchor=\"middle\" font-family=\"monospace\" font-size=\"16\" x=\"192\" y=\"4288\">COORDS(0.5,1.5)</text>\n",
       "<rect x=\"80\" y=\"4336\" width=\"224\" height=\"32\" stroke=\"black\" fill=\"white\"/>\n",
       "<text dominant-baseline=\"central\" text-anchor=\"middle\" font-family=\"monospace\" font-size=\"16\" x=\"192\" y=\"4352\">COORDS(1.5,1.5)</text>\n",
       "<rect x=\"80\" y=\"4400\" width=\"224\" height=\"32\" stroke=\"black\" fill=\"white\"/>\n",
       "<text dominant-baseline=\"central\" text-anchor=\"middle\" font-family=\"monospace\" font-size=\"16\" x=\"192\" y=\"4416\">COORDS(2.5,1.5)</text>\n",
       "<rect x=\"80\" y=\"4464\" width=\"224\" height=\"32\" stroke=\"black\" fill=\"white\"/>\n",
       "<text dominant-baseline=\"central\" text-anchor=\"middle\" font-family=\"monospace\" font-size=\"16\" x=\"192\" y=\"4480\">COORDS(3.5,1.5)</text>\n",
       "<rect x=\"80\" y=\"4528\" width=\"224\" height=\"32\" stroke=\"black\" fill=\"white\"/>\n",
       "<text dominant-baseline=\"central\" text-anchor=\"middle\" font-family=\"monospace\" font-size=\"16\" x=\"192\" y=\"4544\">COORDS(4.5,1.5)</text>\n",
       "<rect x=\"80\" y=\"4592\" width=\"224\" height=\"32\" stroke=\"black\" fill=\"white\"/>\n",
       "<text dominant-baseline=\"central\" text-anchor=\"middle\" font-family=\"monospace\" font-size=\"16\" x=\"192\" y=\"4608\">COORDS(5.5,1.5)</text>\n",
       "<rect x=\"80\" y=\"4656\" width=\"224\" height=\"32\" stroke=\"black\" fill=\"white\"/>\n",
       "<text dominant-baseline=\"central\" text-anchor=\"middle\" font-family=\"monospace\" font-size=\"16\" x=\"192\" y=\"4672\">COORDS(6.5,1.5)</text>\n",
       "<rect x=\"80\" y=\"4720\" width=\"224\" height=\"32\" stroke=\"black\" fill=\"white\"/>\n",
       "<text dominant-baseline=\"central\" text-anchor=\"middle\" font-family=\"monospace\" font-size=\"16\" x=\"192\" y=\"4736\">COORDS(7.5,1.5)</text>\n",
       "<rect x=\"80\" y=\"4784\" width=\"224\" height=\"32\" stroke=\"black\" fill=\"white\"/>\n",
       "<text dominant-baseline=\"central\" text-anchor=\"middle\" font-family=\"monospace\" font-size=\"16\" x=\"192\" y=\"4800\">COORDS(8.5,1.5)</text>\n",
       "<rect x=\"80\" y=\"4848\" width=\"224\" height=\"32\" stroke=\"black\" fill=\"white\"/>\n",
       "<text dominant-baseline=\"central\" text-anchor=\"middle\" font-family=\"monospace\" font-size=\"16\" x=\"192\" y=\"4864\">COORDS(-0.5,2.5)</text>\n",
       "<rect x=\"80\" y=\"4912\" width=\"224\" height=\"32\" stroke=\"black\" fill=\"white\"/>\n",
       "<text dominant-baseline=\"central\" text-anchor=\"middle\" font-family=\"monospace\" font-size=\"16\" x=\"192\" y=\"4928\">COORDS(0.5,2.5)</text>\n",
       "<rect x=\"80\" y=\"4976\" width=\"224\" height=\"32\" stroke=\"black\" fill=\"white\"/>\n",
       "<text dominant-baseline=\"central\" text-anchor=\"middle\" font-family=\"monospace\" font-size=\"16\" x=\"192\" y=\"4992\">COORDS(1.5,2.5)</text>\n",
       "<rect x=\"80\" y=\"5040\" width=\"224\" height=\"32\" stroke=\"black\" fill=\"white\"/>\n",
       "<text dominant-baseline=\"central\" text-anchor=\"middle\" font-family=\"monospace\" font-size=\"16\" x=\"192\" y=\"5056\">COORDS(2.5,2.5)</text>\n",
       "<rect x=\"80\" y=\"5104\" width=\"224\" height=\"32\" stroke=\"black\" fill=\"white\"/>\n",
       "<text dominant-baseline=\"central\" text-anchor=\"middle\" font-family=\"monospace\" font-size=\"16\" x=\"192\" y=\"5120\">COORDS(3.5,2.5)</text>\n",
       "<rect x=\"80\" y=\"5168\" width=\"224\" height=\"32\" stroke=\"black\" fill=\"white\"/>\n",
       "<text dominant-baseline=\"central\" text-anchor=\"middle\" font-family=\"monospace\" font-size=\"16\" x=\"192\" y=\"5184\">COORDS(4.5,2.5)</text>\n",
       "<rect x=\"80\" y=\"5232\" width=\"224\" height=\"32\" stroke=\"black\" fill=\"white\"/>\n",
       "<text dominant-baseline=\"central\" text-anchor=\"middle\" font-family=\"monospace\" font-size=\"16\" x=\"192\" y=\"5248\">COORDS(5.5,2.5)</text>\n",
       "<rect x=\"80\" y=\"5296\" width=\"224\" height=\"32\" stroke=\"black\" fill=\"white\"/>\n",
       "<text dominant-baseline=\"central\" text-anchor=\"middle\" font-family=\"monospace\" font-size=\"16\" x=\"192\" y=\"5312\">COORDS(6.5,2.5)</text>\n",
       "<rect x=\"80\" y=\"5360\" width=\"224\" height=\"32\" stroke=\"black\" fill=\"white\"/>\n",
       "<text dominant-baseline=\"central\" text-anchor=\"middle\" font-family=\"monospace\" font-size=\"16\" x=\"192\" y=\"5376\">COORDS(7.5,2.5)</text>\n",
       "<rect x=\"80\" y=\"5424\" width=\"224\" height=\"32\" stroke=\"black\" fill=\"white\"/>\n",
       "<text dominant-baseline=\"central\" text-anchor=\"middle\" font-family=\"monospace\" font-size=\"16\" x=\"192\" y=\"5440\">COORDS(8.5,2.5)</text>\n",
       "<rect x=\"80\" y=\"5488\" width=\"224\" height=\"32\" stroke=\"black\" fill=\"white\"/>\n",
       "<text dominant-baseline=\"central\" text-anchor=\"middle\" font-family=\"monospace\" font-size=\"16\" x=\"192\" y=\"5504\">COORDS(-0.5,3.5)</text>\n",
       "<rect x=\"80\" y=\"5552\" width=\"224\" height=\"32\" stroke=\"black\" fill=\"white\"/>\n",
       "<text dominant-baseline=\"central\" text-anchor=\"middle\" font-family=\"monospace\" font-size=\"16\" x=\"192\" y=\"5568\">COORDS(0.5,3.5)</text>\n",
       "<rect x=\"80\" y=\"5616\" width=\"224\" height=\"32\" stroke=\"black\" fill=\"white\"/>\n",
       "<text dominant-baseline=\"central\" text-anchor=\"middle\" font-family=\"monospace\" font-size=\"16\" x=\"192\" y=\"5632\">COORDS(1.5,3.5)</text>\n",
       "<rect x=\"80\" y=\"5680\" width=\"224\" height=\"32\" stroke=\"black\" fill=\"white\"/>\n",
       "<text dominant-baseline=\"central\" text-anchor=\"middle\" font-family=\"monospace\" font-size=\"16\" x=\"192\" y=\"5696\">COORDS(2.5,3.5)</text>\n",
       "<rect x=\"80\" y=\"5744\" width=\"224\" height=\"32\" stroke=\"black\" fill=\"white\"/>\n",
       "<text dominant-baseline=\"central\" text-anchor=\"middle\" font-family=\"monospace\" font-size=\"16\" x=\"192\" y=\"5760\">COORDS(3.5,3.5)</text>\n",
       "<rect x=\"80\" y=\"5808\" width=\"224\" height=\"32\" stroke=\"black\" fill=\"white\"/>\n",
       "<text dominant-baseline=\"central\" text-anchor=\"middle\" font-family=\"monospace\" font-size=\"16\" x=\"192\" y=\"5824\">COORDS(4.5,3.5)</text>\n",
       "<rect x=\"80\" y=\"5872\" width=\"224\" height=\"32\" stroke=\"black\" fill=\"white\"/>\n",
       "<text dominant-baseline=\"central\" text-anchor=\"middle\" font-family=\"monospace\" font-size=\"16\" x=\"192\" y=\"5888\">COORDS(5.5,3.5)</text>\n",
       "<rect x=\"80\" y=\"5936\" width=\"224\" height=\"32\" stroke=\"black\" fill=\"white\"/>\n",
       "<text dominant-baseline=\"central\" text-anchor=\"middle\" font-family=\"monospace\" font-size=\"16\" x=\"192\" y=\"5952\">COORDS(6.5,3.5)</text>\n",
       "<rect x=\"80\" y=\"6000\" width=\"224\" height=\"32\" stroke=\"black\" fill=\"white\"/>\n",
       "<text dominant-baseline=\"central\" text-anchor=\"middle\" font-family=\"monospace\" font-size=\"16\" x=\"192\" y=\"6016\">COORDS(7.5,3.5)</text>\n",
       "<rect x=\"80\" y=\"6064\" width=\"224\" height=\"32\" stroke=\"black\" fill=\"white\"/>\n",
       "<text dominant-baseline=\"central\" text-anchor=\"middle\" font-family=\"monospace\" font-size=\"16\" x=\"192\" y=\"6080\">COORDS(8.5,3.5)</text>\n",
       "<rect x=\"80\" y=\"6128\" width=\"224\" height=\"32\" stroke=\"black\" fill=\"white\"/>\n",
       "<text dominant-baseline=\"central\" text-anchor=\"middle\" font-family=\"monospace\" font-size=\"16\" x=\"192\" y=\"6144\">COORDS(-0.5,4.5)</text>\n",
       "<rect x=\"80\" y=\"6192\" width=\"224\" height=\"32\" stroke=\"black\" fill=\"white\"/>\n",
       "<text dominant-baseline=\"central\" text-anchor=\"middle\" font-family=\"monospace\" font-size=\"16\" x=\"192\" y=\"6208\">COORDS(0.5,4.5)</text>\n",
       "<rect x=\"80\" y=\"6256\" width=\"224\" height=\"32\" stroke=\"black\" fill=\"white\"/>\n",
       "<text dominant-baseline=\"central\" text-anchor=\"middle\" font-family=\"monospace\" font-size=\"16\" x=\"192\" y=\"6272\">COORDS(1.5,4.5)</text>\n",
       "<rect x=\"80\" y=\"6320\" width=\"224\" height=\"32\" stroke=\"black\" fill=\"white\"/>\n",
       "<text dominant-baseline=\"central\" text-anchor=\"middle\" font-family=\"monospace\" font-size=\"16\" x=\"192\" y=\"6336\">COORDS(2.5,4.5)</text>\n",
       "<rect x=\"80\" y=\"6384\" width=\"224\" height=\"32\" stroke=\"black\" fill=\"white\"/>\n",
       "<text dominant-baseline=\"central\" text-anchor=\"middle\" font-family=\"monospace\" font-size=\"16\" x=\"192\" y=\"6400\">COORDS(3.5,4.5)</text>\n",
       "<rect x=\"80\" y=\"6448\" width=\"224\" height=\"32\" stroke=\"black\" fill=\"white\"/>\n",
       "<text dominant-baseline=\"central\" text-anchor=\"middle\" font-family=\"monospace\" font-size=\"16\" x=\"192\" y=\"6464\">COORDS(4.5,4.5)</text>\n",
       "<rect x=\"80\" y=\"6512\" width=\"224\" height=\"32\" stroke=\"black\" fill=\"white\"/>\n",
       "<text dominant-baseline=\"central\" text-anchor=\"middle\" font-family=\"monospace\" font-size=\"16\" x=\"192\" y=\"6528\">COORDS(5.5,4.5)</text>\n",
       "<rect x=\"80\" y=\"6576\" width=\"224\" height=\"32\" stroke=\"black\" fill=\"white\"/>\n",
       "<text dominant-baseline=\"central\" text-anchor=\"middle\" font-family=\"monospace\" font-size=\"16\" x=\"192\" y=\"6592\">COORDS(6.5,4.5)</text>\n",
       "<rect x=\"80\" y=\"6640\" width=\"224\" height=\"32\" stroke=\"black\" fill=\"white\"/>\n",
       "<text dominant-baseline=\"central\" text-anchor=\"middle\" font-family=\"monospace\" font-size=\"16\" x=\"192\" y=\"6656\">COORDS(7.5,4.5)</text>\n",
       "<rect x=\"80\" y=\"6704\" width=\"224\" height=\"32\" stroke=\"black\" fill=\"white\"/>\n",
       "<text dominant-baseline=\"central\" text-anchor=\"middle\" font-family=\"monospace\" font-size=\"16\" x=\"192\" y=\"6720\">COORDS(8.5,4.5)</text>\n",
       "<rect x=\"336\" y=\"112\" width=\"32\" height=\"32\" stroke=\"black\" fill=\"black\"/>\n",
       "<text dominant-baseline=\"central\" text-anchor=\"middle\" font-family=\"monospace\" font-size=\"30\" x=\"352\" y=\"128\" fill=\"white\">R</text>\n",
       "<rect x=\"336\" y=\"176\" width=\"32\" height=\"32\" stroke=\"black\" fill=\"black\"/>\n",
       "<text dominant-baseline=\"central\" text-anchor=\"middle\" font-family=\"monospace\" font-size=\"30\" x=\"352\" y=\"192\" fill=\"white\">R</text>\n",
       "<rect x=\"336\" y=\"688\" width=\"32\" height=\"32\" stroke=\"black\" fill=\"black\"/>\n",
       "<text dominant-baseline=\"central\" text-anchor=\"middle\" font-family=\"monospace\" font-size=\"30\" x=\"352\" y=\"704\" fill=\"white\">R</text>\n",
       "<rect x=\"336\" y=\"752\" width=\"32\" height=\"32\" stroke=\"black\" fill=\"black\"/>\n",
       "<text dominant-baseline=\"central\" text-anchor=\"middle\" font-family=\"monospace\" font-size=\"30\" x=\"352\" y=\"768\" fill=\"white\">R</text>\n",
       "<rect x=\"336\" y=\"240\" width=\"32\" height=\"32\" stroke=\"black\" fill=\"black\"/>\n",
       "<text dominant-baseline=\"central\" text-anchor=\"middle\" font-family=\"monospace\" font-size=\"30\" x=\"352\" y=\"256\" fill=\"white\">R</text>\n",
       "<rect x=\"336\" y=\"304\" width=\"32\" height=\"32\" stroke=\"black\" fill=\"black\"/>\n",
       "<text dominant-baseline=\"central\" text-anchor=\"middle\" font-family=\"monospace\" font-size=\"30\" x=\"352\" y=\"320\" fill=\"white\">R</text>\n",
       "<rect x=\"336\" y=\"816\" width=\"32\" height=\"32\" stroke=\"black\" fill=\"black\"/>\n",
       "<text dominant-baseline=\"central\" text-anchor=\"middle\" font-family=\"monospace\" font-size=\"30\" x=\"352\" y=\"832\" fill=\"white\">R</text>\n",
       "<rect x=\"336\" y=\"880\" width=\"32\" height=\"32\" stroke=\"black\" fill=\"black\"/>\n",
       "<text dominant-baseline=\"central\" text-anchor=\"middle\" font-family=\"monospace\" font-size=\"30\" x=\"352\" y=\"896\" fill=\"white\">R</text>\n",
       "<rect x=\"336\" y=\"368\" width=\"32\" height=\"32\" stroke=\"black\" fill=\"black\"/>\n",
       "<text dominant-baseline=\"central\" text-anchor=\"middle\" font-family=\"monospace\" font-size=\"30\" x=\"352\" y=\"384\" fill=\"white\">R</text>\n",
       "<rect x=\"336\" y=\"432\" width=\"32\" height=\"32\" stroke=\"black\" fill=\"black\"/>\n",
       "<text dominant-baseline=\"central\" text-anchor=\"middle\" font-family=\"monospace\" font-size=\"30\" x=\"352\" y=\"448\" fill=\"white\">R</text>\n",
       "<rect x=\"336\" y=\"944\" width=\"32\" height=\"32\" stroke=\"black\" fill=\"black\"/>\n",
       "<text dominant-baseline=\"central\" text-anchor=\"middle\" font-family=\"monospace\" font-size=\"30\" x=\"352\" y=\"960\" fill=\"white\">R</text>\n",
       "<rect x=\"336\" y=\"1008\" width=\"32\" height=\"32\" stroke=\"black\" fill=\"black\"/>\n",
       "<text dominant-baseline=\"central\" text-anchor=\"middle\" font-family=\"monospace\" font-size=\"30\" x=\"352\" y=\"1024\" fill=\"white\">R</text>\n",
       "<rect x=\"336\" y=\"624\" width=\"32\" height=\"32\" stroke=\"black\" fill=\"black\"/>\n",
       "<text dominant-baseline=\"central\" text-anchor=\"middle\" font-family=\"monospace\" font-size=\"30\" x=\"352\" y=\"640\" fill=\"white\">R</text>\n",
       "<rect x=\"336\" y=\"1200\" width=\"32\" height=\"32\" stroke=\"black\" fill=\"black\"/>\n",
       "<text dominant-baseline=\"central\" text-anchor=\"middle\" font-family=\"monospace\" font-size=\"30\" x=\"352\" y=\"1216\" fill=\"white\">R</text>\n",
       "<rect x=\"336\" y=\"1264\" width=\"32\" height=\"32\" stroke=\"black\" fill=\"black\"/>\n",
       "<text dominant-baseline=\"central\" text-anchor=\"middle\" font-family=\"monospace\" font-size=\"30\" x=\"352\" y=\"1280\" fill=\"white\">R</text>\n",
       "<rect x=\"336\" y=\"1328\" width=\"32\" height=\"32\" stroke=\"black\" fill=\"black\"/>\n",
       "<text dominant-baseline=\"central\" text-anchor=\"middle\" font-family=\"monospace\" font-size=\"30\" x=\"352\" y=\"1344\" fill=\"white\">R</text>\n",
       "<rect x=\"336\" y=\"1392\" width=\"32\" height=\"32\" stroke=\"black\" fill=\"black\"/>\n",
       "<text dominant-baseline=\"central\" text-anchor=\"middle\" font-family=\"monospace\" font-size=\"30\" x=\"352\" y=\"1408\" fill=\"white\">R</text>\n",
       "<rect x=\"336\" y=\"1456\" width=\"32\" height=\"32\" stroke=\"black\" fill=\"black\"/>\n",
       "<text dominant-baseline=\"central\" text-anchor=\"middle\" font-family=\"monospace\" font-size=\"30\" x=\"352\" y=\"1472\" fill=\"white\">R</text>\n",
       "<rect x=\"336\" y=\"1520\" width=\"32\" height=\"32\" stroke=\"black\" fill=\"black\"/>\n",
       "<text dominant-baseline=\"central\" text-anchor=\"middle\" font-family=\"monospace\" font-size=\"30\" x=\"352\" y=\"1536\" fill=\"white\">R</text>\n",
       "<rect x=\"336\" y=\"48\" width=\"32\" height=\"32\" stroke=\"black\" fill=\"black\"/>\n",
       "<text dominant-baseline=\"central\" text-anchor=\"middle\" font-family=\"monospace\" font-size=\"30\" x=\"352\" y=\"64\" fill=\"white\">R</text>\n",
       "<rect x=\"336\" y=\"1584\" width=\"32\" height=\"32\" stroke=\"black\" fill=\"black\"/>\n",
       "<text dominant-baseline=\"central\" text-anchor=\"middle\" font-family=\"monospace\" font-size=\"30\" x=\"352\" y=\"1600\" fill=\"white\">R</text>\n",
       "<rect x=\"400\" y=\"48\" width=\"32\" height=\"32\" stroke=\"black\" fill=\"white\"/>\n",
       "<text dominant-baseline=\"central\" text-anchor=\"middle\" font-family=\"monospace\" font-size=\"30\" x=\"416\" y=\"64\">X</text>\n",
       "<rect x=\"400\" y=\"112\" width=\"32\" height=\"32\" stroke=\"black\" fill=\"white\"/>\n",
       "<text dominant-baseline=\"central\" text-anchor=\"middle\" font-family=\"monospace\" font-size=\"30\" x=\"416\" y=\"128\">X</text>\n",
       "<rect x=\"400\" y=\"176\" width=\"32\" height=\"32\" stroke=\"black\" fill=\"white\"/>\n",
       "<text dominant-baseline=\"central\" text-anchor=\"middle\" font-family=\"monospace\" font-size=\"30\" x=\"416\" y=\"192\">X</text>\n",
       "<rect x=\"400\" y=\"240\" width=\"32\" height=\"32\" stroke=\"black\" fill=\"white\"/>\n",
       "<text dominant-baseline=\"central\" text-anchor=\"middle\" font-family=\"monospace\" font-size=\"30\" x=\"416\" y=\"256\">X</text>\n",
       "<rect x=\"400\" y=\"304\" width=\"32\" height=\"32\" stroke=\"black\" fill=\"white\"/>\n",
       "<text dominant-baseline=\"central\" text-anchor=\"middle\" font-family=\"monospace\" font-size=\"30\" x=\"416\" y=\"320\">X</text>\n",
       "<rect x=\"400\" y=\"368\" width=\"32\" height=\"32\" stroke=\"black\" fill=\"white\"/>\n",
       "<text dominant-baseline=\"central\" text-anchor=\"middle\" font-family=\"monospace\" font-size=\"30\" x=\"416\" y=\"384\">X</text>\n",
       "<rect x=\"400\" y=\"432\" width=\"32\" height=\"32\" stroke=\"black\" fill=\"white\"/>\n",
       "<text dominant-baseline=\"central\" text-anchor=\"middle\" font-family=\"monospace\" font-size=\"30\" x=\"416\" y=\"448\">X</text>\n",
       "<path d=\"M68,40 L68,32 L444,32 L444,40 \" stroke=\"black\" fill=\"none\"/>\n",
       "<path d=\"M68,6776 L68,6784 L444,6784 L444,6776 \" stroke=\"black\" fill=\"none\"/>\n",
       "<rect x=\"528\" y=\"3696\" width=\"32\" height=\"32\" stroke=\"black\" fill=\"white\"/>\n",
       "<text dominant-baseline=\"central\" text-anchor=\"middle\" font-family=\"monospace\" font-size=\"30\" x=\"544\" y=\"3712\">H</text>\n",
       "<rect x=\"528\" y=\"3824\" width=\"32\" height=\"32\" stroke=\"black\" fill=\"white\"/>\n",
       "<text dominant-baseline=\"central\" text-anchor=\"middle\" font-family=\"monospace\" font-size=\"30\" x=\"544\" y=\"3840\">H</text>\n",
       "<rect x=\"528\" y=\"3952\" width=\"32\" height=\"32\" stroke=\"black\" fill=\"white\"/>\n",
       "<text dominant-baseline=\"central\" text-anchor=\"middle\" font-family=\"monospace\" font-size=\"30\" x=\"544\" y=\"3968\">H</text>\n",
       "<rect x=\"528\" y=\"4272\" width=\"32\" height=\"32\" stroke=\"black\" fill=\"white\"/>\n",
       "<text dominant-baseline=\"central\" text-anchor=\"middle\" font-family=\"monospace\" font-size=\"30\" x=\"544\" y=\"4288\">H</text>\n",
       "<rect x=\"528\" y=\"4400\" width=\"32\" height=\"32\" stroke=\"black\" fill=\"white\"/>\n",
       "<text dominant-baseline=\"central\" text-anchor=\"middle\" font-family=\"monospace\" font-size=\"30\" x=\"544\" y=\"4416\">H</text>\n",
       "<rect x=\"528\" y=\"4528\" width=\"32\" height=\"32\" stroke=\"black\" fill=\"white\"/>\n",
       "<text dominant-baseline=\"central\" text-anchor=\"middle\" font-family=\"monospace\" font-size=\"30\" x=\"544\" y=\"4544\">H</text>\n",
       "<rect x=\"528\" y=\"3568\" width=\"32\" height=\"32\" stroke=\"black\" fill=\"white\"/>\n",
       "<text dominant-baseline=\"central\" text-anchor=\"middle\" font-family=\"monospace\" font-size=\"30\" x=\"544\" y=\"3584\">H</text>\n",
       "<rect x=\"528\" y=\"4656\" width=\"32\" height=\"32\" stroke=\"black\" fill=\"white\"/>\n",
       "<text dominant-baseline=\"central\" text-anchor=\"middle\" font-family=\"monospace\" font-size=\"30\" x=\"544\" y=\"4672\">H</text>\n",
       "<rect x=\"528\" y=\"3632\" width=\"32\" height=\"32\" stroke=\"black\" fill=\"white\"/>\n",
       "<text dominant-baseline=\"central\" text-anchor=\"middle\" font-family=\"monospace\" font-size=\"30\" x=\"544\" y=\"3648\">H</text>\n",
       "<rect x=\"528\" y=\"3760\" width=\"32\" height=\"32\" stroke=\"black\" fill=\"white\"/>\n",
       "<text dominant-baseline=\"central\" text-anchor=\"middle\" font-family=\"monospace\" font-size=\"30\" x=\"544\" y=\"3776\">H</text>\n",
       "<rect x=\"528\" y=\"3888\" width=\"32\" height=\"32\" stroke=\"black\" fill=\"white\"/>\n",
       "<text dominant-baseline=\"central\" text-anchor=\"middle\" font-family=\"monospace\" font-size=\"30\" x=\"544\" y=\"3904\">H</text>\n",
       "<rect x=\"528\" y=\"4336\" width=\"32\" height=\"32\" stroke=\"black\" fill=\"white\"/>\n",
       "<text dominant-baseline=\"central\" text-anchor=\"middle\" font-family=\"monospace\" font-size=\"30\" x=\"544\" y=\"4352\">H</text>\n",
       "<rect x=\"528\" y=\"4464\" width=\"32\" height=\"32\" stroke=\"black\" fill=\"white\"/>\n",
       "<text dominant-baseline=\"central\" text-anchor=\"middle\" font-family=\"monospace\" font-size=\"30\" x=\"544\" y=\"4480\">H</text>\n",
       "<rect x=\"528\" y=\"4592\" width=\"32\" height=\"32\" stroke=\"black\" fill=\"white\"/>\n",
       "<text dominant-baseline=\"central\" text-anchor=\"middle\" font-family=\"monospace\" font-size=\"30\" x=\"544\" y=\"4608\">H</text>\n",
       "<rect x=\"528\" y=\"4912\" width=\"32\" height=\"32\" stroke=\"black\" fill=\"white\"/>\n",
       "<text dominant-baseline=\"central\" text-anchor=\"middle\" font-family=\"monospace\" font-size=\"30\" x=\"544\" y=\"4928\">H</text>\n",
       "<rect x=\"528\" y=\"3056\" width=\"32\" height=\"32\" stroke=\"black\" fill=\"white\"/>\n",
       "<text dominant-baseline=\"central\" text-anchor=\"middle\" font-family=\"monospace\" font-size=\"30\" x=\"544\" y=\"3072\">H</text>\n",
       "<rect x=\"528\" y=\"5040\" width=\"32\" height=\"32\" stroke=\"black\" fill=\"white\"/>\n",
       "<text dominant-baseline=\"central\" text-anchor=\"middle\" font-family=\"monospace\" font-size=\"30\" x=\"544\" y=\"5056\">H</text>\n",
       "<rect x=\"528\" y=\"3184\" width=\"32\" height=\"32\" stroke=\"black\" fill=\"white\"/>\n",
       "<text dominant-baseline=\"central\" text-anchor=\"middle\" font-family=\"monospace\" font-size=\"30\" x=\"544\" y=\"3200\">H</text>\n",
       "<rect x=\"528\" y=\"5168\" width=\"32\" height=\"32\" stroke=\"black\" fill=\"white\"/>\n",
       "<text dominant-baseline=\"central\" text-anchor=\"middle\" font-family=\"monospace\" font-size=\"30\" x=\"544\" y=\"5184\">H</text>\n",
       "<rect x=\"528\" y=\"3312\" width=\"32\" height=\"32\" stroke=\"black\" fill=\"white\"/>\n",
       "<text dominant-baseline=\"central\" text-anchor=\"middle\" font-family=\"monospace\" font-size=\"30\" x=\"544\" y=\"3328\">H</text>\n",
       "<path d=\"M608,128 L608,3712 \" stroke=\"black\"/>\n",
       "<circle cx=\"608\" cy=\"3712\" r=\"12\" stroke=\"none\" fill=\"black\"/>\n",
       "<circle cx=\"608\" cy=\"128\" r=\"12\" stroke=\"black\" fill=\"white\"/>\n",
       "<path d=\"M596,128 L620,128 M608,116 L608,140 \" stroke=\"black\"/>\n",
       "<path d=\"M672,256 L672,3840 \" stroke=\"black\"/>\n",
       "<circle cx=\"672\" cy=\"3840\" r=\"12\" stroke=\"none\" fill=\"black\"/>\n",
       "<circle cx=\"672\" cy=\"256\" r=\"12\" stroke=\"black\" fill=\"white\"/>\n",
       "<path d=\"M660,256 L684,256 M672,244 L672,268 \" stroke=\"black\"/>\n",
       "<path d=\"M736,384 L736,3968 \" stroke=\"black\"/>\n",
       "<circle cx=\"736\" cy=\"3968\" r=\"12\" stroke=\"none\" fill=\"black\"/>\n",
       "<circle cx=\"736\" cy=\"384\" r=\"12\" stroke=\"black\" fill=\"white\"/>\n",
       "<path d=\"M724,384 L748,384 M736,372 L736,396 \" stroke=\"black\"/>\n",
       "<path d=\"M800,640 L800,4288 \" stroke=\"black\"/>\n",
       "<circle cx=\"800\" cy=\"4288\" r=\"12\" stroke=\"none\" fill=\"black\"/>\n",
       "<circle cx=\"800\" cy=\"640\" r=\"12\" stroke=\"black\" fill=\"white\"/>\n",
       "<path d=\"M788,640 L812,640 M800,628 L800,652 \" stroke=\"black\"/>\n",
       "<path d=\"M864,768 L864,4416 \" stroke=\"black\"/>\n",
       "<circle cx=\"864\" cy=\"4416\" r=\"12\" stroke=\"none\" fill=\"black\"/>\n",
       "<circle cx=\"864\" cy=\"768\" r=\"12\" stroke=\"black\" fill=\"white\"/>\n",
       "<path d=\"M852,768 L876,768 M864,756 L864,780 \" stroke=\"black\"/>\n",
       "<path d=\"M928,896 L928,4544 \" stroke=\"black\"/>\n",
       "<circle cx=\"928\" cy=\"4544\" r=\"12\" stroke=\"none\" fill=\"black\"/>\n",
       "<circle cx=\"928\" cy=\"896\" r=\"12\" stroke=\"black\" fill=\"white\"/>\n",
       "<path d=\"M916,896 L940,896 M928,884 L928,908 \" stroke=\"black\"/>\n",
       "<path d=\"M992,64 L992,3584 \" stroke=\"black\"/>\n",
       "<circle cx=\"992\" cy=\"3584\" r=\"12\" stroke=\"none\" fill=\"black\"/>\n",
       "<circle cx=\"992\" cy=\"64\" r=\"12\" stroke=\"black\" fill=\"white\"/>\n",
       "<path d=\"M980,64 L1004,64 M992,52 L992,76 \" stroke=\"black\"/>\n",
       "<path d=\"M1056,1024 L1056,4672 \" stroke=\"black\"/>\n",
       "<circle cx=\"1056\" cy=\"4672\" r=\"12\" stroke=\"none\" fill=\"black\"/>\n",
       "<circle cx=\"1056\" cy=\"1024\" r=\"12\" stroke=\"black\" fill=\"white\"/>\n",
       "<path d=\"M1044,1024 L1068,1024 M1056,1012 L1056,1036 \" stroke=\"black\"/>\n",
       "<path d=\"M1120,64 L1120,3648 \" stroke=\"black\"/>\n",
       "<circle cx=\"1120\" cy=\"3648\" r=\"12\" stroke=\"none\" fill=\"black\"/>\n",
       "<circle cx=\"1120\" cy=\"64\" r=\"12\" stroke=\"none\" fill=\"black\"/>\n",
       "<path d=\"M1184,192 L1184,3776 \" stroke=\"black\"/>\n",
       "<circle cx=\"1184\" cy=\"3776\" r=\"12\" stroke=\"none\" fill=\"black\"/>\n",
       "<circle cx=\"1184\" cy=\"192\" r=\"12\" stroke=\"none\" fill=\"black\"/>\n",
       "<path d=\"M1248,320 L1248,3904 \" stroke=\"black\"/>\n",
       "<circle cx=\"1248\" cy=\"3904\" r=\"12\" stroke=\"none\" fill=\"black\"/>\n",
       "<circle cx=\"1248\" cy=\"320\" r=\"12\" stroke=\"none\" fill=\"black\"/>\n",
       "<path d=\"M1312,704 L1312,4352 \" stroke=\"black\"/>\n",
       "<circle cx=\"1312\" cy=\"4352\" r=\"12\" stroke=\"none\" fill=\"black\"/>\n",
       "<circle cx=\"1312\" cy=\"704\" r=\"12\" stroke=\"none\" fill=\"black\"/>\n",
       "<path d=\"M1376,832 L1376,4480 \" stroke=\"black\"/>\n",
       "<circle cx=\"1376\" cy=\"4480\" r=\"12\" stroke=\"none\" fill=\"black\"/>\n",
       "<circle cx=\"1376\" cy=\"832\" r=\"12\" stroke=\"none\" fill=\"black\"/>\n",
       "<path d=\"M1440,960 L1440,4608 \" stroke=\"black\"/>\n",
       "<circle cx=\"1440\" cy=\"4608\" r=\"12\" stroke=\"none\" fill=\"black\"/>\n",
       "<circle cx=\"1440\" cy=\"960\" r=\"12\" stroke=\"none\" fill=\"black\"/>\n",
       "<path d=\"M1504,1216 L1504,4928 \" stroke=\"black\"/>\n",
       "<circle cx=\"1504\" cy=\"4928\" r=\"12\" stroke=\"none\" fill=\"black\"/>\n",
       "<circle cx=\"1504\" cy=\"1216\" r=\"12\" stroke=\"none\" fill=\"black\"/>\n",
       "<path d=\"M1568,128 L1568,3072 \" stroke=\"black\"/>\n",
       "<circle cx=\"1568\" cy=\"3072\" r=\"12\" stroke=\"none\" fill=\"black\"/>\n",
       "<circle cx=\"1568\" cy=\"128\" r=\"12\" stroke=\"none\" fill=\"black\"/>\n",
       "<path d=\"M1632,1344 L1632,5056 \" stroke=\"black\"/>\n",
       "<circle cx=\"1632\" cy=\"5056\" r=\"12\" stroke=\"none\" fill=\"black\"/>\n",
       "<circle cx=\"1632\" cy=\"1344\" r=\"12\" stroke=\"none\" fill=\"black\"/>\n",
       "<path d=\"M1696,256 L1696,3200 \" stroke=\"black\"/>\n",
       "<circle cx=\"1696\" cy=\"3200\" r=\"12\" stroke=\"none\" fill=\"black\"/>\n",
       "<circle cx=\"1696\" cy=\"256\" r=\"12\" stroke=\"none\" fill=\"black\"/>\n",
       "<path d=\"M1760,1472 L1760,5184 \" stroke=\"black\"/>\n",
       "<circle cx=\"1760\" cy=\"5184\" r=\"12\" stroke=\"none\" fill=\"black\"/>\n",
       "<circle cx=\"1760\" cy=\"1472\" r=\"12\" stroke=\"none\" fill=\"black\"/>\n",
       "<path d=\"M1824,384 L1824,3328 \" stroke=\"black\"/>\n",
       "<circle cx=\"1824\" cy=\"3328\" r=\"12\" stroke=\"none\" fill=\"black\"/>\n",
       "<circle cx=\"1824\" cy=\"384\" r=\"12\" stroke=\"none\" fill=\"black\"/>\n",
       "<path d=\"M580,40 L580,32 L1852,32 L1852,40 \" stroke=\"black\" fill=\"none\"/>\n",
       "<path d=\"M580,6776 L580,6784 L1852,6784 L1852,6776 \" stroke=\"black\" fill=\"none\"/>\n",
       "<path d=\"M1888,192 L1888,3712 \" stroke=\"black\"/>\n",
       "<circle cx=\"1888\" cy=\"3712\" r=\"12\" stroke=\"none\" fill=\"black\"/>\n",
       "<circle cx=\"1888\" cy=\"192\" r=\"12\" stroke=\"black\" fill=\"white\"/>\n",
       "<path d=\"M1876,192 L1900,192 M1888,180 L1888,204 \" stroke=\"black\"/>\n",
       "<path d=\"M1952,320 L1952,3840 \" stroke=\"black\"/>\n",
       "<circle cx=\"1952\" cy=\"3840\" r=\"12\" stroke=\"none\" fill=\"black\"/>\n",
       "<circle cx=\"1952\" cy=\"320\" r=\"12\" stroke=\"black\" fill=\"white\"/>\n",
       "<path d=\"M1940,320 L1964,320 M1952,308 L1952,332 \" stroke=\"black\"/>\n",
       "<path d=\"M2016,448 L2016,3968 \" stroke=\"black\"/>\n",
       "<circle cx=\"2016\" cy=\"3968\" r=\"12\" stroke=\"none\" fill=\"black\"/>\n",
       "<circle cx=\"2016\" cy=\"448\" r=\"12\" stroke=\"black\" fill=\"white\"/>\n",
       "<path d=\"M2004,448 L2028,448 M2016,436 L2016,460 \" stroke=\"black\"/>\n",
       "<path d=\"M2080,704 L2080,4288 \" stroke=\"black\"/>\n",
       "<circle cx=\"2080\" cy=\"4288\" r=\"12\" stroke=\"none\" fill=\"black\"/>\n",
       "<circle cx=\"2080\" cy=\"704\" r=\"12\" stroke=\"black\" fill=\"white\"/>\n",
       "<path d=\"M2068,704 L2092,704 M2080,692 L2080,716 \" stroke=\"black\"/>\n",
       "<path d=\"M2144,832 L2144,4416 \" stroke=\"black\"/>\n",
       "<circle cx=\"2144\" cy=\"4416\" r=\"12\" stroke=\"none\" fill=\"black\"/>\n",
       "<circle cx=\"2144\" cy=\"832\" r=\"12\" stroke=\"black\" fill=\"white\"/>\n",
       "<path d=\"M2132,832 L2156,832 M2144,820 L2144,844 \" stroke=\"black\"/>\n",
       "<path d=\"M2208,960 L2208,4544 \" stroke=\"black\"/>\n",
       "<circle cx=\"2208\" cy=\"4544\" r=\"12\" stroke=\"none\" fill=\"black\"/>\n",
       "<circle cx=\"2208\" cy=\"960\" r=\"12\" stroke=\"black\" fill=\"white\"/>\n",
       "<path d=\"M2196,960 L2220,960 M2208,948 L2208,972 \" stroke=\"black\"/>\n",
       "<path d=\"M2272,640 L2272,3584 \" stroke=\"black\"/>\n",
       "<circle cx=\"2272\" cy=\"3584\" r=\"12\" stroke=\"none\" fill=\"black\"/>\n",
       "<circle cx=\"2272\" cy=\"640\" r=\"12\" stroke=\"black\" fill=\"white\"/>\n",
       "<path d=\"M2260,640 L2284,640 M2272,628 L2272,652 \" stroke=\"black\"/>\n",
       "<path d=\"M2336,1600 L2336,4672 \" stroke=\"black\"/>\n",
       "<circle cx=\"2336\" cy=\"4672\" r=\"12\" stroke=\"none\" fill=\"black\"/>\n",
       "<circle cx=\"2336\" cy=\"1600\" r=\"12\" stroke=\"black\" fill=\"white\"/>\n",
       "<path d=\"M2324,1600 L2348,1600 M2336,1588 L2336,1612 \" stroke=\"black\"/>\n",
       "<path d=\"M2400,128 L2400,3648 \" stroke=\"black\"/>\n",
       "<circle cx=\"2400\" cy=\"3648\" r=\"12\" stroke=\"none\" fill=\"black\"/>\n",
       "<circle cx=\"2400\" cy=\"128\" r=\"12\" stroke=\"none\" fill=\"black\"/>\n",
       "<path d=\"M2464,256 L2464,3776 \" stroke=\"black\"/>\n",
       "<circle cx=\"2464\" cy=\"3776\" r=\"12\" stroke=\"none\" fill=\"black\"/>\n",
       "<circle cx=\"2464\" cy=\"256\" r=\"12\" stroke=\"none\" fill=\"black\"/>\n",
       "<path d=\"M2528,384 L2528,3904 \" stroke=\"black\"/>\n",
       "<circle cx=\"2528\" cy=\"3904\" r=\"12\" stroke=\"none\" fill=\"black\"/>\n",
       "<circle cx=\"2528\" cy=\"384\" r=\"12\" stroke=\"none\" fill=\"black\"/>\n",
       "<path d=\"M2592,768 L2592,4352 \" stroke=\"black\"/>\n",
       "<circle cx=\"2592\" cy=\"4352\" r=\"12\" stroke=\"none\" fill=\"black\"/>\n",
       "<circle cx=\"2592\" cy=\"768\" r=\"12\" stroke=\"none\" fill=\"black\"/>\n",
       "<path d=\"M2656,896 L2656,4480 \" stroke=\"black\"/>\n",
       "<circle cx=\"2656\" cy=\"4480\" r=\"12\" stroke=\"none\" fill=\"black\"/>\n",
       "<circle cx=\"2656\" cy=\"896\" r=\"12\" stroke=\"none\" fill=\"black\"/>\n",
       "<path d=\"M2720,1024 L2720,4608 \" stroke=\"black\"/>\n",
       "<circle cx=\"2720\" cy=\"4608\" r=\"12\" stroke=\"none\" fill=\"black\"/>\n",
       "<circle cx=\"2720\" cy=\"1024\" r=\"12\" stroke=\"none\" fill=\"black\"/>\n",
       "<path d=\"M2784,1280 L2784,4928 \" stroke=\"black\"/>\n",
       "<circle cx=\"2784\" cy=\"4928\" r=\"12\" stroke=\"none\" fill=\"black\"/>\n",
       "<circle cx=\"2784\" cy=\"1280\" r=\"12\" stroke=\"none\" fill=\"black\"/>\n",
       "<path d=\"M2848,192 L2848,3072 \" stroke=\"black\"/>\n",
       "<circle cx=\"2848\" cy=\"3072\" r=\"12\" stroke=\"none\" fill=\"black\"/>\n",
       "<circle cx=\"2848\" cy=\"192\" r=\"12\" stroke=\"none\" fill=\"black\"/>\n",
       "<path d=\"M2912,1408 L2912,5056 \" stroke=\"black\"/>\n",
       "<circle cx=\"2912\" cy=\"5056\" r=\"12\" stroke=\"none\" fill=\"black\"/>\n",
       "<circle cx=\"2912\" cy=\"1408\" r=\"12\" stroke=\"none\" fill=\"black\"/>\n",
       "<path d=\"M2976,320 L2976,3200 \" stroke=\"black\"/>\n",
       "<circle cx=\"2976\" cy=\"3200\" r=\"12\" stroke=\"none\" fill=\"black\"/>\n",
       "<circle cx=\"2976\" cy=\"320\" r=\"12\" stroke=\"none\" fill=\"black\"/>\n",
       "<path d=\"M3040,1536 L3040,5184 \" stroke=\"black\"/>\n",
       "<circle cx=\"3040\" cy=\"5184\" r=\"12\" stroke=\"none\" fill=\"black\"/>\n",
       "<circle cx=\"3040\" cy=\"1536\" r=\"12\" stroke=\"none\" fill=\"black\"/>\n",
       "<path d=\"M3104,448 L3104,3328 \" stroke=\"black\"/>\n",
       "<circle cx=\"3104\" cy=\"3328\" r=\"12\" stroke=\"none\" fill=\"black\"/>\n",
       "<circle cx=\"3104\" cy=\"448\" r=\"12\" stroke=\"none\" fill=\"black\"/>\n",
       "<path d=\"M1860,40 L1860,32 L3132,32 L3132,40 \" stroke=\"black\" fill=\"none\"/>\n",
       "<path d=\"M1860,6776 L1860,6784 L3132,6784 L3132,6776 \" stroke=\"black\" fill=\"none\"/>\n",
       "<path d=\"M3168,704 L3168,3712 \" stroke=\"black\"/>\n",
       "<circle cx=\"3168\" cy=\"3712\" r=\"12\" stroke=\"none\" fill=\"black\"/>\n",
       "<circle cx=\"3168\" cy=\"704\" r=\"12\" stroke=\"black\" fill=\"white\"/>\n",
       "<path d=\"M3156,704 L3180,704 M3168,692 L3168,716 \" stroke=\"black\"/>\n",
       "<path d=\"M3232,832 L3232,3840 \" stroke=\"black\"/>\n",
       "<circle cx=\"3232\" cy=\"3840\" r=\"12\" stroke=\"none\" fill=\"black\"/>\n",
       "<circle cx=\"3232\" cy=\"832\" r=\"12\" stroke=\"black\" fill=\"white\"/>\n",
       "<path d=\"M3220,832 L3244,832 M3232,820 L3232,844 \" stroke=\"black\"/>\n",
       "<path d=\"M3296,960 L3296,3968 \" stroke=\"black\"/>\n",
       "<circle cx=\"3296\" cy=\"3968\" r=\"12\" stroke=\"none\" fill=\"black\"/>\n",
       "<circle cx=\"3296\" cy=\"960\" r=\"12\" stroke=\"black\" fill=\"white\"/>\n",
       "<path d=\"M3284,960 L3308,960 M3296,948 L3296,972 \" stroke=\"black\"/>\n",
       "<path d=\"M3360,1216 L3360,4288 \" stroke=\"black\"/>\n",
       "<circle cx=\"3360\" cy=\"4288\" r=\"12\" stroke=\"none\" fill=\"black\"/>\n",
       "<circle cx=\"3360\" cy=\"1216\" r=\"12\" stroke=\"black\" fill=\"white\"/>\n",
       "<path d=\"M3348,1216 L3372,1216 M3360,1204 L3360,1228 \" stroke=\"black\"/>\n",
       "<path d=\"M3424,1344 L3424,4416 \" stroke=\"black\"/>\n",
       "<circle cx=\"3424\" cy=\"4416\" r=\"12\" stroke=\"none\" fill=\"black\"/>\n",
       "<circle cx=\"3424\" cy=\"1344\" r=\"12\" stroke=\"black\" fill=\"white\"/>\n",
       "<path d=\"M3412,1344 L3436,1344 M3424,1332 L3424,1356 \" stroke=\"black\"/>\n",
       "<path d=\"M3488,1472 L3488,4544 \" stroke=\"black\"/>\n",
       "<circle cx=\"3488\" cy=\"4544\" r=\"12\" stroke=\"none\" fill=\"black\"/>\n",
       "<circle cx=\"3488\" cy=\"1472\" r=\"12\" stroke=\"black\" fill=\"white\"/>\n",
       "<path d=\"M3476,1472 L3500,1472 M3488,1460 L3488,1484 \" stroke=\"black\"/>\n",
       "<path d=\"M3552,640 L3552,3648 \" stroke=\"black\"/>\n",
       "<circle cx=\"3552\" cy=\"3648\" r=\"12\" stroke=\"none\" fill=\"black\"/>\n",
       "<circle cx=\"3552\" cy=\"640\" r=\"12\" stroke=\"none\" fill=\"black\"/>\n",
       "<path d=\"M3616,768 L3616,3776 \" stroke=\"black\"/>\n",
       "<circle cx=\"3616\" cy=\"3776\" r=\"12\" stroke=\"none\" fill=\"black\"/>\n",
       "<circle cx=\"3616\" cy=\"768\" r=\"12\" stroke=\"none\" fill=\"black\"/>\n",
       "<path d=\"M3680,896 L3680,3904 \" stroke=\"black\"/>\n",
       "<circle cx=\"3680\" cy=\"3904\" r=\"12\" stroke=\"none\" fill=\"black\"/>\n",
       "<circle cx=\"3680\" cy=\"896\" r=\"12\" stroke=\"none\" fill=\"black\"/>\n",
       "<path d=\"M3744,1280 L3744,4352 \" stroke=\"black\"/>\n",
       "<circle cx=\"3744\" cy=\"4352\" r=\"12\" stroke=\"none\" fill=\"black\"/>\n",
       "<circle cx=\"3744\" cy=\"1280\" r=\"12\" stroke=\"none\" fill=\"black\"/>\n",
       "<path d=\"M3808,1408 L3808,4480 \" stroke=\"black\"/>\n",
       "<circle cx=\"3808\" cy=\"4480\" r=\"12\" stroke=\"none\" fill=\"black\"/>\n",
       "<circle cx=\"3808\" cy=\"1408\" r=\"12\" stroke=\"none\" fill=\"black\"/>\n",
       "<path d=\"M3872,1536 L3872,4608 \" stroke=\"black\"/>\n",
       "<circle cx=\"3872\" cy=\"4608\" r=\"12\" stroke=\"none\" fill=\"black\"/>\n",
       "<circle cx=\"3872\" cy=\"1536\" r=\"12\" stroke=\"none\" fill=\"black\"/>\n",
       "<path d=\"M3140,40 L3140,32 L3900,32 L3900,40 \" stroke=\"black\" fill=\"none\"/>\n",
       "<path d=\"M3140,6776 L3140,6784 L3900,6784 L3900,6776 \" stroke=\"black\" fill=\"none\"/>\n",
       "<path d=\"M3936,768 L3936,3712 \" stroke=\"black\"/>\n",
       "<circle cx=\"3936\" cy=\"3712\" r=\"12\" stroke=\"none\" fill=\"black\"/>\n",
       "<circle cx=\"3936\" cy=\"768\" r=\"12\" stroke=\"black\" fill=\"white\"/>\n",
       "<path d=\"M3924,768 L3948,768 M3936,756 L3936,780 \" stroke=\"black\"/>\n",
       "<path d=\"M4000,896 L4000,3840 \" stroke=\"black\"/>\n",
       "<circle cx=\"4000\" cy=\"3840\" r=\"12\" stroke=\"none\" fill=\"black\"/>\n",
       "<circle cx=\"4000\" cy=\"896\" r=\"12\" stroke=\"black\" fill=\"white\"/>\n",
       "<path d=\"M3988,896 L4012,896 M4000,884 L4000,908 \" stroke=\"black\"/>\n",
       "<path d=\"M4064,1024 L4064,3968 \" stroke=\"black\"/>\n",
       "<circle cx=\"4064\" cy=\"3968\" r=\"12\" stroke=\"none\" fill=\"black\"/>\n",
       "<circle cx=\"4064\" cy=\"1024\" r=\"12\" stroke=\"black\" fill=\"white\"/>\n",
       "<path d=\"M4052,1024 L4076,1024 M4064,1012 L4064,1036 \" stroke=\"black\"/>\n",
       "<path d=\"M4128,1280 L4128,4288 \" stroke=\"black\"/>\n",
       "<circle cx=\"4128\" cy=\"4288\" r=\"12\" stroke=\"none\" fill=\"black\"/>\n",
       "<circle cx=\"4128\" cy=\"1280\" r=\"12\" stroke=\"black\" fill=\"white\"/>\n",
       "<path d=\"M4116,1280 L4140,1280 M4128,1268 L4128,1292 \" stroke=\"black\"/>\n",
       "<path d=\"M4192,1408 L4192,4416 \" stroke=\"black\"/>\n",
       "<circle cx=\"4192\" cy=\"4416\" r=\"12\" stroke=\"none\" fill=\"black\"/>\n",
       "<circle cx=\"4192\" cy=\"1408\" r=\"12\" stroke=\"black\" fill=\"white\"/>\n",
       "<path d=\"M4180,1408 L4204,1408 M4192,1396 L4192,1420 \" stroke=\"black\"/>\n",
       "<path d=\"M4256,1536 L4256,4544 \" stroke=\"black\"/>\n",
       "<circle cx=\"4256\" cy=\"4544\" r=\"12\" stroke=\"none\" fill=\"black\"/>\n",
       "<circle cx=\"4256\" cy=\"1536\" r=\"12\" stroke=\"black\" fill=\"white\"/>\n",
       "<path d=\"M4244,1536 L4268,1536 M4256,1524 L4256,1548 \" stroke=\"black\"/>\n",
       "<path d=\"M4320,704 L4320,3648 \" stroke=\"black\"/>\n",
       "<circle cx=\"4320\" cy=\"3648\" r=\"12\" stroke=\"none\" fill=\"black\"/>\n",
       "<circle cx=\"4320\" cy=\"704\" r=\"12\" stroke=\"none\" fill=\"black\"/>\n",
       "<path d=\"M4384,832 L4384,3776 \" stroke=\"black\"/>\n",
       "<circle cx=\"4384\" cy=\"3776\" r=\"12\" stroke=\"none\" fill=\"black\"/>\n",
       "<circle cx=\"4384\" cy=\"832\" r=\"12\" stroke=\"none\" fill=\"black\"/>\n",
       "<path d=\"M4448,960 L4448,3904 \" stroke=\"black\"/>\n",
       "<circle cx=\"4448\" cy=\"3904\" r=\"12\" stroke=\"none\" fill=\"black\"/>\n",
       "<circle cx=\"4448\" cy=\"960\" r=\"12\" stroke=\"none\" fill=\"black\"/>\n",
       "<path d=\"M4512,1344 L4512,4352 \" stroke=\"black\"/>\n",
       "<circle cx=\"4512\" cy=\"4352\" r=\"12\" stroke=\"none\" fill=\"black\"/>\n",
       "<circle cx=\"4512\" cy=\"1344\" r=\"12\" stroke=\"none\" fill=\"black\"/>\n",
       "<path d=\"M4576,1472 L4576,4480 \" stroke=\"black\"/>\n",
       "<circle cx=\"4576\" cy=\"4480\" r=\"12\" stroke=\"none\" fill=\"black\"/>\n",
       "<circle cx=\"4576\" cy=\"1472\" r=\"12\" stroke=\"none\" fill=\"black\"/>\n",
       "<path d=\"M4640,1600 L4640,4608 \" stroke=\"black\"/>\n",
       "<circle cx=\"4640\" cy=\"4608\" r=\"12\" stroke=\"none\" fill=\"black\"/>\n",
       "<circle cx=\"4640\" cy=\"1600\" r=\"12\" stroke=\"none\" fill=\"black\"/>\n",
       "<path d=\"M3908,40 L3908,32 L4668,32 L4668,40 \" stroke=\"black\" fill=\"none\"/>\n",
       "<path d=\"M3908,6776 L3908,6784 L4668,6784 L4668,6776 \" stroke=\"black\" fill=\"none\"/>\n",
       "<rect x=\"4688\" y=\"3696\" width=\"32\" height=\"32\" stroke=\"black\" fill=\"white\"/>\n",
       "<text dominant-baseline=\"central\" text-anchor=\"middle\" font-family=\"monospace\" font-size=\"30\" x=\"4704\" y=\"3712\">H</text>\n",
       "<rect x=\"4688\" y=\"3824\" width=\"32\" height=\"32\" stroke=\"black\" fill=\"white\"/>\n",
       "<text dominant-baseline=\"central\" text-anchor=\"middle\" font-family=\"monospace\" font-size=\"30\" x=\"4704\" y=\"3840\">H</text>\n",
       "<rect x=\"4688\" y=\"3952\" width=\"32\" height=\"32\" stroke=\"black\" fill=\"white\"/>\n",
       "<text dominant-baseline=\"central\" text-anchor=\"middle\" font-family=\"monospace\" font-size=\"30\" x=\"4704\" y=\"3968\">H</text>\n",
       "<rect x=\"4688\" y=\"4272\" width=\"32\" height=\"32\" stroke=\"black\" fill=\"white\"/>\n",
       "<text dominant-baseline=\"central\" text-anchor=\"middle\" font-family=\"monospace\" font-size=\"30\" x=\"4704\" y=\"4288\">H</text>\n",
       "<rect x=\"4688\" y=\"4400\" width=\"32\" height=\"32\" stroke=\"black\" fill=\"white\"/>\n",
       "<text dominant-baseline=\"central\" text-anchor=\"middle\" font-family=\"monospace\" font-size=\"30\" x=\"4704\" y=\"4416\">H</text>\n",
       "<rect x=\"4688\" y=\"4528\" width=\"32\" height=\"32\" stroke=\"black\" fill=\"white\"/>\n",
       "<text dominant-baseline=\"central\" text-anchor=\"middle\" font-family=\"monospace\" font-size=\"30\" x=\"4704\" y=\"4544\">H</text>\n",
       "<rect x=\"4688\" y=\"3568\" width=\"32\" height=\"32\" stroke=\"black\" fill=\"white\"/>\n",
       "<text dominant-baseline=\"central\" text-anchor=\"middle\" font-family=\"monospace\" font-size=\"30\" x=\"4704\" y=\"3584\">H</text>\n",
       "<rect x=\"4688\" y=\"4656\" width=\"32\" height=\"32\" stroke=\"black\" fill=\"white\"/>\n",
       "<text dominant-baseline=\"central\" text-anchor=\"middle\" font-family=\"monospace\" font-size=\"30\" x=\"4704\" y=\"4672\">H</text>\n",
       "<rect x=\"4688\" y=\"3632\" width=\"32\" height=\"32\" stroke=\"black\" fill=\"white\"/>\n",
       "<text dominant-baseline=\"central\" text-anchor=\"middle\" font-family=\"monospace\" font-size=\"30\" x=\"4704\" y=\"3648\">H</text>\n",
       "<rect x=\"4688\" y=\"3760\" width=\"32\" height=\"32\" stroke=\"black\" fill=\"white\"/>\n",
       "<text dominant-baseline=\"central\" text-anchor=\"middle\" font-family=\"monospace\" font-size=\"30\" x=\"4704\" y=\"3776\">H</text>\n",
       "<rect x=\"4688\" y=\"3888\" width=\"32\" height=\"32\" stroke=\"black\" fill=\"white\"/>\n",
       "<text dominant-baseline=\"central\" text-anchor=\"middle\" font-family=\"monospace\" font-size=\"30\" x=\"4704\" y=\"3904\">H</text>\n",
       "<rect x=\"4688\" y=\"4336\" width=\"32\" height=\"32\" stroke=\"black\" fill=\"white\"/>\n",
       "<text dominant-baseline=\"central\" text-anchor=\"middle\" font-family=\"monospace\" font-size=\"30\" x=\"4704\" y=\"4352\">H</text>\n",
       "<rect x=\"4688\" y=\"4464\" width=\"32\" height=\"32\" stroke=\"black\" fill=\"white\"/>\n",
       "<text dominant-baseline=\"central\" text-anchor=\"middle\" font-family=\"monospace\" font-size=\"30\" x=\"4704\" y=\"4480\">H</text>\n",
       "<rect x=\"4688\" y=\"4592\" width=\"32\" height=\"32\" stroke=\"black\" fill=\"white\"/>\n",
       "<text dominant-baseline=\"central\" text-anchor=\"middle\" font-family=\"monospace\" font-size=\"30\" x=\"4704\" y=\"4608\">H</text>\n",
       "<rect x=\"4688\" y=\"4912\" width=\"32\" height=\"32\" stroke=\"black\" fill=\"white\"/>\n",
       "<text dominant-baseline=\"central\" text-anchor=\"middle\" font-family=\"monospace\" font-size=\"30\" x=\"4704\" y=\"4928\">H</text>\n",
       "<rect x=\"4688\" y=\"3056\" width=\"32\" height=\"32\" stroke=\"black\" fill=\"white\"/>\n",
       "<text dominant-baseline=\"central\" text-anchor=\"middle\" font-family=\"monospace\" font-size=\"30\" x=\"4704\" y=\"3072\">H</text>\n",
       "<rect x=\"4688\" y=\"5040\" width=\"32\" height=\"32\" stroke=\"black\" fill=\"white\"/>\n",
       "<text dominant-baseline=\"central\" text-anchor=\"middle\" font-family=\"monospace\" font-size=\"30\" x=\"4704\" y=\"5056\">H</text>\n",
       "<rect x=\"4688\" y=\"3184\" width=\"32\" height=\"32\" stroke=\"black\" fill=\"white\"/>\n",
       "<text dominant-baseline=\"central\" text-anchor=\"middle\" font-family=\"monospace\" font-size=\"30\" x=\"4704\" y=\"3200\">H</text>\n",
       "<rect x=\"4688\" y=\"5168\" width=\"32\" height=\"32\" stroke=\"black\" fill=\"white\"/>\n",
       "<text dominant-baseline=\"central\" text-anchor=\"middle\" font-family=\"monospace\" font-size=\"30\" x=\"4704\" y=\"5184\">H</text>\n",
       "<rect x=\"4688\" y=\"3312\" width=\"32\" height=\"32\" stroke=\"black\" fill=\"white\"/>\n",
       "<text dominant-baseline=\"central\" text-anchor=\"middle\" font-family=\"monospace\" font-size=\"30\" x=\"4704\" y=\"3328\">H</text>\n",
       "<rect x=\"4752\" y=\"3696\" width=\"32\" height=\"32\" stroke=\"black\" fill=\"black\"/>\n",
       "<text dominant-baseline=\"central\" text-anchor=\"middle\" font-family=\"monospace\" font-size=\"24\" x=\"4768\" y=\"3712\" fill=\"white\">MR</text>\n",
       "<text text-anchor=\"middle\" font-family=\"monospace\" font-size=\"8\" x=\"4768\" y=\"3692\">rec[0]</text>\n",
       "<rect x=\"4752\" y=\"3824\" width=\"32\" height=\"32\" stroke=\"black\" fill=\"black\"/>\n",
       "<text dominant-baseline=\"central\" text-anchor=\"middle\" font-family=\"monospace\" font-size=\"24\" x=\"4768\" y=\"3840\" fill=\"white\">MR</text>\n",
       "<text text-anchor=\"middle\" font-family=\"monospace\" font-size=\"8\" x=\"4768\" y=\"3820\">rec[1]</text>\n",
       "<rect x=\"4752\" y=\"3952\" width=\"32\" height=\"32\" stroke=\"black\" fill=\"black\"/>\n",
       "<text dominant-baseline=\"central\" text-anchor=\"middle\" font-family=\"monospace\" font-size=\"24\" x=\"4768\" y=\"3968\" fill=\"white\">MR</text>\n",
       "<text text-anchor=\"middle\" font-family=\"monospace\" font-size=\"8\" x=\"4768\" y=\"3948\">rec[2]</text>\n",
       "<rect x=\"4752\" y=\"4272\" width=\"32\" height=\"32\" stroke=\"black\" fill=\"black\"/>\n",
       "<text dominant-baseline=\"central\" text-anchor=\"middle\" font-family=\"monospace\" font-size=\"24\" x=\"4768\" y=\"4288\" fill=\"white\">MR</text>\n",
       "<text text-anchor=\"middle\" font-family=\"monospace\" font-size=\"8\" x=\"4768\" y=\"4268\">rec[3]</text>\n",
       "<rect x=\"4752\" y=\"4400\" width=\"32\" height=\"32\" stroke=\"black\" fill=\"black\"/>\n",
       "<text dominant-baseline=\"central\" text-anchor=\"middle\" font-family=\"monospace\" font-size=\"24\" x=\"4768\" y=\"4416\" fill=\"white\">MR</text>\n",
       "<text text-anchor=\"middle\" font-family=\"monospace\" font-size=\"8\" x=\"4768\" y=\"4396\">rec[4]</text>\n",
       "<rect x=\"4752\" y=\"4528\" width=\"32\" height=\"32\" stroke=\"black\" fill=\"black\"/>\n",
       "<text dominant-baseline=\"central\" text-anchor=\"middle\" font-family=\"monospace\" font-size=\"24\" x=\"4768\" y=\"4544\" fill=\"white\">MR</text>\n",
       "<text text-anchor=\"middle\" font-family=\"monospace\" font-size=\"8\" x=\"4768\" y=\"4524\">rec[5]</text>\n",
       "<rect x=\"4752\" y=\"3568\" width=\"32\" height=\"32\" stroke=\"black\" fill=\"black\"/>\n",
       "<text dominant-baseline=\"central\" text-anchor=\"middle\" font-family=\"monospace\" font-size=\"24\" x=\"4768\" y=\"3584\" fill=\"white\">MR</text>\n",
       "<text text-anchor=\"middle\" font-family=\"monospace\" font-size=\"8\" x=\"4768\" y=\"3564\">rec[6]</text>\n",
       "<rect x=\"4752\" y=\"4656\" width=\"32\" height=\"32\" stroke=\"black\" fill=\"black\"/>\n",
       "<text dominant-baseline=\"central\" text-anchor=\"middle\" font-family=\"monospace\" font-size=\"24\" x=\"4768\" y=\"4672\" fill=\"white\">MR</text>\n",
       "<text text-anchor=\"middle\" font-family=\"monospace\" font-size=\"8\" x=\"4768\" y=\"4652\">rec[7]</text>\n",
       "<rect x=\"4752\" y=\"3632\" width=\"32\" height=\"32\" stroke=\"black\" fill=\"black\"/>\n",
       "<text dominant-baseline=\"central\" text-anchor=\"middle\" font-family=\"monospace\" font-size=\"24\" x=\"4768\" y=\"3648\" fill=\"white\">MR</text>\n",
       "<text text-anchor=\"middle\" font-family=\"monospace\" font-size=\"8\" x=\"4768\" y=\"3628\">rec[8]</text>\n",
       "<rect x=\"4752\" y=\"3760\" width=\"32\" height=\"32\" stroke=\"black\" fill=\"black\"/>\n",
       "<text dominant-baseline=\"central\" text-anchor=\"middle\" font-family=\"monospace\" font-size=\"24\" x=\"4768\" y=\"3776\" fill=\"white\">MR</text>\n",
       "<text text-anchor=\"middle\" font-family=\"monospace\" font-size=\"8\" x=\"4768\" y=\"3756\">rec[9]</text>\n",
       "<rect x=\"4752\" y=\"3888\" width=\"32\" height=\"32\" stroke=\"black\" fill=\"black\"/>\n",
       "<text dominant-baseline=\"central\" text-anchor=\"middle\" font-family=\"monospace\" font-size=\"24\" x=\"4768\" y=\"3904\" fill=\"white\">MR</text>\n",
       "<text text-anchor=\"middle\" font-family=\"monospace\" font-size=\"8\" x=\"4768\" y=\"3884\">rec[10]</text>\n",
       "<rect x=\"4752\" y=\"4336\" width=\"32\" height=\"32\" stroke=\"black\" fill=\"black\"/>\n",
       "<text dominant-baseline=\"central\" text-anchor=\"middle\" font-family=\"monospace\" font-size=\"24\" x=\"4768\" y=\"4352\" fill=\"white\">MR</text>\n",
       "<text text-anchor=\"middle\" font-family=\"monospace\" font-size=\"8\" x=\"4768\" y=\"4332\">rec[11]</text>\n",
       "<rect x=\"4752\" y=\"4464\" width=\"32\" height=\"32\" stroke=\"black\" fill=\"black\"/>\n",
       "<text dominant-baseline=\"central\" text-anchor=\"middle\" font-family=\"monospace\" font-size=\"24\" x=\"4768\" y=\"4480\" fill=\"white\">MR</text>\n",
       "<text text-anchor=\"middle\" font-family=\"monospace\" font-size=\"8\" x=\"4768\" y=\"4460\">rec[12]</text>\n",
       "<rect x=\"4752\" y=\"4592\" width=\"32\" height=\"32\" stroke=\"black\" fill=\"black\"/>\n",
       "<text dominant-baseline=\"central\" text-anchor=\"middle\" font-family=\"monospace\" font-size=\"24\" x=\"4768\" y=\"4608\" fill=\"white\">MR</text>\n",
       "<text text-anchor=\"middle\" font-family=\"monospace\" font-size=\"8\" x=\"4768\" y=\"4588\">rec[13]</text>\n",
       "<rect x=\"4752\" y=\"4912\" width=\"32\" height=\"32\" stroke=\"black\" fill=\"black\"/>\n",
       "<text dominant-baseline=\"central\" text-anchor=\"middle\" font-family=\"monospace\" font-size=\"24\" x=\"4768\" y=\"4928\" fill=\"white\">MR</text>\n",
       "<text text-anchor=\"middle\" font-family=\"monospace\" font-size=\"8\" x=\"4768\" y=\"4908\">rec[14]</text>\n",
       "<rect x=\"4752\" y=\"3056\" width=\"32\" height=\"32\" stroke=\"black\" fill=\"black\"/>\n",
       "<text dominant-baseline=\"central\" text-anchor=\"middle\" font-family=\"monospace\" font-size=\"24\" x=\"4768\" y=\"3072\" fill=\"white\">MR</text>\n",
       "<text text-anchor=\"middle\" font-family=\"monospace\" font-size=\"8\" x=\"4768\" y=\"3052\">rec[15]</text>\n",
       "<rect x=\"4752\" y=\"5040\" width=\"32\" height=\"32\" stroke=\"black\" fill=\"black\"/>\n",
       "<text dominant-baseline=\"central\" text-anchor=\"middle\" font-family=\"monospace\" font-size=\"24\" x=\"4768\" y=\"5056\" fill=\"white\">MR</text>\n",
       "<text text-anchor=\"middle\" font-family=\"monospace\" font-size=\"8\" x=\"4768\" y=\"5036\">rec[16]</text>\n",
       "<rect x=\"4752\" y=\"3184\" width=\"32\" height=\"32\" stroke=\"black\" fill=\"black\"/>\n",
       "<text dominant-baseline=\"central\" text-anchor=\"middle\" font-family=\"monospace\" font-size=\"24\" x=\"4768\" y=\"3200\" fill=\"white\">MR</text>\n",
       "<text text-anchor=\"middle\" font-family=\"monospace\" font-size=\"8\" x=\"4768\" y=\"3180\">rec[17]</text>\n",
       "<rect x=\"4752\" y=\"5168\" width=\"32\" height=\"32\" stroke=\"black\" fill=\"black\"/>\n",
       "<text dominant-baseline=\"central\" text-anchor=\"middle\" font-family=\"monospace\" font-size=\"24\" x=\"4768\" y=\"5184\" fill=\"white\">MR</text>\n",
       "<text text-anchor=\"middle\" font-family=\"monospace\" font-size=\"8\" x=\"4768\" y=\"5164\">rec[18]</text>\n",
       "<rect x=\"4752\" y=\"3312\" width=\"32\" height=\"32\" stroke=\"black\" fill=\"black\"/>\n",
       "<text dominant-baseline=\"central\" text-anchor=\"middle\" font-family=\"monospace\" font-size=\"24\" x=\"4768\" y=\"3328\" fill=\"white\">MR</text>\n",
       "<text text-anchor=\"middle\" font-family=\"monospace\" font-size=\"8\" x=\"4768\" y=\"3308\">rec[19]</text>\n",
       "<rect x=\"4816\" y=\"240\" width=\"32\" height=\"32\" stroke=\"black\" fill=\"white\"/>\n",
       "<text dominant-baseline=\"central\" text-anchor=\"middle\" font-family=\"monospace\" font-size=\"30\" x=\"4832\" y=\"256\">H</text>\n",
       "<rect x=\"4816\" y=\"816\" width=\"32\" height=\"32\" stroke=\"black\" fill=\"white\"/>\n",
       "<text dominant-baseline=\"central\" text-anchor=\"middle\" font-family=\"monospace\" font-size=\"30\" x=\"4832\" y=\"832\">H</text>\n",
       "<rect x=\"4816\" y=\"1392\" width=\"32\" height=\"32\" stroke=\"black\" fill=\"white\"/>\n",
       "<text dominant-baseline=\"central\" text-anchor=\"middle\" font-family=\"monospace\" font-size=\"30\" x=\"4832\" y=\"1408\">H</text>\n",
       "<rect x=\"4880\" y=\"240\" width=\"32\" height=\"32\" stroke=\"black\" fill=\"black\"/>\n",
       "<text dominant-baseline=\"central\" text-anchor=\"middle\" font-family=\"monospace\" font-size=\"30\" x=\"4896\" y=\"256\" fill=\"white\">M</text>\n",
       "<text text-anchor=\"middle\" font-family=\"monospace\" font-size=\"8\" x=\"4896\" y=\"236\">rec[20]</text>\n",
       "<rect x=\"4880\" y=\"816\" width=\"32\" height=\"32\" stroke=\"black\" fill=\"black\"/>\n",
       "<text dominant-baseline=\"central\" text-anchor=\"middle\" font-family=\"monospace\" font-size=\"30\" x=\"4896\" y=\"832\" fill=\"white\">M</text>\n",
       "<text text-anchor=\"middle\" font-family=\"monospace\" font-size=\"8\" x=\"4896\" y=\"812\">rec[21]</text>\n",
       "<rect x=\"4880\" y=\"1392\" width=\"32\" height=\"32\" stroke=\"black\" fill=\"black\"/>\n",
       "<text dominant-baseline=\"central\" text-anchor=\"middle\" font-family=\"monospace\" font-size=\"30\" x=\"4896\" y=\"1408\" fill=\"white\">M</text>\n",
       "<text text-anchor=\"middle\" font-family=\"monospace\" font-size=\"8\" x=\"4896\" y=\"1388\">rec[22]</text>\n",
       "<rect x=\"4880\" y=\"3824\" width=\"32\" height=\"32\" stroke=\"black\" fill=\"white\"/>\n",
       "<text dominant-baseline=\"central\" text-anchor=\"middle\" font-family=\"monospace\" font-size=\"30\" x=\"4896\" y=\"3840\">H</text>\n",
       "<rect x=\"4880\" y=\"3952\" width=\"32\" height=\"32\" stroke=\"black\" fill=\"white\"/>\n",
       "<text dominant-baseline=\"central\" text-anchor=\"middle\" font-family=\"monospace\" font-size=\"30\" x=\"4896\" y=\"3968\">H</text>\n",
       "<rect x=\"4880\" y=\"4528\" width=\"32\" height=\"32\" stroke=\"black\" fill=\"white\"/>\n",
       "<text dominant-baseline=\"central\" text-anchor=\"middle\" font-family=\"monospace\" font-size=\"30\" x=\"4896\" y=\"4544\">H</text>\n",
       "<rect x=\"4880\" y=\"4656\" width=\"32\" height=\"32\" stroke=\"black\" fill=\"white\"/>\n",
       "<text dominant-baseline=\"central\" text-anchor=\"middle\" font-family=\"monospace\" font-size=\"30\" x=\"4896\" y=\"4672\">H</text>\n",
       "<rect x=\"4880\" y=\"3888\" width=\"32\" height=\"32\" stroke=\"black\" fill=\"white\"/>\n",
       "<text dominant-baseline=\"central\" text-anchor=\"middle\" font-family=\"monospace\" font-size=\"30\" x=\"4896\" y=\"3904\">H</text>\n",
       "<rect x=\"4880\" y=\"4592\" width=\"32\" height=\"32\" stroke=\"black\" fill=\"white\"/>\n",
       "<text dominant-baseline=\"central\" text-anchor=\"middle\" font-family=\"monospace\" font-size=\"30\" x=\"4896\" y=\"4608\">H</text>\n",
       "<rect x=\"4880\" y=\"5168\" width=\"32\" height=\"32\" stroke=\"black\" fill=\"white\"/>\n",
       "<text dominant-baseline=\"central\" text-anchor=\"middle\" font-family=\"monospace\" font-size=\"30\" x=\"4896\" y=\"5184\">H</text>\n",
       "<rect x=\"4880\" y=\"3312\" width=\"32\" height=\"32\" stroke=\"black\" fill=\"white\"/>\n",
       "<text dominant-baseline=\"central\" text-anchor=\"middle\" font-family=\"monospace\" font-size=\"30\" x=\"4896\" y=\"3328\">H</text>\n",
       "<path d=\"M4804,40 L4804,32 L4924,32 L4924,40 \" stroke=\"black\" fill=\"none\"/>\n",
       "<path d=\"M4804,6776 L4804,6784 L4924,6784 L4924,6776 \" stroke=\"black\" fill=\"none\"/>\n",
       "<path d=\"M4960,320 L4960,3840 \" stroke=\"black\"/>\n",
       "<circle cx=\"4960\" cy=\"3840\" r=\"12\" stroke=\"none\" fill=\"black\"/>\n",
       "<circle cx=\"4960\" cy=\"320\" r=\"12\" stroke=\"black\" fill=\"white\"/>\n",
       "<path d=\"M4948,320 L4972,320 M4960,308 L4960,332 \" stroke=\"black\"/>\n",
       "<path d=\"M5024,384 L5024,3968 \" stroke=\"black\"/>\n",
       "<circle cx=\"5024\" cy=\"3968\" r=\"12\" stroke=\"none\" fill=\"black\"/>\n",
       "<circle cx=\"5024\" cy=\"384\" r=\"12\" stroke=\"black\" fill=\"white\"/>\n",
       "<path d=\"M5012,384 L5036,384 M5024,372 L5024,396 \" stroke=\"black\"/>\n",
       "<path d=\"M5088,896 L5088,4544 \" stroke=\"black\"/>\n",
       "<circle cx=\"5088\" cy=\"4544\" r=\"12\" stroke=\"none\" fill=\"black\"/>\n",
       "<circle cx=\"5088\" cy=\"896\" r=\"12\" stroke=\"black\" fill=\"white\"/>\n",
       "<path d=\"M5076,896 L5100,896 M5088,884 L5088,908 \" stroke=\"black\"/>\n",
       "<path d=\"M5152,1024 L5152,4672 \" stroke=\"black\"/>\n",
       "<circle cx=\"5152\" cy=\"4672\" r=\"12\" stroke=\"none\" fill=\"black\"/>\n",
       "<circle cx=\"5152\" cy=\"1024\" r=\"12\" stroke=\"black\" fill=\"white\"/>\n",
       "<path d=\"M5140,1024 L5164,1024 M5152,1012 L5152,1036 \" stroke=\"black\"/>\n",
       "<path d=\"M5216,320 L5216,3904 \" stroke=\"black\"/>\n",
       "<circle cx=\"5216\" cy=\"3904\" r=\"12\" stroke=\"none\" fill=\"black\"/>\n",
       "<circle cx=\"5216\" cy=\"320\" r=\"12\" stroke=\"none\" fill=\"black\"/>\n",
       "<path d=\"M5280,960 L5280,4608 \" stroke=\"black\"/>\n",
       "<circle cx=\"5280\" cy=\"4608\" r=\"12\" stroke=\"none\" fill=\"black\"/>\n",
       "<circle cx=\"5280\" cy=\"960\" r=\"12\" stroke=\"none\" fill=\"black\"/>\n",
       "<path d=\"M5344,1472 L5344,5184 \" stroke=\"black\"/>\n",
       "<circle cx=\"5344\" cy=\"5184\" r=\"12\" stroke=\"none\" fill=\"black\"/>\n",
       "<circle cx=\"5344\" cy=\"1472\" r=\"12\" stroke=\"none\" fill=\"black\"/>\n",
       "<path d=\"M5408,384 L5408,3328 \" stroke=\"black\"/>\n",
       "<circle cx=\"5408\" cy=\"3328\" r=\"12\" stroke=\"none\" fill=\"black\"/>\n",
       "<circle cx=\"5408\" cy=\"384\" r=\"12\" stroke=\"none\" fill=\"black\"/>\n",
       "<path d=\"M4932,40 L4932,32 L5436,32 L5436,40 \" stroke=\"black\" fill=\"none\"/>\n",
       "<path d=\"M4932,6776 L4932,6784 L5436,6784 L5436,6776 \" stroke=\"black\" fill=\"none\"/>\n",
       "<path d=\"M5472,896 L5472,3840 \" stroke=\"black\"/>\n",
       "<circle cx=\"5472\" cy=\"3840\" r=\"12\" stroke=\"none\" fill=\"black\"/>\n",
       "<circle cx=\"5472\" cy=\"896\" r=\"12\" stroke=\"black\" fill=\"white\"/>\n",
       "<path d=\"M5460,896 L5484,896 M5472,884 L5472,908 \" stroke=\"black\"/>\n",
       "<path d=\"M5536,448 L5536,3968 \" stroke=\"black\"/>\n",
       "<circle cx=\"5536\" cy=\"3968\" r=\"12\" stroke=\"none\" fill=\"black\"/>\n",
       "<circle cx=\"5536\" cy=\"448\" r=\"12\" stroke=\"black\" fill=\"white\"/>\n",
       "<path d=\"M5524,448 L5548,448 M5536,436 L5536,460 \" stroke=\"black\"/>\n",
       "<path d=\"M5600,960 L5600,4544 \" stroke=\"black\"/>\n",
       "<circle cx=\"5600\" cy=\"4544\" r=\"12\" stroke=\"none\" fill=\"black\"/>\n",
       "<circle cx=\"5600\" cy=\"960\" r=\"12\" stroke=\"black\" fill=\"white\"/>\n",
       "<path d=\"M5588,960 L5612,960 M5600,948 L5600,972 \" stroke=\"black\"/>\n",
       "<path d=\"M5664,1600 L5664,4672 \" stroke=\"black\"/>\n",
       "<circle cx=\"5664\" cy=\"4672\" r=\"12\" stroke=\"none\" fill=\"black\"/>\n",
       "<circle cx=\"5664\" cy=\"1600\" r=\"12\" stroke=\"black\" fill=\"white\"/>\n",
       "<path d=\"M5652,1600 L5676,1600 M5664,1588 L5664,1612 \" stroke=\"black\"/>\n",
       "<path d=\"M5728,384 L5728,3904 \" stroke=\"black\"/>\n",
       "<circle cx=\"5728\" cy=\"3904\" r=\"12\" stroke=\"none\" fill=\"black\"/>\n",
       "<circle cx=\"5728\" cy=\"384\" r=\"12\" stroke=\"none\" fill=\"black\"/>\n",
       "<path d=\"M5792,1024 L5792,4608 \" stroke=\"black\"/>\n",
       "<circle cx=\"5792\" cy=\"4608\" r=\"12\" stroke=\"none\" fill=\"black\"/>\n",
       "<circle cx=\"5792\" cy=\"1024\" r=\"12\" stroke=\"none\" fill=\"black\"/>\n",
       "<path d=\"M5856,1536 L5856,5184 \" stroke=\"black\"/>\n",
       "<circle cx=\"5856\" cy=\"5184\" r=\"12\" stroke=\"none\" fill=\"black\"/>\n",
       "<circle cx=\"5856\" cy=\"1536\" r=\"12\" stroke=\"none\" fill=\"black\"/>\n",
       "<path d=\"M5920,448 L5920,3328 \" stroke=\"black\"/>\n",
       "<circle cx=\"5920\" cy=\"3328\" r=\"12\" stroke=\"none\" fill=\"black\"/>\n",
       "<circle cx=\"5920\" cy=\"448\" r=\"12\" stroke=\"none\" fill=\"black\"/>\n",
       "<path d=\"M5444,40 L5444,32 L5948,32 L5948,40 \" stroke=\"black\" fill=\"none\"/>\n",
       "<path d=\"M5444,6776 L5444,6784 L5948,6784 L5948,6776 \" stroke=\"black\" fill=\"none\"/>\n",
       "<path d=\"M5984,960 L5984,3968 \" stroke=\"black\"/>\n",
       "<circle cx=\"5984\" cy=\"3968\" r=\"12\" stroke=\"none\" fill=\"black\"/>\n",
       "<circle cx=\"5984\" cy=\"960\" r=\"12\" stroke=\"black\" fill=\"white\"/>\n",
       "<path d=\"M5972,960 L5996,960 M5984,948 L5984,972 \" stroke=\"black\"/>\n",
       "<path d=\"M6048,1472 L6048,4544 \" stroke=\"black\"/>\n",
       "<circle cx=\"6048\" cy=\"4544\" r=\"12\" stroke=\"none\" fill=\"black\"/>\n",
       "<circle cx=\"6048\" cy=\"1472\" r=\"12\" stroke=\"black\" fill=\"white\"/>\n",
       "<path d=\"M6036,1472 L6060,1472 M6048,1460 L6048,1484 \" stroke=\"black\"/>\n",
       "<path d=\"M6112,896 L6112,3904 \" stroke=\"black\"/>\n",
       "<circle cx=\"6112\" cy=\"3904\" r=\"12\" stroke=\"none\" fill=\"black\"/>\n",
       "<circle cx=\"6112\" cy=\"896\" r=\"12\" stroke=\"none\" fill=\"black\"/>\n",
       "<path d=\"M6176,1536 L6176,4608 \" stroke=\"black\"/>\n",
       "<circle cx=\"6176\" cy=\"4608\" r=\"12\" stroke=\"none\" fill=\"black\"/>\n",
       "<circle cx=\"6176\" cy=\"1536\" r=\"12\" stroke=\"none\" fill=\"black\"/>\n",
       "<path d=\"M5956,40 L5956,32 L6204,32 L6204,40 \" stroke=\"black\" fill=\"none\"/>\n",
       "<path d=\"M5956,6776 L5956,6784 L6204,6784 L6204,6776 \" stroke=\"black\" fill=\"none\"/>\n",
       "<path d=\"M6240,1024 L6240,3968 \" stroke=\"black\"/>\n",
       "<circle cx=\"6240\" cy=\"3968\" r=\"12\" stroke=\"none\" fill=\"black\"/>\n",
       "<circle cx=\"6240\" cy=\"1024\" r=\"12\" stroke=\"black\" fill=\"white\"/>\n",
       "<path d=\"M6228,1024 L6252,1024 M6240,1012 L6240,1036 \" stroke=\"black\"/>\n",
       "<path d=\"M6304,1536 L6304,4544 \" stroke=\"black\"/>\n",
       "<circle cx=\"6304\" cy=\"4544\" r=\"12\" stroke=\"none\" fill=\"black\"/>\n",
       "<circle cx=\"6304\" cy=\"1536\" r=\"12\" stroke=\"black\" fill=\"white\"/>\n",
       "<path d=\"M6292,1536 L6316,1536 M6304,1524 L6304,1548 \" stroke=\"black\"/>\n",
       "<path d=\"M6368,960 L6368,3904 \" stroke=\"black\"/>\n",
       "<circle cx=\"6368\" cy=\"3904\" r=\"12\" stroke=\"none\" fill=\"black\"/>\n",
       "<circle cx=\"6368\" cy=\"960\" r=\"12\" stroke=\"none\" fill=\"black\"/>\n",
       "<path d=\"M6432,1600 L6432,4608 \" stroke=\"black\"/>\n",
       "<circle cx=\"6432\" cy=\"4608\" r=\"12\" stroke=\"none\" fill=\"black\"/>\n",
       "<circle cx=\"6432\" cy=\"1600\" r=\"12\" stroke=\"none\" fill=\"black\"/>\n",
       "<path d=\"M6212,40 L6212,32 L6460,32 L6460,40 \" stroke=\"black\" fill=\"none\"/>\n",
       "<path d=\"M6212,6776 L6212,6784 L6460,6784 L6460,6776 \" stroke=\"black\" fill=\"none\"/>\n",
       "<rect x=\"6480\" y=\"3824\" width=\"32\" height=\"32\" stroke=\"black\" fill=\"white\"/>\n",
       "<text dominant-baseline=\"central\" text-anchor=\"middle\" font-family=\"monospace\" font-size=\"30\" x=\"6496\" y=\"3840\">H</text>\n",
       "<rect x=\"6480\" y=\"3952\" width=\"32\" height=\"32\" stroke=\"black\" fill=\"white\"/>\n",
       "<text dominant-baseline=\"central\" text-anchor=\"middle\" font-family=\"monospace\" font-size=\"30\" x=\"6496\" y=\"3968\">H</text>\n",
       "<rect x=\"6480\" y=\"4528\" width=\"32\" height=\"32\" stroke=\"black\" fill=\"white\"/>\n",
       "<text dominant-baseline=\"central\" text-anchor=\"middle\" font-family=\"monospace\" font-size=\"30\" x=\"6496\" y=\"4544\">H</text>\n",
       "<rect x=\"6480\" y=\"4656\" width=\"32\" height=\"32\" stroke=\"black\" fill=\"white\"/>\n",
       "<text dominant-baseline=\"central\" text-anchor=\"middle\" font-family=\"monospace\" font-size=\"30\" x=\"6496\" y=\"4672\">H</text>\n",
       "<rect x=\"6480\" y=\"3888\" width=\"32\" height=\"32\" stroke=\"black\" fill=\"white\"/>\n",
       "<text dominant-baseline=\"central\" text-anchor=\"middle\" font-family=\"monospace\" font-size=\"30\" x=\"6496\" y=\"3904\">H</text>\n",
       "<rect x=\"6480\" y=\"4592\" width=\"32\" height=\"32\" stroke=\"black\" fill=\"white\"/>\n",
       "<text dominant-baseline=\"central\" text-anchor=\"middle\" font-family=\"monospace\" font-size=\"30\" x=\"6496\" y=\"4608\">H</text>\n",
       "<rect x=\"6480\" y=\"5168\" width=\"32\" height=\"32\" stroke=\"black\" fill=\"white\"/>\n",
       "<text dominant-baseline=\"central\" text-anchor=\"middle\" font-family=\"monospace\" font-size=\"30\" x=\"6496\" y=\"5184\">H</text>\n",
       "<rect x=\"6480\" y=\"3312\" width=\"32\" height=\"32\" stroke=\"black\" fill=\"white\"/>\n",
       "<text dominant-baseline=\"central\" text-anchor=\"middle\" font-family=\"monospace\" font-size=\"30\" x=\"6496\" y=\"3328\">H</text>\n",
       "<rect x=\"6544\" y=\"3824\" width=\"32\" height=\"32\" stroke=\"black\" fill=\"black\"/>\n",
       "<text dominant-baseline=\"central\" text-anchor=\"middle\" font-family=\"monospace\" font-size=\"24\" x=\"6560\" y=\"3840\" fill=\"white\">MR</text>\n",
       "<text text-anchor=\"middle\" font-family=\"monospace\" font-size=\"8\" x=\"6560\" y=\"3820\">rec[23]</text>\n",
       "<rect x=\"6544\" y=\"3952\" width=\"32\" height=\"32\" stroke=\"black\" fill=\"black\"/>\n",
       "<text dominant-baseline=\"central\" text-anchor=\"middle\" font-family=\"monospace\" font-size=\"24\" x=\"6560\" y=\"3968\" fill=\"white\">MR</text>\n",
       "<text text-anchor=\"middle\" font-family=\"monospace\" font-size=\"8\" x=\"6560\" y=\"3948\">rec[24]</text>\n",
       "<rect x=\"6544\" y=\"4528\" width=\"32\" height=\"32\" stroke=\"black\" fill=\"black\"/>\n",
       "<text dominant-baseline=\"central\" text-anchor=\"middle\" font-family=\"monospace\" font-size=\"24\" x=\"6560\" y=\"4544\" fill=\"white\">MR</text>\n",
       "<text text-anchor=\"middle\" font-family=\"monospace\" font-size=\"8\" x=\"6560\" y=\"4524\">rec[25]</text>\n",
       "<rect x=\"6544\" y=\"4656\" width=\"32\" height=\"32\" stroke=\"black\" fill=\"black\"/>\n",
       "<text dominant-baseline=\"central\" text-anchor=\"middle\" font-family=\"monospace\" font-size=\"24\" x=\"6560\" y=\"4672\" fill=\"white\">MR</text>\n",
       "<text text-anchor=\"middle\" font-family=\"monospace\" font-size=\"8\" x=\"6560\" y=\"4652\">rec[26]</text>\n",
       "<rect x=\"6544\" y=\"3888\" width=\"32\" height=\"32\" stroke=\"black\" fill=\"black\"/>\n",
       "<text dominant-baseline=\"central\" text-anchor=\"middle\" font-family=\"monospace\" font-size=\"24\" x=\"6560\" y=\"3904\" fill=\"white\">MR</text>\n",
       "<text text-anchor=\"middle\" font-family=\"monospace\" font-size=\"8\" x=\"6560\" y=\"3884\">rec[27]</text>\n",
       "<rect x=\"6544\" y=\"4592\" width=\"32\" height=\"32\" stroke=\"black\" fill=\"black\"/>\n",
       "<text dominant-baseline=\"central\" text-anchor=\"middle\" font-family=\"monospace\" font-size=\"24\" x=\"6560\" y=\"4608\" fill=\"white\">MR</text>\n",
       "<text text-anchor=\"middle\" font-family=\"monospace\" font-size=\"8\" x=\"6560\" y=\"4588\">rec[28]</text>\n",
       "<rect x=\"6544\" y=\"5168\" width=\"32\" height=\"32\" stroke=\"black\" fill=\"black\"/>\n",
       "<text dominant-baseline=\"central\" text-anchor=\"middle\" font-family=\"monospace\" font-size=\"24\" x=\"6560\" y=\"5184\" fill=\"white\">MR</text>\n",
       "<text text-anchor=\"middle\" font-family=\"monospace\" font-size=\"8\" x=\"6560\" y=\"5164\">rec[29]</text>\n",
       "<rect x=\"6544\" y=\"3312\" width=\"32\" height=\"32\" stroke=\"black\" fill=\"black\"/>\n",
       "<text dominant-baseline=\"central\" text-anchor=\"middle\" font-family=\"monospace\" font-size=\"24\" x=\"6560\" y=\"3328\" fill=\"white\">MR</text>\n",
       "<text text-anchor=\"middle\" font-family=\"monospace\" font-size=\"8\" x=\"6560\" y=\"3308\">rec[30]</text>\n",
       "<rect x=\"6608\" y=\"3696\" width=\"32\" height=\"32\" stroke=\"black\" fill=\"white\"/>\n",
       "<text dominant-baseline=\"central\" text-anchor=\"middle\" font-family=\"monospace\" font-size=\"30\" x=\"6624\" y=\"3712\">H</text>\n",
       "<rect x=\"6608\" y=\"4272\" width=\"32\" height=\"32\" stroke=\"black\" fill=\"white\"/>\n",
       "<text dominant-baseline=\"central\" text-anchor=\"middle\" font-family=\"monospace\" font-size=\"30\" x=\"6624\" y=\"4288\">H</text>\n",
       "<rect x=\"6608\" y=\"4400\" width=\"32\" height=\"32\" stroke=\"black\" fill=\"white\"/>\n",
       "<text dominant-baseline=\"central\" text-anchor=\"middle\" font-family=\"monospace\" font-size=\"30\" x=\"6624\" y=\"4416\">H</text>\n",
       "<rect x=\"6608\" y=\"3568\" width=\"32\" height=\"32\" stroke=\"black\" fill=\"white\"/>\n",
       "<text dominant-baseline=\"central\" text-anchor=\"middle\" font-family=\"monospace\" font-size=\"30\" x=\"6624\" y=\"3584\">H</text>\n",
       "<rect x=\"6608\" y=\"3632\" width=\"32\" height=\"32\" stroke=\"black\" fill=\"white\"/>\n",
       "<text dominant-baseline=\"central\" text-anchor=\"middle\" font-family=\"monospace\" font-size=\"30\" x=\"6624\" y=\"3648\">H</text>\n",
       "<rect x=\"6608\" y=\"4336\" width=\"32\" height=\"32\" stroke=\"black\" fill=\"white\"/>\n",
       "<text dominant-baseline=\"central\" text-anchor=\"middle\" font-family=\"monospace\" font-size=\"30\" x=\"6624\" y=\"4352\">H</text>\n",
       "<rect x=\"6608\" y=\"4912\" width=\"32\" height=\"32\" stroke=\"black\" fill=\"white\"/>\n",
       "<text dominant-baseline=\"central\" text-anchor=\"middle\" font-family=\"monospace\" font-size=\"30\" x=\"6624\" y=\"4928\">H</text>\n",
       "<rect x=\"6608\" y=\"3056\" width=\"32\" height=\"32\" stroke=\"black\" fill=\"white\"/>\n",
       "<text dominant-baseline=\"central\" text-anchor=\"middle\" font-family=\"monospace\" font-size=\"30\" x=\"6624\" y=\"3072\">H</text>\n",
       "<path d=\"M6688,128 L6688,3712 \" stroke=\"black\"/>\n",
       "<circle cx=\"6688\" cy=\"3712\" r=\"12\" stroke=\"none\" fill=\"black\"/>\n",
       "<circle cx=\"6688\" cy=\"128\" r=\"12\" stroke=\"black\" fill=\"white\"/>\n",
       "<path d=\"M6676,128 L6700,128 M6688,116 L6688,140 \" stroke=\"black\"/>\n",
       "<path d=\"M6752,640 L6752,4288 \" stroke=\"black\"/>\n",
       "<circle cx=\"6752\" cy=\"4288\" r=\"12\" stroke=\"none\" fill=\"black\"/>\n",
       "<circle cx=\"6752\" cy=\"640\" r=\"12\" stroke=\"black\" fill=\"white\"/>\n",
       "<path d=\"M6740,640 L6764,640 M6752,628 L6752,652 \" stroke=\"black\"/>\n",
       "<path d=\"M6816,768 L6816,4416 \" stroke=\"black\"/>\n",
       "<circle cx=\"6816\" cy=\"4416\" r=\"12\" stroke=\"none\" fill=\"black\"/>\n",
       "<circle cx=\"6816\" cy=\"768\" r=\"12\" stroke=\"black\" fill=\"white\"/>\n",
       "<path d=\"M6804,768 L6828,768 M6816,756 L6816,780 \" stroke=\"black\"/>\n",
       "<path d=\"M6880,64 L6880,3584 \" stroke=\"black\"/>\n",
       "<circle cx=\"6880\" cy=\"3584\" r=\"12\" stroke=\"none\" fill=\"black\"/>\n",
       "<circle cx=\"6880\" cy=\"64\" r=\"12\" stroke=\"black\" fill=\"white\"/>\n",
       "<path d=\"M6868,64 L6892,64 M6880,52 L6880,76 \" stroke=\"black\"/>\n",
       "<path d=\"M6944,64 L6944,3648 \" stroke=\"black\"/>\n",
       "<circle cx=\"6944\" cy=\"3648\" r=\"12\" stroke=\"none\" fill=\"black\"/>\n",
       "<circle cx=\"6944\" cy=\"64\" r=\"12\" stroke=\"none\" fill=\"black\"/>\n",
       "<path d=\"M7008,704 L7008,4352 \" stroke=\"black\"/>\n",
       "<circle cx=\"7008\" cy=\"4352\" r=\"12\" stroke=\"none\" fill=\"black\"/>\n",
       "<circle cx=\"7008\" cy=\"704\" r=\"12\" stroke=\"none\" fill=\"black\"/>\n",
       "<path d=\"M7072,1216 L7072,4928 \" stroke=\"black\"/>\n",
       "<circle cx=\"7072\" cy=\"4928\" r=\"12\" stroke=\"none\" fill=\"black\"/>\n",
       "<circle cx=\"7072\" cy=\"1216\" r=\"12\" stroke=\"none\" fill=\"black\"/>\n",
       "<path d=\"M7136,128 L7136,3072 \" stroke=\"black\"/>\n",
       "<circle cx=\"7136\" cy=\"3072\" r=\"12\" stroke=\"none\" fill=\"black\"/>\n",
       "<circle cx=\"7136\" cy=\"128\" r=\"12\" stroke=\"none\" fill=\"black\"/>\n",
       "<path d=\"M6660,40 L6660,32 L7164,32 L7164,40 \" stroke=\"black\" fill=\"none\"/>\n",
       "<path d=\"M6660,6776 L6660,6784 L7164,6784 L7164,6776 \" stroke=\"black\" fill=\"none\"/>\n",
       "<path d=\"M7200,192 L7200,3712 \" stroke=\"black\"/>\n",
       "<circle cx=\"7200\" cy=\"3712\" r=\"12\" stroke=\"none\" fill=\"black\"/>\n",
       "<circle cx=\"7200\" cy=\"192\" r=\"12\" stroke=\"black\" fill=\"white\"/>\n",
       "<path d=\"M7188,192 L7212,192 M7200,180 L7200,204 \" stroke=\"black\"/>\n",
       "<path d=\"M7264,704 L7264,4288 \" stroke=\"black\"/>\n",
       "<circle cx=\"7264\" cy=\"4288\" r=\"12\" stroke=\"none\" fill=\"black\"/>\n",
       "<circle cx=\"7264\" cy=\"704\" r=\"12\" stroke=\"black\" fill=\"white\"/>\n",
       "<path d=\"M7252,704 L7276,704 M7264,692 L7264,716 \" stroke=\"black\"/>\n",
       "<path d=\"M7328,1344 L7328,4416 \" stroke=\"black\"/>\n",
       "<circle cx=\"7328\" cy=\"4416\" r=\"12\" stroke=\"none\" fill=\"black\"/>\n",
       "<circle cx=\"7328\" cy=\"1344\" r=\"12\" stroke=\"black\" fill=\"white\"/>\n",
       "<path d=\"M7316,1344 L7340,1344 M7328,1332 L7328,1356 \" stroke=\"black\"/>\n",
       "<path d=\"M7392,640 L7392,3584 \" stroke=\"black\"/>\n",
       "<circle cx=\"7392\" cy=\"3584\" r=\"12\" stroke=\"none\" fill=\"black\"/>\n",
       "<circle cx=\"7392\" cy=\"640\" r=\"12\" stroke=\"black\" fill=\"white\"/>\n",
       "<path d=\"M7380,640 L7404,640 M7392,628 L7392,652 \" stroke=\"black\"/>\n",
       "<path d=\"M7456,128 L7456,3648 \" stroke=\"black\"/>\n",
       "<circle cx=\"7456\" cy=\"3648\" r=\"12\" stroke=\"none\" fill=\"black\"/>\n",
       "<circle cx=\"7456\" cy=\"128\" r=\"12\" stroke=\"none\" fill=\"black\"/>\n",
       "<path d=\"M7520,768 L7520,4352 \" stroke=\"black\"/>\n",
       "<circle cx=\"7520\" cy=\"4352\" r=\"12\" stroke=\"none\" fill=\"black\"/>\n",
       "<circle cx=\"7520\" cy=\"768\" r=\"12\" stroke=\"none\" fill=\"black\"/>\n",
       "<path d=\"M7584,1280 L7584,4928 \" stroke=\"black\"/>\n",
       "<circle cx=\"7584\" cy=\"4928\" r=\"12\" stroke=\"none\" fill=\"black\"/>\n",
       "<circle cx=\"7584\" cy=\"1280\" r=\"12\" stroke=\"none\" fill=\"black\"/>\n",
       "<path d=\"M7648,192 L7648,3072 \" stroke=\"black\"/>\n",
       "<circle cx=\"7648\" cy=\"3072\" r=\"12\" stroke=\"none\" fill=\"black\"/>\n",
       "<circle cx=\"7648\" cy=\"192\" r=\"12\" stroke=\"none\" fill=\"black\"/>\n",
       "<path d=\"M7172,40 L7172,32 L7676,32 L7676,40 \" stroke=\"black\" fill=\"none\"/>\n",
       "<path d=\"M7172,6776 L7172,6784 L7676,6784 L7676,6776 \" stroke=\"black\" fill=\"none\"/>\n",
       "<path d=\"M7712,704 L7712,3712 \" stroke=\"black\"/>\n",
       "<circle cx=\"7712\" cy=\"3712\" r=\"12\" stroke=\"none\" fill=\"black\"/>\n",
       "<circle cx=\"7712\" cy=\"704\" r=\"12\" stroke=\"black\" fill=\"white\"/>\n",
       "<path d=\"M7700,704 L7724,704 M7712,692 L7712,716 \" stroke=\"black\"/>\n",
       "<path d=\"M7776,1216 L7776,4288 \" stroke=\"black\"/>\n",
       "<circle cx=\"7776\" cy=\"4288\" r=\"12\" stroke=\"none\" fill=\"black\"/>\n",
       "<circle cx=\"7776\" cy=\"1216\" r=\"12\" stroke=\"black\" fill=\"white\"/>\n",
       "<path d=\"M7764,1216 L7788,1216 M7776,1204 L7776,1228 \" stroke=\"black\"/>\n",
       "<path d=\"M7840,640 L7840,3648 \" stroke=\"black\"/>\n",
       "<circle cx=\"7840\" cy=\"3648\" r=\"12\" stroke=\"none\" fill=\"black\"/>\n",
       "<circle cx=\"7840\" cy=\"640\" r=\"12\" stroke=\"none\" fill=\"black\"/>\n",
       "<path d=\"M7904,1280 L7904,4352 \" stroke=\"black\"/>\n",
       "<circle cx=\"7904\" cy=\"4352\" r=\"12\" stroke=\"none\" fill=\"black\"/>\n",
       "<circle cx=\"7904\" cy=\"1280\" r=\"12\" stroke=\"none\" fill=\"black\"/>\n",
       "<path d=\"M7684,40 L7684,32 L7932,32 L7932,40 \" stroke=\"black\" fill=\"none\"/>\n",
       "<path d=\"M7684,6776 L7684,6784 L7932,6784 L7932,6776 \" stroke=\"black\" fill=\"none\"/>\n",
       "<path d=\"M7968,768 L7968,3712 \" stroke=\"black\"/>\n",
       "<circle cx=\"7968\" cy=\"3712\" r=\"12\" stroke=\"none\" fill=\"black\"/>\n",
       "<circle cx=\"7968\" cy=\"768\" r=\"12\" stroke=\"black\" fill=\"white\"/>\n",
       "<path d=\"M7956,768 L7980,768 M7968,756 L7968,780 \" stroke=\"black\"/>\n",
       "<path d=\"M8032,1280 L8032,4288 \" stroke=\"black\"/>\n",
       "<circle cx=\"8032\" cy=\"4288\" r=\"12\" stroke=\"none\" fill=\"black\"/>\n",
       "<circle cx=\"8032\" cy=\"1280\" r=\"12\" stroke=\"black\" fill=\"white\"/>\n",
       "<path d=\"M8020,1280 L8044,1280 M8032,1268 L8032,1292 \" stroke=\"black\"/>\n",
       "<path d=\"M8096,704 L8096,3648 \" stroke=\"black\"/>\n",
       "<circle cx=\"8096\" cy=\"3648\" r=\"12\" stroke=\"none\" fill=\"black\"/>\n",
       "<circle cx=\"8096\" cy=\"704\" r=\"12\" stroke=\"none\" fill=\"black\"/>\n",
       "<path d=\"M8160,1344 L8160,4352 \" stroke=\"black\"/>\n",
       "<circle cx=\"8160\" cy=\"4352\" r=\"12\" stroke=\"none\" fill=\"black\"/>\n",
       "<circle cx=\"8160\" cy=\"1344\" r=\"12\" stroke=\"none\" fill=\"black\"/>\n",
       "<path d=\"M7940,40 L7940,32 L8188,32 L8188,40 \" stroke=\"black\" fill=\"none\"/>\n",
       "<path d=\"M7940,6776 L7940,6784 L8188,6784 L8188,6776 \" stroke=\"black\" fill=\"none\"/>\n",
       "<rect x=\"8208\" y=\"3696\" width=\"32\" height=\"32\" stroke=\"black\" fill=\"white\"/>\n",
       "<text dominant-baseline=\"central\" text-anchor=\"middle\" font-family=\"monospace\" font-size=\"30\" x=\"8224\" y=\"3712\">H</text>\n",
       "<rect x=\"8208\" y=\"4272\" width=\"32\" height=\"32\" stroke=\"black\" fill=\"white\"/>\n",
       "<text dominant-baseline=\"central\" text-anchor=\"middle\" font-family=\"monospace\" font-size=\"30\" x=\"8224\" y=\"4288\">H</text>\n",
       "<rect x=\"8208\" y=\"4400\" width=\"32\" height=\"32\" stroke=\"black\" fill=\"white\"/>\n",
       "<text dominant-baseline=\"central\" text-anchor=\"middle\" font-family=\"monospace\" font-size=\"30\" x=\"8224\" y=\"4416\">H</text>\n",
       "<rect x=\"8208\" y=\"3568\" width=\"32\" height=\"32\" stroke=\"black\" fill=\"white\"/>\n",
       "<text dominant-baseline=\"central\" text-anchor=\"middle\" font-family=\"monospace\" font-size=\"30\" x=\"8224\" y=\"3584\">H</text>\n",
       "<rect x=\"8208\" y=\"3632\" width=\"32\" height=\"32\" stroke=\"black\" fill=\"white\"/>\n",
       "<text dominant-baseline=\"central\" text-anchor=\"middle\" font-family=\"monospace\" font-size=\"30\" x=\"8224\" y=\"3648\">H</text>\n",
       "<rect x=\"8208\" y=\"4336\" width=\"32\" height=\"32\" stroke=\"black\" fill=\"white\"/>\n",
       "<text dominant-baseline=\"central\" text-anchor=\"middle\" font-family=\"monospace\" font-size=\"30\" x=\"8224\" y=\"4352\">H</text>\n",
       "<rect x=\"8208\" y=\"4912\" width=\"32\" height=\"32\" stroke=\"black\" fill=\"white\"/>\n",
       "<text dominant-baseline=\"central\" text-anchor=\"middle\" font-family=\"monospace\" font-size=\"30\" x=\"8224\" y=\"4928\">H</text>\n",
       "<rect x=\"8208\" y=\"3056\" width=\"32\" height=\"32\" stroke=\"black\" fill=\"white\"/>\n",
       "<text dominant-baseline=\"central\" text-anchor=\"middle\" font-family=\"monospace\" font-size=\"30\" x=\"8224\" y=\"3072\">H</text>\n",
       "<rect x=\"8272\" y=\"3696\" width=\"32\" height=\"32\" stroke=\"black\" fill=\"black\"/>\n",
       "<text dominant-baseline=\"central\" text-anchor=\"middle\" font-family=\"monospace\" font-size=\"24\" x=\"8288\" y=\"3712\" fill=\"white\">MR</text>\n",
       "<text text-anchor=\"middle\" font-family=\"monospace\" font-size=\"8\" x=\"8288\" y=\"3692\">rec[31]</text>\n",
       "<rect x=\"8272\" y=\"4272\" width=\"32\" height=\"32\" stroke=\"black\" fill=\"black\"/>\n",
       "<text dominant-baseline=\"central\" text-anchor=\"middle\" font-family=\"monospace\" font-size=\"24\" x=\"8288\" y=\"4288\" fill=\"white\">MR</text>\n",
       "<text text-anchor=\"middle\" font-family=\"monospace\" font-size=\"8\" x=\"8288\" y=\"4268\">rec[32]</text>\n",
       "<rect x=\"8272\" y=\"4400\" width=\"32\" height=\"32\" stroke=\"black\" fill=\"black\"/>\n",
       "<text dominant-baseline=\"central\" text-anchor=\"middle\" font-family=\"monospace\" font-size=\"24\" x=\"8288\" y=\"4416\" fill=\"white\">MR</text>\n",
       "<text text-anchor=\"middle\" font-family=\"monospace\" font-size=\"8\" x=\"8288\" y=\"4396\">rec[33]</text>\n",
       "<rect x=\"8272\" y=\"3568\" width=\"32\" height=\"32\" stroke=\"black\" fill=\"black\"/>\n",
       "<text dominant-baseline=\"central\" text-anchor=\"middle\" font-family=\"monospace\" font-size=\"24\" x=\"8288\" y=\"3584\" fill=\"white\">MR</text>\n",
       "<text text-anchor=\"middle\" font-family=\"monospace\" font-size=\"8\" x=\"8288\" y=\"3564\">rec[34]</text>\n",
       "<rect x=\"8272\" y=\"3632\" width=\"32\" height=\"32\" stroke=\"black\" fill=\"black\"/>\n",
       "<text dominant-baseline=\"central\" text-anchor=\"middle\" font-family=\"monospace\" font-size=\"24\" x=\"8288\" y=\"3648\" fill=\"white\">MR</text>\n",
       "<text text-anchor=\"middle\" font-family=\"monospace\" font-size=\"8\" x=\"8288\" y=\"3628\">rec[35]</text>\n",
       "<rect x=\"8272\" y=\"4336\" width=\"32\" height=\"32\" stroke=\"black\" fill=\"black\"/>\n",
       "<text dominant-baseline=\"central\" text-anchor=\"middle\" font-family=\"monospace\" font-size=\"24\" x=\"8288\" y=\"4352\" fill=\"white\">MR</text>\n",
       "<text text-anchor=\"middle\" font-family=\"monospace\" font-size=\"8\" x=\"8288\" y=\"4332\">rec[36]</text>\n",
       "<rect x=\"8272\" y=\"4912\" width=\"32\" height=\"32\" stroke=\"black\" fill=\"black\"/>\n",
       "<text dominant-baseline=\"central\" text-anchor=\"middle\" font-family=\"monospace\" font-size=\"24\" x=\"8288\" y=\"4928\" fill=\"white\">MR</text>\n",
       "<text text-anchor=\"middle\" font-family=\"monospace\" font-size=\"8\" x=\"8288\" y=\"4908\">rec[37]</text>\n",
       "<rect x=\"8272\" y=\"3056\" width=\"32\" height=\"32\" stroke=\"black\" fill=\"black\"/>\n",
       "<text dominant-baseline=\"central\" text-anchor=\"middle\" font-family=\"monospace\" font-size=\"24\" x=\"8288\" y=\"3072\" fill=\"white\">MR</text>\n",
       "<text text-anchor=\"middle\" font-family=\"monospace\" font-size=\"8\" x=\"8288\" y=\"3052\">rec[38]</text>\n",
       "<rect x=\"8336\" y=\"304\" width=\"32\" height=\"32\" stroke=\"black\" fill=\"black\"/>\n",
       "<text dominant-baseline=\"central\" text-anchor=\"middle\" font-family=\"monospace\" font-size=\"30\" x=\"8352\" y=\"320\" fill=\"white\">M</text>\n",
       "<text text-anchor=\"middle\" font-family=\"monospace\" font-size=\"8\" x=\"8352\" y=\"300\">rec[39]</text>\n",
       "<rect x=\"8336\" y=\"880\" width=\"32\" height=\"32\" stroke=\"black\" fill=\"black\"/>\n",
       "<text dominant-baseline=\"central\" text-anchor=\"middle\" font-family=\"monospace\" font-size=\"30\" x=\"8352\" y=\"896\" fill=\"white\">M</text>\n",
       "<text text-anchor=\"middle\" font-family=\"monospace\" font-size=\"8\" x=\"8352\" y=\"876\">rec[40]</text>\n",
       "<rect x=\"8336\" y=\"1456\" width=\"32\" height=\"32\" stroke=\"black\" fill=\"black\"/>\n",
       "<text dominant-baseline=\"central\" text-anchor=\"middle\" font-family=\"monospace\" font-size=\"30\" x=\"8352\" y=\"1472\" fill=\"white\">M</text>\n",
       "<text text-anchor=\"middle\" font-family=\"monospace\" font-size=\"8\" x=\"8352\" y=\"1452\">rec[41]</text>\n",
       "<rect x=\"8336\" y=\"176\" width=\"32\" height=\"32\" stroke=\"black\" fill=\"black\"/>\n",
       "<text dominant-baseline=\"central\" text-anchor=\"middle\" font-family=\"monospace\" font-size=\"30\" x=\"8352\" y=\"192\" fill=\"white\">M</text>\n",
       "<text text-anchor=\"middle\" font-family=\"monospace\" font-size=\"8\" x=\"8352\" y=\"172\">rec[42]</text>\n",
       "<rect x=\"8336\" y=\"752\" width=\"32\" height=\"32\" stroke=\"black\" fill=\"black\"/>\n",
       "<text dominant-baseline=\"central\" text-anchor=\"middle\" font-family=\"monospace\" font-size=\"30\" x=\"8352\" y=\"768\" fill=\"white\">M</text>\n",
       "<text text-anchor=\"middle\" font-family=\"monospace\" font-size=\"8\" x=\"8352\" y=\"748\">rec[43]</text>\n",
       "<rect x=\"8336\" y=\"1328\" width=\"32\" height=\"32\" stroke=\"black\" fill=\"black\"/>\n",
       "<text dominant-baseline=\"central\" text-anchor=\"middle\" font-family=\"monospace\" font-size=\"30\" x=\"8352\" y=\"1344\" fill=\"white\">M</text>\n",
       "<text text-anchor=\"middle\" font-family=\"monospace\" font-size=\"8\" x=\"8352\" y=\"1324\">rec[44]</text>\n",
       "</svg>"
      ]
     },
     "execution_count": 10,
     "metadata": {},
     "output_type": "execute_result"
    }
   ],
   "source": [
    "stim_circ.diagram(type=\"timeline-svg\")"
   ]
  },
  {
   "cell_type": "markdown",
   "metadata": {},
   "source": [
    "Perform the simulation and calculate the expectation value:"
   ]
  },
  {
   "cell_type": "code",
   "execution_count": 11,
   "metadata": {},
   "outputs": [
    {
     "name": "stdout",
     "output_type": "stream",
     "text": [
      "[ True  True  True]\n",
      "[False  True False]\n",
      "[ True False False]\n",
      "[False  True False]\n",
      "[False False  True]\n",
      "<ZZ> = 0.0\n"
     ]
    }
   ],
   "source": [
    "num_shots = 5\n",
    "res = stim_circ.compile_sampler().sample(num_shots)\n",
    "summed_res = 0\n",
    "for r in res:\n",
    "    print(circ_manual_meas.dict_m_uuids_to_res(r)[m_id_Q3])\n",
    "    mmt_res = 0\n",
    "    if mmt_basis[0] != \"I\":\n",
    "        mmt_res += circ_manual_meas.get_log_dqb_readout(r, m_id_Q2, \"Q2\")\n",
    "    if mmt_basis[1] != \"I\":\n",
    "        mmt_res += circ_manual_meas.get_log_dqb_readout(r, m_id_Q3, \"Q3\")\n",
    "    summed_res += mmt_res % 2\n",
    "summed_res /= num_shots\n",
    "print(f\"<{mmt_basis}> = {np.round(summed_res, 3)}\")"
   ]
  }
 ],
 "metadata": {
  "kernelspec": {
   "display_name": "stim",
   "language": "python",
   "name": "python3"
  },
  "language_info": {
   "codemirror_mode": {
    "name": "ipython",
    "version": 3
   },
   "file_extension": ".py",
   "mimetype": "text/x-python",
   "name": "python",
   "nbconvert_exporter": "python",
   "pygments_lexer": "ipython3",
   "version": "3.10.14"
  },
  "orig_nbformat": 4
 },
 "nbformat": 4,
 "nbformat_minor": 2
}
