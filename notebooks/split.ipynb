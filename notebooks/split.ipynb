{
 "cells": [
  {
   "cell_type": "markdown",
   "metadata": {},
   "source": [
    "# Split one 3x7 surface code into two d=3 surface codes\n",
    "\n",
    "This notebooks simulates the following experiment:\n",
    "* A 3x7 rotated surface code patch is initialized in either $\\ket{0}$, $\\ket{1}$, $\\ket{+}$, or $\\ket{-}$,\n",
    "* there is one syndrome extraction cycle performed for the whole patch,\n",
    "* the 3x7 patch is split into two d=3 rotated surface code patches and their respective logical operators are updated correspondingly (both the pauli string as well as the pauli frame),\n",
    "* one syndrome extraction cycle is performed on the two new patches respectively,\n",
    "* the two patches are measured in different bases to allow for logical quantum state tomography.\n",
    "\n",
    "Note that in this notebook, the coordinates and orientation of the patches are chosen such that the logical X operator of the initial patch has length 7 while the logical Z operator has length 3. After the split, the 7 qubit long X operator is split into two X operators of length 3. One of the new logical Z operators is equivalent to the initial logical Z operator. The logical Z operator of the other patch is chosen to lie parallel to the split boundary and directly next to it.\n",
    "\n",
    "## Expected results:\n",
    "Let's denote the initial state of the 3x7 patch with $\\ket{Q1}$. We denote the measurement result of an operator on a $+1$ eigenstate with $0$ and of a $-1$ eigenstate with $1$. Then we expect:\n",
    "\n",
    "If $\\ket{Q1} = \\ket{+}$:\n",
    "* $\\langle X_{L1}X_{L2} \\rangle = 0$ because $X_{L1} \\cdot X_{L2} = X_L$ and we were in the $+1$ eigenstate of $X_L$ initially\n",
    "* $\\langle Z_{L1}Z_{L2} \\rangle = 0$ holds always because the two operators are equivalent\n",
    "* $\\langle I_{L1}I_{L2} \\rangle = 0$ (per definition, nothing is measured)\n",
    "* All other expectation values are random (0.5)\n",
    "\n",
    "If $\\ket{Q1} = \\ket{-}$:\n",
    "* $\\langle X_{L1}X_{L2} \\rangle = 1$ because $X_{L1} \\cdot X_{L2} = X_L$ and we were in the $-1$ eigenstate of $X_L$ initially\n",
    "* $\\langle Z_{L1}Z_{L2} \\rangle = 0$ holds always because the two operators are equivalent\n",
    "* $\\langle I_{L1}I_{L2} \\rangle = 0$\n",
    "* All other expectation values are random (0.5)\n",
    "\n",
    "If $\\ket{Q1} = \\ket{0}$:\n",
    "* $\\langle I_{L1}Z_{L2} \\rangle = \\langle Z_{L1}I_{L2} \\rangle = \\langle Z_{L1}Z_{L2} \\rangle = \\langle I_{L1}I_{L2} \\rangle = 0$\n",
    "* All other expectation values are random (0.5)\n",
    "\n",
    "If $\\ket{Q1} = \\ket{1}$:\n",
    "* $\\langle I_{L1}Z_{L2} \\rangle = \\langle Z_{L1}I_{L2} \\rangle = 1$ since we are in the $-1$ eigenstate of $Z_L$, both $Z_{L1}$ and $Z_{L2}$ are equivalent to $Z_L$ and we measure only one of them\n",
    "* $\\langle I_{L1}I_{L2} \\rangle = \\langle Z_{L1}Z_{L2} \\rangle = 0$ holds always because the two operators are equivalent\n",
    "* All other expectation values are random (0.5)"
   ]
  },
  {
   "cell_type": "code",
   "execution_count": 1,
   "metadata": {},
   "outputs": [],
   "source": [
    "import qeclib\n",
    "from qeclib import Stabilizer, RotSurfCode, PauliOp, SquareLattice, QECPlot\n",
    "import numpy as np\n",
    "import pprint\n",
    "import stim\n",
    "import copy"
   ]
  },
  {
   "cell_type": "code",
   "execution_count": 2,
   "metadata": {},
   "outputs": [],
   "source": [
    "Q1 = RotSurfCode(\n",
    "    id=\"Q1\",\n",
    "    dx=7,\n",
    "    dz=3,\n",
    ")\n",
    "Q1.log_z.data_qubits = [6,7,8] # In the current implementation, the operators need to lie at the split boundary\n",
    "\n",
    "circ = SquareLattice(name=\"\", rows=Q1.dx+2, cols=Q1.dz+2) # Just for fun, make the lattice a little bit bigger than needed\n",
    "circ.add_logical_qubit(Q1)\n",
    "circ.init(\"Q1\", \"1\") # CHANGE THE INITIAL STATE HERE"
   ]
  },
  {
   "cell_type": "markdown",
   "metadata": {},
   "source": [
    "Plot the lattice with the one logical patch:"
   ]
  },
  {
   "cell_type": "code",
   "execution_count": 3,
   "metadata": {},
   "outputs": [
    {
     "data": {
      "application/vnd.plotly.v1+json": {
       "config": {
        "plotlyServerURL": "https://plot.ly"
       },
       "data": [
        {
         "hoverinfo": "text",
         "legendgroup": "qpu_dqbs",
         "marker": {
          "color": "gray",
          "line": {
           "color": "darkred",
           "width": 1
          },
          "size": 25,
          "symbol": "circle"
         },
         "mode": "markers",
         "name": "Data qubits",
         "showlegend": true,
         "text": "0",
         "textposition": "middle center",
         "type": "scatter",
         "x": [
          1
         ],
         "y": [
          1
         ]
        },
        {
         "hoverinfo": "text",
         "legendgroup": "qpu_dqbs",
         "marker": {
          "color": "gray",
          "line": {
           "color": "darkred",
           "width": 1
          },
          "size": 25,
          "symbol": "circle"
         },
         "mode": "markers",
         "name": "Data qubits",
         "showlegend": false,
         "text": "1",
         "textposition": "middle center",
         "type": "scatter",
         "x": [
          2
         ],
         "y": [
          1
         ]
        },
        {
         "hoverinfo": "text",
         "legendgroup": "qpu_dqbs",
         "marker": {
          "color": "gray",
          "line": {
           "color": "darkred",
           "width": 1
          },
          "size": 25,
          "symbol": "circle"
         },
         "mode": "markers",
         "name": "Data qubits",
         "showlegend": false,
         "text": "2",
         "textposition": "middle center",
         "type": "scatter",
         "x": [
          3
         ],
         "y": [
          1
         ]
        },
        {
         "hoverinfo": "text",
         "legendgroup": "qpu_dqbs",
         "marker": {
          "color": "gray",
          "line": {
           "color": "darkred",
           "width": 1
          },
          "size": 25,
          "symbol": "circle"
         },
         "mode": "markers",
         "name": "Data qubits",
         "showlegend": false,
         "text": "3",
         "textposition": "middle center",
         "type": "scatter",
         "x": [
          4
         ],
         "y": [
          1
         ]
        },
        {
         "hoverinfo": "text",
         "legendgroup": "qpu_dqbs",
         "marker": {
          "color": "gray",
          "line": {
           "color": "darkred",
           "width": 1
          },
          "size": 25,
          "symbol": "circle"
         },
         "mode": "markers",
         "name": "Data qubits",
         "showlegend": false,
         "text": "4",
         "textposition": "middle center",
         "type": "scatter",
         "x": [
          5
         ],
         "y": [
          1
         ]
        },
        {
         "hoverinfo": "text",
         "legendgroup": "qpu_dqbs",
         "marker": {
          "color": "gray",
          "line": {
           "color": "darkred",
           "width": 1
          },
          "size": 25,
          "symbol": "circle"
         },
         "mode": "markers",
         "name": "Data qubits",
         "showlegend": false,
         "text": "5",
         "textposition": "middle center",
         "type": "scatter",
         "x": [
          1
         ],
         "y": [
          2
         ]
        },
        {
         "hoverinfo": "text",
         "legendgroup": "qpu_dqbs",
         "marker": {
          "color": "gray",
          "line": {
           "color": "darkred",
           "width": 1
          },
          "size": 25,
          "symbol": "circle"
         },
         "mode": "markers",
         "name": "Data qubits",
         "showlegend": false,
         "text": "6",
         "textposition": "middle center",
         "type": "scatter",
         "x": [
          2
         ],
         "y": [
          2
         ]
        },
        {
         "hoverinfo": "text",
         "legendgroup": "qpu_dqbs",
         "marker": {
          "color": "gray",
          "line": {
           "color": "darkred",
           "width": 1
          },
          "size": 25,
          "symbol": "circle"
         },
         "mode": "markers",
         "name": "Data qubits",
         "showlegend": false,
         "text": "7",
         "textposition": "middle center",
         "type": "scatter",
         "x": [
          3
         ],
         "y": [
          2
         ]
        },
        {
         "hoverinfo": "text",
         "legendgroup": "qpu_dqbs",
         "marker": {
          "color": "gray",
          "line": {
           "color": "darkred",
           "width": 1
          },
          "size": 25,
          "symbol": "circle"
         },
         "mode": "markers",
         "name": "Data qubits",
         "showlegend": false,
         "text": "8",
         "textposition": "middle center",
         "type": "scatter",
         "x": [
          4
         ],
         "y": [
          2
         ]
        },
        {
         "hoverinfo": "text",
         "legendgroup": "qpu_dqbs",
         "marker": {
          "color": "gray",
          "line": {
           "color": "darkred",
           "width": 1
          },
          "size": 25,
          "symbol": "circle"
         },
         "mode": "markers",
         "name": "Data qubits",
         "showlegend": false,
         "text": "9",
         "textposition": "middle center",
         "type": "scatter",
         "x": [
          5
         ],
         "y": [
          2
         ]
        },
        {
         "hoverinfo": "text",
         "legendgroup": "qpu_dqbs",
         "marker": {
          "color": "gray",
          "line": {
           "color": "darkred",
           "width": 1
          },
          "size": 25,
          "symbol": "circle"
         },
         "mode": "markers",
         "name": "Data qubits",
         "showlegend": false,
         "text": "10",
         "textposition": "middle center",
         "type": "scatter",
         "x": [
          1
         ],
         "y": [
          3
         ]
        },
        {
         "hoverinfo": "text",
         "legendgroup": "qpu_dqbs",
         "marker": {
          "color": "gray",
          "line": {
           "color": "darkred",
           "width": 1
          },
          "size": 25,
          "symbol": "circle"
         },
         "mode": "markers",
         "name": "Data qubits",
         "showlegend": false,
         "text": "11",
         "textposition": "middle center",
         "type": "scatter",
         "x": [
          2
         ],
         "y": [
          3
         ]
        },
        {
         "hoverinfo": "text",
         "legendgroup": "qpu_dqbs",
         "marker": {
          "color": "gray",
          "line": {
           "color": "darkred",
           "width": 1
          },
          "size": 25,
          "symbol": "circle"
         },
         "mode": "markers",
         "name": "Data qubits",
         "showlegend": false,
         "text": "12",
         "textposition": "middle center",
         "type": "scatter",
         "x": [
          3
         ],
         "y": [
          3
         ]
        },
        {
         "hoverinfo": "text",
         "legendgroup": "qpu_dqbs",
         "marker": {
          "color": "gray",
          "line": {
           "color": "darkred",
           "width": 1
          },
          "size": 25,
          "symbol": "circle"
         },
         "mode": "markers",
         "name": "Data qubits",
         "showlegend": false,
         "text": "13",
         "textposition": "middle center",
         "type": "scatter",
         "x": [
          4
         ],
         "y": [
          3
         ]
        },
        {
         "hoverinfo": "text",
         "legendgroup": "qpu_dqbs",
         "marker": {
          "color": "gray",
          "line": {
           "color": "darkred",
           "width": 1
          },
          "size": 25,
          "symbol": "circle"
         },
         "mode": "markers",
         "name": "Data qubits",
         "showlegend": false,
         "text": "14",
         "textposition": "middle center",
         "type": "scatter",
         "x": [
          5
         ],
         "y": [
          3
         ]
        },
        {
         "hoverinfo": "text",
         "legendgroup": "qpu_dqbs",
         "marker": {
          "color": "gray",
          "line": {
           "color": "darkred",
           "width": 1
          },
          "size": 25,
          "symbol": "circle"
         },
         "mode": "markers",
         "name": "Data qubits",
         "showlegend": false,
         "text": "15",
         "textposition": "middle center",
         "type": "scatter",
         "x": [
          1
         ],
         "y": [
          4
         ]
        },
        {
         "hoverinfo": "text",
         "legendgroup": "qpu_dqbs",
         "marker": {
          "color": "gray",
          "line": {
           "color": "darkred",
           "width": 1
          },
          "size": 25,
          "symbol": "circle"
         },
         "mode": "markers",
         "name": "Data qubits",
         "showlegend": false,
         "text": "16",
         "textposition": "middle center",
         "type": "scatter",
         "x": [
          2
         ],
         "y": [
          4
         ]
        },
        {
         "hoverinfo": "text",
         "legendgroup": "qpu_dqbs",
         "marker": {
          "color": "gray",
          "line": {
           "color": "darkred",
           "width": 1
          },
          "size": 25,
          "symbol": "circle"
         },
         "mode": "markers",
         "name": "Data qubits",
         "showlegend": false,
         "text": "17",
         "textposition": "middle center",
         "type": "scatter",
         "x": [
          3
         ],
         "y": [
          4
         ]
        },
        {
         "hoverinfo": "text",
         "legendgroup": "qpu_dqbs",
         "marker": {
          "color": "gray",
          "line": {
           "color": "darkred",
           "width": 1
          },
          "size": 25,
          "symbol": "circle"
         },
         "mode": "markers",
         "name": "Data qubits",
         "showlegend": false,
         "text": "18",
         "textposition": "middle center",
         "type": "scatter",
         "x": [
          4
         ],
         "y": [
          4
         ]
        },
        {
         "hoverinfo": "text",
         "legendgroup": "qpu_dqbs",
         "marker": {
          "color": "gray",
          "line": {
           "color": "darkred",
           "width": 1
          },
          "size": 25,
          "symbol": "circle"
         },
         "mode": "markers",
         "name": "Data qubits",
         "showlegend": false,
         "text": "19",
         "textposition": "middle center",
         "type": "scatter",
         "x": [
          5
         ],
         "y": [
          4
         ]
        },
        {
         "hoverinfo": "text",
         "legendgroup": "qpu_dqbs",
         "marker": {
          "color": "gray",
          "line": {
           "color": "darkred",
           "width": 1
          },
          "size": 25,
          "symbol": "circle"
         },
         "mode": "markers",
         "name": "Data qubits",
         "showlegend": false,
         "text": "20",
         "textposition": "middle center",
         "type": "scatter",
         "x": [
          1
         ],
         "y": [
          5
         ]
        },
        {
         "hoverinfo": "text",
         "legendgroup": "qpu_dqbs",
         "marker": {
          "color": "gray",
          "line": {
           "color": "darkred",
           "width": 1
          },
          "size": 25,
          "symbol": "circle"
         },
         "mode": "markers",
         "name": "Data qubits",
         "showlegend": false,
         "text": "21",
         "textposition": "middle center",
         "type": "scatter",
         "x": [
          2
         ],
         "y": [
          5
         ]
        },
        {
         "hoverinfo": "text",
         "legendgroup": "qpu_dqbs",
         "marker": {
          "color": "gray",
          "line": {
           "color": "darkred",
           "width": 1
          },
          "size": 25,
          "symbol": "circle"
         },
         "mode": "markers",
         "name": "Data qubits",
         "showlegend": false,
         "text": "22",
         "textposition": "middle center",
         "type": "scatter",
         "x": [
          3
         ],
         "y": [
          5
         ]
        },
        {
         "hoverinfo": "text",
         "legendgroup": "qpu_dqbs",
         "marker": {
          "color": "gray",
          "line": {
           "color": "darkred",
           "width": 1
          },
          "size": 25,
          "symbol": "circle"
         },
         "mode": "markers",
         "name": "Data qubits",
         "showlegend": false,
         "text": "23",
         "textposition": "middle center",
         "type": "scatter",
         "x": [
          4
         ],
         "y": [
          5
         ]
        },
        {
         "hoverinfo": "text",
         "legendgroup": "qpu_dqbs",
         "marker": {
          "color": "gray",
          "line": {
           "color": "darkred",
           "width": 1
          },
          "size": 25,
          "symbol": "circle"
         },
         "mode": "markers",
         "name": "Data qubits",
         "showlegend": false,
         "text": "24",
         "textposition": "middle center",
         "type": "scatter",
         "x": [
          5
         ],
         "y": [
          5
         ]
        },
        {
         "hoverinfo": "text",
         "legendgroup": "qpu_dqbs",
         "marker": {
          "color": "gray",
          "line": {
           "color": "darkred",
           "width": 1
          },
          "size": 25,
          "symbol": "circle"
         },
         "mode": "markers",
         "name": "Data qubits",
         "showlegend": false,
         "text": "25",
         "textposition": "middle center",
         "type": "scatter",
         "x": [
          1
         ],
         "y": [
          6
         ]
        },
        {
         "hoverinfo": "text",
         "legendgroup": "qpu_dqbs",
         "marker": {
          "color": "gray",
          "line": {
           "color": "darkred",
           "width": 1
          },
          "size": 25,
          "symbol": "circle"
         },
         "mode": "markers",
         "name": "Data qubits",
         "showlegend": false,
         "text": "26",
         "textposition": "middle center",
         "type": "scatter",
         "x": [
          2
         ],
         "y": [
          6
         ]
        },
        {
         "hoverinfo": "text",
         "legendgroup": "qpu_dqbs",
         "marker": {
          "color": "gray",
          "line": {
           "color": "darkred",
           "width": 1
          },
          "size": 25,
          "symbol": "circle"
         },
         "mode": "markers",
         "name": "Data qubits",
         "showlegend": false,
         "text": "27",
         "textposition": "middle center",
         "type": "scatter",
         "x": [
          3
         ],
         "y": [
          6
         ]
        },
        {
         "hoverinfo": "text",
         "legendgroup": "qpu_dqbs",
         "marker": {
          "color": "gray",
          "line": {
           "color": "darkred",
           "width": 1
          },
          "size": 25,
          "symbol": "circle"
         },
         "mode": "markers",
         "name": "Data qubits",
         "showlegend": false,
         "text": "28",
         "textposition": "middle center",
         "type": "scatter",
         "x": [
          4
         ],
         "y": [
          6
         ]
        },
        {
         "hoverinfo": "text",
         "legendgroup": "qpu_dqbs",
         "marker": {
          "color": "gray",
          "line": {
           "color": "darkred",
           "width": 1
          },
          "size": 25,
          "symbol": "circle"
         },
         "mode": "markers",
         "name": "Data qubits",
         "showlegend": false,
         "text": "29",
         "textposition": "middle center",
         "type": "scatter",
         "x": [
          5
         ],
         "y": [
          6
         ]
        },
        {
         "hoverinfo": "text",
         "legendgroup": "qpu_dqbs",
         "marker": {
          "color": "gray",
          "line": {
           "color": "darkred",
           "width": 1
          },
          "size": 25,
          "symbol": "circle"
         },
         "mode": "markers",
         "name": "Data qubits",
         "showlegend": false,
         "text": "30",
         "textposition": "middle center",
         "type": "scatter",
         "x": [
          1
         ],
         "y": [
          7
         ]
        },
        {
         "hoverinfo": "text",
         "legendgroup": "qpu_dqbs",
         "marker": {
          "color": "gray",
          "line": {
           "color": "darkred",
           "width": 1
          },
          "size": 25,
          "symbol": "circle"
         },
         "mode": "markers",
         "name": "Data qubits",
         "showlegend": false,
         "text": "31",
         "textposition": "middle center",
         "type": "scatter",
         "x": [
          2
         ],
         "y": [
          7
         ]
        },
        {
         "hoverinfo": "text",
         "legendgroup": "qpu_dqbs",
         "marker": {
          "color": "gray",
          "line": {
           "color": "darkred",
           "width": 1
          },
          "size": 25,
          "symbol": "circle"
         },
         "mode": "markers",
         "name": "Data qubits",
         "showlegend": false,
         "text": "32",
         "textposition": "middle center",
         "type": "scatter",
         "x": [
          3
         ],
         "y": [
          7
         ]
        },
        {
         "hoverinfo": "text",
         "legendgroup": "qpu_dqbs",
         "marker": {
          "color": "gray",
          "line": {
           "color": "darkred",
           "width": 1
          },
          "size": 25,
          "symbol": "circle"
         },
         "mode": "markers",
         "name": "Data qubits",
         "showlegend": false,
         "text": "33",
         "textposition": "middle center",
         "type": "scatter",
         "x": [
          4
         ],
         "y": [
          7
         ]
        },
        {
         "hoverinfo": "text",
         "legendgroup": "qpu_dqbs",
         "marker": {
          "color": "gray",
          "line": {
           "color": "darkred",
           "width": 1
          },
          "size": 25,
          "symbol": "circle"
         },
         "mode": "markers",
         "name": "Data qubits",
         "showlegend": false,
         "text": "34",
         "textposition": "middle center",
         "type": "scatter",
         "x": [
          5
         ],
         "y": [
          7
         ]
        },
        {
         "hoverinfo": "text",
         "legendgroup": "qpu_dqbs",
         "marker": {
          "color": "gray",
          "line": {
           "color": "darkred",
           "width": 1
          },
          "size": 25,
          "symbol": "circle"
         },
         "mode": "markers",
         "name": "Data qubits",
         "showlegend": false,
         "text": "35",
         "textposition": "middle center",
         "type": "scatter",
         "x": [
          1
         ],
         "y": [
          8
         ]
        },
        {
         "hoverinfo": "text",
         "legendgroup": "qpu_dqbs",
         "marker": {
          "color": "gray",
          "line": {
           "color": "darkred",
           "width": 1
          },
          "size": 25,
          "symbol": "circle"
         },
         "mode": "markers",
         "name": "Data qubits",
         "showlegend": false,
         "text": "36",
         "textposition": "middle center",
         "type": "scatter",
         "x": [
          2
         ],
         "y": [
          8
         ]
        },
        {
         "hoverinfo": "text",
         "legendgroup": "qpu_dqbs",
         "marker": {
          "color": "gray",
          "line": {
           "color": "darkred",
           "width": 1
          },
          "size": 25,
          "symbol": "circle"
         },
         "mode": "markers",
         "name": "Data qubits",
         "showlegend": false,
         "text": "37",
         "textposition": "middle center",
         "type": "scatter",
         "x": [
          3
         ],
         "y": [
          8
         ]
        },
        {
         "hoverinfo": "text",
         "legendgroup": "qpu_dqbs",
         "marker": {
          "color": "gray",
          "line": {
           "color": "darkred",
           "width": 1
          },
          "size": 25,
          "symbol": "circle"
         },
         "mode": "markers",
         "name": "Data qubits",
         "showlegend": false,
         "text": "38",
         "textposition": "middle center",
         "type": "scatter",
         "x": [
          4
         ],
         "y": [
          8
         ]
        },
        {
         "hoverinfo": "text",
         "legendgroup": "qpu_dqbs",
         "marker": {
          "color": "gray",
          "line": {
           "color": "darkred",
           "width": 1
          },
          "size": 25,
          "symbol": "circle"
         },
         "mode": "markers",
         "name": "Data qubits",
         "showlegend": false,
         "text": "39",
         "textposition": "middle center",
         "type": "scatter",
         "x": [
          5
         ],
         "y": [
          8
         ]
        },
        {
         "hoverinfo": "text",
         "legendgroup": "qpu_dqbs",
         "marker": {
          "color": "gray",
          "line": {
           "color": "darkred",
           "width": 1
          },
          "size": 25,
          "symbol": "circle"
         },
         "mode": "markers",
         "name": "Data qubits",
         "showlegend": false,
         "text": "40",
         "textposition": "middle center",
         "type": "scatter",
         "x": [
          1
         ],
         "y": [
          9
         ]
        },
        {
         "hoverinfo": "text",
         "legendgroup": "qpu_dqbs",
         "marker": {
          "color": "gray",
          "line": {
           "color": "darkred",
           "width": 1
          },
          "size": 25,
          "symbol": "circle"
         },
         "mode": "markers",
         "name": "Data qubits",
         "showlegend": false,
         "text": "41",
         "textposition": "middle center",
         "type": "scatter",
         "x": [
          2
         ],
         "y": [
          9
         ]
        },
        {
         "hoverinfo": "text",
         "legendgroup": "qpu_dqbs",
         "marker": {
          "color": "gray",
          "line": {
           "color": "darkred",
           "width": 1
          },
          "size": 25,
          "symbol": "circle"
         },
         "mode": "markers",
         "name": "Data qubits",
         "showlegend": false,
         "text": "42",
         "textposition": "middle center",
         "type": "scatter",
         "x": [
          3
         ],
         "y": [
          9
         ]
        },
        {
         "hoverinfo": "text",
         "legendgroup": "qpu_dqbs",
         "marker": {
          "color": "gray",
          "line": {
           "color": "darkred",
           "width": 1
          },
          "size": 25,
          "symbol": "circle"
         },
         "mode": "markers",
         "name": "Data qubits",
         "showlegend": false,
         "text": "43",
         "textposition": "middle center",
         "type": "scatter",
         "x": [
          4
         ],
         "y": [
          9
         ]
        },
        {
         "hoverinfo": "text",
         "legendgroup": "qpu_dqbs",
         "marker": {
          "color": "gray",
          "line": {
           "color": "darkred",
           "width": 1
          },
          "size": 25,
          "symbol": "circle"
         },
         "mode": "markers",
         "name": "Data qubits",
         "showlegend": false,
         "text": "44",
         "textposition": "middle center",
         "type": "scatter",
         "x": [
          5
         ],
         "y": [
          9
         ]
        },
        {
         "hoverinfo": "text",
         "legendgroup": "qpu_aqbs",
         "marker": {
          "color": "lightgray",
          "line": {
           "color": "darkred",
           "width": 1
          },
          "size": 15,
          "symbol": "circle"
         },
         "mode": "markers",
         "name": "Ancilla qubits",
         "showlegend": true,
         "text": "45",
         "textposition": "middle center",
         "type": "scatter",
         "x": [
          0.5
         ],
         "y": [
          0.5
         ]
        },
        {
         "hoverinfo": "text",
         "legendgroup": "qpu_aqbs",
         "marker": {
          "color": "lightgray",
          "line": {
           "color": "darkred",
           "width": 1
          },
          "size": 15,
          "symbol": "circle"
         },
         "mode": "markers",
         "name": "Ancilla qubits",
         "showlegend": false,
         "text": "46",
         "textposition": "middle center",
         "type": "scatter",
         "x": [
          1.5
         ],
         "y": [
          0.5
         ]
        },
        {
         "hoverinfo": "text",
         "legendgroup": "qpu_aqbs",
         "marker": {
          "color": "lightgray",
          "line": {
           "color": "darkred",
           "width": 1
          },
          "size": 15,
          "symbol": "circle"
         },
         "mode": "markers",
         "name": "Ancilla qubits",
         "showlegend": false,
         "text": "47",
         "textposition": "middle center",
         "type": "scatter",
         "x": [
          2.5
         ],
         "y": [
          0.5
         ]
        },
        {
         "hoverinfo": "text",
         "legendgroup": "qpu_aqbs",
         "marker": {
          "color": "lightgray",
          "line": {
           "color": "darkred",
           "width": 1
          },
          "size": 15,
          "symbol": "circle"
         },
         "mode": "markers",
         "name": "Ancilla qubits",
         "showlegend": false,
         "text": "48",
         "textposition": "middle center",
         "type": "scatter",
         "x": [
          3.5
         ],
         "y": [
          0.5
         ]
        },
        {
         "hoverinfo": "text",
         "legendgroup": "qpu_aqbs",
         "marker": {
          "color": "lightgray",
          "line": {
           "color": "darkred",
           "width": 1
          },
          "size": 15,
          "symbol": "circle"
         },
         "mode": "markers",
         "name": "Ancilla qubits",
         "showlegend": false,
         "text": "49",
         "textposition": "middle center",
         "type": "scatter",
         "x": [
          4.5
         ],
         "y": [
          0.5
         ]
        },
        {
         "hoverinfo": "text",
         "legendgroup": "qpu_aqbs",
         "marker": {
          "color": "lightgray",
          "line": {
           "color": "darkred",
           "width": 1
          },
          "size": 15,
          "symbol": "circle"
         },
         "mode": "markers",
         "name": "Ancilla qubits",
         "showlegend": false,
         "text": "50",
         "textposition": "middle center",
         "type": "scatter",
         "x": [
          5.5
         ],
         "y": [
          0.5
         ]
        },
        {
         "hoverinfo": "text",
         "legendgroup": "qpu_aqbs",
         "marker": {
          "color": "lightgray",
          "line": {
           "color": "darkred",
           "width": 1
          },
          "size": 15,
          "symbol": "circle"
         },
         "mode": "markers",
         "name": "Ancilla qubits",
         "showlegend": false,
         "text": "51",
         "textposition": "middle center",
         "type": "scatter",
         "x": [
          0.5
         ],
         "y": [
          1.5
         ]
        },
        {
         "hoverinfo": "text",
         "legendgroup": "qpu_aqbs",
         "marker": {
          "color": "lightgray",
          "line": {
           "color": "darkred",
           "width": 1
          },
          "size": 15,
          "symbol": "circle"
         },
         "mode": "markers",
         "name": "Ancilla qubits",
         "showlegend": false,
         "text": "52",
         "textposition": "middle center",
         "type": "scatter",
         "x": [
          1.5
         ],
         "y": [
          1.5
         ]
        },
        {
         "hoverinfo": "text",
         "legendgroup": "qpu_aqbs",
         "marker": {
          "color": "lightgray",
          "line": {
           "color": "darkred",
           "width": 1
          },
          "size": 15,
          "symbol": "circle"
         },
         "mode": "markers",
         "name": "Ancilla qubits",
         "showlegend": false,
         "text": "53",
         "textposition": "middle center",
         "type": "scatter",
         "x": [
          2.5
         ],
         "y": [
          1.5
         ]
        },
        {
         "hoverinfo": "text",
         "legendgroup": "qpu_aqbs",
         "marker": {
          "color": "lightgray",
          "line": {
           "color": "darkred",
           "width": 1
          },
          "size": 15,
          "symbol": "circle"
         },
         "mode": "markers",
         "name": "Ancilla qubits",
         "showlegend": false,
         "text": "54",
         "textposition": "middle center",
         "type": "scatter",
         "x": [
          3.5
         ],
         "y": [
          1.5
         ]
        },
        {
         "hoverinfo": "text",
         "legendgroup": "qpu_aqbs",
         "marker": {
          "color": "lightgray",
          "line": {
           "color": "darkred",
           "width": 1
          },
          "size": 15,
          "symbol": "circle"
         },
         "mode": "markers",
         "name": "Ancilla qubits",
         "showlegend": false,
         "text": "55",
         "textposition": "middle center",
         "type": "scatter",
         "x": [
          4.5
         ],
         "y": [
          1.5
         ]
        },
        {
         "hoverinfo": "text",
         "legendgroup": "qpu_aqbs",
         "marker": {
          "color": "lightgray",
          "line": {
           "color": "darkred",
           "width": 1
          },
          "size": 15,
          "symbol": "circle"
         },
         "mode": "markers",
         "name": "Ancilla qubits",
         "showlegend": false,
         "text": "56",
         "textposition": "middle center",
         "type": "scatter",
         "x": [
          5.5
         ],
         "y": [
          1.5
         ]
        },
        {
         "hoverinfo": "text",
         "legendgroup": "qpu_aqbs",
         "marker": {
          "color": "lightgray",
          "line": {
           "color": "darkred",
           "width": 1
          },
          "size": 15,
          "symbol": "circle"
         },
         "mode": "markers",
         "name": "Ancilla qubits",
         "showlegend": false,
         "text": "57",
         "textposition": "middle center",
         "type": "scatter",
         "x": [
          0.5
         ],
         "y": [
          2.5
         ]
        },
        {
         "hoverinfo": "text",
         "legendgroup": "qpu_aqbs",
         "marker": {
          "color": "lightgray",
          "line": {
           "color": "darkred",
           "width": 1
          },
          "size": 15,
          "symbol": "circle"
         },
         "mode": "markers",
         "name": "Ancilla qubits",
         "showlegend": false,
         "text": "58",
         "textposition": "middle center",
         "type": "scatter",
         "x": [
          1.5
         ],
         "y": [
          2.5
         ]
        },
        {
         "hoverinfo": "text",
         "legendgroup": "qpu_aqbs",
         "marker": {
          "color": "lightgray",
          "line": {
           "color": "darkred",
           "width": 1
          },
          "size": 15,
          "symbol": "circle"
         },
         "mode": "markers",
         "name": "Ancilla qubits",
         "showlegend": false,
         "text": "59",
         "textposition": "middle center",
         "type": "scatter",
         "x": [
          2.5
         ],
         "y": [
          2.5
         ]
        },
        {
         "hoverinfo": "text",
         "legendgroup": "qpu_aqbs",
         "marker": {
          "color": "lightgray",
          "line": {
           "color": "darkred",
           "width": 1
          },
          "size": 15,
          "symbol": "circle"
         },
         "mode": "markers",
         "name": "Ancilla qubits",
         "showlegend": false,
         "text": "60",
         "textposition": "middle center",
         "type": "scatter",
         "x": [
          3.5
         ],
         "y": [
          2.5
         ]
        },
        {
         "hoverinfo": "text",
         "legendgroup": "qpu_aqbs",
         "marker": {
          "color": "lightgray",
          "line": {
           "color": "darkred",
           "width": 1
          },
          "size": 15,
          "symbol": "circle"
         },
         "mode": "markers",
         "name": "Ancilla qubits",
         "showlegend": false,
         "text": "61",
         "textposition": "middle center",
         "type": "scatter",
         "x": [
          4.5
         ],
         "y": [
          2.5
         ]
        },
        {
         "hoverinfo": "text",
         "legendgroup": "qpu_aqbs",
         "marker": {
          "color": "lightgray",
          "line": {
           "color": "darkred",
           "width": 1
          },
          "size": 15,
          "symbol": "circle"
         },
         "mode": "markers",
         "name": "Ancilla qubits",
         "showlegend": false,
         "text": "62",
         "textposition": "middle center",
         "type": "scatter",
         "x": [
          5.5
         ],
         "y": [
          2.5
         ]
        },
        {
         "hoverinfo": "text",
         "legendgroup": "qpu_aqbs",
         "marker": {
          "color": "lightgray",
          "line": {
           "color": "darkred",
           "width": 1
          },
          "size": 15,
          "symbol": "circle"
         },
         "mode": "markers",
         "name": "Ancilla qubits",
         "showlegend": false,
         "text": "63",
         "textposition": "middle center",
         "type": "scatter",
         "x": [
          0.5
         ],
         "y": [
          3.5
         ]
        },
        {
         "hoverinfo": "text",
         "legendgroup": "qpu_aqbs",
         "marker": {
          "color": "lightgray",
          "line": {
           "color": "darkred",
           "width": 1
          },
          "size": 15,
          "symbol": "circle"
         },
         "mode": "markers",
         "name": "Ancilla qubits",
         "showlegend": false,
         "text": "64",
         "textposition": "middle center",
         "type": "scatter",
         "x": [
          1.5
         ],
         "y": [
          3.5
         ]
        },
        {
         "hoverinfo": "text",
         "legendgroup": "qpu_aqbs",
         "marker": {
          "color": "lightgray",
          "line": {
           "color": "darkred",
           "width": 1
          },
          "size": 15,
          "symbol": "circle"
         },
         "mode": "markers",
         "name": "Ancilla qubits",
         "showlegend": false,
         "text": "65",
         "textposition": "middle center",
         "type": "scatter",
         "x": [
          2.5
         ],
         "y": [
          3.5
         ]
        },
        {
         "hoverinfo": "text",
         "legendgroup": "qpu_aqbs",
         "marker": {
          "color": "lightgray",
          "line": {
           "color": "darkred",
           "width": 1
          },
          "size": 15,
          "symbol": "circle"
         },
         "mode": "markers",
         "name": "Ancilla qubits",
         "showlegend": false,
         "text": "66",
         "textposition": "middle center",
         "type": "scatter",
         "x": [
          3.5
         ],
         "y": [
          3.5
         ]
        },
        {
         "hoverinfo": "text",
         "legendgroup": "qpu_aqbs",
         "marker": {
          "color": "lightgray",
          "line": {
           "color": "darkred",
           "width": 1
          },
          "size": 15,
          "symbol": "circle"
         },
         "mode": "markers",
         "name": "Ancilla qubits",
         "showlegend": false,
         "text": "67",
         "textposition": "middle center",
         "type": "scatter",
         "x": [
          4.5
         ],
         "y": [
          3.5
         ]
        },
        {
         "hoverinfo": "text",
         "legendgroup": "qpu_aqbs",
         "marker": {
          "color": "lightgray",
          "line": {
           "color": "darkred",
           "width": 1
          },
          "size": 15,
          "symbol": "circle"
         },
         "mode": "markers",
         "name": "Ancilla qubits",
         "showlegend": false,
         "text": "68",
         "textposition": "middle center",
         "type": "scatter",
         "x": [
          5.5
         ],
         "y": [
          3.5
         ]
        },
        {
         "hoverinfo": "text",
         "legendgroup": "qpu_aqbs",
         "marker": {
          "color": "lightgray",
          "line": {
           "color": "darkred",
           "width": 1
          },
          "size": 15,
          "symbol": "circle"
         },
         "mode": "markers",
         "name": "Ancilla qubits",
         "showlegend": false,
         "text": "69",
         "textposition": "middle center",
         "type": "scatter",
         "x": [
          0.5
         ],
         "y": [
          4.5
         ]
        },
        {
         "hoverinfo": "text",
         "legendgroup": "qpu_aqbs",
         "marker": {
          "color": "lightgray",
          "line": {
           "color": "darkred",
           "width": 1
          },
          "size": 15,
          "symbol": "circle"
         },
         "mode": "markers",
         "name": "Ancilla qubits",
         "showlegend": false,
         "text": "70",
         "textposition": "middle center",
         "type": "scatter",
         "x": [
          1.5
         ],
         "y": [
          4.5
         ]
        },
        {
         "hoverinfo": "text",
         "legendgroup": "qpu_aqbs",
         "marker": {
          "color": "lightgray",
          "line": {
           "color": "darkred",
           "width": 1
          },
          "size": 15,
          "symbol": "circle"
         },
         "mode": "markers",
         "name": "Ancilla qubits",
         "showlegend": false,
         "text": "71",
         "textposition": "middle center",
         "type": "scatter",
         "x": [
          2.5
         ],
         "y": [
          4.5
         ]
        },
        {
         "hoverinfo": "text",
         "legendgroup": "qpu_aqbs",
         "marker": {
          "color": "lightgray",
          "line": {
           "color": "darkred",
           "width": 1
          },
          "size": 15,
          "symbol": "circle"
         },
         "mode": "markers",
         "name": "Ancilla qubits",
         "showlegend": false,
         "text": "72",
         "textposition": "middle center",
         "type": "scatter",
         "x": [
          3.5
         ],
         "y": [
          4.5
         ]
        },
        {
         "hoverinfo": "text",
         "legendgroup": "qpu_aqbs",
         "marker": {
          "color": "lightgray",
          "line": {
           "color": "darkred",
           "width": 1
          },
          "size": 15,
          "symbol": "circle"
         },
         "mode": "markers",
         "name": "Ancilla qubits",
         "showlegend": false,
         "text": "73",
         "textposition": "middle center",
         "type": "scatter",
         "x": [
          4.5
         ],
         "y": [
          4.5
         ]
        },
        {
         "hoverinfo": "text",
         "legendgroup": "qpu_aqbs",
         "marker": {
          "color": "lightgray",
          "line": {
           "color": "darkred",
           "width": 1
          },
          "size": 15,
          "symbol": "circle"
         },
         "mode": "markers",
         "name": "Ancilla qubits",
         "showlegend": false,
         "text": "74",
         "textposition": "middle center",
         "type": "scatter",
         "x": [
          5.5
         ],
         "y": [
          4.5
         ]
        },
        {
         "hoverinfo": "text",
         "legendgroup": "qpu_aqbs",
         "marker": {
          "color": "lightgray",
          "line": {
           "color": "darkred",
           "width": 1
          },
          "size": 15,
          "symbol": "circle"
         },
         "mode": "markers",
         "name": "Ancilla qubits",
         "showlegend": false,
         "text": "75",
         "textposition": "middle center",
         "type": "scatter",
         "x": [
          0.5
         ],
         "y": [
          5.5
         ]
        },
        {
         "hoverinfo": "text",
         "legendgroup": "qpu_aqbs",
         "marker": {
          "color": "lightgray",
          "line": {
           "color": "darkred",
           "width": 1
          },
          "size": 15,
          "symbol": "circle"
         },
         "mode": "markers",
         "name": "Ancilla qubits",
         "showlegend": false,
         "text": "76",
         "textposition": "middle center",
         "type": "scatter",
         "x": [
          1.5
         ],
         "y": [
          5.5
         ]
        },
        {
         "hoverinfo": "text",
         "legendgroup": "qpu_aqbs",
         "marker": {
          "color": "lightgray",
          "line": {
           "color": "darkred",
           "width": 1
          },
          "size": 15,
          "symbol": "circle"
         },
         "mode": "markers",
         "name": "Ancilla qubits",
         "showlegend": false,
         "text": "77",
         "textposition": "middle center",
         "type": "scatter",
         "x": [
          2.5
         ],
         "y": [
          5.5
         ]
        },
        {
         "hoverinfo": "text",
         "legendgroup": "qpu_aqbs",
         "marker": {
          "color": "lightgray",
          "line": {
           "color": "darkred",
           "width": 1
          },
          "size": 15,
          "symbol": "circle"
         },
         "mode": "markers",
         "name": "Ancilla qubits",
         "showlegend": false,
         "text": "78",
         "textposition": "middle center",
         "type": "scatter",
         "x": [
          3.5
         ],
         "y": [
          5.5
         ]
        },
        {
         "hoverinfo": "text",
         "legendgroup": "qpu_aqbs",
         "marker": {
          "color": "lightgray",
          "line": {
           "color": "darkred",
           "width": 1
          },
          "size": 15,
          "symbol": "circle"
         },
         "mode": "markers",
         "name": "Ancilla qubits",
         "showlegend": false,
         "text": "79",
         "textposition": "middle center",
         "type": "scatter",
         "x": [
          4.5
         ],
         "y": [
          5.5
         ]
        },
        {
         "hoverinfo": "text",
         "legendgroup": "qpu_aqbs",
         "marker": {
          "color": "lightgray",
          "line": {
           "color": "darkred",
           "width": 1
          },
          "size": 15,
          "symbol": "circle"
         },
         "mode": "markers",
         "name": "Ancilla qubits",
         "showlegend": false,
         "text": "80",
         "textposition": "middle center",
         "type": "scatter",
         "x": [
          5.5
         ],
         "y": [
          5.5
         ]
        },
        {
         "hoverinfo": "text",
         "legendgroup": "qpu_aqbs",
         "marker": {
          "color": "lightgray",
          "line": {
           "color": "darkred",
           "width": 1
          },
          "size": 15,
          "symbol": "circle"
         },
         "mode": "markers",
         "name": "Ancilla qubits",
         "showlegend": false,
         "text": "81",
         "textposition": "middle center",
         "type": "scatter",
         "x": [
          0.5
         ],
         "y": [
          6.5
         ]
        },
        {
         "hoverinfo": "text",
         "legendgroup": "qpu_aqbs",
         "marker": {
          "color": "lightgray",
          "line": {
           "color": "darkred",
           "width": 1
          },
          "size": 15,
          "symbol": "circle"
         },
         "mode": "markers",
         "name": "Ancilla qubits",
         "showlegend": false,
         "text": "82",
         "textposition": "middle center",
         "type": "scatter",
         "x": [
          1.5
         ],
         "y": [
          6.5
         ]
        },
        {
         "hoverinfo": "text",
         "legendgroup": "qpu_aqbs",
         "marker": {
          "color": "lightgray",
          "line": {
           "color": "darkred",
           "width": 1
          },
          "size": 15,
          "symbol": "circle"
         },
         "mode": "markers",
         "name": "Ancilla qubits",
         "showlegend": false,
         "text": "83",
         "textposition": "middle center",
         "type": "scatter",
         "x": [
          2.5
         ],
         "y": [
          6.5
         ]
        },
        {
         "hoverinfo": "text",
         "legendgroup": "qpu_aqbs",
         "marker": {
          "color": "lightgray",
          "line": {
           "color": "darkred",
           "width": 1
          },
          "size": 15,
          "symbol": "circle"
         },
         "mode": "markers",
         "name": "Ancilla qubits",
         "showlegend": false,
         "text": "84",
         "textposition": "middle center",
         "type": "scatter",
         "x": [
          3.5
         ],
         "y": [
          6.5
         ]
        },
        {
         "hoverinfo": "text",
         "legendgroup": "qpu_aqbs",
         "marker": {
          "color": "lightgray",
          "line": {
           "color": "darkred",
           "width": 1
          },
          "size": 15,
          "symbol": "circle"
         },
         "mode": "markers",
         "name": "Ancilla qubits",
         "showlegend": false,
         "text": "85",
         "textposition": "middle center",
         "type": "scatter",
         "x": [
          4.5
         ],
         "y": [
          6.5
         ]
        },
        {
         "hoverinfo": "text",
         "legendgroup": "qpu_aqbs",
         "marker": {
          "color": "lightgray",
          "line": {
           "color": "darkred",
           "width": 1
          },
          "size": 15,
          "symbol": "circle"
         },
         "mode": "markers",
         "name": "Ancilla qubits",
         "showlegend": false,
         "text": "86",
         "textposition": "middle center",
         "type": "scatter",
         "x": [
          5.5
         ],
         "y": [
          6.5
         ]
        },
        {
         "hoverinfo": "text",
         "legendgroup": "qpu_aqbs",
         "marker": {
          "color": "lightgray",
          "line": {
           "color": "darkred",
           "width": 1
          },
          "size": 15,
          "symbol": "circle"
         },
         "mode": "markers",
         "name": "Ancilla qubits",
         "showlegend": false,
         "text": "87",
         "textposition": "middle center",
         "type": "scatter",
         "x": [
          0.5
         ],
         "y": [
          7.5
         ]
        },
        {
         "hoverinfo": "text",
         "legendgroup": "qpu_aqbs",
         "marker": {
          "color": "lightgray",
          "line": {
           "color": "darkred",
           "width": 1
          },
          "size": 15,
          "symbol": "circle"
         },
         "mode": "markers",
         "name": "Ancilla qubits",
         "showlegend": false,
         "text": "88",
         "textposition": "middle center",
         "type": "scatter",
         "x": [
          1.5
         ],
         "y": [
          7.5
         ]
        },
        {
         "hoverinfo": "text",
         "legendgroup": "qpu_aqbs",
         "marker": {
          "color": "lightgray",
          "line": {
           "color": "darkred",
           "width": 1
          },
          "size": 15,
          "symbol": "circle"
         },
         "mode": "markers",
         "name": "Ancilla qubits",
         "showlegend": false,
         "text": "89",
         "textposition": "middle center",
         "type": "scatter",
         "x": [
          2.5
         ],
         "y": [
          7.5
         ]
        },
        {
         "hoverinfo": "text",
         "legendgroup": "qpu_aqbs",
         "marker": {
          "color": "lightgray",
          "line": {
           "color": "darkred",
           "width": 1
          },
          "size": 15,
          "symbol": "circle"
         },
         "mode": "markers",
         "name": "Ancilla qubits",
         "showlegend": false,
         "text": "90",
         "textposition": "middle center",
         "type": "scatter",
         "x": [
          3.5
         ],
         "y": [
          7.5
         ]
        },
        {
         "hoverinfo": "text",
         "legendgroup": "qpu_aqbs",
         "marker": {
          "color": "lightgray",
          "line": {
           "color": "darkred",
           "width": 1
          },
          "size": 15,
          "symbol": "circle"
         },
         "mode": "markers",
         "name": "Ancilla qubits",
         "showlegend": false,
         "text": "91",
         "textposition": "middle center",
         "type": "scatter",
         "x": [
          4.5
         ],
         "y": [
          7.5
         ]
        },
        {
         "hoverinfo": "text",
         "legendgroup": "qpu_aqbs",
         "marker": {
          "color": "lightgray",
          "line": {
           "color": "darkred",
           "width": 1
          },
          "size": 15,
          "symbol": "circle"
         },
         "mode": "markers",
         "name": "Ancilla qubits",
         "showlegend": false,
         "text": "92",
         "textposition": "middle center",
         "type": "scatter",
         "x": [
          5.5
         ],
         "y": [
          7.5
         ]
        },
        {
         "hoverinfo": "text",
         "legendgroup": "qpu_aqbs",
         "marker": {
          "color": "lightgray",
          "line": {
           "color": "darkred",
           "width": 1
          },
          "size": 15,
          "symbol": "circle"
         },
         "mode": "markers",
         "name": "Ancilla qubits",
         "showlegend": false,
         "text": "93",
         "textposition": "middle center",
         "type": "scatter",
         "x": [
          0.5
         ],
         "y": [
          8.5
         ]
        },
        {
         "hoverinfo": "text",
         "legendgroup": "qpu_aqbs",
         "marker": {
          "color": "lightgray",
          "line": {
           "color": "darkred",
           "width": 1
          },
          "size": 15,
          "symbol": "circle"
         },
         "mode": "markers",
         "name": "Ancilla qubits",
         "showlegend": false,
         "text": "94",
         "textposition": "middle center",
         "type": "scatter",
         "x": [
          1.5
         ],
         "y": [
          8.5
         ]
        },
        {
         "hoverinfo": "text",
         "legendgroup": "qpu_aqbs",
         "marker": {
          "color": "lightgray",
          "line": {
           "color": "darkred",
           "width": 1
          },
          "size": 15,
          "symbol": "circle"
         },
         "mode": "markers",
         "name": "Ancilla qubits",
         "showlegend": false,
         "text": "95",
         "textposition": "middle center",
         "type": "scatter",
         "x": [
          2.5
         ],
         "y": [
          8.5
         ]
        },
        {
         "hoverinfo": "text",
         "legendgroup": "qpu_aqbs",
         "marker": {
          "color": "lightgray",
          "line": {
           "color": "darkred",
           "width": 1
          },
          "size": 15,
          "symbol": "circle"
         },
         "mode": "markers",
         "name": "Ancilla qubits",
         "showlegend": false,
         "text": "96",
         "textposition": "middle center",
         "type": "scatter",
         "x": [
          3.5
         ],
         "y": [
          8.5
         ]
        },
        {
         "hoverinfo": "text",
         "legendgroup": "qpu_aqbs",
         "marker": {
          "color": "lightgray",
          "line": {
           "color": "darkred",
           "width": 1
          },
          "size": 15,
          "symbol": "circle"
         },
         "mode": "markers",
         "name": "Ancilla qubits",
         "showlegend": false,
         "text": "97",
         "textposition": "middle center",
         "type": "scatter",
         "x": [
          4.5
         ],
         "y": [
          8.5
         ]
        },
        {
         "hoverinfo": "text",
         "legendgroup": "qpu_aqbs",
         "marker": {
          "color": "lightgray",
          "line": {
           "color": "darkred",
           "width": 1
          },
          "size": 15,
          "symbol": "circle"
         },
         "mode": "markers",
         "name": "Ancilla qubits",
         "showlegend": false,
         "text": "98",
         "textposition": "middle center",
         "type": "scatter",
         "x": [
          5.5
         ],
         "y": [
          8.5
         ]
        },
        {
         "hoverinfo": "text",
         "legendgroup": "qpu_aqbs",
         "marker": {
          "color": "lightgray",
          "line": {
           "color": "darkred",
           "width": 1
          },
          "size": 15,
          "symbol": "circle"
         },
         "mode": "markers",
         "name": "Ancilla qubits",
         "showlegend": false,
         "text": "99",
         "textposition": "middle center",
         "type": "scatter",
         "x": [
          0.5
         ],
         "y": [
          9.5
         ]
        },
        {
         "hoverinfo": "text",
         "legendgroup": "qpu_aqbs",
         "marker": {
          "color": "lightgray",
          "line": {
           "color": "darkred",
           "width": 1
          },
          "size": 15,
          "symbol": "circle"
         },
         "mode": "markers",
         "name": "Ancilla qubits",
         "showlegend": false,
         "text": "100",
         "textposition": "middle center",
         "type": "scatter",
         "x": [
          1.5
         ],
         "y": [
          9.5
         ]
        },
        {
         "hoverinfo": "text",
         "legendgroup": "qpu_aqbs",
         "marker": {
          "color": "lightgray",
          "line": {
           "color": "darkred",
           "width": 1
          },
          "size": 15,
          "symbol": "circle"
         },
         "mode": "markers",
         "name": "Ancilla qubits",
         "showlegend": false,
         "text": "101",
         "textposition": "middle center",
         "type": "scatter",
         "x": [
          2.5
         ],
         "y": [
          9.5
         ]
        },
        {
         "hoverinfo": "text",
         "legendgroup": "qpu_aqbs",
         "marker": {
          "color": "lightgray",
          "line": {
           "color": "darkred",
           "width": 1
          },
          "size": 15,
          "symbol": "circle"
         },
         "mode": "markers",
         "name": "Ancilla qubits",
         "showlegend": false,
         "text": "102",
         "textposition": "middle center",
         "type": "scatter",
         "x": [
          3.5
         ],
         "y": [
          9.5
         ]
        },
        {
         "hoverinfo": "text",
         "legendgroup": "qpu_aqbs",
         "marker": {
          "color": "lightgray",
          "line": {
           "color": "darkred",
           "width": 1
          },
          "size": 15,
          "symbol": "circle"
         },
         "mode": "markers",
         "name": "Ancilla qubits",
         "showlegend": false,
         "text": "103",
         "textposition": "middle center",
         "type": "scatter",
         "x": [
          4.5
         ],
         "y": [
          9.5
         ]
        },
        {
         "hoverinfo": "text",
         "legendgroup": "qpu_aqbs",
         "marker": {
          "color": "lightgray",
          "line": {
           "color": "darkred",
           "width": 1
          },
          "size": 15,
          "symbol": "circle"
         },
         "mode": "markers",
         "name": "Ancilla qubits",
         "showlegend": false,
         "text": "104",
         "textposition": "middle center",
         "type": "scatter",
         "x": [
          5.5
         ],
         "y": [
          9.5
         ]
        },
        {
         "fill": "toself",
         "fillcolor": "#57C95A",
         "hoverinfo": "none",
         "legendgroup": "stabs_Q1",
         "line": {
          "color": "black",
          "width": 2
         },
         "mode": "lines",
         "name": "Q1 stabilizers",
         "showlegend": true,
         "type": "scatter",
         "x": [
          2,
          2,
          3,
          3,
          3
         ],
         "y": [
          1,
          2,
          2,
          1,
          1
         ]
        },
        {
         "fill": "toself",
         "fillcolor": "#57C95A",
         "hoverinfo": "none",
         "legendgroup": "stabs_Q1",
         "line": {
          "color": "black",
          "width": 2
         },
         "mode": "lines",
         "name": "Q1 stabilizers",
         "showlegend": false,
         "type": "scatter",
         "x": [
          1,
          1,
          2,
          2,
          2
         ],
         "y": [
          2,
          3,
          3,
          2,
          2
         ]
        },
        {
         "fill": "toself",
         "fillcolor": "#57C95A",
         "hoverinfo": "none",
         "legendgroup": "stabs_Q1",
         "line": {
          "color": "black",
          "width": 2
         },
         "mode": "lines",
         "name": "Q1 stabilizers",
         "showlegend": false,
         "type": "scatter",
         "x": [
          2,
          2,
          3,
          3,
          3
         ],
         "y": [
          3,
          4,
          4,
          3,
          3
         ]
        },
        {
         "fill": "toself",
         "fillcolor": "#57C95A",
         "hoverinfo": "none",
         "legendgroup": "stabs_Q1",
         "line": {
          "color": "black",
          "width": 2
         },
         "mode": "lines",
         "name": "Q1 stabilizers",
         "showlegend": false,
         "type": "scatter",
         "x": [
          1,
          1,
          2,
          2,
          2
         ],
         "y": [
          4,
          5,
          5,
          4,
          4
         ]
        },
        {
         "fill": "toself",
         "fillcolor": "#57C95A",
         "hoverinfo": "none",
         "legendgroup": "stabs_Q1",
         "line": {
          "color": "black",
          "width": 2
         },
         "mode": "lines",
         "name": "Q1 stabilizers",
         "showlegend": false,
         "type": "scatter",
         "x": [
          2,
          2,
          3,
          3,
          3
         ],
         "y": [
          5,
          6,
          6,
          5,
          5
         ]
        },
        {
         "fill": "toself",
         "fillcolor": "#57C95A",
         "hoverinfo": "none",
         "legendgroup": "stabs_Q1",
         "line": {
          "color": "black",
          "width": 2
         },
         "mode": "lines",
         "name": "Q1 stabilizers",
         "showlegend": false,
         "type": "scatter",
         "x": [
          1,
          1,
          2,
          2,
          2
         ],
         "y": [
          6,
          7,
          7,
          6,
          6
         ]
        },
        {
         "fill": "toself",
         "fillcolor": "#57C95A",
         "hoverinfo": "none",
         "legendgroup": "stabs_Q1",
         "line": {
          "color": "black",
          "width": 2
         },
         "mode": "lines",
         "name": "Q1 stabilizers",
         "showlegend": false,
         "type": "scatter",
         "x": [
          1,
          1,
          1
         ],
         "y": [
          2,
          1,
          1
         ]
        },
        {
         "fill": "toself",
         "fillcolor": "#57C95A",
         "hoverinfo": "none",
         "legendgroup": "stabs_Q1",
         "line": {
          "color": "black",
          "width": 2
         },
         "mode": "lines",
         "name": "Q1 stabilizers",
         "showlegend": false,
         "type": "scatter",
         "x": [
          3,
          3,
          3
         ],
         "y": [
          3,
          2,
          2
         ]
        },
        {
         "fill": "toself",
         "fillcolor": "#57C95A",
         "hoverinfo": "none",
         "legendgroup": "stabs_Q1",
         "line": {
          "color": "black",
          "width": 2
         },
         "mode": "lines",
         "name": "Q1 stabilizers",
         "showlegend": false,
         "type": "scatter",
         "x": [
          1,
          1,
          1
         ],
         "y": [
          4,
          3,
          3
         ]
        },
        {
         "fill": "toself",
         "fillcolor": "#57C95A",
         "hoverinfo": "none",
         "legendgroup": "stabs_Q1",
         "line": {
          "color": "black",
          "width": 2
         },
         "mode": "lines",
         "name": "Q1 stabilizers",
         "showlegend": false,
         "type": "scatter",
         "x": [
          3,
          3,
          3
         ],
         "y": [
          5,
          4,
          4
         ]
        },
        {
         "fill": "toself",
         "fillcolor": "#57C95A",
         "hoverinfo": "none",
         "legendgroup": "stabs_Q1",
         "line": {
          "color": "black",
          "width": 2
         },
         "mode": "lines",
         "name": "Q1 stabilizers",
         "showlegend": false,
         "type": "scatter",
         "x": [
          1,
          1,
          1
         ],
         "y": [
          6,
          5,
          5
         ]
        },
        {
         "fill": "toself",
         "fillcolor": "#57C95A",
         "hoverinfo": "none",
         "legendgroup": "stabs_Q1",
         "line": {
          "color": "black",
          "width": 2
         },
         "mode": "lines",
         "name": "Q1 stabilizers",
         "showlegend": false,
         "type": "scatter",
         "x": [
          3,
          3,
          3
         ],
         "y": [
          7,
          6,
          6
         ]
        },
        {
         "fill": "toself",
         "fillcolor": "#5AAEE6",
         "hoverinfo": "none",
         "legendgroup": "stabs_Q1",
         "line": {
          "color": "black",
          "width": 2
         },
         "mode": "lines",
         "name": "Q1 stabilizers",
         "showlegend": false,
         "type": "scatter",
         "x": [
          1,
          1,
          2,
          2,
          2
         ],
         "y": [
          1,
          2,
          2,
          1,
          1
         ]
        },
        {
         "fill": "toself",
         "fillcolor": "#5AAEE6",
         "hoverinfo": "none",
         "legendgroup": "stabs_Q1",
         "line": {
          "color": "black",
          "width": 2
         },
         "mode": "lines",
         "name": "Q1 stabilizers",
         "showlegend": false,
         "type": "scatter",
         "x": [
          2,
          2,
          3,
          3,
          3
         ],
         "y": [
          2,
          3,
          3,
          2,
          2
         ]
        },
        {
         "fill": "toself",
         "fillcolor": "#5AAEE6",
         "hoverinfo": "none",
         "legendgroup": "stabs_Q1",
         "line": {
          "color": "black",
          "width": 2
         },
         "mode": "lines",
         "name": "Q1 stabilizers",
         "showlegend": false,
         "type": "scatter",
         "x": [
          1,
          1,
          2,
          2,
          2
         ],
         "y": [
          3,
          4,
          4,
          3,
          3
         ]
        },
        {
         "fill": "toself",
         "fillcolor": "#5AAEE6",
         "hoverinfo": "none",
         "legendgroup": "stabs_Q1",
         "line": {
          "color": "black",
          "width": 2
         },
         "mode": "lines",
         "name": "Q1 stabilizers",
         "showlegend": false,
         "type": "scatter",
         "x": [
          2,
          2,
          3,
          3,
          3
         ],
         "y": [
          4,
          5,
          5,
          4,
          4
         ]
        },
        {
         "fill": "toself",
         "fillcolor": "#5AAEE6",
         "hoverinfo": "none",
         "legendgroup": "stabs_Q1",
         "line": {
          "color": "black",
          "width": 2
         },
         "mode": "lines",
         "name": "Q1 stabilizers",
         "showlegend": false,
         "type": "scatter",
         "x": [
          1,
          1,
          2,
          2,
          2
         ],
         "y": [
          5,
          6,
          6,
          5,
          5
         ]
        },
        {
         "fill": "toself",
         "fillcolor": "#5AAEE6",
         "hoverinfo": "none",
         "legendgroup": "stabs_Q1",
         "line": {
          "color": "black",
          "width": 2
         },
         "mode": "lines",
         "name": "Q1 stabilizers",
         "showlegend": false,
         "type": "scatter",
         "x": [
          2,
          2,
          3,
          3,
          3
         ],
         "y": [
          6,
          7,
          7,
          6,
          6
         ]
        },
        {
         "fill": "toself",
         "fillcolor": "#5AAEE6",
         "hoverinfo": "none",
         "legendgroup": "stabs_Q1",
         "line": {
          "color": "black",
          "width": 2
         },
         "mode": "lines",
         "name": "Q1 stabilizers",
         "showlegend": false,
         "type": "scatter",
         "x": [
          1,
          2,
          2
         ],
         "y": [
          7,
          7,
          7
         ]
        },
        {
         "fill": "toself",
         "fillcolor": "#5AAEE6",
         "hoverinfo": "none",
         "legendgroup": "stabs_Q1",
         "line": {
          "color": "black",
          "width": 2
         },
         "mode": "lines",
         "name": "Q1 stabilizers",
         "showlegend": false,
         "type": "scatter",
         "x": [
          2,
          3,
          3
         ],
         "y": [
          1,
          1,
          1
         ]
        },
        {
         "hoverinfo": "text",
         "legendgroup": "",
         "marker": {
          "color": "#1f77b4",
          "line": {
           "color": "darkred",
           "width": 1
          },
          "size": 25,
          "symbol": "circle"
         },
         "mode": "markers+text",
         "name": "",
         "showlegend": false,
         "text": "0",
         "textposition": "middle center",
         "type": "scatter",
         "x": [
          1
         ],
         "y": [
          1
         ]
        },
        {
         "hoverinfo": "text",
         "legendgroup": "",
         "marker": {
          "color": "#1f77b4",
          "line": {
           "color": "darkred",
           "width": 1
          },
          "size": 25,
          "symbol": "circle"
         },
         "mode": "markers+text",
         "name": "",
         "showlegend": false,
         "text": "1",
         "textposition": "middle center",
         "type": "scatter",
         "x": [
          2
         ],
         "y": [
          1
         ]
        },
        {
         "hoverinfo": "text",
         "legendgroup": "",
         "marker": {
          "color": "#1f77b4",
          "line": {
           "color": "darkred",
           "width": 1
          },
          "size": 25,
          "symbol": "circle"
         },
         "mode": "markers+text",
         "name": "",
         "showlegend": false,
         "text": "2",
         "textposition": "middle center",
         "type": "scatter",
         "x": [
          3
         ],
         "y": [
          1
         ]
        },
        {
         "hoverinfo": "text",
         "legendgroup": "",
         "marker": {
          "color": "#1f77b4",
          "line": {
           "color": "darkred",
           "width": 1
          },
          "size": 25,
          "symbol": "circle"
         },
         "mode": "markers+text",
         "name": "",
         "showlegend": false,
         "text": "5",
         "textposition": "middle center",
         "type": "scatter",
         "x": [
          1
         ],
         "y": [
          2
         ]
        },
        {
         "hoverinfo": "text",
         "legendgroup": "",
         "marker": {
          "color": "#1f77b4",
          "line": {
           "color": "darkred",
           "width": 1
          },
          "size": 25,
          "symbol": "circle"
         },
         "mode": "markers+text",
         "name": "",
         "showlegend": false,
         "text": "6",
         "textposition": "middle center",
         "type": "scatter",
         "x": [
          2
         ],
         "y": [
          2
         ]
        },
        {
         "hoverinfo": "text",
         "legendgroup": "",
         "marker": {
          "color": "#1f77b4",
          "line": {
           "color": "darkred",
           "width": 1
          },
          "size": 25,
          "symbol": "circle"
         },
         "mode": "markers+text",
         "name": "",
         "showlegend": false,
         "text": "7",
         "textposition": "middle center",
         "type": "scatter",
         "x": [
          3
         ],
         "y": [
          2
         ]
        },
        {
         "hoverinfo": "text",
         "legendgroup": "",
         "marker": {
          "color": "#1f77b4",
          "line": {
           "color": "darkred",
           "width": 1
          },
          "size": 25,
          "symbol": "circle"
         },
         "mode": "markers+text",
         "name": "",
         "showlegend": false,
         "text": "10",
         "textposition": "middle center",
         "type": "scatter",
         "x": [
          1
         ],
         "y": [
          3
         ]
        },
        {
         "hoverinfo": "text",
         "legendgroup": "",
         "marker": {
          "color": "#1f77b4",
          "line": {
           "color": "darkred",
           "width": 1
          },
          "size": 25,
          "symbol": "circle"
         },
         "mode": "markers+text",
         "name": "",
         "showlegend": false,
         "text": "11",
         "textposition": "middle center",
         "type": "scatter",
         "x": [
          2
         ],
         "y": [
          3
         ]
        },
        {
         "hoverinfo": "text",
         "legendgroup": "",
         "marker": {
          "color": "#1f77b4",
          "line": {
           "color": "darkred",
           "width": 1
          },
          "size": 25,
          "symbol": "circle"
         },
         "mode": "markers+text",
         "name": "",
         "showlegend": false,
         "text": "12",
         "textposition": "middle center",
         "type": "scatter",
         "x": [
          3
         ],
         "y": [
          3
         ]
        },
        {
         "hoverinfo": "text",
         "legendgroup": "",
         "marker": {
          "color": "#1f77b4",
          "line": {
           "color": "darkred",
           "width": 1
          },
          "size": 25,
          "symbol": "circle"
         },
         "mode": "markers+text",
         "name": "",
         "showlegend": false,
         "text": "15",
         "textposition": "middle center",
         "type": "scatter",
         "x": [
          1
         ],
         "y": [
          4
         ]
        },
        {
         "hoverinfo": "text",
         "legendgroup": "",
         "marker": {
          "color": "#1f77b4",
          "line": {
           "color": "darkred",
           "width": 1
          },
          "size": 25,
          "symbol": "circle"
         },
         "mode": "markers+text",
         "name": "",
         "showlegend": false,
         "text": "16",
         "textposition": "middle center",
         "type": "scatter",
         "x": [
          2
         ],
         "y": [
          4
         ]
        },
        {
         "hoverinfo": "text",
         "legendgroup": "",
         "marker": {
          "color": "#1f77b4",
          "line": {
           "color": "darkred",
           "width": 1
          },
          "size": 25,
          "symbol": "circle"
         },
         "mode": "markers+text",
         "name": "",
         "showlegend": false,
         "text": "17",
         "textposition": "middle center",
         "type": "scatter",
         "x": [
          3
         ],
         "y": [
          4
         ]
        },
        {
         "hoverinfo": "text",
         "legendgroup": "",
         "marker": {
          "color": "#1f77b4",
          "line": {
           "color": "darkred",
           "width": 1
          },
          "size": 25,
          "symbol": "circle"
         },
         "mode": "markers+text",
         "name": "",
         "showlegend": false,
         "text": "20",
         "textposition": "middle center",
         "type": "scatter",
         "x": [
          1
         ],
         "y": [
          5
         ]
        },
        {
         "hoverinfo": "text",
         "legendgroup": "",
         "marker": {
          "color": "#1f77b4",
          "line": {
           "color": "darkred",
           "width": 1
          },
          "size": 25,
          "symbol": "circle"
         },
         "mode": "markers+text",
         "name": "",
         "showlegend": false,
         "text": "21",
         "textposition": "middle center",
         "type": "scatter",
         "x": [
          2
         ],
         "y": [
          5
         ]
        },
        {
         "hoverinfo": "text",
         "legendgroup": "",
         "marker": {
          "color": "#1f77b4",
          "line": {
           "color": "darkred",
           "width": 1
          },
          "size": 25,
          "symbol": "circle"
         },
         "mode": "markers+text",
         "name": "",
         "showlegend": false,
         "text": "22",
         "textposition": "middle center",
         "type": "scatter",
         "x": [
          3
         ],
         "y": [
          5
         ]
        },
        {
         "hoverinfo": "text",
         "legendgroup": "",
         "marker": {
          "color": "#1f77b4",
          "line": {
           "color": "darkred",
           "width": 1
          },
          "size": 25,
          "symbol": "circle"
         },
         "mode": "markers+text",
         "name": "",
         "showlegend": false,
         "text": "25",
         "textposition": "middle center",
         "type": "scatter",
         "x": [
          1
         ],
         "y": [
          6
         ]
        },
        {
         "hoverinfo": "text",
         "legendgroup": "",
         "marker": {
          "color": "#1f77b4",
          "line": {
           "color": "darkred",
           "width": 1
          },
          "size": 25,
          "symbol": "circle"
         },
         "mode": "markers+text",
         "name": "",
         "showlegend": false,
         "text": "26",
         "textposition": "middle center",
         "type": "scatter",
         "x": [
          2
         ],
         "y": [
          6
         ]
        },
        {
         "hoverinfo": "text",
         "legendgroup": "",
         "marker": {
          "color": "#1f77b4",
          "line": {
           "color": "darkred",
           "width": 1
          },
          "size": 25,
          "symbol": "circle"
         },
         "mode": "markers+text",
         "name": "",
         "showlegend": false,
         "text": "27",
         "textposition": "middle center",
         "type": "scatter",
         "x": [
          3
         ],
         "y": [
          6
         ]
        },
        {
         "hoverinfo": "text",
         "legendgroup": "",
         "marker": {
          "color": "#1f77b4",
          "line": {
           "color": "darkred",
           "width": 1
          },
          "size": 25,
          "symbol": "circle"
         },
         "mode": "markers+text",
         "name": "",
         "showlegend": false,
         "text": "30",
         "textposition": "middle center",
         "type": "scatter",
         "x": [
          1
         ],
         "y": [
          7
         ]
        },
        {
         "hoverinfo": "text",
         "legendgroup": "",
         "marker": {
          "color": "#1f77b4",
          "line": {
           "color": "darkred",
           "width": 1
          },
          "size": 25,
          "symbol": "circle"
         },
         "mode": "markers+text",
         "name": "",
         "showlegend": false,
         "text": "31",
         "textposition": "middle center",
         "type": "scatter",
         "x": [
          2
         ],
         "y": [
          7
         ]
        },
        {
         "hoverinfo": "text",
         "legendgroup": "",
         "marker": {
          "color": "#1f77b4",
          "line": {
           "color": "darkred",
           "width": 1
          },
          "size": 25,
          "symbol": "circle"
         },
         "mode": "markers+text",
         "name": "",
         "showlegend": false,
         "text": "32",
         "textposition": "middle center",
         "type": "scatter",
         "x": [
          3
         ],
         "y": [
          7
         ]
        },
        {
         "hoverinfo": "text",
         "legendgroup": "",
         "marker": {
          "color": "gray",
          "line": {
           "color": "darkred",
           "width": 1
          },
          "size": 25,
          "symbol": "square"
         },
         "mode": "markers+text",
         "name": "",
         "showlegend": false,
         "text": "X<sub>0</sub>",
         "textposition": "middle center",
         "type": "scatter",
         "x": [
          1
         ],
         "y": [
          1
         ]
        },
        {
         "hoverinfo": "text",
         "legendgroup": "",
         "marker": {
          "color": "gray",
          "line": {
           "color": "darkred",
           "width": 1
          },
          "size": 25,
          "symbol": "square"
         },
         "mode": "markers+text",
         "name": "",
         "showlegend": false,
         "text": "X<sub>5</sub>",
         "textposition": "middle center",
         "type": "scatter",
         "x": [
          1
         ],
         "y": [
          2
         ]
        },
        {
         "hoverinfo": "text",
         "legendgroup": "",
         "marker": {
          "color": "gray",
          "line": {
           "color": "darkred",
           "width": 1
          },
          "size": 25,
          "symbol": "square"
         },
         "mode": "markers+text",
         "name": "",
         "showlegend": false,
         "text": "X<sub>10</sub>",
         "textposition": "middle center",
         "type": "scatter",
         "x": [
          1
         ],
         "y": [
          3
         ]
        },
        {
         "hoverinfo": "text",
         "legendgroup": "",
         "marker": {
          "color": "gray",
          "line": {
           "color": "darkred",
           "width": 1
          },
          "size": 25,
          "symbol": "square"
         },
         "mode": "markers+text",
         "name": "",
         "showlegend": false,
         "text": "X<sub>15</sub>",
         "textposition": "middle center",
         "type": "scatter",
         "x": [
          1
         ],
         "y": [
          4
         ]
        },
        {
         "hoverinfo": "text",
         "legendgroup": "",
         "marker": {
          "color": "gray",
          "line": {
           "color": "darkred",
           "width": 1
          },
          "size": 25,
          "symbol": "square"
         },
         "mode": "markers+text",
         "name": "",
         "showlegend": false,
         "text": "X<sub>20</sub>",
         "textposition": "middle center",
         "type": "scatter",
         "x": [
          1
         ],
         "y": [
          5
         ]
        },
        {
         "hoverinfo": "text",
         "legendgroup": "",
         "marker": {
          "color": "gray",
          "line": {
           "color": "darkred",
           "width": 1
          },
          "size": 25,
          "symbol": "square"
         },
         "mode": "markers+text",
         "name": "",
         "showlegend": false,
         "text": "X<sub>25</sub>",
         "textposition": "middle center",
         "type": "scatter",
         "x": [
          1
         ],
         "y": [
          6
         ]
        },
        {
         "hoverinfo": "text",
         "legendgroup": "",
         "marker": {
          "color": "gray",
          "line": {
           "color": "darkred",
           "width": 1
          },
          "size": 25,
          "symbol": "square"
         },
         "mode": "markers+text",
         "name": "",
         "showlegend": false,
         "text": "X<sub>30</sub>",
         "textposition": "middle center",
         "type": "scatter",
         "x": [
          1
         ],
         "y": [
          7
         ]
        },
        {
         "hoverinfo": "text",
         "legendgroup": "",
         "marker": {
          "color": "gray",
          "line": {
           "color": "darkred",
           "width": 1
          },
          "size": 25,
          "symbol": "square"
         },
         "mode": "markers+text",
         "name": "",
         "showlegend": false,
         "text": "Z<sub>10</sub>",
         "textposition": "middle center",
         "type": "scatter",
         "x": [
          1
         ],
         "y": [
          3
         ]
        },
        {
         "hoverinfo": "text",
         "legendgroup": "",
         "marker": {
          "color": "gray",
          "line": {
           "color": "darkred",
           "width": 1
          },
          "size": 25,
          "symbol": "square"
         },
         "mode": "markers+text",
         "name": "",
         "showlegend": false,
         "text": "Z<sub>11</sub>",
         "textposition": "middle center",
         "type": "scatter",
         "x": [
          2
         ],
         "y": [
          3
         ]
        },
        {
         "hoverinfo": "text",
         "legendgroup": "",
         "marker": {
          "color": "gray",
          "line": {
           "color": "darkred",
           "width": 1
          },
          "size": 25,
          "symbol": "square"
         },
         "mode": "markers+text",
         "name": "",
         "showlegend": false,
         "text": "Z<sub>12</sub>",
         "textposition": "middle center",
         "type": "scatter",
         "x": [
          3
         ],
         "y": [
          3
         ]
        }
       ],
       "layout": {
        "height": 700,
        "showlegend": true,
        "template": {
         "data": {
          "bar": [
           {
            "error_x": {
             "color": "#2a3f5f"
            },
            "error_y": {
             "color": "#2a3f5f"
            },
            "marker": {
             "line": {
              "color": "#E5ECF6",
              "width": 0.5
             },
             "pattern": {
              "fillmode": "overlay",
              "size": 10,
              "solidity": 0.2
             }
            },
            "type": "bar"
           }
          ],
          "barpolar": [
           {
            "marker": {
             "line": {
              "color": "#E5ECF6",
              "width": 0.5
             },
             "pattern": {
              "fillmode": "overlay",
              "size": 10,
              "solidity": 0.2
             }
            },
            "type": "barpolar"
           }
          ],
          "carpet": [
           {
            "aaxis": {
             "endlinecolor": "#2a3f5f",
             "gridcolor": "white",
             "linecolor": "white",
             "minorgridcolor": "white",
             "startlinecolor": "#2a3f5f"
            },
            "baxis": {
             "endlinecolor": "#2a3f5f",
             "gridcolor": "white",
             "linecolor": "white",
             "minorgridcolor": "white",
             "startlinecolor": "#2a3f5f"
            },
            "type": "carpet"
           }
          ],
          "choropleth": [
           {
            "colorbar": {
             "outlinewidth": 0,
             "ticks": ""
            },
            "type": "choropleth"
           }
          ],
          "contour": [
           {
            "colorbar": {
             "outlinewidth": 0,
             "ticks": ""
            },
            "colorscale": [
             [
              0,
              "#0d0887"
             ],
             [
              0.1111111111111111,
              "#46039f"
             ],
             [
              0.2222222222222222,
              "#7201a8"
             ],
             [
              0.3333333333333333,
              "#9c179e"
             ],
             [
              0.4444444444444444,
              "#bd3786"
             ],
             [
              0.5555555555555556,
              "#d8576b"
             ],
             [
              0.6666666666666666,
              "#ed7953"
             ],
             [
              0.7777777777777778,
              "#fb9f3a"
             ],
             [
              0.8888888888888888,
              "#fdca26"
             ],
             [
              1,
              "#f0f921"
             ]
            ],
            "type": "contour"
           }
          ],
          "contourcarpet": [
           {
            "colorbar": {
             "outlinewidth": 0,
             "ticks": ""
            },
            "type": "contourcarpet"
           }
          ],
          "heatmap": [
           {
            "colorbar": {
             "outlinewidth": 0,
             "ticks": ""
            },
            "colorscale": [
             [
              0,
              "#0d0887"
             ],
             [
              0.1111111111111111,
              "#46039f"
             ],
             [
              0.2222222222222222,
              "#7201a8"
             ],
             [
              0.3333333333333333,
              "#9c179e"
             ],
             [
              0.4444444444444444,
              "#bd3786"
             ],
             [
              0.5555555555555556,
              "#d8576b"
             ],
             [
              0.6666666666666666,
              "#ed7953"
             ],
             [
              0.7777777777777778,
              "#fb9f3a"
             ],
             [
              0.8888888888888888,
              "#fdca26"
             ],
             [
              1,
              "#f0f921"
             ]
            ],
            "type": "heatmap"
           }
          ],
          "heatmapgl": [
           {
            "colorbar": {
             "outlinewidth": 0,
             "ticks": ""
            },
            "colorscale": [
             [
              0,
              "#0d0887"
             ],
             [
              0.1111111111111111,
              "#46039f"
             ],
             [
              0.2222222222222222,
              "#7201a8"
             ],
             [
              0.3333333333333333,
              "#9c179e"
             ],
             [
              0.4444444444444444,
              "#bd3786"
             ],
             [
              0.5555555555555556,
              "#d8576b"
             ],
             [
              0.6666666666666666,
              "#ed7953"
             ],
             [
              0.7777777777777778,
              "#fb9f3a"
             ],
             [
              0.8888888888888888,
              "#fdca26"
             ],
             [
              1,
              "#f0f921"
             ]
            ],
            "type": "heatmapgl"
           }
          ],
          "histogram": [
           {
            "marker": {
             "pattern": {
              "fillmode": "overlay",
              "size": 10,
              "solidity": 0.2
             }
            },
            "type": "histogram"
           }
          ],
          "histogram2d": [
           {
            "colorbar": {
             "outlinewidth": 0,
             "ticks": ""
            },
            "colorscale": [
             [
              0,
              "#0d0887"
             ],
             [
              0.1111111111111111,
              "#46039f"
             ],
             [
              0.2222222222222222,
              "#7201a8"
             ],
             [
              0.3333333333333333,
              "#9c179e"
             ],
             [
              0.4444444444444444,
              "#bd3786"
             ],
             [
              0.5555555555555556,
              "#d8576b"
             ],
             [
              0.6666666666666666,
              "#ed7953"
             ],
             [
              0.7777777777777778,
              "#fb9f3a"
             ],
             [
              0.8888888888888888,
              "#fdca26"
             ],
             [
              1,
              "#f0f921"
             ]
            ],
            "type": "histogram2d"
           }
          ],
          "histogram2dcontour": [
           {
            "colorbar": {
             "outlinewidth": 0,
             "ticks": ""
            },
            "colorscale": [
             [
              0,
              "#0d0887"
             ],
             [
              0.1111111111111111,
              "#46039f"
             ],
             [
              0.2222222222222222,
              "#7201a8"
             ],
             [
              0.3333333333333333,
              "#9c179e"
             ],
             [
              0.4444444444444444,
              "#bd3786"
             ],
             [
              0.5555555555555556,
              "#d8576b"
             ],
             [
              0.6666666666666666,
              "#ed7953"
             ],
             [
              0.7777777777777778,
              "#fb9f3a"
             ],
             [
              0.8888888888888888,
              "#fdca26"
             ],
             [
              1,
              "#f0f921"
             ]
            ],
            "type": "histogram2dcontour"
           }
          ],
          "mesh3d": [
           {
            "colorbar": {
             "outlinewidth": 0,
             "ticks": ""
            },
            "type": "mesh3d"
           }
          ],
          "parcoords": [
           {
            "line": {
             "colorbar": {
              "outlinewidth": 0,
              "ticks": ""
             }
            },
            "type": "parcoords"
           }
          ],
          "pie": [
           {
            "automargin": true,
            "type": "pie"
           }
          ],
          "scatter": [
           {
            "fillpattern": {
             "fillmode": "overlay",
             "size": 10,
             "solidity": 0.2
            },
            "type": "scatter"
           }
          ],
          "scatter3d": [
           {
            "line": {
             "colorbar": {
              "outlinewidth": 0,
              "ticks": ""
             }
            },
            "marker": {
             "colorbar": {
              "outlinewidth": 0,
              "ticks": ""
             }
            },
            "type": "scatter3d"
           }
          ],
          "scattercarpet": [
           {
            "marker": {
             "colorbar": {
              "outlinewidth": 0,
              "ticks": ""
             }
            },
            "type": "scattercarpet"
           }
          ],
          "scattergeo": [
           {
            "marker": {
             "colorbar": {
              "outlinewidth": 0,
              "ticks": ""
             }
            },
            "type": "scattergeo"
           }
          ],
          "scattergl": [
           {
            "marker": {
             "colorbar": {
              "outlinewidth": 0,
              "ticks": ""
             }
            },
            "type": "scattergl"
           }
          ],
          "scattermapbox": [
           {
            "marker": {
             "colorbar": {
              "outlinewidth": 0,
              "ticks": ""
             }
            },
            "type": "scattermapbox"
           }
          ],
          "scatterpolar": [
           {
            "marker": {
             "colorbar": {
              "outlinewidth": 0,
              "ticks": ""
             }
            },
            "type": "scatterpolar"
           }
          ],
          "scatterpolargl": [
           {
            "marker": {
             "colorbar": {
              "outlinewidth": 0,
              "ticks": ""
             }
            },
            "type": "scatterpolargl"
           }
          ],
          "scatterternary": [
           {
            "marker": {
             "colorbar": {
              "outlinewidth": 0,
              "ticks": ""
             }
            },
            "type": "scatterternary"
           }
          ],
          "surface": [
           {
            "colorbar": {
             "outlinewidth": 0,
             "ticks": ""
            },
            "colorscale": [
             [
              0,
              "#0d0887"
             ],
             [
              0.1111111111111111,
              "#46039f"
             ],
             [
              0.2222222222222222,
              "#7201a8"
             ],
             [
              0.3333333333333333,
              "#9c179e"
             ],
             [
              0.4444444444444444,
              "#bd3786"
             ],
             [
              0.5555555555555556,
              "#d8576b"
             ],
             [
              0.6666666666666666,
              "#ed7953"
             ],
             [
              0.7777777777777778,
              "#fb9f3a"
             ],
             [
              0.8888888888888888,
              "#fdca26"
             ],
             [
              1,
              "#f0f921"
             ]
            ],
            "type": "surface"
           }
          ],
          "table": [
           {
            "cells": {
             "fill": {
              "color": "#EBF0F8"
             },
             "line": {
              "color": "white"
             }
            },
            "header": {
             "fill": {
              "color": "#C8D4E3"
             },
             "line": {
              "color": "white"
             }
            },
            "type": "table"
           }
          ]
         },
         "layout": {
          "annotationdefaults": {
           "arrowcolor": "#2a3f5f",
           "arrowhead": 0,
           "arrowwidth": 1
          },
          "autotypenumbers": "strict",
          "coloraxis": {
           "colorbar": {
            "outlinewidth": 0,
            "ticks": ""
           }
          },
          "colorscale": {
           "diverging": [
            [
             0,
             "#8e0152"
            ],
            [
             0.1,
             "#c51b7d"
            ],
            [
             0.2,
             "#de77ae"
            ],
            [
             0.3,
             "#f1b6da"
            ],
            [
             0.4,
             "#fde0ef"
            ],
            [
             0.5,
             "#f7f7f7"
            ],
            [
             0.6,
             "#e6f5d0"
            ],
            [
             0.7,
             "#b8e186"
            ],
            [
             0.8,
             "#7fbc41"
            ],
            [
             0.9,
             "#4d9221"
            ],
            [
             1,
             "#276419"
            ]
           ],
           "sequential": [
            [
             0,
             "#0d0887"
            ],
            [
             0.1111111111111111,
             "#46039f"
            ],
            [
             0.2222222222222222,
             "#7201a8"
            ],
            [
             0.3333333333333333,
             "#9c179e"
            ],
            [
             0.4444444444444444,
             "#bd3786"
            ],
            [
             0.5555555555555556,
             "#d8576b"
            ],
            [
             0.6666666666666666,
             "#ed7953"
            ],
            [
             0.7777777777777778,
             "#fb9f3a"
            ],
            [
             0.8888888888888888,
             "#fdca26"
            ],
            [
             1,
             "#f0f921"
            ]
           ],
           "sequentialminus": [
            [
             0,
             "#0d0887"
            ],
            [
             0.1111111111111111,
             "#46039f"
            ],
            [
             0.2222222222222222,
             "#7201a8"
            ],
            [
             0.3333333333333333,
             "#9c179e"
            ],
            [
             0.4444444444444444,
             "#bd3786"
            ],
            [
             0.5555555555555556,
             "#d8576b"
            ],
            [
             0.6666666666666666,
             "#ed7953"
            ],
            [
             0.7777777777777778,
             "#fb9f3a"
            ],
            [
             0.8888888888888888,
             "#fdca26"
            ],
            [
             1,
             "#f0f921"
            ]
           ]
          },
          "colorway": [
           "#636efa",
           "#EF553B",
           "#00cc96",
           "#ab63fa",
           "#FFA15A",
           "#19d3f3",
           "#FF6692",
           "#B6E880",
           "#FF97FF",
           "#FECB52"
          ],
          "font": {
           "color": "#2a3f5f"
          },
          "geo": {
           "bgcolor": "white",
           "lakecolor": "white",
           "landcolor": "#E5ECF6",
           "showlakes": true,
           "showland": true,
           "subunitcolor": "white"
          },
          "hoverlabel": {
           "align": "left"
          },
          "hovermode": "closest",
          "mapbox": {
           "style": "light"
          },
          "paper_bgcolor": "white",
          "plot_bgcolor": "#E5ECF6",
          "polar": {
           "angularaxis": {
            "gridcolor": "white",
            "linecolor": "white",
            "ticks": ""
           },
           "bgcolor": "#E5ECF6",
           "radialaxis": {
            "gridcolor": "white",
            "linecolor": "white",
            "ticks": ""
           }
          },
          "scene": {
           "xaxis": {
            "backgroundcolor": "#E5ECF6",
            "gridcolor": "white",
            "gridwidth": 2,
            "linecolor": "white",
            "showbackground": true,
            "ticks": "",
            "zerolinecolor": "white"
           },
           "yaxis": {
            "backgroundcolor": "#E5ECF6",
            "gridcolor": "white",
            "gridwidth": 2,
            "linecolor": "white",
            "showbackground": true,
            "ticks": "",
            "zerolinecolor": "white"
           },
           "zaxis": {
            "backgroundcolor": "#E5ECF6",
            "gridcolor": "white",
            "gridwidth": 2,
            "linecolor": "white",
            "showbackground": true,
            "ticks": "",
            "zerolinecolor": "white"
           }
          },
          "shapedefaults": {
           "line": {
            "color": "#2a3f5f"
           }
          },
          "ternary": {
           "aaxis": {
            "gridcolor": "white",
            "linecolor": "white",
            "ticks": ""
           },
           "baxis": {
            "gridcolor": "white",
            "linecolor": "white",
            "ticks": ""
           },
           "bgcolor": "#E5ECF6",
           "caxis": {
            "gridcolor": "white",
            "linecolor": "white",
            "ticks": ""
           }
          },
          "title": {
           "x": 0.05
          },
          "xaxis": {
           "automargin": true,
           "gridcolor": "white",
           "linecolor": "white",
           "ticks": "",
           "title": {
            "standoff": 15
           },
           "zerolinecolor": "white",
           "zerolinewidth": 2
          },
          "yaxis": {
           "automargin": true,
           "gridcolor": "white",
           "linecolor": "white",
           "ticks": "",
           "title": {
            "standoff": 15
           },
           "zerolinecolor": "white",
           "zerolinewidth": 2
          }
         }
        },
        "width": 1100,
        "xaxis": {
         "anchor": "y",
         "domain": [
          0,
          1
         ],
         "showgrid": false,
         "visible": false,
         "zeroline": false
        },
        "yaxis": {
         "anchor": "x",
         "autorange": true,
         "domain": [
          0,
          1
         ],
         "scaleanchor": "x",
         "scaleratio": 1,
         "showgrid": false,
         "visible": false
        }
       }
      }
     },
     "metadata": {},
     "output_type": "display_data"
    }
   ],
   "source": [
    "qecplot = QECPlot(circ)\n",
    "qecplot.plot_logical_qubit(\"Q1\")\n",
    "qecplot.show()"
   ]
  },
  {
   "cell_type": "markdown",
   "metadata": {},
   "source": [
    "Now add the split operation:"
   ]
  },
  {
   "cell_type": "code",
   "execution_count": 4,
   "metadata": {},
   "outputs": [],
   "source": [
    "circ.split(\"Q1\", [15, 16, 17], [\"Q2\", \"Q3\"])"
   ]
  },
  {
   "cell_type": "markdown",
   "metadata": {},
   "source": [
    "Now after the split, plot again the current configuration of the lattice. Now one can see that there are two logical qubit patches with two logical operators each:"
   ]
  },
  {
   "cell_type": "code",
   "execution_count": 5,
   "metadata": {},
   "outputs": [
    {
     "data": {
      "application/vnd.plotly.v1+json": {
       "config": {
        "plotlyServerURL": "https://plot.ly"
       },
       "data": [
        {
         "hoverinfo": "text",
         "legendgroup": "qpu_dqbs",
         "marker": {
          "color": "gray",
          "line": {
           "color": "darkred",
           "width": 1
          },
          "size": 25,
          "symbol": "circle"
         },
         "mode": "markers",
         "name": "Data qubits",
         "showlegend": true,
         "text": "0",
         "textposition": "middle center",
         "type": "scatter",
         "x": [
          1
         ],
         "y": [
          1
         ]
        },
        {
         "hoverinfo": "text",
         "legendgroup": "qpu_dqbs",
         "marker": {
          "color": "gray",
          "line": {
           "color": "darkred",
           "width": 1
          },
          "size": 25,
          "symbol": "circle"
         },
         "mode": "markers",
         "name": "Data qubits",
         "showlegend": false,
         "text": "1",
         "textposition": "middle center",
         "type": "scatter",
         "x": [
          2
         ],
         "y": [
          1
         ]
        },
        {
         "hoverinfo": "text",
         "legendgroup": "qpu_dqbs",
         "marker": {
          "color": "gray",
          "line": {
           "color": "darkred",
           "width": 1
          },
          "size": 25,
          "symbol": "circle"
         },
         "mode": "markers",
         "name": "Data qubits",
         "showlegend": false,
         "text": "2",
         "textposition": "middle center",
         "type": "scatter",
         "x": [
          3
         ],
         "y": [
          1
         ]
        },
        {
         "hoverinfo": "text",
         "legendgroup": "qpu_dqbs",
         "marker": {
          "color": "gray",
          "line": {
           "color": "darkred",
           "width": 1
          },
          "size": 25,
          "symbol": "circle"
         },
         "mode": "markers",
         "name": "Data qubits",
         "showlegend": false,
         "text": "3",
         "textposition": "middle center",
         "type": "scatter",
         "x": [
          4
         ],
         "y": [
          1
         ]
        },
        {
         "hoverinfo": "text",
         "legendgroup": "qpu_dqbs",
         "marker": {
          "color": "gray",
          "line": {
           "color": "darkred",
           "width": 1
          },
          "size": 25,
          "symbol": "circle"
         },
         "mode": "markers",
         "name": "Data qubits",
         "showlegend": false,
         "text": "4",
         "textposition": "middle center",
         "type": "scatter",
         "x": [
          5
         ],
         "y": [
          1
         ]
        },
        {
         "hoverinfo": "text",
         "legendgroup": "qpu_dqbs",
         "marker": {
          "color": "gray",
          "line": {
           "color": "darkred",
           "width": 1
          },
          "size": 25,
          "symbol": "circle"
         },
         "mode": "markers",
         "name": "Data qubits",
         "showlegend": false,
         "text": "5",
         "textposition": "middle center",
         "type": "scatter",
         "x": [
          1
         ],
         "y": [
          2
         ]
        },
        {
         "hoverinfo": "text",
         "legendgroup": "qpu_dqbs",
         "marker": {
          "color": "gray",
          "line": {
           "color": "darkred",
           "width": 1
          },
          "size": 25,
          "symbol": "circle"
         },
         "mode": "markers",
         "name": "Data qubits",
         "showlegend": false,
         "text": "6",
         "textposition": "middle center",
         "type": "scatter",
         "x": [
          2
         ],
         "y": [
          2
         ]
        },
        {
         "hoverinfo": "text",
         "legendgroup": "qpu_dqbs",
         "marker": {
          "color": "gray",
          "line": {
           "color": "darkred",
           "width": 1
          },
          "size": 25,
          "symbol": "circle"
         },
         "mode": "markers",
         "name": "Data qubits",
         "showlegend": false,
         "text": "7",
         "textposition": "middle center",
         "type": "scatter",
         "x": [
          3
         ],
         "y": [
          2
         ]
        },
        {
         "hoverinfo": "text",
         "legendgroup": "qpu_dqbs",
         "marker": {
          "color": "gray",
          "line": {
           "color": "darkred",
           "width": 1
          },
          "size": 25,
          "symbol": "circle"
         },
         "mode": "markers",
         "name": "Data qubits",
         "showlegend": false,
         "text": "8",
         "textposition": "middle center",
         "type": "scatter",
         "x": [
          4
         ],
         "y": [
          2
         ]
        },
        {
         "hoverinfo": "text",
         "legendgroup": "qpu_dqbs",
         "marker": {
          "color": "gray",
          "line": {
           "color": "darkred",
           "width": 1
          },
          "size": 25,
          "symbol": "circle"
         },
         "mode": "markers",
         "name": "Data qubits",
         "showlegend": false,
         "text": "9",
         "textposition": "middle center",
         "type": "scatter",
         "x": [
          5
         ],
         "y": [
          2
         ]
        },
        {
         "hoverinfo": "text",
         "legendgroup": "qpu_dqbs",
         "marker": {
          "color": "gray",
          "line": {
           "color": "darkred",
           "width": 1
          },
          "size": 25,
          "symbol": "circle"
         },
         "mode": "markers",
         "name": "Data qubits",
         "showlegend": false,
         "text": "10",
         "textposition": "middle center",
         "type": "scatter",
         "x": [
          1
         ],
         "y": [
          3
         ]
        },
        {
         "hoverinfo": "text",
         "legendgroup": "qpu_dqbs",
         "marker": {
          "color": "gray",
          "line": {
           "color": "darkred",
           "width": 1
          },
          "size": 25,
          "symbol": "circle"
         },
         "mode": "markers",
         "name": "Data qubits",
         "showlegend": false,
         "text": "11",
         "textposition": "middle center",
         "type": "scatter",
         "x": [
          2
         ],
         "y": [
          3
         ]
        },
        {
         "hoverinfo": "text",
         "legendgroup": "qpu_dqbs",
         "marker": {
          "color": "gray",
          "line": {
           "color": "darkred",
           "width": 1
          },
          "size": 25,
          "symbol": "circle"
         },
         "mode": "markers",
         "name": "Data qubits",
         "showlegend": false,
         "text": "12",
         "textposition": "middle center",
         "type": "scatter",
         "x": [
          3
         ],
         "y": [
          3
         ]
        },
        {
         "hoverinfo": "text",
         "legendgroup": "qpu_dqbs",
         "marker": {
          "color": "gray",
          "line": {
           "color": "darkred",
           "width": 1
          },
          "size": 25,
          "symbol": "circle"
         },
         "mode": "markers",
         "name": "Data qubits",
         "showlegend": false,
         "text": "13",
         "textposition": "middle center",
         "type": "scatter",
         "x": [
          4
         ],
         "y": [
          3
         ]
        },
        {
         "hoverinfo": "text",
         "legendgroup": "qpu_dqbs",
         "marker": {
          "color": "gray",
          "line": {
           "color": "darkred",
           "width": 1
          },
          "size": 25,
          "symbol": "circle"
         },
         "mode": "markers",
         "name": "Data qubits",
         "showlegend": false,
         "text": "14",
         "textposition": "middle center",
         "type": "scatter",
         "x": [
          5
         ],
         "y": [
          3
         ]
        },
        {
         "hoverinfo": "text",
         "legendgroup": "qpu_dqbs",
         "marker": {
          "color": "gray",
          "line": {
           "color": "darkred",
           "width": 1
          },
          "size": 25,
          "symbol": "circle"
         },
         "mode": "markers",
         "name": "Data qubits",
         "showlegend": false,
         "text": "15",
         "textposition": "middle center",
         "type": "scatter",
         "x": [
          1
         ],
         "y": [
          4
         ]
        },
        {
         "hoverinfo": "text",
         "legendgroup": "qpu_dqbs",
         "marker": {
          "color": "gray",
          "line": {
           "color": "darkred",
           "width": 1
          },
          "size": 25,
          "symbol": "circle"
         },
         "mode": "markers",
         "name": "Data qubits",
         "showlegend": false,
         "text": "16",
         "textposition": "middle center",
         "type": "scatter",
         "x": [
          2
         ],
         "y": [
          4
         ]
        },
        {
         "hoverinfo": "text",
         "legendgroup": "qpu_dqbs",
         "marker": {
          "color": "gray",
          "line": {
           "color": "darkred",
           "width": 1
          },
          "size": 25,
          "symbol": "circle"
         },
         "mode": "markers",
         "name": "Data qubits",
         "showlegend": false,
         "text": "17",
         "textposition": "middle center",
         "type": "scatter",
         "x": [
          3
         ],
         "y": [
          4
         ]
        },
        {
         "hoverinfo": "text",
         "legendgroup": "qpu_dqbs",
         "marker": {
          "color": "gray",
          "line": {
           "color": "darkred",
           "width": 1
          },
          "size": 25,
          "symbol": "circle"
         },
         "mode": "markers",
         "name": "Data qubits",
         "showlegend": false,
         "text": "18",
         "textposition": "middle center",
         "type": "scatter",
         "x": [
          4
         ],
         "y": [
          4
         ]
        },
        {
         "hoverinfo": "text",
         "legendgroup": "qpu_dqbs",
         "marker": {
          "color": "gray",
          "line": {
           "color": "darkred",
           "width": 1
          },
          "size": 25,
          "symbol": "circle"
         },
         "mode": "markers",
         "name": "Data qubits",
         "showlegend": false,
         "text": "19",
         "textposition": "middle center",
         "type": "scatter",
         "x": [
          5
         ],
         "y": [
          4
         ]
        },
        {
         "hoverinfo": "text",
         "legendgroup": "qpu_dqbs",
         "marker": {
          "color": "gray",
          "line": {
           "color": "darkred",
           "width": 1
          },
          "size": 25,
          "symbol": "circle"
         },
         "mode": "markers",
         "name": "Data qubits",
         "showlegend": false,
         "text": "20",
         "textposition": "middle center",
         "type": "scatter",
         "x": [
          1
         ],
         "y": [
          5
         ]
        },
        {
         "hoverinfo": "text",
         "legendgroup": "qpu_dqbs",
         "marker": {
          "color": "gray",
          "line": {
           "color": "darkred",
           "width": 1
          },
          "size": 25,
          "symbol": "circle"
         },
         "mode": "markers",
         "name": "Data qubits",
         "showlegend": false,
         "text": "21",
         "textposition": "middle center",
         "type": "scatter",
         "x": [
          2
         ],
         "y": [
          5
         ]
        },
        {
         "hoverinfo": "text",
         "legendgroup": "qpu_dqbs",
         "marker": {
          "color": "gray",
          "line": {
           "color": "darkred",
           "width": 1
          },
          "size": 25,
          "symbol": "circle"
         },
         "mode": "markers",
         "name": "Data qubits",
         "showlegend": false,
         "text": "22",
         "textposition": "middle center",
         "type": "scatter",
         "x": [
          3
         ],
         "y": [
          5
         ]
        },
        {
         "hoverinfo": "text",
         "legendgroup": "qpu_dqbs",
         "marker": {
          "color": "gray",
          "line": {
           "color": "darkred",
           "width": 1
          },
          "size": 25,
          "symbol": "circle"
         },
         "mode": "markers",
         "name": "Data qubits",
         "showlegend": false,
         "text": "23",
         "textposition": "middle center",
         "type": "scatter",
         "x": [
          4
         ],
         "y": [
          5
         ]
        },
        {
         "hoverinfo": "text",
         "legendgroup": "qpu_dqbs",
         "marker": {
          "color": "gray",
          "line": {
           "color": "darkred",
           "width": 1
          },
          "size": 25,
          "symbol": "circle"
         },
         "mode": "markers",
         "name": "Data qubits",
         "showlegend": false,
         "text": "24",
         "textposition": "middle center",
         "type": "scatter",
         "x": [
          5
         ],
         "y": [
          5
         ]
        },
        {
         "hoverinfo": "text",
         "legendgroup": "qpu_dqbs",
         "marker": {
          "color": "gray",
          "line": {
           "color": "darkred",
           "width": 1
          },
          "size": 25,
          "symbol": "circle"
         },
         "mode": "markers",
         "name": "Data qubits",
         "showlegend": false,
         "text": "25",
         "textposition": "middle center",
         "type": "scatter",
         "x": [
          1
         ],
         "y": [
          6
         ]
        },
        {
         "hoverinfo": "text",
         "legendgroup": "qpu_dqbs",
         "marker": {
          "color": "gray",
          "line": {
           "color": "darkred",
           "width": 1
          },
          "size": 25,
          "symbol": "circle"
         },
         "mode": "markers",
         "name": "Data qubits",
         "showlegend": false,
         "text": "26",
         "textposition": "middle center",
         "type": "scatter",
         "x": [
          2
         ],
         "y": [
          6
         ]
        },
        {
         "hoverinfo": "text",
         "legendgroup": "qpu_dqbs",
         "marker": {
          "color": "gray",
          "line": {
           "color": "darkred",
           "width": 1
          },
          "size": 25,
          "symbol": "circle"
         },
         "mode": "markers",
         "name": "Data qubits",
         "showlegend": false,
         "text": "27",
         "textposition": "middle center",
         "type": "scatter",
         "x": [
          3
         ],
         "y": [
          6
         ]
        },
        {
         "hoverinfo": "text",
         "legendgroup": "qpu_dqbs",
         "marker": {
          "color": "gray",
          "line": {
           "color": "darkred",
           "width": 1
          },
          "size": 25,
          "symbol": "circle"
         },
         "mode": "markers",
         "name": "Data qubits",
         "showlegend": false,
         "text": "28",
         "textposition": "middle center",
         "type": "scatter",
         "x": [
          4
         ],
         "y": [
          6
         ]
        },
        {
         "hoverinfo": "text",
         "legendgroup": "qpu_dqbs",
         "marker": {
          "color": "gray",
          "line": {
           "color": "darkred",
           "width": 1
          },
          "size": 25,
          "symbol": "circle"
         },
         "mode": "markers",
         "name": "Data qubits",
         "showlegend": false,
         "text": "29",
         "textposition": "middle center",
         "type": "scatter",
         "x": [
          5
         ],
         "y": [
          6
         ]
        },
        {
         "hoverinfo": "text",
         "legendgroup": "qpu_dqbs",
         "marker": {
          "color": "gray",
          "line": {
           "color": "darkred",
           "width": 1
          },
          "size": 25,
          "symbol": "circle"
         },
         "mode": "markers",
         "name": "Data qubits",
         "showlegend": false,
         "text": "30",
         "textposition": "middle center",
         "type": "scatter",
         "x": [
          1
         ],
         "y": [
          7
         ]
        },
        {
         "hoverinfo": "text",
         "legendgroup": "qpu_dqbs",
         "marker": {
          "color": "gray",
          "line": {
           "color": "darkred",
           "width": 1
          },
          "size": 25,
          "symbol": "circle"
         },
         "mode": "markers",
         "name": "Data qubits",
         "showlegend": false,
         "text": "31",
         "textposition": "middle center",
         "type": "scatter",
         "x": [
          2
         ],
         "y": [
          7
         ]
        },
        {
         "hoverinfo": "text",
         "legendgroup": "qpu_dqbs",
         "marker": {
          "color": "gray",
          "line": {
           "color": "darkred",
           "width": 1
          },
          "size": 25,
          "symbol": "circle"
         },
         "mode": "markers",
         "name": "Data qubits",
         "showlegend": false,
         "text": "32",
         "textposition": "middle center",
         "type": "scatter",
         "x": [
          3
         ],
         "y": [
          7
         ]
        },
        {
         "hoverinfo": "text",
         "legendgroup": "qpu_dqbs",
         "marker": {
          "color": "gray",
          "line": {
           "color": "darkred",
           "width": 1
          },
          "size": 25,
          "symbol": "circle"
         },
         "mode": "markers",
         "name": "Data qubits",
         "showlegend": false,
         "text": "33",
         "textposition": "middle center",
         "type": "scatter",
         "x": [
          4
         ],
         "y": [
          7
         ]
        },
        {
         "hoverinfo": "text",
         "legendgroup": "qpu_dqbs",
         "marker": {
          "color": "gray",
          "line": {
           "color": "darkred",
           "width": 1
          },
          "size": 25,
          "symbol": "circle"
         },
         "mode": "markers",
         "name": "Data qubits",
         "showlegend": false,
         "text": "34",
         "textposition": "middle center",
         "type": "scatter",
         "x": [
          5
         ],
         "y": [
          7
         ]
        },
        {
         "hoverinfo": "text",
         "legendgroup": "qpu_dqbs",
         "marker": {
          "color": "gray",
          "line": {
           "color": "darkred",
           "width": 1
          },
          "size": 25,
          "symbol": "circle"
         },
         "mode": "markers",
         "name": "Data qubits",
         "showlegend": false,
         "text": "35",
         "textposition": "middle center",
         "type": "scatter",
         "x": [
          1
         ],
         "y": [
          8
         ]
        },
        {
         "hoverinfo": "text",
         "legendgroup": "qpu_dqbs",
         "marker": {
          "color": "gray",
          "line": {
           "color": "darkred",
           "width": 1
          },
          "size": 25,
          "symbol": "circle"
         },
         "mode": "markers",
         "name": "Data qubits",
         "showlegend": false,
         "text": "36",
         "textposition": "middle center",
         "type": "scatter",
         "x": [
          2
         ],
         "y": [
          8
         ]
        },
        {
         "hoverinfo": "text",
         "legendgroup": "qpu_dqbs",
         "marker": {
          "color": "gray",
          "line": {
           "color": "darkred",
           "width": 1
          },
          "size": 25,
          "symbol": "circle"
         },
         "mode": "markers",
         "name": "Data qubits",
         "showlegend": false,
         "text": "37",
         "textposition": "middle center",
         "type": "scatter",
         "x": [
          3
         ],
         "y": [
          8
         ]
        },
        {
         "hoverinfo": "text",
         "legendgroup": "qpu_dqbs",
         "marker": {
          "color": "gray",
          "line": {
           "color": "darkred",
           "width": 1
          },
          "size": 25,
          "symbol": "circle"
         },
         "mode": "markers",
         "name": "Data qubits",
         "showlegend": false,
         "text": "38",
         "textposition": "middle center",
         "type": "scatter",
         "x": [
          4
         ],
         "y": [
          8
         ]
        },
        {
         "hoverinfo": "text",
         "legendgroup": "qpu_dqbs",
         "marker": {
          "color": "gray",
          "line": {
           "color": "darkred",
           "width": 1
          },
          "size": 25,
          "symbol": "circle"
         },
         "mode": "markers",
         "name": "Data qubits",
         "showlegend": false,
         "text": "39",
         "textposition": "middle center",
         "type": "scatter",
         "x": [
          5
         ],
         "y": [
          8
         ]
        },
        {
         "hoverinfo": "text",
         "legendgroup": "qpu_dqbs",
         "marker": {
          "color": "gray",
          "line": {
           "color": "darkred",
           "width": 1
          },
          "size": 25,
          "symbol": "circle"
         },
         "mode": "markers",
         "name": "Data qubits",
         "showlegend": false,
         "text": "40",
         "textposition": "middle center",
         "type": "scatter",
         "x": [
          1
         ],
         "y": [
          9
         ]
        },
        {
         "hoverinfo": "text",
         "legendgroup": "qpu_dqbs",
         "marker": {
          "color": "gray",
          "line": {
           "color": "darkred",
           "width": 1
          },
          "size": 25,
          "symbol": "circle"
         },
         "mode": "markers",
         "name": "Data qubits",
         "showlegend": false,
         "text": "41",
         "textposition": "middle center",
         "type": "scatter",
         "x": [
          2
         ],
         "y": [
          9
         ]
        },
        {
         "hoverinfo": "text",
         "legendgroup": "qpu_dqbs",
         "marker": {
          "color": "gray",
          "line": {
           "color": "darkred",
           "width": 1
          },
          "size": 25,
          "symbol": "circle"
         },
         "mode": "markers",
         "name": "Data qubits",
         "showlegend": false,
         "text": "42",
         "textposition": "middle center",
         "type": "scatter",
         "x": [
          3
         ],
         "y": [
          9
         ]
        },
        {
         "hoverinfo": "text",
         "legendgroup": "qpu_dqbs",
         "marker": {
          "color": "gray",
          "line": {
           "color": "darkred",
           "width": 1
          },
          "size": 25,
          "symbol": "circle"
         },
         "mode": "markers",
         "name": "Data qubits",
         "showlegend": false,
         "text": "43",
         "textposition": "middle center",
         "type": "scatter",
         "x": [
          4
         ],
         "y": [
          9
         ]
        },
        {
         "hoverinfo": "text",
         "legendgroup": "qpu_dqbs",
         "marker": {
          "color": "gray",
          "line": {
           "color": "darkred",
           "width": 1
          },
          "size": 25,
          "symbol": "circle"
         },
         "mode": "markers",
         "name": "Data qubits",
         "showlegend": false,
         "text": "44",
         "textposition": "middle center",
         "type": "scatter",
         "x": [
          5
         ],
         "y": [
          9
         ]
        },
        {
         "hoverinfo": "text",
         "legendgroup": "qpu_aqbs",
         "marker": {
          "color": "lightgray",
          "line": {
           "color": "darkred",
           "width": 1
          },
          "size": 15,
          "symbol": "circle"
         },
         "mode": "markers",
         "name": "Ancilla qubits",
         "showlegend": true,
         "text": "45",
         "textposition": "middle center",
         "type": "scatter",
         "x": [
          0.5
         ],
         "y": [
          0.5
         ]
        },
        {
         "hoverinfo": "text",
         "legendgroup": "qpu_aqbs",
         "marker": {
          "color": "lightgray",
          "line": {
           "color": "darkred",
           "width": 1
          },
          "size": 15,
          "symbol": "circle"
         },
         "mode": "markers",
         "name": "Ancilla qubits",
         "showlegend": false,
         "text": "46",
         "textposition": "middle center",
         "type": "scatter",
         "x": [
          1.5
         ],
         "y": [
          0.5
         ]
        },
        {
         "hoverinfo": "text",
         "legendgroup": "qpu_aqbs",
         "marker": {
          "color": "lightgray",
          "line": {
           "color": "darkred",
           "width": 1
          },
          "size": 15,
          "symbol": "circle"
         },
         "mode": "markers",
         "name": "Ancilla qubits",
         "showlegend": false,
         "text": "47",
         "textposition": "middle center",
         "type": "scatter",
         "x": [
          2.5
         ],
         "y": [
          0.5
         ]
        },
        {
         "hoverinfo": "text",
         "legendgroup": "qpu_aqbs",
         "marker": {
          "color": "lightgray",
          "line": {
           "color": "darkred",
           "width": 1
          },
          "size": 15,
          "symbol": "circle"
         },
         "mode": "markers",
         "name": "Ancilla qubits",
         "showlegend": false,
         "text": "48",
         "textposition": "middle center",
         "type": "scatter",
         "x": [
          3.5
         ],
         "y": [
          0.5
         ]
        },
        {
         "hoverinfo": "text",
         "legendgroup": "qpu_aqbs",
         "marker": {
          "color": "lightgray",
          "line": {
           "color": "darkred",
           "width": 1
          },
          "size": 15,
          "symbol": "circle"
         },
         "mode": "markers",
         "name": "Ancilla qubits",
         "showlegend": false,
         "text": "49",
         "textposition": "middle center",
         "type": "scatter",
         "x": [
          4.5
         ],
         "y": [
          0.5
         ]
        },
        {
         "hoverinfo": "text",
         "legendgroup": "qpu_aqbs",
         "marker": {
          "color": "lightgray",
          "line": {
           "color": "darkred",
           "width": 1
          },
          "size": 15,
          "symbol": "circle"
         },
         "mode": "markers",
         "name": "Ancilla qubits",
         "showlegend": false,
         "text": "50",
         "textposition": "middle center",
         "type": "scatter",
         "x": [
          5.5
         ],
         "y": [
          0.5
         ]
        },
        {
         "hoverinfo": "text",
         "legendgroup": "qpu_aqbs",
         "marker": {
          "color": "lightgray",
          "line": {
           "color": "darkred",
           "width": 1
          },
          "size": 15,
          "symbol": "circle"
         },
         "mode": "markers",
         "name": "Ancilla qubits",
         "showlegend": false,
         "text": "51",
         "textposition": "middle center",
         "type": "scatter",
         "x": [
          0.5
         ],
         "y": [
          1.5
         ]
        },
        {
         "hoverinfo": "text",
         "legendgroup": "qpu_aqbs",
         "marker": {
          "color": "lightgray",
          "line": {
           "color": "darkred",
           "width": 1
          },
          "size": 15,
          "symbol": "circle"
         },
         "mode": "markers",
         "name": "Ancilla qubits",
         "showlegend": false,
         "text": "52",
         "textposition": "middle center",
         "type": "scatter",
         "x": [
          1.5
         ],
         "y": [
          1.5
         ]
        },
        {
         "hoverinfo": "text",
         "legendgroup": "qpu_aqbs",
         "marker": {
          "color": "lightgray",
          "line": {
           "color": "darkred",
           "width": 1
          },
          "size": 15,
          "symbol": "circle"
         },
         "mode": "markers",
         "name": "Ancilla qubits",
         "showlegend": false,
         "text": "53",
         "textposition": "middle center",
         "type": "scatter",
         "x": [
          2.5
         ],
         "y": [
          1.5
         ]
        },
        {
         "hoverinfo": "text",
         "legendgroup": "qpu_aqbs",
         "marker": {
          "color": "lightgray",
          "line": {
           "color": "darkred",
           "width": 1
          },
          "size": 15,
          "symbol": "circle"
         },
         "mode": "markers",
         "name": "Ancilla qubits",
         "showlegend": false,
         "text": "54",
         "textposition": "middle center",
         "type": "scatter",
         "x": [
          3.5
         ],
         "y": [
          1.5
         ]
        },
        {
         "hoverinfo": "text",
         "legendgroup": "qpu_aqbs",
         "marker": {
          "color": "lightgray",
          "line": {
           "color": "darkred",
           "width": 1
          },
          "size": 15,
          "symbol": "circle"
         },
         "mode": "markers",
         "name": "Ancilla qubits",
         "showlegend": false,
         "text": "55",
         "textposition": "middle center",
         "type": "scatter",
         "x": [
          4.5
         ],
         "y": [
          1.5
         ]
        },
        {
         "hoverinfo": "text",
         "legendgroup": "qpu_aqbs",
         "marker": {
          "color": "lightgray",
          "line": {
           "color": "darkred",
           "width": 1
          },
          "size": 15,
          "symbol": "circle"
         },
         "mode": "markers",
         "name": "Ancilla qubits",
         "showlegend": false,
         "text": "56",
         "textposition": "middle center",
         "type": "scatter",
         "x": [
          5.5
         ],
         "y": [
          1.5
         ]
        },
        {
         "hoverinfo": "text",
         "legendgroup": "qpu_aqbs",
         "marker": {
          "color": "lightgray",
          "line": {
           "color": "darkred",
           "width": 1
          },
          "size": 15,
          "symbol": "circle"
         },
         "mode": "markers",
         "name": "Ancilla qubits",
         "showlegend": false,
         "text": "57",
         "textposition": "middle center",
         "type": "scatter",
         "x": [
          0.5
         ],
         "y": [
          2.5
         ]
        },
        {
         "hoverinfo": "text",
         "legendgroup": "qpu_aqbs",
         "marker": {
          "color": "lightgray",
          "line": {
           "color": "darkred",
           "width": 1
          },
          "size": 15,
          "symbol": "circle"
         },
         "mode": "markers",
         "name": "Ancilla qubits",
         "showlegend": false,
         "text": "58",
         "textposition": "middle center",
         "type": "scatter",
         "x": [
          1.5
         ],
         "y": [
          2.5
         ]
        },
        {
         "hoverinfo": "text",
         "legendgroup": "qpu_aqbs",
         "marker": {
          "color": "lightgray",
          "line": {
           "color": "darkred",
           "width": 1
          },
          "size": 15,
          "symbol": "circle"
         },
         "mode": "markers",
         "name": "Ancilla qubits",
         "showlegend": false,
         "text": "59",
         "textposition": "middle center",
         "type": "scatter",
         "x": [
          2.5
         ],
         "y": [
          2.5
         ]
        },
        {
         "hoverinfo": "text",
         "legendgroup": "qpu_aqbs",
         "marker": {
          "color": "lightgray",
          "line": {
           "color": "darkred",
           "width": 1
          },
          "size": 15,
          "symbol": "circle"
         },
         "mode": "markers",
         "name": "Ancilla qubits",
         "showlegend": false,
         "text": "60",
         "textposition": "middle center",
         "type": "scatter",
         "x": [
          3.5
         ],
         "y": [
          2.5
         ]
        },
        {
         "hoverinfo": "text",
         "legendgroup": "qpu_aqbs",
         "marker": {
          "color": "lightgray",
          "line": {
           "color": "darkred",
           "width": 1
          },
          "size": 15,
          "symbol": "circle"
         },
         "mode": "markers",
         "name": "Ancilla qubits",
         "showlegend": false,
         "text": "61",
         "textposition": "middle center",
         "type": "scatter",
         "x": [
          4.5
         ],
         "y": [
          2.5
         ]
        },
        {
         "hoverinfo": "text",
         "legendgroup": "qpu_aqbs",
         "marker": {
          "color": "lightgray",
          "line": {
           "color": "darkred",
           "width": 1
          },
          "size": 15,
          "symbol": "circle"
         },
         "mode": "markers",
         "name": "Ancilla qubits",
         "showlegend": false,
         "text": "62",
         "textposition": "middle center",
         "type": "scatter",
         "x": [
          5.5
         ],
         "y": [
          2.5
         ]
        },
        {
         "hoverinfo": "text",
         "legendgroup": "qpu_aqbs",
         "marker": {
          "color": "lightgray",
          "line": {
           "color": "darkred",
           "width": 1
          },
          "size": 15,
          "symbol": "circle"
         },
         "mode": "markers",
         "name": "Ancilla qubits",
         "showlegend": false,
         "text": "63",
         "textposition": "middle center",
         "type": "scatter",
         "x": [
          0.5
         ],
         "y": [
          3.5
         ]
        },
        {
         "hoverinfo": "text",
         "legendgroup": "qpu_aqbs",
         "marker": {
          "color": "lightgray",
          "line": {
           "color": "darkred",
           "width": 1
          },
          "size": 15,
          "symbol": "circle"
         },
         "mode": "markers",
         "name": "Ancilla qubits",
         "showlegend": false,
         "text": "64",
         "textposition": "middle center",
         "type": "scatter",
         "x": [
          1.5
         ],
         "y": [
          3.5
         ]
        },
        {
         "hoverinfo": "text",
         "legendgroup": "qpu_aqbs",
         "marker": {
          "color": "lightgray",
          "line": {
           "color": "darkred",
           "width": 1
          },
          "size": 15,
          "symbol": "circle"
         },
         "mode": "markers",
         "name": "Ancilla qubits",
         "showlegend": false,
         "text": "65",
         "textposition": "middle center",
         "type": "scatter",
         "x": [
          2.5
         ],
         "y": [
          3.5
         ]
        },
        {
         "hoverinfo": "text",
         "legendgroup": "qpu_aqbs",
         "marker": {
          "color": "lightgray",
          "line": {
           "color": "darkred",
           "width": 1
          },
          "size": 15,
          "symbol": "circle"
         },
         "mode": "markers",
         "name": "Ancilla qubits",
         "showlegend": false,
         "text": "66",
         "textposition": "middle center",
         "type": "scatter",
         "x": [
          3.5
         ],
         "y": [
          3.5
         ]
        },
        {
         "hoverinfo": "text",
         "legendgroup": "qpu_aqbs",
         "marker": {
          "color": "lightgray",
          "line": {
           "color": "darkred",
           "width": 1
          },
          "size": 15,
          "symbol": "circle"
         },
         "mode": "markers",
         "name": "Ancilla qubits",
         "showlegend": false,
         "text": "67",
         "textposition": "middle center",
         "type": "scatter",
         "x": [
          4.5
         ],
         "y": [
          3.5
         ]
        },
        {
         "hoverinfo": "text",
         "legendgroup": "qpu_aqbs",
         "marker": {
          "color": "lightgray",
          "line": {
           "color": "darkred",
           "width": 1
          },
          "size": 15,
          "symbol": "circle"
         },
         "mode": "markers",
         "name": "Ancilla qubits",
         "showlegend": false,
         "text": "68",
         "textposition": "middle center",
         "type": "scatter",
         "x": [
          5.5
         ],
         "y": [
          3.5
         ]
        },
        {
         "hoverinfo": "text",
         "legendgroup": "qpu_aqbs",
         "marker": {
          "color": "lightgray",
          "line": {
           "color": "darkred",
           "width": 1
          },
          "size": 15,
          "symbol": "circle"
         },
         "mode": "markers",
         "name": "Ancilla qubits",
         "showlegend": false,
         "text": "69",
         "textposition": "middle center",
         "type": "scatter",
         "x": [
          0.5
         ],
         "y": [
          4.5
         ]
        },
        {
         "hoverinfo": "text",
         "legendgroup": "qpu_aqbs",
         "marker": {
          "color": "lightgray",
          "line": {
           "color": "darkred",
           "width": 1
          },
          "size": 15,
          "symbol": "circle"
         },
         "mode": "markers",
         "name": "Ancilla qubits",
         "showlegend": false,
         "text": "70",
         "textposition": "middle center",
         "type": "scatter",
         "x": [
          1.5
         ],
         "y": [
          4.5
         ]
        },
        {
         "hoverinfo": "text",
         "legendgroup": "qpu_aqbs",
         "marker": {
          "color": "lightgray",
          "line": {
           "color": "darkred",
           "width": 1
          },
          "size": 15,
          "symbol": "circle"
         },
         "mode": "markers",
         "name": "Ancilla qubits",
         "showlegend": false,
         "text": "71",
         "textposition": "middle center",
         "type": "scatter",
         "x": [
          2.5
         ],
         "y": [
          4.5
         ]
        },
        {
         "hoverinfo": "text",
         "legendgroup": "qpu_aqbs",
         "marker": {
          "color": "lightgray",
          "line": {
           "color": "darkred",
           "width": 1
          },
          "size": 15,
          "symbol": "circle"
         },
         "mode": "markers",
         "name": "Ancilla qubits",
         "showlegend": false,
         "text": "72",
         "textposition": "middle center",
         "type": "scatter",
         "x": [
          3.5
         ],
         "y": [
          4.5
         ]
        },
        {
         "hoverinfo": "text",
         "legendgroup": "qpu_aqbs",
         "marker": {
          "color": "lightgray",
          "line": {
           "color": "darkred",
           "width": 1
          },
          "size": 15,
          "symbol": "circle"
         },
         "mode": "markers",
         "name": "Ancilla qubits",
         "showlegend": false,
         "text": "73",
         "textposition": "middle center",
         "type": "scatter",
         "x": [
          4.5
         ],
         "y": [
          4.5
         ]
        },
        {
         "hoverinfo": "text",
         "legendgroup": "qpu_aqbs",
         "marker": {
          "color": "lightgray",
          "line": {
           "color": "darkred",
           "width": 1
          },
          "size": 15,
          "symbol": "circle"
         },
         "mode": "markers",
         "name": "Ancilla qubits",
         "showlegend": false,
         "text": "74",
         "textposition": "middle center",
         "type": "scatter",
         "x": [
          5.5
         ],
         "y": [
          4.5
         ]
        },
        {
         "hoverinfo": "text",
         "legendgroup": "qpu_aqbs",
         "marker": {
          "color": "lightgray",
          "line": {
           "color": "darkred",
           "width": 1
          },
          "size": 15,
          "symbol": "circle"
         },
         "mode": "markers",
         "name": "Ancilla qubits",
         "showlegend": false,
         "text": "75",
         "textposition": "middle center",
         "type": "scatter",
         "x": [
          0.5
         ],
         "y": [
          5.5
         ]
        },
        {
         "hoverinfo": "text",
         "legendgroup": "qpu_aqbs",
         "marker": {
          "color": "lightgray",
          "line": {
           "color": "darkred",
           "width": 1
          },
          "size": 15,
          "symbol": "circle"
         },
         "mode": "markers",
         "name": "Ancilla qubits",
         "showlegend": false,
         "text": "76",
         "textposition": "middle center",
         "type": "scatter",
         "x": [
          1.5
         ],
         "y": [
          5.5
         ]
        },
        {
         "hoverinfo": "text",
         "legendgroup": "qpu_aqbs",
         "marker": {
          "color": "lightgray",
          "line": {
           "color": "darkred",
           "width": 1
          },
          "size": 15,
          "symbol": "circle"
         },
         "mode": "markers",
         "name": "Ancilla qubits",
         "showlegend": false,
         "text": "77",
         "textposition": "middle center",
         "type": "scatter",
         "x": [
          2.5
         ],
         "y": [
          5.5
         ]
        },
        {
         "hoverinfo": "text",
         "legendgroup": "qpu_aqbs",
         "marker": {
          "color": "lightgray",
          "line": {
           "color": "darkred",
           "width": 1
          },
          "size": 15,
          "symbol": "circle"
         },
         "mode": "markers",
         "name": "Ancilla qubits",
         "showlegend": false,
         "text": "78",
         "textposition": "middle center",
         "type": "scatter",
         "x": [
          3.5
         ],
         "y": [
          5.5
         ]
        },
        {
         "hoverinfo": "text",
         "legendgroup": "qpu_aqbs",
         "marker": {
          "color": "lightgray",
          "line": {
           "color": "darkred",
           "width": 1
          },
          "size": 15,
          "symbol": "circle"
         },
         "mode": "markers",
         "name": "Ancilla qubits",
         "showlegend": false,
         "text": "79",
         "textposition": "middle center",
         "type": "scatter",
         "x": [
          4.5
         ],
         "y": [
          5.5
         ]
        },
        {
         "hoverinfo": "text",
         "legendgroup": "qpu_aqbs",
         "marker": {
          "color": "lightgray",
          "line": {
           "color": "darkred",
           "width": 1
          },
          "size": 15,
          "symbol": "circle"
         },
         "mode": "markers",
         "name": "Ancilla qubits",
         "showlegend": false,
         "text": "80",
         "textposition": "middle center",
         "type": "scatter",
         "x": [
          5.5
         ],
         "y": [
          5.5
         ]
        },
        {
         "hoverinfo": "text",
         "legendgroup": "qpu_aqbs",
         "marker": {
          "color": "lightgray",
          "line": {
           "color": "darkred",
           "width": 1
          },
          "size": 15,
          "symbol": "circle"
         },
         "mode": "markers",
         "name": "Ancilla qubits",
         "showlegend": false,
         "text": "81",
         "textposition": "middle center",
         "type": "scatter",
         "x": [
          0.5
         ],
         "y": [
          6.5
         ]
        },
        {
         "hoverinfo": "text",
         "legendgroup": "qpu_aqbs",
         "marker": {
          "color": "lightgray",
          "line": {
           "color": "darkred",
           "width": 1
          },
          "size": 15,
          "symbol": "circle"
         },
         "mode": "markers",
         "name": "Ancilla qubits",
         "showlegend": false,
         "text": "82",
         "textposition": "middle center",
         "type": "scatter",
         "x": [
          1.5
         ],
         "y": [
          6.5
         ]
        },
        {
         "hoverinfo": "text",
         "legendgroup": "qpu_aqbs",
         "marker": {
          "color": "lightgray",
          "line": {
           "color": "darkred",
           "width": 1
          },
          "size": 15,
          "symbol": "circle"
         },
         "mode": "markers",
         "name": "Ancilla qubits",
         "showlegend": false,
         "text": "83",
         "textposition": "middle center",
         "type": "scatter",
         "x": [
          2.5
         ],
         "y": [
          6.5
         ]
        },
        {
         "hoverinfo": "text",
         "legendgroup": "qpu_aqbs",
         "marker": {
          "color": "lightgray",
          "line": {
           "color": "darkred",
           "width": 1
          },
          "size": 15,
          "symbol": "circle"
         },
         "mode": "markers",
         "name": "Ancilla qubits",
         "showlegend": false,
         "text": "84",
         "textposition": "middle center",
         "type": "scatter",
         "x": [
          3.5
         ],
         "y": [
          6.5
         ]
        },
        {
         "hoverinfo": "text",
         "legendgroup": "qpu_aqbs",
         "marker": {
          "color": "lightgray",
          "line": {
           "color": "darkred",
           "width": 1
          },
          "size": 15,
          "symbol": "circle"
         },
         "mode": "markers",
         "name": "Ancilla qubits",
         "showlegend": false,
         "text": "85",
         "textposition": "middle center",
         "type": "scatter",
         "x": [
          4.5
         ],
         "y": [
          6.5
         ]
        },
        {
         "hoverinfo": "text",
         "legendgroup": "qpu_aqbs",
         "marker": {
          "color": "lightgray",
          "line": {
           "color": "darkred",
           "width": 1
          },
          "size": 15,
          "symbol": "circle"
         },
         "mode": "markers",
         "name": "Ancilla qubits",
         "showlegend": false,
         "text": "86",
         "textposition": "middle center",
         "type": "scatter",
         "x": [
          5.5
         ],
         "y": [
          6.5
         ]
        },
        {
         "hoverinfo": "text",
         "legendgroup": "qpu_aqbs",
         "marker": {
          "color": "lightgray",
          "line": {
           "color": "darkred",
           "width": 1
          },
          "size": 15,
          "symbol": "circle"
         },
         "mode": "markers",
         "name": "Ancilla qubits",
         "showlegend": false,
         "text": "87",
         "textposition": "middle center",
         "type": "scatter",
         "x": [
          0.5
         ],
         "y": [
          7.5
         ]
        },
        {
         "hoverinfo": "text",
         "legendgroup": "qpu_aqbs",
         "marker": {
          "color": "lightgray",
          "line": {
           "color": "darkred",
           "width": 1
          },
          "size": 15,
          "symbol": "circle"
         },
         "mode": "markers",
         "name": "Ancilla qubits",
         "showlegend": false,
         "text": "88",
         "textposition": "middle center",
         "type": "scatter",
         "x": [
          1.5
         ],
         "y": [
          7.5
         ]
        },
        {
         "hoverinfo": "text",
         "legendgroup": "qpu_aqbs",
         "marker": {
          "color": "lightgray",
          "line": {
           "color": "darkred",
           "width": 1
          },
          "size": 15,
          "symbol": "circle"
         },
         "mode": "markers",
         "name": "Ancilla qubits",
         "showlegend": false,
         "text": "89",
         "textposition": "middle center",
         "type": "scatter",
         "x": [
          2.5
         ],
         "y": [
          7.5
         ]
        },
        {
         "hoverinfo": "text",
         "legendgroup": "qpu_aqbs",
         "marker": {
          "color": "lightgray",
          "line": {
           "color": "darkred",
           "width": 1
          },
          "size": 15,
          "symbol": "circle"
         },
         "mode": "markers",
         "name": "Ancilla qubits",
         "showlegend": false,
         "text": "90",
         "textposition": "middle center",
         "type": "scatter",
         "x": [
          3.5
         ],
         "y": [
          7.5
         ]
        },
        {
         "hoverinfo": "text",
         "legendgroup": "qpu_aqbs",
         "marker": {
          "color": "lightgray",
          "line": {
           "color": "darkred",
           "width": 1
          },
          "size": 15,
          "symbol": "circle"
         },
         "mode": "markers",
         "name": "Ancilla qubits",
         "showlegend": false,
         "text": "91",
         "textposition": "middle center",
         "type": "scatter",
         "x": [
          4.5
         ],
         "y": [
          7.5
         ]
        },
        {
         "hoverinfo": "text",
         "legendgroup": "qpu_aqbs",
         "marker": {
          "color": "lightgray",
          "line": {
           "color": "darkred",
           "width": 1
          },
          "size": 15,
          "symbol": "circle"
         },
         "mode": "markers",
         "name": "Ancilla qubits",
         "showlegend": false,
         "text": "92",
         "textposition": "middle center",
         "type": "scatter",
         "x": [
          5.5
         ],
         "y": [
          7.5
         ]
        },
        {
         "hoverinfo": "text",
         "legendgroup": "qpu_aqbs",
         "marker": {
          "color": "lightgray",
          "line": {
           "color": "darkred",
           "width": 1
          },
          "size": 15,
          "symbol": "circle"
         },
         "mode": "markers",
         "name": "Ancilla qubits",
         "showlegend": false,
         "text": "93",
         "textposition": "middle center",
         "type": "scatter",
         "x": [
          0.5
         ],
         "y": [
          8.5
         ]
        },
        {
         "hoverinfo": "text",
         "legendgroup": "qpu_aqbs",
         "marker": {
          "color": "lightgray",
          "line": {
           "color": "darkred",
           "width": 1
          },
          "size": 15,
          "symbol": "circle"
         },
         "mode": "markers",
         "name": "Ancilla qubits",
         "showlegend": false,
         "text": "94",
         "textposition": "middle center",
         "type": "scatter",
         "x": [
          1.5
         ],
         "y": [
          8.5
         ]
        },
        {
         "hoverinfo": "text",
         "legendgroup": "qpu_aqbs",
         "marker": {
          "color": "lightgray",
          "line": {
           "color": "darkred",
           "width": 1
          },
          "size": 15,
          "symbol": "circle"
         },
         "mode": "markers",
         "name": "Ancilla qubits",
         "showlegend": false,
         "text": "95",
         "textposition": "middle center",
         "type": "scatter",
         "x": [
          2.5
         ],
         "y": [
          8.5
         ]
        },
        {
         "hoverinfo": "text",
         "legendgroup": "qpu_aqbs",
         "marker": {
          "color": "lightgray",
          "line": {
           "color": "darkred",
           "width": 1
          },
          "size": 15,
          "symbol": "circle"
         },
         "mode": "markers",
         "name": "Ancilla qubits",
         "showlegend": false,
         "text": "96",
         "textposition": "middle center",
         "type": "scatter",
         "x": [
          3.5
         ],
         "y": [
          8.5
         ]
        },
        {
         "hoverinfo": "text",
         "legendgroup": "qpu_aqbs",
         "marker": {
          "color": "lightgray",
          "line": {
           "color": "darkred",
           "width": 1
          },
          "size": 15,
          "symbol": "circle"
         },
         "mode": "markers",
         "name": "Ancilla qubits",
         "showlegend": false,
         "text": "97",
         "textposition": "middle center",
         "type": "scatter",
         "x": [
          4.5
         ],
         "y": [
          8.5
         ]
        },
        {
         "hoverinfo": "text",
         "legendgroup": "qpu_aqbs",
         "marker": {
          "color": "lightgray",
          "line": {
           "color": "darkred",
           "width": 1
          },
          "size": 15,
          "symbol": "circle"
         },
         "mode": "markers",
         "name": "Ancilla qubits",
         "showlegend": false,
         "text": "98",
         "textposition": "middle center",
         "type": "scatter",
         "x": [
          5.5
         ],
         "y": [
          8.5
         ]
        },
        {
         "hoverinfo": "text",
         "legendgroup": "qpu_aqbs",
         "marker": {
          "color": "lightgray",
          "line": {
           "color": "darkred",
           "width": 1
          },
          "size": 15,
          "symbol": "circle"
         },
         "mode": "markers",
         "name": "Ancilla qubits",
         "showlegend": false,
         "text": "99",
         "textposition": "middle center",
         "type": "scatter",
         "x": [
          0.5
         ],
         "y": [
          9.5
         ]
        },
        {
         "hoverinfo": "text",
         "legendgroup": "qpu_aqbs",
         "marker": {
          "color": "lightgray",
          "line": {
           "color": "darkred",
           "width": 1
          },
          "size": 15,
          "symbol": "circle"
         },
         "mode": "markers",
         "name": "Ancilla qubits",
         "showlegend": false,
         "text": "100",
         "textposition": "middle center",
         "type": "scatter",
         "x": [
          1.5
         ],
         "y": [
          9.5
         ]
        },
        {
         "hoverinfo": "text",
         "legendgroup": "qpu_aqbs",
         "marker": {
          "color": "lightgray",
          "line": {
           "color": "darkred",
           "width": 1
          },
          "size": 15,
          "symbol": "circle"
         },
         "mode": "markers",
         "name": "Ancilla qubits",
         "showlegend": false,
         "text": "101",
         "textposition": "middle center",
         "type": "scatter",
         "x": [
          2.5
         ],
         "y": [
          9.5
         ]
        },
        {
         "hoverinfo": "text",
         "legendgroup": "qpu_aqbs",
         "marker": {
          "color": "lightgray",
          "line": {
           "color": "darkred",
           "width": 1
          },
          "size": 15,
          "symbol": "circle"
         },
         "mode": "markers",
         "name": "Ancilla qubits",
         "showlegend": false,
         "text": "102",
         "textposition": "middle center",
         "type": "scatter",
         "x": [
          3.5
         ],
         "y": [
          9.5
         ]
        },
        {
         "hoverinfo": "text",
         "legendgroup": "qpu_aqbs",
         "marker": {
          "color": "lightgray",
          "line": {
           "color": "darkred",
           "width": 1
          },
          "size": 15,
          "symbol": "circle"
         },
         "mode": "markers",
         "name": "Ancilla qubits",
         "showlegend": false,
         "text": "103",
         "textposition": "middle center",
         "type": "scatter",
         "x": [
          4.5
         ],
         "y": [
          9.5
         ]
        },
        {
         "hoverinfo": "text",
         "legendgroup": "qpu_aqbs",
         "marker": {
          "color": "lightgray",
          "line": {
           "color": "darkred",
           "width": 1
          },
          "size": 15,
          "symbol": "circle"
         },
         "mode": "markers",
         "name": "Ancilla qubits",
         "showlegend": false,
         "text": "104",
         "textposition": "middle center",
         "type": "scatter",
         "x": [
          5.5
         ],
         "y": [
          9.5
         ]
        },
        {
         "fill": "toself",
         "fillcolor": "#57C95A",
         "hoverinfo": "none",
         "legendgroup": "stabs_Q2",
         "line": {
          "color": "black",
          "width": 2
         },
         "mode": "lines",
         "name": "Q2 stabilizers",
         "showlegend": true,
         "type": "scatter",
         "x": [
          2,
          2,
          3,
          3,
          3
         ],
         "y": [
          1,
          2,
          2,
          1,
          1
         ]
        },
        {
         "fill": "toself",
         "fillcolor": "#57C95A",
         "hoverinfo": "none",
         "legendgroup": "stabs_Q2",
         "line": {
          "color": "black",
          "width": 2
         },
         "mode": "lines",
         "name": "Q2 stabilizers",
         "showlegend": false,
         "type": "scatter",
         "x": [
          1,
          1,
          2,
          2,
          2
         ],
         "y": [
          2,
          3,
          3,
          2,
          2
         ]
        },
        {
         "fill": "toself",
         "fillcolor": "#57C95A",
         "hoverinfo": "none",
         "legendgroup": "stabs_Q2",
         "line": {
          "color": "black",
          "width": 2
         },
         "mode": "lines",
         "name": "Q2 stabilizers",
         "showlegend": false,
         "type": "scatter",
         "x": [
          1,
          1,
          1
         ],
         "y": [
          2,
          1,
          1
         ]
        },
        {
         "fill": "toself",
         "fillcolor": "#57C95A",
         "hoverinfo": "none",
         "legendgroup": "stabs_Q2",
         "line": {
          "color": "black",
          "width": 2
         },
         "mode": "lines",
         "name": "Q2 stabilizers",
         "showlegend": false,
         "type": "scatter",
         "x": [
          3,
          3,
          3
         ],
         "y": [
          3,
          2,
          2
         ]
        },
        {
         "fill": "toself",
         "fillcolor": "#5AAEE6",
         "hoverinfo": "none",
         "legendgroup": "stabs_Q2",
         "line": {
          "color": "black",
          "width": 2
         },
         "mode": "lines",
         "name": "Q2 stabilizers",
         "showlegend": false,
         "type": "scatter",
         "x": [
          1,
          1,
          2,
          2,
          2
         ],
         "y": [
          1,
          2,
          2,
          1,
          1
         ]
        },
        {
         "fill": "toself",
         "fillcolor": "#5AAEE6",
         "hoverinfo": "none",
         "legendgroup": "stabs_Q2",
         "line": {
          "color": "black",
          "width": 2
         },
         "mode": "lines",
         "name": "Q2 stabilizers",
         "showlegend": false,
         "type": "scatter",
         "x": [
          2,
          2,
          3,
          3,
          3
         ],
         "y": [
          2,
          3,
          3,
          2,
          2
         ]
        },
        {
         "fill": "toself",
         "fillcolor": "#5AAEE6",
         "hoverinfo": "none",
         "legendgroup": "stabs_Q2",
         "line": {
          "color": "black",
          "width": 2
         },
         "mode": "lines",
         "name": "Q2 stabilizers",
         "showlegend": false,
         "type": "scatter",
         "x": [
          1,
          2,
          2
         ],
         "y": [
          3,
          3,
          3
         ]
        },
        {
         "fill": "toself",
         "fillcolor": "#5AAEE6",
         "hoverinfo": "none",
         "legendgroup": "stabs_Q2",
         "line": {
          "color": "black",
          "width": 2
         },
         "mode": "lines",
         "name": "Q2 stabilizers",
         "showlegend": false,
         "type": "scatter",
         "x": [
          2,
          3,
          3
         ],
         "y": [
          1,
          1,
          1
         ]
        },
        {
         "hoverinfo": "text",
         "legendgroup": "",
         "marker": {
          "color": "#1f77b4",
          "line": {
           "color": "darkred",
           "width": 1
          },
          "size": 25,
          "symbol": "circle"
         },
         "mode": "markers+text",
         "name": "",
         "showlegend": false,
         "text": "0",
         "textposition": "middle center",
         "type": "scatter",
         "x": [
          1
         ],
         "y": [
          1
         ]
        },
        {
         "hoverinfo": "text",
         "legendgroup": "",
         "marker": {
          "color": "#1f77b4",
          "line": {
           "color": "darkred",
           "width": 1
          },
          "size": 25,
          "symbol": "circle"
         },
         "mode": "markers+text",
         "name": "",
         "showlegend": false,
         "text": "1",
         "textposition": "middle center",
         "type": "scatter",
         "x": [
          2
         ],
         "y": [
          1
         ]
        },
        {
         "hoverinfo": "text",
         "legendgroup": "",
         "marker": {
          "color": "#1f77b4",
          "line": {
           "color": "darkred",
           "width": 1
          },
          "size": 25,
          "symbol": "circle"
         },
         "mode": "markers+text",
         "name": "",
         "showlegend": false,
         "text": "2",
         "textposition": "middle center",
         "type": "scatter",
         "x": [
          3
         ],
         "y": [
          1
         ]
        },
        {
         "hoverinfo": "text",
         "legendgroup": "",
         "marker": {
          "color": "#1f77b4",
          "line": {
           "color": "darkred",
           "width": 1
          },
          "size": 25,
          "symbol": "circle"
         },
         "mode": "markers+text",
         "name": "",
         "showlegend": false,
         "text": "5",
         "textposition": "middle center",
         "type": "scatter",
         "x": [
          1
         ],
         "y": [
          2
         ]
        },
        {
         "hoverinfo": "text",
         "legendgroup": "",
         "marker": {
          "color": "#1f77b4",
          "line": {
           "color": "darkred",
           "width": 1
          },
          "size": 25,
          "symbol": "circle"
         },
         "mode": "markers+text",
         "name": "",
         "showlegend": false,
         "text": "6",
         "textposition": "middle center",
         "type": "scatter",
         "x": [
          2
         ],
         "y": [
          2
         ]
        },
        {
         "hoverinfo": "text",
         "legendgroup": "",
         "marker": {
          "color": "#1f77b4",
          "line": {
           "color": "darkred",
           "width": 1
          },
          "size": 25,
          "symbol": "circle"
         },
         "mode": "markers+text",
         "name": "",
         "showlegend": false,
         "text": "7",
         "textposition": "middle center",
         "type": "scatter",
         "x": [
          3
         ],
         "y": [
          2
         ]
        },
        {
         "hoverinfo": "text",
         "legendgroup": "",
         "marker": {
          "color": "#1f77b4",
          "line": {
           "color": "darkred",
           "width": 1
          },
          "size": 25,
          "symbol": "circle"
         },
         "mode": "markers+text",
         "name": "",
         "showlegend": false,
         "text": "10",
         "textposition": "middle center",
         "type": "scatter",
         "x": [
          1
         ],
         "y": [
          3
         ]
        },
        {
         "hoverinfo": "text",
         "legendgroup": "",
         "marker": {
          "color": "#1f77b4",
          "line": {
           "color": "darkred",
           "width": 1
          },
          "size": 25,
          "symbol": "circle"
         },
         "mode": "markers+text",
         "name": "",
         "showlegend": false,
         "text": "11",
         "textposition": "middle center",
         "type": "scatter",
         "x": [
          2
         ],
         "y": [
          3
         ]
        },
        {
         "hoverinfo": "text",
         "legendgroup": "",
         "marker": {
          "color": "#1f77b4",
          "line": {
           "color": "darkred",
           "width": 1
          },
          "size": 25,
          "symbol": "circle"
         },
         "mode": "markers+text",
         "name": "",
         "showlegend": false,
         "text": "12",
         "textposition": "middle center",
         "type": "scatter",
         "x": [
          3
         ],
         "y": [
          3
         ]
        },
        {
         "hoverinfo": "text",
         "legendgroup": "",
         "marker": {
          "color": "gray",
          "line": {
           "color": "darkred",
           "width": 1
          },
          "size": 25,
          "symbol": "square"
         },
         "mode": "markers+text",
         "name": "",
         "showlegend": false,
         "text": "X<sub>0</sub>",
         "textposition": "middle center",
         "type": "scatter",
         "x": [
          1
         ],
         "y": [
          1
         ]
        },
        {
         "hoverinfo": "text",
         "legendgroup": "",
         "marker": {
          "color": "gray",
          "line": {
           "color": "darkred",
           "width": 1
          },
          "size": 25,
          "symbol": "square"
         },
         "mode": "markers+text",
         "name": "",
         "showlegend": false,
         "text": "X<sub>5</sub>",
         "textposition": "middle center",
         "type": "scatter",
         "x": [
          1
         ],
         "y": [
          2
         ]
        },
        {
         "hoverinfo": "text",
         "legendgroup": "",
         "marker": {
          "color": "gray",
          "line": {
           "color": "darkred",
           "width": 1
          },
          "size": 25,
          "symbol": "square"
         },
         "mode": "markers+text",
         "name": "",
         "showlegend": false,
         "text": "X<sub>10</sub>",
         "textposition": "middle center",
         "type": "scatter",
         "x": [
          1
         ],
         "y": [
          3
         ]
        },
        {
         "hoverinfo": "text",
         "legendgroup": "",
         "marker": {
          "color": "gray",
          "line": {
           "color": "darkred",
           "width": 1
          },
          "size": 25,
          "symbol": "square"
         },
         "mode": "markers+text",
         "name": "",
         "showlegend": false,
         "text": "Z<sub>10</sub>",
         "textposition": "middle center",
         "type": "scatter",
         "x": [
          1
         ],
         "y": [
          3
         ]
        },
        {
         "hoverinfo": "text",
         "legendgroup": "",
         "marker": {
          "color": "gray",
          "line": {
           "color": "darkred",
           "width": 1
          },
          "size": 25,
          "symbol": "square"
         },
         "mode": "markers+text",
         "name": "",
         "showlegend": false,
         "text": "Z<sub>11</sub>",
         "textposition": "middle center",
         "type": "scatter",
         "x": [
          2
         ],
         "y": [
          3
         ]
        },
        {
         "hoverinfo": "text",
         "legendgroup": "",
         "marker": {
          "color": "gray",
          "line": {
           "color": "darkred",
           "width": 1
          },
          "size": 25,
          "symbol": "square"
         },
         "mode": "markers+text",
         "name": "",
         "showlegend": false,
         "text": "Z<sub>12</sub>",
         "textposition": "middle center",
         "type": "scatter",
         "x": [
          3
         ],
         "y": [
          3
         ]
        },
        {
         "fill": "toself",
         "fillcolor": "#57C95A",
         "hoverinfo": "none",
         "legendgroup": "stabs_Q3",
         "line": {
          "color": "black",
          "width": 2
         },
         "mode": "lines",
         "name": "Q3 stabilizers",
         "showlegend": true,
         "type": "scatter",
         "x": [
          2,
          2,
          3,
          3,
          3
         ],
         "y": [
          5,
          6,
          6,
          5,
          5
         ]
        },
        {
         "fill": "toself",
         "fillcolor": "#57C95A",
         "hoverinfo": "none",
         "legendgroup": "stabs_Q3",
         "line": {
          "color": "black",
          "width": 2
         },
         "mode": "lines",
         "name": "Q3 stabilizers",
         "showlegend": false,
         "type": "scatter",
         "x": [
          1,
          1,
          2,
          2,
          2
         ],
         "y": [
          6,
          7,
          7,
          6,
          6
         ]
        },
        {
         "fill": "toself",
         "fillcolor": "#57C95A",
         "hoverinfo": "none",
         "legendgroup": "stabs_Q3",
         "line": {
          "color": "black",
          "width": 2
         },
         "mode": "lines",
         "name": "Q3 stabilizers",
         "showlegend": false,
         "type": "scatter",
         "x": [
          1,
          1,
          1
         ],
         "y": [
          6,
          5,
          5
         ]
        },
        {
         "fill": "toself",
         "fillcolor": "#57C95A",
         "hoverinfo": "none",
         "legendgroup": "stabs_Q3",
         "line": {
          "color": "black",
          "width": 2
         },
         "mode": "lines",
         "name": "Q3 stabilizers",
         "showlegend": false,
         "type": "scatter",
         "x": [
          3,
          3,
          3
         ],
         "y": [
          7,
          6,
          6
         ]
        },
        {
         "fill": "toself",
         "fillcolor": "#5AAEE6",
         "hoverinfo": "none",
         "legendgroup": "stabs_Q3",
         "line": {
          "color": "black",
          "width": 2
         },
         "mode": "lines",
         "name": "Q3 stabilizers",
         "showlegend": false,
         "type": "scatter",
         "x": [
          2,
          3,
          3
         ],
         "y": [
          5,
          5,
          5
         ]
        },
        {
         "fill": "toself",
         "fillcolor": "#5AAEE6",
         "hoverinfo": "none",
         "legendgroup": "stabs_Q3",
         "line": {
          "color": "black",
          "width": 2
         },
         "mode": "lines",
         "name": "Q3 stabilizers",
         "showlegend": false,
         "type": "scatter",
         "x": [
          1,
          1,
          2,
          2,
          2
         ],
         "y": [
          5,
          6,
          6,
          5,
          5
         ]
        },
        {
         "fill": "toself",
         "fillcolor": "#5AAEE6",
         "hoverinfo": "none",
         "legendgroup": "stabs_Q3",
         "line": {
          "color": "black",
          "width": 2
         },
         "mode": "lines",
         "name": "Q3 stabilizers",
         "showlegend": false,
         "type": "scatter",
         "x": [
          2,
          2,
          3,
          3,
          3
         ],
         "y": [
          6,
          7,
          7,
          6,
          6
         ]
        },
        {
         "fill": "toself",
         "fillcolor": "#5AAEE6",
         "hoverinfo": "none",
         "legendgroup": "stabs_Q3",
         "line": {
          "color": "black",
          "width": 2
         },
         "mode": "lines",
         "name": "Q3 stabilizers",
         "showlegend": false,
         "type": "scatter",
         "x": [
          1,
          2,
          2
         ],
         "y": [
          7,
          7,
          7
         ]
        },
        {
         "hoverinfo": "text",
         "legendgroup": "",
         "marker": {
          "color": "#ff7f0e",
          "line": {
           "color": "darkred",
           "width": 1
          },
          "size": 25,
          "symbol": "circle"
         },
         "mode": "markers+text",
         "name": "",
         "showlegend": false,
         "text": "20",
         "textposition": "middle center",
         "type": "scatter",
         "x": [
          1
         ],
         "y": [
          5
         ]
        },
        {
         "hoverinfo": "text",
         "legendgroup": "",
         "marker": {
          "color": "#ff7f0e",
          "line": {
           "color": "darkred",
           "width": 1
          },
          "size": 25,
          "symbol": "circle"
         },
         "mode": "markers+text",
         "name": "",
         "showlegend": false,
         "text": "21",
         "textposition": "middle center",
         "type": "scatter",
         "x": [
          2
         ],
         "y": [
          5
         ]
        },
        {
         "hoverinfo": "text",
         "legendgroup": "",
         "marker": {
          "color": "#ff7f0e",
          "line": {
           "color": "darkred",
           "width": 1
          },
          "size": 25,
          "symbol": "circle"
         },
         "mode": "markers+text",
         "name": "",
         "showlegend": false,
         "text": "22",
         "textposition": "middle center",
         "type": "scatter",
         "x": [
          3
         ],
         "y": [
          5
         ]
        },
        {
         "hoverinfo": "text",
         "legendgroup": "",
         "marker": {
          "color": "#ff7f0e",
          "line": {
           "color": "darkred",
           "width": 1
          },
          "size": 25,
          "symbol": "circle"
         },
         "mode": "markers+text",
         "name": "",
         "showlegend": false,
         "text": "25",
         "textposition": "middle center",
         "type": "scatter",
         "x": [
          1
         ],
         "y": [
          6
         ]
        },
        {
         "hoverinfo": "text",
         "legendgroup": "",
         "marker": {
          "color": "#ff7f0e",
          "line": {
           "color": "darkred",
           "width": 1
          },
          "size": 25,
          "symbol": "circle"
         },
         "mode": "markers+text",
         "name": "",
         "showlegend": false,
         "text": "26",
         "textposition": "middle center",
         "type": "scatter",
         "x": [
          2
         ],
         "y": [
          6
         ]
        },
        {
         "hoverinfo": "text",
         "legendgroup": "",
         "marker": {
          "color": "#ff7f0e",
          "line": {
           "color": "darkred",
           "width": 1
          },
          "size": 25,
          "symbol": "circle"
         },
         "mode": "markers+text",
         "name": "",
         "showlegend": false,
         "text": "27",
         "textposition": "middle center",
         "type": "scatter",
         "x": [
          3
         ],
         "y": [
          6
         ]
        },
        {
         "hoverinfo": "text",
         "legendgroup": "",
         "marker": {
          "color": "#ff7f0e",
          "line": {
           "color": "darkred",
           "width": 1
          },
          "size": 25,
          "symbol": "circle"
         },
         "mode": "markers+text",
         "name": "",
         "showlegend": false,
         "text": "30",
         "textposition": "middle center",
         "type": "scatter",
         "x": [
          1
         ],
         "y": [
          7
         ]
        },
        {
         "hoverinfo": "text",
         "legendgroup": "",
         "marker": {
          "color": "#ff7f0e",
          "line": {
           "color": "darkred",
           "width": 1
          },
          "size": 25,
          "symbol": "circle"
         },
         "mode": "markers+text",
         "name": "",
         "showlegend": false,
         "text": "31",
         "textposition": "middle center",
         "type": "scatter",
         "x": [
          2
         ],
         "y": [
          7
         ]
        },
        {
         "hoverinfo": "text",
         "legendgroup": "",
         "marker": {
          "color": "#ff7f0e",
          "line": {
           "color": "darkred",
           "width": 1
          },
          "size": 25,
          "symbol": "circle"
         },
         "mode": "markers+text",
         "name": "",
         "showlegend": false,
         "text": "32",
         "textposition": "middle center",
         "type": "scatter",
         "x": [
          3
         ],
         "y": [
          7
         ]
        },
        {
         "hoverinfo": "text",
         "legendgroup": "",
         "marker": {
          "color": "gray",
          "line": {
           "color": "darkred",
           "width": 1
          },
          "size": 25,
          "symbol": "square"
         },
         "mode": "markers+text",
         "name": "",
         "showlegend": false,
         "text": "X<sub>20</sub>",
         "textposition": "middle center",
         "type": "scatter",
         "x": [
          1
         ],
         "y": [
          5
         ]
        },
        {
         "hoverinfo": "text",
         "legendgroup": "",
         "marker": {
          "color": "gray",
          "line": {
           "color": "darkred",
           "width": 1
          },
          "size": 25,
          "symbol": "square"
         },
         "mode": "markers+text",
         "name": "",
         "showlegend": false,
         "text": "X<sub>25</sub>",
         "textposition": "middle center",
         "type": "scatter",
         "x": [
          1
         ],
         "y": [
          6
         ]
        },
        {
         "hoverinfo": "text",
         "legendgroup": "",
         "marker": {
          "color": "gray",
          "line": {
           "color": "darkred",
           "width": 1
          },
          "size": 25,
          "symbol": "square"
         },
         "mode": "markers+text",
         "name": "",
         "showlegend": false,
         "text": "X<sub>30</sub>",
         "textposition": "middle center",
         "type": "scatter",
         "x": [
          1
         ],
         "y": [
          7
         ]
        },
        {
         "hoverinfo": "text",
         "legendgroup": "",
         "marker": {
          "color": "gray",
          "line": {
           "color": "darkred",
           "width": 1
          },
          "size": 25,
          "symbol": "square"
         },
         "mode": "markers+text",
         "name": "",
         "showlegend": false,
         "text": "Z<sub>22</sub>",
         "textposition": "middle center",
         "type": "scatter",
         "x": [
          3
         ],
         "y": [
          5
         ]
        },
        {
         "hoverinfo": "text",
         "legendgroup": "",
         "marker": {
          "color": "gray",
          "line": {
           "color": "darkred",
           "width": 1
          },
          "size": 25,
          "symbol": "square"
         },
         "mode": "markers+text",
         "name": "",
         "showlegend": false,
         "text": "Z<sub>21</sub>",
         "textposition": "middle center",
         "type": "scatter",
         "x": [
          2
         ],
         "y": [
          5
         ]
        },
        {
         "hoverinfo": "text",
         "legendgroup": "",
         "marker": {
          "color": "gray",
          "line": {
           "color": "darkred",
           "width": 1
          },
          "size": 25,
          "symbol": "square"
         },
         "mode": "markers+text",
         "name": "",
         "showlegend": false,
         "text": "Z<sub>20</sub>",
         "textposition": "middle center",
         "type": "scatter",
         "x": [
          1
         ],
         "y": [
          5
         ]
        }
       ],
       "layout": {
        "height": 700,
        "showlegend": true,
        "template": {
         "data": {
          "bar": [
           {
            "error_x": {
             "color": "#2a3f5f"
            },
            "error_y": {
             "color": "#2a3f5f"
            },
            "marker": {
             "line": {
              "color": "#E5ECF6",
              "width": 0.5
             },
             "pattern": {
              "fillmode": "overlay",
              "size": 10,
              "solidity": 0.2
             }
            },
            "type": "bar"
           }
          ],
          "barpolar": [
           {
            "marker": {
             "line": {
              "color": "#E5ECF6",
              "width": 0.5
             },
             "pattern": {
              "fillmode": "overlay",
              "size": 10,
              "solidity": 0.2
             }
            },
            "type": "barpolar"
           }
          ],
          "carpet": [
           {
            "aaxis": {
             "endlinecolor": "#2a3f5f",
             "gridcolor": "white",
             "linecolor": "white",
             "minorgridcolor": "white",
             "startlinecolor": "#2a3f5f"
            },
            "baxis": {
             "endlinecolor": "#2a3f5f",
             "gridcolor": "white",
             "linecolor": "white",
             "minorgridcolor": "white",
             "startlinecolor": "#2a3f5f"
            },
            "type": "carpet"
           }
          ],
          "choropleth": [
           {
            "colorbar": {
             "outlinewidth": 0,
             "ticks": ""
            },
            "type": "choropleth"
           }
          ],
          "contour": [
           {
            "colorbar": {
             "outlinewidth": 0,
             "ticks": ""
            },
            "colorscale": [
             [
              0,
              "#0d0887"
             ],
             [
              0.1111111111111111,
              "#46039f"
             ],
             [
              0.2222222222222222,
              "#7201a8"
             ],
             [
              0.3333333333333333,
              "#9c179e"
             ],
             [
              0.4444444444444444,
              "#bd3786"
             ],
             [
              0.5555555555555556,
              "#d8576b"
             ],
             [
              0.6666666666666666,
              "#ed7953"
             ],
             [
              0.7777777777777778,
              "#fb9f3a"
             ],
             [
              0.8888888888888888,
              "#fdca26"
             ],
             [
              1,
              "#f0f921"
             ]
            ],
            "type": "contour"
           }
          ],
          "contourcarpet": [
           {
            "colorbar": {
             "outlinewidth": 0,
             "ticks": ""
            },
            "type": "contourcarpet"
           }
          ],
          "heatmap": [
           {
            "colorbar": {
             "outlinewidth": 0,
             "ticks": ""
            },
            "colorscale": [
             [
              0,
              "#0d0887"
             ],
             [
              0.1111111111111111,
              "#46039f"
             ],
             [
              0.2222222222222222,
              "#7201a8"
             ],
             [
              0.3333333333333333,
              "#9c179e"
             ],
             [
              0.4444444444444444,
              "#bd3786"
             ],
             [
              0.5555555555555556,
              "#d8576b"
             ],
             [
              0.6666666666666666,
              "#ed7953"
             ],
             [
              0.7777777777777778,
              "#fb9f3a"
             ],
             [
              0.8888888888888888,
              "#fdca26"
             ],
             [
              1,
              "#f0f921"
             ]
            ],
            "type": "heatmap"
           }
          ],
          "heatmapgl": [
           {
            "colorbar": {
             "outlinewidth": 0,
             "ticks": ""
            },
            "colorscale": [
             [
              0,
              "#0d0887"
             ],
             [
              0.1111111111111111,
              "#46039f"
             ],
             [
              0.2222222222222222,
              "#7201a8"
             ],
             [
              0.3333333333333333,
              "#9c179e"
             ],
             [
              0.4444444444444444,
              "#bd3786"
             ],
             [
              0.5555555555555556,
              "#d8576b"
             ],
             [
              0.6666666666666666,
              "#ed7953"
             ],
             [
              0.7777777777777778,
              "#fb9f3a"
             ],
             [
              0.8888888888888888,
              "#fdca26"
             ],
             [
              1,
              "#f0f921"
             ]
            ],
            "type": "heatmapgl"
           }
          ],
          "histogram": [
           {
            "marker": {
             "pattern": {
              "fillmode": "overlay",
              "size": 10,
              "solidity": 0.2
             }
            },
            "type": "histogram"
           }
          ],
          "histogram2d": [
           {
            "colorbar": {
             "outlinewidth": 0,
             "ticks": ""
            },
            "colorscale": [
             [
              0,
              "#0d0887"
             ],
             [
              0.1111111111111111,
              "#46039f"
             ],
             [
              0.2222222222222222,
              "#7201a8"
             ],
             [
              0.3333333333333333,
              "#9c179e"
             ],
             [
              0.4444444444444444,
              "#bd3786"
             ],
             [
              0.5555555555555556,
              "#d8576b"
             ],
             [
              0.6666666666666666,
              "#ed7953"
             ],
             [
              0.7777777777777778,
              "#fb9f3a"
             ],
             [
              0.8888888888888888,
              "#fdca26"
             ],
             [
              1,
              "#f0f921"
             ]
            ],
            "type": "histogram2d"
           }
          ],
          "histogram2dcontour": [
           {
            "colorbar": {
             "outlinewidth": 0,
             "ticks": ""
            },
            "colorscale": [
             [
              0,
              "#0d0887"
             ],
             [
              0.1111111111111111,
              "#46039f"
             ],
             [
              0.2222222222222222,
              "#7201a8"
             ],
             [
              0.3333333333333333,
              "#9c179e"
             ],
             [
              0.4444444444444444,
              "#bd3786"
             ],
             [
              0.5555555555555556,
              "#d8576b"
             ],
             [
              0.6666666666666666,
              "#ed7953"
             ],
             [
              0.7777777777777778,
              "#fb9f3a"
             ],
             [
              0.8888888888888888,
              "#fdca26"
             ],
             [
              1,
              "#f0f921"
             ]
            ],
            "type": "histogram2dcontour"
           }
          ],
          "mesh3d": [
           {
            "colorbar": {
             "outlinewidth": 0,
             "ticks": ""
            },
            "type": "mesh3d"
           }
          ],
          "parcoords": [
           {
            "line": {
             "colorbar": {
              "outlinewidth": 0,
              "ticks": ""
             }
            },
            "type": "parcoords"
           }
          ],
          "pie": [
           {
            "automargin": true,
            "type": "pie"
           }
          ],
          "scatter": [
           {
            "fillpattern": {
             "fillmode": "overlay",
             "size": 10,
             "solidity": 0.2
            },
            "type": "scatter"
           }
          ],
          "scatter3d": [
           {
            "line": {
             "colorbar": {
              "outlinewidth": 0,
              "ticks": ""
             }
            },
            "marker": {
             "colorbar": {
              "outlinewidth": 0,
              "ticks": ""
             }
            },
            "type": "scatter3d"
           }
          ],
          "scattercarpet": [
           {
            "marker": {
             "colorbar": {
              "outlinewidth": 0,
              "ticks": ""
             }
            },
            "type": "scattercarpet"
           }
          ],
          "scattergeo": [
           {
            "marker": {
             "colorbar": {
              "outlinewidth": 0,
              "ticks": ""
             }
            },
            "type": "scattergeo"
           }
          ],
          "scattergl": [
           {
            "marker": {
             "colorbar": {
              "outlinewidth": 0,
              "ticks": ""
             }
            },
            "type": "scattergl"
           }
          ],
          "scattermapbox": [
           {
            "marker": {
             "colorbar": {
              "outlinewidth": 0,
              "ticks": ""
             }
            },
            "type": "scattermapbox"
           }
          ],
          "scatterpolar": [
           {
            "marker": {
             "colorbar": {
              "outlinewidth": 0,
              "ticks": ""
             }
            },
            "type": "scatterpolar"
           }
          ],
          "scatterpolargl": [
           {
            "marker": {
             "colorbar": {
              "outlinewidth": 0,
              "ticks": ""
             }
            },
            "type": "scatterpolargl"
           }
          ],
          "scatterternary": [
           {
            "marker": {
             "colorbar": {
              "outlinewidth": 0,
              "ticks": ""
             }
            },
            "type": "scatterternary"
           }
          ],
          "surface": [
           {
            "colorbar": {
             "outlinewidth": 0,
             "ticks": ""
            },
            "colorscale": [
             [
              0,
              "#0d0887"
             ],
             [
              0.1111111111111111,
              "#46039f"
             ],
             [
              0.2222222222222222,
              "#7201a8"
             ],
             [
              0.3333333333333333,
              "#9c179e"
             ],
             [
              0.4444444444444444,
              "#bd3786"
             ],
             [
              0.5555555555555556,
              "#d8576b"
             ],
             [
              0.6666666666666666,
              "#ed7953"
             ],
             [
              0.7777777777777778,
              "#fb9f3a"
             ],
             [
              0.8888888888888888,
              "#fdca26"
             ],
             [
              1,
              "#f0f921"
             ]
            ],
            "type": "surface"
           }
          ],
          "table": [
           {
            "cells": {
             "fill": {
              "color": "#EBF0F8"
             },
             "line": {
              "color": "white"
             }
            },
            "header": {
             "fill": {
              "color": "#C8D4E3"
             },
             "line": {
              "color": "white"
             }
            },
            "type": "table"
           }
          ]
         },
         "layout": {
          "annotationdefaults": {
           "arrowcolor": "#2a3f5f",
           "arrowhead": 0,
           "arrowwidth": 1
          },
          "autotypenumbers": "strict",
          "coloraxis": {
           "colorbar": {
            "outlinewidth": 0,
            "ticks": ""
           }
          },
          "colorscale": {
           "diverging": [
            [
             0,
             "#8e0152"
            ],
            [
             0.1,
             "#c51b7d"
            ],
            [
             0.2,
             "#de77ae"
            ],
            [
             0.3,
             "#f1b6da"
            ],
            [
             0.4,
             "#fde0ef"
            ],
            [
             0.5,
             "#f7f7f7"
            ],
            [
             0.6,
             "#e6f5d0"
            ],
            [
             0.7,
             "#b8e186"
            ],
            [
             0.8,
             "#7fbc41"
            ],
            [
             0.9,
             "#4d9221"
            ],
            [
             1,
             "#276419"
            ]
           ],
           "sequential": [
            [
             0,
             "#0d0887"
            ],
            [
             0.1111111111111111,
             "#46039f"
            ],
            [
             0.2222222222222222,
             "#7201a8"
            ],
            [
             0.3333333333333333,
             "#9c179e"
            ],
            [
             0.4444444444444444,
             "#bd3786"
            ],
            [
             0.5555555555555556,
             "#d8576b"
            ],
            [
             0.6666666666666666,
             "#ed7953"
            ],
            [
             0.7777777777777778,
             "#fb9f3a"
            ],
            [
             0.8888888888888888,
             "#fdca26"
            ],
            [
             1,
             "#f0f921"
            ]
           ],
           "sequentialminus": [
            [
             0,
             "#0d0887"
            ],
            [
             0.1111111111111111,
             "#46039f"
            ],
            [
             0.2222222222222222,
             "#7201a8"
            ],
            [
             0.3333333333333333,
             "#9c179e"
            ],
            [
             0.4444444444444444,
             "#bd3786"
            ],
            [
             0.5555555555555556,
             "#d8576b"
            ],
            [
             0.6666666666666666,
             "#ed7953"
            ],
            [
             0.7777777777777778,
             "#fb9f3a"
            ],
            [
             0.8888888888888888,
             "#fdca26"
            ],
            [
             1,
             "#f0f921"
            ]
           ]
          },
          "colorway": [
           "#636efa",
           "#EF553B",
           "#00cc96",
           "#ab63fa",
           "#FFA15A",
           "#19d3f3",
           "#FF6692",
           "#B6E880",
           "#FF97FF",
           "#FECB52"
          ],
          "font": {
           "color": "#2a3f5f"
          },
          "geo": {
           "bgcolor": "white",
           "lakecolor": "white",
           "landcolor": "#E5ECF6",
           "showlakes": true,
           "showland": true,
           "subunitcolor": "white"
          },
          "hoverlabel": {
           "align": "left"
          },
          "hovermode": "closest",
          "mapbox": {
           "style": "light"
          },
          "paper_bgcolor": "white",
          "plot_bgcolor": "#E5ECF6",
          "polar": {
           "angularaxis": {
            "gridcolor": "white",
            "linecolor": "white",
            "ticks": ""
           },
           "bgcolor": "#E5ECF6",
           "radialaxis": {
            "gridcolor": "white",
            "linecolor": "white",
            "ticks": ""
           }
          },
          "scene": {
           "xaxis": {
            "backgroundcolor": "#E5ECF6",
            "gridcolor": "white",
            "gridwidth": 2,
            "linecolor": "white",
            "showbackground": true,
            "ticks": "",
            "zerolinecolor": "white"
           },
           "yaxis": {
            "backgroundcolor": "#E5ECF6",
            "gridcolor": "white",
            "gridwidth": 2,
            "linecolor": "white",
            "showbackground": true,
            "ticks": "",
            "zerolinecolor": "white"
           },
           "zaxis": {
            "backgroundcolor": "#E5ECF6",
            "gridcolor": "white",
            "gridwidth": 2,
            "linecolor": "white",
            "showbackground": true,
            "ticks": "",
            "zerolinecolor": "white"
           }
          },
          "shapedefaults": {
           "line": {
            "color": "#2a3f5f"
           }
          },
          "ternary": {
           "aaxis": {
            "gridcolor": "white",
            "linecolor": "white",
            "ticks": ""
           },
           "baxis": {
            "gridcolor": "white",
            "linecolor": "white",
            "ticks": ""
           },
           "bgcolor": "#E5ECF6",
           "caxis": {
            "gridcolor": "white",
            "linecolor": "white",
            "ticks": ""
           }
          },
          "title": {
           "x": 0.05
          },
          "xaxis": {
           "automargin": true,
           "gridcolor": "white",
           "linecolor": "white",
           "ticks": "",
           "title": {
            "standoff": 15
           },
           "zerolinecolor": "white",
           "zerolinewidth": 2
          },
          "yaxis": {
           "automargin": true,
           "gridcolor": "white",
           "linecolor": "white",
           "ticks": "",
           "title": {
            "standoff": 15
           },
           "zerolinecolor": "white",
           "zerolinewidth": 2
          }
         }
        },
        "width": 1100,
        "xaxis": {
         "anchor": "y",
         "domain": [
          0,
          1
         ],
         "showgrid": false,
         "visible": false,
         "zeroline": false
        },
        "yaxis": {
         "anchor": "x",
         "autorange": true,
         "domain": [
          0,
          1
         ],
         "scaleanchor": "x",
         "scaleratio": 1,
         "showgrid": false,
         "visible": false
        }
       }
      }
     },
     "metadata": {},
     "output_type": "display_data"
    }
   ],
   "source": [
    "qecplot = QECPlot(circ)\n",
    "qecplot.plot_logical_qubit(\"Q2\")\n",
    "qecplot.plot_logical_qubit(\"Q3\")\n",
    "qecplot.show()"
   ]
  },
  {
   "cell_type": "markdown",
   "metadata": {},
   "source": [
    "Add syndrome extraction circuits. Note that the corresponding function returns a list with uuids. These uuids can be used to access exactly these measurements after the experiment has been performed."
   ]
  },
  {
   "cell_type": "code",
   "execution_count": 6,
   "metadata": {},
   "outputs": [],
   "source": [
    "uuids_Q2 = circ.add_par_def_syndrome_extraction_circuit(\"Q2\")\n",
    "uuids_Q3 = circ.add_par_def_syndrome_extraction_circuit(\"Q3\")"
   ]
  },
  {
   "cell_type": "markdown",
   "metadata": {},
   "source": [
    "Perform logical quantum state tomography:"
   ]
  },
  {
   "cell_type": "code",
   "execution_count": 7,
   "metadata": {},
   "outputs": [
    {
     "name": "stdout",
     "output_type": "stream",
     "text": [
      "<II> = 0.0\n",
      "<IX> = 0.492\n",
      "<IZ> = 1.0\n",
      "<XI> = 0.495\n",
      "<XX> = 0.494\n",
      "<XZ> = 0.504\n",
      "<ZI> = 1.0\n",
      "<ZX> = 0.498\n",
      "<ZZ> = 0.0\n"
     ]
    }
   ],
   "source": [
    "bases = [\"I\", \"X\", \"Z\"]\n",
    "res_dict = qeclib.circ_log_QST_results(circ, num_shots=3000, bases=bases)\n",
    "for basis, exp_val in res_dict.items():\n",
    "    print(f\"<{basis}> = {np.round(exp_val, 3)}\")"
   ]
  },
  {
   "cell_type": "markdown",
   "metadata": {},
   "source": [
    "Plot the expectation values in a 3D bar chart:"
   ]
  },
  {
   "cell_type": "code",
   "execution_count": 8,
   "metadata": {},
   "outputs": [
    {
     "name": "stderr",
     "output_type": "stream",
     "text": [
      "C:\\Users\\jonat\\AppData\\Local\\Temp\\ipykernel_45624\\769122824.py:2: UserWarning:\n",
      "\n",
      "FigureCanvasAgg is non-interactive, and thus cannot be shown\n",
      "\n"
     ]
    },
    {
     "data": {
      "image/png": "[encoded data removed]",
      "text/plain": [
       "<Figure size 1000x600 with 1 Axes>"
      ]
     },
     "metadata": {},
     "output_type": "display_data"
    }
   ],
   "source": [
    "fig = qeclib.plot_log_QST_results(res_dict)\n",
    "fig.show()"
   ]
  },
  {
   "cell_type": "markdown",
   "metadata": {},
   "source": [
    "# Manual measurement in the end\n",
    "For debugging and for understanding how the above code works, it might be useful to not use the `circ_log_QST_results` function but instead measure in just a single basis and analyze the respective simulation results. Essentially, `circ_log_QST_results` performs different experiments with different circuits where the circuits differ in the basis in which the logical qubits are measured in the end. This might obfuscate the underlying logic of the code, so here is the code without the logical QST wrapper:"
   ]
  },
  {
   "cell_type": "code",
   "execution_count": 9,
   "metadata": {},
   "outputs": [],
   "source": [
    "mmt_basis = \"ZZ\" # CHANGE THE MEASUREMENT BASIS HERE\n",
    "\n",
    "circ_manual_meas = copy.deepcopy(circ)\n",
    "if mmt_basis[0] == \"X\":\n",
    "    m_id_Q2 = circ_manual_meas.m_log_x(\"Q2\")\n",
    "elif mmt_basis[0] == \"Z\":\n",
    "    m_id_Q2 = circ_manual_meas.m_log_z(\"Q2\")\n",
    "if mmt_basis[1] == \"X\":\n",
    "    m_id_Q3 = circ_manual_meas.m_log_x(\"Q3\")\n",
    "elif mmt_basis[1] == \"Z\":\n",
    "    m_id_Q3 = circ_manual_meas.m_log_z(\"Q3\")\n",
    "\n",
    "stim_circ = stim.Circuit(circ_manual_meas.convert_to_stim())"
   ]
  },
  {
   "cell_type": "markdown",
   "metadata": {},
   "source": [
    "It might be helpful to have a look at the stim circuit to understand what the experiment is that is performed here:"
   ]
  },
  {
   "cell_type": "code",
   "execution_count": 10,
   "metadata": {},
   "outputs": [
    {
     "data": {
      "image/svg+xml": [
       "<svg viewBox=\"0 0 8416 6816\"  version=\"1.1\" xmlns=\"http://www.w3.org/2000/svg\">\n",
       "<g id=\"qubit_lines\">\n",
       "<path id=\"qubit_line:0\" d=\"M64,64 L8384,64 \" stroke=\"black\"/>\n",
       "<text dominant-baseline=\"central\" text-anchor=\"end\" font-family=\"monospace\" font-size=\"12\" x=\"64\" y=\"64\">q0</text>\n",
       "<path id=\"qubit_line:1\" d=\"M64,128 L8384,128 \" stroke=\"black\"/>\n",
       "<text dominant-baseline=\"central\" text-anchor=\"end\" font-family=\"monospace\" font-size=\"12\" x=\"64\" y=\"128\">q1</text>\n",
       "<path id=\"qubit_line:2\" d=\"M64,192 L8384,192 \" stroke=\"black\"/>\n",
       "<text dominant-baseline=\"central\" text-anchor=\"end\" font-family=\"monospace\" font-size=\"12\" x=\"64\" y=\"192\">q2</text>\n",
       "<path id=\"qubit_line:3\" d=\"M64,256 L8384,256 \" stroke=\"black\"/>\n",
       "<text dominant-baseline=\"central\" text-anchor=\"end\" font-family=\"monospace\" font-size=\"12\" x=\"64\" y=\"256\">q3</text>\n",
       "<path id=\"qubit_line:4\" d=\"M64,320 L8384,320 \" stroke=\"black\"/>\n",
       "<text dominant-baseline=\"central\" text-anchor=\"end\" font-family=\"monospace\" font-size=\"12\" x=\"64\" y=\"320\">q4</text>\n",
       "<path id=\"qubit_line:5\" d=\"M64,384 L8384,384 \" stroke=\"black\"/>\n",
       "<text dominant-baseline=\"central\" text-anchor=\"end\" font-family=\"monospace\" font-size=\"12\" x=\"64\" y=\"384\">q5</text>\n",
       "<path id=\"qubit_line:6\" d=\"M64,448 L8384,448 \" stroke=\"black\"/>\n",
       "<text dominant-baseline=\"central\" text-anchor=\"end\" font-family=\"monospace\" font-size=\"12\" x=\"64\" y=\"448\">q6</text>\n",
       "<path id=\"qubit_line:7\" d=\"M64,512 L8384,512 \" stroke=\"black\"/>\n",
       "<text dominant-baseline=\"central\" text-anchor=\"end\" font-family=\"monospace\" font-size=\"12\" x=\"64\" y=\"512\">q7</text>\n",
       "<path id=\"qubit_line:8\" d=\"M64,576 L8384,576 \" stroke=\"black\"/>\n",
       "<text dominant-baseline=\"central\" text-anchor=\"end\" font-family=\"monospace\" font-size=\"12\" x=\"64\" y=\"576\">q8</text>\n",
       "<path id=\"qubit_line:9\" d=\"M64,640 L8384,640 \" stroke=\"black\"/>\n",
       "<text dominant-baseline=\"central\" text-anchor=\"end\" font-family=\"monospace\" font-size=\"12\" x=\"64\" y=\"640\">q9</text>\n",
       "<path id=\"qubit_line:10\" d=\"M64,704 L8384,704 \" stroke=\"black\"/>\n",
       "<text dominant-baseline=\"central\" text-anchor=\"end\" font-family=\"monospace\" font-size=\"12\" x=\"64\" y=\"704\">q10</text>\n",
       "<path id=\"qubit_line:11\" d=\"M64,768 L8384,768 \" stroke=\"black\"/>\n",
       "<text dominant-baseline=\"central\" text-anchor=\"end\" font-family=\"monospace\" font-size=\"12\" x=\"64\" y=\"768\">q11</text>\n",
       "<path id=\"qubit_line:12\" d=\"M64,832 L8384,832 \" stroke=\"black\"/>\n",
       "<text dominant-baseline=\"central\" text-anchor=\"end\" font-family=\"monospace\" font-size=\"12\" x=\"64\" y=\"832\">q12</text>\n",
       "<path id=\"qubit_line:13\" d=\"M64,896 L8384,896 \" stroke=\"black\"/>\n",
       "<text dominant-baseline=\"central\" text-anchor=\"end\" font-family=\"monospace\" font-size=\"12\" x=\"64\" y=\"896\">q13</text>\n",
       "<path id=\"qubit_line:14\" d=\"M64,960 L8384,960 \" stroke=\"black\"/>\n",
       "<text dominant-baseline=\"central\" text-anchor=\"end\" font-family=\"monospace\" font-size=\"12\" x=\"64\" y=\"960\">q14</text>\n",
       "<path id=\"qubit_line:15\" d=\"M64,1024 L8384,1024 \" stroke=\"black\"/>\n",
       "<text dominant-baseline=\"central\" text-anchor=\"end\" font-family=\"monospace\" font-size=\"12\" x=\"64\" y=\"1024\">q15</text>\n",
       "<path id=\"qubit_line:16\" d=\"M64,1088 L8384,1088 \" stroke=\"black\"/>\n",
       "<text dominant-baseline=\"central\" text-anchor=\"end\" font-family=\"monospace\" font-size=\"12\" x=\"64\" y=\"1088\">q16</text>\n",
       "<path id=\"qubit_line:17\" d=\"M64,1152 L8384,1152 \" stroke=\"black\"/>\n",
       "<text dominant-baseline=\"central\" text-anchor=\"end\" font-family=\"monospace\" font-size=\"12\" x=\"64\" y=\"1152\">q17</text>\n",
       "<path id=\"qubit_line:18\" d=\"M64,1216 L8384,1216 \" stroke=\"black\"/>\n",
       "<text dominant-baseline=\"central\" text-anchor=\"end\" font-family=\"monospace\" font-size=\"12\" x=\"64\" y=\"1216\">q18</text>\n",
       "<path id=\"qubit_line:19\" d=\"M64,1280 L8384,1280 \" stroke=\"black\"/>\n",
       "<text dominant-baseline=\"central\" text-anchor=\"end\" font-family=\"monospace\" font-size=\"12\" x=\"64\" y=\"1280\">q19</text>\n",
       "<path id=\"qubit_line:20\" d=\"M64,1344 L8384,1344 \" stroke=\"black\"/>\n",
       "<text dominant-baseline=\"central\" text-anchor=\"end\" font-family=\"monospace\" font-size=\"12\" x=\"64\" y=\"1344\">q20</text>\n",
       "<path id=\"qubit_line:21\" d=\"M64,1408 L8384,1408 \" stroke=\"black\"/>\n",
       "<text dominant-baseline=\"central\" text-anchor=\"end\" font-family=\"monospace\" font-size=\"12\" x=\"64\" y=\"1408\">q21</text>\n",
       "<path id=\"qubit_line:22\" d=\"M64,1472 L8384,1472 \" stroke=\"black\"/>\n",
       "<text dominant-baseline=\"central\" text-anchor=\"end\" font-family=\"monospace\" font-size=\"12\" x=\"64\" y=\"1472\">q22</text>\n",
       "<path id=\"qubit_line:23\" d=\"M64,1536 L8384,1536 \" stroke=\"black\"/>\n",
       "<text dominant-baseline=\"central\" text-anchor=\"end\" font-family=\"monospace\" font-size=\"12\" x=\"64\" y=\"1536\">q23</text>\n",
       "<path id=\"qubit_line:24\" d=\"M64,1600 L8384,1600 \" stroke=\"black\"/>\n",
       "<text dominant-baseline=\"central\" text-anchor=\"end\" font-family=\"monospace\" font-size=\"12\" x=\"64\" y=\"1600\">q24</text>\n",
       "<path id=\"qubit_line:25\" d=\"M64,1664 L8384,1664 \" stroke=\"black\"/>\n",
       "<text dominant-baseline=\"central\" text-anchor=\"end\" font-family=\"monospace\" font-size=\"12\" x=\"64\" y=\"1664\">q25</text>\n",
       "<path id=\"qubit_line:26\" d=\"M64,1728 L8384,1728 \" stroke=\"black\"/>\n",
       "<text dominant-baseline=\"central\" text-anchor=\"end\" font-family=\"monospace\" font-size=\"12\" x=\"64\" y=\"1728\">q26</text>\n",
       "<path id=\"qubit_line:27\" d=\"M64,1792 L8384,1792 \" stroke=\"black\"/>\n",
       "<text dominant-baseline=\"central\" text-anchor=\"end\" font-family=\"monospace\" font-size=\"12\" x=\"64\" y=\"1792\">q27</text>\n",
       "<path id=\"qubit_line:28\" d=\"M64,1856 L8384,1856 \" stroke=\"black\"/>\n",
       "<text dominant-baseline=\"central\" text-anchor=\"end\" font-family=\"monospace\" font-size=\"12\" x=\"64\" y=\"1856\">q28</text>\n",
       "<path id=\"qubit_line:29\" d=\"M64,1920 L8384,1920 \" stroke=\"black\"/>\n",
       "<text dominant-baseline=\"central\" text-anchor=\"end\" font-family=\"monospace\" font-size=\"12\" x=\"64\" y=\"1920\">q29</text>\n",
       "<path id=\"qubit_line:30\" d=\"M64,1984 L8384,1984 \" stroke=\"black\"/>\n",
       "<text dominant-baseline=\"central\" text-anchor=\"end\" font-family=\"monospace\" font-size=\"12\" x=\"64\" y=\"1984\">q30</text>\n",
       "<path id=\"qubit_line:31\" d=\"M64,2048 L8384,2048 \" stroke=\"black\"/>\n",
       "<text dominant-baseline=\"central\" text-anchor=\"end\" font-family=\"monospace\" font-size=\"12\" x=\"64\" y=\"2048\">q31</text>\n",
       "<path id=\"qubit_line:32\" d=\"M64,2112 L8384,2112 \" stroke=\"black\"/>\n",
       "<text dominant-baseline=\"central\" text-anchor=\"end\" font-family=\"monospace\" font-size=\"12\" x=\"64\" y=\"2112\">q32</text>\n",
       "<path id=\"qubit_line:33\" d=\"M64,2176 L8384,2176 \" stroke=\"black\"/>\n",
       "<text dominant-baseline=\"central\" text-anchor=\"end\" font-family=\"monospace\" font-size=\"12\" x=\"64\" y=\"2176\">q33</text>\n",
       "<path id=\"qubit_line:34\" d=\"M64,2240 L8384,2240 \" stroke=\"black\"/>\n",
       "<text dominant-baseline=\"central\" text-anchor=\"end\" font-family=\"monospace\" font-size=\"12\" x=\"64\" y=\"2240\">q34</text>\n",
       "<path id=\"qubit_line:35\" d=\"M64,2304 L8384,2304 \" stroke=\"black\"/>\n",
       "<text dominant-baseline=\"central\" text-anchor=\"end\" font-family=\"monospace\" font-size=\"12\" x=\"64\" y=\"2304\">q35</text>\n",
       "<path id=\"qubit_line:36\" d=\"M64,2368 L8384,2368 \" stroke=\"black\"/>\n",
       "<text dominant-baseline=\"central\" text-anchor=\"end\" font-family=\"monospace\" font-size=\"12\" x=\"64\" y=\"2368\">q36</text>\n",
       "<path id=\"qubit_line:37\" d=\"M64,2432 L8384,2432 \" stroke=\"black\"/>\n",
       "<text dominant-baseline=\"central\" text-anchor=\"end\" font-family=\"monospace\" font-size=\"12\" x=\"64\" y=\"2432\">q37</text>\n",
       "<path id=\"qubit_line:38\" d=\"M64,2496 L8384,2496 \" stroke=\"black\"/>\n",
       "<text dominant-baseline=\"central\" text-anchor=\"end\" font-family=\"monospace\" font-size=\"12\" x=\"64\" y=\"2496\">q38</text>\n",
       "<path id=\"qubit_line:39\" d=\"M64,2560 L8384,2560 \" stroke=\"black\"/>\n",
       "<text dominant-baseline=\"central\" text-anchor=\"end\" font-family=\"monospace\" font-size=\"12\" x=\"64\" y=\"2560\">q39</text>\n",
       "<path id=\"qubit_line:40\" d=\"M64,2624 L8384,2624 \" stroke=\"black\"/>\n",
       "<text dominant-baseline=\"central\" text-anchor=\"end\" font-family=\"monospace\" font-size=\"12\" x=\"64\" y=\"2624\">q40</text>\n",
       "<path id=\"qubit_line:41\" d=\"M64,2688 L8384,2688 \" stroke=\"black\"/>\n",
       "<text dominant-baseline=\"central\" text-anchor=\"end\" font-family=\"monospace\" font-size=\"12\" x=\"64\" y=\"2688\">q41</text>\n",
       "<path id=\"qubit_line:42\" d=\"M64,2752 L8384,2752 \" stroke=\"black\"/>\n",
       "<text dominant-baseline=\"central\" text-anchor=\"end\" font-family=\"monospace\" font-size=\"12\" x=\"64\" y=\"2752\">q42</text>\n",
       "<path id=\"qubit_line:43\" d=\"M64,2816 L8384,2816 \" stroke=\"black\"/>\n",
       "<text dominant-baseline=\"central\" text-anchor=\"end\" font-family=\"monospace\" font-size=\"12\" x=\"64\" y=\"2816\">q43</text>\n",
       "<path id=\"qubit_line:44\" d=\"M64,2880 L8384,2880 \" stroke=\"black\"/>\n",
       "<text dominant-baseline=\"central\" text-anchor=\"end\" font-family=\"monospace\" font-size=\"12\" x=\"64\" y=\"2880\">q44</text>\n",
       "<path id=\"qubit_line:45\" d=\"M64,2944 L8384,2944 \" stroke=\"black\"/>\n",
       "<text dominant-baseline=\"central\" text-anchor=\"end\" font-family=\"monospace\" font-size=\"12\" x=\"64\" y=\"2944\">q45</text>\n",
       "<path id=\"qubit_line:46\" d=\"M64,3008 L8384,3008 \" stroke=\"black\"/>\n",
       "<text dominant-baseline=\"central\" text-anchor=\"end\" font-family=\"monospace\" font-size=\"12\" x=\"64\" y=\"3008\">q46</text>\n",
       "<path id=\"qubit_line:47\" d=\"M64,3072 L8384,3072 \" stroke=\"black\"/>\n",
       "<text dominant-baseline=\"central\" text-anchor=\"end\" font-family=\"monospace\" font-size=\"12\" x=\"64\" y=\"3072\">q47</text>\n",
       "<path id=\"qubit_line:48\" d=\"M64,3136 L8384,3136 \" stroke=\"black\"/>\n",
       "<text dominant-baseline=\"central\" text-anchor=\"end\" font-family=\"monospace\" font-size=\"12\" x=\"64\" y=\"3136\">q48</text>\n",
       "<path id=\"qubit_line:49\" d=\"M64,3200 L8384,3200 \" stroke=\"black\"/>\n",
       "<text dominant-baseline=\"central\" text-anchor=\"end\" font-family=\"monospace\" font-size=\"12\" x=\"64\" y=\"3200\">q49</text>\n",
       "<path id=\"qubit_line:50\" d=\"M64,3264 L8384,3264 \" stroke=\"black\"/>\n",
       "<text dominant-baseline=\"central\" text-anchor=\"end\" font-family=\"monospace\" font-size=\"12\" x=\"64\" y=\"3264\">q50</text>\n",
       "<path id=\"qubit_line:51\" d=\"M64,3328 L8384,3328 \" stroke=\"black\"/>\n",
       "<text dominant-baseline=\"central\" text-anchor=\"end\" font-family=\"monospace\" font-size=\"12\" x=\"64\" y=\"3328\">q51</text>\n",
       "<path id=\"qubit_line:52\" d=\"M64,3392 L8384,3392 \" stroke=\"black\"/>\n",
       "<text dominant-baseline=\"central\" text-anchor=\"end\" font-family=\"monospace\" font-size=\"12\" x=\"64\" y=\"3392\">q52</text>\n",
       "<path id=\"qubit_line:53\" d=\"M64,3456 L8384,3456 \" stroke=\"black\"/>\n",
       "<text dominant-baseline=\"central\" text-anchor=\"end\" font-family=\"monospace\" font-size=\"12\" x=\"64\" y=\"3456\">q53</text>\n",
       "<path id=\"qubit_line:54\" d=\"M64,3520 L8384,3520 \" stroke=\"black\"/>\n",
       "<text dominant-baseline=\"central\" text-anchor=\"end\" font-family=\"monospace\" font-size=\"12\" x=\"64\" y=\"3520\">q54</text>\n",
       "<path id=\"qubit_line:55\" d=\"M64,3584 L8384,3584 \" stroke=\"black\"/>\n",
       "<text dominant-baseline=\"central\" text-anchor=\"end\" font-family=\"monospace\" font-size=\"12\" x=\"64\" y=\"3584\">q55</text>\n",
       "<path id=\"qubit_line:56\" d=\"M64,3648 L8384,3648 \" stroke=\"black\"/>\n",
       "<text dominant-baseline=\"central\" text-anchor=\"end\" font-family=\"monospace\" font-size=\"12\" x=\"64\" y=\"3648\">q56</text>\n",
       "<path id=\"qubit_line:57\" d=\"M64,3712 L8384,3712 \" stroke=\"black\"/>\n",
       "<text dominant-baseline=\"central\" text-anchor=\"end\" font-family=\"monospace\" font-size=\"12\" x=\"64\" y=\"3712\">q57</text>\n",
       "<path id=\"qubit_line:58\" d=\"M64,3776 L8384,3776 \" stroke=\"black\"/>\n",
       "<text dominant-baseline=\"central\" text-anchor=\"end\" font-family=\"monospace\" font-size=\"12\" x=\"64\" y=\"3776\">q58</text>\n",
       "<path id=\"qubit_line:59\" d=\"M64,3840 L8384,3840 \" stroke=\"black\"/>\n",
       "<text dominant-baseline=\"central\" text-anchor=\"end\" font-family=\"monospace\" font-size=\"12\" x=\"64\" y=\"3840\">q59</text>\n",
       "<path id=\"qubit_line:60\" d=\"M64,3904 L8384,3904 \" stroke=\"black\"/>\n",
       "<text dominant-baseline=\"central\" text-anchor=\"end\" font-family=\"monospace\" font-size=\"12\" x=\"64\" y=\"3904\">q60</text>\n",
       "<path id=\"qubit_line:61\" d=\"M64,3968 L8384,3968 \" stroke=\"black\"/>\n",
       "<text dominant-baseline=\"central\" text-anchor=\"end\" font-family=\"monospace\" font-size=\"12\" x=\"64\" y=\"3968\">q61</text>\n",
       "<path id=\"qubit_line:62\" d=\"M64,4032 L8384,4032 \" stroke=\"black\"/>\n",
       "<text dominant-baseline=\"central\" text-anchor=\"end\" font-family=\"monospace\" font-size=\"12\" x=\"64\" y=\"4032\">q62</text>\n",
       "<path id=\"qubit_line:63\" d=\"M64,4096 L8384,4096 \" stroke=\"black\"/>\n",
       "<text dominant-baseline=\"central\" text-anchor=\"end\" font-family=\"monospace\" font-size=\"12\" x=\"64\" y=\"4096\">q63</text>\n",
       "<path id=\"qubit_line:64\" d=\"M64,4160 L8384,4160 \" stroke=\"black\"/>\n",
       "<text dominant-baseline=\"central\" text-anchor=\"end\" font-family=\"monospace\" font-size=\"12\" x=\"64\" y=\"4160\">q64</text>\n",
       "<path id=\"qubit_line:65\" d=\"M64,4224 L8384,4224 \" stroke=\"black\"/>\n",
       "<text dominant-baseline=\"central\" text-anchor=\"end\" font-family=\"monospace\" font-size=\"12\" x=\"64\" y=\"4224\">q65</text>\n",
       "<path id=\"qubit_line:66\" d=\"M64,4288 L8384,4288 \" stroke=\"black\"/>\n",
       "<text dominant-baseline=\"central\" text-anchor=\"end\" font-family=\"monospace\" font-size=\"12\" x=\"64\" y=\"4288\">q66</text>\n",
       "<path id=\"qubit_line:67\" d=\"M64,4352 L8384,4352 \" stroke=\"black\"/>\n",
       "<text dominant-baseline=\"central\" text-anchor=\"end\" font-family=\"monospace\" font-size=\"12\" x=\"64\" y=\"4352\">q67</text>\n",
       "<path id=\"qubit_line:68\" d=\"M64,4416 L8384,4416 \" stroke=\"black\"/>\n",
       "<text dominant-baseline=\"central\" text-anchor=\"end\" font-family=\"monospace\" font-size=\"12\" x=\"64\" y=\"4416\">q68</text>\n",
       "<path id=\"qubit_line:69\" d=\"M64,4480 L8384,4480 \" stroke=\"black\"/>\n",
       "<text dominant-baseline=\"central\" text-anchor=\"end\" font-family=\"monospace\" font-size=\"12\" x=\"64\" y=\"4480\">q69</text>\n",
       "<path id=\"qubit_line:70\" d=\"M64,4544 L8384,4544 \" stroke=\"black\"/>\n",
       "<text dominant-baseline=\"central\" text-anchor=\"end\" font-family=\"monospace\" font-size=\"12\" x=\"64\" y=\"4544\">q70</text>\n",
       "<path id=\"qubit_line:71\" d=\"M64,4608 L8384,4608 \" stroke=\"black\"/>\n",
       "<text dominant-baseline=\"central\" text-anchor=\"end\" font-family=\"monospace\" font-size=\"12\" x=\"64\" y=\"4608\">q71</text>\n",
       "<path id=\"qubit_line:72\" d=\"M64,4672 L8384,4672 \" stroke=\"black\"/>\n",
       "<text dominant-baseline=\"central\" text-anchor=\"end\" font-family=\"monospace\" font-size=\"12\" x=\"64\" y=\"4672\">q72</text>\n",
       "<path id=\"qubit_line:73\" d=\"M64,4736 L8384,4736 \" stroke=\"black\"/>\n",
       "<text dominant-baseline=\"central\" text-anchor=\"end\" font-family=\"monospace\" font-size=\"12\" x=\"64\" y=\"4736\">q73</text>\n",
       "<path id=\"qubit_line:74\" d=\"M64,4800 L8384,4800 \" stroke=\"black\"/>\n",
       "<text dominant-baseline=\"central\" text-anchor=\"end\" font-family=\"monospace\" font-size=\"12\" x=\"64\" y=\"4800\">q74</text>\n",
       "<path id=\"qubit_line:75\" d=\"M64,4864 L8384,4864 \" stroke=\"black\"/>\n",
       "<text dominant-baseline=\"central\" text-anchor=\"end\" font-family=\"monospace\" font-size=\"12\" x=\"64\" y=\"4864\">q75</text>\n",
       "<path id=\"qubit_line:76\" d=\"M64,4928 L8384,4928 \" stroke=\"black\"/>\n",
       "<text dominant-baseline=\"central\" text-anchor=\"end\" font-family=\"monospace\" font-size=\"12\" x=\"64\" y=\"4928\">q76</text>\n",
       "<path id=\"qubit_line:77\" d=\"M64,4992 L8384,4992 \" stroke=\"black\"/>\n",
       "<text dominant-baseline=\"central\" text-anchor=\"end\" font-family=\"monospace\" font-size=\"12\" x=\"64\" y=\"4992\">q77</text>\n",
       "<path id=\"qubit_line:78\" d=\"M64,5056 L8384,5056 \" stroke=\"black\"/>\n",
       "<text dominant-baseline=\"central\" text-anchor=\"end\" font-family=\"monospace\" font-size=\"12\" x=\"64\" y=\"5056\">q78</text>\n",
       "<path id=\"qubit_line:79\" d=\"M64,5120 L8384,5120 \" stroke=\"black\"/>\n",
       "<text dominant-baseline=\"central\" text-anchor=\"end\" font-family=\"monospace\" font-size=\"12\" x=\"64\" y=\"5120\">q79</text>\n",
       "<path id=\"qubit_line:80\" d=\"M64,5184 L8384,5184 \" stroke=\"black\"/>\n",
       "<text dominant-baseline=\"central\" text-anchor=\"end\" font-family=\"monospace\" font-size=\"12\" x=\"64\" y=\"5184\">q80</text>\n",
       "<path id=\"qubit_line:81\" d=\"M64,5248 L8384,5248 \" stroke=\"black\"/>\n",
       "<text dominant-baseline=\"central\" text-anchor=\"end\" font-family=\"monospace\" font-size=\"12\" x=\"64\" y=\"5248\">q81</text>\n",
       "<path id=\"qubit_line:82\" d=\"M64,5312 L8384,5312 \" stroke=\"black\"/>\n",
       "<text dominant-baseline=\"central\" text-anchor=\"end\" font-family=\"monospace\" font-size=\"12\" x=\"64\" y=\"5312\">q82</text>\n",
       "<path id=\"qubit_line:83\" d=\"M64,5376 L8384,5376 \" stroke=\"black\"/>\n",
       "<text dominant-baseline=\"central\" text-anchor=\"end\" font-family=\"monospace\" font-size=\"12\" x=\"64\" y=\"5376\">q83</text>\n",
       "<path id=\"qubit_line:84\" d=\"M64,5440 L8384,5440 \" stroke=\"black\"/>\n",
       "<text dominant-baseline=\"central\" text-anchor=\"end\" font-family=\"monospace\" font-size=\"12\" x=\"64\" y=\"5440\">q84</text>\n",
       "<path id=\"qubit_line:85\" d=\"M64,5504 L8384,5504 \" stroke=\"black\"/>\n",
       "<text dominant-baseline=\"central\" text-anchor=\"end\" font-family=\"monospace\" font-size=\"12\" x=\"64\" y=\"5504\">q85</text>\n",
       "<path id=\"qubit_line:86\" d=\"M64,5568 L8384,5568 \" stroke=\"black\"/>\n",
       "<text dominant-baseline=\"central\" text-anchor=\"end\" font-family=\"monospace\" font-size=\"12\" x=\"64\" y=\"5568\">q86</text>\n",
       "<path id=\"qubit_line:87\" d=\"M64,5632 L8384,5632 \" stroke=\"black\"/>\n",
       "<text dominant-baseline=\"central\" text-anchor=\"end\" font-family=\"monospace\" font-size=\"12\" x=\"64\" y=\"5632\">q87</text>\n",
       "<path id=\"qubit_line:88\" d=\"M64,5696 L8384,5696 \" stroke=\"black\"/>\n",
       "<text dominant-baseline=\"central\" text-anchor=\"end\" font-family=\"monospace\" font-size=\"12\" x=\"64\" y=\"5696\">q88</text>\n",
       "<path id=\"qubit_line:89\" d=\"M64,5760 L8384,5760 \" stroke=\"black\"/>\n",
       "<text dominant-baseline=\"central\" text-anchor=\"end\" font-family=\"monospace\" font-size=\"12\" x=\"64\" y=\"5760\">q89</text>\n",
       "<path id=\"qubit_line:90\" d=\"M64,5824 L8384,5824 \" stroke=\"black\"/>\n",
       "<text dominant-baseline=\"central\" text-anchor=\"end\" font-family=\"monospace\" font-size=\"12\" x=\"64\" y=\"5824\">q90</text>\n",
       "<path id=\"qubit_line:91\" d=\"M64,5888 L8384,5888 \" stroke=\"black\"/>\n",
       "<text dominant-baseline=\"central\" text-anchor=\"end\" font-family=\"monospace\" font-size=\"12\" x=\"64\" y=\"5888\">q91</text>\n",
       "<path id=\"qubit_line:92\" d=\"M64,5952 L8384,5952 \" stroke=\"black\"/>\n",
       "<text dominant-baseline=\"central\" text-anchor=\"end\" font-family=\"monospace\" font-size=\"12\" x=\"64\" y=\"5952\">q92</text>\n",
       "<path id=\"qubit_line:93\" d=\"M64,6016 L8384,6016 \" stroke=\"black\"/>\n",
       "<text dominant-baseline=\"central\" text-anchor=\"end\" font-family=\"monospace\" font-size=\"12\" x=\"64\" y=\"6016\">q93</text>\n",
       "<path id=\"qubit_line:94\" d=\"M64,6080 L8384,6080 \" stroke=\"black\"/>\n",
       "<text dominant-baseline=\"central\" text-anchor=\"end\" font-family=\"monospace\" font-size=\"12\" x=\"64\" y=\"6080\">q94</text>\n",
       "<path id=\"qubit_line:95\" d=\"M64,6144 L8384,6144 \" stroke=\"black\"/>\n",
       "<text dominant-baseline=\"central\" text-anchor=\"end\" font-family=\"monospace\" font-size=\"12\" x=\"64\" y=\"6144\">q95</text>\n",
       "<path id=\"qubit_line:96\" d=\"M64,6208 L8384,6208 \" stroke=\"black\"/>\n",
       "<text dominant-baseline=\"central\" text-anchor=\"end\" font-family=\"monospace\" font-size=\"12\" x=\"64\" y=\"6208\">q96</text>\n",
       "<path id=\"qubit_line:97\" d=\"M64,6272 L8384,6272 \" stroke=\"black\"/>\n",
       "<text dominant-baseline=\"central\" text-anchor=\"end\" font-family=\"monospace\" font-size=\"12\" x=\"64\" y=\"6272\">q97</text>\n",
       "<path id=\"qubit_line:98\" d=\"M64,6336 L8384,6336 \" stroke=\"black\"/>\n",
       "<text dominant-baseline=\"central\" text-anchor=\"end\" font-family=\"monospace\" font-size=\"12\" x=\"64\" y=\"6336\">q98</text>\n",
       "<path id=\"qubit_line:99\" d=\"M64,6400 L8384,6400 \" stroke=\"black\"/>\n",
       "<text dominant-baseline=\"central\" text-anchor=\"end\" font-family=\"monospace\" font-size=\"12\" x=\"64\" y=\"6400\">q99</text>\n",
       "<path id=\"qubit_line:100\" d=\"M64,6464 L8384,6464 \" stroke=\"black\"/>\n",
       "<text dominant-baseline=\"central\" text-anchor=\"end\" font-family=\"monospace\" font-size=\"12\" x=\"64\" y=\"6464\">q100</text>\n",
       "<path id=\"qubit_line:101\" d=\"M64,6528 L8384,6528 \" stroke=\"black\"/>\n",
       "<text dominant-baseline=\"central\" text-anchor=\"end\" font-family=\"monospace\" font-size=\"12\" x=\"64\" y=\"6528\">q101</text>\n",
       "<path id=\"qubit_line:102\" d=\"M64,6592 L8384,6592 \" stroke=\"black\"/>\n",
       "<text dominant-baseline=\"central\" text-anchor=\"end\" font-family=\"monospace\" font-size=\"12\" x=\"64\" y=\"6592\">q102</text>\n",
       "<path id=\"qubit_line:103\" d=\"M64,6656 L8384,6656 \" stroke=\"black\"/>\n",
       "<text dominant-baseline=\"central\" text-anchor=\"end\" font-family=\"monospace\" font-size=\"12\" x=\"64\" y=\"6656\">q103</text>\n",
       "<path id=\"qubit_line:104\" d=\"M64,6720 L8384,6720 \" stroke=\"black\"/>\n",
       "<text dominant-baseline=\"central\" text-anchor=\"end\" font-family=\"monospace\" font-size=\"12\" x=\"64\" y=\"6720\">q104</text>\n",
       "</g>\n",
       "<rect x=\"80\" y=\"48\" width=\"224\" height=\"32\" stroke=\"black\" fill=\"white\"/>\n",
       "<text dominant-baseline=\"central\" text-anchor=\"middle\" font-family=\"monospace\" font-size=\"16\" x=\"192\" y=\"64\">COORDS(1,1)</text>\n",
       "<rect x=\"80\" y=\"112\" width=\"224\" height=\"32\" stroke=\"black\" fill=\"white\"/>\n",
       "<text dominant-baseline=\"central\" text-anchor=\"middle\" font-family=\"monospace\" font-size=\"16\" x=\"192\" y=\"128\">COORDS(1,2)</text>\n",
       "<rect x=\"80\" y=\"176\" width=\"224\" height=\"32\" stroke=\"black\" fill=\"white\"/>\n",
       "<text dominant-baseline=\"central\" text-anchor=\"middle\" font-family=\"monospace\" font-size=\"16\" x=\"192\" y=\"192\">COORDS(1,3)</text>\n",
       "<rect x=\"80\" y=\"240\" width=\"224\" height=\"32\" stroke=\"black\" fill=\"white\"/>\n",
       "<text dominant-baseline=\"central\" text-anchor=\"middle\" font-family=\"monospace\" font-size=\"16\" x=\"192\" y=\"256\">COORDS(1,4)</text>\n",
       "<rect x=\"80\" y=\"304\" width=\"224\" height=\"32\" stroke=\"black\" fill=\"white\"/>\n",
       "<text dominant-baseline=\"central\" text-anchor=\"middle\" font-family=\"monospace\" font-size=\"16\" x=\"192\" y=\"320\">COORDS(1,5)</text>\n",
       "<rect x=\"80\" y=\"368\" width=\"224\" height=\"32\" stroke=\"black\" fill=\"white\"/>\n",
       "<text dominant-baseline=\"central\" text-anchor=\"middle\" font-family=\"monospace\" font-size=\"16\" x=\"192\" y=\"384\">COORDS(2,1)</text>\n",
       "<rect x=\"80\" y=\"432\" width=\"224\" height=\"32\" stroke=\"black\" fill=\"white\"/>\n",
       "<text dominant-baseline=\"central\" text-anchor=\"middle\" font-family=\"monospace\" font-size=\"16\" x=\"192\" y=\"448\">COORDS(2,2)</text>\n",
       "<rect x=\"80\" y=\"496\" width=\"224\" height=\"32\" stroke=\"black\" fill=\"white\"/>\n",
       "<text dominant-baseline=\"central\" text-anchor=\"middle\" font-family=\"monospace\" font-size=\"16\" x=\"192\" y=\"512\">COORDS(2,3)</text>\n",
       "<rect x=\"80\" y=\"560\" width=\"224\" height=\"32\" stroke=\"black\" fill=\"white\"/>\n",
       "<text dominant-baseline=\"central\" text-anchor=\"middle\" font-family=\"monospace\" font-size=\"16\" x=\"192\" y=\"576\">COORDS(2,4)</text>\n",
       "<rect x=\"80\" y=\"624\" width=\"224\" height=\"32\" stroke=\"black\" fill=\"white\"/>\n",
       "<text dominant-baseline=\"central\" text-anchor=\"middle\" font-family=\"monospace\" font-size=\"16\" x=\"192\" y=\"640\">COORDS(2,5)</text>\n",
       "<rect x=\"80\" y=\"688\" width=\"224\" height=\"32\" stroke=\"black\" fill=\"white\"/>\n",
       "<text dominant-baseline=\"central\" text-anchor=\"middle\" font-family=\"monospace\" font-size=\"16\" x=\"192\" y=\"704\">COORDS(3,1)</text>\n",
       "<rect x=\"80\" y=\"752\" width=\"224\" height=\"32\" stroke=\"black\" fill=\"white\"/>\n",
       "<text dominant-baseline=\"central\" text-anchor=\"middle\" font-family=\"monospace\" font-size=\"16\" x=\"192\" y=\"768\">COORDS(3,2)</text>\n",
       "<rect x=\"80\" y=\"816\" width=\"224\" height=\"32\" stroke=\"black\" fill=\"white\"/>\n",
       "<text dominant-baseline=\"central\" text-anchor=\"middle\" font-family=\"monospace\" font-size=\"16\" x=\"192\" y=\"832\">COORDS(3,3)</text>\n",
       "<rect x=\"80\" y=\"880\" width=\"224\" height=\"32\" stroke=\"black\" fill=\"white\"/>\n",
       "<text dominant-baseline=\"central\" text-anchor=\"middle\" font-family=\"monospace\" font-size=\"16\" x=\"192\" y=\"896\">COORDS(3,4)</text>\n",
       "<rect x=\"80\" y=\"944\" width=\"224\" height=\"32\" stroke=\"black\" fill=\"white\"/>\n",
       "<text dominant-baseline=\"central\" text-anchor=\"middle\" font-family=\"monospace\" font-size=\"16\" x=\"192\" y=\"960\">COORDS(3,5)</text>\n",
       "<rect x=\"80\" y=\"1008\" width=\"224\" height=\"32\" stroke=\"black\" fill=\"white\"/>\n",
       "<text dominant-baseline=\"central\" text-anchor=\"middle\" font-family=\"monospace\" font-size=\"16\" x=\"192\" y=\"1024\">COORDS(4,1)</text>\n",
       "<rect x=\"80\" y=\"1072\" width=\"224\" height=\"32\" stroke=\"black\" fill=\"white\"/>\n",
       "<text dominant-baseline=\"central\" text-anchor=\"middle\" font-family=\"monospace\" font-size=\"16\" x=\"192\" y=\"1088\">COORDS(4,2)</text>\n",
       "<rect x=\"80\" y=\"1136\" width=\"224\" height=\"32\" stroke=\"black\" fill=\"white\"/>\n",
       "<text dominant-baseline=\"central\" text-anchor=\"middle\" font-family=\"monospace\" font-size=\"16\" x=\"192\" y=\"1152\">COORDS(4,3)</text>\n",
       "<rect x=\"80\" y=\"1200\" width=\"224\" height=\"32\" stroke=\"black\" fill=\"white\"/>\n",
       "<text dominant-baseline=\"central\" text-anchor=\"middle\" font-family=\"monospace\" font-size=\"16\" x=\"192\" y=\"1216\">COORDS(4,4)</text>\n",
       "<rect x=\"80\" y=\"1264\" width=\"224\" height=\"32\" stroke=\"black\" fill=\"white\"/>\n",
       "<text dominant-baseline=\"central\" text-anchor=\"middle\" font-family=\"monospace\" font-size=\"16\" x=\"192\" y=\"1280\">COORDS(4,5)</text>\n",
       "<rect x=\"80\" y=\"1328\" width=\"224\" height=\"32\" stroke=\"black\" fill=\"white\"/>\n",
       "<text dominant-baseline=\"central\" text-anchor=\"middle\" font-family=\"monospace\" font-size=\"16\" x=\"192\" y=\"1344\">COORDS(5,1)</text>\n",
       "<rect x=\"80\" y=\"1392\" width=\"224\" height=\"32\" stroke=\"black\" fill=\"white\"/>\n",
       "<text dominant-baseline=\"central\" text-anchor=\"middle\" font-family=\"monospace\" font-size=\"16\" x=\"192\" y=\"1408\">COORDS(5,2)</text>\n",
       "<rect x=\"80\" y=\"1456\" width=\"224\" height=\"32\" stroke=\"black\" fill=\"white\"/>\n",
       "<text dominant-baseline=\"central\" text-anchor=\"middle\" font-family=\"monospace\" font-size=\"16\" x=\"192\" y=\"1472\">COORDS(5,3)</text>\n",
       "<rect x=\"80\" y=\"1520\" width=\"224\" height=\"32\" stroke=\"black\" fill=\"white\"/>\n",
       "<text dominant-baseline=\"central\" text-anchor=\"middle\" font-family=\"monospace\" font-size=\"16\" x=\"192\" y=\"1536\">COORDS(5,4)</text>\n",
       "<rect x=\"80\" y=\"1584\" width=\"224\" height=\"32\" stroke=\"black\" fill=\"white\"/>\n",
       "<text dominant-baseline=\"central\" text-anchor=\"middle\" font-family=\"monospace\" font-size=\"16\" x=\"192\" y=\"1600\">COORDS(5,5)</text>\n",
       "<rect x=\"80\" y=\"1648\" width=\"224\" height=\"32\" stroke=\"black\" fill=\"white\"/>\n",
       "<text dominant-baseline=\"central\" text-anchor=\"middle\" font-family=\"monospace\" font-size=\"16\" x=\"192\" y=\"1664\">COORDS(6,1)</text>\n",
       "<rect x=\"80\" y=\"1712\" width=\"224\" height=\"32\" stroke=\"black\" fill=\"white\"/>\n",
       "<text dominant-baseline=\"central\" text-anchor=\"middle\" font-family=\"monospace\" font-size=\"16\" x=\"192\" y=\"1728\">COORDS(6,2)</text>\n",
       "<rect x=\"80\" y=\"1776\" width=\"224\" height=\"32\" stroke=\"black\" fill=\"white\"/>\n",
       "<text dominant-baseline=\"central\" text-anchor=\"middle\" font-family=\"monospace\" font-size=\"16\" x=\"192\" y=\"1792\">COORDS(6,3)</text>\n",
       "<rect x=\"80\" y=\"1840\" width=\"224\" height=\"32\" stroke=\"black\" fill=\"white\"/>\n",
       "<text dominant-baseline=\"central\" text-anchor=\"middle\" font-family=\"monospace\" font-size=\"16\" x=\"192\" y=\"1856\">COORDS(6,4)</text>\n",
       "<rect x=\"80\" y=\"1904\" width=\"224\" height=\"32\" stroke=\"black\" fill=\"white\"/>\n",
       "<text dominant-baseline=\"central\" text-anchor=\"middle\" font-family=\"monospace\" font-size=\"16\" x=\"192\" y=\"1920\">COORDS(6,5)</text>\n",
       "<rect x=\"80\" y=\"1968\" width=\"224\" height=\"32\" stroke=\"black\" fill=\"white\"/>\n",
       "<text dominant-baseline=\"central\" text-anchor=\"middle\" font-family=\"monospace\" font-size=\"16\" x=\"192\" y=\"1984\">COORDS(7,1)</text>\n",
       "<rect x=\"80\" y=\"2032\" width=\"224\" height=\"32\" stroke=\"black\" fill=\"white\"/>\n",
       "<text dominant-baseline=\"central\" text-anchor=\"middle\" font-family=\"monospace\" font-size=\"16\" x=\"192\" y=\"2048\">COORDS(7,2)</text>\n",
       "<rect x=\"80\" y=\"2096\" width=\"224\" height=\"32\" stroke=\"black\" fill=\"white\"/>\n",
       "<text dominant-baseline=\"central\" text-anchor=\"middle\" font-family=\"monospace\" font-size=\"16\" x=\"192\" y=\"2112\">COORDS(7,3)</text>\n",
       "<rect x=\"80\" y=\"2160\" width=\"224\" height=\"32\" stroke=\"black\" fill=\"white\"/>\n",
       "<text dominant-baseline=\"central\" text-anchor=\"middle\" font-family=\"monospace\" font-size=\"16\" x=\"192\" y=\"2176\">COORDS(7,4)</text>\n",
       "<rect x=\"80\" y=\"2224\" width=\"224\" height=\"32\" stroke=\"black\" fill=\"white\"/>\n",
       "<text dominant-baseline=\"central\" text-anchor=\"middle\" font-family=\"monospace\" font-size=\"16\" x=\"192\" y=\"2240\">COORDS(7,5)</text>\n",
       "<rect x=\"80\" y=\"2288\" width=\"224\" height=\"32\" stroke=\"black\" fill=\"white\"/>\n",
       "<text dominant-baseline=\"central\" text-anchor=\"middle\" font-family=\"monospace\" font-size=\"16\" x=\"192\" y=\"2304\">COORDS(8,1)</text>\n",
       "<rect x=\"80\" y=\"2352\" width=\"224\" height=\"32\" stroke=\"black\" fill=\"white\"/>\n",
       "<text dominant-baseline=\"central\" text-anchor=\"middle\" font-family=\"monospace\" font-size=\"16\" x=\"192\" y=\"2368\">COORDS(8,2)</text>\n",
       "<rect x=\"80\" y=\"2416\" width=\"224\" height=\"32\" stroke=\"black\" fill=\"white\"/>\n",
       "<text dominant-baseline=\"central\" text-anchor=\"middle\" font-family=\"monospace\" font-size=\"16\" x=\"192\" y=\"2432\">COORDS(8,3)</text>\n",
       "<rect x=\"80\" y=\"2480\" width=\"224\" height=\"32\" stroke=\"black\" fill=\"white\"/>\n",
       "<text dominant-baseline=\"central\" text-anchor=\"middle\" font-family=\"monospace\" font-size=\"16\" x=\"192\" y=\"2496\">COORDS(8,4)</text>\n",
       "<rect x=\"80\" y=\"2544\" width=\"224\" height=\"32\" stroke=\"black\" fill=\"white\"/>\n",
       "<text dominant-baseline=\"central\" text-anchor=\"middle\" font-family=\"monospace\" font-size=\"16\" x=\"192\" y=\"2560\">COORDS(8,5)</text>\n",
       "<rect x=\"80\" y=\"2608\" width=\"224\" height=\"32\" stroke=\"black\" fill=\"white\"/>\n",
       "<text dominant-baseline=\"central\" text-anchor=\"middle\" font-family=\"monospace\" font-size=\"16\" x=\"192\" y=\"2624\">COORDS(9,1)</text>\n",
       "<rect x=\"80\" y=\"2672\" width=\"224\" height=\"32\" stroke=\"black\" fill=\"white\"/>\n",
       "<text dominant-baseline=\"central\" text-anchor=\"middle\" font-family=\"monospace\" font-size=\"16\" x=\"192\" y=\"2688\">COORDS(9,2)</text>\n",
       "<rect x=\"80\" y=\"2736\" width=\"224\" height=\"32\" stroke=\"black\" fill=\"white\"/>\n",
       "<text dominant-baseline=\"central\" text-anchor=\"middle\" font-family=\"monospace\" font-size=\"16\" x=\"192\" y=\"2752\">COORDS(9,3)</text>\n",
       "<rect x=\"80\" y=\"2800\" width=\"224\" height=\"32\" stroke=\"black\" fill=\"white\"/>\n",
       "<text dominant-baseline=\"central\" text-anchor=\"middle\" font-family=\"monospace\" font-size=\"16\" x=\"192\" y=\"2816\">COORDS(9,4)</text>\n",
       "<rect x=\"80\" y=\"2864\" width=\"224\" height=\"32\" stroke=\"black\" fill=\"white\"/>\n",
       "<text dominant-baseline=\"central\" text-anchor=\"middle\" font-family=\"monospace\" font-size=\"16\" x=\"192\" y=\"2880\">COORDS(9,5)</text>\n",
       "<rect x=\"80\" y=\"2928\" width=\"224\" height=\"32\" stroke=\"black\" fill=\"white\"/>\n",
       "<text dominant-baseline=\"central\" text-anchor=\"middle\" font-family=\"monospace\" font-size=\"16\" x=\"192\" y=\"2944\">COORDS(0.5,0.5)</text>\n",
       "<rect x=\"80\" y=\"2992\" width=\"224\" height=\"32\" stroke=\"black\" fill=\"white\"/>\n",
       "<text dominant-baseline=\"central\" text-anchor=\"middle\" font-family=\"monospace\" font-size=\"16\" x=\"192\" y=\"3008\">COORDS(0.5,1.5)</text>\n",
       "<rect x=\"80\" y=\"3056\" width=\"224\" height=\"32\" stroke=\"black\" fill=\"white\"/>\n",
       "<text dominant-baseline=\"central\" text-anchor=\"middle\" font-family=\"monospace\" font-size=\"16\" x=\"192\" y=\"3072\">COORDS(0.5,2.5)</text>\n",
       "<rect x=\"80\" y=\"3120\" width=\"224\" height=\"32\" stroke=\"black\" fill=\"white\"/>\n",
       "<text dominant-baseline=\"central\" text-anchor=\"middle\" font-family=\"monospace\" font-size=\"16\" x=\"192\" y=\"3136\">COORDS(0.5,3.5)</text>\n",
       "<rect x=\"80\" y=\"3184\" width=\"224\" height=\"32\" stroke=\"black\" fill=\"white\"/>\n",
       "<text dominant-baseline=\"central\" text-anchor=\"middle\" font-family=\"monospace\" font-size=\"16\" x=\"192\" y=\"3200\">COORDS(0.5,4.5)</text>\n",
       "<rect x=\"80\" y=\"3248\" width=\"224\" height=\"32\" stroke=\"black\" fill=\"white\"/>\n",
       "<text dominant-baseline=\"central\" text-anchor=\"middle\" font-family=\"monospace\" font-size=\"16\" x=\"192\" y=\"3264\">COORDS(0.5,5.5)</text>\n",
       "<rect x=\"80\" y=\"3312\" width=\"224\" height=\"32\" stroke=\"black\" fill=\"white\"/>\n",
       "<text dominant-baseline=\"central\" text-anchor=\"middle\" font-family=\"monospace\" font-size=\"16\" x=\"192\" y=\"3328\">COORDS(1.5,0.5)</text>\n",
       "<rect x=\"80\" y=\"3376\" width=\"224\" height=\"32\" stroke=\"black\" fill=\"white\"/>\n",
       "<text dominant-baseline=\"central\" text-anchor=\"middle\" font-family=\"monospace\" font-size=\"16\" x=\"192\" y=\"3392\">COORDS(1.5,1.5)</text>\n",
       "<rect x=\"80\" y=\"3440\" width=\"224\" height=\"32\" stroke=\"black\" fill=\"white\"/>\n",
       "<text dominant-baseline=\"central\" text-anchor=\"middle\" font-family=\"monospace\" font-size=\"16\" x=\"192\" y=\"3456\">COORDS(1.5,2.5)</text>\n",
       "<rect x=\"80\" y=\"3504\" width=\"224\" height=\"32\" stroke=\"black\" fill=\"white\"/>\n",
       "<text dominant-baseline=\"central\" text-anchor=\"middle\" font-family=\"monospace\" font-size=\"16\" x=\"192\" y=\"3520\">COORDS(1.5,3.5)</text>\n",
       "<rect x=\"80\" y=\"3568\" width=\"224\" height=\"32\" stroke=\"black\" fill=\"white\"/>\n",
       "<text dominant-baseline=\"central\" text-anchor=\"middle\" font-family=\"monospace\" font-size=\"16\" x=\"192\" y=\"3584\">COORDS(1.5,4.5)</text>\n",
       "<rect x=\"80\" y=\"3632\" width=\"224\" height=\"32\" stroke=\"black\" fill=\"white\"/>\n",
       "<text dominant-baseline=\"central\" text-anchor=\"middle\" font-family=\"monospace\" font-size=\"16\" x=\"192\" y=\"3648\">COORDS(1.5,5.5)</text>\n",
       "<rect x=\"80\" y=\"3696\" width=\"224\" height=\"32\" stroke=\"black\" fill=\"white\"/>\n",
       "<text dominant-baseline=\"central\" text-anchor=\"middle\" font-family=\"monospace\" font-size=\"16\" x=\"192\" y=\"3712\">COORDS(2.5,0.5)</text>\n",
       "<rect x=\"80\" y=\"3760\" width=\"224\" height=\"32\" stroke=\"black\" fill=\"white\"/>\n",
       "<text dominant-baseline=\"central\" text-anchor=\"middle\" font-family=\"monospace\" font-size=\"16\" x=\"192\" y=\"3776\">COORDS(2.5,1.5)</text>\n",
       "<rect x=\"80\" y=\"3824\" width=\"224\" height=\"32\" stroke=\"black\" fill=\"white\"/>\n",
       "<text dominant-baseline=\"central\" text-anchor=\"middle\" font-family=\"monospace\" font-size=\"16\" x=\"192\" y=\"3840\">COORDS(2.5,2.5)</text>\n",
       "<rect x=\"80\" y=\"3888\" width=\"224\" height=\"32\" stroke=\"black\" fill=\"white\"/>\n",
       "<text dominant-baseline=\"central\" text-anchor=\"middle\" font-family=\"monospace\" font-size=\"16\" x=\"192\" y=\"3904\">COORDS(2.5,3.5)</text>\n",
       "<rect x=\"80\" y=\"3952\" width=\"224\" height=\"32\" stroke=\"black\" fill=\"white\"/>\n",
       "<text dominant-baseline=\"central\" text-anchor=\"middle\" font-family=\"monospace\" font-size=\"16\" x=\"192\" y=\"3968\">COORDS(2.5,4.5)</text>\n",
       "<rect x=\"80\" y=\"4016\" width=\"224\" height=\"32\" stroke=\"black\" fill=\"white\"/>\n",
       "<text dominant-baseline=\"central\" text-anchor=\"middle\" font-family=\"monospace\" font-size=\"16\" x=\"192\" y=\"4032\">COORDS(2.5,5.5)</text>\n",
       "<rect x=\"80\" y=\"4080\" width=\"224\" height=\"32\" stroke=\"black\" fill=\"white\"/>\n",
       "<text dominant-baseline=\"central\" text-anchor=\"middle\" font-family=\"monospace\" font-size=\"16\" x=\"192\" y=\"4096\">COORDS(3.5,0.5)</text>\n",
       "<rect x=\"80\" y=\"4144\" width=\"224\" height=\"32\" stroke=\"black\" fill=\"white\"/>\n",
       "<text dominant-baseline=\"central\" text-anchor=\"middle\" font-family=\"monospace\" font-size=\"16\" x=\"192\" y=\"4160\">COORDS(3.5,1.5)</text>\n",
       "<rect x=\"80\" y=\"4208\" width=\"224\" height=\"32\" stroke=\"black\" fill=\"white\"/>\n",
       "<text dominant-baseline=\"central\" text-anchor=\"middle\" font-family=\"monospace\" font-size=\"16\" x=\"192\" y=\"4224\">COORDS(3.5,2.5)</text>\n",
       "<rect x=\"80\" y=\"4272\" width=\"224\" height=\"32\" stroke=\"black\" fill=\"white\"/>\n",
       "<text dominant-baseline=\"central\" text-anchor=\"middle\" font-family=\"monospace\" font-size=\"16\" x=\"192\" y=\"4288\">COORDS(3.5,3.5)</text>\n",
       "<rect x=\"80\" y=\"4336\" width=\"224\" height=\"32\" stroke=\"black\" fill=\"white\"/>\n",
       "<text dominant-baseline=\"central\" text-anchor=\"middle\" font-family=\"monospace\" font-size=\"16\" x=\"192\" y=\"4352\">COORDS(3.5,4.5)</text>\n",
       "<rect x=\"80\" y=\"4400\" width=\"224\" height=\"32\" stroke=\"black\" fill=\"white\"/>\n",
       "<text dominant-baseline=\"central\" text-anchor=\"middle\" font-family=\"monospace\" font-size=\"16\" x=\"192\" y=\"4416\">COORDS(3.5,5.5)</text>\n",
       "<rect x=\"80\" y=\"4464\" width=\"224\" height=\"32\" stroke=\"black\" fill=\"white\"/>\n",
       "<text dominant-baseline=\"central\" text-anchor=\"middle\" font-family=\"monospace\" font-size=\"16\" x=\"192\" y=\"4480\">COORDS(4.5,0.5)</text>\n",
       "<rect x=\"80\" y=\"4528\" width=\"224\" height=\"32\" stroke=\"black\" fill=\"white\"/>\n",
       "<text dominant-baseline=\"central\" text-anchor=\"middle\" font-family=\"monospace\" font-size=\"16\" x=\"192\" y=\"4544\">COORDS(4.5,1.5)</text>\n",
       "<rect x=\"80\" y=\"4592\" width=\"224\" height=\"32\" stroke=\"black\" fill=\"white\"/>\n",
       "<text dominant-baseline=\"central\" text-anchor=\"middle\" font-family=\"monospace\" font-size=\"16\" x=\"192\" y=\"4608\">COORDS(4.5,2.5)</text>\n",
       "<rect x=\"80\" y=\"4656\" width=\"224\" height=\"32\" stroke=\"black\" fill=\"white\"/>\n",
       "<text dominant-baseline=\"central\" text-anchor=\"middle\" font-family=\"monospace\" font-size=\"16\" x=\"192\" y=\"4672\">COORDS(4.5,3.5)</text>\n",
       "<rect x=\"80\" y=\"4720\" width=\"224\" height=\"32\" stroke=\"black\" fill=\"white\"/>\n",
       "<text dominant-baseline=\"central\" text-anchor=\"middle\" font-family=\"monospace\" font-size=\"16\" x=\"192\" y=\"4736\">COORDS(4.5,4.5)</text>\n",
       "<rect x=\"80\" y=\"4784\" width=\"224\" height=\"32\" stroke=\"black\" fill=\"white\"/>\n",
       "<text dominant-baseline=\"central\" text-anchor=\"middle\" font-family=\"monospace\" font-size=\"16\" x=\"192\" y=\"4800\">COORDS(4.5,5.5)</text>\n",
       "<rect x=\"80\" y=\"4848\" width=\"224\" height=\"32\" stroke=\"black\" fill=\"white\"/>\n",
       "<text dominant-baseline=\"central\" text-anchor=\"middle\" font-family=\"monospace\" font-size=\"16\" x=\"192\" y=\"4864\">COORDS(5.5,0.5)</text>\n",
       "<rect x=\"80\" y=\"4912\" width=\"224\" height=\"32\" stroke=\"black\" fill=\"white\"/>\n",
       "<text dominant-baseline=\"central\" text-anchor=\"middle\" font-family=\"monospace\" font-size=\"16\" x=\"192\" y=\"4928\">COORDS(5.5,1.5)</text>\n",
       "<rect x=\"80\" y=\"4976\" width=\"224\" height=\"32\" stroke=\"black\" fill=\"white\"/>\n",
       "<text dominant-baseline=\"central\" text-anchor=\"middle\" font-family=\"monospace\" font-size=\"16\" x=\"192\" y=\"4992\">COORDS(5.5,2.5)</text>\n",
       "<rect x=\"80\" y=\"5040\" width=\"224\" height=\"32\" stroke=\"black\" fill=\"white\"/>\n",
       "<text dominant-baseline=\"central\" text-anchor=\"middle\" font-family=\"monospace\" font-size=\"16\" x=\"192\" y=\"5056\">COORDS(5.5,3.5)</text>\n",
       "<rect x=\"80\" y=\"5104\" width=\"224\" height=\"32\" stroke=\"black\" fill=\"white\"/>\n",
       "<text dominant-baseline=\"central\" text-anchor=\"middle\" font-family=\"monospace\" font-size=\"16\" x=\"192\" y=\"5120\">COORDS(5.5,4.5)</text>\n",
       "<rect x=\"80\" y=\"5168\" width=\"224\" height=\"32\" stroke=\"black\" fill=\"white\"/>\n",
       "<text dominant-baseline=\"central\" text-anchor=\"middle\" font-family=\"monospace\" font-size=\"16\" x=\"192\" y=\"5184\">COORDS(5.5,5.5)</text>\n",
       "<rect x=\"80\" y=\"5232\" width=\"224\" height=\"32\" stroke=\"black\" fill=\"white\"/>\n",
       "<text dominant-baseline=\"central\" text-anchor=\"middle\" font-family=\"monospace\" font-size=\"16\" x=\"192\" y=\"5248\">COORDS(6.5,0.5)</text>\n",
       "<rect x=\"80\" y=\"5296\" width=\"224\" height=\"32\" stroke=\"black\" fill=\"white\"/>\n",
       "<text dominant-baseline=\"central\" text-anchor=\"middle\" font-family=\"monospace\" font-size=\"16\" x=\"192\" y=\"5312\">COORDS(6.5,1.5)</text>\n",
       "<rect x=\"80\" y=\"5360\" width=\"224\" height=\"32\" stroke=\"black\" fill=\"white\"/>\n",
       "<text dominant-baseline=\"central\" text-anchor=\"middle\" font-family=\"monospace\" font-size=\"16\" x=\"192\" y=\"5376\">COORDS(6.5,2.5)</text>\n",
       "<rect x=\"80\" y=\"5424\" width=\"224\" height=\"32\" stroke=\"black\" fill=\"white\"/>\n",
       "<text dominant-baseline=\"central\" text-anchor=\"middle\" font-family=\"monospace\" font-size=\"16\" x=\"192\" y=\"5440\">COORDS(6.5,3.5)</text>\n",
       "<rect x=\"80\" y=\"5488\" width=\"224\" height=\"32\" stroke=\"black\" fill=\"white\"/>\n",
       "<text dominant-baseline=\"central\" text-anchor=\"middle\" font-family=\"monospace\" font-size=\"16\" x=\"192\" y=\"5504\">COORDS(6.5,4.5)</text>\n",
       "<rect x=\"80\" y=\"5552\" width=\"224\" height=\"32\" stroke=\"black\" fill=\"white\"/>\n",
       "<text dominant-baseline=\"central\" text-anchor=\"middle\" font-family=\"monospace\" font-size=\"16\" x=\"192\" y=\"5568\">COORDS(6.5,5.5)</text>\n",
       "<rect x=\"80\" y=\"5616\" width=\"224\" height=\"32\" stroke=\"black\" fill=\"white\"/>\n",
       "<text dominant-baseline=\"central\" text-anchor=\"middle\" font-family=\"monospace\" font-size=\"16\" x=\"192\" y=\"5632\">COORDS(7.5,0.5)</text>\n",
       "<rect x=\"80\" y=\"5680\" width=\"224\" height=\"32\" stroke=\"black\" fill=\"white\"/>\n",
       "<text dominant-baseline=\"central\" text-anchor=\"middle\" font-family=\"monospace\" font-size=\"16\" x=\"192\" y=\"5696\">COORDS(7.5,1.5)</text>\n",
       "<rect x=\"80\" y=\"5744\" width=\"224\" height=\"32\" stroke=\"black\" fill=\"white\"/>\n",
       "<text dominant-baseline=\"central\" text-anchor=\"middle\" font-family=\"monospace\" font-size=\"16\" x=\"192\" y=\"5760\">COORDS(7.5,2.5)</text>\n",
       "<rect x=\"80\" y=\"5808\" width=\"224\" height=\"32\" stroke=\"black\" fill=\"white\"/>\n",
       "<text dominant-baseline=\"central\" text-anchor=\"middle\" font-family=\"monospace\" font-size=\"16\" x=\"192\" y=\"5824\">COORDS(7.5,3.5)</text>\n",
       "<rect x=\"80\" y=\"5872\" width=\"224\" height=\"32\" stroke=\"black\" fill=\"white\"/>\n",
       "<text dominant-baseline=\"central\" text-anchor=\"middle\" font-family=\"monospace\" font-size=\"16\" x=\"192\" y=\"5888\">COORDS(7.5,4.5)</text>\n",
       "<rect x=\"80\" y=\"5936\" width=\"224\" height=\"32\" stroke=\"black\" fill=\"white\"/>\n",
       "<text dominant-baseline=\"central\" text-anchor=\"middle\" font-family=\"monospace\" font-size=\"16\" x=\"192\" y=\"5952\">COORDS(7.5,5.5)</text>\n",
       "<rect x=\"80\" y=\"6000\" width=\"224\" height=\"32\" stroke=\"black\" fill=\"white\"/>\n",
       "<text dominant-baseline=\"central\" text-anchor=\"middle\" font-family=\"monospace\" font-size=\"16\" x=\"192\" y=\"6016\">COORDS(8.5,0.5)</text>\n",
       "<rect x=\"80\" y=\"6064\" width=\"224\" height=\"32\" stroke=\"black\" fill=\"white\"/>\n",
       "<text dominant-baseline=\"central\" text-anchor=\"middle\" font-family=\"monospace\" font-size=\"16\" x=\"192\" y=\"6080\">COORDS(8.5,1.5)</text>\n",
       "<rect x=\"80\" y=\"6128\" width=\"224\" height=\"32\" stroke=\"black\" fill=\"white\"/>\n",
       "<text dominant-baseline=\"central\" text-anchor=\"middle\" font-family=\"monospace\" font-size=\"16\" x=\"192\" y=\"6144\">COORDS(8.5,2.5)</text>\n",
       "<rect x=\"80\" y=\"6192\" width=\"224\" height=\"32\" stroke=\"black\" fill=\"white\"/>\n",
       "<text dominant-baseline=\"central\" text-anchor=\"middle\" font-family=\"monospace\" font-size=\"16\" x=\"192\" y=\"6208\">COORDS(8.5,3.5)</text>\n",
       "<rect x=\"80\" y=\"6256\" width=\"224\" height=\"32\" stroke=\"black\" fill=\"white\"/>\n",
       "<text dominant-baseline=\"central\" text-anchor=\"middle\" font-family=\"monospace\" font-size=\"16\" x=\"192\" y=\"6272\">COORDS(8.5,4.5)</text>\n",
       "<rect x=\"80\" y=\"6320\" width=\"224\" height=\"32\" stroke=\"black\" fill=\"white\"/>\n",
       "<text dominant-baseline=\"central\" text-anchor=\"middle\" font-family=\"monospace\" font-size=\"16\" x=\"192\" y=\"6336\">COORDS(8.5,5.5)</text>\n",
       "<rect x=\"80\" y=\"6384\" width=\"224\" height=\"32\" stroke=\"black\" fill=\"white\"/>\n",
       "<text dominant-baseline=\"central\" text-anchor=\"middle\" font-family=\"monospace\" font-size=\"16\" x=\"192\" y=\"6400\">COORDS(9.5,0.5)</text>\n",
       "<rect x=\"80\" y=\"6448\" width=\"224\" height=\"32\" stroke=\"black\" fill=\"white\"/>\n",
       "<text dominant-baseline=\"central\" text-anchor=\"middle\" font-family=\"monospace\" font-size=\"16\" x=\"192\" y=\"6464\">COORDS(9.5,1.5)</text>\n",
       "<rect x=\"80\" y=\"6512\" width=\"224\" height=\"32\" stroke=\"black\" fill=\"white\"/>\n",
       "<text dominant-baseline=\"central\" text-anchor=\"middle\" font-family=\"monospace\" font-size=\"16\" x=\"192\" y=\"6528\">COORDS(9.5,2.5)</text>\n",
       "<rect x=\"80\" y=\"6576\" width=\"224\" height=\"32\" stroke=\"black\" fill=\"white\"/>\n",
       "<text dominant-baseline=\"central\" text-anchor=\"middle\" font-family=\"monospace\" font-size=\"16\" x=\"192\" y=\"6592\">COORDS(9.5,3.5)</text>\n",
       "<rect x=\"80\" y=\"6640\" width=\"224\" height=\"32\" stroke=\"black\" fill=\"white\"/>\n",
       "<text dominant-baseline=\"central\" text-anchor=\"middle\" font-family=\"monospace\" font-size=\"16\" x=\"192\" y=\"6656\">COORDS(9.5,4.5)</text>\n",
       "<rect x=\"80\" y=\"6704\" width=\"224\" height=\"32\" stroke=\"black\" fill=\"white\"/>\n",
       "<text dominant-baseline=\"central\" text-anchor=\"middle\" font-family=\"monospace\" font-size=\"16\" x=\"192\" y=\"6720\">COORDS(9.5,5.5)</text>\n",
       "<rect x=\"336\" y=\"112\" width=\"32\" height=\"32\" stroke=\"black\" fill=\"black\"/>\n",
       "<text dominant-baseline=\"central\" text-anchor=\"middle\" font-family=\"monospace\" font-size=\"30\" x=\"352\" y=\"128\" fill=\"white\">R</text>\n",
       "<rect x=\"336\" y=\"176\" width=\"32\" height=\"32\" stroke=\"black\" fill=\"black\"/>\n",
       "<text dominant-baseline=\"central\" text-anchor=\"middle\" font-family=\"monospace\" font-size=\"30\" x=\"352\" y=\"192\" fill=\"white\">R</text>\n",
       "<rect x=\"336\" y=\"432\" width=\"32\" height=\"32\" stroke=\"black\" fill=\"black\"/>\n",
       "<text dominant-baseline=\"central\" text-anchor=\"middle\" font-family=\"monospace\" font-size=\"30\" x=\"352\" y=\"448\" fill=\"white\">R</text>\n",
       "<rect x=\"336\" y=\"496\" width=\"32\" height=\"32\" stroke=\"black\" fill=\"black\"/>\n",
       "<text dominant-baseline=\"central\" text-anchor=\"middle\" font-family=\"monospace\" font-size=\"30\" x=\"352\" y=\"512\" fill=\"white\">R</text>\n",
       "<rect x=\"336\" y=\"368\" width=\"32\" height=\"32\" stroke=\"black\" fill=\"black\"/>\n",
       "<text dominant-baseline=\"central\" text-anchor=\"middle\" font-family=\"monospace\" font-size=\"30\" x=\"352\" y=\"384\" fill=\"white\">R</text>\n",
       "<rect x=\"336\" y=\"688\" width=\"32\" height=\"32\" stroke=\"black\" fill=\"black\"/>\n",
       "<text dominant-baseline=\"central\" text-anchor=\"middle\" font-family=\"monospace\" font-size=\"30\" x=\"352\" y=\"704\" fill=\"white\">R</text>\n",
       "<rect x=\"336\" y=\"752\" width=\"32\" height=\"32\" stroke=\"black\" fill=\"black\"/>\n",
       "<text dominant-baseline=\"central\" text-anchor=\"middle\" font-family=\"monospace\" font-size=\"30\" x=\"352\" y=\"768\" fill=\"white\">R</text>\n",
       "<rect x=\"336\" y=\"816\" width=\"32\" height=\"32\" stroke=\"black\" fill=\"black\"/>\n",
       "<text dominant-baseline=\"central\" text-anchor=\"middle\" font-family=\"monospace\" font-size=\"30\" x=\"352\" y=\"832\" fill=\"white\">R</text>\n",
       "<rect x=\"336\" y=\"1072\" width=\"32\" height=\"32\" stroke=\"black\" fill=\"black\"/>\n",
       "<text dominant-baseline=\"central\" text-anchor=\"middle\" font-family=\"monospace\" font-size=\"30\" x=\"352\" y=\"1088\" fill=\"white\">R</text>\n",
       "<rect x=\"336\" y=\"1136\" width=\"32\" height=\"32\" stroke=\"black\" fill=\"black\"/>\n",
       "<text dominant-baseline=\"central\" text-anchor=\"middle\" font-family=\"monospace\" font-size=\"30\" x=\"352\" y=\"1152\" fill=\"white\">R</text>\n",
       "<rect x=\"336\" y=\"1008\" width=\"32\" height=\"32\" stroke=\"black\" fill=\"black\"/>\n",
       "<text dominant-baseline=\"central\" text-anchor=\"middle\" font-family=\"monospace\" font-size=\"30\" x=\"352\" y=\"1024\" fill=\"white\">R</text>\n",
       "<rect x=\"336\" y=\"1328\" width=\"32\" height=\"32\" stroke=\"black\" fill=\"black\"/>\n",
       "<text dominant-baseline=\"central\" text-anchor=\"middle\" font-family=\"monospace\" font-size=\"30\" x=\"352\" y=\"1344\" fill=\"white\">R</text>\n",
       "<rect x=\"336\" y=\"1392\" width=\"32\" height=\"32\" stroke=\"black\" fill=\"black\"/>\n",
       "<text dominant-baseline=\"central\" text-anchor=\"middle\" font-family=\"monospace\" font-size=\"30\" x=\"352\" y=\"1408\" fill=\"white\">R</text>\n",
       "<rect x=\"336\" y=\"1456\" width=\"32\" height=\"32\" stroke=\"black\" fill=\"black\"/>\n",
       "<text dominant-baseline=\"central\" text-anchor=\"middle\" font-family=\"monospace\" font-size=\"30\" x=\"352\" y=\"1472\" fill=\"white\">R</text>\n",
       "<rect x=\"336\" y=\"1712\" width=\"32\" height=\"32\" stroke=\"black\" fill=\"black\"/>\n",
       "<text dominant-baseline=\"central\" text-anchor=\"middle\" font-family=\"monospace\" font-size=\"30\" x=\"352\" y=\"1728\" fill=\"white\">R</text>\n",
       "<rect x=\"336\" y=\"1776\" width=\"32\" height=\"32\" stroke=\"black\" fill=\"black\"/>\n",
       "<text dominant-baseline=\"central\" text-anchor=\"middle\" font-family=\"monospace\" font-size=\"30\" x=\"352\" y=\"1792\" fill=\"white\">R</text>\n",
       "<rect x=\"336\" y=\"1648\" width=\"32\" height=\"32\" stroke=\"black\" fill=\"black\"/>\n",
       "<text dominant-baseline=\"central\" text-anchor=\"middle\" font-family=\"monospace\" font-size=\"30\" x=\"352\" y=\"1664\" fill=\"white\">R</text>\n",
       "<rect x=\"336\" y=\"1968\" width=\"32\" height=\"32\" stroke=\"black\" fill=\"black\"/>\n",
       "<text dominant-baseline=\"central\" text-anchor=\"middle\" font-family=\"monospace\" font-size=\"30\" x=\"352\" y=\"1984\" fill=\"white\">R</text>\n",
       "<rect x=\"336\" y=\"2032\" width=\"32\" height=\"32\" stroke=\"black\" fill=\"black\"/>\n",
       "<text dominant-baseline=\"central\" text-anchor=\"middle\" font-family=\"monospace\" font-size=\"30\" x=\"352\" y=\"2048\" fill=\"white\">R</text>\n",
       "<rect x=\"336\" y=\"48\" width=\"32\" height=\"32\" stroke=\"black\" fill=\"black\"/>\n",
       "<text dominant-baseline=\"central\" text-anchor=\"middle\" font-family=\"monospace\" font-size=\"30\" x=\"352\" y=\"64\" fill=\"white\">R</text>\n",
       "<rect x=\"336\" y=\"2096\" width=\"32\" height=\"32\" stroke=\"black\" fill=\"black\"/>\n",
       "<text dominant-baseline=\"central\" text-anchor=\"middle\" font-family=\"monospace\" font-size=\"30\" x=\"352\" y=\"2112\" fill=\"white\">R</text>\n",
       "<rect x=\"400\" y=\"48\" width=\"32\" height=\"32\" stroke=\"black\" fill=\"white\"/>\n",
       "<text dominant-baseline=\"central\" text-anchor=\"middle\" font-family=\"monospace\" font-size=\"30\" x=\"416\" y=\"64\">X</text>\n",
       "<rect x=\"400\" y=\"368\" width=\"32\" height=\"32\" stroke=\"black\" fill=\"white\"/>\n",
       "<text dominant-baseline=\"central\" text-anchor=\"middle\" font-family=\"monospace\" font-size=\"30\" x=\"416\" y=\"384\">X</text>\n",
       "<rect x=\"400\" y=\"688\" width=\"32\" height=\"32\" stroke=\"black\" fill=\"white\"/>\n",
       "<text dominant-baseline=\"central\" text-anchor=\"middle\" font-family=\"monospace\" font-size=\"30\" x=\"416\" y=\"704\">X</text>\n",
       "<rect x=\"400\" y=\"1008\" width=\"32\" height=\"32\" stroke=\"black\" fill=\"white\"/>\n",
       "<text dominant-baseline=\"central\" text-anchor=\"middle\" font-family=\"monospace\" font-size=\"30\" x=\"416\" y=\"1024\">X</text>\n",
       "<rect x=\"400\" y=\"1328\" width=\"32\" height=\"32\" stroke=\"black\" fill=\"white\"/>\n",
       "<text dominant-baseline=\"central\" text-anchor=\"middle\" font-family=\"monospace\" font-size=\"30\" x=\"416\" y=\"1344\">X</text>\n",
       "<rect x=\"400\" y=\"1648\" width=\"32\" height=\"32\" stroke=\"black\" fill=\"white\"/>\n",
       "<text dominant-baseline=\"central\" text-anchor=\"middle\" font-family=\"monospace\" font-size=\"30\" x=\"416\" y=\"1664\">X</text>\n",
       "<rect x=\"400\" y=\"1968\" width=\"32\" height=\"32\" stroke=\"black\" fill=\"white\"/>\n",
       "<text dominant-baseline=\"central\" text-anchor=\"middle\" font-family=\"monospace\" font-size=\"30\" x=\"416\" y=\"1984\">X</text>\n",
       "<path d=\"M68,40 L68,32 L444,32 L444,40 \" stroke=\"black\" fill=\"none\"/>\n",
       "<path d=\"M68,6776 L68,6784 L444,6784 L444,6776 \" stroke=\"black\" fill=\"none\"/>\n",
       "<rect x=\"528\" y=\"2928\" width=\"32\" height=\"32\" stroke=\"black\" fill=\"white\"/>\n",
       "<text dominant-baseline=\"central\" text-anchor=\"middle\" font-family=\"monospace\" font-size=\"30\" x=\"544\" y=\"2944\">H</text>\n",
       "<rect x=\"528\" y=\"2992\" width=\"32\" height=\"32\" stroke=\"black\" fill=\"white\"/>\n",
       "<text dominant-baseline=\"central\" text-anchor=\"middle\" font-family=\"monospace\" font-size=\"30\" x=\"544\" y=\"3008\">H</text>\n",
       "<rect x=\"528\" y=\"3056\" width=\"32\" height=\"32\" stroke=\"black\" fill=\"white\"/>\n",
       "<text dominant-baseline=\"central\" text-anchor=\"middle\" font-family=\"monospace\" font-size=\"30\" x=\"544\" y=\"3072\">H</text>\n",
       "<rect x=\"528\" y=\"3120\" width=\"32\" height=\"32\" stroke=\"black\" fill=\"white\"/>\n",
       "<text dominant-baseline=\"central\" text-anchor=\"middle\" font-family=\"monospace\" font-size=\"30\" x=\"544\" y=\"3136\">H</text>\n",
       "<rect x=\"528\" y=\"3312\" width=\"32\" height=\"32\" stroke=\"black\" fill=\"white\"/>\n",
       "<text dominant-baseline=\"central\" text-anchor=\"middle\" font-family=\"monospace\" font-size=\"30\" x=\"544\" y=\"3328\">H</text>\n",
       "<rect x=\"528\" y=\"3376\" width=\"32\" height=\"32\" stroke=\"black\" fill=\"white\"/>\n",
       "<text dominant-baseline=\"central\" text-anchor=\"middle\" font-family=\"monospace\" font-size=\"30\" x=\"544\" y=\"3392\">H</text>\n",
       "<rect x=\"528\" y=\"3440\" width=\"32\" height=\"32\" stroke=\"black\" fill=\"white\"/>\n",
       "<text dominant-baseline=\"central\" text-anchor=\"middle\" font-family=\"monospace\" font-size=\"30\" x=\"544\" y=\"3456\">H</text>\n",
       "<rect x=\"528\" y=\"3504\" width=\"32\" height=\"32\" stroke=\"black\" fill=\"white\"/>\n",
       "<text dominant-baseline=\"central\" text-anchor=\"middle\" font-family=\"monospace\" font-size=\"30\" x=\"544\" y=\"3520\">H</text>\n",
       "<rect x=\"528\" y=\"3696\" width=\"32\" height=\"32\" stroke=\"black\" fill=\"white\"/>\n",
       "<text dominant-baseline=\"central\" text-anchor=\"middle\" font-family=\"monospace\" font-size=\"30\" x=\"544\" y=\"3712\">H</text>\n",
       "<rect x=\"528\" y=\"3760\" width=\"32\" height=\"32\" stroke=\"black\" fill=\"white\"/>\n",
       "<text dominant-baseline=\"central\" text-anchor=\"middle\" font-family=\"monospace\" font-size=\"30\" x=\"544\" y=\"3776\">H</text>\n",
       "<rect x=\"528\" y=\"3824\" width=\"32\" height=\"32\" stroke=\"black\" fill=\"white\"/>\n",
       "<text dominant-baseline=\"central\" text-anchor=\"middle\" font-family=\"monospace\" font-size=\"30\" x=\"544\" y=\"3840\">H</text>\n",
       "<rect x=\"528\" y=\"3888\" width=\"32\" height=\"32\" stroke=\"black\" fill=\"white\"/>\n",
       "<text dominant-baseline=\"central\" text-anchor=\"middle\" font-family=\"monospace\" font-size=\"30\" x=\"544\" y=\"3904\">H</text>\n",
       "<rect x=\"528\" y=\"4080\" width=\"32\" height=\"32\" stroke=\"black\" fill=\"white\"/>\n",
       "<text dominant-baseline=\"central\" text-anchor=\"middle\" font-family=\"monospace\" font-size=\"30\" x=\"544\" y=\"4096\">H</text>\n",
       "<rect x=\"528\" y=\"4144\" width=\"32\" height=\"32\" stroke=\"black\" fill=\"white\"/>\n",
       "<text dominant-baseline=\"central\" text-anchor=\"middle\" font-family=\"monospace\" font-size=\"30\" x=\"544\" y=\"4160\">H</text>\n",
       "<rect x=\"528\" y=\"4208\" width=\"32\" height=\"32\" stroke=\"black\" fill=\"white\"/>\n",
       "<text dominant-baseline=\"central\" text-anchor=\"middle\" font-family=\"monospace\" font-size=\"30\" x=\"544\" y=\"4224\">H</text>\n",
       "<rect x=\"528\" y=\"4272\" width=\"32\" height=\"32\" stroke=\"black\" fill=\"white\"/>\n",
       "<text dominant-baseline=\"central\" text-anchor=\"middle\" font-family=\"monospace\" font-size=\"30\" x=\"544\" y=\"4288\">H</text>\n",
       "<rect x=\"528\" y=\"4464\" width=\"32\" height=\"32\" stroke=\"black\" fill=\"white\"/>\n",
       "<text dominant-baseline=\"central\" text-anchor=\"middle\" font-family=\"monospace\" font-size=\"30\" x=\"544\" y=\"4480\">H</text>\n",
       "<rect x=\"528\" y=\"4528\" width=\"32\" height=\"32\" stroke=\"black\" fill=\"white\"/>\n",
       "<text dominant-baseline=\"central\" text-anchor=\"middle\" font-family=\"monospace\" font-size=\"30\" x=\"544\" y=\"4544\">H</text>\n",
       "<rect x=\"528\" y=\"4592\" width=\"32\" height=\"32\" stroke=\"black\" fill=\"white\"/>\n",
       "<text dominant-baseline=\"central\" text-anchor=\"middle\" font-family=\"monospace\" font-size=\"30\" x=\"544\" y=\"4608\">H</text>\n",
       "<rect x=\"528\" y=\"4656\" width=\"32\" height=\"32\" stroke=\"black\" fill=\"white\"/>\n",
       "<text dominant-baseline=\"central\" text-anchor=\"middle\" font-family=\"monospace\" font-size=\"30\" x=\"544\" y=\"4672\">H</text>\n",
       "<path d=\"M608,128 L608,2944 \" stroke=\"black\"/>\n",
       "<circle cx=\"608\" cy=\"2944\" r=\"12\" stroke=\"none\" fill=\"black\"/>\n",
       "<circle cx=\"608\" cy=\"128\" r=\"12\" stroke=\"none\" fill=\"black\"/>\n",
       "<path d=\"M672,384 L672,3008 \" stroke=\"black\"/>\n",
       "<circle cx=\"672\" cy=\"3008\" r=\"12\" stroke=\"none\" fill=\"black\"/>\n",
       "<circle cx=\"672\" cy=\"384\" r=\"12\" stroke=\"none\" fill=\"black\"/>\n",
       "<path d=\"M736,768 L736,3072 \" stroke=\"black\"/>\n",
       "<circle cx=\"736\" cy=\"3072\" r=\"12\" stroke=\"none\" fill=\"black\"/>\n",
       "<circle cx=\"736\" cy=\"768\" r=\"12\" stroke=\"none\" fill=\"black\"/>\n",
       "<path d=\"M800,1024 L800,3136 \" stroke=\"black\"/>\n",
       "<circle cx=\"800\" cy=\"3136\" r=\"12\" stroke=\"none\" fill=\"black\"/>\n",
       "<circle cx=\"800\" cy=\"1024\" r=\"12\" stroke=\"none\" fill=\"black\"/>\n",
       "<path d=\"M864,1408 L864,3328 \" stroke=\"black\"/>\n",
       "<circle cx=\"864\" cy=\"3328\" r=\"12\" stroke=\"none\" fill=\"black\"/>\n",
       "<circle cx=\"864\" cy=\"1408\" r=\"12\" stroke=\"none\" fill=\"black\"/>\n",
       "<path d=\"M928,1664 L928,3392 \" stroke=\"black\"/>\n",
       "<circle cx=\"928\" cy=\"3392\" r=\"12\" stroke=\"none\" fill=\"black\"/>\n",
       "<circle cx=\"928\" cy=\"1664\" r=\"12\" stroke=\"none\" fill=\"black\"/>\n",
       "<path d=\"M992,64 L992,3456 \" stroke=\"black\"/>\n",
       "<circle cx=\"992\" cy=\"3456\" r=\"12\" stroke=\"none\" fill=\"black\"/>\n",
       "<circle cx=\"992\" cy=\"64\" r=\"12\" stroke=\"none\" fill=\"black\"/>\n",
       "<path d=\"M1056,512 L1056,3520 \" stroke=\"black\"/>\n",
       "<circle cx=\"1056\" cy=\"3520\" r=\"12\" stroke=\"none\" fill=\"black\"/>\n",
       "<circle cx=\"1056\" cy=\"512\" r=\"12\" stroke=\"none\" fill=\"black\"/>\n",
       "<path d=\"M1120,704 L1120,3712 \" stroke=\"black\"/>\n",
       "<circle cx=\"1120\" cy=\"3712\" r=\"12\" stroke=\"none\" fill=\"black\"/>\n",
       "<circle cx=\"1120\" cy=\"704\" r=\"12\" stroke=\"none\" fill=\"black\"/>\n",
       "<path d=\"M1184,1152 L1184,3776 \" stroke=\"black\"/>\n",
       "<circle cx=\"1184\" cy=\"3776\" r=\"12\" stroke=\"none\" fill=\"black\"/>\n",
       "<circle cx=\"1184\" cy=\"1152\" r=\"12\" stroke=\"none\" fill=\"black\"/>\n",
       "<path d=\"M1248,1344 L1248,3840 \" stroke=\"black\"/>\n",
       "<circle cx=\"1248\" cy=\"3840\" r=\"12\" stroke=\"none\" fill=\"black\"/>\n",
       "<circle cx=\"1248\" cy=\"1344\" r=\"12\" stroke=\"none\" fill=\"black\"/>\n",
       "<path d=\"M1312,1792 L1312,3904 \" stroke=\"black\"/>\n",
       "<circle cx=\"1312\" cy=\"3904\" r=\"12\" stroke=\"none\" fill=\"black\"/>\n",
       "<circle cx=\"1312\" cy=\"1792\" r=\"12\" stroke=\"none\" fill=\"black\"/>\n",
       "<path d=\"M1376,64 L1376,4096 \" stroke=\"black\"/>\n",
       "<circle cx=\"1376\" cy=\"4096\" r=\"12\" stroke=\"none\" fill=\"black\"/>\n",
       "<circle cx=\"1376\" cy=\"64\" r=\"12\" stroke=\"black\" fill=\"white\"/>\n",
       "<path d=\"M1364,64 L1388,64 M1376,52 L1376,76 \" stroke=\"black\"/>\n",
       "<path d=\"M1440,448 L1440,4160 \" stroke=\"black\"/>\n",
       "<circle cx=\"1440\" cy=\"4160\" r=\"12\" stroke=\"none\" fill=\"black\"/>\n",
       "<circle cx=\"1440\" cy=\"448\" r=\"12\" stroke=\"black\" fill=\"white\"/>\n",
       "<path d=\"M1428,448 L1452,448 M1440,436 L1440,460 \" stroke=\"black\"/>\n",
       "<path d=\"M1504,704 L1504,4224 \" stroke=\"black\"/>\n",
       "<circle cx=\"1504\" cy=\"4224\" r=\"12\" stroke=\"none\" fill=\"black\"/>\n",
       "<circle cx=\"1504\" cy=\"704\" r=\"12\" stroke=\"black\" fill=\"white\"/>\n",
       "<path d=\"M1492,704 L1516,704 M1504,692 L1504,716 \" stroke=\"black\"/>\n",
       "<path d=\"M1568,1088 L1568,4288 \" stroke=\"black\"/>\n",
       "<circle cx=\"1568\" cy=\"4288\" r=\"12\" stroke=\"none\" fill=\"black\"/>\n",
       "<circle cx=\"1568\" cy=\"1088\" r=\"12\" stroke=\"black\" fill=\"white\"/>\n",
       "<path d=\"M1556,1088 L1580,1088 M1568,1076 L1568,1100 \" stroke=\"black\"/>\n",
       "<path d=\"M1632,1344 L1632,4480 \" stroke=\"black\"/>\n",
       "<circle cx=\"1632\" cy=\"4480\" r=\"12\" stroke=\"none\" fill=\"black\"/>\n",
       "<circle cx=\"1632\" cy=\"1344\" r=\"12\" stroke=\"black\" fill=\"white\"/>\n",
       "<path d=\"M1620,1344 L1644,1344 M1632,1332 L1632,1356 \" stroke=\"black\"/>\n",
       "<path d=\"M1696,1728 L1696,4544 \" stroke=\"black\"/>\n",
       "<circle cx=\"1696\" cy=\"4544\" r=\"12\" stroke=\"none\" fill=\"black\"/>\n",
       "<circle cx=\"1696\" cy=\"1728\" r=\"12\" stroke=\"black\" fill=\"white\"/>\n",
       "<path d=\"M1684,1728 L1708,1728 M1696,1716 L1696,1740 \" stroke=\"black\"/>\n",
       "<path d=\"M1760,1984 L1760,4608 \" stroke=\"black\"/>\n",
       "<circle cx=\"1760\" cy=\"4608\" r=\"12\" stroke=\"none\" fill=\"black\"/>\n",
       "<circle cx=\"1760\" cy=\"1984\" r=\"12\" stroke=\"black\" fill=\"white\"/>\n",
       "<path d=\"M1748,1984 L1772,1984 M1760,1972 L1760,1996 \" stroke=\"black\"/>\n",
       "<path d=\"M1824,128 L1824,4672 \" stroke=\"black\"/>\n",
       "<circle cx=\"1824\" cy=\"4672\" r=\"12\" stroke=\"none\" fill=\"black\"/>\n",
       "<circle cx=\"1824\" cy=\"128\" r=\"12\" stroke=\"black\" fill=\"white\"/>\n",
       "<path d=\"M1812,128 L1836,128 M1824,116 L1824,140 \" stroke=\"black\"/>\n",
       "<path d=\"M580,40 L580,32 L1852,32 L1852,40 \" stroke=\"black\" fill=\"none\"/>\n",
       "<path d=\"M580,6776 L580,6784 L1852,6784 L1852,6776 \" stroke=\"black\" fill=\"none\"/>\n",
       "<path d=\"M1888,192 L1888,2944 \" stroke=\"black\"/>\n",
       "<circle cx=\"1888\" cy=\"2944\" r=\"12\" stroke=\"none\" fill=\"black\"/>\n",
       "<circle cx=\"1888\" cy=\"192\" r=\"12\" stroke=\"none\" fill=\"black\"/>\n",
       "<path d=\"M1952,448 L1952,3008 \" stroke=\"black\"/>\n",
       "<circle cx=\"1952\" cy=\"3008\" r=\"12\" stroke=\"none\" fill=\"black\"/>\n",
       "<circle cx=\"1952\" cy=\"448\" r=\"12\" stroke=\"none\" fill=\"black\"/>\n",
       "<path d=\"M2016,832 L2016,3072 \" stroke=\"black\"/>\n",
       "<circle cx=\"2016\" cy=\"3072\" r=\"12\" stroke=\"none\" fill=\"black\"/>\n",
       "<circle cx=\"2016\" cy=\"832\" r=\"12\" stroke=\"none\" fill=\"black\"/>\n",
       "<path d=\"M2080,1088 L2080,3136 \" stroke=\"black\"/>\n",
       "<circle cx=\"2080\" cy=\"3136\" r=\"12\" stroke=\"none\" fill=\"black\"/>\n",
       "<circle cx=\"2080\" cy=\"1088\" r=\"12\" stroke=\"none\" fill=\"black\"/>\n",
       "<path d=\"M2144,1472 L2144,3328 \" stroke=\"black\"/>\n",
       "<circle cx=\"2144\" cy=\"3328\" r=\"12\" stroke=\"none\" fill=\"black\"/>\n",
       "<circle cx=\"2144\" cy=\"1472\" r=\"12\" stroke=\"none\" fill=\"black\"/>\n",
       "<path d=\"M2208,1728 L2208,3392 \" stroke=\"black\"/>\n",
       "<circle cx=\"2208\" cy=\"3392\" r=\"12\" stroke=\"none\" fill=\"black\"/>\n",
       "<circle cx=\"2208\" cy=\"1728\" r=\"12\" stroke=\"none\" fill=\"black\"/>\n",
       "<path d=\"M2272,384 L2272,3456 \" stroke=\"black\"/>\n",
       "<circle cx=\"2272\" cy=\"3456\" r=\"12\" stroke=\"none\" fill=\"black\"/>\n",
       "<circle cx=\"2272\" cy=\"384\" r=\"12\" stroke=\"none\" fill=\"black\"/>\n",
       "<path d=\"M2336,832 L2336,3520 \" stroke=\"black\"/>\n",
       "<circle cx=\"2336\" cy=\"3520\" r=\"12\" stroke=\"none\" fill=\"black\"/>\n",
       "<circle cx=\"2336\" cy=\"832\" r=\"12\" stroke=\"none\" fill=\"black\"/>\n",
       "<path d=\"M2400,1024 L2400,3712 \" stroke=\"black\"/>\n",
       "<circle cx=\"2400\" cy=\"3712\" r=\"12\" stroke=\"none\" fill=\"black\"/>\n",
       "<circle cx=\"2400\" cy=\"1024\" r=\"12\" stroke=\"none\" fill=\"black\"/>\n",
       "<path d=\"M2464,1472 L2464,3776 \" stroke=\"black\"/>\n",
       "<circle cx=\"2464\" cy=\"3776\" r=\"12\" stroke=\"none\" fill=\"black\"/>\n",
       "<circle cx=\"2464\" cy=\"1472\" r=\"12\" stroke=\"none\" fill=\"black\"/>\n",
       "<path d=\"M2528,1664 L2528,3840 \" stroke=\"black\"/>\n",
       "<circle cx=\"2528\" cy=\"3840\" r=\"12\" stroke=\"none\" fill=\"black\"/>\n",
       "<circle cx=\"2528\" cy=\"1664\" r=\"12\" stroke=\"none\" fill=\"black\"/>\n",
       "<path d=\"M2592,2112 L2592,3904 \" stroke=\"black\"/>\n",
       "<circle cx=\"2592\" cy=\"3904\" r=\"12\" stroke=\"none\" fill=\"black\"/>\n",
       "<circle cx=\"2592\" cy=\"2112\" r=\"12\" stroke=\"none\" fill=\"black\"/>\n",
       "<path d=\"M2656,128 L2656,4096 \" stroke=\"black\"/>\n",
       "<circle cx=\"2656\" cy=\"4096\" r=\"12\" stroke=\"none\" fill=\"black\"/>\n",
       "<circle cx=\"2656\" cy=\"128\" r=\"12\" stroke=\"black\" fill=\"white\"/>\n",
       "<path d=\"M2644,128 L2668,128 M2656,116 L2656,140 \" stroke=\"black\"/>\n",
       "<path d=\"M2720,512 L2720,4160 \" stroke=\"black\"/>\n",
       "<circle cx=\"2720\" cy=\"4160\" r=\"12\" stroke=\"none\" fill=\"black\"/>\n",
       "<circle cx=\"2720\" cy=\"512\" r=\"12\" stroke=\"black\" fill=\"white\"/>\n",
       "<path d=\"M2708,512 L2732,512 M2720,500 L2720,524 \" stroke=\"black\"/>\n",
       "<path d=\"M2784,768 L2784,4224 \" stroke=\"black\"/>\n",
       "<circle cx=\"2784\" cy=\"4224\" r=\"12\" stroke=\"none\" fill=\"black\"/>\n",
       "<circle cx=\"2784\" cy=\"768\" r=\"12\" stroke=\"black\" fill=\"white\"/>\n",
       "<path d=\"M2772,768 L2796,768 M2784,756 L2784,780 \" stroke=\"black\"/>\n",
       "<path d=\"M2848,1152 L2848,4288 \" stroke=\"black\"/>\n",
       "<circle cx=\"2848\" cy=\"4288\" r=\"12\" stroke=\"none\" fill=\"black\"/>\n",
       "<circle cx=\"2848\" cy=\"1152\" r=\"12\" stroke=\"black\" fill=\"white\"/>\n",
       "<path d=\"M2836,1152 L2860,1152 M2848,1140 L2848,1164 \" stroke=\"black\"/>\n",
       "<path d=\"M2912,1408 L2912,4480 \" stroke=\"black\"/>\n",
       "<circle cx=\"2912\" cy=\"4480\" r=\"12\" stroke=\"none\" fill=\"black\"/>\n",
       "<circle cx=\"2912\" cy=\"1408\" r=\"12\" stroke=\"black\" fill=\"white\"/>\n",
       "<path d=\"M2900,1408 L2924,1408 M2912,1396 L2912,1420 \" stroke=\"black\"/>\n",
       "<path d=\"M2976,1792 L2976,4544 \" stroke=\"black\"/>\n",
       "<circle cx=\"2976\" cy=\"4544\" r=\"12\" stroke=\"none\" fill=\"black\"/>\n",
       "<circle cx=\"2976\" cy=\"1792\" r=\"12\" stroke=\"black\" fill=\"white\"/>\n",
       "<path d=\"M2964,1792 L2988,1792 M2976,1780 L2976,1804 \" stroke=\"black\"/>\n",
       "<path d=\"M3040,2048 L3040,4608 \" stroke=\"black\"/>\n",
       "<circle cx=\"3040\" cy=\"4608\" r=\"12\" stroke=\"none\" fill=\"black\"/>\n",
       "<circle cx=\"3040\" cy=\"2048\" r=\"12\" stroke=\"black\" fill=\"white\"/>\n",
       "<path d=\"M3028,2048 L3052,2048 M3040,2036 L3040,2060 \" stroke=\"black\"/>\n",
       "<path d=\"M3104,192 L3104,4672 \" stroke=\"black\"/>\n",
       "<circle cx=\"3104\" cy=\"4672\" r=\"12\" stroke=\"none\" fill=\"black\"/>\n",
       "<circle cx=\"3104\" cy=\"192\" r=\"12\" stroke=\"black\" fill=\"white\"/>\n",
       "<path d=\"M3092,192 L3116,192 M3104,180 L3104,204 \" stroke=\"black\"/>\n",
       "<path d=\"M1860,40 L1860,32 L3132,32 L3132,40 \" stroke=\"black\" fill=\"none\"/>\n",
       "<path d=\"M1860,6776 L1860,6784 L3132,6784 L3132,6776 \" stroke=\"black\" fill=\"none\"/>\n",
       "<path d=\"M3168,448 L3168,2944 \" stroke=\"black\"/>\n",
       "<circle cx=\"3168\" cy=\"2944\" r=\"12\" stroke=\"none\" fill=\"black\"/>\n",
       "<circle cx=\"3168\" cy=\"448\" r=\"12\" stroke=\"none\" fill=\"black\"/>\n",
       "<path d=\"M3232,704 L3232,3008 \" stroke=\"black\"/>\n",
       "<circle cx=\"3232\" cy=\"3008\" r=\"12\" stroke=\"none\" fill=\"black\"/>\n",
       "<circle cx=\"3232\" cy=\"704\" r=\"12\" stroke=\"none\" fill=\"black\"/>\n",
       "<path d=\"M3296,1088 L3296,3072 \" stroke=\"black\"/>\n",
       "<circle cx=\"3296\" cy=\"3072\" r=\"12\" stroke=\"none\" fill=\"black\"/>\n",
       "<circle cx=\"3296\" cy=\"1088\" r=\"12\" stroke=\"none\" fill=\"black\"/>\n",
       "<path d=\"M3360,1344 L3360,3136 \" stroke=\"black\"/>\n",
       "<circle cx=\"3360\" cy=\"3136\" r=\"12\" stroke=\"none\" fill=\"black\"/>\n",
       "<circle cx=\"3360\" cy=\"1344\" r=\"12\" stroke=\"none\" fill=\"black\"/>\n",
       "<path d=\"M3424,1728 L3424,3328 \" stroke=\"black\"/>\n",
       "<circle cx=\"3424\" cy=\"3328\" r=\"12\" stroke=\"none\" fill=\"black\"/>\n",
       "<circle cx=\"3424\" cy=\"1728\" r=\"12\" stroke=\"none\" fill=\"black\"/>\n",
       "<path d=\"M3488,1984 L3488,3392 \" stroke=\"black\"/>\n",
       "<circle cx=\"3488\" cy=\"3392\" r=\"12\" stroke=\"none\" fill=\"black\"/>\n",
       "<circle cx=\"3488\" cy=\"1984\" r=\"12\" stroke=\"none\" fill=\"black\"/>\n",
       "<path d=\"M3552,384 L3552,4096 \" stroke=\"black\"/>\n",
       "<circle cx=\"3552\" cy=\"4096\" r=\"12\" stroke=\"none\" fill=\"black\"/>\n",
       "<circle cx=\"3552\" cy=\"384\" r=\"12\" stroke=\"black\" fill=\"white\"/>\n",
       "<path d=\"M3540,384 L3564,384 M3552,372 L3552,396 \" stroke=\"black\"/>\n",
       "<path d=\"M3616,768 L3616,4160 \" stroke=\"black\"/>\n",
       "<circle cx=\"3616\" cy=\"4160\" r=\"12\" stroke=\"none\" fill=\"black\"/>\n",
       "<circle cx=\"3616\" cy=\"768\" r=\"12\" stroke=\"black\" fill=\"white\"/>\n",
       "<path d=\"M3604,768 L3628,768 M3616,756 L3616,780 \" stroke=\"black\"/>\n",
       "<path d=\"M3680,1024 L3680,4224 \" stroke=\"black\"/>\n",
       "<circle cx=\"3680\" cy=\"4224\" r=\"12\" stroke=\"none\" fill=\"black\"/>\n",
       "<circle cx=\"3680\" cy=\"1024\" r=\"12\" stroke=\"black\" fill=\"white\"/>\n",
       "<path d=\"M3668,1024 L3692,1024 M3680,1012 L3680,1036 \" stroke=\"black\"/>\n",
       "<path d=\"M3744,1408 L3744,4288 \" stroke=\"black\"/>\n",
       "<circle cx=\"3744\" cy=\"4288\" r=\"12\" stroke=\"none\" fill=\"black\"/>\n",
       "<circle cx=\"3744\" cy=\"1408\" r=\"12\" stroke=\"black\" fill=\"white\"/>\n",
       "<path d=\"M3732,1408 L3756,1408 M3744,1396 L3744,1420 \" stroke=\"black\"/>\n",
       "<path d=\"M3808,1664 L3808,4480 \" stroke=\"black\"/>\n",
       "<circle cx=\"3808\" cy=\"4480\" r=\"12\" stroke=\"none\" fill=\"black\"/>\n",
       "<circle cx=\"3808\" cy=\"1664\" r=\"12\" stroke=\"black\" fill=\"white\"/>\n",
       "<path d=\"M3796,1664 L3820,1664 M3808,1652 L3808,1676 \" stroke=\"black\"/>\n",
       "<path d=\"M3872,2048 L3872,4544 \" stroke=\"black\"/>\n",
       "<circle cx=\"3872\" cy=\"4544\" r=\"12\" stroke=\"none\" fill=\"black\"/>\n",
       "<circle cx=\"3872\" cy=\"2048\" r=\"12\" stroke=\"black\" fill=\"white\"/>\n",
       "<path d=\"M3860,2048 L3884,2048 M3872,2036 L3872,2060 \" stroke=\"black\"/>\n",
       "<path d=\"M3140,40 L3140,32 L3900,32 L3900,40 \" stroke=\"black\" fill=\"none\"/>\n",
       "<path d=\"M3140,6776 L3140,6784 L3900,6784 L3900,6776 \" stroke=\"black\" fill=\"none\"/>\n",
       "<path d=\"M3936,512 L3936,2944 \" stroke=\"black\"/>\n",
       "<circle cx=\"3936\" cy=\"2944\" r=\"12\" stroke=\"none\" fill=\"black\"/>\n",
       "<circle cx=\"3936\" cy=\"512\" r=\"12\" stroke=\"none\" fill=\"black\"/>\n",
       "<path d=\"M4000,768 L4000,3008 \" stroke=\"black\"/>\n",
       "<circle cx=\"4000\" cy=\"3008\" r=\"12\" stroke=\"none\" fill=\"black\"/>\n",
       "<circle cx=\"4000\" cy=\"768\" r=\"12\" stroke=\"none\" fill=\"black\"/>\n",
       "<path d=\"M4064,1152 L4064,3072 \" stroke=\"black\"/>\n",
       "<circle cx=\"4064\" cy=\"3072\" r=\"12\" stroke=\"none\" fill=\"black\"/>\n",
       "<circle cx=\"4064\" cy=\"1152\" r=\"12\" stroke=\"none\" fill=\"black\"/>\n",
       "<path d=\"M4128,1408 L4128,3136 \" stroke=\"black\"/>\n",
       "<circle cx=\"4128\" cy=\"3136\" r=\"12\" stroke=\"none\" fill=\"black\"/>\n",
       "<circle cx=\"4128\" cy=\"1408\" r=\"12\" stroke=\"none\" fill=\"black\"/>\n",
       "<path d=\"M4192,1792 L4192,3328 \" stroke=\"black\"/>\n",
       "<circle cx=\"4192\" cy=\"3328\" r=\"12\" stroke=\"none\" fill=\"black\"/>\n",
       "<circle cx=\"4192\" cy=\"1792\" r=\"12\" stroke=\"none\" fill=\"black\"/>\n",
       "<path d=\"M4256,2048 L4256,3392 \" stroke=\"black\"/>\n",
       "<circle cx=\"4256\" cy=\"3392\" r=\"12\" stroke=\"none\" fill=\"black\"/>\n",
       "<circle cx=\"4256\" cy=\"2048\" r=\"12\" stroke=\"none\" fill=\"black\"/>\n",
       "<path d=\"M4320,448 L4320,4096 \" stroke=\"black\"/>\n",
       "<circle cx=\"4320\" cy=\"4096\" r=\"12\" stroke=\"none\" fill=\"black\"/>\n",
       "<circle cx=\"4320\" cy=\"448\" r=\"12\" stroke=\"black\" fill=\"white\"/>\n",
       "<path d=\"M4308,448 L4332,448 M4320,436 L4320,460 \" stroke=\"black\"/>\n",
       "<path d=\"M4384,832 L4384,4160 \" stroke=\"black\"/>\n",
       "<circle cx=\"4384\" cy=\"4160\" r=\"12\" stroke=\"none\" fill=\"black\"/>\n",
       "<circle cx=\"4384\" cy=\"832\" r=\"12\" stroke=\"black\" fill=\"white\"/>\n",
       "<path d=\"M4372,832 L4396,832 M4384,820 L4384,844 \" stroke=\"black\"/>\n",
       "<path d=\"M4448,1088 L4448,4224 \" stroke=\"black\"/>\n",
       "<circle cx=\"4448\" cy=\"4224\" r=\"12\" stroke=\"none\" fill=\"black\"/>\n",
       "<circle cx=\"4448\" cy=\"1088\" r=\"12\" stroke=\"black\" fill=\"white\"/>\n",
       "<path d=\"M4436,1088 L4460,1088 M4448,1076 L4448,1100 \" stroke=\"black\"/>\n",
       "<path d=\"M4512,1472 L4512,4288 \" stroke=\"black\"/>\n",
       "<circle cx=\"4512\" cy=\"4288\" r=\"12\" stroke=\"none\" fill=\"black\"/>\n",
       "<circle cx=\"4512\" cy=\"1472\" r=\"12\" stroke=\"black\" fill=\"white\"/>\n",
       "<path d=\"M4500,1472 L4524,1472 M4512,1460 L4512,1484 \" stroke=\"black\"/>\n",
       "<path d=\"M4576,1728 L4576,4480 \" stroke=\"black\"/>\n",
       "<circle cx=\"4576\" cy=\"4480\" r=\"12\" stroke=\"none\" fill=\"black\"/>\n",
       "<circle cx=\"4576\" cy=\"1728\" r=\"12\" stroke=\"black\" fill=\"white\"/>\n",
       "<path d=\"M4564,1728 L4588,1728 M4576,1716 L4576,1740 \" stroke=\"black\"/>\n",
       "<path d=\"M4640,2112 L4640,4544 \" stroke=\"black\"/>\n",
       "<circle cx=\"4640\" cy=\"4544\" r=\"12\" stroke=\"none\" fill=\"black\"/>\n",
       "<circle cx=\"4640\" cy=\"2112\" r=\"12\" stroke=\"black\" fill=\"white\"/>\n",
       "<path d=\"M4628,2112 L4652,2112 M4640,2100 L4640,2124 \" stroke=\"black\"/>\n",
       "<path d=\"M3908,40 L3908,32 L4668,32 L4668,40 \" stroke=\"black\" fill=\"none\"/>\n",
       "<path d=\"M3908,6776 L3908,6784 L4668,6784 L4668,6776 \" stroke=\"black\" fill=\"none\"/>\n",
       "<rect x=\"4688\" y=\"2928\" width=\"32\" height=\"32\" stroke=\"black\" fill=\"white\"/>\n",
       "<text dominant-baseline=\"central\" text-anchor=\"middle\" font-family=\"monospace\" font-size=\"30\" x=\"4704\" y=\"2944\">H</text>\n",
       "<rect x=\"4688\" y=\"2992\" width=\"32\" height=\"32\" stroke=\"black\" fill=\"white\"/>\n",
       "<text dominant-baseline=\"central\" text-anchor=\"middle\" font-family=\"monospace\" font-size=\"30\" x=\"4704\" y=\"3008\">H</text>\n",
       "<rect x=\"4688\" y=\"3056\" width=\"32\" height=\"32\" stroke=\"black\" fill=\"white\"/>\n",
       "<text dominant-baseline=\"central\" text-anchor=\"middle\" font-family=\"monospace\" font-size=\"30\" x=\"4704\" y=\"3072\">H</text>\n",
       "<rect x=\"4688\" y=\"3120\" width=\"32\" height=\"32\" stroke=\"black\" fill=\"white\"/>\n",
       "<text dominant-baseline=\"central\" text-anchor=\"middle\" font-family=\"monospace\" font-size=\"30\" x=\"4704\" y=\"3136\">H</text>\n",
       "<rect x=\"4688\" y=\"3312\" width=\"32\" height=\"32\" stroke=\"black\" fill=\"white\"/>\n",
       "<text dominant-baseline=\"central\" text-anchor=\"middle\" font-family=\"monospace\" font-size=\"30\" x=\"4704\" y=\"3328\">H</text>\n",
       "<rect x=\"4688\" y=\"3376\" width=\"32\" height=\"32\" stroke=\"black\" fill=\"white\"/>\n",
       "<text dominant-baseline=\"central\" text-anchor=\"middle\" font-family=\"monospace\" font-size=\"30\" x=\"4704\" y=\"3392\">H</text>\n",
       "<rect x=\"4688\" y=\"3440\" width=\"32\" height=\"32\" stroke=\"black\" fill=\"white\"/>\n",
       "<text dominant-baseline=\"central\" text-anchor=\"middle\" font-family=\"monospace\" font-size=\"30\" x=\"4704\" y=\"3456\">H</text>\n",
       "<rect x=\"4688\" y=\"3504\" width=\"32\" height=\"32\" stroke=\"black\" fill=\"white\"/>\n",
       "<text dominant-baseline=\"central\" text-anchor=\"middle\" font-family=\"monospace\" font-size=\"30\" x=\"4704\" y=\"3520\">H</text>\n",
       "<rect x=\"4688\" y=\"3696\" width=\"32\" height=\"32\" stroke=\"black\" fill=\"white\"/>\n",
       "<text dominant-baseline=\"central\" text-anchor=\"middle\" font-family=\"monospace\" font-size=\"30\" x=\"4704\" y=\"3712\">H</text>\n",
       "<rect x=\"4688\" y=\"3760\" width=\"32\" height=\"32\" stroke=\"black\" fill=\"white\"/>\n",
       "<text dominant-baseline=\"central\" text-anchor=\"middle\" font-family=\"monospace\" font-size=\"30\" x=\"4704\" y=\"3776\">H</text>\n",
       "<rect x=\"4688\" y=\"3824\" width=\"32\" height=\"32\" stroke=\"black\" fill=\"white\"/>\n",
       "<text dominant-baseline=\"central\" text-anchor=\"middle\" font-family=\"monospace\" font-size=\"30\" x=\"4704\" y=\"3840\">H</text>\n",
       "<rect x=\"4688\" y=\"3888\" width=\"32\" height=\"32\" stroke=\"black\" fill=\"white\"/>\n",
       "<text dominant-baseline=\"central\" text-anchor=\"middle\" font-family=\"monospace\" font-size=\"30\" x=\"4704\" y=\"3904\">H</text>\n",
       "<rect x=\"4688\" y=\"4080\" width=\"32\" height=\"32\" stroke=\"black\" fill=\"white\"/>\n",
       "<text dominant-baseline=\"central\" text-anchor=\"middle\" font-family=\"monospace\" font-size=\"30\" x=\"4704\" y=\"4096\">H</text>\n",
       "<rect x=\"4688\" y=\"4144\" width=\"32\" height=\"32\" stroke=\"black\" fill=\"white\"/>\n",
       "<text dominant-baseline=\"central\" text-anchor=\"middle\" font-family=\"monospace\" font-size=\"30\" x=\"4704\" y=\"4160\">H</text>\n",
       "<rect x=\"4688\" y=\"4208\" width=\"32\" height=\"32\" stroke=\"black\" fill=\"white\"/>\n",
       "<text dominant-baseline=\"central\" text-anchor=\"middle\" font-family=\"monospace\" font-size=\"30\" x=\"4704\" y=\"4224\">H</text>\n",
       "<rect x=\"4688\" y=\"4272\" width=\"32\" height=\"32\" stroke=\"black\" fill=\"white\"/>\n",
       "<text dominant-baseline=\"central\" text-anchor=\"middle\" font-family=\"monospace\" font-size=\"30\" x=\"4704\" y=\"4288\">H</text>\n",
       "<rect x=\"4688\" y=\"4464\" width=\"32\" height=\"32\" stroke=\"black\" fill=\"white\"/>\n",
       "<text dominant-baseline=\"central\" text-anchor=\"middle\" font-family=\"monospace\" font-size=\"30\" x=\"4704\" y=\"4480\">H</text>\n",
       "<rect x=\"4688\" y=\"4528\" width=\"32\" height=\"32\" stroke=\"black\" fill=\"white\"/>\n",
       "<text dominant-baseline=\"central\" text-anchor=\"middle\" font-family=\"monospace\" font-size=\"30\" x=\"4704\" y=\"4544\">H</text>\n",
       "<rect x=\"4688\" y=\"4592\" width=\"32\" height=\"32\" stroke=\"black\" fill=\"white\"/>\n",
       "<text dominant-baseline=\"central\" text-anchor=\"middle\" font-family=\"monospace\" font-size=\"30\" x=\"4704\" y=\"4608\">H</text>\n",
       "<rect x=\"4688\" y=\"4656\" width=\"32\" height=\"32\" stroke=\"black\" fill=\"white\"/>\n",
       "<text dominant-baseline=\"central\" text-anchor=\"middle\" font-family=\"monospace\" font-size=\"30\" x=\"4704\" y=\"4672\">H</text>\n",
       "<rect x=\"4752\" y=\"2928\" width=\"32\" height=\"32\" stroke=\"black\" fill=\"black\"/>\n",
       "<text dominant-baseline=\"central\" text-anchor=\"middle\" font-family=\"monospace\" font-size=\"24\" x=\"4768\" y=\"2944\" fill=\"white\">MR</text>\n",
       "<text text-anchor=\"middle\" font-family=\"monospace\" font-size=\"8\" x=\"4768\" y=\"2924\">rec[0]</text>\n",
       "<rect x=\"4752\" y=\"2992\" width=\"32\" height=\"32\" stroke=\"black\" fill=\"black\"/>\n",
       "<text dominant-baseline=\"central\" text-anchor=\"middle\" font-family=\"monospace\" font-size=\"24\" x=\"4768\" y=\"3008\" fill=\"white\">MR</text>\n",
       "<text text-anchor=\"middle\" font-family=\"monospace\" font-size=\"8\" x=\"4768\" y=\"2988\">rec[1]</text>\n",
       "<rect x=\"4752\" y=\"3056\" width=\"32\" height=\"32\" stroke=\"black\" fill=\"black\"/>\n",
       "<text dominant-baseline=\"central\" text-anchor=\"middle\" font-family=\"monospace\" font-size=\"24\" x=\"4768\" y=\"3072\" fill=\"white\">MR</text>\n",
       "<text text-anchor=\"middle\" font-family=\"monospace\" font-size=\"8\" x=\"4768\" y=\"3052\">rec[2]</text>\n",
       "<rect x=\"4752\" y=\"3120\" width=\"32\" height=\"32\" stroke=\"black\" fill=\"black\"/>\n",
       "<text dominant-baseline=\"central\" text-anchor=\"middle\" font-family=\"monospace\" font-size=\"24\" x=\"4768\" y=\"3136\" fill=\"white\">MR</text>\n",
       "<text text-anchor=\"middle\" font-family=\"monospace\" font-size=\"8\" x=\"4768\" y=\"3116\">rec[3]</text>\n",
       "<rect x=\"4752\" y=\"3312\" width=\"32\" height=\"32\" stroke=\"black\" fill=\"black\"/>\n",
       "<text dominant-baseline=\"central\" text-anchor=\"middle\" font-family=\"monospace\" font-size=\"24\" x=\"4768\" y=\"3328\" fill=\"white\">MR</text>\n",
       "<text text-anchor=\"middle\" font-family=\"monospace\" font-size=\"8\" x=\"4768\" y=\"3308\">rec[4]</text>\n",
       "<rect x=\"4752\" y=\"3376\" width=\"32\" height=\"32\" stroke=\"black\" fill=\"black\"/>\n",
       "<text dominant-baseline=\"central\" text-anchor=\"middle\" font-family=\"monospace\" font-size=\"24\" x=\"4768\" y=\"3392\" fill=\"white\">MR</text>\n",
       "<text text-anchor=\"middle\" font-family=\"monospace\" font-size=\"8\" x=\"4768\" y=\"3372\">rec[5]</text>\n",
       "<rect x=\"4752\" y=\"3440\" width=\"32\" height=\"32\" stroke=\"black\" fill=\"black\"/>\n",
       "<text dominant-baseline=\"central\" text-anchor=\"middle\" font-family=\"monospace\" font-size=\"24\" x=\"4768\" y=\"3456\" fill=\"white\">MR</text>\n",
       "<text text-anchor=\"middle\" font-family=\"monospace\" font-size=\"8\" x=\"4768\" y=\"3436\">rec[6]</text>\n",
       "<rect x=\"4752\" y=\"3504\" width=\"32\" height=\"32\" stroke=\"black\" fill=\"black\"/>\n",
       "<text dominant-baseline=\"central\" text-anchor=\"middle\" font-family=\"monospace\" font-size=\"24\" x=\"4768\" y=\"3520\" fill=\"white\">MR</text>\n",
       "<text text-anchor=\"middle\" font-family=\"monospace\" font-size=\"8\" x=\"4768\" y=\"3500\">rec[7]</text>\n",
       "<rect x=\"4752\" y=\"3696\" width=\"32\" height=\"32\" stroke=\"black\" fill=\"black\"/>\n",
       "<text dominant-baseline=\"central\" text-anchor=\"middle\" font-family=\"monospace\" font-size=\"24\" x=\"4768\" y=\"3712\" fill=\"white\">MR</text>\n",
       "<text text-anchor=\"middle\" font-family=\"monospace\" font-size=\"8\" x=\"4768\" y=\"3692\">rec[8]</text>\n",
       "<rect x=\"4752\" y=\"3760\" width=\"32\" height=\"32\" stroke=\"black\" fill=\"black\"/>\n",
       "<text dominant-baseline=\"central\" text-anchor=\"middle\" font-family=\"monospace\" font-size=\"24\" x=\"4768\" y=\"3776\" fill=\"white\">MR</text>\n",
       "<text text-anchor=\"middle\" font-family=\"monospace\" font-size=\"8\" x=\"4768\" y=\"3756\">rec[9]</text>\n",
       "<rect x=\"4752\" y=\"3824\" width=\"32\" height=\"32\" stroke=\"black\" fill=\"black\"/>\n",
       "<text dominant-baseline=\"central\" text-anchor=\"middle\" font-family=\"monospace\" font-size=\"24\" x=\"4768\" y=\"3840\" fill=\"white\">MR</text>\n",
       "<text text-anchor=\"middle\" font-family=\"monospace\" font-size=\"8\" x=\"4768\" y=\"3820\">rec[10]</text>\n",
       "<rect x=\"4752\" y=\"3888\" width=\"32\" height=\"32\" stroke=\"black\" fill=\"black\"/>\n",
       "<text dominant-baseline=\"central\" text-anchor=\"middle\" font-family=\"monospace\" font-size=\"24\" x=\"4768\" y=\"3904\" fill=\"white\">MR</text>\n",
       "<text text-anchor=\"middle\" font-family=\"monospace\" font-size=\"8\" x=\"4768\" y=\"3884\">rec[11]</text>\n",
       "<rect x=\"4752\" y=\"4080\" width=\"32\" height=\"32\" stroke=\"black\" fill=\"black\"/>\n",
       "<text dominant-baseline=\"central\" text-anchor=\"middle\" font-family=\"monospace\" font-size=\"24\" x=\"4768\" y=\"4096\" fill=\"white\">MR</text>\n",
       "<text text-anchor=\"middle\" font-family=\"monospace\" font-size=\"8\" x=\"4768\" y=\"4076\">rec[12]</text>\n",
       "<rect x=\"4752\" y=\"4144\" width=\"32\" height=\"32\" stroke=\"black\" fill=\"black\"/>\n",
       "<text dominant-baseline=\"central\" text-anchor=\"middle\" font-family=\"monospace\" font-size=\"24\" x=\"4768\" y=\"4160\" fill=\"white\">MR</text>\n",
       "<text text-anchor=\"middle\" font-family=\"monospace\" font-size=\"8\" x=\"4768\" y=\"4140\">rec[13]</text>\n",
       "<rect x=\"4752\" y=\"4208\" width=\"32\" height=\"32\" stroke=\"black\" fill=\"black\"/>\n",
       "<text dominant-baseline=\"central\" text-anchor=\"middle\" font-family=\"monospace\" font-size=\"24\" x=\"4768\" y=\"4224\" fill=\"white\">MR</text>\n",
       "<text text-anchor=\"middle\" font-family=\"monospace\" font-size=\"8\" x=\"4768\" y=\"4204\">rec[14]</text>\n",
       "<rect x=\"4752\" y=\"4272\" width=\"32\" height=\"32\" stroke=\"black\" fill=\"black\"/>\n",
       "<text dominant-baseline=\"central\" text-anchor=\"middle\" font-family=\"monospace\" font-size=\"24\" x=\"4768\" y=\"4288\" fill=\"white\">MR</text>\n",
       "<text text-anchor=\"middle\" font-family=\"monospace\" font-size=\"8\" x=\"4768\" y=\"4268\">rec[15]</text>\n",
       "<rect x=\"4752\" y=\"4464\" width=\"32\" height=\"32\" stroke=\"black\" fill=\"black\"/>\n",
       "<text dominant-baseline=\"central\" text-anchor=\"middle\" font-family=\"monospace\" font-size=\"24\" x=\"4768\" y=\"4480\" fill=\"white\">MR</text>\n",
       "<text text-anchor=\"middle\" font-family=\"monospace\" font-size=\"8\" x=\"4768\" y=\"4460\">rec[16]</text>\n",
       "<rect x=\"4752\" y=\"4528\" width=\"32\" height=\"32\" stroke=\"black\" fill=\"black\"/>\n",
       "<text dominant-baseline=\"central\" text-anchor=\"middle\" font-family=\"monospace\" font-size=\"24\" x=\"4768\" y=\"4544\" fill=\"white\">MR</text>\n",
       "<text text-anchor=\"middle\" font-family=\"monospace\" font-size=\"8\" x=\"4768\" y=\"4524\">rec[17]</text>\n",
       "<rect x=\"4752\" y=\"4592\" width=\"32\" height=\"32\" stroke=\"black\" fill=\"black\"/>\n",
       "<text dominant-baseline=\"central\" text-anchor=\"middle\" font-family=\"monospace\" font-size=\"24\" x=\"4768\" y=\"4608\" fill=\"white\">MR</text>\n",
       "<text text-anchor=\"middle\" font-family=\"monospace\" font-size=\"8\" x=\"4768\" y=\"4588\">rec[18]</text>\n",
       "<rect x=\"4752\" y=\"4656\" width=\"32\" height=\"32\" stroke=\"black\" fill=\"black\"/>\n",
       "<text dominant-baseline=\"central\" text-anchor=\"middle\" font-family=\"monospace\" font-size=\"24\" x=\"4768\" y=\"4672\" fill=\"white\">MR</text>\n",
       "<text text-anchor=\"middle\" font-family=\"monospace\" font-size=\"8\" x=\"4768\" y=\"4652\">rec[19]</text>\n",
       "<rect x=\"4816\" y=\"1008\" width=\"32\" height=\"32\" stroke=\"black\" fill=\"white\"/>\n",
       "<text dominant-baseline=\"central\" text-anchor=\"middle\" font-family=\"monospace\" font-size=\"30\" x=\"4832\" y=\"1024\">H</text>\n",
       "<rect x=\"4816\" y=\"1072\" width=\"32\" height=\"32\" stroke=\"black\" fill=\"white\"/>\n",
       "<text dominant-baseline=\"central\" text-anchor=\"middle\" font-family=\"monospace\" font-size=\"30\" x=\"4832\" y=\"1088\">H</text>\n",
       "<rect x=\"4816\" y=\"1136\" width=\"32\" height=\"32\" stroke=\"black\" fill=\"white\"/>\n",
       "<text dominant-baseline=\"central\" text-anchor=\"middle\" font-family=\"monospace\" font-size=\"30\" x=\"4832\" y=\"1152\">H</text>\n",
       "<rect x=\"4880\" y=\"1008\" width=\"32\" height=\"32\" stroke=\"black\" fill=\"black\"/>\n",
       "<text dominant-baseline=\"central\" text-anchor=\"middle\" font-family=\"monospace\" font-size=\"30\" x=\"4896\" y=\"1024\" fill=\"white\">M</text>\n",
       "<text text-anchor=\"middle\" font-family=\"monospace\" font-size=\"8\" x=\"4896\" y=\"1004\">rec[20]</text>\n",
       "<rect x=\"4880\" y=\"1072\" width=\"32\" height=\"32\" stroke=\"black\" fill=\"black\"/>\n",
       "<text dominant-baseline=\"central\" text-anchor=\"middle\" font-family=\"monospace\" font-size=\"30\" x=\"4896\" y=\"1088\" fill=\"white\">M</text>\n",
       "<text text-anchor=\"middle\" font-family=\"monospace\" font-size=\"8\" x=\"4896\" y=\"1068\">rec[21]</text>\n",
       "<rect x=\"4880\" y=\"1136\" width=\"32\" height=\"32\" stroke=\"black\" fill=\"black\"/>\n",
       "<text dominant-baseline=\"central\" text-anchor=\"middle\" font-family=\"monospace\" font-size=\"30\" x=\"4896\" y=\"1152\" fill=\"white\">M</text>\n",
       "<text text-anchor=\"middle\" font-family=\"monospace\" font-size=\"8\" x=\"4896\" y=\"1132\">rec[22]</text>\n",
       "<rect x=\"4880\" y=\"2928\" width=\"32\" height=\"32\" stroke=\"black\" fill=\"white\"/>\n",
       "<text dominant-baseline=\"central\" text-anchor=\"middle\" font-family=\"monospace\" font-size=\"30\" x=\"4896\" y=\"2944\">H</text>\n",
       "<rect x=\"4880\" y=\"2992\" width=\"32\" height=\"32\" stroke=\"black\" fill=\"white\"/>\n",
       "<text dominant-baseline=\"central\" text-anchor=\"middle\" font-family=\"monospace\" font-size=\"30\" x=\"4896\" y=\"3008\">H</text>\n",
       "<rect x=\"4880\" y=\"3440\" width=\"32\" height=\"32\" stroke=\"black\" fill=\"white\"/>\n",
       "<text dominant-baseline=\"central\" text-anchor=\"middle\" font-family=\"monospace\" font-size=\"30\" x=\"4896\" y=\"3456\">H</text>\n",
       "<rect x=\"4880\" y=\"3504\" width=\"32\" height=\"32\" stroke=\"black\" fill=\"white\"/>\n",
       "<text dominant-baseline=\"central\" text-anchor=\"middle\" font-family=\"monospace\" font-size=\"30\" x=\"4896\" y=\"3520\">H</text>\n",
       "<rect x=\"4880\" y=\"4080\" width=\"32\" height=\"32\" stroke=\"black\" fill=\"white\"/>\n",
       "<text dominant-baseline=\"central\" text-anchor=\"middle\" font-family=\"monospace\" font-size=\"30\" x=\"4896\" y=\"4096\">H</text>\n",
       "<rect x=\"4880\" y=\"4144\" width=\"32\" height=\"32\" stroke=\"black\" fill=\"white\"/>\n",
       "<text dominant-baseline=\"central\" text-anchor=\"middle\" font-family=\"monospace\" font-size=\"30\" x=\"4896\" y=\"4160\">H</text>\n",
       "<rect x=\"4880\" y=\"4208\" width=\"32\" height=\"32\" stroke=\"black\" fill=\"white\"/>\n",
       "<text dominant-baseline=\"central\" text-anchor=\"middle\" font-family=\"monospace\" font-size=\"30\" x=\"4896\" y=\"4224\">H</text>\n",
       "<rect x=\"4880\" y=\"4656\" width=\"32\" height=\"32\" stroke=\"black\" fill=\"white\"/>\n",
       "<text dominant-baseline=\"central\" text-anchor=\"middle\" font-family=\"monospace\" font-size=\"30\" x=\"4896\" y=\"4672\">H</text>\n",
       "<path d=\"M4804,40 L4804,32 L4924,32 L4924,40 \" stroke=\"black\" fill=\"none\"/>\n",
       "<path d=\"M4804,6776 L4804,6784 L4924,6784 L4924,6776 \" stroke=\"black\" fill=\"none\"/>\n",
       "<path d=\"M4960,128 L4960,2944 \" stroke=\"black\"/>\n",
       "<circle cx=\"4960\" cy=\"2944\" r=\"12\" stroke=\"none\" fill=\"black\"/>\n",
       "<circle cx=\"4960\" cy=\"128\" r=\"12\" stroke=\"none\" fill=\"black\"/>\n",
       "<path d=\"M5024,384 L5024,3008 \" stroke=\"black\"/>\n",
       "<circle cx=\"5024\" cy=\"3008\" r=\"12\" stroke=\"none\" fill=\"black\"/>\n",
       "<circle cx=\"5024\" cy=\"384\" r=\"12\" stroke=\"none\" fill=\"black\"/>\n",
       "<path d=\"M5088,64 L5088,3456 \" stroke=\"black\"/>\n",
       "<circle cx=\"5088\" cy=\"3456\" r=\"12\" stroke=\"none\" fill=\"black\"/>\n",
       "<circle cx=\"5088\" cy=\"64\" r=\"12\" stroke=\"none\" fill=\"black\"/>\n",
       "<path d=\"M5152,512 L5152,3520 \" stroke=\"black\"/>\n",
       "<circle cx=\"5152\" cy=\"3520\" r=\"12\" stroke=\"none\" fill=\"black\"/>\n",
       "<circle cx=\"5152\" cy=\"512\" r=\"12\" stroke=\"none\" fill=\"black\"/>\n",
       "<path d=\"M5216,64 L5216,4096 \" stroke=\"black\"/>\n",
       "<circle cx=\"5216\" cy=\"4096\" r=\"12\" stroke=\"none\" fill=\"black\"/>\n",
       "<circle cx=\"5216\" cy=\"64\" r=\"12\" stroke=\"black\" fill=\"white\"/>\n",
       "<path d=\"M5204,64 L5228,64 M5216,52 L5216,76 \" stroke=\"black\"/>\n",
       "<path d=\"M5280,448 L5280,4160 \" stroke=\"black\"/>\n",
       "<circle cx=\"5280\" cy=\"4160\" r=\"12\" stroke=\"none\" fill=\"black\"/>\n",
       "<circle cx=\"5280\" cy=\"448\" r=\"12\" stroke=\"black\" fill=\"white\"/>\n",
       "<path d=\"M5268,448 L5292,448 M5280,436 L5280,460 \" stroke=\"black\"/>\n",
       "<path d=\"M5344,704 L5344,4224 \" stroke=\"black\"/>\n",
       "<circle cx=\"5344\" cy=\"4224\" r=\"12\" stroke=\"none\" fill=\"black\"/>\n",
       "<circle cx=\"5344\" cy=\"704\" r=\"12\" stroke=\"black\" fill=\"white\"/>\n",
       "<path d=\"M5332,704 L5356,704 M5344,692 L5344,716 \" stroke=\"black\"/>\n",
       "<path d=\"M5408,128 L5408,4672 \" stroke=\"black\"/>\n",
       "<circle cx=\"5408\" cy=\"4672\" r=\"12\" stroke=\"none\" fill=\"black\"/>\n",
       "<circle cx=\"5408\" cy=\"128\" r=\"12\" stroke=\"black\" fill=\"white\"/>\n",
       "<path d=\"M5396,128 L5420,128 M5408,116 L5408,140 \" stroke=\"black\"/>\n",
       "<path d=\"M4932,40 L4932,32 L5436,32 L5436,40 \" stroke=\"black\" fill=\"none\"/>\n",
       "<path d=\"M4932,6776 L4932,6784 L5436,6784 L5436,6776 \" stroke=\"black\" fill=\"none\"/>\n",
       "<path d=\"M5472,192 L5472,2944 \" stroke=\"black\"/>\n",
       "<circle cx=\"5472\" cy=\"2944\" r=\"12\" stroke=\"none\" fill=\"black\"/>\n",
       "<circle cx=\"5472\" cy=\"192\" r=\"12\" stroke=\"none\" fill=\"black\"/>\n",
       "<path d=\"M5536,448 L5536,3008 \" stroke=\"black\"/>\n",
       "<circle cx=\"5536\" cy=\"3008\" r=\"12\" stroke=\"none\" fill=\"black\"/>\n",
       "<circle cx=\"5536\" cy=\"448\" r=\"12\" stroke=\"none\" fill=\"black\"/>\n",
       "<path d=\"M5600,384 L5600,3456 \" stroke=\"black\"/>\n",
       "<circle cx=\"5600\" cy=\"3456\" r=\"12\" stroke=\"none\" fill=\"black\"/>\n",
       "<circle cx=\"5600\" cy=\"384\" r=\"12\" stroke=\"none\" fill=\"black\"/>\n",
       "<path d=\"M5664,832 L5664,3520 \" stroke=\"black\"/>\n",
       "<circle cx=\"5664\" cy=\"3520\" r=\"12\" stroke=\"none\" fill=\"black\"/>\n",
       "<circle cx=\"5664\" cy=\"832\" r=\"12\" stroke=\"none\" fill=\"black\"/>\n",
       "<path d=\"M5728,128 L5728,4096 \" stroke=\"black\"/>\n",
       "<circle cx=\"5728\" cy=\"4096\" r=\"12\" stroke=\"none\" fill=\"black\"/>\n",
       "<circle cx=\"5728\" cy=\"128\" r=\"12\" stroke=\"black\" fill=\"white\"/>\n",
       "<path d=\"M5716,128 L5740,128 M5728,116 L5728,140 \" stroke=\"black\"/>\n",
       "<path d=\"M5792,512 L5792,4160 \" stroke=\"black\"/>\n",
       "<circle cx=\"5792\" cy=\"4160\" r=\"12\" stroke=\"none\" fill=\"black\"/>\n",
       "<circle cx=\"5792\" cy=\"512\" r=\"12\" stroke=\"black\" fill=\"white\"/>\n",
       "<path d=\"M5780,512 L5804,512 M5792,500 L5792,524 \" stroke=\"black\"/>\n",
       "<path d=\"M5856,768 L5856,4224 \" stroke=\"black\"/>\n",
       "<circle cx=\"5856\" cy=\"4224\" r=\"12\" stroke=\"none\" fill=\"black\"/>\n",
       "<circle cx=\"5856\" cy=\"768\" r=\"12\" stroke=\"black\" fill=\"white\"/>\n",
       "<path d=\"M5844,768 L5868,768 M5856,756 L5856,780 \" stroke=\"black\"/>\n",
       "<path d=\"M5920,192 L5920,4672 \" stroke=\"black\"/>\n",
       "<circle cx=\"5920\" cy=\"4672\" r=\"12\" stroke=\"none\" fill=\"black\"/>\n",
       "<circle cx=\"5920\" cy=\"192\" r=\"12\" stroke=\"black\" fill=\"white\"/>\n",
       "<path d=\"M5908,192 L5932,192 M5920,180 L5920,204 \" stroke=\"black\"/>\n",
       "<path d=\"M5444,40 L5444,32 L5948,32 L5948,40 \" stroke=\"black\" fill=\"none\"/>\n",
       "<path d=\"M5444,6776 L5444,6784 L5948,6784 L5948,6776 \" stroke=\"black\" fill=\"none\"/>\n",
       "<path d=\"M5984,448 L5984,2944 \" stroke=\"black\"/>\n",
       "<circle cx=\"5984\" cy=\"2944\" r=\"12\" stroke=\"none\" fill=\"black\"/>\n",
       "<circle cx=\"5984\" cy=\"448\" r=\"12\" stroke=\"none\" fill=\"black\"/>\n",
       "<path d=\"M6048,704 L6048,3008 \" stroke=\"black\"/>\n",
       "<circle cx=\"6048\" cy=\"3008\" r=\"12\" stroke=\"none\" fill=\"black\"/>\n",
       "<circle cx=\"6048\" cy=\"704\" r=\"12\" stroke=\"none\" fill=\"black\"/>\n",
       "<path d=\"M6112,384 L6112,4096 \" stroke=\"black\"/>\n",
       "<circle cx=\"6112\" cy=\"4096\" r=\"12\" stroke=\"none\" fill=\"black\"/>\n",
       "<circle cx=\"6112\" cy=\"384\" r=\"12\" stroke=\"black\" fill=\"white\"/>\n",
       "<path d=\"M6100,384 L6124,384 M6112,372 L6112,396 \" stroke=\"black\"/>\n",
       "<path d=\"M6176,768 L6176,4160 \" stroke=\"black\"/>\n",
       "<circle cx=\"6176\" cy=\"4160\" r=\"12\" stroke=\"none\" fill=\"black\"/>\n",
       "<circle cx=\"6176\" cy=\"768\" r=\"12\" stroke=\"black\" fill=\"white\"/>\n",
       "<path d=\"M6164,768 L6188,768 M6176,756 L6176,780 \" stroke=\"black\"/>\n",
       "<path d=\"M5956,40 L5956,32 L6204,32 L6204,40 \" stroke=\"black\" fill=\"none\"/>\n",
       "<path d=\"M5956,6776 L5956,6784 L6204,6784 L6204,6776 \" stroke=\"black\" fill=\"none\"/>\n",
       "<path d=\"M6240,512 L6240,2944 \" stroke=\"black\"/>\n",
       "<circle cx=\"6240\" cy=\"2944\" r=\"12\" stroke=\"none\" fill=\"black\"/>\n",
       "<circle cx=\"6240\" cy=\"512\" r=\"12\" stroke=\"none\" fill=\"black\"/>\n",
       "<path d=\"M6304,768 L6304,3008 \" stroke=\"black\"/>\n",
       "<circle cx=\"6304\" cy=\"3008\" r=\"12\" stroke=\"none\" fill=\"black\"/>\n",
       "<circle cx=\"6304\" cy=\"768\" r=\"12\" stroke=\"none\" fill=\"black\"/>\n",
       "<path d=\"M6368,448 L6368,4096 \" stroke=\"black\"/>\n",
       "<circle cx=\"6368\" cy=\"4096\" r=\"12\" stroke=\"none\" fill=\"black\"/>\n",
       "<circle cx=\"6368\" cy=\"448\" r=\"12\" stroke=\"black\" fill=\"white\"/>\n",
       "<path d=\"M6356,448 L6380,448 M6368,436 L6368,460 \" stroke=\"black\"/>\n",
       "<path d=\"M6432,832 L6432,4160 \" stroke=\"black\"/>\n",
       "<circle cx=\"6432\" cy=\"4160\" r=\"12\" stroke=\"none\" fill=\"black\"/>\n",
       "<circle cx=\"6432\" cy=\"832\" r=\"12\" stroke=\"black\" fill=\"white\"/>\n",
       "<path d=\"M6420,832 L6444,832 M6432,820 L6432,844 \" stroke=\"black\"/>\n",
       "<path d=\"M6212,40 L6212,32 L6460,32 L6460,40 \" stroke=\"black\" fill=\"none\"/>\n",
       "<path d=\"M6212,6776 L6212,6784 L6460,6784 L6460,6776 \" stroke=\"black\" fill=\"none\"/>\n",
       "<rect x=\"6480\" y=\"2928\" width=\"32\" height=\"32\" stroke=\"black\" fill=\"white\"/>\n",
       "<text dominant-baseline=\"central\" text-anchor=\"middle\" font-family=\"monospace\" font-size=\"30\" x=\"6496\" y=\"2944\">H</text>\n",
       "<rect x=\"6480\" y=\"2992\" width=\"32\" height=\"32\" stroke=\"black\" fill=\"white\"/>\n",
       "<text dominant-baseline=\"central\" text-anchor=\"middle\" font-family=\"monospace\" font-size=\"30\" x=\"6496\" y=\"3008\">H</text>\n",
       "<rect x=\"6480\" y=\"3440\" width=\"32\" height=\"32\" stroke=\"black\" fill=\"white\"/>\n",
       "<text dominant-baseline=\"central\" text-anchor=\"middle\" font-family=\"monospace\" font-size=\"30\" x=\"6496\" y=\"3456\">H</text>\n",
       "<rect x=\"6480\" y=\"3504\" width=\"32\" height=\"32\" stroke=\"black\" fill=\"white\"/>\n",
       "<text dominant-baseline=\"central\" text-anchor=\"middle\" font-family=\"monospace\" font-size=\"30\" x=\"6496\" y=\"3520\">H</text>\n",
       "<rect x=\"6480\" y=\"4080\" width=\"32\" height=\"32\" stroke=\"black\" fill=\"white\"/>\n",
       "<text dominant-baseline=\"central\" text-anchor=\"middle\" font-family=\"monospace\" font-size=\"30\" x=\"6496\" y=\"4096\">H</text>\n",
       "<rect x=\"6480\" y=\"4144\" width=\"32\" height=\"32\" stroke=\"black\" fill=\"white\"/>\n",
       "<text dominant-baseline=\"central\" text-anchor=\"middle\" font-family=\"monospace\" font-size=\"30\" x=\"6496\" y=\"4160\">H</text>\n",
       "<rect x=\"6480\" y=\"4208\" width=\"32\" height=\"32\" stroke=\"black\" fill=\"white\"/>\n",
       "<text dominant-baseline=\"central\" text-anchor=\"middle\" font-family=\"monospace\" font-size=\"30\" x=\"6496\" y=\"4224\">H</text>\n",
       "<rect x=\"6480\" y=\"4656\" width=\"32\" height=\"32\" stroke=\"black\" fill=\"white\"/>\n",
       "<text dominant-baseline=\"central\" text-anchor=\"middle\" font-family=\"monospace\" font-size=\"30\" x=\"6496\" y=\"4672\">H</text>\n",
       "<rect x=\"6544\" y=\"2928\" width=\"32\" height=\"32\" stroke=\"black\" fill=\"black\"/>\n",
       "<text dominant-baseline=\"central\" text-anchor=\"middle\" font-family=\"monospace\" font-size=\"24\" x=\"6560\" y=\"2944\" fill=\"white\">MR</text>\n",
       "<text text-anchor=\"middle\" font-family=\"monospace\" font-size=\"8\" x=\"6560\" y=\"2924\">rec[23]</text>\n",
       "<rect x=\"6544\" y=\"2992\" width=\"32\" height=\"32\" stroke=\"black\" fill=\"black\"/>\n",
       "<text dominant-baseline=\"central\" text-anchor=\"middle\" font-family=\"monospace\" font-size=\"24\" x=\"6560\" y=\"3008\" fill=\"white\">MR</text>\n",
       "<text text-anchor=\"middle\" font-family=\"monospace\" font-size=\"8\" x=\"6560\" y=\"2988\">rec[24]</text>\n",
       "<rect x=\"6544\" y=\"3440\" width=\"32\" height=\"32\" stroke=\"black\" fill=\"black\"/>\n",
       "<text dominant-baseline=\"central\" text-anchor=\"middle\" font-family=\"monospace\" font-size=\"24\" x=\"6560\" y=\"3456\" fill=\"white\">MR</text>\n",
       "<text text-anchor=\"middle\" font-family=\"monospace\" font-size=\"8\" x=\"6560\" y=\"3436\">rec[25]</text>\n",
       "<rect x=\"6544\" y=\"3504\" width=\"32\" height=\"32\" stroke=\"black\" fill=\"black\"/>\n",
       "<text dominant-baseline=\"central\" text-anchor=\"middle\" font-family=\"monospace\" font-size=\"24\" x=\"6560\" y=\"3520\" fill=\"white\">MR</text>\n",
       "<text text-anchor=\"middle\" font-family=\"monospace\" font-size=\"8\" x=\"6560\" y=\"3500\">rec[26]</text>\n",
       "<rect x=\"6544\" y=\"4080\" width=\"32\" height=\"32\" stroke=\"black\" fill=\"black\"/>\n",
       "<text dominant-baseline=\"central\" text-anchor=\"middle\" font-family=\"monospace\" font-size=\"24\" x=\"6560\" y=\"4096\" fill=\"white\">MR</text>\n",
       "<text text-anchor=\"middle\" font-family=\"monospace\" font-size=\"8\" x=\"6560\" y=\"4076\">rec[27]</text>\n",
       "<rect x=\"6544\" y=\"4144\" width=\"32\" height=\"32\" stroke=\"black\" fill=\"black\"/>\n",
       "<text dominant-baseline=\"central\" text-anchor=\"middle\" font-family=\"monospace\" font-size=\"24\" x=\"6560\" y=\"4160\" fill=\"white\">MR</text>\n",
       "<text text-anchor=\"middle\" font-family=\"monospace\" font-size=\"8\" x=\"6560\" y=\"4140\">rec[28]</text>\n",
       "<rect x=\"6544\" y=\"4208\" width=\"32\" height=\"32\" stroke=\"black\" fill=\"black\"/>\n",
       "<text dominant-baseline=\"central\" text-anchor=\"middle\" font-family=\"monospace\" font-size=\"24\" x=\"6560\" y=\"4224\" fill=\"white\">MR</text>\n",
       "<text text-anchor=\"middle\" font-family=\"monospace\" font-size=\"8\" x=\"6560\" y=\"4204\">rec[29]</text>\n",
       "<rect x=\"6544\" y=\"4656\" width=\"32\" height=\"32\" stroke=\"black\" fill=\"black\"/>\n",
       "<text dominant-baseline=\"central\" text-anchor=\"middle\" font-family=\"monospace\" font-size=\"24\" x=\"6560\" y=\"4672\" fill=\"white\">MR</text>\n",
       "<text text-anchor=\"middle\" font-family=\"monospace\" font-size=\"8\" x=\"6560\" y=\"4652\">rec[30]</text>\n",
       "<rect x=\"6608\" y=\"3312\" width=\"32\" height=\"32\" stroke=\"black\" fill=\"white\"/>\n",
       "<text dominant-baseline=\"central\" text-anchor=\"middle\" font-family=\"monospace\" font-size=\"30\" x=\"6624\" y=\"3328\">H</text>\n",
       "<rect x=\"6608\" y=\"3376\" width=\"32\" height=\"32\" stroke=\"black\" fill=\"white\"/>\n",
       "<text dominant-baseline=\"central\" text-anchor=\"middle\" font-family=\"monospace\" font-size=\"30\" x=\"6624\" y=\"3392\">H</text>\n",
       "<rect x=\"6608\" y=\"3824\" width=\"32\" height=\"32\" stroke=\"black\" fill=\"white\"/>\n",
       "<text dominant-baseline=\"central\" text-anchor=\"middle\" font-family=\"monospace\" font-size=\"30\" x=\"6624\" y=\"3840\">H</text>\n",
       "<rect x=\"6608\" y=\"3888\" width=\"32\" height=\"32\" stroke=\"black\" fill=\"white\"/>\n",
       "<text dominant-baseline=\"central\" text-anchor=\"middle\" font-family=\"monospace\" font-size=\"30\" x=\"6624\" y=\"3904\">H</text>\n",
       "<rect x=\"6608\" y=\"4272\" width=\"32\" height=\"32\" stroke=\"black\" fill=\"white\"/>\n",
       "<text dominant-baseline=\"central\" text-anchor=\"middle\" font-family=\"monospace\" font-size=\"30\" x=\"6624\" y=\"4288\">H</text>\n",
       "<rect x=\"6608\" y=\"4464\" width=\"32\" height=\"32\" stroke=\"black\" fill=\"white\"/>\n",
       "<text dominant-baseline=\"central\" text-anchor=\"middle\" font-family=\"monospace\" font-size=\"30\" x=\"6624\" y=\"4480\">H</text>\n",
       "<rect x=\"6608\" y=\"4528\" width=\"32\" height=\"32\" stroke=\"black\" fill=\"white\"/>\n",
       "<text dominant-baseline=\"central\" text-anchor=\"middle\" font-family=\"monospace\" font-size=\"30\" x=\"6624\" y=\"4544\">H</text>\n",
       "<rect x=\"6608\" y=\"4592\" width=\"32\" height=\"32\" stroke=\"black\" fill=\"white\"/>\n",
       "<text dominant-baseline=\"central\" text-anchor=\"middle\" font-family=\"monospace\" font-size=\"30\" x=\"6624\" y=\"4608\">H</text>\n",
       "<path d=\"M6688,1408 L6688,3328 \" stroke=\"black\"/>\n",
       "<circle cx=\"6688\" cy=\"3328\" r=\"12\" stroke=\"none\" fill=\"black\"/>\n",
       "<circle cx=\"6688\" cy=\"1408\" r=\"12\" stroke=\"none\" fill=\"black\"/>\n",
       "<path d=\"M6752,1664 L6752,3392 \" stroke=\"black\"/>\n",
       "<circle cx=\"6752\" cy=\"3392\" r=\"12\" stroke=\"none\" fill=\"black\"/>\n",
       "<circle cx=\"6752\" cy=\"1664\" r=\"12\" stroke=\"none\" fill=\"black\"/>\n",
       "<path d=\"M6816,1344 L6816,3840 \" stroke=\"black\"/>\n",
       "<circle cx=\"6816\" cy=\"3840\" r=\"12\" stroke=\"none\" fill=\"black\"/>\n",
       "<circle cx=\"6816\" cy=\"1344\" r=\"12\" stroke=\"none\" fill=\"black\"/>\n",
       "<path d=\"M6880,1792 L6880,3904 \" stroke=\"black\"/>\n",
       "<circle cx=\"6880\" cy=\"3904\" r=\"12\" stroke=\"none\" fill=\"black\"/>\n",
       "<circle cx=\"6880\" cy=\"1792\" r=\"12\" stroke=\"none\" fill=\"black\"/>\n",
       "<path d=\"M6944,1408 L6944,4288 \" stroke=\"black\"/>\n",
       "<circle cx=\"6944\" cy=\"4288\" r=\"12\" stroke=\"none\" fill=\"black\"/>\n",
       "<circle cx=\"6944\" cy=\"1408\" r=\"12\" stroke=\"black\" fill=\"white\"/>\n",
       "<path d=\"M6932,1408 L6956,1408 M6944,1396 L6944,1420 \" stroke=\"black\"/>\n",
       "<path d=\"M7008,1344 L7008,4480 \" stroke=\"black\"/>\n",
       "<circle cx=\"7008\" cy=\"4480\" r=\"12\" stroke=\"none\" fill=\"black\"/>\n",
       "<circle cx=\"7008\" cy=\"1344\" r=\"12\" stroke=\"black\" fill=\"white\"/>\n",
       "<path d=\"M6996,1344 L7020,1344 M7008,1332 L7008,1356 \" stroke=\"black\"/>\n",
       "<path d=\"M7072,1728 L7072,4544 \" stroke=\"black\"/>\n",
       "<circle cx=\"7072\" cy=\"4544\" r=\"12\" stroke=\"none\" fill=\"black\"/>\n",
       "<circle cx=\"7072\" cy=\"1728\" r=\"12\" stroke=\"black\" fill=\"white\"/>\n",
       "<path d=\"M7060,1728 L7084,1728 M7072,1716 L7072,1740 \" stroke=\"black\"/>\n",
       "<path d=\"M7136,1984 L7136,4608 \" stroke=\"black\"/>\n",
       "<circle cx=\"7136\" cy=\"4608\" r=\"12\" stroke=\"none\" fill=\"black\"/>\n",
       "<circle cx=\"7136\" cy=\"1984\" r=\"12\" stroke=\"black\" fill=\"white\"/>\n",
       "<path d=\"M7124,1984 L7148,1984 M7136,1972 L7136,1996 \" stroke=\"black\"/>\n",
       "<path d=\"M6660,40 L6660,32 L7164,32 L7164,40 \" stroke=\"black\" fill=\"none\"/>\n",
       "<path d=\"M6660,6776 L6660,6784 L7164,6784 L7164,6776 \" stroke=\"black\" fill=\"none\"/>\n",
       "<path d=\"M7200,1472 L7200,3328 \" stroke=\"black\"/>\n",
       "<circle cx=\"7200\" cy=\"3328\" r=\"12\" stroke=\"none\" fill=\"black\"/>\n",
       "<circle cx=\"7200\" cy=\"1472\" r=\"12\" stroke=\"none\" fill=\"black\"/>\n",
       "<path d=\"M7264,1728 L7264,3392 \" stroke=\"black\"/>\n",
       "<circle cx=\"7264\" cy=\"3392\" r=\"12\" stroke=\"none\" fill=\"black\"/>\n",
       "<circle cx=\"7264\" cy=\"1728\" r=\"12\" stroke=\"none\" fill=\"black\"/>\n",
       "<path d=\"M7328,1664 L7328,3840 \" stroke=\"black\"/>\n",
       "<circle cx=\"7328\" cy=\"3840\" r=\"12\" stroke=\"none\" fill=\"black\"/>\n",
       "<circle cx=\"7328\" cy=\"1664\" r=\"12\" stroke=\"none\" fill=\"black\"/>\n",
       "<path d=\"M7392,2112 L7392,3904 \" stroke=\"black\"/>\n",
       "<circle cx=\"7392\" cy=\"3904\" r=\"12\" stroke=\"none\" fill=\"black\"/>\n",
       "<circle cx=\"7392\" cy=\"2112\" r=\"12\" stroke=\"none\" fill=\"black\"/>\n",
       "<path d=\"M7456,1472 L7456,4288 \" stroke=\"black\"/>\n",
       "<circle cx=\"7456\" cy=\"4288\" r=\"12\" stroke=\"none\" fill=\"black\"/>\n",
       "<circle cx=\"7456\" cy=\"1472\" r=\"12\" stroke=\"black\" fill=\"white\"/>\n",
       "<path d=\"M7444,1472 L7468,1472 M7456,1460 L7456,1484 \" stroke=\"black\"/>\n",
       "<path d=\"M7520,1408 L7520,4480 \" stroke=\"black\"/>\n",
       "<circle cx=\"7520\" cy=\"4480\" r=\"12\" stroke=\"none\" fill=\"black\"/>\n",
       "<circle cx=\"7520\" cy=\"1408\" r=\"12\" stroke=\"black\" fill=\"white\"/>\n",
       "<path d=\"M7508,1408 L7532,1408 M7520,1396 L7520,1420 \" stroke=\"black\"/>\n",
       "<path d=\"M7584,1792 L7584,4544 \" stroke=\"black\"/>\n",
       "<circle cx=\"7584\" cy=\"4544\" r=\"12\" stroke=\"none\" fill=\"black\"/>\n",
       "<circle cx=\"7584\" cy=\"1792\" r=\"12\" stroke=\"black\" fill=\"white\"/>\n",
       "<path d=\"M7572,1792 L7596,1792 M7584,1780 L7584,1804 \" stroke=\"black\"/>\n",
       "<path d=\"M7648,2048 L7648,4608 \" stroke=\"black\"/>\n",
       "<circle cx=\"7648\" cy=\"4608\" r=\"12\" stroke=\"none\" fill=\"black\"/>\n",
       "<circle cx=\"7648\" cy=\"2048\" r=\"12\" stroke=\"black\" fill=\"white\"/>\n",
       "<path d=\"M7636,2048 L7660,2048 M7648,2036 L7648,2060 \" stroke=\"black\"/>\n",
       "<path d=\"M7172,40 L7172,32 L7676,32 L7676,40 \" stroke=\"black\" fill=\"none\"/>\n",
       "<path d=\"M7172,6776 L7172,6784 L7676,6784 L7676,6776 \" stroke=\"black\" fill=\"none\"/>\n",
       "<path d=\"M7712,1728 L7712,3328 \" stroke=\"black\"/>\n",
       "<circle cx=\"7712\" cy=\"3328\" r=\"12\" stroke=\"none\" fill=\"black\"/>\n",
       "<circle cx=\"7712\" cy=\"1728\" r=\"12\" stroke=\"none\" fill=\"black\"/>\n",
       "<path d=\"M7776,1984 L7776,3392 \" stroke=\"black\"/>\n",
       "<circle cx=\"7776\" cy=\"3392\" r=\"12\" stroke=\"none\" fill=\"black\"/>\n",
       "<circle cx=\"7776\" cy=\"1984\" r=\"12\" stroke=\"none\" fill=\"black\"/>\n",
       "<path d=\"M7840,1664 L7840,4480 \" stroke=\"black\"/>\n",
       "<circle cx=\"7840\" cy=\"4480\" r=\"12\" stroke=\"none\" fill=\"black\"/>\n",
       "<circle cx=\"7840\" cy=\"1664\" r=\"12\" stroke=\"black\" fill=\"white\"/>\n",
       "<path d=\"M7828,1664 L7852,1664 M7840,1652 L7840,1676 \" stroke=\"black\"/>\n",
       "<path d=\"M7904,2048 L7904,4544 \" stroke=\"black\"/>\n",
       "<circle cx=\"7904\" cy=\"4544\" r=\"12\" stroke=\"none\" fill=\"black\"/>\n",
       "<circle cx=\"7904\" cy=\"2048\" r=\"12\" stroke=\"black\" fill=\"white\"/>\n",
       "<path d=\"M7892,2048 L7916,2048 M7904,2036 L7904,2060 \" stroke=\"black\"/>\n",
       "<path d=\"M7684,40 L7684,32 L7932,32 L7932,40 \" stroke=\"black\" fill=\"none\"/>\n",
       "<path d=\"M7684,6776 L7684,6784 L7932,6784 L7932,6776 \" stroke=\"black\" fill=\"none\"/>\n",
       "<path d=\"M7968,1792 L7968,3328 \" stroke=\"black\"/>\n",
       "<circle cx=\"7968\" cy=\"3328\" r=\"12\" stroke=\"none\" fill=\"black\"/>\n",
       "<circle cx=\"7968\" cy=\"1792\" r=\"12\" stroke=\"none\" fill=\"black\"/>\n",
       "<path d=\"M8032,2048 L8032,3392 \" stroke=\"black\"/>\n",
       "<circle cx=\"8032\" cy=\"3392\" r=\"12\" stroke=\"none\" fill=\"black\"/>\n",
       "<circle cx=\"8032\" cy=\"2048\" r=\"12\" stroke=\"none\" fill=\"black\"/>\n",
       "<path d=\"M8096,1728 L8096,4480 \" stroke=\"black\"/>\n",
       "<circle cx=\"8096\" cy=\"4480\" r=\"12\" stroke=\"none\" fill=\"black\"/>\n",
       "<circle cx=\"8096\" cy=\"1728\" r=\"12\" stroke=\"black\" fill=\"white\"/>\n",
       "<path d=\"M8084,1728 L8108,1728 M8096,1716 L8096,1740 \" stroke=\"black\"/>\n",
       "<path d=\"M8160,2112 L8160,4544 \" stroke=\"black\"/>\n",
       "<circle cx=\"8160\" cy=\"4544\" r=\"12\" stroke=\"none\" fill=\"black\"/>\n",
       "<circle cx=\"8160\" cy=\"2112\" r=\"12\" stroke=\"black\" fill=\"white\"/>\n",
       "<path d=\"M8148,2112 L8172,2112 M8160,2100 L8160,2124 \" stroke=\"black\"/>\n",
       "<path d=\"M7940,40 L7940,32 L8188,32 L8188,40 \" stroke=\"black\" fill=\"none\"/>\n",
       "<path d=\"M7940,6776 L7940,6784 L8188,6784 L8188,6776 \" stroke=\"black\" fill=\"none\"/>\n",
       "<rect x=\"8208\" y=\"3312\" width=\"32\" height=\"32\" stroke=\"black\" fill=\"white\"/>\n",
       "<text dominant-baseline=\"central\" text-anchor=\"middle\" font-family=\"monospace\" font-size=\"30\" x=\"8224\" y=\"3328\">H</text>\n",
       "<rect x=\"8208\" y=\"3376\" width=\"32\" height=\"32\" stroke=\"black\" fill=\"white\"/>\n",
       "<text dominant-baseline=\"central\" text-anchor=\"middle\" font-family=\"monospace\" font-size=\"30\" x=\"8224\" y=\"3392\">H</text>\n",
       "<rect x=\"8208\" y=\"3824\" width=\"32\" height=\"32\" stroke=\"black\" fill=\"white\"/>\n",
       "<text dominant-baseline=\"central\" text-anchor=\"middle\" font-family=\"monospace\" font-size=\"30\" x=\"8224\" y=\"3840\">H</text>\n",
       "<rect x=\"8208\" y=\"3888\" width=\"32\" height=\"32\" stroke=\"black\" fill=\"white\"/>\n",
       "<text dominant-baseline=\"central\" text-anchor=\"middle\" font-family=\"monospace\" font-size=\"30\" x=\"8224\" y=\"3904\">H</text>\n",
       "<rect x=\"8208\" y=\"4272\" width=\"32\" height=\"32\" stroke=\"black\" fill=\"white\"/>\n",
       "<text dominant-baseline=\"central\" text-anchor=\"middle\" font-family=\"monospace\" font-size=\"30\" x=\"8224\" y=\"4288\">H</text>\n",
       "<rect x=\"8208\" y=\"4464\" width=\"32\" height=\"32\" stroke=\"black\" fill=\"white\"/>\n",
       "<text dominant-baseline=\"central\" text-anchor=\"middle\" font-family=\"monospace\" font-size=\"30\" x=\"8224\" y=\"4480\">H</text>\n",
       "<rect x=\"8208\" y=\"4528\" width=\"32\" height=\"32\" stroke=\"black\" fill=\"white\"/>\n",
       "<text dominant-baseline=\"central\" text-anchor=\"middle\" font-family=\"monospace\" font-size=\"30\" x=\"8224\" y=\"4544\">H</text>\n",
       "<rect x=\"8208\" y=\"4592\" width=\"32\" height=\"32\" stroke=\"black\" fill=\"white\"/>\n",
       "<text dominant-baseline=\"central\" text-anchor=\"middle\" font-family=\"monospace\" font-size=\"30\" x=\"8224\" y=\"4608\">H</text>\n",
       "<rect x=\"8272\" y=\"3312\" width=\"32\" height=\"32\" stroke=\"black\" fill=\"black\"/>\n",
       "<text dominant-baseline=\"central\" text-anchor=\"middle\" font-family=\"monospace\" font-size=\"24\" x=\"8288\" y=\"3328\" fill=\"white\">MR</text>\n",
       "<text text-anchor=\"middle\" font-family=\"monospace\" font-size=\"8\" x=\"8288\" y=\"3308\">rec[31]</text>\n",
       "<rect x=\"8272\" y=\"3376\" width=\"32\" height=\"32\" stroke=\"black\" fill=\"black\"/>\n",
       "<text dominant-baseline=\"central\" text-anchor=\"middle\" font-family=\"monospace\" font-size=\"24\" x=\"8288\" y=\"3392\" fill=\"white\">MR</text>\n",
       "<text text-anchor=\"middle\" font-family=\"monospace\" font-size=\"8\" x=\"8288\" y=\"3372\">rec[32]</text>\n",
       "<rect x=\"8272\" y=\"3824\" width=\"32\" height=\"32\" stroke=\"black\" fill=\"black\"/>\n",
       "<text dominant-baseline=\"central\" text-anchor=\"middle\" font-family=\"monospace\" font-size=\"24\" x=\"8288\" y=\"3840\" fill=\"white\">MR</text>\n",
       "<text text-anchor=\"middle\" font-family=\"monospace\" font-size=\"8\" x=\"8288\" y=\"3820\">rec[33]</text>\n",
       "<rect x=\"8272\" y=\"3888\" width=\"32\" height=\"32\" stroke=\"black\" fill=\"black\"/>\n",
       "<text dominant-baseline=\"central\" text-anchor=\"middle\" font-family=\"monospace\" font-size=\"24\" x=\"8288\" y=\"3904\" fill=\"white\">MR</text>\n",
       "<text text-anchor=\"middle\" font-family=\"monospace\" font-size=\"8\" x=\"8288\" y=\"3884\">rec[34]</text>\n",
       "<rect x=\"8272\" y=\"4272\" width=\"32\" height=\"32\" stroke=\"black\" fill=\"black\"/>\n",
       "<text dominant-baseline=\"central\" text-anchor=\"middle\" font-family=\"monospace\" font-size=\"24\" x=\"8288\" y=\"4288\" fill=\"white\">MR</text>\n",
       "<text text-anchor=\"middle\" font-family=\"monospace\" font-size=\"8\" x=\"8288\" y=\"4268\">rec[35]</text>\n",
       "<rect x=\"8272\" y=\"4464\" width=\"32\" height=\"32\" stroke=\"black\" fill=\"black\"/>\n",
       "<text dominant-baseline=\"central\" text-anchor=\"middle\" font-family=\"monospace\" font-size=\"24\" x=\"8288\" y=\"4480\" fill=\"white\">MR</text>\n",
       "<text text-anchor=\"middle\" font-family=\"monospace\" font-size=\"8\" x=\"8288\" y=\"4460\">rec[36]</text>\n",
       "<rect x=\"8272\" y=\"4528\" width=\"32\" height=\"32\" stroke=\"black\" fill=\"black\"/>\n",
       "<text dominant-baseline=\"central\" text-anchor=\"middle\" font-family=\"monospace\" font-size=\"24\" x=\"8288\" y=\"4544\" fill=\"white\">MR</text>\n",
       "<text text-anchor=\"middle\" font-family=\"monospace\" font-size=\"8\" x=\"8288\" y=\"4524\">rec[37]</text>\n",
       "<rect x=\"8272\" y=\"4592\" width=\"32\" height=\"32\" stroke=\"black\" fill=\"black\"/>\n",
       "<text dominant-baseline=\"central\" text-anchor=\"middle\" font-family=\"monospace\" font-size=\"24\" x=\"8288\" y=\"4608\" fill=\"white\">MR</text>\n",
       "<text text-anchor=\"middle\" font-family=\"monospace\" font-size=\"8\" x=\"8288\" y=\"4588\">rec[38]</text>\n",
       "<rect x=\"8336\" y=\"688\" width=\"32\" height=\"32\" stroke=\"black\" fill=\"black\"/>\n",
       "<text dominant-baseline=\"central\" text-anchor=\"middle\" font-family=\"monospace\" font-size=\"30\" x=\"8352\" y=\"704\" fill=\"white\">M</text>\n",
       "<text text-anchor=\"middle\" font-family=\"monospace\" font-size=\"8\" x=\"8352\" y=\"684\">rec[39]</text>\n",
       "<rect x=\"8336\" y=\"752\" width=\"32\" height=\"32\" stroke=\"black\" fill=\"black\"/>\n",
       "<text dominant-baseline=\"central\" text-anchor=\"middle\" font-family=\"monospace\" font-size=\"30\" x=\"8352\" y=\"768\" fill=\"white\">M</text>\n",
       "<text text-anchor=\"middle\" font-family=\"monospace\" font-size=\"8\" x=\"8352\" y=\"748\">rec[40]</text>\n",
       "<rect x=\"8336\" y=\"816\" width=\"32\" height=\"32\" stroke=\"black\" fill=\"black\"/>\n",
       "<text dominant-baseline=\"central\" text-anchor=\"middle\" font-family=\"monospace\" font-size=\"30\" x=\"8352\" y=\"832\" fill=\"white\">M</text>\n",
       "<text text-anchor=\"middle\" font-family=\"monospace\" font-size=\"8\" x=\"8352\" y=\"812\">rec[41]</text>\n",
       "<rect x=\"8336\" y=\"1456\" width=\"32\" height=\"32\" stroke=\"black\" fill=\"black\"/>\n",
       "<text dominant-baseline=\"central\" text-anchor=\"middle\" font-family=\"monospace\" font-size=\"30\" x=\"8352\" y=\"1472\" fill=\"white\">M</text>\n",
       "<text text-anchor=\"middle\" font-family=\"monospace\" font-size=\"8\" x=\"8352\" y=\"1452\">rec[42]</text>\n",
       "<rect x=\"8336\" y=\"1392\" width=\"32\" height=\"32\" stroke=\"black\" fill=\"black\"/>\n",
       "<text dominant-baseline=\"central\" text-anchor=\"middle\" font-family=\"monospace\" font-size=\"30\" x=\"8352\" y=\"1408\" fill=\"white\">M</text>\n",
       "<text text-anchor=\"middle\" font-family=\"monospace\" font-size=\"8\" x=\"8352\" y=\"1388\">rec[43]</text>\n",
       "<rect x=\"8336\" y=\"1328\" width=\"32\" height=\"32\" stroke=\"black\" fill=\"black\"/>\n",
       "<text dominant-baseline=\"central\" text-anchor=\"middle\" font-family=\"monospace\" font-size=\"30\" x=\"8352\" y=\"1344\" fill=\"white\">M</text>\n",
       "<text text-anchor=\"middle\" font-family=\"monospace\" font-size=\"8\" x=\"8352\" y=\"1324\">rec[44]</text>\n",
       "</svg>"
      ],
      "text/plain": [
       "<svg viewBox=\"0 0 8416 6816\"  version=\"1.1\" xmlns=\"http://www.w3.org/2000/svg\">\n",
       "<g id=\"qubit_lines\">\n",
       "<path id=\"qubit_line:0\" d=\"M64,64 L8384,64 \" stroke=\"black\"/>\n",
       "<text dominant-baseline=\"central\" text-anchor=\"end\" font-family=\"monospace\" font-size=\"12\" x=\"64\" y=\"64\">q0</text>\n",
       "<path id=\"qubit_line:1\" d=\"M64,128 L8384,128 \" stroke=\"black\"/>\n",
       "<text dominant-baseline=\"central\" text-anchor=\"end\" font-family=\"monospace\" font-size=\"12\" x=\"64\" y=\"128\">q1</text>\n",
       "<path id=\"qubit_line:2\" d=\"M64,192 L8384,192 \" stroke=\"black\"/>\n",
       "<text dominant-baseline=\"central\" text-anchor=\"end\" font-family=\"monospace\" font-size=\"12\" x=\"64\" y=\"192\">q2</text>\n",
       "<path id=\"qubit_line:3\" d=\"M64,256 L8384,256 \" stroke=\"black\"/>\n",
       "<text dominant-baseline=\"central\" text-anchor=\"end\" font-family=\"monospace\" font-size=\"12\" x=\"64\" y=\"256\">q3</text>\n",
       "<path id=\"qubit_line:4\" d=\"M64,320 L8384,320 \" stroke=\"black\"/>\n",
       "<text dominant-baseline=\"central\" text-anchor=\"end\" font-family=\"monospace\" font-size=\"12\" x=\"64\" y=\"320\">q4</text>\n",
       "<path id=\"qubit_line:5\" d=\"M64,384 L8384,384 \" stroke=\"black\"/>\n",
       "<text dominant-baseline=\"central\" text-anchor=\"end\" font-family=\"monospace\" font-size=\"12\" x=\"64\" y=\"384\">q5</text>\n",
       "<path id=\"qubit_line:6\" d=\"M64,448 L8384,448 \" stroke=\"black\"/>\n",
       "<text dominant-baseline=\"central\" text-anchor=\"end\" font-family=\"monospace\" font-size=\"12\" x=\"64\" y=\"448\">q6</text>\n",
       "<path id=\"qubit_line:7\" d=\"M64,512 L8384,512 \" stroke=\"black\"/>\n",
       "<text dominant-baseline=\"central\" text-anchor=\"end\" font-family=\"monospace\" font-size=\"12\" x=\"64\" y=\"512\">q7</text>\n",
       "<path id=\"qubit_line:8\" d=\"M64,576 L8384,576 \" stroke=\"black\"/>\n",
       "<text dominant-baseline=\"central\" text-anchor=\"end\" font-family=\"monospace\" font-size=\"12\" x=\"64\" y=\"576\">q8</text>\n",
       "<path id=\"qubit_line:9\" d=\"M64,640 L8384,640 \" stroke=\"black\"/>\n",
       "<text dominant-baseline=\"central\" text-anchor=\"end\" font-family=\"monospace\" font-size=\"12\" x=\"64\" y=\"640\">q9</text>\n",
       "<path id=\"qubit_line:10\" d=\"M64,704 L8384,704 \" stroke=\"black\"/>\n",
       "<text dominant-baseline=\"central\" text-anchor=\"end\" font-family=\"monospace\" font-size=\"12\" x=\"64\" y=\"704\">q10</text>\n",
       "<path id=\"qubit_line:11\" d=\"M64,768 L8384,768 \" stroke=\"black\"/>\n",
       "<text dominant-baseline=\"central\" text-anchor=\"end\" font-family=\"monospace\" font-size=\"12\" x=\"64\" y=\"768\">q11</text>\n",
       "<path id=\"qubit_line:12\" d=\"M64,832 L8384,832 \" stroke=\"black\"/>\n",
       "<text dominant-baseline=\"central\" text-anchor=\"end\" font-family=\"monospace\" font-size=\"12\" x=\"64\" y=\"832\">q12</text>\n",
       "<path id=\"qubit_line:13\" d=\"M64,896 L8384,896 \" stroke=\"black\"/>\n",
       "<text dominant-baseline=\"central\" text-anchor=\"end\" font-family=\"monospace\" font-size=\"12\" x=\"64\" y=\"896\">q13</text>\n",
       "<path id=\"qubit_line:14\" d=\"M64,960 L8384,960 \" stroke=\"black\"/>\n",
       "<text dominant-baseline=\"central\" text-anchor=\"end\" font-family=\"monospace\" font-size=\"12\" x=\"64\" y=\"960\">q14</text>\n",
       "<path id=\"qubit_line:15\" d=\"M64,1024 L8384,1024 \" stroke=\"black\"/>\n",
       "<text dominant-baseline=\"central\" text-anchor=\"end\" font-family=\"monospace\" font-size=\"12\" x=\"64\" y=\"1024\">q15</text>\n",
       "<path id=\"qubit_line:16\" d=\"M64,1088 L8384,1088 \" stroke=\"black\"/>\n",
       "<text dominant-baseline=\"central\" text-anchor=\"end\" font-family=\"monospace\" font-size=\"12\" x=\"64\" y=\"1088\">q16</text>\n",
       "<path id=\"qubit_line:17\" d=\"M64,1152 L8384,1152 \" stroke=\"black\"/>\n",
       "<text dominant-baseline=\"central\" text-anchor=\"end\" font-family=\"monospace\" font-size=\"12\" x=\"64\" y=\"1152\">q17</text>\n",
       "<path id=\"qubit_line:18\" d=\"M64,1216 L8384,1216 \" stroke=\"black\"/>\n",
       "<text dominant-baseline=\"central\" text-anchor=\"end\" font-family=\"monospace\" font-size=\"12\" x=\"64\" y=\"1216\">q18</text>\n",
       "<path id=\"qubit_line:19\" d=\"M64,1280 L8384,1280 \" stroke=\"black\"/>\n",
       "<text dominant-baseline=\"central\" text-anchor=\"end\" font-family=\"monospace\" font-size=\"12\" x=\"64\" y=\"1280\">q19</text>\n",
       "<path id=\"qubit_line:20\" d=\"M64,1344 L8384,1344 \" stroke=\"black\"/>\n",
       "<text dominant-baseline=\"central\" text-anchor=\"end\" font-family=\"monospace\" font-size=\"12\" x=\"64\" y=\"1344\">q20</text>\n",
       "<path id=\"qubit_line:21\" d=\"M64,1408 L8384,1408 \" stroke=\"black\"/>\n",
       "<text dominant-baseline=\"central\" text-anchor=\"end\" font-family=\"monospace\" font-size=\"12\" x=\"64\" y=\"1408\">q21</text>\n",
       "<path id=\"qubit_line:22\" d=\"M64,1472 L8384,1472 \" stroke=\"black\"/>\n",
       "<text dominant-baseline=\"central\" text-anchor=\"end\" font-family=\"monospace\" font-size=\"12\" x=\"64\" y=\"1472\">q22</text>\n",
       "<path id=\"qubit_line:23\" d=\"M64,1536 L8384,1536 \" stroke=\"black\"/>\n",
       "<text dominant-baseline=\"central\" text-anchor=\"end\" font-family=\"monospace\" font-size=\"12\" x=\"64\" y=\"1536\">q23</text>\n",
       "<path id=\"qubit_line:24\" d=\"M64,1600 L8384,1600 \" stroke=\"black\"/>\n",
       "<text dominant-baseline=\"central\" text-anchor=\"end\" font-family=\"monospace\" font-size=\"12\" x=\"64\" y=\"1600\">q24</text>\n",
       "<path id=\"qubit_line:25\" d=\"M64,1664 L8384,1664 \" stroke=\"black\"/>\n",
       "<text dominant-baseline=\"central\" text-anchor=\"end\" font-family=\"monospace\" font-size=\"12\" x=\"64\" y=\"1664\">q25</text>\n",
       "<path id=\"qubit_line:26\" d=\"M64,1728 L8384,1728 \" stroke=\"black\"/>\n",
       "<text dominant-baseline=\"central\" text-anchor=\"end\" font-family=\"monospace\" font-size=\"12\" x=\"64\" y=\"1728\">q26</text>\n",
       "<path id=\"qubit_line:27\" d=\"M64,1792 L8384,1792 \" stroke=\"black\"/>\n",
       "<text dominant-baseline=\"central\" text-anchor=\"end\" font-family=\"monospace\" font-size=\"12\" x=\"64\" y=\"1792\">q27</text>\n",
       "<path id=\"qubit_line:28\" d=\"M64,1856 L8384,1856 \" stroke=\"black\"/>\n",
       "<text dominant-baseline=\"central\" text-anchor=\"end\" font-family=\"monospace\" font-size=\"12\" x=\"64\" y=\"1856\">q28</text>\n",
       "<path id=\"qubit_line:29\" d=\"M64,1920 L8384,1920 \" stroke=\"black\"/>\n",
       "<text dominant-baseline=\"central\" text-anchor=\"end\" font-family=\"monospace\" font-size=\"12\" x=\"64\" y=\"1920\">q29</text>\n",
       "<path id=\"qubit_line:30\" d=\"M64,1984 L8384,1984 \" stroke=\"black\"/>\n",
       "<text dominant-baseline=\"central\" text-anchor=\"end\" font-family=\"monospace\" font-size=\"12\" x=\"64\" y=\"1984\">q30</text>\n",
       "<path id=\"qubit_line:31\" d=\"M64,2048 L8384,2048 \" stroke=\"black\"/>\n",
       "<text dominant-baseline=\"central\" text-anchor=\"end\" font-family=\"monospace\" font-size=\"12\" x=\"64\" y=\"2048\">q31</text>\n",
       "<path id=\"qubit_line:32\" d=\"M64,2112 L8384,2112 \" stroke=\"black\"/>\n",
       "<text dominant-baseline=\"central\" text-anchor=\"end\" font-family=\"monospace\" font-size=\"12\" x=\"64\" y=\"2112\">q32</text>\n",
       "<path id=\"qubit_line:33\" d=\"M64,2176 L8384,2176 \" stroke=\"black\"/>\n",
       "<text dominant-baseline=\"central\" text-anchor=\"end\" font-family=\"monospace\" font-size=\"12\" x=\"64\" y=\"2176\">q33</text>\n",
       "<path id=\"qubit_line:34\" d=\"M64,2240 L8384,2240 \" stroke=\"black\"/>\n",
       "<text dominant-baseline=\"central\" text-anchor=\"end\" font-family=\"monospace\" font-size=\"12\" x=\"64\" y=\"2240\">q34</text>\n",
       "<path id=\"qubit_line:35\" d=\"M64,2304 L8384,2304 \" stroke=\"black\"/>\n",
       "<text dominant-baseline=\"central\" text-anchor=\"end\" font-family=\"monospace\" font-size=\"12\" x=\"64\" y=\"2304\">q35</text>\n",
       "<path id=\"qubit_line:36\" d=\"M64,2368 L8384,2368 \" stroke=\"black\"/>\n",
       "<text dominant-baseline=\"central\" text-anchor=\"end\" font-family=\"monospace\" font-size=\"12\" x=\"64\" y=\"2368\">q36</text>\n",
       "<path id=\"qubit_line:37\" d=\"M64,2432 L8384,2432 \" stroke=\"black\"/>\n",
       "<text dominant-baseline=\"central\" text-anchor=\"end\" font-family=\"monospace\" font-size=\"12\" x=\"64\" y=\"2432\">q37</text>\n",
       "<path id=\"qubit_line:38\" d=\"M64,2496 L8384,2496 \" stroke=\"black\"/>\n",
       "<text dominant-baseline=\"central\" text-anchor=\"end\" font-family=\"monospace\" font-size=\"12\" x=\"64\" y=\"2496\">q38</text>\n",
       "<path id=\"qubit_line:39\" d=\"M64,2560 L8384,2560 \" stroke=\"black\"/>\n",
       "<text dominant-baseline=\"central\" text-anchor=\"end\" font-family=\"monospace\" font-size=\"12\" x=\"64\" y=\"2560\">q39</text>\n",
       "<path id=\"qubit_line:40\" d=\"M64,2624 L8384,2624 \" stroke=\"black\"/>\n",
       "<text dominant-baseline=\"central\" text-anchor=\"end\" font-family=\"monospace\" font-size=\"12\" x=\"64\" y=\"2624\">q40</text>\n",
       "<path id=\"qubit_line:41\" d=\"M64,2688 L8384,2688 \" stroke=\"black\"/>\n",
       "<text dominant-baseline=\"central\" text-anchor=\"end\" font-family=\"monospace\" font-size=\"12\" x=\"64\" y=\"2688\">q41</text>\n",
       "<path id=\"qubit_line:42\" d=\"M64,2752 L8384,2752 \" stroke=\"black\"/>\n",
       "<text dominant-baseline=\"central\" text-anchor=\"end\" font-family=\"monospace\" font-size=\"12\" x=\"64\" y=\"2752\">q42</text>\n",
       "<path id=\"qubit_line:43\" d=\"M64,2816 L8384,2816 \" stroke=\"black\"/>\n",
       "<text dominant-baseline=\"central\" text-anchor=\"end\" font-family=\"monospace\" font-size=\"12\" x=\"64\" y=\"2816\">q43</text>\n",
       "<path id=\"qubit_line:44\" d=\"M64,2880 L8384,2880 \" stroke=\"black\"/>\n",
       "<text dominant-baseline=\"central\" text-anchor=\"end\" font-family=\"monospace\" font-size=\"12\" x=\"64\" y=\"2880\">q44</text>\n",
       "<path id=\"qubit_line:45\" d=\"M64,2944 L8384,2944 \" stroke=\"black\"/>\n",
       "<text dominant-baseline=\"central\" text-anchor=\"end\" font-family=\"monospace\" font-size=\"12\" x=\"64\" y=\"2944\">q45</text>\n",
       "<path id=\"qubit_line:46\" d=\"M64,3008 L8384,3008 \" stroke=\"black\"/>\n",
       "<text dominant-baseline=\"central\" text-anchor=\"end\" font-family=\"monospace\" font-size=\"12\" x=\"64\" y=\"3008\">q46</text>\n",
       "<path id=\"qubit_line:47\" d=\"M64,3072 L8384,3072 \" stroke=\"black\"/>\n",
       "<text dominant-baseline=\"central\" text-anchor=\"end\" font-family=\"monospace\" font-size=\"12\" x=\"64\" y=\"3072\">q47</text>\n",
       "<path id=\"qubit_line:48\" d=\"M64,3136 L8384,3136 \" stroke=\"black\"/>\n",
       "<text dominant-baseline=\"central\" text-anchor=\"end\" font-family=\"monospace\" font-size=\"12\" x=\"64\" y=\"3136\">q48</text>\n",
       "<path id=\"qubit_line:49\" d=\"M64,3200 L8384,3200 \" stroke=\"black\"/>\n",
       "<text dominant-baseline=\"central\" text-anchor=\"end\" font-family=\"monospace\" font-size=\"12\" x=\"64\" y=\"3200\">q49</text>\n",
       "<path id=\"qubit_line:50\" d=\"M64,3264 L8384,3264 \" stroke=\"black\"/>\n",
       "<text dominant-baseline=\"central\" text-anchor=\"end\" font-family=\"monospace\" font-size=\"12\" x=\"64\" y=\"3264\">q50</text>\n",
       "<path id=\"qubit_line:51\" d=\"M64,3328 L8384,3328 \" stroke=\"black\"/>\n",
       "<text dominant-baseline=\"central\" text-anchor=\"end\" font-family=\"monospace\" font-size=\"12\" x=\"64\" y=\"3328\">q51</text>\n",
       "<path id=\"qubit_line:52\" d=\"M64,3392 L8384,3392 \" stroke=\"black\"/>\n",
       "<text dominant-baseline=\"central\" text-anchor=\"end\" font-family=\"monospace\" font-size=\"12\" x=\"64\" y=\"3392\">q52</text>\n",
       "<path id=\"qubit_line:53\" d=\"M64,3456 L8384,3456 \" stroke=\"black\"/>\n",
       "<text dominant-baseline=\"central\" text-anchor=\"end\" font-family=\"monospace\" font-size=\"12\" x=\"64\" y=\"3456\">q53</text>\n",
       "<path id=\"qubit_line:54\" d=\"M64,3520 L8384,3520 \" stroke=\"black\"/>\n",
       "<text dominant-baseline=\"central\" text-anchor=\"end\" font-family=\"monospace\" font-size=\"12\" x=\"64\" y=\"3520\">q54</text>\n",
       "<path id=\"qubit_line:55\" d=\"M64,3584 L8384,3584 \" stroke=\"black\"/>\n",
       "<text dominant-baseline=\"central\" text-anchor=\"end\" font-family=\"monospace\" font-size=\"12\" x=\"64\" y=\"3584\">q55</text>\n",
       "<path id=\"qubit_line:56\" d=\"M64,3648 L8384,3648 \" stroke=\"black\"/>\n",
       "<text dominant-baseline=\"central\" text-anchor=\"end\" font-family=\"monospace\" font-size=\"12\" x=\"64\" y=\"3648\">q56</text>\n",
       "<path id=\"qubit_line:57\" d=\"M64,3712 L8384,3712 \" stroke=\"black\"/>\n",
       "<text dominant-baseline=\"central\" text-anchor=\"end\" font-family=\"monospace\" font-size=\"12\" x=\"64\" y=\"3712\">q57</text>\n",
       "<path id=\"qubit_line:58\" d=\"M64,3776 L8384,3776 \" stroke=\"black\"/>\n",
       "<text dominant-baseline=\"central\" text-anchor=\"end\" font-family=\"monospace\" font-size=\"12\" x=\"64\" y=\"3776\">q58</text>\n",
       "<path id=\"qubit_line:59\" d=\"M64,3840 L8384,3840 \" stroke=\"black\"/>\n",
       "<text dominant-baseline=\"central\" text-anchor=\"end\" font-family=\"monospace\" font-size=\"12\" x=\"64\" y=\"3840\">q59</text>\n",
       "<path id=\"qubit_line:60\" d=\"M64,3904 L8384,3904 \" stroke=\"black\"/>\n",
       "<text dominant-baseline=\"central\" text-anchor=\"end\" font-family=\"monospace\" font-size=\"12\" x=\"64\" y=\"3904\">q60</text>\n",
       "<path id=\"qubit_line:61\" d=\"M64,3968 L8384,3968 \" stroke=\"black\"/>\n",
       "<text dominant-baseline=\"central\" text-anchor=\"end\" font-family=\"monospace\" font-size=\"12\" x=\"64\" y=\"3968\">q61</text>\n",
       "<path id=\"qubit_line:62\" d=\"M64,4032 L8384,4032 \" stroke=\"black\"/>\n",
       "<text dominant-baseline=\"central\" text-anchor=\"end\" font-family=\"monospace\" font-size=\"12\" x=\"64\" y=\"4032\">q62</text>\n",
       "<path id=\"qubit_line:63\" d=\"M64,4096 L8384,4096 \" stroke=\"black\"/>\n",
       "<text dominant-baseline=\"central\" text-anchor=\"end\" font-family=\"monospace\" font-size=\"12\" x=\"64\" y=\"4096\">q63</text>\n",
       "<path id=\"qubit_line:64\" d=\"M64,4160 L8384,4160 \" stroke=\"black\"/>\n",
       "<text dominant-baseline=\"central\" text-anchor=\"end\" font-family=\"monospace\" font-size=\"12\" x=\"64\" y=\"4160\">q64</text>\n",
       "<path id=\"qubit_line:65\" d=\"M64,4224 L8384,4224 \" stroke=\"black\"/>\n",
       "<text dominant-baseline=\"central\" text-anchor=\"end\" font-family=\"monospace\" font-size=\"12\" x=\"64\" y=\"4224\">q65</text>\n",
       "<path id=\"qubit_line:66\" d=\"M64,4288 L8384,4288 \" stroke=\"black\"/>\n",
       "<text dominant-baseline=\"central\" text-anchor=\"end\" font-family=\"monospace\" font-size=\"12\" x=\"64\" y=\"4288\">q66</text>\n",
       "<path id=\"qubit_line:67\" d=\"M64,4352 L8384,4352 \" stroke=\"black\"/>\n",
       "<text dominant-baseline=\"central\" text-anchor=\"end\" font-family=\"monospace\" font-size=\"12\" x=\"64\" y=\"4352\">q67</text>\n",
       "<path id=\"qubit_line:68\" d=\"M64,4416 L8384,4416 \" stroke=\"black\"/>\n",
       "<text dominant-baseline=\"central\" text-anchor=\"end\" font-family=\"monospace\" font-size=\"12\" x=\"64\" y=\"4416\">q68</text>\n",
       "<path id=\"qubit_line:69\" d=\"M64,4480 L8384,4480 \" stroke=\"black\"/>\n",
       "<text dominant-baseline=\"central\" text-anchor=\"end\" font-family=\"monospace\" font-size=\"12\" x=\"64\" y=\"4480\">q69</text>\n",
       "<path id=\"qubit_line:70\" d=\"M64,4544 L8384,4544 \" stroke=\"black\"/>\n",
       "<text dominant-baseline=\"central\" text-anchor=\"end\" font-family=\"monospace\" font-size=\"12\" x=\"64\" y=\"4544\">q70</text>\n",
       "<path id=\"qubit_line:71\" d=\"M64,4608 L8384,4608 \" stroke=\"black\"/>\n",
       "<text dominant-baseline=\"central\" text-anchor=\"end\" font-family=\"monospace\" font-size=\"12\" x=\"64\" y=\"4608\">q71</text>\n",
       "<path id=\"qubit_line:72\" d=\"M64,4672 L8384,4672 \" stroke=\"black\"/>\n",
       "<text dominant-baseline=\"central\" text-anchor=\"end\" font-family=\"monospace\" font-size=\"12\" x=\"64\" y=\"4672\">q72</text>\n",
       "<path id=\"qubit_line:73\" d=\"M64,4736 L8384,4736 \" stroke=\"black\"/>\n",
       "<text dominant-baseline=\"central\" text-anchor=\"end\" font-family=\"monospace\" font-size=\"12\" x=\"64\" y=\"4736\">q73</text>\n",
       "<path id=\"qubit_line:74\" d=\"M64,4800 L8384,4800 \" stroke=\"black\"/>\n",
       "<text dominant-baseline=\"central\" text-anchor=\"end\" font-family=\"monospace\" font-size=\"12\" x=\"64\" y=\"4800\">q74</text>\n",
       "<path id=\"qubit_line:75\" d=\"M64,4864 L8384,4864 \" stroke=\"black\"/>\n",
       "<text dominant-baseline=\"central\" text-anchor=\"end\" font-family=\"monospace\" font-size=\"12\" x=\"64\" y=\"4864\">q75</text>\n",
       "<path id=\"qubit_line:76\" d=\"M64,4928 L8384,4928 \" stroke=\"black\"/>\n",
       "<text dominant-baseline=\"central\" text-anchor=\"end\" font-family=\"monospace\" font-size=\"12\" x=\"64\" y=\"4928\">q76</text>\n",
       "<path id=\"qubit_line:77\" d=\"M64,4992 L8384,4992 \" stroke=\"black\"/>\n",
       "<text dominant-baseline=\"central\" text-anchor=\"end\" font-family=\"monospace\" font-size=\"12\" x=\"64\" y=\"4992\">q77</text>\n",
       "<path id=\"qubit_line:78\" d=\"M64,5056 L8384,5056 \" stroke=\"black\"/>\n",
       "<text dominant-baseline=\"central\" text-anchor=\"end\" font-family=\"monospace\" font-size=\"12\" x=\"64\" y=\"5056\">q78</text>\n",
       "<path id=\"qubit_line:79\" d=\"M64,5120 L8384,5120 \" stroke=\"black\"/>\n",
       "<text dominant-baseline=\"central\" text-anchor=\"end\" font-family=\"monospace\" font-size=\"12\" x=\"64\" y=\"5120\">q79</text>\n",
       "<path id=\"qubit_line:80\" d=\"M64,5184 L8384,5184 \" stroke=\"black\"/>\n",
       "<text dominant-baseline=\"central\" text-anchor=\"end\" font-family=\"monospace\" font-size=\"12\" x=\"64\" y=\"5184\">q80</text>\n",
       "<path id=\"qubit_line:81\" d=\"M64,5248 L8384,5248 \" stroke=\"black\"/>\n",
       "<text dominant-baseline=\"central\" text-anchor=\"end\" font-family=\"monospace\" font-size=\"12\" x=\"64\" y=\"5248\">q81</text>\n",
       "<path id=\"qubit_line:82\" d=\"M64,5312 L8384,5312 \" stroke=\"black\"/>\n",
       "<text dominant-baseline=\"central\" text-anchor=\"end\" font-family=\"monospace\" font-size=\"12\" x=\"64\" y=\"5312\">q82</text>\n",
       "<path id=\"qubit_line:83\" d=\"M64,5376 L8384,5376 \" stroke=\"black\"/>\n",
       "<text dominant-baseline=\"central\" text-anchor=\"end\" font-family=\"monospace\" font-size=\"12\" x=\"64\" y=\"5376\">q83</text>\n",
       "<path id=\"qubit_line:84\" d=\"M64,5440 L8384,5440 \" stroke=\"black\"/>\n",
       "<text dominant-baseline=\"central\" text-anchor=\"end\" font-family=\"monospace\" font-size=\"12\" x=\"64\" y=\"5440\">q84</text>\n",
       "<path id=\"qubit_line:85\" d=\"M64,5504 L8384,5504 \" stroke=\"black\"/>\n",
       "<text dominant-baseline=\"central\" text-anchor=\"end\" font-family=\"monospace\" font-size=\"12\" x=\"64\" y=\"5504\">q85</text>\n",
       "<path id=\"qubit_line:86\" d=\"M64,5568 L8384,5568 \" stroke=\"black\"/>\n",
       "<text dominant-baseline=\"central\" text-anchor=\"end\" font-family=\"monospace\" font-size=\"12\" x=\"64\" y=\"5568\">q86</text>\n",
       "<path id=\"qubit_line:87\" d=\"M64,5632 L8384,5632 \" stroke=\"black\"/>\n",
       "<text dominant-baseline=\"central\" text-anchor=\"end\" font-family=\"monospace\" font-size=\"12\" x=\"64\" y=\"5632\">q87</text>\n",
       "<path id=\"qubit_line:88\" d=\"M64,5696 L8384,5696 \" stroke=\"black\"/>\n",
       "<text dominant-baseline=\"central\" text-anchor=\"end\" font-family=\"monospace\" font-size=\"12\" x=\"64\" y=\"5696\">q88</text>\n",
       "<path id=\"qubit_line:89\" d=\"M64,5760 L8384,5760 \" stroke=\"black\"/>\n",
       "<text dominant-baseline=\"central\" text-anchor=\"end\" font-family=\"monospace\" font-size=\"12\" x=\"64\" y=\"5760\">q89</text>\n",
       "<path id=\"qubit_line:90\" d=\"M64,5824 L8384,5824 \" stroke=\"black\"/>\n",
       "<text dominant-baseline=\"central\" text-anchor=\"end\" font-family=\"monospace\" font-size=\"12\" x=\"64\" y=\"5824\">q90</text>\n",
       "<path id=\"qubit_line:91\" d=\"M64,5888 L8384,5888 \" stroke=\"black\"/>\n",
       "<text dominant-baseline=\"central\" text-anchor=\"end\" font-family=\"monospace\" font-size=\"12\" x=\"64\" y=\"5888\">q91</text>\n",
       "<path id=\"qubit_line:92\" d=\"M64,5952 L8384,5952 \" stroke=\"black\"/>\n",
       "<text dominant-baseline=\"central\" text-anchor=\"end\" font-family=\"monospace\" font-size=\"12\" x=\"64\" y=\"5952\">q92</text>\n",
       "<path id=\"qubit_line:93\" d=\"M64,6016 L8384,6016 \" stroke=\"black\"/>\n",
       "<text dominant-baseline=\"central\" text-anchor=\"end\" font-family=\"monospace\" font-size=\"12\" x=\"64\" y=\"6016\">q93</text>\n",
       "<path id=\"qubit_line:94\" d=\"M64,6080 L8384,6080 \" stroke=\"black\"/>\n",
       "<text dominant-baseline=\"central\" text-anchor=\"end\" font-family=\"monospace\" font-size=\"12\" x=\"64\" y=\"6080\">q94</text>\n",
       "<path id=\"qubit_line:95\" d=\"M64,6144 L8384,6144 \" stroke=\"black\"/>\n",
       "<text dominant-baseline=\"central\" text-anchor=\"end\" font-family=\"monospace\" font-size=\"12\" x=\"64\" y=\"6144\">q95</text>\n",
       "<path id=\"qubit_line:96\" d=\"M64,6208 L8384,6208 \" stroke=\"black\"/>\n",
       "<text dominant-baseline=\"central\" text-anchor=\"end\" font-family=\"monospace\" font-size=\"12\" x=\"64\" y=\"6208\">q96</text>\n",
       "<path id=\"qubit_line:97\" d=\"M64,6272 L8384,6272 \" stroke=\"black\"/>\n",
       "<text dominant-baseline=\"central\" text-anchor=\"end\" font-family=\"monospace\" font-size=\"12\" x=\"64\" y=\"6272\">q97</text>\n",
       "<path id=\"qubit_line:98\" d=\"M64,6336 L8384,6336 \" stroke=\"black\"/>\n",
       "<text dominant-baseline=\"central\" text-anchor=\"end\" font-family=\"monospace\" font-size=\"12\" x=\"64\" y=\"6336\">q98</text>\n",
       "<path id=\"qubit_line:99\" d=\"M64,6400 L8384,6400 \" stroke=\"black\"/>\n",
       "<text dominant-baseline=\"central\" text-anchor=\"end\" font-family=\"monospace\" font-size=\"12\" x=\"64\" y=\"6400\">q99</text>\n",
       "<path id=\"qubit_line:100\" d=\"M64,6464 L8384,6464 \" stroke=\"black\"/>\n",
       "<text dominant-baseline=\"central\" text-anchor=\"end\" font-family=\"monospace\" font-size=\"12\" x=\"64\" y=\"6464\">q100</text>\n",
       "<path id=\"qubit_line:101\" d=\"M64,6528 L8384,6528 \" stroke=\"black\"/>\n",
       "<text dominant-baseline=\"central\" text-anchor=\"end\" font-family=\"monospace\" font-size=\"12\" x=\"64\" y=\"6528\">q101</text>\n",
       "<path id=\"qubit_line:102\" d=\"M64,6592 L8384,6592 \" stroke=\"black\"/>\n",
       "<text dominant-baseline=\"central\" text-anchor=\"end\" font-family=\"monospace\" font-size=\"12\" x=\"64\" y=\"6592\">q102</text>\n",
       "<path id=\"qubit_line:103\" d=\"M64,6656 L8384,6656 \" stroke=\"black\"/>\n",
       "<text dominant-baseline=\"central\" text-anchor=\"end\" font-family=\"monospace\" font-size=\"12\" x=\"64\" y=\"6656\">q103</text>\n",
       "<path id=\"qubit_line:104\" d=\"M64,6720 L8384,6720 \" stroke=\"black\"/>\n",
       "<text dominant-baseline=\"central\" text-anchor=\"end\" font-family=\"monospace\" font-size=\"12\" x=\"64\" y=\"6720\">q104</text>\n",
       "</g>\n",
       "<rect x=\"80\" y=\"48\" width=\"224\" height=\"32\" stroke=\"black\" fill=\"white\"/>\n",
       "<text dominant-baseline=\"central\" text-anchor=\"middle\" font-family=\"monospace\" font-size=\"16\" x=\"192\" y=\"64\">COORDS(1,1)</text>\n",
       "<rect x=\"80\" y=\"112\" width=\"224\" height=\"32\" stroke=\"black\" fill=\"white\"/>\n",
       "<text dominant-baseline=\"central\" text-anchor=\"middle\" font-family=\"monospace\" font-size=\"16\" x=\"192\" y=\"128\">COORDS(1,2)</text>\n",
       "<rect x=\"80\" y=\"176\" width=\"224\" height=\"32\" stroke=\"black\" fill=\"white\"/>\n",
       "<text dominant-baseline=\"central\" text-anchor=\"middle\" font-family=\"monospace\" font-size=\"16\" x=\"192\" y=\"192\">COORDS(1,3)</text>\n",
       "<rect x=\"80\" y=\"240\" width=\"224\" height=\"32\" stroke=\"black\" fill=\"white\"/>\n",
       "<text dominant-baseline=\"central\" text-anchor=\"middle\" font-family=\"monospace\" font-size=\"16\" x=\"192\" y=\"256\">COORDS(1,4)</text>\n",
       "<rect x=\"80\" y=\"304\" width=\"224\" height=\"32\" stroke=\"black\" fill=\"white\"/>\n",
       "<text dominant-baseline=\"central\" text-anchor=\"middle\" font-family=\"monospace\" font-size=\"16\" x=\"192\" y=\"320\">COORDS(1,5)</text>\n",
       "<rect x=\"80\" y=\"368\" width=\"224\" height=\"32\" stroke=\"black\" fill=\"white\"/>\n",
       "<text dominant-baseline=\"central\" text-anchor=\"middle\" font-family=\"monospace\" font-size=\"16\" x=\"192\" y=\"384\">COORDS(2,1)</text>\n",
       "<rect x=\"80\" y=\"432\" width=\"224\" height=\"32\" stroke=\"black\" fill=\"white\"/>\n",
       "<text dominant-baseline=\"central\" text-anchor=\"middle\" font-family=\"monospace\" font-size=\"16\" x=\"192\" y=\"448\">COORDS(2,2)</text>\n",
       "<rect x=\"80\" y=\"496\" width=\"224\" height=\"32\" stroke=\"black\" fill=\"white\"/>\n",
       "<text dominant-baseline=\"central\" text-anchor=\"middle\" font-family=\"monospace\" font-size=\"16\" x=\"192\" y=\"512\">COORDS(2,3)</text>\n",
       "<rect x=\"80\" y=\"560\" width=\"224\" height=\"32\" stroke=\"black\" fill=\"white\"/>\n",
       "<text dominant-baseline=\"central\" text-anchor=\"middle\" font-family=\"monospace\" font-size=\"16\" x=\"192\" y=\"576\">COORDS(2,4)</text>\n",
       "<rect x=\"80\" y=\"624\" width=\"224\" height=\"32\" stroke=\"black\" fill=\"white\"/>\n",
       "<text dominant-baseline=\"central\" text-anchor=\"middle\" font-family=\"monospace\" font-size=\"16\" x=\"192\" y=\"640\">COORDS(2,5)</text>\n",
       "<rect x=\"80\" y=\"688\" width=\"224\" height=\"32\" stroke=\"black\" fill=\"white\"/>\n",
       "<text dominant-baseline=\"central\" text-anchor=\"middle\" font-family=\"monospace\" font-size=\"16\" x=\"192\" y=\"704\">COORDS(3,1)</text>\n",
       "<rect x=\"80\" y=\"752\" width=\"224\" height=\"32\" stroke=\"black\" fill=\"white\"/>\n",
       "<text dominant-baseline=\"central\" text-anchor=\"middle\" font-family=\"monospace\" font-size=\"16\" x=\"192\" y=\"768\">COORDS(3,2)</text>\n",
       "<rect x=\"80\" y=\"816\" width=\"224\" height=\"32\" stroke=\"black\" fill=\"white\"/>\n",
       "<text dominant-baseline=\"central\" text-anchor=\"middle\" font-family=\"monospace\" font-size=\"16\" x=\"192\" y=\"832\">COORDS(3,3)</text>\n",
       "<rect x=\"80\" y=\"880\" width=\"224\" height=\"32\" stroke=\"black\" fill=\"white\"/>\n",
       "<text dominant-baseline=\"central\" text-anchor=\"middle\" font-family=\"monospace\" font-size=\"16\" x=\"192\" y=\"896\">COORDS(3,4)</text>\n",
       "<rect x=\"80\" y=\"944\" width=\"224\" height=\"32\" stroke=\"black\" fill=\"white\"/>\n",
       "<text dominant-baseline=\"central\" text-anchor=\"middle\" font-family=\"monospace\" font-size=\"16\" x=\"192\" y=\"960\">COORDS(3,5)</text>\n",
       "<rect x=\"80\" y=\"1008\" width=\"224\" height=\"32\" stroke=\"black\" fill=\"white\"/>\n",
       "<text dominant-baseline=\"central\" text-anchor=\"middle\" font-family=\"monospace\" font-size=\"16\" x=\"192\" y=\"1024\">COORDS(4,1)</text>\n",
       "<rect x=\"80\" y=\"1072\" width=\"224\" height=\"32\" stroke=\"black\" fill=\"white\"/>\n",
       "<text dominant-baseline=\"central\" text-anchor=\"middle\" font-family=\"monospace\" font-size=\"16\" x=\"192\" y=\"1088\">COORDS(4,2)</text>\n",
       "<rect x=\"80\" y=\"1136\" width=\"224\" height=\"32\" stroke=\"black\" fill=\"white\"/>\n",
       "<text dominant-baseline=\"central\" text-anchor=\"middle\" font-family=\"monospace\" font-size=\"16\" x=\"192\" y=\"1152\">COORDS(4,3)</text>\n",
       "<rect x=\"80\" y=\"1200\" width=\"224\" height=\"32\" stroke=\"black\" fill=\"white\"/>\n",
       "<text dominant-baseline=\"central\" text-anchor=\"middle\" font-family=\"monospace\" font-size=\"16\" x=\"192\" y=\"1216\">COORDS(4,4)</text>\n",
       "<rect x=\"80\" y=\"1264\" width=\"224\" height=\"32\" stroke=\"black\" fill=\"white\"/>\n",
       "<text dominant-baseline=\"central\" text-anchor=\"middle\" font-family=\"monospace\" font-size=\"16\" x=\"192\" y=\"1280\">COORDS(4,5)</text>\n",
       "<rect x=\"80\" y=\"1328\" width=\"224\" height=\"32\" stroke=\"black\" fill=\"white\"/>\n",
       "<text dominant-baseline=\"central\" text-anchor=\"middle\" font-family=\"monospace\" font-size=\"16\" x=\"192\" y=\"1344\">COORDS(5,1)</text>\n",
       "<rect x=\"80\" y=\"1392\" width=\"224\" height=\"32\" stroke=\"black\" fill=\"white\"/>\n",
       "<text dominant-baseline=\"central\" text-anchor=\"middle\" font-family=\"monospace\" font-size=\"16\" x=\"192\" y=\"1408\">COORDS(5,2)</text>\n",
       "<rect x=\"80\" y=\"1456\" width=\"224\" height=\"32\" stroke=\"black\" fill=\"white\"/>\n",
       "<text dominant-baseline=\"central\" text-anchor=\"middle\" font-family=\"monospace\" font-size=\"16\" x=\"192\" y=\"1472\">COORDS(5,3)</text>\n",
       "<rect x=\"80\" y=\"1520\" width=\"224\" height=\"32\" stroke=\"black\" fill=\"white\"/>\n",
       "<text dominant-baseline=\"central\" text-anchor=\"middle\" font-family=\"monospace\" font-size=\"16\" x=\"192\" y=\"1536\">COORDS(5,4)</text>\n",
       "<rect x=\"80\" y=\"1584\" width=\"224\" height=\"32\" stroke=\"black\" fill=\"white\"/>\n",
       "<text dominant-baseline=\"central\" text-anchor=\"middle\" font-family=\"monospace\" font-size=\"16\" x=\"192\" y=\"1600\">COORDS(5,5)</text>\n",
       "<rect x=\"80\" y=\"1648\" width=\"224\" height=\"32\" stroke=\"black\" fill=\"white\"/>\n",
       "<text dominant-baseline=\"central\" text-anchor=\"middle\" font-family=\"monospace\" font-size=\"16\" x=\"192\" y=\"1664\">COORDS(6,1)</text>\n",
       "<rect x=\"80\" y=\"1712\" width=\"224\" height=\"32\" stroke=\"black\" fill=\"white\"/>\n",
       "<text dominant-baseline=\"central\" text-anchor=\"middle\" font-family=\"monospace\" font-size=\"16\" x=\"192\" y=\"1728\">COORDS(6,2)</text>\n",
       "<rect x=\"80\" y=\"1776\" width=\"224\" height=\"32\" stroke=\"black\" fill=\"white\"/>\n",
       "<text dominant-baseline=\"central\" text-anchor=\"middle\" font-family=\"monospace\" font-size=\"16\" x=\"192\" y=\"1792\">COORDS(6,3)</text>\n",
       "<rect x=\"80\" y=\"1840\" width=\"224\" height=\"32\" stroke=\"black\" fill=\"white\"/>\n",
       "<text dominant-baseline=\"central\" text-anchor=\"middle\" font-family=\"monospace\" font-size=\"16\" x=\"192\" y=\"1856\">COORDS(6,4)</text>\n",
       "<rect x=\"80\" y=\"1904\" width=\"224\" height=\"32\" stroke=\"black\" fill=\"white\"/>\n",
       "<text dominant-baseline=\"central\" text-anchor=\"middle\" font-family=\"monospace\" font-size=\"16\" x=\"192\" y=\"1920\">COORDS(6,5)</text>\n",
       "<rect x=\"80\" y=\"1968\" width=\"224\" height=\"32\" stroke=\"black\" fill=\"white\"/>\n",
       "<text dominant-baseline=\"central\" text-anchor=\"middle\" font-family=\"monospace\" font-size=\"16\" x=\"192\" y=\"1984\">COORDS(7,1)</text>\n",
       "<rect x=\"80\" y=\"2032\" width=\"224\" height=\"32\" stroke=\"black\" fill=\"white\"/>\n",
       "<text dominant-baseline=\"central\" text-anchor=\"middle\" font-family=\"monospace\" font-size=\"16\" x=\"192\" y=\"2048\">COORDS(7,2)</text>\n",
       "<rect x=\"80\" y=\"2096\" width=\"224\" height=\"32\" stroke=\"black\" fill=\"white\"/>\n",
       "<text dominant-baseline=\"central\" text-anchor=\"middle\" font-family=\"monospace\" font-size=\"16\" x=\"192\" y=\"2112\">COORDS(7,3)</text>\n",
       "<rect x=\"80\" y=\"2160\" width=\"224\" height=\"32\" stroke=\"black\" fill=\"white\"/>\n",
       "<text dominant-baseline=\"central\" text-anchor=\"middle\" font-family=\"monospace\" font-size=\"16\" x=\"192\" y=\"2176\">COORDS(7,4)</text>\n",
       "<rect x=\"80\" y=\"2224\" width=\"224\" height=\"32\" stroke=\"black\" fill=\"white\"/>\n",
       "<text dominant-baseline=\"central\" text-anchor=\"middle\" font-family=\"monospace\" font-size=\"16\" x=\"192\" y=\"2240\">COORDS(7,5)</text>\n",
       "<rect x=\"80\" y=\"2288\" width=\"224\" height=\"32\" stroke=\"black\" fill=\"white\"/>\n",
       "<text dominant-baseline=\"central\" text-anchor=\"middle\" font-family=\"monospace\" font-size=\"16\" x=\"192\" y=\"2304\">COORDS(8,1)</text>\n",
       "<rect x=\"80\" y=\"2352\" width=\"224\" height=\"32\" stroke=\"black\" fill=\"white\"/>\n",
       "<text dominant-baseline=\"central\" text-anchor=\"middle\" font-family=\"monospace\" font-size=\"16\" x=\"192\" y=\"2368\">COORDS(8,2)</text>\n",
       "<rect x=\"80\" y=\"2416\" width=\"224\" height=\"32\" stroke=\"black\" fill=\"white\"/>\n",
       "<text dominant-baseline=\"central\" text-anchor=\"middle\" font-family=\"monospace\" font-size=\"16\" x=\"192\" y=\"2432\">COORDS(8,3)</text>\n",
       "<rect x=\"80\" y=\"2480\" width=\"224\" height=\"32\" stroke=\"black\" fill=\"white\"/>\n",
       "<text dominant-baseline=\"central\" text-anchor=\"middle\" font-family=\"monospace\" font-size=\"16\" x=\"192\" y=\"2496\">COORDS(8,4)</text>\n",
       "<rect x=\"80\" y=\"2544\" width=\"224\" height=\"32\" stroke=\"black\" fill=\"white\"/>\n",
       "<text dominant-baseline=\"central\" text-anchor=\"middle\" font-family=\"monospace\" font-size=\"16\" x=\"192\" y=\"2560\">COORDS(8,5)</text>\n",
       "<rect x=\"80\" y=\"2608\" width=\"224\" height=\"32\" stroke=\"black\" fill=\"white\"/>\n",
       "<text dominant-baseline=\"central\" text-anchor=\"middle\" font-family=\"monospace\" font-size=\"16\" x=\"192\" y=\"2624\">COORDS(9,1)</text>\n",
       "<rect x=\"80\" y=\"2672\" width=\"224\" height=\"32\" stroke=\"black\" fill=\"white\"/>\n",
       "<text dominant-baseline=\"central\" text-anchor=\"middle\" font-family=\"monospace\" font-size=\"16\" x=\"192\" y=\"2688\">COORDS(9,2)</text>\n",
       "<rect x=\"80\" y=\"2736\" width=\"224\" height=\"32\" stroke=\"black\" fill=\"white\"/>\n",
       "<text dominant-baseline=\"central\" text-anchor=\"middle\" font-family=\"monospace\" font-size=\"16\" x=\"192\" y=\"2752\">COORDS(9,3)</text>\n",
       "<rect x=\"80\" y=\"2800\" width=\"224\" height=\"32\" stroke=\"black\" fill=\"white\"/>\n",
       "<text dominant-baseline=\"central\" text-anchor=\"middle\" font-family=\"monospace\" font-size=\"16\" x=\"192\" y=\"2816\">COORDS(9,4)</text>\n",
       "<rect x=\"80\" y=\"2864\" width=\"224\" height=\"32\" stroke=\"black\" fill=\"white\"/>\n",
       "<text dominant-baseline=\"central\" text-anchor=\"middle\" font-family=\"monospace\" font-size=\"16\" x=\"192\" y=\"2880\">COORDS(9,5)</text>\n",
       "<rect x=\"80\" y=\"2928\" width=\"224\" height=\"32\" stroke=\"black\" fill=\"white\"/>\n",
       "<text dominant-baseline=\"central\" text-anchor=\"middle\" font-family=\"monospace\" font-size=\"16\" x=\"192\" y=\"2944\">COORDS(0.5,0.5)</text>\n",
       "<rect x=\"80\" y=\"2992\" width=\"224\" height=\"32\" stroke=\"black\" fill=\"white\"/>\n",
       "<text dominant-baseline=\"central\" text-anchor=\"middle\" font-family=\"monospace\" font-size=\"16\" x=\"192\" y=\"3008\">COORDS(0.5,1.5)</text>\n",
       "<rect x=\"80\" y=\"3056\" width=\"224\" height=\"32\" stroke=\"black\" fill=\"white\"/>\n",
       "<text dominant-baseline=\"central\" text-anchor=\"middle\" font-family=\"monospace\" font-size=\"16\" x=\"192\" y=\"3072\">COORDS(0.5,2.5)</text>\n",
       "<rect x=\"80\" y=\"3120\" width=\"224\" height=\"32\" stroke=\"black\" fill=\"white\"/>\n",
       "<text dominant-baseline=\"central\" text-anchor=\"middle\" font-family=\"monospace\" font-size=\"16\" x=\"192\" y=\"3136\">COORDS(0.5,3.5)</text>\n",
       "<rect x=\"80\" y=\"3184\" width=\"224\" height=\"32\" stroke=\"black\" fill=\"white\"/>\n",
       "<text dominant-baseline=\"central\" text-anchor=\"middle\" font-family=\"monospace\" font-size=\"16\" x=\"192\" y=\"3200\">COORDS(0.5,4.5)</text>\n",
       "<rect x=\"80\" y=\"3248\" width=\"224\" height=\"32\" stroke=\"black\" fill=\"white\"/>\n",
       "<text dominant-baseline=\"central\" text-anchor=\"middle\" font-family=\"monospace\" font-size=\"16\" x=\"192\" y=\"3264\">COORDS(0.5,5.5)</text>\n",
       "<rect x=\"80\" y=\"3312\" width=\"224\" height=\"32\" stroke=\"black\" fill=\"white\"/>\n",
       "<text dominant-baseline=\"central\" text-anchor=\"middle\" font-family=\"monospace\" font-size=\"16\" x=\"192\" y=\"3328\">COORDS(1.5,0.5)</text>\n",
       "<rect x=\"80\" y=\"3376\" width=\"224\" height=\"32\" stroke=\"black\" fill=\"white\"/>\n",
       "<text dominant-baseline=\"central\" text-anchor=\"middle\" font-family=\"monospace\" font-size=\"16\" x=\"192\" y=\"3392\">COORDS(1.5,1.5)</text>\n",
       "<rect x=\"80\" y=\"3440\" width=\"224\" height=\"32\" stroke=\"black\" fill=\"white\"/>\n",
       "<text dominant-baseline=\"central\" text-anchor=\"middle\" font-family=\"monospace\" font-size=\"16\" x=\"192\" y=\"3456\">COORDS(1.5,2.5)</text>\n",
       "<rect x=\"80\" y=\"3504\" width=\"224\" height=\"32\" stroke=\"black\" fill=\"white\"/>\n",
       "<text dominant-baseline=\"central\" text-anchor=\"middle\" font-family=\"monospace\" font-size=\"16\" x=\"192\" y=\"3520\">COORDS(1.5,3.5)</text>\n",
       "<rect x=\"80\" y=\"3568\" width=\"224\" height=\"32\" stroke=\"black\" fill=\"white\"/>\n",
       "<text dominant-baseline=\"central\" text-anchor=\"middle\" font-family=\"monospace\" font-size=\"16\" x=\"192\" y=\"3584\">COORDS(1.5,4.5)</text>\n",
       "<rect x=\"80\" y=\"3632\" width=\"224\" height=\"32\" stroke=\"black\" fill=\"white\"/>\n",
       "<text dominant-baseline=\"central\" text-anchor=\"middle\" font-family=\"monospace\" font-size=\"16\" x=\"192\" y=\"3648\">COORDS(1.5,5.5)</text>\n",
       "<rect x=\"80\" y=\"3696\" width=\"224\" height=\"32\" stroke=\"black\" fill=\"white\"/>\n",
       "<text dominant-baseline=\"central\" text-anchor=\"middle\" font-family=\"monospace\" font-size=\"16\" x=\"192\" y=\"3712\">COORDS(2.5,0.5)</text>\n",
       "<rect x=\"80\" y=\"3760\" width=\"224\" height=\"32\" stroke=\"black\" fill=\"white\"/>\n",
       "<text dominant-baseline=\"central\" text-anchor=\"middle\" font-family=\"monospace\" font-size=\"16\" x=\"192\" y=\"3776\">COORDS(2.5,1.5)</text>\n",
       "<rect x=\"80\" y=\"3824\" width=\"224\" height=\"32\" stroke=\"black\" fill=\"white\"/>\n",
       "<text dominant-baseline=\"central\" text-anchor=\"middle\" font-family=\"monospace\" font-size=\"16\" x=\"192\" y=\"3840\">COORDS(2.5,2.5)</text>\n",
       "<rect x=\"80\" y=\"3888\" width=\"224\" height=\"32\" stroke=\"black\" fill=\"white\"/>\n",
       "<text dominant-baseline=\"central\" text-anchor=\"middle\" font-family=\"monospace\" font-size=\"16\" x=\"192\" y=\"3904\">COORDS(2.5,3.5)</text>\n",
       "<rect x=\"80\" y=\"3952\" width=\"224\" height=\"32\" stroke=\"black\" fill=\"white\"/>\n",
       "<text dominant-baseline=\"central\" text-anchor=\"middle\" font-family=\"monospace\" font-size=\"16\" x=\"192\" y=\"3968\">COORDS(2.5,4.5)</text>\n",
       "<rect x=\"80\" y=\"4016\" width=\"224\" height=\"32\" stroke=\"black\" fill=\"white\"/>\n",
       "<text dominant-baseline=\"central\" text-anchor=\"middle\" font-family=\"monospace\" font-size=\"16\" x=\"192\" y=\"4032\">COORDS(2.5,5.5)</text>\n",
       "<rect x=\"80\" y=\"4080\" width=\"224\" height=\"32\" stroke=\"black\" fill=\"white\"/>\n",
       "<text dominant-baseline=\"central\" text-anchor=\"middle\" font-family=\"monospace\" font-size=\"16\" x=\"192\" y=\"4096\">COORDS(3.5,0.5)</text>\n",
       "<rect x=\"80\" y=\"4144\" width=\"224\" height=\"32\" stroke=\"black\" fill=\"white\"/>\n",
       "<text dominant-baseline=\"central\" text-anchor=\"middle\" font-family=\"monospace\" font-size=\"16\" x=\"192\" y=\"4160\">COORDS(3.5,1.5)</text>\n",
       "<rect x=\"80\" y=\"4208\" width=\"224\" height=\"32\" stroke=\"black\" fill=\"white\"/>\n",
       "<text dominant-baseline=\"central\" text-anchor=\"middle\" font-family=\"monospace\" font-size=\"16\" x=\"192\" y=\"4224\">COORDS(3.5,2.5)</text>\n",
       "<rect x=\"80\" y=\"4272\" width=\"224\" height=\"32\" stroke=\"black\" fill=\"white\"/>\n",
       "<text dominant-baseline=\"central\" text-anchor=\"middle\" font-family=\"monospace\" font-size=\"16\" x=\"192\" y=\"4288\">COORDS(3.5,3.5)</text>\n",
       "<rect x=\"80\" y=\"4336\" width=\"224\" height=\"32\" stroke=\"black\" fill=\"white\"/>\n",
       "<text dominant-baseline=\"central\" text-anchor=\"middle\" font-family=\"monospace\" font-size=\"16\" x=\"192\" y=\"4352\">COORDS(3.5,4.5)</text>\n",
       "<rect x=\"80\" y=\"4400\" width=\"224\" height=\"32\" stroke=\"black\" fill=\"white\"/>\n",
       "<text dominant-baseline=\"central\" text-anchor=\"middle\" font-family=\"monospace\" font-size=\"16\" x=\"192\" y=\"4416\">COORDS(3.5,5.5)</text>\n",
       "<rect x=\"80\" y=\"4464\" width=\"224\" height=\"32\" stroke=\"black\" fill=\"white\"/>\n",
       "<text dominant-baseline=\"central\" text-anchor=\"middle\" font-family=\"monospace\" font-size=\"16\" x=\"192\" y=\"4480\">COORDS(4.5,0.5)</text>\n",
       "<rect x=\"80\" y=\"4528\" width=\"224\" height=\"32\" stroke=\"black\" fill=\"white\"/>\n",
       "<text dominant-baseline=\"central\" text-anchor=\"middle\" font-family=\"monospace\" font-size=\"16\" x=\"192\" y=\"4544\">COORDS(4.5,1.5)</text>\n",
       "<rect x=\"80\" y=\"4592\" width=\"224\" height=\"32\" stroke=\"black\" fill=\"white\"/>\n",
       "<text dominant-baseline=\"central\" text-anchor=\"middle\" font-family=\"monospace\" font-size=\"16\" x=\"192\" y=\"4608\">COORDS(4.5,2.5)</text>\n",
       "<rect x=\"80\" y=\"4656\" width=\"224\" height=\"32\" stroke=\"black\" fill=\"white\"/>\n",
       "<text dominant-baseline=\"central\" text-anchor=\"middle\" font-family=\"monospace\" font-size=\"16\" x=\"192\" y=\"4672\">COORDS(4.5,3.5)</text>\n",
       "<rect x=\"80\" y=\"4720\" width=\"224\" height=\"32\" stroke=\"black\" fill=\"white\"/>\n",
       "<text dominant-baseline=\"central\" text-anchor=\"middle\" font-family=\"monospace\" font-size=\"16\" x=\"192\" y=\"4736\">COORDS(4.5,4.5)</text>\n",
       "<rect x=\"80\" y=\"4784\" width=\"224\" height=\"32\" stroke=\"black\" fill=\"white\"/>\n",
       "<text dominant-baseline=\"central\" text-anchor=\"middle\" font-family=\"monospace\" font-size=\"16\" x=\"192\" y=\"4800\">COORDS(4.5,5.5)</text>\n",
       "<rect x=\"80\" y=\"4848\" width=\"224\" height=\"32\" stroke=\"black\" fill=\"white\"/>\n",
       "<text dominant-baseline=\"central\" text-anchor=\"middle\" font-family=\"monospace\" font-size=\"16\" x=\"192\" y=\"4864\">COORDS(5.5,0.5)</text>\n",
       "<rect x=\"80\" y=\"4912\" width=\"224\" height=\"32\" stroke=\"black\" fill=\"white\"/>\n",
       "<text dominant-baseline=\"central\" text-anchor=\"middle\" font-family=\"monospace\" font-size=\"16\" x=\"192\" y=\"4928\">COORDS(5.5,1.5)</text>\n",
       "<rect x=\"80\" y=\"4976\" width=\"224\" height=\"32\" stroke=\"black\" fill=\"white\"/>\n",
       "<text dominant-baseline=\"central\" text-anchor=\"middle\" font-family=\"monospace\" font-size=\"16\" x=\"192\" y=\"4992\">COORDS(5.5,2.5)</text>\n",
       "<rect x=\"80\" y=\"5040\" width=\"224\" height=\"32\" stroke=\"black\" fill=\"white\"/>\n",
       "<text dominant-baseline=\"central\" text-anchor=\"middle\" font-family=\"monospace\" font-size=\"16\" x=\"192\" y=\"5056\">COORDS(5.5,3.5)</text>\n",
       "<rect x=\"80\" y=\"5104\" width=\"224\" height=\"32\" stroke=\"black\" fill=\"white\"/>\n",
       "<text dominant-baseline=\"central\" text-anchor=\"middle\" font-family=\"monospace\" font-size=\"16\" x=\"192\" y=\"5120\">COORDS(5.5,4.5)</text>\n",
       "<rect x=\"80\" y=\"5168\" width=\"224\" height=\"32\" stroke=\"black\" fill=\"white\"/>\n",
       "<text dominant-baseline=\"central\" text-anchor=\"middle\" font-family=\"monospace\" font-size=\"16\" x=\"192\" y=\"5184\">COORDS(5.5,5.5)</text>\n",
       "<rect x=\"80\" y=\"5232\" width=\"224\" height=\"32\" stroke=\"black\" fill=\"white\"/>\n",
       "<text dominant-baseline=\"central\" text-anchor=\"middle\" font-family=\"monospace\" font-size=\"16\" x=\"192\" y=\"5248\">COORDS(6.5,0.5)</text>\n",
       "<rect x=\"80\" y=\"5296\" width=\"224\" height=\"32\" stroke=\"black\" fill=\"white\"/>\n",
       "<text dominant-baseline=\"central\" text-anchor=\"middle\" font-family=\"monospace\" font-size=\"16\" x=\"192\" y=\"5312\">COORDS(6.5,1.5)</text>\n",
       "<rect x=\"80\" y=\"5360\" width=\"224\" height=\"32\" stroke=\"black\" fill=\"white\"/>\n",
       "<text dominant-baseline=\"central\" text-anchor=\"middle\" font-family=\"monospace\" font-size=\"16\" x=\"192\" y=\"5376\">COORDS(6.5,2.5)</text>\n",
       "<rect x=\"80\" y=\"5424\" width=\"224\" height=\"32\" stroke=\"black\" fill=\"white\"/>\n",
       "<text dominant-baseline=\"central\" text-anchor=\"middle\" font-family=\"monospace\" font-size=\"16\" x=\"192\" y=\"5440\">COORDS(6.5,3.5)</text>\n",
       "<rect x=\"80\" y=\"5488\" width=\"224\" height=\"32\" stroke=\"black\" fill=\"white\"/>\n",
       "<text dominant-baseline=\"central\" text-anchor=\"middle\" font-family=\"monospace\" font-size=\"16\" x=\"192\" y=\"5504\">COORDS(6.5,4.5)</text>\n",
       "<rect x=\"80\" y=\"5552\" width=\"224\" height=\"32\" stroke=\"black\" fill=\"white\"/>\n",
       "<text dominant-baseline=\"central\" text-anchor=\"middle\" font-family=\"monospace\" font-size=\"16\" x=\"192\" y=\"5568\">COORDS(6.5,5.5)</text>\n",
       "<rect x=\"80\" y=\"5616\" width=\"224\" height=\"32\" stroke=\"black\" fill=\"white\"/>\n",
       "<text dominant-baseline=\"central\" text-anchor=\"middle\" font-family=\"monospace\" font-size=\"16\" x=\"192\" y=\"5632\">COORDS(7.5,0.5)</text>\n",
       "<rect x=\"80\" y=\"5680\" width=\"224\" height=\"32\" stroke=\"black\" fill=\"white\"/>\n",
       "<text dominant-baseline=\"central\" text-anchor=\"middle\" font-family=\"monospace\" font-size=\"16\" x=\"192\" y=\"5696\">COORDS(7.5,1.5)</text>\n",
       "<rect x=\"80\" y=\"5744\" width=\"224\" height=\"32\" stroke=\"black\" fill=\"white\"/>\n",
       "<text dominant-baseline=\"central\" text-anchor=\"middle\" font-family=\"monospace\" font-size=\"16\" x=\"192\" y=\"5760\">COORDS(7.5,2.5)</text>\n",
       "<rect x=\"80\" y=\"5808\" width=\"224\" height=\"32\" stroke=\"black\" fill=\"white\"/>\n",
       "<text dominant-baseline=\"central\" text-anchor=\"middle\" font-family=\"monospace\" font-size=\"16\" x=\"192\" y=\"5824\">COORDS(7.5,3.5)</text>\n",
       "<rect x=\"80\" y=\"5872\" width=\"224\" height=\"32\" stroke=\"black\" fill=\"white\"/>\n",
       "<text dominant-baseline=\"central\" text-anchor=\"middle\" font-family=\"monospace\" font-size=\"16\" x=\"192\" y=\"5888\">COORDS(7.5,4.5)</text>\n",
       "<rect x=\"80\" y=\"5936\" width=\"224\" height=\"32\" stroke=\"black\" fill=\"white\"/>\n",
       "<text dominant-baseline=\"central\" text-anchor=\"middle\" font-family=\"monospace\" font-size=\"16\" x=\"192\" y=\"5952\">COORDS(7.5,5.5)</text>\n",
       "<rect x=\"80\" y=\"6000\" width=\"224\" height=\"32\" stroke=\"black\" fill=\"white\"/>\n",
       "<text dominant-baseline=\"central\" text-anchor=\"middle\" font-family=\"monospace\" font-size=\"16\" x=\"192\" y=\"6016\">COORDS(8.5,0.5)</text>\n",
       "<rect x=\"80\" y=\"6064\" width=\"224\" height=\"32\" stroke=\"black\" fill=\"white\"/>\n",
       "<text dominant-baseline=\"central\" text-anchor=\"middle\" font-family=\"monospace\" font-size=\"16\" x=\"192\" y=\"6080\">COORDS(8.5,1.5)</text>\n",
       "<rect x=\"80\" y=\"6128\" width=\"224\" height=\"32\" stroke=\"black\" fill=\"white\"/>\n",
       "<text dominant-baseline=\"central\" text-anchor=\"middle\" font-family=\"monospace\" font-size=\"16\" x=\"192\" y=\"6144\">COORDS(8.5,2.5)</text>\n",
       "<rect x=\"80\" y=\"6192\" width=\"224\" height=\"32\" stroke=\"black\" fill=\"white\"/>\n",
       "<text dominant-baseline=\"central\" text-anchor=\"middle\" font-family=\"monospace\" font-size=\"16\" x=\"192\" y=\"6208\">COORDS(8.5,3.5)</text>\n",
       "<rect x=\"80\" y=\"6256\" width=\"224\" height=\"32\" stroke=\"black\" fill=\"white\"/>\n",
       "<text dominant-baseline=\"central\" text-anchor=\"middle\" font-family=\"monospace\" font-size=\"16\" x=\"192\" y=\"6272\">COORDS(8.5,4.5)</text>\n",
       "<rect x=\"80\" y=\"6320\" width=\"224\" height=\"32\" stroke=\"black\" fill=\"white\"/>\n",
       "<text dominant-baseline=\"central\" text-anchor=\"middle\" font-family=\"monospace\" font-size=\"16\" x=\"192\" y=\"6336\">COORDS(8.5,5.5)</text>\n",
       "<rect x=\"80\" y=\"6384\" width=\"224\" height=\"32\" stroke=\"black\" fill=\"white\"/>\n",
       "<text dominant-baseline=\"central\" text-anchor=\"middle\" font-family=\"monospace\" font-size=\"16\" x=\"192\" y=\"6400\">COORDS(9.5,0.5)</text>\n",
       "<rect x=\"80\" y=\"6448\" width=\"224\" height=\"32\" stroke=\"black\" fill=\"white\"/>\n",
       "<text dominant-baseline=\"central\" text-anchor=\"middle\" font-family=\"monospace\" font-size=\"16\" x=\"192\" y=\"6464\">COORDS(9.5,1.5)</text>\n",
       "<rect x=\"80\" y=\"6512\" width=\"224\" height=\"32\" stroke=\"black\" fill=\"white\"/>\n",
       "<text dominant-baseline=\"central\" text-anchor=\"middle\" font-family=\"monospace\" font-size=\"16\" x=\"192\" y=\"6528\">COORDS(9.5,2.5)</text>\n",
       "<rect x=\"80\" y=\"6576\" width=\"224\" height=\"32\" stroke=\"black\" fill=\"white\"/>\n",
       "<text dominant-baseline=\"central\" text-anchor=\"middle\" font-family=\"monospace\" font-size=\"16\" x=\"192\" y=\"6592\">COORDS(9.5,3.5)</text>\n",
       "<rect x=\"80\" y=\"6640\" width=\"224\" height=\"32\" stroke=\"black\" fill=\"white\"/>\n",
       "<text dominant-baseline=\"central\" text-anchor=\"middle\" font-family=\"monospace\" font-size=\"16\" x=\"192\" y=\"6656\">COORDS(9.5,4.5)</text>\n",
       "<rect x=\"80\" y=\"6704\" width=\"224\" height=\"32\" stroke=\"black\" fill=\"white\"/>\n",
       "<text dominant-baseline=\"central\" text-anchor=\"middle\" font-family=\"monospace\" font-size=\"16\" x=\"192\" y=\"6720\">COORDS(9.5,5.5)</text>\n",
       "<rect x=\"336\" y=\"112\" width=\"32\" height=\"32\" stroke=\"black\" fill=\"black\"/>\n",
       "<text dominant-baseline=\"central\" text-anchor=\"middle\" font-family=\"monospace\" font-size=\"30\" x=\"352\" y=\"128\" fill=\"white\">R</text>\n",
       "<rect x=\"336\" y=\"176\" width=\"32\" height=\"32\" stroke=\"black\" fill=\"black\"/>\n",
       "<text dominant-baseline=\"central\" text-anchor=\"middle\" font-family=\"monospace\" font-size=\"30\" x=\"352\" y=\"192\" fill=\"white\">R</text>\n",
       "<rect x=\"336\" y=\"432\" width=\"32\" height=\"32\" stroke=\"black\" fill=\"black\"/>\n",
       "<text dominant-baseline=\"central\" text-anchor=\"middle\" font-family=\"monospace\" font-size=\"30\" x=\"352\" y=\"448\" fill=\"white\">R</text>\n",
       "<rect x=\"336\" y=\"496\" width=\"32\" height=\"32\" stroke=\"black\" fill=\"black\"/>\n",
       "<text dominant-baseline=\"central\" text-anchor=\"middle\" font-family=\"monospace\" font-size=\"30\" x=\"352\" y=\"512\" fill=\"white\">R</text>\n",
       "<rect x=\"336\" y=\"368\" width=\"32\" height=\"32\" stroke=\"black\" fill=\"black\"/>\n",
       "<text dominant-baseline=\"central\" text-anchor=\"middle\" font-family=\"monospace\" font-size=\"30\" x=\"352\" y=\"384\" fill=\"white\">R</text>\n",
       "<rect x=\"336\" y=\"688\" width=\"32\" height=\"32\" stroke=\"black\" fill=\"black\"/>\n",
       "<text dominant-baseline=\"central\" text-anchor=\"middle\" font-family=\"monospace\" font-size=\"30\" x=\"352\" y=\"704\" fill=\"white\">R</text>\n",
       "<rect x=\"336\" y=\"752\" width=\"32\" height=\"32\" stroke=\"black\" fill=\"black\"/>\n",
       "<text dominant-baseline=\"central\" text-anchor=\"middle\" font-family=\"monospace\" font-size=\"30\" x=\"352\" y=\"768\" fill=\"white\">R</text>\n",
       "<rect x=\"336\" y=\"816\" width=\"32\" height=\"32\" stroke=\"black\" fill=\"black\"/>\n",
       "<text dominant-baseline=\"central\" text-anchor=\"middle\" font-family=\"monospace\" font-size=\"30\" x=\"352\" y=\"832\" fill=\"white\">R</text>\n",
       "<rect x=\"336\" y=\"1072\" width=\"32\" height=\"32\" stroke=\"black\" fill=\"black\"/>\n",
       "<text dominant-baseline=\"central\" text-anchor=\"middle\" font-family=\"monospace\" font-size=\"30\" x=\"352\" y=\"1088\" fill=\"white\">R</text>\n",
       "<rect x=\"336\" y=\"1136\" width=\"32\" height=\"32\" stroke=\"black\" fill=\"black\"/>\n",
       "<text dominant-baseline=\"central\" text-anchor=\"middle\" font-family=\"monospace\" font-size=\"30\" x=\"352\" y=\"1152\" fill=\"white\">R</text>\n",
       "<rect x=\"336\" y=\"1008\" width=\"32\" height=\"32\" stroke=\"black\" fill=\"black\"/>\n",
       "<text dominant-baseline=\"central\" text-anchor=\"middle\" font-family=\"monospace\" font-size=\"30\" x=\"352\" y=\"1024\" fill=\"white\">R</text>\n",
       "<rect x=\"336\" y=\"1328\" width=\"32\" height=\"32\" stroke=\"black\" fill=\"black\"/>\n",
       "<text dominant-baseline=\"central\" text-anchor=\"middle\" font-family=\"monospace\" font-size=\"30\" x=\"352\" y=\"1344\" fill=\"white\">R</text>\n",
       "<rect x=\"336\" y=\"1392\" width=\"32\" height=\"32\" stroke=\"black\" fill=\"black\"/>\n",
       "<text dominant-baseline=\"central\" text-anchor=\"middle\" font-family=\"monospace\" font-size=\"30\" x=\"352\" y=\"1408\" fill=\"white\">R</text>\n",
       "<rect x=\"336\" y=\"1456\" width=\"32\" height=\"32\" stroke=\"black\" fill=\"black\"/>\n",
       "<text dominant-baseline=\"central\" text-anchor=\"middle\" font-family=\"monospace\" font-size=\"30\" x=\"352\" y=\"1472\" fill=\"white\">R</text>\n",
       "<rect x=\"336\" y=\"1712\" width=\"32\" height=\"32\" stroke=\"black\" fill=\"black\"/>\n",
       "<text dominant-baseline=\"central\" text-anchor=\"middle\" font-family=\"monospace\" font-size=\"30\" x=\"352\" y=\"1728\" fill=\"white\">R</text>\n",
       "<rect x=\"336\" y=\"1776\" width=\"32\" height=\"32\" stroke=\"black\" fill=\"black\"/>\n",
       "<text dominant-baseline=\"central\" text-anchor=\"middle\" font-family=\"monospace\" font-size=\"30\" x=\"352\" y=\"1792\" fill=\"white\">R</text>\n",
       "<rect x=\"336\" y=\"1648\" width=\"32\" height=\"32\" stroke=\"black\" fill=\"black\"/>\n",
       "<text dominant-baseline=\"central\" text-anchor=\"middle\" font-family=\"monospace\" font-size=\"30\" x=\"352\" y=\"1664\" fill=\"white\">R</text>\n",
       "<rect x=\"336\" y=\"1968\" width=\"32\" height=\"32\" stroke=\"black\" fill=\"black\"/>\n",
       "<text dominant-baseline=\"central\" text-anchor=\"middle\" font-family=\"monospace\" font-size=\"30\" x=\"352\" y=\"1984\" fill=\"white\">R</text>\n",
       "<rect x=\"336\" y=\"2032\" width=\"32\" height=\"32\" stroke=\"black\" fill=\"black\"/>\n",
       "<text dominant-baseline=\"central\" text-anchor=\"middle\" font-family=\"monospace\" font-size=\"30\" x=\"352\" y=\"2048\" fill=\"white\">R</text>\n",
       "<rect x=\"336\" y=\"48\" width=\"32\" height=\"32\" stroke=\"black\" fill=\"black\"/>\n",
       "<text dominant-baseline=\"central\" text-anchor=\"middle\" font-family=\"monospace\" font-size=\"30\" x=\"352\" y=\"64\" fill=\"white\">R</text>\n",
       "<rect x=\"336\" y=\"2096\" width=\"32\" height=\"32\" stroke=\"black\" fill=\"black\"/>\n",
       "<text dominant-baseline=\"central\" text-anchor=\"middle\" font-family=\"monospace\" font-size=\"30\" x=\"352\" y=\"2112\" fill=\"white\">R</text>\n",
       "<rect x=\"400\" y=\"48\" width=\"32\" height=\"32\" stroke=\"black\" fill=\"white\"/>\n",
       "<text dominant-baseline=\"central\" text-anchor=\"middle\" font-family=\"monospace\" font-size=\"30\" x=\"416\" y=\"64\">X</text>\n",
       "<rect x=\"400\" y=\"368\" width=\"32\" height=\"32\" stroke=\"black\" fill=\"white\"/>\n",
       "<text dominant-baseline=\"central\" text-anchor=\"middle\" font-family=\"monospace\" font-size=\"30\" x=\"416\" y=\"384\">X</text>\n",
       "<rect x=\"400\" y=\"688\" width=\"32\" height=\"32\" stroke=\"black\" fill=\"white\"/>\n",
       "<text dominant-baseline=\"central\" text-anchor=\"middle\" font-family=\"monospace\" font-size=\"30\" x=\"416\" y=\"704\">X</text>\n",
       "<rect x=\"400\" y=\"1008\" width=\"32\" height=\"32\" stroke=\"black\" fill=\"white\"/>\n",
       "<text dominant-baseline=\"central\" text-anchor=\"middle\" font-family=\"monospace\" font-size=\"30\" x=\"416\" y=\"1024\">X</text>\n",
       "<rect x=\"400\" y=\"1328\" width=\"32\" height=\"32\" stroke=\"black\" fill=\"white\"/>\n",
       "<text dominant-baseline=\"central\" text-anchor=\"middle\" font-family=\"monospace\" font-size=\"30\" x=\"416\" y=\"1344\">X</text>\n",
       "<rect x=\"400\" y=\"1648\" width=\"32\" height=\"32\" stroke=\"black\" fill=\"white\"/>\n",
       "<text dominant-baseline=\"central\" text-anchor=\"middle\" font-family=\"monospace\" font-size=\"30\" x=\"416\" y=\"1664\">X</text>\n",
       "<rect x=\"400\" y=\"1968\" width=\"32\" height=\"32\" stroke=\"black\" fill=\"white\"/>\n",
       "<text dominant-baseline=\"central\" text-anchor=\"middle\" font-family=\"monospace\" font-size=\"30\" x=\"416\" y=\"1984\">X</text>\n",
       "<path d=\"M68,40 L68,32 L444,32 L444,40 \" stroke=\"black\" fill=\"none\"/>\n",
       "<path d=\"M68,6776 L68,6784 L444,6784 L444,6776 \" stroke=\"black\" fill=\"none\"/>\n",
       "<rect x=\"528\" y=\"2928\" width=\"32\" height=\"32\" stroke=\"black\" fill=\"white\"/>\n",
       "<text dominant-baseline=\"central\" text-anchor=\"middle\" font-family=\"monospace\" font-size=\"30\" x=\"544\" y=\"2944\">H</text>\n",
       "<rect x=\"528\" y=\"2992\" width=\"32\" height=\"32\" stroke=\"black\" fill=\"white\"/>\n",
       "<text dominant-baseline=\"central\" text-anchor=\"middle\" font-family=\"monospace\" font-size=\"30\" x=\"544\" y=\"3008\">H</text>\n",
       "<rect x=\"528\" y=\"3056\" width=\"32\" height=\"32\" stroke=\"black\" fill=\"white\"/>\n",
       "<text dominant-baseline=\"central\" text-anchor=\"middle\" font-family=\"monospace\" font-size=\"30\" x=\"544\" y=\"3072\">H</text>\n",
       "<rect x=\"528\" y=\"3120\" width=\"32\" height=\"32\" stroke=\"black\" fill=\"white\"/>\n",
       "<text dominant-baseline=\"central\" text-anchor=\"middle\" font-family=\"monospace\" font-size=\"30\" x=\"544\" y=\"3136\">H</text>\n",
       "<rect x=\"528\" y=\"3312\" width=\"32\" height=\"32\" stroke=\"black\" fill=\"white\"/>\n",
       "<text dominant-baseline=\"central\" text-anchor=\"middle\" font-family=\"monospace\" font-size=\"30\" x=\"544\" y=\"3328\">H</text>\n",
       "<rect x=\"528\" y=\"3376\" width=\"32\" height=\"32\" stroke=\"black\" fill=\"white\"/>\n",
       "<text dominant-baseline=\"central\" text-anchor=\"middle\" font-family=\"monospace\" font-size=\"30\" x=\"544\" y=\"3392\">H</text>\n",
       "<rect x=\"528\" y=\"3440\" width=\"32\" height=\"32\" stroke=\"black\" fill=\"white\"/>\n",
       "<text dominant-baseline=\"central\" text-anchor=\"middle\" font-family=\"monospace\" font-size=\"30\" x=\"544\" y=\"3456\">H</text>\n",
       "<rect x=\"528\" y=\"3504\" width=\"32\" height=\"32\" stroke=\"black\" fill=\"white\"/>\n",
       "<text dominant-baseline=\"central\" text-anchor=\"middle\" font-family=\"monospace\" font-size=\"30\" x=\"544\" y=\"3520\">H</text>\n",
       "<rect x=\"528\" y=\"3696\" width=\"32\" height=\"32\" stroke=\"black\" fill=\"white\"/>\n",
       "<text dominant-baseline=\"central\" text-anchor=\"middle\" font-family=\"monospace\" font-size=\"30\" x=\"544\" y=\"3712\">H</text>\n",
       "<rect x=\"528\" y=\"3760\" width=\"32\" height=\"32\" stroke=\"black\" fill=\"white\"/>\n",
       "<text dominant-baseline=\"central\" text-anchor=\"middle\" font-family=\"monospace\" font-size=\"30\" x=\"544\" y=\"3776\">H</text>\n",
       "<rect x=\"528\" y=\"3824\" width=\"32\" height=\"32\" stroke=\"black\" fill=\"white\"/>\n",
       "<text dominant-baseline=\"central\" text-anchor=\"middle\" font-family=\"monospace\" font-size=\"30\" x=\"544\" y=\"3840\">H</text>\n",
       "<rect x=\"528\" y=\"3888\" width=\"32\" height=\"32\" stroke=\"black\" fill=\"white\"/>\n",
       "<text dominant-baseline=\"central\" text-anchor=\"middle\" font-family=\"monospace\" font-size=\"30\" x=\"544\" y=\"3904\">H</text>\n",
       "<rect x=\"528\" y=\"4080\" width=\"32\" height=\"32\" stroke=\"black\" fill=\"white\"/>\n",
       "<text dominant-baseline=\"central\" text-anchor=\"middle\" font-family=\"monospace\" font-size=\"30\" x=\"544\" y=\"4096\">H</text>\n",
       "<rect x=\"528\" y=\"4144\" width=\"32\" height=\"32\" stroke=\"black\" fill=\"white\"/>\n",
       "<text dominant-baseline=\"central\" text-anchor=\"middle\" font-family=\"monospace\" font-size=\"30\" x=\"544\" y=\"4160\">H</text>\n",
       "<rect x=\"528\" y=\"4208\" width=\"32\" height=\"32\" stroke=\"black\" fill=\"white\"/>\n",
       "<text dominant-baseline=\"central\" text-anchor=\"middle\" font-family=\"monospace\" font-size=\"30\" x=\"544\" y=\"4224\">H</text>\n",
       "<rect x=\"528\" y=\"4272\" width=\"32\" height=\"32\" stroke=\"black\" fill=\"white\"/>\n",
       "<text dominant-baseline=\"central\" text-anchor=\"middle\" font-family=\"monospace\" font-size=\"30\" x=\"544\" y=\"4288\">H</text>\n",
       "<rect x=\"528\" y=\"4464\" width=\"32\" height=\"32\" stroke=\"black\" fill=\"white\"/>\n",
       "<text dominant-baseline=\"central\" text-anchor=\"middle\" font-family=\"monospace\" font-size=\"30\" x=\"544\" y=\"4480\">H</text>\n",
       "<rect x=\"528\" y=\"4528\" width=\"32\" height=\"32\" stroke=\"black\" fill=\"white\"/>\n",
       "<text dominant-baseline=\"central\" text-anchor=\"middle\" font-family=\"monospace\" font-size=\"30\" x=\"544\" y=\"4544\">H</text>\n",
       "<rect x=\"528\" y=\"4592\" width=\"32\" height=\"32\" stroke=\"black\" fill=\"white\"/>\n",
       "<text dominant-baseline=\"central\" text-anchor=\"middle\" font-family=\"monospace\" font-size=\"30\" x=\"544\" y=\"4608\">H</text>\n",
       "<rect x=\"528\" y=\"4656\" width=\"32\" height=\"32\" stroke=\"black\" fill=\"white\"/>\n",
       "<text dominant-baseline=\"central\" text-anchor=\"middle\" font-family=\"monospace\" font-size=\"30\" x=\"544\" y=\"4672\">H</text>\n",
       "<path d=\"M608,128 L608,2944 \" stroke=\"black\"/>\n",
       "<circle cx=\"608\" cy=\"2944\" r=\"12\" stroke=\"none\" fill=\"black\"/>\n",
       "<circle cx=\"608\" cy=\"128\" r=\"12\" stroke=\"none\" fill=\"black\"/>\n",
       "<path d=\"M672,384 L672,3008 \" stroke=\"black\"/>\n",
       "<circle cx=\"672\" cy=\"3008\" r=\"12\" stroke=\"none\" fill=\"black\"/>\n",
       "<circle cx=\"672\" cy=\"384\" r=\"12\" stroke=\"none\" fill=\"black\"/>\n",
       "<path d=\"M736,768 L736,3072 \" stroke=\"black\"/>\n",
       "<circle cx=\"736\" cy=\"3072\" r=\"12\" stroke=\"none\" fill=\"black\"/>\n",
       "<circle cx=\"736\" cy=\"768\" r=\"12\" stroke=\"none\" fill=\"black\"/>\n",
       "<path d=\"M800,1024 L800,3136 \" stroke=\"black\"/>\n",
       "<circle cx=\"800\" cy=\"3136\" r=\"12\" stroke=\"none\" fill=\"black\"/>\n",
       "<circle cx=\"800\" cy=\"1024\" r=\"12\" stroke=\"none\" fill=\"black\"/>\n",
       "<path d=\"M864,1408 L864,3328 \" stroke=\"black\"/>\n",
       "<circle cx=\"864\" cy=\"3328\" r=\"12\" stroke=\"none\" fill=\"black\"/>\n",
       "<circle cx=\"864\" cy=\"1408\" r=\"12\" stroke=\"none\" fill=\"black\"/>\n",
       "<path d=\"M928,1664 L928,3392 \" stroke=\"black\"/>\n",
       "<circle cx=\"928\" cy=\"3392\" r=\"12\" stroke=\"none\" fill=\"black\"/>\n",
       "<circle cx=\"928\" cy=\"1664\" r=\"12\" stroke=\"none\" fill=\"black\"/>\n",
       "<path d=\"M992,64 L992,3456 \" stroke=\"black\"/>\n",
       "<circle cx=\"992\" cy=\"3456\" r=\"12\" stroke=\"none\" fill=\"black\"/>\n",
       "<circle cx=\"992\" cy=\"64\" r=\"12\" stroke=\"none\" fill=\"black\"/>\n",
       "<path d=\"M1056,512 L1056,3520 \" stroke=\"black\"/>\n",
       "<circle cx=\"1056\" cy=\"3520\" r=\"12\" stroke=\"none\" fill=\"black\"/>\n",
       "<circle cx=\"1056\" cy=\"512\" r=\"12\" stroke=\"none\" fill=\"black\"/>\n",
       "<path d=\"M1120,704 L1120,3712 \" stroke=\"black\"/>\n",
       "<circle cx=\"1120\" cy=\"3712\" r=\"12\" stroke=\"none\" fill=\"black\"/>\n",
       "<circle cx=\"1120\" cy=\"704\" r=\"12\" stroke=\"none\" fill=\"black\"/>\n",
       "<path d=\"M1184,1152 L1184,3776 \" stroke=\"black\"/>\n",
       "<circle cx=\"1184\" cy=\"3776\" r=\"12\" stroke=\"none\" fill=\"black\"/>\n",
       "<circle cx=\"1184\" cy=\"1152\" r=\"12\" stroke=\"none\" fill=\"black\"/>\n",
       "<path d=\"M1248,1344 L1248,3840 \" stroke=\"black\"/>\n",
       "<circle cx=\"1248\" cy=\"3840\" r=\"12\" stroke=\"none\" fill=\"black\"/>\n",
       "<circle cx=\"1248\" cy=\"1344\" r=\"12\" stroke=\"none\" fill=\"black\"/>\n",
       "<path d=\"M1312,1792 L1312,3904 \" stroke=\"black\"/>\n",
       "<circle cx=\"1312\" cy=\"3904\" r=\"12\" stroke=\"none\" fill=\"black\"/>\n",
       "<circle cx=\"1312\" cy=\"1792\" r=\"12\" stroke=\"none\" fill=\"black\"/>\n",
       "<path d=\"M1376,64 L1376,4096 \" stroke=\"black\"/>\n",
       "<circle cx=\"1376\" cy=\"4096\" r=\"12\" stroke=\"none\" fill=\"black\"/>\n",
       "<circle cx=\"1376\" cy=\"64\" r=\"12\" stroke=\"black\" fill=\"white\"/>\n",
       "<path d=\"M1364,64 L1388,64 M1376,52 L1376,76 \" stroke=\"black\"/>\n",
       "<path d=\"M1440,448 L1440,4160 \" stroke=\"black\"/>\n",
       "<circle cx=\"1440\" cy=\"4160\" r=\"12\" stroke=\"none\" fill=\"black\"/>\n",
       "<circle cx=\"1440\" cy=\"448\" r=\"12\" stroke=\"black\" fill=\"white\"/>\n",
       "<path d=\"M1428,448 L1452,448 M1440,436 L1440,460 \" stroke=\"black\"/>\n",
       "<path d=\"M1504,704 L1504,4224 \" stroke=\"black\"/>\n",
       "<circle cx=\"1504\" cy=\"4224\" r=\"12\" stroke=\"none\" fill=\"black\"/>\n",
       "<circle cx=\"1504\" cy=\"704\" r=\"12\" stroke=\"black\" fill=\"white\"/>\n",
       "<path d=\"M1492,704 L1516,704 M1504,692 L1504,716 \" stroke=\"black\"/>\n",
       "<path d=\"M1568,1088 L1568,4288 \" stroke=\"black\"/>\n",
       "<circle cx=\"1568\" cy=\"4288\" r=\"12\" stroke=\"none\" fill=\"black\"/>\n",
       "<circle cx=\"1568\" cy=\"1088\" r=\"12\" stroke=\"black\" fill=\"white\"/>\n",
       "<path d=\"M1556,1088 L1580,1088 M1568,1076 L1568,1100 \" stroke=\"black\"/>\n",
       "<path d=\"M1632,1344 L1632,4480 \" stroke=\"black\"/>\n",
       "<circle cx=\"1632\" cy=\"4480\" r=\"12\" stroke=\"none\" fill=\"black\"/>\n",
       "<circle cx=\"1632\" cy=\"1344\" r=\"12\" stroke=\"black\" fill=\"white\"/>\n",
       "<path d=\"M1620,1344 L1644,1344 M1632,1332 L1632,1356 \" stroke=\"black\"/>\n",
       "<path d=\"M1696,1728 L1696,4544 \" stroke=\"black\"/>\n",
       "<circle cx=\"1696\" cy=\"4544\" r=\"12\" stroke=\"none\" fill=\"black\"/>\n",
       "<circle cx=\"1696\" cy=\"1728\" r=\"12\" stroke=\"black\" fill=\"white\"/>\n",
       "<path d=\"M1684,1728 L1708,1728 M1696,1716 L1696,1740 \" stroke=\"black\"/>\n",
       "<path d=\"M1760,1984 L1760,4608 \" stroke=\"black\"/>\n",
       "<circle cx=\"1760\" cy=\"4608\" r=\"12\" stroke=\"none\" fill=\"black\"/>\n",
       "<circle cx=\"1760\" cy=\"1984\" r=\"12\" stroke=\"black\" fill=\"white\"/>\n",
       "<path d=\"M1748,1984 L1772,1984 M1760,1972 L1760,1996 \" stroke=\"black\"/>\n",
       "<path d=\"M1824,128 L1824,4672 \" stroke=\"black\"/>\n",
       "<circle cx=\"1824\" cy=\"4672\" r=\"12\" stroke=\"none\" fill=\"black\"/>\n",
       "<circle cx=\"1824\" cy=\"128\" r=\"12\" stroke=\"black\" fill=\"white\"/>\n",
       "<path d=\"M1812,128 L1836,128 M1824,116 L1824,140 \" stroke=\"black\"/>\n",
       "<path d=\"M580,40 L580,32 L1852,32 L1852,40 \" stroke=\"black\" fill=\"none\"/>\n",
       "<path d=\"M580,6776 L580,6784 L1852,6784 L1852,6776 \" stroke=\"black\" fill=\"none\"/>\n",
       "<path d=\"M1888,192 L1888,2944 \" stroke=\"black\"/>\n",
       "<circle cx=\"1888\" cy=\"2944\" r=\"12\" stroke=\"none\" fill=\"black\"/>\n",
       "<circle cx=\"1888\" cy=\"192\" r=\"12\" stroke=\"none\" fill=\"black\"/>\n",
       "<path d=\"M1952,448 L1952,3008 \" stroke=\"black\"/>\n",
       "<circle cx=\"1952\" cy=\"3008\" r=\"12\" stroke=\"none\" fill=\"black\"/>\n",
       "<circle cx=\"1952\" cy=\"448\" r=\"12\" stroke=\"none\" fill=\"black\"/>\n",
       "<path d=\"M2016,832 L2016,3072 \" stroke=\"black\"/>\n",
       "<circle cx=\"2016\" cy=\"3072\" r=\"12\" stroke=\"none\" fill=\"black\"/>\n",
       "<circle cx=\"2016\" cy=\"832\" r=\"12\" stroke=\"none\" fill=\"black\"/>\n",
       "<path d=\"M2080,1088 L2080,3136 \" stroke=\"black\"/>\n",
       "<circle cx=\"2080\" cy=\"3136\" r=\"12\" stroke=\"none\" fill=\"black\"/>\n",
       "<circle cx=\"2080\" cy=\"1088\" r=\"12\" stroke=\"none\" fill=\"black\"/>\n",
       "<path d=\"M2144,1472 L2144,3328 \" stroke=\"black\"/>\n",
       "<circle cx=\"2144\" cy=\"3328\" r=\"12\" stroke=\"none\" fill=\"black\"/>\n",
       "<circle cx=\"2144\" cy=\"1472\" r=\"12\" stroke=\"none\" fill=\"black\"/>\n",
       "<path d=\"M2208,1728 L2208,3392 \" stroke=\"black\"/>\n",
       "<circle cx=\"2208\" cy=\"3392\" r=\"12\" stroke=\"none\" fill=\"black\"/>\n",
       "<circle cx=\"2208\" cy=\"1728\" r=\"12\" stroke=\"none\" fill=\"black\"/>\n",
       "<path d=\"M2272,384 L2272,3456 \" stroke=\"black\"/>\n",
       "<circle cx=\"2272\" cy=\"3456\" r=\"12\" stroke=\"none\" fill=\"black\"/>\n",
       "<circle cx=\"2272\" cy=\"384\" r=\"12\" stroke=\"none\" fill=\"black\"/>\n",
       "<path d=\"M2336,832 L2336,3520 \" stroke=\"black\"/>\n",
       "<circle cx=\"2336\" cy=\"3520\" r=\"12\" stroke=\"none\" fill=\"black\"/>\n",
       "<circle cx=\"2336\" cy=\"832\" r=\"12\" stroke=\"none\" fill=\"black\"/>\n",
       "<path d=\"M2400,1024 L2400,3712 \" stroke=\"black\"/>\n",
       "<circle cx=\"2400\" cy=\"3712\" r=\"12\" stroke=\"none\" fill=\"black\"/>\n",
       "<circle cx=\"2400\" cy=\"1024\" r=\"12\" stroke=\"none\" fill=\"black\"/>\n",
       "<path d=\"M2464,1472 L2464,3776 \" stroke=\"black\"/>\n",
       "<circle cx=\"2464\" cy=\"3776\" r=\"12\" stroke=\"none\" fill=\"black\"/>\n",
       "<circle cx=\"2464\" cy=\"1472\" r=\"12\" stroke=\"none\" fill=\"black\"/>\n",
       "<path d=\"M2528,1664 L2528,3840 \" stroke=\"black\"/>\n",
       "<circle cx=\"2528\" cy=\"3840\" r=\"12\" stroke=\"none\" fill=\"black\"/>\n",
       "<circle cx=\"2528\" cy=\"1664\" r=\"12\" stroke=\"none\" fill=\"black\"/>\n",
       "<path d=\"M2592,2112 L2592,3904 \" stroke=\"black\"/>\n",
       "<circle cx=\"2592\" cy=\"3904\" r=\"12\" stroke=\"none\" fill=\"black\"/>\n",
       "<circle cx=\"2592\" cy=\"2112\" r=\"12\" stroke=\"none\" fill=\"black\"/>\n",
       "<path d=\"M2656,128 L2656,4096 \" stroke=\"black\"/>\n",
       "<circle cx=\"2656\" cy=\"4096\" r=\"12\" stroke=\"none\" fill=\"black\"/>\n",
       "<circle cx=\"2656\" cy=\"128\" r=\"12\" stroke=\"black\" fill=\"white\"/>\n",
       "<path d=\"M2644,128 L2668,128 M2656,116 L2656,140 \" stroke=\"black\"/>\n",
       "<path d=\"M2720,512 L2720,4160 \" stroke=\"black\"/>\n",
       "<circle cx=\"2720\" cy=\"4160\" r=\"12\" stroke=\"none\" fill=\"black\"/>\n",
       "<circle cx=\"2720\" cy=\"512\" r=\"12\" stroke=\"black\" fill=\"white\"/>\n",
       "<path d=\"M2708,512 L2732,512 M2720,500 L2720,524 \" stroke=\"black\"/>\n",
       "<path d=\"M2784,768 L2784,4224 \" stroke=\"black\"/>\n",
       "<circle cx=\"2784\" cy=\"4224\" r=\"12\" stroke=\"none\" fill=\"black\"/>\n",
       "<circle cx=\"2784\" cy=\"768\" r=\"12\" stroke=\"black\" fill=\"white\"/>\n",
       "<path d=\"M2772,768 L2796,768 M2784,756 L2784,780 \" stroke=\"black\"/>\n",
       "<path d=\"M2848,1152 L2848,4288 \" stroke=\"black\"/>\n",
       "<circle cx=\"2848\" cy=\"4288\" r=\"12\" stroke=\"none\" fill=\"black\"/>\n",
       "<circle cx=\"2848\" cy=\"1152\" r=\"12\" stroke=\"black\" fill=\"white\"/>\n",
       "<path d=\"M2836,1152 L2860,1152 M2848,1140 L2848,1164 \" stroke=\"black\"/>\n",
       "<path d=\"M2912,1408 L2912,4480 \" stroke=\"black\"/>\n",
       "<circle cx=\"2912\" cy=\"4480\" r=\"12\" stroke=\"none\" fill=\"black\"/>\n",
       "<circle cx=\"2912\" cy=\"1408\" r=\"12\" stroke=\"black\" fill=\"white\"/>\n",
       "<path d=\"M2900,1408 L2924,1408 M2912,1396 L2912,1420 \" stroke=\"black\"/>\n",
       "<path d=\"M2976,1792 L2976,4544 \" stroke=\"black\"/>\n",
       "<circle cx=\"2976\" cy=\"4544\" r=\"12\" stroke=\"none\" fill=\"black\"/>\n",
       "<circle cx=\"2976\" cy=\"1792\" r=\"12\" stroke=\"black\" fill=\"white\"/>\n",
       "<path d=\"M2964,1792 L2988,1792 M2976,1780 L2976,1804 \" stroke=\"black\"/>\n",
       "<path d=\"M3040,2048 L3040,4608 \" stroke=\"black\"/>\n",
       "<circle cx=\"3040\" cy=\"4608\" r=\"12\" stroke=\"none\" fill=\"black\"/>\n",
       "<circle cx=\"3040\" cy=\"2048\" r=\"12\" stroke=\"black\" fill=\"white\"/>\n",
       "<path d=\"M3028,2048 L3052,2048 M3040,2036 L3040,2060 \" stroke=\"black\"/>\n",
       "<path d=\"M3104,192 L3104,4672 \" stroke=\"black\"/>\n",
       "<circle cx=\"3104\" cy=\"4672\" r=\"12\" stroke=\"none\" fill=\"black\"/>\n",
       "<circle cx=\"3104\" cy=\"192\" r=\"12\" stroke=\"black\" fill=\"white\"/>\n",
       "<path d=\"M3092,192 L3116,192 M3104,180 L3104,204 \" stroke=\"black\"/>\n",
       "<path d=\"M1860,40 L1860,32 L3132,32 L3132,40 \" stroke=\"black\" fill=\"none\"/>\n",
       "<path d=\"M1860,6776 L1860,6784 L3132,6784 L3132,6776 \" stroke=\"black\" fill=\"none\"/>\n",
       "<path d=\"M3168,448 L3168,2944 \" stroke=\"black\"/>\n",
       "<circle cx=\"3168\" cy=\"2944\" r=\"12\" stroke=\"none\" fill=\"black\"/>\n",
       "<circle cx=\"3168\" cy=\"448\" r=\"12\" stroke=\"none\" fill=\"black\"/>\n",
       "<path d=\"M3232,704 L3232,3008 \" stroke=\"black\"/>\n",
       "<circle cx=\"3232\" cy=\"3008\" r=\"12\" stroke=\"none\" fill=\"black\"/>\n",
       "<circle cx=\"3232\" cy=\"704\" r=\"12\" stroke=\"none\" fill=\"black\"/>\n",
       "<path d=\"M3296,1088 L3296,3072 \" stroke=\"black\"/>\n",
       "<circle cx=\"3296\" cy=\"3072\" r=\"12\" stroke=\"none\" fill=\"black\"/>\n",
       "<circle cx=\"3296\" cy=\"1088\" r=\"12\" stroke=\"none\" fill=\"black\"/>\n",
       "<path d=\"M3360,1344 L3360,3136 \" stroke=\"black\"/>\n",
       "<circle cx=\"3360\" cy=\"3136\" r=\"12\" stroke=\"none\" fill=\"black\"/>\n",
       "<circle cx=\"3360\" cy=\"1344\" r=\"12\" stroke=\"none\" fill=\"black\"/>\n",
       "<path d=\"M3424,1728 L3424,3328 \" stroke=\"black\"/>\n",
       "<circle cx=\"3424\" cy=\"3328\" r=\"12\" stroke=\"none\" fill=\"black\"/>\n",
       "<circle cx=\"3424\" cy=\"1728\" r=\"12\" stroke=\"none\" fill=\"black\"/>\n",
       "<path d=\"M3488,1984 L3488,3392 \" stroke=\"black\"/>\n",
       "<circle cx=\"3488\" cy=\"3392\" r=\"12\" stroke=\"none\" fill=\"black\"/>\n",
       "<circle cx=\"3488\" cy=\"1984\" r=\"12\" stroke=\"none\" fill=\"black\"/>\n",
       "<path d=\"M3552,384 L3552,4096 \" stroke=\"black\"/>\n",
       "<circle cx=\"3552\" cy=\"4096\" r=\"12\" stroke=\"none\" fill=\"black\"/>\n",
       "<circle cx=\"3552\" cy=\"384\" r=\"12\" stroke=\"black\" fill=\"white\"/>\n",
       "<path d=\"M3540,384 L3564,384 M3552,372 L3552,396 \" stroke=\"black\"/>\n",
       "<path d=\"M3616,768 L3616,4160 \" stroke=\"black\"/>\n",
       "<circle cx=\"3616\" cy=\"4160\" r=\"12\" stroke=\"none\" fill=\"black\"/>\n",
       "<circle cx=\"3616\" cy=\"768\" r=\"12\" stroke=\"black\" fill=\"white\"/>\n",
       "<path d=\"M3604,768 L3628,768 M3616,756 L3616,780 \" stroke=\"black\"/>\n",
       "<path d=\"M3680,1024 L3680,4224 \" stroke=\"black\"/>\n",
       "<circle cx=\"3680\" cy=\"4224\" r=\"12\" stroke=\"none\" fill=\"black\"/>\n",
       "<circle cx=\"3680\" cy=\"1024\" r=\"12\" stroke=\"black\" fill=\"white\"/>\n",
       "<path d=\"M3668,1024 L3692,1024 M3680,1012 L3680,1036 \" stroke=\"black\"/>\n",
       "<path d=\"M3744,1408 L3744,4288 \" stroke=\"black\"/>\n",
       "<circle cx=\"3744\" cy=\"4288\" r=\"12\" stroke=\"none\" fill=\"black\"/>\n",
       "<circle cx=\"3744\" cy=\"1408\" r=\"12\" stroke=\"black\" fill=\"white\"/>\n",
       "<path d=\"M3732,1408 L3756,1408 M3744,1396 L3744,1420 \" stroke=\"black\"/>\n",
       "<path d=\"M3808,1664 L3808,4480 \" stroke=\"black\"/>\n",
       "<circle cx=\"3808\" cy=\"4480\" r=\"12\" stroke=\"none\" fill=\"black\"/>\n",
       "<circle cx=\"3808\" cy=\"1664\" r=\"12\" stroke=\"black\" fill=\"white\"/>\n",
       "<path d=\"M3796,1664 L3820,1664 M3808,1652 L3808,1676 \" stroke=\"black\"/>\n",
       "<path d=\"M3872,2048 L3872,4544 \" stroke=\"black\"/>\n",
       "<circle cx=\"3872\" cy=\"4544\" r=\"12\" stroke=\"none\" fill=\"black\"/>\n",
       "<circle cx=\"3872\" cy=\"2048\" r=\"12\" stroke=\"black\" fill=\"white\"/>\n",
       "<path d=\"M3860,2048 L3884,2048 M3872,2036 L3872,2060 \" stroke=\"black\"/>\n",
       "<path d=\"M3140,40 L3140,32 L3900,32 L3900,40 \" stroke=\"black\" fill=\"none\"/>\n",
       "<path d=\"M3140,6776 L3140,6784 L3900,6784 L3900,6776 \" stroke=\"black\" fill=\"none\"/>\n",
       "<path d=\"M3936,512 L3936,2944 \" stroke=\"black\"/>\n",
       "<circle cx=\"3936\" cy=\"2944\" r=\"12\" stroke=\"none\" fill=\"black\"/>\n",
       "<circle cx=\"3936\" cy=\"512\" r=\"12\" stroke=\"none\" fill=\"black\"/>\n",
       "<path d=\"M4000,768 L4000,3008 \" stroke=\"black\"/>\n",
       "<circle cx=\"4000\" cy=\"3008\" r=\"12\" stroke=\"none\" fill=\"black\"/>\n",
       "<circle cx=\"4000\" cy=\"768\" r=\"12\" stroke=\"none\" fill=\"black\"/>\n",
       "<path d=\"M4064,1152 L4064,3072 \" stroke=\"black\"/>\n",
       "<circle cx=\"4064\" cy=\"3072\" r=\"12\" stroke=\"none\" fill=\"black\"/>\n",
       "<circle cx=\"4064\" cy=\"1152\" r=\"12\" stroke=\"none\" fill=\"black\"/>\n",
       "<path d=\"M4128,1408 L4128,3136 \" stroke=\"black\"/>\n",
       "<circle cx=\"4128\" cy=\"3136\" r=\"12\" stroke=\"none\" fill=\"black\"/>\n",
       "<circle cx=\"4128\" cy=\"1408\" r=\"12\" stroke=\"none\" fill=\"black\"/>\n",
       "<path d=\"M4192,1792 L4192,3328 \" stroke=\"black\"/>\n",
       "<circle cx=\"4192\" cy=\"3328\" r=\"12\" stroke=\"none\" fill=\"black\"/>\n",
       "<circle cx=\"4192\" cy=\"1792\" r=\"12\" stroke=\"none\" fill=\"black\"/>\n",
       "<path d=\"M4256,2048 L4256,3392 \" stroke=\"black\"/>\n",
       "<circle cx=\"4256\" cy=\"3392\" r=\"12\" stroke=\"none\" fill=\"black\"/>\n",
       "<circle cx=\"4256\" cy=\"2048\" r=\"12\" stroke=\"none\" fill=\"black\"/>\n",
       "<path d=\"M4320,448 L4320,4096 \" stroke=\"black\"/>\n",
       "<circle cx=\"4320\" cy=\"4096\" r=\"12\" stroke=\"none\" fill=\"black\"/>\n",
       "<circle cx=\"4320\" cy=\"448\" r=\"12\" stroke=\"black\" fill=\"white\"/>\n",
       "<path d=\"M4308,448 L4332,448 M4320,436 L4320,460 \" stroke=\"black\"/>\n",
       "<path d=\"M4384,832 L4384,4160 \" stroke=\"black\"/>\n",
       "<circle cx=\"4384\" cy=\"4160\" r=\"12\" stroke=\"none\" fill=\"black\"/>\n",
       "<circle cx=\"4384\" cy=\"832\" r=\"12\" stroke=\"black\" fill=\"white\"/>\n",
       "<path d=\"M4372,832 L4396,832 M4384,820 L4384,844 \" stroke=\"black\"/>\n",
       "<path d=\"M4448,1088 L4448,4224 \" stroke=\"black\"/>\n",
       "<circle cx=\"4448\" cy=\"4224\" r=\"12\" stroke=\"none\" fill=\"black\"/>\n",
       "<circle cx=\"4448\" cy=\"1088\" r=\"12\" stroke=\"black\" fill=\"white\"/>\n",
       "<path d=\"M4436,1088 L4460,1088 M4448,1076 L4448,1100 \" stroke=\"black\"/>\n",
       "<path d=\"M4512,1472 L4512,4288 \" stroke=\"black\"/>\n",
       "<circle cx=\"4512\" cy=\"4288\" r=\"12\" stroke=\"none\" fill=\"black\"/>\n",
       "<circle cx=\"4512\" cy=\"1472\" r=\"12\" stroke=\"black\" fill=\"white\"/>\n",
       "<path d=\"M4500,1472 L4524,1472 M4512,1460 L4512,1484 \" stroke=\"black\"/>\n",
       "<path d=\"M4576,1728 L4576,4480 \" stroke=\"black\"/>\n",
       "<circle cx=\"4576\" cy=\"4480\" r=\"12\" stroke=\"none\" fill=\"black\"/>\n",
       "<circle cx=\"4576\" cy=\"1728\" r=\"12\" stroke=\"black\" fill=\"white\"/>\n",
       "<path d=\"M4564,1728 L4588,1728 M4576,1716 L4576,1740 \" stroke=\"black\"/>\n",
       "<path d=\"M4640,2112 L4640,4544 \" stroke=\"black\"/>\n",
       "<circle cx=\"4640\" cy=\"4544\" r=\"12\" stroke=\"none\" fill=\"black\"/>\n",
       "<circle cx=\"4640\" cy=\"2112\" r=\"12\" stroke=\"black\" fill=\"white\"/>\n",
       "<path d=\"M4628,2112 L4652,2112 M4640,2100 L4640,2124 \" stroke=\"black\"/>\n",
       "<path d=\"M3908,40 L3908,32 L4668,32 L4668,40 \" stroke=\"black\" fill=\"none\"/>\n",
       "<path d=\"M3908,6776 L3908,6784 L4668,6784 L4668,6776 \" stroke=\"black\" fill=\"none\"/>\n",
       "<rect x=\"4688\" y=\"2928\" width=\"32\" height=\"32\" stroke=\"black\" fill=\"white\"/>\n",
       "<text dominant-baseline=\"central\" text-anchor=\"middle\" font-family=\"monospace\" font-size=\"30\" x=\"4704\" y=\"2944\">H</text>\n",
       "<rect x=\"4688\" y=\"2992\" width=\"32\" height=\"32\" stroke=\"black\" fill=\"white\"/>\n",
       "<text dominant-baseline=\"central\" text-anchor=\"middle\" font-family=\"monospace\" font-size=\"30\" x=\"4704\" y=\"3008\">H</text>\n",
       "<rect x=\"4688\" y=\"3056\" width=\"32\" height=\"32\" stroke=\"black\" fill=\"white\"/>\n",
       "<text dominant-baseline=\"central\" text-anchor=\"middle\" font-family=\"monospace\" font-size=\"30\" x=\"4704\" y=\"3072\">H</text>\n",
       "<rect x=\"4688\" y=\"3120\" width=\"32\" height=\"32\" stroke=\"black\" fill=\"white\"/>\n",
       "<text dominant-baseline=\"central\" text-anchor=\"middle\" font-family=\"monospace\" font-size=\"30\" x=\"4704\" y=\"3136\">H</text>\n",
       "<rect x=\"4688\" y=\"3312\" width=\"32\" height=\"32\" stroke=\"black\" fill=\"white\"/>\n",
       "<text dominant-baseline=\"central\" text-anchor=\"middle\" font-family=\"monospace\" font-size=\"30\" x=\"4704\" y=\"3328\">H</text>\n",
       "<rect x=\"4688\" y=\"3376\" width=\"32\" height=\"32\" stroke=\"black\" fill=\"white\"/>\n",
       "<text dominant-baseline=\"central\" text-anchor=\"middle\" font-family=\"monospace\" font-size=\"30\" x=\"4704\" y=\"3392\">H</text>\n",
       "<rect x=\"4688\" y=\"3440\" width=\"32\" height=\"32\" stroke=\"black\" fill=\"white\"/>\n",
       "<text dominant-baseline=\"central\" text-anchor=\"middle\" font-family=\"monospace\" font-size=\"30\" x=\"4704\" y=\"3456\">H</text>\n",
       "<rect x=\"4688\" y=\"3504\" width=\"32\" height=\"32\" stroke=\"black\" fill=\"white\"/>\n",
       "<text dominant-baseline=\"central\" text-anchor=\"middle\" font-family=\"monospace\" font-size=\"30\" x=\"4704\" y=\"3520\">H</text>\n",
       "<rect x=\"4688\" y=\"3696\" width=\"32\" height=\"32\" stroke=\"black\" fill=\"white\"/>\n",
       "<text dominant-baseline=\"central\" text-anchor=\"middle\" font-family=\"monospace\" font-size=\"30\" x=\"4704\" y=\"3712\">H</text>\n",
       "<rect x=\"4688\" y=\"3760\" width=\"32\" height=\"32\" stroke=\"black\" fill=\"white\"/>\n",
       "<text dominant-baseline=\"central\" text-anchor=\"middle\" font-family=\"monospace\" font-size=\"30\" x=\"4704\" y=\"3776\">H</text>\n",
       "<rect x=\"4688\" y=\"3824\" width=\"32\" height=\"32\" stroke=\"black\" fill=\"white\"/>\n",
       "<text dominant-baseline=\"central\" text-anchor=\"middle\" font-family=\"monospace\" font-size=\"30\" x=\"4704\" y=\"3840\">H</text>\n",
       "<rect x=\"4688\" y=\"3888\" width=\"32\" height=\"32\" stroke=\"black\" fill=\"white\"/>\n",
       "<text dominant-baseline=\"central\" text-anchor=\"middle\" font-family=\"monospace\" font-size=\"30\" x=\"4704\" y=\"3904\">H</text>\n",
       "<rect x=\"4688\" y=\"4080\" width=\"32\" height=\"32\" stroke=\"black\" fill=\"white\"/>\n",
       "<text dominant-baseline=\"central\" text-anchor=\"middle\" font-family=\"monospace\" font-size=\"30\" x=\"4704\" y=\"4096\">H</text>\n",
       "<rect x=\"4688\" y=\"4144\" width=\"32\" height=\"32\" stroke=\"black\" fill=\"white\"/>\n",
       "<text dominant-baseline=\"central\" text-anchor=\"middle\" font-family=\"monospace\" font-size=\"30\" x=\"4704\" y=\"4160\">H</text>\n",
       "<rect x=\"4688\" y=\"4208\" width=\"32\" height=\"32\" stroke=\"black\" fill=\"white\"/>\n",
       "<text dominant-baseline=\"central\" text-anchor=\"middle\" font-family=\"monospace\" font-size=\"30\" x=\"4704\" y=\"4224\">H</text>\n",
       "<rect x=\"4688\" y=\"4272\" width=\"32\" height=\"32\" stroke=\"black\" fill=\"white\"/>\n",
       "<text dominant-baseline=\"central\" text-anchor=\"middle\" font-family=\"monospace\" font-size=\"30\" x=\"4704\" y=\"4288\">H</text>\n",
       "<rect x=\"4688\" y=\"4464\" width=\"32\" height=\"32\" stroke=\"black\" fill=\"white\"/>\n",
       "<text dominant-baseline=\"central\" text-anchor=\"middle\" font-family=\"monospace\" font-size=\"30\" x=\"4704\" y=\"4480\">H</text>\n",
       "<rect x=\"4688\" y=\"4528\" width=\"32\" height=\"32\" stroke=\"black\" fill=\"white\"/>\n",
       "<text dominant-baseline=\"central\" text-anchor=\"middle\" font-family=\"monospace\" font-size=\"30\" x=\"4704\" y=\"4544\">H</text>\n",
       "<rect x=\"4688\" y=\"4592\" width=\"32\" height=\"32\" stroke=\"black\" fill=\"white\"/>\n",
       "<text dominant-baseline=\"central\" text-anchor=\"middle\" font-family=\"monospace\" font-size=\"30\" x=\"4704\" y=\"4608\">H</text>\n",
       "<rect x=\"4688\" y=\"4656\" width=\"32\" height=\"32\" stroke=\"black\" fill=\"white\"/>\n",
       "<text dominant-baseline=\"central\" text-anchor=\"middle\" font-family=\"monospace\" font-size=\"30\" x=\"4704\" y=\"4672\">H</text>\n",
       "<rect x=\"4752\" y=\"2928\" width=\"32\" height=\"32\" stroke=\"black\" fill=\"black\"/>\n",
       "<text dominant-baseline=\"central\" text-anchor=\"middle\" font-family=\"monospace\" font-size=\"24\" x=\"4768\" y=\"2944\" fill=\"white\">MR</text>\n",
       "<text text-anchor=\"middle\" font-family=\"monospace\" font-size=\"8\" x=\"4768\" y=\"2924\">rec[0]</text>\n",
       "<rect x=\"4752\" y=\"2992\" width=\"32\" height=\"32\" stroke=\"black\" fill=\"black\"/>\n",
       "<text dominant-baseline=\"central\" text-anchor=\"middle\" font-family=\"monospace\" font-size=\"24\" x=\"4768\" y=\"3008\" fill=\"white\">MR</text>\n",
       "<text text-anchor=\"middle\" font-family=\"monospace\" font-size=\"8\" x=\"4768\" y=\"2988\">rec[1]</text>\n",
       "<rect x=\"4752\" y=\"3056\" width=\"32\" height=\"32\" stroke=\"black\" fill=\"black\"/>\n",
       "<text dominant-baseline=\"central\" text-anchor=\"middle\" font-family=\"monospace\" font-size=\"24\" x=\"4768\" y=\"3072\" fill=\"white\">MR</text>\n",
       "<text text-anchor=\"middle\" font-family=\"monospace\" font-size=\"8\" x=\"4768\" y=\"3052\">rec[2]</text>\n",
       "<rect x=\"4752\" y=\"3120\" width=\"32\" height=\"32\" stroke=\"black\" fill=\"black\"/>\n",
       "<text dominant-baseline=\"central\" text-anchor=\"middle\" font-family=\"monospace\" font-size=\"24\" x=\"4768\" y=\"3136\" fill=\"white\">MR</text>\n",
       "<text text-anchor=\"middle\" font-family=\"monospace\" font-size=\"8\" x=\"4768\" y=\"3116\">rec[3]</text>\n",
       "<rect x=\"4752\" y=\"3312\" width=\"32\" height=\"32\" stroke=\"black\" fill=\"black\"/>\n",
       "<text dominant-baseline=\"central\" text-anchor=\"middle\" font-family=\"monospace\" font-size=\"24\" x=\"4768\" y=\"3328\" fill=\"white\">MR</text>\n",
       "<text text-anchor=\"middle\" font-family=\"monospace\" font-size=\"8\" x=\"4768\" y=\"3308\">rec[4]</text>\n",
       "<rect x=\"4752\" y=\"3376\" width=\"32\" height=\"32\" stroke=\"black\" fill=\"black\"/>\n",
       "<text dominant-baseline=\"central\" text-anchor=\"middle\" font-family=\"monospace\" font-size=\"24\" x=\"4768\" y=\"3392\" fill=\"white\">MR</text>\n",
       "<text text-anchor=\"middle\" font-family=\"monospace\" font-size=\"8\" x=\"4768\" y=\"3372\">rec[5]</text>\n",
       "<rect x=\"4752\" y=\"3440\" width=\"32\" height=\"32\" stroke=\"black\" fill=\"black\"/>\n",
       "<text dominant-baseline=\"central\" text-anchor=\"middle\" font-family=\"monospace\" font-size=\"24\" x=\"4768\" y=\"3456\" fill=\"white\">MR</text>\n",
       "<text text-anchor=\"middle\" font-family=\"monospace\" font-size=\"8\" x=\"4768\" y=\"3436\">rec[6]</text>\n",
       "<rect x=\"4752\" y=\"3504\" width=\"32\" height=\"32\" stroke=\"black\" fill=\"black\"/>\n",
       "<text dominant-baseline=\"central\" text-anchor=\"middle\" font-family=\"monospace\" font-size=\"24\" x=\"4768\" y=\"3520\" fill=\"white\">MR</text>\n",
       "<text text-anchor=\"middle\" font-family=\"monospace\" font-size=\"8\" x=\"4768\" y=\"3500\">rec[7]</text>\n",
       "<rect x=\"4752\" y=\"3696\" width=\"32\" height=\"32\" stroke=\"black\" fill=\"black\"/>\n",
       "<text dominant-baseline=\"central\" text-anchor=\"middle\" font-family=\"monospace\" font-size=\"24\" x=\"4768\" y=\"3712\" fill=\"white\">MR</text>\n",
       "<text text-anchor=\"middle\" font-family=\"monospace\" font-size=\"8\" x=\"4768\" y=\"3692\">rec[8]</text>\n",
       "<rect x=\"4752\" y=\"3760\" width=\"32\" height=\"32\" stroke=\"black\" fill=\"black\"/>\n",
       "<text dominant-baseline=\"central\" text-anchor=\"middle\" font-family=\"monospace\" font-size=\"24\" x=\"4768\" y=\"3776\" fill=\"white\">MR</text>\n",
       "<text text-anchor=\"middle\" font-family=\"monospace\" font-size=\"8\" x=\"4768\" y=\"3756\">rec[9]</text>\n",
       "<rect x=\"4752\" y=\"3824\" width=\"32\" height=\"32\" stroke=\"black\" fill=\"black\"/>\n",
       "<text dominant-baseline=\"central\" text-anchor=\"middle\" font-family=\"monospace\" font-size=\"24\" x=\"4768\" y=\"3840\" fill=\"white\">MR</text>\n",
       "<text text-anchor=\"middle\" font-family=\"monospace\" font-size=\"8\" x=\"4768\" y=\"3820\">rec[10]</text>\n",
       "<rect x=\"4752\" y=\"3888\" width=\"32\" height=\"32\" stroke=\"black\" fill=\"black\"/>\n",
       "<text dominant-baseline=\"central\" text-anchor=\"middle\" font-family=\"monospace\" font-size=\"24\" x=\"4768\" y=\"3904\" fill=\"white\">MR</text>\n",
       "<text text-anchor=\"middle\" font-family=\"monospace\" font-size=\"8\" x=\"4768\" y=\"3884\">rec[11]</text>\n",
       "<rect x=\"4752\" y=\"4080\" width=\"32\" height=\"32\" stroke=\"black\" fill=\"black\"/>\n",
       "<text dominant-baseline=\"central\" text-anchor=\"middle\" font-family=\"monospace\" font-size=\"24\" x=\"4768\" y=\"4096\" fill=\"white\">MR</text>\n",
       "<text text-anchor=\"middle\" font-family=\"monospace\" font-size=\"8\" x=\"4768\" y=\"4076\">rec[12]</text>\n",
       "<rect x=\"4752\" y=\"4144\" width=\"32\" height=\"32\" stroke=\"black\" fill=\"black\"/>\n",
       "<text dominant-baseline=\"central\" text-anchor=\"middle\" font-family=\"monospace\" font-size=\"24\" x=\"4768\" y=\"4160\" fill=\"white\">MR</text>\n",
       "<text text-anchor=\"middle\" font-family=\"monospace\" font-size=\"8\" x=\"4768\" y=\"4140\">rec[13]</text>\n",
       "<rect x=\"4752\" y=\"4208\" width=\"32\" height=\"32\" stroke=\"black\" fill=\"black\"/>\n",
       "<text dominant-baseline=\"central\" text-anchor=\"middle\" font-family=\"monospace\" font-size=\"24\" x=\"4768\" y=\"4224\" fill=\"white\">MR</text>\n",
       "<text text-anchor=\"middle\" font-family=\"monospace\" font-size=\"8\" x=\"4768\" y=\"4204\">rec[14]</text>\n",
       "<rect x=\"4752\" y=\"4272\" width=\"32\" height=\"32\" stroke=\"black\" fill=\"black\"/>\n",
       "<text dominant-baseline=\"central\" text-anchor=\"middle\" font-family=\"monospace\" font-size=\"24\" x=\"4768\" y=\"4288\" fill=\"white\">MR</text>\n",
       "<text text-anchor=\"middle\" font-family=\"monospace\" font-size=\"8\" x=\"4768\" y=\"4268\">rec[15]</text>\n",
       "<rect x=\"4752\" y=\"4464\" width=\"32\" height=\"32\" stroke=\"black\" fill=\"black\"/>\n",
       "<text dominant-baseline=\"central\" text-anchor=\"middle\" font-family=\"monospace\" font-size=\"24\" x=\"4768\" y=\"4480\" fill=\"white\">MR</text>\n",
       "<text text-anchor=\"middle\" font-family=\"monospace\" font-size=\"8\" x=\"4768\" y=\"4460\">rec[16]</text>\n",
       "<rect x=\"4752\" y=\"4528\" width=\"32\" height=\"32\" stroke=\"black\" fill=\"black\"/>\n",
       "<text dominant-baseline=\"central\" text-anchor=\"middle\" font-family=\"monospace\" font-size=\"24\" x=\"4768\" y=\"4544\" fill=\"white\">MR</text>\n",
       "<text text-anchor=\"middle\" font-family=\"monospace\" font-size=\"8\" x=\"4768\" y=\"4524\">rec[17]</text>\n",
       "<rect x=\"4752\" y=\"4592\" width=\"32\" height=\"32\" stroke=\"black\" fill=\"black\"/>\n",
       "<text dominant-baseline=\"central\" text-anchor=\"middle\" font-family=\"monospace\" font-size=\"24\" x=\"4768\" y=\"4608\" fill=\"white\">MR</text>\n",
       "<text text-anchor=\"middle\" font-family=\"monospace\" font-size=\"8\" x=\"4768\" y=\"4588\">rec[18]</text>\n",
       "<rect x=\"4752\" y=\"4656\" width=\"32\" height=\"32\" stroke=\"black\" fill=\"black\"/>\n",
       "<text dominant-baseline=\"central\" text-anchor=\"middle\" font-family=\"monospace\" font-size=\"24\" x=\"4768\" y=\"4672\" fill=\"white\">MR</text>\n",
       "<text text-anchor=\"middle\" font-family=\"monospace\" font-size=\"8\" x=\"4768\" y=\"4652\">rec[19]</text>\n",
       "<rect x=\"4816\" y=\"1008\" width=\"32\" height=\"32\" stroke=\"black\" fill=\"white\"/>\n",
       "<text dominant-baseline=\"central\" text-anchor=\"middle\" font-family=\"monospace\" font-size=\"30\" x=\"4832\" y=\"1024\">H</text>\n",
       "<rect x=\"4816\" y=\"1072\" width=\"32\" height=\"32\" stroke=\"black\" fill=\"white\"/>\n",
       "<text dominant-baseline=\"central\" text-anchor=\"middle\" font-family=\"monospace\" font-size=\"30\" x=\"4832\" y=\"1088\">H</text>\n",
       "<rect x=\"4816\" y=\"1136\" width=\"32\" height=\"32\" stroke=\"black\" fill=\"white\"/>\n",
       "<text dominant-baseline=\"central\" text-anchor=\"middle\" font-family=\"monospace\" font-size=\"30\" x=\"4832\" y=\"1152\">H</text>\n",
       "<rect x=\"4880\" y=\"1008\" width=\"32\" height=\"32\" stroke=\"black\" fill=\"black\"/>\n",
       "<text dominant-baseline=\"central\" text-anchor=\"middle\" font-family=\"monospace\" font-size=\"30\" x=\"4896\" y=\"1024\" fill=\"white\">M</text>\n",
       "<text text-anchor=\"middle\" font-family=\"monospace\" font-size=\"8\" x=\"4896\" y=\"1004\">rec[20]</text>\n",
       "<rect x=\"4880\" y=\"1072\" width=\"32\" height=\"32\" stroke=\"black\" fill=\"black\"/>\n",
       "<text dominant-baseline=\"central\" text-anchor=\"middle\" font-family=\"monospace\" font-size=\"30\" x=\"4896\" y=\"1088\" fill=\"white\">M</text>\n",
       "<text text-anchor=\"middle\" font-family=\"monospace\" font-size=\"8\" x=\"4896\" y=\"1068\">rec[21]</text>\n",
       "<rect x=\"4880\" y=\"1136\" width=\"32\" height=\"32\" stroke=\"black\" fill=\"black\"/>\n",
       "<text dominant-baseline=\"central\" text-anchor=\"middle\" font-family=\"monospace\" font-size=\"30\" x=\"4896\" y=\"1152\" fill=\"white\">M</text>\n",
       "<text text-anchor=\"middle\" font-family=\"monospace\" font-size=\"8\" x=\"4896\" y=\"1132\">rec[22]</text>\n",
       "<rect x=\"4880\" y=\"2928\" width=\"32\" height=\"32\" stroke=\"black\" fill=\"white\"/>\n",
       "<text dominant-baseline=\"central\" text-anchor=\"middle\" font-family=\"monospace\" font-size=\"30\" x=\"4896\" y=\"2944\">H</text>\n",
       "<rect x=\"4880\" y=\"2992\" width=\"32\" height=\"32\" stroke=\"black\" fill=\"white\"/>\n",
       "<text dominant-baseline=\"central\" text-anchor=\"middle\" font-family=\"monospace\" font-size=\"30\" x=\"4896\" y=\"3008\">H</text>\n",
       "<rect x=\"4880\" y=\"3440\" width=\"32\" height=\"32\" stroke=\"black\" fill=\"white\"/>\n",
       "<text dominant-baseline=\"central\" text-anchor=\"middle\" font-family=\"monospace\" font-size=\"30\" x=\"4896\" y=\"3456\">H</text>\n",
       "<rect x=\"4880\" y=\"3504\" width=\"32\" height=\"32\" stroke=\"black\" fill=\"white\"/>\n",
       "<text dominant-baseline=\"central\" text-anchor=\"middle\" font-family=\"monospace\" font-size=\"30\" x=\"4896\" y=\"3520\">H</text>\n",
       "<rect x=\"4880\" y=\"4080\" width=\"32\" height=\"32\" stroke=\"black\" fill=\"white\"/>\n",
       "<text dominant-baseline=\"central\" text-anchor=\"middle\" font-family=\"monospace\" font-size=\"30\" x=\"4896\" y=\"4096\">H</text>\n",
       "<rect x=\"4880\" y=\"4144\" width=\"32\" height=\"32\" stroke=\"black\" fill=\"white\"/>\n",
       "<text dominant-baseline=\"central\" text-anchor=\"middle\" font-family=\"monospace\" font-size=\"30\" x=\"4896\" y=\"4160\">H</text>\n",
       "<rect x=\"4880\" y=\"4208\" width=\"32\" height=\"32\" stroke=\"black\" fill=\"white\"/>\n",
       "<text dominant-baseline=\"central\" text-anchor=\"middle\" font-family=\"monospace\" font-size=\"30\" x=\"4896\" y=\"4224\">H</text>\n",
       "<rect x=\"4880\" y=\"4656\" width=\"32\" height=\"32\" stroke=\"black\" fill=\"white\"/>\n",
       "<text dominant-baseline=\"central\" text-anchor=\"middle\" font-family=\"monospace\" font-size=\"30\" x=\"4896\" y=\"4672\">H</text>\n",
       "<path d=\"M4804,40 L4804,32 L4924,32 L4924,40 \" stroke=\"black\" fill=\"none\"/>\n",
       "<path d=\"M4804,6776 L4804,6784 L4924,6784 L4924,6776 \" stroke=\"black\" fill=\"none\"/>\n",
       "<path d=\"M4960,128 L4960,2944 \" stroke=\"black\"/>\n",
       "<circle cx=\"4960\" cy=\"2944\" r=\"12\" stroke=\"none\" fill=\"black\"/>\n",
       "<circle cx=\"4960\" cy=\"128\" r=\"12\" stroke=\"none\" fill=\"black\"/>\n",
       "<path d=\"M5024,384 L5024,3008 \" stroke=\"black\"/>\n",
       "<circle cx=\"5024\" cy=\"3008\" r=\"12\" stroke=\"none\" fill=\"black\"/>\n",
       "<circle cx=\"5024\" cy=\"384\" r=\"12\" stroke=\"none\" fill=\"black\"/>\n",
       "<path d=\"M5088,64 L5088,3456 \" stroke=\"black\"/>\n",
       "<circle cx=\"5088\" cy=\"3456\" r=\"12\" stroke=\"none\" fill=\"black\"/>\n",
       "<circle cx=\"5088\" cy=\"64\" r=\"12\" stroke=\"none\" fill=\"black\"/>\n",
       "<path d=\"M5152,512 L5152,3520 \" stroke=\"black\"/>\n",
       "<circle cx=\"5152\" cy=\"3520\" r=\"12\" stroke=\"none\" fill=\"black\"/>\n",
       "<circle cx=\"5152\" cy=\"512\" r=\"12\" stroke=\"none\" fill=\"black\"/>\n",
       "<path d=\"M5216,64 L5216,4096 \" stroke=\"black\"/>\n",
       "<circle cx=\"5216\" cy=\"4096\" r=\"12\" stroke=\"none\" fill=\"black\"/>\n",
       "<circle cx=\"5216\" cy=\"64\" r=\"12\" stroke=\"black\" fill=\"white\"/>\n",
       "<path d=\"M5204,64 L5228,64 M5216,52 L5216,76 \" stroke=\"black\"/>\n",
       "<path d=\"M5280,448 L5280,4160 \" stroke=\"black\"/>\n",
       "<circle cx=\"5280\" cy=\"4160\" r=\"12\" stroke=\"none\" fill=\"black\"/>\n",
       "<circle cx=\"5280\" cy=\"448\" r=\"12\" stroke=\"black\" fill=\"white\"/>\n",
       "<path d=\"M5268,448 L5292,448 M5280,436 L5280,460 \" stroke=\"black\"/>\n",
       "<path d=\"M5344,704 L5344,4224 \" stroke=\"black\"/>\n",
       "<circle cx=\"5344\" cy=\"4224\" r=\"12\" stroke=\"none\" fill=\"black\"/>\n",
       "<circle cx=\"5344\" cy=\"704\" r=\"12\" stroke=\"black\" fill=\"white\"/>\n",
       "<path d=\"M5332,704 L5356,704 M5344,692 L5344,716 \" stroke=\"black\"/>\n",
       "<path d=\"M5408,128 L5408,4672 \" stroke=\"black\"/>\n",
       "<circle cx=\"5408\" cy=\"4672\" r=\"12\" stroke=\"none\" fill=\"black\"/>\n",
       "<circle cx=\"5408\" cy=\"128\" r=\"12\" stroke=\"black\" fill=\"white\"/>\n",
       "<path d=\"M5396,128 L5420,128 M5408,116 L5408,140 \" stroke=\"black\"/>\n",
       "<path d=\"M4932,40 L4932,32 L5436,32 L5436,40 \" stroke=\"black\" fill=\"none\"/>\n",
       "<path d=\"M4932,6776 L4932,6784 L5436,6784 L5436,6776 \" stroke=\"black\" fill=\"none\"/>\n",
       "<path d=\"M5472,192 L5472,2944 \" stroke=\"black\"/>\n",
       "<circle cx=\"5472\" cy=\"2944\" r=\"12\" stroke=\"none\" fill=\"black\"/>\n",
       "<circle cx=\"5472\" cy=\"192\" r=\"12\" stroke=\"none\" fill=\"black\"/>\n",
       "<path d=\"M5536,448 L5536,3008 \" stroke=\"black\"/>\n",
       "<circle cx=\"5536\" cy=\"3008\" r=\"12\" stroke=\"none\" fill=\"black\"/>\n",
       "<circle cx=\"5536\" cy=\"448\" r=\"12\" stroke=\"none\" fill=\"black\"/>\n",
       "<path d=\"M5600,384 L5600,3456 \" stroke=\"black\"/>\n",
       "<circle cx=\"5600\" cy=\"3456\" r=\"12\" stroke=\"none\" fill=\"black\"/>\n",
       "<circle cx=\"5600\" cy=\"384\" r=\"12\" stroke=\"none\" fill=\"black\"/>\n",
       "<path d=\"M5664,832 L5664,3520 \" stroke=\"black\"/>\n",
       "<circle cx=\"5664\" cy=\"3520\" r=\"12\" stroke=\"none\" fill=\"black\"/>\n",
       "<circle cx=\"5664\" cy=\"832\" r=\"12\" stroke=\"none\" fill=\"black\"/>\n",
       "<path d=\"M5728,128 L5728,4096 \" stroke=\"black\"/>\n",
       "<circle cx=\"5728\" cy=\"4096\" r=\"12\" stroke=\"none\" fill=\"black\"/>\n",
       "<circle cx=\"5728\" cy=\"128\" r=\"12\" stroke=\"black\" fill=\"white\"/>\n",
       "<path d=\"M5716,128 L5740,128 M5728,116 L5728,140 \" stroke=\"black\"/>\n",
       "<path d=\"M5792,512 L5792,4160 \" stroke=\"black\"/>\n",
       "<circle cx=\"5792\" cy=\"4160\" r=\"12\" stroke=\"none\" fill=\"black\"/>\n",
       "<circle cx=\"5792\" cy=\"512\" r=\"12\" stroke=\"black\" fill=\"white\"/>\n",
       "<path d=\"M5780,512 L5804,512 M5792,500 L5792,524 \" stroke=\"black\"/>\n",
       "<path d=\"M5856,768 L5856,4224 \" stroke=\"black\"/>\n",
       "<circle cx=\"5856\" cy=\"4224\" r=\"12\" stroke=\"none\" fill=\"black\"/>\n",
       "<circle cx=\"5856\" cy=\"768\" r=\"12\" stroke=\"black\" fill=\"white\"/>\n",
       "<path d=\"M5844,768 L5868,768 M5856,756 L5856,780 \" stroke=\"black\"/>\n",
       "<path d=\"M5920,192 L5920,4672 \" stroke=\"black\"/>\n",
       "<circle cx=\"5920\" cy=\"4672\" r=\"12\" stroke=\"none\" fill=\"black\"/>\n",
       "<circle cx=\"5920\" cy=\"192\" r=\"12\" stroke=\"black\" fill=\"white\"/>\n",
       "<path d=\"M5908,192 L5932,192 M5920,180 L5920,204 \" stroke=\"black\"/>\n",
       "<path d=\"M5444,40 L5444,32 L5948,32 L5948,40 \" stroke=\"black\" fill=\"none\"/>\n",
       "<path d=\"M5444,6776 L5444,6784 L5948,6784 L5948,6776 \" stroke=\"black\" fill=\"none\"/>\n",
       "<path d=\"M5984,448 L5984,2944 \" stroke=\"black\"/>\n",
       "<circle cx=\"5984\" cy=\"2944\" r=\"12\" stroke=\"none\" fill=\"black\"/>\n",
       "<circle cx=\"5984\" cy=\"448\" r=\"12\" stroke=\"none\" fill=\"black\"/>\n",
       "<path d=\"M6048,704 L6048,3008 \" stroke=\"black\"/>\n",
       "<circle cx=\"6048\" cy=\"3008\" r=\"12\" stroke=\"none\" fill=\"black\"/>\n",
       "<circle cx=\"6048\" cy=\"704\" r=\"12\" stroke=\"none\" fill=\"black\"/>\n",
       "<path d=\"M6112,384 L6112,4096 \" stroke=\"black\"/>\n",
       "<circle cx=\"6112\" cy=\"4096\" r=\"12\" stroke=\"none\" fill=\"black\"/>\n",
       "<circle cx=\"6112\" cy=\"384\" r=\"12\" stroke=\"black\" fill=\"white\"/>\n",
       "<path d=\"M6100,384 L6124,384 M6112,372 L6112,396 \" stroke=\"black\"/>\n",
       "<path d=\"M6176,768 L6176,4160 \" stroke=\"black\"/>\n",
       "<circle cx=\"6176\" cy=\"4160\" r=\"12\" stroke=\"none\" fill=\"black\"/>\n",
       "<circle cx=\"6176\" cy=\"768\" r=\"12\" stroke=\"black\" fill=\"white\"/>\n",
       "<path d=\"M6164,768 L6188,768 M6176,756 L6176,780 \" stroke=\"black\"/>\n",
       "<path d=\"M5956,40 L5956,32 L6204,32 L6204,40 \" stroke=\"black\" fill=\"none\"/>\n",
       "<path d=\"M5956,6776 L5956,6784 L6204,6784 L6204,6776 \" stroke=\"black\" fill=\"none\"/>\n",
       "<path d=\"M6240,512 L6240,2944 \" stroke=\"black\"/>\n",
       "<circle cx=\"6240\" cy=\"2944\" r=\"12\" stroke=\"none\" fill=\"black\"/>\n",
       "<circle cx=\"6240\" cy=\"512\" r=\"12\" stroke=\"none\" fill=\"black\"/>\n",
       "<path d=\"M6304,768 L6304,3008 \" stroke=\"black\"/>\n",
       "<circle cx=\"6304\" cy=\"3008\" r=\"12\" stroke=\"none\" fill=\"black\"/>\n",
       "<circle cx=\"6304\" cy=\"768\" r=\"12\" stroke=\"none\" fill=\"black\"/>\n",
       "<path d=\"M6368,448 L6368,4096 \" stroke=\"black\"/>\n",
       "<circle cx=\"6368\" cy=\"4096\" r=\"12\" stroke=\"none\" fill=\"black\"/>\n",
       "<circle cx=\"6368\" cy=\"448\" r=\"12\" stroke=\"black\" fill=\"white\"/>\n",
       "<path d=\"M6356,448 L6380,448 M6368,436 L6368,460 \" stroke=\"black\"/>\n",
       "<path d=\"M6432,832 L6432,4160 \" stroke=\"black\"/>\n",
       "<circle cx=\"6432\" cy=\"4160\" r=\"12\" stroke=\"none\" fill=\"black\"/>\n",
       "<circle cx=\"6432\" cy=\"832\" r=\"12\" stroke=\"black\" fill=\"white\"/>\n",
       "<path d=\"M6420,832 L6444,832 M6432,820 L6432,844 \" stroke=\"black\"/>\n",
       "<path d=\"M6212,40 L6212,32 L6460,32 L6460,40 \" stroke=\"black\" fill=\"none\"/>\n",
       "<path d=\"M6212,6776 L6212,6784 L6460,6784 L6460,6776 \" stroke=\"black\" fill=\"none\"/>\n",
       "<rect x=\"6480\" y=\"2928\" width=\"32\" height=\"32\" stroke=\"black\" fill=\"white\"/>\n",
       "<text dominant-baseline=\"central\" text-anchor=\"middle\" font-family=\"monospace\" font-size=\"30\" x=\"6496\" y=\"2944\">H</text>\n",
       "<rect x=\"6480\" y=\"2992\" width=\"32\" height=\"32\" stroke=\"black\" fill=\"white\"/>\n",
       "<text dominant-baseline=\"central\" text-anchor=\"middle\" font-family=\"monospace\" font-size=\"30\" x=\"6496\" y=\"3008\">H</text>\n",
       "<rect x=\"6480\" y=\"3440\" width=\"32\" height=\"32\" stroke=\"black\" fill=\"white\"/>\n",
       "<text dominant-baseline=\"central\" text-anchor=\"middle\" font-family=\"monospace\" font-size=\"30\" x=\"6496\" y=\"3456\">H</text>\n",
       "<rect x=\"6480\" y=\"3504\" width=\"32\" height=\"32\" stroke=\"black\" fill=\"white\"/>\n",
       "<text dominant-baseline=\"central\" text-anchor=\"middle\" font-family=\"monospace\" font-size=\"30\" x=\"6496\" y=\"3520\">H</text>\n",
       "<rect x=\"6480\" y=\"4080\" width=\"32\" height=\"32\" stroke=\"black\" fill=\"white\"/>\n",
       "<text dominant-baseline=\"central\" text-anchor=\"middle\" font-family=\"monospace\" font-size=\"30\" x=\"6496\" y=\"4096\">H</text>\n",
       "<rect x=\"6480\" y=\"4144\" width=\"32\" height=\"32\" stroke=\"black\" fill=\"white\"/>\n",
       "<text dominant-baseline=\"central\" text-anchor=\"middle\" font-family=\"monospace\" font-size=\"30\" x=\"6496\" y=\"4160\">H</text>\n",
       "<rect x=\"6480\" y=\"4208\" width=\"32\" height=\"32\" stroke=\"black\" fill=\"white\"/>\n",
       "<text dominant-baseline=\"central\" text-anchor=\"middle\" font-family=\"monospace\" font-size=\"30\" x=\"6496\" y=\"4224\">H</text>\n",
       "<rect x=\"6480\" y=\"4656\" width=\"32\" height=\"32\" stroke=\"black\" fill=\"white\"/>\n",
       "<text dominant-baseline=\"central\" text-anchor=\"middle\" font-family=\"monospace\" font-size=\"30\" x=\"6496\" y=\"4672\">H</text>\n",
       "<rect x=\"6544\" y=\"2928\" width=\"32\" height=\"32\" stroke=\"black\" fill=\"black\"/>\n",
       "<text dominant-baseline=\"central\" text-anchor=\"middle\" font-family=\"monospace\" font-size=\"24\" x=\"6560\" y=\"2944\" fill=\"white\">MR</text>\n",
       "<text text-anchor=\"middle\" font-family=\"monospace\" font-size=\"8\" x=\"6560\" y=\"2924\">rec[23]</text>\n",
       "<rect x=\"6544\" y=\"2992\" width=\"32\" height=\"32\" stroke=\"black\" fill=\"black\"/>\n",
       "<text dominant-baseline=\"central\" text-anchor=\"middle\" font-family=\"monospace\" font-size=\"24\" x=\"6560\" y=\"3008\" fill=\"white\">MR</text>\n",
       "<text text-anchor=\"middle\" font-family=\"monospace\" font-size=\"8\" x=\"6560\" y=\"2988\">rec[24]</text>\n",
       "<rect x=\"6544\" y=\"3440\" width=\"32\" height=\"32\" stroke=\"black\" fill=\"black\"/>\n",
       "<text dominant-baseline=\"central\" text-anchor=\"middle\" font-family=\"monospace\" font-size=\"24\" x=\"6560\" y=\"3456\" fill=\"white\">MR</text>\n",
       "<text text-anchor=\"middle\" font-family=\"monospace\" font-size=\"8\" x=\"6560\" y=\"3436\">rec[25]</text>\n",
       "<rect x=\"6544\" y=\"3504\" width=\"32\" height=\"32\" stroke=\"black\" fill=\"black\"/>\n",
       "<text dominant-baseline=\"central\" text-anchor=\"middle\" font-family=\"monospace\" font-size=\"24\" x=\"6560\" y=\"3520\" fill=\"white\">MR</text>\n",
       "<text text-anchor=\"middle\" font-family=\"monospace\" font-size=\"8\" x=\"6560\" y=\"3500\">rec[26]</text>\n",
       "<rect x=\"6544\" y=\"4080\" width=\"32\" height=\"32\" stroke=\"black\" fill=\"black\"/>\n",
       "<text dominant-baseline=\"central\" text-anchor=\"middle\" font-family=\"monospace\" font-size=\"24\" x=\"6560\" y=\"4096\" fill=\"white\">MR</text>\n",
       "<text text-anchor=\"middle\" font-family=\"monospace\" font-size=\"8\" x=\"6560\" y=\"4076\">rec[27]</text>\n",
       "<rect x=\"6544\" y=\"4144\" width=\"32\" height=\"32\" stroke=\"black\" fill=\"black\"/>\n",
       "<text dominant-baseline=\"central\" text-anchor=\"middle\" font-family=\"monospace\" font-size=\"24\" x=\"6560\" y=\"4160\" fill=\"white\">MR</text>\n",
       "<text text-anchor=\"middle\" font-family=\"monospace\" font-size=\"8\" x=\"6560\" y=\"4140\">rec[28]</text>\n",
       "<rect x=\"6544\" y=\"4208\" width=\"32\" height=\"32\" stroke=\"black\" fill=\"black\"/>\n",
       "<text dominant-baseline=\"central\" text-anchor=\"middle\" font-family=\"monospace\" font-size=\"24\" x=\"6560\" y=\"4224\" fill=\"white\">MR</text>\n",
       "<text text-anchor=\"middle\" font-family=\"monospace\" font-size=\"8\" x=\"6560\" y=\"4204\">rec[29]</text>\n",
       "<rect x=\"6544\" y=\"4656\" width=\"32\" height=\"32\" stroke=\"black\" fill=\"black\"/>\n",
       "<text dominant-baseline=\"central\" text-anchor=\"middle\" font-family=\"monospace\" font-size=\"24\" x=\"6560\" y=\"4672\" fill=\"white\">MR</text>\n",
       "<text text-anchor=\"middle\" font-family=\"monospace\" font-size=\"8\" x=\"6560\" y=\"4652\">rec[30]</text>\n",
       "<rect x=\"6608\" y=\"3312\" width=\"32\" height=\"32\" stroke=\"black\" fill=\"white\"/>\n",
       "<text dominant-baseline=\"central\" text-anchor=\"middle\" font-family=\"monospace\" font-size=\"30\" x=\"6624\" y=\"3328\">H</text>\n",
       "<rect x=\"6608\" y=\"3376\" width=\"32\" height=\"32\" stroke=\"black\" fill=\"white\"/>\n",
       "<text dominant-baseline=\"central\" text-anchor=\"middle\" font-family=\"monospace\" font-size=\"30\" x=\"6624\" y=\"3392\">H</text>\n",
       "<rect x=\"6608\" y=\"3824\" width=\"32\" height=\"32\" stroke=\"black\" fill=\"white\"/>\n",
       "<text dominant-baseline=\"central\" text-anchor=\"middle\" font-family=\"monospace\" font-size=\"30\" x=\"6624\" y=\"3840\">H</text>\n",
       "<rect x=\"6608\" y=\"3888\" width=\"32\" height=\"32\" stroke=\"black\" fill=\"white\"/>\n",
       "<text dominant-baseline=\"central\" text-anchor=\"middle\" font-family=\"monospace\" font-size=\"30\" x=\"6624\" y=\"3904\">H</text>\n",
       "<rect x=\"6608\" y=\"4272\" width=\"32\" height=\"32\" stroke=\"black\" fill=\"white\"/>\n",
       "<text dominant-baseline=\"central\" text-anchor=\"middle\" font-family=\"monospace\" font-size=\"30\" x=\"6624\" y=\"4288\">H</text>\n",
       "<rect x=\"6608\" y=\"4464\" width=\"32\" height=\"32\" stroke=\"black\" fill=\"white\"/>\n",
       "<text dominant-baseline=\"central\" text-anchor=\"middle\" font-family=\"monospace\" font-size=\"30\" x=\"6624\" y=\"4480\">H</text>\n",
       "<rect x=\"6608\" y=\"4528\" width=\"32\" height=\"32\" stroke=\"black\" fill=\"white\"/>\n",
       "<text dominant-baseline=\"central\" text-anchor=\"middle\" font-family=\"monospace\" font-size=\"30\" x=\"6624\" y=\"4544\">H</text>\n",
       "<rect x=\"6608\" y=\"4592\" width=\"32\" height=\"32\" stroke=\"black\" fill=\"white\"/>\n",
       "<text dominant-baseline=\"central\" text-anchor=\"middle\" font-family=\"monospace\" font-size=\"30\" x=\"6624\" y=\"4608\">H</text>\n",
       "<path d=\"M6688,1408 L6688,3328 \" stroke=\"black\"/>\n",
       "<circle cx=\"6688\" cy=\"3328\" r=\"12\" stroke=\"none\" fill=\"black\"/>\n",
       "<circle cx=\"6688\" cy=\"1408\" r=\"12\" stroke=\"none\" fill=\"black\"/>\n",
       "<path d=\"M6752,1664 L6752,3392 \" stroke=\"black\"/>\n",
       "<circle cx=\"6752\" cy=\"3392\" r=\"12\" stroke=\"none\" fill=\"black\"/>\n",
       "<circle cx=\"6752\" cy=\"1664\" r=\"12\" stroke=\"none\" fill=\"black\"/>\n",
       "<path d=\"M6816,1344 L6816,3840 \" stroke=\"black\"/>\n",
       "<circle cx=\"6816\" cy=\"3840\" r=\"12\" stroke=\"none\" fill=\"black\"/>\n",
       "<circle cx=\"6816\" cy=\"1344\" r=\"12\" stroke=\"none\" fill=\"black\"/>\n",
       "<path d=\"M6880,1792 L6880,3904 \" stroke=\"black\"/>\n",
       "<circle cx=\"6880\" cy=\"3904\" r=\"12\" stroke=\"none\" fill=\"black\"/>\n",
       "<circle cx=\"6880\" cy=\"1792\" r=\"12\" stroke=\"none\" fill=\"black\"/>\n",
       "<path d=\"M6944,1408 L6944,4288 \" stroke=\"black\"/>\n",
       "<circle cx=\"6944\" cy=\"4288\" r=\"12\" stroke=\"none\" fill=\"black\"/>\n",
       "<circle cx=\"6944\" cy=\"1408\" r=\"12\" stroke=\"black\" fill=\"white\"/>\n",
       "<path d=\"M6932,1408 L6956,1408 M6944,1396 L6944,1420 \" stroke=\"black\"/>\n",
       "<path d=\"M7008,1344 L7008,4480 \" stroke=\"black\"/>\n",
       "<circle cx=\"7008\" cy=\"4480\" r=\"12\" stroke=\"none\" fill=\"black\"/>\n",
       "<circle cx=\"7008\" cy=\"1344\" r=\"12\" stroke=\"black\" fill=\"white\"/>\n",
       "<path d=\"M6996,1344 L7020,1344 M7008,1332 L7008,1356 \" stroke=\"black\"/>\n",
       "<path d=\"M7072,1728 L7072,4544 \" stroke=\"black\"/>\n",
       "<circle cx=\"7072\" cy=\"4544\" r=\"12\" stroke=\"none\" fill=\"black\"/>\n",
       "<circle cx=\"7072\" cy=\"1728\" r=\"12\" stroke=\"black\" fill=\"white\"/>\n",
       "<path d=\"M7060,1728 L7084,1728 M7072,1716 L7072,1740 \" stroke=\"black\"/>\n",
       "<path d=\"M7136,1984 L7136,4608 \" stroke=\"black\"/>\n",
       "<circle cx=\"7136\" cy=\"4608\" r=\"12\" stroke=\"none\" fill=\"black\"/>\n",
       "<circle cx=\"7136\" cy=\"1984\" r=\"12\" stroke=\"black\" fill=\"white\"/>\n",
       "<path d=\"M7124,1984 L7148,1984 M7136,1972 L7136,1996 \" stroke=\"black\"/>\n",
       "<path d=\"M6660,40 L6660,32 L7164,32 L7164,40 \" stroke=\"black\" fill=\"none\"/>\n",
       "<path d=\"M6660,6776 L6660,6784 L7164,6784 L7164,6776 \" stroke=\"black\" fill=\"none\"/>\n",
       "<path d=\"M7200,1472 L7200,3328 \" stroke=\"black\"/>\n",
       "<circle cx=\"7200\" cy=\"3328\" r=\"12\" stroke=\"none\" fill=\"black\"/>\n",
       "<circle cx=\"7200\" cy=\"1472\" r=\"12\" stroke=\"none\" fill=\"black\"/>\n",
       "<path d=\"M7264,1728 L7264,3392 \" stroke=\"black\"/>\n",
       "<circle cx=\"7264\" cy=\"3392\" r=\"12\" stroke=\"none\" fill=\"black\"/>\n",
       "<circle cx=\"7264\" cy=\"1728\" r=\"12\" stroke=\"none\" fill=\"black\"/>\n",
       "<path d=\"M7328,1664 L7328,3840 \" stroke=\"black\"/>\n",
       "<circle cx=\"7328\" cy=\"3840\" r=\"12\" stroke=\"none\" fill=\"black\"/>\n",
       "<circle cx=\"7328\" cy=\"1664\" r=\"12\" stroke=\"none\" fill=\"black\"/>\n",
       "<path d=\"M7392,2112 L7392,3904 \" stroke=\"black\"/>\n",
       "<circle cx=\"7392\" cy=\"3904\" r=\"12\" stroke=\"none\" fill=\"black\"/>\n",
       "<circle cx=\"7392\" cy=\"2112\" r=\"12\" stroke=\"none\" fill=\"black\"/>\n",
       "<path d=\"M7456,1472 L7456,4288 \" stroke=\"black\"/>\n",
       "<circle cx=\"7456\" cy=\"4288\" r=\"12\" stroke=\"none\" fill=\"black\"/>\n",
       "<circle cx=\"7456\" cy=\"1472\" r=\"12\" stroke=\"black\" fill=\"white\"/>\n",
       "<path d=\"M7444,1472 L7468,1472 M7456,1460 L7456,1484 \" stroke=\"black\"/>\n",
       "<path d=\"M7520,1408 L7520,4480 \" stroke=\"black\"/>\n",
       "<circle cx=\"7520\" cy=\"4480\" r=\"12\" stroke=\"none\" fill=\"black\"/>\n",
       "<circle cx=\"7520\" cy=\"1408\" r=\"12\" stroke=\"black\" fill=\"white\"/>\n",
       "<path d=\"M7508,1408 L7532,1408 M7520,1396 L7520,1420 \" stroke=\"black\"/>\n",
       "<path d=\"M7584,1792 L7584,4544 \" stroke=\"black\"/>\n",
       "<circle cx=\"7584\" cy=\"4544\" r=\"12\" stroke=\"none\" fill=\"black\"/>\n",
       "<circle cx=\"7584\" cy=\"1792\" r=\"12\" stroke=\"black\" fill=\"white\"/>\n",
       "<path d=\"M7572,1792 L7596,1792 M7584,1780 L7584,1804 \" stroke=\"black\"/>\n",
       "<path d=\"M7648,2048 L7648,4608 \" stroke=\"black\"/>\n",
       "<circle cx=\"7648\" cy=\"4608\" r=\"12\" stroke=\"none\" fill=\"black\"/>\n",
       "<circle cx=\"7648\" cy=\"2048\" r=\"12\" stroke=\"black\" fill=\"white\"/>\n",
       "<path d=\"M7636,2048 L7660,2048 M7648,2036 L7648,2060 \" stroke=\"black\"/>\n",
       "<path d=\"M7172,40 L7172,32 L7676,32 L7676,40 \" stroke=\"black\" fill=\"none\"/>\n",
       "<path d=\"M7172,6776 L7172,6784 L7676,6784 L7676,6776 \" stroke=\"black\" fill=\"none\"/>\n",
       "<path d=\"M7712,1728 L7712,3328 \" stroke=\"black\"/>\n",
       "<circle cx=\"7712\" cy=\"3328\" r=\"12\" stroke=\"none\" fill=\"black\"/>\n",
       "<circle cx=\"7712\" cy=\"1728\" r=\"12\" stroke=\"none\" fill=\"black\"/>\n",
       "<path d=\"M7776,1984 L7776,3392 \" stroke=\"black\"/>\n",
       "<circle cx=\"7776\" cy=\"3392\" r=\"12\" stroke=\"none\" fill=\"black\"/>\n",
       "<circle cx=\"7776\" cy=\"1984\" r=\"12\" stroke=\"none\" fill=\"black\"/>\n",
       "<path d=\"M7840,1664 L7840,4480 \" stroke=\"black\"/>\n",
       "<circle cx=\"7840\" cy=\"4480\" r=\"12\" stroke=\"none\" fill=\"black\"/>\n",
       "<circle cx=\"7840\" cy=\"1664\" r=\"12\" stroke=\"black\" fill=\"white\"/>\n",
       "<path d=\"M7828,1664 L7852,1664 M7840,1652 L7840,1676 \" stroke=\"black\"/>\n",
       "<path d=\"M7904,2048 L7904,4544 \" stroke=\"black\"/>\n",
       "<circle cx=\"7904\" cy=\"4544\" r=\"12\" stroke=\"none\" fill=\"black\"/>\n",
       "<circle cx=\"7904\" cy=\"2048\" r=\"12\" stroke=\"black\" fill=\"white\"/>\n",
       "<path d=\"M7892,2048 L7916,2048 M7904,2036 L7904,2060 \" stroke=\"black\"/>\n",
       "<path d=\"M7684,40 L7684,32 L7932,32 L7932,40 \" stroke=\"black\" fill=\"none\"/>\n",
       "<path d=\"M7684,6776 L7684,6784 L7932,6784 L7932,6776 \" stroke=\"black\" fill=\"none\"/>\n",
       "<path d=\"M7968,1792 L7968,3328 \" stroke=\"black\"/>\n",
       "<circle cx=\"7968\" cy=\"3328\" r=\"12\" stroke=\"none\" fill=\"black\"/>\n",
       "<circle cx=\"7968\" cy=\"1792\" r=\"12\" stroke=\"none\" fill=\"black\"/>\n",
       "<path d=\"M8032,2048 L8032,3392 \" stroke=\"black\"/>\n",
       "<circle cx=\"8032\" cy=\"3392\" r=\"12\" stroke=\"none\" fill=\"black\"/>\n",
       "<circle cx=\"8032\" cy=\"2048\" r=\"12\" stroke=\"none\" fill=\"black\"/>\n",
       "<path d=\"M8096,1728 L8096,4480 \" stroke=\"black\"/>\n",
       "<circle cx=\"8096\" cy=\"4480\" r=\"12\" stroke=\"none\" fill=\"black\"/>\n",
       "<circle cx=\"8096\" cy=\"1728\" r=\"12\" stroke=\"black\" fill=\"white\"/>\n",
       "<path d=\"M8084,1728 L8108,1728 M8096,1716 L8096,1740 \" stroke=\"black\"/>\n",
       "<path d=\"M8160,2112 L8160,4544 \" stroke=\"black\"/>\n",
       "<circle cx=\"8160\" cy=\"4544\" r=\"12\" stroke=\"none\" fill=\"black\"/>\n",
       "<circle cx=\"8160\" cy=\"2112\" r=\"12\" stroke=\"black\" fill=\"white\"/>\n",
       "<path d=\"M8148,2112 L8172,2112 M8160,2100 L8160,2124 \" stroke=\"black\"/>\n",
       "<path d=\"M7940,40 L7940,32 L8188,32 L8188,40 \" stroke=\"black\" fill=\"none\"/>\n",
       "<path d=\"M7940,6776 L7940,6784 L8188,6784 L8188,6776 \" stroke=\"black\" fill=\"none\"/>\n",
       "<rect x=\"8208\" y=\"3312\" width=\"32\" height=\"32\" stroke=\"black\" fill=\"white\"/>\n",
       "<text dominant-baseline=\"central\" text-anchor=\"middle\" font-family=\"monospace\" font-size=\"30\" x=\"8224\" y=\"3328\">H</text>\n",
       "<rect x=\"8208\" y=\"3376\" width=\"32\" height=\"32\" stroke=\"black\" fill=\"white\"/>\n",
       "<text dominant-baseline=\"central\" text-anchor=\"middle\" font-family=\"monospace\" font-size=\"30\" x=\"8224\" y=\"3392\">H</text>\n",
       "<rect x=\"8208\" y=\"3824\" width=\"32\" height=\"32\" stroke=\"black\" fill=\"white\"/>\n",
       "<text dominant-baseline=\"central\" text-anchor=\"middle\" font-family=\"monospace\" font-size=\"30\" x=\"8224\" y=\"3840\">H</text>\n",
       "<rect x=\"8208\" y=\"3888\" width=\"32\" height=\"32\" stroke=\"black\" fill=\"white\"/>\n",
       "<text dominant-baseline=\"central\" text-anchor=\"middle\" font-family=\"monospace\" font-size=\"30\" x=\"8224\" y=\"3904\">H</text>\n",
       "<rect x=\"8208\" y=\"4272\" width=\"32\" height=\"32\" stroke=\"black\" fill=\"white\"/>\n",
       "<text dominant-baseline=\"central\" text-anchor=\"middle\" font-family=\"monospace\" font-size=\"30\" x=\"8224\" y=\"4288\">H</text>\n",
       "<rect x=\"8208\" y=\"4464\" width=\"32\" height=\"32\" stroke=\"black\" fill=\"white\"/>\n",
       "<text dominant-baseline=\"central\" text-anchor=\"middle\" font-family=\"monospace\" font-size=\"30\" x=\"8224\" y=\"4480\">H</text>\n",
       "<rect x=\"8208\" y=\"4528\" width=\"32\" height=\"32\" stroke=\"black\" fill=\"white\"/>\n",
       "<text dominant-baseline=\"central\" text-anchor=\"middle\" font-family=\"monospace\" font-size=\"30\" x=\"8224\" y=\"4544\">H</text>\n",
       "<rect x=\"8208\" y=\"4592\" width=\"32\" height=\"32\" stroke=\"black\" fill=\"white\"/>\n",
       "<text dominant-baseline=\"central\" text-anchor=\"middle\" font-family=\"monospace\" font-size=\"30\" x=\"8224\" y=\"4608\">H</text>\n",
       "<rect x=\"8272\" y=\"3312\" width=\"32\" height=\"32\" stroke=\"black\" fill=\"black\"/>\n",
       "<text dominant-baseline=\"central\" text-anchor=\"middle\" font-family=\"monospace\" font-size=\"24\" x=\"8288\" y=\"3328\" fill=\"white\">MR</text>\n",
       "<text text-anchor=\"middle\" font-family=\"monospace\" font-size=\"8\" x=\"8288\" y=\"3308\">rec[31]</text>\n",
       "<rect x=\"8272\" y=\"3376\" width=\"32\" height=\"32\" stroke=\"black\" fill=\"black\"/>\n",
       "<text dominant-baseline=\"central\" text-anchor=\"middle\" font-family=\"monospace\" font-size=\"24\" x=\"8288\" y=\"3392\" fill=\"white\">MR</text>\n",
       "<text text-anchor=\"middle\" font-family=\"monospace\" font-size=\"8\" x=\"8288\" y=\"3372\">rec[32]</text>\n",
       "<rect x=\"8272\" y=\"3824\" width=\"32\" height=\"32\" stroke=\"black\" fill=\"black\"/>\n",
       "<text dominant-baseline=\"central\" text-anchor=\"middle\" font-family=\"monospace\" font-size=\"24\" x=\"8288\" y=\"3840\" fill=\"white\">MR</text>\n",
       "<text text-anchor=\"middle\" font-family=\"monospace\" font-size=\"8\" x=\"8288\" y=\"3820\">rec[33]</text>\n",
       "<rect x=\"8272\" y=\"3888\" width=\"32\" height=\"32\" stroke=\"black\" fill=\"black\"/>\n",
       "<text dominant-baseline=\"central\" text-anchor=\"middle\" font-family=\"monospace\" font-size=\"24\" x=\"8288\" y=\"3904\" fill=\"white\">MR</text>\n",
       "<text text-anchor=\"middle\" font-family=\"monospace\" font-size=\"8\" x=\"8288\" y=\"3884\">rec[34]</text>\n",
       "<rect x=\"8272\" y=\"4272\" width=\"32\" height=\"32\" stroke=\"black\" fill=\"black\"/>\n",
       "<text dominant-baseline=\"central\" text-anchor=\"middle\" font-family=\"monospace\" font-size=\"24\" x=\"8288\" y=\"4288\" fill=\"white\">MR</text>\n",
       "<text text-anchor=\"middle\" font-family=\"monospace\" font-size=\"8\" x=\"8288\" y=\"4268\">rec[35]</text>\n",
       "<rect x=\"8272\" y=\"4464\" width=\"32\" height=\"32\" stroke=\"black\" fill=\"black\"/>\n",
       "<text dominant-baseline=\"central\" text-anchor=\"middle\" font-family=\"monospace\" font-size=\"24\" x=\"8288\" y=\"4480\" fill=\"white\">MR</text>\n",
       "<text text-anchor=\"middle\" font-family=\"monospace\" font-size=\"8\" x=\"8288\" y=\"4460\">rec[36]</text>\n",
       "<rect x=\"8272\" y=\"4528\" width=\"32\" height=\"32\" stroke=\"black\" fill=\"black\"/>\n",
       "<text dominant-baseline=\"central\" text-anchor=\"middle\" font-family=\"monospace\" font-size=\"24\" x=\"8288\" y=\"4544\" fill=\"white\">MR</text>\n",
       "<text text-anchor=\"middle\" font-family=\"monospace\" font-size=\"8\" x=\"8288\" y=\"4524\">rec[37]</text>\n",
       "<rect x=\"8272\" y=\"4592\" width=\"32\" height=\"32\" stroke=\"black\" fill=\"black\"/>\n",
       "<text dominant-baseline=\"central\" text-anchor=\"middle\" font-family=\"monospace\" font-size=\"24\" x=\"8288\" y=\"4608\" fill=\"white\">MR</text>\n",
       "<text text-anchor=\"middle\" font-family=\"monospace\" font-size=\"8\" x=\"8288\" y=\"4588\">rec[38]</text>\n",
       "<rect x=\"8336\" y=\"688\" width=\"32\" height=\"32\" stroke=\"black\" fill=\"black\"/>\n",
       "<text dominant-baseline=\"central\" text-anchor=\"middle\" font-family=\"monospace\" font-size=\"30\" x=\"8352\" y=\"704\" fill=\"white\">M</text>\n",
       "<text text-anchor=\"middle\" font-family=\"monospace\" font-size=\"8\" x=\"8352\" y=\"684\">rec[39]</text>\n",
       "<rect x=\"8336\" y=\"752\" width=\"32\" height=\"32\" stroke=\"black\" fill=\"black\"/>\n",
       "<text dominant-baseline=\"central\" text-anchor=\"middle\" font-family=\"monospace\" font-size=\"30\" x=\"8352\" y=\"768\" fill=\"white\">M</text>\n",
       "<text text-anchor=\"middle\" font-family=\"monospace\" font-size=\"8\" x=\"8352\" y=\"748\">rec[40]</text>\n",
       "<rect x=\"8336\" y=\"816\" width=\"32\" height=\"32\" stroke=\"black\" fill=\"black\"/>\n",
       "<text dominant-baseline=\"central\" text-anchor=\"middle\" font-family=\"monospace\" font-size=\"30\" x=\"8352\" y=\"832\" fill=\"white\">M</text>\n",
       "<text text-anchor=\"middle\" font-family=\"monospace\" font-size=\"8\" x=\"8352\" y=\"812\">rec[41]</text>\n",
       "<rect x=\"8336\" y=\"1456\" width=\"32\" height=\"32\" stroke=\"black\" fill=\"black\"/>\n",
       "<text dominant-baseline=\"central\" text-anchor=\"middle\" font-family=\"monospace\" font-size=\"30\" x=\"8352\" y=\"1472\" fill=\"white\">M</text>\n",
       "<text text-anchor=\"middle\" font-family=\"monospace\" font-size=\"8\" x=\"8352\" y=\"1452\">rec[42]</text>\n",
       "<rect x=\"8336\" y=\"1392\" width=\"32\" height=\"32\" stroke=\"black\" fill=\"black\"/>\n",
       "<text dominant-baseline=\"central\" text-anchor=\"middle\" font-family=\"monospace\" font-size=\"30\" x=\"8352\" y=\"1408\" fill=\"white\">M</text>\n",
       "<text text-anchor=\"middle\" font-family=\"monospace\" font-size=\"8\" x=\"8352\" y=\"1388\">rec[43]</text>\n",
       "<rect x=\"8336\" y=\"1328\" width=\"32\" height=\"32\" stroke=\"black\" fill=\"black\"/>\n",
       "<text dominant-baseline=\"central\" text-anchor=\"middle\" font-family=\"monospace\" font-size=\"30\" x=\"8352\" y=\"1344\" fill=\"white\">M</text>\n",
       "<text text-anchor=\"middle\" font-family=\"monospace\" font-size=\"8\" x=\"8352\" y=\"1324\">rec[44]</text>\n",
       "</svg>"
      ]
     },
     "execution_count": 10,
     "metadata": {},
     "output_type": "execute_result"
    }
   ],
   "source": [
    "stim_circ.diagram(type=\"timeline-svg\")"
   ]
  },
  {
   "cell_type": "markdown",
   "metadata": {},
   "source": [
    "Perform the simulation and calculate the expectation value:"
   ]
  },
  {
   "cell_type": "code",
   "execution_count": 11,
   "metadata": {},
   "outputs": [
    {
     "name": "stdout",
     "output_type": "stream",
     "text": [
      "<ZZ> = 0.0\n"
     ]
    }
   ],
   "source": [
    "num_shots = 1000\n",
    "res = stim_circ.compile_sampler().sample(num_shots)\n",
    "summed_res = 0\n",
    "for r in res:\n",
    "    mmt_res = 0\n",
    "    if mmt_basis[0] != \"I\":\n",
    "        mmt_res += circ_manual_meas.get_log_dqb_readout(r, m_id_Q2, \"Q2\")\n",
    "    if mmt_basis[1] != \"I\":\n",
    "        mmt_res += circ_manual_meas.get_log_dqb_readout(r, m_id_Q3, \"Q3\")\n",
    "    summed_res += mmt_res % 2\n",
    "summed_res /= num_shots\n",
    "print(f\"<{mmt_basis}> = {np.round(summed_res, 3)}\")"
   ]
  }
 ],
 "metadata": {
  "kernelspec": {
   "display_name": "stim",
   "language": "python",
   "name": "python3"
  },
  "language_info": {
   "codemirror_mode": {
    "name": "ipython",
    "version": 3
   },
   "file_extension": ".py",
   "mimetype": "text/x-python",
   "name": "python",
   "nbconvert_exporter": "python",
   "pygments_lexer": "ipython3",
   "version": "3.10.14"
  },
  "orig_nbformat": 4
 },
 "nbformat": 4,
 "nbformat_minor": 2
}
