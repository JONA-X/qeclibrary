{
 "cells": [
  {
   "cell_type": "markdown",
   "metadata": {},
   "source": [
    "# Perform logical quantum state tomography for two logical qubits\n",
    "This demo notebook demonstrates logical quantum state tomography (QST) for two d=3 rotated surface code qubits that are placed on a square lattice. The two qubits can be initialized in either $\\ket{0}$, $\\ket{1}$, $\\ket{+}$, or $\\ket{-}$. After the initialization, we perform one QEC cycle before doing the measurement for logical QST. The goal of this experiment could be to verify that the syndrome extraction does not affect the logical state of the two logical qubits. I.e. the expectation values we get in the end should be the same as if we had no QEC cycles."
   ]
  },
  {
   "cell_type": "code",
   "execution_count": 1,
   "metadata": {},
   "outputs": [],
   "source": [
    "from qeclib import (\n",
    "    RotSurfCode,\n",
    "    SquareLattice,\n",
    "    QECPlot,\n",
    "    circ_log_QST_results,\n",
    "    plot_log_QST_results,\n",
    ")\n",
    "import stim"
   ]
  },
  {
   "cell_type": "markdown",
   "metadata": {},
   "source": [
    "Create the logical qubit objects and place them on the square lattice. Then initialize them in some state. Feel free to change the initial states and observe how the results of the logical QST change."
   ]
  },
  {
   "cell_type": "code",
   "execution_count": 2,
   "metadata": {},
   "outputs": [],
   "source": [
    "Q1 = RotSurfCode(\n",
    "    id=\"Q1\",\n",
    "    dx=3,\n",
    "    dz=3,\n",
    ")\n",
    "Q2 = RotSurfCode(\n",
    "    id=\"Q2\",\n",
    "    dx=3,\n",
    "    dz=3,\n",
    ")\n",
    "\n",
    "circ = SquareLattice(name=\"\", rows=7, cols=3)\n",
    "circ.add_logical_qubit(Q1)\n",
    "circ.add_logical_qubit(Q2, start_pos=(5, 1))\n",
    "circ.init(\"Q1\", \"1\")\n",
    "circ.init(\"Q2\", \"0\")"
   ]
  },
  {
   "cell_type": "markdown",
   "metadata": {},
   "source": [
    "We can also plot the stabilizers of the two logical qubits to check whether they were correctly placed on the lattice:"
   ]
  },
  {
   "cell_type": "code",
   "execution_count": 3,
   "metadata": {},
   "outputs": [
    {
     "data": {
      "application/vnd.plotly.v1+json": {
       "config": {
        "plotlyServerURL": "https://plot.ly"
       },
       "data": [
        {
         "hoverinfo": "text",
         "legendgroup": "qpu_dqbs",
         "marker": {
          "color": "gray",
          "line": {
           "color": "darkred",
           "width": 1
          },
          "size": 25
         },
         "mode": "markers",
         "name": "Data qubits",
         "showlegend": true,
         "text": "0",
         "textposition": "middle center",
         "type": "scatter",
         "x": [
          1
         ],
         "y": [
          1
         ]
        },
        {
         "hoverinfo": "text",
         "legendgroup": "qpu_dqbs",
         "marker": {
          "color": "gray",
          "line": {
           "color": "darkred",
           "width": 1
          },
          "size": 25
         },
         "mode": "markers",
         "name": "Data qubits",
         "showlegend": false,
         "text": "1",
         "textposition": "middle center",
         "type": "scatter",
         "x": [
          2
         ],
         "y": [
          1
         ]
        },
        {
         "hoverinfo": "text",
         "legendgroup": "qpu_dqbs",
         "marker": {
          "color": "gray",
          "line": {
           "color": "darkred",
           "width": 1
          },
          "size": 25
         },
         "mode": "markers",
         "name": "Data qubits",
         "showlegend": false,
         "text": "2",
         "textposition": "middle center",
         "type": "scatter",
         "x": [
          3
         ],
         "y": [
          1
         ]
        },
        {
         "hoverinfo": "text",
         "legendgroup": "qpu_dqbs",
         "marker": {
          "color": "gray",
          "line": {
           "color": "darkred",
           "width": 1
          },
          "size": 25
         },
         "mode": "markers",
         "name": "Data qubits",
         "showlegend": false,
         "text": "3",
         "textposition": "middle center",
         "type": "scatter",
         "x": [
          1
         ],
         "y": [
          2
         ]
        },
        {
         "hoverinfo": "text",
         "legendgroup": "qpu_dqbs",
         "marker": {
          "color": "gray",
          "line": {
           "color": "darkred",
           "width": 1
          },
          "size": 25
         },
         "mode": "markers",
         "name": "Data qubits",
         "showlegend": false,
         "text": "4",
         "textposition": "middle center",
         "type": "scatter",
         "x": [
          2
         ],
         "y": [
          2
         ]
        },
        {
         "hoverinfo": "text",
         "legendgroup": "qpu_dqbs",
         "marker": {
          "color": "gray",
          "line": {
           "color": "darkred",
           "width": 1
          },
          "size": 25
         },
         "mode": "markers",
         "name": "Data qubits",
         "showlegend": false,
         "text": "5",
         "textposition": "middle center",
         "type": "scatter",
         "x": [
          3
         ],
         "y": [
          2
         ]
        },
        {
         "hoverinfo": "text",
         "legendgroup": "qpu_dqbs",
         "marker": {
          "color": "gray",
          "line": {
           "color": "darkred",
           "width": 1
          },
          "size": 25
         },
         "mode": "markers",
         "name": "Data qubits",
         "showlegend": false,
         "text": "6",
         "textposition": "middle center",
         "type": "scatter",
         "x": [
          1
         ],
         "y": [
          3
         ]
        },
        {
         "hoverinfo": "text",
         "legendgroup": "qpu_dqbs",
         "marker": {
          "color": "gray",
          "line": {
           "color": "darkred",
           "width": 1
          },
          "size": 25
         },
         "mode": "markers",
         "name": "Data qubits",
         "showlegend": false,
         "text": "7",
         "textposition": "middle center",
         "type": "scatter",
         "x": [
          2
         ],
         "y": [
          3
         ]
        },
        {
         "hoverinfo": "text",
         "legendgroup": "qpu_dqbs",
         "marker": {
          "color": "gray",
          "line": {
           "color": "darkred",
           "width": 1
          },
          "size": 25
         },
         "mode": "markers",
         "name": "Data qubits",
         "showlegend": false,
         "text": "8",
         "textposition": "middle center",
         "type": "scatter",
         "x": [
          3
         ],
         "y": [
          3
         ]
        },
        {
         "hoverinfo": "text",
         "legendgroup": "qpu_dqbs",
         "marker": {
          "color": "gray",
          "line": {
           "color": "darkred",
           "width": 1
          },
          "size": 25
         },
         "mode": "markers",
         "name": "Data qubits",
         "showlegend": false,
         "text": "9",
         "textposition": "middle center",
         "type": "scatter",
         "x": [
          1
         ],
         "y": [
          4
         ]
        },
        {
         "hoverinfo": "text",
         "legendgroup": "qpu_dqbs",
         "marker": {
          "color": "gray",
          "line": {
           "color": "darkred",
           "width": 1
          },
          "size": 25
         },
         "mode": "markers",
         "name": "Data qubits",
         "showlegend": false,
         "text": "10",
         "textposition": "middle center",
         "type": "scatter",
         "x": [
          2
         ],
         "y": [
          4
         ]
        },
        {
         "hoverinfo": "text",
         "legendgroup": "qpu_dqbs",
         "marker": {
          "color": "gray",
          "line": {
           "color": "darkred",
           "width": 1
          },
          "size": 25
         },
         "mode": "markers",
         "name": "Data qubits",
         "showlegend": false,
         "text": "11",
         "textposition": "middle center",
         "type": "scatter",
         "x": [
          3
         ],
         "y": [
          4
         ]
        },
        {
         "hoverinfo": "text",
         "legendgroup": "qpu_dqbs",
         "marker": {
          "color": "gray",
          "line": {
           "color": "darkred",
           "width": 1
          },
          "size": 25
         },
         "mode": "markers",
         "name": "Data qubits",
         "showlegend": false,
         "text": "12",
         "textposition": "middle center",
         "type": "scatter",
         "x": [
          1
         ],
         "y": [
          5
         ]
        },
        {
         "hoverinfo": "text",
         "legendgroup": "qpu_dqbs",
         "marker": {
          "color": "gray",
          "line": {
           "color": "darkred",
           "width": 1
          },
          "size": 25
         },
         "mode": "markers",
         "name": "Data qubits",
         "showlegend": false,
         "text": "13",
         "textposition": "middle center",
         "type": "scatter",
         "x": [
          2
         ],
         "y": [
          5
         ]
        },
        {
         "hoverinfo": "text",
         "legendgroup": "qpu_dqbs",
         "marker": {
          "color": "gray",
          "line": {
           "color": "darkred",
           "width": 1
          },
          "size": 25
         },
         "mode": "markers",
         "name": "Data qubits",
         "showlegend": false,
         "text": "14",
         "textposition": "middle center",
         "type": "scatter",
         "x": [
          3
         ],
         "y": [
          5
         ]
        },
        {
         "hoverinfo": "text",
         "legendgroup": "qpu_dqbs",
         "marker": {
          "color": "gray",
          "line": {
           "color": "darkred",
           "width": 1
          },
          "size": 25
         },
         "mode": "markers",
         "name": "Data qubits",
         "showlegend": false,
         "text": "15",
         "textposition": "middle center",
         "type": "scatter",
         "x": [
          1
         ],
         "y": [
          6
         ]
        },
        {
         "hoverinfo": "text",
         "legendgroup": "qpu_dqbs",
         "marker": {
          "color": "gray",
          "line": {
           "color": "darkred",
           "width": 1
          },
          "size": 25
         },
         "mode": "markers",
         "name": "Data qubits",
         "showlegend": false,
         "text": "16",
         "textposition": "middle center",
         "type": "scatter",
         "x": [
          2
         ],
         "y": [
          6
         ]
        },
        {
         "hoverinfo": "text",
         "legendgroup": "qpu_dqbs",
         "marker": {
          "color": "gray",
          "line": {
           "color": "darkred",
           "width": 1
          },
          "size": 25
         },
         "mode": "markers",
         "name": "Data qubits",
         "showlegend": false,
         "text": "17",
         "textposition": "middle center",
         "type": "scatter",
         "x": [
          3
         ],
         "y": [
          6
         ]
        },
        {
         "hoverinfo": "text",
         "legendgroup": "qpu_dqbs",
         "marker": {
          "color": "gray",
          "line": {
           "color": "darkred",
           "width": 1
          },
          "size": 25
         },
         "mode": "markers",
         "name": "Data qubits",
         "showlegend": false,
         "text": "18",
         "textposition": "middle center",
         "type": "scatter",
         "x": [
          1
         ],
         "y": [
          7
         ]
        },
        {
         "hoverinfo": "text",
         "legendgroup": "qpu_dqbs",
         "marker": {
          "color": "gray",
          "line": {
           "color": "darkred",
           "width": 1
          },
          "size": 25
         },
         "mode": "markers",
         "name": "Data qubits",
         "showlegend": false,
         "text": "19",
         "textposition": "middle center",
         "type": "scatter",
         "x": [
          2
         ],
         "y": [
          7
         ]
        },
        {
         "hoverinfo": "text",
         "legendgroup": "qpu_dqbs",
         "marker": {
          "color": "gray",
          "line": {
           "color": "darkred",
           "width": 1
          },
          "size": 25
         },
         "mode": "markers",
         "name": "Data qubits",
         "showlegend": false,
         "text": "20",
         "textposition": "middle center",
         "type": "scatter",
         "x": [
          3
         ],
         "y": [
          7
         ]
        },
        {
         "hoverinfo": "text",
         "legendgroup": "qpu_aqbs",
         "marker": {
          "color": "lightgray",
          "line": {
           "color": "darkred",
           "width": 1
          },
          "size": 15
         },
         "mode": "markers",
         "name": "Ancilla qubits",
         "showlegend": true,
         "text": "21",
         "textposition": "middle center",
         "type": "scatter",
         "x": [
          0.5
         ],
         "y": [
          0.5
         ]
        },
        {
         "hoverinfo": "text",
         "legendgroup": "qpu_aqbs",
         "marker": {
          "color": "lightgray",
          "line": {
           "color": "darkred",
           "width": 1
          },
          "size": 15
         },
         "mode": "markers",
         "name": "Ancilla qubits",
         "showlegend": false,
         "text": "22",
         "textposition": "middle center",
         "type": "scatter",
         "x": [
          1.5
         ],
         "y": [
          0.5
         ]
        },
        {
         "hoverinfo": "text",
         "legendgroup": "qpu_aqbs",
         "marker": {
          "color": "lightgray",
          "line": {
           "color": "darkred",
           "width": 1
          },
          "size": 15
         },
         "mode": "markers",
         "name": "Ancilla qubits",
         "showlegend": false,
         "text": "23",
         "textposition": "middle center",
         "type": "scatter",
         "x": [
          2.5
         ],
         "y": [
          0.5
         ]
        },
        {
         "hoverinfo": "text",
         "legendgroup": "qpu_aqbs",
         "marker": {
          "color": "lightgray",
          "line": {
           "color": "darkred",
           "width": 1
          },
          "size": 15
         },
         "mode": "markers",
         "name": "Ancilla qubits",
         "showlegend": false,
         "text": "24",
         "textposition": "middle center",
         "type": "scatter",
         "x": [
          3.5
         ],
         "y": [
          0.5
         ]
        },
        {
         "hoverinfo": "text",
         "legendgroup": "qpu_aqbs",
         "marker": {
          "color": "lightgray",
          "line": {
           "color": "darkred",
           "width": 1
          },
          "size": 15
         },
         "mode": "markers",
         "name": "Ancilla qubits",
         "showlegend": false,
         "text": "25",
         "textposition": "middle center",
         "type": "scatter",
         "x": [
          0.5
         ],
         "y": [
          1.5
         ]
        },
        {
         "hoverinfo": "text",
         "legendgroup": "qpu_aqbs",
         "marker": {
          "color": "lightgray",
          "line": {
           "color": "darkred",
           "width": 1
          },
          "size": 15
         },
         "mode": "markers",
         "name": "Ancilla qubits",
         "showlegend": false,
         "text": "26",
         "textposition": "middle center",
         "type": "scatter",
         "x": [
          1.5
         ],
         "y": [
          1.5
         ]
        },
        {
         "hoverinfo": "text",
         "legendgroup": "qpu_aqbs",
         "marker": {
          "color": "lightgray",
          "line": {
           "color": "darkred",
           "width": 1
          },
          "size": 15
         },
         "mode": "markers",
         "name": "Ancilla qubits",
         "showlegend": false,
         "text": "27",
         "textposition": "middle center",
         "type": "scatter",
         "x": [
          2.5
         ],
         "y": [
          1.5
         ]
        },
        {
         "hoverinfo": "text",
         "legendgroup": "qpu_aqbs",
         "marker": {
          "color": "lightgray",
          "line": {
           "color": "darkred",
           "width": 1
          },
          "size": 15
         },
         "mode": "markers",
         "name": "Ancilla qubits",
         "showlegend": false,
         "text": "28",
         "textposition": "middle center",
         "type": "scatter",
         "x": [
          3.5
         ],
         "y": [
          1.5
         ]
        },
        {
         "hoverinfo": "text",
         "legendgroup": "qpu_aqbs",
         "marker": {
          "color": "lightgray",
          "line": {
           "color": "darkred",
           "width": 1
          },
          "size": 15
         },
         "mode": "markers",
         "name": "Ancilla qubits",
         "showlegend": false,
         "text": "29",
         "textposition": "middle center",
         "type": "scatter",
         "x": [
          0.5
         ],
         "y": [
          2.5
         ]
        },
        {
         "hoverinfo": "text",
         "legendgroup": "qpu_aqbs",
         "marker": {
          "color": "lightgray",
          "line": {
           "color": "darkred",
           "width": 1
          },
          "size": 15
         },
         "mode": "markers",
         "name": "Ancilla qubits",
         "showlegend": false,
         "text": "30",
         "textposition": "middle center",
         "type": "scatter",
         "x": [
          1.5
         ],
         "y": [
          2.5
         ]
        },
        {
         "hoverinfo": "text",
         "legendgroup": "qpu_aqbs",
         "marker": {
          "color": "lightgray",
          "line": {
           "color": "darkred",
           "width": 1
          },
          "size": 15
         },
         "mode": "markers",
         "name": "Ancilla qubits",
         "showlegend": false,
         "text": "31",
         "textposition": "middle center",
         "type": "scatter",
         "x": [
          2.5
         ],
         "y": [
          2.5
         ]
        },
        {
         "hoverinfo": "text",
         "legendgroup": "qpu_aqbs",
         "marker": {
          "color": "lightgray",
          "line": {
           "color": "darkred",
           "width": 1
          },
          "size": 15
         },
         "mode": "markers",
         "name": "Ancilla qubits",
         "showlegend": false,
         "text": "32",
         "textposition": "middle center",
         "type": "scatter",
         "x": [
          3.5
         ],
         "y": [
          2.5
         ]
        },
        {
         "hoverinfo": "text",
         "legendgroup": "qpu_aqbs",
         "marker": {
          "color": "lightgray",
          "line": {
           "color": "darkred",
           "width": 1
          },
          "size": 15
         },
         "mode": "markers",
         "name": "Ancilla qubits",
         "showlegend": false,
         "text": "33",
         "textposition": "middle center",
         "type": "scatter",
         "x": [
          0.5
         ],
         "y": [
          3.5
         ]
        },
        {
         "hoverinfo": "text",
         "legendgroup": "qpu_aqbs",
         "marker": {
          "color": "lightgray",
          "line": {
           "color": "darkred",
           "width": 1
          },
          "size": 15
         },
         "mode": "markers",
         "name": "Ancilla qubits",
         "showlegend": false,
         "text": "34",
         "textposition": "middle center",
         "type": "scatter",
         "x": [
          1.5
         ],
         "y": [
          3.5
         ]
        },
        {
         "hoverinfo": "text",
         "legendgroup": "qpu_aqbs",
         "marker": {
          "color": "lightgray",
          "line": {
           "color": "darkred",
           "width": 1
          },
          "size": 15
         },
         "mode": "markers",
         "name": "Ancilla qubits",
         "showlegend": false,
         "text": "35",
         "textposition": "middle center",
         "type": "scatter",
         "x": [
          2.5
         ],
         "y": [
          3.5
         ]
        },
        {
         "hoverinfo": "text",
         "legendgroup": "qpu_aqbs",
         "marker": {
          "color": "lightgray",
          "line": {
           "color": "darkred",
           "width": 1
          },
          "size": 15
         },
         "mode": "markers",
         "name": "Ancilla qubits",
         "showlegend": false,
         "text": "36",
         "textposition": "middle center",
         "type": "scatter",
         "x": [
          3.5
         ],
         "y": [
          3.5
         ]
        },
        {
         "hoverinfo": "text",
         "legendgroup": "qpu_aqbs",
         "marker": {
          "color": "lightgray",
          "line": {
           "color": "darkred",
           "width": 1
          },
          "size": 15
         },
         "mode": "markers",
         "name": "Ancilla qubits",
         "showlegend": false,
         "text": "37",
         "textposition": "middle center",
         "type": "scatter",
         "x": [
          0.5
         ],
         "y": [
          4.5
         ]
        },
        {
         "hoverinfo": "text",
         "legendgroup": "qpu_aqbs",
         "marker": {
          "color": "lightgray",
          "line": {
           "color": "darkred",
           "width": 1
          },
          "size": 15
         },
         "mode": "markers",
         "name": "Ancilla qubits",
         "showlegend": false,
         "text": "38",
         "textposition": "middle center",
         "type": "scatter",
         "x": [
          1.5
         ],
         "y": [
          4.5
         ]
        },
        {
         "hoverinfo": "text",
         "legendgroup": "qpu_aqbs",
         "marker": {
          "color": "lightgray",
          "line": {
           "color": "darkred",
           "width": 1
          },
          "size": 15
         },
         "mode": "markers",
         "name": "Ancilla qubits",
         "showlegend": false,
         "text": "39",
         "textposition": "middle center",
         "type": "scatter",
         "x": [
          2.5
         ],
         "y": [
          4.5
         ]
        },
        {
         "hoverinfo": "text",
         "legendgroup": "qpu_aqbs",
         "marker": {
          "color": "lightgray",
          "line": {
           "color": "darkred",
           "width": 1
          },
          "size": 15
         },
         "mode": "markers",
         "name": "Ancilla qubits",
         "showlegend": false,
         "text": "40",
         "textposition": "middle center",
         "type": "scatter",
         "x": [
          3.5
         ],
         "y": [
          4.5
         ]
        },
        {
         "hoverinfo": "text",
         "legendgroup": "qpu_aqbs",
         "marker": {
          "color": "lightgray",
          "line": {
           "color": "darkred",
           "width": 1
          },
          "size": 15
         },
         "mode": "markers",
         "name": "Ancilla qubits",
         "showlegend": false,
         "text": "41",
         "textposition": "middle center",
         "type": "scatter",
         "x": [
          0.5
         ],
         "y": [
          5.5
         ]
        },
        {
         "hoverinfo": "text",
         "legendgroup": "qpu_aqbs",
         "marker": {
          "color": "lightgray",
          "line": {
           "color": "darkred",
           "width": 1
          },
          "size": 15
         },
         "mode": "markers",
         "name": "Ancilla qubits",
         "showlegend": false,
         "text": "42",
         "textposition": "middle center",
         "type": "scatter",
         "x": [
          1.5
         ],
         "y": [
          5.5
         ]
        },
        {
         "hoverinfo": "text",
         "legendgroup": "qpu_aqbs",
         "marker": {
          "color": "lightgray",
          "line": {
           "color": "darkred",
           "width": 1
          },
          "size": 15
         },
         "mode": "markers",
         "name": "Ancilla qubits",
         "showlegend": false,
         "text": "43",
         "textposition": "middle center",
         "type": "scatter",
         "x": [
          2.5
         ],
         "y": [
          5.5
         ]
        },
        {
         "hoverinfo": "text",
         "legendgroup": "qpu_aqbs",
         "marker": {
          "color": "lightgray",
          "line": {
           "color": "darkred",
           "width": 1
          },
          "size": 15
         },
         "mode": "markers",
         "name": "Ancilla qubits",
         "showlegend": false,
         "text": "44",
         "textposition": "middle center",
         "type": "scatter",
         "x": [
          3.5
         ],
         "y": [
          5.5
         ]
        },
        {
         "hoverinfo": "text",
         "legendgroup": "qpu_aqbs",
         "marker": {
          "color": "lightgray",
          "line": {
           "color": "darkred",
           "width": 1
          },
          "size": 15
         },
         "mode": "markers",
         "name": "Ancilla qubits",
         "showlegend": false,
         "text": "45",
         "textposition": "middle center",
         "type": "scatter",
         "x": [
          0.5
         ],
         "y": [
          6.5
         ]
        },
        {
         "hoverinfo": "text",
         "legendgroup": "qpu_aqbs",
         "marker": {
          "color": "lightgray",
          "line": {
           "color": "darkred",
           "width": 1
          },
          "size": 15
         },
         "mode": "markers",
         "name": "Ancilla qubits",
         "showlegend": false,
         "text": "46",
         "textposition": "middle center",
         "type": "scatter",
         "x": [
          1.5
         ],
         "y": [
          6.5
         ]
        },
        {
         "hoverinfo": "text",
         "legendgroup": "qpu_aqbs",
         "marker": {
          "color": "lightgray",
          "line": {
           "color": "darkred",
           "width": 1
          },
          "size": 15
         },
         "mode": "markers",
         "name": "Ancilla qubits",
         "showlegend": false,
         "text": "47",
         "textposition": "middle center",
         "type": "scatter",
         "x": [
          2.5
         ],
         "y": [
          6.5
         ]
        },
        {
         "hoverinfo": "text",
         "legendgroup": "qpu_aqbs",
         "marker": {
          "color": "lightgray",
          "line": {
           "color": "darkred",
           "width": 1
          },
          "size": 15
         },
         "mode": "markers",
         "name": "Ancilla qubits",
         "showlegend": false,
         "text": "48",
         "textposition": "middle center",
         "type": "scatter",
         "x": [
          3.5
         ],
         "y": [
          6.5
         ]
        },
        {
         "hoverinfo": "text",
         "legendgroup": "qpu_aqbs",
         "marker": {
          "color": "lightgray",
          "line": {
           "color": "darkred",
           "width": 1
          },
          "size": 15
         },
         "mode": "markers",
         "name": "Ancilla qubits",
         "showlegend": false,
         "text": "49",
         "textposition": "middle center",
         "type": "scatter",
         "x": [
          0.5
         ],
         "y": [
          7.5
         ]
        },
        {
         "hoverinfo": "text",
         "legendgroup": "qpu_aqbs",
         "marker": {
          "color": "lightgray",
          "line": {
           "color": "darkred",
           "width": 1
          },
          "size": 15
         },
         "mode": "markers",
         "name": "Ancilla qubits",
         "showlegend": false,
         "text": "50",
         "textposition": "middle center",
         "type": "scatter",
         "x": [
          1.5
         ],
         "y": [
          7.5
         ]
        },
        {
         "hoverinfo": "text",
         "legendgroup": "qpu_aqbs",
         "marker": {
          "color": "lightgray",
          "line": {
           "color": "darkred",
           "width": 1
          },
          "size": 15
         },
         "mode": "markers",
         "name": "Ancilla qubits",
         "showlegend": false,
         "text": "51",
         "textposition": "middle center",
         "type": "scatter",
         "x": [
          2.5
         ],
         "y": [
          7.5
         ]
        },
        {
         "hoverinfo": "text",
         "legendgroup": "qpu_aqbs",
         "marker": {
          "color": "lightgray",
          "line": {
           "color": "darkred",
           "width": 1
          },
          "size": 15
         },
         "mode": "markers",
         "name": "Ancilla qubits",
         "showlegend": false,
         "text": "52",
         "textposition": "middle center",
         "type": "scatter",
         "x": [
          3.5
         ],
         "y": [
          7.5
         ]
        },
        {
         "fill": "toself",
         "fillcolor": "#57C95A",
         "hoverinfo": "none",
         "legendgroup": "stabs_Q1",
         "line": {
          "color": "black",
          "width": 2
         },
         "mode": "lines",
         "name": "Q1 stabilizers",
         "showlegend": true,
         "type": "scatter",
         "x": [
          2,
          2,
          3,
          3,
          3
         ],
         "y": [
          1,
          2,
          2,
          1,
          1
         ]
        },
        {
         "fill": "toself",
         "fillcolor": "#57C95A",
         "hoverinfo": "none",
         "legendgroup": "stabs_Q1",
         "line": {
          "color": "black",
          "width": 2
         },
         "mode": "lines",
         "name": "Q1 stabilizers",
         "showlegend": false,
         "type": "scatter",
         "x": [
          1,
          1,
          2,
          2,
          2
         ],
         "y": [
          2,
          3,
          3,
          2,
          2
         ]
        },
        {
         "fill": "toself",
         "fillcolor": "#57C95A",
         "hoverinfo": "none",
         "legendgroup": "stabs_Q1",
         "line": {
          "color": "black",
          "width": 2
         },
         "mode": "lines",
         "name": "Q1 stabilizers",
         "showlegend": false,
         "type": "scatter",
         "x": [
          1,
          1,
          1
         ],
         "y": [
          2,
          1,
          1
         ]
        },
        {
         "fill": "toself",
         "fillcolor": "#57C95A",
         "hoverinfo": "none",
         "legendgroup": "stabs_Q1",
         "line": {
          "color": "black",
          "width": 2
         },
         "mode": "lines",
         "name": "Q1 stabilizers",
         "showlegend": false,
         "type": "scatter",
         "x": [
          3,
          3,
          3
         ],
         "y": [
          3,
          2,
          2
         ]
        },
        {
         "fill": "toself",
         "fillcolor": "#5AAEE6",
         "hoverinfo": "none",
         "legendgroup": "stabs_Q1",
         "line": {
          "color": "black",
          "width": 2
         },
         "mode": "lines",
         "name": "Q1 stabilizers",
         "showlegend": false,
         "type": "scatter",
         "x": [
          1,
          1,
          2,
          2,
          2
         ],
         "y": [
          1,
          2,
          2,
          1,
          1
         ]
        },
        {
         "fill": "toself",
         "fillcolor": "#5AAEE6",
         "hoverinfo": "none",
         "legendgroup": "stabs_Q1",
         "line": {
          "color": "black",
          "width": 2
         },
         "mode": "lines",
         "name": "Q1 stabilizers",
         "showlegend": false,
         "type": "scatter",
         "x": [
          2,
          2,
          3,
          3,
          3
         ],
         "y": [
          2,
          3,
          3,
          2,
          2
         ]
        },
        {
         "fill": "toself",
         "fillcolor": "#5AAEE6",
         "hoverinfo": "none",
         "legendgroup": "stabs_Q1",
         "line": {
          "color": "black",
          "width": 2
         },
         "mode": "lines",
         "name": "Q1 stabilizers",
         "showlegend": false,
         "type": "scatter",
         "x": [
          1,
          2,
          2
         ],
         "y": [
          3,
          3,
          3
         ]
        },
        {
         "fill": "toself",
         "fillcolor": "#5AAEE6",
         "hoverinfo": "none",
         "legendgroup": "stabs_Q1",
         "line": {
          "color": "black",
          "width": 2
         },
         "mode": "lines",
         "name": "Q1 stabilizers",
         "showlegend": false,
         "type": "scatter",
         "x": [
          2,
          3,
          3
         ],
         "y": [
          1,
          1,
          1
         ]
        },
        {
         "hoverinfo": "text",
         "legendgroup": "",
         "marker": {
          "color": "#1f77b4",
          "line": {
           "color": "darkred",
           "width": 1
          },
          "size": 25
         },
         "mode": "markers+text",
         "name": "",
         "showlegend": false,
         "text": "0",
         "textposition": "middle center",
         "type": "scatter",
         "x": [
          1
         ],
         "y": [
          1
         ]
        },
        {
         "hoverinfo": "text",
         "legendgroup": "",
         "marker": {
          "color": "#1f77b4",
          "line": {
           "color": "darkred",
           "width": 1
          },
          "size": 25
         },
         "mode": "markers+text",
         "name": "",
         "showlegend": false,
         "text": "1",
         "textposition": "middle center",
         "type": "scatter",
         "x": [
          2
         ],
         "y": [
          1
         ]
        },
        {
         "hoverinfo": "text",
         "legendgroup": "",
         "marker": {
          "color": "#1f77b4",
          "line": {
           "color": "darkred",
           "width": 1
          },
          "size": 25
         },
         "mode": "markers+text",
         "name": "",
         "showlegend": false,
         "text": "2",
         "textposition": "middle center",
         "type": "scatter",
         "x": [
          3
         ],
         "y": [
          1
         ]
        },
        {
         "hoverinfo": "text",
         "legendgroup": "",
         "marker": {
          "color": "#1f77b4",
          "line": {
           "color": "darkred",
           "width": 1
          },
          "size": 25
         },
         "mode": "markers+text",
         "name": "",
         "showlegend": false,
         "text": "3",
         "textposition": "middle center",
         "type": "scatter",
         "x": [
          1
         ],
         "y": [
          2
         ]
        },
        {
         "hoverinfo": "text",
         "legendgroup": "",
         "marker": {
          "color": "#1f77b4",
          "line": {
           "color": "darkred",
           "width": 1
          },
          "size": 25
         },
         "mode": "markers+text",
         "name": "",
         "showlegend": false,
         "text": "4",
         "textposition": "middle center",
         "type": "scatter",
         "x": [
          2
         ],
         "y": [
          2
         ]
        },
        {
         "hoverinfo": "text",
         "legendgroup": "",
         "marker": {
          "color": "#1f77b4",
          "line": {
           "color": "darkred",
           "width": 1
          },
          "size": 25
         },
         "mode": "markers+text",
         "name": "",
         "showlegend": false,
         "text": "5",
         "textposition": "middle center",
         "type": "scatter",
         "x": [
          3
         ],
         "y": [
          2
         ]
        },
        {
         "hoverinfo": "text",
         "legendgroup": "",
         "marker": {
          "color": "#1f77b4",
          "line": {
           "color": "darkred",
           "width": 1
          },
          "size": 25
         },
         "mode": "markers+text",
         "name": "",
         "showlegend": false,
         "text": "6",
         "textposition": "middle center",
         "type": "scatter",
         "x": [
          1
         ],
         "y": [
          3
         ]
        },
        {
         "hoverinfo": "text",
         "legendgroup": "",
         "marker": {
          "color": "#1f77b4",
          "line": {
           "color": "darkred",
           "width": 1
          },
          "size": 25
         },
         "mode": "markers+text",
         "name": "",
         "showlegend": false,
         "text": "7",
         "textposition": "middle center",
         "type": "scatter",
         "x": [
          2
         ],
         "y": [
          3
         ]
        },
        {
         "hoverinfo": "text",
         "legendgroup": "",
         "marker": {
          "color": "#1f77b4",
          "line": {
           "color": "darkred",
           "width": 1
          },
          "size": 25
         },
         "mode": "markers+text",
         "name": "",
         "showlegend": false,
         "text": "8",
         "textposition": "middle center",
         "type": "scatter",
         "x": [
          3
         ],
         "y": [
          3
         ]
        },
        {
         "fill": "toself",
         "fillcolor": "#57C95A",
         "hoverinfo": "none",
         "legendgroup": "stabs_Q2",
         "line": {
          "color": "black",
          "width": 2
         },
         "mode": "lines",
         "name": "Q2 stabilizers",
         "showlegend": true,
         "type": "scatter",
         "x": [
          2,
          2,
          3,
          3,
          3
         ],
         "y": [
          5,
          6,
          6,
          5,
          5
         ]
        },
        {
         "fill": "toself",
         "fillcolor": "#57C95A",
         "hoverinfo": "none",
         "legendgroup": "stabs_Q2",
         "line": {
          "color": "black",
          "width": 2
         },
         "mode": "lines",
         "name": "Q2 stabilizers",
         "showlegend": false,
         "type": "scatter",
         "x": [
          1,
          1,
          2,
          2,
          2
         ],
         "y": [
          6,
          7,
          7,
          6,
          6
         ]
        },
        {
         "fill": "toself",
         "fillcolor": "#57C95A",
         "hoverinfo": "none",
         "legendgroup": "stabs_Q2",
         "line": {
          "color": "black",
          "width": 2
         },
         "mode": "lines",
         "name": "Q2 stabilizers",
         "showlegend": false,
         "type": "scatter",
         "x": [
          1,
          1,
          1
         ],
         "y": [
          6,
          5,
          5
         ]
        },
        {
         "fill": "toself",
         "fillcolor": "#57C95A",
         "hoverinfo": "none",
         "legendgroup": "stabs_Q2",
         "line": {
          "color": "black",
          "width": 2
         },
         "mode": "lines",
         "name": "Q2 stabilizers",
         "showlegend": false,
         "type": "scatter",
         "x": [
          3,
          3,
          3
         ],
         "y": [
          7,
          6,
          6
         ]
        },
        {
         "fill": "toself",
         "fillcolor": "#5AAEE6",
         "hoverinfo": "none",
         "legendgroup": "stabs_Q2",
         "line": {
          "color": "black",
          "width": 2
         },
         "mode": "lines",
         "name": "Q2 stabilizers",
         "showlegend": false,
         "type": "scatter",
         "x": [
          1,
          1,
          2,
          2,
          2
         ],
         "y": [
          5,
          6,
          6,
          5,
          5
         ]
        },
        {
         "fill": "toself",
         "fillcolor": "#5AAEE6",
         "hoverinfo": "none",
         "legendgroup": "stabs_Q2",
         "line": {
          "color": "black",
          "width": 2
         },
         "mode": "lines",
         "name": "Q2 stabilizers",
         "showlegend": false,
         "type": "scatter",
         "x": [
          2,
          2,
          3,
          3,
          3
         ],
         "y": [
          6,
          7,
          7,
          6,
          6
         ]
        },
        {
         "fill": "toself",
         "fillcolor": "#5AAEE6",
         "hoverinfo": "none",
         "legendgroup": "stabs_Q2",
         "line": {
          "color": "black",
          "width": 2
         },
         "mode": "lines",
         "name": "Q2 stabilizers",
         "showlegend": false,
         "type": "scatter",
         "x": [
          1,
          2,
          2
         ],
         "y": [
          7,
          7,
          7
         ]
        },
        {
         "fill": "toself",
         "fillcolor": "#5AAEE6",
         "hoverinfo": "none",
         "legendgroup": "stabs_Q2",
         "line": {
          "color": "black",
          "width": 2
         },
         "mode": "lines",
         "name": "Q2 stabilizers",
         "showlegend": false,
         "type": "scatter",
         "x": [
          2,
          3,
          3
         ],
         "y": [
          5,
          5,
          5
         ]
        },
        {
         "hoverinfo": "text",
         "legendgroup": "",
         "marker": {
          "color": "#ff7f0e",
          "line": {
           "color": "darkred",
           "width": 1
          },
          "size": 25
         },
         "mode": "markers+text",
         "name": "",
         "showlegend": false,
         "text": "12",
         "textposition": "middle center",
         "type": "scatter",
         "x": [
          1
         ],
         "y": [
          5
         ]
        },
        {
         "hoverinfo": "text",
         "legendgroup": "",
         "marker": {
          "color": "#ff7f0e",
          "line": {
           "color": "darkred",
           "width": 1
          },
          "size": 25
         },
         "mode": "markers+text",
         "name": "",
         "showlegend": false,
         "text": "13",
         "textposition": "middle center",
         "type": "scatter",
         "x": [
          2
         ],
         "y": [
          5
         ]
        },
        {
         "hoverinfo": "text",
         "legendgroup": "",
         "marker": {
          "color": "#ff7f0e",
          "line": {
           "color": "darkred",
           "width": 1
          },
          "size": 25
         },
         "mode": "markers+text",
         "name": "",
         "showlegend": false,
         "text": "14",
         "textposition": "middle center",
         "type": "scatter",
         "x": [
          3
         ],
         "y": [
          5
         ]
        },
        {
         "hoverinfo": "text",
         "legendgroup": "",
         "marker": {
          "color": "#ff7f0e",
          "line": {
           "color": "darkred",
           "width": 1
          },
          "size": 25
         },
         "mode": "markers+text",
         "name": "",
         "showlegend": false,
         "text": "15",
         "textposition": "middle center",
         "type": "scatter",
         "x": [
          1
         ],
         "y": [
          6
         ]
        },
        {
         "hoverinfo": "text",
         "legendgroup": "",
         "marker": {
          "color": "#ff7f0e",
          "line": {
           "color": "darkred",
           "width": 1
          },
          "size": 25
         },
         "mode": "markers+text",
         "name": "",
         "showlegend": false,
         "text": "16",
         "textposition": "middle center",
         "type": "scatter",
         "x": [
          2
         ],
         "y": [
          6
         ]
        },
        {
         "hoverinfo": "text",
         "legendgroup": "",
         "marker": {
          "color": "#ff7f0e",
          "line": {
           "color": "darkred",
           "width": 1
          },
          "size": 25
         },
         "mode": "markers+text",
         "name": "",
         "showlegend": false,
         "text": "17",
         "textposition": "middle center",
         "type": "scatter",
         "x": [
          3
         ],
         "y": [
          6
         ]
        },
        {
         "hoverinfo": "text",
         "legendgroup": "",
         "marker": {
          "color": "#ff7f0e",
          "line": {
           "color": "darkred",
           "width": 1
          },
          "size": 25
         },
         "mode": "markers+text",
         "name": "",
         "showlegend": false,
         "text": "18",
         "textposition": "middle center",
         "type": "scatter",
         "x": [
          1
         ],
         "y": [
          7
         ]
        },
        {
         "hoverinfo": "text",
         "legendgroup": "",
         "marker": {
          "color": "#ff7f0e",
          "line": {
           "color": "darkred",
           "width": 1
          },
          "size": 25
         },
         "mode": "markers+text",
         "name": "",
         "showlegend": false,
         "text": "19",
         "textposition": "middle center",
         "type": "scatter",
         "x": [
          2
         ],
         "y": [
          7
         ]
        },
        {
         "hoverinfo": "text",
         "legendgroup": "",
         "marker": {
          "color": "#ff7f0e",
          "line": {
           "color": "darkred",
           "width": 1
          },
          "size": 25
         },
         "mode": "markers+text",
         "name": "",
         "showlegend": false,
         "text": "20",
         "textposition": "middle center",
         "type": "scatter",
         "x": [
          3
         ],
         "y": [
          7
         ]
        }
       ],
       "layout": {
        "height": 700,
        "showlegend": true,
        "template": {
         "data": {
          "bar": [
           {
            "error_x": {
             "color": "#2a3f5f"
            },
            "error_y": {
             "color": "#2a3f5f"
            },
            "marker": {
             "line": {
              "color": "#E5ECF6",
              "width": 0.5
             },
             "pattern": {
              "fillmode": "overlay",
              "size": 10,
              "solidity": 0.2
             }
            },
            "type": "bar"
           }
          ],
          "barpolar": [
           {
            "marker": {
             "line": {
              "color": "#E5ECF6",
              "width": 0.5
             },
             "pattern": {
              "fillmode": "overlay",
              "size": 10,
              "solidity": 0.2
             }
            },
            "type": "barpolar"
           }
          ],
          "carpet": [
           {
            "aaxis": {
             "endlinecolor": "#2a3f5f",
             "gridcolor": "white",
             "linecolor": "white",
             "minorgridcolor": "white",
             "startlinecolor": "#2a3f5f"
            },
            "baxis": {
             "endlinecolor": "#2a3f5f",
             "gridcolor": "white",
             "linecolor": "white",
             "minorgridcolor": "white",
             "startlinecolor": "#2a3f5f"
            },
            "type": "carpet"
           }
          ],
          "choropleth": [
           {
            "colorbar": {
             "outlinewidth": 0,
             "ticks": ""
            },
            "type": "choropleth"
           }
          ],
          "contour": [
           {
            "colorbar": {
             "outlinewidth": 0,
             "ticks": ""
            },
            "colorscale": [
             [
              0,
              "#0d0887"
             ],
             [
              0.1111111111111111,
              "#46039f"
             ],
             [
              0.2222222222222222,
              "#7201a8"
             ],
             [
              0.3333333333333333,
              "#9c179e"
             ],
             [
              0.4444444444444444,
              "#bd3786"
             ],
             [
              0.5555555555555556,
              "#d8576b"
             ],
             [
              0.6666666666666666,
              "#ed7953"
             ],
             [
              0.7777777777777778,
              "#fb9f3a"
             ],
             [
              0.8888888888888888,
              "#fdca26"
             ],
             [
              1,
              "#f0f921"
             ]
            ],
            "type": "contour"
           }
          ],
          "contourcarpet": [
           {
            "colorbar": {
             "outlinewidth": 0,
             "ticks": ""
            },
            "type": "contourcarpet"
           }
          ],
          "heatmap": [
           {
            "colorbar": {
             "outlinewidth": 0,
             "ticks": ""
            },
            "colorscale": [
             [
              0,
              "#0d0887"
             ],
             [
              0.1111111111111111,
              "#46039f"
             ],
             [
              0.2222222222222222,
              "#7201a8"
             ],
             [
              0.3333333333333333,
              "#9c179e"
             ],
             [
              0.4444444444444444,
              "#bd3786"
             ],
             [
              0.5555555555555556,
              "#d8576b"
             ],
             [
              0.6666666666666666,
              "#ed7953"
             ],
             [
              0.7777777777777778,
              "#fb9f3a"
             ],
             [
              0.8888888888888888,
              "#fdca26"
             ],
             [
              1,
              "#f0f921"
             ]
            ],
            "type": "heatmap"
           }
          ],
          "heatmapgl": [
           {
            "colorbar": {
             "outlinewidth": 0,
             "ticks": ""
            },
            "colorscale": [
             [
              0,
              "#0d0887"
             ],
             [
              0.1111111111111111,
              "#46039f"
             ],
             [
              0.2222222222222222,
              "#7201a8"
             ],
             [
              0.3333333333333333,
              "#9c179e"
             ],
             [
              0.4444444444444444,
              "#bd3786"
             ],
             [
              0.5555555555555556,
              "#d8576b"
             ],
             [
              0.6666666666666666,
              "#ed7953"
             ],
             [
              0.7777777777777778,
              "#fb9f3a"
             ],
             [
              0.8888888888888888,
              "#fdca26"
             ],
             [
              1,
              "#f0f921"
             ]
            ],
            "type": "heatmapgl"
           }
          ],
          "histogram": [
           {
            "marker": {
             "pattern": {
              "fillmode": "overlay",
              "size": 10,
              "solidity": 0.2
             }
            },
            "type": "histogram"
           }
          ],
          "histogram2d": [
           {
            "colorbar": {
             "outlinewidth": 0,
             "ticks": ""
            },
            "colorscale": [
             [
              0,
              "#0d0887"
             ],
             [
              0.1111111111111111,
              "#46039f"
             ],
             [
              0.2222222222222222,
              "#7201a8"
             ],
             [
              0.3333333333333333,
              "#9c179e"
             ],
             [
              0.4444444444444444,
              "#bd3786"
             ],
             [
              0.5555555555555556,
              "#d8576b"
             ],
             [
              0.6666666666666666,
              "#ed7953"
             ],
             [
              0.7777777777777778,
              "#fb9f3a"
             ],
             [
              0.8888888888888888,
              "#fdca26"
             ],
             [
              1,
              "#f0f921"
             ]
            ],
            "type": "histogram2d"
           }
          ],
          "histogram2dcontour": [
           {
            "colorbar": {
             "outlinewidth": 0,
             "ticks": ""
            },
            "colorscale": [
             [
              0,
              "#0d0887"
             ],
             [
              0.1111111111111111,
              "#46039f"
             ],
             [
              0.2222222222222222,
              "#7201a8"
             ],
             [
              0.3333333333333333,
              "#9c179e"
             ],
             [
              0.4444444444444444,
              "#bd3786"
             ],
             [
              0.5555555555555556,
              "#d8576b"
             ],
             [
              0.6666666666666666,
              "#ed7953"
             ],
             [
              0.7777777777777778,
              "#fb9f3a"
             ],
             [
              0.8888888888888888,
              "#fdca26"
             ],
             [
              1,
              "#f0f921"
             ]
            ],
            "type": "histogram2dcontour"
           }
          ],
          "mesh3d": [
           {
            "colorbar": {
             "outlinewidth": 0,
             "ticks": ""
            },
            "type": "mesh3d"
           }
          ],
          "parcoords": [
           {
            "line": {
             "colorbar": {
              "outlinewidth": 0,
              "ticks": ""
             }
            },
            "type": "parcoords"
           }
          ],
          "pie": [
           {
            "automargin": true,
            "type": "pie"
           }
          ],
          "scatter": [
           {
            "fillpattern": {
             "fillmode": "overlay",
             "size": 10,
             "solidity": 0.2
            },
            "type": "scatter"
           }
          ],
          "scatter3d": [
           {
            "line": {
             "colorbar": {
              "outlinewidth": 0,
              "ticks": ""
             }
            },
            "marker": {
             "colorbar": {
              "outlinewidth": 0,
              "ticks": ""
             }
            },
            "type": "scatter3d"
           }
          ],
          "scattercarpet": [
           {
            "marker": {
             "colorbar": {
              "outlinewidth": 0,
              "ticks": ""
             }
            },
            "type": "scattercarpet"
           }
          ],
          "scattergeo": [
           {
            "marker": {
             "colorbar": {
              "outlinewidth": 0,
              "ticks": ""
             }
            },
            "type": "scattergeo"
           }
          ],
          "scattergl": [
           {
            "marker": {
             "colorbar": {
              "outlinewidth": 0,
              "ticks": ""
             }
            },
            "type": "scattergl"
           }
          ],
          "scattermapbox": [
           {
            "marker": {
             "colorbar": {
              "outlinewidth": 0,
              "ticks": ""
             }
            },
            "type": "scattermapbox"
           }
          ],
          "scatterpolar": [
           {
            "marker": {
             "colorbar": {
              "outlinewidth": 0,
              "ticks": ""
             }
            },
            "type": "scatterpolar"
           }
          ],
          "scatterpolargl": [
           {
            "marker": {
             "colorbar": {
              "outlinewidth": 0,
              "ticks": ""
             }
            },
            "type": "scatterpolargl"
           }
          ],
          "scatterternary": [
           {
            "marker": {
             "colorbar": {
              "outlinewidth": 0,
              "ticks": ""
             }
            },
            "type": "scatterternary"
           }
          ],
          "surface": [
           {
            "colorbar": {
             "outlinewidth": 0,
             "ticks": ""
            },
            "colorscale": [
             [
              0,
              "#0d0887"
             ],
             [
              0.1111111111111111,
              "#46039f"
             ],
             [
              0.2222222222222222,
              "#7201a8"
             ],
             [
              0.3333333333333333,
              "#9c179e"
             ],
             [
              0.4444444444444444,
              "#bd3786"
             ],
             [
              0.5555555555555556,
              "#d8576b"
             ],
             [
              0.6666666666666666,
              "#ed7953"
             ],
             [
              0.7777777777777778,
              "#fb9f3a"
             ],
             [
              0.8888888888888888,
              "#fdca26"
             ],
             [
              1,
              "#f0f921"
             ]
            ],
            "type": "surface"
           }
          ],
          "table": [
           {
            "cells": {
             "fill": {
              "color": "#EBF0F8"
             },
             "line": {
              "color": "white"
             }
            },
            "header": {
             "fill": {
              "color": "#C8D4E3"
             },
             "line": {
              "color": "white"
             }
            },
            "type": "table"
           }
          ]
         },
         "layout": {
          "annotationdefaults": {
           "arrowcolor": "#2a3f5f",
           "arrowhead": 0,
           "arrowwidth": 1
          },
          "autotypenumbers": "strict",
          "coloraxis": {
           "colorbar": {
            "outlinewidth": 0,
            "ticks": ""
           }
          },
          "colorscale": {
           "diverging": [
            [
             0,
             "#8e0152"
            ],
            [
             0.1,
             "#c51b7d"
            ],
            [
             0.2,
             "#de77ae"
            ],
            [
             0.3,
             "#f1b6da"
            ],
            [
             0.4,
             "#fde0ef"
            ],
            [
             0.5,
             "#f7f7f7"
            ],
            [
             0.6,
             "#e6f5d0"
            ],
            [
             0.7,
             "#b8e186"
            ],
            [
             0.8,
             "#7fbc41"
            ],
            [
             0.9,
             "#4d9221"
            ],
            [
             1,
             "#276419"
            ]
           ],
           "sequential": [
            [
             0,
             "#0d0887"
            ],
            [
             0.1111111111111111,
             "#46039f"
            ],
            [
             0.2222222222222222,
             "#7201a8"
            ],
            [
             0.3333333333333333,
             "#9c179e"
            ],
            [
             0.4444444444444444,
             "#bd3786"
            ],
            [
             0.5555555555555556,
             "#d8576b"
            ],
            [
             0.6666666666666666,
             "#ed7953"
            ],
            [
             0.7777777777777778,
             "#fb9f3a"
            ],
            [
             0.8888888888888888,
             "#fdca26"
            ],
            [
             1,
             "#f0f921"
            ]
           ],
           "sequentialminus": [
            [
             0,
             "#0d0887"
            ],
            [
             0.1111111111111111,
             "#46039f"
            ],
            [
             0.2222222222222222,
             "#7201a8"
            ],
            [
             0.3333333333333333,
             "#9c179e"
            ],
            [
             0.4444444444444444,
             "#bd3786"
            ],
            [
             0.5555555555555556,
             "#d8576b"
            ],
            [
             0.6666666666666666,
             "#ed7953"
            ],
            [
             0.7777777777777778,
             "#fb9f3a"
            ],
            [
             0.8888888888888888,
             "#fdca26"
            ],
            [
             1,
             "#f0f921"
            ]
           ]
          },
          "colorway": [
           "#636efa",
           "#EF553B",
           "#00cc96",
           "#ab63fa",
           "#FFA15A",
           "#19d3f3",
           "#FF6692",
           "#B6E880",
           "#FF97FF",
           "#FECB52"
          ],
          "font": {
           "color": "#2a3f5f"
          },
          "geo": {
           "bgcolor": "white",
           "lakecolor": "white",
           "landcolor": "#E5ECF6",
           "showlakes": true,
           "showland": true,
           "subunitcolor": "white"
          },
          "hoverlabel": {
           "align": "left"
          },
          "hovermode": "closest",
          "mapbox": {
           "style": "light"
          },
          "paper_bgcolor": "white",
          "plot_bgcolor": "#E5ECF6",
          "polar": {
           "angularaxis": {
            "gridcolor": "white",
            "linecolor": "white",
            "ticks": ""
           },
           "bgcolor": "#E5ECF6",
           "radialaxis": {
            "gridcolor": "white",
            "linecolor": "white",
            "ticks": ""
           }
          },
          "scene": {
           "xaxis": {
            "backgroundcolor": "#E5ECF6",
            "gridcolor": "white",
            "gridwidth": 2,
            "linecolor": "white",
            "showbackground": true,
            "ticks": "",
            "zerolinecolor": "white"
           },
           "yaxis": {
            "backgroundcolor": "#E5ECF6",
            "gridcolor": "white",
            "gridwidth": 2,
            "linecolor": "white",
            "showbackground": true,
            "ticks": "",
            "zerolinecolor": "white"
           },
           "zaxis": {
            "backgroundcolor": "#E5ECF6",
            "gridcolor": "white",
            "gridwidth": 2,
            "linecolor": "white",
            "showbackground": true,
            "ticks": "",
            "zerolinecolor": "white"
           }
          },
          "shapedefaults": {
           "line": {
            "color": "#2a3f5f"
           }
          },
          "ternary": {
           "aaxis": {
            "gridcolor": "white",
            "linecolor": "white",
            "ticks": ""
           },
           "baxis": {
            "gridcolor": "white",
            "linecolor": "white",
            "ticks": ""
           },
           "bgcolor": "#E5ECF6",
           "caxis": {
            "gridcolor": "white",
            "linecolor": "white",
            "ticks": ""
           }
          },
          "title": {
           "x": 0.05
          },
          "xaxis": {
           "automargin": true,
           "gridcolor": "white",
           "linecolor": "white",
           "ticks": "",
           "title": {
            "standoff": 15
           },
           "zerolinecolor": "white",
           "zerolinewidth": 2
          },
          "yaxis": {
           "automargin": true,
           "gridcolor": "white",
           "linecolor": "white",
           "ticks": "",
           "title": {
            "standoff": 15
           },
           "zerolinecolor": "white",
           "zerolinewidth": 2
          }
         }
        },
        "width": 1100,
        "xaxis": {
         "anchor": "y",
         "domain": [
          0,
          1
         ],
         "showgrid": false,
         "visible": false,
         "zeroline": false
        },
        "yaxis": {
         "anchor": "x",
         "autorange": true,
         "domain": [
          0,
          1
         ],
         "scaleanchor": "x",
         "scaleratio": 1,
         "showgrid": false,
         "visible": false
        }
       }
      }
     },
     "metadata": {},
     "output_type": "display_data"
    }
   ],
   "source": [
    "qecplot = QECPlot(circ)\n",
    "qecplot.plot_logical_qubit(\"Q1\")\n",
    "qecplot.plot_logical_qubit(\"Q2\")\n",
    "qecplot.show()"
   ]
  },
  {
   "cell_type": "markdown",
   "metadata": {},
   "source": [
    "Now we add syndrome extraction cycles for both logical qubits:"
   ]
  },
  {
   "cell_type": "code",
   "execution_count": 4,
   "metadata": {},
   "outputs": [],
   "source": [
    "uuids = (\n",
    "    circ.add_par_def_syndrome_extraction_circuit_all_log_qbs()\n",
    ")  # Add a syndrome extraction cycle"
   ]
  },
  {
   "cell_type": "markdown",
   "metadata": {},
   "source": [
    "# Plot the circuit using stim\n",
    "To verify that we have the syndrome extraction circuit that we want, we can plot the circuit using stim:"
   ]
  },
  {
   "cell_type": "code",
   "execution_count": 5,
   "metadata": {},
   "outputs": [
    {
     "data": {
      "image/svg+xml": [
       "<svg viewBox=\"0 0 4064 3488\"  version=\"1.1\" xmlns=\"http://www.w3.org/2000/svg\">\n",
       "<g id=\"qubit_lines\">\n",
       "<path id=\"qubit_line:0\" d=\"M64,64 L4032,64 \" stroke=\"black\"/>\n",
       "<text dominant-baseline=\"central\" text-anchor=\"end\" font-family=\"monospace\" font-size=\"12\" x=\"64\" y=\"64\">q0</text>\n",
       "<path id=\"qubit_line:1\" d=\"M64,128 L4032,128 \" stroke=\"black\"/>\n",
       "<text dominant-baseline=\"central\" text-anchor=\"end\" font-family=\"monospace\" font-size=\"12\" x=\"64\" y=\"128\">q1</text>\n",
       "<path id=\"qubit_line:2\" d=\"M64,192 L4032,192 \" stroke=\"black\"/>\n",
       "<text dominant-baseline=\"central\" text-anchor=\"end\" font-family=\"monospace\" font-size=\"12\" x=\"64\" y=\"192\">q2</text>\n",
       "<path id=\"qubit_line:3\" d=\"M64,256 L4032,256 \" stroke=\"black\"/>\n",
       "<text dominant-baseline=\"central\" text-anchor=\"end\" font-family=\"monospace\" font-size=\"12\" x=\"64\" y=\"256\">q3</text>\n",
       "<path id=\"qubit_line:4\" d=\"M64,320 L4032,320 \" stroke=\"black\"/>\n",
       "<text dominant-baseline=\"central\" text-anchor=\"end\" font-family=\"monospace\" font-size=\"12\" x=\"64\" y=\"320\">q4</text>\n",
       "<path id=\"qubit_line:5\" d=\"M64,384 L4032,384 \" stroke=\"black\"/>\n",
       "<text dominant-baseline=\"central\" text-anchor=\"end\" font-family=\"monospace\" font-size=\"12\" x=\"64\" y=\"384\">q5</text>\n",
       "<path id=\"qubit_line:6\" d=\"M64,448 L4032,448 \" stroke=\"black\"/>\n",
       "<text dominant-baseline=\"central\" text-anchor=\"end\" font-family=\"monospace\" font-size=\"12\" x=\"64\" y=\"448\">q6</text>\n",
       "<path id=\"qubit_line:7\" d=\"M64,512 L4032,512 \" stroke=\"black\"/>\n",
       "<text dominant-baseline=\"central\" text-anchor=\"end\" font-family=\"monospace\" font-size=\"12\" x=\"64\" y=\"512\">q7</text>\n",
       "<path id=\"qubit_line:8\" d=\"M64,576 L4032,576 \" stroke=\"black\"/>\n",
       "<text dominant-baseline=\"central\" text-anchor=\"end\" font-family=\"monospace\" font-size=\"12\" x=\"64\" y=\"576\">q8</text>\n",
       "<path id=\"qubit_line:9\" d=\"M64,640 L4032,640 \" stroke=\"black\"/>\n",
       "<text dominant-baseline=\"central\" text-anchor=\"end\" font-family=\"monospace\" font-size=\"12\" x=\"64\" y=\"640\">q9</text>\n",
       "<path id=\"qubit_line:10\" d=\"M64,704 L4032,704 \" stroke=\"black\"/>\n",
       "<text dominant-baseline=\"central\" text-anchor=\"end\" font-family=\"monospace\" font-size=\"12\" x=\"64\" y=\"704\">q10</text>\n",
       "<path id=\"qubit_line:11\" d=\"M64,768 L4032,768 \" stroke=\"black\"/>\n",
       "<text dominant-baseline=\"central\" text-anchor=\"end\" font-family=\"monospace\" font-size=\"12\" x=\"64\" y=\"768\">q11</text>\n",
       "<path id=\"qubit_line:12\" d=\"M64,832 L4032,832 \" stroke=\"black\"/>\n",
       "<text dominant-baseline=\"central\" text-anchor=\"end\" font-family=\"monospace\" font-size=\"12\" x=\"64\" y=\"832\">q12</text>\n",
       "<path id=\"qubit_line:13\" d=\"M64,896 L4032,896 \" stroke=\"black\"/>\n",
       "<text dominant-baseline=\"central\" text-anchor=\"end\" font-family=\"monospace\" font-size=\"12\" x=\"64\" y=\"896\">q13</text>\n",
       "<path id=\"qubit_line:14\" d=\"M64,960 L4032,960 \" stroke=\"black\"/>\n",
       "<text dominant-baseline=\"central\" text-anchor=\"end\" font-family=\"monospace\" font-size=\"12\" x=\"64\" y=\"960\">q14</text>\n",
       "<path id=\"qubit_line:15\" d=\"M64,1024 L4032,1024 \" stroke=\"black\"/>\n",
       "<text dominant-baseline=\"central\" text-anchor=\"end\" font-family=\"monospace\" font-size=\"12\" x=\"64\" y=\"1024\">q15</text>\n",
       "<path id=\"qubit_line:16\" d=\"M64,1088 L4032,1088 \" stroke=\"black\"/>\n",
       "<text dominant-baseline=\"central\" text-anchor=\"end\" font-family=\"monospace\" font-size=\"12\" x=\"64\" y=\"1088\">q16</text>\n",
       "<path id=\"qubit_line:17\" d=\"M64,1152 L4032,1152 \" stroke=\"black\"/>\n",
       "<text dominant-baseline=\"central\" text-anchor=\"end\" font-family=\"monospace\" font-size=\"12\" x=\"64\" y=\"1152\">q17</text>\n",
       "<path id=\"qubit_line:18\" d=\"M64,1216 L4032,1216 \" stroke=\"black\"/>\n",
       "<text dominant-baseline=\"central\" text-anchor=\"end\" font-family=\"monospace\" font-size=\"12\" x=\"64\" y=\"1216\">q18</text>\n",
       "<path id=\"qubit_line:19\" d=\"M64,1280 L4032,1280 \" stroke=\"black\"/>\n",
       "<text dominant-baseline=\"central\" text-anchor=\"end\" font-family=\"monospace\" font-size=\"12\" x=\"64\" y=\"1280\">q19</text>\n",
       "<path id=\"qubit_line:20\" d=\"M64,1344 L4032,1344 \" stroke=\"black\"/>\n",
       "<text dominant-baseline=\"central\" text-anchor=\"end\" font-family=\"monospace\" font-size=\"12\" x=\"64\" y=\"1344\">q20</text>\n",
       "<path id=\"qubit_line:21\" d=\"M64,1408 L4032,1408 \" stroke=\"black\"/>\n",
       "<text dominant-baseline=\"central\" text-anchor=\"end\" font-family=\"monospace\" font-size=\"12\" x=\"64\" y=\"1408\">q21</text>\n",
       "<path id=\"qubit_line:22\" d=\"M64,1472 L4032,1472 \" stroke=\"black\"/>\n",
       "<text dominant-baseline=\"central\" text-anchor=\"end\" font-family=\"monospace\" font-size=\"12\" x=\"64\" y=\"1472\">q22</text>\n",
       "<path id=\"qubit_line:23\" d=\"M64,1536 L4032,1536 \" stroke=\"black\"/>\n",
       "<text dominant-baseline=\"central\" text-anchor=\"end\" font-family=\"monospace\" font-size=\"12\" x=\"64\" y=\"1536\">q23</text>\n",
       "<path id=\"qubit_line:24\" d=\"M64,1600 L4032,1600 \" stroke=\"black\"/>\n",
       "<text dominant-baseline=\"central\" text-anchor=\"end\" font-family=\"monospace\" font-size=\"12\" x=\"64\" y=\"1600\">q24</text>\n",
       "<path id=\"qubit_line:25\" d=\"M64,1664 L4032,1664 \" stroke=\"black\"/>\n",
       "<text dominant-baseline=\"central\" text-anchor=\"end\" font-family=\"monospace\" font-size=\"12\" x=\"64\" y=\"1664\">q25</text>\n",
       "<path id=\"qubit_line:26\" d=\"M64,1728 L4032,1728 \" stroke=\"black\"/>\n",
       "<text dominant-baseline=\"central\" text-anchor=\"end\" font-family=\"monospace\" font-size=\"12\" x=\"64\" y=\"1728\">q26</text>\n",
       "<path id=\"qubit_line:27\" d=\"M64,1792 L4032,1792 \" stroke=\"black\"/>\n",
       "<text dominant-baseline=\"central\" text-anchor=\"end\" font-family=\"monospace\" font-size=\"12\" x=\"64\" y=\"1792\">q27</text>\n",
       "<path id=\"qubit_line:28\" d=\"M64,1856 L4032,1856 \" stroke=\"black\"/>\n",
       "<text dominant-baseline=\"central\" text-anchor=\"end\" font-family=\"monospace\" font-size=\"12\" x=\"64\" y=\"1856\">q28</text>\n",
       "<path id=\"qubit_line:29\" d=\"M64,1920 L4032,1920 \" stroke=\"black\"/>\n",
       "<text dominant-baseline=\"central\" text-anchor=\"end\" font-family=\"monospace\" font-size=\"12\" x=\"64\" y=\"1920\">q29</text>\n",
       "<path id=\"qubit_line:30\" d=\"M64,1984 L4032,1984 \" stroke=\"black\"/>\n",
       "<text dominant-baseline=\"central\" text-anchor=\"end\" font-family=\"monospace\" font-size=\"12\" x=\"64\" y=\"1984\">q30</text>\n",
       "<path id=\"qubit_line:31\" d=\"M64,2048 L4032,2048 \" stroke=\"black\"/>\n",
       "<text dominant-baseline=\"central\" text-anchor=\"end\" font-family=\"monospace\" font-size=\"12\" x=\"64\" y=\"2048\">q31</text>\n",
       "<path id=\"qubit_line:32\" d=\"M64,2112 L4032,2112 \" stroke=\"black\"/>\n",
       "<text dominant-baseline=\"central\" text-anchor=\"end\" font-family=\"monospace\" font-size=\"12\" x=\"64\" y=\"2112\">q32</text>\n",
       "<path id=\"qubit_line:33\" d=\"M64,2176 L4032,2176 \" stroke=\"black\"/>\n",
       "<text dominant-baseline=\"central\" text-anchor=\"end\" font-family=\"monospace\" font-size=\"12\" x=\"64\" y=\"2176\">q33</text>\n",
       "<path id=\"qubit_line:34\" d=\"M64,2240 L4032,2240 \" stroke=\"black\"/>\n",
       "<text dominant-baseline=\"central\" text-anchor=\"end\" font-family=\"monospace\" font-size=\"12\" x=\"64\" y=\"2240\">q34</text>\n",
       "<path id=\"qubit_line:35\" d=\"M64,2304 L4032,2304 \" stroke=\"black\"/>\n",
       "<text dominant-baseline=\"central\" text-anchor=\"end\" font-family=\"monospace\" font-size=\"12\" x=\"64\" y=\"2304\">q35</text>\n",
       "<path id=\"qubit_line:36\" d=\"M64,2368 L4032,2368 \" stroke=\"black\"/>\n",
       "<text dominant-baseline=\"central\" text-anchor=\"end\" font-family=\"monospace\" font-size=\"12\" x=\"64\" y=\"2368\">q36</text>\n",
       "<path id=\"qubit_line:37\" d=\"M64,2432 L4032,2432 \" stroke=\"black\"/>\n",
       "<text dominant-baseline=\"central\" text-anchor=\"end\" font-family=\"monospace\" font-size=\"12\" x=\"64\" y=\"2432\">q37</text>\n",
       "<path id=\"qubit_line:38\" d=\"M64,2496 L4032,2496 \" stroke=\"black\"/>\n",
       "<text dominant-baseline=\"central\" text-anchor=\"end\" font-family=\"monospace\" font-size=\"12\" x=\"64\" y=\"2496\">q38</text>\n",
       "<path id=\"qubit_line:39\" d=\"M64,2560 L4032,2560 \" stroke=\"black\"/>\n",
       "<text dominant-baseline=\"central\" text-anchor=\"end\" font-family=\"monospace\" font-size=\"12\" x=\"64\" y=\"2560\">q39</text>\n",
       "<path id=\"qubit_line:40\" d=\"M64,2624 L4032,2624 \" stroke=\"black\"/>\n",
       "<text dominant-baseline=\"central\" text-anchor=\"end\" font-family=\"monospace\" font-size=\"12\" x=\"64\" y=\"2624\">q40</text>\n",
       "<path id=\"qubit_line:41\" d=\"M64,2688 L4032,2688 \" stroke=\"black\"/>\n",
       "<text dominant-baseline=\"central\" text-anchor=\"end\" font-family=\"monospace\" font-size=\"12\" x=\"64\" y=\"2688\">q41</text>\n",
       "<path id=\"qubit_line:42\" d=\"M64,2752 L4032,2752 \" stroke=\"black\"/>\n",
       "<text dominant-baseline=\"central\" text-anchor=\"end\" font-family=\"monospace\" font-size=\"12\" x=\"64\" y=\"2752\">q42</text>\n",
       "<path id=\"qubit_line:43\" d=\"M64,2816 L4032,2816 \" stroke=\"black\"/>\n",
       "<text dominant-baseline=\"central\" text-anchor=\"end\" font-family=\"monospace\" font-size=\"12\" x=\"64\" y=\"2816\">q43</text>\n",
       "<path id=\"qubit_line:44\" d=\"M64,2880 L4032,2880 \" stroke=\"black\"/>\n",
       "<text dominant-baseline=\"central\" text-anchor=\"end\" font-family=\"monospace\" font-size=\"12\" x=\"64\" y=\"2880\">q44</text>\n",
       "<path id=\"qubit_line:45\" d=\"M64,2944 L4032,2944 \" stroke=\"black\"/>\n",
       "<text dominant-baseline=\"central\" text-anchor=\"end\" font-family=\"monospace\" font-size=\"12\" x=\"64\" y=\"2944\">q45</text>\n",
       "<path id=\"qubit_line:46\" d=\"M64,3008 L4032,3008 \" stroke=\"black\"/>\n",
       "<text dominant-baseline=\"central\" text-anchor=\"end\" font-family=\"monospace\" font-size=\"12\" x=\"64\" y=\"3008\">q46</text>\n",
       "<path id=\"qubit_line:47\" d=\"M64,3072 L4032,3072 \" stroke=\"black\"/>\n",
       "<text dominant-baseline=\"central\" text-anchor=\"end\" font-family=\"monospace\" font-size=\"12\" x=\"64\" y=\"3072\">q47</text>\n",
       "<path id=\"qubit_line:48\" d=\"M64,3136 L4032,3136 \" stroke=\"black\"/>\n",
       "<text dominant-baseline=\"central\" text-anchor=\"end\" font-family=\"monospace\" font-size=\"12\" x=\"64\" y=\"3136\">q48</text>\n",
       "<path id=\"qubit_line:49\" d=\"M64,3200 L4032,3200 \" stroke=\"black\"/>\n",
       "<text dominant-baseline=\"central\" text-anchor=\"end\" font-family=\"monospace\" font-size=\"12\" x=\"64\" y=\"3200\">q49</text>\n",
       "<path id=\"qubit_line:50\" d=\"M64,3264 L4032,3264 \" stroke=\"black\"/>\n",
       "<text dominant-baseline=\"central\" text-anchor=\"end\" font-family=\"monospace\" font-size=\"12\" x=\"64\" y=\"3264\">q50</text>\n",
       "<path id=\"qubit_line:51\" d=\"M64,3328 L4032,3328 \" stroke=\"black\"/>\n",
       "<text dominant-baseline=\"central\" text-anchor=\"end\" font-family=\"monospace\" font-size=\"12\" x=\"64\" y=\"3328\">q51</text>\n",
       "<path id=\"qubit_line:52\" d=\"M64,3392 L4032,3392 \" stroke=\"black\"/>\n",
       "<text dominant-baseline=\"central\" text-anchor=\"end\" font-family=\"monospace\" font-size=\"12\" x=\"64\" y=\"3392\">q52</text>\n",
       "</g>\n",
       "<rect x=\"80\" y=\"48\" width=\"224\" height=\"32\" stroke=\"black\" fill=\"white\"/>\n",
       "<text dominant-baseline=\"central\" text-anchor=\"middle\" font-family=\"monospace\" font-size=\"16\" x=\"192\" y=\"64\">COORDS(1,1)</text>\n",
       "<rect x=\"80\" y=\"112\" width=\"224\" height=\"32\" stroke=\"black\" fill=\"white\"/>\n",
       "<text dominant-baseline=\"central\" text-anchor=\"middle\" font-family=\"monospace\" font-size=\"16\" x=\"192\" y=\"128\">COORDS(1,2)</text>\n",
       "<rect x=\"80\" y=\"176\" width=\"224\" height=\"32\" stroke=\"black\" fill=\"white\"/>\n",
       "<text dominant-baseline=\"central\" text-anchor=\"middle\" font-family=\"monospace\" font-size=\"16\" x=\"192\" y=\"192\">COORDS(1,3)</text>\n",
       "<rect x=\"80\" y=\"240\" width=\"224\" height=\"32\" stroke=\"black\" fill=\"white\"/>\n",
       "<text dominant-baseline=\"central\" text-anchor=\"middle\" font-family=\"monospace\" font-size=\"16\" x=\"192\" y=\"256\">COORDS(2,1)</text>\n",
       "<rect x=\"80\" y=\"304\" width=\"224\" height=\"32\" stroke=\"black\" fill=\"white\"/>\n",
       "<text dominant-baseline=\"central\" text-anchor=\"middle\" font-family=\"monospace\" font-size=\"16\" x=\"192\" y=\"320\">COORDS(2,2)</text>\n",
       "<rect x=\"80\" y=\"368\" width=\"224\" height=\"32\" stroke=\"black\" fill=\"white\"/>\n",
       "<text dominant-baseline=\"central\" text-anchor=\"middle\" font-family=\"monospace\" font-size=\"16\" x=\"192\" y=\"384\">COORDS(2,3)</text>\n",
       "<rect x=\"80\" y=\"432\" width=\"224\" height=\"32\" stroke=\"black\" fill=\"white\"/>\n",
       "<text dominant-baseline=\"central\" text-anchor=\"middle\" font-family=\"monospace\" font-size=\"16\" x=\"192\" y=\"448\">COORDS(3,1)</text>\n",
       "<rect x=\"80\" y=\"496\" width=\"224\" height=\"32\" stroke=\"black\" fill=\"white\"/>\n",
       "<text dominant-baseline=\"central\" text-anchor=\"middle\" font-family=\"monospace\" font-size=\"16\" x=\"192\" y=\"512\">COORDS(3,2)</text>\n",
       "<rect x=\"80\" y=\"560\" width=\"224\" height=\"32\" stroke=\"black\" fill=\"white\"/>\n",
       "<text dominant-baseline=\"central\" text-anchor=\"middle\" font-family=\"monospace\" font-size=\"16\" x=\"192\" y=\"576\">COORDS(3,3)</text>\n",
       "<rect x=\"80\" y=\"624\" width=\"224\" height=\"32\" stroke=\"black\" fill=\"white\"/>\n",
       "<text dominant-baseline=\"central\" text-anchor=\"middle\" font-family=\"monospace\" font-size=\"16\" x=\"192\" y=\"640\">COORDS(4,1)</text>\n",
       "<rect x=\"80\" y=\"688\" width=\"224\" height=\"32\" stroke=\"black\" fill=\"white\"/>\n",
       "<text dominant-baseline=\"central\" text-anchor=\"middle\" font-family=\"monospace\" font-size=\"16\" x=\"192\" y=\"704\">COORDS(4,2)</text>\n",
       "<rect x=\"80\" y=\"752\" width=\"224\" height=\"32\" stroke=\"black\" fill=\"white\"/>\n",
       "<text dominant-baseline=\"central\" text-anchor=\"middle\" font-family=\"monospace\" font-size=\"16\" x=\"192\" y=\"768\">COORDS(4,3)</text>\n",
       "<rect x=\"80\" y=\"816\" width=\"224\" height=\"32\" stroke=\"black\" fill=\"white\"/>\n",
       "<text dominant-baseline=\"central\" text-anchor=\"middle\" font-family=\"monospace\" font-size=\"16\" x=\"192\" y=\"832\">COORDS(5,1)</text>\n",
       "<rect x=\"80\" y=\"880\" width=\"224\" height=\"32\" stroke=\"black\" fill=\"white\"/>\n",
       "<text dominant-baseline=\"central\" text-anchor=\"middle\" font-family=\"monospace\" font-size=\"16\" x=\"192\" y=\"896\">COORDS(5,2)</text>\n",
       "<rect x=\"80\" y=\"944\" width=\"224\" height=\"32\" stroke=\"black\" fill=\"white\"/>\n",
       "<text dominant-baseline=\"central\" text-anchor=\"middle\" font-family=\"monospace\" font-size=\"16\" x=\"192\" y=\"960\">COORDS(5,3)</text>\n",
       "<rect x=\"80\" y=\"1008\" width=\"224\" height=\"32\" stroke=\"black\" fill=\"white\"/>\n",
       "<text dominant-baseline=\"central\" text-anchor=\"middle\" font-family=\"monospace\" font-size=\"16\" x=\"192\" y=\"1024\">COORDS(6,1)</text>\n",
       "<rect x=\"80\" y=\"1072\" width=\"224\" height=\"32\" stroke=\"black\" fill=\"white\"/>\n",
       "<text dominant-baseline=\"central\" text-anchor=\"middle\" font-family=\"monospace\" font-size=\"16\" x=\"192\" y=\"1088\">COORDS(6,2)</text>\n",
       "<rect x=\"80\" y=\"1136\" width=\"224\" height=\"32\" stroke=\"black\" fill=\"white\"/>\n",
       "<text dominant-baseline=\"central\" text-anchor=\"middle\" font-family=\"monospace\" font-size=\"16\" x=\"192\" y=\"1152\">COORDS(6,3)</text>\n",
       "<rect x=\"80\" y=\"1200\" width=\"224\" height=\"32\" stroke=\"black\" fill=\"white\"/>\n",
       "<text dominant-baseline=\"central\" text-anchor=\"middle\" font-family=\"monospace\" font-size=\"16\" x=\"192\" y=\"1216\">COORDS(7,1)</text>\n",
       "<rect x=\"80\" y=\"1264\" width=\"224\" height=\"32\" stroke=\"black\" fill=\"white\"/>\n",
       "<text dominant-baseline=\"central\" text-anchor=\"middle\" font-family=\"monospace\" font-size=\"16\" x=\"192\" y=\"1280\">COORDS(7,2)</text>\n",
       "<rect x=\"80\" y=\"1328\" width=\"224\" height=\"32\" stroke=\"black\" fill=\"white\"/>\n",
       "<text dominant-baseline=\"central\" text-anchor=\"middle\" font-family=\"monospace\" font-size=\"16\" x=\"192\" y=\"1344\">COORDS(7,3)</text>\n",
       "<rect x=\"80\" y=\"1392\" width=\"224\" height=\"32\" stroke=\"black\" fill=\"white\"/>\n",
       "<text dominant-baseline=\"central\" text-anchor=\"middle\" font-family=\"monospace\" font-size=\"16\" x=\"192\" y=\"1408\">COORDS(0.5,0.5)</text>\n",
       "<rect x=\"80\" y=\"1456\" width=\"224\" height=\"32\" stroke=\"black\" fill=\"white\"/>\n",
       "<text dominant-baseline=\"central\" text-anchor=\"middle\" font-family=\"monospace\" font-size=\"16\" x=\"192\" y=\"1472\">COORDS(0.5,1.5)</text>\n",
       "<rect x=\"80\" y=\"1520\" width=\"224\" height=\"32\" stroke=\"black\" fill=\"white\"/>\n",
       "<text dominant-baseline=\"central\" text-anchor=\"middle\" font-family=\"monospace\" font-size=\"16\" x=\"192\" y=\"1536\">COORDS(0.5,2.5)</text>\n",
       "<rect x=\"80\" y=\"1584\" width=\"224\" height=\"32\" stroke=\"black\" fill=\"white\"/>\n",
       "<text dominant-baseline=\"central\" text-anchor=\"middle\" font-family=\"monospace\" font-size=\"16\" x=\"192\" y=\"1600\">COORDS(0.5,3.5)</text>\n",
       "<rect x=\"80\" y=\"1648\" width=\"224\" height=\"32\" stroke=\"black\" fill=\"white\"/>\n",
       "<text dominant-baseline=\"central\" text-anchor=\"middle\" font-family=\"monospace\" font-size=\"16\" x=\"192\" y=\"1664\">COORDS(1.5,0.5)</text>\n",
       "<rect x=\"80\" y=\"1712\" width=\"224\" height=\"32\" stroke=\"black\" fill=\"white\"/>\n",
       "<text dominant-baseline=\"central\" text-anchor=\"middle\" font-family=\"monospace\" font-size=\"16\" x=\"192\" y=\"1728\">COORDS(1.5,1.5)</text>\n",
       "<rect x=\"80\" y=\"1776\" width=\"224\" height=\"32\" stroke=\"black\" fill=\"white\"/>\n",
       "<text dominant-baseline=\"central\" text-anchor=\"middle\" font-family=\"monospace\" font-size=\"16\" x=\"192\" y=\"1792\">COORDS(1.5,2.5)</text>\n",
       "<rect x=\"80\" y=\"1840\" width=\"224\" height=\"32\" stroke=\"black\" fill=\"white\"/>\n",
       "<text dominant-baseline=\"central\" text-anchor=\"middle\" font-family=\"monospace\" font-size=\"16\" x=\"192\" y=\"1856\">COORDS(1.5,3.5)</text>\n",
       "<rect x=\"80\" y=\"1904\" width=\"224\" height=\"32\" stroke=\"black\" fill=\"white\"/>\n",
       "<text dominant-baseline=\"central\" text-anchor=\"middle\" font-family=\"monospace\" font-size=\"16\" x=\"192\" y=\"1920\">COORDS(2.5,0.5)</text>\n",
       "<rect x=\"80\" y=\"1968\" width=\"224\" height=\"32\" stroke=\"black\" fill=\"white\"/>\n",
       "<text dominant-baseline=\"central\" text-anchor=\"middle\" font-family=\"monospace\" font-size=\"16\" x=\"192\" y=\"1984\">COORDS(2.5,1.5)</text>\n",
       "<rect x=\"80\" y=\"2032\" width=\"224\" height=\"32\" stroke=\"black\" fill=\"white\"/>\n",
       "<text dominant-baseline=\"central\" text-anchor=\"middle\" font-family=\"monospace\" font-size=\"16\" x=\"192\" y=\"2048\">COORDS(2.5,2.5)</text>\n",
       "<rect x=\"80\" y=\"2096\" width=\"224\" height=\"32\" stroke=\"black\" fill=\"white\"/>\n",
       "<text dominant-baseline=\"central\" text-anchor=\"middle\" font-family=\"monospace\" font-size=\"16\" x=\"192\" y=\"2112\">COORDS(2.5,3.5)</text>\n",
       "<rect x=\"80\" y=\"2160\" width=\"224\" height=\"32\" stroke=\"black\" fill=\"white\"/>\n",
       "<text dominant-baseline=\"central\" text-anchor=\"middle\" font-family=\"monospace\" font-size=\"16\" x=\"192\" y=\"2176\">COORDS(3.5,0.5)</text>\n",
       "<rect x=\"80\" y=\"2224\" width=\"224\" height=\"32\" stroke=\"black\" fill=\"white\"/>\n",
       "<text dominant-baseline=\"central\" text-anchor=\"middle\" font-family=\"monospace\" font-size=\"16\" x=\"192\" y=\"2240\">COORDS(3.5,1.5)</text>\n",
       "<rect x=\"80\" y=\"2288\" width=\"224\" height=\"32\" stroke=\"black\" fill=\"white\"/>\n",
       "<text dominant-baseline=\"central\" text-anchor=\"middle\" font-family=\"monospace\" font-size=\"16\" x=\"192\" y=\"2304\">COORDS(3.5,2.5)</text>\n",
       "<rect x=\"80\" y=\"2352\" width=\"224\" height=\"32\" stroke=\"black\" fill=\"white\"/>\n",
       "<text dominant-baseline=\"central\" text-anchor=\"middle\" font-family=\"monospace\" font-size=\"16\" x=\"192\" y=\"2368\">COORDS(3.5,3.5)</text>\n",
       "<rect x=\"80\" y=\"2416\" width=\"224\" height=\"32\" stroke=\"black\" fill=\"white\"/>\n",
       "<text dominant-baseline=\"central\" text-anchor=\"middle\" font-family=\"monospace\" font-size=\"16\" x=\"192\" y=\"2432\">COORDS(4.5,0.5)</text>\n",
       "<rect x=\"80\" y=\"2480\" width=\"224\" height=\"32\" stroke=\"black\" fill=\"white\"/>\n",
       "<text dominant-baseline=\"central\" text-anchor=\"middle\" font-family=\"monospace\" font-size=\"16\" x=\"192\" y=\"2496\">COORDS(4.5,1.5)</text>\n",
       "<rect x=\"80\" y=\"2544\" width=\"224\" height=\"32\" stroke=\"black\" fill=\"white\"/>\n",
       "<text dominant-baseline=\"central\" text-anchor=\"middle\" font-family=\"monospace\" font-size=\"16\" x=\"192\" y=\"2560\">COORDS(4.5,2.5)</text>\n",
       "<rect x=\"80\" y=\"2608\" width=\"224\" height=\"32\" stroke=\"black\" fill=\"white\"/>\n",
       "<text dominant-baseline=\"central\" text-anchor=\"middle\" font-family=\"monospace\" font-size=\"16\" x=\"192\" y=\"2624\">COORDS(4.5,3.5)</text>\n",
       "<rect x=\"80\" y=\"2672\" width=\"224\" height=\"32\" stroke=\"black\" fill=\"white\"/>\n",
       "<text dominant-baseline=\"central\" text-anchor=\"middle\" font-family=\"monospace\" font-size=\"16\" x=\"192\" y=\"2688\">COORDS(5.5,0.5)</text>\n",
       "<rect x=\"80\" y=\"2736\" width=\"224\" height=\"32\" stroke=\"black\" fill=\"white\"/>\n",
       "<text dominant-baseline=\"central\" text-anchor=\"middle\" font-family=\"monospace\" font-size=\"16\" x=\"192\" y=\"2752\">COORDS(5.5,1.5)</text>\n",
       "<rect x=\"80\" y=\"2800\" width=\"224\" height=\"32\" stroke=\"black\" fill=\"white\"/>\n",
       "<text dominant-baseline=\"central\" text-anchor=\"middle\" font-family=\"monospace\" font-size=\"16\" x=\"192\" y=\"2816\">COORDS(5.5,2.5)</text>\n",
       "<rect x=\"80\" y=\"2864\" width=\"224\" height=\"32\" stroke=\"black\" fill=\"white\"/>\n",
       "<text dominant-baseline=\"central\" text-anchor=\"middle\" font-family=\"monospace\" font-size=\"16\" x=\"192\" y=\"2880\">COORDS(5.5,3.5)</text>\n",
       "<rect x=\"80\" y=\"2928\" width=\"224\" height=\"32\" stroke=\"black\" fill=\"white\"/>\n",
       "<text dominant-baseline=\"central\" text-anchor=\"middle\" font-family=\"monospace\" font-size=\"16\" x=\"192\" y=\"2944\">COORDS(6.5,0.5)</text>\n",
       "<rect x=\"80\" y=\"2992\" width=\"224\" height=\"32\" stroke=\"black\" fill=\"white\"/>\n",
       "<text dominant-baseline=\"central\" text-anchor=\"middle\" font-family=\"monospace\" font-size=\"16\" x=\"192\" y=\"3008\">COORDS(6.5,1.5)</text>\n",
       "<rect x=\"80\" y=\"3056\" width=\"224\" height=\"32\" stroke=\"black\" fill=\"white\"/>\n",
       "<text dominant-baseline=\"central\" text-anchor=\"middle\" font-family=\"monospace\" font-size=\"16\" x=\"192\" y=\"3072\">COORDS(6.5,2.5)</text>\n",
       "<rect x=\"80\" y=\"3120\" width=\"224\" height=\"32\" stroke=\"black\" fill=\"white\"/>\n",
       "<text dominant-baseline=\"central\" text-anchor=\"middle\" font-family=\"monospace\" font-size=\"16\" x=\"192\" y=\"3136\">COORDS(6.5,3.5)</text>\n",
       "<rect x=\"80\" y=\"3184\" width=\"224\" height=\"32\" stroke=\"black\" fill=\"white\"/>\n",
       "<text dominant-baseline=\"central\" text-anchor=\"middle\" font-family=\"monospace\" font-size=\"16\" x=\"192\" y=\"3200\">COORDS(7.5,0.5)</text>\n",
       "<rect x=\"80\" y=\"3248\" width=\"224\" height=\"32\" stroke=\"black\" fill=\"white\"/>\n",
       "<text dominant-baseline=\"central\" text-anchor=\"middle\" font-family=\"monospace\" font-size=\"16\" x=\"192\" y=\"3264\">COORDS(7.5,1.5)</text>\n",
       "<rect x=\"80\" y=\"3312\" width=\"224\" height=\"32\" stroke=\"black\" fill=\"white\"/>\n",
       "<text dominant-baseline=\"central\" text-anchor=\"middle\" font-family=\"monospace\" font-size=\"16\" x=\"192\" y=\"3328\">COORDS(7.5,2.5)</text>\n",
       "<rect x=\"80\" y=\"3376\" width=\"224\" height=\"32\" stroke=\"black\" fill=\"white\"/>\n",
       "<text dominant-baseline=\"central\" text-anchor=\"middle\" font-family=\"monospace\" font-size=\"16\" x=\"192\" y=\"3392\">COORDS(7.5,3.5)</text>\n",
       "<rect x=\"336\" y=\"112\" width=\"32\" height=\"32\" stroke=\"black\" fill=\"black\"/>\n",
       "<text dominant-baseline=\"central\" text-anchor=\"middle\" font-family=\"monospace\" font-size=\"30\" x=\"352\" y=\"128\" fill=\"white\">R</text>\n",
       "<rect x=\"336\" y=\"176\" width=\"32\" height=\"32\" stroke=\"black\" fill=\"black\"/>\n",
       "<text dominant-baseline=\"central\" text-anchor=\"middle\" font-family=\"monospace\" font-size=\"30\" x=\"352\" y=\"192\" fill=\"white\">R</text>\n",
       "<rect x=\"336\" y=\"304\" width=\"32\" height=\"32\" stroke=\"black\" fill=\"black\"/>\n",
       "<text dominant-baseline=\"central\" text-anchor=\"middle\" font-family=\"monospace\" font-size=\"30\" x=\"352\" y=\"320\" fill=\"white\">R</text>\n",
       "<rect x=\"336\" y=\"368\" width=\"32\" height=\"32\" stroke=\"black\" fill=\"black\"/>\n",
       "<text dominant-baseline=\"central\" text-anchor=\"middle\" font-family=\"monospace\" font-size=\"30\" x=\"352\" y=\"384\" fill=\"white\">R</text>\n",
       "<rect x=\"336\" y=\"240\" width=\"32\" height=\"32\" stroke=\"black\" fill=\"black\"/>\n",
       "<text dominant-baseline=\"central\" text-anchor=\"middle\" font-family=\"monospace\" font-size=\"30\" x=\"352\" y=\"256\" fill=\"white\">R</text>\n",
       "<rect x=\"336\" y=\"432\" width=\"32\" height=\"32\" stroke=\"black\" fill=\"black\"/>\n",
       "<text dominant-baseline=\"central\" text-anchor=\"middle\" font-family=\"monospace\" font-size=\"30\" x=\"352\" y=\"448\" fill=\"white\">R</text>\n",
       "<rect x=\"336\" y=\"496\" width=\"32\" height=\"32\" stroke=\"black\" fill=\"black\"/>\n",
       "<text dominant-baseline=\"central\" text-anchor=\"middle\" font-family=\"monospace\" font-size=\"30\" x=\"352\" y=\"512\" fill=\"white\">R</text>\n",
       "<rect x=\"336\" y=\"48\" width=\"32\" height=\"32\" stroke=\"black\" fill=\"black\"/>\n",
       "<text dominant-baseline=\"central\" text-anchor=\"middle\" font-family=\"monospace\" font-size=\"30\" x=\"352\" y=\"64\" fill=\"white\">R</text>\n",
       "<rect x=\"336\" y=\"560\" width=\"32\" height=\"32\" stroke=\"black\" fill=\"black\"/>\n",
       "<text dominant-baseline=\"central\" text-anchor=\"middle\" font-family=\"monospace\" font-size=\"30\" x=\"352\" y=\"576\" fill=\"white\">R</text>\n",
       "<rect x=\"400\" y=\"48\" width=\"32\" height=\"32\" stroke=\"black\" fill=\"white\"/>\n",
       "<text dominant-baseline=\"central\" text-anchor=\"middle\" font-family=\"monospace\" font-size=\"30\" x=\"416\" y=\"64\">X</text>\n",
       "<rect x=\"400\" y=\"240\" width=\"32\" height=\"32\" stroke=\"black\" fill=\"white\"/>\n",
       "<text dominant-baseline=\"central\" text-anchor=\"middle\" font-family=\"monospace\" font-size=\"30\" x=\"416\" y=\"256\">X</text>\n",
       "<rect x=\"400\" y=\"432\" width=\"32\" height=\"32\" stroke=\"black\" fill=\"white\"/>\n",
       "<text dominant-baseline=\"central\" text-anchor=\"middle\" font-family=\"monospace\" font-size=\"30\" x=\"416\" y=\"448\">X</text>\n",
       "<path d=\"M68,40 L68,32 L444,32 L444,40 \" stroke=\"black\" fill=\"none\"/>\n",
       "<path d=\"M68,3448 L68,3456 L444,3456 L444,3448 \" stroke=\"black\" fill=\"none\"/>\n",
       "<rect x=\"528\" y=\"880\" width=\"32\" height=\"32\" stroke=\"black\" fill=\"black\"/>\n",
       "<text dominant-baseline=\"central\" text-anchor=\"middle\" font-family=\"monospace\" font-size=\"30\" x=\"544\" y=\"896\" fill=\"white\">R</text>\n",
       "<rect x=\"528\" y=\"944\" width=\"32\" height=\"32\" stroke=\"black\" fill=\"black\"/>\n",
       "<text dominant-baseline=\"central\" text-anchor=\"middle\" font-family=\"monospace\" font-size=\"30\" x=\"544\" y=\"960\" fill=\"white\">R</text>\n",
       "<rect x=\"528\" y=\"1072\" width=\"32\" height=\"32\" stroke=\"black\" fill=\"black\"/>\n",
       "<text dominant-baseline=\"central\" text-anchor=\"middle\" font-family=\"monospace\" font-size=\"30\" x=\"544\" y=\"1088\" fill=\"white\">R</text>\n",
       "<rect x=\"528\" y=\"1136\" width=\"32\" height=\"32\" stroke=\"black\" fill=\"black\"/>\n",
       "<text dominant-baseline=\"central\" text-anchor=\"middle\" font-family=\"monospace\" font-size=\"30\" x=\"544\" y=\"1152\" fill=\"white\">R</text>\n",
       "<rect x=\"528\" y=\"1008\" width=\"32\" height=\"32\" stroke=\"black\" fill=\"black\"/>\n",
       "<text dominant-baseline=\"central\" text-anchor=\"middle\" font-family=\"monospace\" font-size=\"30\" x=\"544\" y=\"1024\" fill=\"white\">R</text>\n",
       "<rect x=\"528\" y=\"1200\" width=\"32\" height=\"32\" stroke=\"black\" fill=\"black\"/>\n",
       "<text dominant-baseline=\"central\" text-anchor=\"middle\" font-family=\"monospace\" font-size=\"30\" x=\"544\" y=\"1216\" fill=\"white\">R</text>\n",
       "<rect x=\"528\" y=\"1264\" width=\"32\" height=\"32\" stroke=\"black\" fill=\"black\"/>\n",
       "<text dominant-baseline=\"central\" text-anchor=\"middle\" font-family=\"monospace\" font-size=\"30\" x=\"544\" y=\"1280\" fill=\"white\">R</text>\n",
       "<rect x=\"528\" y=\"816\" width=\"32\" height=\"32\" stroke=\"black\" fill=\"black\"/>\n",
       "<text dominant-baseline=\"central\" text-anchor=\"middle\" font-family=\"monospace\" font-size=\"30\" x=\"544\" y=\"832\" fill=\"white\">R</text>\n",
       "<rect x=\"528\" y=\"1328\" width=\"32\" height=\"32\" stroke=\"black\" fill=\"black\"/>\n",
       "<text dominant-baseline=\"central\" text-anchor=\"middle\" font-family=\"monospace\" font-size=\"30\" x=\"544\" y=\"1344\" fill=\"white\">R</text>\n",
       "<rect x=\"592\" y=\"1392\" width=\"32\" height=\"32\" stroke=\"black\" fill=\"white\"/>\n",
       "<text dominant-baseline=\"central\" text-anchor=\"middle\" font-family=\"monospace\" font-size=\"30\" x=\"608\" y=\"1408\">H</text>\n",
       "<rect x=\"592\" y=\"1456\" width=\"32\" height=\"32\" stroke=\"black\" fill=\"white\"/>\n",
       "<text dominant-baseline=\"central\" text-anchor=\"middle\" font-family=\"monospace\" font-size=\"30\" x=\"608\" y=\"1472\">H</text>\n",
       "<rect x=\"592\" y=\"1520\" width=\"32\" height=\"32\" stroke=\"black\" fill=\"white\"/>\n",
       "<text dominant-baseline=\"central\" text-anchor=\"middle\" font-family=\"monospace\" font-size=\"30\" x=\"608\" y=\"1536\">H</text>\n",
       "<rect x=\"592\" y=\"1584\" width=\"32\" height=\"32\" stroke=\"black\" fill=\"white\"/>\n",
       "<text dominant-baseline=\"central\" text-anchor=\"middle\" font-family=\"monospace\" font-size=\"30\" x=\"608\" y=\"1600\">H</text>\n",
       "<rect x=\"592\" y=\"1648\" width=\"32\" height=\"32\" stroke=\"black\" fill=\"white\"/>\n",
       "<text dominant-baseline=\"central\" text-anchor=\"middle\" font-family=\"monospace\" font-size=\"30\" x=\"608\" y=\"1664\">H</text>\n",
       "<rect x=\"592\" y=\"1712\" width=\"32\" height=\"32\" stroke=\"black\" fill=\"white\"/>\n",
       "<text dominant-baseline=\"central\" text-anchor=\"middle\" font-family=\"monospace\" font-size=\"30\" x=\"608\" y=\"1728\">H</text>\n",
       "<rect x=\"592\" y=\"1776\" width=\"32\" height=\"32\" stroke=\"black\" fill=\"white\"/>\n",
       "<text dominant-baseline=\"central\" text-anchor=\"middle\" font-family=\"monospace\" font-size=\"30\" x=\"608\" y=\"1792\">H</text>\n",
       "<rect x=\"592\" y=\"1840\" width=\"32\" height=\"32\" stroke=\"black\" fill=\"white\"/>\n",
       "<text dominant-baseline=\"central\" text-anchor=\"middle\" font-family=\"monospace\" font-size=\"30\" x=\"608\" y=\"1856\">H</text>\n",
       "<path d=\"M672,128 L672,1408 \" stroke=\"black\"/>\n",
       "<circle cx=\"672\" cy=\"1408\" r=\"12\" stroke=\"none\" fill=\"black\"/>\n",
       "<circle cx=\"672\" cy=\"128\" r=\"12\" stroke=\"none\" fill=\"black\"/>\n",
       "<path d=\"M736,256 L736,1472 \" stroke=\"black\"/>\n",
       "<circle cx=\"736\" cy=\"1472\" r=\"12\" stroke=\"none\" fill=\"black\"/>\n",
       "<circle cx=\"736\" cy=\"256\" r=\"12\" stroke=\"none\" fill=\"black\"/>\n",
       "<path d=\"M800,64 L800,1536 \" stroke=\"black\"/>\n",
       "<circle cx=\"800\" cy=\"1536\" r=\"12\" stroke=\"none\" fill=\"black\"/>\n",
       "<circle cx=\"800\" cy=\"64\" r=\"12\" stroke=\"none\" fill=\"black\"/>\n",
       "<path d=\"M864,384 L864,1600 \" stroke=\"black\"/>\n",
       "<circle cx=\"864\" cy=\"1600\" r=\"12\" stroke=\"none\" fill=\"black\"/>\n",
       "<circle cx=\"864\" cy=\"384\" r=\"12\" stroke=\"none\" fill=\"black\"/>\n",
       "<path d=\"M928,64 L928,1664 \" stroke=\"black\"/>\n",
       "<circle cx=\"928\" cy=\"1664\" r=\"12\" stroke=\"none\" fill=\"black\"/>\n",
       "<circle cx=\"928\" cy=\"64\" r=\"12\" stroke=\"black\" fill=\"white\"/>\n",
       "<path d=\"M916,64 L940,64 M928,52 L928,76 \" stroke=\"black\"/>\n",
       "<path d=\"M992,320 L992,1728 \" stroke=\"black\"/>\n",
       "<circle cx=\"992\" cy=\"1728\" r=\"12\" stroke=\"none\" fill=\"black\"/>\n",
       "<circle cx=\"992\" cy=\"320\" r=\"12\" stroke=\"black\" fill=\"white\"/>\n",
       "<path d=\"M980,320 L1004,320 M992,308 L992,332 \" stroke=\"black\"/>\n",
       "<path d=\"M1056,448 L1056,1792 \" stroke=\"black\"/>\n",
       "<circle cx=\"1056\" cy=\"1792\" r=\"12\" stroke=\"none\" fill=\"black\"/>\n",
       "<circle cx=\"1056\" cy=\"448\" r=\"12\" stroke=\"black\" fill=\"white\"/>\n",
       "<path d=\"M1044,448 L1068,448 M1056,436 L1056,460 \" stroke=\"black\"/>\n",
       "<path d=\"M1120,128 L1120,1856 \" stroke=\"black\"/>\n",
       "<circle cx=\"1120\" cy=\"1856\" r=\"12\" stroke=\"none\" fill=\"black\"/>\n",
       "<circle cx=\"1120\" cy=\"128\" r=\"12\" stroke=\"black\" fill=\"white\"/>\n",
       "<path d=\"M1108,128 L1132,128 M1120,116 L1120,140 \" stroke=\"black\"/>\n",
       "<path d=\"M644,40 L644,32 L1148,32 L1148,40 \" stroke=\"black\" fill=\"none\"/>\n",
       "<path d=\"M644,3448 L644,3456 L1148,3456 L1148,3448 \" stroke=\"black\" fill=\"none\"/>\n",
       "<path d=\"M1184,192 L1184,1408 \" stroke=\"black\"/>\n",
       "<circle cx=\"1184\" cy=\"1408\" r=\"12\" stroke=\"none\" fill=\"black\"/>\n",
       "<circle cx=\"1184\" cy=\"192\" r=\"12\" stroke=\"none\" fill=\"black\"/>\n",
       "<path d=\"M1248,320 L1248,1472 \" stroke=\"black\"/>\n",
       "<circle cx=\"1248\" cy=\"1472\" r=\"12\" stroke=\"none\" fill=\"black\"/>\n",
       "<circle cx=\"1248\" cy=\"320\" r=\"12\" stroke=\"none\" fill=\"black\"/>\n",
       "<path d=\"M1312,256 L1312,1536 \" stroke=\"black\"/>\n",
       "<circle cx=\"1312\" cy=\"1536\" r=\"12\" stroke=\"none\" fill=\"black\"/>\n",
       "<circle cx=\"1312\" cy=\"256\" r=\"12\" stroke=\"none\" fill=\"black\"/>\n",
       "<path d=\"M1376,576 L1376,1600 \" stroke=\"black\"/>\n",
       "<circle cx=\"1376\" cy=\"1600\" r=\"12\" stroke=\"none\" fill=\"black\"/>\n",
       "<circle cx=\"1376\" cy=\"576\" r=\"12\" stroke=\"none\" fill=\"black\"/>\n",
       "<path d=\"M1440,128 L1440,1664 \" stroke=\"black\"/>\n",
       "<circle cx=\"1440\" cy=\"1664\" r=\"12\" stroke=\"none\" fill=\"black\"/>\n",
       "<circle cx=\"1440\" cy=\"128\" r=\"12\" stroke=\"black\" fill=\"white\"/>\n",
       "<path d=\"M1428,128 L1452,128 M1440,116 L1440,140 \" stroke=\"black\"/>\n",
       "<path d=\"M1504,384 L1504,1728 \" stroke=\"black\"/>\n",
       "<circle cx=\"1504\" cy=\"1728\" r=\"12\" stroke=\"none\" fill=\"black\"/>\n",
       "<circle cx=\"1504\" cy=\"384\" r=\"12\" stroke=\"black\" fill=\"white\"/>\n",
       "<path d=\"M1492,384 L1516,384 M1504,372 L1504,396 \" stroke=\"black\"/>\n",
       "<path d=\"M1568,512 L1568,1792 \" stroke=\"black\"/>\n",
       "<circle cx=\"1568\" cy=\"1792\" r=\"12\" stroke=\"none\" fill=\"black\"/>\n",
       "<circle cx=\"1568\" cy=\"512\" r=\"12\" stroke=\"black\" fill=\"white\"/>\n",
       "<path d=\"M1556,512 L1580,512 M1568,500 L1568,524 \" stroke=\"black\"/>\n",
       "<path d=\"M1632,192 L1632,1856 \" stroke=\"black\"/>\n",
       "<circle cx=\"1632\" cy=\"1856\" r=\"12\" stroke=\"none\" fill=\"black\"/>\n",
       "<circle cx=\"1632\" cy=\"192\" r=\"12\" stroke=\"black\" fill=\"white\"/>\n",
       "<path d=\"M1620,192 L1644,192 M1632,180 L1632,204 \" stroke=\"black\"/>\n",
       "<path d=\"M1156,40 L1156,32 L1660,32 L1660,40 \" stroke=\"black\" fill=\"none\"/>\n",
       "<path d=\"M1156,3448 L1156,3456 L1660,3456 L1660,3448 \" stroke=\"black\" fill=\"none\"/>\n",
       "<path d=\"M1696,320 L1696,1408 \" stroke=\"black\"/>\n",
       "<circle cx=\"1696\" cy=\"1408\" r=\"12\" stroke=\"none\" fill=\"black\"/>\n",
       "<circle cx=\"1696\" cy=\"320\" r=\"12\" stroke=\"none\" fill=\"black\"/>\n",
       "<path d=\"M1760,448 L1760,1472 \" stroke=\"black\"/>\n",
       "<circle cx=\"1760\" cy=\"1472\" r=\"12\" stroke=\"none\" fill=\"black\"/>\n",
       "<circle cx=\"1760\" cy=\"448\" r=\"12\" stroke=\"none\" fill=\"black\"/>\n",
       "<path d=\"M1824,256 L1824,1664 \" stroke=\"black\"/>\n",
       "<circle cx=\"1824\" cy=\"1664\" r=\"12\" stroke=\"none\" fill=\"black\"/>\n",
       "<circle cx=\"1824\" cy=\"256\" r=\"12\" stroke=\"black\" fill=\"white\"/>\n",
       "<path d=\"M1812,256 L1836,256 M1824,244 L1824,268 \" stroke=\"black\"/>\n",
       "<path d=\"M1888,512 L1888,1728 \" stroke=\"black\"/>\n",
       "<circle cx=\"1888\" cy=\"1728\" r=\"12\" stroke=\"none\" fill=\"black\"/>\n",
       "<circle cx=\"1888\" cy=\"512\" r=\"12\" stroke=\"black\" fill=\"white\"/>\n",
       "<path d=\"M1876,512 L1900,512 M1888,500 L1888,524 \" stroke=\"black\"/>\n",
       "<path d=\"M1668,40 L1668,32 L1916,32 L1916,40 \" stroke=\"black\" fill=\"none\"/>\n",
       "<path d=\"M1668,3448 L1668,3456 L1916,3456 L1916,3448 \" stroke=\"black\" fill=\"none\"/>\n",
       "<path d=\"M1952,384 L1952,1408 \" stroke=\"black\"/>\n",
       "<circle cx=\"1952\" cy=\"1408\" r=\"12\" stroke=\"none\" fill=\"black\"/>\n",
       "<circle cx=\"1952\" cy=\"384\" r=\"12\" stroke=\"none\" fill=\"black\"/>\n",
       "<path d=\"M2016,512 L2016,1472 \" stroke=\"black\"/>\n",
       "<circle cx=\"2016\" cy=\"1472\" r=\"12\" stroke=\"none\" fill=\"black\"/>\n",
       "<circle cx=\"2016\" cy=\"512\" r=\"12\" stroke=\"none\" fill=\"black\"/>\n",
       "<path d=\"M2080,320 L2080,1664 \" stroke=\"black\"/>\n",
       "<circle cx=\"2080\" cy=\"1664\" r=\"12\" stroke=\"none\" fill=\"black\"/>\n",
       "<circle cx=\"2080\" cy=\"320\" r=\"12\" stroke=\"black\" fill=\"white\"/>\n",
       "<path d=\"M2068,320 L2092,320 M2080,308 L2080,332 \" stroke=\"black\"/>\n",
       "<path d=\"M2144,576 L2144,1728 \" stroke=\"black\"/>\n",
       "<circle cx=\"2144\" cy=\"1728\" r=\"12\" stroke=\"none\" fill=\"black\"/>\n",
       "<circle cx=\"2144\" cy=\"576\" r=\"12\" stroke=\"black\" fill=\"white\"/>\n",
       "<path d=\"M2132,576 L2156,576 M2144,564 L2144,588 \" stroke=\"black\"/>\n",
       "<path d=\"M1924,40 L1924,32 L2172,32 L2172,40 \" stroke=\"black\" fill=\"none\"/>\n",
       "<path d=\"M1924,3448 L1924,3456 L2172,3456 L2172,3448 \" stroke=\"black\" fill=\"none\"/>\n",
       "<rect x=\"2192\" y=\"1392\" width=\"32\" height=\"32\" stroke=\"black\" fill=\"white\"/>\n",
       "<text dominant-baseline=\"central\" text-anchor=\"middle\" font-family=\"monospace\" font-size=\"30\" x=\"2208\" y=\"1408\">H</text>\n",
       "<rect x=\"2192\" y=\"1456\" width=\"32\" height=\"32\" stroke=\"black\" fill=\"white\"/>\n",
       "<text dominant-baseline=\"central\" text-anchor=\"middle\" font-family=\"monospace\" font-size=\"30\" x=\"2208\" y=\"1472\">H</text>\n",
       "<rect x=\"2192\" y=\"1520\" width=\"32\" height=\"32\" stroke=\"black\" fill=\"white\"/>\n",
       "<text dominant-baseline=\"central\" text-anchor=\"middle\" font-family=\"monospace\" font-size=\"30\" x=\"2208\" y=\"1536\">H</text>\n",
       "<rect x=\"2192\" y=\"1584\" width=\"32\" height=\"32\" stroke=\"black\" fill=\"white\"/>\n",
       "<text dominant-baseline=\"central\" text-anchor=\"middle\" font-family=\"monospace\" font-size=\"30\" x=\"2208\" y=\"1600\">H</text>\n",
       "<rect x=\"2192\" y=\"1648\" width=\"32\" height=\"32\" stroke=\"black\" fill=\"white\"/>\n",
       "<text dominant-baseline=\"central\" text-anchor=\"middle\" font-family=\"monospace\" font-size=\"30\" x=\"2208\" y=\"1664\">H</text>\n",
       "<rect x=\"2192\" y=\"1712\" width=\"32\" height=\"32\" stroke=\"black\" fill=\"white\"/>\n",
       "<text dominant-baseline=\"central\" text-anchor=\"middle\" font-family=\"monospace\" font-size=\"30\" x=\"2208\" y=\"1728\">H</text>\n",
       "<rect x=\"2192\" y=\"1776\" width=\"32\" height=\"32\" stroke=\"black\" fill=\"white\"/>\n",
       "<text dominant-baseline=\"central\" text-anchor=\"middle\" font-family=\"monospace\" font-size=\"30\" x=\"2208\" y=\"1792\">H</text>\n",
       "<rect x=\"2192\" y=\"1840\" width=\"32\" height=\"32\" stroke=\"black\" fill=\"white\"/>\n",
       "<text dominant-baseline=\"central\" text-anchor=\"middle\" font-family=\"monospace\" font-size=\"30\" x=\"2208\" y=\"1856\">H</text>\n",
       "<rect x=\"2256\" y=\"1392\" width=\"32\" height=\"32\" stroke=\"black\" fill=\"black\"/>\n",
       "<text dominant-baseline=\"central\" text-anchor=\"middle\" font-family=\"monospace\" font-size=\"24\" x=\"2272\" y=\"1408\" fill=\"white\">MR</text>\n",
       "<text text-anchor=\"middle\" font-family=\"monospace\" font-size=\"8\" x=\"2272\" y=\"1388\">rec[0]</text>\n",
       "<rect x=\"2256\" y=\"1456\" width=\"32\" height=\"32\" stroke=\"black\" fill=\"black\"/>\n",
       "<text dominant-baseline=\"central\" text-anchor=\"middle\" font-family=\"monospace\" font-size=\"24\" x=\"2272\" y=\"1472\" fill=\"white\">MR</text>\n",
       "<text text-anchor=\"middle\" font-family=\"monospace\" font-size=\"8\" x=\"2272\" y=\"1452\">rec[1]</text>\n",
       "<rect x=\"2256\" y=\"1520\" width=\"32\" height=\"32\" stroke=\"black\" fill=\"black\"/>\n",
       "<text dominant-baseline=\"central\" text-anchor=\"middle\" font-family=\"monospace\" font-size=\"24\" x=\"2272\" y=\"1536\" fill=\"white\">MR</text>\n",
       "<text text-anchor=\"middle\" font-family=\"monospace\" font-size=\"8\" x=\"2272\" y=\"1516\">rec[2]</text>\n",
       "<rect x=\"2256\" y=\"1584\" width=\"32\" height=\"32\" stroke=\"black\" fill=\"black\"/>\n",
       "<text dominant-baseline=\"central\" text-anchor=\"middle\" font-family=\"monospace\" font-size=\"24\" x=\"2272\" y=\"1600\" fill=\"white\">MR</text>\n",
       "<text text-anchor=\"middle\" font-family=\"monospace\" font-size=\"8\" x=\"2272\" y=\"1580\">rec[3]</text>\n",
       "<rect x=\"2256\" y=\"1648\" width=\"32\" height=\"32\" stroke=\"black\" fill=\"black\"/>\n",
       "<text dominant-baseline=\"central\" text-anchor=\"middle\" font-family=\"monospace\" font-size=\"24\" x=\"2272\" y=\"1664\" fill=\"white\">MR</text>\n",
       "<text text-anchor=\"middle\" font-family=\"monospace\" font-size=\"8\" x=\"2272\" y=\"1644\">rec[4]</text>\n",
       "<rect x=\"2256\" y=\"1712\" width=\"32\" height=\"32\" stroke=\"black\" fill=\"black\"/>\n",
       "<text dominant-baseline=\"central\" text-anchor=\"middle\" font-family=\"monospace\" font-size=\"24\" x=\"2272\" y=\"1728\" fill=\"white\">MR</text>\n",
       "<text text-anchor=\"middle\" font-family=\"monospace\" font-size=\"8\" x=\"2272\" y=\"1708\">rec[5]</text>\n",
       "<rect x=\"2256\" y=\"1776\" width=\"32\" height=\"32\" stroke=\"black\" fill=\"black\"/>\n",
       "<text dominant-baseline=\"central\" text-anchor=\"middle\" font-family=\"monospace\" font-size=\"24\" x=\"2272\" y=\"1792\" fill=\"white\">MR</text>\n",
       "<text text-anchor=\"middle\" font-family=\"monospace\" font-size=\"8\" x=\"2272\" y=\"1772\">rec[6]</text>\n",
       "<rect x=\"2256\" y=\"1840\" width=\"32\" height=\"32\" stroke=\"black\" fill=\"black\"/>\n",
       "<text dominant-baseline=\"central\" text-anchor=\"middle\" font-family=\"monospace\" font-size=\"24\" x=\"2272\" y=\"1856\" fill=\"white\">MR</text>\n",
       "<text text-anchor=\"middle\" font-family=\"monospace\" font-size=\"8\" x=\"2272\" y=\"1836\">rec[7]</text>\n",
       "<rect x=\"2320\" y=\"2416\" width=\"32\" height=\"32\" stroke=\"black\" fill=\"white\"/>\n",
       "<text dominant-baseline=\"central\" text-anchor=\"middle\" font-family=\"monospace\" font-size=\"30\" x=\"2336\" y=\"2432\">H</text>\n",
       "<rect x=\"2320\" y=\"2480\" width=\"32\" height=\"32\" stroke=\"black\" fill=\"white\"/>\n",
       "<text dominant-baseline=\"central\" text-anchor=\"middle\" font-family=\"monospace\" font-size=\"30\" x=\"2336\" y=\"2496\">H</text>\n",
       "<rect x=\"2320\" y=\"2544\" width=\"32\" height=\"32\" stroke=\"black\" fill=\"white\"/>\n",
       "<text dominant-baseline=\"central\" text-anchor=\"middle\" font-family=\"monospace\" font-size=\"30\" x=\"2336\" y=\"2560\">H</text>\n",
       "<rect x=\"2320\" y=\"2608\" width=\"32\" height=\"32\" stroke=\"black\" fill=\"white\"/>\n",
       "<text dominant-baseline=\"central\" text-anchor=\"middle\" font-family=\"monospace\" font-size=\"30\" x=\"2336\" y=\"2624\">H</text>\n",
       "<rect x=\"2320\" y=\"2672\" width=\"32\" height=\"32\" stroke=\"black\" fill=\"white\"/>\n",
       "<text dominant-baseline=\"central\" text-anchor=\"middle\" font-family=\"monospace\" font-size=\"30\" x=\"2336\" y=\"2688\">H</text>\n",
       "<rect x=\"2320\" y=\"2736\" width=\"32\" height=\"32\" stroke=\"black\" fill=\"white\"/>\n",
       "<text dominant-baseline=\"central\" text-anchor=\"middle\" font-family=\"monospace\" font-size=\"30\" x=\"2336\" y=\"2752\">H</text>\n",
       "<rect x=\"2320\" y=\"2800\" width=\"32\" height=\"32\" stroke=\"black\" fill=\"white\"/>\n",
       "<text dominant-baseline=\"central\" text-anchor=\"middle\" font-family=\"monospace\" font-size=\"30\" x=\"2336\" y=\"2816\">H</text>\n",
       "<rect x=\"2320\" y=\"2864\" width=\"32\" height=\"32\" stroke=\"black\" fill=\"white\"/>\n",
       "<text dominant-baseline=\"central\" text-anchor=\"middle\" font-family=\"monospace\" font-size=\"30\" x=\"2336\" y=\"2880\">H</text>\n",
       "<path d=\"M2400,896 L2400,2432 \" stroke=\"black\"/>\n",
       "<circle cx=\"2400\" cy=\"2432\" r=\"12\" stroke=\"none\" fill=\"black\"/>\n",
       "<circle cx=\"2400\" cy=\"896\" r=\"12\" stroke=\"none\" fill=\"black\"/>\n",
       "<path d=\"M2464,1024 L2464,2496 \" stroke=\"black\"/>\n",
       "<circle cx=\"2464\" cy=\"2496\" r=\"12\" stroke=\"none\" fill=\"black\"/>\n",
       "<circle cx=\"2464\" cy=\"1024\" r=\"12\" stroke=\"none\" fill=\"black\"/>\n",
       "<path d=\"M2528,832 L2528,2560 \" stroke=\"black\"/>\n",
       "<circle cx=\"2528\" cy=\"2560\" r=\"12\" stroke=\"none\" fill=\"black\"/>\n",
       "<circle cx=\"2528\" cy=\"832\" r=\"12\" stroke=\"none\" fill=\"black\"/>\n",
       "<path d=\"M2592,1152 L2592,2624 \" stroke=\"black\"/>\n",
       "<circle cx=\"2592\" cy=\"2624\" r=\"12\" stroke=\"none\" fill=\"black\"/>\n",
       "<circle cx=\"2592\" cy=\"1152\" r=\"12\" stroke=\"none\" fill=\"black\"/>\n",
       "<path d=\"M2656,832 L2656,2688 \" stroke=\"black\"/>\n",
       "<circle cx=\"2656\" cy=\"2688\" r=\"12\" stroke=\"none\" fill=\"black\"/>\n",
       "<circle cx=\"2656\" cy=\"832\" r=\"12\" stroke=\"black\" fill=\"white\"/>\n",
       "<path d=\"M2644,832 L2668,832 M2656,820 L2656,844 \" stroke=\"black\"/>\n",
       "<path d=\"M2720,1088 L2720,2752 \" stroke=\"black\"/>\n",
       "<circle cx=\"2720\" cy=\"2752\" r=\"12\" stroke=\"none\" fill=\"black\"/>\n",
       "<circle cx=\"2720\" cy=\"1088\" r=\"12\" stroke=\"black\" fill=\"white\"/>\n",
       "<path d=\"M2708,1088 L2732,1088 M2720,1076 L2720,1100 \" stroke=\"black\"/>\n",
       "<path d=\"M2784,1216 L2784,2816 \" stroke=\"black\"/>\n",
       "<circle cx=\"2784\" cy=\"2816\" r=\"12\" stroke=\"none\" fill=\"black\"/>\n",
       "<circle cx=\"2784\" cy=\"1216\" r=\"12\" stroke=\"black\" fill=\"white\"/>\n",
       "<path d=\"M2772,1216 L2796,1216 M2784,1204 L2784,1228 \" stroke=\"black\"/>\n",
       "<path d=\"M2848,896 L2848,2880 \" stroke=\"black\"/>\n",
       "<circle cx=\"2848\" cy=\"2880\" r=\"12\" stroke=\"none\" fill=\"black\"/>\n",
       "<circle cx=\"2848\" cy=\"896\" r=\"12\" stroke=\"black\" fill=\"white\"/>\n",
       "<path d=\"M2836,896 L2860,896 M2848,884 L2848,908 \" stroke=\"black\"/>\n",
       "<path d=\"M2372,40 L2372,32 L2876,32 L2876,40 \" stroke=\"black\" fill=\"none\"/>\n",
       "<path d=\"M2372,3448 L2372,3456 L2876,3456 L2876,3448 \" stroke=\"black\" fill=\"none\"/>\n",
       "<path d=\"M2912,960 L2912,2432 \" stroke=\"black\"/>\n",
       "<circle cx=\"2912\" cy=\"2432\" r=\"12\" stroke=\"none\" fill=\"black\"/>\n",
       "<circle cx=\"2912\" cy=\"960\" r=\"12\" stroke=\"none\" fill=\"black\"/>\n",
       "<path d=\"M2976,1088 L2976,2496 \" stroke=\"black\"/>\n",
       "<circle cx=\"2976\" cy=\"2496\" r=\"12\" stroke=\"none\" fill=\"black\"/>\n",
       "<circle cx=\"2976\" cy=\"1088\" r=\"12\" stroke=\"none\" fill=\"black\"/>\n",
       "<path d=\"M3040,1024 L3040,2560 \" stroke=\"black\"/>\n",
       "<circle cx=\"3040\" cy=\"2560\" r=\"12\" stroke=\"none\" fill=\"black\"/>\n",
       "<circle cx=\"3040\" cy=\"1024\" r=\"12\" stroke=\"none\" fill=\"black\"/>\n",
       "<path d=\"M3104,1344 L3104,2624 \" stroke=\"black\"/>\n",
       "<circle cx=\"3104\" cy=\"2624\" r=\"12\" stroke=\"none\" fill=\"black\"/>\n",
       "<circle cx=\"3104\" cy=\"1344\" r=\"12\" stroke=\"none\" fill=\"black\"/>\n",
       "<path d=\"M3168,896 L3168,2688 \" stroke=\"black\"/>\n",
       "<circle cx=\"3168\" cy=\"2688\" r=\"12\" stroke=\"none\" fill=\"black\"/>\n",
       "<circle cx=\"3168\" cy=\"896\" r=\"12\" stroke=\"black\" fill=\"white\"/>\n",
       "<path d=\"M3156,896 L3180,896 M3168,884 L3168,908 \" stroke=\"black\"/>\n",
       "<path d=\"M3232,1152 L3232,2752 \" stroke=\"black\"/>\n",
       "<circle cx=\"3232\" cy=\"2752\" r=\"12\" stroke=\"none\" fill=\"black\"/>\n",
       "<circle cx=\"3232\" cy=\"1152\" r=\"12\" stroke=\"black\" fill=\"white\"/>\n",
       "<path d=\"M3220,1152 L3244,1152 M3232,1140 L3232,1164 \" stroke=\"black\"/>\n",
       "<path d=\"M3296,1280 L3296,2816 \" stroke=\"black\"/>\n",
       "<circle cx=\"3296\" cy=\"2816\" r=\"12\" stroke=\"none\" fill=\"black\"/>\n",
       "<circle cx=\"3296\" cy=\"1280\" r=\"12\" stroke=\"black\" fill=\"white\"/>\n",
       "<path d=\"M3284,1280 L3308,1280 M3296,1268 L3296,1292 \" stroke=\"black\"/>\n",
       "<path d=\"M3360,960 L3360,2880 \" stroke=\"black\"/>\n",
       "<circle cx=\"3360\" cy=\"2880\" r=\"12\" stroke=\"none\" fill=\"black\"/>\n",
       "<circle cx=\"3360\" cy=\"960\" r=\"12\" stroke=\"black\" fill=\"white\"/>\n",
       "<path d=\"M3348,960 L3372,960 M3360,948 L3360,972 \" stroke=\"black\"/>\n",
       "<path d=\"M2884,40 L2884,32 L3388,32 L3388,40 \" stroke=\"black\" fill=\"none\"/>\n",
       "<path d=\"M2884,3448 L2884,3456 L3388,3456 L3388,3448 \" stroke=\"black\" fill=\"none\"/>\n",
       "<path d=\"M3424,1088 L3424,2432 \" stroke=\"black\"/>\n",
       "<circle cx=\"3424\" cy=\"2432\" r=\"12\" stroke=\"none\" fill=\"black\"/>\n",
       "<circle cx=\"3424\" cy=\"1088\" r=\"12\" stroke=\"none\" fill=\"black\"/>\n",
       "<path d=\"M3488,1216 L3488,2496 \" stroke=\"black\"/>\n",
       "<circle cx=\"3488\" cy=\"2496\" r=\"12\" stroke=\"none\" fill=\"black\"/>\n",
       "<circle cx=\"3488\" cy=\"1216\" r=\"12\" stroke=\"none\" fill=\"black\"/>\n",
       "<path d=\"M3552,1024 L3552,2688 \" stroke=\"black\"/>\n",
       "<circle cx=\"3552\" cy=\"2688\" r=\"12\" stroke=\"none\" fill=\"black\"/>\n",
       "<circle cx=\"3552\" cy=\"1024\" r=\"12\" stroke=\"black\" fill=\"white\"/>\n",
       "<path d=\"M3540,1024 L3564,1024 M3552,1012 L3552,1036 \" stroke=\"black\"/>\n",
       "<path d=\"M3616,1280 L3616,2752 \" stroke=\"black\"/>\n",
       "<circle cx=\"3616\" cy=\"2752\" r=\"12\" stroke=\"none\" fill=\"black\"/>\n",
       "<circle cx=\"3616\" cy=\"1280\" r=\"12\" stroke=\"black\" fill=\"white\"/>\n",
       "<path d=\"M3604,1280 L3628,1280 M3616,1268 L3616,1292 \" stroke=\"black\"/>\n",
       "<path d=\"M3396,40 L3396,32 L3644,32 L3644,40 \" stroke=\"black\" fill=\"none\"/>\n",
       "<path d=\"M3396,3448 L3396,3456 L3644,3456 L3644,3448 \" stroke=\"black\" fill=\"none\"/>\n",
       "<path d=\"M3680,1152 L3680,2432 \" stroke=\"black\"/>\n",
       "<circle cx=\"3680\" cy=\"2432\" r=\"12\" stroke=\"none\" fill=\"black\"/>\n",
       "<circle cx=\"3680\" cy=\"1152\" r=\"12\" stroke=\"none\" fill=\"black\"/>\n",
       "<path d=\"M3744,1280 L3744,2496 \" stroke=\"black\"/>\n",
       "<circle cx=\"3744\" cy=\"2496\" r=\"12\" stroke=\"none\" fill=\"black\"/>\n",
       "<circle cx=\"3744\" cy=\"1280\" r=\"12\" stroke=\"none\" fill=\"black\"/>\n",
       "<path d=\"M3808,1088 L3808,2688 \" stroke=\"black\"/>\n",
       "<circle cx=\"3808\" cy=\"2688\" r=\"12\" stroke=\"none\" fill=\"black\"/>\n",
       "<circle cx=\"3808\" cy=\"1088\" r=\"12\" stroke=\"black\" fill=\"white\"/>\n",
       "<path d=\"M3796,1088 L3820,1088 M3808,1076 L3808,1100 \" stroke=\"black\"/>\n",
       "<path d=\"M3872,1344 L3872,2752 \" stroke=\"black\"/>\n",
       "<circle cx=\"3872\" cy=\"2752\" r=\"12\" stroke=\"none\" fill=\"black\"/>\n",
       "<circle cx=\"3872\" cy=\"1344\" r=\"12\" stroke=\"black\" fill=\"white\"/>\n",
       "<path d=\"M3860,1344 L3884,1344 M3872,1332 L3872,1356 \" stroke=\"black\"/>\n",
       "<path d=\"M3652,40 L3652,32 L3900,32 L3900,40 \" stroke=\"black\" fill=\"none\"/>\n",
       "<path d=\"M3652,3448 L3652,3456 L3900,3456 L3900,3448 \" stroke=\"black\" fill=\"none\"/>\n",
       "<rect x=\"3920\" y=\"2416\" width=\"32\" height=\"32\" stroke=\"black\" fill=\"white\"/>\n",
       "<text dominant-baseline=\"central\" text-anchor=\"middle\" font-family=\"monospace\" font-size=\"30\" x=\"3936\" y=\"2432\">H</text>\n",
       "<rect x=\"3920\" y=\"2480\" width=\"32\" height=\"32\" stroke=\"black\" fill=\"white\"/>\n",
       "<text dominant-baseline=\"central\" text-anchor=\"middle\" font-family=\"monospace\" font-size=\"30\" x=\"3936\" y=\"2496\">H</text>\n",
       "<rect x=\"3920\" y=\"2544\" width=\"32\" height=\"32\" stroke=\"black\" fill=\"white\"/>\n",
       "<text dominant-baseline=\"central\" text-anchor=\"middle\" font-family=\"monospace\" font-size=\"30\" x=\"3936\" y=\"2560\">H</text>\n",
       "<rect x=\"3920\" y=\"2608\" width=\"32\" height=\"32\" stroke=\"black\" fill=\"white\"/>\n",
       "<text dominant-baseline=\"central\" text-anchor=\"middle\" font-family=\"monospace\" font-size=\"30\" x=\"3936\" y=\"2624\">H</text>\n",
       "<rect x=\"3920\" y=\"2672\" width=\"32\" height=\"32\" stroke=\"black\" fill=\"white\"/>\n",
       "<text dominant-baseline=\"central\" text-anchor=\"middle\" font-family=\"monospace\" font-size=\"30\" x=\"3936\" y=\"2688\">H</text>\n",
       "<rect x=\"3920\" y=\"2736\" width=\"32\" height=\"32\" stroke=\"black\" fill=\"white\"/>\n",
       "<text dominant-baseline=\"central\" text-anchor=\"middle\" font-family=\"monospace\" font-size=\"30\" x=\"3936\" y=\"2752\">H</text>\n",
       "<rect x=\"3920\" y=\"2800\" width=\"32\" height=\"32\" stroke=\"black\" fill=\"white\"/>\n",
       "<text dominant-baseline=\"central\" text-anchor=\"middle\" font-family=\"monospace\" font-size=\"30\" x=\"3936\" y=\"2816\">H</text>\n",
       "<rect x=\"3920\" y=\"2864\" width=\"32\" height=\"32\" stroke=\"black\" fill=\"white\"/>\n",
       "<text dominant-baseline=\"central\" text-anchor=\"middle\" font-family=\"monospace\" font-size=\"30\" x=\"3936\" y=\"2880\">H</text>\n",
       "<rect x=\"3984\" y=\"2416\" width=\"32\" height=\"32\" stroke=\"black\" fill=\"black\"/>\n",
       "<text dominant-baseline=\"central\" text-anchor=\"middle\" font-family=\"monospace\" font-size=\"24\" x=\"4000\" y=\"2432\" fill=\"white\">MR</text>\n",
       "<text text-anchor=\"middle\" font-family=\"monospace\" font-size=\"8\" x=\"4000\" y=\"2412\">rec[8]</text>\n",
       "<rect x=\"3984\" y=\"2480\" width=\"32\" height=\"32\" stroke=\"black\" fill=\"black\"/>\n",
       "<text dominant-baseline=\"central\" text-anchor=\"middle\" font-family=\"monospace\" font-size=\"24\" x=\"4000\" y=\"2496\" fill=\"white\">MR</text>\n",
       "<text text-anchor=\"middle\" font-family=\"monospace\" font-size=\"8\" x=\"4000\" y=\"2476\">rec[9]</text>\n",
       "<rect x=\"3984\" y=\"2544\" width=\"32\" height=\"32\" stroke=\"black\" fill=\"black\"/>\n",
       "<text dominant-baseline=\"central\" text-anchor=\"middle\" font-family=\"monospace\" font-size=\"24\" x=\"4000\" y=\"2560\" fill=\"white\">MR</text>\n",
       "<text text-anchor=\"middle\" font-family=\"monospace\" font-size=\"8\" x=\"4000\" y=\"2540\">rec[10]</text>\n",
       "<rect x=\"3984\" y=\"2608\" width=\"32\" height=\"32\" stroke=\"black\" fill=\"black\"/>\n",
       "<text dominant-baseline=\"central\" text-anchor=\"middle\" font-family=\"monospace\" font-size=\"24\" x=\"4000\" y=\"2624\" fill=\"white\">MR</text>\n",
       "<text text-anchor=\"middle\" font-family=\"monospace\" font-size=\"8\" x=\"4000\" y=\"2604\">rec[11]</text>\n",
       "<rect x=\"3984\" y=\"2672\" width=\"32\" height=\"32\" stroke=\"black\" fill=\"black\"/>\n",
       "<text dominant-baseline=\"central\" text-anchor=\"middle\" font-family=\"monospace\" font-size=\"24\" x=\"4000\" y=\"2688\" fill=\"white\">MR</text>\n",
       "<text text-anchor=\"middle\" font-family=\"monospace\" font-size=\"8\" x=\"4000\" y=\"2668\">rec[12]</text>\n",
       "<rect x=\"3984\" y=\"2736\" width=\"32\" height=\"32\" stroke=\"black\" fill=\"black\"/>\n",
       "<text dominant-baseline=\"central\" text-anchor=\"middle\" font-family=\"monospace\" font-size=\"24\" x=\"4000\" y=\"2752\" fill=\"white\">MR</text>\n",
       "<text text-anchor=\"middle\" font-family=\"monospace\" font-size=\"8\" x=\"4000\" y=\"2732\">rec[13]</text>\n",
       "<rect x=\"3984\" y=\"2800\" width=\"32\" height=\"32\" stroke=\"black\" fill=\"black\"/>\n",
       "<text dominant-baseline=\"central\" text-anchor=\"middle\" font-family=\"monospace\" font-size=\"24\" x=\"4000\" y=\"2816\" fill=\"white\">MR</text>\n",
       "<text text-anchor=\"middle\" font-family=\"monospace\" font-size=\"8\" x=\"4000\" y=\"2796\">rec[14]</text>\n",
       "<rect x=\"3984\" y=\"2864\" width=\"32\" height=\"32\" stroke=\"black\" fill=\"black\"/>\n",
       "<text dominant-baseline=\"central\" text-anchor=\"middle\" font-family=\"monospace\" font-size=\"24\" x=\"4000\" y=\"2880\" fill=\"white\">MR</text>\n",
       "<text text-anchor=\"middle\" font-family=\"monospace\" font-size=\"8\" x=\"4000\" y=\"2860\">rec[15]</text>\n",
       "</svg>"
      ],
      "text/plain": [
       "<svg viewBox=\"0 0 4064 3488\"  version=\"1.1\" xmlns=\"http://www.w3.org/2000/svg\">\n",
       "<g id=\"qubit_lines\">\n",
       "<path id=\"qubit_line:0\" d=\"M64,64 L4032,64 \" stroke=\"black\"/>\n",
       "<text dominant-baseline=\"central\" text-anchor=\"end\" font-family=\"monospace\" font-size=\"12\" x=\"64\" y=\"64\">q0</text>\n",
       "<path id=\"qubit_line:1\" d=\"M64,128 L4032,128 \" stroke=\"black\"/>\n",
       "<text dominant-baseline=\"central\" text-anchor=\"end\" font-family=\"monospace\" font-size=\"12\" x=\"64\" y=\"128\">q1</text>\n",
       "<path id=\"qubit_line:2\" d=\"M64,192 L4032,192 \" stroke=\"black\"/>\n",
       "<text dominant-baseline=\"central\" text-anchor=\"end\" font-family=\"monospace\" font-size=\"12\" x=\"64\" y=\"192\">q2</text>\n",
       "<path id=\"qubit_line:3\" d=\"M64,256 L4032,256 \" stroke=\"black\"/>\n",
       "<text dominant-baseline=\"central\" text-anchor=\"end\" font-family=\"monospace\" font-size=\"12\" x=\"64\" y=\"256\">q3</text>\n",
       "<path id=\"qubit_line:4\" d=\"M64,320 L4032,320 \" stroke=\"black\"/>\n",
       "<text dominant-baseline=\"central\" text-anchor=\"end\" font-family=\"monospace\" font-size=\"12\" x=\"64\" y=\"320\">q4</text>\n",
       "<path id=\"qubit_line:5\" d=\"M64,384 L4032,384 \" stroke=\"black\"/>\n",
       "<text dominant-baseline=\"central\" text-anchor=\"end\" font-family=\"monospace\" font-size=\"12\" x=\"64\" y=\"384\">q5</text>\n",
       "<path id=\"qubit_line:6\" d=\"M64,448 L4032,448 \" stroke=\"black\"/>\n",
       "<text dominant-baseline=\"central\" text-anchor=\"end\" font-family=\"monospace\" font-size=\"12\" x=\"64\" y=\"448\">q6</text>\n",
       "<path id=\"qubit_line:7\" d=\"M64,512 L4032,512 \" stroke=\"black\"/>\n",
       "<text dominant-baseline=\"central\" text-anchor=\"end\" font-family=\"monospace\" font-size=\"12\" x=\"64\" y=\"512\">q7</text>\n",
       "<path id=\"qubit_line:8\" d=\"M64,576 L4032,576 \" stroke=\"black\"/>\n",
       "<text dominant-baseline=\"central\" text-anchor=\"end\" font-family=\"monospace\" font-size=\"12\" x=\"64\" y=\"576\">q8</text>\n",
       "<path id=\"qubit_line:9\" d=\"M64,640 L4032,640 \" stroke=\"black\"/>\n",
       "<text dominant-baseline=\"central\" text-anchor=\"end\" font-family=\"monospace\" font-size=\"12\" x=\"64\" y=\"640\">q9</text>\n",
       "<path id=\"qubit_line:10\" d=\"M64,704 L4032,704 \" stroke=\"black\"/>\n",
       "<text dominant-baseline=\"central\" text-anchor=\"end\" font-family=\"monospace\" font-size=\"12\" x=\"64\" y=\"704\">q10</text>\n",
       "<path id=\"qubit_line:11\" d=\"M64,768 L4032,768 \" stroke=\"black\"/>\n",
       "<text dominant-baseline=\"central\" text-anchor=\"end\" font-family=\"monospace\" font-size=\"12\" x=\"64\" y=\"768\">q11</text>\n",
       "<path id=\"qubit_line:12\" d=\"M64,832 L4032,832 \" stroke=\"black\"/>\n",
       "<text dominant-baseline=\"central\" text-anchor=\"end\" font-family=\"monospace\" font-size=\"12\" x=\"64\" y=\"832\">q12</text>\n",
       "<path id=\"qubit_line:13\" d=\"M64,896 L4032,896 \" stroke=\"black\"/>\n",
       "<text dominant-baseline=\"central\" text-anchor=\"end\" font-family=\"monospace\" font-size=\"12\" x=\"64\" y=\"896\">q13</text>\n",
       "<path id=\"qubit_line:14\" d=\"M64,960 L4032,960 \" stroke=\"black\"/>\n",
       "<text dominant-baseline=\"central\" text-anchor=\"end\" font-family=\"monospace\" font-size=\"12\" x=\"64\" y=\"960\">q14</text>\n",
       "<path id=\"qubit_line:15\" d=\"M64,1024 L4032,1024 \" stroke=\"black\"/>\n",
       "<text dominant-baseline=\"central\" text-anchor=\"end\" font-family=\"monospace\" font-size=\"12\" x=\"64\" y=\"1024\">q15</text>\n",
       "<path id=\"qubit_line:16\" d=\"M64,1088 L4032,1088 \" stroke=\"black\"/>\n",
       "<text dominant-baseline=\"central\" text-anchor=\"end\" font-family=\"monospace\" font-size=\"12\" x=\"64\" y=\"1088\">q16</text>\n",
       "<path id=\"qubit_line:17\" d=\"M64,1152 L4032,1152 \" stroke=\"black\"/>\n",
       "<text dominant-baseline=\"central\" text-anchor=\"end\" font-family=\"monospace\" font-size=\"12\" x=\"64\" y=\"1152\">q17</text>\n",
       "<path id=\"qubit_line:18\" d=\"M64,1216 L4032,1216 \" stroke=\"black\"/>\n",
       "<text dominant-baseline=\"central\" text-anchor=\"end\" font-family=\"monospace\" font-size=\"12\" x=\"64\" y=\"1216\">q18</text>\n",
       "<path id=\"qubit_line:19\" d=\"M64,1280 L4032,1280 \" stroke=\"black\"/>\n",
       "<text dominant-baseline=\"central\" text-anchor=\"end\" font-family=\"monospace\" font-size=\"12\" x=\"64\" y=\"1280\">q19</text>\n",
       "<path id=\"qubit_line:20\" d=\"M64,1344 L4032,1344 \" stroke=\"black\"/>\n",
       "<text dominant-baseline=\"central\" text-anchor=\"end\" font-family=\"monospace\" font-size=\"12\" x=\"64\" y=\"1344\">q20</text>\n",
       "<path id=\"qubit_line:21\" d=\"M64,1408 L4032,1408 \" stroke=\"black\"/>\n",
       "<text dominant-baseline=\"central\" text-anchor=\"end\" font-family=\"monospace\" font-size=\"12\" x=\"64\" y=\"1408\">q21</text>\n",
       "<path id=\"qubit_line:22\" d=\"M64,1472 L4032,1472 \" stroke=\"black\"/>\n",
       "<text dominant-baseline=\"central\" text-anchor=\"end\" font-family=\"monospace\" font-size=\"12\" x=\"64\" y=\"1472\">q22</text>\n",
       "<path id=\"qubit_line:23\" d=\"M64,1536 L4032,1536 \" stroke=\"black\"/>\n",
       "<text dominant-baseline=\"central\" text-anchor=\"end\" font-family=\"monospace\" font-size=\"12\" x=\"64\" y=\"1536\">q23</text>\n",
       "<path id=\"qubit_line:24\" d=\"M64,1600 L4032,1600 \" stroke=\"black\"/>\n",
       "<text dominant-baseline=\"central\" text-anchor=\"end\" font-family=\"monospace\" font-size=\"12\" x=\"64\" y=\"1600\">q24</text>\n",
       "<path id=\"qubit_line:25\" d=\"M64,1664 L4032,1664 \" stroke=\"black\"/>\n",
       "<text dominant-baseline=\"central\" text-anchor=\"end\" font-family=\"monospace\" font-size=\"12\" x=\"64\" y=\"1664\">q25</text>\n",
       "<path id=\"qubit_line:26\" d=\"M64,1728 L4032,1728 \" stroke=\"black\"/>\n",
       "<text dominant-baseline=\"central\" text-anchor=\"end\" font-family=\"monospace\" font-size=\"12\" x=\"64\" y=\"1728\">q26</text>\n",
       "<path id=\"qubit_line:27\" d=\"M64,1792 L4032,1792 \" stroke=\"black\"/>\n",
       "<text dominant-baseline=\"central\" text-anchor=\"end\" font-family=\"monospace\" font-size=\"12\" x=\"64\" y=\"1792\">q27</text>\n",
       "<path id=\"qubit_line:28\" d=\"M64,1856 L4032,1856 \" stroke=\"black\"/>\n",
       "<text dominant-baseline=\"central\" text-anchor=\"end\" font-family=\"monospace\" font-size=\"12\" x=\"64\" y=\"1856\">q28</text>\n",
       "<path id=\"qubit_line:29\" d=\"M64,1920 L4032,1920 \" stroke=\"black\"/>\n",
       "<text dominant-baseline=\"central\" text-anchor=\"end\" font-family=\"monospace\" font-size=\"12\" x=\"64\" y=\"1920\">q29</text>\n",
       "<path id=\"qubit_line:30\" d=\"M64,1984 L4032,1984 \" stroke=\"black\"/>\n",
       "<text dominant-baseline=\"central\" text-anchor=\"end\" font-family=\"monospace\" font-size=\"12\" x=\"64\" y=\"1984\">q30</text>\n",
       "<path id=\"qubit_line:31\" d=\"M64,2048 L4032,2048 \" stroke=\"black\"/>\n",
       "<text dominant-baseline=\"central\" text-anchor=\"end\" font-family=\"monospace\" font-size=\"12\" x=\"64\" y=\"2048\">q31</text>\n",
       "<path id=\"qubit_line:32\" d=\"M64,2112 L4032,2112 \" stroke=\"black\"/>\n",
       "<text dominant-baseline=\"central\" text-anchor=\"end\" font-family=\"monospace\" font-size=\"12\" x=\"64\" y=\"2112\">q32</text>\n",
       "<path id=\"qubit_line:33\" d=\"M64,2176 L4032,2176 \" stroke=\"black\"/>\n",
       "<text dominant-baseline=\"central\" text-anchor=\"end\" font-family=\"monospace\" font-size=\"12\" x=\"64\" y=\"2176\">q33</text>\n",
       "<path id=\"qubit_line:34\" d=\"M64,2240 L4032,2240 \" stroke=\"black\"/>\n",
       "<text dominant-baseline=\"central\" text-anchor=\"end\" font-family=\"monospace\" font-size=\"12\" x=\"64\" y=\"2240\">q34</text>\n",
       "<path id=\"qubit_line:35\" d=\"M64,2304 L4032,2304 \" stroke=\"black\"/>\n",
       "<text dominant-baseline=\"central\" text-anchor=\"end\" font-family=\"monospace\" font-size=\"12\" x=\"64\" y=\"2304\">q35</text>\n",
       "<path id=\"qubit_line:36\" d=\"M64,2368 L4032,2368 \" stroke=\"black\"/>\n",
       "<text dominant-baseline=\"central\" text-anchor=\"end\" font-family=\"monospace\" font-size=\"12\" x=\"64\" y=\"2368\">q36</text>\n",
       "<path id=\"qubit_line:37\" d=\"M64,2432 L4032,2432 \" stroke=\"black\"/>\n",
       "<text dominant-baseline=\"central\" text-anchor=\"end\" font-family=\"monospace\" font-size=\"12\" x=\"64\" y=\"2432\">q37</text>\n",
       "<path id=\"qubit_line:38\" d=\"M64,2496 L4032,2496 \" stroke=\"black\"/>\n",
       "<text dominant-baseline=\"central\" text-anchor=\"end\" font-family=\"monospace\" font-size=\"12\" x=\"64\" y=\"2496\">q38</text>\n",
       "<path id=\"qubit_line:39\" d=\"M64,2560 L4032,2560 \" stroke=\"black\"/>\n",
       "<text dominant-baseline=\"central\" text-anchor=\"end\" font-family=\"monospace\" font-size=\"12\" x=\"64\" y=\"2560\">q39</text>\n",
       "<path id=\"qubit_line:40\" d=\"M64,2624 L4032,2624 \" stroke=\"black\"/>\n",
       "<text dominant-baseline=\"central\" text-anchor=\"end\" font-family=\"monospace\" font-size=\"12\" x=\"64\" y=\"2624\">q40</text>\n",
       "<path id=\"qubit_line:41\" d=\"M64,2688 L4032,2688 \" stroke=\"black\"/>\n",
       "<text dominant-baseline=\"central\" text-anchor=\"end\" font-family=\"monospace\" font-size=\"12\" x=\"64\" y=\"2688\">q41</text>\n",
       "<path id=\"qubit_line:42\" d=\"M64,2752 L4032,2752 \" stroke=\"black\"/>\n",
       "<text dominant-baseline=\"central\" text-anchor=\"end\" font-family=\"monospace\" font-size=\"12\" x=\"64\" y=\"2752\">q42</text>\n",
       "<path id=\"qubit_line:43\" d=\"M64,2816 L4032,2816 \" stroke=\"black\"/>\n",
       "<text dominant-baseline=\"central\" text-anchor=\"end\" font-family=\"monospace\" font-size=\"12\" x=\"64\" y=\"2816\">q43</text>\n",
       "<path id=\"qubit_line:44\" d=\"M64,2880 L4032,2880 \" stroke=\"black\"/>\n",
       "<text dominant-baseline=\"central\" text-anchor=\"end\" font-family=\"monospace\" font-size=\"12\" x=\"64\" y=\"2880\">q44</text>\n",
       "<path id=\"qubit_line:45\" d=\"M64,2944 L4032,2944 \" stroke=\"black\"/>\n",
       "<text dominant-baseline=\"central\" text-anchor=\"end\" font-family=\"monospace\" font-size=\"12\" x=\"64\" y=\"2944\">q45</text>\n",
       "<path id=\"qubit_line:46\" d=\"M64,3008 L4032,3008 \" stroke=\"black\"/>\n",
       "<text dominant-baseline=\"central\" text-anchor=\"end\" font-family=\"monospace\" font-size=\"12\" x=\"64\" y=\"3008\">q46</text>\n",
       "<path id=\"qubit_line:47\" d=\"M64,3072 L4032,3072 \" stroke=\"black\"/>\n",
       "<text dominant-baseline=\"central\" text-anchor=\"end\" font-family=\"monospace\" font-size=\"12\" x=\"64\" y=\"3072\">q47</text>\n",
       "<path id=\"qubit_line:48\" d=\"M64,3136 L4032,3136 \" stroke=\"black\"/>\n",
       "<text dominant-baseline=\"central\" text-anchor=\"end\" font-family=\"monospace\" font-size=\"12\" x=\"64\" y=\"3136\">q48</text>\n",
       "<path id=\"qubit_line:49\" d=\"M64,3200 L4032,3200 \" stroke=\"black\"/>\n",
       "<text dominant-baseline=\"central\" text-anchor=\"end\" font-family=\"monospace\" font-size=\"12\" x=\"64\" y=\"3200\">q49</text>\n",
       "<path id=\"qubit_line:50\" d=\"M64,3264 L4032,3264 \" stroke=\"black\"/>\n",
       "<text dominant-baseline=\"central\" text-anchor=\"end\" font-family=\"monospace\" font-size=\"12\" x=\"64\" y=\"3264\">q50</text>\n",
       "<path id=\"qubit_line:51\" d=\"M64,3328 L4032,3328 \" stroke=\"black\"/>\n",
       "<text dominant-baseline=\"central\" text-anchor=\"end\" font-family=\"monospace\" font-size=\"12\" x=\"64\" y=\"3328\">q51</text>\n",
       "<path id=\"qubit_line:52\" d=\"M64,3392 L4032,3392 \" stroke=\"black\"/>\n",
       "<text dominant-baseline=\"central\" text-anchor=\"end\" font-family=\"monospace\" font-size=\"12\" x=\"64\" y=\"3392\">q52</text>\n",
       "</g>\n",
       "<rect x=\"80\" y=\"48\" width=\"224\" height=\"32\" stroke=\"black\" fill=\"white\"/>\n",
       "<text dominant-baseline=\"central\" text-anchor=\"middle\" font-family=\"monospace\" font-size=\"16\" x=\"192\" y=\"64\">COORDS(1,1)</text>\n",
       "<rect x=\"80\" y=\"112\" width=\"224\" height=\"32\" stroke=\"black\" fill=\"white\"/>\n",
       "<text dominant-baseline=\"central\" text-anchor=\"middle\" font-family=\"monospace\" font-size=\"16\" x=\"192\" y=\"128\">COORDS(1,2)</text>\n",
       "<rect x=\"80\" y=\"176\" width=\"224\" height=\"32\" stroke=\"black\" fill=\"white\"/>\n",
       "<text dominant-baseline=\"central\" text-anchor=\"middle\" font-family=\"monospace\" font-size=\"16\" x=\"192\" y=\"192\">COORDS(1,3)</text>\n",
       "<rect x=\"80\" y=\"240\" width=\"224\" height=\"32\" stroke=\"black\" fill=\"white\"/>\n",
       "<text dominant-baseline=\"central\" text-anchor=\"middle\" font-family=\"monospace\" font-size=\"16\" x=\"192\" y=\"256\">COORDS(2,1)</text>\n",
       "<rect x=\"80\" y=\"304\" width=\"224\" height=\"32\" stroke=\"black\" fill=\"white\"/>\n",
       "<text dominant-baseline=\"central\" text-anchor=\"middle\" font-family=\"monospace\" font-size=\"16\" x=\"192\" y=\"320\">COORDS(2,2)</text>\n",
       "<rect x=\"80\" y=\"368\" width=\"224\" height=\"32\" stroke=\"black\" fill=\"white\"/>\n",
       "<text dominant-baseline=\"central\" text-anchor=\"middle\" font-family=\"monospace\" font-size=\"16\" x=\"192\" y=\"384\">COORDS(2,3)</text>\n",
       "<rect x=\"80\" y=\"432\" width=\"224\" height=\"32\" stroke=\"black\" fill=\"white\"/>\n",
       "<text dominant-baseline=\"central\" text-anchor=\"middle\" font-family=\"monospace\" font-size=\"16\" x=\"192\" y=\"448\">COORDS(3,1)</text>\n",
       "<rect x=\"80\" y=\"496\" width=\"224\" height=\"32\" stroke=\"black\" fill=\"white\"/>\n",
       "<text dominant-baseline=\"central\" text-anchor=\"middle\" font-family=\"monospace\" font-size=\"16\" x=\"192\" y=\"512\">COORDS(3,2)</text>\n",
       "<rect x=\"80\" y=\"560\" width=\"224\" height=\"32\" stroke=\"black\" fill=\"white\"/>\n",
       "<text dominant-baseline=\"central\" text-anchor=\"middle\" font-family=\"monospace\" font-size=\"16\" x=\"192\" y=\"576\">COORDS(3,3)</text>\n",
       "<rect x=\"80\" y=\"624\" width=\"224\" height=\"32\" stroke=\"black\" fill=\"white\"/>\n",
       "<text dominant-baseline=\"central\" text-anchor=\"middle\" font-family=\"monospace\" font-size=\"16\" x=\"192\" y=\"640\">COORDS(4,1)</text>\n",
       "<rect x=\"80\" y=\"688\" width=\"224\" height=\"32\" stroke=\"black\" fill=\"white\"/>\n",
       "<text dominant-baseline=\"central\" text-anchor=\"middle\" font-family=\"monospace\" font-size=\"16\" x=\"192\" y=\"704\">COORDS(4,2)</text>\n",
       "<rect x=\"80\" y=\"752\" width=\"224\" height=\"32\" stroke=\"black\" fill=\"white\"/>\n",
       "<text dominant-baseline=\"central\" text-anchor=\"middle\" font-family=\"monospace\" font-size=\"16\" x=\"192\" y=\"768\">COORDS(4,3)</text>\n",
       "<rect x=\"80\" y=\"816\" width=\"224\" height=\"32\" stroke=\"black\" fill=\"white\"/>\n",
       "<text dominant-baseline=\"central\" text-anchor=\"middle\" font-family=\"monospace\" font-size=\"16\" x=\"192\" y=\"832\">COORDS(5,1)</text>\n",
       "<rect x=\"80\" y=\"880\" width=\"224\" height=\"32\" stroke=\"black\" fill=\"white\"/>\n",
       "<text dominant-baseline=\"central\" text-anchor=\"middle\" font-family=\"monospace\" font-size=\"16\" x=\"192\" y=\"896\">COORDS(5,2)</text>\n",
       "<rect x=\"80\" y=\"944\" width=\"224\" height=\"32\" stroke=\"black\" fill=\"white\"/>\n",
       "<text dominant-baseline=\"central\" text-anchor=\"middle\" font-family=\"monospace\" font-size=\"16\" x=\"192\" y=\"960\">COORDS(5,3)</text>\n",
       "<rect x=\"80\" y=\"1008\" width=\"224\" height=\"32\" stroke=\"black\" fill=\"white\"/>\n",
       "<text dominant-baseline=\"central\" text-anchor=\"middle\" font-family=\"monospace\" font-size=\"16\" x=\"192\" y=\"1024\">COORDS(6,1)</text>\n",
       "<rect x=\"80\" y=\"1072\" width=\"224\" height=\"32\" stroke=\"black\" fill=\"white\"/>\n",
       "<text dominant-baseline=\"central\" text-anchor=\"middle\" font-family=\"monospace\" font-size=\"16\" x=\"192\" y=\"1088\">COORDS(6,2)</text>\n",
       "<rect x=\"80\" y=\"1136\" width=\"224\" height=\"32\" stroke=\"black\" fill=\"white\"/>\n",
       "<text dominant-baseline=\"central\" text-anchor=\"middle\" font-family=\"monospace\" font-size=\"16\" x=\"192\" y=\"1152\">COORDS(6,3)</text>\n",
       "<rect x=\"80\" y=\"1200\" width=\"224\" height=\"32\" stroke=\"black\" fill=\"white\"/>\n",
       "<text dominant-baseline=\"central\" text-anchor=\"middle\" font-family=\"monospace\" font-size=\"16\" x=\"192\" y=\"1216\">COORDS(7,1)</text>\n",
       "<rect x=\"80\" y=\"1264\" width=\"224\" height=\"32\" stroke=\"black\" fill=\"white\"/>\n",
       "<text dominant-baseline=\"central\" text-anchor=\"middle\" font-family=\"monospace\" font-size=\"16\" x=\"192\" y=\"1280\">COORDS(7,2)</text>\n",
       "<rect x=\"80\" y=\"1328\" width=\"224\" height=\"32\" stroke=\"black\" fill=\"white\"/>\n",
       "<text dominant-baseline=\"central\" text-anchor=\"middle\" font-family=\"monospace\" font-size=\"16\" x=\"192\" y=\"1344\">COORDS(7,3)</text>\n",
       "<rect x=\"80\" y=\"1392\" width=\"224\" height=\"32\" stroke=\"black\" fill=\"white\"/>\n",
       "<text dominant-baseline=\"central\" text-anchor=\"middle\" font-family=\"monospace\" font-size=\"16\" x=\"192\" y=\"1408\">COORDS(0.5,0.5)</text>\n",
       "<rect x=\"80\" y=\"1456\" width=\"224\" height=\"32\" stroke=\"black\" fill=\"white\"/>\n",
       "<text dominant-baseline=\"central\" text-anchor=\"middle\" font-family=\"monospace\" font-size=\"16\" x=\"192\" y=\"1472\">COORDS(0.5,1.5)</text>\n",
       "<rect x=\"80\" y=\"1520\" width=\"224\" height=\"32\" stroke=\"black\" fill=\"white\"/>\n",
       "<text dominant-baseline=\"central\" text-anchor=\"middle\" font-family=\"monospace\" font-size=\"16\" x=\"192\" y=\"1536\">COORDS(0.5,2.5)</text>\n",
       "<rect x=\"80\" y=\"1584\" width=\"224\" height=\"32\" stroke=\"black\" fill=\"white\"/>\n",
       "<text dominant-baseline=\"central\" text-anchor=\"middle\" font-family=\"monospace\" font-size=\"16\" x=\"192\" y=\"1600\">COORDS(0.5,3.5)</text>\n",
       "<rect x=\"80\" y=\"1648\" width=\"224\" height=\"32\" stroke=\"black\" fill=\"white\"/>\n",
       "<text dominant-baseline=\"central\" text-anchor=\"middle\" font-family=\"monospace\" font-size=\"16\" x=\"192\" y=\"1664\">COORDS(1.5,0.5)</text>\n",
       "<rect x=\"80\" y=\"1712\" width=\"224\" height=\"32\" stroke=\"black\" fill=\"white\"/>\n",
       "<text dominant-baseline=\"central\" text-anchor=\"middle\" font-family=\"monospace\" font-size=\"16\" x=\"192\" y=\"1728\">COORDS(1.5,1.5)</text>\n",
       "<rect x=\"80\" y=\"1776\" width=\"224\" height=\"32\" stroke=\"black\" fill=\"white\"/>\n",
       "<text dominant-baseline=\"central\" text-anchor=\"middle\" font-family=\"monospace\" font-size=\"16\" x=\"192\" y=\"1792\">COORDS(1.5,2.5)</text>\n",
       "<rect x=\"80\" y=\"1840\" width=\"224\" height=\"32\" stroke=\"black\" fill=\"white\"/>\n",
       "<text dominant-baseline=\"central\" text-anchor=\"middle\" font-family=\"monospace\" font-size=\"16\" x=\"192\" y=\"1856\">COORDS(1.5,3.5)</text>\n",
       "<rect x=\"80\" y=\"1904\" width=\"224\" height=\"32\" stroke=\"black\" fill=\"white\"/>\n",
       "<text dominant-baseline=\"central\" text-anchor=\"middle\" font-family=\"monospace\" font-size=\"16\" x=\"192\" y=\"1920\">COORDS(2.5,0.5)</text>\n",
       "<rect x=\"80\" y=\"1968\" width=\"224\" height=\"32\" stroke=\"black\" fill=\"white\"/>\n",
       "<text dominant-baseline=\"central\" text-anchor=\"middle\" font-family=\"monospace\" font-size=\"16\" x=\"192\" y=\"1984\">COORDS(2.5,1.5)</text>\n",
       "<rect x=\"80\" y=\"2032\" width=\"224\" height=\"32\" stroke=\"black\" fill=\"white\"/>\n",
       "<text dominant-baseline=\"central\" text-anchor=\"middle\" font-family=\"monospace\" font-size=\"16\" x=\"192\" y=\"2048\">COORDS(2.5,2.5)</text>\n",
       "<rect x=\"80\" y=\"2096\" width=\"224\" height=\"32\" stroke=\"black\" fill=\"white\"/>\n",
       "<text dominant-baseline=\"central\" text-anchor=\"middle\" font-family=\"monospace\" font-size=\"16\" x=\"192\" y=\"2112\">COORDS(2.5,3.5)</text>\n",
       "<rect x=\"80\" y=\"2160\" width=\"224\" height=\"32\" stroke=\"black\" fill=\"white\"/>\n",
       "<text dominant-baseline=\"central\" text-anchor=\"middle\" font-family=\"monospace\" font-size=\"16\" x=\"192\" y=\"2176\">COORDS(3.5,0.5)</text>\n",
       "<rect x=\"80\" y=\"2224\" width=\"224\" height=\"32\" stroke=\"black\" fill=\"white\"/>\n",
       "<text dominant-baseline=\"central\" text-anchor=\"middle\" font-family=\"monospace\" font-size=\"16\" x=\"192\" y=\"2240\">COORDS(3.5,1.5)</text>\n",
       "<rect x=\"80\" y=\"2288\" width=\"224\" height=\"32\" stroke=\"black\" fill=\"white\"/>\n",
       "<text dominant-baseline=\"central\" text-anchor=\"middle\" font-family=\"monospace\" font-size=\"16\" x=\"192\" y=\"2304\">COORDS(3.5,2.5)</text>\n",
       "<rect x=\"80\" y=\"2352\" width=\"224\" height=\"32\" stroke=\"black\" fill=\"white\"/>\n",
       "<text dominant-baseline=\"central\" text-anchor=\"middle\" font-family=\"monospace\" font-size=\"16\" x=\"192\" y=\"2368\">COORDS(3.5,3.5)</text>\n",
       "<rect x=\"80\" y=\"2416\" width=\"224\" height=\"32\" stroke=\"black\" fill=\"white\"/>\n",
       "<text dominant-baseline=\"central\" text-anchor=\"middle\" font-family=\"monospace\" font-size=\"16\" x=\"192\" y=\"2432\">COORDS(4.5,0.5)</text>\n",
       "<rect x=\"80\" y=\"2480\" width=\"224\" height=\"32\" stroke=\"black\" fill=\"white\"/>\n",
       "<text dominant-baseline=\"central\" text-anchor=\"middle\" font-family=\"monospace\" font-size=\"16\" x=\"192\" y=\"2496\">COORDS(4.5,1.5)</text>\n",
       "<rect x=\"80\" y=\"2544\" width=\"224\" height=\"32\" stroke=\"black\" fill=\"white\"/>\n",
       "<text dominant-baseline=\"central\" text-anchor=\"middle\" font-family=\"monospace\" font-size=\"16\" x=\"192\" y=\"2560\">COORDS(4.5,2.5)</text>\n",
       "<rect x=\"80\" y=\"2608\" width=\"224\" height=\"32\" stroke=\"black\" fill=\"white\"/>\n",
       "<text dominant-baseline=\"central\" text-anchor=\"middle\" font-family=\"monospace\" font-size=\"16\" x=\"192\" y=\"2624\">COORDS(4.5,3.5)</text>\n",
       "<rect x=\"80\" y=\"2672\" width=\"224\" height=\"32\" stroke=\"black\" fill=\"white\"/>\n",
       "<text dominant-baseline=\"central\" text-anchor=\"middle\" font-family=\"monospace\" font-size=\"16\" x=\"192\" y=\"2688\">COORDS(5.5,0.5)</text>\n",
       "<rect x=\"80\" y=\"2736\" width=\"224\" height=\"32\" stroke=\"black\" fill=\"white\"/>\n",
       "<text dominant-baseline=\"central\" text-anchor=\"middle\" font-family=\"monospace\" font-size=\"16\" x=\"192\" y=\"2752\">COORDS(5.5,1.5)</text>\n",
       "<rect x=\"80\" y=\"2800\" width=\"224\" height=\"32\" stroke=\"black\" fill=\"white\"/>\n",
       "<text dominant-baseline=\"central\" text-anchor=\"middle\" font-family=\"monospace\" font-size=\"16\" x=\"192\" y=\"2816\">COORDS(5.5,2.5)</text>\n",
       "<rect x=\"80\" y=\"2864\" width=\"224\" height=\"32\" stroke=\"black\" fill=\"white\"/>\n",
       "<text dominant-baseline=\"central\" text-anchor=\"middle\" font-family=\"monospace\" font-size=\"16\" x=\"192\" y=\"2880\">COORDS(5.5,3.5)</text>\n",
       "<rect x=\"80\" y=\"2928\" width=\"224\" height=\"32\" stroke=\"black\" fill=\"white\"/>\n",
       "<text dominant-baseline=\"central\" text-anchor=\"middle\" font-family=\"monospace\" font-size=\"16\" x=\"192\" y=\"2944\">COORDS(6.5,0.5)</text>\n",
       "<rect x=\"80\" y=\"2992\" width=\"224\" height=\"32\" stroke=\"black\" fill=\"white\"/>\n",
       "<text dominant-baseline=\"central\" text-anchor=\"middle\" font-family=\"monospace\" font-size=\"16\" x=\"192\" y=\"3008\">COORDS(6.5,1.5)</text>\n",
       "<rect x=\"80\" y=\"3056\" width=\"224\" height=\"32\" stroke=\"black\" fill=\"white\"/>\n",
       "<text dominant-baseline=\"central\" text-anchor=\"middle\" font-family=\"monospace\" font-size=\"16\" x=\"192\" y=\"3072\">COORDS(6.5,2.5)</text>\n",
       "<rect x=\"80\" y=\"3120\" width=\"224\" height=\"32\" stroke=\"black\" fill=\"white\"/>\n",
       "<text dominant-baseline=\"central\" text-anchor=\"middle\" font-family=\"monospace\" font-size=\"16\" x=\"192\" y=\"3136\">COORDS(6.5,3.5)</text>\n",
       "<rect x=\"80\" y=\"3184\" width=\"224\" height=\"32\" stroke=\"black\" fill=\"white\"/>\n",
       "<text dominant-baseline=\"central\" text-anchor=\"middle\" font-family=\"monospace\" font-size=\"16\" x=\"192\" y=\"3200\">COORDS(7.5,0.5)</text>\n",
       "<rect x=\"80\" y=\"3248\" width=\"224\" height=\"32\" stroke=\"black\" fill=\"white\"/>\n",
       "<text dominant-baseline=\"central\" text-anchor=\"middle\" font-family=\"monospace\" font-size=\"16\" x=\"192\" y=\"3264\">COORDS(7.5,1.5)</text>\n",
       "<rect x=\"80\" y=\"3312\" width=\"224\" height=\"32\" stroke=\"black\" fill=\"white\"/>\n",
       "<text dominant-baseline=\"central\" text-anchor=\"middle\" font-family=\"monospace\" font-size=\"16\" x=\"192\" y=\"3328\">COORDS(7.5,2.5)</text>\n",
       "<rect x=\"80\" y=\"3376\" width=\"224\" height=\"32\" stroke=\"black\" fill=\"white\"/>\n",
       "<text dominant-baseline=\"central\" text-anchor=\"middle\" font-family=\"monospace\" font-size=\"16\" x=\"192\" y=\"3392\">COORDS(7.5,3.5)</text>\n",
       "<rect x=\"336\" y=\"112\" width=\"32\" height=\"32\" stroke=\"black\" fill=\"black\"/>\n",
       "<text dominant-baseline=\"central\" text-anchor=\"middle\" font-family=\"monospace\" font-size=\"30\" x=\"352\" y=\"128\" fill=\"white\">R</text>\n",
       "<rect x=\"336\" y=\"176\" width=\"32\" height=\"32\" stroke=\"black\" fill=\"black\"/>\n",
       "<text dominant-baseline=\"central\" text-anchor=\"middle\" font-family=\"monospace\" font-size=\"30\" x=\"352\" y=\"192\" fill=\"white\">R</text>\n",
       "<rect x=\"336\" y=\"304\" width=\"32\" height=\"32\" stroke=\"black\" fill=\"black\"/>\n",
       "<text dominant-baseline=\"central\" text-anchor=\"middle\" font-family=\"monospace\" font-size=\"30\" x=\"352\" y=\"320\" fill=\"white\">R</text>\n",
       "<rect x=\"336\" y=\"368\" width=\"32\" height=\"32\" stroke=\"black\" fill=\"black\"/>\n",
       "<text dominant-baseline=\"central\" text-anchor=\"middle\" font-family=\"monospace\" font-size=\"30\" x=\"352\" y=\"384\" fill=\"white\">R</text>\n",
       "<rect x=\"336\" y=\"240\" width=\"32\" height=\"32\" stroke=\"black\" fill=\"black\"/>\n",
       "<text dominant-baseline=\"central\" text-anchor=\"middle\" font-family=\"monospace\" font-size=\"30\" x=\"352\" y=\"256\" fill=\"white\">R</text>\n",
       "<rect x=\"336\" y=\"432\" width=\"32\" height=\"32\" stroke=\"black\" fill=\"black\"/>\n",
       "<text dominant-baseline=\"central\" text-anchor=\"middle\" font-family=\"monospace\" font-size=\"30\" x=\"352\" y=\"448\" fill=\"white\">R</text>\n",
       "<rect x=\"336\" y=\"496\" width=\"32\" height=\"32\" stroke=\"black\" fill=\"black\"/>\n",
       "<text dominant-baseline=\"central\" text-anchor=\"middle\" font-family=\"monospace\" font-size=\"30\" x=\"352\" y=\"512\" fill=\"white\">R</text>\n",
       "<rect x=\"336\" y=\"48\" width=\"32\" height=\"32\" stroke=\"black\" fill=\"black\"/>\n",
       "<text dominant-baseline=\"central\" text-anchor=\"middle\" font-family=\"monospace\" font-size=\"30\" x=\"352\" y=\"64\" fill=\"white\">R</text>\n",
       "<rect x=\"336\" y=\"560\" width=\"32\" height=\"32\" stroke=\"black\" fill=\"black\"/>\n",
       "<text dominant-baseline=\"central\" text-anchor=\"middle\" font-family=\"monospace\" font-size=\"30\" x=\"352\" y=\"576\" fill=\"white\">R</text>\n",
       "<rect x=\"400\" y=\"48\" width=\"32\" height=\"32\" stroke=\"black\" fill=\"white\"/>\n",
       "<text dominant-baseline=\"central\" text-anchor=\"middle\" font-family=\"monospace\" font-size=\"30\" x=\"416\" y=\"64\">X</text>\n",
       "<rect x=\"400\" y=\"240\" width=\"32\" height=\"32\" stroke=\"black\" fill=\"white\"/>\n",
       "<text dominant-baseline=\"central\" text-anchor=\"middle\" font-family=\"monospace\" font-size=\"30\" x=\"416\" y=\"256\">X</text>\n",
       "<rect x=\"400\" y=\"432\" width=\"32\" height=\"32\" stroke=\"black\" fill=\"white\"/>\n",
       "<text dominant-baseline=\"central\" text-anchor=\"middle\" font-family=\"monospace\" font-size=\"30\" x=\"416\" y=\"448\">X</text>\n",
       "<path d=\"M68,40 L68,32 L444,32 L444,40 \" stroke=\"black\" fill=\"none\"/>\n",
       "<path d=\"M68,3448 L68,3456 L444,3456 L444,3448 \" stroke=\"black\" fill=\"none\"/>\n",
       "<rect x=\"528\" y=\"880\" width=\"32\" height=\"32\" stroke=\"black\" fill=\"black\"/>\n",
       "<text dominant-baseline=\"central\" text-anchor=\"middle\" font-family=\"monospace\" font-size=\"30\" x=\"544\" y=\"896\" fill=\"white\">R</text>\n",
       "<rect x=\"528\" y=\"944\" width=\"32\" height=\"32\" stroke=\"black\" fill=\"black\"/>\n",
       "<text dominant-baseline=\"central\" text-anchor=\"middle\" font-family=\"monospace\" font-size=\"30\" x=\"544\" y=\"960\" fill=\"white\">R</text>\n",
       "<rect x=\"528\" y=\"1072\" width=\"32\" height=\"32\" stroke=\"black\" fill=\"black\"/>\n",
       "<text dominant-baseline=\"central\" text-anchor=\"middle\" font-family=\"monospace\" font-size=\"30\" x=\"544\" y=\"1088\" fill=\"white\">R</text>\n",
       "<rect x=\"528\" y=\"1136\" width=\"32\" height=\"32\" stroke=\"black\" fill=\"black\"/>\n",
       "<text dominant-baseline=\"central\" text-anchor=\"middle\" font-family=\"monospace\" font-size=\"30\" x=\"544\" y=\"1152\" fill=\"white\">R</text>\n",
       "<rect x=\"528\" y=\"1008\" width=\"32\" height=\"32\" stroke=\"black\" fill=\"black\"/>\n",
       "<text dominant-baseline=\"central\" text-anchor=\"middle\" font-family=\"monospace\" font-size=\"30\" x=\"544\" y=\"1024\" fill=\"white\">R</text>\n",
       "<rect x=\"528\" y=\"1200\" width=\"32\" height=\"32\" stroke=\"black\" fill=\"black\"/>\n",
       "<text dominant-baseline=\"central\" text-anchor=\"middle\" font-family=\"monospace\" font-size=\"30\" x=\"544\" y=\"1216\" fill=\"white\">R</text>\n",
       "<rect x=\"528\" y=\"1264\" width=\"32\" height=\"32\" stroke=\"black\" fill=\"black\"/>\n",
       "<text dominant-baseline=\"central\" text-anchor=\"middle\" font-family=\"monospace\" font-size=\"30\" x=\"544\" y=\"1280\" fill=\"white\">R</text>\n",
       "<rect x=\"528\" y=\"816\" width=\"32\" height=\"32\" stroke=\"black\" fill=\"black\"/>\n",
       "<text dominant-baseline=\"central\" text-anchor=\"middle\" font-family=\"monospace\" font-size=\"30\" x=\"544\" y=\"832\" fill=\"white\">R</text>\n",
       "<rect x=\"528\" y=\"1328\" width=\"32\" height=\"32\" stroke=\"black\" fill=\"black\"/>\n",
       "<text dominant-baseline=\"central\" text-anchor=\"middle\" font-family=\"monospace\" font-size=\"30\" x=\"544\" y=\"1344\" fill=\"white\">R</text>\n",
       "<rect x=\"592\" y=\"1392\" width=\"32\" height=\"32\" stroke=\"black\" fill=\"white\"/>\n",
       "<text dominant-baseline=\"central\" text-anchor=\"middle\" font-family=\"monospace\" font-size=\"30\" x=\"608\" y=\"1408\">H</text>\n",
       "<rect x=\"592\" y=\"1456\" width=\"32\" height=\"32\" stroke=\"black\" fill=\"white\"/>\n",
       "<text dominant-baseline=\"central\" text-anchor=\"middle\" font-family=\"monospace\" font-size=\"30\" x=\"608\" y=\"1472\">H</text>\n",
       "<rect x=\"592\" y=\"1520\" width=\"32\" height=\"32\" stroke=\"black\" fill=\"white\"/>\n",
       "<text dominant-baseline=\"central\" text-anchor=\"middle\" font-family=\"monospace\" font-size=\"30\" x=\"608\" y=\"1536\">H</text>\n",
       "<rect x=\"592\" y=\"1584\" width=\"32\" height=\"32\" stroke=\"black\" fill=\"white\"/>\n",
       "<text dominant-baseline=\"central\" text-anchor=\"middle\" font-family=\"monospace\" font-size=\"30\" x=\"608\" y=\"1600\">H</text>\n",
       "<rect x=\"592\" y=\"1648\" width=\"32\" height=\"32\" stroke=\"black\" fill=\"white\"/>\n",
       "<text dominant-baseline=\"central\" text-anchor=\"middle\" font-family=\"monospace\" font-size=\"30\" x=\"608\" y=\"1664\">H</text>\n",
       "<rect x=\"592\" y=\"1712\" width=\"32\" height=\"32\" stroke=\"black\" fill=\"white\"/>\n",
       "<text dominant-baseline=\"central\" text-anchor=\"middle\" font-family=\"monospace\" font-size=\"30\" x=\"608\" y=\"1728\">H</text>\n",
       "<rect x=\"592\" y=\"1776\" width=\"32\" height=\"32\" stroke=\"black\" fill=\"white\"/>\n",
       "<text dominant-baseline=\"central\" text-anchor=\"middle\" font-family=\"monospace\" font-size=\"30\" x=\"608\" y=\"1792\">H</text>\n",
       "<rect x=\"592\" y=\"1840\" width=\"32\" height=\"32\" stroke=\"black\" fill=\"white\"/>\n",
       "<text dominant-baseline=\"central\" text-anchor=\"middle\" font-family=\"monospace\" font-size=\"30\" x=\"608\" y=\"1856\">H</text>\n",
       "<path d=\"M672,128 L672,1408 \" stroke=\"black\"/>\n",
       "<circle cx=\"672\" cy=\"1408\" r=\"12\" stroke=\"none\" fill=\"black\"/>\n",
       "<circle cx=\"672\" cy=\"128\" r=\"12\" stroke=\"none\" fill=\"black\"/>\n",
       "<path d=\"M736,256 L736,1472 \" stroke=\"black\"/>\n",
       "<circle cx=\"736\" cy=\"1472\" r=\"12\" stroke=\"none\" fill=\"black\"/>\n",
       "<circle cx=\"736\" cy=\"256\" r=\"12\" stroke=\"none\" fill=\"black\"/>\n",
       "<path d=\"M800,64 L800,1536 \" stroke=\"black\"/>\n",
       "<circle cx=\"800\" cy=\"1536\" r=\"12\" stroke=\"none\" fill=\"black\"/>\n",
       "<circle cx=\"800\" cy=\"64\" r=\"12\" stroke=\"none\" fill=\"black\"/>\n",
       "<path d=\"M864,384 L864,1600 \" stroke=\"black\"/>\n",
       "<circle cx=\"864\" cy=\"1600\" r=\"12\" stroke=\"none\" fill=\"black\"/>\n",
       "<circle cx=\"864\" cy=\"384\" r=\"12\" stroke=\"none\" fill=\"black\"/>\n",
       "<path d=\"M928,64 L928,1664 \" stroke=\"black\"/>\n",
       "<circle cx=\"928\" cy=\"1664\" r=\"12\" stroke=\"none\" fill=\"black\"/>\n",
       "<circle cx=\"928\" cy=\"64\" r=\"12\" stroke=\"black\" fill=\"white\"/>\n",
       "<path d=\"M916,64 L940,64 M928,52 L928,76 \" stroke=\"black\"/>\n",
       "<path d=\"M992,320 L992,1728 \" stroke=\"black\"/>\n",
       "<circle cx=\"992\" cy=\"1728\" r=\"12\" stroke=\"none\" fill=\"black\"/>\n",
       "<circle cx=\"992\" cy=\"320\" r=\"12\" stroke=\"black\" fill=\"white\"/>\n",
       "<path d=\"M980,320 L1004,320 M992,308 L992,332 \" stroke=\"black\"/>\n",
       "<path d=\"M1056,448 L1056,1792 \" stroke=\"black\"/>\n",
       "<circle cx=\"1056\" cy=\"1792\" r=\"12\" stroke=\"none\" fill=\"black\"/>\n",
       "<circle cx=\"1056\" cy=\"448\" r=\"12\" stroke=\"black\" fill=\"white\"/>\n",
       "<path d=\"M1044,448 L1068,448 M1056,436 L1056,460 \" stroke=\"black\"/>\n",
       "<path d=\"M1120,128 L1120,1856 \" stroke=\"black\"/>\n",
       "<circle cx=\"1120\" cy=\"1856\" r=\"12\" stroke=\"none\" fill=\"black\"/>\n",
       "<circle cx=\"1120\" cy=\"128\" r=\"12\" stroke=\"black\" fill=\"white\"/>\n",
       "<path d=\"M1108,128 L1132,128 M1120,116 L1120,140 \" stroke=\"black\"/>\n",
       "<path d=\"M644,40 L644,32 L1148,32 L1148,40 \" stroke=\"black\" fill=\"none\"/>\n",
       "<path d=\"M644,3448 L644,3456 L1148,3456 L1148,3448 \" stroke=\"black\" fill=\"none\"/>\n",
       "<path d=\"M1184,192 L1184,1408 \" stroke=\"black\"/>\n",
       "<circle cx=\"1184\" cy=\"1408\" r=\"12\" stroke=\"none\" fill=\"black\"/>\n",
       "<circle cx=\"1184\" cy=\"192\" r=\"12\" stroke=\"none\" fill=\"black\"/>\n",
       "<path d=\"M1248,320 L1248,1472 \" stroke=\"black\"/>\n",
       "<circle cx=\"1248\" cy=\"1472\" r=\"12\" stroke=\"none\" fill=\"black\"/>\n",
       "<circle cx=\"1248\" cy=\"320\" r=\"12\" stroke=\"none\" fill=\"black\"/>\n",
       "<path d=\"M1312,256 L1312,1536 \" stroke=\"black\"/>\n",
       "<circle cx=\"1312\" cy=\"1536\" r=\"12\" stroke=\"none\" fill=\"black\"/>\n",
       "<circle cx=\"1312\" cy=\"256\" r=\"12\" stroke=\"none\" fill=\"black\"/>\n",
       "<path d=\"M1376,576 L1376,1600 \" stroke=\"black\"/>\n",
       "<circle cx=\"1376\" cy=\"1600\" r=\"12\" stroke=\"none\" fill=\"black\"/>\n",
       "<circle cx=\"1376\" cy=\"576\" r=\"12\" stroke=\"none\" fill=\"black\"/>\n",
       "<path d=\"M1440,128 L1440,1664 \" stroke=\"black\"/>\n",
       "<circle cx=\"1440\" cy=\"1664\" r=\"12\" stroke=\"none\" fill=\"black\"/>\n",
       "<circle cx=\"1440\" cy=\"128\" r=\"12\" stroke=\"black\" fill=\"white\"/>\n",
       "<path d=\"M1428,128 L1452,128 M1440,116 L1440,140 \" stroke=\"black\"/>\n",
       "<path d=\"M1504,384 L1504,1728 \" stroke=\"black\"/>\n",
       "<circle cx=\"1504\" cy=\"1728\" r=\"12\" stroke=\"none\" fill=\"black\"/>\n",
       "<circle cx=\"1504\" cy=\"384\" r=\"12\" stroke=\"black\" fill=\"white\"/>\n",
       "<path d=\"M1492,384 L1516,384 M1504,372 L1504,396 \" stroke=\"black\"/>\n",
       "<path d=\"M1568,512 L1568,1792 \" stroke=\"black\"/>\n",
       "<circle cx=\"1568\" cy=\"1792\" r=\"12\" stroke=\"none\" fill=\"black\"/>\n",
       "<circle cx=\"1568\" cy=\"512\" r=\"12\" stroke=\"black\" fill=\"white\"/>\n",
       "<path d=\"M1556,512 L1580,512 M1568,500 L1568,524 \" stroke=\"black\"/>\n",
       "<path d=\"M1632,192 L1632,1856 \" stroke=\"black\"/>\n",
       "<circle cx=\"1632\" cy=\"1856\" r=\"12\" stroke=\"none\" fill=\"black\"/>\n",
       "<circle cx=\"1632\" cy=\"192\" r=\"12\" stroke=\"black\" fill=\"white\"/>\n",
       "<path d=\"M1620,192 L1644,192 M1632,180 L1632,204 \" stroke=\"black\"/>\n",
       "<path d=\"M1156,40 L1156,32 L1660,32 L1660,40 \" stroke=\"black\" fill=\"none\"/>\n",
       "<path d=\"M1156,3448 L1156,3456 L1660,3456 L1660,3448 \" stroke=\"black\" fill=\"none\"/>\n",
       "<path d=\"M1696,320 L1696,1408 \" stroke=\"black\"/>\n",
       "<circle cx=\"1696\" cy=\"1408\" r=\"12\" stroke=\"none\" fill=\"black\"/>\n",
       "<circle cx=\"1696\" cy=\"320\" r=\"12\" stroke=\"none\" fill=\"black\"/>\n",
       "<path d=\"M1760,448 L1760,1472 \" stroke=\"black\"/>\n",
       "<circle cx=\"1760\" cy=\"1472\" r=\"12\" stroke=\"none\" fill=\"black\"/>\n",
       "<circle cx=\"1760\" cy=\"448\" r=\"12\" stroke=\"none\" fill=\"black\"/>\n",
       "<path d=\"M1824,256 L1824,1664 \" stroke=\"black\"/>\n",
       "<circle cx=\"1824\" cy=\"1664\" r=\"12\" stroke=\"none\" fill=\"black\"/>\n",
       "<circle cx=\"1824\" cy=\"256\" r=\"12\" stroke=\"black\" fill=\"white\"/>\n",
       "<path d=\"M1812,256 L1836,256 M1824,244 L1824,268 \" stroke=\"black\"/>\n",
       "<path d=\"M1888,512 L1888,1728 \" stroke=\"black\"/>\n",
       "<circle cx=\"1888\" cy=\"1728\" r=\"12\" stroke=\"none\" fill=\"black\"/>\n",
       "<circle cx=\"1888\" cy=\"512\" r=\"12\" stroke=\"black\" fill=\"white\"/>\n",
       "<path d=\"M1876,512 L1900,512 M1888,500 L1888,524 \" stroke=\"black\"/>\n",
       "<path d=\"M1668,40 L1668,32 L1916,32 L1916,40 \" stroke=\"black\" fill=\"none\"/>\n",
       "<path d=\"M1668,3448 L1668,3456 L1916,3456 L1916,3448 \" stroke=\"black\" fill=\"none\"/>\n",
       "<path d=\"M1952,384 L1952,1408 \" stroke=\"black\"/>\n",
       "<circle cx=\"1952\" cy=\"1408\" r=\"12\" stroke=\"none\" fill=\"black\"/>\n",
       "<circle cx=\"1952\" cy=\"384\" r=\"12\" stroke=\"none\" fill=\"black\"/>\n",
       "<path d=\"M2016,512 L2016,1472 \" stroke=\"black\"/>\n",
       "<circle cx=\"2016\" cy=\"1472\" r=\"12\" stroke=\"none\" fill=\"black\"/>\n",
       "<circle cx=\"2016\" cy=\"512\" r=\"12\" stroke=\"none\" fill=\"black\"/>\n",
       "<path d=\"M2080,320 L2080,1664 \" stroke=\"black\"/>\n",
       "<circle cx=\"2080\" cy=\"1664\" r=\"12\" stroke=\"none\" fill=\"black\"/>\n",
       "<circle cx=\"2080\" cy=\"320\" r=\"12\" stroke=\"black\" fill=\"white\"/>\n",
       "<path d=\"M2068,320 L2092,320 M2080,308 L2080,332 \" stroke=\"black\"/>\n",
       "<path d=\"M2144,576 L2144,1728 \" stroke=\"black\"/>\n",
       "<circle cx=\"2144\" cy=\"1728\" r=\"12\" stroke=\"none\" fill=\"black\"/>\n",
       "<circle cx=\"2144\" cy=\"576\" r=\"12\" stroke=\"black\" fill=\"white\"/>\n",
       "<path d=\"M2132,576 L2156,576 M2144,564 L2144,588 \" stroke=\"black\"/>\n",
       "<path d=\"M1924,40 L1924,32 L2172,32 L2172,40 \" stroke=\"black\" fill=\"none\"/>\n",
       "<path d=\"M1924,3448 L1924,3456 L2172,3456 L2172,3448 \" stroke=\"black\" fill=\"none\"/>\n",
       "<rect x=\"2192\" y=\"1392\" width=\"32\" height=\"32\" stroke=\"black\" fill=\"white\"/>\n",
       "<text dominant-baseline=\"central\" text-anchor=\"middle\" font-family=\"monospace\" font-size=\"30\" x=\"2208\" y=\"1408\">H</text>\n",
       "<rect x=\"2192\" y=\"1456\" width=\"32\" height=\"32\" stroke=\"black\" fill=\"white\"/>\n",
       "<text dominant-baseline=\"central\" text-anchor=\"middle\" font-family=\"monospace\" font-size=\"30\" x=\"2208\" y=\"1472\">H</text>\n",
       "<rect x=\"2192\" y=\"1520\" width=\"32\" height=\"32\" stroke=\"black\" fill=\"white\"/>\n",
       "<text dominant-baseline=\"central\" text-anchor=\"middle\" font-family=\"monospace\" font-size=\"30\" x=\"2208\" y=\"1536\">H</text>\n",
       "<rect x=\"2192\" y=\"1584\" width=\"32\" height=\"32\" stroke=\"black\" fill=\"white\"/>\n",
       "<text dominant-baseline=\"central\" text-anchor=\"middle\" font-family=\"monospace\" font-size=\"30\" x=\"2208\" y=\"1600\">H</text>\n",
       "<rect x=\"2192\" y=\"1648\" width=\"32\" height=\"32\" stroke=\"black\" fill=\"white\"/>\n",
       "<text dominant-baseline=\"central\" text-anchor=\"middle\" font-family=\"monospace\" font-size=\"30\" x=\"2208\" y=\"1664\">H</text>\n",
       "<rect x=\"2192\" y=\"1712\" width=\"32\" height=\"32\" stroke=\"black\" fill=\"white\"/>\n",
       "<text dominant-baseline=\"central\" text-anchor=\"middle\" font-family=\"monospace\" font-size=\"30\" x=\"2208\" y=\"1728\">H</text>\n",
       "<rect x=\"2192\" y=\"1776\" width=\"32\" height=\"32\" stroke=\"black\" fill=\"white\"/>\n",
       "<text dominant-baseline=\"central\" text-anchor=\"middle\" font-family=\"monospace\" font-size=\"30\" x=\"2208\" y=\"1792\">H</text>\n",
       "<rect x=\"2192\" y=\"1840\" width=\"32\" height=\"32\" stroke=\"black\" fill=\"white\"/>\n",
       "<text dominant-baseline=\"central\" text-anchor=\"middle\" font-family=\"monospace\" font-size=\"30\" x=\"2208\" y=\"1856\">H</text>\n",
       "<rect x=\"2256\" y=\"1392\" width=\"32\" height=\"32\" stroke=\"black\" fill=\"black\"/>\n",
       "<text dominant-baseline=\"central\" text-anchor=\"middle\" font-family=\"monospace\" font-size=\"24\" x=\"2272\" y=\"1408\" fill=\"white\">MR</text>\n",
       "<text text-anchor=\"middle\" font-family=\"monospace\" font-size=\"8\" x=\"2272\" y=\"1388\">rec[0]</text>\n",
       "<rect x=\"2256\" y=\"1456\" width=\"32\" height=\"32\" stroke=\"black\" fill=\"black\"/>\n",
       "<text dominant-baseline=\"central\" text-anchor=\"middle\" font-family=\"monospace\" font-size=\"24\" x=\"2272\" y=\"1472\" fill=\"white\">MR</text>\n",
       "<text text-anchor=\"middle\" font-family=\"monospace\" font-size=\"8\" x=\"2272\" y=\"1452\">rec[1]</text>\n",
       "<rect x=\"2256\" y=\"1520\" width=\"32\" height=\"32\" stroke=\"black\" fill=\"black\"/>\n",
       "<text dominant-baseline=\"central\" text-anchor=\"middle\" font-family=\"monospace\" font-size=\"24\" x=\"2272\" y=\"1536\" fill=\"white\">MR</text>\n",
       "<text text-anchor=\"middle\" font-family=\"monospace\" font-size=\"8\" x=\"2272\" y=\"1516\">rec[2]</text>\n",
       "<rect x=\"2256\" y=\"1584\" width=\"32\" height=\"32\" stroke=\"black\" fill=\"black\"/>\n",
       "<text dominant-baseline=\"central\" text-anchor=\"middle\" font-family=\"monospace\" font-size=\"24\" x=\"2272\" y=\"1600\" fill=\"white\">MR</text>\n",
       "<text text-anchor=\"middle\" font-family=\"monospace\" font-size=\"8\" x=\"2272\" y=\"1580\">rec[3]</text>\n",
       "<rect x=\"2256\" y=\"1648\" width=\"32\" height=\"32\" stroke=\"black\" fill=\"black\"/>\n",
       "<text dominant-baseline=\"central\" text-anchor=\"middle\" font-family=\"monospace\" font-size=\"24\" x=\"2272\" y=\"1664\" fill=\"white\">MR</text>\n",
       "<text text-anchor=\"middle\" font-family=\"monospace\" font-size=\"8\" x=\"2272\" y=\"1644\">rec[4]</text>\n",
       "<rect x=\"2256\" y=\"1712\" width=\"32\" height=\"32\" stroke=\"black\" fill=\"black\"/>\n",
       "<text dominant-baseline=\"central\" text-anchor=\"middle\" font-family=\"monospace\" font-size=\"24\" x=\"2272\" y=\"1728\" fill=\"white\">MR</text>\n",
       "<text text-anchor=\"middle\" font-family=\"monospace\" font-size=\"8\" x=\"2272\" y=\"1708\">rec[5]</text>\n",
       "<rect x=\"2256\" y=\"1776\" width=\"32\" height=\"32\" stroke=\"black\" fill=\"black\"/>\n",
       "<text dominant-baseline=\"central\" text-anchor=\"middle\" font-family=\"monospace\" font-size=\"24\" x=\"2272\" y=\"1792\" fill=\"white\">MR</text>\n",
       "<text text-anchor=\"middle\" font-family=\"monospace\" font-size=\"8\" x=\"2272\" y=\"1772\">rec[6]</text>\n",
       "<rect x=\"2256\" y=\"1840\" width=\"32\" height=\"32\" stroke=\"black\" fill=\"black\"/>\n",
       "<text dominant-baseline=\"central\" text-anchor=\"middle\" font-family=\"monospace\" font-size=\"24\" x=\"2272\" y=\"1856\" fill=\"white\">MR</text>\n",
       "<text text-anchor=\"middle\" font-family=\"monospace\" font-size=\"8\" x=\"2272\" y=\"1836\">rec[7]</text>\n",
       "<rect x=\"2320\" y=\"2416\" width=\"32\" height=\"32\" stroke=\"black\" fill=\"white\"/>\n",
       "<text dominant-baseline=\"central\" text-anchor=\"middle\" font-family=\"monospace\" font-size=\"30\" x=\"2336\" y=\"2432\">H</text>\n",
       "<rect x=\"2320\" y=\"2480\" width=\"32\" height=\"32\" stroke=\"black\" fill=\"white\"/>\n",
       "<text dominant-baseline=\"central\" text-anchor=\"middle\" font-family=\"monospace\" font-size=\"30\" x=\"2336\" y=\"2496\">H</text>\n",
       "<rect x=\"2320\" y=\"2544\" width=\"32\" height=\"32\" stroke=\"black\" fill=\"white\"/>\n",
       "<text dominant-baseline=\"central\" text-anchor=\"middle\" font-family=\"monospace\" font-size=\"30\" x=\"2336\" y=\"2560\">H</text>\n",
       "<rect x=\"2320\" y=\"2608\" width=\"32\" height=\"32\" stroke=\"black\" fill=\"white\"/>\n",
       "<text dominant-baseline=\"central\" text-anchor=\"middle\" font-family=\"monospace\" font-size=\"30\" x=\"2336\" y=\"2624\">H</text>\n",
       "<rect x=\"2320\" y=\"2672\" width=\"32\" height=\"32\" stroke=\"black\" fill=\"white\"/>\n",
       "<text dominant-baseline=\"central\" text-anchor=\"middle\" font-family=\"monospace\" font-size=\"30\" x=\"2336\" y=\"2688\">H</text>\n",
       "<rect x=\"2320\" y=\"2736\" width=\"32\" height=\"32\" stroke=\"black\" fill=\"white\"/>\n",
       "<text dominant-baseline=\"central\" text-anchor=\"middle\" font-family=\"monospace\" font-size=\"30\" x=\"2336\" y=\"2752\">H</text>\n",
       "<rect x=\"2320\" y=\"2800\" width=\"32\" height=\"32\" stroke=\"black\" fill=\"white\"/>\n",
       "<text dominant-baseline=\"central\" text-anchor=\"middle\" font-family=\"monospace\" font-size=\"30\" x=\"2336\" y=\"2816\">H</text>\n",
       "<rect x=\"2320\" y=\"2864\" width=\"32\" height=\"32\" stroke=\"black\" fill=\"white\"/>\n",
       "<text dominant-baseline=\"central\" text-anchor=\"middle\" font-family=\"monospace\" font-size=\"30\" x=\"2336\" y=\"2880\">H</text>\n",
       "<path d=\"M2400,896 L2400,2432 \" stroke=\"black\"/>\n",
       "<circle cx=\"2400\" cy=\"2432\" r=\"12\" stroke=\"none\" fill=\"black\"/>\n",
       "<circle cx=\"2400\" cy=\"896\" r=\"12\" stroke=\"none\" fill=\"black\"/>\n",
       "<path d=\"M2464,1024 L2464,2496 \" stroke=\"black\"/>\n",
       "<circle cx=\"2464\" cy=\"2496\" r=\"12\" stroke=\"none\" fill=\"black\"/>\n",
       "<circle cx=\"2464\" cy=\"1024\" r=\"12\" stroke=\"none\" fill=\"black\"/>\n",
       "<path d=\"M2528,832 L2528,2560 \" stroke=\"black\"/>\n",
       "<circle cx=\"2528\" cy=\"2560\" r=\"12\" stroke=\"none\" fill=\"black\"/>\n",
       "<circle cx=\"2528\" cy=\"832\" r=\"12\" stroke=\"none\" fill=\"black\"/>\n",
       "<path d=\"M2592,1152 L2592,2624 \" stroke=\"black\"/>\n",
       "<circle cx=\"2592\" cy=\"2624\" r=\"12\" stroke=\"none\" fill=\"black\"/>\n",
       "<circle cx=\"2592\" cy=\"1152\" r=\"12\" stroke=\"none\" fill=\"black\"/>\n",
       "<path d=\"M2656,832 L2656,2688 \" stroke=\"black\"/>\n",
       "<circle cx=\"2656\" cy=\"2688\" r=\"12\" stroke=\"none\" fill=\"black\"/>\n",
       "<circle cx=\"2656\" cy=\"832\" r=\"12\" stroke=\"black\" fill=\"white\"/>\n",
       "<path d=\"M2644,832 L2668,832 M2656,820 L2656,844 \" stroke=\"black\"/>\n",
       "<path d=\"M2720,1088 L2720,2752 \" stroke=\"black\"/>\n",
       "<circle cx=\"2720\" cy=\"2752\" r=\"12\" stroke=\"none\" fill=\"black\"/>\n",
       "<circle cx=\"2720\" cy=\"1088\" r=\"12\" stroke=\"black\" fill=\"white\"/>\n",
       "<path d=\"M2708,1088 L2732,1088 M2720,1076 L2720,1100 \" stroke=\"black\"/>\n",
       "<path d=\"M2784,1216 L2784,2816 \" stroke=\"black\"/>\n",
       "<circle cx=\"2784\" cy=\"2816\" r=\"12\" stroke=\"none\" fill=\"black\"/>\n",
       "<circle cx=\"2784\" cy=\"1216\" r=\"12\" stroke=\"black\" fill=\"white\"/>\n",
       "<path d=\"M2772,1216 L2796,1216 M2784,1204 L2784,1228 \" stroke=\"black\"/>\n",
       "<path d=\"M2848,896 L2848,2880 \" stroke=\"black\"/>\n",
       "<circle cx=\"2848\" cy=\"2880\" r=\"12\" stroke=\"none\" fill=\"black\"/>\n",
       "<circle cx=\"2848\" cy=\"896\" r=\"12\" stroke=\"black\" fill=\"white\"/>\n",
       "<path d=\"M2836,896 L2860,896 M2848,884 L2848,908 \" stroke=\"black\"/>\n",
       "<path d=\"M2372,40 L2372,32 L2876,32 L2876,40 \" stroke=\"black\" fill=\"none\"/>\n",
       "<path d=\"M2372,3448 L2372,3456 L2876,3456 L2876,3448 \" stroke=\"black\" fill=\"none\"/>\n",
       "<path d=\"M2912,960 L2912,2432 \" stroke=\"black\"/>\n",
       "<circle cx=\"2912\" cy=\"2432\" r=\"12\" stroke=\"none\" fill=\"black\"/>\n",
       "<circle cx=\"2912\" cy=\"960\" r=\"12\" stroke=\"none\" fill=\"black\"/>\n",
       "<path d=\"M2976,1088 L2976,2496 \" stroke=\"black\"/>\n",
       "<circle cx=\"2976\" cy=\"2496\" r=\"12\" stroke=\"none\" fill=\"black\"/>\n",
       "<circle cx=\"2976\" cy=\"1088\" r=\"12\" stroke=\"none\" fill=\"black\"/>\n",
       "<path d=\"M3040,1024 L3040,2560 \" stroke=\"black\"/>\n",
       "<circle cx=\"3040\" cy=\"2560\" r=\"12\" stroke=\"none\" fill=\"black\"/>\n",
       "<circle cx=\"3040\" cy=\"1024\" r=\"12\" stroke=\"none\" fill=\"black\"/>\n",
       "<path d=\"M3104,1344 L3104,2624 \" stroke=\"black\"/>\n",
       "<circle cx=\"3104\" cy=\"2624\" r=\"12\" stroke=\"none\" fill=\"black\"/>\n",
       "<circle cx=\"3104\" cy=\"1344\" r=\"12\" stroke=\"none\" fill=\"black\"/>\n",
       "<path d=\"M3168,896 L3168,2688 \" stroke=\"black\"/>\n",
       "<circle cx=\"3168\" cy=\"2688\" r=\"12\" stroke=\"none\" fill=\"black\"/>\n",
       "<circle cx=\"3168\" cy=\"896\" r=\"12\" stroke=\"black\" fill=\"white\"/>\n",
       "<path d=\"M3156,896 L3180,896 M3168,884 L3168,908 \" stroke=\"black\"/>\n",
       "<path d=\"M3232,1152 L3232,2752 \" stroke=\"black\"/>\n",
       "<circle cx=\"3232\" cy=\"2752\" r=\"12\" stroke=\"none\" fill=\"black\"/>\n",
       "<circle cx=\"3232\" cy=\"1152\" r=\"12\" stroke=\"black\" fill=\"white\"/>\n",
       "<path d=\"M3220,1152 L3244,1152 M3232,1140 L3232,1164 \" stroke=\"black\"/>\n",
       "<path d=\"M3296,1280 L3296,2816 \" stroke=\"black\"/>\n",
       "<circle cx=\"3296\" cy=\"2816\" r=\"12\" stroke=\"none\" fill=\"black\"/>\n",
       "<circle cx=\"3296\" cy=\"1280\" r=\"12\" stroke=\"black\" fill=\"white\"/>\n",
       "<path d=\"M3284,1280 L3308,1280 M3296,1268 L3296,1292 \" stroke=\"black\"/>\n",
       "<path d=\"M3360,960 L3360,2880 \" stroke=\"black\"/>\n",
       "<circle cx=\"3360\" cy=\"2880\" r=\"12\" stroke=\"none\" fill=\"black\"/>\n",
       "<circle cx=\"3360\" cy=\"960\" r=\"12\" stroke=\"black\" fill=\"white\"/>\n",
       "<path d=\"M3348,960 L3372,960 M3360,948 L3360,972 \" stroke=\"black\"/>\n",
       "<path d=\"M2884,40 L2884,32 L3388,32 L3388,40 \" stroke=\"black\" fill=\"none\"/>\n",
       "<path d=\"M2884,3448 L2884,3456 L3388,3456 L3388,3448 \" stroke=\"black\" fill=\"none\"/>\n",
       "<path d=\"M3424,1088 L3424,2432 \" stroke=\"black\"/>\n",
       "<circle cx=\"3424\" cy=\"2432\" r=\"12\" stroke=\"none\" fill=\"black\"/>\n",
       "<circle cx=\"3424\" cy=\"1088\" r=\"12\" stroke=\"none\" fill=\"black\"/>\n",
       "<path d=\"M3488,1216 L3488,2496 \" stroke=\"black\"/>\n",
       "<circle cx=\"3488\" cy=\"2496\" r=\"12\" stroke=\"none\" fill=\"black\"/>\n",
       "<circle cx=\"3488\" cy=\"1216\" r=\"12\" stroke=\"none\" fill=\"black\"/>\n",
       "<path d=\"M3552,1024 L3552,2688 \" stroke=\"black\"/>\n",
       "<circle cx=\"3552\" cy=\"2688\" r=\"12\" stroke=\"none\" fill=\"black\"/>\n",
       "<circle cx=\"3552\" cy=\"1024\" r=\"12\" stroke=\"black\" fill=\"white\"/>\n",
       "<path d=\"M3540,1024 L3564,1024 M3552,1012 L3552,1036 \" stroke=\"black\"/>\n",
       "<path d=\"M3616,1280 L3616,2752 \" stroke=\"black\"/>\n",
       "<circle cx=\"3616\" cy=\"2752\" r=\"12\" stroke=\"none\" fill=\"black\"/>\n",
       "<circle cx=\"3616\" cy=\"1280\" r=\"12\" stroke=\"black\" fill=\"white\"/>\n",
       "<path d=\"M3604,1280 L3628,1280 M3616,1268 L3616,1292 \" stroke=\"black\"/>\n",
       "<path d=\"M3396,40 L3396,32 L3644,32 L3644,40 \" stroke=\"black\" fill=\"none\"/>\n",
       "<path d=\"M3396,3448 L3396,3456 L3644,3456 L3644,3448 \" stroke=\"black\" fill=\"none\"/>\n",
       "<path d=\"M3680,1152 L3680,2432 \" stroke=\"black\"/>\n",
       "<circle cx=\"3680\" cy=\"2432\" r=\"12\" stroke=\"none\" fill=\"black\"/>\n",
       "<circle cx=\"3680\" cy=\"1152\" r=\"12\" stroke=\"none\" fill=\"black\"/>\n",
       "<path d=\"M3744,1280 L3744,2496 \" stroke=\"black\"/>\n",
       "<circle cx=\"3744\" cy=\"2496\" r=\"12\" stroke=\"none\" fill=\"black\"/>\n",
       "<circle cx=\"3744\" cy=\"1280\" r=\"12\" stroke=\"none\" fill=\"black\"/>\n",
       "<path d=\"M3808,1088 L3808,2688 \" stroke=\"black\"/>\n",
       "<circle cx=\"3808\" cy=\"2688\" r=\"12\" stroke=\"none\" fill=\"black\"/>\n",
       "<circle cx=\"3808\" cy=\"1088\" r=\"12\" stroke=\"black\" fill=\"white\"/>\n",
       "<path d=\"M3796,1088 L3820,1088 M3808,1076 L3808,1100 \" stroke=\"black\"/>\n",
       "<path d=\"M3872,1344 L3872,2752 \" stroke=\"black\"/>\n",
       "<circle cx=\"3872\" cy=\"2752\" r=\"12\" stroke=\"none\" fill=\"black\"/>\n",
       "<circle cx=\"3872\" cy=\"1344\" r=\"12\" stroke=\"black\" fill=\"white\"/>\n",
       "<path d=\"M3860,1344 L3884,1344 M3872,1332 L3872,1356 \" stroke=\"black\"/>\n",
       "<path d=\"M3652,40 L3652,32 L3900,32 L3900,40 \" stroke=\"black\" fill=\"none\"/>\n",
       "<path d=\"M3652,3448 L3652,3456 L3900,3456 L3900,3448 \" stroke=\"black\" fill=\"none\"/>\n",
       "<rect x=\"3920\" y=\"2416\" width=\"32\" height=\"32\" stroke=\"black\" fill=\"white\"/>\n",
       "<text dominant-baseline=\"central\" text-anchor=\"middle\" font-family=\"monospace\" font-size=\"30\" x=\"3936\" y=\"2432\">H</text>\n",
       "<rect x=\"3920\" y=\"2480\" width=\"32\" height=\"32\" stroke=\"black\" fill=\"white\"/>\n",
       "<text dominant-baseline=\"central\" text-anchor=\"middle\" font-family=\"monospace\" font-size=\"30\" x=\"3936\" y=\"2496\">H</text>\n",
       "<rect x=\"3920\" y=\"2544\" width=\"32\" height=\"32\" stroke=\"black\" fill=\"white\"/>\n",
       "<text dominant-baseline=\"central\" text-anchor=\"middle\" font-family=\"monospace\" font-size=\"30\" x=\"3936\" y=\"2560\">H</text>\n",
       "<rect x=\"3920\" y=\"2608\" width=\"32\" height=\"32\" stroke=\"black\" fill=\"white\"/>\n",
       "<text dominant-baseline=\"central\" text-anchor=\"middle\" font-family=\"monospace\" font-size=\"30\" x=\"3936\" y=\"2624\">H</text>\n",
       "<rect x=\"3920\" y=\"2672\" width=\"32\" height=\"32\" stroke=\"black\" fill=\"white\"/>\n",
       "<text dominant-baseline=\"central\" text-anchor=\"middle\" font-family=\"monospace\" font-size=\"30\" x=\"3936\" y=\"2688\">H</text>\n",
       "<rect x=\"3920\" y=\"2736\" width=\"32\" height=\"32\" stroke=\"black\" fill=\"white\"/>\n",
       "<text dominant-baseline=\"central\" text-anchor=\"middle\" font-family=\"monospace\" font-size=\"30\" x=\"3936\" y=\"2752\">H</text>\n",
       "<rect x=\"3920\" y=\"2800\" width=\"32\" height=\"32\" stroke=\"black\" fill=\"white\"/>\n",
       "<text dominant-baseline=\"central\" text-anchor=\"middle\" font-family=\"monospace\" font-size=\"30\" x=\"3936\" y=\"2816\">H</text>\n",
       "<rect x=\"3920\" y=\"2864\" width=\"32\" height=\"32\" stroke=\"black\" fill=\"white\"/>\n",
       "<text dominant-baseline=\"central\" text-anchor=\"middle\" font-family=\"monospace\" font-size=\"30\" x=\"3936\" y=\"2880\">H</text>\n",
       "<rect x=\"3984\" y=\"2416\" width=\"32\" height=\"32\" stroke=\"black\" fill=\"black\"/>\n",
       "<text dominant-baseline=\"central\" text-anchor=\"middle\" font-family=\"monospace\" font-size=\"24\" x=\"4000\" y=\"2432\" fill=\"white\">MR</text>\n",
       "<text text-anchor=\"middle\" font-family=\"monospace\" font-size=\"8\" x=\"4000\" y=\"2412\">rec[8]</text>\n",
       "<rect x=\"3984\" y=\"2480\" width=\"32\" height=\"32\" stroke=\"black\" fill=\"black\"/>\n",
       "<text dominant-baseline=\"central\" text-anchor=\"middle\" font-family=\"monospace\" font-size=\"24\" x=\"4000\" y=\"2496\" fill=\"white\">MR</text>\n",
       "<text text-anchor=\"middle\" font-family=\"monospace\" font-size=\"8\" x=\"4000\" y=\"2476\">rec[9]</text>\n",
       "<rect x=\"3984\" y=\"2544\" width=\"32\" height=\"32\" stroke=\"black\" fill=\"black\"/>\n",
       "<text dominant-baseline=\"central\" text-anchor=\"middle\" font-family=\"monospace\" font-size=\"24\" x=\"4000\" y=\"2560\" fill=\"white\">MR</text>\n",
       "<text text-anchor=\"middle\" font-family=\"monospace\" font-size=\"8\" x=\"4000\" y=\"2540\">rec[10]</text>\n",
       "<rect x=\"3984\" y=\"2608\" width=\"32\" height=\"32\" stroke=\"black\" fill=\"black\"/>\n",
       "<text dominant-baseline=\"central\" text-anchor=\"middle\" font-family=\"monospace\" font-size=\"24\" x=\"4000\" y=\"2624\" fill=\"white\">MR</text>\n",
       "<text text-anchor=\"middle\" font-family=\"monospace\" font-size=\"8\" x=\"4000\" y=\"2604\">rec[11]</text>\n",
       "<rect x=\"3984\" y=\"2672\" width=\"32\" height=\"32\" stroke=\"black\" fill=\"black\"/>\n",
       "<text dominant-baseline=\"central\" text-anchor=\"middle\" font-family=\"monospace\" font-size=\"24\" x=\"4000\" y=\"2688\" fill=\"white\">MR</text>\n",
       "<text text-anchor=\"middle\" font-family=\"monospace\" font-size=\"8\" x=\"4000\" y=\"2668\">rec[12]</text>\n",
       "<rect x=\"3984\" y=\"2736\" width=\"32\" height=\"32\" stroke=\"black\" fill=\"black\"/>\n",
       "<text dominant-baseline=\"central\" text-anchor=\"middle\" font-family=\"monospace\" font-size=\"24\" x=\"4000\" y=\"2752\" fill=\"white\">MR</text>\n",
       "<text text-anchor=\"middle\" font-family=\"monospace\" font-size=\"8\" x=\"4000\" y=\"2732\">rec[13]</text>\n",
       "<rect x=\"3984\" y=\"2800\" width=\"32\" height=\"32\" stroke=\"black\" fill=\"black\"/>\n",
       "<text dominant-baseline=\"central\" text-anchor=\"middle\" font-family=\"monospace\" font-size=\"24\" x=\"4000\" y=\"2816\" fill=\"white\">MR</text>\n",
       "<text text-anchor=\"middle\" font-family=\"monospace\" font-size=\"8\" x=\"4000\" y=\"2796\">rec[14]</text>\n",
       "<rect x=\"3984\" y=\"2864\" width=\"32\" height=\"32\" stroke=\"black\" fill=\"black\"/>\n",
       "<text dominant-baseline=\"central\" text-anchor=\"middle\" font-family=\"monospace\" font-size=\"24\" x=\"4000\" y=\"2880\" fill=\"white\">MR</text>\n",
       "<text text-anchor=\"middle\" font-family=\"monospace\" font-size=\"8\" x=\"4000\" y=\"2860\">rec[15]</text>\n",
       "</svg>"
      ]
     },
     "execution_count": 5,
     "metadata": {},
     "output_type": "execute_result"
    }
   ],
   "source": [
    "stim.Circuit(circ.convert_to_stim()).diagram(type=\"timeline-svg\")"
   ]
  },
  {
   "cell_type": "markdown",
   "metadata": {},
   "source": [
    "# Perform the logical quantum state tomography\n",
    "For performing logical quantum state tomography, we use the `circ_log_QST_results` utility function. This function creates multiple copies of our circuit and to every copy, it adds measurements of the two logical qubits in different bases. These circuits are then simulated with stim and the results are averaged over the specified number of shots to obtain expectation values. \n",
    "\n",
    "One can specify the bases in which the qubits should be measured by the `bases` parameter. In this example we don't measure in the Y basis since the value can be obtained from the X and Z measurements. `I` denotes that a qubit is not measured. E.g. the two-qubit expectation value `<XI>` means that the first qubit is measured in the X basis and the second qubit is not measured."
   ]
  },
  {
   "cell_type": "code",
   "execution_count": 6,
   "metadata": {},
   "outputs": [
    {
     "name": "stdout",
     "output_type": "stream",
     "text": [
      "<II> = 0.0\n",
      "<IX> = 0.4964\n",
      "<IZ> = 0.0\n",
      "<XI> = 0.5006\n",
      "<XX> = 0.496\n",
      "<XZ> = 0.5176\n",
      "<ZI> = 1.0\n",
      "<ZX> = 0.5066\n",
      "<ZZ> = 1.0\n"
     ]
    }
   ],
   "source": [
    "bases = [\"I\", \"X\", \"Z\"]\n",
    "res_dict = circ_log_QST_results(circ, num_shots=5000, bases=bases)\n",
    "for basis, exp_val in res_dict.items():\n",
    "    print(f\"<{basis}> = {exp_val}\")"
   ]
  },
  {
   "cell_type": "markdown",
   "metadata": {},
   "source": [
    "# Plot the results\n",
    "There is also a convenience function to plot the obtained expectation values in a 3D bar chart:"
   ]
  },
  {
   "cell_type": "code",
   "execution_count": 7,
   "metadata": {},
   "outputs": [
    {
     "name": "stderr",
     "output_type": "stream",
     "text": [
      "C:\\Users\\jonat\\AppData\\Local\\Temp\\ipykernel_30596\\366770762.py:2: UserWarning:\n",
      "\n",
      "FigureCanvasAgg is non-interactive, and thus cannot be shown\n",
      "\n"
     ]
    },
    {
     "data": {
      "image/png": "[encoded data removed]",
      "text/plain": [
       "<Figure size 1000x600 with 1 Axes>"
      ]
     },
     "metadata": {},
     "output_type": "display_data"
    }
   ],
   "source": [
    "fig = plot_log_QST_results(res_dict)\n",
    "fig.show()"
   ]
  }
 ],
 "metadata": {
  "kernelspec": {
   "display_name": "stim",
   "language": "python",
   "name": "python3"
  },
  "language_info": {
   "codemirror_mode": {
    "name": "ipython",
    "version": 3
   },
   "file_extension": ".py",
   "mimetype": "text/x-python",
   "name": "python",
   "nbconvert_exporter": "python",
   "pygments_lexer": "ipython3",
   "version": "3.10.14"
  },
  "orig_nbformat": 4
 },
 "nbformat": 4,
 "nbformat_minor": 2
}
