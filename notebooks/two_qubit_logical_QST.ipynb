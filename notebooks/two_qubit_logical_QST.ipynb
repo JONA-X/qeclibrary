{
 "cells": [
  {
   "cell_type": "markdown",
   "metadata": {},
   "source": [
    "# Perform logical quantum state tomography for two logical qubits\n",
    "This demo notebook demonstrates logical quantum state tomography (QST) for two d=3 rotated surface code qubits that are placed on a square lattice. The two qubits can be initialized in either $\\ket{0}$, $\\ket{1}$, $\\ket{+}$, or $\\ket{-}$. After the initialization, we perform one QEC cycle before doing the measurement for logical QST. The goal of this experiment could be to verify that the syndrome extraction does not affect the logical state of the two logical qubits. I.e. the expectation values we get in the end should be the same as if we had no QEC cycles."
   ]
  },
  {
   "cell_type": "code",
   "execution_count": 1,
   "metadata": {},
   "outputs": [],
   "source": [
    "from qeclib import (\n",
    "    RotSurfCode,\n",
    "    SquareLattice,\n",
    "    QECPlot,\n",
    "    circ_log_QST_results,\n",
    "    plot_log_QST_results,\n",
    ")\n",
    "import stim"
   ]
  },
  {
   "cell_type": "markdown",
   "metadata": {},
   "source": [
    "Create the logical qubit objects and place them on the square lattice. Then initialize them in some state. Feel free to change the initial states and observe how the results of the logical QST change."
   ]
  },
  {
   "cell_type": "code",
   "execution_count": 2,
   "metadata": {},
   "outputs": [],
   "source": [
    "Q1 = RotSurfCode(\n",
    "    id=\"Q1\",\n",
    "    dx=3,\n",
    "    dz=3,\n",
    ")\n",
    "Q2 = RotSurfCode(\n",
    "    id=\"Q2\",\n",
    "    dx=3,\n",
    "    dz=3,\n",
    ")\n",
    "circ = SquareLattice(name=\"\", rows=3, cols=7)\n",
    "circ.add_logical_qubit(Q1)\n",
    "circ.add_logical_qubit(Q2, start_pos=(4, 0))\n",
    "\n",
    "circ.init(\"Q1\", \"1\")\n",
    "circ.init(\"Q2\", \"0\")\n"
   ]
  },
  {
   "cell_type": "markdown",
   "metadata": {},
   "source": [
    "We can also plot the stabilizers of the two logical qubits to check whether they were correctly placed on the lattice:"
   ]
  },
  {
   "cell_type": "code",
   "execution_count": 3,
   "metadata": {},
   "outputs": [
    {
     "data": {
      "application/vnd.plotly.v1+json": {
       "config": {
        "plotlyServerURL": "https://plot.ly"
       },
       "data": [
        {
         "hoverinfo": "text",
         "legendgroup": "qpu_dqbs",
         "marker": {
          "color": "gray",
          "line": {
           "color": "darkred",
           "width": 1
          },
          "size": 25,
          "symbol": "circle"
         },
         "mode": "markers+text",
         "name": "Data qubits",
         "showlegend": true,
         "text": "(0, 0, 0)",
         "textposition": "middle center",
         "type": "scatter",
         "x": [
          0
         ],
         "y": [
          0
         ]
        },
        {
         "hoverinfo": "text",
         "legendgroup": "qpu_dqbs",
         "marker": {
          "color": "gray",
          "line": {
           "color": "darkred",
           "width": 1
          },
          "size": 25,
          "symbol": "circle"
         },
         "mode": "markers+text",
         "name": "Data qubits",
         "showlegend": false,
         "text": "(1, 0, 0)",
         "textposition": "middle center",
         "type": "scatter",
         "x": [
          1
         ],
         "y": [
          0
         ]
        },
        {
         "hoverinfo": "text",
         "legendgroup": "qpu_dqbs",
         "marker": {
          "color": "gray",
          "line": {
           "color": "darkred",
           "width": 1
          },
          "size": 25,
          "symbol": "circle"
         },
         "mode": "markers+text",
         "name": "Data qubits",
         "showlegend": false,
         "text": "(2, 0, 0)",
         "textposition": "middle center",
         "type": "scatter",
         "x": [
          2
         ],
         "y": [
          0
         ]
        },
        {
         "hoverinfo": "text",
         "legendgroup": "qpu_dqbs",
         "marker": {
          "color": "gray",
          "line": {
           "color": "darkred",
           "width": 1
          },
          "size": 25,
          "symbol": "circle"
         },
         "mode": "markers+text",
         "name": "Data qubits",
         "showlegend": false,
         "text": "(3, 0, 0)",
         "textposition": "middle center",
         "type": "scatter",
         "x": [
          3
         ],
         "y": [
          0
         ]
        },
        {
         "hoverinfo": "text",
         "legendgroup": "qpu_dqbs",
         "marker": {
          "color": "gray",
          "line": {
           "color": "darkred",
           "width": 1
          },
          "size": 25,
          "symbol": "circle"
         },
         "mode": "markers+text",
         "name": "Data qubits",
         "showlegend": false,
         "text": "(4, 0, 0)",
         "textposition": "middle center",
         "type": "scatter",
         "x": [
          4
         ],
         "y": [
          0
         ]
        },
        {
         "hoverinfo": "text",
         "legendgroup": "qpu_dqbs",
         "marker": {
          "color": "gray",
          "line": {
           "color": "darkred",
           "width": 1
          },
          "size": 25,
          "symbol": "circle"
         },
         "mode": "markers+text",
         "name": "Data qubits",
         "showlegend": false,
         "text": "(5, 0, 0)",
         "textposition": "middle center",
         "type": "scatter",
         "x": [
          5
         ],
         "y": [
          0
         ]
        },
        {
         "hoverinfo": "text",
         "legendgroup": "qpu_dqbs",
         "marker": {
          "color": "gray",
          "line": {
           "color": "darkred",
           "width": 1
          },
          "size": 25,
          "symbol": "circle"
         },
         "mode": "markers+text",
         "name": "Data qubits",
         "showlegend": false,
         "text": "(6, 0, 0)",
         "textposition": "middle center",
         "type": "scatter",
         "x": [
          6
         ],
         "y": [
          0
         ]
        },
        {
         "hoverinfo": "text",
         "legendgroup": "qpu_dqbs",
         "marker": {
          "color": "gray",
          "line": {
           "color": "darkred",
           "width": 1
          },
          "size": 25,
          "symbol": "circle"
         },
         "mode": "markers+text",
         "name": "Data qubits",
         "showlegend": false,
         "text": "(0, 1, 0)",
         "textposition": "middle center",
         "type": "scatter",
         "x": [
          0
         ],
         "y": [
          1
         ]
        },
        {
         "hoverinfo": "text",
         "legendgroup": "qpu_dqbs",
         "marker": {
          "color": "gray",
          "line": {
           "color": "darkred",
           "width": 1
          },
          "size": 25,
          "symbol": "circle"
         },
         "mode": "markers+text",
         "name": "Data qubits",
         "showlegend": false,
         "text": "(1, 1, 0)",
         "textposition": "middle center",
         "type": "scatter",
         "x": [
          1
         ],
         "y": [
          1
         ]
        },
        {
         "hoverinfo": "text",
         "legendgroup": "qpu_dqbs",
         "marker": {
          "color": "gray",
          "line": {
           "color": "darkred",
           "width": 1
          },
          "size": 25,
          "symbol": "circle"
         },
         "mode": "markers+text",
         "name": "Data qubits",
         "showlegend": false,
         "text": "(2, 1, 0)",
         "textposition": "middle center",
         "type": "scatter",
         "x": [
          2
         ],
         "y": [
          1
         ]
        },
        {
         "hoverinfo": "text",
         "legendgroup": "qpu_dqbs",
         "marker": {
          "color": "gray",
          "line": {
           "color": "darkred",
           "width": 1
          },
          "size": 25,
          "symbol": "circle"
         },
         "mode": "markers+text",
         "name": "Data qubits",
         "showlegend": false,
         "text": "(3, 1, 0)",
         "textposition": "middle center",
         "type": "scatter",
         "x": [
          3
         ],
         "y": [
          1
         ]
        },
        {
         "hoverinfo": "text",
         "legendgroup": "qpu_dqbs",
         "marker": {
          "color": "gray",
          "line": {
           "color": "darkred",
           "width": 1
          },
          "size": 25,
          "symbol": "circle"
         },
         "mode": "markers+text",
         "name": "Data qubits",
         "showlegend": false,
         "text": "(4, 1, 0)",
         "textposition": "middle center",
         "type": "scatter",
         "x": [
          4
         ],
         "y": [
          1
         ]
        },
        {
         "hoverinfo": "text",
         "legendgroup": "qpu_dqbs",
         "marker": {
          "color": "gray",
          "line": {
           "color": "darkred",
           "width": 1
          },
          "size": 25,
          "symbol": "circle"
         },
         "mode": "markers+text",
         "name": "Data qubits",
         "showlegend": false,
         "text": "(5, 1, 0)",
         "textposition": "middle center",
         "type": "scatter",
         "x": [
          5
         ],
         "y": [
          1
         ]
        },
        {
         "hoverinfo": "text",
         "legendgroup": "qpu_dqbs",
         "marker": {
          "color": "gray",
          "line": {
           "color": "darkred",
           "width": 1
          },
          "size": 25,
          "symbol": "circle"
         },
         "mode": "markers+text",
         "name": "Data qubits",
         "showlegend": false,
         "text": "(6, 1, 0)",
         "textposition": "middle center",
         "type": "scatter",
         "x": [
          6
         ],
         "y": [
          1
         ]
        },
        {
         "hoverinfo": "text",
         "legendgroup": "qpu_dqbs",
         "marker": {
          "color": "gray",
          "line": {
           "color": "darkred",
           "width": 1
          },
          "size": 25,
          "symbol": "circle"
         },
         "mode": "markers+text",
         "name": "Data qubits",
         "showlegend": false,
         "text": "(0, 2, 0)",
         "textposition": "middle center",
         "type": "scatter",
         "x": [
          0
         ],
         "y": [
          2
         ]
        },
        {
         "hoverinfo": "text",
         "legendgroup": "qpu_dqbs",
         "marker": {
          "color": "gray",
          "line": {
           "color": "darkred",
           "width": 1
          },
          "size": 25,
          "symbol": "circle"
         },
         "mode": "markers+text",
         "name": "Data qubits",
         "showlegend": false,
         "text": "(1, 2, 0)",
         "textposition": "middle center",
         "type": "scatter",
         "x": [
          1
         ],
         "y": [
          2
         ]
        },
        {
         "hoverinfo": "text",
         "legendgroup": "qpu_dqbs",
         "marker": {
          "color": "gray",
          "line": {
           "color": "darkred",
           "width": 1
          },
          "size": 25,
          "symbol": "circle"
         },
         "mode": "markers+text",
         "name": "Data qubits",
         "showlegend": false,
         "text": "(2, 2, 0)",
         "textposition": "middle center",
         "type": "scatter",
         "x": [
          2
         ],
         "y": [
          2
         ]
        },
        {
         "hoverinfo": "text",
         "legendgroup": "qpu_dqbs",
         "marker": {
          "color": "gray",
          "line": {
           "color": "darkred",
           "width": 1
          },
          "size": 25,
          "symbol": "circle"
         },
         "mode": "markers+text",
         "name": "Data qubits",
         "showlegend": false,
         "text": "(3, 2, 0)",
         "textposition": "middle center",
         "type": "scatter",
         "x": [
          3
         ],
         "y": [
          2
         ]
        },
        {
         "hoverinfo": "text",
         "legendgroup": "qpu_dqbs",
         "marker": {
          "color": "gray",
          "line": {
           "color": "darkred",
           "width": 1
          },
          "size": 25,
          "symbol": "circle"
         },
         "mode": "markers+text",
         "name": "Data qubits",
         "showlegend": false,
         "text": "(4, 2, 0)",
         "textposition": "middle center",
         "type": "scatter",
         "x": [
          4
         ],
         "y": [
          2
         ]
        },
        {
         "hoverinfo": "text",
         "legendgroup": "qpu_dqbs",
         "marker": {
          "color": "gray",
          "line": {
           "color": "darkred",
           "width": 1
          },
          "size": 25,
          "symbol": "circle"
         },
         "mode": "markers+text",
         "name": "Data qubits",
         "showlegend": false,
         "text": "(5, 2, 0)",
         "textposition": "middle center",
         "type": "scatter",
         "x": [
          5
         ],
         "y": [
          2
         ]
        },
        {
         "hoverinfo": "text",
         "legendgroup": "qpu_dqbs",
         "marker": {
          "color": "gray",
          "line": {
           "color": "darkred",
           "width": 1
          },
          "size": 25,
          "symbol": "circle"
         },
         "mode": "markers+text",
         "name": "Data qubits",
         "showlegend": false,
         "text": "(6, 2, 0)",
         "textposition": "middle center",
         "type": "scatter",
         "x": [
          6
         ],
         "y": [
          2
         ]
        },
        {
         "hoverinfo": "text",
         "legendgroup": "qpu_aqbs",
         "marker": {
          "color": "lightgray",
          "line": {
           "color": "darkred",
           "width": 1
          },
          "size": 15,
          "symbol": "circle"
         },
         "mode": "markers+text",
         "name": "Ancilla qubits",
         "showlegend": true,
         "text": "(0, 0, 1)",
         "textposition": "middle center",
         "type": "scatter",
         "x": [
          -0.5
         ],
         "y": [
          -0.5
         ]
        },
        {
         "hoverinfo": "text",
         "legendgroup": "qpu_aqbs",
         "marker": {
          "color": "lightgray",
          "line": {
           "color": "darkred",
           "width": 1
          },
          "size": 15,
          "symbol": "circle"
         },
         "mode": "markers+text",
         "name": "Ancilla qubits",
         "showlegend": false,
         "text": "(1, 0, 1)",
         "textposition": "middle center",
         "type": "scatter",
         "x": [
          0.5
         ],
         "y": [
          -0.5
         ]
        },
        {
         "hoverinfo": "text",
         "legendgroup": "qpu_aqbs",
         "marker": {
          "color": "lightgray",
          "line": {
           "color": "darkred",
           "width": 1
          },
          "size": 15,
          "symbol": "circle"
         },
         "mode": "markers+text",
         "name": "Ancilla qubits",
         "showlegend": false,
         "text": "(2, 0, 1)",
         "textposition": "middle center",
         "type": "scatter",
         "x": [
          1.5
         ],
         "y": [
          -0.5
         ]
        },
        {
         "hoverinfo": "text",
         "legendgroup": "qpu_aqbs",
         "marker": {
          "color": "lightgray",
          "line": {
           "color": "darkred",
           "width": 1
          },
          "size": 15,
          "symbol": "circle"
         },
         "mode": "markers+text",
         "name": "Ancilla qubits",
         "showlegend": false,
         "text": "(3, 0, 1)",
         "textposition": "middle center",
         "type": "scatter",
         "x": [
          2.5
         ],
         "y": [
          -0.5
         ]
        },
        {
         "hoverinfo": "text",
         "legendgroup": "qpu_aqbs",
         "marker": {
          "color": "lightgray",
          "line": {
           "color": "darkred",
           "width": 1
          },
          "size": 15,
          "symbol": "circle"
         },
         "mode": "markers+text",
         "name": "Ancilla qubits",
         "showlegend": false,
         "text": "(4, 0, 1)",
         "textposition": "middle center",
         "type": "scatter",
         "x": [
          3.5
         ],
         "y": [
          -0.5
         ]
        },
        {
         "hoverinfo": "text",
         "legendgroup": "qpu_aqbs",
         "marker": {
          "color": "lightgray",
          "line": {
           "color": "darkred",
           "width": 1
          },
          "size": 15,
          "symbol": "circle"
         },
         "mode": "markers+text",
         "name": "Ancilla qubits",
         "showlegend": false,
         "text": "(5, 0, 1)",
         "textposition": "middle center",
         "type": "scatter",
         "x": [
          4.5
         ],
         "y": [
          -0.5
         ]
        },
        {
         "hoverinfo": "text",
         "legendgroup": "qpu_aqbs",
         "marker": {
          "color": "lightgray",
          "line": {
           "color": "darkred",
           "width": 1
          },
          "size": 15,
          "symbol": "circle"
         },
         "mode": "markers+text",
         "name": "Ancilla qubits",
         "showlegend": false,
         "text": "(6, 0, 1)",
         "textposition": "middle center",
         "type": "scatter",
         "x": [
          5.5
         ],
         "y": [
          -0.5
         ]
        },
        {
         "hoverinfo": "text",
         "legendgroup": "qpu_aqbs",
         "marker": {
          "color": "lightgray",
          "line": {
           "color": "darkred",
           "width": 1
          },
          "size": 15,
          "symbol": "circle"
         },
         "mode": "markers+text",
         "name": "Ancilla qubits",
         "showlegend": false,
         "text": "(7, 0, 1)",
         "textposition": "middle center",
         "type": "scatter",
         "x": [
          6.5
         ],
         "y": [
          -0.5
         ]
        },
        {
         "hoverinfo": "text",
         "legendgroup": "qpu_aqbs",
         "marker": {
          "color": "lightgray",
          "line": {
           "color": "darkred",
           "width": 1
          },
          "size": 15,
          "symbol": "circle"
         },
         "mode": "markers+text",
         "name": "Ancilla qubits",
         "showlegend": false,
         "text": "(0, 1, 1)",
         "textposition": "middle center",
         "type": "scatter",
         "x": [
          -0.5
         ],
         "y": [
          0.5
         ]
        },
        {
         "hoverinfo": "text",
         "legendgroup": "qpu_aqbs",
         "marker": {
          "color": "lightgray",
          "line": {
           "color": "darkred",
           "width": 1
          },
          "size": 15,
          "symbol": "circle"
         },
         "mode": "markers+text",
         "name": "Ancilla qubits",
         "showlegend": false,
         "text": "(1, 1, 1)",
         "textposition": "middle center",
         "type": "scatter",
         "x": [
          0.5
         ],
         "y": [
          0.5
         ]
        },
        {
         "hoverinfo": "text",
         "legendgroup": "qpu_aqbs",
         "marker": {
          "color": "lightgray",
          "line": {
           "color": "darkred",
           "width": 1
          },
          "size": 15,
          "symbol": "circle"
         },
         "mode": "markers+text",
         "name": "Ancilla qubits",
         "showlegend": false,
         "text": "(2, 1, 1)",
         "textposition": "middle center",
         "type": "scatter",
         "x": [
          1.5
         ],
         "y": [
          0.5
         ]
        },
        {
         "hoverinfo": "text",
         "legendgroup": "qpu_aqbs",
         "marker": {
          "color": "lightgray",
          "line": {
           "color": "darkred",
           "width": 1
          },
          "size": 15,
          "symbol": "circle"
         },
         "mode": "markers+text",
         "name": "Ancilla qubits",
         "showlegend": false,
         "text": "(3, 1, 1)",
         "textposition": "middle center",
         "type": "scatter",
         "x": [
          2.5
         ],
         "y": [
          0.5
         ]
        },
        {
         "hoverinfo": "text",
         "legendgroup": "qpu_aqbs",
         "marker": {
          "color": "lightgray",
          "line": {
           "color": "darkred",
           "width": 1
          },
          "size": 15,
          "symbol": "circle"
         },
         "mode": "markers+text",
         "name": "Ancilla qubits",
         "showlegend": false,
         "text": "(4, 1, 1)",
         "textposition": "middle center",
         "type": "scatter",
         "x": [
          3.5
         ],
         "y": [
          0.5
         ]
        },
        {
         "hoverinfo": "text",
         "legendgroup": "qpu_aqbs",
         "marker": {
          "color": "lightgray",
          "line": {
           "color": "darkred",
           "width": 1
          },
          "size": 15,
          "symbol": "circle"
         },
         "mode": "markers+text",
         "name": "Ancilla qubits",
         "showlegend": false,
         "text": "(5, 1, 1)",
         "textposition": "middle center",
         "type": "scatter",
         "x": [
          4.5
         ],
         "y": [
          0.5
         ]
        },
        {
         "hoverinfo": "text",
         "legendgroup": "qpu_aqbs",
         "marker": {
          "color": "lightgray",
          "line": {
           "color": "darkred",
           "width": 1
          },
          "size": 15,
          "symbol": "circle"
         },
         "mode": "markers+text",
         "name": "Ancilla qubits",
         "showlegend": false,
         "text": "(6, 1, 1)",
         "textposition": "middle center",
         "type": "scatter",
         "x": [
          5.5
         ],
         "y": [
          0.5
         ]
        },
        {
         "hoverinfo": "text",
         "legendgroup": "qpu_aqbs",
         "marker": {
          "color": "lightgray",
          "line": {
           "color": "darkred",
           "width": 1
          },
          "size": 15,
          "symbol": "circle"
         },
         "mode": "markers+text",
         "name": "Ancilla qubits",
         "showlegend": false,
         "text": "(7, 1, 1)",
         "textposition": "middle center",
         "type": "scatter",
         "x": [
          6.5
         ],
         "y": [
          0.5
         ]
        },
        {
         "hoverinfo": "text",
         "legendgroup": "qpu_aqbs",
         "marker": {
          "color": "lightgray",
          "line": {
           "color": "darkred",
           "width": 1
          },
          "size": 15,
          "symbol": "circle"
         },
         "mode": "markers+text",
         "name": "Ancilla qubits",
         "showlegend": false,
         "text": "(0, 2, 1)",
         "textposition": "middle center",
         "type": "scatter",
         "x": [
          -0.5
         ],
         "y": [
          1.5
         ]
        },
        {
         "hoverinfo": "text",
         "legendgroup": "qpu_aqbs",
         "marker": {
          "color": "lightgray",
          "line": {
           "color": "darkred",
           "width": 1
          },
          "size": 15,
          "symbol": "circle"
         },
         "mode": "markers+text",
         "name": "Ancilla qubits",
         "showlegend": false,
         "text": "(1, 2, 1)",
         "textposition": "middle center",
         "type": "scatter",
         "x": [
          0.5
         ],
         "y": [
          1.5
         ]
        },
        {
         "hoverinfo": "text",
         "legendgroup": "qpu_aqbs",
         "marker": {
          "color": "lightgray",
          "line": {
           "color": "darkred",
           "width": 1
          },
          "size": 15,
          "symbol": "circle"
         },
         "mode": "markers+text",
         "name": "Ancilla qubits",
         "showlegend": false,
         "text": "(2, 2, 1)",
         "textposition": "middle center",
         "type": "scatter",
         "x": [
          1.5
         ],
         "y": [
          1.5
         ]
        },
        {
         "hoverinfo": "text",
         "legendgroup": "qpu_aqbs",
         "marker": {
          "color": "lightgray",
          "line": {
           "color": "darkred",
           "width": 1
          },
          "size": 15,
          "symbol": "circle"
         },
         "mode": "markers+text",
         "name": "Ancilla qubits",
         "showlegend": false,
         "text": "(3, 2, 1)",
         "textposition": "middle center",
         "type": "scatter",
         "x": [
          2.5
         ],
         "y": [
          1.5
         ]
        },
        {
         "hoverinfo": "text",
         "legendgroup": "qpu_aqbs",
         "marker": {
          "color": "lightgray",
          "line": {
           "color": "darkred",
           "width": 1
          },
          "size": 15,
          "symbol": "circle"
         },
         "mode": "markers+text",
         "name": "Ancilla qubits",
         "showlegend": false,
         "text": "(4, 2, 1)",
         "textposition": "middle center",
         "type": "scatter",
         "x": [
          3.5
         ],
         "y": [
          1.5
         ]
        },
        {
         "hoverinfo": "text",
         "legendgroup": "qpu_aqbs",
         "marker": {
          "color": "lightgray",
          "line": {
           "color": "darkred",
           "width": 1
          },
          "size": 15,
          "symbol": "circle"
         },
         "mode": "markers+text",
         "name": "Ancilla qubits",
         "showlegend": false,
         "text": "(5, 2, 1)",
         "textposition": "middle center",
         "type": "scatter",
         "x": [
          4.5
         ],
         "y": [
          1.5
         ]
        },
        {
         "hoverinfo": "text",
         "legendgroup": "qpu_aqbs",
         "marker": {
          "color": "lightgray",
          "line": {
           "color": "darkred",
           "width": 1
          },
          "size": 15,
          "symbol": "circle"
         },
         "mode": "markers+text",
         "name": "Ancilla qubits",
         "showlegend": false,
         "text": "(6, 2, 1)",
         "textposition": "middle center",
         "type": "scatter",
         "x": [
          5.5
         ],
         "y": [
          1.5
         ]
        },
        {
         "hoverinfo": "text",
         "legendgroup": "qpu_aqbs",
         "marker": {
          "color": "lightgray",
          "line": {
           "color": "darkred",
           "width": 1
          },
          "size": 15,
          "symbol": "circle"
         },
         "mode": "markers+text",
         "name": "Ancilla qubits",
         "showlegend": false,
         "text": "(7, 2, 1)",
         "textposition": "middle center",
         "type": "scatter",
         "x": [
          6.5
         ],
         "y": [
          1.5
         ]
        },
        {
         "hoverinfo": "text",
         "legendgroup": "qpu_aqbs",
         "marker": {
          "color": "lightgray",
          "line": {
           "color": "darkred",
           "width": 1
          },
          "size": 15,
          "symbol": "circle"
         },
         "mode": "markers+text",
         "name": "Ancilla qubits",
         "showlegend": false,
         "text": "(0, 3, 1)",
         "textposition": "middle center",
         "type": "scatter",
         "x": [
          -0.5
         ],
         "y": [
          2.5
         ]
        },
        {
         "hoverinfo": "text",
         "legendgroup": "qpu_aqbs",
         "marker": {
          "color": "lightgray",
          "line": {
           "color": "darkred",
           "width": 1
          },
          "size": 15,
          "symbol": "circle"
         },
         "mode": "markers+text",
         "name": "Ancilla qubits",
         "showlegend": false,
         "text": "(1, 3, 1)",
         "textposition": "middle center",
         "type": "scatter",
         "x": [
          0.5
         ],
         "y": [
          2.5
         ]
        },
        {
         "hoverinfo": "text",
         "legendgroup": "qpu_aqbs",
         "marker": {
          "color": "lightgray",
          "line": {
           "color": "darkred",
           "width": 1
          },
          "size": 15,
          "symbol": "circle"
         },
         "mode": "markers+text",
         "name": "Ancilla qubits",
         "showlegend": false,
         "text": "(2, 3, 1)",
         "textposition": "middle center",
         "type": "scatter",
         "x": [
          1.5
         ],
         "y": [
          2.5
         ]
        },
        {
         "hoverinfo": "text",
         "legendgroup": "qpu_aqbs",
         "marker": {
          "color": "lightgray",
          "line": {
           "color": "darkred",
           "width": 1
          },
          "size": 15,
          "symbol": "circle"
         },
         "mode": "markers+text",
         "name": "Ancilla qubits",
         "showlegend": false,
         "text": "(3, 3, 1)",
         "textposition": "middle center",
         "type": "scatter",
         "x": [
          2.5
         ],
         "y": [
          2.5
         ]
        },
        {
         "hoverinfo": "text",
         "legendgroup": "qpu_aqbs",
         "marker": {
          "color": "lightgray",
          "line": {
           "color": "darkred",
           "width": 1
          },
          "size": 15,
          "symbol": "circle"
         },
         "mode": "markers+text",
         "name": "Ancilla qubits",
         "showlegend": false,
         "text": "(4, 3, 1)",
         "textposition": "middle center",
         "type": "scatter",
         "x": [
          3.5
         ],
         "y": [
          2.5
         ]
        },
        {
         "hoverinfo": "text",
         "legendgroup": "qpu_aqbs",
         "marker": {
          "color": "lightgray",
          "line": {
           "color": "darkred",
           "width": 1
          },
          "size": 15,
          "symbol": "circle"
         },
         "mode": "markers+text",
         "name": "Ancilla qubits",
         "showlegend": false,
         "text": "(5, 3, 1)",
         "textposition": "middle center",
         "type": "scatter",
         "x": [
          4.5
         ],
         "y": [
          2.5
         ]
        },
        {
         "hoverinfo": "text",
         "legendgroup": "qpu_aqbs",
         "marker": {
          "color": "lightgray",
          "line": {
           "color": "darkred",
           "width": 1
          },
          "size": 15,
          "symbol": "circle"
         },
         "mode": "markers+text",
         "name": "Ancilla qubits",
         "showlegend": false,
         "text": "(6, 3, 1)",
         "textposition": "middle center",
         "type": "scatter",
         "x": [
          5.5
         ],
         "y": [
          2.5
         ]
        },
        {
         "hoverinfo": "text",
         "legendgroup": "qpu_aqbs",
         "marker": {
          "color": "lightgray",
          "line": {
           "color": "darkred",
           "width": 1
          },
          "size": 15,
          "symbol": "circle"
         },
         "mode": "markers+text",
         "name": "Ancilla qubits",
         "showlegend": false,
         "text": "(7, 3, 1)",
         "textposition": "middle center",
         "type": "scatter",
         "x": [
          6.5
         ],
         "y": [
          2.5
         ]
        },
        {
         "fill": "toself",
         "fillcolor": "rgba(90,174,230,0.8)",
         "hoverinfo": "none",
         "legendgroup": "stabs_Q1",
         "line": {
          "color": "black",
          "width": 2
         },
         "mode": "lines",
         "name": "Q1 stabilizers",
         "showlegend": true,
         "type": "scatter",
         "x": [
          1,
          2,
          2,
          1,
          1
         ],
         "y": [
          0,
          0,
          1,
          1,
          1
         ]
        },
        {
         "fill": "toself",
         "fillcolor": "rgba(90,174,230,0.8)",
         "hoverinfo": "none",
         "legendgroup": "stabs_Q1",
         "line": {
          "color": "black",
          "width": 2
         },
         "mode": "lines",
         "name": "Q1 stabilizers",
         "showlegend": false,
         "type": "scatter",
         "x": [
          0,
          1,
          1,
          0,
          0
         ],
         "y": [
          1,
          1,
          2,
          2,
          2
         ]
        },
        {
         "fill": "toself",
         "fillcolor": "rgba(90,174,230,0.8)",
         "hoverinfo": "none",
         "legendgroup": "stabs_Q1",
         "line": {
          "color": "black",
          "width": 2
         },
         "mode": "lines",
         "name": "Q1 stabilizers",
         "showlegend": false,
         "type": "scatter",
         "x": [
          -0.1,
          0.1,
          0.1,
          -0.1,
          -0.1
         ],
         "y": [
          0,
          0,
          1,
          1,
          1
         ]
        },
        {
         "fill": "toself",
         "fillcolor": "rgba(90,174,230,0.8)",
         "hoverinfo": "none",
         "legendgroup": "stabs_Q1",
         "line": {
          "color": "black",
          "width": 2
         },
         "mode": "lines",
         "name": "Q1 stabilizers",
         "showlegend": false,
         "type": "scatter",
         "x": [
          1.9,
          2.1,
          2.1,
          1.9,
          1.9
         ],
         "y": [
          1,
          1,
          2,
          2,
          2
         ]
        },
        {
         "fill": "toself",
         "fillcolor": "rgba(87,201,90,0.8)",
         "hoverinfo": "none",
         "legendgroup": "stabs_Q1",
         "line": {
          "color": "black",
          "width": 2
         },
         "mode": "lines",
         "name": "Q1 stabilizers",
         "showlegend": false,
         "type": "scatter",
         "x": [
          0,
          1,
          1,
          0,
          0
         ],
         "y": [
          0,
          0,
          1,
          1,
          1
         ]
        },
        {
         "fill": "toself",
         "fillcolor": "rgba(87,201,90,0.8)",
         "hoverinfo": "none",
         "legendgroup": "stabs_Q1",
         "line": {
          "color": "black",
          "width": 2
         },
         "mode": "lines",
         "name": "Q1 stabilizers",
         "showlegend": false,
         "type": "scatter",
         "x": [
          1,
          2,
          2,
          1,
          1
         ],
         "y": [
          1,
          1,
          2,
          2,
          2
         ]
        },
        {
         "fill": "toself",
         "fillcolor": "rgba(87,201,90,0.8)",
         "hoverinfo": "none",
         "legendgroup": "stabs_Q1",
         "line": {
          "color": "black",
          "width": 2
         },
         "mode": "lines",
         "name": "Q1 stabilizers",
         "showlegend": false,
         "type": "scatter",
         "x": [
          0,
          1,
          1,
          0,
          0
         ],
         "y": [
          1.9,
          1.9,
          2.1,
          2.1,
          2.1
         ]
        },
        {
         "fill": "toself",
         "fillcolor": "rgba(87,201,90,0.8)",
         "hoverinfo": "none",
         "legendgroup": "stabs_Q1",
         "line": {
          "color": "black",
          "width": 2
         },
         "mode": "lines",
         "name": "Q1 stabilizers",
         "showlegend": false,
         "type": "scatter",
         "x": [
          1,
          2,
          2,
          1,
          1
         ],
         "y": [
          -0.1,
          -0.1,
          0.1,
          0.1,
          0.1
         ]
        },
        {
         "hoverinfo": "text",
         "legendgroup": "",
         "marker": {
          "color": "#1f77b4",
          "line": {
           "color": "darkred",
           "width": 1
          },
          "size": 25,
          "symbol": "circle"
         },
         "mode": "markers+text",
         "name": "",
         "showlegend": false,
         "text": "(1, 0, 0)",
         "textposition": "middle center",
         "type": "scatter",
         "x": [
          1
         ],
         "y": [
          0
         ]
        },
        {
         "hoverinfo": "text",
         "legendgroup": "",
         "marker": {
          "color": "#1f77b4",
          "line": {
           "color": "darkred",
           "width": 1
          },
          "size": 25,
          "symbol": "circle"
         },
         "mode": "markers+text",
         "name": "",
         "showlegend": false,
         "text": "(2, 0, 0)",
         "textposition": "middle center",
         "type": "scatter",
         "x": [
          2
         ],
         "y": [
          0
         ]
        },
        {
         "hoverinfo": "text",
         "legendgroup": "",
         "marker": {
          "color": "#1f77b4",
          "line": {
           "color": "darkred",
           "width": 1
          },
          "size": 25,
          "symbol": "circle"
         },
         "mode": "markers+text",
         "name": "",
         "showlegend": false,
         "text": "(1, 1, 0)",
         "textposition": "middle center",
         "type": "scatter",
         "x": [
          1
         ],
         "y": [
          1
         ]
        },
        {
         "hoverinfo": "text",
         "legendgroup": "",
         "marker": {
          "color": "#1f77b4",
          "line": {
           "color": "darkred",
           "width": 1
          },
          "size": 25,
          "symbol": "circle"
         },
         "mode": "markers+text",
         "name": "",
         "showlegend": false,
         "text": "(2, 1, 0)",
         "textposition": "middle center",
         "type": "scatter",
         "x": [
          2
         ],
         "y": [
          1
         ]
        },
        {
         "hoverinfo": "text",
         "legendgroup": "",
         "marker": {
          "color": "#1f77b4",
          "line": {
           "color": "darkred",
           "width": 1
          },
          "size": 25,
          "symbol": "circle"
         },
         "mode": "markers+text",
         "name": "",
         "showlegend": false,
         "text": "(0, 1, 0)",
         "textposition": "middle center",
         "type": "scatter",
         "x": [
          0
         ],
         "y": [
          1
         ]
        },
        {
         "hoverinfo": "text",
         "legendgroup": "",
         "marker": {
          "color": "#1f77b4",
          "line": {
           "color": "darkred",
           "width": 1
          },
          "size": 25,
          "symbol": "circle"
         },
         "mode": "markers+text",
         "name": "",
         "showlegend": false,
         "text": "(0, 2, 0)",
         "textposition": "middle center",
         "type": "scatter",
         "x": [
          0
         ],
         "y": [
          2
         ]
        },
        {
         "hoverinfo": "text",
         "legendgroup": "",
         "marker": {
          "color": "#1f77b4",
          "line": {
           "color": "darkred",
           "width": 1
          },
          "size": 25,
          "symbol": "circle"
         },
         "mode": "markers+text",
         "name": "",
         "showlegend": false,
         "text": "(1, 2, 0)",
         "textposition": "middle center",
         "type": "scatter",
         "x": [
          1
         ],
         "y": [
          2
         ]
        },
        {
         "hoverinfo": "text",
         "legendgroup": "",
         "marker": {
          "color": "#1f77b4",
          "line": {
           "color": "darkred",
           "width": 1
          },
          "size": 25,
          "symbol": "circle"
         },
         "mode": "markers+text",
         "name": "",
         "showlegend": false,
         "text": "(0, 0, 0)",
         "textposition": "middle center",
         "type": "scatter",
         "x": [
          0
         ],
         "y": [
          0
         ]
        },
        {
         "hoverinfo": "text",
         "legendgroup": "",
         "marker": {
          "color": "#1f77b4",
          "line": {
           "color": "darkred",
           "width": 1
          },
          "size": 25,
          "symbol": "circle"
         },
         "mode": "markers+text",
         "name": "",
         "showlegend": false,
         "text": "(2, 2, 0)",
         "textposition": "middle center",
         "type": "scatter",
         "x": [
          2
         ],
         "y": [
          2
         ]
        },
        {
         "hoverinfo": "text",
         "legendgroup": "",
         "marker": {
          "color": "gray",
          "line": {
           "color": "darkred",
           "width": 1
          },
          "size": 25,
          "symbol": "square"
         },
         "mode": "markers+text",
         "name": "",
         "showlegend": false,
         "text": "X<sub>(0, 0, 0)</sub>",
         "textposition": "middle center",
         "type": "scatter",
         "x": [
          0
         ],
         "y": [
          0
         ]
        },
        {
         "hoverinfo": "text",
         "legendgroup": "",
         "marker": {
          "color": "gray",
          "line": {
           "color": "darkred",
           "width": 1
          },
          "size": 25,
          "symbol": "square"
         },
         "mode": "markers+text",
         "name": "",
         "showlegend": false,
         "text": "X<sub>(1, 0, 0)</sub>",
         "textposition": "middle center",
         "type": "scatter",
         "x": [
          1
         ],
         "y": [
          0
         ]
        },
        {
         "hoverinfo": "text",
         "legendgroup": "",
         "marker": {
          "color": "gray",
          "line": {
           "color": "darkred",
           "width": 1
          },
          "size": 25,
          "symbol": "square"
         },
         "mode": "markers+text",
         "name": "",
         "showlegend": false,
         "text": "X<sub>(2, 0, 0)</sub>",
         "textposition": "middle center",
         "type": "scatter",
         "x": [
          2
         ],
         "y": [
          0
         ]
        },
        {
         "hoverinfo": "text",
         "legendgroup": "",
         "marker": {
          "color": "gray",
          "line": {
           "color": "darkred",
           "width": 1
          },
          "size": 25,
          "symbol": "square"
         },
         "mode": "markers+text",
         "name": "",
         "showlegend": false,
         "text": "Z<sub>(0, 0, 0)</sub>",
         "textposition": "middle center",
         "type": "scatter",
         "x": [
          0
         ],
         "y": [
          0
         ]
        },
        {
         "hoverinfo": "text",
         "legendgroup": "",
         "marker": {
          "color": "gray",
          "line": {
           "color": "darkred",
           "width": 1
          },
          "size": 25,
          "symbol": "square"
         },
         "mode": "markers+text",
         "name": "",
         "showlegend": false,
         "text": "Z<sub>(0, 1, 0)</sub>",
         "textposition": "middle center",
         "type": "scatter",
         "x": [
          0
         ],
         "y": [
          1
         ]
        },
        {
         "hoverinfo": "text",
         "legendgroup": "",
         "marker": {
          "color": "gray",
          "line": {
           "color": "darkred",
           "width": 1
          },
          "size": 25,
          "symbol": "square"
         },
         "mode": "markers+text",
         "name": "",
         "showlegend": false,
         "text": "Z<sub>(0, 2, 0)</sub>",
         "textposition": "middle center",
         "type": "scatter",
         "x": [
          0
         ],
         "y": [
          2
         ]
        },
        {
         "fill": "toself",
         "fillcolor": "rgba(90,174,230,0.8)",
         "hoverinfo": "none",
         "legendgroup": "stabs_Q2",
         "line": {
          "color": "black",
          "width": 2
         },
         "mode": "lines",
         "name": "Q2 stabilizers",
         "showlegend": true,
         "type": "scatter",
         "x": [
          5,
          6,
          6,
          5,
          5
         ],
         "y": [
          0,
          0,
          1,
          1,
          1
         ]
        },
        {
         "fill": "toself",
         "fillcolor": "rgba(90,174,230,0.8)",
         "hoverinfo": "none",
         "legendgroup": "stabs_Q2",
         "line": {
          "color": "black",
          "width": 2
         },
         "mode": "lines",
         "name": "Q2 stabilizers",
         "showlegend": false,
         "type": "scatter",
         "x": [
          4,
          5,
          5,
          4,
          4
         ],
         "y": [
          1,
          1,
          2,
          2,
          2
         ]
        },
        {
         "fill": "toself",
         "fillcolor": "rgba(90,174,230,0.8)",
         "hoverinfo": "none",
         "legendgroup": "stabs_Q2",
         "line": {
          "color": "black",
          "width": 2
         },
         "mode": "lines",
         "name": "Q2 stabilizers",
         "showlegend": false,
         "type": "scatter",
         "x": [
          3.9,
          4.1,
          4.1,
          3.9,
          3.9
         ],
         "y": [
          0,
          0,
          1,
          1,
          1
         ]
        },
        {
         "fill": "toself",
         "fillcolor": "rgba(90,174,230,0.8)",
         "hoverinfo": "none",
         "legendgroup": "stabs_Q2",
         "line": {
          "color": "black",
          "width": 2
         },
         "mode": "lines",
         "name": "Q2 stabilizers",
         "showlegend": false,
         "type": "scatter",
         "x": [
          5.9,
          6.1,
          6.1,
          5.9,
          5.9
         ],
         "y": [
          1,
          1,
          2,
          2,
          2
         ]
        },
        {
         "fill": "toself",
         "fillcolor": "rgba(87,201,90,0.8)",
         "hoverinfo": "none",
         "legendgroup": "stabs_Q2",
         "line": {
          "color": "black",
          "width": 2
         },
         "mode": "lines",
         "name": "Q2 stabilizers",
         "showlegend": false,
         "type": "scatter",
         "x": [
          4,
          5,
          5,
          4,
          4
         ],
         "y": [
          0,
          0,
          1,
          1,
          1
         ]
        },
        {
         "fill": "toself",
         "fillcolor": "rgba(87,201,90,0.8)",
         "hoverinfo": "none",
         "legendgroup": "stabs_Q2",
         "line": {
          "color": "black",
          "width": 2
         },
         "mode": "lines",
         "name": "Q2 stabilizers",
         "showlegend": false,
         "type": "scatter",
         "x": [
          5,
          6,
          6,
          5,
          5
         ],
         "y": [
          1,
          1,
          2,
          2,
          2
         ]
        },
        {
         "fill": "toself",
         "fillcolor": "rgba(87,201,90,0.8)",
         "hoverinfo": "none",
         "legendgroup": "stabs_Q2",
         "line": {
          "color": "black",
          "width": 2
         },
         "mode": "lines",
         "name": "Q2 stabilizers",
         "showlegend": false,
         "type": "scatter",
         "x": [
          4,
          5,
          5,
          4,
          4
         ],
         "y": [
          1.9,
          1.9,
          2.1,
          2.1,
          2.1
         ]
        },
        {
         "fill": "toself",
         "fillcolor": "rgba(87,201,90,0.8)",
         "hoverinfo": "none",
         "legendgroup": "stabs_Q2",
         "line": {
          "color": "black",
          "width": 2
         },
         "mode": "lines",
         "name": "Q2 stabilizers",
         "showlegend": false,
         "type": "scatter",
         "x": [
          5,
          6,
          6,
          5,
          5
         ],
         "y": [
          -0.1,
          -0.1,
          0.1,
          0.1,
          0.1
         ]
        },
        {
         "hoverinfo": "text",
         "legendgroup": "",
         "marker": {
          "color": "#ff7f0e",
          "line": {
           "color": "darkred",
           "width": 1
          },
          "size": 25,
          "symbol": "circle"
         },
         "mode": "markers+text",
         "name": "",
         "showlegend": false,
         "text": "(5, 0, 0)",
         "textposition": "middle center",
         "type": "scatter",
         "x": [
          5
         ],
         "y": [
          0
         ]
        },
        {
         "hoverinfo": "text",
         "legendgroup": "",
         "marker": {
          "color": "#ff7f0e",
          "line": {
           "color": "darkred",
           "width": 1
          },
          "size": 25,
          "symbol": "circle"
         },
         "mode": "markers+text",
         "name": "",
         "showlegend": false,
         "text": "(6, 0, 0)",
         "textposition": "middle center",
         "type": "scatter",
         "x": [
          6
         ],
         "y": [
          0
         ]
        },
        {
         "hoverinfo": "text",
         "legendgroup": "",
         "marker": {
          "color": "#ff7f0e",
          "line": {
           "color": "darkred",
           "width": 1
          },
          "size": 25,
          "symbol": "circle"
         },
         "mode": "markers+text",
         "name": "",
         "showlegend": false,
         "text": "(5, 1, 0)",
         "textposition": "middle center",
         "type": "scatter",
         "x": [
          5
         ],
         "y": [
          1
         ]
        },
        {
         "hoverinfo": "text",
         "legendgroup": "",
         "marker": {
          "color": "#ff7f0e",
          "line": {
           "color": "darkred",
           "width": 1
          },
          "size": 25,
          "symbol": "circle"
         },
         "mode": "markers+text",
         "name": "",
         "showlegend": false,
         "text": "(6, 1, 0)",
         "textposition": "middle center",
         "type": "scatter",
         "x": [
          6
         ],
         "y": [
          1
         ]
        },
        {
         "hoverinfo": "text",
         "legendgroup": "",
         "marker": {
          "color": "#ff7f0e",
          "line": {
           "color": "darkred",
           "width": 1
          },
          "size": 25,
          "symbol": "circle"
         },
         "mode": "markers+text",
         "name": "",
         "showlegend": false,
         "text": "(4, 1, 0)",
         "textposition": "middle center",
         "type": "scatter",
         "x": [
          4
         ],
         "y": [
          1
         ]
        },
        {
         "hoverinfo": "text",
         "legendgroup": "",
         "marker": {
          "color": "#ff7f0e",
          "line": {
           "color": "darkred",
           "width": 1
          },
          "size": 25,
          "symbol": "circle"
         },
         "mode": "markers+text",
         "name": "",
         "showlegend": false,
         "text": "(4, 2, 0)",
         "textposition": "middle center",
         "type": "scatter",
         "x": [
          4
         ],
         "y": [
          2
         ]
        },
        {
         "hoverinfo": "text",
         "legendgroup": "",
         "marker": {
          "color": "#ff7f0e",
          "line": {
           "color": "darkred",
           "width": 1
          },
          "size": 25,
          "symbol": "circle"
         },
         "mode": "markers+text",
         "name": "",
         "showlegend": false,
         "text": "(5, 2, 0)",
         "textposition": "middle center",
         "type": "scatter",
         "x": [
          5
         ],
         "y": [
          2
         ]
        },
        {
         "hoverinfo": "text",
         "legendgroup": "",
         "marker": {
          "color": "#ff7f0e",
          "line": {
           "color": "darkred",
           "width": 1
          },
          "size": 25,
          "symbol": "circle"
         },
         "mode": "markers+text",
         "name": "",
         "showlegend": false,
         "text": "(4, 0, 0)",
         "textposition": "middle center",
         "type": "scatter",
         "x": [
          4
         ],
         "y": [
          0
         ]
        },
        {
         "hoverinfo": "text",
         "legendgroup": "",
         "marker": {
          "color": "#ff7f0e",
          "line": {
           "color": "darkred",
           "width": 1
          },
          "size": 25,
          "symbol": "circle"
         },
         "mode": "markers+text",
         "name": "",
         "showlegend": false,
         "text": "(6, 2, 0)",
         "textposition": "middle center",
         "type": "scatter",
         "x": [
          6
         ],
         "y": [
          2
         ]
        },
        {
         "hoverinfo": "text",
         "legendgroup": "",
         "marker": {
          "color": "gray",
          "line": {
           "color": "darkred",
           "width": 1
          },
          "size": 25,
          "symbol": "square"
         },
         "mode": "markers+text",
         "name": "",
         "showlegend": false,
         "text": "X<sub>(4, 0, 0)</sub>",
         "textposition": "middle center",
         "type": "scatter",
         "x": [
          4
         ],
         "y": [
          0
         ]
        },
        {
         "hoverinfo": "text",
         "legendgroup": "",
         "marker": {
          "color": "gray",
          "line": {
           "color": "darkred",
           "width": 1
          },
          "size": 25,
          "symbol": "square"
         },
         "mode": "markers+text",
         "name": "",
         "showlegend": false,
         "text": "X<sub>(5, 0, 0)</sub>",
         "textposition": "middle center",
         "type": "scatter",
         "x": [
          5
         ],
         "y": [
          0
         ]
        },
        {
         "hoverinfo": "text",
         "legendgroup": "",
         "marker": {
          "color": "gray",
          "line": {
           "color": "darkred",
           "width": 1
          },
          "size": 25,
          "symbol": "square"
         },
         "mode": "markers+text",
         "name": "",
         "showlegend": false,
         "text": "X<sub>(6, 0, 0)</sub>",
         "textposition": "middle center",
         "type": "scatter",
         "x": [
          6
         ],
         "y": [
          0
         ]
        },
        {
         "hoverinfo": "text",
         "legendgroup": "",
         "marker": {
          "color": "gray",
          "line": {
           "color": "darkred",
           "width": 1
          },
          "size": 25,
          "symbol": "square"
         },
         "mode": "markers+text",
         "name": "",
         "showlegend": false,
         "text": "Z<sub>(4, 0, 0)</sub>",
         "textposition": "middle center",
         "type": "scatter",
         "x": [
          4
         ],
         "y": [
          0
         ]
        },
        {
         "hoverinfo": "text",
         "legendgroup": "",
         "marker": {
          "color": "gray",
          "line": {
           "color": "darkred",
           "width": 1
          },
          "size": 25,
          "symbol": "square"
         },
         "mode": "markers+text",
         "name": "",
         "showlegend": false,
         "text": "Z<sub>(4, 1, 0)</sub>",
         "textposition": "middle center",
         "type": "scatter",
         "x": [
          4
         ],
         "y": [
          1
         ]
        },
        {
         "hoverinfo": "text",
         "legendgroup": "",
         "marker": {
          "color": "gray",
          "line": {
           "color": "darkred",
           "width": 1
          },
          "size": 25,
          "symbol": "square"
         },
         "mode": "markers+text",
         "name": "",
         "showlegend": false,
         "text": "Z<sub>(4, 2, 0)</sub>",
         "textposition": "middle center",
         "type": "scatter",
         "x": [
          4
         ],
         "y": [
          2
         ]
        }
       ],
       "layout": {
        "height": 700,
        "showlegend": true,
        "template": {
         "data": {
          "bar": [
           {
            "error_x": {
             "color": "#2a3f5f"
            },
            "error_y": {
             "color": "#2a3f5f"
            },
            "marker": {
             "line": {
              "color": "#E5ECF6",
              "width": 0.5
             },
             "pattern": {
              "fillmode": "overlay",
              "size": 10,
              "solidity": 0.2
             }
            },
            "type": "bar"
           }
          ],
          "barpolar": [
           {
            "marker": {
             "line": {
              "color": "#E5ECF6",
              "width": 0.5
             },
             "pattern": {
              "fillmode": "overlay",
              "size": 10,
              "solidity": 0.2
             }
            },
            "type": "barpolar"
           }
          ],
          "carpet": [
           {
            "aaxis": {
             "endlinecolor": "#2a3f5f",
             "gridcolor": "white",
             "linecolor": "white",
             "minorgridcolor": "white",
             "startlinecolor": "#2a3f5f"
            },
            "baxis": {
             "endlinecolor": "#2a3f5f",
             "gridcolor": "white",
             "linecolor": "white",
             "minorgridcolor": "white",
             "startlinecolor": "#2a3f5f"
            },
            "type": "carpet"
           }
          ],
          "choropleth": [
           {
            "colorbar": {
             "outlinewidth": 0,
             "ticks": ""
            },
            "type": "choropleth"
           }
          ],
          "contour": [
           {
            "colorbar": {
             "outlinewidth": 0,
             "ticks": ""
            },
            "colorscale": [
             [
              0,
              "#0d0887"
             ],
             [
              0.1111111111111111,
              "#46039f"
             ],
             [
              0.2222222222222222,
              "#7201a8"
             ],
             [
              0.3333333333333333,
              "#9c179e"
             ],
             [
              0.4444444444444444,
              "#bd3786"
             ],
             [
              0.5555555555555556,
              "#d8576b"
             ],
             [
              0.6666666666666666,
              "#ed7953"
             ],
             [
              0.7777777777777778,
              "#fb9f3a"
             ],
             [
              0.8888888888888888,
              "#fdca26"
             ],
             [
              1,
              "#f0f921"
             ]
            ],
            "type": "contour"
           }
          ],
          "contourcarpet": [
           {
            "colorbar": {
             "outlinewidth": 0,
             "ticks": ""
            },
            "type": "contourcarpet"
           }
          ],
          "heatmap": [
           {
            "colorbar": {
             "outlinewidth": 0,
             "ticks": ""
            },
            "colorscale": [
             [
              0,
              "#0d0887"
             ],
             [
              0.1111111111111111,
              "#46039f"
             ],
             [
              0.2222222222222222,
              "#7201a8"
             ],
             [
              0.3333333333333333,
              "#9c179e"
             ],
             [
              0.4444444444444444,
              "#bd3786"
             ],
             [
              0.5555555555555556,
              "#d8576b"
             ],
             [
              0.6666666666666666,
              "#ed7953"
             ],
             [
              0.7777777777777778,
              "#fb9f3a"
             ],
             [
              0.8888888888888888,
              "#fdca26"
             ],
             [
              1,
              "#f0f921"
             ]
            ],
            "type": "heatmap"
           }
          ],
          "heatmapgl": [
           {
            "colorbar": {
             "outlinewidth": 0,
             "ticks": ""
            },
            "colorscale": [
             [
              0,
              "#0d0887"
             ],
             [
              0.1111111111111111,
              "#46039f"
             ],
             [
              0.2222222222222222,
              "#7201a8"
             ],
             [
              0.3333333333333333,
              "#9c179e"
             ],
             [
              0.4444444444444444,
              "#bd3786"
             ],
             [
              0.5555555555555556,
              "#d8576b"
             ],
             [
              0.6666666666666666,
              "#ed7953"
             ],
             [
              0.7777777777777778,
              "#fb9f3a"
             ],
             [
              0.8888888888888888,
              "#fdca26"
             ],
             [
              1,
              "#f0f921"
             ]
            ],
            "type": "heatmapgl"
           }
          ],
          "histogram": [
           {
            "marker": {
             "pattern": {
              "fillmode": "overlay",
              "size": 10,
              "solidity": 0.2
             }
            },
            "type": "histogram"
           }
          ],
          "histogram2d": [
           {
            "colorbar": {
             "outlinewidth": 0,
             "ticks": ""
            },
            "colorscale": [
             [
              0,
              "#0d0887"
             ],
             [
              0.1111111111111111,
              "#46039f"
             ],
             [
              0.2222222222222222,
              "#7201a8"
             ],
             [
              0.3333333333333333,
              "#9c179e"
             ],
             [
              0.4444444444444444,
              "#bd3786"
             ],
             [
              0.5555555555555556,
              "#d8576b"
             ],
             [
              0.6666666666666666,
              "#ed7953"
             ],
             [
              0.7777777777777778,
              "#fb9f3a"
             ],
             [
              0.8888888888888888,
              "#fdca26"
             ],
             [
              1,
              "#f0f921"
             ]
            ],
            "type": "histogram2d"
           }
          ],
          "histogram2dcontour": [
           {
            "colorbar": {
             "outlinewidth": 0,
             "ticks": ""
            },
            "colorscale": [
             [
              0,
              "#0d0887"
             ],
             [
              0.1111111111111111,
              "#46039f"
             ],
             [
              0.2222222222222222,
              "#7201a8"
             ],
             [
              0.3333333333333333,
              "#9c179e"
             ],
             [
              0.4444444444444444,
              "#bd3786"
             ],
             [
              0.5555555555555556,
              "#d8576b"
             ],
             [
              0.6666666666666666,
              "#ed7953"
             ],
             [
              0.7777777777777778,
              "#fb9f3a"
             ],
             [
              0.8888888888888888,
              "#fdca26"
             ],
             [
              1,
              "#f0f921"
             ]
            ],
            "type": "histogram2dcontour"
           }
          ],
          "mesh3d": [
           {
            "colorbar": {
             "outlinewidth": 0,
             "ticks": ""
            },
            "type": "mesh3d"
           }
          ],
          "parcoords": [
           {
            "line": {
             "colorbar": {
              "outlinewidth": 0,
              "ticks": ""
             }
            },
            "type": "parcoords"
           }
          ],
          "pie": [
           {
            "automargin": true,
            "type": "pie"
           }
          ],
          "scatter": [
           {
            "fillpattern": {
             "fillmode": "overlay",
             "size": 10,
             "solidity": 0.2
            },
            "type": "scatter"
           }
          ],
          "scatter3d": [
           {
            "line": {
             "colorbar": {
              "outlinewidth": 0,
              "ticks": ""
             }
            },
            "marker": {
             "colorbar": {
              "outlinewidth": 0,
              "ticks": ""
             }
            },
            "type": "scatter3d"
           }
          ],
          "scattercarpet": [
           {
            "marker": {
             "colorbar": {
              "outlinewidth": 0,
              "ticks": ""
             }
            },
            "type": "scattercarpet"
           }
          ],
          "scattergeo": [
           {
            "marker": {
             "colorbar": {
              "outlinewidth": 0,
              "ticks": ""
             }
            },
            "type": "scattergeo"
           }
          ],
          "scattergl": [
           {
            "marker": {
             "colorbar": {
              "outlinewidth": 0,
              "ticks": ""
             }
            },
            "type": "scattergl"
           }
          ],
          "scattermapbox": [
           {
            "marker": {
             "colorbar": {
              "outlinewidth": 0,
              "ticks": ""
             }
            },
            "type": "scattermapbox"
           }
          ],
          "scatterpolar": [
           {
            "marker": {
             "colorbar": {
              "outlinewidth": 0,
              "ticks": ""
             }
            },
            "type": "scatterpolar"
           }
          ],
          "scatterpolargl": [
           {
            "marker": {
             "colorbar": {
              "outlinewidth": 0,
              "ticks": ""
             }
            },
            "type": "scatterpolargl"
           }
          ],
          "scatterternary": [
           {
            "marker": {
             "colorbar": {
              "outlinewidth": 0,
              "ticks": ""
             }
            },
            "type": "scatterternary"
           }
          ],
          "surface": [
           {
            "colorbar": {
             "outlinewidth": 0,
             "ticks": ""
            },
            "colorscale": [
             [
              0,
              "#0d0887"
             ],
             [
              0.1111111111111111,
              "#46039f"
             ],
             [
              0.2222222222222222,
              "#7201a8"
             ],
             [
              0.3333333333333333,
              "#9c179e"
             ],
             [
              0.4444444444444444,
              "#bd3786"
             ],
             [
              0.5555555555555556,
              "#d8576b"
             ],
             [
              0.6666666666666666,
              "#ed7953"
             ],
             [
              0.7777777777777778,
              "#fb9f3a"
             ],
             [
              0.8888888888888888,
              "#fdca26"
             ],
             [
              1,
              "#f0f921"
             ]
            ],
            "type": "surface"
           }
          ],
          "table": [
           {
            "cells": {
             "fill": {
              "color": "#EBF0F8"
             },
             "line": {
              "color": "white"
             }
            },
            "header": {
             "fill": {
              "color": "#C8D4E3"
             },
             "line": {
              "color": "white"
             }
            },
            "type": "table"
           }
          ]
         },
         "layout": {
          "annotationdefaults": {
           "arrowcolor": "#2a3f5f",
           "arrowhead": 0,
           "arrowwidth": 1
          },
          "autotypenumbers": "strict",
          "coloraxis": {
           "colorbar": {
            "outlinewidth": 0,
            "ticks": ""
           }
          },
          "colorscale": {
           "diverging": [
            [
             0,
             "#8e0152"
            ],
            [
             0.1,
             "#c51b7d"
            ],
            [
             0.2,
             "#de77ae"
            ],
            [
             0.3,
             "#f1b6da"
            ],
            [
             0.4,
             "#fde0ef"
            ],
            [
             0.5,
             "#f7f7f7"
            ],
            [
             0.6,
             "#e6f5d0"
            ],
            [
             0.7,
             "#b8e186"
            ],
            [
             0.8,
             "#7fbc41"
            ],
            [
             0.9,
             "#4d9221"
            ],
            [
             1,
             "#276419"
            ]
           ],
           "sequential": [
            [
             0,
             "#0d0887"
            ],
            [
             0.1111111111111111,
             "#46039f"
            ],
            [
             0.2222222222222222,
             "#7201a8"
            ],
            [
             0.3333333333333333,
             "#9c179e"
            ],
            [
             0.4444444444444444,
             "#bd3786"
            ],
            [
             0.5555555555555556,
             "#d8576b"
            ],
            [
             0.6666666666666666,
             "#ed7953"
            ],
            [
             0.7777777777777778,
             "#fb9f3a"
            ],
            [
             0.8888888888888888,
             "#fdca26"
            ],
            [
             1,
             "#f0f921"
            ]
           ],
           "sequentialminus": [
            [
             0,
             "#0d0887"
            ],
            [
             0.1111111111111111,
             "#46039f"
            ],
            [
             0.2222222222222222,
             "#7201a8"
            ],
            [
             0.3333333333333333,
             "#9c179e"
            ],
            [
             0.4444444444444444,
             "#bd3786"
            ],
            [
             0.5555555555555556,
             "#d8576b"
            ],
            [
             0.6666666666666666,
             "#ed7953"
            ],
            [
             0.7777777777777778,
             "#fb9f3a"
            ],
            [
             0.8888888888888888,
             "#fdca26"
            ],
            [
             1,
             "#f0f921"
            ]
           ]
          },
          "colorway": [
           "#636efa",
           "#EF553B",
           "#00cc96",
           "#ab63fa",
           "#FFA15A",
           "#19d3f3",
           "#FF6692",
           "#B6E880",
           "#FF97FF",
           "#FECB52"
          ],
          "font": {
           "color": "#2a3f5f"
          },
          "geo": {
           "bgcolor": "white",
           "lakecolor": "white",
           "landcolor": "#E5ECF6",
           "showlakes": true,
           "showland": true,
           "subunitcolor": "white"
          },
          "hoverlabel": {
           "align": "left"
          },
          "hovermode": "closest",
          "mapbox": {
           "style": "light"
          },
          "paper_bgcolor": "white",
          "plot_bgcolor": "#E5ECF6",
          "polar": {
           "angularaxis": {
            "gridcolor": "white",
            "linecolor": "white",
            "ticks": ""
           },
           "bgcolor": "#E5ECF6",
           "radialaxis": {
            "gridcolor": "white",
            "linecolor": "white",
            "ticks": ""
           }
          },
          "scene": {
           "xaxis": {
            "backgroundcolor": "#E5ECF6",
            "gridcolor": "white",
            "gridwidth": 2,
            "linecolor": "white",
            "showbackground": true,
            "ticks": "",
            "zerolinecolor": "white"
           },
           "yaxis": {
            "backgroundcolor": "#E5ECF6",
            "gridcolor": "white",
            "gridwidth": 2,
            "linecolor": "white",
            "showbackground": true,
            "ticks": "",
            "zerolinecolor": "white"
           },
           "zaxis": {
            "backgroundcolor": "#E5ECF6",
            "gridcolor": "white",
            "gridwidth": 2,
            "linecolor": "white",
            "showbackground": true,
            "ticks": "",
            "zerolinecolor": "white"
           }
          },
          "shapedefaults": {
           "line": {
            "color": "#2a3f5f"
           }
          },
          "ternary": {
           "aaxis": {
            "gridcolor": "white",
            "linecolor": "white",
            "ticks": ""
           },
           "baxis": {
            "gridcolor": "white",
            "linecolor": "white",
            "ticks": ""
           },
           "bgcolor": "#E5ECF6",
           "caxis": {
            "gridcolor": "white",
            "linecolor": "white",
            "ticks": ""
           }
          },
          "title": {
           "x": 0.05
          },
          "xaxis": {
           "automargin": true,
           "gridcolor": "white",
           "linecolor": "white",
           "ticks": "",
           "title": {
            "standoff": 15
           },
           "zerolinecolor": "white",
           "zerolinewidth": 2
          },
          "yaxis": {
           "automargin": true,
           "gridcolor": "white",
           "linecolor": "white",
           "ticks": "",
           "title": {
            "standoff": 15
           },
           "zerolinecolor": "white",
           "zerolinewidth": 2
          }
         }
        },
        "width": 1100,
        "xaxis": {
         "anchor": "y",
         "domain": [
          0,
          1
         ],
         "showgrid": true,
         "visible": true,
         "zeroline": false
        },
        "yaxis": {
         "anchor": "x",
         "autorange": "reversed",
         "domain": [
          0,
          1
         ],
         "scaleanchor": "x",
         "scaleratio": 1,
         "showgrid": true,
         "visible": true
        }
       }
      }
     },
     "metadata": {},
     "output_type": "display_data"
    }
   ],
   "source": [
    "qecplot = QECPlot(circ)\n",
    "qecplot.plot_logical_qubit(\"Q1\")\n",
    "qecplot.plot_logical_qubit(\"Q2\")\n",
    "qecplot.show()"
   ]
  },
  {
   "cell_type": "markdown",
   "metadata": {},
   "source": [
    "Now we add syndrome extraction cycles for both logical qubits:"
   ]
  },
  {
   "cell_type": "code",
   "execution_count": 4,
   "metadata": {},
   "outputs": [],
   "source": [
    "uuids = (\n",
    "    circ.add_par_def_syndrome_extraction_circuit_all_log_qbs()\n",
    ")  # Add a syndrome extraction cycle"
   ]
  },
  {
   "cell_type": "markdown",
   "metadata": {},
   "source": [
    "# Plot the circuit using stim\n",
    "To verify that we have the syndrome extraction circuit that we want, we can plot the circuit using stim:"
   ]
  },
  {
   "cell_type": "code",
   "execution_count": 5,
   "metadata": {},
   "outputs": [
    {
     "data": {
      "image/svg+xml": [
       "<svg viewBox=\"0 0 4064 3488\"  version=\"1.1\" xmlns=\"http://www.w3.org/2000/svg\">\n",
       "<g id=\"qubit_lines\">\n",
       "<path id=\"qubit_line:0\" d=\"M64,64 L4032,64 \" stroke=\"black\"/>\n",
       "<text dominant-baseline=\"central\" text-anchor=\"end\" font-family=\"monospace\" font-size=\"12\" x=\"64\" y=\"64\">q0</text>\n",
       "<path id=\"qubit_line:1\" d=\"M64,128 L4032,128 \" stroke=\"black\"/>\n",
       "<text dominant-baseline=\"central\" text-anchor=\"end\" font-family=\"monospace\" font-size=\"12\" x=\"64\" y=\"128\">q1</text>\n",
       "<path id=\"qubit_line:2\" d=\"M64,192 L4032,192 \" stroke=\"black\"/>\n",
       "<text dominant-baseline=\"central\" text-anchor=\"end\" font-family=\"monospace\" font-size=\"12\" x=\"64\" y=\"192\">q2</text>\n",
       "<path id=\"qubit_line:3\" d=\"M64,256 L4032,256 \" stroke=\"black\"/>\n",
       "<text dominant-baseline=\"central\" text-anchor=\"end\" font-family=\"monospace\" font-size=\"12\" x=\"64\" y=\"256\">q3</text>\n",
       "<path id=\"qubit_line:4\" d=\"M64,320 L4032,320 \" stroke=\"black\"/>\n",
       "<text dominant-baseline=\"central\" text-anchor=\"end\" font-family=\"monospace\" font-size=\"12\" x=\"64\" y=\"320\">q4</text>\n",
       "<path id=\"qubit_line:5\" d=\"M64,384 L4032,384 \" stroke=\"black\"/>\n",
       "<text dominant-baseline=\"central\" text-anchor=\"end\" font-family=\"monospace\" font-size=\"12\" x=\"64\" y=\"384\">q5</text>\n",
       "<path id=\"qubit_line:6\" d=\"M64,448 L4032,448 \" stroke=\"black\"/>\n",
       "<text dominant-baseline=\"central\" text-anchor=\"end\" font-family=\"monospace\" font-size=\"12\" x=\"64\" y=\"448\">q6</text>\n",
       "<path id=\"qubit_line:7\" d=\"M64,512 L4032,512 \" stroke=\"black\"/>\n",
       "<text dominant-baseline=\"central\" text-anchor=\"end\" font-family=\"monospace\" font-size=\"12\" x=\"64\" y=\"512\">q7</text>\n",
       "<path id=\"qubit_line:8\" d=\"M64,576 L4032,576 \" stroke=\"black\"/>\n",
       "<text dominant-baseline=\"central\" text-anchor=\"end\" font-family=\"monospace\" font-size=\"12\" x=\"64\" y=\"576\">q8</text>\n",
       "<path id=\"qubit_line:9\" d=\"M64,640 L4032,640 \" stroke=\"black\"/>\n",
       "<text dominant-baseline=\"central\" text-anchor=\"end\" font-family=\"monospace\" font-size=\"12\" x=\"64\" y=\"640\">q9</text>\n",
       "<path id=\"qubit_line:10\" d=\"M64,704 L4032,704 \" stroke=\"black\"/>\n",
       "<text dominant-baseline=\"central\" text-anchor=\"end\" font-family=\"monospace\" font-size=\"12\" x=\"64\" y=\"704\">q10</text>\n",
       "<path id=\"qubit_line:11\" d=\"M64,768 L4032,768 \" stroke=\"black\"/>\n",
       "<text dominant-baseline=\"central\" text-anchor=\"end\" font-family=\"monospace\" font-size=\"12\" x=\"64\" y=\"768\">q11</text>\n",
       "<path id=\"qubit_line:12\" d=\"M64,832 L4032,832 \" stroke=\"black\"/>\n",
       "<text dominant-baseline=\"central\" text-anchor=\"end\" font-family=\"monospace\" font-size=\"12\" x=\"64\" y=\"832\">q12</text>\n",
       "<path id=\"qubit_line:13\" d=\"M64,896 L4032,896 \" stroke=\"black\"/>\n",
       "<text dominant-baseline=\"central\" text-anchor=\"end\" font-family=\"monospace\" font-size=\"12\" x=\"64\" y=\"896\">q13</text>\n",
       "<path id=\"qubit_line:14\" d=\"M64,960 L4032,960 \" stroke=\"black\"/>\n",
       "<text dominant-baseline=\"central\" text-anchor=\"end\" font-family=\"monospace\" font-size=\"12\" x=\"64\" y=\"960\">q14</text>\n",
       "<path id=\"qubit_line:15\" d=\"M64,1024 L4032,1024 \" stroke=\"black\"/>\n",
       "<text dominant-baseline=\"central\" text-anchor=\"end\" font-family=\"monospace\" font-size=\"12\" x=\"64\" y=\"1024\">q15</text>\n",
       "<path id=\"qubit_line:16\" d=\"M64,1088 L4032,1088 \" stroke=\"black\"/>\n",
       "<text dominant-baseline=\"central\" text-anchor=\"end\" font-family=\"monospace\" font-size=\"12\" x=\"64\" y=\"1088\">q16</text>\n",
       "<path id=\"qubit_line:17\" d=\"M64,1152 L4032,1152 \" stroke=\"black\"/>\n",
       "<text dominant-baseline=\"central\" text-anchor=\"end\" font-family=\"monospace\" font-size=\"12\" x=\"64\" y=\"1152\">q17</text>\n",
       "<path id=\"qubit_line:18\" d=\"M64,1216 L4032,1216 \" stroke=\"black\"/>\n",
       "<text dominant-baseline=\"central\" text-anchor=\"end\" font-family=\"monospace\" font-size=\"12\" x=\"64\" y=\"1216\">q18</text>\n",
       "<path id=\"qubit_line:19\" d=\"M64,1280 L4032,1280 \" stroke=\"black\"/>\n",
       "<text dominant-baseline=\"central\" text-anchor=\"end\" font-family=\"monospace\" font-size=\"12\" x=\"64\" y=\"1280\">q19</text>\n",
       "<path id=\"qubit_line:20\" d=\"M64,1344 L4032,1344 \" stroke=\"black\"/>\n",
       "<text dominant-baseline=\"central\" text-anchor=\"end\" font-family=\"monospace\" font-size=\"12\" x=\"64\" y=\"1344\">q20</text>\n",
       "<path id=\"qubit_line:21\" d=\"M64,1408 L4032,1408 \" stroke=\"black\"/>\n",
       "<text dominant-baseline=\"central\" text-anchor=\"end\" font-family=\"monospace\" font-size=\"12\" x=\"64\" y=\"1408\">q21</text>\n",
       "<path id=\"qubit_line:22\" d=\"M64,1472 L4032,1472 \" stroke=\"black\"/>\n",
       "<text dominant-baseline=\"central\" text-anchor=\"end\" font-family=\"monospace\" font-size=\"12\" x=\"64\" y=\"1472\">q22</text>\n",
       "<path id=\"qubit_line:23\" d=\"M64,1536 L4032,1536 \" stroke=\"black\"/>\n",
       "<text dominant-baseline=\"central\" text-anchor=\"end\" font-family=\"monospace\" font-size=\"12\" x=\"64\" y=\"1536\">q23</text>\n",
       "<path id=\"qubit_line:24\" d=\"M64,1600 L4032,1600 \" stroke=\"black\"/>\n",
       "<text dominant-baseline=\"central\" text-anchor=\"end\" font-family=\"monospace\" font-size=\"12\" x=\"64\" y=\"1600\">q24</text>\n",
       "<path id=\"qubit_line:25\" d=\"M64,1664 L4032,1664 \" stroke=\"black\"/>\n",
       "<text dominant-baseline=\"central\" text-anchor=\"end\" font-family=\"monospace\" font-size=\"12\" x=\"64\" y=\"1664\">q25</text>\n",
       "<path id=\"qubit_line:26\" d=\"M64,1728 L4032,1728 \" stroke=\"black\"/>\n",
       "<text dominant-baseline=\"central\" text-anchor=\"end\" font-family=\"monospace\" font-size=\"12\" x=\"64\" y=\"1728\">q26</text>\n",
       "<path id=\"qubit_line:27\" d=\"M64,1792 L4032,1792 \" stroke=\"black\"/>\n",
       "<text dominant-baseline=\"central\" text-anchor=\"end\" font-family=\"monospace\" font-size=\"12\" x=\"64\" y=\"1792\">q27</text>\n",
       "<path id=\"qubit_line:28\" d=\"M64,1856 L4032,1856 \" stroke=\"black\"/>\n",
       "<text dominant-baseline=\"central\" text-anchor=\"end\" font-family=\"monospace\" font-size=\"12\" x=\"64\" y=\"1856\">q28</text>\n",
       "<path id=\"qubit_line:29\" d=\"M64,1920 L4032,1920 \" stroke=\"black\"/>\n",
       "<text dominant-baseline=\"central\" text-anchor=\"end\" font-family=\"monospace\" font-size=\"12\" x=\"64\" y=\"1920\">q29</text>\n",
       "<path id=\"qubit_line:30\" d=\"M64,1984 L4032,1984 \" stroke=\"black\"/>\n",
       "<text dominant-baseline=\"central\" text-anchor=\"end\" font-family=\"monospace\" font-size=\"12\" x=\"64\" y=\"1984\">q30</text>\n",
       "<path id=\"qubit_line:31\" d=\"M64,2048 L4032,2048 \" stroke=\"black\"/>\n",
       "<text dominant-baseline=\"central\" text-anchor=\"end\" font-family=\"monospace\" font-size=\"12\" x=\"64\" y=\"2048\">q31</text>\n",
       "<path id=\"qubit_line:32\" d=\"M64,2112 L4032,2112 \" stroke=\"black\"/>\n",
       "<text dominant-baseline=\"central\" text-anchor=\"end\" font-family=\"monospace\" font-size=\"12\" x=\"64\" y=\"2112\">q32</text>\n",
       "<path id=\"qubit_line:33\" d=\"M64,2176 L4032,2176 \" stroke=\"black\"/>\n",
       "<text dominant-baseline=\"central\" text-anchor=\"end\" font-family=\"monospace\" font-size=\"12\" x=\"64\" y=\"2176\">q33</text>\n",
       "<path id=\"qubit_line:34\" d=\"M64,2240 L4032,2240 \" stroke=\"black\"/>\n",
       "<text dominant-baseline=\"central\" text-anchor=\"end\" font-family=\"monospace\" font-size=\"12\" x=\"64\" y=\"2240\">q34</text>\n",
       "<path id=\"qubit_line:35\" d=\"M64,2304 L4032,2304 \" stroke=\"black\"/>\n",
       "<text dominant-baseline=\"central\" text-anchor=\"end\" font-family=\"monospace\" font-size=\"12\" x=\"64\" y=\"2304\">q35</text>\n",
       "<path id=\"qubit_line:36\" d=\"M64,2368 L4032,2368 \" stroke=\"black\"/>\n",
       "<text dominant-baseline=\"central\" text-anchor=\"end\" font-family=\"monospace\" font-size=\"12\" x=\"64\" y=\"2368\">q36</text>\n",
       "<path id=\"qubit_line:37\" d=\"M64,2432 L4032,2432 \" stroke=\"black\"/>\n",
       "<text dominant-baseline=\"central\" text-anchor=\"end\" font-family=\"monospace\" font-size=\"12\" x=\"64\" y=\"2432\">q37</text>\n",
       "<path id=\"qubit_line:38\" d=\"M64,2496 L4032,2496 \" stroke=\"black\"/>\n",
       "<text dominant-baseline=\"central\" text-anchor=\"end\" font-family=\"monospace\" font-size=\"12\" x=\"64\" y=\"2496\">q38</text>\n",
       "<path id=\"qubit_line:39\" d=\"M64,2560 L4032,2560 \" stroke=\"black\"/>\n",
       "<text dominant-baseline=\"central\" text-anchor=\"end\" font-family=\"monospace\" font-size=\"12\" x=\"64\" y=\"2560\">q39</text>\n",
       "<path id=\"qubit_line:40\" d=\"M64,2624 L4032,2624 \" stroke=\"black\"/>\n",
       "<text dominant-baseline=\"central\" text-anchor=\"end\" font-family=\"monospace\" font-size=\"12\" x=\"64\" y=\"2624\">q40</text>\n",
       "<path id=\"qubit_line:41\" d=\"M64,2688 L4032,2688 \" stroke=\"black\"/>\n",
       "<text dominant-baseline=\"central\" text-anchor=\"end\" font-family=\"monospace\" font-size=\"12\" x=\"64\" y=\"2688\">q41</text>\n",
       "<path id=\"qubit_line:42\" d=\"M64,2752 L4032,2752 \" stroke=\"black\"/>\n",
       "<text dominant-baseline=\"central\" text-anchor=\"end\" font-family=\"monospace\" font-size=\"12\" x=\"64\" y=\"2752\">q42</text>\n",
       "<path id=\"qubit_line:43\" d=\"M64,2816 L4032,2816 \" stroke=\"black\"/>\n",
       "<text dominant-baseline=\"central\" text-anchor=\"end\" font-family=\"monospace\" font-size=\"12\" x=\"64\" y=\"2816\">q43</text>\n",
       "<path id=\"qubit_line:44\" d=\"M64,2880 L4032,2880 \" stroke=\"black\"/>\n",
       "<text dominant-baseline=\"central\" text-anchor=\"end\" font-family=\"monospace\" font-size=\"12\" x=\"64\" y=\"2880\">q44</text>\n",
       "<path id=\"qubit_line:45\" d=\"M64,2944 L4032,2944 \" stroke=\"black\"/>\n",
       "<text dominant-baseline=\"central\" text-anchor=\"end\" font-family=\"monospace\" font-size=\"12\" x=\"64\" y=\"2944\">q45</text>\n",
       "<path id=\"qubit_line:46\" d=\"M64,3008 L4032,3008 \" stroke=\"black\"/>\n",
       "<text dominant-baseline=\"central\" text-anchor=\"end\" font-family=\"monospace\" font-size=\"12\" x=\"64\" y=\"3008\">q46</text>\n",
       "<path id=\"qubit_line:47\" d=\"M64,3072 L4032,3072 \" stroke=\"black\"/>\n",
       "<text dominant-baseline=\"central\" text-anchor=\"end\" font-family=\"monospace\" font-size=\"12\" x=\"64\" y=\"3072\">q47</text>\n",
       "<path id=\"qubit_line:48\" d=\"M64,3136 L4032,3136 \" stroke=\"black\"/>\n",
       "<text dominant-baseline=\"central\" text-anchor=\"end\" font-family=\"monospace\" font-size=\"12\" x=\"64\" y=\"3136\">q48</text>\n",
       "<path id=\"qubit_line:49\" d=\"M64,3200 L4032,3200 \" stroke=\"black\"/>\n",
       "<text dominant-baseline=\"central\" text-anchor=\"end\" font-family=\"monospace\" font-size=\"12\" x=\"64\" y=\"3200\">q49</text>\n",
       "<path id=\"qubit_line:50\" d=\"M64,3264 L4032,3264 \" stroke=\"black\"/>\n",
       "<text dominant-baseline=\"central\" text-anchor=\"end\" font-family=\"monospace\" font-size=\"12\" x=\"64\" y=\"3264\">q50</text>\n",
       "<path id=\"qubit_line:51\" d=\"M64,3328 L4032,3328 \" stroke=\"black\"/>\n",
       "<text dominant-baseline=\"central\" text-anchor=\"end\" font-family=\"monospace\" font-size=\"12\" x=\"64\" y=\"3328\">q51</text>\n",
       "<path id=\"qubit_line:52\" d=\"M64,3392 L4032,3392 \" stroke=\"black\"/>\n",
       "<text dominant-baseline=\"central\" text-anchor=\"end\" font-family=\"monospace\" font-size=\"12\" x=\"64\" y=\"3392\">q52</text>\n",
       "</g>\n",
       "<rect x=\"80\" y=\"48\" width=\"224\" height=\"32\" stroke=\"black\" fill=\"white\"/>\n",
       "<text dominant-baseline=\"central\" text-anchor=\"middle\" font-family=\"monospace\" font-size=\"16\" x=\"192\" y=\"64\">COORDS(0,0)</text>\n",
       "<rect x=\"80\" y=\"112\" width=\"224\" height=\"32\" stroke=\"black\" fill=\"white\"/>\n",
       "<text dominant-baseline=\"central\" text-anchor=\"middle\" font-family=\"monospace\" font-size=\"16\" x=\"192\" y=\"128\">COORDS(1,0)</text>\n",
       "<rect x=\"80\" y=\"176\" width=\"224\" height=\"32\" stroke=\"black\" fill=\"white\"/>\n",
       "<text dominant-baseline=\"central\" text-anchor=\"middle\" font-family=\"monospace\" font-size=\"16\" x=\"192\" y=\"192\">COORDS(2,0)</text>\n",
       "<rect x=\"80\" y=\"240\" width=\"224\" height=\"32\" stroke=\"black\" fill=\"white\"/>\n",
       "<text dominant-baseline=\"central\" text-anchor=\"middle\" font-family=\"monospace\" font-size=\"16\" x=\"192\" y=\"256\">COORDS(3,0)</text>\n",
       "<rect x=\"80\" y=\"304\" width=\"224\" height=\"32\" stroke=\"black\" fill=\"white\"/>\n",
       "<text dominant-baseline=\"central\" text-anchor=\"middle\" font-family=\"monospace\" font-size=\"16\" x=\"192\" y=\"320\">COORDS(4,0)</text>\n",
       "<rect x=\"80\" y=\"368\" width=\"224\" height=\"32\" stroke=\"black\" fill=\"white\"/>\n",
       "<text dominant-baseline=\"central\" text-anchor=\"middle\" font-family=\"monospace\" font-size=\"16\" x=\"192\" y=\"384\">COORDS(5,0)</text>\n",
       "<rect x=\"80\" y=\"432\" width=\"224\" height=\"32\" stroke=\"black\" fill=\"white\"/>\n",
       "<text dominant-baseline=\"central\" text-anchor=\"middle\" font-family=\"monospace\" font-size=\"16\" x=\"192\" y=\"448\">COORDS(6,0)</text>\n",
       "<rect x=\"80\" y=\"496\" width=\"224\" height=\"32\" stroke=\"black\" fill=\"white\"/>\n",
       "<text dominant-baseline=\"central\" text-anchor=\"middle\" font-family=\"monospace\" font-size=\"16\" x=\"192\" y=\"512\">COORDS(0,1)</text>\n",
       "<rect x=\"80\" y=\"560\" width=\"224\" height=\"32\" stroke=\"black\" fill=\"white\"/>\n",
       "<text dominant-baseline=\"central\" text-anchor=\"middle\" font-family=\"monospace\" font-size=\"16\" x=\"192\" y=\"576\">COORDS(1,1)</text>\n",
       "<rect x=\"80\" y=\"624\" width=\"224\" height=\"32\" stroke=\"black\" fill=\"white\"/>\n",
       "<text dominant-baseline=\"central\" text-anchor=\"middle\" font-family=\"monospace\" font-size=\"16\" x=\"192\" y=\"640\">COORDS(2,1)</text>\n",
       "<rect x=\"80\" y=\"688\" width=\"224\" height=\"32\" stroke=\"black\" fill=\"white\"/>\n",
       "<text dominant-baseline=\"central\" text-anchor=\"middle\" font-family=\"monospace\" font-size=\"16\" x=\"192\" y=\"704\">COORDS(3,1)</text>\n",
       "<rect x=\"80\" y=\"752\" width=\"224\" height=\"32\" stroke=\"black\" fill=\"white\"/>\n",
       "<text dominant-baseline=\"central\" text-anchor=\"middle\" font-family=\"monospace\" font-size=\"16\" x=\"192\" y=\"768\">COORDS(4,1)</text>\n",
       "<rect x=\"80\" y=\"816\" width=\"224\" height=\"32\" stroke=\"black\" fill=\"white\"/>\n",
       "<text dominant-baseline=\"central\" text-anchor=\"middle\" font-family=\"monospace\" font-size=\"16\" x=\"192\" y=\"832\">COORDS(5,1)</text>\n",
       "<rect x=\"80\" y=\"880\" width=\"224\" height=\"32\" stroke=\"black\" fill=\"white\"/>\n",
       "<text dominant-baseline=\"central\" text-anchor=\"middle\" font-family=\"monospace\" font-size=\"16\" x=\"192\" y=\"896\">COORDS(6,1)</text>\n",
       "<rect x=\"80\" y=\"944\" width=\"224\" height=\"32\" stroke=\"black\" fill=\"white\"/>\n",
       "<text dominant-baseline=\"central\" text-anchor=\"middle\" font-family=\"monospace\" font-size=\"16\" x=\"192\" y=\"960\">COORDS(0,2)</text>\n",
       "<rect x=\"80\" y=\"1008\" width=\"224\" height=\"32\" stroke=\"black\" fill=\"white\"/>\n",
       "<text dominant-baseline=\"central\" text-anchor=\"middle\" font-family=\"monospace\" font-size=\"16\" x=\"192\" y=\"1024\">COORDS(1,2)</text>\n",
       "<rect x=\"80\" y=\"1072\" width=\"224\" height=\"32\" stroke=\"black\" fill=\"white\"/>\n",
       "<text dominant-baseline=\"central\" text-anchor=\"middle\" font-family=\"monospace\" font-size=\"16\" x=\"192\" y=\"1088\">COORDS(2,2)</text>\n",
       "<rect x=\"80\" y=\"1136\" width=\"224\" height=\"32\" stroke=\"black\" fill=\"white\"/>\n",
       "<text dominant-baseline=\"central\" text-anchor=\"middle\" font-family=\"monospace\" font-size=\"16\" x=\"192\" y=\"1152\">COORDS(3,2)</text>\n",
       "<rect x=\"80\" y=\"1200\" width=\"224\" height=\"32\" stroke=\"black\" fill=\"white\"/>\n",
       "<text dominant-baseline=\"central\" text-anchor=\"middle\" font-family=\"monospace\" font-size=\"16\" x=\"192\" y=\"1216\">COORDS(4,2)</text>\n",
       "<rect x=\"80\" y=\"1264\" width=\"224\" height=\"32\" stroke=\"black\" fill=\"white\"/>\n",
       "<text dominant-baseline=\"central\" text-anchor=\"middle\" font-family=\"monospace\" font-size=\"16\" x=\"192\" y=\"1280\">COORDS(5,2)</text>\n",
       "<rect x=\"80\" y=\"1328\" width=\"224\" height=\"32\" stroke=\"black\" fill=\"white\"/>\n",
       "<text dominant-baseline=\"central\" text-anchor=\"middle\" font-family=\"monospace\" font-size=\"16\" x=\"192\" y=\"1344\">COORDS(6,2)</text>\n",
       "<rect x=\"80\" y=\"1392\" width=\"224\" height=\"32\" stroke=\"black\" fill=\"white\"/>\n",
       "<text dominant-baseline=\"central\" text-anchor=\"middle\" font-family=\"monospace\" font-size=\"16\" x=\"192\" y=\"1408\">COORDS(-0.5,-0.5)</text>\n",
       "<rect x=\"80\" y=\"1456\" width=\"224\" height=\"32\" stroke=\"black\" fill=\"white\"/>\n",
       "<text dominant-baseline=\"central\" text-anchor=\"middle\" font-family=\"monospace\" font-size=\"16\" x=\"192\" y=\"1472\">COORDS(0.5,-0.5)</text>\n",
       "<rect x=\"80\" y=\"1520\" width=\"224\" height=\"32\" stroke=\"black\" fill=\"white\"/>\n",
       "<text dominant-baseline=\"central\" text-anchor=\"middle\" font-family=\"monospace\" font-size=\"16\" x=\"192\" y=\"1536\">COORDS(1.5,-0.5)</text>\n",
       "<rect x=\"80\" y=\"1584\" width=\"224\" height=\"32\" stroke=\"black\" fill=\"white\"/>\n",
       "<text dominant-baseline=\"central\" text-anchor=\"middle\" font-family=\"monospace\" font-size=\"16\" x=\"192\" y=\"1600\">COORDS(2.5,-0.5)</text>\n",
       "<rect x=\"80\" y=\"1648\" width=\"224\" height=\"32\" stroke=\"black\" fill=\"white\"/>\n",
       "<text dominant-baseline=\"central\" text-anchor=\"middle\" font-family=\"monospace\" font-size=\"16\" x=\"192\" y=\"1664\">COORDS(3.5,-0.5)</text>\n",
       "<rect x=\"80\" y=\"1712\" width=\"224\" height=\"32\" stroke=\"black\" fill=\"white\"/>\n",
       "<text dominant-baseline=\"central\" text-anchor=\"middle\" font-family=\"monospace\" font-size=\"16\" x=\"192\" y=\"1728\">COORDS(4.5,-0.5)</text>\n",
       "<rect x=\"80\" y=\"1776\" width=\"224\" height=\"32\" stroke=\"black\" fill=\"white\"/>\n",
       "<text dominant-baseline=\"central\" text-anchor=\"middle\" font-family=\"monospace\" font-size=\"16\" x=\"192\" y=\"1792\">COORDS(5.5,-0.5)</text>\n",
       "<rect x=\"80\" y=\"1840\" width=\"224\" height=\"32\" stroke=\"black\" fill=\"white\"/>\n",
       "<text dominant-baseline=\"central\" text-anchor=\"middle\" font-family=\"monospace\" font-size=\"16\" x=\"192\" y=\"1856\">COORDS(6.5,-0.5)</text>\n",
       "<rect x=\"80\" y=\"1904\" width=\"224\" height=\"32\" stroke=\"black\" fill=\"white\"/>\n",
       "<text dominant-baseline=\"central\" text-anchor=\"middle\" font-family=\"monospace\" font-size=\"16\" x=\"192\" y=\"1920\">COORDS(-0.5,0.5)</text>\n",
       "<rect x=\"80\" y=\"1968\" width=\"224\" height=\"32\" stroke=\"black\" fill=\"white\"/>\n",
       "<text dominant-baseline=\"central\" text-anchor=\"middle\" font-family=\"monospace\" font-size=\"16\" x=\"192\" y=\"1984\">COORDS(0.5,0.5)</text>\n",
       "<rect x=\"80\" y=\"2032\" width=\"224\" height=\"32\" stroke=\"black\" fill=\"white\"/>\n",
       "<text dominant-baseline=\"central\" text-anchor=\"middle\" font-family=\"monospace\" font-size=\"16\" x=\"192\" y=\"2048\">COORDS(1.5,0.5)</text>\n",
       "<rect x=\"80\" y=\"2096\" width=\"224\" height=\"32\" stroke=\"black\" fill=\"white\"/>\n",
       "<text dominant-baseline=\"central\" text-anchor=\"middle\" font-family=\"monospace\" font-size=\"16\" x=\"192\" y=\"2112\">COORDS(2.5,0.5)</text>\n",
       "<rect x=\"80\" y=\"2160\" width=\"224\" height=\"32\" stroke=\"black\" fill=\"white\"/>\n",
       "<text dominant-baseline=\"central\" text-anchor=\"middle\" font-family=\"monospace\" font-size=\"16\" x=\"192\" y=\"2176\">COORDS(3.5,0.5)</text>\n",
       "<rect x=\"80\" y=\"2224\" width=\"224\" height=\"32\" stroke=\"black\" fill=\"white\"/>\n",
       "<text dominant-baseline=\"central\" text-anchor=\"middle\" font-family=\"monospace\" font-size=\"16\" x=\"192\" y=\"2240\">COORDS(4.5,0.5)</text>\n",
       "<rect x=\"80\" y=\"2288\" width=\"224\" height=\"32\" stroke=\"black\" fill=\"white\"/>\n",
       "<text dominant-baseline=\"central\" text-anchor=\"middle\" font-family=\"monospace\" font-size=\"16\" x=\"192\" y=\"2304\">COORDS(5.5,0.5)</text>\n",
       "<rect x=\"80\" y=\"2352\" width=\"224\" height=\"32\" stroke=\"black\" fill=\"white\"/>\n",
       "<text dominant-baseline=\"central\" text-anchor=\"middle\" font-family=\"monospace\" font-size=\"16\" x=\"192\" y=\"2368\">COORDS(6.5,0.5)</text>\n",
       "<rect x=\"80\" y=\"2416\" width=\"224\" height=\"32\" stroke=\"black\" fill=\"white\"/>\n",
       "<text dominant-baseline=\"central\" text-anchor=\"middle\" font-family=\"monospace\" font-size=\"16\" x=\"192\" y=\"2432\">COORDS(-0.5,1.5)</text>\n",
       "<rect x=\"80\" y=\"2480\" width=\"224\" height=\"32\" stroke=\"black\" fill=\"white\"/>\n",
       "<text dominant-baseline=\"central\" text-anchor=\"middle\" font-family=\"monospace\" font-size=\"16\" x=\"192\" y=\"2496\">COORDS(0.5,1.5)</text>\n",
       "<rect x=\"80\" y=\"2544\" width=\"224\" height=\"32\" stroke=\"black\" fill=\"white\"/>\n",
       "<text dominant-baseline=\"central\" text-anchor=\"middle\" font-family=\"monospace\" font-size=\"16\" x=\"192\" y=\"2560\">COORDS(1.5,1.5)</text>\n",
       "<rect x=\"80\" y=\"2608\" width=\"224\" height=\"32\" stroke=\"black\" fill=\"white\"/>\n",
       "<text dominant-baseline=\"central\" text-anchor=\"middle\" font-family=\"monospace\" font-size=\"16\" x=\"192\" y=\"2624\">COORDS(2.5,1.5)</text>\n",
       "<rect x=\"80\" y=\"2672\" width=\"224\" height=\"32\" stroke=\"black\" fill=\"white\"/>\n",
       "<text dominant-baseline=\"central\" text-anchor=\"middle\" font-family=\"monospace\" font-size=\"16\" x=\"192\" y=\"2688\">COORDS(3.5,1.5)</text>\n",
       "<rect x=\"80\" y=\"2736\" width=\"224\" height=\"32\" stroke=\"black\" fill=\"white\"/>\n",
       "<text dominant-baseline=\"central\" text-anchor=\"middle\" font-family=\"monospace\" font-size=\"16\" x=\"192\" y=\"2752\">COORDS(4.5,1.5)</text>\n",
       "<rect x=\"80\" y=\"2800\" width=\"224\" height=\"32\" stroke=\"black\" fill=\"white\"/>\n",
       "<text dominant-baseline=\"central\" text-anchor=\"middle\" font-family=\"monospace\" font-size=\"16\" x=\"192\" y=\"2816\">COORDS(5.5,1.5)</text>\n",
       "<rect x=\"80\" y=\"2864\" width=\"224\" height=\"32\" stroke=\"black\" fill=\"white\"/>\n",
       "<text dominant-baseline=\"central\" text-anchor=\"middle\" font-family=\"monospace\" font-size=\"16\" x=\"192\" y=\"2880\">COORDS(6.5,1.5)</text>\n",
       "<rect x=\"80\" y=\"2928\" width=\"224\" height=\"32\" stroke=\"black\" fill=\"white\"/>\n",
       "<text dominant-baseline=\"central\" text-anchor=\"middle\" font-family=\"monospace\" font-size=\"16\" x=\"192\" y=\"2944\">COORDS(-0.5,2.5)</text>\n",
       "<rect x=\"80\" y=\"2992\" width=\"224\" height=\"32\" stroke=\"black\" fill=\"white\"/>\n",
       "<text dominant-baseline=\"central\" text-anchor=\"middle\" font-family=\"monospace\" font-size=\"16\" x=\"192\" y=\"3008\">COORDS(0.5,2.5)</text>\n",
       "<rect x=\"80\" y=\"3056\" width=\"224\" height=\"32\" stroke=\"black\" fill=\"white\"/>\n",
       "<text dominant-baseline=\"central\" text-anchor=\"middle\" font-family=\"monospace\" font-size=\"16\" x=\"192\" y=\"3072\">COORDS(1.5,2.5)</text>\n",
       "<rect x=\"80\" y=\"3120\" width=\"224\" height=\"32\" stroke=\"black\" fill=\"white\"/>\n",
       "<text dominant-baseline=\"central\" text-anchor=\"middle\" font-family=\"monospace\" font-size=\"16\" x=\"192\" y=\"3136\">COORDS(2.5,2.5)</text>\n",
       "<rect x=\"80\" y=\"3184\" width=\"224\" height=\"32\" stroke=\"black\" fill=\"white\"/>\n",
       "<text dominant-baseline=\"central\" text-anchor=\"middle\" font-family=\"monospace\" font-size=\"16\" x=\"192\" y=\"3200\">COORDS(3.5,2.5)</text>\n",
       "<rect x=\"80\" y=\"3248\" width=\"224\" height=\"32\" stroke=\"black\" fill=\"white\"/>\n",
       "<text dominant-baseline=\"central\" text-anchor=\"middle\" font-family=\"monospace\" font-size=\"16\" x=\"192\" y=\"3264\">COORDS(4.5,2.5)</text>\n",
       "<rect x=\"80\" y=\"3312\" width=\"224\" height=\"32\" stroke=\"black\" fill=\"white\"/>\n",
       "<text dominant-baseline=\"central\" text-anchor=\"middle\" font-family=\"monospace\" font-size=\"16\" x=\"192\" y=\"3328\">COORDS(5.5,2.5)</text>\n",
       "<rect x=\"80\" y=\"3376\" width=\"224\" height=\"32\" stroke=\"black\" fill=\"white\"/>\n",
       "<text dominant-baseline=\"central\" text-anchor=\"middle\" font-family=\"monospace\" font-size=\"16\" x=\"192\" y=\"3392\">COORDS(6.5,2.5)</text>\n",
       "<rect x=\"336\" y=\"112\" width=\"32\" height=\"32\" stroke=\"black\" fill=\"black\"/>\n",
       "<text dominant-baseline=\"central\" text-anchor=\"middle\" font-family=\"monospace\" font-size=\"30\" x=\"352\" y=\"128\" fill=\"white\">R</text>\n",
       "<rect x=\"336\" y=\"176\" width=\"32\" height=\"32\" stroke=\"black\" fill=\"black\"/>\n",
       "<text dominant-baseline=\"central\" text-anchor=\"middle\" font-family=\"monospace\" font-size=\"30\" x=\"352\" y=\"192\" fill=\"white\">R</text>\n",
       "<rect x=\"336\" y=\"560\" width=\"32\" height=\"32\" stroke=\"black\" fill=\"black\"/>\n",
       "<text dominant-baseline=\"central\" text-anchor=\"middle\" font-family=\"monospace\" font-size=\"30\" x=\"352\" y=\"576\" fill=\"white\">R</text>\n",
       "<rect x=\"336\" y=\"624\" width=\"32\" height=\"32\" stroke=\"black\" fill=\"black\"/>\n",
       "<text dominant-baseline=\"central\" text-anchor=\"middle\" font-family=\"monospace\" font-size=\"30\" x=\"352\" y=\"640\" fill=\"white\">R</text>\n",
       "<rect x=\"336\" y=\"496\" width=\"32\" height=\"32\" stroke=\"black\" fill=\"black\"/>\n",
       "<text dominant-baseline=\"central\" text-anchor=\"middle\" font-family=\"monospace\" font-size=\"30\" x=\"352\" y=\"512\" fill=\"white\">R</text>\n",
       "<rect x=\"336\" y=\"944\" width=\"32\" height=\"32\" stroke=\"black\" fill=\"black\"/>\n",
       "<text dominant-baseline=\"central\" text-anchor=\"middle\" font-family=\"monospace\" font-size=\"30\" x=\"352\" y=\"960\" fill=\"white\">R</text>\n",
       "<rect x=\"336\" y=\"1008\" width=\"32\" height=\"32\" stroke=\"black\" fill=\"black\"/>\n",
       "<text dominant-baseline=\"central\" text-anchor=\"middle\" font-family=\"monospace\" font-size=\"30\" x=\"352\" y=\"1024\" fill=\"white\">R</text>\n",
       "<rect x=\"336\" y=\"48\" width=\"32\" height=\"32\" stroke=\"black\" fill=\"black\"/>\n",
       "<text dominant-baseline=\"central\" text-anchor=\"middle\" font-family=\"monospace\" font-size=\"30\" x=\"352\" y=\"64\" fill=\"white\">R</text>\n",
       "<rect x=\"336\" y=\"1072\" width=\"32\" height=\"32\" stroke=\"black\" fill=\"black\"/>\n",
       "<text dominant-baseline=\"central\" text-anchor=\"middle\" font-family=\"monospace\" font-size=\"30\" x=\"352\" y=\"1088\" fill=\"white\">R</text>\n",
       "<rect x=\"400\" y=\"48\" width=\"32\" height=\"32\" stroke=\"black\" fill=\"white\"/>\n",
       "<text dominant-baseline=\"central\" text-anchor=\"middle\" font-family=\"monospace\" font-size=\"30\" x=\"416\" y=\"64\">X</text>\n",
       "<rect x=\"400\" y=\"112\" width=\"32\" height=\"32\" stroke=\"black\" fill=\"white\"/>\n",
       "<text dominant-baseline=\"central\" text-anchor=\"middle\" font-family=\"monospace\" font-size=\"30\" x=\"416\" y=\"128\">X</text>\n",
       "<rect x=\"400\" y=\"176\" width=\"32\" height=\"32\" stroke=\"black\" fill=\"white\"/>\n",
       "<text dominant-baseline=\"central\" text-anchor=\"middle\" font-family=\"monospace\" font-size=\"30\" x=\"416\" y=\"192\">X</text>\n",
       "<path d=\"M68,40 L68,32 L444,32 L444,40 \" stroke=\"black\" fill=\"none\"/>\n",
       "<path d=\"M68,3448 L68,3456 L444,3456 L444,3448 \" stroke=\"black\" fill=\"none\"/>\n",
       "<rect x=\"528\" y=\"368\" width=\"32\" height=\"32\" stroke=\"black\" fill=\"black\"/>\n",
       "<text dominant-baseline=\"central\" text-anchor=\"middle\" font-family=\"monospace\" font-size=\"30\" x=\"544\" y=\"384\" fill=\"white\">R</text>\n",
       "<rect x=\"528\" y=\"432\" width=\"32\" height=\"32\" stroke=\"black\" fill=\"black\"/>\n",
       "<text dominant-baseline=\"central\" text-anchor=\"middle\" font-family=\"monospace\" font-size=\"30\" x=\"544\" y=\"448\" fill=\"white\">R</text>\n",
       "<rect x=\"528\" y=\"816\" width=\"32\" height=\"32\" stroke=\"black\" fill=\"black\"/>\n",
       "<text dominant-baseline=\"central\" text-anchor=\"middle\" font-family=\"monospace\" font-size=\"30\" x=\"544\" y=\"832\" fill=\"white\">R</text>\n",
       "<rect x=\"528\" y=\"880\" width=\"32\" height=\"32\" stroke=\"black\" fill=\"black\"/>\n",
       "<text dominant-baseline=\"central\" text-anchor=\"middle\" font-family=\"monospace\" font-size=\"30\" x=\"544\" y=\"896\" fill=\"white\">R</text>\n",
       "<rect x=\"528\" y=\"752\" width=\"32\" height=\"32\" stroke=\"black\" fill=\"black\"/>\n",
       "<text dominant-baseline=\"central\" text-anchor=\"middle\" font-family=\"monospace\" font-size=\"30\" x=\"544\" y=\"768\" fill=\"white\">R</text>\n",
       "<rect x=\"528\" y=\"1200\" width=\"32\" height=\"32\" stroke=\"black\" fill=\"black\"/>\n",
       "<text dominant-baseline=\"central\" text-anchor=\"middle\" font-family=\"monospace\" font-size=\"30\" x=\"544\" y=\"1216\" fill=\"white\">R</text>\n",
       "<rect x=\"528\" y=\"1264\" width=\"32\" height=\"32\" stroke=\"black\" fill=\"black\"/>\n",
       "<text dominant-baseline=\"central\" text-anchor=\"middle\" font-family=\"monospace\" font-size=\"30\" x=\"544\" y=\"1280\" fill=\"white\">R</text>\n",
       "<rect x=\"528\" y=\"304\" width=\"32\" height=\"32\" stroke=\"black\" fill=\"black\"/>\n",
       "<text dominant-baseline=\"central\" text-anchor=\"middle\" font-family=\"monospace\" font-size=\"30\" x=\"544\" y=\"320\" fill=\"white\">R</text>\n",
       "<rect x=\"528\" y=\"1328\" width=\"32\" height=\"32\" stroke=\"black\" fill=\"black\"/>\n",
       "<text dominant-baseline=\"central\" text-anchor=\"middle\" font-family=\"monospace\" font-size=\"30\" x=\"544\" y=\"1344\" fill=\"white\">R</text>\n",
       "<rect x=\"592\" y=\"2032\" width=\"32\" height=\"32\" stroke=\"black\" fill=\"white\"/>\n",
       "<text dominant-baseline=\"central\" text-anchor=\"middle\" font-family=\"monospace\" font-size=\"30\" x=\"608\" y=\"2048\">H</text>\n",
       "<rect x=\"592\" y=\"2480\" width=\"32\" height=\"32\" stroke=\"black\" fill=\"white\"/>\n",
       "<text dominant-baseline=\"central\" text-anchor=\"middle\" font-family=\"monospace\" font-size=\"30\" x=\"608\" y=\"2496\">H</text>\n",
       "<rect x=\"592\" y=\"1904\" width=\"32\" height=\"32\" stroke=\"black\" fill=\"white\"/>\n",
       "<text dominant-baseline=\"central\" text-anchor=\"middle\" font-family=\"monospace\" font-size=\"30\" x=\"608\" y=\"1920\">H</text>\n",
       "<rect x=\"592\" y=\"2608\" width=\"32\" height=\"32\" stroke=\"black\" fill=\"white\"/>\n",
       "<text dominant-baseline=\"central\" text-anchor=\"middle\" font-family=\"monospace\" font-size=\"30\" x=\"608\" y=\"2624\">H</text>\n",
       "<rect x=\"592\" y=\"1968\" width=\"32\" height=\"32\" stroke=\"black\" fill=\"white\"/>\n",
       "<text dominant-baseline=\"central\" text-anchor=\"middle\" font-family=\"monospace\" font-size=\"30\" x=\"608\" y=\"1984\">H</text>\n",
       "<rect x=\"592\" y=\"2544\" width=\"32\" height=\"32\" stroke=\"black\" fill=\"white\"/>\n",
       "<text dominant-baseline=\"central\" text-anchor=\"middle\" font-family=\"monospace\" font-size=\"30\" x=\"608\" y=\"2560\">H</text>\n",
       "<rect x=\"592\" y=\"2992\" width=\"32\" height=\"32\" stroke=\"black\" fill=\"white\"/>\n",
       "<text dominant-baseline=\"central\" text-anchor=\"middle\" font-family=\"monospace\" font-size=\"30\" x=\"608\" y=\"3008\">H</text>\n",
       "<rect x=\"592\" y=\"1520\" width=\"32\" height=\"32\" stroke=\"black\" fill=\"white\"/>\n",
       "<text dominant-baseline=\"central\" text-anchor=\"middle\" font-family=\"monospace\" font-size=\"30\" x=\"608\" y=\"1536\">H</text>\n",
       "<path d=\"M672,128 L672,2048 \" stroke=\"black\"/>\n",
       "<circle cx=\"672\" cy=\"2048\" r=\"12\" stroke=\"none\" fill=\"black\"/>\n",
       "<circle cx=\"672\" cy=\"128\" r=\"12\" stroke=\"black\" fill=\"white\"/>\n",
       "<path d=\"M660,128 L684,128 M672,116 L672,140 \" stroke=\"black\"/>\n",
       "<path d=\"M736,512 L736,2496 \" stroke=\"black\"/>\n",
       "<circle cx=\"736\" cy=\"2496\" r=\"12\" stroke=\"none\" fill=\"black\"/>\n",
       "<circle cx=\"736\" cy=\"512\" r=\"12\" stroke=\"black\" fill=\"white\"/>\n",
       "<path d=\"M724,512 L748,512 M736,500 L736,524 \" stroke=\"black\"/>\n",
       "<path d=\"M800,64 L800,1920 \" stroke=\"black\"/>\n",
       "<circle cx=\"800\" cy=\"1920\" r=\"12\" stroke=\"none\" fill=\"black\"/>\n",
       "<circle cx=\"800\" cy=\"64\" r=\"12\" stroke=\"black\" fill=\"white\"/>\n",
       "<path d=\"M788,64 L812,64 M800,52 L800,76 \" stroke=\"black\"/>\n",
       "<path d=\"M864,640 L864,2624 \" stroke=\"black\"/>\n",
       "<circle cx=\"864\" cy=\"2624\" r=\"12\" stroke=\"none\" fill=\"black\"/>\n",
       "<circle cx=\"864\" cy=\"640\" r=\"12\" stroke=\"black\" fill=\"white\"/>\n",
       "<path d=\"M852,640 L876,640 M864,628 L864,652 \" stroke=\"black\"/>\n",
       "<path d=\"M928,64 L928,1984 \" stroke=\"black\"/>\n",
       "<circle cx=\"928\" cy=\"1984\" r=\"12\" stroke=\"none\" fill=\"black\"/>\n",
       "<circle cx=\"928\" cy=\"64\" r=\"12\" stroke=\"none\" fill=\"black\"/>\n",
       "<path d=\"M992,576 L992,2560 \" stroke=\"black\"/>\n",
       "<circle cx=\"992\" cy=\"2560\" r=\"12\" stroke=\"none\" fill=\"black\"/>\n",
       "<circle cx=\"992\" cy=\"576\" r=\"12\" stroke=\"none\" fill=\"black\"/>\n",
       "<path d=\"M1056,960 L1056,3008 \" stroke=\"black\"/>\n",
       "<circle cx=\"1056\" cy=\"3008\" r=\"12\" stroke=\"none\" fill=\"black\"/>\n",
       "<circle cx=\"1056\" cy=\"960\" r=\"12\" stroke=\"none\" fill=\"black\"/>\n",
       "<path d=\"M1120,128 L1120,1536 \" stroke=\"black\"/>\n",
       "<circle cx=\"1120\" cy=\"1536\" r=\"12\" stroke=\"none\" fill=\"black\"/>\n",
       "<circle cx=\"1120\" cy=\"128\" r=\"12\" stroke=\"none\" fill=\"black\"/>\n",
       "<path d=\"M644,40 L644,32 L1148,32 L1148,40 \" stroke=\"black\" fill=\"none\"/>\n",
       "<path d=\"M644,3448 L644,3456 L1148,3456 L1148,3448 \" stroke=\"black\" fill=\"none\"/>\n",
       "<path d=\"M1184,192 L1184,2048 \" stroke=\"black\"/>\n",
       "<circle cx=\"1184\" cy=\"2048\" r=\"12\" stroke=\"none\" fill=\"black\"/>\n",
       "<circle cx=\"1184\" cy=\"192\" r=\"12\" stroke=\"black\" fill=\"white\"/>\n",
       "<path d=\"M1172,192 L1196,192 M1184,180 L1184,204 \" stroke=\"black\"/>\n",
       "<path d=\"M1248,576 L1248,2496 \" stroke=\"black\"/>\n",
       "<circle cx=\"1248\" cy=\"2496\" r=\"12\" stroke=\"none\" fill=\"black\"/>\n",
       "<circle cx=\"1248\" cy=\"576\" r=\"12\" stroke=\"black\" fill=\"white\"/>\n",
       "<path d=\"M1236,576 L1260,576 M1248,564 L1248,588 \" stroke=\"black\"/>\n",
       "<path d=\"M1312,512 L1312,1920 \" stroke=\"black\"/>\n",
       "<circle cx=\"1312\" cy=\"1920\" r=\"12\" stroke=\"none\" fill=\"black\"/>\n",
       "<circle cx=\"1312\" cy=\"512\" r=\"12\" stroke=\"black\" fill=\"white\"/>\n",
       "<path d=\"M1300,512 L1324,512 M1312,500 L1312,524 \" stroke=\"black\"/>\n",
       "<path d=\"M1376,1088 L1376,2624 \" stroke=\"black\"/>\n",
       "<circle cx=\"1376\" cy=\"2624\" r=\"12\" stroke=\"none\" fill=\"black\"/>\n",
       "<circle cx=\"1376\" cy=\"1088\" r=\"12\" stroke=\"black\" fill=\"white\"/>\n",
       "<path d=\"M1364,1088 L1388,1088 M1376,1076 L1376,1100 \" stroke=\"black\"/>\n",
       "<path d=\"M1440,128 L1440,1984 \" stroke=\"black\"/>\n",
       "<circle cx=\"1440\" cy=\"1984\" r=\"12\" stroke=\"none\" fill=\"black\"/>\n",
       "<circle cx=\"1440\" cy=\"128\" r=\"12\" stroke=\"none\" fill=\"black\"/>\n",
       "<path d=\"M1504,640 L1504,2560 \" stroke=\"black\"/>\n",
       "<circle cx=\"1504\" cy=\"2560\" r=\"12\" stroke=\"none\" fill=\"black\"/>\n",
       "<circle cx=\"1504\" cy=\"640\" r=\"12\" stroke=\"none\" fill=\"black\"/>\n",
       "<path d=\"M1568,1024 L1568,3008 \" stroke=\"black\"/>\n",
       "<circle cx=\"1568\" cy=\"3008\" r=\"12\" stroke=\"none\" fill=\"black\"/>\n",
       "<circle cx=\"1568\" cy=\"1024\" r=\"12\" stroke=\"none\" fill=\"black\"/>\n",
       "<path d=\"M1632,192 L1632,1536 \" stroke=\"black\"/>\n",
       "<circle cx=\"1632\" cy=\"1536\" r=\"12\" stroke=\"none\" fill=\"black\"/>\n",
       "<circle cx=\"1632\" cy=\"192\" r=\"12\" stroke=\"none\" fill=\"black\"/>\n",
       "<path d=\"M1156,40 L1156,32 L1660,32 L1660,40 \" stroke=\"black\" fill=\"none\"/>\n",
       "<path d=\"M1156,3448 L1156,3456 L1660,3456 L1660,3448 \" stroke=\"black\" fill=\"none\"/>\n",
       "<path d=\"M1696,576 L1696,2048 \" stroke=\"black\"/>\n",
       "<circle cx=\"1696\" cy=\"2048\" r=\"12\" stroke=\"none\" fill=\"black\"/>\n",
       "<circle cx=\"1696\" cy=\"576\" r=\"12\" stroke=\"black\" fill=\"white\"/>\n",
       "<path d=\"M1684,576 L1708,576 M1696,564 L1696,588 \" stroke=\"black\"/>\n",
       "<path d=\"M1760,960 L1760,2496 \" stroke=\"black\"/>\n",
       "<circle cx=\"1760\" cy=\"2496\" r=\"12\" stroke=\"none\" fill=\"black\"/>\n",
       "<circle cx=\"1760\" cy=\"960\" r=\"12\" stroke=\"black\" fill=\"white\"/>\n",
       "<path d=\"M1748,960 L1772,960 M1760,948 L1760,972 \" stroke=\"black\"/>\n",
       "<path d=\"M1824,512 L1824,1984 \" stroke=\"black\"/>\n",
       "<circle cx=\"1824\" cy=\"1984\" r=\"12\" stroke=\"none\" fill=\"black\"/>\n",
       "<circle cx=\"1824\" cy=\"512\" r=\"12\" stroke=\"none\" fill=\"black\"/>\n",
       "<path d=\"M1888,1024 L1888,2560 \" stroke=\"black\"/>\n",
       "<circle cx=\"1888\" cy=\"2560\" r=\"12\" stroke=\"none\" fill=\"black\"/>\n",
       "<circle cx=\"1888\" cy=\"1024\" r=\"12\" stroke=\"none\" fill=\"black\"/>\n",
       "<path d=\"M1668,40 L1668,32 L1916,32 L1916,40 \" stroke=\"black\" fill=\"none\"/>\n",
       "<path d=\"M1668,3448 L1668,3456 L1916,3456 L1916,3448 \" stroke=\"black\" fill=\"none\"/>\n",
       "<path d=\"M1952,640 L1952,2048 \" stroke=\"black\"/>\n",
       "<circle cx=\"1952\" cy=\"2048\" r=\"12\" stroke=\"none\" fill=\"black\"/>\n",
       "<circle cx=\"1952\" cy=\"640\" r=\"12\" stroke=\"black\" fill=\"white\"/>\n",
       "<path d=\"M1940,640 L1964,640 M1952,628 L1952,652 \" stroke=\"black\"/>\n",
       "<path d=\"M2016,1024 L2016,2496 \" stroke=\"black\"/>\n",
       "<circle cx=\"2016\" cy=\"2496\" r=\"12\" stroke=\"none\" fill=\"black\"/>\n",
       "<circle cx=\"2016\" cy=\"1024\" r=\"12\" stroke=\"black\" fill=\"white\"/>\n",
       "<path d=\"M2004,1024 L2028,1024 M2016,1012 L2016,1036 \" stroke=\"black\"/>\n",
       "<path d=\"M2080,576 L2080,1984 \" stroke=\"black\"/>\n",
       "<circle cx=\"2080\" cy=\"1984\" r=\"12\" stroke=\"none\" fill=\"black\"/>\n",
       "<circle cx=\"2080\" cy=\"576\" r=\"12\" stroke=\"none\" fill=\"black\"/>\n",
       "<path d=\"M2144,1088 L2144,2560 \" stroke=\"black\"/>\n",
       "<circle cx=\"2144\" cy=\"2560\" r=\"12\" stroke=\"none\" fill=\"black\"/>\n",
       "<circle cx=\"2144\" cy=\"1088\" r=\"12\" stroke=\"none\" fill=\"black\"/>\n",
       "<path d=\"M1924,40 L1924,32 L2172,32 L2172,40 \" stroke=\"black\" fill=\"none\"/>\n",
       "<path d=\"M1924,3448 L1924,3456 L2172,3456 L2172,3448 \" stroke=\"black\" fill=\"none\"/>\n",
       "<rect x=\"2192\" y=\"2032\" width=\"32\" height=\"32\" stroke=\"black\" fill=\"white\"/>\n",
       "<text dominant-baseline=\"central\" text-anchor=\"middle\" font-family=\"monospace\" font-size=\"30\" x=\"2208\" y=\"2048\">H</text>\n",
       "<rect x=\"2192\" y=\"2480\" width=\"32\" height=\"32\" stroke=\"black\" fill=\"white\"/>\n",
       "<text dominant-baseline=\"central\" text-anchor=\"middle\" font-family=\"monospace\" font-size=\"30\" x=\"2208\" y=\"2496\">H</text>\n",
       "<rect x=\"2192\" y=\"1904\" width=\"32\" height=\"32\" stroke=\"black\" fill=\"white\"/>\n",
       "<text dominant-baseline=\"central\" text-anchor=\"middle\" font-family=\"monospace\" font-size=\"30\" x=\"2208\" y=\"1920\">H</text>\n",
       "<rect x=\"2192\" y=\"2608\" width=\"32\" height=\"32\" stroke=\"black\" fill=\"white\"/>\n",
       "<text dominant-baseline=\"central\" text-anchor=\"middle\" font-family=\"monospace\" font-size=\"30\" x=\"2208\" y=\"2624\">H</text>\n",
       "<rect x=\"2192\" y=\"1968\" width=\"32\" height=\"32\" stroke=\"black\" fill=\"white\"/>\n",
       "<text dominant-baseline=\"central\" text-anchor=\"middle\" font-family=\"monospace\" font-size=\"30\" x=\"2208\" y=\"1984\">H</text>\n",
       "<rect x=\"2192\" y=\"2544\" width=\"32\" height=\"32\" stroke=\"black\" fill=\"white\"/>\n",
       "<text dominant-baseline=\"central\" text-anchor=\"middle\" font-family=\"monospace\" font-size=\"30\" x=\"2208\" y=\"2560\">H</text>\n",
       "<rect x=\"2192\" y=\"2992\" width=\"32\" height=\"32\" stroke=\"black\" fill=\"white\"/>\n",
       "<text dominant-baseline=\"central\" text-anchor=\"middle\" font-family=\"monospace\" font-size=\"30\" x=\"2208\" y=\"3008\">H</text>\n",
       "<rect x=\"2192\" y=\"1520\" width=\"32\" height=\"32\" stroke=\"black\" fill=\"white\"/>\n",
       "<text dominant-baseline=\"central\" text-anchor=\"middle\" font-family=\"monospace\" font-size=\"30\" x=\"2208\" y=\"1536\">H</text>\n",
       "<rect x=\"2256\" y=\"2032\" width=\"32\" height=\"32\" stroke=\"black\" fill=\"black\"/>\n",
       "<text dominant-baseline=\"central\" text-anchor=\"middle\" font-family=\"monospace\" font-size=\"24\" x=\"2272\" y=\"2048\" fill=\"white\">MR</text>\n",
       "<text text-anchor=\"middle\" font-family=\"monospace\" font-size=\"8\" x=\"2272\" y=\"2028\">rec[0]</text>\n",
       "<rect x=\"2256\" y=\"2480\" width=\"32\" height=\"32\" stroke=\"black\" fill=\"black\"/>\n",
       "<text dominant-baseline=\"central\" text-anchor=\"middle\" font-family=\"monospace\" font-size=\"24\" x=\"2272\" y=\"2496\" fill=\"white\">MR</text>\n",
       "<text text-anchor=\"middle\" font-family=\"monospace\" font-size=\"8\" x=\"2272\" y=\"2476\">rec[1]</text>\n",
       "<rect x=\"2256\" y=\"1904\" width=\"32\" height=\"32\" stroke=\"black\" fill=\"black\"/>\n",
       "<text dominant-baseline=\"central\" text-anchor=\"middle\" font-family=\"monospace\" font-size=\"24\" x=\"2272\" y=\"1920\" fill=\"white\">MR</text>\n",
       "<text text-anchor=\"middle\" font-family=\"monospace\" font-size=\"8\" x=\"2272\" y=\"1900\">rec[2]</text>\n",
       "<rect x=\"2256\" y=\"2608\" width=\"32\" height=\"32\" stroke=\"black\" fill=\"black\"/>\n",
       "<text dominant-baseline=\"central\" text-anchor=\"middle\" font-family=\"monospace\" font-size=\"24\" x=\"2272\" y=\"2624\" fill=\"white\">MR</text>\n",
       "<text text-anchor=\"middle\" font-family=\"monospace\" font-size=\"8\" x=\"2272\" y=\"2604\">rec[3]</text>\n",
       "<rect x=\"2256\" y=\"1968\" width=\"32\" height=\"32\" stroke=\"black\" fill=\"black\"/>\n",
       "<text dominant-baseline=\"central\" text-anchor=\"middle\" font-family=\"monospace\" font-size=\"24\" x=\"2272\" y=\"1984\" fill=\"white\">MR</text>\n",
       "<text text-anchor=\"middle\" font-family=\"monospace\" font-size=\"8\" x=\"2272\" y=\"1964\">rec[4]</text>\n",
       "<rect x=\"2256\" y=\"2544\" width=\"32\" height=\"32\" stroke=\"black\" fill=\"black\"/>\n",
       "<text dominant-baseline=\"central\" text-anchor=\"middle\" font-family=\"monospace\" font-size=\"24\" x=\"2272\" y=\"2560\" fill=\"white\">MR</text>\n",
       "<text text-anchor=\"middle\" font-family=\"monospace\" font-size=\"8\" x=\"2272\" y=\"2540\">rec[5]</text>\n",
       "<rect x=\"2256\" y=\"2992\" width=\"32\" height=\"32\" stroke=\"black\" fill=\"black\"/>\n",
       "<text dominant-baseline=\"central\" text-anchor=\"middle\" font-family=\"monospace\" font-size=\"24\" x=\"2272\" y=\"3008\" fill=\"white\">MR</text>\n",
       "<text text-anchor=\"middle\" font-family=\"monospace\" font-size=\"8\" x=\"2272\" y=\"2988\">rec[6]</text>\n",
       "<rect x=\"2256\" y=\"1520\" width=\"32\" height=\"32\" stroke=\"black\" fill=\"black\"/>\n",
       "<text dominant-baseline=\"central\" text-anchor=\"middle\" font-family=\"monospace\" font-size=\"24\" x=\"2272\" y=\"1536\" fill=\"white\">MR</text>\n",
       "<text text-anchor=\"middle\" font-family=\"monospace\" font-size=\"8\" x=\"2272\" y=\"1516\">rec[7]</text>\n",
       "<rect x=\"2320\" y=\"2288\" width=\"32\" height=\"32\" stroke=\"black\" fill=\"white\"/>\n",
       "<text dominant-baseline=\"central\" text-anchor=\"middle\" font-family=\"monospace\" font-size=\"30\" x=\"2336\" y=\"2304\">H</text>\n",
       "<rect x=\"2320\" y=\"2736\" width=\"32\" height=\"32\" stroke=\"black\" fill=\"white\"/>\n",
       "<text dominant-baseline=\"central\" text-anchor=\"middle\" font-family=\"monospace\" font-size=\"30\" x=\"2336\" y=\"2752\">H</text>\n",
       "<rect x=\"2320\" y=\"2160\" width=\"32\" height=\"32\" stroke=\"black\" fill=\"white\"/>\n",
       "<text dominant-baseline=\"central\" text-anchor=\"middle\" font-family=\"monospace\" font-size=\"30\" x=\"2336\" y=\"2176\">H</text>\n",
       "<rect x=\"2320\" y=\"2864\" width=\"32\" height=\"32\" stroke=\"black\" fill=\"white\"/>\n",
       "<text dominant-baseline=\"central\" text-anchor=\"middle\" font-family=\"monospace\" font-size=\"30\" x=\"2336\" y=\"2880\">H</text>\n",
       "<rect x=\"2320\" y=\"2224\" width=\"32\" height=\"32\" stroke=\"black\" fill=\"white\"/>\n",
       "<text dominant-baseline=\"central\" text-anchor=\"middle\" font-family=\"monospace\" font-size=\"30\" x=\"2336\" y=\"2240\">H</text>\n",
       "<rect x=\"2320\" y=\"2800\" width=\"32\" height=\"32\" stroke=\"black\" fill=\"white\"/>\n",
       "<text dominant-baseline=\"central\" text-anchor=\"middle\" font-family=\"monospace\" font-size=\"30\" x=\"2336\" y=\"2816\">H</text>\n",
       "<rect x=\"2320\" y=\"3248\" width=\"32\" height=\"32\" stroke=\"black\" fill=\"white\"/>\n",
       "<text dominant-baseline=\"central\" text-anchor=\"middle\" font-family=\"monospace\" font-size=\"30\" x=\"2336\" y=\"3264\">H</text>\n",
       "<rect x=\"2320\" y=\"1776\" width=\"32\" height=\"32\" stroke=\"black\" fill=\"white\"/>\n",
       "<text dominant-baseline=\"central\" text-anchor=\"middle\" font-family=\"monospace\" font-size=\"30\" x=\"2336\" y=\"1792\">H</text>\n",
       "<path d=\"M2400,384 L2400,2304 \" stroke=\"black\"/>\n",
       "<circle cx=\"2400\" cy=\"2304\" r=\"12\" stroke=\"none\" fill=\"black\"/>\n",
       "<circle cx=\"2400\" cy=\"384\" r=\"12\" stroke=\"black\" fill=\"white\"/>\n",
       "<path d=\"M2388,384 L2412,384 M2400,372 L2400,396 \" stroke=\"black\"/>\n",
       "<path d=\"M2464,768 L2464,2752 \" stroke=\"black\"/>\n",
       "<circle cx=\"2464\" cy=\"2752\" r=\"12\" stroke=\"none\" fill=\"black\"/>\n",
       "<circle cx=\"2464\" cy=\"768\" r=\"12\" stroke=\"black\" fill=\"white\"/>\n",
       "<path d=\"M2452,768 L2476,768 M2464,756 L2464,780 \" stroke=\"black\"/>\n",
       "<path d=\"M2528,320 L2528,2176 \" stroke=\"black\"/>\n",
       "<circle cx=\"2528\" cy=\"2176\" r=\"12\" stroke=\"none\" fill=\"black\"/>\n",
       "<circle cx=\"2528\" cy=\"320\" r=\"12\" stroke=\"black\" fill=\"white\"/>\n",
       "<path d=\"M2516,320 L2540,320 M2528,308 L2528,332 \" stroke=\"black\"/>\n",
       "<path d=\"M2592,896 L2592,2880 \" stroke=\"black\"/>\n",
       "<circle cx=\"2592\" cy=\"2880\" r=\"12\" stroke=\"none\" fill=\"black\"/>\n",
       "<circle cx=\"2592\" cy=\"896\" r=\"12\" stroke=\"black\" fill=\"white\"/>\n",
       "<path d=\"M2580,896 L2604,896 M2592,884 L2592,908 \" stroke=\"black\"/>\n",
       "<path d=\"M2656,320 L2656,2240 \" stroke=\"black\"/>\n",
       "<circle cx=\"2656\" cy=\"2240\" r=\"12\" stroke=\"none\" fill=\"black\"/>\n",
       "<circle cx=\"2656\" cy=\"320\" r=\"12\" stroke=\"none\" fill=\"black\"/>\n",
       "<path d=\"M2720,832 L2720,2816 \" stroke=\"black\"/>\n",
       "<circle cx=\"2720\" cy=\"2816\" r=\"12\" stroke=\"none\" fill=\"black\"/>\n",
       "<circle cx=\"2720\" cy=\"832\" r=\"12\" stroke=\"none\" fill=\"black\"/>\n",
       "<path d=\"M2784,1216 L2784,3264 \" stroke=\"black\"/>\n",
       "<circle cx=\"2784\" cy=\"3264\" r=\"12\" stroke=\"none\" fill=\"black\"/>\n",
       "<circle cx=\"2784\" cy=\"1216\" r=\"12\" stroke=\"none\" fill=\"black\"/>\n",
       "<path d=\"M2848,384 L2848,1792 \" stroke=\"black\"/>\n",
       "<circle cx=\"2848\" cy=\"1792\" r=\"12\" stroke=\"none\" fill=\"black\"/>\n",
       "<circle cx=\"2848\" cy=\"384\" r=\"12\" stroke=\"none\" fill=\"black\"/>\n",
       "<path d=\"M2372,40 L2372,32 L2876,32 L2876,40 \" stroke=\"black\" fill=\"none\"/>\n",
       "<path d=\"M2372,3448 L2372,3456 L2876,3456 L2876,3448 \" stroke=\"black\" fill=\"none\"/>\n",
       "<path d=\"M2912,448 L2912,2304 \" stroke=\"black\"/>\n",
       "<circle cx=\"2912\" cy=\"2304\" r=\"12\" stroke=\"none\" fill=\"black\"/>\n",
       "<circle cx=\"2912\" cy=\"448\" r=\"12\" stroke=\"black\" fill=\"white\"/>\n",
       "<path d=\"M2900,448 L2924,448 M2912,436 L2912,460 \" stroke=\"black\"/>\n",
       "<path d=\"M2976,832 L2976,2752 \" stroke=\"black\"/>\n",
       "<circle cx=\"2976\" cy=\"2752\" r=\"12\" stroke=\"none\" fill=\"black\"/>\n",
       "<circle cx=\"2976\" cy=\"832\" r=\"12\" stroke=\"black\" fill=\"white\"/>\n",
       "<path d=\"M2964,832 L2988,832 M2976,820 L2976,844 \" stroke=\"black\"/>\n",
       "<path d=\"M3040,768 L3040,2176 \" stroke=\"black\"/>\n",
       "<circle cx=\"3040\" cy=\"2176\" r=\"12\" stroke=\"none\" fill=\"black\"/>\n",
       "<circle cx=\"3040\" cy=\"768\" r=\"12\" stroke=\"black\" fill=\"white\"/>\n",
       "<path d=\"M3028,768 L3052,768 M3040,756 L3040,780 \" stroke=\"black\"/>\n",
       "<path d=\"M3104,1344 L3104,2880 \" stroke=\"black\"/>\n",
       "<circle cx=\"3104\" cy=\"2880\" r=\"12\" stroke=\"none\" fill=\"black\"/>\n",
       "<circle cx=\"3104\" cy=\"1344\" r=\"12\" stroke=\"black\" fill=\"white\"/>\n",
       "<path d=\"M3092,1344 L3116,1344 M3104,1332 L3104,1356 \" stroke=\"black\"/>\n",
       "<path d=\"M3168,384 L3168,2240 \" stroke=\"black\"/>\n",
       "<circle cx=\"3168\" cy=\"2240\" r=\"12\" stroke=\"none\" fill=\"black\"/>\n",
       "<circle cx=\"3168\" cy=\"384\" r=\"12\" stroke=\"none\" fill=\"black\"/>\n",
       "<path d=\"M3232,896 L3232,2816 \" stroke=\"black\"/>\n",
       "<circle cx=\"3232\" cy=\"2816\" r=\"12\" stroke=\"none\" fill=\"black\"/>\n",
       "<circle cx=\"3232\" cy=\"896\" r=\"12\" stroke=\"none\" fill=\"black\"/>\n",
       "<path d=\"M3296,1280 L3296,3264 \" stroke=\"black\"/>\n",
       "<circle cx=\"3296\" cy=\"3264\" r=\"12\" stroke=\"none\" fill=\"black\"/>\n",
       "<circle cx=\"3296\" cy=\"1280\" r=\"12\" stroke=\"none\" fill=\"black\"/>\n",
       "<path d=\"M3360,448 L3360,1792 \" stroke=\"black\"/>\n",
       "<circle cx=\"3360\" cy=\"1792\" r=\"12\" stroke=\"none\" fill=\"black\"/>\n",
       "<circle cx=\"3360\" cy=\"448\" r=\"12\" stroke=\"none\" fill=\"black\"/>\n",
       "<path d=\"M2884,40 L2884,32 L3388,32 L3388,40 \" stroke=\"black\" fill=\"none\"/>\n",
       "<path d=\"M2884,3448 L2884,3456 L3388,3456 L3388,3448 \" stroke=\"black\" fill=\"none\"/>\n",
       "<path d=\"M3424,832 L3424,2304 \" stroke=\"black\"/>\n",
       "<circle cx=\"3424\" cy=\"2304\" r=\"12\" stroke=\"none\" fill=\"black\"/>\n",
       "<circle cx=\"3424\" cy=\"832\" r=\"12\" stroke=\"black\" fill=\"white\"/>\n",
       "<path d=\"M3412,832 L3436,832 M3424,820 L3424,844 \" stroke=\"black\"/>\n",
       "<path d=\"M3488,1216 L3488,2752 \" stroke=\"black\"/>\n",
       "<circle cx=\"3488\" cy=\"2752\" r=\"12\" stroke=\"none\" fill=\"black\"/>\n",
       "<circle cx=\"3488\" cy=\"1216\" r=\"12\" stroke=\"black\" fill=\"white\"/>\n",
       "<path d=\"M3476,1216 L3500,1216 M3488,1204 L3488,1228 \" stroke=\"black\"/>\n",
       "<path d=\"M3552,768 L3552,2240 \" stroke=\"black\"/>\n",
       "<circle cx=\"3552\" cy=\"2240\" r=\"12\" stroke=\"none\" fill=\"black\"/>\n",
       "<circle cx=\"3552\" cy=\"768\" r=\"12\" stroke=\"none\" fill=\"black\"/>\n",
       "<path d=\"M3616,1280 L3616,2816 \" stroke=\"black\"/>\n",
       "<circle cx=\"3616\" cy=\"2816\" r=\"12\" stroke=\"none\" fill=\"black\"/>\n",
       "<circle cx=\"3616\" cy=\"1280\" r=\"12\" stroke=\"none\" fill=\"black\"/>\n",
       "<path d=\"M3396,40 L3396,32 L3644,32 L3644,40 \" stroke=\"black\" fill=\"none\"/>\n",
       "<path d=\"M3396,3448 L3396,3456 L3644,3456 L3644,3448 \" stroke=\"black\" fill=\"none\"/>\n",
       "<path d=\"M3680,896 L3680,2304 \" stroke=\"black\"/>\n",
       "<circle cx=\"3680\" cy=\"2304\" r=\"12\" stroke=\"none\" fill=\"black\"/>\n",
       "<circle cx=\"3680\" cy=\"896\" r=\"12\" stroke=\"black\" fill=\"white\"/>\n",
       "<path d=\"M3668,896 L3692,896 M3680,884 L3680,908 \" stroke=\"black\"/>\n",
       "<path d=\"M3744,1280 L3744,2752 \" stroke=\"black\"/>\n",
       "<circle cx=\"3744\" cy=\"2752\" r=\"12\" stroke=\"none\" fill=\"black\"/>\n",
       "<circle cx=\"3744\" cy=\"1280\" r=\"12\" stroke=\"black\" fill=\"white\"/>\n",
       "<path d=\"M3732,1280 L3756,1280 M3744,1268 L3744,1292 \" stroke=\"black\"/>\n",
       "<path d=\"M3808,832 L3808,2240 \" stroke=\"black\"/>\n",
       "<circle cx=\"3808\" cy=\"2240\" r=\"12\" stroke=\"none\" fill=\"black\"/>\n",
       "<circle cx=\"3808\" cy=\"832\" r=\"12\" stroke=\"none\" fill=\"black\"/>\n",
       "<path d=\"M3872,1344 L3872,2816 \" stroke=\"black\"/>\n",
       "<circle cx=\"3872\" cy=\"2816\" r=\"12\" stroke=\"none\" fill=\"black\"/>\n",
       "<circle cx=\"3872\" cy=\"1344\" r=\"12\" stroke=\"none\" fill=\"black\"/>\n",
       "<path d=\"M3652,40 L3652,32 L3900,32 L3900,40 \" stroke=\"black\" fill=\"none\"/>\n",
       "<path d=\"M3652,3448 L3652,3456 L3900,3456 L3900,3448 \" stroke=\"black\" fill=\"none\"/>\n",
       "<rect x=\"3920\" y=\"2288\" width=\"32\" height=\"32\" stroke=\"black\" fill=\"white\"/>\n",
       "<text dominant-baseline=\"central\" text-anchor=\"middle\" font-family=\"monospace\" font-size=\"30\" x=\"3936\" y=\"2304\">H</text>\n",
       "<rect x=\"3920\" y=\"2736\" width=\"32\" height=\"32\" stroke=\"black\" fill=\"white\"/>\n",
       "<text dominant-baseline=\"central\" text-anchor=\"middle\" font-family=\"monospace\" font-size=\"30\" x=\"3936\" y=\"2752\">H</text>\n",
       "<rect x=\"3920\" y=\"2160\" width=\"32\" height=\"32\" stroke=\"black\" fill=\"white\"/>\n",
       "<text dominant-baseline=\"central\" text-anchor=\"middle\" font-family=\"monospace\" font-size=\"30\" x=\"3936\" y=\"2176\">H</text>\n",
       "<rect x=\"3920\" y=\"2864\" width=\"32\" height=\"32\" stroke=\"black\" fill=\"white\"/>\n",
       "<text dominant-baseline=\"central\" text-anchor=\"middle\" font-family=\"monospace\" font-size=\"30\" x=\"3936\" y=\"2880\">H</text>\n",
       "<rect x=\"3920\" y=\"2224\" width=\"32\" height=\"32\" stroke=\"black\" fill=\"white\"/>\n",
       "<text dominant-baseline=\"central\" text-anchor=\"middle\" font-family=\"monospace\" font-size=\"30\" x=\"3936\" y=\"2240\">H</text>\n",
       "<rect x=\"3920\" y=\"2800\" width=\"32\" height=\"32\" stroke=\"black\" fill=\"white\"/>\n",
       "<text dominant-baseline=\"central\" text-anchor=\"middle\" font-family=\"monospace\" font-size=\"30\" x=\"3936\" y=\"2816\">H</text>\n",
       "<rect x=\"3920\" y=\"3248\" width=\"32\" height=\"32\" stroke=\"black\" fill=\"white\"/>\n",
       "<text dominant-baseline=\"central\" text-anchor=\"middle\" font-family=\"monospace\" font-size=\"30\" x=\"3936\" y=\"3264\">H</text>\n",
       "<rect x=\"3920\" y=\"1776\" width=\"32\" height=\"32\" stroke=\"black\" fill=\"white\"/>\n",
       "<text dominant-baseline=\"central\" text-anchor=\"middle\" font-family=\"monospace\" font-size=\"30\" x=\"3936\" y=\"1792\">H</text>\n",
       "<rect x=\"3984\" y=\"2288\" width=\"32\" height=\"32\" stroke=\"black\" fill=\"black\"/>\n",
       "<text dominant-baseline=\"central\" text-anchor=\"middle\" font-family=\"monospace\" font-size=\"24\" x=\"4000\" y=\"2304\" fill=\"white\">MR</text>\n",
       "<text text-anchor=\"middle\" font-family=\"monospace\" font-size=\"8\" x=\"4000\" y=\"2284\">rec[8]</text>\n",
       "<rect x=\"3984\" y=\"2736\" width=\"32\" height=\"32\" stroke=\"black\" fill=\"black\"/>\n",
       "<text dominant-baseline=\"central\" text-anchor=\"middle\" font-family=\"monospace\" font-size=\"24\" x=\"4000\" y=\"2752\" fill=\"white\">MR</text>\n",
       "<text text-anchor=\"middle\" font-family=\"monospace\" font-size=\"8\" x=\"4000\" y=\"2732\">rec[9]</text>\n",
       "<rect x=\"3984\" y=\"2160\" width=\"32\" height=\"32\" stroke=\"black\" fill=\"black\"/>\n",
       "<text dominant-baseline=\"central\" text-anchor=\"middle\" font-family=\"monospace\" font-size=\"24\" x=\"4000\" y=\"2176\" fill=\"white\">MR</text>\n",
       "<text text-anchor=\"middle\" font-family=\"monospace\" font-size=\"8\" x=\"4000\" y=\"2156\">rec[10]</text>\n",
       "<rect x=\"3984\" y=\"2864\" width=\"32\" height=\"32\" stroke=\"black\" fill=\"black\"/>\n",
       "<text dominant-baseline=\"central\" text-anchor=\"middle\" font-family=\"monospace\" font-size=\"24\" x=\"4000\" y=\"2880\" fill=\"white\">MR</text>\n",
       "<text text-anchor=\"middle\" font-family=\"monospace\" font-size=\"8\" x=\"4000\" y=\"2860\">rec[11]</text>\n",
       "<rect x=\"3984\" y=\"2224\" width=\"32\" height=\"32\" stroke=\"black\" fill=\"black\"/>\n",
       "<text dominant-baseline=\"central\" text-anchor=\"middle\" font-family=\"monospace\" font-size=\"24\" x=\"4000\" y=\"2240\" fill=\"white\">MR</text>\n",
       "<text text-anchor=\"middle\" font-family=\"monospace\" font-size=\"8\" x=\"4000\" y=\"2220\">rec[12]</text>\n",
       "<rect x=\"3984\" y=\"2800\" width=\"32\" height=\"32\" stroke=\"black\" fill=\"black\"/>\n",
       "<text dominant-baseline=\"central\" text-anchor=\"middle\" font-family=\"monospace\" font-size=\"24\" x=\"4000\" y=\"2816\" fill=\"white\">MR</text>\n",
       "<text text-anchor=\"middle\" font-family=\"monospace\" font-size=\"8\" x=\"4000\" y=\"2796\">rec[13]</text>\n",
       "<rect x=\"3984\" y=\"3248\" width=\"32\" height=\"32\" stroke=\"black\" fill=\"black\"/>\n",
       "<text dominant-baseline=\"central\" text-anchor=\"middle\" font-family=\"monospace\" font-size=\"24\" x=\"4000\" y=\"3264\" fill=\"white\">MR</text>\n",
       "<text text-anchor=\"middle\" font-family=\"monospace\" font-size=\"8\" x=\"4000\" y=\"3244\">rec[14]</text>\n",
       "<rect x=\"3984\" y=\"1776\" width=\"32\" height=\"32\" stroke=\"black\" fill=\"black\"/>\n",
       "<text dominant-baseline=\"central\" text-anchor=\"middle\" font-family=\"monospace\" font-size=\"24\" x=\"4000\" y=\"1792\" fill=\"white\">MR</text>\n",
       "<text text-anchor=\"middle\" font-family=\"monospace\" font-size=\"8\" x=\"4000\" y=\"1772\">rec[15]</text>\n",
       "</svg>"
      ],
      "text/plain": [
       "<svg viewBox=\"0 0 4064 3488\"  version=\"1.1\" xmlns=\"http://www.w3.org/2000/svg\">\n",
       "<g id=\"qubit_lines\">\n",
       "<path id=\"qubit_line:0\" d=\"M64,64 L4032,64 \" stroke=\"black\"/>\n",
       "<text dominant-baseline=\"central\" text-anchor=\"end\" font-family=\"monospace\" font-size=\"12\" x=\"64\" y=\"64\">q0</text>\n",
       "<path id=\"qubit_line:1\" d=\"M64,128 L4032,128 \" stroke=\"black\"/>\n",
       "<text dominant-baseline=\"central\" text-anchor=\"end\" font-family=\"monospace\" font-size=\"12\" x=\"64\" y=\"128\">q1</text>\n",
       "<path id=\"qubit_line:2\" d=\"M64,192 L4032,192 \" stroke=\"black\"/>\n",
       "<text dominant-baseline=\"central\" text-anchor=\"end\" font-family=\"monospace\" font-size=\"12\" x=\"64\" y=\"192\">q2</text>\n",
       "<path id=\"qubit_line:3\" d=\"M64,256 L4032,256 \" stroke=\"black\"/>\n",
       "<text dominant-baseline=\"central\" text-anchor=\"end\" font-family=\"monospace\" font-size=\"12\" x=\"64\" y=\"256\">q3</text>\n",
       "<path id=\"qubit_line:4\" d=\"M64,320 L4032,320 \" stroke=\"black\"/>\n",
       "<text dominant-baseline=\"central\" text-anchor=\"end\" font-family=\"monospace\" font-size=\"12\" x=\"64\" y=\"320\">q4</text>\n",
       "<path id=\"qubit_line:5\" d=\"M64,384 L4032,384 \" stroke=\"black\"/>\n",
       "<text dominant-baseline=\"central\" text-anchor=\"end\" font-family=\"monospace\" font-size=\"12\" x=\"64\" y=\"384\">q5</text>\n",
       "<path id=\"qubit_line:6\" d=\"M64,448 L4032,448 \" stroke=\"black\"/>\n",
       "<text dominant-baseline=\"central\" text-anchor=\"end\" font-family=\"monospace\" font-size=\"12\" x=\"64\" y=\"448\">q6</text>\n",
       "<path id=\"qubit_line:7\" d=\"M64,512 L4032,512 \" stroke=\"black\"/>\n",
       "<text dominant-baseline=\"central\" text-anchor=\"end\" font-family=\"monospace\" font-size=\"12\" x=\"64\" y=\"512\">q7</text>\n",
       "<path id=\"qubit_line:8\" d=\"M64,576 L4032,576 \" stroke=\"black\"/>\n",
       "<text dominant-baseline=\"central\" text-anchor=\"end\" font-family=\"monospace\" font-size=\"12\" x=\"64\" y=\"576\">q8</text>\n",
       "<path id=\"qubit_line:9\" d=\"M64,640 L4032,640 \" stroke=\"black\"/>\n",
       "<text dominant-baseline=\"central\" text-anchor=\"end\" font-family=\"monospace\" font-size=\"12\" x=\"64\" y=\"640\">q9</text>\n",
       "<path id=\"qubit_line:10\" d=\"M64,704 L4032,704 \" stroke=\"black\"/>\n",
       "<text dominant-baseline=\"central\" text-anchor=\"end\" font-family=\"monospace\" font-size=\"12\" x=\"64\" y=\"704\">q10</text>\n",
       "<path id=\"qubit_line:11\" d=\"M64,768 L4032,768 \" stroke=\"black\"/>\n",
       "<text dominant-baseline=\"central\" text-anchor=\"end\" font-family=\"monospace\" font-size=\"12\" x=\"64\" y=\"768\">q11</text>\n",
       "<path id=\"qubit_line:12\" d=\"M64,832 L4032,832 \" stroke=\"black\"/>\n",
       "<text dominant-baseline=\"central\" text-anchor=\"end\" font-family=\"monospace\" font-size=\"12\" x=\"64\" y=\"832\">q12</text>\n",
       "<path id=\"qubit_line:13\" d=\"M64,896 L4032,896 \" stroke=\"black\"/>\n",
       "<text dominant-baseline=\"central\" text-anchor=\"end\" font-family=\"monospace\" font-size=\"12\" x=\"64\" y=\"896\">q13</text>\n",
       "<path id=\"qubit_line:14\" d=\"M64,960 L4032,960 \" stroke=\"black\"/>\n",
       "<text dominant-baseline=\"central\" text-anchor=\"end\" font-family=\"monospace\" font-size=\"12\" x=\"64\" y=\"960\">q14</text>\n",
       "<path id=\"qubit_line:15\" d=\"M64,1024 L4032,1024 \" stroke=\"black\"/>\n",
       "<text dominant-baseline=\"central\" text-anchor=\"end\" font-family=\"monospace\" font-size=\"12\" x=\"64\" y=\"1024\">q15</text>\n",
       "<path id=\"qubit_line:16\" d=\"M64,1088 L4032,1088 \" stroke=\"black\"/>\n",
       "<text dominant-baseline=\"central\" text-anchor=\"end\" font-family=\"monospace\" font-size=\"12\" x=\"64\" y=\"1088\">q16</text>\n",
       "<path id=\"qubit_line:17\" d=\"M64,1152 L4032,1152 \" stroke=\"black\"/>\n",
       "<text dominant-baseline=\"central\" text-anchor=\"end\" font-family=\"monospace\" font-size=\"12\" x=\"64\" y=\"1152\">q17</text>\n",
       "<path id=\"qubit_line:18\" d=\"M64,1216 L4032,1216 \" stroke=\"black\"/>\n",
       "<text dominant-baseline=\"central\" text-anchor=\"end\" font-family=\"monospace\" font-size=\"12\" x=\"64\" y=\"1216\">q18</text>\n",
       "<path id=\"qubit_line:19\" d=\"M64,1280 L4032,1280 \" stroke=\"black\"/>\n",
       "<text dominant-baseline=\"central\" text-anchor=\"end\" font-family=\"monospace\" font-size=\"12\" x=\"64\" y=\"1280\">q19</text>\n",
       "<path id=\"qubit_line:20\" d=\"M64,1344 L4032,1344 \" stroke=\"black\"/>\n",
       "<text dominant-baseline=\"central\" text-anchor=\"end\" font-family=\"monospace\" font-size=\"12\" x=\"64\" y=\"1344\">q20</text>\n",
       "<path id=\"qubit_line:21\" d=\"M64,1408 L4032,1408 \" stroke=\"black\"/>\n",
       "<text dominant-baseline=\"central\" text-anchor=\"end\" font-family=\"monospace\" font-size=\"12\" x=\"64\" y=\"1408\">q21</text>\n",
       "<path id=\"qubit_line:22\" d=\"M64,1472 L4032,1472 \" stroke=\"black\"/>\n",
       "<text dominant-baseline=\"central\" text-anchor=\"end\" font-family=\"monospace\" font-size=\"12\" x=\"64\" y=\"1472\">q22</text>\n",
       "<path id=\"qubit_line:23\" d=\"M64,1536 L4032,1536 \" stroke=\"black\"/>\n",
       "<text dominant-baseline=\"central\" text-anchor=\"end\" font-family=\"monospace\" font-size=\"12\" x=\"64\" y=\"1536\">q23</text>\n",
       "<path id=\"qubit_line:24\" d=\"M64,1600 L4032,1600 \" stroke=\"black\"/>\n",
       "<text dominant-baseline=\"central\" text-anchor=\"end\" font-family=\"monospace\" font-size=\"12\" x=\"64\" y=\"1600\">q24</text>\n",
       "<path id=\"qubit_line:25\" d=\"M64,1664 L4032,1664 \" stroke=\"black\"/>\n",
       "<text dominant-baseline=\"central\" text-anchor=\"end\" font-family=\"monospace\" font-size=\"12\" x=\"64\" y=\"1664\">q25</text>\n",
       "<path id=\"qubit_line:26\" d=\"M64,1728 L4032,1728 \" stroke=\"black\"/>\n",
       "<text dominant-baseline=\"central\" text-anchor=\"end\" font-family=\"monospace\" font-size=\"12\" x=\"64\" y=\"1728\">q26</text>\n",
       "<path id=\"qubit_line:27\" d=\"M64,1792 L4032,1792 \" stroke=\"black\"/>\n",
       "<text dominant-baseline=\"central\" text-anchor=\"end\" font-family=\"monospace\" font-size=\"12\" x=\"64\" y=\"1792\">q27</text>\n",
       "<path id=\"qubit_line:28\" d=\"M64,1856 L4032,1856 \" stroke=\"black\"/>\n",
       "<text dominant-baseline=\"central\" text-anchor=\"end\" font-family=\"monospace\" font-size=\"12\" x=\"64\" y=\"1856\">q28</text>\n",
       "<path id=\"qubit_line:29\" d=\"M64,1920 L4032,1920 \" stroke=\"black\"/>\n",
       "<text dominant-baseline=\"central\" text-anchor=\"end\" font-family=\"monospace\" font-size=\"12\" x=\"64\" y=\"1920\">q29</text>\n",
       "<path id=\"qubit_line:30\" d=\"M64,1984 L4032,1984 \" stroke=\"black\"/>\n",
       "<text dominant-baseline=\"central\" text-anchor=\"end\" font-family=\"monospace\" font-size=\"12\" x=\"64\" y=\"1984\">q30</text>\n",
       "<path id=\"qubit_line:31\" d=\"M64,2048 L4032,2048 \" stroke=\"black\"/>\n",
       "<text dominant-baseline=\"central\" text-anchor=\"end\" font-family=\"monospace\" font-size=\"12\" x=\"64\" y=\"2048\">q31</text>\n",
       "<path id=\"qubit_line:32\" d=\"M64,2112 L4032,2112 \" stroke=\"black\"/>\n",
       "<text dominant-baseline=\"central\" text-anchor=\"end\" font-family=\"monospace\" font-size=\"12\" x=\"64\" y=\"2112\">q32</text>\n",
       "<path id=\"qubit_line:33\" d=\"M64,2176 L4032,2176 \" stroke=\"black\"/>\n",
       "<text dominant-baseline=\"central\" text-anchor=\"end\" font-family=\"monospace\" font-size=\"12\" x=\"64\" y=\"2176\">q33</text>\n",
       "<path id=\"qubit_line:34\" d=\"M64,2240 L4032,2240 \" stroke=\"black\"/>\n",
       "<text dominant-baseline=\"central\" text-anchor=\"end\" font-family=\"monospace\" font-size=\"12\" x=\"64\" y=\"2240\">q34</text>\n",
       "<path id=\"qubit_line:35\" d=\"M64,2304 L4032,2304 \" stroke=\"black\"/>\n",
       "<text dominant-baseline=\"central\" text-anchor=\"end\" font-family=\"monospace\" font-size=\"12\" x=\"64\" y=\"2304\">q35</text>\n",
       "<path id=\"qubit_line:36\" d=\"M64,2368 L4032,2368 \" stroke=\"black\"/>\n",
       "<text dominant-baseline=\"central\" text-anchor=\"end\" font-family=\"monospace\" font-size=\"12\" x=\"64\" y=\"2368\">q36</text>\n",
       "<path id=\"qubit_line:37\" d=\"M64,2432 L4032,2432 \" stroke=\"black\"/>\n",
       "<text dominant-baseline=\"central\" text-anchor=\"end\" font-family=\"monospace\" font-size=\"12\" x=\"64\" y=\"2432\">q37</text>\n",
       "<path id=\"qubit_line:38\" d=\"M64,2496 L4032,2496 \" stroke=\"black\"/>\n",
       "<text dominant-baseline=\"central\" text-anchor=\"end\" font-family=\"monospace\" font-size=\"12\" x=\"64\" y=\"2496\">q38</text>\n",
       "<path id=\"qubit_line:39\" d=\"M64,2560 L4032,2560 \" stroke=\"black\"/>\n",
       "<text dominant-baseline=\"central\" text-anchor=\"end\" font-family=\"monospace\" font-size=\"12\" x=\"64\" y=\"2560\">q39</text>\n",
       "<path id=\"qubit_line:40\" d=\"M64,2624 L4032,2624 \" stroke=\"black\"/>\n",
       "<text dominant-baseline=\"central\" text-anchor=\"end\" font-family=\"monospace\" font-size=\"12\" x=\"64\" y=\"2624\">q40</text>\n",
       "<path id=\"qubit_line:41\" d=\"M64,2688 L4032,2688 \" stroke=\"black\"/>\n",
       "<text dominant-baseline=\"central\" text-anchor=\"end\" font-family=\"monospace\" font-size=\"12\" x=\"64\" y=\"2688\">q41</text>\n",
       "<path id=\"qubit_line:42\" d=\"M64,2752 L4032,2752 \" stroke=\"black\"/>\n",
       "<text dominant-baseline=\"central\" text-anchor=\"end\" font-family=\"monospace\" font-size=\"12\" x=\"64\" y=\"2752\">q42</text>\n",
       "<path id=\"qubit_line:43\" d=\"M64,2816 L4032,2816 \" stroke=\"black\"/>\n",
       "<text dominant-baseline=\"central\" text-anchor=\"end\" font-family=\"monospace\" font-size=\"12\" x=\"64\" y=\"2816\">q43</text>\n",
       "<path id=\"qubit_line:44\" d=\"M64,2880 L4032,2880 \" stroke=\"black\"/>\n",
       "<text dominant-baseline=\"central\" text-anchor=\"end\" font-family=\"monospace\" font-size=\"12\" x=\"64\" y=\"2880\">q44</text>\n",
       "<path id=\"qubit_line:45\" d=\"M64,2944 L4032,2944 \" stroke=\"black\"/>\n",
       "<text dominant-baseline=\"central\" text-anchor=\"end\" font-family=\"monospace\" font-size=\"12\" x=\"64\" y=\"2944\">q45</text>\n",
       "<path id=\"qubit_line:46\" d=\"M64,3008 L4032,3008 \" stroke=\"black\"/>\n",
       "<text dominant-baseline=\"central\" text-anchor=\"end\" font-family=\"monospace\" font-size=\"12\" x=\"64\" y=\"3008\">q46</text>\n",
       "<path id=\"qubit_line:47\" d=\"M64,3072 L4032,3072 \" stroke=\"black\"/>\n",
       "<text dominant-baseline=\"central\" text-anchor=\"end\" font-family=\"monospace\" font-size=\"12\" x=\"64\" y=\"3072\">q47</text>\n",
       "<path id=\"qubit_line:48\" d=\"M64,3136 L4032,3136 \" stroke=\"black\"/>\n",
       "<text dominant-baseline=\"central\" text-anchor=\"end\" font-family=\"monospace\" font-size=\"12\" x=\"64\" y=\"3136\">q48</text>\n",
       "<path id=\"qubit_line:49\" d=\"M64,3200 L4032,3200 \" stroke=\"black\"/>\n",
       "<text dominant-baseline=\"central\" text-anchor=\"end\" font-family=\"monospace\" font-size=\"12\" x=\"64\" y=\"3200\">q49</text>\n",
       "<path id=\"qubit_line:50\" d=\"M64,3264 L4032,3264 \" stroke=\"black\"/>\n",
       "<text dominant-baseline=\"central\" text-anchor=\"end\" font-family=\"monospace\" font-size=\"12\" x=\"64\" y=\"3264\">q50</text>\n",
       "<path id=\"qubit_line:51\" d=\"M64,3328 L4032,3328 \" stroke=\"black\"/>\n",
       "<text dominant-baseline=\"central\" text-anchor=\"end\" font-family=\"monospace\" font-size=\"12\" x=\"64\" y=\"3328\">q51</text>\n",
       "<path id=\"qubit_line:52\" d=\"M64,3392 L4032,3392 \" stroke=\"black\"/>\n",
       "<text dominant-baseline=\"central\" text-anchor=\"end\" font-family=\"monospace\" font-size=\"12\" x=\"64\" y=\"3392\">q52</text>\n",
       "</g>\n",
       "<rect x=\"80\" y=\"48\" width=\"224\" height=\"32\" stroke=\"black\" fill=\"white\"/>\n",
       "<text dominant-baseline=\"central\" text-anchor=\"middle\" font-family=\"monospace\" font-size=\"16\" x=\"192\" y=\"64\">COORDS(0,0)</text>\n",
       "<rect x=\"80\" y=\"112\" width=\"224\" height=\"32\" stroke=\"black\" fill=\"white\"/>\n",
       "<text dominant-baseline=\"central\" text-anchor=\"middle\" font-family=\"monospace\" font-size=\"16\" x=\"192\" y=\"128\">COORDS(1,0)</text>\n",
       "<rect x=\"80\" y=\"176\" width=\"224\" height=\"32\" stroke=\"black\" fill=\"white\"/>\n",
       "<text dominant-baseline=\"central\" text-anchor=\"middle\" font-family=\"monospace\" font-size=\"16\" x=\"192\" y=\"192\">COORDS(2,0)</text>\n",
       "<rect x=\"80\" y=\"240\" width=\"224\" height=\"32\" stroke=\"black\" fill=\"white\"/>\n",
       "<text dominant-baseline=\"central\" text-anchor=\"middle\" font-family=\"monospace\" font-size=\"16\" x=\"192\" y=\"256\">COORDS(3,0)</text>\n",
       "<rect x=\"80\" y=\"304\" width=\"224\" height=\"32\" stroke=\"black\" fill=\"white\"/>\n",
       "<text dominant-baseline=\"central\" text-anchor=\"middle\" font-family=\"monospace\" font-size=\"16\" x=\"192\" y=\"320\">COORDS(4,0)</text>\n",
       "<rect x=\"80\" y=\"368\" width=\"224\" height=\"32\" stroke=\"black\" fill=\"white\"/>\n",
       "<text dominant-baseline=\"central\" text-anchor=\"middle\" font-family=\"monospace\" font-size=\"16\" x=\"192\" y=\"384\">COORDS(5,0)</text>\n",
       "<rect x=\"80\" y=\"432\" width=\"224\" height=\"32\" stroke=\"black\" fill=\"white\"/>\n",
       "<text dominant-baseline=\"central\" text-anchor=\"middle\" font-family=\"monospace\" font-size=\"16\" x=\"192\" y=\"448\">COORDS(6,0)</text>\n",
       "<rect x=\"80\" y=\"496\" width=\"224\" height=\"32\" stroke=\"black\" fill=\"white\"/>\n",
       "<text dominant-baseline=\"central\" text-anchor=\"middle\" font-family=\"monospace\" font-size=\"16\" x=\"192\" y=\"512\">COORDS(0,1)</text>\n",
       "<rect x=\"80\" y=\"560\" width=\"224\" height=\"32\" stroke=\"black\" fill=\"white\"/>\n",
       "<text dominant-baseline=\"central\" text-anchor=\"middle\" font-family=\"monospace\" font-size=\"16\" x=\"192\" y=\"576\">COORDS(1,1)</text>\n",
       "<rect x=\"80\" y=\"624\" width=\"224\" height=\"32\" stroke=\"black\" fill=\"white\"/>\n",
       "<text dominant-baseline=\"central\" text-anchor=\"middle\" font-family=\"monospace\" font-size=\"16\" x=\"192\" y=\"640\">COORDS(2,1)</text>\n",
       "<rect x=\"80\" y=\"688\" width=\"224\" height=\"32\" stroke=\"black\" fill=\"white\"/>\n",
       "<text dominant-baseline=\"central\" text-anchor=\"middle\" font-family=\"monospace\" font-size=\"16\" x=\"192\" y=\"704\">COORDS(3,1)</text>\n",
       "<rect x=\"80\" y=\"752\" width=\"224\" height=\"32\" stroke=\"black\" fill=\"white\"/>\n",
       "<text dominant-baseline=\"central\" text-anchor=\"middle\" font-family=\"monospace\" font-size=\"16\" x=\"192\" y=\"768\">COORDS(4,1)</text>\n",
       "<rect x=\"80\" y=\"816\" width=\"224\" height=\"32\" stroke=\"black\" fill=\"white\"/>\n",
       "<text dominant-baseline=\"central\" text-anchor=\"middle\" font-family=\"monospace\" font-size=\"16\" x=\"192\" y=\"832\">COORDS(5,1)</text>\n",
       "<rect x=\"80\" y=\"880\" width=\"224\" height=\"32\" stroke=\"black\" fill=\"white\"/>\n",
       "<text dominant-baseline=\"central\" text-anchor=\"middle\" font-family=\"monospace\" font-size=\"16\" x=\"192\" y=\"896\">COORDS(6,1)</text>\n",
       "<rect x=\"80\" y=\"944\" width=\"224\" height=\"32\" stroke=\"black\" fill=\"white\"/>\n",
       "<text dominant-baseline=\"central\" text-anchor=\"middle\" font-family=\"monospace\" font-size=\"16\" x=\"192\" y=\"960\">COORDS(0,2)</text>\n",
       "<rect x=\"80\" y=\"1008\" width=\"224\" height=\"32\" stroke=\"black\" fill=\"white\"/>\n",
       "<text dominant-baseline=\"central\" text-anchor=\"middle\" font-family=\"monospace\" font-size=\"16\" x=\"192\" y=\"1024\">COORDS(1,2)</text>\n",
       "<rect x=\"80\" y=\"1072\" width=\"224\" height=\"32\" stroke=\"black\" fill=\"white\"/>\n",
       "<text dominant-baseline=\"central\" text-anchor=\"middle\" font-family=\"monospace\" font-size=\"16\" x=\"192\" y=\"1088\">COORDS(2,2)</text>\n",
       "<rect x=\"80\" y=\"1136\" width=\"224\" height=\"32\" stroke=\"black\" fill=\"white\"/>\n",
       "<text dominant-baseline=\"central\" text-anchor=\"middle\" font-family=\"monospace\" font-size=\"16\" x=\"192\" y=\"1152\">COORDS(3,2)</text>\n",
       "<rect x=\"80\" y=\"1200\" width=\"224\" height=\"32\" stroke=\"black\" fill=\"white\"/>\n",
       "<text dominant-baseline=\"central\" text-anchor=\"middle\" font-family=\"monospace\" font-size=\"16\" x=\"192\" y=\"1216\">COORDS(4,2)</text>\n",
       "<rect x=\"80\" y=\"1264\" width=\"224\" height=\"32\" stroke=\"black\" fill=\"white\"/>\n",
       "<text dominant-baseline=\"central\" text-anchor=\"middle\" font-family=\"monospace\" font-size=\"16\" x=\"192\" y=\"1280\">COORDS(5,2)</text>\n",
       "<rect x=\"80\" y=\"1328\" width=\"224\" height=\"32\" stroke=\"black\" fill=\"white\"/>\n",
       "<text dominant-baseline=\"central\" text-anchor=\"middle\" font-family=\"monospace\" font-size=\"16\" x=\"192\" y=\"1344\">COORDS(6,2)</text>\n",
       "<rect x=\"80\" y=\"1392\" width=\"224\" height=\"32\" stroke=\"black\" fill=\"white\"/>\n",
       "<text dominant-baseline=\"central\" text-anchor=\"middle\" font-family=\"monospace\" font-size=\"16\" x=\"192\" y=\"1408\">COORDS(-0.5,-0.5)</text>\n",
       "<rect x=\"80\" y=\"1456\" width=\"224\" height=\"32\" stroke=\"black\" fill=\"white\"/>\n",
       "<text dominant-baseline=\"central\" text-anchor=\"middle\" font-family=\"monospace\" font-size=\"16\" x=\"192\" y=\"1472\">COORDS(0.5,-0.5)</text>\n",
       "<rect x=\"80\" y=\"1520\" width=\"224\" height=\"32\" stroke=\"black\" fill=\"white\"/>\n",
       "<text dominant-baseline=\"central\" text-anchor=\"middle\" font-family=\"monospace\" font-size=\"16\" x=\"192\" y=\"1536\">COORDS(1.5,-0.5)</text>\n",
       "<rect x=\"80\" y=\"1584\" width=\"224\" height=\"32\" stroke=\"black\" fill=\"white\"/>\n",
       "<text dominant-baseline=\"central\" text-anchor=\"middle\" font-family=\"monospace\" font-size=\"16\" x=\"192\" y=\"1600\">COORDS(2.5,-0.5)</text>\n",
       "<rect x=\"80\" y=\"1648\" width=\"224\" height=\"32\" stroke=\"black\" fill=\"white\"/>\n",
       "<text dominant-baseline=\"central\" text-anchor=\"middle\" font-family=\"monospace\" font-size=\"16\" x=\"192\" y=\"1664\">COORDS(3.5,-0.5)</text>\n",
       "<rect x=\"80\" y=\"1712\" width=\"224\" height=\"32\" stroke=\"black\" fill=\"white\"/>\n",
       "<text dominant-baseline=\"central\" text-anchor=\"middle\" font-family=\"monospace\" font-size=\"16\" x=\"192\" y=\"1728\">COORDS(4.5,-0.5)</text>\n",
       "<rect x=\"80\" y=\"1776\" width=\"224\" height=\"32\" stroke=\"black\" fill=\"white\"/>\n",
       "<text dominant-baseline=\"central\" text-anchor=\"middle\" font-family=\"monospace\" font-size=\"16\" x=\"192\" y=\"1792\">COORDS(5.5,-0.5)</text>\n",
       "<rect x=\"80\" y=\"1840\" width=\"224\" height=\"32\" stroke=\"black\" fill=\"white\"/>\n",
       "<text dominant-baseline=\"central\" text-anchor=\"middle\" font-family=\"monospace\" font-size=\"16\" x=\"192\" y=\"1856\">COORDS(6.5,-0.5)</text>\n",
       "<rect x=\"80\" y=\"1904\" width=\"224\" height=\"32\" stroke=\"black\" fill=\"white\"/>\n",
       "<text dominant-baseline=\"central\" text-anchor=\"middle\" font-family=\"monospace\" font-size=\"16\" x=\"192\" y=\"1920\">COORDS(-0.5,0.5)</text>\n",
       "<rect x=\"80\" y=\"1968\" width=\"224\" height=\"32\" stroke=\"black\" fill=\"white\"/>\n",
       "<text dominant-baseline=\"central\" text-anchor=\"middle\" font-family=\"monospace\" font-size=\"16\" x=\"192\" y=\"1984\">COORDS(0.5,0.5)</text>\n",
       "<rect x=\"80\" y=\"2032\" width=\"224\" height=\"32\" stroke=\"black\" fill=\"white\"/>\n",
       "<text dominant-baseline=\"central\" text-anchor=\"middle\" font-family=\"monospace\" font-size=\"16\" x=\"192\" y=\"2048\">COORDS(1.5,0.5)</text>\n",
       "<rect x=\"80\" y=\"2096\" width=\"224\" height=\"32\" stroke=\"black\" fill=\"white\"/>\n",
       "<text dominant-baseline=\"central\" text-anchor=\"middle\" font-family=\"monospace\" font-size=\"16\" x=\"192\" y=\"2112\">COORDS(2.5,0.5)</text>\n",
       "<rect x=\"80\" y=\"2160\" width=\"224\" height=\"32\" stroke=\"black\" fill=\"white\"/>\n",
       "<text dominant-baseline=\"central\" text-anchor=\"middle\" font-family=\"monospace\" font-size=\"16\" x=\"192\" y=\"2176\">COORDS(3.5,0.5)</text>\n",
       "<rect x=\"80\" y=\"2224\" width=\"224\" height=\"32\" stroke=\"black\" fill=\"white\"/>\n",
       "<text dominant-baseline=\"central\" text-anchor=\"middle\" font-family=\"monospace\" font-size=\"16\" x=\"192\" y=\"2240\">COORDS(4.5,0.5)</text>\n",
       "<rect x=\"80\" y=\"2288\" width=\"224\" height=\"32\" stroke=\"black\" fill=\"white\"/>\n",
       "<text dominant-baseline=\"central\" text-anchor=\"middle\" font-family=\"monospace\" font-size=\"16\" x=\"192\" y=\"2304\">COORDS(5.5,0.5)</text>\n",
       "<rect x=\"80\" y=\"2352\" width=\"224\" height=\"32\" stroke=\"black\" fill=\"white\"/>\n",
       "<text dominant-baseline=\"central\" text-anchor=\"middle\" font-family=\"monospace\" font-size=\"16\" x=\"192\" y=\"2368\">COORDS(6.5,0.5)</text>\n",
       "<rect x=\"80\" y=\"2416\" width=\"224\" height=\"32\" stroke=\"black\" fill=\"white\"/>\n",
       "<text dominant-baseline=\"central\" text-anchor=\"middle\" font-family=\"monospace\" font-size=\"16\" x=\"192\" y=\"2432\">COORDS(-0.5,1.5)</text>\n",
       "<rect x=\"80\" y=\"2480\" width=\"224\" height=\"32\" stroke=\"black\" fill=\"white\"/>\n",
       "<text dominant-baseline=\"central\" text-anchor=\"middle\" font-family=\"monospace\" font-size=\"16\" x=\"192\" y=\"2496\">COORDS(0.5,1.5)</text>\n",
       "<rect x=\"80\" y=\"2544\" width=\"224\" height=\"32\" stroke=\"black\" fill=\"white\"/>\n",
       "<text dominant-baseline=\"central\" text-anchor=\"middle\" font-family=\"monospace\" font-size=\"16\" x=\"192\" y=\"2560\">COORDS(1.5,1.5)</text>\n",
       "<rect x=\"80\" y=\"2608\" width=\"224\" height=\"32\" stroke=\"black\" fill=\"white\"/>\n",
       "<text dominant-baseline=\"central\" text-anchor=\"middle\" font-family=\"monospace\" font-size=\"16\" x=\"192\" y=\"2624\">COORDS(2.5,1.5)</text>\n",
       "<rect x=\"80\" y=\"2672\" width=\"224\" height=\"32\" stroke=\"black\" fill=\"white\"/>\n",
       "<text dominant-baseline=\"central\" text-anchor=\"middle\" font-family=\"monospace\" font-size=\"16\" x=\"192\" y=\"2688\">COORDS(3.5,1.5)</text>\n",
       "<rect x=\"80\" y=\"2736\" width=\"224\" height=\"32\" stroke=\"black\" fill=\"white\"/>\n",
       "<text dominant-baseline=\"central\" text-anchor=\"middle\" font-family=\"monospace\" font-size=\"16\" x=\"192\" y=\"2752\">COORDS(4.5,1.5)</text>\n",
       "<rect x=\"80\" y=\"2800\" width=\"224\" height=\"32\" stroke=\"black\" fill=\"white\"/>\n",
       "<text dominant-baseline=\"central\" text-anchor=\"middle\" font-family=\"monospace\" font-size=\"16\" x=\"192\" y=\"2816\">COORDS(5.5,1.5)</text>\n",
       "<rect x=\"80\" y=\"2864\" width=\"224\" height=\"32\" stroke=\"black\" fill=\"white\"/>\n",
       "<text dominant-baseline=\"central\" text-anchor=\"middle\" font-family=\"monospace\" font-size=\"16\" x=\"192\" y=\"2880\">COORDS(6.5,1.5)</text>\n",
       "<rect x=\"80\" y=\"2928\" width=\"224\" height=\"32\" stroke=\"black\" fill=\"white\"/>\n",
       "<text dominant-baseline=\"central\" text-anchor=\"middle\" font-family=\"monospace\" font-size=\"16\" x=\"192\" y=\"2944\">COORDS(-0.5,2.5)</text>\n",
       "<rect x=\"80\" y=\"2992\" width=\"224\" height=\"32\" stroke=\"black\" fill=\"white\"/>\n",
       "<text dominant-baseline=\"central\" text-anchor=\"middle\" font-family=\"monospace\" font-size=\"16\" x=\"192\" y=\"3008\">COORDS(0.5,2.5)</text>\n",
       "<rect x=\"80\" y=\"3056\" width=\"224\" height=\"32\" stroke=\"black\" fill=\"white\"/>\n",
       "<text dominant-baseline=\"central\" text-anchor=\"middle\" font-family=\"monospace\" font-size=\"16\" x=\"192\" y=\"3072\">COORDS(1.5,2.5)</text>\n",
       "<rect x=\"80\" y=\"3120\" width=\"224\" height=\"32\" stroke=\"black\" fill=\"white\"/>\n",
       "<text dominant-baseline=\"central\" text-anchor=\"middle\" font-family=\"monospace\" font-size=\"16\" x=\"192\" y=\"3136\">COORDS(2.5,2.5)</text>\n",
       "<rect x=\"80\" y=\"3184\" width=\"224\" height=\"32\" stroke=\"black\" fill=\"white\"/>\n",
       "<text dominant-baseline=\"central\" text-anchor=\"middle\" font-family=\"monospace\" font-size=\"16\" x=\"192\" y=\"3200\">COORDS(3.5,2.5)</text>\n",
       "<rect x=\"80\" y=\"3248\" width=\"224\" height=\"32\" stroke=\"black\" fill=\"white\"/>\n",
       "<text dominant-baseline=\"central\" text-anchor=\"middle\" font-family=\"monospace\" font-size=\"16\" x=\"192\" y=\"3264\">COORDS(4.5,2.5)</text>\n",
       "<rect x=\"80\" y=\"3312\" width=\"224\" height=\"32\" stroke=\"black\" fill=\"white\"/>\n",
       "<text dominant-baseline=\"central\" text-anchor=\"middle\" font-family=\"monospace\" font-size=\"16\" x=\"192\" y=\"3328\">COORDS(5.5,2.5)</text>\n",
       "<rect x=\"80\" y=\"3376\" width=\"224\" height=\"32\" stroke=\"black\" fill=\"white\"/>\n",
       "<text dominant-baseline=\"central\" text-anchor=\"middle\" font-family=\"monospace\" font-size=\"16\" x=\"192\" y=\"3392\">COORDS(6.5,2.5)</text>\n",
       "<rect x=\"336\" y=\"112\" width=\"32\" height=\"32\" stroke=\"black\" fill=\"black\"/>\n",
       "<text dominant-baseline=\"central\" text-anchor=\"middle\" font-family=\"monospace\" font-size=\"30\" x=\"352\" y=\"128\" fill=\"white\">R</text>\n",
       "<rect x=\"336\" y=\"176\" width=\"32\" height=\"32\" stroke=\"black\" fill=\"black\"/>\n",
       "<text dominant-baseline=\"central\" text-anchor=\"middle\" font-family=\"monospace\" font-size=\"30\" x=\"352\" y=\"192\" fill=\"white\">R</text>\n",
       "<rect x=\"336\" y=\"560\" width=\"32\" height=\"32\" stroke=\"black\" fill=\"black\"/>\n",
       "<text dominant-baseline=\"central\" text-anchor=\"middle\" font-family=\"monospace\" font-size=\"30\" x=\"352\" y=\"576\" fill=\"white\">R</text>\n",
       "<rect x=\"336\" y=\"624\" width=\"32\" height=\"32\" stroke=\"black\" fill=\"black\"/>\n",
       "<text dominant-baseline=\"central\" text-anchor=\"middle\" font-family=\"monospace\" font-size=\"30\" x=\"352\" y=\"640\" fill=\"white\">R</text>\n",
       "<rect x=\"336\" y=\"496\" width=\"32\" height=\"32\" stroke=\"black\" fill=\"black\"/>\n",
       "<text dominant-baseline=\"central\" text-anchor=\"middle\" font-family=\"monospace\" font-size=\"30\" x=\"352\" y=\"512\" fill=\"white\">R</text>\n",
       "<rect x=\"336\" y=\"944\" width=\"32\" height=\"32\" stroke=\"black\" fill=\"black\"/>\n",
       "<text dominant-baseline=\"central\" text-anchor=\"middle\" font-family=\"monospace\" font-size=\"30\" x=\"352\" y=\"960\" fill=\"white\">R</text>\n",
       "<rect x=\"336\" y=\"1008\" width=\"32\" height=\"32\" stroke=\"black\" fill=\"black\"/>\n",
       "<text dominant-baseline=\"central\" text-anchor=\"middle\" font-family=\"monospace\" font-size=\"30\" x=\"352\" y=\"1024\" fill=\"white\">R</text>\n",
       "<rect x=\"336\" y=\"48\" width=\"32\" height=\"32\" stroke=\"black\" fill=\"black\"/>\n",
       "<text dominant-baseline=\"central\" text-anchor=\"middle\" font-family=\"monospace\" font-size=\"30\" x=\"352\" y=\"64\" fill=\"white\">R</text>\n",
       "<rect x=\"336\" y=\"1072\" width=\"32\" height=\"32\" stroke=\"black\" fill=\"black\"/>\n",
       "<text dominant-baseline=\"central\" text-anchor=\"middle\" font-family=\"monospace\" font-size=\"30\" x=\"352\" y=\"1088\" fill=\"white\">R</text>\n",
       "<rect x=\"400\" y=\"48\" width=\"32\" height=\"32\" stroke=\"black\" fill=\"white\"/>\n",
       "<text dominant-baseline=\"central\" text-anchor=\"middle\" font-family=\"monospace\" font-size=\"30\" x=\"416\" y=\"64\">X</text>\n",
       "<rect x=\"400\" y=\"112\" width=\"32\" height=\"32\" stroke=\"black\" fill=\"white\"/>\n",
       "<text dominant-baseline=\"central\" text-anchor=\"middle\" font-family=\"monospace\" font-size=\"30\" x=\"416\" y=\"128\">X</text>\n",
       "<rect x=\"400\" y=\"176\" width=\"32\" height=\"32\" stroke=\"black\" fill=\"white\"/>\n",
       "<text dominant-baseline=\"central\" text-anchor=\"middle\" font-family=\"monospace\" font-size=\"30\" x=\"416\" y=\"192\">X</text>\n",
       "<path d=\"M68,40 L68,32 L444,32 L444,40 \" stroke=\"black\" fill=\"none\"/>\n",
       "<path d=\"M68,3448 L68,3456 L444,3456 L444,3448 \" stroke=\"black\" fill=\"none\"/>\n",
       "<rect x=\"528\" y=\"368\" width=\"32\" height=\"32\" stroke=\"black\" fill=\"black\"/>\n",
       "<text dominant-baseline=\"central\" text-anchor=\"middle\" font-family=\"monospace\" font-size=\"30\" x=\"544\" y=\"384\" fill=\"white\">R</text>\n",
       "<rect x=\"528\" y=\"432\" width=\"32\" height=\"32\" stroke=\"black\" fill=\"black\"/>\n",
       "<text dominant-baseline=\"central\" text-anchor=\"middle\" font-family=\"monospace\" font-size=\"30\" x=\"544\" y=\"448\" fill=\"white\">R</text>\n",
       "<rect x=\"528\" y=\"816\" width=\"32\" height=\"32\" stroke=\"black\" fill=\"black\"/>\n",
       "<text dominant-baseline=\"central\" text-anchor=\"middle\" font-family=\"monospace\" font-size=\"30\" x=\"544\" y=\"832\" fill=\"white\">R</text>\n",
       "<rect x=\"528\" y=\"880\" width=\"32\" height=\"32\" stroke=\"black\" fill=\"black\"/>\n",
       "<text dominant-baseline=\"central\" text-anchor=\"middle\" font-family=\"monospace\" font-size=\"30\" x=\"544\" y=\"896\" fill=\"white\">R</text>\n",
       "<rect x=\"528\" y=\"752\" width=\"32\" height=\"32\" stroke=\"black\" fill=\"black\"/>\n",
       "<text dominant-baseline=\"central\" text-anchor=\"middle\" font-family=\"monospace\" font-size=\"30\" x=\"544\" y=\"768\" fill=\"white\">R</text>\n",
       "<rect x=\"528\" y=\"1200\" width=\"32\" height=\"32\" stroke=\"black\" fill=\"black\"/>\n",
       "<text dominant-baseline=\"central\" text-anchor=\"middle\" font-family=\"monospace\" font-size=\"30\" x=\"544\" y=\"1216\" fill=\"white\">R</text>\n",
       "<rect x=\"528\" y=\"1264\" width=\"32\" height=\"32\" stroke=\"black\" fill=\"black\"/>\n",
       "<text dominant-baseline=\"central\" text-anchor=\"middle\" font-family=\"monospace\" font-size=\"30\" x=\"544\" y=\"1280\" fill=\"white\">R</text>\n",
       "<rect x=\"528\" y=\"304\" width=\"32\" height=\"32\" stroke=\"black\" fill=\"black\"/>\n",
       "<text dominant-baseline=\"central\" text-anchor=\"middle\" font-family=\"monospace\" font-size=\"30\" x=\"544\" y=\"320\" fill=\"white\">R</text>\n",
       "<rect x=\"528\" y=\"1328\" width=\"32\" height=\"32\" stroke=\"black\" fill=\"black\"/>\n",
       "<text dominant-baseline=\"central\" text-anchor=\"middle\" font-family=\"monospace\" font-size=\"30\" x=\"544\" y=\"1344\" fill=\"white\">R</text>\n",
       "<rect x=\"592\" y=\"2032\" width=\"32\" height=\"32\" stroke=\"black\" fill=\"white\"/>\n",
       "<text dominant-baseline=\"central\" text-anchor=\"middle\" font-family=\"monospace\" font-size=\"30\" x=\"608\" y=\"2048\">H</text>\n",
       "<rect x=\"592\" y=\"2480\" width=\"32\" height=\"32\" stroke=\"black\" fill=\"white\"/>\n",
       "<text dominant-baseline=\"central\" text-anchor=\"middle\" font-family=\"monospace\" font-size=\"30\" x=\"608\" y=\"2496\">H</text>\n",
       "<rect x=\"592\" y=\"1904\" width=\"32\" height=\"32\" stroke=\"black\" fill=\"white\"/>\n",
       "<text dominant-baseline=\"central\" text-anchor=\"middle\" font-family=\"monospace\" font-size=\"30\" x=\"608\" y=\"1920\">H</text>\n",
       "<rect x=\"592\" y=\"2608\" width=\"32\" height=\"32\" stroke=\"black\" fill=\"white\"/>\n",
       "<text dominant-baseline=\"central\" text-anchor=\"middle\" font-family=\"monospace\" font-size=\"30\" x=\"608\" y=\"2624\">H</text>\n",
       "<rect x=\"592\" y=\"1968\" width=\"32\" height=\"32\" stroke=\"black\" fill=\"white\"/>\n",
       "<text dominant-baseline=\"central\" text-anchor=\"middle\" font-family=\"monospace\" font-size=\"30\" x=\"608\" y=\"1984\">H</text>\n",
       "<rect x=\"592\" y=\"2544\" width=\"32\" height=\"32\" stroke=\"black\" fill=\"white\"/>\n",
       "<text dominant-baseline=\"central\" text-anchor=\"middle\" font-family=\"monospace\" font-size=\"30\" x=\"608\" y=\"2560\">H</text>\n",
       "<rect x=\"592\" y=\"2992\" width=\"32\" height=\"32\" stroke=\"black\" fill=\"white\"/>\n",
       "<text dominant-baseline=\"central\" text-anchor=\"middle\" font-family=\"monospace\" font-size=\"30\" x=\"608\" y=\"3008\">H</text>\n",
       "<rect x=\"592\" y=\"1520\" width=\"32\" height=\"32\" stroke=\"black\" fill=\"white\"/>\n",
       "<text dominant-baseline=\"central\" text-anchor=\"middle\" font-family=\"monospace\" font-size=\"30\" x=\"608\" y=\"1536\">H</text>\n",
       "<path d=\"M672,128 L672,2048 \" stroke=\"black\"/>\n",
       "<circle cx=\"672\" cy=\"2048\" r=\"12\" stroke=\"none\" fill=\"black\"/>\n",
       "<circle cx=\"672\" cy=\"128\" r=\"12\" stroke=\"black\" fill=\"white\"/>\n",
       "<path d=\"M660,128 L684,128 M672,116 L672,140 \" stroke=\"black\"/>\n",
       "<path d=\"M736,512 L736,2496 \" stroke=\"black\"/>\n",
       "<circle cx=\"736\" cy=\"2496\" r=\"12\" stroke=\"none\" fill=\"black\"/>\n",
       "<circle cx=\"736\" cy=\"512\" r=\"12\" stroke=\"black\" fill=\"white\"/>\n",
       "<path d=\"M724,512 L748,512 M736,500 L736,524 \" stroke=\"black\"/>\n",
       "<path d=\"M800,64 L800,1920 \" stroke=\"black\"/>\n",
       "<circle cx=\"800\" cy=\"1920\" r=\"12\" stroke=\"none\" fill=\"black\"/>\n",
       "<circle cx=\"800\" cy=\"64\" r=\"12\" stroke=\"black\" fill=\"white\"/>\n",
       "<path d=\"M788,64 L812,64 M800,52 L800,76 \" stroke=\"black\"/>\n",
       "<path d=\"M864,640 L864,2624 \" stroke=\"black\"/>\n",
       "<circle cx=\"864\" cy=\"2624\" r=\"12\" stroke=\"none\" fill=\"black\"/>\n",
       "<circle cx=\"864\" cy=\"640\" r=\"12\" stroke=\"black\" fill=\"white\"/>\n",
       "<path d=\"M852,640 L876,640 M864,628 L864,652 \" stroke=\"black\"/>\n",
       "<path d=\"M928,64 L928,1984 \" stroke=\"black\"/>\n",
       "<circle cx=\"928\" cy=\"1984\" r=\"12\" stroke=\"none\" fill=\"black\"/>\n",
       "<circle cx=\"928\" cy=\"64\" r=\"12\" stroke=\"none\" fill=\"black\"/>\n",
       "<path d=\"M992,576 L992,2560 \" stroke=\"black\"/>\n",
       "<circle cx=\"992\" cy=\"2560\" r=\"12\" stroke=\"none\" fill=\"black\"/>\n",
       "<circle cx=\"992\" cy=\"576\" r=\"12\" stroke=\"none\" fill=\"black\"/>\n",
       "<path d=\"M1056,960 L1056,3008 \" stroke=\"black\"/>\n",
       "<circle cx=\"1056\" cy=\"3008\" r=\"12\" stroke=\"none\" fill=\"black\"/>\n",
       "<circle cx=\"1056\" cy=\"960\" r=\"12\" stroke=\"none\" fill=\"black\"/>\n",
       "<path d=\"M1120,128 L1120,1536 \" stroke=\"black\"/>\n",
       "<circle cx=\"1120\" cy=\"1536\" r=\"12\" stroke=\"none\" fill=\"black\"/>\n",
       "<circle cx=\"1120\" cy=\"128\" r=\"12\" stroke=\"none\" fill=\"black\"/>\n",
       "<path d=\"M644,40 L644,32 L1148,32 L1148,40 \" stroke=\"black\" fill=\"none\"/>\n",
       "<path d=\"M644,3448 L644,3456 L1148,3456 L1148,3448 \" stroke=\"black\" fill=\"none\"/>\n",
       "<path d=\"M1184,192 L1184,2048 \" stroke=\"black\"/>\n",
       "<circle cx=\"1184\" cy=\"2048\" r=\"12\" stroke=\"none\" fill=\"black\"/>\n",
       "<circle cx=\"1184\" cy=\"192\" r=\"12\" stroke=\"black\" fill=\"white\"/>\n",
       "<path d=\"M1172,192 L1196,192 M1184,180 L1184,204 \" stroke=\"black\"/>\n",
       "<path d=\"M1248,576 L1248,2496 \" stroke=\"black\"/>\n",
       "<circle cx=\"1248\" cy=\"2496\" r=\"12\" stroke=\"none\" fill=\"black\"/>\n",
       "<circle cx=\"1248\" cy=\"576\" r=\"12\" stroke=\"black\" fill=\"white\"/>\n",
       "<path d=\"M1236,576 L1260,576 M1248,564 L1248,588 \" stroke=\"black\"/>\n",
       "<path d=\"M1312,512 L1312,1920 \" stroke=\"black\"/>\n",
       "<circle cx=\"1312\" cy=\"1920\" r=\"12\" stroke=\"none\" fill=\"black\"/>\n",
       "<circle cx=\"1312\" cy=\"512\" r=\"12\" stroke=\"black\" fill=\"white\"/>\n",
       "<path d=\"M1300,512 L1324,512 M1312,500 L1312,524 \" stroke=\"black\"/>\n",
       "<path d=\"M1376,1088 L1376,2624 \" stroke=\"black\"/>\n",
       "<circle cx=\"1376\" cy=\"2624\" r=\"12\" stroke=\"none\" fill=\"black\"/>\n",
       "<circle cx=\"1376\" cy=\"1088\" r=\"12\" stroke=\"black\" fill=\"white\"/>\n",
       "<path d=\"M1364,1088 L1388,1088 M1376,1076 L1376,1100 \" stroke=\"black\"/>\n",
       "<path d=\"M1440,128 L1440,1984 \" stroke=\"black\"/>\n",
       "<circle cx=\"1440\" cy=\"1984\" r=\"12\" stroke=\"none\" fill=\"black\"/>\n",
       "<circle cx=\"1440\" cy=\"128\" r=\"12\" stroke=\"none\" fill=\"black\"/>\n",
       "<path d=\"M1504,640 L1504,2560 \" stroke=\"black\"/>\n",
       "<circle cx=\"1504\" cy=\"2560\" r=\"12\" stroke=\"none\" fill=\"black\"/>\n",
       "<circle cx=\"1504\" cy=\"640\" r=\"12\" stroke=\"none\" fill=\"black\"/>\n",
       "<path d=\"M1568,1024 L1568,3008 \" stroke=\"black\"/>\n",
       "<circle cx=\"1568\" cy=\"3008\" r=\"12\" stroke=\"none\" fill=\"black\"/>\n",
       "<circle cx=\"1568\" cy=\"1024\" r=\"12\" stroke=\"none\" fill=\"black\"/>\n",
       "<path d=\"M1632,192 L1632,1536 \" stroke=\"black\"/>\n",
       "<circle cx=\"1632\" cy=\"1536\" r=\"12\" stroke=\"none\" fill=\"black\"/>\n",
       "<circle cx=\"1632\" cy=\"192\" r=\"12\" stroke=\"none\" fill=\"black\"/>\n",
       "<path d=\"M1156,40 L1156,32 L1660,32 L1660,40 \" stroke=\"black\" fill=\"none\"/>\n",
       "<path d=\"M1156,3448 L1156,3456 L1660,3456 L1660,3448 \" stroke=\"black\" fill=\"none\"/>\n",
       "<path d=\"M1696,576 L1696,2048 \" stroke=\"black\"/>\n",
       "<circle cx=\"1696\" cy=\"2048\" r=\"12\" stroke=\"none\" fill=\"black\"/>\n",
       "<circle cx=\"1696\" cy=\"576\" r=\"12\" stroke=\"black\" fill=\"white\"/>\n",
       "<path d=\"M1684,576 L1708,576 M1696,564 L1696,588 \" stroke=\"black\"/>\n",
       "<path d=\"M1760,960 L1760,2496 \" stroke=\"black\"/>\n",
       "<circle cx=\"1760\" cy=\"2496\" r=\"12\" stroke=\"none\" fill=\"black\"/>\n",
       "<circle cx=\"1760\" cy=\"960\" r=\"12\" stroke=\"black\" fill=\"white\"/>\n",
       "<path d=\"M1748,960 L1772,960 M1760,948 L1760,972 \" stroke=\"black\"/>\n",
       "<path d=\"M1824,512 L1824,1984 \" stroke=\"black\"/>\n",
       "<circle cx=\"1824\" cy=\"1984\" r=\"12\" stroke=\"none\" fill=\"black\"/>\n",
       "<circle cx=\"1824\" cy=\"512\" r=\"12\" stroke=\"none\" fill=\"black\"/>\n",
       "<path d=\"M1888,1024 L1888,2560 \" stroke=\"black\"/>\n",
       "<circle cx=\"1888\" cy=\"2560\" r=\"12\" stroke=\"none\" fill=\"black\"/>\n",
       "<circle cx=\"1888\" cy=\"1024\" r=\"12\" stroke=\"none\" fill=\"black\"/>\n",
       "<path d=\"M1668,40 L1668,32 L1916,32 L1916,40 \" stroke=\"black\" fill=\"none\"/>\n",
       "<path d=\"M1668,3448 L1668,3456 L1916,3456 L1916,3448 \" stroke=\"black\" fill=\"none\"/>\n",
       "<path d=\"M1952,640 L1952,2048 \" stroke=\"black\"/>\n",
       "<circle cx=\"1952\" cy=\"2048\" r=\"12\" stroke=\"none\" fill=\"black\"/>\n",
       "<circle cx=\"1952\" cy=\"640\" r=\"12\" stroke=\"black\" fill=\"white\"/>\n",
       "<path d=\"M1940,640 L1964,640 M1952,628 L1952,652 \" stroke=\"black\"/>\n",
       "<path d=\"M2016,1024 L2016,2496 \" stroke=\"black\"/>\n",
       "<circle cx=\"2016\" cy=\"2496\" r=\"12\" stroke=\"none\" fill=\"black\"/>\n",
       "<circle cx=\"2016\" cy=\"1024\" r=\"12\" stroke=\"black\" fill=\"white\"/>\n",
       "<path d=\"M2004,1024 L2028,1024 M2016,1012 L2016,1036 \" stroke=\"black\"/>\n",
       "<path d=\"M2080,576 L2080,1984 \" stroke=\"black\"/>\n",
       "<circle cx=\"2080\" cy=\"1984\" r=\"12\" stroke=\"none\" fill=\"black\"/>\n",
       "<circle cx=\"2080\" cy=\"576\" r=\"12\" stroke=\"none\" fill=\"black\"/>\n",
       "<path d=\"M2144,1088 L2144,2560 \" stroke=\"black\"/>\n",
       "<circle cx=\"2144\" cy=\"2560\" r=\"12\" stroke=\"none\" fill=\"black\"/>\n",
       "<circle cx=\"2144\" cy=\"1088\" r=\"12\" stroke=\"none\" fill=\"black\"/>\n",
       "<path d=\"M1924,40 L1924,32 L2172,32 L2172,40 \" stroke=\"black\" fill=\"none\"/>\n",
       "<path d=\"M1924,3448 L1924,3456 L2172,3456 L2172,3448 \" stroke=\"black\" fill=\"none\"/>\n",
       "<rect x=\"2192\" y=\"2032\" width=\"32\" height=\"32\" stroke=\"black\" fill=\"white\"/>\n",
       "<text dominant-baseline=\"central\" text-anchor=\"middle\" font-family=\"monospace\" font-size=\"30\" x=\"2208\" y=\"2048\">H</text>\n",
       "<rect x=\"2192\" y=\"2480\" width=\"32\" height=\"32\" stroke=\"black\" fill=\"white\"/>\n",
       "<text dominant-baseline=\"central\" text-anchor=\"middle\" font-family=\"monospace\" font-size=\"30\" x=\"2208\" y=\"2496\">H</text>\n",
       "<rect x=\"2192\" y=\"1904\" width=\"32\" height=\"32\" stroke=\"black\" fill=\"white\"/>\n",
       "<text dominant-baseline=\"central\" text-anchor=\"middle\" font-family=\"monospace\" font-size=\"30\" x=\"2208\" y=\"1920\">H</text>\n",
       "<rect x=\"2192\" y=\"2608\" width=\"32\" height=\"32\" stroke=\"black\" fill=\"white\"/>\n",
       "<text dominant-baseline=\"central\" text-anchor=\"middle\" font-family=\"monospace\" font-size=\"30\" x=\"2208\" y=\"2624\">H</text>\n",
       "<rect x=\"2192\" y=\"1968\" width=\"32\" height=\"32\" stroke=\"black\" fill=\"white\"/>\n",
       "<text dominant-baseline=\"central\" text-anchor=\"middle\" font-family=\"monospace\" font-size=\"30\" x=\"2208\" y=\"1984\">H</text>\n",
       "<rect x=\"2192\" y=\"2544\" width=\"32\" height=\"32\" stroke=\"black\" fill=\"white\"/>\n",
       "<text dominant-baseline=\"central\" text-anchor=\"middle\" font-family=\"monospace\" font-size=\"30\" x=\"2208\" y=\"2560\">H</text>\n",
       "<rect x=\"2192\" y=\"2992\" width=\"32\" height=\"32\" stroke=\"black\" fill=\"white\"/>\n",
       "<text dominant-baseline=\"central\" text-anchor=\"middle\" font-family=\"monospace\" font-size=\"30\" x=\"2208\" y=\"3008\">H</text>\n",
       "<rect x=\"2192\" y=\"1520\" width=\"32\" height=\"32\" stroke=\"black\" fill=\"white\"/>\n",
       "<text dominant-baseline=\"central\" text-anchor=\"middle\" font-family=\"monospace\" font-size=\"30\" x=\"2208\" y=\"1536\">H</text>\n",
       "<rect x=\"2256\" y=\"2032\" width=\"32\" height=\"32\" stroke=\"black\" fill=\"black\"/>\n",
       "<text dominant-baseline=\"central\" text-anchor=\"middle\" font-family=\"monospace\" font-size=\"24\" x=\"2272\" y=\"2048\" fill=\"white\">MR</text>\n",
       "<text text-anchor=\"middle\" font-family=\"monospace\" font-size=\"8\" x=\"2272\" y=\"2028\">rec[0]</text>\n",
       "<rect x=\"2256\" y=\"2480\" width=\"32\" height=\"32\" stroke=\"black\" fill=\"black\"/>\n",
       "<text dominant-baseline=\"central\" text-anchor=\"middle\" font-family=\"monospace\" font-size=\"24\" x=\"2272\" y=\"2496\" fill=\"white\">MR</text>\n",
       "<text text-anchor=\"middle\" font-family=\"monospace\" font-size=\"8\" x=\"2272\" y=\"2476\">rec[1]</text>\n",
       "<rect x=\"2256\" y=\"1904\" width=\"32\" height=\"32\" stroke=\"black\" fill=\"black\"/>\n",
       "<text dominant-baseline=\"central\" text-anchor=\"middle\" font-family=\"monospace\" font-size=\"24\" x=\"2272\" y=\"1920\" fill=\"white\">MR</text>\n",
       "<text text-anchor=\"middle\" font-family=\"monospace\" font-size=\"8\" x=\"2272\" y=\"1900\">rec[2]</text>\n",
       "<rect x=\"2256\" y=\"2608\" width=\"32\" height=\"32\" stroke=\"black\" fill=\"black\"/>\n",
       "<text dominant-baseline=\"central\" text-anchor=\"middle\" font-family=\"monospace\" font-size=\"24\" x=\"2272\" y=\"2624\" fill=\"white\">MR</text>\n",
       "<text text-anchor=\"middle\" font-family=\"monospace\" font-size=\"8\" x=\"2272\" y=\"2604\">rec[3]</text>\n",
       "<rect x=\"2256\" y=\"1968\" width=\"32\" height=\"32\" stroke=\"black\" fill=\"black\"/>\n",
       "<text dominant-baseline=\"central\" text-anchor=\"middle\" font-family=\"monospace\" font-size=\"24\" x=\"2272\" y=\"1984\" fill=\"white\">MR</text>\n",
       "<text text-anchor=\"middle\" font-family=\"monospace\" font-size=\"8\" x=\"2272\" y=\"1964\">rec[4]</text>\n",
       "<rect x=\"2256\" y=\"2544\" width=\"32\" height=\"32\" stroke=\"black\" fill=\"black\"/>\n",
       "<text dominant-baseline=\"central\" text-anchor=\"middle\" font-family=\"monospace\" font-size=\"24\" x=\"2272\" y=\"2560\" fill=\"white\">MR</text>\n",
       "<text text-anchor=\"middle\" font-family=\"monospace\" font-size=\"8\" x=\"2272\" y=\"2540\">rec[5]</text>\n",
       "<rect x=\"2256\" y=\"2992\" width=\"32\" height=\"32\" stroke=\"black\" fill=\"black\"/>\n",
       "<text dominant-baseline=\"central\" text-anchor=\"middle\" font-family=\"monospace\" font-size=\"24\" x=\"2272\" y=\"3008\" fill=\"white\">MR</text>\n",
       "<text text-anchor=\"middle\" font-family=\"monospace\" font-size=\"8\" x=\"2272\" y=\"2988\">rec[6]</text>\n",
       "<rect x=\"2256\" y=\"1520\" width=\"32\" height=\"32\" stroke=\"black\" fill=\"black\"/>\n",
       "<text dominant-baseline=\"central\" text-anchor=\"middle\" font-family=\"monospace\" font-size=\"24\" x=\"2272\" y=\"1536\" fill=\"white\">MR</text>\n",
       "<text text-anchor=\"middle\" font-family=\"monospace\" font-size=\"8\" x=\"2272\" y=\"1516\">rec[7]</text>\n",
       "<rect x=\"2320\" y=\"2288\" width=\"32\" height=\"32\" stroke=\"black\" fill=\"white\"/>\n",
       "<text dominant-baseline=\"central\" text-anchor=\"middle\" font-family=\"monospace\" font-size=\"30\" x=\"2336\" y=\"2304\">H</text>\n",
       "<rect x=\"2320\" y=\"2736\" width=\"32\" height=\"32\" stroke=\"black\" fill=\"white\"/>\n",
       "<text dominant-baseline=\"central\" text-anchor=\"middle\" font-family=\"monospace\" font-size=\"30\" x=\"2336\" y=\"2752\">H</text>\n",
       "<rect x=\"2320\" y=\"2160\" width=\"32\" height=\"32\" stroke=\"black\" fill=\"white\"/>\n",
       "<text dominant-baseline=\"central\" text-anchor=\"middle\" font-family=\"monospace\" font-size=\"30\" x=\"2336\" y=\"2176\">H</text>\n",
       "<rect x=\"2320\" y=\"2864\" width=\"32\" height=\"32\" stroke=\"black\" fill=\"white\"/>\n",
       "<text dominant-baseline=\"central\" text-anchor=\"middle\" font-family=\"monospace\" font-size=\"30\" x=\"2336\" y=\"2880\">H</text>\n",
       "<rect x=\"2320\" y=\"2224\" width=\"32\" height=\"32\" stroke=\"black\" fill=\"white\"/>\n",
       "<text dominant-baseline=\"central\" text-anchor=\"middle\" font-family=\"monospace\" font-size=\"30\" x=\"2336\" y=\"2240\">H</text>\n",
       "<rect x=\"2320\" y=\"2800\" width=\"32\" height=\"32\" stroke=\"black\" fill=\"white\"/>\n",
       "<text dominant-baseline=\"central\" text-anchor=\"middle\" font-family=\"monospace\" font-size=\"30\" x=\"2336\" y=\"2816\">H</text>\n",
       "<rect x=\"2320\" y=\"3248\" width=\"32\" height=\"32\" stroke=\"black\" fill=\"white\"/>\n",
       "<text dominant-baseline=\"central\" text-anchor=\"middle\" font-family=\"monospace\" font-size=\"30\" x=\"2336\" y=\"3264\">H</text>\n",
       "<rect x=\"2320\" y=\"1776\" width=\"32\" height=\"32\" stroke=\"black\" fill=\"white\"/>\n",
       "<text dominant-baseline=\"central\" text-anchor=\"middle\" font-family=\"monospace\" font-size=\"30\" x=\"2336\" y=\"1792\">H</text>\n",
       "<path d=\"M2400,384 L2400,2304 \" stroke=\"black\"/>\n",
       "<circle cx=\"2400\" cy=\"2304\" r=\"12\" stroke=\"none\" fill=\"black\"/>\n",
       "<circle cx=\"2400\" cy=\"384\" r=\"12\" stroke=\"black\" fill=\"white\"/>\n",
       "<path d=\"M2388,384 L2412,384 M2400,372 L2400,396 \" stroke=\"black\"/>\n",
       "<path d=\"M2464,768 L2464,2752 \" stroke=\"black\"/>\n",
       "<circle cx=\"2464\" cy=\"2752\" r=\"12\" stroke=\"none\" fill=\"black\"/>\n",
       "<circle cx=\"2464\" cy=\"768\" r=\"12\" stroke=\"black\" fill=\"white\"/>\n",
       "<path d=\"M2452,768 L2476,768 M2464,756 L2464,780 \" stroke=\"black\"/>\n",
       "<path d=\"M2528,320 L2528,2176 \" stroke=\"black\"/>\n",
       "<circle cx=\"2528\" cy=\"2176\" r=\"12\" stroke=\"none\" fill=\"black\"/>\n",
       "<circle cx=\"2528\" cy=\"320\" r=\"12\" stroke=\"black\" fill=\"white\"/>\n",
       "<path d=\"M2516,320 L2540,320 M2528,308 L2528,332 \" stroke=\"black\"/>\n",
       "<path d=\"M2592,896 L2592,2880 \" stroke=\"black\"/>\n",
       "<circle cx=\"2592\" cy=\"2880\" r=\"12\" stroke=\"none\" fill=\"black\"/>\n",
       "<circle cx=\"2592\" cy=\"896\" r=\"12\" stroke=\"black\" fill=\"white\"/>\n",
       "<path d=\"M2580,896 L2604,896 M2592,884 L2592,908 \" stroke=\"black\"/>\n",
       "<path d=\"M2656,320 L2656,2240 \" stroke=\"black\"/>\n",
       "<circle cx=\"2656\" cy=\"2240\" r=\"12\" stroke=\"none\" fill=\"black\"/>\n",
       "<circle cx=\"2656\" cy=\"320\" r=\"12\" stroke=\"none\" fill=\"black\"/>\n",
       "<path d=\"M2720,832 L2720,2816 \" stroke=\"black\"/>\n",
       "<circle cx=\"2720\" cy=\"2816\" r=\"12\" stroke=\"none\" fill=\"black\"/>\n",
       "<circle cx=\"2720\" cy=\"832\" r=\"12\" stroke=\"none\" fill=\"black\"/>\n",
       "<path d=\"M2784,1216 L2784,3264 \" stroke=\"black\"/>\n",
       "<circle cx=\"2784\" cy=\"3264\" r=\"12\" stroke=\"none\" fill=\"black\"/>\n",
       "<circle cx=\"2784\" cy=\"1216\" r=\"12\" stroke=\"none\" fill=\"black\"/>\n",
       "<path d=\"M2848,384 L2848,1792 \" stroke=\"black\"/>\n",
       "<circle cx=\"2848\" cy=\"1792\" r=\"12\" stroke=\"none\" fill=\"black\"/>\n",
       "<circle cx=\"2848\" cy=\"384\" r=\"12\" stroke=\"none\" fill=\"black\"/>\n",
       "<path d=\"M2372,40 L2372,32 L2876,32 L2876,40 \" stroke=\"black\" fill=\"none\"/>\n",
       "<path d=\"M2372,3448 L2372,3456 L2876,3456 L2876,3448 \" stroke=\"black\" fill=\"none\"/>\n",
       "<path d=\"M2912,448 L2912,2304 \" stroke=\"black\"/>\n",
       "<circle cx=\"2912\" cy=\"2304\" r=\"12\" stroke=\"none\" fill=\"black\"/>\n",
       "<circle cx=\"2912\" cy=\"448\" r=\"12\" stroke=\"black\" fill=\"white\"/>\n",
       "<path d=\"M2900,448 L2924,448 M2912,436 L2912,460 \" stroke=\"black\"/>\n",
       "<path d=\"M2976,832 L2976,2752 \" stroke=\"black\"/>\n",
       "<circle cx=\"2976\" cy=\"2752\" r=\"12\" stroke=\"none\" fill=\"black\"/>\n",
       "<circle cx=\"2976\" cy=\"832\" r=\"12\" stroke=\"black\" fill=\"white\"/>\n",
       "<path d=\"M2964,832 L2988,832 M2976,820 L2976,844 \" stroke=\"black\"/>\n",
       "<path d=\"M3040,768 L3040,2176 \" stroke=\"black\"/>\n",
       "<circle cx=\"3040\" cy=\"2176\" r=\"12\" stroke=\"none\" fill=\"black\"/>\n",
       "<circle cx=\"3040\" cy=\"768\" r=\"12\" stroke=\"black\" fill=\"white\"/>\n",
       "<path d=\"M3028,768 L3052,768 M3040,756 L3040,780 \" stroke=\"black\"/>\n",
       "<path d=\"M3104,1344 L3104,2880 \" stroke=\"black\"/>\n",
       "<circle cx=\"3104\" cy=\"2880\" r=\"12\" stroke=\"none\" fill=\"black\"/>\n",
       "<circle cx=\"3104\" cy=\"1344\" r=\"12\" stroke=\"black\" fill=\"white\"/>\n",
       "<path d=\"M3092,1344 L3116,1344 M3104,1332 L3104,1356 \" stroke=\"black\"/>\n",
       "<path d=\"M3168,384 L3168,2240 \" stroke=\"black\"/>\n",
       "<circle cx=\"3168\" cy=\"2240\" r=\"12\" stroke=\"none\" fill=\"black\"/>\n",
       "<circle cx=\"3168\" cy=\"384\" r=\"12\" stroke=\"none\" fill=\"black\"/>\n",
       "<path d=\"M3232,896 L3232,2816 \" stroke=\"black\"/>\n",
       "<circle cx=\"3232\" cy=\"2816\" r=\"12\" stroke=\"none\" fill=\"black\"/>\n",
       "<circle cx=\"3232\" cy=\"896\" r=\"12\" stroke=\"none\" fill=\"black\"/>\n",
       "<path d=\"M3296,1280 L3296,3264 \" stroke=\"black\"/>\n",
       "<circle cx=\"3296\" cy=\"3264\" r=\"12\" stroke=\"none\" fill=\"black\"/>\n",
       "<circle cx=\"3296\" cy=\"1280\" r=\"12\" stroke=\"none\" fill=\"black\"/>\n",
       "<path d=\"M3360,448 L3360,1792 \" stroke=\"black\"/>\n",
       "<circle cx=\"3360\" cy=\"1792\" r=\"12\" stroke=\"none\" fill=\"black\"/>\n",
       "<circle cx=\"3360\" cy=\"448\" r=\"12\" stroke=\"none\" fill=\"black\"/>\n",
       "<path d=\"M2884,40 L2884,32 L3388,32 L3388,40 \" stroke=\"black\" fill=\"none\"/>\n",
       "<path d=\"M2884,3448 L2884,3456 L3388,3456 L3388,3448 \" stroke=\"black\" fill=\"none\"/>\n",
       "<path d=\"M3424,832 L3424,2304 \" stroke=\"black\"/>\n",
       "<circle cx=\"3424\" cy=\"2304\" r=\"12\" stroke=\"none\" fill=\"black\"/>\n",
       "<circle cx=\"3424\" cy=\"832\" r=\"12\" stroke=\"black\" fill=\"white\"/>\n",
       "<path d=\"M3412,832 L3436,832 M3424,820 L3424,844 \" stroke=\"black\"/>\n",
       "<path d=\"M3488,1216 L3488,2752 \" stroke=\"black\"/>\n",
       "<circle cx=\"3488\" cy=\"2752\" r=\"12\" stroke=\"none\" fill=\"black\"/>\n",
       "<circle cx=\"3488\" cy=\"1216\" r=\"12\" stroke=\"black\" fill=\"white\"/>\n",
       "<path d=\"M3476,1216 L3500,1216 M3488,1204 L3488,1228 \" stroke=\"black\"/>\n",
       "<path d=\"M3552,768 L3552,2240 \" stroke=\"black\"/>\n",
       "<circle cx=\"3552\" cy=\"2240\" r=\"12\" stroke=\"none\" fill=\"black\"/>\n",
       "<circle cx=\"3552\" cy=\"768\" r=\"12\" stroke=\"none\" fill=\"black\"/>\n",
       "<path d=\"M3616,1280 L3616,2816 \" stroke=\"black\"/>\n",
       "<circle cx=\"3616\" cy=\"2816\" r=\"12\" stroke=\"none\" fill=\"black\"/>\n",
       "<circle cx=\"3616\" cy=\"1280\" r=\"12\" stroke=\"none\" fill=\"black\"/>\n",
       "<path d=\"M3396,40 L3396,32 L3644,32 L3644,40 \" stroke=\"black\" fill=\"none\"/>\n",
       "<path d=\"M3396,3448 L3396,3456 L3644,3456 L3644,3448 \" stroke=\"black\" fill=\"none\"/>\n",
       "<path d=\"M3680,896 L3680,2304 \" stroke=\"black\"/>\n",
       "<circle cx=\"3680\" cy=\"2304\" r=\"12\" stroke=\"none\" fill=\"black\"/>\n",
       "<circle cx=\"3680\" cy=\"896\" r=\"12\" stroke=\"black\" fill=\"white\"/>\n",
       "<path d=\"M3668,896 L3692,896 M3680,884 L3680,908 \" stroke=\"black\"/>\n",
       "<path d=\"M3744,1280 L3744,2752 \" stroke=\"black\"/>\n",
       "<circle cx=\"3744\" cy=\"2752\" r=\"12\" stroke=\"none\" fill=\"black\"/>\n",
       "<circle cx=\"3744\" cy=\"1280\" r=\"12\" stroke=\"black\" fill=\"white\"/>\n",
       "<path d=\"M3732,1280 L3756,1280 M3744,1268 L3744,1292 \" stroke=\"black\"/>\n",
       "<path d=\"M3808,832 L3808,2240 \" stroke=\"black\"/>\n",
       "<circle cx=\"3808\" cy=\"2240\" r=\"12\" stroke=\"none\" fill=\"black\"/>\n",
       "<circle cx=\"3808\" cy=\"832\" r=\"12\" stroke=\"none\" fill=\"black\"/>\n",
       "<path d=\"M3872,1344 L3872,2816 \" stroke=\"black\"/>\n",
       "<circle cx=\"3872\" cy=\"2816\" r=\"12\" stroke=\"none\" fill=\"black\"/>\n",
       "<circle cx=\"3872\" cy=\"1344\" r=\"12\" stroke=\"none\" fill=\"black\"/>\n",
       "<path d=\"M3652,40 L3652,32 L3900,32 L3900,40 \" stroke=\"black\" fill=\"none\"/>\n",
       "<path d=\"M3652,3448 L3652,3456 L3900,3456 L3900,3448 \" stroke=\"black\" fill=\"none\"/>\n",
       "<rect x=\"3920\" y=\"2288\" width=\"32\" height=\"32\" stroke=\"black\" fill=\"white\"/>\n",
       "<text dominant-baseline=\"central\" text-anchor=\"middle\" font-family=\"monospace\" font-size=\"30\" x=\"3936\" y=\"2304\">H</text>\n",
       "<rect x=\"3920\" y=\"2736\" width=\"32\" height=\"32\" stroke=\"black\" fill=\"white\"/>\n",
       "<text dominant-baseline=\"central\" text-anchor=\"middle\" font-family=\"monospace\" font-size=\"30\" x=\"3936\" y=\"2752\">H</text>\n",
       "<rect x=\"3920\" y=\"2160\" width=\"32\" height=\"32\" stroke=\"black\" fill=\"white\"/>\n",
       "<text dominant-baseline=\"central\" text-anchor=\"middle\" font-family=\"monospace\" font-size=\"30\" x=\"3936\" y=\"2176\">H</text>\n",
       "<rect x=\"3920\" y=\"2864\" width=\"32\" height=\"32\" stroke=\"black\" fill=\"white\"/>\n",
       "<text dominant-baseline=\"central\" text-anchor=\"middle\" font-family=\"monospace\" font-size=\"30\" x=\"3936\" y=\"2880\">H</text>\n",
       "<rect x=\"3920\" y=\"2224\" width=\"32\" height=\"32\" stroke=\"black\" fill=\"white\"/>\n",
       "<text dominant-baseline=\"central\" text-anchor=\"middle\" font-family=\"monospace\" font-size=\"30\" x=\"3936\" y=\"2240\">H</text>\n",
       "<rect x=\"3920\" y=\"2800\" width=\"32\" height=\"32\" stroke=\"black\" fill=\"white\"/>\n",
       "<text dominant-baseline=\"central\" text-anchor=\"middle\" font-family=\"monospace\" font-size=\"30\" x=\"3936\" y=\"2816\">H</text>\n",
       "<rect x=\"3920\" y=\"3248\" width=\"32\" height=\"32\" stroke=\"black\" fill=\"white\"/>\n",
       "<text dominant-baseline=\"central\" text-anchor=\"middle\" font-family=\"monospace\" font-size=\"30\" x=\"3936\" y=\"3264\">H</text>\n",
       "<rect x=\"3920\" y=\"1776\" width=\"32\" height=\"32\" stroke=\"black\" fill=\"white\"/>\n",
       "<text dominant-baseline=\"central\" text-anchor=\"middle\" font-family=\"monospace\" font-size=\"30\" x=\"3936\" y=\"1792\">H</text>\n",
       "<rect x=\"3984\" y=\"2288\" width=\"32\" height=\"32\" stroke=\"black\" fill=\"black\"/>\n",
       "<text dominant-baseline=\"central\" text-anchor=\"middle\" font-family=\"monospace\" font-size=\"24\" x=\"4000\" y=\"2304\" fill=\"white\">MR</text>\n",
       "<text text-anchor=\"middle\" font-family=\"monospace\" font-size=\"8\" x=\"4000\" y=\"2284\">rec[8]</text>\n",
       "<rect x=\"3984\" y=\"2736\" width=\"32\" height=\"32\" stroke=\"black\" fill=\"black\"/>\n",
       "<text dominant-baseline=\"central\" text-anchor=\"middle\" font-family=\"monospace\" font-size=\"24\" x=\"4000\" y=\"2752\" fill=\"white\">MR</text>\n",
       "<text text-anchor=\"middle\" font-family=\"monospace\" font-size=\"8\" x=\"4000\" y=\"2732\">rec[9]</text>\n",
       "<rect x=\"3984\" y=\"2160\" width=\"32\" height=\"32\" stroke=\"black\" fill=\"black\"/>\n",
       "<text dominant-baseline=\"central\" text-anchor=\"middle\" font-family=\"monospace\" font-size=\"24\" x=\"4000\" y=\"2176\" fill=\"white\">MR</text>\n",
       "<text text-anchor=\"middle\" font-family=\"monospace\" font-size=\"8\" x=\"4000\" y=\"2156\">rec[10]</text>\n",
       "<rect x=\"3984\" y=\"2864\" width=\"32\" height=\"32\" stroke=\"black\" fill=\"black\"/>\n",
       "<text dominant-baseline=\"central\" text-anchor=\"middle\" font-family=\"monospace\" font-size=\"24\" x=\"4000\" y=\"2880\" fill=\"white\">MR</text>\n",
       "<text text-anchor=\"middle\" font-family=\"monospace\" font-size=\"8\" x=\"4000\" y=\"2860\">rec[11]</text>\n",
       "<rect x=\"3984\" y=\"2224\" width=\"32\" height=\"32\" stroke=\"black\" fill=\"black\"/>\n",
       "<text dominant-baseline=\"central\" text-anchor=\"middle\" font-family=\"monospace\" font-size=\"24\" x=\"4000\" y=\"2240\" fill=\"white\">MR</text>\n",
       "<text text-anchor=\"middle\" font-family=\"monospace\" font-size=\"8\" x=\"4000\" y=\"2220\">rec[12]</text>\n",
       "<rect x=\"3984\" y=\"2800\" width=\"32\" height=\"32\" stroke=\"black\" fill=\"black\"/>\n",
       "<text dominant-baseline=\"central\" text-anchor=\"middle\" font-family=\"monospace\" font-size=\"24\" x=\"4000\" y=\"2816\" fill=\"white\">MR</text>\n",
       "<text text-anchor=\"middle\" font-family=\"monospace\" font-size=\"8\" x=\"4000\" y=\"2796\">rec[13]</text>\n",
       "<rect x=\"3984\" y=\"3248\" width=\"32\" height=\"32\" stroke=\"black\" fill=\"black\"/>\n",
       "<text dominant-baseline=\"central\" text-anchor=\"middle\" font-family=\"monospace\" font-size=\"24\" x=\"4000\" y=\"3264\" fill=\"white\">MR</text>\n",
       "<text text-anchor=\"middle\" font-family=\"monospace\" font-size=\"8\" x=\"4000\" y=\"3244\">rec[14]</text>\n",
       "<rect x=\"3984\" y=\"1776\" width=\"32\" height=\"32\" stroke=\"black\" fill=\"black\"/>\n",
       "<text dominant-baseline=\"central\" text-anchor=\"middle\" font-family=\"monospace\" font-size=\"24\" x=\"4000\" y=\"1792\" fill=\"white\">MR</text>\n",
       "<text text-anchor=\"middle\" font-family=\"monospace\" font-size=\"8\" x=\"4000\" y=\"1772\">rec[15]</text>\n",
       "</svg>"
      ]
     },
     "execution_count": 5,
     "metadata": {},
     "output_type": "execute_result"
    }
   ],
   "source": [
    "stim.Circuit(circ.convert_to_stim()).diagram(type=\"timeline-svg\")"
   ]
  },
  {
   "cell_type": "markdown",
   "metadata": {},
   "source": [
    "# Perform the logical quantum state tomography\n",
    "For performing logical quantum state tomography, we use the `circ_log_QST_results` utility function. This function creates multiple copies of our circuit and to every copy, it adds measurements of the two logical qubits in different bases. These circuits are then simulated with stim and the results are averaged over the specified number of shots to obtain expectation values. \n",
    "\n",
    "One can specify the bases in which the qubits should be measured by the `bases` parameter. In this example we don't measure in the Y basis since the value can be obtained from the X and Z measurements. `I` denotes that a qubit is not measured. E.g. the two-qubit expectation value `<XI>` means that the first qubit is measured in the X basis and the second qubit is not measured."
   ]
  },
  {
   "cell_type": "code",
   "execution_count": 6,
   "metadata": {},
   "outputs": [
    {
     "name": "stdout",
     "output_type": "stream",
     "text": [
      "<II> = 0.0\n",
      "<IX> = 0.4982\n",
      "<IZ> = 0.0\n",
      "<XI> = 0.4828\n",
      "<XX> = 0.5032\n",
      "<XZ> = 0.4864\n",
      "<ZI> = 1.0\n",
      "<ZX> = 0.503\n",
      "<ZZ> = 1.0\n"
     ]
    }
   ],
   "source": [
    "bases = [\"I\", \"X\", \"Z\"]\n",
    "res_dict = circ_log_QST_results(circ, num_shots=5000, bases=bases)\n",
    "for basis, exp_val in res_dict.items():\n",
    "    print(f\"<{basis}> = {exp_val}\")"
   ]
  },
  {
   "cell_type": "markdown",
   "metadata": {},
   "source": [
    "# Plot the results\n",
    "There is also a convenience function to plot the obtained expectation values in a 3D bar chart:"
   ]
  },
  {
   "cell_type": "code",
   "execution_count": 7,
   "metadata": {},
   "outputs": [
    {
     "name": "stderr",
     "output_type": "stream",
     "text": [
      "C:\\Users\\jonat\\AppData\\Local\\Temp\\ipykernel_39796\\366770762.py:2: UserWarning:\n",
      "\n",
      "FigureCanvasAgg is non-interactive, and thus cannot be shown\n",
      "\n"
     ]
    },
    {
     "data": {
      "image/png": "[encoded data removed]",
      "text/plain": [
       "<Figure size 1000x600 with 1 Axes>"
      ]
     },
     "metadata": {},
     "output_type": "display_data"
    }
   ],
   "source": [
    "fig = plot_log_QST_results(res_dict)\n",
    "fig.show()"
   ]
  }
 ],
 "metadata": {
  "kernelspec": {
   "display_name": "stim",
   "language": "python",
   "name": "python3"
  },
  "language_info": {
   "codemirror_mode": {
    "name": "ipython",
    "version": 3
   },
   "file_extension": ".py",
   "mimetype": "text/x-python",
   "name": "python",
   "nbconvert_exporter": "python",
   "pygments_lexer": "ipython3",
   "version": "3.10.14"
  },
  "orig_nbformat": 4
 },
 "nbformat": 4,
 "nbformat_minor": 2
}
